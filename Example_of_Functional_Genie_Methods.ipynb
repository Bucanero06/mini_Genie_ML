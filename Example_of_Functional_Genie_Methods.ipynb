{
 "cells": [
  {
   "cell_type": "markdown",
   "source": [
    "### NOTE:\n",
    "*In order to ease your transition to python and can use all the goodies out of the box, you will find every library you may need right from one import. You can access vectorbt's and mlfinlab's packages through the genie package or by importing them directly.*\n",
    "  >e.g.:\n",
    "  > from genie import vbt, mlf\n",
    "  >e.g.:\n",
    "  > from genie import *\n",
    "  >e.g.:\n",
    "  > import genie\n",
    "  > genie.vbt.<obj>(...)\n",
    "  >e.g.:\n",
    "  > import genie\n",
    "  > genie.<obj>(...)\n",
    "\n",
    "  *When it comes to mlfinlab is preferably that you use it through the genie package. Overtime the benefits will pile up\n",
    "  for debugging.*\n",
    "  >e.g.:\n",
    "  > import genie\n",
    "  > genie.<obj>(...)\n",
    "  *otherwise*\n",
    "  >e.g.:\n",
    "  > import genie\n",
    "  > genie.mlf(...)\n",
    "\n",
    " *The same applies to many of the other packages that are imported in this file*\n",
    "  >e.g.:\n",
    "  > from genie import np # numpy\n",
    "  > however you have to call them directly not through the genie package\n",
    "  >e.g.:\n",
    "  > * Not this\n",
    "  > import genie\n",
    "  > genie.array(...)\n",
    "\n",
    "  > * Do this instead\n",
    "  > import genie\n",
    "  > genie.np.array(...)\n",
    "\n",
    "  > or\n",
    "\n",
    "  > * import numpy as np\n",
    "  > np.array(...)\n",
    "\n",
    "*This was done to avoid confusion between libraries*\n",
    "*I will use all these import methods interchangably but just for demostration purposes lol, *\n",
    "\n"
   ],
   "metadata": {
    "collapsed": false,
    "pycharm": {
     "name": "#%% md\n"
    }
   }
  },
  {
   "cell_type": "code",
   "execution_count": null,
   "outputs": [],
   "source": [
    "import genie  # noqa: F401"
   ],
   "metadata": {
    "collapsed": false,
    "pycharm": {
     "name": "#%%\n"
    }
   }
  },
  {
   "cell_type": "markdown",
   "source": [
    "# Introduction to VBT\n",
    "\n",
    "\n",
    "Prior to doing any complex example or start to bring in custom functions or mlfinlab's goodies, lets use the classic moving average cross strategy to demostrate how easily it is to work with vbt. For most use cases vbt has all the tools you may need out of the box. For customers if we want to build them exactly what they desire we typically do need custom solutions, however that's because they don't make use of all the right tools at their disposal, like we can; lets make it work for us. Along the way we'll emphasize vbt's strengths and weaknesses, and you will notice me introducing custom functions that were built upon vbt in the next section.\n",
    "\n",
    "Lets begin!"
   ],
   "metadata": {
    "collapsed": false,
    "pycharm": {
     "name": "#%% md\n"
    }
   }
  },
  {
   "cell_type": "markdown",
   "source": [
    "\"\"\"Example 1: Quick VBT Overview\"\"\"\n"
   ],
   "metadata": {
    "collapsed": false,
    "pycharm": {
     "name": "#%% md\n"
    }
   }
  },
  {
   "cell_type": "code",
   "execution_count": null,
   "outputs": [],
   "source": [
    "from genie import vbt\n",
    "\n",
    "data = vbt.CSVData.fetch('Datas/tick_data.csv', index_col=0, parse_dates=True, infer_datetime_format=True)\n",
    "\n",
    "print(data.wrapper.columns)  # Index(['Price', 'Volume'], dtype='object')\n",
    "print(data.wrapper.prettify())  # Index(['Price', 'Volume'], dtype='object')\n",
    "print(data)"
   ],
   "metadata": {
    "collapsed": false,
    "pycharm": {
     "name": "#%%\n"
    }
   }
  },
  {
   "cell_type": "code",
   "execution_count": null,
   "outputs": [],
   "source": [
    "price = data.get('Price')\n",
    "volume = data.get('Volume')\n",
    "print(price.head())\n",
    "print(f\"Im Pretty: {vbt.prettify(price)}\")"
   ],
   "metadata": {
    "collapsed": false,
    "pycharm": {
     "name": "#%%\n"
    }
   }
  },
  {
   "cell_type": "markdown",
   "source": [
    "The vbt's prettify allows you to see the most useful components of the data type you are working with, of course making it look pretty ;) Perfect for adding vbt as needed throughout the pipeline and for use in notebooks like this one (brilliant idea alert!)\n",
    "\n",
    "You can also access the wrapper's contents\n"
   ],
   "metadata": {
    "collapsed": false,
    "pycharm": {
     "name": "#%% md\n"
    }
   }
  },
  {
   "cell_type": "code",
   "execution_count": null,
   "outputs": [],
   "source": [
    "print(data.wrapper.index)\n",
    "print(f\"You're Pretty: {vbt.prettify(data.wrapper.index)}\")"
   ],
   "metadata": {
    "collapsed": false,
    "pycharm": {
     "name": "#%%\n"
    }
   }
  },
  {
   "cell_type": "markdown",
   "source": [
    "You get the point for this first example. Let's now go crazy and split the price series data into n_windows = 10 windows, each with n_bars = 10 using vbt's range splitter *(in most cases the processing of the data should occur before this step)*"
   ],
   "metadata": {
    "collapsed": false,
    "pycharm": {
     "name": "#%% md\n"
    }
   }
  },
  {
   "cell_type": "code",
   "execution_count": null,
   "outputs": [],
   "source": [
    "n_windows = 10\n",
    "n_bars = 20\n",
    "\n",
    "price_split, range_index = price.vbt.range_split(n=n_windows, range_len=n_bars)\n",
    "print(vbt.prettify(price_split))\n",
    "print(vbt.prettify(range_index))"
   ],
   "metadata": {
    "collapsed": false,
    "pycharm": {
     "name": "#%%\n"
    }
   }
  },
  {
   "cell_type": "markdown",
   "source": [
    "We can see that the tick data was split into a pandas dataframe of length 20 and 10 columns, each representing a split in the data. However, do notice that the index now is not a datetime, rather, to save memory since our strategy will not deal with timeframe resampling it uses a type ```<class 'pandas.core.indexes.range.RangeIndex'>``` defined through ```RangeIndex(start=0, stop=20, step=1)```"
   ],
   "metadata": {
    "collapsed": false,
    "pycharm": {
     "name": "#%% md\n"
    }
   }
  },
  {
   "cell_type": "code",
   "execution_count": null,
   "outputs": [],
   "source": [
    "print(price_split.head())"
   ],
   "metadata": {
    "collapsed": false,
    "pycharm": {
     "name": "#%%\n"
    }
   }
  },
  {
   "cell_type": "markdown",
   "source": [
    "It might feel like the data might get hard to work with from now on, however vbt has already made numba compiled function that can help in most cases, on top of that indicators can adjust their functionality according to the dimensions of the array, knowing in which axis you are working on is key, luckily we can take care of that prior to splitting the price into windows if need be.\n",
    "\n",
    "To get the moving averages working we can make use of vbt's already available numba compiled indicator choices, as well as the out-of-the-box support for ```@talib``` and ```ta``` extensive, hyper-fast technical analysis functions (*C) along with access to WorldQuant's 101 Formulaic Alphas through the expression parser IndicatorFactory.from_wqa101. **more on these later**"
   ],
   "metadata": {
    "collapsed": false,
    "pycharm": {
     "name": "#%% md\n"
    }
   }
  },
  {
   "cell_type": "code",
   "execution_count": null,
   "outputs": [],
   "source": [
    "fast_ma = vbt.MA.run(close=price, window=20).ma # Notice we are using the price dataframe prior to split\n",
    "slow_ma = vbt.MA.run(close=price, window=50).ma\n",
    "\n",
    "print(fast_ma.head()) # the head will have nan's since we have no indicator warm up period\n",
    "print(slow_ma.tail())"
   ],
   "metadata": {
    "collapsed": false,
    "pycharm": {
     "name": "#%%\n"
    }
   }
  },
  {
   "cell_type": "code",
   "execution_count": null,
   "outputs": [],
   "source": [
    "#   The same can and is done when working with split windows\n",
    "fast_ma = vbt.MA.run(close=price_split, window=20).ma # Using price_split instead of price dataframe (df)\n",
    "slow_ma = vbt.MA.run(close=price_split, window=50).ma\n",
    "\n",
    "print(fast_ma.head())\n",
    "print(slow_ma.tail())"
   ],
   "metadata": {
    "collapsed": false,
    "pycharm": {
     "name": "#%%\n"
    }
   }
  },
  {
   "cell_type": "code",
   "execution_count": null,
   "outputs": [],
   "source": [
    "#   and when using more than one window per indicator\n",
    "\n",
    "# Arrays of moving average windows e.g. [10, 30, 50, ... ]\n",
    "fast_ma_windows=genie.np.linspace(start=5, stop=45, num=5, dtype=int) # define how many elements\n",
    "slow_ma_windows=genie.np.arange(50, 100, step=10, dtype=int) # or define the step between them\n",
    "\n",
    "fast_ma = vbt.MA.run(close=price_split, window=fast_ma_windows).ma # Using price_split instead of price\n",
    "slow_ma = vbt.MA.run(close=price_split, window=slow_ma_windows).ma\n",
    "\n",
    "print(fast_ma.tail())\n",
    "print(vbt.prettify(fast_ma))\n",
    "print(vbt.prettify(fast_ma_windows))"
   ],
   "metadata": {
    "collapsed": false,
    "pycharm": {
     "name": "#%%\n"
    }
   }
  },
  {
   "cell_type": "markdown",
   "source": [
    "Recall we had 10 splits each with 20 bars, if now for example the fast_ma has 5 windows now the indicator is still of length 20, and using multiple levels to define each column's key of the dataframe we have 50 columns, 5 moving average windows per every split"
   ],
   "metadata": {
    "collapsed": false,
    "pycharm": {
     "name": "#%% md\n"
    }
   }
  },
  {
   "cell_type": "code",
   "execution_count": null,
   "outputs": [],
   "source": [
    "entries = fast_ma.vbt.crossed_above(slow_ma) # all elements being compared with the nan's will result in False\n",
    "exits = fast_ma.vbt.crossed_below(slow_ma)\n",
    "\n",
    "print(entries.head())\n",
    "print(entries.tail())"
   ],
   "metadata": {
    "collapsed": false,
    "pycharm": {
     "name": "#%%\n"
    }
   }
  },
  {
   "cell_type": "markdown",
   "source": [
    "Because you are used to programing already, handling the multi-dimentional array I expect to be relatively easy once you get to practice hands on, yet is really the main source of error I've found in the vbt's community among newcomers, however this is where a flexible backend shines and where genie takes most of its inspiration.\n",
    "\n",
    "For this simple case we can use the powerful vbt.Portfolio, which is a regular Python class subclassing Analyzable and having a range of Numba-compiled functions at its disposal. It's built similarly to other analyzable classes in the way that it has diverse class methods for instantiation from a range of inputs (such as Portfolio.from_signals taking signals), it's a state-full class capable of wrapping and indexing any Pandas-like objects contained inside it, and it can compute metrics and display (sub-)plots for quick introspection of the stored data.\n",
    "\n",
    "Let's see it!"
   ],
   "metadata": {
    "collapsed": false,
    "pycharm": {
     "name": "#%% md\n"
    }
   }
  },
  {
   "cell_type": "code",
   "execution_count": null,
   "outputs": [],
   "source": [
    "# Runs entries/exit signals, allowing both long and short positions and reversing the position when appropriate\n",
    "#   We'll cover how to customize this sophisticated method down this tutorial\n",
    "pf = vbt.Portfolio.from_signals(close=price_split,\n",
    "                                entries=entries, exits=exits,\n",
    "                                direction=vbt.pf_enums.Direction.Both)\n",
    "print(pf.prettify())"
   ],
   "metadata": {
    "collapsed": false,
    "pycharm": {
     "name": "#%%\n"
    }
   }
  },
  {
   "cell_type": "markdown",
   "source": [
    "This portfolio obj *(pf)* contains all the information you need to reconstruct every strategy, parameter, window, signal without reconstructing all of it thus conserving memory and allows transitions down the genie pipeline. There are performance optimization steps to keep in mind but no need to worry about those for now.\n",
    "\n",
    "Let's plot the default graphics at pf's disposal *(can only plot a single column if used like this, but it's not a problem since we definitely don't want to plot 1 million columns, and we have some workaround)*"
   ],
   "metadata": {
    "collapsed": false,
    "pycharm": {
     "name": "#%% md\n"
    }
   }
  },
  {
   "cell_type": "code",
   "execution_count": null,
   "outputs": [],
   "source": [
    "# first split and first moving average combination (column = 0)\n",
    "pf.plot(column=0).show()"
   ],
   "metadata": {
    "collapsed": false,
    "pycharm": {
     "name": "#%%\n"
    }
   }
  },
  {
   "cell_type": "code",
   "execution_count": null,
   "outputs": [],
   "source": [
    "pf.returns_stats(column=0) # will complain because the frequency that the price (tick data in this case) comes in to calculate some metrics. We could easily resample to lets say to minute bars."
   ],
   "metadata": {
    "collapsed": false,
    "pycharm": {
     "name": "#%%\n"
    }
   }
  },
  {
   "cell_type": "code",
   "execution_count": null,
   "outputs": [],
   "source": [
    "pf.returns_stats(agg_func=None  )"
   ],
   "metadata": {
    "collapsed": false,
    "pycharm": {
     "name": "#%%\n"
    }
   }
  },
  {
   "cell_type": "code",
   "execution_count": null,
   "outputs": [],
   "source": [
    "from genie import np\n",
    "pf.stats( agg_func=None).replace([np.inf, -np.inf], np.nan, inplace=False)"
   ],
   "metadata": {
    "collapsed": false,
    "pycharm": {
     "name": "#%%\n"
    }
   }
  },
  {
   "cell_type": "markdown",
   "source": [
    "We can make it easier for ourselves (like genie does) and write a routine to plot our data."
   ],
   "metadata": {
    "collapsed": false,
    "pycharm": {
     "name": "#%% md\n"
    }
   }
  },
  {
   "cell_type": "code",
   "execution_count": null,
   "outputs": [],
   "source": [
    "# Create and add slider\n",
    "steps = []\n",
    "for i in range(len(fig.data)):\n",
    "    step = dict(\n",
    "        method=\"update\",\n",
    "        args=[{\"visible\": [False] * len(fig.data)},\n",
    "              {\"title\": \"Slider switched to step: \" + str(i)}],  # layout attribute\n",
    "    )\n",
    "    step[\"args\"][0][\"visible\"][i] = True  # Toggle i'th trace to \"visible\"\n",
    "    steps.append(step)\n",
    "\n",
    "sliders = [dict(\n",
    "    active=10,\n",
    "    currentvalue={\"prefix\": \"Frequency: \"},\n",
    "    pad={\"t\": 50},\n",
    "    steps=steps\n",
    ")]\n",
    "\n",
    "fig.update_layout(\n",
    "    sliders=sliders\n",
    ")\n",
    "\n",
    "fig.show()"
   ],
   "metadata": {
    "collapsed": false,
    "pycharm": {
     "name": "#%%\n"
    }
   }
  },
  {
   "cell_type": "code",
   "execution_count": null,
   "outputs": [],
   "source": [
    "\n",
    "\n",
    "# Plot Main Graph______________________________________________________________\n",
    "fig = price.plot()\n",
    "fig = fast_ma.vbt.plot(fig=fig, trace_kwargs=dict(name=\"Fast_MA\"))\n",
    "fig = slow_ma.vbt.plot(fig=fig, trace_kwargs=dict(name=\"Slow_MA\"))\n",
    "fig = entries.vbt.signals.plot_as_entries(price, fig=fig)\n",
    "fig = exits.vbt.signals.plot_as_exits(price, fig=fig)\n",
    "fig.show()"
   ],
   "metadata": {
    "collapsed": false,
    "pycharm": {
     "name": "#%%\n"
    }
   }
  },
  {
   "cell_type": "code",
   "execution_count": null,
   "outputs": [],
   "source": [],
   "metadata": {
    "collapsed": false,
    "pycharm": {
     "name": "#%%\n"
    }
   }
  },
  {
   "cell_type": "code",
   "execution_count": null,
   "outputs": [],
   "source": [
    "\n",
    "\n",
    "\n",
    "\n",
    "def example_indicator_function(price, fast_ma, slow_ma):\n",
    "    fast_ma = vbt.MA.run(close=price, window=fast_ma).ma\n",
    "    slow_ma = vbt.MA.run(close=price, window=slow_ma).ma\n",
    "    entries = fast_ma.vbt.crossed_above(slow_ma)\n",
    "    exits = fast_ma.vbt.crossed_below(slow_ma)\n",
    "    return entries, exits\n",
    "\n",
    "\n",
    "example_indicator = vbt.IF(\n",
    "    class_name=\"_example_class_\",\n",
    "    short_name=\"_short_name_\",\n",
    "    input_names=[\"price\"],\n",
    "    param_names=[\"fast_ma_window\", \"slow_ma_window\"],\n",
    "    output_names=[\"entries\", \"exits\"]\n",
    ").with_apply_func(\n",
    "    apply_func=example_indicator_function,\n",
    "    price=price,\n",
    "    fast_ma_window=20,\n",
    "    slow_ma_window=50)\n",
    "\n",
    "print(example_indicator)\n"
   ],
   "metadata": {
    "collapsed": false,
    "pycharm": {
     "name": "#%%\n"
    }
   }
  },
  {
   "cell_type": "code",
   "execution_count": null,
   "outputs": [],
   "source": [
    "ind_results = example_indicator.run(price=price,\n",
    "                                    fast_ma_window=[20, 30, 40],\n",
    "                                    slow_ma_window=[50, 60, 70],\n",
    "                                    )"
   ],
   "metadata": {
    "collapsed": false,
    "pycharm": {
     "name": "#%%\n"
    }
   }
  },
  {
   "cell_type": "markdown",
   "source": [
    "\"\"\"Downloading/Loading Data\"\"\"\n",
    "\n",
    "Downloads the last N bars of timeframe X data from YFData or Binance (CCXTData library)\n",
    "There are multiple methods of aquiring data, it can be downloaded or loaded from a file and the function you use\n",
    "will depend on the data you are using. Let's start by downloading some data from yahoo finance."
   ],
   "metadata": {
    "collapsed": false,
    "pycharm": {
     "name": "#%% md\n"
    }
   }
  },
  {
   "cell_type": "code",
   "execution_count": null,
   "outputs": [],
   "source": [
    "from genie.datetime import datetime, timedelta\n",
    "\n",
    "DAYS_TO_DOWNLOAD = 1000\n",
    "end_time = datetime.now()\n",
    "start_time = end_time - timedelta(days=DAYS_TO_DOWNLOAD)\n",
    "data = vbt.YFData.fetch(\n",
    "    # [\"BTC-USD\", \"ETH-USD\", \"XMR-USD\", \"ADA-USD\"],\n",
    "    # [\"BTC-USD\", \"ETH-USD\"],\n",
    "    # \"BTC-USD\",\n",
    "    \"ETH-USD\",\n",
    "    start=start_time,\n",
    "    end=end_time,\n",
    "    timeframe=\"1d\",\n",
    "    missing_index='drop'  # Creates problems with missing the index\n",
    ")\n",
    "print(f\"YFData: \")\n",
    "print(data)\n",
    "#"
   ],
   "metadata": {
    "collapsed": false,
    "pycharm": {
     "name": "#%%\n"
    }
   }
  },
  {
   "cell_type": "markdown",
   "source": [
    "the same can be achieved by using the ccxt lib which gives you access to a lot more crypto data sources and brokers"
   ],
   "metadata": {
    "collapsed": false,
    "pycharm": {
     "name": "#%% md\n"
    }
   }
  },
  {
   "cell_type": "code",
   "execution_count": null,
   "outputs": [],
   "source": [
    "This\n",
    "returns\n",
    "a\n",
    "vbt\n",
    "data\n",
    "object <class 'vectorbtpro.data.cus"
   ],
   "metadata": {
    "collapsed": false,
    "pycharm": {
     "name": "#%%\n"
    }
   }
  },
  {
   "cell_type": "code",
   "execution_count": null,
   "outputs": [],
   "source": [
    "\n",
    "#\n",
    "data = vbt.CCXTData.fetch(\n",
    "    \"ETHUSDT\",\n",
    "    exchange=\"binance\",\n",
    "    start=start_time,\n",
    "    end=end_time,\n",
    "    timeframe=\"1 day\"\n",
    ")\n",
    "print(f\"CCXTData: \")\n",
    "print(data)\n",
    "print(type(data))"
   ],
   "metadata": {
    "collapsed": false,
    "pycharm": {
     "name": "#%%\n"
    }
   }
  },
  {
   "cell_type": "markdown",
   "source": [
    "You can also load the data"
   ],
   "metadata": {
    "collapsed": false,
    "pycharm": {
     "name": "#%% md\n"
    }
   }
  },
  {
   "cell_type": "code",
   "execution_count": null,
   "outputs": [],
   "source": [
    "data_file_names = [\n",
    "    \"dollar_bars.csv\",\n",
    "]\n",
    "\n",
    "# Searches for the data file names of csv type within the given directories\n",
    "data = Data_Manager.fetch_data(data_file_names=data_file_names,\n",
    "                               data_file_dirs=[\".\", \"Datas\", \"Datas/Sample-Data\"])\n",
    "#\n",
    "# This returns a vbt data object <class 'vectorbtpro.data.custom.<source>'> which essensially wraps the pandas\n",
    "#   dataframe introducing new functionality and all of these can be saved and loaded as followed:\n",
    "data.save(\"example_data\")\n",
    "data = vbt.Data.load(\"example_data\")\n",
    "# > Loading once again a <class 'vectorbtpro.data.base.Data'> object\n",
    "print(type(data))\n",
    "print(data.wrapper.columns)\n",
    "\n",
    "# > I will cover how to access the data in the next section however for now lets take a look at how to get the OHLC data\n",
    "# Split the Data\n",
    "try:\n",
    "    open_data = data.get('Open')\n",
    "    low_data = data.get('Low')\n",
    "    high_data = data.get('High')\n",
    "    close_data = data.get('Close')\n",
    "except:\n",
    "    open_data = data.get('open')\n",
    "    low_data = data.get('low')\n",
    "    high_data = data.get('high')\n",
    "    close_data = data.get('close')\n",
    "\n",
    "print(open_data.head())\n"
   ],
   "metadata": {
    "collapsed": false,
    "pycharm": {
     "name": "#%%\n"
    }
   }
  },
  {
   "cell_type": "code",
   "execution_count": null,
   "outputs": [],
   "source": [],
   "metadata": {
    "collapsed": false,
    "pycharm": {
     "name": "#%%\n"
    }
   }
  }
 ],
 "metadata": {
  "kernelspec": {
   "display_name": "Python 3",
   "language": "python",
   "name": "python3"
  },
  "language_info": {
   "codemirror_mode": {
    "name": "ipython",
    "version": 2
   },
   "file_extension": ".py",
   "mimetype": "text/x-python",
   "name": "python",
   "nbconvert_exporter": "python",
   "pygments_lexer": "ipython2",
   "version": "2.7.6"
  }
 },
 "nbformat": 4,
 "nbformat_minor": 0
}