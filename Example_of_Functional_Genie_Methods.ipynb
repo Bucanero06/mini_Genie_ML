{
 "cells": [
  {
   "cell_type": "markdown",
   "source": [
    "\"\"\"NOTE\"\"\":\n",
    "  >You can access vectorbt's and mlfinlab_src's packages through the genie package or by importing them directly.\n",
    "  e.g.:  from genie import vbt, mlf\n",
    "  e.g.:  from genie import *\n",
    "  e.g.:  import genie\n",
    "         genie.vbt.<obj>(...)\n",
    "  e.g.:  import genie\n",
    "         genie.<obj>(...)\n",
    "  When it comes to mlfinlab_src is preferably that you use it through the genie package, as it is already configured\n",
    "  for debugging.\n",
    "  e.g.:  import genie\n",
    "         genie.<obj>(...)\n",
    "  otherwise\n",
    "  e.g.:  import genie\n",
    "         genie.mlf(...)\n",
    "  The same applies to many of the other packages that are imported in this file\n",
    "  e.g.:  from genie import np # numpy\n",
    "  however you have to call them directly not through the genie package\n",
    "  e.g.:  Not this -> import genie      , Do this instead  -> import genie          or  import numpy as np\n",
    "                     genie.array(...)                        genie.np.array(...)       np.array(...)\n",
    "This was done to avoid confusion between libraries"
   ],
   "metadata": {
    "collapsed": false,
    "pycharm": {
     "name": "#%% md\n"
    }
   }
  },
  {
   "cell_type": "code",
   "execution_count": 5,
   "outputs": [],
   "source": [
    "import pandas as pd\n",
    "from genie import walkfoward_report, Strategies, Data_Manager, np"
   ],
   "metadata": {
    "collapsed": false,
    "pycharm": {
     "name": "#%%\n"
    }
   }
  },
  {
   "cell_type": "markdown",
   "source": [
    "\"\"\"Downloading/Loading Data\"\"\"\n",
    ">Downloads the last N bars of timeframe X data from YFData or Binance (CCXTData library)\n",
    "There are multiple methods of aquiring data, it can be downloaded or loaded from a file and the function you use\n",
    "will depend on the data you are using. Let's start by downloading some data from yahoo finance."
   ],
   "metadata": {
    "collapsed": false,
    "pycharm": {
     "name": "#%% md\n"
    }
   }
  },
  {
   "cell_type": "code",
   "execution_count": 6,
   "outputs": [
    {
     "ename": "SyntaxError",
     "evalue": "invalid syntax (3420007938.py, line 30)",
     "output_type": "error",
     "traceback": [
      "\u001B[0;36m  Input \u001B[0;32mIn [6]\u001B[0;36m\u001B[0m\n\u001B[0;31m    > You can also load data from a file\u001B[0m\n\u001B[0m    ^\u001B[0m\n\u001B[0;31mSyntaxError\u001B[0m\u001B[0;31m:\u001B[0m invalid syntax\n"
     ]
    }
   ],
   "source": [
    "DAYS_TO_DOWNLOAD = 1000\n",
    "end_time = datetime.now()\n",
    "start_time = end_time - timedelta(days=DAYS_TO_DOWNLOAD)\n",
    "data = vbt.YFData.fetch(\n",
    "    # [\"BTC-USD\", \"ETH-USD\", \"XMR-USD\", \"ADA-USD\"],\n",
    "    # [\"BTC-USD\", \"ETH-USD\"],\n",
    "    # \"BTC-USD\",\n",
    "    \"ETH-USD\",\n",
    "    start=start_time,\n",
    "    end=end_time,\n",
    "    timeframe=\"1d\",\n",
    "    missing_index='drop'  # Creates problems with missing the index\n",
    ")\n",
    "print(f\"YFData: \")\n",
    "print(data)\n",
    "#\n",
    "# > the same can be achieved by using the ccxt lib which gives you access to a lot more crypto data sources and brokers\n",
    "#\n",
    "data = vbt.CCXTData.fetch(\n",
    "    \"ETHUSDT\",\n",
    "    exchange=\"binance\",\n",
    "    start=start_time,\n",
    "    end=end_time,\n",
    "    timeframe=\"1 day\"\n",
    ")\n",
    "print(f\"CCXTData: \")\n",
    "print(data)\n",
    "print(type(data))\n",
    "\n",
    "> You can also load data from a file\n",
    "data_file_names = [\n",
    "    \"dollar_bars.csv\",\n",
    "]\n",
    "\n",
    "# Searches for the data file names of csv type within the given directories\n",
    "data = Data_Manager.fetch_data(data_file_names=data_file_names,\n",
    "                               data_file_dirs=[\".\", \"Datas\", \"Sample-Data\"])\n",
    "#\n",
    "# This returns a vbt data object <class 'vectorbtpro.data.custom.<source>'> which essensially wraps the pandas\n",
    "#   dataframe introducing new functionality and all of these can be saved and loaded as followed:\n",
    "data.save(\"example_data\")\n",
    "data = vbt.Data.load(\"example_data\")\n",
    "# > Loading once again a <class 'vectorbtpro.data.base.Data'> object\n",
    "print(type(data))\n",
    "\n",
    "# > I will cover how to access the data in the next section however for now lets take a look at how to get the OHLC data\n",
    "# Split the Data\n",
    "try:\n",
    "    open_data = data.get('Open')\n",
    "    low_data = data.get('Low')\n",
    "    high_data = data.get('High')\n",
    "    close_data = data.get('Close')\n",
    "except:\n",
    "    open_data = data.get('open')\n",
    "    low_data = data.get('low')\n",
    "    high_data = data.get('high')\n",
    "    close_data = data.get('close')\n",
    "\n",
    "print(open_data.head())"
   ],
   "metadata": {
    "collapsed": false,
    "pycharm": {
     "name": "#%%\n"
    }
   }
  },
  {
   "cell_type": "code",
   "execution_count": null,
   "outputs": [],
   "source": [],
   "metadata": {
    "collapsed": false,
    "pycharm": {
     "name": "#%%\n"
    }
   }
  }
 ],
 "metadata": {
  "kernelspec": {
   "display_name": "Python 3",
   "language": "python",
   "name": "python3"
  },
  "language_info": {
   "codemirror_mode": {
    "name": "ipython",
    "version": 2
   },
   "file_extension": ".py",
   "mimetype": "text/x-python",
   "name": "python",
   "nbconvert_exporter": "python",
   "pygments_lexer": "ipython2",
   "version": "2.7.6"
  }
 },
 "nbformat": 4,
 "nbformat_minor": 0
}