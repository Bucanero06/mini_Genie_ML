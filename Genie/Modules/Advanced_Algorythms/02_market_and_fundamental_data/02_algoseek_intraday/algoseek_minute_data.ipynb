{
 "cells": [
  {
   "cell_type": "markdown",
   "metadata": {},
   "source": [
    "# Processing Algoseek's Trade & Quote Minute Bar data"
   ]
  },
  {
   "cell_type": "markdown",
   "metadata": {},
   "source": [
    "In this notebook, we load the high-quality NASDAQ100 minute-bar trade-and-quote data generously provided by [Algoseek](https://www.algoseek.com/) (available [here](https://www.algoseek.com/ml4t-book-data.html)) that we will use in [Chapter 12](../../12_gradient_boosting_machines) to develop an intraday trading strategy. "
   ]
  },
  {
   "cell_type": "markdown",
   "metadata": {},
   "source": [
    "## Imports & Settings"
   ]
  },
  {
   "cell_type": "code",
   "execution_count": 1,
   "metadata": {
    "ExecuteTime": {
     "end_time": "2021-02-26T22:46:21.181321Z",
     "start_time": "2021-02-26T22:46:21.161187Z"
    }
   },
   "outputs": [],
   "source": [
    "import warnings\n",
    "\n",
    "warnings.filterwarnings('ignore')"
   ]
  },
  {
   "cell_type": "code",
   "execution_count": 2,
   "metadata": {
    "ExecuteTime": {
     "end_time": "2021-02-26T22:46:24.260382Z",
     "start_time": "2021-02-26T22:46:21.312726Z"
    }
   },
   "outputs": [],
   "source": [
    "% matplotlib inline\n",
    "\n",
    "from pathlib import Path\n",
    "from tqdm import tqdm\n",
    "\n",
    "import numpy as np\n",
    "import pandas as pd\n",
    "\n",
    "import matplotlib.pyplot as plt\n",
    "import seaborn as sns"
   ]
  },
  {
   "cell_type": "code",
   "execution_count": 3,
   "metadata": {
    "ExecuteTime": {
     "end_time": "2021-02-26T22:46:24.264001Z",
     "start_time": "2021-02-26T22:46:24.261716Z"
    }
   },
   "outputs": [],
   "source": [
    "sns.set_style('whitegrid')\n",
    "idx = pd.IndexSlice"
   ]
  },
  {
   "cell_type": "markdown",
   "metadata": {},
   "source": [
    "## Algoseek Trade & Quote Minute Bar Data"
   ]
  },
  {
   "cell_type": "markdown",
   "metadata": {},
   "source": [
    "### Data Dictionary"
   ]
  },
  {
   "cell_type": "markdown",
   "metadata": {},
   "source": [
    "The Quote fields are based on changes to the NBBO ([National Best Bid Offer](https://www.investopedia.com/terms/n/nbbo.asp)) from the top-of-book price and size from\n",
    "each of the exchanges.\n",
    "\n",
    "The enhanced Trade & Quote bar fields include the following fields:\n",
    "- **Field**: Name of Field.\n",
    "- **Q / T**: Field based on Quotes or Trades\n",
    "- **Type**: Field format\n",
    "- **No Value**: Value of field when there is no value or data. \n",
    "  - Note: “Never” means field should always have a value EXCEPT for the first bar of the day.\n",
    "- **Description**: Description of the field."
   ]
  },
  {
   "cell_type": "markdown",
   "metadata": {},
   "source": [
    "| id  | Field                   | Q/T  | Type                          |  No Value | Description                                                                                                                                                                                                         |\n",
    "|:---:|:------------------------|:----:|:------------------------------|:---------:|:--------------------------------------------------------------------------------------------------------------------------------------------------------------------------------------------------------------------|\n",
    "| 1  | `Date`                   |      | YYYYMMDD                      | Never     | Trade Date                                                                                                                                                                                                          |\n",
    "| 2  | `Ticker`                 |      | String                       | Never      | Ticker Symbol                                                                                                                                                                                                       |\n",
    "| 3  | `TimeBarStart`           |      | HHMM <br>HHMMSS <br>HHMMSSMMM | Never     | For minute bars: HHMM. <br>For second bars: HHMMSS. <br>Examples<br>- One second bar 130302 is from time greater than 130301 to 130302.<br>- One minute bar 1104 is from time greater than 1103 to 1104. |\n",
    "| 4  | `OpenBarTime`            | Q    | HHMMSSMMM                    | Never      | Open Time of the Bar, for example one minute:<br>11:03:00.000                                                                                                                                                       |\n",
    "| 5  | `OpenBidPrice`           | Q    | Number                        | Never     | NBBO Bid Price as of bar Open                                                                                                                                                                                       |\n",
    "| 6  | `OpenBidSize`            | Q    | Number                        | Never     | Total Size from all Exchanges with<br>OpenBidPrice                                                                                                                                                                  |\n",
    "| 7  | `OpenAskPrice`           | Q    | Number                        | Never     | NBBO Ask Price as of bar Open                                                                                                                                                                                       |\n",
    "| 8  | `OpenAskSize`            | Q    | Number                        | Never     | Total Size from all Exchange with<br>OpenAskPrice                                                                                                                                                                   |\n",
    "| 9  | `FirstTradeTime`         | T    | HHMMSSMMM                     | Blank     | Time of first Trade                                                                                                                                                                                                 |\n",
    "| 10 | `FirstTradePrice`        | T    | Number                        | Blank     | Price of first Trade                                                                                                                                                                                                |\n",
    "| 11 | `FirstTradeSize`         | T    | Number                        | Blank     | Number of shares of first trade                                                                                                                                                                                     |\n",
    "| 12 | `HighBidTime`            | Q    | HHMMSSMMM                     | Never     | Time of highest NBBO Bid Price                                                                                                                                                                                      |\n",
    "| 13 | `HighBidPrice`           | Q    | Number                        | Never     | Highest NBBO Bid Price                                                                                                                                                                                              |\n",
    "| 14 | `HighBidSize`            | Q    | Number                        | Never     | Total Size from all Exchanges with HighBidPrice                                                                                                                                                                  |\n",
    "| 15 | `AskPriceAtHighBidPrice` | Q    | Number                        | Never     | Ask Price at time of Highest Bid Price                                                                                                                                                                              |\n",
    "| 16 | `AskSizeAtHighBidPrice`  | Q    | Number                        | Never     | Total Size from all Exchanges with `AskPriceAtHighBidPrice`                                                                                                                                                        |\n",
    "| 17 | `HighTradeTime`          | T    | HHMMSSMMM                     | Blank     | Time of Highest Trade                                                                                                                                                                                               |\n",
    "| 18 | `HighTradePrice`         | T    | Number                        | Blank     | Price of highest Trade                                                                                                                                                                                              |\n",
    "| 19 | `HighTradeSize`          | T    | Number                        | Blank     | Number of shares of highest trade                                                                                                                                                                                   |\n",
    "| 20 | `LowBidTime`             | Q    | HHMMSSMMM                     | Never     | Time of lowest Bid                                                                                                                                                                                                  |\n",
    "| 21 | `LowBidPrice`            | Q    | Number                        | Never     | Lowest NBBO Bid price of bar.                                                                                                                                                                                       |\n",
    "| 22 | `LowBidSize`             | Q    | Number                        | Never     | Total Size from all Exchanges with `LowBidPrice`                                                                                                                                                                   |\n",
    "| 23 | `AskPriceAtLowBidPrice`  | Q    | Number                        | Never     | Ask Price at lowest Bid price                                                                                                                                                                                       |\n",
    "| 24  | `AskSizeAtLowBidPrice`  | Q    | Number                        | Never     | Total Size from all Exchanges with `AskPriceAtLowBidPrice`                                                                                                                                                                                       |\n",
    "| 25  | `LowTradeTime`          | T    | HHMMSSMMM                     | Blank     | Time of lowest Trade                                                                                                                                                                                                                             |\n",
    "| 26  | `LowTradePrice`         | T    | Number                        | Blank     | Price of lowest Trade                                                                                                                                                                                                                            |\n",
    "| 27  | `LowTradeSize`          | T    | Number                        | Blank     | Number of shares of lowest trade                                                                                                                                                                                                                 |\n",
    "| 28  | `CloseBarTime`          | Q    | HHMMSSMMM                     | Never     | Close Time of the Bar, for example one minute: 11:03:59.999                                                                                                                                                                                      |\n",
    "| 29  | `CloseBidPrice`         | Q    | Number                        | Never     | NBBO Bid Price at bar Close                                                                                                                                                                                                                      |\n",
    "| 30  | `CloseBidSize`          | Q    | Number                        | Never     | Total Size from all Exchange with `CloseBidPrice`                                                                                                                                                                                                |\n",
    "| 31  | `CloseAskPrice`         | Q    | Number                        | Never     | NBBO Ask Price at bar Close                                                                                                                                                                                                                      |\n",
    "| 32  | `CloseAskSize`          | Q    | Number                        | Never     | Total Size from all Exchange with `CloseAskPrice`                                                                                                                                                                                                |\n",
    "| 33  | `LastTradeTime`         | T    | HHMMSSMMM                     | Blank     | Time of last Trade                                                                                                                                                                                                                               |\n",
    "| 34  | `LastTradePrice`        | T    | Number                        | Blank     | Price of last Trade                                                                                                                                                                                                                              |\n",
    "| 35  | `LastTradeSize`         | T    | Number                        | Blank     | Number of shares of last trade                                                                                                                                                                                                                   |\n",
    "| 36  | `MinSpread`             | Q    | Number                        | Never     | Minimum Bid-Ask spread size. This may be 0 if the market was crossed during the bar.<br/>If negative spread due to back quote, make it 0.                                                                                                            |\n",
    "| 37  | `MaxSpread`             | Q    | Number                        | Never     | Maximum Bid-Ask spread in bar                                                                                                                                                                                                                    |\n",
    "| 38  | `CancelSize`            | T    | Number                        | 0         | Total shares canceled. Default=blank                                                                                                                                                                                                             |\n",
    "| 39  | `VolumeWeightPrice`     | T    | Number                        | Blank     | Trade Volume weighted average price <br>Sum((`Trade1Shares`*`Price`)+(`Trade2Shares`*`Price`)+…)/`TotalShares`. <br>Note: Blank if no trades.                                                                                                        |\n",
    "| 40  | `NBBOQuoteCount`        | Q    | Number                        | 0         | Number of Bid and Ask NNBO quotes during bar period.                                                                                                                                                                                             |\n",
    "| 41  | `TradeAtBid`            | Q,T  | Number                        | 0         | Sum of trade volume that occurred at or below the bid (a trade reported/printed late can be below current bid).                                                                                                                                  |\n",
    "| 42  | `TradeAtBidMid`         | Q,T  | Number                        | 0         | Sum of trade volume that occurred between the bid and the mid-point:<br/>(Trade Price > NBBO Bid ) & (Trade Price < NBBO Mid )                                                                                                                       |\n",
    "| 43  | `TradeAtMid`            | Q,T  | Number                        | 0         | Sum of trade volume that occurred at mid.<br/>TradePrice = NBBO MidPoint                                                                                                                                                                             |\n",
    "| 44  | `TradeAtMidAsk`         | Q,T  | Number                        | 0         | Sum of ask volume that occurred between the mid and ask:<br/>(Trade Price > NBBO Mid) & (Trade Price < NBBO Ask)                                                                                                                                     |\n",
    "| 45  | `TradeAtAsk`            | Q,T  | Number                        | 0         | Sum of trade volume that occurred at or above the Ask.                                                                                                                                                                                           |\n",
    "| 46  | `TradeAtCrossOrLocked`  | Q,T  | Number                        | 0         | Sum of trade volume for bar when national best bid/offer is locked or crossed. <br>Locked is Bid = Ask <br>Crossed is Bid > Ask                                                                                                                  |\n",
    "| 47  | `Volume`                | T    | Number                        | 0         | Total number of shares traded                                                                                                                                                                                                                    |\n",
    "| 48  | `TotalTrades`           | T    | Number                        | 0         | Total number of trades                                                                                                                                                                                                                           |\n",
    "| 49  | `FinraVolume`           | T    | Number                        | 0         | Number of shares traded that are reported by FINRA. <br/>Trades reported by FINRA are from broker-dealer internalization, dark pools, Over-The-Counter, etc. <br/>FINRA trades represent volume that is hidden or not public available to trade.         |\n",
    "| 50  | `UptickVolume`          | T    | Integer                       | 0         | Total number of shares traded with upticks during bar.<br/>An uptick = ( trade price > last trade price )                                                                                                                                                                                                                               |\n",
    "| 51  | `DowntickVolume`        | T    | Integer                       | 0         | Total number of shares traded with downticks during bar.<br/>A downtick = ( trade price < last trade price )                                                                                                                                                                                                                            |\n",
    "| 52  | `RepeatUptickVolume`    | T    | Integer                       | 0         | Total number of shares where trade price is the same (repeated) and last price change was up during bar. <br/>Repeat uptick = ( trade price == last trade price ) & (last tick direction == up )                                                                                                                                         |\n",
    "| 53  | `RepeatDowntickVolume`  | T    | Integer                       | 0         | Total number of shares where trade price is the same (repeated) and last price change was down during bar. <br/>Repeat downtick = ( trade price == last trade price ) & (last tick direction == down )                                                                                                                                   |\n",
    "| 54  | `UnknownVolume`         | T    | Integer                       | 0         | When the first trade of the day takes place, the tick direction is “unknown” as there is no previous Trade to compare it to.<br/>This field is the volume of the first trade after 4am and acts as an initiation value for the tick volume directions.<br/>In future this bar will be renamed to `UnkownTickDirectionVolume` .  |"
   ]
  },
  {
   "cell_type": "markdown",
   "metadata": {},
   "source": [
    "### Notes\n",
    "\n",
    "**Empty Fields**\n",
    "\n",
    "An empty field has no value and is “Blank” , for example FirstTradeTime and there are no trades during the bar period. \n",
    "The field `Volume` measuring total number of shares traded in bar will be `0` if there are no Trades (see `No Value` column above for each field).\n",
    "\n",
    "**No Bid/Ask/Trade OHLC**\n",
    "\n",
    "During a bar timeframe there may not be a change in the NBBO or an actual Trade. \n",
    "For example, there can be a bar with OHLC Bid/Ask but no Trade OHLC.\n",
    "\n",
    "**Single Event**\n",
    "\n",
    "For bars with only one trade, one NBBO bid or one NBBO ask then Open/High/Low/Close price,size andtime will be the same.\n",
    "\n",
    "**`AskPriceAtHighBidPrice`, `AskSizeAtHighBidPrice`, `AskPriceAtLowBidPrice`, `AskSizeAtLowBidPrice` Fields** \n",
    "\n",
    "To provide consistent Bid/Ask prices at a point in time while showing the low/high Bid/Ask for the bar, AlgoSeek uses the low/high `Bid` and the corresponding `Ask` at that price.\n",
    "\n",
    "### FAQ\n",
    "\n",
    "**Why are Trade Prices often inside the Bid Price to Ask Price range?**\n",
    "\n",
    "The Low/High Bid/Ask is the low and high NBBO price for the bar range. \n",
    "Very often a Trade may not occur at these prices as the price may only last a few seconds or executions are being crossed at mid-point due to hidden order types that execute at mid-point or as price improvement over current `Bid`/`Ask`.\n",
    "\n",
    "**How to get exchange tradable shares?** \n",
    "\n",
    "To get the exchange tradable volume in a bar subtract `Volume` from `FinraVolume`. \n",
    "- `Volume` is the total number of shares traded. \n",
    "- ``FinraVolume`` is the total number of shares traded that are reported as executions by FINRA. \n",
    "\n",
    "When a trade is done that is off the listed exchanges, it must be reported to FINRA by the brokerage firm or dark pool. Examples include: \n",
    "- internal crosses by broker dealer\n",
    "- over-the-counter block trades, and\n",
    "- dark pool executions."
   ]
  },
  {
   "cell_type": "markdown",
   "metadata": {},
   "source": [
    "## Data prep"
   ]
  },
  {
   "cell_type": "markdown",
   "metadata": {},
   "source": [
    "We use the 'Trade and Quote' dataset - see [documentation](https://us-equity-market-data-docs.s3.amazonaws.com/algoseek.US.Equity.TAQ.Minute.Bars.pdf) for details on the definition of the numerous fields."
   ]
  },
  {
   "cell_type": "code",
   "execution_count": 5,
   "metadata": {
    "ExecuteTime": {
     "end_time": "2021-02-26T22:46:26.666546Z",
     "start_time": "2021-02-26T22:46:26.660567Z"
    }
   },
   "outputs": [],
   "source": [
    "tcols = ['openbartime',\n",
    "         'firsttradetime',\n",
    "         'highbidtime',\n",
    "         'highasktime',\n",
    "         'hightradetime',\n",
    "         'lowbidtime',\n",
    "         'lowasktime',\n",
    "         'lowtradetime',\n",
    "         'closebartime',\n",
    "         'lasttradetime']"
   ]
  },
  {
   "cell_type": "code",
   "execution_count": 6,
   "metadata": {
    "ExecuteTime": {
     "end_time": "2021-02-26T22:46:26.962664Z",
     "start_time": "2021-02-26T22:46:26.957817Z"
    }
   },
   "outputs": [],
   "source": [
    "drop_cols = ['unknowntickvolume',\n",
    "             'cancelsize',\n",
    "             'tradeatcrossorlocked']"
   ]
  },
  {
   "cell_type": "code",
   "execution_count": 7,
   "metadata": {
    "ExecuteTime": {
     "end_time": "2021-02-26T22:46:27.125238Z",
     "start_time": "2021-02-26T22:46:27.122738Z"
    }
   },
   "outputs": [],
   "source": [
    "keep = ['firsttradeprice',\n",
    "        'hightradeprice',\n",
    "        'lowtradeprice',\n",
    "        'lasttradeprice',\n",
    "        'minspread',\n",
    "        'maxspread',\n",
    "        'volumeweightprice',\n",
    "        'nbboquotecount',\n",
    "        'tradeatbid',\n",
    "        'tradeatbidmid',\n",
    "        'tradeatmid',\n",
    "        'tradeatmidask',\n",
    "        'tradeatask',\n",
    "        'volume',\n",
    "        'totaltrades',\n",
    "        'finravolume',\n",
    "        'finravolumeweightprice',\n",
    "        'uptickvolume',\n",
    "        'downtickvolume',\n",
    "        'repeatuptickvolume',\n",
    "        'repeatdowntickvolume',\n",
    "        'tradetomidvolweight',\n",
    "        'tradetomidvolweightrelative']"
   ]
  },
  {
   "cell_type": "markdown",
   "metadata": {},
   "source": [
    "We will shorten most of the field names to reduce typing:"
   ]
  },
  {
   "cell_type": "code",
   "execution_count": 8,
   "metadata": {
    "ExecuteTime": {
     "end_time": "2021-02-26T22:46:27.449401Z",
     "start_time": "2021-02-26T22:46:27.434403Z"
    }
   },
   "outputs": [],
   "source": [
    "columns = {'volumeweightprice': 'price',\n",
    "           'finravolume': 'fvolume',\n",
    "           'finravolumeweightprice': 'fprice',\n",
    "           'uptickvolume': 'up',\n",
    "           'downtickvolume': 'down',\n",
    "           'repeatuptickvolume': 'rup',\n",
    "           'repeatdowntickvolume': 'rdown',\n",
    "           'firsttradeprice': 'first',\n",
    "           'hightradeprice': 'high',\n",
    "           'lowtradeprice': 'low',\n",
    "           'lasttradeprice': 'last',\n",
    "           'nbboquotecount': 'nbbo',\n",
    "           'totaltrades': 'ntrades',\n",
    "           'openbidprice': 'obprice',\n",
    "           'openbidsize': 'obsize',\n",
    "           'openaskprice': 'oaprice',\n",
    "           'openasksize': 'oasize',\n",
    "           'highbidprice': 'hbprice',\n",
    "           'highbidsize': 'hbsize',\n",
    "           'highaskprice': 'haprice',\n",
    "           'highasksize': 'hasize',\n",
    "           'lowbidprice': 'lbprice',\n",
    "           'lowbidsize': 'lbsize',\n",
    "           'lowaskprice': 'laprice',\n",
    "           'lowasksize': 'lasize',\n",
    "           'closebidprice': 'cbprice',\n",
    "           'closebidsize': 'cbsize',\n",
    "           'closeaskprice': 'caprice',\n",
    "           'closeasksize': 'casize',\n",
    "           'firsttradesize': 'firstsize',\n",
    "           'hightradesize': 'highsize',\n",
    "           'lowtradesize': 'lowsize',\n",
    "           'lasttradesize': 'lastsize',\n",
    "           'tradetomidvolweight': 'volweight',\n",
    "           'tradetomidvolweightrelative': 'volweightrel'}"
   ]
  },
  {
   "cell_type": "markdown",
   "metadata": {},
   "source": [
    "The Algoseek minute-bar data comes in compressed csv files that contain the data for one symbol and day, organized in three directories for each year (2015-17). The function `extract_and_combine_data` reads the ~80K source files and combines them into a single `hdf5` file for faster access. \n",
    "\n",
    ">The data is fairly large (>8GB), and if you run into memory constraints, please modify the code to process the data in smaller chunks. One options is to iterate over the three directories containing data for a single year only, and storing each year separately."
   ]
  },
  {
   "cell_type": "code",
   "execution_count": 4,
   "metadata": {
    "ExecuteTime": {
     "end_time": "2021-02-26T22:46:26.539907Z",
     "start_time": "2021-02-26T22:46:26.535114Z"
    }
   },
   "outputs": [],
   "source": [
    "nasdaq_path = Path('../../data/nasdaq100')"
   ]
  },
  {
   "cell_type": "code",
   "execution_count": 14,
   "metadata": {
    "ExecuteTime": {
     "end_time": "2021-02-26T22:51:07.230363Z",
     "start_time": "2021-02-26T22:51:07.222756Z"
    }
   },
   "outputs": [],
   "source": [
    "def extract_and_combine_data():\n",
    "    path = nasdaq_path / '1min_taq'\n",
    "    if not path.exists():\n",
    "        path.mkdir(parents=True)\n",
    "\n",
    "    data = []\n",
    "    # ~80K files to process\n",
    "    for f in tqdm(list(path.glob('*/**/*.csv.gz'))):\n",
    "        data.append(pd.read_csv(f, parse_dates=[['Date', 'TimeBarStart']])\n",
    "                    .rename(columns=str.lower)\n",
    "                    .drop(tcols + drop_cols, axis=1)\n",
    "                    .rename(columns=columns)\n",
    "                    .set_index('date_timebarstart')\n",
    "                    .sort_index()\n",
    "                    .between_time('9:30', '16:00')\n",
    "                    .set_index('ticker', append=True)\n",
    "                    .swaplevel()\n",
    "                    .rename(columns=lambda x: x.replace('tradeat', 'at')))\n",
    "    data = pd.concat(data).apply(pd.to_numeric, downcast='integer')\n",
    "    data.index.rename(['ticker', 'date_time'], inplace=True)\n",
    "    print(data.info(show_counts=True))\n",
    "    data.to_hdf(nasdaq_path / 'algoseek.h5', 'min_taq')"
   ]
  },
  {
   "cell_type": "code",
   "execution_count": 15,
   "metadata": {
    "ExecuteTime": {
     "end_time": "2021-02-26T23:19:22.441873Z",
     "start_time": "2021-02-26T22:51:10.270029Z"
    }
   },
   "outputs": [
    {
     "name": "stderr",
     "output_type": "stream",
     "text": [
      "80194it [20:55, 63.87it/s]\n"
     ]
    },
    {
     "name": "stdout",
     "output_type": "stream",
     "text": [
      "<class 'pandas.core.frame.DataFrame'>\n",
      "MultiIndex: 31355463 entries, ('MSFT', Timestamp('2015-02-09 09:30:00')) to ('DISH', Timestamp('2016-10-11 16:00:00'))\n",
      "Data columns (total 45 columns):\n",
      " #   Column         Non-Null Count     Dtype  \n",
      "---  ------         --------------     -----  \n",
      " 0   obprice        31355451 non-null  float64\n",
      " 1   obsize         31355451 non-null  float64\n",
      " 2   oaprice        31355457 non-null  float64\n",
      " 3   oasize         31355457 non-null  float64\n",
      " 4   first          30955838 non-null  float64\n",
      " 5   firstsize      30955838 non-null  float64\n",
      " 6   hbprice        31355463 non-null  float64\n",
      " 7   hbsize         31355463 non-null  int32  \n",
      " 8   haprice        31355463 non-null  float64\n",
      " 9   hasize         31355463 non-null  int32  \n",
      " 10  high           30955838 non-null  float64\n",
      " 11  highsize       30955838 non-null  float64\n",
      " 12  lbprice        31355463 non-null  float64\n",
      " 13  lbsize         31355463 non-null  int32  \n",
      " 14  laprice        31355463 non-null  float64\n",
      " 15  lasize         31355463 non-null  int32  \n",
      " 16  low            30955838 non-null  float64\n",
      " 17  lowsize        30955838 non-null  float64\n",
      " 18  cbprice        31355463 non-null  float64\n",
      " 19  cbsize         31355463 non-null  int32  \n",
      " 20  caprice        31355463 non-null  float64\n",
      " 21  casize         31355463 non-null  int32  \n",
      " 22  last           30955838 non-null  float64\n",
      " 23  lastsize       30955838 non-null  float64\n",
      " 24  minspread      31354810 non-null  float64\n",
      " 25  maxspread      31355327 non-null  float64\n",
      " 26  price          30386944 non-null  float64\n",
      " 27  nbbo           31355463 non-null  int32  \n",
      " 28  atbid          31355463 non-null  int32  \n",
      " 29  atbidmid       31355463 non-null  int32  \n",
      " 30  atmid          31355463 non-null  int32  \n",
      " 31  atmidask       31355463 non-null  int32  \n",
      " 32  atask          31355463 non-null  int32  \n",
      " 33  volume         31355463 non-null  int32  \n",
      " 34  ntrades        31355463 non-null  int16  \n",
      " 35  fvolume        31355463 non-null  int32  \n",
      " 36  fprice         29561289 non-null  float64\n",
      " 37  up             31355463 non-null  int32  \n",
      " 38  down           31355463 non-null  int32  \n",
      " 39  rup            31355463 non-null  int32  \n",
      " 40  rdown          31355463 non-null  int32  \n",
      " 41  volweight      30386944 non-null  float64\n",
      " 42  volweightrel   30386944 non-null  float64\n",
      " 43  timeweightbid  31355463 non-null  float64\n",
      " 44  timeweightask  31355463 non-null  float64\n",
      "dtypes: float64(26), int16(1), int32(18)\n",
      "memory usage: 8.4+ GB\n",
      "None\n"
     ]
    }
   ],
   "source": [
    "extract_and_combine_data()"
   ]
  },
  {
   "cell_type": "code",
   "execution_count": 9,
   "metadata": {
    "ExecuteTime": {
     "end_time": "2021-01-20T21:18:34.583990Z",
     "start_time": "2021-01-20T21:18:09.097864Z"
    }
   },
   "outputs": [],
   "source": [
    "df = pd.read_hdf(nasdaq_path / 'algoseek.h5', 'min_taq')"
   ]
  },
  {
   "cell_type": "code",
   "execution_count": 10,
   "metadata": {
    "ExecuteTime": {
     "end_time": "2021-01-20T21:18:36.538504Z",
     "start_time": "2021-01-20T21:18:34.584938Z"
    }
   },
   "outputs": [
    {
     "name": "stdout",
     "output_type": "stream",
     "text": [
      "<class 'pandas.core.frame.DataFrame'>\n",
      "MultiIndex: 31355463 entries, ('MSFT', Timestamp('2015-02-09 09:30:00')) to ('DISH', Timestamp('2016-10-11 16:00:00'))\n",
      "Data columns (total 45 columns):\n",
      " #   Column         Non-Null Count     Dtype  \n",
      "---  ------         --------------     -----  \n",
      " 0   obprice        31355451 non-null  float64\n",
      " 1   obsize         31355451 non-null  float64\n",
      " 2   oaprice        31355457 non-null  float64\n",
      " 3   oasize         31355457 non-null  float64\n",
      " 4   first          30955838 non-null  float64\n",
      " 5   firstsize      30955838 non-null  float64\n",
      " 6   hbprice        31355463 non-null  float64\n",
      " 7   hbsize         31355463 non-null  int32  \n",
      " 8   haprice        31355463 non-null  float64\n",
      " 9   hasize         31355463 non-null  int32  \n",
      " 10  high           30955838 non-null  float64\n",
      " 11  highsize       30955838 non-null  float64\n",
      " 12  lbprice        31355463 non-null  float64\n",
      " 13  lbsize         31355463 non-null  int32  \n",
      " 14  laprice        31355463 non-null  float64\n",
      " 15  lasize         31355463 non-null  int32  \n",
      " 16  low            30955838 non-null  float64\n",
      " 17  lowsize        30955838 non-null  float64\n",
      " 18  cbprice        31355463 non-null  float64\n",
      " 19  cbsize         31355463 non-null  int32  \n",
      " 20  caprice        31355463 non-null  float64\n",
      " 21  casize         31355463 non-null  int32  \n",
      " 22  last           30955838 non-null  float64\n",
      " 23  lastsize       30955838 non-null  float64\n",
      " 24  minspread      31354810 non-null  float64\n",
      " 25  maxspread      31355327 non-null  float64\n",
      " 26  price          30386944 non-null  float64\n",
      " 27  nbbo           31355463 non-null  int32  \n",
      " 28  atbid          31355463 non-null  int32  \n",
      " 29  atbidmid       31355463 non-null  int32  \n",
      " 30  atmid          31355463 non-null  int32  \n",
      " 31  atmidask       31355463 non-null  int32  \n",
      " 32  atask          31355463 non-null  int32  \n",
      " 33  volume         31355463 non-null  int32  \n",
      " 34  ntrades        31355463 non-null  int16  \n",
      " 35  fvolume        31355463 non-null  int32  \n",
      " 36  fprice         29561289 non-null  float64\n",
      " 37  up             31355463 non-null  int32  \n",
      " 38  down           31355463 non-null  int32  \n",
      " 39  rup            31355463 non-null  int32  \n",
      " 40  rdown          31355463 non-null  int32  \n",
      " 41  volweight      30386944 non-null  float64\n",
      " 42  volweightrel   30386944 non-null  float64\n",
      " 43  timeweightbid  31355463 non-null  float64\n",
      " 44  timeweightask  31355463 non-null  float64\n",
      "dtypes: float64(26), int16(1), int32(18)\n",
      "memory usage: 8.4+ GB\n"
     ]
    }
   ],
   "source": [
    "df.info(null_counts=True)"
   ]
  },
  {
   "cell_type": "markdown",
   "metadata": {},
   "source": [
    "## NASDAQ 100 Constituents"
   ]
  },
  {
   "cell_type": "markdown",
   "metadata": {},
   "source": [
    "The dataset contains 142 stocks because there were multiple changes to index membership over the 2015-17 period:"
   ]
  },
  {
   "cell_type": "code",
   "execution_count": 11,
   "metadata": {
    "ExecuteTime": {
     "end_time": "2021-01-20T21:18:57.332986Z",
     "start_time": "2021-01-20T21:18:57.133154Z"
    }
   },
   "outputs": [
    {
     "data": {
      "text/plain": [
       "142"
      ]
     },
     "execution_count": 11,
     "metadata": {},
     "output_type": "execute_result"
    }
   ],
   "source": [
    "len(df.index.unique('ticker'))"
   ]
  },
  {
   "cell_type": "markdown",
   "metadata": {},
   "source": [
    "The below heatmap highlights the frequent entry/exit points of various securities, which emphasizes the need for a survivorship-free dataset."
   ]
  },
  {
   "cell_type": "code",
   "execution_count": 53,
   "metadata": {
    "ExecuteTime": {
     "end_time": "2021-01-20T21:37:33.376510Z",
     "start_time": "2021-01-20T21:37:24.844374Z"
    }
   },
   "outputs": [],
   "source": [
    "constituents = (df.groupby([df.index.get_level_values('date_time').date, 'ticker'])\n",
    "                .size()\n",
    "                .unstack('ticker')\n",
    "                .notnull()\n",
    "                .astype(int)\n",
    "                .replace(0, np.nan))\n",
    "\n",
    "constituents.index = pd.to_datetime(constituents.index)\n",
    "constituents = constituents.resample('M').max()\n",
    "constituents.index = constituents.index.date"
   ]
  },
  {
   "cell_type": "code",
   "execution_count": 63,
   "metadata": {
    "ExecuteTime": {
     "end_time": "2021-01-20T21:40:38.709587Z",
     "start_time": "2021-01-20T21:40:37.381154Z"
    }
   },
   "outputs": [
    {
     "data": {
      "image/png": "[encoded data removed]",
      "text/plain": [
       "<Figure size 1440x1440 with 1 Axes>"
      ]
     },
     "metadata": {},
     "output_type": "display_data"
    }
   ],
   "source": [
    "fig, ax = plt.subplots(figsize=(20, 20))\n",
    "mask = constituents.T.isnull()\n",
    "ax = sns.heatmap(constituents.T, mask=mask, cbar=False, ax=ax, cmap='Blues_r')\n",
    "ax.set_ylabel('')\n",
    "fig.suptitle('NASDAQ100 Constituents (2015-2017)')\n",
    "fig.tight_layout();"
   ]
  },
  {
   "cell_type": "code",
   "execution_count": null,
   "metadata": {},
   "outputs": [],
   "source": []
  }
 ],
 "metadata": {
  "kernelspec": {
   "display_name": "Python 3",
   "language": "python",
   "name": "python3"
  },
  "language_info": {
   "codemirror_mode": {
    "name": "ipython",
    "version": 3
   },
   "file_extension": ".py",
   "mimetype": "text/x-python",
   "name": "python",
   "nbconvert_exporter": "python",
   "pygments_lexer": "ipython3",
   "version": "3.8.8"
  },
  "toc": {
   "base_numbering": 1,
   "nav_menu": {},
   "number_sections": true,
   "sideBar": true,
   "skip_h1_title": true,
   "title_cell": "Table of Contents",
   "title_sidebar": "Contents",
   "toc_cell": false,
   "toc_position": {},
   "toc_section_display": true,
   "toc_window_display": true
  }
 },
 "nbformat": 4,
 "nbformat_minor": 2
}