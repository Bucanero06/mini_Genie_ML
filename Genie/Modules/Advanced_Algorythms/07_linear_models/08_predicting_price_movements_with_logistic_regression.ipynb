{
 "cells": [
  {
   "cell_type": "markdown",
   "metadata": {},
   "source": [
    "# Predicting stock price moves with Logistic Regression"
   ]
  },
  {
   "cell_type": "markdown",
   "metadata": {},
   "source": [
    "## Imports & Settings"
   ]
  },
  {
   "cell_type": "code",
   "execution_count": 1,
   "metadata": {
    "ExecuteTime": {
     "end_time": "2021-04-15T20:17:11.301878Z",
     "start_time": "2021-04-15T20:17:11.299202Z"
    }
   },
   "outputs": [],
   "source": [
    "import warnings\n",
    "warnings.filterwarnings('ignore')"
   ]
  },
  {
   "cell_type": "code",
   "execution_count": 2,
   "metadata": {
    "ExecuteTime": {
     "end_time": "2021-04-15T20:17:11.924039Z",
     "start_time": "2021-04-15T20:17:11.308933Z"
    }
   },
   "outputs": [],
   "source": [
    "from pathlib import Path\n",
    "import sys, os\n",
    "from time import time\n",
    "\n",
    "import pandas as pd\n",
    "import numpy as np\n",
    "\n",
    "from scipy.stats import spearmanr\n",
    "\n",
    "from sklearn.metrics import roc_auc_score\n",
    "from sklearn.linear_model import LogisticRegression\n",
    "from sklearn.pipeline import Pipeline\n",
    "from sklearn.preprocessing import StandardScaler\n",
    "\n",
    "import seaborn as sns\n",
    "import matplotlib.pyplot as plt"
   ]
  },
  {
   "cell_type": "code",
   "execution_count": 3,
   "metadata": {
    "ExecuteTime": {
     "end_time": "2021-04-15T20:17:11.932987Z",
     "start_time": "2021-04-15T20:17:11.925127Z"
    }
   },
   "outputs": [],
   "source": [
    "sys.path.insert(1, os.path.join(sys.path[0], '..'))\n",
    "from utils import MultipleTimeSeriesCV"
   ]
  },
  {
   "cell_type": "code",
   "execution_count": 4,
   "metadata": {
    "ExecuteTime": {
     "end_time": "2021-04-15T20:17:11.947014Z",
     "start_time": "2021-04-15T20:17:11.934249Z"
    }
   },
   "outputs": [],
   "source": [
    "sns.set_style('darkgrid')\n",
    "idx = pd.IndexSlice"
   ]
  },
  {
   "cell_type": "code",
   "execution_count": 5,
   "metadata": {
    "ExecuteTime": {
     "end_time": "2021-04-15T20:17:11.966976Z",
     "start_time": "2021-04-15T20:17:11.948028Z"
    }
   },
   "outputs": [],
   "source": [
    "YEAR = 252"
   ]
  },
  {
   "cell_type": "markdown",
   "metadata": {},
   "source": [
    "## Load Data"
   ]
  },
  {
   "cell_type": "code",
   "execution_count": 6,
   "metadata": {
    "ExecuteTime": {
     "end_time": "2021-04-15T20:17:14.277183Z",
     "start_time": "2021-04-15T20:17:11.967819Z"
    }
   },
   "outputs": [],
   "source": [
    "with pd.HDFStore('data.h5') as store:\n",
    "    data = (store['model_data']\n",
    "            .dropna()\n",
    "            .drop(['open', 'close', 'low', 'high'], axis=1))\n",
    "data = data.drop([c for c in data.columns if 'year' in c or 'lag' in c], axis=1)"
   ]
  },
  {
   "cell_type": "markdown",
   "metadata": {},
   "source": [
    "### Select Investment Universe"
   ]
  },
  {
   "cell_type": "code",
   "execution_count": 7,
   "metadata": {
    "ExecuteTime": {
     "end_time": "2021-04-15T20:17:14.301403Z",
     "start_time": "2021-04-15T20:17:14.280282Z"
    }
   },
   "outputs": [],
   "source": [
    "data = data[data.dollar_vol_rank<100]"
   ]
  },
  {
   "cell_type": "markdown",
   "metadata": {},
   "source": [
    "### Create Model Data"
   ]
  },
  {
   "cell_type": "code",
   "execution_count": 8,
   "metadata": {
    "ExecuteTime": {
     "end_time": "2021-04-15T20:17:14.311605Z",
     "start_time": "2021-04-15T20:17:14.302306Z"
    }
   },
   "outputs": [],
   "source": [
    "y = data.filter(like='target')\n",
    "X = data.drop(y.columns, axis=1)\n",
    "X = X.drop(['dollar_vol', 'dollar_vol_rank', 'volume', 'consumer_durables'], axis=1)"
   ]
  },
  {
   "cell_type": "markdown",
   "metadata": {},
   "source": [
    "## Logistic Regression"
   ]
  },
  {
   "cell_type": "markdown",
   "metadata": {},
   "source": [
    "### Define cross-validation parameters"
   ]
  },
  {
   "cell_type": "code",
   "execution_count": 9,
   "metadata": {
    "ExecuteTime": {
     "end_time": "2021-04-15T20:17:14.322985Z",
     "start_time": "2021-04-15T20:17:14.312772Z"
    }
   },
   "outputs": [],
   "source": [
    "train_period_length = 63\n",
    "test_period_length = 10\n",
    "lookahead =1\n",
    "n_splits = int(3 * YEAR/test_period_length)\n",
    "\n",
    "cv = MultipleTimeSeriesCV(n_splits=n_splits,\n",
    "                          test_period_length=test_period_length,\n",
    "                          lookahead=lookahead,\n",
    "                          train_period_length=train_period_length)"
   ]
  },
  {
   "cell_type": "code",
   "execution_count": 10,
   "metadata": {
    "ExecuteTime": {
     "end_time": "2021-04-15T20:17:14.332416Z",
     "start_time": "2021-04-15T20:17:14.323914Z"
    }
   },
   "outputs": [],
   "source": [
    "target = f'target_{lookahead}d'"
   ]
  },
  {
   "cell_type": "code",
   "execution_count": 11,
   "metadata": {
    "ExecuteTime": {
     "end_time": "2021-04-15T20:17:14.911301Z",
     "start_time": "2021-04-15T20:17:14.333178Z"
    }
   },
   "outputs": [
    {
     "data": {
      "text/plain": [
       "1    56486\n",
       "0    53189\n",
       "Name: label, dtype: int64"
      ]
     },
     "execution_count": 11,
     "metadata": {},
     "output_type": "execute_result"
    }
   ],
   "source": [
    "y.loc[:, 'label'] = (y[target] > 0).astype(int)\n",
    "y.label.value_counts()"
   ]
  },
  {
   "cell_type": "code",
   "execution_count": 12,
   "metadata": {
    "ExecuteTime": {
     "end_time": "2021-04-15T20:17:14.914240Z",
     "start_time": "2021-04-15T20:17:14.912145Z"
    }
   },
   "outputs": [],
   "source": [
    "Cs = np.logspace(-5, 5, 11)"
   ]
  },
  {
   "cell_type": "code",
   "execution_count": 13,
   "metadata": {
    "ExecuteTime": {
     "end_time": "2021-04-15T20:17:14.927937Z",
     "start_time": "2021-04-15T20:17:14.915111Z"
    }
   },
   "outputs": [],
   "source": [
    "cols = ['C', 'date', 'auc', 'ic', 'pval']"
   ]
  },
  {
   "cell_type": "markdown",
   "metadata": {},
   "source": [
    "### Run cross-validation"
   ]
  },
  {
   "cell_type": "code",
   "execution_count": 14,
   "metadata": {
    "ExecuteTime": {
     "end_time": "2021-04-15T20:19:33.666469Z",
     "start_time": "2021-04-15T20:17:14.928766Z"
    },
    "scrolled": false
   },
   "outputs": [
    {
     "name": "stdout",
     "output_type": "stream",
     "text": [
      "1e-05\n",
      "\t  3.9 | 010 |  -0.31% |  50.42%\n",
      "\t  5.3 | 020 |   1.89% |  51.83%\n",
      "\t  7.0 | 030 |   2.84% |  52.01%\n",
      "\t  8.5 | 040 |   3.29% |  51.98%\n",
      "\t 10.2 | 050 |   3.97% |  52.44%\n",
      "\t 11.6 | 060 |   3.96% |  52.27%\n",
      "\t 13.1 | 070 |   4.73% |  52.59%\n",
      "0.0001\n",
      "\t  1.8 | 010 |  -0.06% |  50.62%\n",
      "\t  3.8 | 020 |   2.23% |  52.01%\n",
      "\t  5.2 | 030 |   3.20% |  52.26%\n",
      "\t  7.0 | 040 |   3.34% |  52.08%\n",
      "\t  9.0 | 050 |   4.02% |  52.53%\n",
      "\t 10.6 | 060 |   4.02% |  52.33%\n",
      "\t 12.1 | 070 |   4.83% |  52.67%\n",
      "0.001\n",
      "\t  1.8 | 010 |   0.42% |  50.96%\n",
      "\t  3.7 | 020 |   2.53% |  52.14%\n",
      "\t  5.4 | 030 |   3.58% |  52.48%\n",
      "\t  6.8 | 040 |   3.17% |  52.07%\n",
      "\t  8.5 | 050 |   3.83% |  52.49%\n",
      "\t 10.2 | 060 |   4.03% |  52.33%\n",
      "\t 12.0 | 070 |   4.88% |  52.70%\n",
      "0.01\n",
      "\t  1.7 | 010 |   0.68% |  51.13%\n",
      "\t  3.2 | 020 |   2.39% |  51.97%\n",
      "\t  4.8 | 030 |   3.64% |  52.41%\n",
      "\t  6.6 | 040 |   3.12% |  51.94%\n",
      "\t  8.3 | 050 |   3.92% |  52.46%\n",
      "\t 10.3 | 060 |   4.16% |  52.30%\n",
      "\t 12.4 | 070 |   4.91% |  52.64%\n",
      "0.1\n",
      "\t  2.1 | 010 |   0.65% |  51.11%\n",
      "\t  4.0 | 020 |   2.17% |  51.80%\n",
      "\t  5.8 | 030 |   3.49% |  52.28%\n",
      "\t  7.7 | 040 |   2.94% |  51.80%\n",
      "\t  9.5 | 050 |   3.74% |  52.31%\n",
      "\t 11.4 | 060 |   3.93% |  52.15%\n",
      "\t 13.1 | 070 |   4.59% |  52.46%\n",
      "1.0\n",
      "\t  2.0 | 010 |   0.60% |  51.07%\n",
      "\t  4.1 | 020 |   2.13% |  51.77%\n",
      "\t  6.1 | 030 |   3.45% |  52.26%\n",
      "\t  7.9 | 040 |   2.90% |  51.77%\n",
      "\t  9.8 | 050 |   3.68% |  52.28%\n",
      "\t 11.6 | 060 |   3.86% |  52.11%\n",
      "\t 13.3 | 070 |   4.50% |  52.41%\n",
      "10.0\n",
      "\t  1.7 | 010 |   0.59% |  51.07%\n",
      "\t  3.5 | 020 |   2.12% |  51.76%\n",
      "\t  5.3 | 030 |   3.45% |  52.25%\n",
      "\t  6.8 | 040 |   2.89% |  51.77%\n",
      "\t  8.6 | 050 |   3.67% |  52.27%\n",
      "\t 10.4 | 060 |   3.85% |  52.11%\n",
      "\t 12.2 | 070 |   4.49% |  52.41%\n",
      "100.0\n",
      "\t  1.8 | 010 |   0.59% |  51.07%\n",
      "\t  3.4 | 020 |   2.11% |  51.76%\n",
      "\t  5.0 | 030 |   3.45% |  52.25%\n",
      "\t  6.8 | 040 |   2.89% |  51.77%\n",
      "\t  8.7 | 050 |   3.67% |  52.27%\n",
      "\t 10.4 | 060 |   3.85% |  52.11%\n",
      "\t 11.9 | 070 |   4.49% |  52.41%\n",
      "1000.0\n",
      "\t  1.4 | 010 |   0.59% |  51.07%\n",
      "\t  2.8 | 020 |   2.11% |  51.76%\n",
      "\t  4.3 | 030 |   3.44% |  52.25%\n",
      "\t  5.7 | 040 |   2.89% |  51.77%\n",
      "\t  7.1 | 050 |   3.67% |  52.27%\n",
      "\t  8.5 | 060 |   3.85% |  52.11%\n",
      "\t  9.9 | 070 |   4.49% |  52.41%\n",
      "10000.0\n",
      "\t  1.4 | 010 |   0.59% |  51.07%\n",
      "\t  2.8 | 020 |   2.11% |  51.76%\n",
      "\t  4.3 | 030 |   3.45% |  52.25%\n",
      "\t  5.8 | 040 |   2.89% |  51.77%\n",
      "\t  7.2 | 050 |   3.67% |  52.27%\n",
      "\t  8.7 | 060 |   3.85% |  52.11%\n",
      "\t 10.1 | 070 |   4.49% |  52.41%\n",
      "100000.0\n",
      "\t  1.4 | 010 |   0.59% |  51.07%\n",
      "\t  2.8 | 020 |   2.11% |  51.76%\n",
      "\t  4.2 | 030 |   3.45% |  52.25%\n",
      "\t  5.6 | 040 |   2.89% |  51.77%\n",
      "\t  7.0 | 050 |   3.67% |  52.27%\n",
      "\t  8.5 | 060 |   3.85% |  52.11%\n",
      "\t  9.8 | 070 |   4.49% |  52.41%\n",
      "CPU times: user 1min 34s, sys: 1.21 s, total: 1min 35s\n",
      "Wall time: 2min 18s\n"
     ]
    }
   ],
   "source": [
    "%%time\n",
    "log_coeffs, log_scores, log_predictions = {}, [], []\n",
    "for C in Cs:\n",
    "    print(C)\n",
    "    model = LogisticRegression(C=C,\n",
    "                               fit_intercept=True,\n",
    "                               random_state=42,\n",
    "                               n_jobs=-1)\n",
    "\n",
    "    pipe = Pipeline([\n",
    "        ('scaler', StandardScaler()),\n",
    "        ('model', model)])\n",
    "    ics = aucs = 0\n",
    "    start = time()\n",
    "    coeffs = []\n",
    "    for i, (train_idx, test_idx) in enumerate(cv.split(X), 1):\n",
    "        X_train, y_train, = X.iloc[train_idx], y.label.iloc[train_idx]\n",
    "        pipe.fit(X=X_train, y=y_train)\n",
    "        X_test, y_test = X.iloc[test_idx], y.label.iloc[test_idx]\n",
    "        actuals = y[target].iloc[test_idx]\n",
    "        if len(y_test) < 10 or len(np.unique(y_test)) < 2:\n",
    "            continue\n",
    "        y_score = pipe.predict_proba(X_test)[:, 1]\n",
    "       \n",
    "        auc = roc_auc_score(y_score=y_score, y_true=y_test)\n",
    "        actuals = y[target].iloc[test_idx]\n",
    "        ic, pval = spearmanr(y_score, actuals)\n",
    "\n",
    "        log_predictions.append(y_test.to_frame('labels').assign(\n",
    "            predicted=y_score, C=C, actuals=actuals))\n",
    "        date = y_test.index.get_level_values('date').min()\n",
    "        log_scores.append([C, date, auc, ic * 100, pval])\n",
    "        coeffs.append(pipe.named_steps['model'].coef_)\n",
    "        ics += ic\n",
    "        aucs += auc\n",
    "        if i % 10 == 0:\n",
    "            print(f'\\t{time()-start:5.1f} | {i:03} | {ics/i:>7.2%} | {aucs/i:>7.2%}')\n",
    "\n",
    "    log_coeffs[C] = np.mean(coeffs, axis=0).squeeze()"
   ]
  },
  {
   "cell_type": "markdown",
   "metadata": {},
   "source": [
    "### Evaluate Results"
   ]
  },
  {
   "cell_type": "code",
   "execution_count": 15,
   "metadata": {
    "ExecuteTime": {
     "end_time": "2021-04-15T20:19:33.956450Z",
     "start_time": "2021-04-15T20:19:33.667672Z"
    }
   },
   "outputs": [],
   "source": [
    "log_scores = pd.DataFrame(log_scores, columns=cols)\n",
    "log_scores.to_hdf('data.h5', 'logistic/scores')\n",
    "\n",
    "log_coeffs = pd.DataFrame(log_coeffs, index=X.columns).T\n",
    "log_coeffs.to_hdf('data.h5', 'logistic/coeffs')\n",
    "\n",
    "log_predictions = pd.concat(log_predictions)\n",
    "log_predictions.to_hdf('data.h5', 'logistic/predictions')"
   ]
  },
  {
   "cell_type": "code",
   "execution_count": 16,
   "metadata": {
    "ExecuteTime": {
     "end_time": "2021-04-15T20:19:33.965130Z",
     "start_time": "2021-04-15T20:19:33.957366Z"
    }
   },
   "outputs": [],
   "source": [
    "log_scores = pd.read_hdf('data.h5', 'logistic/scores')"
   ]
  },
  {
   "cell_type": "code",
   "execution_count": 17,
   "metadata": {
    "ExecuteTime": {
     "end_time": "2021-04-15T20:19:33.977971Z",
     "start_time": "2021-04-15T20:19:33.966220Z"
    }
   },
   "outputs": [
    {
     "name": "stdout",
     "output_type": "stream",
     "text": [
      "<class 'pandas.core.frame.DataFrame'>\n",
      "Int64Index: 825 entries, 0 to 824\n",
      "Data columns (total 5 columns):\n",
      " #   Column  Non-Null Count  Dtype         \n",
      "---  ------  --------------  -----         \n",
      " 0   C       825 non-null    float64       \n",
      " 1   date    825 non-null    datetime64[ns]\n",
      " 2   auc     825 non-null    float64       \n",
      " 3   ic      825 non-null    float64       \n",
      " 4   pval    825 non-null    float64       \n",
      "dtypes: datetime64[ns](1), float64(4)\n",
      "memory usage: 38.7 KB\n"
     ]
    }
   ],
   "source": [
    "log_scores.info()"
   ]
  },
  {
   "cell_type": "code",
   "execution_count": 18,
   "metadata": {
    "ExecuteTime": {
     "end_time": "2021-04-15T20:19:34.020011Z",
     "start_time": "2021-04-15T20:19:33.979814Z"
    }
   },
   "outputs": [
    {
     "data": {
      "text/html": [
       "<div>\n",
       "<style scoped>\n",
       "    .dataframe tbody tr th:only-of-type {\n",
       "        vertical-align: middle;\n",
       "    }\n",
       "\n",
       "    .dataframe tbody tr th {\n",
       "        vertical-align: top;\n",
       "    }\n",
       "\n",
       "    .dataframe thead th {\n",
       "        text-align: right;\n",
       "    }\n",
       "</style>\n",
       "<table border=\"1\" class=\"dataframe\">\n",
       "  <thead>\n",
       "    <tr style=\"text-align: right;\">\n",
       "      <th></th>\n",
       "      <th>count</th>\n",
       "      <th>mean</th>\n",
       "      <th>std</th>\n",
       "      <th>min</th>\n",
       "      <th>25%</th>\n",
       "      <th>50%</th>\n",
       "      <th>75%</th>\n",
       "      <th>max</th>\n",
       "    </tr>\n",
       "    <tr>\n",
       "      <th>C</th>\n",
       "      <th></th>\n",
       "      <th></th>\n",
       "      <th></th>\n",
       "      <th></th>\n",
       "      <th></th>\n",
       "      <th></th>\n",
       "      <th></th>\n",
       "      <th></th>\n",
       "    </tr>\n",
       "  </thead>\n",
       "  <tbody>\n",
       "    <tr>\n",
       "      <th>0.00001</th>\n",
       "      <td>75.0</td>\n",
       "      <td>0.524316</td>\n",
       "      <td>0.036131</td>\n",
       "      <td>0.432491</td>\n",
       "      <td>0.499719</td>\n",
       "      <td>0.519363</td>\n",
       "      <td>0.546030</td>\n",
       "      <td>0.625816</td>\n",
       "    </tr>\n",
       "    <tr>\n",
       "      <th>0.00010</th>\n",
       "      <td>75.0</td>\n",
       "      <td>0.525045</td>\n",
       "      <td>0.035658</td>\n",
       "      <td>0.442738</td>\n",
       "      <td>0.501438</td>\n",
       "      <td>0.520094</td>\n",
       "      <td>0.546003</td>\n",
       "      <td>0.635535</td>\n",
       "    </tr>\n",
       "    <tr>\n",
       "      <th>0.00100</th>\n",
       "      <td>75.0</td>\n",
       "      <td>0.525448</td>\n",
       "      <td>0.036371</td>\n",
       "      <td>0.438676</td>\n",
       "      <td>0.500371</td>\n",
       "      <td>0.520211</td>\n",
       "      <td>0.545218</td>\n",
       "      <td>0.641011</td>\n",
       "    </tr>\n",
       "    <tr>\n",
       "      <th>0.01000</th>\n",
       "      <td>75.0</td>\n",
       "      <td>0.525076</td>\n",
       "      <td>0.036905</td>\n",
       "      <td>0.435870</td>\n",
       "      <td>0.500481</td>\n",
       "      <td>0.522237</td>\n",
       "      <td>0.550842</td>\n",
       "      <td>0.641632</td>\n",
       "    </tr>\n",
       "    <tr>\n",
       "      <th>0.10000</th>\n",
       "      <td>75.0</td>\n",
       "      <td>0.523552</td>\n",
       "      <td>0.036496</td>\n",
       "      <td>0.427256</td>\n",
       "      <td>0.499836</td>\n",
       "      <td>0.523206</td>\n",
       "      <td>0.549261</td>\n",
       "      <td>0.621749</td>\n",
       "    </tr>\n",
       "    <tr>\n",
       "      <th>1.00000</th>\n",
       "      <td>75.0</td>\n",
       "      <td>0.523159</td>\n",
       "      <td>0.036445</td>\n",
       "      <td>0.424981</td>\n",
       "      <td>0.498530</td>\n",
       "      <td>0.521782</td>\n",
       "      <td>0.549033</td>\n",
       "      <td>0.616444</td>\n",
       "    </tr>\n",
       "    <tr>\n",
       "      <th>10.00000</th>\n",
       "      <td>75.0</td>\n",
       "      <td>0.523109</td>\n",
       "      <td>0.036423</td>\n",
       "      <td>0.424850</td>\n",
       "      <td>0.498587</td>\n",
       "      <td>0.521569</td>\n",
       "      <td>0.548962</td>\n",
       "      <td>0.615767</td>\n",
       "    </tr>\n",
       "    <tr>\n",
       "      <th>100.00000</th>\n",
       "      <td>75.0</td>\n",
       "      <td>0.523104</td>\n",
       "      <td>0.036422</td>\n",
       "      <td>0.424826</td>\n",
       "      <td>0.498593</td>\n",
       "      <td>0.521573</td>\n",
       "      <td>0.548949</td>\n",
       "      <td>0.615716</td>\n",
       "    </tr>\n",
       "    <tr>\n",
       "      <th>1000.00000</th>\n",
       "      <td>75.0</td>\n",
       "      <td>0.523102</td>\n",
       "      <td>0.036423</td>\n",
       "      <td>0.424812</td>\n",
       "      <td>0.498597</td>\n",
       "      <td>0.521582</td>\n",
       "      <td>0.548951</td>\n",
       "      <td>0.615728</td>\n",
       "    </tr>\n",
       "    <tr>\n",
       "      <th>10000.00000</th>\n",
       "      <td>75.0</td>\n",
       "      <td>0.523102</td>\n",
       "      <td>0.036423</td>\n",
       "      <td>0.424812</td>\n",
       "      <td>0.498595</td>\n",
       "      <td>0.521582</td>\n",
       "      <td>0.548953</td>\n",
       "      <td>0.615728</td>\n",
       "    </tr>\n",
       "    <tr>\n",
       "      <th>100000.00000</th>\n",
       "      <td>75.0</td>\n",
       "      <td>0.523102</td>\n",
       "      <td>0.036423</td>\n",
       "      <td>0.424812</td>\n",
       "      <td>0.498595</td>\n",
       "      <td>0.521582</td>\n",
       "      <td>0.548953</td>\n",
       "      <td>0.615728</td>\n",
       "    </tr>\n",
       "  </tbody>\n",
       "</table>\n",
       "</div>"
      ],
      "text/plain": [
       "              count      mean       std       min       25%       50%  \\\n",
       "C                                                                       \n",
       "0.00001        75.0  0.524316  0.036131  0.432491  0.499719  0.519363   \n",
       "0.00010        75.0  0.525045  0.035658  0.442738  0.501438  0.520094   \n",
       "0.00100        75.0  0.525448  0.036371  0.438676  0.500371  0.520211   \n",
       "0.01000        75.0  0.525076  0.036905  0.435870  0.500481  0.522237   \n",
       "0.10000        75.0  0.523552  0.036496  0.427256  0.499836  0.523206   \n",
       "1.00000        75.0  0.523159  0.036445  0.424981  0.498530  0.521782   \n",
       "10.00000       75.0  0.523109  0.036423  0.424850  0.498587  0.521569   \n",
       "100.00000      75.0  0.523104  0.036422  0.424826  0.498593  0.521573   \n",
       "1000.00000     75.0  0.523102  0.036423  0.424812  0.498597  0.521582   \n",
       "10000.00000    75.0  0.523102  0.036423  0.424812  0.498595  0.521582   \n",
       "100000.00000   75.0  0.523102  0.036423  0.424812  0.498595  0.521582   \n",
       "\n",
       "                   75%       max  \n",
       "C                                 \n",
       "0.00001       0.546030  0.625816  \n",
       "0.00010       0.546003  0.635535  \n",
       "0.00100       0.545218  0.641011  \n",
       "0.01000       0.550842  0.641632  \n",
       "0.10000       0.549261  0.621749  \n",
       "1.00000       0.549033  0.616444  \n",
       "10.00000      0.548962  0.615767  \n",
       "100.00000     0.548949  0.615716  \n",
       "1000.00000    0.548951  0.615728  \n",
       "10000.00000   0.548953  0.615728  \n",
       "100000.00000  0.548953  0.615728  "
      ]
     },
     "execution_count": 18,
     "metadata": {},
     "output_type": "execute_result"
    }
   ],
   "source": [
    "log_scores.groupby('C').auc.describe()"
   ]
  },
  {
   "cell_type": "markdown",
   "metadata": {},
   "source": [
    "### Plot Validation Scores"
   ]
  },
  {
   "cell_type": "code",
   "execution_count": 19,
   "metadata": {
    "ExecuteTime": {
     "end_time": "2021-04-15T20:19:34.023860Z",
     "start_time": "2021-04-15T20:19:34.020958Z"
    }
   },
   "outputs": [],
   "source": [
    "def plot_ic_distribution(df, ax=None):\n",
    "    if ax is not None:\n",
    "        sns.distplot(df.ic, ax=ax)    \n",
    "    else:\n",
    "        ax = sns.distplot(df.ic)\n",
    "    mean, median = df.ic.mean(), df.ic.median()\n",
    "    ax.axvline(0, lw=1, ls='--', c='k')\n",
    "    ax.text(x=.05, y=.9, s=f'Mean: {mean:8.2f}\\nMedian: {median:5.2f}',\n",
    "            horizontalalignment='left',\n",
    "            verticalalignment='center',\n",
    "            transform=ax.transAxes)\n",
    "    ax.set_xlabel('Information Coefficient')\n",
    "    sns.despine()\n",
    "    plt.tight_layout()"
   ]
  },
  {
   "cell_type": "code",
   "execution_count": 20,
   "metadata": {
    "ExecuteTime": {
     "end_time": "2021-04-15T20:19:34.625209Z",
     "start_time": "2021-04-15T20:19:34.025174Z"
    }
   },
   "outputs": [
    {
     "data": {
      "image/png": "[encoded data removed]",
      "text/plain": [
       "<Figure size 1080x360 with 2 Axes>"
      ]
     },
     "metadata": {},
     "output_type": "display_data"
    }
   ],
   "source": [
    "fig, axes= plt.subplots(ncols=2, figsize=(15, 5))\n",
    "\n",
    "sns.lineplot(x='C', y='auc', data=log_scores, estimator=np.mean, label='Mean', ax=axes[0])\n",
    "by_alpha = log_scores.groupby('C').auc.agg(['mean', 'median'])\n",
    "best_auc = by_alpha['mean'].idxmax()\n",
    "by_alpha['median'].plot(logx=True, ax=axes[0], label='Median', xlim=(10e-6, 10e5))\n",
    "axes[0].axvline(best_auc, ls='--', c='k', lw=1, label='Max. Mean')\n",
    "axes[0].axvline(by_alpha['median'].idxmax(), ls='-.', c='k', lw=1, label='Max. Median')\n",
    "axes[0].legend()\n",
    "axes[0].set_ylabel('AUC')\n",
    "axes[0].set_xscale('log')\n",
    "axes[0].set_title('Area Under the Curve')\n",
    "\n",
    "plot_ic_distribution(log_scores[log_scores.C==best_auc], ax=axes[1])\n",
    "axes[1].set_title('Information Coefficient')\n",
    "\n",
    "fig.suptitle('Logistic Regression', fontsize=14)\n",
    "sns.despine()\n",
    "fig.tight_layout()\n",
    "fig.subplots_adjust(top=.9);"
   ]
  }
 ],
 "metadata": {
  "kernelspec": {
   "display_name": "Python 3",
   "language": "python",
   "name": "python3"
  },
  "language_info": {
   "codemirror_mode": {
    "name": "ipython",
    "version": 3
   },
   "file_extension": ".py",
   "mimetype": "text/x-python",
   "name": "python",
   "nbconvert_exporter": "python",
   "pygments_lexer": "ipython3",
   "version": "3.8.8"
  },
  "toc": {
   "base_numbering": 1,
   "nav_menu": {},
   "number_sections": true,
   "sideBar": true,
   "skip_h1_title": true,
   "title_cell": "Table of Contents",
   "title_sidebar": "Contents",
   "toc_cell": false,
   "toc_position": {},
   "toc_section_display": true,
   "toc_window_display": true
  }
 },
 "nbformat": 4,
 "nbformat_minor": 2
}
