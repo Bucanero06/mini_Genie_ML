{
 "cells": [
  {
   "cell_type": "markdown",
   "metadata": {},
   "source": [
    "# Statistical arbitrage with Cointegration"
   ]
  },
  {
   "cell_type": "markdown",
   "metadata": {},
   "source": [
    "## Pairs Trading & Statistical Arbitrage\n",
    "\n",
    "Statistical arbitrage refers to strategies that employ some statistical model or method to take\n",
    "advantage of what appears to be relative mispricing of assets, while maintaining a level of\n",
    "market neutrality.\n",
    "\n",
    "Pairs trading is a conceptually straightforward strategy that has been employed by algorithmic traders since at least the mid-eighties ([Gatev, Goetzmann, and Rouwenhorst 2006](http://www-stat.wharton.upenn.edu/~steele/Courses/434/434Context/PairsTrading/PairsTradingGGR.pdf)). The goal is to find two assets whose prices have historically moved together, track the spread (the difference between their prices), and, once the spread widens, buy the\n",
    "loser that has dropped below the common trend and short the winner. If the relationship persists, the long and/or the short leg will deliver profits as prices converge and the positions are closed.\n",
    "\n",
    "This approach extends to a multivariate context by forming baskets from multiple securities and trading one asset against a basket of two baskets against each other.\n",
    "\n",
    "## Pairs Trading in Practice\n",
    "\n",
    "In practice, the strategy requires two steps:\n",
    "\n",
    "1. **Formation phase**: Identify securities that have a long-term mean-reverting relationship. Ideally, the spread should have a high variance to allow for frequent profitable trades while reliably reverting to the common trend.\n",
    "2. **Trading phase**: Trigger entry and exit trading rules as price movements cause thespread to diverge and converge.\n",
    "\n",
    "Several approaches to the formation and trading phases have emerged from increasingly active research in this area, across multiple asset classes, over the last several years. The book outlines the key differences between them; the notebook dives into an example application."
   ]
  },
  {
   "cell_type": "markdown",
   "metadata": {},
   "source": [
    "## Imports & Settings"
   ]
  },
  {
   "cell_type": "code",
   "execution_count": 1,
   "metadata": {
    "ExecuteTime": {
     "end_time": "2020-06-19T02:42:47.349889Z",
     "start_time": "2020-06-19T02:42:47.347632Z"
    }
   },
   "outputs": [],
   "source": [
    "import warnings\n",
    "warnings.filterwarnings('ignore')"
   ]
  },
  {
   "cell_type": "code",
   "execution_count": 2,
   "metadata": {
    "ExecuteTime": {
     "end_time": "2020-06-19T02:42:47.908593Z",
     "start_time": "2020-06-19T02:42:47.351191Z"
    }
   },
   "outputs": [],
   "source": [
    "from collections import Counter\n",
    "\n",
    "from time import time\n",
    "from pathlib import Path\n",
    "\n",
    "import numpy as np\n",
    "import pandas as pd\n",
    "\n",
    "from pykalman import KalmanFilter\n",
    "from statsmodels.tsa.stattools import coint\n",
    "from statsmodels.tsa.vector_ar.vecm import coint_johansen\n",
    "from statsmodels.tsa.api import VAR\n",
    "\n",
    "import matplotlib.pyplot as plt\n",
    "import seaborn as sns"
   ]
  },
  {
   "cell_type": "code",
   "execution_count": 3,
   "metadata": {
    "ExecuteTime": {
     "end_time": "2020-06-19T02:42:47.912091Z",
     "start_time": "2020-06-19T02:42:47.909755Z"
    }
   },
   "outputs": [],
   "source": [
    "idx = pd.IndexSlice\n",
    "sns.set_style('whitegrid')"
   ]
  },
  {
   "cell_type": "code",
   "execution_count": 5,
   "metadata": {
    "ExecuteTime": {
     "end_time": "2020-06-19T02:42:47.933578Z",
     "start_time": "2020-06-19T02:42:47.927007Z"
    }
   },
   "outputs": [],
   "source": [
    "def format_time(t):\n",
    "    m_, s = divmod(t, 60)\n",
    "    h, m = divmod(m_, 60)\n",
    "    return f'{h:>02.0f}:{m:>02.0f}:{s:>02.0f}'"
   ]
  },
  {
   "cell_type": "markdown",
   "metadata": {},
   "source": [
    "### Johansen Test Critical Values"
   ]
  },
  {
   "cell_type": "code",
   "execution_count": 6,
   "metadata": {
    "ExecuteTime": {
     "end_time": "2020-06-19T02:42:47.943279Z",
     "start_time": "2020-06-19T02:42:47.934611Z"
    }
   },
   "outputs": [],
   "source": [
    "critical_values = {0: {.9: 13.4294, .95: 15.4943, .99: 19.9349},\n",
    "                   1: {.9: 2.7055, .95: 3.8415, .99: 6.6349}}"
   ]
  },
  {
   "cell_type": "code",
   "execution_count": 7,
   "metadata": {
    "ExecuteTime": {
     "end_time": "2020-06-19T02:42:47.951303Z",
     "start_time": "2020-06-19T02:42:47.944195Z"
    }
   },
   "outputs": [],
   "source": [
    "trace0_cv = critical_values[0][.95] # critical value for 0 cointegration relationships\n",
    "trace1_cv = critical_values[1][.95] # critical value for 1 cointegration relationship"
   ]
  },
  {
   "cell_type": "markdown",
   "metadata": {},
   "source": [
    "## Load Data"
   ]
  },
  {
   "cell_type": "code",
   "execution_count": 39,
   "metadata": {
    "ExecuteTime": {
     "end_time": "2020-06-19T13:03:36.116641Z",
     "start_time": "2020-06-19T13:03:36.109897Z"
    }
   },
   "outputs": [],
   "source": [
    "DATA_PATH = Path('..', 'data') \n",
    "STORE = DATA_PATH / 'assets.h5'"
   ]
  },
  {
   "cell_type": "markdown",
   "metadata": {},
   "source": [
    "### Get backtest prices"
   ]
  },
  {
   "cell_type": "markdown",
   "metadata": {},
   "source": [
    "Combine OHLCV prices for relevant stock and ETF tickers."
   ]
  },
  {
   "cell_type": "code",
   "execution_count": 57,
   "metadata": {
    "ExecuteTime": {
     "end_time": "2020-06-19T13:09:37.773341Z",
     "start_time": "2020-06-19T13:09:37.761245Z"
    }
   },
   "outputs": [],
   "source": [
    "def get_backtest_prices():\n",
    "    with pd.HDFStore('data.h5') as store:\n",
    "        tickers = store['tickers']\n",
    "\n",
    "    with pd.HDFStore(STORE) as store:\n",
    "        prices = (pd.concat([\n",
    "            store['stooq/us/nyse/stocks/prices'],\n",
    "            store['stooq/us/nyse/etfs/prices'],\n",
    "            store['stooq/us/nasdaq/etfs/prices'],\n",
    "            store['stooq/us/nasdaq/stocks/prices']])\n",
    "                  .sort_index()\n",
    "                  .loc[idx[tickers.index, '2016':'2019'], :])\n",
    "    print(prices.info(null_counts=True))\n",
    "    prices.to_hdf('backtest.h5', 'prices')\n",
    "    tickers.to_hdf('backtest.h5', 'tickers')"
   ]
  },
  {
   "cell_type": "code",
   "execution_count": 58,
   "metadata": {
    "ExecuteTime": {
     "end_time": "2020-06-19T13:10:04.571934Z",
     "start_time": "2020-06-19T13:09:38.060713Z"
    }
   },
   "outputs": [
    {
     "name": "stdout",
     "output_type": "stream",
     "text": [
      "<class 'pandas.core.frame.DataFrame'>\n",
      "MultiIndex: 312863 entries, ('AA.US', Timestamp('2016-01-04 00:00:00')) to ('YUM.US', Timestamp('2019-12-31 00:00:00'))\n",
      "Data columns (total 5 columns):\n",
      " #   Column  Non-Null Count   Dtype  \n",
      "---  ------  --------------   -----  \n",
      " 0   open    312863 non-null  float64\n",
      " 1   high    312863 non-null  float64\n",
      " 2   low     312863 non-null  float64\n",
      " 3   close   312863 non-null  float64\n",
      " 4   volume  312863 non-null  int64  \n",
      "dtypes: float64(4), int64(1)\n",
      "memory usage: 13.2+ MB\n",
      "None\n"
     ]
    }
   ],
   "source": [
    "get_backtest_prices()"
   ]
  },
  {
   "cell_type": "markdown",
   "metadata": {},
   "source": [
    "### Load Stock Prices"
   ]
  },
  {
   "cell_type": "code",
   "execution_count": 11,
   "metadata": {
    "ExecuteTime": {
     "end_time": "2020-06-19T02:42:48.043300Z",
     "start_time": "2020-06-19T02:42:47.984127Z"
    }
   },
   "outputs": [
    {
     "name": "stdout",
     "output_type": "stream",
     "text": [
      "<class 'pandas.core.frame.DataFrame'>\n",
      "DatetimeIndex: 1258 entries, 2015-01-02 to 2019-12-31\n",
      "Columns: 172 entries, AA.US to YUM.US\n",
      "dtypes: float64(172)\n",
      "memory usage: 1.7 MB\n"
     ]
    }
   ],
   "source": [
    "# see notebook 05_cointagration_tests\n",
    "stocks = pd.read_hdf('data.h5', 'stocks/close').loc['2015':]\n",
    "stocks.info()"
   ]
  },
  {
   "cell_type": "markdown",
   "metadata": {},
   "source": [
    "### Load ETF Data"
   ]
  },
  {
   "cell_type": "code",
   "execution_count": 12,
   "metadata": {
    "ExecuteTime": {
     "end_time": "2020-06-19T02:42:48.064535Z",
     "start_time": "2020-06-19T02:42:48.044660Z"
    }
   },
   "outputs": [
    {
     "name": "stdout",
     "output_type": "stream",
     "text": [
      "<class 'pandas.core.frame.DataFrame'>\n",
      "DatetimeIndex: 1258 entries, 2015-01-02 to 2019-12-31\n",
      "Columns: 139 entries, AAXJ.US to YCS.US\n",
      "dtypes: float64(139)\n",
      "memory usage: 1.3 MB\n"
     ]
    }
   ],
   "source": [
    "# see notebook 05_cointagration_tests\n",
    "etfs = pd.read_hdf('data.h5', 'etfs/close').loc['2015':]\n",
    "etfs.info()"
   ]
  },
  {
   "cell_type": "markdown",
   "metadata": {},
   "source": [
    "### Load Ticker Dictionary"
   ]
  },
  {
   "cell_type": "code",
   "execution_count": 13,
   "metadata": {
    "ExecuteTime": {
     "end_time": "2020-06-19T02:42:48.072961Z",
     "start_time": "2020-06-19T02:42:48.066585Z"
    }
   },
   "outputs": [],
   "source": [
    "names = pd.read_hdf('data.h5', 'tickers').to_dict()"
   ]
  },
  {
   "cell_type": "code",
   "execution_count": 14,
   "metadata": {
    "ExecuteTime": {
     "end_time": "2020-06-19T02:42:48.083843Z",
     "start_time": "2020-06-19T02:42:48.074540Z"
    }
   },
   "outputs": [
    {
     "data": {
      "text/plain": [
       "311"
      ]
     },
     "execution_count": 14,
     "metadata": {},
     "output_type": "execute_result"
    }
   ],
   "source": [
    "pd.Series(names).count()"
   ]
  },
  {
   "cell_type": "markdown",
   "metadata": {},
   "source": [
    "## Precompute Cointegration"
   ]
  },
  {
   "cell_type": "code",
   "execution_count": 15,
   "metadata": {
    "ExecuteTime": {
     "end_time": "2020-06-19T02:42:48.095421Z",
     "start_time": "2020-06-19T02:42:48.085219Z"
    }
   },
   "outputs": [],
   "source": [
    "def test_cointegration(etfs, stocks, test_end, lookback=2):\n",
    "    start = time()\n",
    "    results = []\n",
    "    test_start = test_end - pd.DateOffset(years=lookback) + pd.DateOffset(days=1)\n",
    "    etf_tickers = etfs.columns.tolist()\n",
    "    etf_data = etfs.loc[str(test_start):str(test_end)]\n",
    "\n",
    "    stock_tickers = stocks.columns.tolist()\n",
    "    stock_data = stocks.loc[str(test_start):str(test_end)]\n",
    "    n = len(etf_tickers) * len(stock_tickers)\n",
    "    j = 0\n",
    "    for i, s1 in enumerate(etf_tickers, 1):\n",
    "        for s2 in stock_tickers:\n",
    "            j += 1\n",
    "            if j % 1000 == 0:\n",
    "                print(f'\\t{j:5,.0f} ({j/n:3.1%}) | {time() - start:.2f}')\n",
    "            df = etf_data.loc[:, [s1]].dropna().join(stock_data.loc[:, [s2]].dropna(), how='inner')\n",
    "            with warnings.catch_warnings():\n",
    "                warnings.simplefilter('ignore')\n",
    "                var = VAR(df)\n",
    "                lags = var.select_order()\n",
    "                result = [test_end, s1, s2]\n",
    "                order = lags.selected_orders['aic']\n",
    "                result += [coint(df[s1], df[s2], trend='c')[1], coint(df[s2], df[s1], trend='c')[1]]\n",
    "\n",
    "            cj = coint_johansen(df, det_order=0, k_ar_diff=order)\n",
    "            result += (list(cj.lr1) + list(cj.lr2) + list(cj.evec[:, cj.ind[0]]))\n",
    "            results.append(result)\n",
    "    return results"
   ]
  },
  {
   "cell_type": "markdown",
   "metadata": {},
   "source": [
    "### Define Test Periods"
   ]
  },
  {
   "cell_type": "code",
   "execution_count": 16,
   "metadata": {
    "ExecuteTime": {
     "end_time": "2020-06-19T02:42:48.110785Z",
     "start_time": "2020-06-19T02:42:48.096915Z"
    }
   },
   "outputs": [
    {
     "data": {
      "text/plain": [
       "DatetimeIndex(['2016-12-31', '2017-03-31', '2017-06-30', '2017-09-30',\n",
       "               '2017-12-31', '2018-03-31', '2018-06-30', '2018-09-30',\n",
       "               '2018-12-31', '2019-03-31', '2019-06-30'],\n",
       "              dtype='datetime64[ns]', name='date', freq='Q-DEC')"
      ]
     },
     "execution_count": 16,
     "metadata": {},
     "output_type": "execute_result"
    }
   ],
   "source": [
    "dates = stocks.loc['2016-12':'2019-6'].resample('Q').last().index\n",
    "dates"
   ]
  },
  {
   "cell_type": "markdown",
   "metadata": {},
   "source": [
    "### Run Tests"
   ]
  },
  {
   "cell_type": "code",
   "execution_count": 17,
   "metadata": {
    "ExecuteTime": {
     "end_time": "2020-06-19T06:01:29.759471Z",
     "start_time": "2020-06-19T02:42:48.111942Z"
    },
    "scrolled": false
   },
   "outputs": [
    {
     "name": "stdout",
     "output_type": "stream",
     "text": [
      "2016-12-31 00:00:00\n",
      "\t1,000 (4.2%) | 54.32\n",
      "\t2,000 (8.4%) | 105.25\n",
      "\t3,000 (12.5%) | 156.85\n",
      "\t4,000 (16.7%) | 208.33\n",
      "\t5,000 (20.9%) | 259.67\n",
      "\t6,000 (25.1%) | 310.20\n",
      "\t7,000 (29.3%) | 361.73\n",
      "\t8,000 (33.5%) | 415.96\n",
      "\t9,000 (37.6%) | 467.39\n",
      "\t10,000 (41.8%) | 519.14\n",
      "\t11,000 (46.0%) | 571.14\n",
      "\t12,000 (50.2%) | 623.57\n",
      "\t13,000 (54.4%) | 679.03\n",
      "\t14,000 (58.6%) | 731.01\n",
      "\t15,000 (62.7%) | 786.51\n",
      "\t16,000 (66.9%) | 838.69\n",
      "\t17,000 (71.1%) | 891.46\n",
      "\t18,000 (75.3%) | 947.83\n",
      "\t19,000 (79.5%) | 999.86\n",
      "\t20,000 (83.7%) | 1051.32\n",
      "\t21,000 (87.8%) | 1102.79\n",
      "\t22,000 (92.0%) | 1155.83\n",
      "\t23,000 (96.2%) | 1210.67\n",
      "2017-03-31 00:00:00\n",
      "\t1,000 (4.2%) | 51.45\n",
      "\t2,000 (8.4%) | 103.60\n",
      "\t3,000 (12.5%) | 154.91\n",
      "\t4,000 (16.7%) | 207.16\n",
      "\t5,000 (20.9%) | 259.57\n",
      "\t6,000 (25.1%) | 313.52\n",
      "\t7,000 (29.3%) | 367.18\n",
      "\t8,000 (33.5%) | 419.41\n",
      "\t9,000 (37.6%) | 472.77\n",
      "\t10,000 (41.8%) | 524.24\n",
      "\t11,000 (46.0%) | 576.73\n",
      "\t12,000 (50.2%) | 628.75\n",
      "\t13,000 (54.4%) | 680.14\n",
      "\t14,000 (58.6%) | 732.15\n",
      "\t15,000 (62.7%) | 788.75\n",
      "\t16,000 (66.9%) | 839.75\n",
      "\t17,000 (71.1%) | 891.21\n",
      "\t18,000 (75.3%) | 943.21\n",
      "\t19,000 (79.5%) | 994.23\n",
      "\t20,000 (83.7%) | 1045.09\n",
      "\t21,000 (87.8%) | 1099.81\n",
      "\t22,000 (92.0%) | 1152.24\n",
      "\t23,000 (96.2%) | 1204.35\n",
      "2017-06-30 00:00:00\n",
      "\t1,000 (4.2%) | 60.72\n",
      "\t2,000 (8.4%) | 112.32\n",
      "\t3,000 (12.5%) | 163.92\n",
      "\t4,000 (16.7%) | 216.93\n",
      "\t5,000 (20.9%) | 268.05\n",
      "\t6,000 (25.1%) | 319.51\n",
      "\t7,000 (29.3%) | 371.52\n",
      "\t8,000 (33.5%) | 421.85\n",
      "\t9,000 (37.6%) | 477.16\n",
      "\t10,000 (41.8%) | 527.80\n",
      "\t11,000 (46.0%) | 578.79\n",
      "\t12,000 (50.2%) | 634.85\n",
      "\t13,000 (54.4%) | 685.60\n",
      "\t14,000 (58.6%) | 742.40\n",
      "\t15,000 (62.7%) | 797.58\n",
      "\t16,000 (66.9%) | 852.54\n",
      "\t17,000 (71.1%) | 904.22\n",
      "\t18,000 (75.3%) | 954.77\n",
      "\t19,000 (79.5%) | 1006.83\n",
      "\t20,000 (83.7%) | 1057.93\n",
      "\t21,000 (87.8%) | 1114.17\n",
      "\t22,000 (92.0%) | 1165.59\n",
      "\t23,000 (96.2%) | 1217.66\n",
      "2017-09-30 00:00:00\n",
      "\t1,000 (4.2%) | 52.47\n",
      "\t2,000 (8.4%) | 104.40\n",
      "\t3,000 (12.5%) | 157.41\n",
      "\t4,000 (16.7%) | 208.44\n",
      "\t5,000 (20.9%) | 260.18\n",
      "\t6,000 (25.1%) | 313.08\n",
      "\t7,000 (29.3%) | 366.05\n",
      "\t8,000 (33.5%) | 418.07\n",
      "\t9,000 (37.6%) | 470.27\n",
      "\t10,000 (41.8%) | 522.26\n",
      "\t11,000 (46.0%) | 574.02\n",
      "\t12,000 (50.2%) | 625.88\n",
      "\t13,000 (54.4%) | 677.30\n",
      "\t14,000 (58.6%) | 729.59\n",
      "\t15,000 (62.7%) | 780.49\n",
      "\t16,000 (66.9%) | 836.47\n",
      "\t17,000 (71.1%) | 888.55\n",
      "\t18,000 (75.3%) | 940.25\n",
      "\t19,000 (79.5%) | 992.75\n",
      "\t20,000 (83.7%) | 1044.53\n",
      "\t21,000 (87.8%) | 1096.46\n",
      "\t22,000 (92.0%) | 1147.74\n",
      "\t23,000 (96.2%) | 1199.66\n",
      "2017-12-31 00:00:00\n",
      "\t1,000 (4.2%) | 52.34\n",
      "\t2,000 (8.4%) | 103.74\n",
      "\t3,000 (12.5%) | 155.49\n",
      "\t4,000 (16.7%) | 205.97\n",
      "\t5,000 (20.9%) | 247.07\n",
      "\t6,000 (25.1%) | 287.80\n",
      "\t7,000 (29.3%) | 328.58\n",
      "\t8,000 (33.5%) | 369.47\n",
      "\t9,000 (37.6%) | 410.48\n",
      "\t10,000 (41.8%) | 451.58\n",
      "\t11,000 (46.0%) | 492.52\n",
      "\t12,000 (50.2%) | 533.40\n",
      "\t13,000 (54.4%) | 574.31\n",
      "\t14,000 (58.6%) | 615.45\n",
      "\t15,000 (62.7%) | 656.33\n",
      "\t16,000 (66.9%) | 697.11\n",
      "\t17,000 (71.1%) | 737.81\n",
      "\t18,000 (75.3%) | 778.57\n",
      "\t19,000 (79.5%) | 819.32\n",
      "\t20,000 (83.7%) | 860.00\n",
      "\t21,000 (87.8%) | 901.04\n",
      "\t22,000 (92.0%) | 941.77\n",
      "\t23,000 (96.2%) | 982.65\n",
      "2018-03-31 00:00:00\n",
      "\t1,000 (4.2%) | 40.97\n",
      "\t2,000 (8.4%) | 81.99\n",
      "\t3,000 (12.5%) | 123.05\n",
      "\t4,000 (16.7%) | 164.06\n",
      "\t5,000 (20.9%) | 205.03\n",
      "\t6,000 (25.1%) | 246.91\n",
      "\t7,000 (29.3%) | 288.14\n",
      "\t8,000 (33.5%) | 329.00\n",
      "\t9,000 (37.6%) | 369.95\n",
      "\t10,000 (41.8%) | 411.02\n",
      "\t11,000 (46.0%) | 451.95\n",
      "\t12,000 (50.2%) | 493.00\n",
      "\t13,000 (54.4%) | 533.98\n",
      "\t14,000 (58.6%) | 574.80\n",
      "\t15,000 (62.7%) | 615.67\n",
      "\t16,000 (66.9%) | 656.63\n",
      "\t17,000 (71.1%) | 697.80\n",
      "\t18,000 (75.3%) | 738.80\n",
      "\t19,000 (79.5%) | 779.77\n",
      "\t20,000 (83.7%) | 820.54\n",
      "\t21,000 (87.8%) | 861.56\n",
      "\t22,000 (92.0%) | 902.40\n",
      "\t23,000 (96.2%) | 943.44\n",
      "2018-06-30 00:00:00\n",
      "\t1,000 (4.2%) | 40.92\n",
      "\t2,000 (8.4%) | 81.85\n",
      "\t3,000 (12.5%) | 122.98\n",
      "\t4,000 (16.7%) | 164.03\n",
      "\t5,000 (20.9%) | 205.11\n",
      "\t6,000 (25.1%) | 246.25\n",
      "\t7,000 (29.3%) | 287.36\n",
      "\t8,000 (33.5%) | 328.38\n",
      "\t9,000 (37.6%) | 369.17\n",
      "\t10,000 (41.8%) | 409.99\n",
      "\t11,000 (46.0%) | 450.90\n",
      "\t12,000 (50.2%) | 491.70\n",
      "\t13,000 (54.4%) | 532.74\n",
      "\t14,000 (58.6%) | 573.86\n",
      "\t15,000 (62.7%) | 614.66\n",
      "\t16,000 (66.9%) | 655.39\n",
      "\t17,000 (71.1%) | 696.38\n",
      "\t18,000 (75.3%) | 737.29\n",
      "\t19,000 (79.5%) | 778.26\n",
      "\t20,000 (83.7%) | 819.22\n",
      "\t21,000 (87.8%) | 860.34\n",
      "\t22,000 (92.0%) | 901.37\n",
      "\t23,000 (96.2%) | 942.38\n",
      "2018-09-30 00:00:00\n",
      "\t1,000 (4.2%) | 41.14\n",
      "\t2,000 (8.4%) | 82.08\n",
      "\t3,000 (12.5%) | 123.01\n",
      "\t4,000 (16.7%) | 163.90\n",
      "\t5,000 (20.9%) | 204.80\n",
      "\t6,000 (25.1%) | 245.65\n",
      "\t7,000 (29.3%) | 286.63\n",
      "\t8,000 (33.5%) | 327.57\n",
      "\t9,000 (37.6%) | 368.46\n",
      "\t10,000 (41.8%) | 409.37\n",
      "\t11,000 (46.0%) | 450.29\n",
      "\t12,000 (50.2%) | 491.42\n",
      "\t13,000 (54.4%) | 532.83\n",
      "\t14,000 (58.6%) | 574.23\n",
      "\t15,000 (62.7%) | 615.76\n",
      "\t16,000 (66.9%) | 657.23\n",
      "\t17,000 (71.1%) | 698.85\n",
      "\t18,000 (75.3%) | 740.13\n",
      "\t19,000 (79.5%) | 781.41\n",
      "\t20,000 (83.7%) | 822.40\n",
      "\t21,000 (87.8%) | 863.44\n",
      "\t22,000 (92.0%) | 904.50\n",
      "\t23,000 (96.2%) | 945.50\n",
      "2018-12-31 00:00:00\n",
      "\t1,000 (4.2%) | 40.96\n",
      "\t2,000 (8.4%) | 81.97\n",
      "\t3,000 (12.5%) | 123.01\n",
      "\t4,000 (16.7%) | 164.11\n",
      "\t5,000 (20.9%) | 204.93\n",
      "\t6,000 (25.1%) | 245.70\n",
      "\t7,000 (29.3%) | 286.53\n",
      "\t8,000 (33.5%) | 327.35\n",
      "\t9,000 (37.6%) | 368.21\n",
      "\t10,000 (41.8%) | 409.12\n",
      "\t11,000 (46.0%) | 450.09\n",
      "\t12,000 (50.2%) | 490.97\n",
      "\t13,000 (54.4%) | 532.01\n",
      "\t14,000 (58.6%) | 573.02\n",
      "\t15,000 (62.7%) | 614.00\n",
      "\t16,000 (66.9%) | 655.01\n",
      "\t17,000 (71.1%) | 695.99\n",
      "\t18,000 (75.3%) | 736.99\n",
      "\t19,000 (79.5%) | 777.94\n",
      "\t20,000 (83.7%) | 818.69\n",
      "\t21,000 (87.8%) | 859.55\n",
      "\t22,000 (92.0%) | 900.84\n",
      "\t23,000 (96.2%) | 941.59\n",
      "2019-03-31 00:00:00\n",
      "\t1,000 (4.2%) | 40.96\n",
      "\t2,000 (8.4%) | 82.02\n",
      "\t3,000 (12.5%) | 122.92\n",
      "\t4,000 (16.7%) | 163.86\n",
      "\t5,000 (20.9%) | 204.86\n",
      "\t6,000 (25.1%) | 245.87\n",
      "\t7,000 (29.3%) | 286.86\n",
      "\t8,000 (33.5%) | 327.88\n",
      "\t9,000 (37.6%) | 368.71\n",
      "\t10,000 (41.8%) | 409.61\n",
      "\t11,000 (46.0%) | 450.55\n",
      "\t12,000 (50.2%) | 491.47\n",
      "\t13,000 (54.4%) | 532.39\n",
      "\t14,000 (58.6%) | 573.34\n",
      "\t15,000 (62.7%) | 614.34\n",
      "\t16,000 (66.9%) | 655.35\n",
      "\t17,000 (71.1%) | 696.43\n",
      "\t18,000 (75.3%) | 737.54\n",
      "\t19,000 (79.5%) | 778.59\n",
      "\t20,000 (83.7%) | 819.64\n",
      "\t21,000 (87.8%) | 860.45\n",
      "\t22,000 (92.0%) | 901.25\n",
      "\t23,000 (96.2%) | 942.15\n",
      "2019-06-30 00:00:00\n",
      "\t1,000 (4.2%) | 40.89\n",
      "\t2,000 (8.4%) | 81.79\n",
      "\t3,000 (12.5%) | 122.80\n",
      "\t4,000 (16.7%) | 163.57\n",
      "\t5,000 (20.9%) | 204.28\n",
      "\t6,000 (25.1%) | 245.06\n",
      "\t7,000 (29.3%) | 285.77\n",
      "\t8,000 (33.5%) | 326.56\n",
      "\t9,000 (37.6%) | 367.20\n",
      "\t10,000 (41.8%) | 407.91\n",
      "\t11,000 (46.0%) | 448.76\n",
      "\t12,000 (50.2%) | 489.38\n",
      "\t13,000 (54.4%) | 530.03\n",
      "\t14,000 (58.6%) | 570.77\n",
      "\t15,000 (62.7%) | 611.43\n",
      "\t16,000 (66.9%) | 652.08\n",
      "\t17,000 (71.1%) | 692.72\n",
      "\t18,000 (75.3%) | 733.67\n",
      "\t19,000 (79.5%) | 774.62\n",
      "\t20,000 (83.7%) | 815.65\n",
      "\t21,000 (87.8%) | 856.57\n",
      "\t22,000 (92.0%) | 897.49\n",
      "\t23,000 (96.2%) | 938.58\n"
     ]
    }
   ],
   "source": [
    "test_results = []\n",
    "columns = ['test_end', 's1', 's2', 'eg1', 'eg2',\n",
    "           'trace0', 'trace1', 'eig0', 'eig1', 'w1', 'w2']\n",
    "\n",
    "for test_end in dates:\n",
    "    print(test_end)\n",
    "    result = test_cointegration(etfs, stocks, test_end=test_end)\n",
    "    test_results.append(pd.DataFrame(result, columns=columns))\n",
    "\n",
    "pd.concat(test_results).to_hdf('backtest.h5', 'cointegration_test')"
   ]
  },
  {
   "cell_type": "markdown",
   "metadata": {},
   "source": [
    "#### Reload  Test Results"
   ]
  },
  {
   "cell_type": "code",
   "execution_count": 18,
   "metadata": {
    "ExecuteTime": {
     "end_time": "2020-06-19T06:01:29.819729Z",
     "start_time": "2020-06-19T06:01:29.760347Z"
    }
   },
   "outputs": [
    {
     "name": "stdout",
     "output_type": "stream",
     "text": [
      "<class 'pandas.core.frame.DataFrame'>\n",
      "Int64Index: 262988 entries, 0 to 23907\n",
      "Data columns (total 11 columns):\n",
      " #   Column    Non-Null Count   Dtype         \n",
      "---  ------    --------------   -----         \n",
      " 0   test_end  262988 non-null  datetime64[ns]\n",
      " 1   s1        262988 non-null  object        \n",
      " 2   s2        262988 non-null  object        \n",
      " 3   eg1       262988 non-null  float64       \n",
      " 4   eg2       262988 non-null  float64       \n",
      " 5   trace0    262988 non-null  float64       \n",
      " 6   trace1    262988 non-null  float64       \n",
      " 7   eig0      262988 non-null  float64       \n",
      " 8   eig1      262988 non-null  float64       \n",
      " 9   w1        262988 non-null  float64       \n",
      " 10  w2        262988 non-null  float64       \n",
      "dtypes: datetime64[ns](1), float64(8), object(2)\n",
      "memory usage: 24.1+ MB\n"
     ]
    }
   ],
   "source": [
    "test_results = pd.read_hdf('backtest.h5', 'cointegration_test')\n",
    "test_results.info()"
   ]
  },
  {
   "cell_type": "markdown",
   "metadata": {},
   "source": [
    "## Identify Cointegrated Pairs"
   ]
  },
  {
   "cell_type": "markdown",
   "metadata": {},
   "source": [
    "### Significant Johansen Trace Statistic"
   ]
  },
  {
   "cell_type": "code",
   "execution_count": 19,
   "metadata": {
    "ExecuteTime": {
     "end_time": "2020-06-19T06:01:29.824433Z",
     "start_time": "2020-06-19T06:01:29.820808Z"
    }
   },
   "outputs": [],
   "source": [
    "test_results['joh_sig'] = ((test_results.trace0 > trace0_cv) &\n",
    "                           (test_results.trace1 > trace1_cv))"
   ]
  },
  {
   "cell_type": "code",
   "execution_count": 20,
   "metadata": {
    "ExecuteTime": {
     "end_time": "2020-06-19T06:01:29.834934Z",
     "start_time": "2020-06-19T06:01:29.825442Z"
    }
   },
   "outputs": [
    {
     "data": {
      "text/plain": [
       "False    0.947211\n",
       "True     0.052789\n",
       "Name: joh_sig, dtype: float64"
      ]
     },
     "execution_count": 20,
     "metadata": {},
     "output_type": "execute_result"
    }
   ],
   "source": [
    "test_results.joh_sig.value_counts(normalize=True)"
   ]
  },
  {
   "cell_type": "markdown",
   "metadata": {},
   "source": [
    "### Significant Engle Granger Test"
   ]
  },
  {
   "cell_type": "code",
   "execution_count": 21,
   "metadata": {
    "ExecuteTime": {
     "end_time": "2020-06-19T06:01:29.846685Z",
     "start_time": "2020-06-19T06:01:29.835871Z"
    }
   },
   "outputs": [],
   "source": [
    "test_results['eg'] = test_results[['eg1', 'eg2']].min(axis=1)\n",
    "test_results['s1_dep'] = test_results.eg1 < test_results.eg2\n",
    "test_results['eg_sig'] = (test_results.eg < .05)"
   ]
  },
  {
   "cell_type": "code",
   "execution_count": 22,
   "metadata": {
    "ExecuteTime": {
     "end_time": "2020-06-19T06:01:29.853515Z",
     "start_time": "2020-06-19T06:01:29.847666Z"
    }
   },
   "outputs": [
    {
     "data": {
      "text/plain": [
       "False    0.91157\n",
       "True     0.08843\n",
       "Name: eg_sig, dtype: float64"
      ]
     },
     "execution_count": 22,
     "metadata": {},
     "output_type": "execute_result"
    }
   ],
   "source": [
    "test_results.eg_sig.value_counts(normalize=True)"
   ]
  },
  {
   "cell_type": "markdown",
   "metadata": {},
   "source": [
    "### Comparison Engle-Granger vs Johansen"
   ]
  },
  {
   "cell_type": "code",
   "execution_count": 23,
   "metadata": {
    "ExecuteTime": {
     "end_time": "2020-06-19T06:01:29.860981Z",
     "start_time": "2020-06-19T06:01:29.854361Z"
    }
   },
   "outputs": [
    {
     "data": {
      "text/plain": [
       "False    0.986775\n",
       "True     0.013225\n",
       "Name: coint, dtype: float64"
      ]
     },
     "execution_count": 23,
     "metadata": {},
     "output_type": "execute_result"
    }
   ],
   "source": [
    "test_results['coint'] = (test_results.eg_sig & test_results.joh_sig)\n",
    "test_results.coint.value_counts(normalize=True)"
   ]
  },
  {
   "cell_type": "code",
   "execution_count": 24,
   "metadata": {
    "ExecuteTime": {
     "end_time": "2020-06-19T06:01:29.899199Z",
     "start_time": "2020-06-19T06:01:29.861982Z"
    }
   },
   "outputs": [
    {
     "name": "stdout",
     "output_type": "stream",
     "text": [
      "<class 'pandas.core.frame.DataFrame'>\n",
      "Int64Index: 262988 entries, 0 to 23907\n",
      "Data columns (total 10 columns):\n",
      " #   Column    Non-Null Count   Dtype         \n",
      "---  ------    --------------   -----         \n",
      " 0   test_end  262988 non-null  datetime64[ns]\n",
      " 1   s1        262988 non-null  object        \n",
      " 2   s2        262988 non-null  object        \n",
      " 3   w1        262988 non-null  float64       \n",
      " 4   w2        262988 non-null  float64       \n",
      " 5   joh_sig   262988 non-null  bool          \n",
      " 6   eg        262988 non-null  float64       \n",
      " 7   s1_dep    262988 non-null  bool          \n",
      " 8   eg_sig    262988 non-null  bool          \n",
      " 9   coint     262988 non-null  bool          \n",
      "dtypes: bool(4), datetime64[ns](1), float64(3), object(2)\n",
      "memory usage: 15.0+ MB\n"
     ]
    }
   ],
   "source": [
    "test_results = test_results.drop(['eg1', 'eg2', 'trace0', 'trace1', 'eig0', 'eig1'], axis=1)\n",
    "test_results.info()"
   ]
  },
  {
   "cell_type": "markdown",
   "metadata": {},
   "source": [
    "### Comparison"
   ]
  },
  {
   "cell_type": "code",
   "execution_count": 25,
   "metadata": {
    "ExecuteTime": {
     "end_time": "2020-06-19T06:01:30.054274Z",
     "start_time": "2020-06-19T06:01:29.900025Z"
    }
   },
   "outputs": [
    {
     "data": {
      "image/png": "[encoded data removed]",
      "text/plain": [
       "<Figure size 432x288 with 1 Axes>"
      ]
     },
     "metadata": {},
     "output_type": "display_data"
    }
   ],
   "source": [
    "ax = test_results.groupby('test_end').coint.mean().to_frame('# Pairs').plot()\n",
    "ax.axhline(.05, lw=1, ls='--', c='k');"
   ]
  },
  {
   "cell_type": "markdown",
   "metadata": {},
   "source": [
    "### Select Candidate Pairs"
   ]
  },
  {
   "cell_type": "code",
   "execution_count": 26,
   "metadata": {
    "ExecuteTime": {
     "end_time": "2020-06-19T06:01:30.058145Z",
     "start_time": "2020-06-19T06:01:30.055126Z"
    }
   },
   "outputs": [],
   "source": [
    "def select_candidate_pairs(data):\n",
    "    candidates = data[data.joh_sig | data.eg_sig]\n",
    "    candidates['y'] = candidates.apply(lambda x: x.s1 if x.s1_dep else x.s2, axis=1)\n",
    "    candidates['x'] = candidates.apply(lambda x: x.s2 if x.s1_dep else x.s1, axis=1)\n",
    "    return candidates.drop(['s1_dep', 's1', 's2'], axis=1)"
   ]
  },
  {
   "cell_type": "code",
   "execution_count": 27,
   "metadata": {
    "ExecuteTime": {
     "end_time": "2020-06-19T06:01:31.623786Z",
     "start_time": "2020-06-19T06:01:30.059031Z"
    }
   },
   "outputs": [],
   "source": [
    "candidates = select_candidate_pairs(test_results)"
   ]
  },
  {
   "cell_type": "code",
   "execution_count": 28,
   "metadata": {
    "ExecuteTime": {
     "end_time": "2020-06-19T06:01:31.640534Z",
     "start_time": "2020-06-19T06:01:31.624849Z"
    }
   },
   "outputs": [],
   "source": [
    "candidates.to_hdf('backtest.h5', 'candidates')"
   ]
  },
  {
   "cell_type": "code",
   "execution_count": 29,
   "metadata": {
    "ExecuteTime": {
     "end_time": "2020-06-19T06:01:31.664395Z",
     "start_time": "2020-06-19T06:01:31.641471Z"
    }
   },
   "outputs": [
    {
     "name": "stdout",
     "output_type": "stream",
     "text": [
      "<class 'pandas.core.frame.DataFrame'>\n",
      "Int64Index: 33661 entries, 7 to 23906\n",
      "Data columns (total 9 columns):\n",
      " #   Column    Non-Null Count  Dtype         \n",
      "---  ------    --------------  -----         \n",
      " 0   test_end  33661 non-null  datetime64[ns]\n",
      " 1   w1        33661 non-null  float64       \n",
      " 2   w2        33661 non-null  float64       \n",
      " 3   joh_sig   33661 non-null  bool          \n",
      " 4   eg        33661 non-null  float64       \n",
      " 5   eg_sig    33661 non-null  bool          \n",
      " 6   coint     33661 non-null  bool          \n",
      " 7   y         33661 non-null  object        \n",
      " 8   x         33661 non-null  object        \n",
      "dtypes: bool(3), datetime64[ns](1), float64(3), object(2)\n",
      "memory usage: 1.9+ MB\n"
     ]
    }
   ],
   "source": [
    "candidates = pd.read_hdf('backtest.h5', 'candidates')\n",
    "candidates.info()"
   ]
  },
  {
   "cell_type": "markdown",
   "metadata": {},
   "source": [
    "#### # Candidates over Time"
   ]
  },
  {
   "cell_type": "code",
   "execution_count": 30,
   "metadata": {
    "ExecuteTime": {
     "end_time": "2020-06-19T06:01:31.795571Z",
     "start_time": "2020-06-19T06:01:31.665218Z"
    }
   },
   "outputs": [
    {
     "data": {
      "image/png": "[encoded data removed]",
      "text/plain": [
       "<Figure size 576x360 with 1 Axes>"
      ]
     },
     "metadata": {},
     "output_type": "display_data"
    }
   ],
   "source": [
    "candidates.groupby('test_end').size().plot(figsize=(8, 5))"
   ]
  },
  {
   "cell_type": "markdown",
   "metadata": {},
   "source": [
    "#### Most Common Pairs "
   ]
  },
  {
   "cell_type": "code",
   "execution_count": 31,
   "metadata": {
    "ExecuteTime": {
     "end_time": "2020-06-19T06:01:31.804899Z",
     "start_time": "2020-06-19T06:01:31.796947Z"
    }
   },
   "outputs": [
    {
     "name": "stdout",
     "output_type": "stream",
     "text": [
      "<class 'pandas.io.pytables.HDFStore'>\n",
      "File path: data.h5\n",
      "/etfs/close              frame        (shape->[2516,139])\n",
      "/stocks/close            frame        (shape->[2516,172])\n",
      "/tickers                 series       (shape->[1])       \n"
     ]
    }
   ],
   "source": [
    "with pd.HDFStore('data.h5') as store:\n",
    "    print(store.info())\n",
    "    tickers = store['tickers']"
   ]
  },
  {
   "cell_type": "code",
   "execution_count": 32,
   "metadata": {
    "ExecuteTime": {
     "end_time": "2020-06-19T06:01:31.824963Z",
     "start_time": "2020-06-19T06:01:31.805700Z"
    }
   },
   "outputs": [
    {
     "name": "stdout",
     "output_type": "stream",
     "text": [
      "<class 'pandas.io.pytables.HDFStore'>\n",
      "File path: backtest.h5\n",
      "/candidates                    frame        (shape->[33661,9])  \n",
      "/cointegration_test            frame        (shape->[262988,11])\n"
     ]
    }
   ],
   "source": [
    "with pd.HDFStore('backtest.h5') as store:\n",
    "    print(store.info())"
   ]
  },
  {
   "cell_type": "code",
   "execution_count": 33,
   "metadata": {
    "ExecuteTime": {
     "end_time": "2020-06-19T06:01:31.861630Z",
     "start_time": "2020-06-19T06:01:31.825814Z"
    }
   },
   "outputs": [],
   "source": [
    "counter = Counter()\n",
    "for s1, s2 in zip(candidates[candidates.joh_sig & candidates.eg_sig].y, \n",
    "                  candidates[candidates.joh_sig & candidates.eg_sig].x):\n",
    "    if s1 > s2:\n",
    "        counter[(s2, s1)] += 1\n",
    "    else: \n",
    "        counter[(s1, s2)] += 1"
   ]
  },
  {
   "cell_type": "code",
   "execution_count": 34,
   "metadata": {
    "ExecuteTime": {
     "end_time": "2020-06-19T06:01:31.876602Z",
     "start_time": "2020-06-19T06:01:31.864124Z"
    }
   },
   "outputs": [
    {
     "data": {
      "text/html": [
       "<div>\n",
       "<style scoped>\n",
       "    .dataframe tbody tr th:only-of-type {\n",
       "        vertical-align: middle;\n",
       "    }\n",
       "\n",
       "    .dataframe tbody tr th {\n",
       "        vertical-align: top;\n",
       "    }\n",
       "\n",
       "    .dataframe thead th {\n",
       "        text-align: right;\n",
       "    }\n",
       "</style>\n",
       "<table border=\"1\" class=\"dataframe\">\n",
       "  <thead>\n",
       "    <tr style=\"text-align: right;\">\n",
       "      <th></th>\n",
       "      <th>s1</th>\n",
       "      <th>s2</th>\n",
       "    </tr>\n",
       "  </thead>\n",
       "  <tbody>\n",
       "    <tr>\n",
       "      <th>0</th>\n",
       "      <td>T.US</td>\n",
       "      <td>VOX.US</td>\n",
       "    </tr>\n",
       "    <tr>\n",
       "      <th>1</th>\n",
       "      <td>FXF.US</td>\n",
       "      <td>MDLZ.US</td>\n",
       "    </tr>\n",
       "    <tr>\n",
       "      <th>2</th>\n",
       "      <td>FXF.US</td>\n",
       "      <td>NOV.US</td>\n",
       "    </tr>\n",
       "    <tr>\n",
       "      <th>3</th>\n",
       "      <td>FXF.US</td>\n",
       "      <td>RIG.US</td>\n",
       "    </tr>\n",
       "    <tr>\n",
       "      <th>4</th>\n",
       "      <td>AMJ.US</td>\n",
       "      <td>MDLZ.US</td>\n",
       "    </tr>\n",
       "    <tr>\n",
       "      <th>5</th>\n",
       "      <td>DIG.US</td>\n",
       "      <td>MDLZ.US</td>\n",
       "    </tr>\n",
       "    <tr>\n",
       "      <th>6</th>\n",
       "      <td>DJP.US</td>\n",
       "      <td>MDLZ.US</td>\n",
       "    </tr>\n",
       "    <tr>\n",
       "      <th>7</th>\n",
       "      <td>ERX.US</td>\n",
       "      <td>MDLZ.US</td>\n",
       "    </tr>\n",
       "    <tr>\n",
       "      <th>8</th>\n",
       "      <td>FXN.US</td>\n",
       "      <td>MDLZ.US</td>\n",
       "    </tr>\n",
       "    <tr>\n",
       "      <th>9</th>\n",
       "      <td>IYE.US</td>\n",
       "      <td>MDLZ.US</td>\n",
       "    </tr>\n",
       "  </tbody>\n",
       "</table>\n",
       "</div>"
      ],
      "text/plain": [
       "       s1       s2\n",
       "0    T.US   VOX.US\n",
       "1  FXF.US  MDLZ.US\n",
       "2  FXF.US   NOV.US\n",
       "3  FXF.US   RIG.US\n",
       "4  AMJ.US  MDLZ.US\n",
       "5  DIG.US  MDLZ.US\n",
       "6  DJP.US  MDLZ.US\n",
       "7  ERX.US  MDLZ.US\n",
       "8  FXN.US  MDLZ.US\n",
       "9  IYE.US  MDLZ.US"
      ]
     },
     "execution_count": 34,
     "metadata": {},
     "output_type": "execute_result"
    }
   ],
   "source": [
    "most_common_pairs = pd.DataFrame(counter.most_common(10))\n",
    "most_common_pairs = pd.DataFrame(most_common_pairs[0].values.tolist(), columns=['s1', 's2'])\n",
    "most_common_pairs"
   ]
  },
  {
   "cell_type": "code",
   "execution_count": 59,
   "metadata": {
    "ExecuteTime": {
     "end_time": "2020-06-19T13:10:24.702579Z",
     "start_time": "2020-06-19T13:10:24.618722Z"
    }
   },
   "outputs": [],
   "source": [
    "with pd.HDFStore('backtest.h5') as store:\n",
    "    prices = store['prices'].close.unstack('ticker').ffill(limit=5)\n",
    "    tickers = store['tickers'].to_dict()"
   ]
  },
  {
   "cell_type": "code",
   "execution_count": 60,
   "metadata": {
    "ExecuteTime": {
     "end_time": "2020-06-19T13:10:24.901984Z",
     "start_time": "2020-06-19T13:10:24.785861Z"
    },
    "scrolled": true
   },
   "outputs": [
    {
     "data": {
      "text/html": [
       "<div>\n",
       "<style scoped>\n",
       "    .dataframe tbody tr th:only-of-type {\n",
       "        vertical-align: middle;\n",
       "    }\n",
       "\n",
       "    .dataframe tbody tr th {\n",
       "        vertical-align: top;\n",
       "    }\n",
       "\n",
       "    .dataframe thead th {\n",
       "        text-align: right;\n",
       "    }\n",
       "</style>\n",
       "<table border=\"1\" class=\"dataframe\">\n",
       "  <thead>\n",
       "    <tr style=\"text-align: right;\">\n",
       "      <th></th>\n",
       "      <th>s1</th>\n",
       "      <th>s2</th>\n",
       "      <th>n</th>\n",
       "      <th>name1</th>\n",
       "      <th>name2</th>\n",
       "    </tr>\n",
       "  </thead>\n",
       "  <tbody>\n",
       "    <tr>\n",
       "      <th>1352</th>\n",
       "      <td>T.US</td>\n",
       "      <td>VOX.US</td>\n",
       "      <td>6</td>\n",
       "      <td>AT&amp;T</td>\n",
       "      <td>VANGUARD COMMUNICATION SERVICES ETF</td>\n",
       "    </tr>\n",
       "    <tr>\n",
       "      <th>384</th>\n",
       "      <td>FXF.US</td>\n",
       "      <td>MDLZ.US</td>\n",
       "      <td>5</td>\n",
       "      <td>INVESCO CURRENCYSHARES SWISS FRANC TRUST</td>\n",
       "      <td>MONDELEZ INT</td>\n",
       "    </tr>\n",
       "    <tr>\n",
       "      <th>388</th>\n",
       "      <td>FXF.US</td>\n",
       "      <td>NOV.US</td>\n",
       "      <td>5</td>\n",
       "      <td>INVESCO CURRENCYSHARES SWISS FRANC TRUST</td>\n",
       "      <td>NATIONAL OILWELL VARCO</td>\n",
       "    </tr>\n",
       "    <tr>\n",
       "      <th>391</th>\n",
       "      <td>FXF.US</td>\n",
       "      <td>RIG.US</td>\n",
       "      <td>5</td>\n",
       "      <td>INVESCO CURRENCYSHARES SWISS FRANC TRUST</td>\n",
       "      <td>TRANSOCEAN</td>\n",
       "    </tr>\n",
       "    <tr>\n",
       "      <th>532</th>\n",
       "      <td>AMJ.US</td>\n",
       "      <td>MDLZ.US</td>\n",
       "      <td>5</td>\n",
       "      <td>JPMORGAN ALERIAN MLP INDEX ETN</td>\n",
       "      <td>MONDELEZ INT</td>\n",
       "    </tr>\n",
       "    <tr>\n",
       "      <th>547</th>\n",
       "      <td>DIG.US</td>\n",
       "      <td>MDLZ.US</td>\n",
       "      <td>5</td>\n",
       "      <td>PROSHARES ULTRA OIL &amp; GAS</td>\n",
       "      <td>MONDELEZ INT</td>\n",
       "    </tr>\n",
       "    <tr>\n",
       "      <th>549</th>\n",
       "      <td>DJP.US</td>\n",
       "      <td>MDLZ.US</td>\n",
       "      <td>5</td>\n",
       "      <td>IPATH BLOOMBERG COMMODITY INDEX TR ETN</td>\n",
       "      <td>MONDELEZ INT</td>\n",
       "    </tr>\n",
       "    <tr>\n",
       "      <th>571</th>\n",
       "      <td>ERX.US</td>\n",
       "      <td>MDLZ.US</td>\n",
       "      <td>5</td>\n",
       "      <td>DIREXION DAILY ENERGY BULL 2X SHARES</td>\n",
       "      <td>MONDELEZ INT</td>\n",
       "    </tr>\n",
       "    <tr>\n",
       "      <th>630</th>\n",
       "      <td>FXN.US</td>\n",
       "      <td>MDLZ.US</td>\n",
       "      <td>5</td>\n",
       "      <td>FIRST TRUST ENERGY ALPHADEX FUND</td>\n",
       "      <td>MONDELEZ INT</td>\n",
       "    </tr>\n",
       "    <tr>\n",
       "      <th>644</th>\n",
       "      <td>IYE.US</td>\n",
       "      <td>MDLZ.US</td>\n",
       "      <td>5</td>\n",
       "      <td>ISHARES US ENERGY ETF</td>\n",
       "      <td>MONDELEZ INT</td>\n",
       "    </tr>\n",
       "  </tbody>\n",
       "</table>\n",
       "</div>"
      ],
      "text/plain": [
       "          s1       s2  n                                     name1  \\\n",
       "1352    T.US   VOX.US  6                                      AT&T   \n",
       "384   FXF.US  MDLZ.US  5  INVESCO CURRENCYSHARES SWISS FRANC TRUST   \n",
       "388   FXF.US   NOV.US  5  INVESCO CURRENCYSHARES SWISS FRANC TRUST   \n",
       "391   FXF.US   RIG.US  5  INVESCO CURRENCYSHARES SWISS FRANC TRUST   \n",
       "532   AMJ.US  MDLZ.US  5            JPMORGAN ALERIAN MLP INDEX ETN   \n",
       "547   DIG.US  MDLZ.US  5                 PROSHARES ULTRA OIL & GAS   \n",
       "549   DJP.US  MDLZ.US  5    IPATH BLOOMBERG COMMODITY INDEX TR ETN   \n",
       "571   ERX.US  MDLZ.US  5      DIREXION DAILY ENERGY BULL 2X SHARES   \n",
       "630   FXN.US  MDLZ.US  5          FIRST TRUST ENERGY ALPHADEX FUND   \n",
       "644   IYE.US  MDLZ.US  5                     ISHARES US ENERGY ETF   \n",
       "\n",
       "                                    name2  \n",
       "1352  VANGUARD COMMUNICATION SERVICES ETF  \n",
       "384                          MONDELEZ INT  \n",
       "388                NATIONAL OILWELL VARCO  \n",
       "391                            TRANSOCEAN  \n",
       "532                          MONDELEZ INT  \n",
       "547                          MONDELEZ INT  \n",
       "549                          MONDELEZ INT  \n",
       "571                          MONDELEZ INT  \n",
       "630                          MONDELEZ INT  \n",
       "644                          MONDELEZ INT  "
      ]
     },
     "execution_count": 60,
     "metadata": {},
     "output_type": "execute_result"
    }
   ],
   "source": [
    "cnt = pd.Series(counter).reset_index()\n",
    "cnt.columns = ['s1', 's2', 'n']\n",
    "cnt['name1'] = cnt.s1.map(tickers)\n",
    "cnt['name2'] = cnt.s2.map(tickers)\n",
    "cnt.nlargest(10, columns='n')"
   ]
  },
  {
   "cell_type": "code",
   "execution_count": 63,
   "metadata": {
    "ExecuteTime": {
     "end_time": "2020-06-19T13:10:53.610381Z",
     "start_time": "2020-06-19T13:10:52.681128Z"
    }
   },
   "outputs": [
    {
     "data": {
      "image/png": "[encoded data removed]",
      "text/plain": [
       "<Figure size 1008x360 with 4 Axes>"
      ]
     },
     "metadata": {},
     "output_type": "display_data"
    }
   ],
   "source": [
    "fig, axes = plt.subplots(ncols=2, figsize=(14, 5))\n",
    "for i in [0, 1]:\n",
    "    s1, s2 = most_common_pairs.at[i, 's1'], most_common_pairs.at[i, 's2']\n",
    "    prices.loc[:, [s1, s2]].rename(columns=tickers).plot(secondary_y=tickers[s2],\n",
    "                                                         ax=axes[i],\n",
    "                                                         rot=0)\n",
    "    axes[i].grid(False)\n",
    "    axes[i].set_xlabel('')\n",
    "\n",
    "sns.despine()\n",
    "fig.tight_layout()"
   ]
  },
  {
   "cell_type": "markdown",
   "metadata": {},
   "source": [
    "## Get Entry and Exit Dates "
   ]
  },
  {
   "cell_type": "markdown",
   "metadata": {},
   "source": [
    "### Smooth prices using Kalman filter"
   ]
  },
  {
   "cell_type": "code",
   "execution_count": 64,
   "metadata": {
    "ExecuteTime": {
     "end_time": "2020-06-19T13:11:14.858886Z",
     "start_time": "2020-06-19T13:11:14.854069Z"
    }
   },
   "outputs": [],
   "source": [
    "def KFSmoother(prices):\n",
    "    \"\"\"Estimate rolling mean\"\"\"\n",
    "    \n",
    "    kf = KalmanFilter(transition_matrices=np.eye(1),\n",
    "                      observation_matrices=np.eye(1),\n",
    "                      initial_state_mean=0,\n",
    "                      initial_state_covariance=1,\n",
    "                      observation_covariance=1,\n",
    "                      transition_covariance=.05)\n",
    "\n",
    "    state_means, _ = kf.filter(prices.values)\n",
    "    return pd.Series(state_means.flatten(),\n",
    "                     index=prices.index)"
   ]
  },
  {
   "cell_type": "code",
   "execution_count": 65,
   "metadata": {
    "ExecuteTime": {
     "end_time": "2020-06-19T13:12:00.810776Z",
     "start_time": "2020-06-19T13:11:14.860508Z"
    }
   },
   "outputs": [],
   "source": [
    "smoothed_prices = prices.apply(KFSmoother)\n",
    "smoothed_prices.to_hdf('tmp.h5', 'smoothed')"
   ]
  },
  {
   "cell_type": "code",
   "execution_count": 66,
   "metadata": {
    "ExecuteTime": {
     "end_time": "2020-06-19T13:12:00.820497Z",
     "start_time": "2020-06-19T13:12:00.812004Z"
    }
   },
   "outputs": [],
   "source": [
    "smoothed_prices = pd.read_hdf('tmp.h5', 'smoothed')"
   ]
  },
  {
   "cell_type": "markdown",
   "metadata": {},
   "source": [
    "### Compute rolling hedge ratio using Kalman Filter"
   ]
  },
  {
   "cell_type": "code",
   "execution_count": 67,
   "metadata": {
    "ExecuteTime": {
     "end_time": "2020-06-19T13:12:00.829378Z",
     "start_time": "2020-06-19T13:12:00.821806Z"
    }
   },
   "outputs": [],
   "source": [
    "def KFHedgeRatio(x, y):\n",
    "    \"\"\"Estimate Hedge Ratio\"\"\"\n",
    "    delta = 1e-3\n",
    "    trans_cov = delta / (1 - delta) * np.eye(2)\n",
    "    obs_mat = np.expand_dims(np.vstack([[x], [np.ones(len(x))]]).T, axis=1)\n",
    "\n",
    "    kf = KalmanFilter(n_dim_obs=1, n_dim_state=2,\n",
    "                      initial_state_mean=[0, 0],\n",
    "                      initial_state_covariance=np.ones((2, 2)),\n",
    "                      transition_matrices=np.eye(2),\n",
    "                      observation_matrices=obs_mat,\n",
    "                      observation_covariance=2,\n",
    "                      transition_covariance=trans_cov)\n",
    "\n",
    "    state_means, _ = kf.filter(y.values)\n",
    "    return -state_means"
   ]
  },
  {
   "cell_type": "markdown",
   "metadata": {},
   "source": [
    "### Estimate mean reversion half life"
   ]
  },
  {
   "cell_type": "code",
   "execution_count": 68,
   "metadata": {
    "ExecuteTime": {
     "end_time": "2020-06-19T13:12:00.840770Z",
     "start_time": "2020-06-19T13:12:00.830166Z"
    }
   },
   "outputs": [],
   "source": [
    "def estimate_half_life(spread):\n",
    "    X = spread.shift().iloc[1:].to_frame().assign(const=1)\n",
    "    y = spread.diff().iloc[1:]\n",
    "    beta = (np.linalg.inv(X.T @ X) @ X.T @ y).iloc[0]\n",
    "    halflife = int(round(-np.log(2) / beta, 0))\n",
    "    return max(halflife, 1)"
   ]
  },
  {
   "cell_type": "markdown",
   "metadata": {},
   "source": [
    "### Compute Spread & Bollinger Bands"
   ]
  },
  {
   "cell_type": "code",
   "execution_count": 69,
   "metadata": {
    "ExecuteTime": {
     "end_time": "2020-06-19T13:12:00.854200Z",
     "start_time": "2020-06-19T13:12:00.841765Z"
    }
   },
   "outputs": [],
   "source": [
    "def get_spread(candidates, prices):\n",
    "    pairs = []\n",
    "    half_lives = []\n",
    "\n",
    "    periods = pd.DatetimeIndex(sorted(candidates.test_end.unique()))\n",
    "    start = time()\n",
    "    for p, test_end in enumerate(periods, 1):\n",
    "        start_iteration = time()\n",
    "\n",
    "        period_candidates = candidates.loc[candidates.test_end == test_end, ['y', 'x']]\n",
    "        trading_start = test_end + pd.DateOffset(days=1)\n",
    "        t = trading_start - pd.DateOffset(years=2)\n",
    "        T = trading_start + pd.DateOffset(months=6) - pd.DateOffset(days=1)\n",
    "        max_window = len(prices.loc[t: test_end].index)\n",
    "        print(test_end.date(), len(period_candidates))\n",
    "        for i, (y, x) in enumerate(zip(period_candidates.y, period_candidates.x), 1):\n",
    "            if i % 1000 == 0:\n",
    "                msg = f'{i:5.0f} | {time() - start_iteration:7.1f} | {time() - start:10.1f}'\n",
    "                print(msg)\n",
    "            pair = prices.loc[t: T, [y, x]]\n",
    "            pair['hedge_ratio'] = KFHedgeRatio(y=KFSmoother(prices.loc[t: T, y]),\n",
    "                                               x=KFSmoother(prices.loc[t: T, x]))[:, 0]\n",
    "            pair['spread'] = pair[y].add(pair[x].mul(pair.hedge_ratio))\n",
    "            half_life = estimate_half_life(pair.spread.loc[t: test_end])                \n",
    "\n",
    "            spread = pair.spread.rolling(window=min(2 * half_life, max_window))\n",
    "            pair['z_score'] = pair.spread.sub(spread.mean()).div(spread.std())\n",
    "            pairs.append(pair.loc[trading_start: T].assign(s1=y, s2=x, period=p, pair=i).drop([x, y], axis=1))\n",
    "\n",
    "            half_lives.append([test_end, y, x, half_life])\n",
    "    return pairs, half_lives"
   ]
  },
  {
   "cell_type": "code",
   "execution_count": 70,
   "metadata": {
    "ExecuteTime": {
     "end_time": "2020-06-19T13:12:00.897593Z",
     "start_time": "2020-06-19T13:12:00.856141Z"
    }
   },
   "outputs": [
    {
     "name": "stdout",
     "output_type": "stream",
     "text": [
      "<class 'pandas.core.frame.DataFrame'>\n",
      "Int64Index: 33661 entries, 7 to 23906\n",
      "Data columns (total 9 columns):\n",
      " #   Column    Non-Null Count  Dtype         \n",
      "---  ------    --------------  -----         \n",
      " 0   test_end  33661 non-null  datetime64[ns]\n",
      " 1   w1        33661 non-null  float64       \n",
      " 2   w2        33661 non-null  float64       \n",
      " 3   joh_sig   33661 non-null  bool          \n",
      " 4   eg        33661 non-null  float64       \n",
      " 5   eg_sig    33661 non-null  bool          \n",
      " 6   coint     33661 non-null  bool          \n",
      " 7   y         33661 non-null  object        \n",
      " 8   x         33661 non-null  object        \n",
      "dtypes: bool(3), datetime64[ns](1), float64(3), object(2)\n",
      "memory usage: 1.9+ MB\n"
     ]
    }
   ],
   "source": [
    "candidates = pd.read_hdf('backtest.h5', 'candidates')\n",
    "candidates.info()"
   ]
  },
  {
   "cell_type": "code",
   "execution_count": 71,
   "metadata": {
    "ExecuteTime": {
     "end_time": "2020-06-19T16:18:38.419560Z",
     "start_time": "2020-06-19T13:12:00.898765Z"
    },
    "scrolled": false
   },
   "outputs": [
    {
     "name": "stdout",
     "output_type": "stream",
     "text": [
      "2016-12-31 3793\n",
      " 1000 |   180.5 |      180.5\n",
      " 2000 |   360.7 |      360.7\n",
      " 3000 |   536.6 |      536.6\n",
      "2017-03-31 2118\n",
      " 1000 |   206.2 |      883.1\n",
      " 2000 |   415.7 |     1092.6\n",
      "2017-06-30 4311\n",
      " 1000 |   244.6 |     1363.1\n",
      " 2000 |   486.8 |     1605.3\n",
      " 3000 |   750.6 |     1869.1\n",
      " 4000 |   989.5 |     2108.0\n",
      "2017-09-30 2379\n",
      " 1000 |   271.5 |     2481.2\n",
      " 2000 |   538.0 |     2747.7\n",
      "2017-12-31 3260\n",
      " 1000 |   706.0 |     3554.9\n",
      " 2000 |  2552.6 |     5401.5\n",
      " 3000 |  2927.6 |     5776.4\n",
      "2018-03-31 3819\n",
      " 1000 |   354.2 |     6228.5\n",
      " 2000 |   652.1 |     6526.5\n",
      " 3000 |   954.5 |     6828.9\n",
      "2018-06-30 2742\n",
      " 1000 |   299.7 |     7372.7\n",
      " 2000 |   595.4 |     7668.4\n",
      "2018-09-30 3010\n",
      " 1000 |   292.7 |     8182.6\n",
      " 2000 |   588.5 |     8478.3\n",
      " 3000 |   883.9 |     8773.7\n",
      "2018-12-31 2903\n",
      " 1000 |   292.5 |     9069.4\n",
      " 2000 |   582.5 |     9359.4\n",
      "2019-03-31 2647\n",
      " 1000 |   295.1 |     9920.7\n",
      " 2000 |   588.3 |    10213.9\n",
      "2019-06-30 2679\n",
      " 1000 |   290.2 |    10693.5\n",
      " 2000 |   585.2 |    10988.6\n"
     ]
    }
   ],
   "source": [
    "pairs, half_lives = get_spread(candidates, smoothed_prices)"
   ]
  },
  {
   "cell_type": "markdown",
   "metadata": {},
   "source": [
    "### Collect Results"
   ]
  },
  {
   "cell_type": "markdown",
   "metadata": {},
   "source": [
    "#### Half Lives"
   ]
  },
  {
   "cell_type": "code",
   "execution_count": 72,
   "metadata": {
    "ExecuteTime": {
     "end_time": "2020-06-19T16:18:38.449198Z",
     "start_time": "2020-06-19T16:18:38.420580Z"
    }
   },
   "outputs": [
    {
     "name": "stdout",
     "output_type": "stream",
     "text": [
      "<class 'pandas.core.frame.DataFrame'>\n",
      "RangeIndex: 33661 entries, 0 to 33660\n",
      "Data columns (total 4 columns):\n",
      " #   Column     Non-Null Count  Dtype         \n",
      "---  ------     --------------  -----         \n",
      " 0   test_end   33661 non-null  datetime64[ns]\n",
      " 1   s1         33661 non-null  object        \n",
      " 2   s2         33661 non-null  object        \n",
      " 3   half_life  33661 non-null  int64         \n",
      "dtypes: datetime64[ns](1), int64(1), object(2)\n",
      "memory usage: 1.0+ MB\n"
     ]
    }
   ],
   "source": [
    "hl = pd.DataFrame(half_lives, columns=['test_end', 's1', 's2', 'half_life'])\n",
    "hl.info()"
   ]
  },
  {
   "cell_type": "code",
   "execution_count": 73,
   "metadata": {
    "ExecuteTime": {
     "end_time": "2020-06-19T16:18:38.460654Z",
     "start_time": "2020-06-19T16:18:38.450071Z"
    }
   },
   "outputs": [
    {
     "data": {
      "text/plain": [
       "count    33661.000000\n",
       "mean        25.199519\n",
       "std         10.223437\n",
       "min          1.000000\n",
       "25%         20.000000\n",
       "50%         24.000000\n",
       "75%         28.000000\n",
       "max       1057.000000\n",
       "Name: half_life, dtype: float64"
      ]
     },
     "execution_count": 73,
     "metadata": {},
     "output_type": "execute_result"
    }
   ],
   "source": [
    "hl.half_life.describe()"
   ]
  },
  {
   "cell_type": "code",
   "execution_count": 74,
   "metadata": {
    "ExecuteTime": {
     "end_time": "2020-06-19T16:18:38.488001Z",
     "start_time": "2020-06-19T16:18:38.461724Z"
    }
   },
   "outputs": [],
   "source": [
    "hl.to_hdf('backtest.h5', 'half_lives')"
   ]
  },
  {
   "cell_type": "markdown",
   "metadata": {},
   "source": [
    "#### Pair Data"
   ]
  },
  {
   "cell_type": "code",
   "execution_count": 75,
   "metadata": {
    "ExecuteTime": {
     "end_time": "2020-06-19T16:18:42.640734Z",
     "start_time": "2020-06-19T16:18:38.489283Z"
    }
   },
   "outputs": [
    {
     "name": "stdout",
     "output_type": "stream",
     "text": [
      "<class 'pandas.core.frame.DataFrame'>\n",
      "DatetimeIndex: 4229473 entries, 2017-01-03 to 2019-12-31\n",
      "Data columns (total 7 columns):\n",
      " #   Column       Non-Null Count    Dtype  \n",
      "---  ------       --------------    -----  \n",
      " 0   hedge_ratio  4229473 non-null  float64\n",
      " 1   spread       4229473 non-null  float64\n",
      " 2   z_score      4229473 non-null  float64\n",
      " 3   s1           4229473 non-null  object \n",
      " 4   s2           4229473 non-null  object \n",
      " 5   period       4229473 non-null  int64  \n",
      " 6   pair         4229473 non-null  int64  \n",
      "dtypes: float64(3), int64(2), object(2)\n",
      "memory usage: 258.1+ MB\n"
     ]
    }
   ],
   "source": [
    "pair_data = pd.concat(pairs)\n",
    "pair_data.info(null_counts=True)"
   ]
  },
  {
   "cell_type": "code",
   "execution_count": 76,
   "metadata": {
    "ExecuteTime": {
     "end_time": "2020-06-19T16:18:43.195991Z",
     "start_time": "2020-06-19T16:18:42.641767Z"
    }
   },
   "outputs": [],
   "source": [
    "pair_data.to_hdf('backtest.h5', 'pair_data')"
   ]
  },
  {
   "cell_type": "code",
   "execution_count": 77,
   "metadata": {
    "ExecuteTime": {
     "end_time": "2020-06-19T16:18:43.656592Z",
     "start_time": "2020-06-19T16:18:43.196963Z"
    }
   },
   "outputs": [],
   "source": [
    "pair_data = pd.read_hdf('backtest.h5', 'pair_data')"
   ]
  },
  {
   "cell_type": "markdown",
   "metadata": {},
   "source": [
    "### Identify Long & Short Entry and Exit Dates"
   ]
  },
  {
   "cell_type": "code",
   "execution_count": 78,
   "metadata": {
    "ExecuteTime": {
     "end_time": "2020-06-19T16:18:43.665632Z",
     "start_time": "2020-06-19T16:18:43.657454Z"
    }
   },
   "outputs": [],
   "source": [
    "def get_trades(data):\n",
    "    pair_trades = []\n",
    "    for i, ((period, s1, s2), pair) in enumerate(data.groupby(['period', 's1', 's2']), 1):\n",
    "        if i % 100 == 0:\n",
    "            print(i)\n",
    "\n",
    "        first3m = pair.first('3M').index\n",
    "        last3m = pair.last('3M').index\n",
    "\n",
    "        entry = pair.z_score.abs() > 2\n",
    "        entry = ((entry.shift() != entry)\n",
    "                 .mul(np.sign(pair.z_score))\n",
    "                 .fillna(0)\n",
    "                 .astype(int)\n",
    "                 .sub(2))\n",
    "\n",
    "        exit = (np.sign(pair.z_score.shift().fillna(method='bfill'))\n",
    "                != np.sign(pair.z_score)).astype(int) - 1\n",
    "\n",
    "        trades = (entry[entry != -2].append(exit[exit == 0])\n",
    "                  .to_frame('side')\n",
    "                  .sort_values(['date', 'side'])\n",
    "                  .squeeze())\n",
    "        if not isinstance(trades, pd.Series):\n",
    "            continue\n",
    "        try:\n",
    "            trades.loc[trades < 0] += 2\n",
    "        except:\n",
    "            print(type(trades))\n",
    "            print(trades)\n",
    "            print(pair.z_score.describe())\n",
    "            break\n",
    "\n",
    "        trades = trades[trades.abs().shift() != trades.abs()]\n",
    "        window = trades.loc[first3m.min():first3m.max()]\n",
    "        extra = trades.loc[last3m.min():last3m.max()]\n",
    "        n = len(trades)\n",
    "\n",
    "        if window.iloc[0] == 0:\n",
    "            if n > 1:\n",
    "                print('shift')\n",
    "                window = window.iloc[1:]\n",
    "        if window.iloc[-1] != 0:\n",
    "            extra_exits = extra[extra == 0].head(1)\n",
    "            if extra_exits.empty:\n",
    "                continue\n",
    "            else:\n",
    "                window = window.append(extra_exits)\n",
    "\n",
    "        trades = pair[['s1', 's2', 'hedge_ratio', 'period', 'pair']].join(window.to_frame('side'), how='right')\n",
    "        trades.loc[trades.side == 0, 'hedge_ratio'] = np.nan\n",
    "        trades.hedge_ratio = trades.hedge_ratio.ffill()\n",
    "        pair_trades.append(trades)\n",
    "    return pair_trades"
   ]
  },
  {
   "cell_type": "code",
   "execution_count": 79,
   "metadata": {
    "ExecuteTime": {
     "end_time": "2020-06-19T16:23:57.066089Z",
     "start_time": "2020-06-19T16:18:43.666577Z"
    }
   },
   "outputs": [
    {
     "name": "stdout",
     "output_type": "stream",
     "text": [
      "100\n",
      "200\n",
      "300\n",
      "400\n",
      "500\n",
      "600\n",
      "700\n",
      "800\n",
      "900\n",
      "1000\n",
      "1100\n",
      "1200\n",
      "1300\n",
      "1400\n",
      "1500\n",
      "1600\n",
      "1700\n",
      "1800\n",
      "1900\n",
      "2000\n",
      "2100\n",
      "2200\n",
      "2300\n",
      "2400\n",
      "2500\n",
      "2600\n",
      "2700\n",
      "2800\n",
      "2900\n",
      "3000\n",
      "3100\n",
      "3200\n",
      "3300\n",
      "3400\n",
      "3500\n",
      "3600\n",
      "3700\n",
      "3800\n",
      "3900\n",
      "4000\n",
      "4100\n",
      "4200\n",
      "4300\n",
      "4400\n",
      "4500\n",
      "4600\n",
      "4700\n",
      "4800\n",
      "4900\n",
      "5000\n",
      "5100\n",
      "5200\n",
      "5300\n",
      "5400\n",
      "5500\n",
      "5600\n",
      "5700\n",
      "5800\n",
      "5900\n",
      "6000\n",
      "6100\n",
      "6200\n",
      "6300\n",
      "6400\n",
      "6500\n",
      "6600\n",
      "6700\n",
      "6800\n",
      "6900\n",
      "7000\n",
      "7100\n",
      "7200\n",
      "7300\n",
      "7400\n",
      "7500\n",
      "7600\n",
      "7700\n",
      "7800\n",
      "7900\n",
      "8000\n",
      "8100\n",
      "8200\n",
      "8300\n",
      "8400\n",
      "8500\n",
      "8600\n",
      "8700\n",
      "8800\n",
      "8900\n",
      "9000\n",
      "9100\n",
      "9200\n",
      "9300\n",
      "9400\n",
      "9500\n",
      "9600\n",
      "9700\n",
      "9800\n",
      "9900\n",
      "10000\n",
      "10100\n",
      "10200\n",
      "10300\n",
      "10400\n",
      "10500\n",
      "10600\n",
      "10700\n",
      "10800\n",
      "10900\n",
      "11000\n",
      "11100\n",
      "11200\n",
      "11300\n",
      "11400\n",
      "11500\n",
      "11600\n",
      "11700\n",
      "11800\n",
      "11900\n",
      "12000\n",
      "12100\n",
      "12200\n",
      "12300\n",
      "12400\n",
      "12500\n",
      "12600\n",
      "12700\n",
      "12800\n",
      "12900\n",
      "13000\n",
      "13100\n",
      "13200\n",
      "13300\n",
      "13400\n",
      "13500\n",
      "13600\n",
      "13700\n",
      "13800\n",
      "13900\n",
      "14000\n",
      "14100\n",
      "14200\n",
      "14300\n",
      "14400\n",
      "14500\n",
      "14600\n",
      "14700\n",
      "14800\n",
      "14900\n",
      "15000\n",
      "15100\n",
      "15200\n",
      "15300\n",
      "15400\n",
      "15500\n",
      "15600\n",
      "15700\n",
      "15800\n",
      "15900\n",
      "16000\n",
      "16100\n",
      "16200\n",
      "16300\n",
      "16400\n",
      "16500\n",
      "16600\n",
      "16700\n",
      "16800\n",
      "16900\n",
      "17000\n",
      "17100\n",
      "17200\n",
      "17300\n",
      "17400\n",
      "17500\n",
      "17600\n",
      "17700\n",
      "17800\n",
      "17900\n",
      "18000\n",
      "18100\n",
      "18200\n",
      "18300\n",
      "18400\n",
      "18500\n",
      "18600\n",
      "18700\n",
      "18800\n",
      "18900\n",
      "19000\n",
      "19100\n",
      "19200\n",
      "19300\n",
      "19400\n",
      "19500\n",
      "19600\n",
      "19700\n",
      "19800\n",
      "19900\n",
      "20000\n",
      "20100\n",
      "20200\n",
      "20300\n",
      "20400\n",
      "20500\n",
      "20600\n",
      "20700\n",
      "20800\n",
      "20900\n",
      "21000\n",
      "21100\n",
      "21200\n",
      "21300\n",
      "21400\n",
      "21500\n",
      "21600\n",
      "21700\n",
      "21800\n",
      "21900\n",
      "22000\n",
      "22100\n",
      "22200\n",
      "22300\n",
      "22400\n",
      "22500\n",
      "22600\n",
      "22700\n",
      "22800\n",
      "22900\n",
      "23000\n",
      "23100\n",
      "23200\n",
      "23300\n",
      "23400\n",
      "23500\n",
      "23600\n",
      "23700\n",
      "23800\n",
      "23900\n",
      "24000\n",
      "24100\n",
      "24200\n",
      "24300\n",
      "24400\n",
      "24500\n",
      "24600\n",
      "24700\n",
      "24800\n",
      "24900\n",
      "25000\n",
      "25100\n",
      "25200\n",
      "25300\n",
      "25400\n",
      "25500\n",
      "25600\n",
      "25700\n",
      "25800\n",
      "25900\n",
      "26000\n",
      "26100\n",
      "26200\n",
      "26300\n",
      "26400\n",
      "26500\n",
      "26600\n",
      "26700\n",
      "26800\n",
      "26900\n",
      "27000\n",
      "27100\n",
      "27200\n",
      "27300\n",
      "27400\n",
      "27500\n",
      "27600\n",
      "27700\n",
      "27800\n",
      "27900\n",
      "28000\n",
      "28100\n",
      "28200\n",
      "28300\n",
      "28400\n",
      "28500\n",
      "28600\n",
      "28700\n",
      "28800\n",
      "28900\n",
      "29000\n",
      "29100\n",
      "29200\n",
      "29300\n",
      "29400\n",
      "29500\n",
      "29600\n",
      "29700\n",
      "29800\n",
      "29900\n",
      "30000\n",
      "30100\n",
      "30200\n",
      "30300\n",
      "30400\n",
      "30500\n",
      "30600\n",
      "30700\n",
      "30800\n",
      "30900\n",
      "31000\n",
      "31100\n",
      "31200\n",
      "31300\n",
      "31400\n",
      "31500\n",
      "31600\n",
      "31700\n",
      "31800\n",
      "31900\n",
      "32000\n",
      "32100\n",
      "32200\n",
      "32300\n",
      "32400\n",
      "32500\n",
      "32600\n",
      "32700\n",
      "32800\n",
      "32900\n",
      "33000\n",
      "33100\n",
      "33200\n",
      "33300\n",
      "33400\n",
      "33500\n",
      "33600\n"
     ]
    }
   ],
   "source": [
    "pair_trades = get_trades(pair_data)"
   ]
  },
  {
   "cell_type": "code",
   "execution_count": 80,
   "metadata": {
    "ExecuteTime": {
     "end_time": "2020-06-19T16:24:00.948377Z",
     "start_time": "2020-06-19T16:23:57.066963Z"
    },
    "scrolled": true
   },
   "outputs": [
    {
     "name": "stdout",
     "output_type": "stream",
     "text": [
      "<class 'pandas.core.frame.DataFrame'>\n",
      "DatetimeIndex: 134450 entries, 2017-01-03 to 2019-10-04\n",
      "Data columns (total 6 columns):\n",
      " #   Column       Non-Null Count   Dtype  \n",
      "---  ------       --------------   -----  \n",
      " 0   s1           134450 non-null  object \n",
      " 1   s2           134450 non-null  object \n",
      " 2   hedge_ratio  134450 non-null  float64\n",
      " 3   period       134450 non-null  int64  \n",
      " 4   pair         134450 non-null  int64  \n",
      " 5   side         134450 non-null  int64  \n",
      "dtypes: float64(1), int64(3), object(2)\n",
      "memory usage: 7.2+ MB\n"
     ]
    }
   ],
   "source": [
    "pair_trade_data = pd.concat(pair_trades)\n",
    "pair_trade_data.info()"
   ]
  },
  {
   "cell_type": "code",
   "execution_count": 81,
   "metadata": {
    "ExecuteTime": {
     "end_time": "2020-06-19T16:24:00.959508Z",
     "start_time": "2020-06-19T16:24:00.949698Z"
    }
   },
   "outputs": [
    {
     "data": {
      "text/html": [
       "<div>\n",
       "<style scoped>\n",
       "    .dataframe tbody tr th:only-of-type {\n",
       "        vertical-align: middle;\n",
       "    }\n",
       "\n",
       "    .dataframe tbody tr th {\n",
       "        vertical-align: top;\n",
       "    }\n",
       "\n",
       "    .dataframe thead th {\n",
       "        text-align: right;\n",
       "    }\n",
       "</style>\n",
       "<table border=\"1\" class=\"dataframe\">\n",
       "  <thead>\n",
       "    <tr style=\"text-align: right;\">\n",
       "      <th></th>\n",
       "      <th>s1</th>\n",
       "      <th>s2</th>\n",
       "      <th>hedge_ratio</th>\n",
       "      <th>period</th>\n",
       "      <th>pair</th>\n",
       "      <th>side</th>\n",
       "    </tr>\n",
       "    <tr>\n",
       "      <th>date</th>\n",
       "      <th></th>\n",
       "      <th></th>\n",
       "      <th></th>\n",
       "      <th></th>\n",
       "      <th></th>\n",
       "      <th></th>\n",
       "    </tr>\n",
       "  </thead>\n",
       "  <tbody>\n",
       "    <tr>\n",
       "      <th>2017-01-03</th>\n",
       "      <td>AA.US</td>\n",
       "      <td>ACWI.US</td>\n",
       "      <td>-0.533861</td>\n",
       "      <td>1</td>\n",
       "      <td>16</td>\n",
       "      <td>-1</td>\n",
       "    </tr>\n",
       "    <tr>\n",
       "      <th>2017-01-12</th>\n",
       "      <td>AA.US</td>\n",
       "      <td>ACWI.US</td>\n",
       "      <td>-0.533861</td>\n",
       "      <td>1</td>\n",
       "      <td>16</td>\n",
       "      <td>0</td>\n",
       "    </tr>\n",
       "    <tr>\n",
       "      <th>2017-01-03</th>\n",
       "      <td>AA.US</td>\n",
       "      <td>ACWX.US</td>\n",
       "      <td>-0.799916</td>\n",
       "      <td>1</td>\n",
       "      <td>54</td>\n",
       "      <td>-1</td>\n",
       "    </tr>\n",
       "    <tr>\n",
       "      <th>2017-01-12</th>\n",
       "      <td>AA.US</td>\n",
       "      <td>ACWX.US</td>\n",
       "      <td>-0.799916</td>\n",
       "      <td>1</td>\n",
       "      <td>54</td>\n",
       "      <td>0</td>\n",
       "    </tr>\n",
       "    <tr>\n",
       "      <th>2017-01-03</th>\n",
       "      <td>AA.US</td>\n",
       "      <td>DEM.US</td>\n",
       "      <td>-0.896395</td>\n",
       "      <td>1</td>\n",
       "      <td>376</td>\n",
       "      <td>-1</td>\n",
       "    </tr>\n",
       "  </tbody>\n",
       "</table>\n",
       "</div>"
      ],
      "text/plain": [
       "               s1       s2  hedge_ratio  period  pair  side\n",
       "date                                                       \n",
       "2017-01-03  AA.US  ACWI.US    -0.533861       1    16    -1\n",
       "2017-01-12  AA.US  ACWI.US    -0.533861       1    16     0\n",
       "2017-01-03  AA.US  ACWX.US    -0.799916       1    54    -1\n",
       "2017-01-12  AA.US  ACWX.US    -0.799916       1    54     0\n",
       "2017-01-03  AA.US   DEM.US    -0.896395       1   376    -1"
      ]
     },
     "execution_count": 81,
     "metadata": {},
     "output_type": "execute_result"
    }
   ],
   "source": [
    "pair_trade_data.head()"
   ]
  },
  {
   "cell_type": "code",
   "execution_count": 84,
   "metadata": {
    "ExecuteTime": {
     "end_time": "2020-06-19T16:34:09.171268Z",
     "start_time": "2020-06-19T16:34:08.884111Z"
    }
   },
   "outputs": [
    {
     "data": {
      "image/png": "[encoded data removed]",
      "text/plain": [
       "<Figure size 1008x288 with 1 Axes>"
      ]
     },
     "metadata": {},
     "output_type": "display_data"
    }
   ],
   "source": [
    "trades = pair_trade_data['side'].copy()\n",
    "trades.loc[trades != 0] = 1\n",
    "trades.loc[trades == 0] = -1\n",
    "trades.sort_index().cumsum().plot(figsize=(14, 4))\n",
    "sns.despine()"
   ]
  },
  {
   "cell_type": "code",
   "execution_count": 83,
   "metadata": {
    "ExecuteTime": {
     "end_time": "2020-06-19T16:24:01.303828Z",
     "start_time": "2020-06-19T16:24:01.269001Z"
    }
   },
   "outputs": [],
   "source": [
    "pair_trade_data.to_hdf('backtest.h5', 'pair_trades')"
   ]
  }
 ],
 "metadata": {
  "kernelspec": {
   "display_name": "Python 3",
   "language": "python",
   "name": "python3"
  },
  "language_info": {
   "codemirror_mode": {
    "name": "ipython",
    "version": 3
   },
   "file_extension": ".py",
   "mimetype": "text/x-python",
   "name": "python",
   "nbconvert_exporter": "python",
   "pygments_lexer": "ipython3",
   "version": "3.8.5"
  },
  "toc": {
   "base_numbering": 1,
   "nav_menu": {},
   "number_sections": true,
   "sideBar": true,
   "skip_h1_title": true,
   "title_cell": "Table of Contents",
   "title_sidebar": "Contents",
   "toc_cell": false,
   "toc_position": {
    "height": "calc(100% - 180px)",
    "left": "10px",
    "top": "150px",
    "width": "341px"
   },
   "toc_section_display": true,
   "toc_window_display": true
  }
 },
 "nbformat": 4,
 "nbformat_minor": 2
}