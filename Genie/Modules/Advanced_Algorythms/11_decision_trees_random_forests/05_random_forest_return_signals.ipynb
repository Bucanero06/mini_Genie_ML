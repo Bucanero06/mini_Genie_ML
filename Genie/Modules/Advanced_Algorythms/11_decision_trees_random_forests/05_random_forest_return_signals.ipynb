{
 "cells": [
  {
   "cell_type": "markdown",
   "metadata": {},
   "source": [
    "# How to generate long-short trading signals with a Random Forest"
   ]
  },
  {
   "cell_type": "markdown",
   "metadata": {},
   "source": [
    "## Imports & Settings"
   ]
  },
  {
   "cell_type": "code",
   "execution_count": 1,
   "metadata": {
    "ExecuteTime": {
     "end_time": "2021-04-16T00:39:31.003564Z",
     "start_time": "2021-04-16T00:39:30.997727Z"
    }
   },
   "outputs": [],
   "source": [
    "import warnings\n",
    "warnings.filterwarnings('ignore')"
   ]
  },
  {
   "cell_type": "code",
   "execution_count": 2,
   "metadata": {
    "ExecuteTime": {
     "end_time": "2021-04-16T00:39:32.555782Z",
     "start_time": "2021-04-16T00:39:31.361405Z"
    },
    "scrolled": true
   },
   "outputs": [],
   "source": [
    "%matplotlib inline\n",
    "\n",
    "from time import time\n",
    "from io import StringIO\n",
    "import sys, os\n",
    "from tqdm import tqdm\n",
    "\n",
    "from itertools import product\n",
    "from pathlib import Path\n",
    "\n",
    "import numpy as np\n",
    "import pandas as pd\n",
    "import statsmodels.api as sm\n",
    "\n",
    "import matplotlib.pyplot as plt\n",
    "import seaborn as sns\n",
    "\n",
    "import lightgbm as lgb\n",
    "\n",
    "from sklearn.linear_model import LinearRegression\n",
    "from scipy.stats import spearmanr"
   ]
  },
  {
   "cell_type": "code",
   "execution_count": 3,
   "metadata": {
    "ExecuteTime": {
     "end_time": "2021-04-16T00:39:32.560522Z",
     "start_time": "2021-04-16T00:39:32.557203Z"
    },
    "scrolled": true
   },
   "outputs": [],
   "source": [
    "sys.path.insert(1, os.path.join(sys.path[0], '..'))\n",
    "from utils import MultipleTimeSeriesCV, format_time"
   ]
  },
  {
   "cell_type": "code",
   "execution_count": 4,
   "metadata": {
    "ExecuteTime": {
     "end_time": "2021-04-16T00:39:32.601570Z",
     "start_time": "2021-04-16T00:39:32.562218Z"
    },
    "scrolled": true
   },
   "outputs": [],
   "source": [
    "sns.set_style('whitegrid')"
   ]
  },
  {
   "cell_type": "code",
   "execution_count": 5,
   "metadata": {
    "ExecuteTime": {
     "end_time": "2021-04-16T00:39:32.610068Z",
     "start_time": "2021-04-16T00:39:32.602934Z"
    }
   },
   "outputs": [],
   "source": [
    "np.random.seed(42)"
   ]
  },
  {
   "cell_type": "code",
   "execution_count": 6,
   "metadata": {
    "ExecuteTime": {
     "end_time": "2021-04-16T00:39:32.620245Z",
     "start_time": "2021-04-16T00:39:32.611341Z"
    },
    "scrolled": true
   },
   "outputs": [],
   "source": [
    "YEAR = 252\n",
    "idx = pd.IndexSlice"
   ]
  },
  {
   "cell_type": "code",
   "execution_count": 7,
   "metadata": {
    "ExecuteTime": {
     "end_time": "2021-04-16T00:39:32.869505Z",
     "start_time": "2021-04-16T00:39:32.864763Z"
    }
   },
   "outputs": [],
   "source": [
    "DATA_DIR = Path('..', 'data')"
   ]
  },
  {
   "cell_type": "code",
   "execution_count": 8,
   "metadata": {
    "ExecuteTime": {
     "end_time": "2021-04-16T00:39:33.377362Z",
     "start_time": "2021-04-16T00:39:33.375100Z"
    }
   },
   "outputs": [],
   "source": [
    "results_path = Path('results', 'return_predictions')\n",
    "if not results_path.exists():\n",
    "    results_path.mkdir(parents=True)"
   ]
  },
  {
   "cell_type": "markdown",
   "metadata": {},
   "source": [
    "## Get Data"
   ]
  },
  {
   "cell_type": "markdown",
   "metadata": {},
   "source": [
    "See the notebook [japanese_equity_features](03_japanese_equity_features.ipynb) in this directory for data preparation."
   ]
  },
  {
   "cell_type": "code",
   "execution_count": 9,
   "metadata": {
    "ExecuteTime": {
     "end_time": "2021-04-16T00:41:53.097614Z",
     "start_time": "2021-04-16T00:41:52.126778Z"
    },
    "scrolled": false
   },
   "outputs": [
    {
     "name": "stdout",
     "output_type": "stream",
     "text": [
      "<class 'pandas.core.frame.DataFrame'>\n",
      "MultiIndex: 2304509 entries, ('1332.JP', Timestamp('2010-01-04 00:00:00')) to ('9990.JP', Timestamp('2019-12-30 00:00:00'))\n",
      "Data columns (total 23 columns):\n",
      " #   Column           Non-Null Count    Dtype  \n",
      "---  ------           --------------    -----  \n",
      " 0   ret_1            2303568 non-null  float64\n",
      " 1   ret_rel_perc_1   2303568 non-null  float64\n",
      " 2   ret_5            2299804 non-null  float64\n",
      " 3   ret_rel_perc_5   2299804 non-null  float64\n",
      " 4   ret_10           2295099 non-null  float64\n",
      " 5   ret_rel_perc_10  2295099 non-null  float64\n",
      " 6   ret_21           2284748 non-null  float64\n",
      " 7   ret_rel_perc_21  2284748 non-null  float64\n",
      " 8   ret_63           2245226 non-null  float64\n",
      " 9   ret_rel_perc_63  2245226 non-null  float64\n",
      " 10  PPO              2280984 non-null  float64\n",
      " 11  NATR             2291335 non-null  float64\n",
      " 12  RSI              2291335 non-null  float64\n",
      " 13  bbl              2300745 non-null  float64\n",
      " 14  bbu              2300745 non-null  float64\n",
      " 15  weekday          2304509 non-null  int64  \n",
      " 16  month            2304509 non-null  int64  \n",
      " 17  year             2304509 non-null  int64  \n",
      " 18  fwd_ret_01       2303568 non-null  float64\n",
      " 19  fwd_ret_05       2299804 non-null  float64\n",
      " 20  fwd_ret_10       2295099 non-null  float64\n",
      " 21  fwd_ret_21       2284748 non-null  float64\n",
      " 22  fwd_ret_63       2245226 non-null  float64\n",
      "dtypes: float64(20), int64(3)\n",
      "memory usage: 413.3+ MB\n"
     ]
    }
   ],
   "source": [
    "data = pd.read_hdf('data.h5', 'stooq/japan/equities')\n",
    "data.info(null_counts=True)"
   ]
  },
  {
   "cell_type": "markdown",
   "metadata": {},
   "source": [
    "We start with 941 tickers."
   ]
  },
  {
   "cell_type": "code",
   "execution_count": 10,
   "metadata": {
    "ExecuteTime": {
     "end_time": "2021-04-16T00:41:54.425801Z",
     "start_time": "2021-04-16T00:41:54.400986Z"
    }
   },
   "outputs": [
    {
     "data": {
      "text/plain": [
       "941"
      ]
     },
     "execution_count": 10,
     "metadata": {},
     "output_type": "execute_result"
    }
   ],
   "source": [
    "len(data.index.unique('ticker'))"
   ]
  },
  {
   "cell_type": "markdown",
   "metadata": {},
   "source": [
    "### Select universe of 250 most-liquid stocks"
   ]
  },
  {
   "cell_type": "markdown",
   "metadata": {},
   "source": [
    "We rank the stocks by their daily average dollar volume and select those with the 250 lowest average ranks and thus highest average volumes for the 2010-2017 period."
   ]
  },
  {
   "cell_type": "code",
   "execution_count": 11,
   "metadata": {
    "ExecuteTime": {
     "end_time": "2021-02-23T21:02:50.607742Z",
     "start_time": "2021-02-23T21:02:42.227048Z"
    }
   },
   "outputs": [],
   "source": [
    "prices = (pd.read_hdf(DATA_DIR / 'assets.h5', 'stooq/jp/tse/stocks/prices')\n",
    "          .loc[idx[:, '2010': '2017'], :])"
   ]
  },
  {
   "cell_type": "code",
   "execution_count": 12,
   "metadata": {
    "ExecuteTime": {
     "end_time": "2021-02-23T21:02:52.631450Z",
     "start_time": "2021-02-23T21:02:50.608766Z"
    }
   },
   "outputs": [],
   "source": [
    "dollar_vol = prices.close.mul(prices.volume)\n",
    "dollar_vol_rank = dollar_vol.groupby(level='date').rank(ascending=False)\n",
    "universe = dollar_vol_rank.groupby(level='ticker').mean().nsmallest(250).index"
   ]
  },
  {
   "cell_type": "markdown",
   "metadata": {},
   "source": [
    "## MultipleTimeSeriesCV"
   ]
  },
  {
   "cell_type": "markdown",
   "metadata": {},
   "source": [
    "See [Chapter 7 - Linear Models](../07_linear_models) for details."
   ]
  },
  {
   "cell_type": "code",
   "execution_count": 13,
   "metadata": {
    "ExecuteTime": {
     "end_time": "2021-02-23T21:02:52.637665Z",
     "start_time": "2021-02-23T21:02:52.632697Z"
    },
    "scrolled": true
   },
   "outputs": [],
   "source": [
    "cv = MultipleTimeSeriesCV(n_splits=36,\n",
    "                          test_period_length=21,\n",
    "                          lookahead=5,\n",
    "                          train_period_length=2 * 252)"
   ]
  },
  {
   "cell_type": "markdown",
   "metadata": {},
   "source": [
    "For each fold, the train and test periods are separated by a `lookahead` number of periods and thus do not overlap:"
   ]
  },
  {
   "cell_type": "code",
   "execution_count": 14,
   "metadata": {
    "ExecuteTime": {
     "end_time": "2021-02-23T21:02:57.362939Z",
     "start_time": "2021-02-23T21:02:52.638837Z"
    },
    "scrolled": true
   },
   "outputs": [
    {
     "name": "stdout",
     "output_type": "stream",
     "text": [
      "Training: 2017-10-24-2019-11-25  (508 days) | Test: 2019-12-02-2019-12-30 (21 days)\n",
      "Training: 2017-09-22-2019-10-24  (508 days) | Test: 2019-10-31-2019-11-29 (21 days)\n",
      "Training: 2017-08-23-2019-09-20  (508 days) | Test: 2019-09-30-2019-10-30 (21 days)\n",
      "Training: 2017-07-24-2019-08-21  (508 days) | Test: 2019-08-28-2019-09-27 (21 days)\n"
     ]
    }
   ],
   "source": [
    "for i, (train_idx, test_idx) in enumerate(cv.split(X=data)):\n",
    "    train = data.iloc[train_idx]\n",
    "    train_dates = train.index.get_level_values('date')\n",
    "    test = data.iloc[test_idx]\n",
    "    test_dates = test.index.get_level_values('date')\n",
    "    df = train.reset_index().append(test.reset_index())\n",
    "    n = len(df)\n",
    "    assert n== len(df.drop_duplicates())\n",
    "    msg = f'Training: {train_dates.min().date()}-{train_dates.max().date()} '\n",
    "    msg += f' ({train.groupby(level=\"ticker\").size().value_counts().index[0]:,.0f} days) | '\n",
    "    msg += f'Test: {test_dates.min().date()}-{test_dates.max().date()} '\n",
    "    msg += f'({test.groupby(level=\"ticker\").size().value_counts().index[0]:,.0f} days)'\n",
    "    print(msg)\n",
    "    if i == 3:\n",
    "        break"
   ]
  },
  {
   "cell_type": "markdown",
   "metadata": {},
   "source": [
    "## Model Selection: Time Period and Horizon"
   ]
  },
  {
   "cell_type": "markdown",
   "metadata": {},
   "source": [
    "For the model selection step, we restrict training and validation sets to the 2010-2017 period."
   ]
  },
  {
   "cell_type": "code",
   "execution_count": 15,
   "metadata": {
    "ExecuteTime": {
     "end_time": "2021-02-23T21:03:05.380614Z",
     "start_time": "2021-02-23T21:03:02.618027Z"
    },
    "scrolled": true
   },
   "outputs": [],
   "source": [
    "cv_data = data.loc[idx[universe, :'2017'], :]\n",
    "tickers = cv_data.index.unique('ticker')"
   ]
  },
  {
   "cell_type": "markdown",
   "metadata": {},
   "source": [
    "Persist the data to save some time when running another experiment:"
   ]
  },
  {
   "cell_type": "code",
   "execution_count": 16,
   "metadata": {
    "ExecuteTime": {
     "end_time": "2021-02-23T21:03:05.443610Z",
     "start_time": "2021-02-23T21:03:05.381787Z"
    }
   },
   "outputs": [],
   "source": [
    "cv_data.to_hdf('data.h5', 'stooq/japan/equities/cv_data')"
   ]
  },
  {
   "cell_type": "code",
   "execution_count": 17,
   "metadata": {
    "ExecuteTime": {
     "end_time": "2021-02-23T21:03:05.458303Z",
     "start_time": "2021-02-23T21:03:05.444904Z"
    }
   },
   "outputs": [
    {
     "name": "stdout",
     "output_type": "stream",
     "text": [
      "<class 'pandas.io.pytables.HDFStore'>\n",
      "File path: data.h5\n",
      "/stooq/japan/equities                    frame        (shape->[2304509,23])\n",
      "/stooq/japan/equities/cv_data            frame        (shape->[418119,23]) \n",
      "/us/equities/monthly                     frame        (shape->[77788,27])  \n",
      "/us/equities/prices                      frame        (shape->[9532628,16])\n"
     ]
    }
   ],
   "source": [
    "with pd.HDFStore('data.h5') as store:\n",
    "    print(store.info())"
   ]
  },
  {
   "cell_type": "markdown",
   "metadata": {},
   "source": [
    "We're picking prediction horizons of 1, 5, 10 and 21 days:"
   ]
  },
  {
   "cell_type": "code",
   "execution_count": 18,
   "metadata": {
    "ExecuteTime": {
     "end_time": "2021-02-23T21:03:07.317733Z",
     "start_time": "2021-02-23T21:03:07.315943Z"
    },
    "scrolled": true
   },
   "outputs": [],
   "source": [
    "lookaheads = [1, 5, 10, 21]"
   ]
  },
  {
   "cell_type": "markdown",
   "metadata": {},
   "source": [
    "## Baseline: Linear Regression"
   ]
  },
  {
   "cell_type": "markdown",
   "metadata": {},
   "source": [
    "Since it's quick to run and quite informative, we generate linear regression baseline predictions. See [Chapter 7 - Linear Models](../07_linear_models) for details."
   ]
  },
  {
   "cell_type": "code",
   "execution_count": 19,
   "metadata": {
    "ExecuteTime": {
     "end_time": "2021-02-23T21:03:10.361623Z",
     "start_time": "2021-02-23T21:03:10.359925Z"
    },
    "scrolled": true
   },
   "outputs": [],
   "source": [
    "lr = LinearRegression()"
   ]
  },
  {
   "cell_type": "code",
   "execution_count": 20,
   "metadata": {
    "ExecuteTime": {
     "end_time": "2021-02-23T21:03:10.484894Z",
     "start_time": "2021-02-23T21:03:10.479559Z"
    }
   },
   "outputs": [],
   "source": [
    "labels = sorted(cv_data.filter(like='fwd').columns)\n",
    "features = cv_data.columns.difference(labels).tolist()"
   ]
  },
  {
   "cell_type": "markdown",
   "metadata": {},
   "source": [
    "### CV Parameters"
   ]
  },
  {
   "cell_type": "markdown",
   "metadata": {},
   "source": [
    "We set five different training lengths from 3 months to 5 years, and two test periods as follows:"
   ]
  },
  {
   "cell_type": "code",
   "execution_count": 21,
   "metadata": {
    "ExecuteTime": {
     "end_time": "2021-02-23T21:03:13.489653Z",
     "start_time": "2021-02-23T21:03:13.487857Z"
    },
    "scrolled": true
   },
   "outputs": [],
   "source": [
    "train_lengths = [5 * YEAR, 3 * YEAR, YEAR, 126, 63]\n",
    "test_lengths = [5, 21]"
   ]
  },
  {
   "cell_type": "markdown",
   "metadata": {},
   "source": [
    "Since linear regression has no hyperparameters, our CV parameters are the cartesian product of prediction horizon and train/test period lengths:"
   ]
  },
  {
   "cell_type": "code",
   "execution_count": 22,
   "metadata": {
    "ExecuteTime": {
     "end_time": "2021-02-23T21:03:13.862028Z",
     "start_time": "2021-02-23T21:03:13.860080Z"
    },
    "scrolled": true
   },
   "outputs": [],
   "source": [
    "test_params = list(product(lookaheads, train_lengths, test_lengths))"
   ]
  },
  {
   "cell_type": "markdown",
   "metadata": {},
   "source": [
    "Now we iterate over these parameters and train/validate the linear regression model while capturing the information coefficient of the model predictions, measure both on a daily basis and for each complete fold:"
   ]
  },
  {
   "cell_type": "code",
   "execution_count": 23,
   "metadata": {
    "ExecuteTime": {
     "end_time": "2021-02-23T21:06:13.550374Z",
     "start_time": "2021-02-23T21:03:14.743079Z"
    },
    "scrolled": false
   },
   "outputs": [
    {
     "name": "stderr",
     "output_type": "stream",
     "text": [
      "100%|██████████| 40/40 [02:58<00:00,  4.47s/it]\n"
     ]
    }
   ],
   "source": [
    "lr_metrics = []\n",
    "for lookahead, train_length, test_length in tqdm(test_params):\n",
    "    label = f'fwd_ret_{lookahead:02}'\n",
    "    df = cv_data.loc[:, features + [label]].dropna()\n",
    "    X, y = df.drop(label, axis=1), df[label]\n",
    "\n",
    "    n_splits = int(2 * YEAR / test_length)\n",
    "    cv = MultipleTimeSeriesCV(n_splits=n_splits,\n",
    "                              test_period_length=test_length,\n",
    "                              lookahead=lookahead,\n",
    "                              train_period_length=train_length)\n",
    "\n",
    "    ic, preds = [], []\n",
    "    for i, (train_idx, test_idx) in enumerate(cv.split(X=X)):\n",
    "        X_train, y_train = X.iloc[train_idx], y.iloc[train_idx]\n",
    "        X_test, y_test = X.iloc[test_idx], y.iloc[test_idx]\n",
    "        lr.fit(X_train, y_train)\n",
    "        y_pred = lr.predict(X_test)\n",
    "        preds.append(y_test.to_frame('y_true').assign(y_pred=y_pred))\n",
    "        ic.append(spearmanr(y_test, y_pred)[0])\n",
    "    preds = pd.concat(preds)\n",
    "    lr_metrics.append([\n",
    "        lookahead, train_length, test_length,\n",
    "        np.mean(ic),\n",
    "        spearmanr(preds.y_true, preds.y_pred)[0]\n",
    "    ])\n",
    "\n",
    "columns = ['lookahead', 'train_length', 'test_length', 'ic_by_day', 'ic']\n",
    "lr_metrics = pd.DataFrame(lr_metrics, columns=columns)"
   ]
  },
  {
   "cell_type": "code",
   "execution_count": 24,
   "metadata": {
    "ExecuteTime": {
     "end_time": "2021-02-23T21:06:13.559369Z",
     "start_time": "2021-02-23T21:06:13.551735Z"
    }
   },
   "outputs": [
    {
     "name": "stdout",
     "output_type": "stream",
     "text": [
      "<class 'pandas.core.frame.DataFrame'>\n",
      "RangeIndex: 40 entries, 0 to 39\n",
      "Data columns (total 5 columns):\n",
      " #   Column        Non-Null Count  Dtype  \n",
      "---  ------        --------------  -----  \n",
      " 0   lookahead     40 non-null     int64  \n",
      " 1   train_length  40 non-null     int64  \n",
      " 2   test_length   40 non-null     int64  \n",
      " 3   ic_by_day     40 non-null     float64\n",
      " 4   ic            40 non-null     float64\n",
      "dtypes: float64(2), int64(3)\n",
      "memory usage: 1.7 KB\n"
     ]
    }
   ],
   "source": [
    "lr_metrics.info()"
   ]
  },
  {
   "cell_type": "markdown",
   "metadata": {},
   "source": [
    "### Information Coefficient distribution by Lookahead"
   ]
  },
  {
   "cell_type": "markdown",
   "metadata": {},
   "source": [
    "Convert the data to long `seaborn`-friendly format:"
   ]
  },
  {
   "cell_type": "code",
   "execution_count": 25,
   "metadata": {
    "ExecuteTime": {
     "end_time": "2021-02-23T21:06:13.581232Z",
     "start_time": "2021-02-23T21:06:13.560493Z"
    }
   },
   "outputs": [
    {
     "name": "stdout",
     "output_type": "stream",
     "text": [
      "<class 'pandas.core.frame.DataFrame'>\n",
      "Int64Index: 80 entries, 0 to 39\n",
      "Data columns (total 5 columns):\n",
      " #   Column        Non-Null Count  Dtype  \n",
      "---  ------        --------------  -----  \n",
      " 0   Lookahead     80 non-null     int64  \n",
      " 1   Train Length  80 non-null     int64  \n",
      " 2   Test Length   80 non-null     int64  \n",
      " 3   IC            80 non-null     float64\n",
      " 4   Measure       80 non-null     object \n",
      "dtypes: float64(1), int64(3), object(1)\n",
      "memory usage: 3.8+ KB\n"
     ]
    }
   ],
   "source": [
    "lr_metrics_long = pd.concat([(lr_metrics.drop('ic', axis=1)\n",
    "                              .rename(columns={'ic_by_day': 'ic'})\n",
    "                              .assign(Measured='By Day')),\n",
    "                             lr_metrics.drop('ic_by_day', axis=1)\n",
    "                             .assign(Measured='Overall')])\n",
    "lr_metrics_long.columns=['Lookahead', 'Train Length', 'Test Length', 'IC', 'Measure']\n",
    "lr_metrics_long.info()"
   ]
  },
  {
   "cell_type": "markdown",
   "metadata": {},
   "source": [
    "Plot both IC measures for the various CV parameters:"
   ]
  },
  {
   "cell_type": "code",
   "execution_count": 26,
   "metadata": {
    "ExecuteTime": {
     "end_time": "2021-02-23T21:06:14.939908Z",
     "start_time": "2021-02-23T21:06:13.694370Z"
    }
   },
   "outputs": [
    {
     "data": {
      "text/plain": [
       "<seaborn.axisgrid.FacetGrid at 0x7f99c77e9310>"
      ]
     },
     "execution_count": 26,
     "metadata": {},
     "output_type": "execute_result"
    },
    {
     "data": {
      "image/png": "[encoded data removed]",
      "text/plain": [
       "<Figure size 1505.12x720 with 8 Axes>"
      ]
     },
     "metadata": {},
     "output_type": "display_data"
    }
   ],
   "source": [
    "sns.catplot(x='Train Length',\n",
    "            y='IC',\n",
    "            hue='Test Length',\n",
    "            col='Lookahead',\n",
    "            row='Measure',\n",
    "            data=lr_metrics_long,\n",
    "            kind='bar')"
   ]
  },
  {
   "cell_type": "markdown",
   "metadata": {},
   "source": [
    "Compare the distributions of each IC metric for the different prediction horizons:"
   ]
  },
  {
   "cell_type": "code",
   "execution_count": 27,
   "metadata": {
    "ExecuteTime": {
     "end_time": "2021-02-23T21:06:21.531611Z",
     "start_time": "2021-02-23T21:06:21.262501Z"
    }
   },
   "outputs": [
    {
     "data": {
      "image/png": "[encoded data removed]",
      "text/plain": [
       "<Figure size 1008x360 with 2 Axes>"
      ]
     },
     "metadata": {},
     "output_type": "display_data"
    }
   ],
   "source": [
    "fig, axes =plt.subplots(ncols=2, figsize=(14,5), sharey=True)\n",
    "sns.boxplot(x='lookahead', y='ic_by_day',data=lr_metrics, ax=axes[0])\n",
    "axes[0].set_title('IC by Day')\n",
    "sns.boxplot(x='lookahead', y='ic',data=lr_metrics, ax=axes[1])\n",
    "axes[1].set_title('IC Overall')\n",
    "axes[0].set_ylabel('Information Coefficient')\n",
    "axes[1].set_ylabel('')\n",
    "sns.despine()\n",
    "fig.tight_layout()"
   ]
  },
  {
   "cell_type": "markdown",
   "metadata": {},
   "source": [
    "### Best Train/Test Period Lengths"
   ]
  },
  {
   "cell_type": "markdown",
   "metadata": {},
   "source": [
    "Show the best train/test period settings for the four prediction horizons:"
   ]
  },
  {
   "cell_type": "code",
   "execution_count": 29,
   "metadata": {
    "ExecuteTime": {
     "end_time": "2021-02-23T21:06:38.980665Z",
     "start_time": "2021-02-23T21:06:38.968811Z"
    },
    "scrolled": false
   },
   "outputs": [
    {
     "data": {
      "text/html": [
       "<div>\n",
       "<style scoped>\n",
       "    .dataframe tbody tr th:only-of-type {\n",
       "        vertical-align: middle;\n",
       "    }\n",
       "\n",
       "    .dataframe tbody tr th {\n",
       "        vertical-align: top;\n",
       "    }\n",
       "\n",
       "    .dataframe thead th {\n",
       "        text-align: right;\n",
       "    }\n",
       "</style>\n",
       "<table border=\"1\" class=\"dataframe\">\n",
       "  <thead>\n",
       "    <tr style=\"text-align: right;\">\n",
       "      <th></th>\n",
       "      <th>lookahead</th>\n",
       "      <th>train_length</th>\n",
       "      <th>test_length</th>\n",
       "      <th>ic_by_day</th>\n",
       "      <th>ic</th>\n",
       "    </tr>\n",
       "  </thead>\n",
       "  <tbody>\n",
       "    <tr>\n",
       "      <th>7</th>\n",
       "      <td>1</td>\n",
       "      <td>126</td>\n",
       "      <td>21</td>\n",
       "      <td>0.017073</td>\n",
       "      <td>0.038653</td>\n",
       "    </tr>\n",
       "    <tr>\n",
       "      <th>9</th>\n",
       "      <td>1</td>\n",
       "      <td>63</td>\n",
       "      <td>21</td>\n",
       "      <td>0.033069</td>\n",
       "      <td>0.037626</td>\n",
       "    </tr>\n",
       "    <tr>\n",
       "      <th>5</th>\n",
       "      <td>1</td>\n",
       "      <td>252</td>\n",
       "      <td>21</td>\n",
       "      <td>0.042142</td>\n",
       "      <td>0.031726</td>\n",
       "    </tr>\n",
       "    <tr>\n",
       "      <th>19</th>\n",
       "      <td>5</td>\n",
       "      <td>63</td>\n",
       "      <td>21</td>\n",
       "      <td>0.147644</td>\n",
       "      <td>0.109061</td>\n",
       "    </tr>\n",
       "    <tr>\n",
       "      <th>17</th>\n",
       "      <td>5</td>\n",
       "      <td>126</td>\n",
       "      <td>21</td>\n",
       "      <td>0.116522</td>\n",
       "      <td>0.102297</td>\n",
       "    </tr>\n",
       "    <tr>\n",
       "      <th>16</th>\n",
       "      <td>5</td>\n",
       "      <td>126</td>\n",
       "      <td>5</td>\n",
       "      <td>0.113916</td>\n",
       "      <td>0.075632</td>\n",
       "    </tr>\n",
       "    <tr>\n",
       "      <th>26</th>\n",
       "      <td>10</td>\n",
       "      <td>126</td>\n",
       "      <td>5</td>\n",
       "      <td>0.099448</td>\n",
       "      <td>0.140622</td>\n",
       "    </tr>\n",
       "    <tr>\n",
       "      <th>27</th>\n",
       "      <td>10</td>\n",
       "      <td>126</td>\n",
       "      <td>21</td>\n",
       "      <td>0.157678</td>\n",
       "      <td>0.137302</td>\n",
       "    </tr>\n",
       "    <tr>\n",
       "      <th>28</th>\n",
       "      <td>10</td>\n",
       "      <td>63</td>\n",
       "      <td>5</td>\n",
       "      <td>0.080282</td>\n",
       "      <td>0.123428</td>\n",
       "    </tr>\n",
       "    <tr>\n",
       "      <th>39</th>\n",
       "      <td>21</td>\n",
       "      <td>63</td>\n",
       "      <td>21</td>\n",
       "      <td>0.173752</td>\n",
       "      <td>0.161578</td>\n",
       "    </tr>\n",
       "    <tr>\n",
       "      <th>38</th>\n",
       "      <td>21</td>\n",
       "      <td>63</td>\n",
       "      <td>5</td>\n",
       "      <td>0.072219</td>\n",
       "      <td>0.113831</td>\n",
       "    </tr>\n",
       "    <tr>\n",
       "      <th>37</th>\n",
       "      <td>21</td>\n",
       "      <td>126</td>\n",
       "      <td>21</td>\n",
       "      <td>0.162853</td>\n",
       "      <td>0.113148</td>\n",
       "    </tr>\n",
       "  </tbody>\n",
       "</table>\n",
       "</div>"
      ],
      "text/plain": [
       "    lookahead  train_length  test_length  ic_by_day        ic\n",
       "7           1           126           21   0.017073  0.038653\n",
       "9           1            63           21   0.033069  0.037626\n",
       "5           1           252           21   0.042142  0.031726\n",
       "19          5            63           21   0.147644  0.109061\n",
       "17          5           126           21   0.116522  0.102297\n",
       "16          5           126            5   0.113916  0.075632\n",
       "26         10           126            5   0.099448  0.140622\n",
       "27         10           126           21   0.157678  0.137302\n",
       "28         10            63            5   0.080282  0.123428\n",
       "39         21            63           21   0.173752  0.161578\n",
       "38         21            63            5   0.072219  0.113831\n",
       "37         21           126           21   0.162853  0.113148"
      ]
     },
     "execution_count": 29,
     "metadata": {},
     "output_type": "execute_result"
    }
   ],
   "source": [
    "(lr_metrics.groupby('lookahead', group_keys=False)\n",
    " .apply(lambda x: x.nlargest(3, 'ic')))"
   ]
  },
  {
   "cell_type": "code",
   "execution_count": 30,
   "metadata": {
    "ExecuteTime": {
     "end_time": "2021-02-23T21:06:39.692899Z",
     "start_time": "2021-02-23T21:06:39.687816Z"
    }
   },
   "outputs": [],
   "source": [
    "lr_metrics.to_csv(results_path / 'lin_reg_performance.csv', index=False)"
   ]
  },
  {
   "cell_type": "markdown",
   "metadata": {},
   "source": [
    "## LightGBM Random Forest Model Tuning"
   ]
  },
  {
   "cell_type": "markdown",
   "metadata": {},
   "source": [
    "Helper function to obtain the LightGBM feature importance metrics:"
   ]
  },
  {
   "cell_type": "code",
   "execution_count": 31,
   "metadata": {
    "ExecuteTime": {
     "end_time": "2021-02-23T21:06:42.973574Z",
     "start_time": "2021-02-23T21:06:42.971491Z"
    }
   },
   "outputs": [],
   "source": [
    "def get_fi(model):\n",
    "    fi = model.feature_importance(importance_type='gain')\n",
    "    return (pd.Series(fi / fi.sum(),\n",
    "                      index=model.feature_name()))"
   ]
  },
  {
   "cell_type": "markdown",
   "metadata": {},
   "source": [
    "LightGBM base parameter settings that are independent of hyperparameter tuning:"
   ]
  },
  {
   "cell_type": "code",
   "execution_count": 32,
   "metadata": {
    "ExecuteTime": {
     "end_time": "2021-02-23T21:06:43.275439Z",
     "start_time": "2021-02-23T21:06:43.273605Z"
    },
    "scrolled": true
   },
   "outputs": [],
   "source": [
    "base_params = dict(boosting_type='rf',\n",
    "                   objective='regression',\n",
    "                   bagging_freq=1,\n",
    "                   verbose=-1)"
   ]
  },
  {
   "cell_type": "markdown",
   "metadata": {},
   "source": [
    "### Hyperparameter Options"
   ]
  },
  {
   "cell_type": "markdown",
   "metadata": {},
   "source": [
    "We run this experiment with different parameters for the bagging and feature fractions that determine the degree of randomization as well as the minimum number of samples for a split to control overfitting:"
   ]
  },
  {
   "cell_type": "code",
   "execution_count": 33,
   "metadata": {
    "ExecuteTime": {
     "end_time": "2021-02-23T21:06:43.723643Z",
     "start_time": "2021-02-23T21:06:43.721635Z"
    },
    "scrolled": true
   },
   "outputs": [],
   "source": [
    "bagging_fraction_opts = [.5, .75, .95]\n",
    "feature_fraction_opts = [.75, .95]\n",
    "min_data_in_leaf_opts = [250, 500, 1000]"
   ]
  },
  {
   "cell_type": "markdown",
   "metadata": {},
   "source": [
    "This gives us 3x2x3=18 parameter combinations:"
   ]
  },
  {
   "cell_type": "code",
   "execution_count": 34,
   "metadata": {
    "ExecuteTime": {
     "end_time": "2021-02-23T21:06:44.011435Z",
     "start_time": "2021-02-23T21:06:44.008386Z"
    },
    "scrolled": true
   },
   "outputs": [
    {
     "data": {
      "text/plain": [
       "18"
      ]
     },
     "execution_count": 34,
     "metadata": {},
     "output_type": "execute_result"
    }
   ],
   "source": [
    "cv_params = list(product(bagging_fraction_opts,\n",
    "                         feature_fraction_opts,\n",
    "                         min_data_in_leaf_opts))\n",
    "n_cv_params = len(cv_params)\n",
    "n_cv_params"
   ]
  },
  {
   "cell_type": "markdown",
   "metadata": {},
   "source": [
    "#### Random Sample"
   ]
  },
  {
   "cell_type": "markdown",
   "metadata": {},
   "source": [
    "To limit the running time, we can randomly sample a subset of the parameter combinations (here: 50%):"
   ]
  },
  {
   "cell_type": "code",
   "execution_count": 35,
   "metadata": {
    "ExecuteTime": {
     "end_time": "2021-02-23T21:06:47.930930Z",
     "start_time": "2021-02-23T21:06:47.927983Z"
    }
   },
   "outputs": [
    {
     "name": "stdout",
     "output_type": "stream",
     "text": [
      "# CV parameters: 9\n"
     ]
    }
   ],
   "source": [
    "sample_proportion = .5\n",
    "sample_size = int(sample_proportion * n_cv_params)\n",
    "\n",
    "cv_param_sample = np.random.choice(list(range(n_cv_params)), \n",
    "                                     size=int(sample_size), \n",
    "                                     replace=False)\n",
    "cv_params_ = [cv_params[i] for i in cv_param_sample]\n",
    "print('# CV parameters:', len(cv_params_))"
   ]
  },
  {
   "cell_type": "markdown",
   "metadata": {},
   "source": [
    "We tune the number of trees by evaluating a fully grown forest for various smaller sizes:"
   ]
  },
  {
   "cell_type": "code",
   "execution_count": 36,
   "metadata": {
    "ExecuteTime": {
     "end_time": "2021-02-23T21:06:55.150158Z",
     "start_time": "2021-02-23T21:06:55.148138Z"
    },
    "scrolled": true
   },
   "outputs": [],
   "source": [
    "num_iterations = [25] + list(range(50, 501, 25))\n",
    "num_boost_round = num_iterations[-1]"
   ]
  },
  {
   "cell_type": "markdown",
   "metadata": {},
   "source": [
    "### Train/Test Period Lenghts"
   ]
  },
  {
   "cell_type": "markdown",
   "metadata": {},
   "source": [
    "As above for linear regression, we define a range of train/test period length:"
   ]
  },
  {
   "cell_type": "markdown",
   "metadata": {},
   "source": [
    "#### Define parameters"
   ]
  },
  {
   "cell_type": "code",
   "execution_count": 37,
   "metadata": {
    "ExecuteTime": {
     "end_time": "2021-02-23T21:06:58.294789Z",
     "start_time": "2021-02-23T21:06:58.292755Z"
    },
    "scrolled": true
   },
   "outputs": [],
   "source": [
    "train_lengths = [5 * YEAR, 3 * YEAR, YEAR, 126, 63]\n",
    "test_lengths = [5, 21]"
   ]
  },
  {
   "cell_type": "code",
   "execution_count": 38,
   "metadata": {
    "ExecuteTime": {
     "end_time": "2021-02-23T21:06:58.593988Z",
     "start_time": "2021-02-23T21:06:58.592185Z"
    }
   },
   "outputs": [],
   "source": [
    "test_params = list(product(train_lengths, test_lengths))\n",
    "n_test_params = len(test_params)"
   ]
  },
  {
   "cell_type": "markdown",
   "metadata": {},
   "source": [
    "#### Random sample"
   ]
  },
  {
   "cell_type": "markdown",
   "metadata": {},
   "source": [
    "Just as for the model parameters, we can randomly sample from the 5 x 2 = 8 training configurations (here: 50%):"
   ]
  },
  {
   "cell_type": "code",
   "execution_count": 39,
   "metadata": {
    "ExecuteTime": {
     "end_time": "2021-02-23T21:07:03.099343Z",
     "start_time": "2021-02-23T21:07:03.096099Z"
    },
    "scrolled": false
   },
   "outputs": [
    {
     "name": "stdout",
     "output_type": "stream",
     "text": [
      "Train configs: 10\n",
      "CV Iterations: 90\n"
     ]
    }
   ],
   "source": [
    "sample_proportion = 1.0\n",
    "sample_size = int(sample_proportion * n_test_params)\n",
    "\n",
    "test_param_sample = np.random.choice(list(range(n_test_params)), \n",
    "                                     size=int(sample_size), \n",
    "                                     replace=False)\n",
    "test_params_ = [test_params[i] for i in test_param_sample]\n",
    "print('Train configs:', len(test_params_))\n",
    "print('CV Iterations:', len(cv_params_) * len(test_params_))"
   ]
  },
  {
   "cell_type": "markdown",
   "metadata": {},
   "source": [
    "### Categorical Variables"
   ]
  },
  {
   "cell_type": "markdown",
   "metadata": {},
   "source": [
    "To leverage LightGBM's ability to handle categorical variables, we need to define them; we'll also `factorize` them so they are both integer-encoded and start at zero (optional, but otherwise throws a warning) as expected by LightGBM:"
   ]
  },
  {
   "cell_type": "code",
   "execution_count": 40,
   "metadata": {
    "ExecuteTime": {
     "end_time": "2021-02-23T21:07:13.475533Z",
     "start_time": "2021-02-23T21:07:13.416092Z"
    },
    "scrolled": true
   },
   "outputs": [],
   "source": [
    "categoricals = ['year', 'weekday', 'month']\n",
    "for feature in categoricals:\n",
    "    data[feature] = pd.factorize(data[feature], sort=True)[0]"
   ]
  },
  {
   "cell_type": "markdown",
   "metadata": {},
   "source": [
    "### Run Cross-Validation"
   ]
  },
  {
   "cell_type": "markdown",
   "metadata": {},
   "source": [
    "Set up some helper variabels and storage locations to faciliate the CV process and result storage:"
   ]
  },
  {
   "cell_type": "code",
   "execution_count": 41,
   "metadata": {
    "ExecuteTime": {
     "end_time": "2021-02-23T21:07:19.937133Z",
     "start_time": "2021-02-23T21:07:19.932175Z"
    },
    "scrolled": true
   },
   "outputs": [],
   "source": [
    "labels = sorted(cv_data.filter(like='fwd').columns)\n",
    "features = cv_data.columns.difference(labels).tolist()"
   ]
  },
  {
   "cell_type": "code",
   "execution_count": 42,
   "metadata": {
    "ExecuteTime": {
     "end_time": "2021-02-23T21:07:20.139982Z",
     "start_time": "2021-02-23T21:07:20.138149Z"
    },
    "scrolled": true
   },
   "outputs": [],
   "source": [
    "label_dict = dict(zip(lookaheads, labels))"
   ]
  },
  {
   "cell_type": "code",
   "execution_count": 43,
   "metadata": {
    "ExecuteTime": {
     "end_time": "2021-02-23T21:07:20.359622Z",
     "start_time": "2021-02-23T21:07:20.357958Z"
    },
    "scrolled": true
   },
   "outputs": [],
   "source": [
    "cv_store = Path(results_path / 'parameter_tuning.h5')"
   ]
  },
  {
   "cell_type": "code",
   "execution_count": 44,
   "metadata": {
    "ExecuteTime": {
     "end_time": "2021-02-23T21:07:20.542696Z",
     "start_time": "2021-02-23T21:07:20.540238Z"
    }
   },
   "outputs": [],
   "source": [
    "ic_cols = ['bagging_fraction',\n",
    "           'feature_fraction',\n",
    "           'min_data_in_leaf',\n",
    "           't'] + [str(n) for n in num_iterations]"
   ]
  },
  {
   "cell_type": "markdown",
   "metadata": {},
   "source": [
    "Now we take the following steps:\n",
    "- we iterate over the prediction horizons and train/test period length, \n",
    "- set up the `MultipleTimeSeriesCV` accordingly\n",
    "- create the binary LightGBM dataset with the appropriate target, and\n",
    "- iterate over the model hyperparamters to train and validate the model while capturing the relevant performance metrics:"
   ]
  },
  {
   "cell_type": "code",
   "execution_count": 43,
   "metadata": {
    "ExecuteTime": {
     "end_time": "2020-06-20T13:37:54.346461Z",
     "start_time": "2020-06-20T04:04:55.813656Z"
    },
    "scrolled": false
   },
   "outputs": [
    {
     "name": "stdout",
     "output_type": "stream",
     "text": [
      "Lookahead:  1 | Train:  63 | Test: 21 | Params:  18\n",
      "  0 | 00:01:08 | 50% | 75% |   250 |  2.03% |  1.09% |  0.91%\n",
      "  1 | 00:02:19 | 50% | 75% |   500 |  2.14% |  1.25% |  1.15%\n",
      "  2 | 00:03:35 | 75% | 75% | 1,000 |  2.07% |  1.35% |  1.20%\n",
      "  3 | 00:04:32 | 50% | 95% | 1,000 |  2.29% |  1.04% |  1.07%\n",
      "  4 | 00:05:36 | 50% | 95% |   250 |  2.63% |  1.03% |  0.82%\n",
      "  5 | 00:06:43 | 95% | 75% |   500 |  1.84% |  0.88% |  0.83%\n",
      "  6 | 00:07:49 | 95% | 95% |   500 |  2.58% |  0.86% |  0.62%\n",
      "  7 | 00:08:56 | 95% | 95% |   250 |  2.04% |  0.77% |  0.36%\n",
      "  8 | 00:10:00 | 75% | 95% | 1,000 |  2.51% |  1.06% |  0.68%\n",
      "  9 | 00:10:57 | 50% | 75% | 1,000 |  1.99% |  1.11% |  1.25%\n",
      " 10 | 00:12:02 | 75% | 95% |   250 |  2.06% |  0.93% |  0.38%\n",
      " 11 | 00:13:07 | 95% | 95% | 1,000 |  2.33% |  0.92% |  1.27%\n",
      " 12 | 00:14:09 | 50% | 95% |   500 |  2.57% |  1.19% |  1.15%\n",
      " 13 | 00:15:16 | 95% | 75% |   250 |  1.42% |  0.91% |  0.69%\n",
      " 14 | 00:16:23 | 75% | 75% |   500 |  1.49% |  1.04% |  1.14%\n",
      " 15 | 00:17:28 | 75% | 95% |   500 |  2.01% |  0.85% |  0.49%\n",
      " 16 | 00:18:34 | 95% | 75% | 1,000 |  1.85% |  0.96% |  1.08%\n",
      " 17 | 00:19:40 | 75% | 75% |   250 |  1.45% |  1.06% |  0.97%\n",
      "Lookahead:  1 | Train: 252 | Test: 21 | Params:  18\n",
      "  0 | 00:01:45 | 50% | 75% |   250 |  2.09% |  1.21% |  1.40%\n",
      "  1 | 00:03:31 | 50% | 75% |   500 |  1.93% |  1.11% |  1.49%\n",
      "  2 | 00:05:30 | 75% | 75% | 1,000 |  2.22% |  0.92% |  1.42%\n",
      "  3 | 00:07:27 | 50% | 95% | 1,000 |  2.17% |  1.25% |  1.64%\n",
      "  4 | 00:09:21 | 50% | 95% |   250 |  2.67% |  0.90% |  1.18%\n",
      "  5 | 00:11:40 | 95% | 75% |   500 |  2.62% |  1.10% |  1.83%\n",
      "  6 | 00:13:49 | 95% | 95% |   500 |  3.14% |  0.87% |  1.24%\n",
      "  7 | 00:15:57 | 95% | 95% |   250 |  3.40% |  0.95% |  1.26%\n",
      "  8 | 00:17:57 | 75% | 95% | 1,000 |  2.39% |  0.85% |  1.52%\n",
      "  9 | 00:19:46 | 50% | 75% | 1,000 |  1.56% |  1.17% |  2.22%\n",
      " 10 | 00:21:44 | 75% | 95% |   250 |  3.15% |  1.08% |  1.21%\n",
      " 11 | 00:23:53 | 95% | 95% | 1,000 |  2.85% |  0.76% |  0.88%\n",
      " 12 | 00:25:40 | 50% | 95% |   500 |  2.35% |  0.85% |  0.92%\n",
      " 13 | 00:27:44 | 95% | 75% |   250 |  2.70% |  1.07% |  1.56%\n",
      " 14 | 00:29:41 | 75% | 75% |   500 |  2.43% |  1.12% |  1.44%\n",
      " 15 | 00:31:39 | 75% | 95% |   500 |  2.86% |  1.01% |  1.16%\n",
      " 16 | 00:33:46 | 95% | 75% | 1,000 |  2.47% |  0.92% |  1.45%\n",
      " 17 | 00:35:41 | 75% | 75% |   250 |  2.61% |  1.19% |  1.53%\n",
      "Lookahead:  1 | Train: 756 | Test: 21 | Params:  18\n",
      "  0 | 00:03:39 | 50% | 75% |   250 |  2.53% |  0.90% |  1.00%\n",
      "  1 | 00:07:23 | 50% | 75% |   500 |  2.48% |  1.10% |  1.34%\n",
      "  2 | 00:11:55 | 75% | 75% | 1,000 |  2.27% |  1.09% |  1.33%\n",
      "  3 | 00:15:49 | 50% | 95% | 1,000 |  1.99% |  1.10% |  1.11%\n",
      "  4 | 00:19:31 | 50% | 95% |   250 |  1.15% |  0.89% |  1.33%\n",
      "  5 | 00:24:28 | 95% | 75% |   500 |  1.31% |  0.92% |  1.34%\n",
      "  6 | 00:29:44 | 95% | 95% |   500 |  0.21% |  0.93% |  1.27%\n",
      "  7 | 00:34:55 | 95% | 95% |   250 | -0.05% |  1.07% |  1.32%\n",
      "  8 | 00:39:44 | 75% | 95% | 1,000 |  0.81% |  0.92% |  1.20%\n",
      "  9 | 00:43:37 | 50% | 75% | 1,000 |  2.78% |  1.18% |  1.23%\n",
      " 10 | 00:48:38 | 75% | 95% |   250 |  0.13% |  0.96% |  1.08%\n",
      " 11 | 00:54:04 | 95% | 95% | 1,000 |  0.61% |  0.74% |  0.76%\n",
      " 12 | 00:57:50 | 50% | 95% |   500 |  1.57% |  0.94% |  1.10%\n",
      " 13 | 01:02:44 | 95% | 75% |   250 |  1.14% |  0.85% |  1.18%\n",
      " 14 | 01:07:10 | 75% | 75% |   500 |  1.94% |  1.11% |  1.12%\n",
      " 15 | 01:11:48 | 75% | 95% |   500 |  0.39% |  0.90% |  1.19%\n",
      " 16 | 01:16:54 | 95% | 75% | 1,000 |  1.71% |  0.99% |  1.60%\n",
      " 17 | 01:21:12 | 75% | 75% |   250 |  1.81% |  0.99% |  1.09%\n",
      "Lookahead:  5 | Train:  63 | Test: 21 | Params:  18\n",
      "  0 | 00:01:04 | 50% | 75% |   250 | -3.99% | -2.15% | -1.68%\n",
      "  1 | 00:02:06 | 50% | 75% |   500 | -4.28% | -2.13% | -1.97%\n",
      "  2 | 00:03:11 | 75% | 75% | 1,000 | -4.27% | -2.32% | -1.79%\n",
      "  3 | 00:04:06 | 50% | 95% | 1,000 | -4.62% | -2.52% | -2.08%\n",
      "  4 | 00:05:09 | 50% | 95% |   250 | -4.42% | -2.27% | -1.89%\n",
      "  5 | 00:06:17 | 95% | 75% |   500 | -5.14% | -2.11% | -1.63%\n",
      "  6 | 00:07:25 | 95% | 95% |   500 | -5.14% | -1.84% | -1.13%\n",
      "  7 | 00:08:33 | 95% | 95% |   250 | -5.15% | -1.86% | -1.42%\n",
      "  8 | 00:09:38 | 75% | 95% | 1,000 | -4.80% | -2.11% | -1.43%\n",
      "  9 | 00:10:36 | 50% | 75% | 1,000 | -4.40% | -2.38% | -2.21%\n",
      " 10 | 00:11:41 | 75% | 95% |   250 | -4.71% | -2.31% | -1.66%\n",
      " 11 | 00:12:48 | 95% | 95% | 1,000 | -5.61% | -2.27% | -1.52%\n",
      " 12 | 00:13:51 | 50% | 95% |   500 | -4.72% | -2.34% | -2.20%\n",
      " 13 | 00:15:01 | 95% | 75% |   250 | -5.22% | -1.97% | -1.39%\n",
      " 14 | 00:16:08 | 75% | 75% |   500 | -4.10% | -2.34% | -1.98%\n",
      " 15 | 00:17:13 | 75% | 95% |   500 | -4.78% | -2.26% | -1.86%\n",
      " 16 | 00:18:21 | 95% | 75% | 1,000 | -5.57% | -2.41% | -2.02%\n",
      " 17 | 00:19:28 | 75% | 75% |   250 | -4.25% | -2.04% | -1.43%\n",
      "Lookahead:  5 | Train: 252 | Test: 21 | Params:  18\n",
      "  0 | 00:01:45 | 50% | 75% |   250 | -0.52% |  1.63% |  2.39%\n",
      "  1 | 00:03:30 | 50% | 75% |   500 | -0.50% |  1.41% |  2.15%\n",
      "  2 | 00:05:28 | 75% | 75% | 1,000 | -0.68% |  0.73% |  1.54%\n",
      "  3 | 00:07:15 | 50% | 95% | 1,000 | -1.10% |  0.75% |  1.39%\n",
      "  4 | 00:09:01 | 50% | 95% |   250 | -0.96% |  1.17% |  1.79%\n",
      "  5 | 00:11:08 | 95% | 75% |   500 | -0.82% |  1.70% |  2.06%\n",
      "  6 | 00:13:18 | 95% | 95% |   500 | -0.97% |  1.27% |  1.60%\n",
      "  7 | 00:15:30 | 95% | 95% |   250 | -0.91% |  1.24% |  1.54%\n",
      "  8 | 00:17:30 | 75% | 95% | 1,000 | -0.76% |  1.37% |  1.96%\n",
      "  9 | 00:19:15 | 50% | 75% | 1,000 | -0.84% |  0.93% |  1.95%\n",
      " 10 | 00:21:14 | 75% | 95% |   250 | -1.06% |  1.58% |  2.10%\n",
      " 11 | 00:23:28 | 95% | 95% | 1,000 | -0.85% |  1.31% |  1.60%\n",
      " 12 | 00:25:15 | 50% | 95% |   500 | -0.92% |  1.46% |  2.16%\n",
      " 13 | 00:27:22 | 95% | 75% |   250 | -0.75% |  1.63% |  1.93%\n",
      " 14 | 00:29:18 | 75% | 75% |   500 | -0.72% |  1.16% |  2.15%\n",
      " 15 | 00:31:16 | 75% | 95% |   500 | -1.04% |  1.48% |  2.09%\n",
      " 16 | 00:33:23 | 95% | 75% | 1,000 | -0.79% |  1.50% |  1.96%\n",
      " 17 | 00:35:19 | 75% | 75% |   250 | -0.70% |  1.37% |  2.03%\n",
      "Lookahead:  5 | Train: 756 | Test: 21 | Params:  18\n",
      "  0 | 00:03:56 | 50% | 75% |   250 |  1.97% |  1.78% |  1.93%\n",
      "  1 | 00:07:48 | 50% | 75% |   500 |  2.05% |  1.75% |  1.94%\n",
      "  2 | 00:12:24 | 75% | 75% | 1,000 |  2.00% |  1.78% |  1.91%\n",
      "  3 | 00:16:21 | 50% | 95% | 1,000 |  2.41% |  1.55% |  1.04%\n",
      "  4 | 00:20:16 | 50% | 95% |   250 |  2.08% |  1.36% |  1.54%\n",
      "  5 | 00:25:31 | 95% | 75% |   500 |  2.24% |  1.77% |  2.00%\n",
      "  6 | 00:31:17 | 95% | 95% |   500 |  2.40% |  1.76% |  1.69%\n",
      "  7 | 00:37:03 | 95% | 95% |   250 |  2.37% |  1.72% |  1.50%\n",
      "  8 | 00:41:60 | 75% | 95% | 1,000 |  2.24% |  1.40% |  1.58%\n",
      "  9 | 00:45:48 | 50% | 75% | 1,000 |  2.48% |  1.77% |  1.90%\n",
      " 10 | 00:50:50 | 75% | 95% |   250 |  2.05% |  1.35% |  1.48%\n",
      " 11 | 00:56:34 | 95% | 95% | 1,000 |  2.41% |  1.77% |  1.61%\n",
      " 12 | 01:00:31 | 50% | 95% |   500 |  2.15% |  1.53% |  1.24%\n",
      " 13 | 01:05:44 | 95% | 75% |   250 |  2.16% |  1.76% |  2.04%\n",
      " 14 | 01:10:17 | 75% | 75% |   500 |  1.72% |  1.78% |  2.03%\n",
      " 15 | 01:15:11 | 75% | 95% |   500 |  2.10% |  1.27% |  1.66%\n",
      " 16 | 01:20:28 | 95% | 75% | 1,000 |  2.52% |  1.73% |  2.02%\n",
      " 17 | 01:24:59 | 75% | 75% |   250 |  1.71% |  1.77% |  2.13%\n",
      "Lookahead: 10 | Train:  63 | Test: 21 | Params:  18\n",
      "  0 | 00:01:04 | 50% | 75% |   250 | -1.81% | -0.10% | -1.29%\n",
      "  1 | 00:02:07 | 50% | 75% |   500 | -1.82% |  0.01% | -1.12%\n",
      "  2 | 00:03:13 | 75% | 75% | 1,000 | -1.86% |  0.43% | -0.78%\n",
      "  3 | 00:04:11 | 50% | 95% | 1,000 | -0.94% |  0.34% | -0.61%\n",
      "  4 | 00:05:15 | 50% | 95% |   250 | -2.43% | -0.35% | -0.92%\n",
      "  5 | 00:06:24 | 95% | 75% |   500 | -1.53% |  0.07% | -0.86%\n",
      "  6 | 00:07:33 | 95% | 95% |   500 | -2.47% |  0.02% | -0.52%\n",
      "  7 | 00:08:44 | 95% | 95% |   250 | -2.88% | -0.15% | -0.29%\n",
      "  8 | 00:09:49 | 75% | 95% | 1,000 | -2.40% |  0.27% | -0.14%\n",
      "  9 | 00:10:47 | 50% | 75% | 1,000 | -0.81% |  0.51% | -0.80%\n",
      " 10 | 00:11:54 | 75% | 95% |   250 | -2.38% | -0.18% | -0.47%\n",
      " 11 | 00:13:02 | 95% | 95% | 1,000 | -2.23% |  0.15% | -0.28%\n",
      " 12 | 00:14:05 | 50% | 95% |   500 | -2.16% | -0.17% | -0.56%\n",
      " 13 | 00:15:14 | 95% | 75% |   250 | -1.79% | -0.10% | -0.91%\n",
      " 14 | 00:16:21 | 75% | 75% |   500 | -1.66% | -0.05% | -1.23%\n",
      " 15 | 00:17:27 | 75% | 95% |   500 | -2.53% | -0.10% | -0.64%\n",
      " 16 | 00:18:36 | 95% | 75% | 1,000 | -1.62% |  0.20% | -1.01%\n",
      " 17 | 00:19:42 | 75% | 75% |   250 | -1.77% | -0.09% | -0.96%\n",
      "Lookahead: 10 | Train: 252 | Test: 21 | Params:  18\n"
     ]
    },
    {
     "name": "stdout",
     "output_type": "stream",
     "text": [
      "  0 | 00:01:50 | 50% | 75% |   250 | -4.74% |  0.77% |  1.15%\n",
      "  1 | 00:03:37 | 50% | 75% |   500 | -5.90% |  0.64% |  1.03%\n",
      "  2 | 00:05:39 | 75% | 75% | 1,000 | -4.93% |  0.70% |  0.61%\n",
      "  3 | 00:07:27 | 50% | 95% | 1,000 | -5.86% |  0.44% |  0.75%\n",
      "  4 | 00:09:16 | 50% | 95% |   250 | -3.95% |  0.58% |  1.35%\n",
      "  5 | 00:11:26 | 95% | 75% |   500 | -2.57% |  0.95% |  1.07%\n",
      "  6 | 00:13:42 | 95% | 95% |   500 | -2.20% |  0.92% |  1.04%\n",
      "  7 | 00:15:57 | 95% | 95% |   250 | -2.52% |  0.74% |  0.92%\n",
      "  8 | 00:17:60 | 75% | 95% | 1,000 | -4.57% |  0.84% |  1.19%\n",
      "  9 | 00:19:47 | 50% | 75% | 1,000 | -5.78% |  0.54% |  0.52%\n",
      " 10 | 00:21:51 | 75% | 95% |   250 | -2.87% |  0.85% |  1.42%\n",
      " 11 | 00:24:06 | 95% | 95% | 1,000 | -4.38% |  0.91% |  0.98%\n",
      " 12 | 00:25:54 | 50% | 95% |   500 | -6.13% |  0.49% |  1.30%\n",
      " 13 | 00:28:04 | 95% | 75% |   250 | -2.73% |  0.82% |  0.89%\n",
      " 14 | 00:30:04 | 75% | 75% |   500 | -3.82% |  0.77% |  1.03%\n",
      " 15 | 00:32:07 | 75% | 95% |   500 | -2.60% |  0.95% |  1.44%\n",
      " 16 | 00:34:18 | 95% | 75% | 1,000 | -3.76% |  0.88% |  1.23%\n",
      " 17 | 00:36:17 | 75% | 75% |   250 | -3.94% |  0.72% |  1.00%\n",
      "Lookahead: 10 | Train: 756 | Test: 21 | Params:  18\n",
      "  0 | 00:03:47 | 50% | 75% |   250 |  3.11% |  1.63% |  1.15%\n",
      "  1 | 00:07:34 | 50% | 75% |   500 |  2.64% |  1.53% |  0.95%\n",
      "  2 | 00:12:15 | 75% | 75% | 1,000 |  2.34% |  1.40% |  0.86%\n",
      "  3 | 00:16:16 | 50% | 95% | 1,000 |  2.17% |  0.92% |  0.54%\n",
      "  4 | 00:20:17 | 50% | 95% |   250 |  2.84% |  0.92% |  0.63%\n",
      "  5 | 00:25:44 | 95% | 75% |   500 |  2.58% |  1.44% |  0.14%\n",
      "  6 | 00:31:44 | 95% | 95% |   500 |  2.66% |  0.72% | -0.10%\n",
      "  7 | 00:37:41 | 95% | 95% |   250 |  2.66% |  0.80% |  0.02%\n",
      "  8 | 00:42:46 | 75% | 95% | 1,000 |  2.30% |  0.88% |  0.30%\n",
      "  9 | 00:46:33 | 50% | 75% | 1,000 |  2.60% |  1.50% |  1.30%\n",
      " 10 | 00:51:36 | 75% | 95% |   250 |  2.57% |  1.14% |  0.63%\n",
      " 11 | 00:57:30 | 95% | 95% | 1,000 |  2.64% |  0.69% | -0.03%\n",
      " 12 | 01:01:30 | 50% | 95% |   500 |  2.34% |  0.87% |  0.73%\n",
      " 13 | 01:06:56 | 95% | 75% |   250 |  2.57% |  1.44% |  0.17%\n",
      " 14 | 01:11:34 | 75% | 75% |   500 |  2.69% |  1.46% |  0.94%\n",
      " 15 | 01:16:41 | 75% | 95% |   500 |  2.56% |  0.98% |  0.45%\n",
      " 16 | 01:22:26 | 95% | 75% | 1,000 |  2.62% |  1.32% |  0.17%\n",
      " 17 | 01:27:27 | 75% | 75% |   250 |  2.69% |  1.48% |  0.89%\n",
      "Lookahead: 21 | Train:  63 | Test: 21 | Params:  18\n",
      "  0 | 00:01:08 | 50% | 75% |   250 |  0.36% |  2.59% |  1.44%\n",
      "  1 | 00:02:13 | 50% | 75% |   500 |  0.28% |  2.71% |  1.36%\n",
      "  2 | 00:03:23 | 75% | 75% | 1,000 |  5.00% |  2.86% |  1.77%\n",
      "  3 | 00:04:25 | 50% | 95% | 1,000 |  1.51% |  2.59% |  1.61%\n",
      "  4 | 00:05:32 | 50% | 95% |   250 |  0.49% |  2.68% |  1.44%\n",
      "  5 | 00:06:45 | 95% | 75% |   500 | 10.07% |  3.04% |  1.83%\n",
      "  6 | 00:07:57 | 95% | 95% |   500 |  9.87% |  2.87% |  1.82%\n",
      "  7 | 00:09:11 | 95% | 95% |   250 |  9.79% |  3.18% |  2.49%\n",
      "  8 | 00:10:22 | 75% | 95% | 1,000 |  5.32% |  2.76% |  2.13%\n",
      "  9 | 00:11:29 | 50% | 75% | 1,000 |  1.02% |  2.86% |  1.33%\n",
      " 10 | 00:12:46 | 75% | 95% |   250 |  5.13% |  2.99% |  2.18%\n",
      " 11 | 00:14:04 | 95% | 95% | 1,000 | 10.18% |  2.64% |  1.84%\n",
      " 12 | 00:15:14 | 50% | 95% |   500 |  0.47% |  2.80% |  1.54%\n",
      " 13 | 00:16:33 | 95% | 75% |   250 |  9.76% |  3.26% |  2.74%\n",
      " 14 | 00:17:43 | 75% | 75% |   500 |  4.92% |  2.90% |  1.54%\n",
      " 15 | 00:18:52 | 75% | 95% |   500 |  5.12% |  2.87% |  1.78%\n",
      " 16 | 00:20:04 | 95% | 75% | 1,000 | 10.40% |  2.85% |  1.70%\n",
      " 17 | 00:21:14 | 75% | 75% |   250 |  4.68% |  2.94% |  1.84%\n",
      "Lookahead: 21 | Train: 252 | Test: 21 | Params:  18\n",
      "  0 | 00:01:53 | 50% | 75% |   250 | -5.71% |  1.69% |  0.90%\n",
      "  1 | 00:03:43 | 50% | 75% |   500 | -5.67% |  1.67% |  0.87%\n",
      "  2 | 00:05:48 | 75% | 75% | 1,000 | -6.04% |  1.45% |  0.48%\n",
      "  3 | 00:07:40 | 50% | 95% | 1,000 | -6.44% |  1.56% |  1.38%\n",
      "  4 | 00:09:34 | 50% | 95% |   250 | -6.56% |  1.54% |  1.31%\n",
      "  5 | 00:11:51 | 95% | 75% |   500 | -4.51% |  1.45% |  0.32%\n",
      "  6 | 00:14:50 | 95% | 95% |   500 | -5.06% |  1.46% |  0.98%\n",
      "  7 | 00:17:42 | 95% | 95% |   250 | -5.10% |  1.51% |  0.90%\n",
      "  8 | 00:20:22 | 75% | 95% | 1,000 | -6.66% |  1.18% |  0.67%\n",
      "  9 | 00:22:20 | 50% | 75% | 1,000 | -5.50% |  2.03% |  0.89%\n",
      " 10 | 00:24:35 | 75% | 95% |   250 | -6.65% |  1.37% |  0.81%\n",
      " 11 | 00:26:56 | 95% | 95% | 1,000 | -5.06% |  1.32% |  0.61%\n",
      " 12 | 00:28:48 | 50% | 95% |   500 | -6.54% |  1.41% |  1.29%\n",
      " 13 | 00:31:05 | 95% | 75% |   250 | -4.59% |  1.61% |  0.40%\n",
      " 14 | 00:33:10 | 75% | 75% |   500 | -6.18% |  1.50% |  0.80%\n",
      " 15 | 00:35:18 | 75% | 95% |   500 | -6.59% |  1.32% |  0.81%\n",
      " 16 | 00:37:35 | 95% | 75% | 1,000 | -4.68% |  1.23% | -0.01%\n",
      " 17 | 00:39:42 | 75% | 75% |   250 | -6.16% |  1.54% |  0.71%\n",
      "Lookahead: 21 | Train: 756 | Test: 21 | Params:  18\n",
      "  0 | 00:04:01 | 50% | 75% |   250 | -6.84% |  0.77% |  0.48%\n",
      "  1 | 00:07:59 | 50% | 75% |   500 | -6.76% |  1.03% |  0.56%\n",
      "  2 | 00:12:55 | 75% | 75% | 1,000 | -8.84% |  1.10% |  0.81%\n",
      "  3 | 00:17:52 | 50% | 95% | 1,000 | -9.43% |  1.49% |  1.03%\n",
      "  4 | 00:22:09 | 50% | 95% |   250 | -9.59% |  1.11% |  0.75%\n",
      "  5 | 00:27:47 | 95% | 75% |   500 | -10.97% |  1.11% |  0.63%\n",
      "  6 | 00:33:58 | 95% | 95% |   500 | -12.27% |  0.23% | -0.34%\n",
      "  7 | 00:40:10 | 95% | 95% |   250 | -12.25% |  0.23% | -0.34%\n",
      "  8 | 00:45:29 | 75% | 95% | 1,000 | -10.07% |  0.67% |  0.42%\n",
      "  9 | 00:49:28 | 50% | 75% | 1,000 | -6.73% |  1.22% |  0.63%\n",
      " 10 | 00:54:46 | 75% | 95% |   250 | -10.31% |  0.37% |  0.16%\n",
      " 11 | 01:00:59 | 95% | 95% | 1,000 | -12.20% |  0.31% | -0.30%\n",
      " 12 | 01:05:10 | 50% | 95% |   500 | -9.58% |  1.44% |  1.09%\n",
      " 13 | 01:10:51 | 95% | 75% |   250 | -10.96% |  1.10% |  0.46%\n",
      " 14 | 01:15:49 | 75% | 75% |   500 | -8.86% |  0.98% |  0.59%\n",
      " 15 | 01:21:08 | 75% | 95% |   500 | -10.09% |  0.59% |  0.41%\n",
      " 16 | 01:26:46 | 95% | 75% | 1,000 | -10.96% |  1.18% |  0.79%\n",
      " 17 | 01:31:39 | 75% | 75% |   250 | -8.90% |  0.96% |  0.68%\n"
     ]
    }
   ],
   "source": [
    "for lookahead in lookaheads:\n",
    "    for train_length, test_length in test_params_:\n",
    "        n_splits = int(2 * YEAR / test_length)\n",
    "        print(f'Lookahead: {lookahead:2.0f} | Train: {train_length:3.0f} | '\n",
    "              f'Test: {test_length:2.0f} | Params: {len(cv_params_):3.0f}')\n",
    "\n",
    "        cv = MultipleTimeSeriesCV(n_splits=n_splits,\n",
    "                                  test_period_length=test_length,\n",
    "                                  train_period_length=train_length,\n",
    "                                  lookahead=lookahead)\n",
    "\n",
    "        label = label_dict[lookahead]\n",
    "        outcome_data = data.loc[:, features + [label]].dropna()\n",
    "\n",
    "        lgb_data = lgb.Dataset(data=outcome_data.drop(label, axis=1),\n",
    "                               label=outcome_data[label],\n",
    "                               categorical_feature=categoricals,\n",
    "                               free_raw_data=False)\n",
    "        predictions, daily_ic, ic, feature_importance = [], [], [], []\n",
    "        key = f'{lookahead}/{train_length}/{test_length}'\n",
    "        T = 0\n",
    "        for p, (bagging_fraction, feature_fraction, min_data_in_leaf) in enumerate(cv_params_):\n",
    "            params = base_params.copy()\n",
    "            params.update(dict(bagging_fraction=bagging_fraction,\n",
    "                               feature_fraction=feature_fraction,\n",
    "                               min_data_in_leaf=min_data_in_leaf))\n",
    "\n",
    "            start = time()\n",
    "            cv_preds, nrounds = [], []\n",
    "            for i, (train_idx, test_idx) in enumerate(cv.split(X=outcome_data)):\n",
    "                lgb_train = lgb_data.subset(used_indices=train_idx.tolist(), params=params).construct()\n",
    "                lgb_test = lgb_data.subset(used_indices=test_idx.tolist(), params=params).construct()\n",
    "\n",
    "                model = lgb.train(params=params,\n",
    "                                  train_set=lgb_train,\n",
    "                                  num_boost_round=num_boost_round,\n",
    "                                  verbose_eval=False)\n",
    "                if i == 0:\n",
    "                    fi = get_fi(model).to_frame()\n",
    "                else:\n",
    "                    fi[i] = get_fi(model)\n",
    "\n",
    "                test_set = outcome_data.iloc[test_idx, :]\n",
    "                X_test = test_set.loc[:, model.feature_name()]\n",
    "                y_test = test_set.loc[:, label]\n",
    "                y_pred = {str(n): model.predict(X_test, num_iteration=n)\n",
    "                          for n in num_iterations}\n",
    "                cv_preds.append(y_test.to_frame(\n",
    "                    'y_test').assign(**y_pred).assign(i=i))\n",
    "                nrounds.append(model.best_iteration)\n",
    "            feature_importance.append(fi.T.describe().T.assign(bagging_fraction=bagging_fraction,\n",
    "                                                               feature_fraction=feature_fraction,\n",
    "                                                               min_data_in_leaf=min_data_in_leaf))\n",
    "            cv_preds = pd.concat(cv_preds).assign(bagging_fraction=bagging_fraction,\n",
    "                                                  feature_fraction=feature_fraction,\n",
    "                                                  min_data_in_leaf=min_data_in_leaf)\n",
    "\n",
    "            predictions.append(cv_preds)\n",
    "            by_day = cv_preds.groupby(level='date')\n",
    "            ic_by_day = pd.concat([by_day.apply(lambda x: spearmanr(x.y_test,\n",
    "                                                                    x[str(n)])[0]).to_frame(n)\n",
    "                                   for n in num_iterations], axis=1)\n",
    "\n",
    "            daily_ic.append(ic_by_day.assign(bagging_fraction=bagging_fraction,\n",
    "                                             feature_fraction=feature_fraction,\n",
    "                                             min_data_in_leaf=min_data_in_leaf))\n",
    "\n",
    "            cv_ic = [spearmanr(cv_preds.y_test, cv_preds[str(n)])[0]\n",
    "                  for n in num_iterations]\n",
    "\n",
    "            T += time() - start\n",
    "            ic.append([bagging_fraction, feature_fraction,\n",
    "                       min_data_in_leaf, lookahead] + cv_ic)\n",
    "\n",
    "            msg = f'{p:3.0f} | {format_time(T)} | '\n",
    "            msg += f'{bagging_fraction:3.0%} | {feature_fraction:3.0%} | {min_data_in_leaf:5,.0f} | '\n",
    "            msg += f'{max(cv_ic):6.2%} | {ic_by_day.mean().max(): 6.2%} | {ic_by_day.median().max(): 6.2%}'\n",
    "            print(msg)\n",
    "\n",
    "        m = pd.DataFrame(ic, columns=ic_cols)\n",
    "        m.to_hdf(cv_store, 'ic/' + key)\n",
    "        pd.concat(daily_ic).to_hdf(cv_store, 'daily_ic/' + key)\n",
    "        pd.concat(feature_importance).to_hdf(cv_store, 'fi/' + key)\n",
    "        pd.concat(predictions).to_hdf(cv_store, 'predictions/' + key)"
   ]
  },
  {
   "cell_type": "markdown",
   "metadata": {},
   "source": [
    "## Analyse Cross-Validation Results"
   ]
  },
  {
   "cell_type": "markdown",
   "metadata": {},
   "source": [
    "### Collect Data"
   ]
  },
  {
   "cell_type": "markdown",
   "metadata": {},
   "source": [
    "We'll now combine the CV results that we stored separately for each fold (to avoid loosing results in case something goes wrong along the way):"
   ]
  },
  {
   "cell_type": "code",
   "execution_count": 45,
   "metadata": {
    "ExecuteTime": {
     "end_time": "2021-02-23T21:08:11.601163Z",
     "start_time": "2021-02-23T21:08:11.598884Z"
    }
   },
   "outputs": [],
   "source": [
    "id_vars = ['train_length',\n",
    "           'test_length',\n",
    "           'bagging_fraction',\n",
    "           'feature_fraction',\n",
    "           'min_data_in_leaf',\n",
    "           't', 'date']"
   ]
  },
  {
   "cell_type": "markdown",
   "metadata": {},
   "source": [
    "We'll look at the financial performance in the notebook `alphalens_signal_quality`."
   ]
  },
  {
   "cell_type": "code",
   "execution_count": 46,
   "metadata": {
    "ExecuteTime": {
     "end_time": "2021-02-23T21:09:53.526684Z",
     "start_time": "2021-02-23T21:09:52.554548Z"
    },
    "scrolled": true
   },
   "outputs": [
    {
     "name": "stdout",
     "output_type": "stream",
     "text": [
      "1\n",
      "756 21\n",
      "63 21\n",
      "252 21\n",
      "756 21\n",
      "63 21\n",
      "252 21\n",
      "5\n",
      "756 21\n",
      "63 21\n",
      "252 21\n",
      "10\n",
      "756 21\n",
      "63 21\n",
      "252 21\n",
      "21\n",
      "756 21\n",
      "63 21\n",
      "252 21\n"
     ]
    }
   ],
   "source": [
    "daily_ic, ic = [], []\n",
    "for t in lookaheads:\n",
    "    print(t)\n",
    "    with pd.HDFStore(cv_store) as store:\n",
    "        keys = [k[1:] for k in store.keys() if k.startswith(f'/fi/{t}')]\n",
    "        for key in keys:\n",
    "            train_length, test_length = key.split('/')[2:]\n",
    "            print(train_length, test_length)\n",
    "            k = f'{t}/{train_length}/{test_length}'\n",
    "            cols = {'t': t,\n",
    "                    'train_length': int(train_length),\n",
    "                    'test_length': int(test_length)}\n",
    "\n",
    "            ic.append(pd.melt(store['ic/' + k]\n",
    "                              .assign(**cols),\n",
    "                              id_vars=id_vars[:-1],\n",
    "                              value_name='ic',\n",
    "                              var_name='rounds')\n",
    "                      .apply(pd.to_numeric))\n",
    "\n",
    "            df = store['daily_ic/' + k].assign(**cols).reset_index()\n",
    "            daily_ic.append(pd.melt(df,\n",
    "                                    id_vars=id_vars,\n",
    "                                    value_name='daily_ic',\n",
    "                                    var_name='rounds')\n",
    "                            .set_index('date')\n",
    "                            .apply(pd.to_numeric)\n",
    "                            .reset_index())            \n",
    "ic = pd.concat(ic, ignore_index=True)\n",
    "daily_ic = pd.concat(daily_ic, ignore_index=True)"
   ]
  },
  {
   "cell_type": "markdown",
   "metadata": {},
   "source": [
    "### Predictive Performance: CV Information Coefficient by Day"
   ]
  },
  {
   "cell_type": "markdown",
   "metadata": {},
   "source": [
    "We first look at the daily IC, the metric we ultimately care about for a daily trading strategy. The best results for all prediction horizons are typically achieved with three years of training; the shorter horizons work better with 21 day testing period length. More regularization often improves the result but the impact of the bagging and feature fraction parameters are a little less clear cut and likely depend on other parameters."
   ]
  },
  {
   "cell_type": "code",
   "execution_count": 47,
   "metadata": {
    "ExecuteTime": {
     "end_time": "2021-02-23T21:09:56.260286Z",
     "start_time": "2021-02-23T21:09:56.033651Z"
    }
   },
   "outputs": [
    {
     "data": {
      "text/html": [
       "<div>\n",
       "<style scoped>\n",
       "    .dataframe tbody tr th:only-of-type {\n",
       "        vertical-align: middle;\n",
       "    }\n",
       "\n",
       "    .dataframe tbody tr th {\n",
       "        vertical-align: top;\n",
       "    }\n",
       "\n",
       "    .dataframe thead th {\n",
       "        text-align: right;\n",
       "    }\n",
       "</style>\n",
       "<table border=\"1\" class=\"dataframe\">\n",
       "  <thead>\n",
       "    <tr style=\"text-align: right;\">\n",
       "      <th></th>\n",
       "      <th>t</th>\n",
       "      <th>train_length</th>\n",
       "      <th>test_length</th>\n",
       "      <th>bagging_fraction</th>\n",
       "      <th>feature_fraction</th>\n",
       "      <th>min_data_in_leaf</th>\n",
       "      <th>rounds</th>\n",
       "      <th>ic</th>\n",
       "    </tr>\n",
       "  </thead>\n",
       "  <tbody>\n",
       "    <tr>\n",
       "      <th>161</th>\n",
       "      <td>1</td>\n",
       "      <td>63</td>\n",
       "      <td>21</td>\n",
       "      <td>0.75</td>\n",
       "      <td>0.75</td>\n",
       "      <td>1000</td>\n",
       "      <td>50</td>\n",
       "      <td>0.013466</td>\n",
       "    </tr>\n",
       "    <tr>\n",
       "      <th>160</th>\n",
       "      <td>1</td>\n",
       "      <td>63</td>\n",
       "      <td>21</td>\n",
       "      <td>0.75</td>\n",
       "      <td>0.75</td>\n",
       "      <td>1000</td>\n",
       "      <td>25</td>\n",
       "      <td>0.012966</td>\n",
       "    </tr>\n",
       "    <tr>\n",
       "      <th>162</th>\n",
       "      <td>1</td>\n",
       "      <td>63</td>\n",
       "      <td>21</td>\n",
       "      <td>0.75</td>\n",
       "      <td>0.75</td>\n",
       "      <td>1000</td>\n",
       "      <td>75</td>\n",
       "      <td>0.012946</td>\n",
       "    </tr>\n",
       "    <tr>\n",
       "      <th>1942</th>\n",
       "      <td>5</td>\n",
       "      <td>756</td>\n",
       "      <td>21</td>\n",
       "      <td>0.75</td>\n",
       "      <td>0.75</td>\n",
       "      <td>500</td>\n",
       "      <td>75</td>\n",
       "      <td>0.017819</td>\n",
       "    </tr>\n",
       "    <tr>\n",
       "      <th>1962</th>\n",
       "      <td>5</td>\n",
       "      <td>756</td>\n",
       "      <td>21</td>\n",
       "      <td>0.75</td>\n",
       "      <td>0.75</td>\n",
       "      <td>1000</td>\n",
       "      <td>75</td>\n",
       "      <td>0.017804</td>\n",
       "    </tr>\n",
       "    <tr>\n",
       "      <th>1805</th>\n",
       "      <td>5</td>\n",
       "      <td>756</td>\n",
       "      <td>21</td>\n",
       "      <td>0.50</td>\n",
       "      <td>0.75</td>\n",
       "      <td>250</td>\n",
       "      <td>150</td>\n",
       "      <td>0.017762</td>\n",
       "    </tr>\n",
       "    <tr>\n",
       "      <th>2886</th>\n",
       "      <td>10</td>\n",
       "      <td>756</td>\n",
       "      <td>21</td>\n",
       "      <td>0.50</td>\n",
       "      <td>0.75</td>\n",
       "      <td>250</td>\n",
       "      <td>175</td>\n",
       "      <td>0.016297</td>\n",
       "    </tr>\n",
       "    <tr>\n",
       "      <th>2887</th>\n",
       "      <td>10</td>\n",
       "      <td>756</td>\n",
       "      <td>21</td>\n",
       "      <td>0.50</td>\n",
       "      <td>0.75</td>\n",
       "      <td>250</td>\n",
       "      <td>200</td>\n",
       "      <td>0.015740</td>\n",
       "    </tr>\n",
       "    <tr>\n",
       "      <th>2906</th>\n",
       "      <td>10</td>\n",
       "      <td>756</td>\n",
       "      <td>21</td>\n",
       "      <td>0.50</td>\n",
       "      <td>0.75</td>\n",
       "      <td>500</td>\n",
       "      <td>175</td>\n",
       "      <td>0.015297</td>\n",
       "    </tr>\n",
       "    <tr>\n",
       "      <th>3481</th>\n",
       "      <td>21</td>\n",
       "      <td>63</td>\n",
       "      <td>21</td>\n",
       "      <td>0.95</td>\n",
       "      <td>0.75</td>\n",
       "      <td>250</td>\n",
       "      <td>50</td>\n",
       "      <td>0.032590</td>\n",
       "    </tr>\n",
       "    <tr>\n",
       "      <th>3484</th>\n",
       "      <td>21</td>\n",
       "      <td>63</td>\n",
       "      <td>21</td>\n",
       "      <td>0.95</td>\n",
       "      <td>0.75</td>\n",
       "      <td>250</td>\n",
       "      <td>125</td>\n",
       "      <td>0.032105</td>\n",
       "    </tr>\n",
       "    <tr>\n",
       "      <th>3482</th>\n",
       "      <td>21</td>\n",
       "      <td>63</td>\n",
       "      <td>21</td>\n",
       "      <td>0.95</td>\n",
       "      <td>0.75</td>\n",
       "      <td>250</td>\n",
       "      <td>75</td>\n",
       "      <td>0.031893</td>\n",
       "    </tr>\n",
       "  </tbody>\n",
       "</table>\n",
       "</div>"
      ],
      "text/plain": [
       "       t  train_length  test_length  bagging_fraction  feature_fraction  \\\n",
       "161    1            63           21              0.75              0.75   \n",
       "160    1            63           21              0.75              0.75   \n",
       "162    1            63           21              0.75              0.75   \n",
       "1942   5           756           21              0.75              0.75   \n",
       "1962   5           756           21              0.75              0.75   \n",
       "1805   5           756           21              0.50              0.75   \n",
       "2886  10           756           21              0.50              0.75   \n",
       "2887  10           756           21              0.50              0.75   \n",
       "2906  10           756           21              0.50              0.75   \n",
       "3481  21            63           21              0.95              0.75   \n",
       "3484  21            63           21              0.95              0.75   \n",
       "3482  21            63           21              0.95              0.75   \n",
       "\n",
       "      min_data_in_leaf  rounds        ic  \n",
       "161               1000      50  0.013466  \n",
       "160               1000      25  0.012966  \n",
       "162               1000      75  0.012946  \n",
       "1942               500      75  0.017819  \n",
       "1962              1000      75  0.017804  \n",
       "1805               250     150  0.017762  \n",
       "2886               250     175  0.016297  \n",
       "2887               250     200  0.015740  \n",
       "2906               500     175  0.015297  \n",
       "3481               250      50  0.032590  \n",
       "3484               250     125  0.032105  \n",
       "3482               250      75  0.031893  "
      ]
     },
     "execution_count": 47,
     "metadata": {},
     "output_type": "execute_result"
    }
   ],
   "source": [
    "group_cols = ['t','train_length', 'test_length', \n",
    "              'bagging_fraction', 'feature_fraction', 'min_data_in_leaf']\n",
    "daily_ic_avg = daily_ic.groupby(group_cols + ['rounds']).daily_ic.mean().to_frame('ic').reset_index()\n",
    "daily_ic_avg.groupby('t', group_keys=False).apply(lambda x: x.nlargest(3, 'ic'))"
   ]
  },
  {
   "cell_type": "code",
   "execution_count": 48,
   "metadata": {
    "ExecuteTime": {
     "end_time": "2021-02-23T21:09:57.084490Z",
     "start_time": "2021-02-23T21:09:57.076867Z"
    }
   },
   "outputs": [
    {
     "name": "stdout",
     "output_type": "stream",
     "text": [
      "<class 'pandas.core.frame.DataFrame'>\n",
      "RangeIndex: 4320 entries, 0 to 4319\n",
      "Data columns (total 8 columns):\n",
      " #   Column            Non-Null Count  Dtype  \n",
      "---  ------            --------------  -----  \n",
      " 0   t                 4320 non-null   int64  \n",
      " 1   train_length      4320 non-null   int64  \n",
      " 2   test_length       4320 non-null   int64  \n",
      " 3   bagging_fraction  4320 non-null   float64\n",
      " 4   feature_fraction  4320 non-null   float64\n",
      " 5   min_data_in_leaf  4320 non-null   int64  \n",
      " 6   rounds            4320 non-null   int64  \n",
      " 7   ic                4320 non-null   float64\n",
      "dtypes: float64(3), int64(5)\n",
      "memory usage: 270.1 KB\n"
     ]
    }
   ],
   "source": [
    "daily_ic_avg.info(null_counts=True)"
   ]
  },
  {
   "cell_type": "markdown",
   "metadata": {},
   "source": [
    "For a 1-day forecast horizon, over 75% of the predictions yield a positive daily IC; the same is true for 21 days which, unsurprisingly, also shows a wider range."
   ]
  },
  {
   "cell_type": "code",
   "execution_count": 49,
   "metadata": {
    "ExecuteTime": {
     "end_time": "2021-02-23T21:09:59.239313Z",
     "start_time": "2021-02-23T21:09:59.116945Z"
    }
   },
   "outputs": [
    {
     "data": {
      "image/png": "[encoded data removed]",
      "text/plain": [
       "<Figure size 432x288 with 1 Axes>"
      ]
     },
     "metadata": {},
     "output_type": "display_data"
    }
   ],
   "source": [
    "ax = sns.boxenplot(x='t', y='ic', data=daily_ic_avg)\n",
    "ax.axhline(0, ls='--', lw=1, c='k');"
   ]
  },
  {
   "cell_type": "code",
   "execution_count": 50,
   "metadata": {
    "ExecuteTime": {
     "end_time": "2021-02-23T21:10:00.267110Z",
     "start_time": "2021-02-23T21:09:59.282710Z"
    }
   },
   "outputs": [
    {
     "data": {
      "image/png": "[encoded data removed]",
      "text/plain": [
       "<Figure size 1080x360 with 3 Axes>"
      ]
     },
     "metadata": {},
     "output_type": "display_data"
    }
   ],
   "source": [
    "g = sns.catplot(x='t',\n",
    "                y='ic',\n",
    "                col='train_length',\n",
    "                row='test_length',\n",
    "                data=daily_ic_avg[(daily_ic_avg.test_length == 21)],\n",
    "                kind='boxen')\n",
    "g.savefig(results_path / 'daily_ic_test_21', dpi=300);"
   ]
  },
  {
   "cell_type": "markdown",
   "metadata": {},
   "source": [
    "### HyperParameter Impact: Linear Regression"
   ]
  },
  {
   "cell_type": "markdown",
   "metadata": {},
   "source": [
    "To get a better idea of how the various CV parameters impact the forecast quality, we can run a linear regression with the daily IC as outcome and the one-hot encoded hyperparameters as inputs:"
   ]
  },
  {
   "cell_type": "code",
   "execution_count": 51,
   "metadata": {
    "ExecuteTime": {
     "end_time": "2021-02-23T21:10:03.122098Z",
     "start_time": "2021-02-23T21:10:03.056750Z"
    }
   },
   "outputs": [],
   "source": [
    "lin_reg = {}\n",
    "for t in [1, 5]:\n",
    "    df_ = daily_ic_avg[(daily_ic_avg.t==t)&(daily_ic_avg.rounds<=250)].dropna()\n",
    "    y, X = df_.ic, df_.drop(['ic', 't'], axis=1)\n",
    "    X = sm.add_constant(pd.get_dummies(X, columns=X.columns, drop_first=True))\n",
    "    model = sm.OLS(endog=y, exog=X)\n",
    "    lin_reg[t] = model.fit()\n",
    "    s = lin_reg[t].summary()\n",
    "    coefs = pd.read_csv(StringIO(s.tables[1].as_csv())).rename(\n",
    "        columns=lambda x: x.strip())\n",
    "    coefs.columns = ['variable', 'coef', 'std_err',\n",
    "                     't', 'p_value', 'ci_low', 'ci_high']\n",
    "    coefs.to_csv(results_path / f'lr_result_{t:02}.csv', index=False)"
   ]
  },
  {
   "cell_type": "code",
   "execution_count": 52,
   "metadata": {
    "ExecuteTime": {
     "end_time": "2021-02-23T21:10:03.695084Z",
     "start_time": "2021-02-23T21:10:03.686275Z"
    }
   },
   "outputs": [],
   "source": [
    "def visualize_lr_result(model, ax):\n",
    "    ci = model.conf_int()\n",
    "    errors = ci[1].sub(ci[0]).div(2)\n",
    "\n",
    "    coefs = (model.params.to_frame('coef').assign(error=errors)\n",
    "             .reset_index().rename(columns={'index': 'variable'}))\n",
    "    coefs = coefs[~coefs['variable'].str.startswith(\n",
    "        'date') & (coefs.variable != 'const')]\n",
    "    coefs.variable = coefs.variable.str.split('_').str[-1]\n",
    "\n",
    "    coefs.plot(x='variable', y='coef', kind='bar', ax=ax, \n",
    "               color='none', capsize=3, yerr='error', legend=False, rot=0)    \n",
    "    ax.set_ylabel('IC')\n",
    "    ax.set_xlabel('')\n",
    "    ax.scatter(x=pd.np.arange(len(coefs)), marker='_', s=120, y=coefs['coef'], color='black')\n",
    "    ax.axhline(y=0, linestyle='--', color='black', linewidth=1)\n",
    "    ax.xaxis.set_ticks_position('none')\n",
    "\n",
    "    ax.annotate('Train\\nLength', xy=(.09, -0.1), xytext=(.09, -0.2),\n",
    "                xycoords='axes fraction',\n",
    "                textcoords='axes fraction',\n",
    "                fontsize=11, ha='center', va='bottom',\n",
    "                bbox=dict(boxstyle='square', fc='white', ec='black'),\n",
    "                arrowprops=dict(arrowstyle='-[, widthB=5, lengthB=0.8', lw=1.0, color='black'))\n",
    "\n",
    "    ax.annotate('Test\\nLength', xy=(.23, -0.1), xytext=(.23, -0.2),\n",
    "                xycoords='axes fraction',\n",
    "                textcoords='axes fraction',\n",
    "                fontsize=11, ha='center', va='bottom',\n",
    "                bbox=dict(boxstyle='square', fc='white', ec='black'),\n",
    "                arrowprops=dict(arrowstyle='-[, widthB=2, lengthB=0.8', lw=1.0, color='black'))\n",
    "\n",
    "    ax.annotate('Bagging\\nFraction', xy=(.32, -0.1), xytext=(.32, -0.2),\n",
    "                xycoords='axes fraction',\n",
    "                textcoords='axes fraction',\n",
    "                fontsize=11, ha='center', va='bottom',\n",
    "                bbox=dict(boxstyle='square', fc='white', ec='black'),\n",
    "                arrowprops=dict(arrowstyle='-[, widthB=2.7, lengthB=0.8', lw=1.0, color='black'))\n",
    "\n",
    "\n",
    "    ax.annotate('Feature\\nFraction', xy=(.44, -0.1), xytext=(.44, -0.2),\n",
    "                xycoords='axes fraction',\n",
    "                textcoords='axes fraction',\n",
    "                fontsize=11, ha='center', va='bottom',\n",
    "                bbox=dict(boxstyle='square', fc='white', ec='black'),\n",
    "                arrowprops=dict(arrowstyle='-[, widthB=3.4, lengthB=1.0', lw=1.0, color='black'))\n",
    "    \n",
    "\n",
    "    ax.annotate('Min.\\nSamples', xy=(.55, -0.1), xytext=(.55, -0.2),\n",
    "                xycoords='axes fraction',\n",
    "                textcoords='axes fraction',\n",
    "                fontsize=11, ha='center', va='bottom',\n",
    "                bbox=dict(boxstyle='square', fc='white', ec='black'),\n",
    "                arrowprops=dict(arrowstyle='-[, widthB=2.5, lengthB=1.0', lw=1.0, color='black'))    \n",
    "    \n",
    "    ax.annotate('Number of\\nRounds', xy=(.8, -0.1), xytext=(.8, -0.2),\n",
    "                xycoords='axes fraction',\n",
    "                textcoords='axes fraction',\n",
    "                fontsize=11, ha='center', va='bottom',\n",
    "                bbox=dict(boxstyle='square', fc='white', ec='black'),\n",
    "                arrowprops=dict(arrowstyle='-[, widthB=11.2, lengthB=1.0', lw=1.0, color='black'))"
   ]
  },
  {
   "cell_type": "markdown",
   "metadata": {},
   "source": [
    "The below plot shows the regression coefficient values and their confidence intervals. The intercept (not shown) has a small positive value and is statistically signifant; it captures the impact of the dropped categories (the smallest value for each parameter).\n",
    "\n",
    "For 1-day forecasts, some but not all results are insightful: 21-day testing is better, and so is `min_samples_leaf` of 500 or 1,000. 100-200 trees seem to work best, but both shorter and longer training periods are better than intermediate values."
   ]
  },
  {
   "cell_type": "code",
   "execution_count": 53,
   "metadata": {
    "ExecuteTime": {
     "end_time": "2021-02-23T21:10:06.305149Z",
     "start_time": "2021-02-23T21:10:05.696990Z"
    }
   },
   "outputs": [
    {
     "data": {
      "image/png": "[encoded data removed]",
      "text/plain": [
       "<Figure size 1440x432 with 2 Axes>"
      ]
     },
     "metadata": {},
     "output_type": "display_data"
    }
   ],
   "source": [
    "with sns.axes_style('white'):\n",
    "    fig, axes = plt.subplots(nrows=1, ncols=2, figsize=(20, 6))\n",
    "    axes = axes.flatten()\n",
    "    for i, t in enumerate([1, 5]):\n",
    "        visualize_lr_result(lin_reg[t], axes[i])\n",
    "        axes[i].set_title(f'Lookahead: {t} Day(s)')\n",
    "    fig.suptitle('OLS Coefficients & Confidence Intervals', fontsize=20)\n",
    "    fig.tight_layout()\n",
    "    fig.subplots_adjust(top=.92)"
   ]
  },
  {
   "cell_type": "markdown",
   "metadata": {},
   "source": [
    "### Information Coefficient: Overall"
   ]
  },
  {
   "cell_type": "markdown",
   "metadata": {},
   "source": [
    "We'll also take a look at the overall IC value, which is often reported but does not necessarily match the goal of a daily trading strategy that uses the model return predictions as well as the daily IC."
   ]
  },
  {
   "cell_type": "code",
   "execution_count": 54,
   "metadata": {
    "ExecuteTime": {
     "end_time": "2021-02-23T21:10:24.159865Z",
     "start_time": "2021-02-23T21:10:24.148886Z"
    }
   },
   "outputs": [
    {
     "name": "stdout",
     "output_type": "stream",
     "text": [
      "<class 'pandas.core.frame.DataFrame'>\n",
      "RangeIndex: 5400 entries, 0 to 5399\n",
      "Data columns (total 8 columns):\n",
      " #   Column            Non-Null Count  Dtype  \n",
      "---  ------            --------------  -----  \n",
      " 0   train_length      5400 non-null   int64  \n",
      " 1   test_length       5400 non-null   int64  \n",
      " 2   bagging_fraction  5400 non-null   float64\n",
      " 3   feature_fraction  5400 non-null   float64\n",
      " 4   min_data_in_leaf  5400 non-null   int64  \n",
      " 5   t                 5400 non-null   int64  \n",
      " 6   rounds            5400 non-null   int64  \n",
      " 7   ic                5400 non-null   float64\n",
      "dtypes: float64(3), int64(5)\n",
      "memory usage: 337.6 KB\n"
     ]
    }
   ],
   "source": [
    "ic.info()"
   ]
  },
  {
   "cell_type": "markdown",
   "metadata": {},
   "source": [
    "#### Best Parameters"
   ]
  },
  {
   "cell_type": "markdown",
   "metadata": {},
   "source": [
    "Directionally, and for shorter periods, similar hyperparameter settings work best (while the IC values are higher):"
   ]
  },
  {
   "cell_type": "code",
   "execution_count": 55,
   "metadata": {
    "ExecuteTime": {
     "end_time": "2021-02-23T21:10:26.999923Z",
     "start_time": "2021-02-23T21:10:26.983402Z"
    }
   },
   "outputs": [
    {
     "data": {
      "text/html": [
       "<div>\n",
       "<style scoped>\n",
       "    .dataframe tbody tr th:only-of-type {\n",
       "        vertical-align: middle;\n",
       "    }\n",
       "\n",
       "    .dataframe tbody tr th {\n",
       "        vertical-align: top;\n",
       "    }\n",
       "\n",
       "    .dataframe thead th {\n",
       "        text-align: right;\n",
       "    }\n",
       "</style>\n",
       "<table border=\"1\" class=\"dataframe\">\n",
       "  <thead>\n",
       "    <tr style=\"text-align: right;\">\n",
       "      <th></th>\n",
       "      <th></th>\n",
       "      <th>train_length</th>\n",
       "      <th>test_length</th>\n",
       "      <th>bagging_fraction</th>\n",
       "      <th>feature_fraction</th>\n",
       "      <th>min_data_in_leaf</th>\n",
       "      <th>t</th>\n",
       "      <th>rounds</th>\n",
       "      <th>ic</th>\n",
       "    </tr>\n",
       "    <tr>\n",
       "      <th>t</th>\n",
       "      <th></th>\n",
       "      <th></th>\n",
       "      <th></th>\n",
       "      <th></th>\n",
       "      <th></th>\n",
       "      <th></th>\n",
       "      <th></th>\n",
       "      <th></th>\n",
       "      <th></th>\n",
       "    </tr>\n",
       "  </thead>\n",
       "  <tbody>\n",
       "    <tr>\n",
       "      <th rowspan=\"3\" valign=\"top\">1</th>\n",
       "      <th>1051</th>\n",
       "      <td>252</td>\n",
       "      <td>21</td>\n",
       "      <td>0.95</td>\n",
       "      <td>0.95</td>\n",
       "      <td>250</td>\n",
       "      <td>1</td>\n",
       "      <td>475</td>\n",
       "      <td>0.034049</td>\n",
       "    </tr>\n",
       "    <tr>\n",
       "      <th>2131</th>\n",
       "      <td>252</td>\n",
       "      <td>21</td>\n",
       "      <td>0.95</td>\n",
       "      <td>0.95</td>\n",
       "      <td>250</td>\n",
       "      <td>1</td>\n",
       "      <td>475</td>\n",
       "      <td>0.034049</td>\n",
       "    </tr>\n",
       "    <tr>\n",
       "      <th>979</th>\n",
       "      <td>252</td>\n",
       "      <td>21</td>\n",
       "      <td>0.95</td>\n",
       "      <td>0.95</td>\n",
       "      <td>250</td>\n",
       "      <td>1</td>\n",
       "      <td>375</td>\n",
       "      <td>0.034045</td>\n",
       "    </tr>\n",
       "    <tr>\n",
       "      <th rowspan=\"3\" valign=\"top\">5</th>\n",
       "      <th>2194</th>\n",
       "      <td>756</td>\n",
       "      <td>21</td>\n",
       "      <td>0.95</td>\n",
       "      <td>0.75</td>\n",
       "      <td>1000</td>\n",
       "      <td>5</td>\n",
       "      <td>50</td>\n",
       "      <td>0.025161</td>\n",
       "    </tr>\n",
       "    <tr>\n",
       "      <th>2421</th>\n",
       "      <td>756</td>\n",
       "      <td>21</td>\n",
       "      <td>0.50</td>\n",
       "      <td>0.75</td>\n",
       "      <td>1000</td>\n",
       "      <td>5</td>\n",
       "      <td>375</td>\n",
       "      <td>0.024792</td>\n",
       "    </tr>\n",
       "    <tr>\n",
       "      <th>2295</th>\n",
       "      <td>756</td>\n",
       "      <td>21</td>\n",
       "      <td>0.50</td>\n",
       "      <td>0.75</td>\n",
       "      <td>1000</td>\n",
       "      <td>5</td>\n",
       "      <td>200</td>\n",
       "      <td>0.024420</td>\n",
       "    </tr>\n",
       "    <tr>\n",
       "      <th rowspan=\"3\" valign=\"top\">10</th>\n",
       "      <th>3258</th>\n",
       "      <td>756</td>\n",
       "      <td>21</td>\n",
       "      <td>0.50</td>\n",
       "      <td>0.75</td>\n",
       "      <td>250</td>\n",
       "      <td>10</td>\n",
       "      <td>50</td>\n",
       "      <td>0.031098</td>\n",
       "    </tr>\n",
       "    <tr>\n",
       "      <th>3240</th>\n",
       "      <td>756</td>\n",
       "      <td>21</td>\n",
       "      <td>0.50</td>\n",
       "      <td>0.75</td>\n",
       "      <td>250</td>\n",
       "      <td>10</td>\n",
       "      <td>25</td>\n",
       "      <td>0.031094</td>\n",
       "    </tr>\n",
       "    <tr>\n",
       "      <th>3370</th>\n",
       "      <td>756</td>\n",
       "      <td>21</td>\n",
       "      <td>0.50</td>\n",
       "      <td>0.95</td>\n",
       "      <td>250</td>\n",
       "      <td>10</td>\n",
       "      <td>200</td>\n",
       "      <td>0.028374</td>\n",
       "    </tr>\n",
       "    <tr>\n",
       "      <th rowspan=\"3\" valign=\"top\">21</th>\n",
       "      <th>4696</th>\n",
       "      <td>63</td>\n",
       "      <td>21</td>\n",
       "      <td>0.95</td>\n",
       "      <td>0.75</td>\n",
       "      <td>1000</td>\n",
       "      <td>21</td>\n",
       "      <td>25</td>\n",
       "      <td>0.104042</td>\n",
       "    </tr>\n",
       "    <tr>\n",
       "      <th>4691</th>\n",
       "      <td>63</td>\n",
       "      <td>21</td>\n",
       "      <td>0.95</td>\n",
       "      <td>0.95</td>\n",
       "      <td>1000</td>\n",
       "      <td>21</td>\n",
       "      <td>25</td>\n",
       "      <td>0.101774</td>\n",
       "    </tr>\n",
       "    <tr>\n",
       "      <th>4727</th>\n",
       "      <td>63</td>\n",
       "      <td>21</td>\n",
       "      <td>0.95</td>\n",
       "      <td>0.95</td>\n",
       "      <td>1000</td>\n",
       "      <td>21</td>\n",
       "      <td>75</td>\n",
       "      <td>0.101336</td>\n",
       "    </tr>\n",
       "  </tbody>\n",
       "</table>\n",
       "</div>"
      ],
      "text/plain": [
       "         train_length  test_length  bagging_fraction  feature_fraction  \\\n",
       "t                                                                        \n",
       "1  1051           252           21              0.95              0.95   \n",
       "   2131           252           21              0.95              0.95   \n",
       "   979            252           21              0.95              0.95   \n",
       "5  2194           756           21              0.95              0.75   \n",
       "   2421           756           21              0.50              0.75   \n",
       "   2295           756           21              0.50              0.75   \n",
       "10 3258           756           21              0.50              0.75   \n",
       "   3240           756           21              0.50              0.75   \n",
       "   3370           756           21              0.50              0.95   \n",
       "21 4696            63           21              0.95              0.75   \n",
       "   4691            63           21              0.95              0.95   \n",
       "   4727            63           21              0.95              0.95   \n",
       "\n",
       "         min_data_in_leaf   t  rounds        ic  \n",
       "t                                                \n",
       "1  1051               250   1     475  0.034049  \n",
       "   2131               250   1     475  0.034049  \n",
       "   979                250   1     375  0.034045  \n",
       "5  2194              1000   5      50  0.025161  \n",
       "   2421              1000   5     375  0.024792  \n",
       "   2295              1000   5     200  0.024420  \n",
       "10 3258               250  10      50  0.031098  \n",
       "   3240               250  10      25  0.031094  \n",
       "   3370               250  10     200  0.028374  \n",
       "21 4696              1000  21      25  0.104042  \n",
       "   4691              1000  21      25  0.101774  \n",
       "   4727              1000  21      75  0.101336  "
      ]
     },
     "execution_count": 55,
     "metadata": {},
     "output_type": "execute_result"
    }
   ],
   "source": [
    "ic.groupby('t').apply(lambda x: x.nlargest(3, 'ic'))"
   ]
  },
  {
   "cell_type": "markdown",
   "metadata": {},
   "source": [
    "#### Visualiztion"
   ]
  },
  {
   "cell_type": "code",
   "execution_count": 56,
   "metadata": {
    "ExecuteTime": {
     "end_time": "2021-02-23T21:10:28.369762Z",
     "start_time": "2021-02-23T21:10:27.970520Z"
    }
   },
   "outputs": [
    {
     "data": {
      "image/png": "[encoded data removed]",
      "text/plain": [
       "<Figure size 1080x360 with 3 Axes>"
      ]
     },
     "metadata": {},
     "output_type": "display_data"
    }
   ],
   "source": [
    "g = sns.catplot(x='t',\n",
    "                y='ic',\n",
    "                col='train_length',\n",
    "                row='test_length',\n",
    "                data=ic[(ic.test_length == 21) & (ic.t < 21)],\n",
    "                kind='box')"
   ]
  },
  {
   "cell_type": "code",
   "execution_count": 57,
   "metadata": {
    "ExecuteTime": {
     "end_time": "2021-02-23T21:10:37.904492Z",
     "start_time": "2021-02-23T21:10:30.194796Z"
    }
   },
   "outputs": [
    {
     "data": {
      "image/png": "[encoded data removed]",
      "text/plain": [
       "<Figure size 812.25x1080 with 6 Axes>"
      ]
     },
     "metadata": {},
     "output_type": "display_data"
    }
   ],
   "source": [
    "t = 1\n",
    "train_length = 756\n",
    "test_length = 21\n",
    "g = sns.catplot(x='rounds',\n",
    "    y='ic',\n",
    "    col='feature_fraction',\n",
    "    hue='bagging_fraction',\n",
    "    row='min_data_in_leaf',\n",
    "    data=ic[(ic.t == t) &\n",
    "            (ic.train_length == train_length) &\n",
    "            (ic.test_length == test_length)],\n",
    "    kind='swarm');"
   ]
  },
  {
   "cell_type": "markdown",
   "metadata": {},
   "source": [
    "### Random Forest vs Linear Regression "
   ]
  },
  {
   "cell_type": "markdown",
   "metadata": {},
   "source": [
    "Let's compare the best-performing (in-sample) random forest models to our linear regression baseline:"
   ]
  },
  {
   "cell_type": "code",
   "execution_count": 59,
   "metadata": {
    "ExecuteTime": {
     "end_time": "2021-02-23T21:10:51.280229Z",
     "start_time": "2021-02-23T21:10:51.271304Z"
    }
   },
   "outputs": [
    {
     "name": "stdout",
     "output_type": "stream",
     "text": [
      "<class 'pandas.core.frame.DataFrame'>\n",
      "RangeIndex: 40 entries, 0 to 39\n",
      "Data columns (total 5 columns):\n",
      " #   Column        Non-Null Count  Dtype  \n",
      "---  ------        --------------  -----  \n",
      " 0   lookahead     40 non-null     int64  \n",
      " 1   train_length  40 non-null     int64  \n",
      " 2   test_length   40 non-null     int64  \n",
      " 3   ic_by_day     40 non-null     float64\n",
      " 4   ic            40 non-null     float64\n",
      "dtypes: float64(2), int64(3)\n",
      "memory usage: 1.7 KB\n"
     ]
    }
   ],
   "source": [
    "lr_metrics = pd.read_csv(results_path / 'lin_reg_performance.csv')\n",
    "lr_metrics.info()"
   ]
  },
  {
   "cell_type": "code",
   "execution_count": 60,
   "metadata": {
    "ExecuteTime": {
     "end_time": "2021-02-23T21:10:52.660412Z",
     "start_time": "2021-02-23T21:10:52.652725Z"
    }
   },
   "outputs": [
    {
     "name": "stdout",
     "output_type": "stream",
     "text": [
      "<class 'pandas.core.frame.DataFrame'>\n",
      "RangeIndex: 4320 entries, 0 to 4319\n",
      "Data columns (total 8 columns):\n",
      " #   Column            Non-Null Count  Dtype  \n",
      "---  ------            --------------  -----  \n",
      " 0   t                 4320 non-null   int64  \n",
      " 1   train_length      4320 non-null   int64  \n",
      " 2   test_length       4320 non-null   int64  \n",
      " 3   bagging_fraction  4320 non-null   float64\n",
      " 4   feature_fraction  4320 non-null   float64\n",
      " 5   min_data_in_leaf  4320 non-null   int64  \n",
      " 6   rounds            4320 non-null   int64  \n",
      " 7   ic                4320 non-null   float64\n",
      "dtypes: float64(3), int64(5)\n",
      "memory usage: 270.1 KB\n"
     ]
    }
   ],
   "source": [
    "daily_ic_avg.info()"
   ]
  },
  {
   "cell_type": "markdown",
   "metadata": {},
   "source": [
    "The results are mixed: for the shortest and longest horizons, the random forest outperforms (slightly for 1 day), while linear regression is competitive for the intermediate horizons:"
   ]
  },
  {
   "cell_type": "code",
   "execution_count": 61,
   "metadata": {
    "ExecuteTime": {
     "end_time": "2021-02-23T21:10:55.223622Z",
     "start_time": "2021-02-23T21:10:55.032734Z"
    }
   },
   "outputs": [
    {
     "data": {
      "image/png": "[encoded data removed]",
      "text/plain": [
       "<Figure size 432x288 with 1 Axes>"
      ]
     },
     "metadata": {},
     "output_type": "display_data"
    }
   ],
   "source": [
    "with sns.axes_style(\"white\"):\n",
    "    ax = (ic.groupby('t').ic.max().to_frame('Random Forest')\n",
    "     .join(lr_metrics.groupby('lookahead').ic.max().to_frame('Linear Regression')).plot.barh())\n",
    "    ax.set_ylabel('Lookahead')\n",
    "    ax.set_xlabel('Information Coefficient')\n",
    "    sns.despine()\n",
    "    plt.tight_layout();"
   ]
  },
  {
   "cell_type": "markdown",
   "metadata": {},
   "source": [
    "## Generate predictions"
   ]
  },
  {
   "cell_type": "markdown",
   "metadata": {},
   "source": [
    "To build and evaluate a trading strategy, we create predictions for the 2018-19 period using the 10 best models that we then ensemble:"
   ]
  },
  {
   "cell_type": "code",
   "execution_count": 62,
   "metadata": {
    "ExecuteTime": {
     "end_time": "2021-02-23T21:10:56.276550Z",
     "start_time": "2021-02-23T21:10:56.274762Z"
    }
   },
   "outputs": [],
   "source": [
    "param_cols = ['train_length', 'test_length', 'bagging_fraction',\n",
    "              'feature_fraction', 'min_data_in_leaf', 'rounds']"
   ]
  },
  {
   "cell_type": "code",
   "execution_count": 63,
   "metadata": {
    "ExecuteTime": {
     "end_time": "2021-02-23T21:10:58.310089Z",
     "start_time": "2021-02-23T21:10:58.304594Z"
    }
   },
   "outputs": [],
   "source": [
    "def get_params(data, t=5, best=0):\n",
    "    df = data[data.t == t].sort_values('ic', ascending=False).iloc[best]\n",
    "    df = df.loc[param_cols]\n",
    "    rounds = int(df.rounds)\n",
    "    params = pd.to_numeric(df.drop('rounds'))\n",
    "    return params, rounds"
   ]
  },
  {
   "cell_type": "code",
   "execution_count": 64,
   "metadata": {
    "ExecuteTime": {
     "end_time": "2021-02-23T21:10:58.550817Z",
     "start_time": "2021-02-23T21:10:58.548693Z"
    }
   },
   "outputs": [],
   "source": [
    "base_params = dict(boosting_type='rf',\n",
    "                   objective='regression',\n",
    "                   bagging_freq=1,\n",
    "                   verbose=-1)\n",
    "\n",
    "store = Path(results_path / 'predictions.h5')"
   ]
  },
  {
   "cell_type": "code",
   "execution_count": 81,
   "metadata": {
    "ExecuteTime": {
     "end_time": "2021-02-23T21:39:01.014230Z",
     "start_time": "2021-02-23T21:29:25.042746Z"
    },
    "scrolled": false
   },
   "outputs": [
    {
     "name": "stdout",
     "output_type": "stream",
     "text": [
      "\n",
      "Lookahead: 01\n",
      "\tPosition: 00\n",
      "\tPosition: 01\n",
      "\tPosition: 02\n",
      "\tPosition: 03\n",
      "\tPosition: 04\n",
      "\tPosition: 05\n",
      "\tPosition: 06\n",
      "\tPosition: 07\n",
      "\tPosition: 08\n",
      "\tPosition: 09\n"
     ]
    }
   ],
   "source": [
    "for lookahead in [1, 5, 10, 21]:\n",
    "    if lookahead > 1: \n",
    "        continue\n",
    "    print(f'\\nLookahead: {lookahead:02}')\n",
    "    data = (pd.read_hdf('data.h5', 'stooq/japan/equities'))\n",
    "    labels = sorted(data.filter(like='fwd').columns)\n",
    "    features = data.columns.difference(labels).tolist()\n",
    "    label = f'fwd_ret_{lookahead:02}'\n",
    "    data = data.loc[:, features + [label]].dropna()\n",
    "\n",
    "    categoricals = ['year', 'weekday', 'month']\n",
    "    for feature in categoricals:\n",
    "        data[feature] = pd.factorize(data[feature], sort=True)[0]\n",
    "\n",
    "    lgb_data = lgb.Dataset(data=data[features],\n",
    "                           label=data[label],\n",
    "                           categorical_feature=categoricals,\n",
    "                           free_raw_data=False)\n",
    "    \n",
    "    for position in range(10):\n",
    "        params, num_boost_round = get_params(daily_ic_avg,\n",
    "                                             t=lookahead,\n",
    "                                             best=position)\n",
    "        params = params.to_dict()\n",
    "        params['min_data_in_leaf'] = int(params['min_data_in_leaf'])\n",
    "        train_length = int(params.pop('train_length'))\n",
    "        test_length = int(params.pop('test_length'))\n",
    "        params.update(base_params)\n",
    "\n",
    "        print(f'\\tPosition: {position:02}')\n",
    "\n",
    "        n_splits = int(2 * YEAR / test_length)\n",
    "        cv = MultipleTimeSeriesCV(n_splits=n_splits,\n",
    "                                  test_period_length=test_length,\n",
    "                                  lookahead=lookahead,\n",
    "                                  train_period_length=train_length)\n",
    "\n",
    "        predictions = []\n",
    "        start = time()\n",
    "        for i, (train_idx, test_idx) in enumerate(cv.split(X=data), 1):\n",
    "            train_set = lgb_data.subset(used_indices=train_idx.tolist(),\n",
    "                                        params=params).construct()\n",
    "    \n",
    "            model = lgb.train(params=params,\n",
    "                              train_set=train_set,\n",
    "                              num_boost_round=num_boost_round,\n",
    "                              verbose_eval=False)\n",
    "\n",
    "            test_set = data.iloc[test_idx, :]\n",
    "            y_test = test_set.loc[:, label].to_frame('y_test')\n",
    "            y_pred = model.predict(test_set.loc[:, model.feature_name()])\n",
    "            predictions.append(y_test.assign(prediction=y_pred))\n",
    "\n",
    "        if position == 0:\n",
    "            test_predictions = (pd.concat(predictions)\n",
    "                                .rename(columns={'prediction': position}))\n",
    "        else:\n",
    "            test_predictions[position] = pd.concat(predictions).prediction\n",
    "        \n",
    "\n",
    "    by_day = test_predictions.groupby(level='date')\n",
    "    for position in range(10):\n",
    "        if position == 0:\n",
    "            ic_by_day = by_day.apply(lambda x: spearmanr(x.y_test, x[position])[0]).to_frame()\n",
    "        else:\n",
    "            ic_by_day[position] = by_day.apply(lambda x: spearmanr(x.y_test, x[position])[0])\n",
    "\n",
    "    test_predictions.to_hdf(store, f'test/{lookahead:02}')"
   ]
  },
  {
   "cell_type": "code",
   "execution_count": null,
   "metadata": {},
   "outputs": [],
   "source": []
  }
 ],
 "metadata": {
  "kernelspec": {
   "display_name": "Python 3 (ipykernel)",
   "language": "python",
   "name": "python3"
  },
  "language_info": {
   "codemirror_mode": {
    "name": "ipython",
    "version": 3
   },
   "file_extension": ".py",
   "mimetype": "text/x-python",
   "name": "python",
   "nbconvert_exporter": "python",
   "pygments_lexer": "ipython3",
   "version": "3.8.12"
  },
  "toc": {
   "base_numbering": 1,
   "nav_menu": {},
   "number_sections": true,
   "sideBar": true,
   "skip_h1_title": true,
   "title_cell": "Table of Contents",
   "title_sidebar": "Contents",
   "toc_cell": false,
   "toc_position": {
    "height": "calc(100% - 180px)",
    "left": "10px",
    "top": "150px",
    "width": "374.162px"
   },
   "toc_section_display": true,
   "toc_window_display": true
  }
 },
 "nbformat": 4,
 "nbformat_minor": 2
}
