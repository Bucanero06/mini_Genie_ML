{
 "cells": [
  {
   "cell_type": "markdown",
   "metadata": {},
   "source": [
    "# Testing the signal quality with Alphalens"
   ]
  },
  {
   "cell_type": "markdown",
   "metadata": {},
   "source": [
    "## Imports & Settings"
   ]
  },
  {
   "cell_type": "code",
   "execution_count": 1,
   "metadata": {
    "ExecuteTime": {
     "end_time": "2021-04-16T00:42:05.205903Z",
     "start_time": "2021-04-16T00:42:05.203761Z"
    }
   },
   "outputs": [],
   "source": [
    "import warnings\n",
    "warnings.filterwarnings('ignore')"
   ]
  },
  {
   "cell_type": "code",
   "execution_count": 2,
   "metadata": {
    "ExecuteTime": {
     "end_time": "2021-04-16T00:42:06.096855Z",
     "start_time": "2021-04-16T00:42:05.365100Z"
    },
    "scrolled": true
   },
   "outputs": [],
   "source": [
    "%matplotlib inline\n",
    "\n",
    "from pathlib import Path\n",
    "import pandas as pd\n",
    "import seaborn as sns\n",
    "\n",
    "from alphalens.tears import (create_summary_tear_sheet,\n",
    "                             create_full_tear_sheet)\n",
    "\n",
    "from alphalens.utils import get_clean_factor_and_forward_returns"
   ]
  },
  {
   "cell_type": "code",
   "execution_count": 3,
   "metadata": {
    "ExecuteTime": {
     "end_time": "2021-04-16T00:42:06.100045Z",
     "start_time": "2021-04-16T00:42:06.097934Z"
    },
    "scrolled": true
   },
   "outputs": [],
   "source": [
    "sns.set_style('whitegrid')"
   ]
  },
  {
   "cell_type": "code",
   "execution_count": 4,
   "metadata": {
    "ExecuteTime": {
     "end_time": "2021-04-16T00:42:06.114949Z",
     "start_time": "2021-04-16T00:42:06.101264Z"
    },
    "scrolled": true
   },
   "outputs": [],
   "source": [
    "idx = pd.IndexSlice"
   ]
  },
  {
   "cell_type": "code",
   "execution_count": 5,
   "metadata": {
    "ExecuteTime": {
     "end_time": "2021-04-16T00:42:06.124939Z",
     "start_time": "2021-04-16T00:42:06.116212Z"
    }
   },
   "outputs": [],
   "source": [
    "results_path = Path('results', 'return_predictions')\n",
    "if not results_path.exists():\n",
    "    results_path.mkdir(parents=True)"
   ]
  },
  {
   "cell_type": "markdown",
   "metadata": {},
   "source": [
    "## Evaluating the Cross-Validation Results"
   ]
  },
  {
   "cell_type": "code",
   "execution_count": 6,
   "metadata": {
    "ExecuteTime": {
     "end_time": "2021-04-16T00:42:06.655281Z",
     "start_time": "2021-04-16T00:42:06.653442Z"
    }
   },
   "outputs": [],
   "source": [
    "lookahead = 1"
   ]
  },
  {
   "cell_type": "code",
   "execution_count": 7,
   "metadata": {
    "ExecuteTime": {
     "end_time": "2021-04-16T00:42:06.819524Z",
     "start_time": "2021-04-16T00:42:06.817565Z"
    }
   },
   "outputs": [],
   "source": [
    "cv_store = Path(results_path / 'parameter_tuning.h5')"
   ]
  },
  {
   "cell_type": "markdown",
   "metadata": {},
   "source": [
    "### Get AlphaLens Input"
   ]
  },
  {
   "cell_type": "code",
   "execution_count": 8,
   "metadata": {
    "ExecuteTime": {
     "end_time": "2021-04-16T00:42:08.941276Z",
     "start_time": "2021-04-16T00:42:08.939124Z"
    }
   },
   "outputs": [],
   "source": [
    "DATA_DIR = Path('..', 'data')"
   ]
  },
  {
   "cell_type": "markdown",
   "metadata": {},
   "source": [
    "Using next available prices."
   ]
  },
  {
   "cell_type": "code",
   "execution_count": 9,
   "metadata": {
    "ExecuteTime": {
     "end_time": "2021-04-16T00:42:09.217610Z",
     "start_time": "2021-04-16T00:42:09.214776Z"
    },
    "scrolled": true
   },
   "outputs": [],
   "source": [
    "def get_trade_prices(tickers):\n",
    "    store = DATA_DIR / 'assets.h5'\n",
    "    prices = pd.read_hdf(store, 'stooq/jp/tse/stocks/prices')\n",
    "    return (prices.loc[idx[tickers, '2014': '2019'], 'open']\n",
    "            .unstack('ticker')\n",
    "            .sort_index()\n",
    "            .shift(-1)\n",
    "            .dropna()\n",
    "            .tz_localize('UTC'))"
   ]
  },
  {
   "cell_type": "markdown",
   "metadata": {},
   "source": [
    "Reloading predictions."
   ]
  },
  {
   "cell_type": "code",
   "execution_count": 10,
   "metadata": {
    "ExecuteTime": {
     "end_time": "2021-04-16T00:42:09.888811Z",
     "start_time": "2021-04-16T00:42:09.544796Z"
    }
   },
   "outputs": [
    {
     "name": "stdout",
     "output_type": "stream",
     "text": [
      "<class 'pandas.core.frame.DataFrame'>\n",
      "MultiIndex: 474264 entries, ('1332.JP', Timestamp('2019-11-29 00:00:00')) to ('9990.JP', Timestamp('2018-01-05 00:00:00'))\n",
      "Data columns (total 11 columns):\n",
      " #   Column  Non-Null Count   Dtype  \n",
      "---  ------  --------------   -----  \n",
      " 0   y_test  474264 non-null  float64\n",
      " 1   0       474264 non-null  float64\n",
      " 2   1       474264 non-null  float64\n",
      " 3   2       474264 non-null  float64\n",
      " 4   3       474264 non-null  float64\n",
      " 5   4       474264 non-null  float64\n",
      " 6   5       474264 non-null  float64\n",
      " 7   6       474264 non-null  float64\n",
      " 8   7       474264 non-null  float64\n",
      " 9   8       474264 non-null  float64\n",
      " 10  9       474264 non-null  float64\n",
      "dtypes: float64(11)\n",
      "memory usage: 41.7+ MB\n"
     ]
    }
   ],
   "source": [
    "best_predictions = pd.read_hdf(results_path / 'predictions.h5', f'test/{lookahead:02}')\n",
    "best_predictions.info()"
   ]
  },
  {
   "cell_type": "code",
   "execution_count": 11,
   "metadata": {
    "ExecuteTime": {
     "end_time": "2021-04-16T00:42:09.941040Z",
     "start_time": "2021-04-16T00:42:09.890602Z"
    }
   },
   "outputs": [],
   "source": [
    "test_tickers = best_predictions.index.get_level_values('ticker').unique()"
   ]
  },
  {
   "cell_type": "code",
   "execution_count": 12,
   "metadata": {
    "ExecuteTime": {
     "end_time": "2021-04-16T00:44:10.448754Z",
     "start_time": "2021-04-16T00:42:09.942491Z"
    },
    "scrolled": true
   },
   "outputs": [
    {
     "name": "stdout",
     "output_type": "stream",
     "text": [
      "<class 'pandas.core.frame.DataFrame'>\n",
      "DatetimeIndex: 1464 entries, 2014-01-06 00:00:00+00:00 to 2019-12-27 00:00:00+00:00\n",
      "Columns: 941 entries, 1332.JP to 9990.JP\n",
      "dtypes: float64(941)\n",
      "memory usage: 10.5 MB\n"
     ]
    }
   ],
   "source": [
    "trade_prices = get_trade_prices(test_tickers)\n",
    "trade_prices.info()"
   ]
  },
  {
   "cell_type": "code",
   "execution_count": 13,
   "metadata": {
    "ExecuteTime": {
     "end_time": "2021-04-16T00:44:10.583930Z",
     "start_time": "2021-04-16T00:44:10.450000Z"
    }
   },
   "outputs": [],
   "source": [
    "factor = (best_predictions\n",
    "          .iloc[:, :3]\n",
    "          .mean(1)\n",
    "          .tz_localize('UTC', level='date')\n",
    "          .swaplevel()\n",
    "          .dropna()\n",
    "          .reset_index()\n",
    "          .drop_duplicates()\n",
    "          .set_index(['date', 'ticker']))"
   ]
  },
  {
   "cell_type": "code",
   "execution_count": 14,
   "metadata": {
    "ExecuteTime": {
     "end_time": "2021-04-16T00:44:15.362968Z",
     "start_time": "2021-04-16T00:44:10.584971Z"
    },
    "scrolled": false
   },
   "outputs": [
    {
     "name": "stdout",
     "output_type": "stream",
     "text": [
      "Dropped 4.2% entries from factor data: 4.2% in forward returns computation and 0.0% in binning phase (set max_loss=0 to see potentially suppressed Exceptions).\n",
      "max_loss is 35.0%, not exceeded: OK!\n",
      "<class 'pandas.core.frame.DataFrame'>\n",
      "MultiIndex: 454503 entries, (Timestamp('2017-12-05 00:00:00+0000', tz='UTC', freq='C'), '1332.JP') to (Timestamp('2019-11-28 00:00:00+0000', tz='UTC', freq='C'), '9990.JP')\n",
      "Data columns (total 6 columns):\n",
      " #   Column           Non-Null Count   Dtype  \n",
      "---  ------           --------------   -----  \n",
      " 0   1D               454503 non-null  float64\n",
      " 1   5D               454503 non-null  float64\n",
      " 2   10D              454503 non-null  float64\n",
      " 3   21D              454503 non-null  float64\n",
      " 4   factor           454503 non-null  float64\n",
      " 5   factor_quantile  454503 non-null  int64  \n",
      "dtypes: float64(5), int64(1)\n",
      "memory usage: 22.6+ MB\n"
     ]
    }
   ],
   "source": [
    "factor_data = get_clean_factor_and_forward_returns(factor=factor,\n",
    "                                                   prices=trade_prices,\n",
    "                                                   quantiles=5,\n",
    "                                                   periods=(1, 5, 10, 21))\n",
    "factor_data.sort_index().info()"
   ]
  },
  {
   "cell_type": "markdown",
   "metadata": {},
   "source": [
    "### Summary Tearsheet"
   ]
  },
  {
   "cell_type": "code",
   "execution_count": 15,
   "metadata": {
    "ExecuteTime": {
     "end_time": "2021-04-16T00:44:32.900136Z",
     "start_time": "2021-04-16T00:44:15.364291Z"
    },
    "scrolled": false
   },
   "outputs": [
    {
     "name": "stdout",
     "output_type": "stream",
     "text": [
      "Quantiles Statistics\n"
     ]
    },
    {
     "data": {
      "text/html": [
       "<div>\n",
       "<style scoped>\n",
       "    .dataframe tbody tr th:only-of-type {\n",
       "        vertical-align: middle;\n",
       "    }\n",
       "\n",
       "    .dataframe tbody tr th {\n",
       "        vertical-align: top;\n",
       "    }\n",
       "\n",
       "    .dataframe thead th {\n",
       "        text-align: right;\n",
       "    }\n",
       "</style>\n",
       "<table border=\"1\" class=\"dataframe\">\n",
       "  <thead>\n",
       "    <tr style=\"text-align: right;\">\n",
       "      <th></th>\n",
       "      <th>min</th>\n",
       "      <th>max</th>\n",
       "      <th>mean</th>\n",
       "      <th>std</th>\n",
       "      <th>count</th>\n",
       "      <th>count %</th>\n",
       "    </tr>\n",
       "    <tr>\n",
       "      <th>factor_quantile</th>\n",
       "      <th></th>\n",
       "      <th></th>\n",
       "      <th></th>\n",
       "      <th></th>\n",
       "      <th></th>\n",
       "      <th></th>\n",
       "    </tr>\n",
       "  </thead>\n",
       "  <tbody>\n",
       "    <tr>\n",
       "      <th>1</th>\n",
       "      <td>-0.091176</td>\n",
       "      <td>0.008467</td>\n",
       "      <td>-0.008580</td>\n",
       "      <td>0.007442</td>\n",
       "      <td>91287</td>\n",
       "      <td>20.085016</td>\n",
       "    </tr>\n",
       "    <tr>\n",
       "      <th>2</th>\n",
       "      <td>-0.028925</td>\n",
       "      <td>0.010390</td>\n",
       "      <td>-0.003716</td>\n",
       "      <td>0.005394</td>\n",
       "      <td>90804</td>\n",
       "      <td>19.978746</td>\n",
       "    </tr>\n",
       "    <tr>\n",
       "      <th>3</th>\n",
       "      <td>-0.025012</td>\n",
       "      <td>0.014643</td>\n",
       "      <td>-0.001439</td>\n",
       "      <td>0.005304</td>\n",
       "      <td>90804</td>\n",
       "      <td>19.978746</td>\n",
       "    </tr>\n",
       "    <tr>\n",
       "      <th>4</th>\n",
       "      <td>-0.022314</td>\n",
       "      <td>0.017857</td>\n",
       "      <td>0.000872</td>\n",
       "      <td>0.005353</td>\n",
       "      <td>90804</td>\n",
       "      <td>19.978746</td>\n",
       "    </tr>\n",
       "    <tr>\n",
       "      <th>5</th>\n",
       "      <td>-0.019701</td>\n",
       "      <td>0.116272</td>\n",
       "      <td>0.006104</td>\n",
       "      <td>0.007594</td>\n",
       "      <td>90804</td>\n",
       "      <td>19.978746</td>\n",
       "    </tr>\n",
       "  </tbody>\n",
       "</table>\n",
       "</div>"
      ],
      "text/plain": [
       "                      min       max      mean       std  count    count %\n",
       "factor_quantile                                                          \n",
       "1               -0.091176  0.008467 -0.008580  0.007442  91287  20.085016\n",
       "2               -0.028925  0.010390 -0.003716  0.005394  90804  19.978746\n",
       "3               -0.025012  0.014643 -0.001439  0.005304  90804  19.978746\n",
       "4               -0.022314  0.017857  0.000872  0.005353  90804  19.978746\n",
       "5               -0.019701  0.116272  0.006104  0.007594  90804  19.978746"
      ]
     },
     "metadata": {},
     "output_type": "display_data"
    },
    {
     "name": "stdout",
     "output_type": "stream",
     "text": [
      "Returns Analysis\n"
     ]
    },
    {
     "data": {
      "text/html": [
       "<div>\n",
       "<style scoped>\n",
       "    .dataframe tbody tr th:only-of-type {\n",
       "        vertical-align: middle;\n",
       "    }\n",
       "\n",
       "    .dataframe tbody tr th {\n",
       "        vertical-align: top;\n",
       "    }\n",
       "\n",
       "    .dataframe thead th {\n",
       "        text-align: right;\n",
       "    }\n",
       "</style>\n",
       "<table border=\"1\" class=\"dataframe\">\n",
       "  <thead>\n",
       "    <tr style=\"text-align: right;\">\n",
       "      <th></th>\n",
       "      <th>1D</th>\n",
       "      <th>5D</th>\n",
       "      <th>10D</th>\n",
       "      <th>21D</th>\n",
       "    </tr>\n",
       "  </thead>\n",
       "  <tbody>\n",
       "    <tr>\n",
       "      <th>Ann. alpha</th>\n",
       "      <td>49.124</td>\n",
       "      <td>1.103</td>\n",
       "      <td>0.438</td>\n",
       "      <td>0.187</td>\n",
       "    </tr>\n",
       "    <tr>\n",
       "      <th>beta</th>\n",
       "      <td>-0.025</td>\n",
       "      <td>-0.034</td>\n",
       "      <td>-0.021</td>\n",
       "      <td>-0.010</td>\n",
       "    </tr>\n",
       "    <tr>\n",
       "      <th>Mean Period Wise Return Top Quantile (bps)</th>\n",
       "      <td>149.785</td>\n",
       "      <td>28.276</td>\n",
       "      <td>13.683</td>\n",
       "      <td>6.365</td>\n",
       "    </tr>\n",
       "    <tr>\n",
       "      <th>Mean Period Wise Return Bottom Quantile (bps)</th>\n",
       "      <td>-145.333</td>\n",
       "      <td>-28.108</td>\n",
       "      <td>-13.826</td>\n",
       "      <td>-6.570</td>\n",
       "    </tr>\n",
       "    <tr>\n",
       "      <th>Mean Period Wise Spread (bps)</th>\n",
       "      <td>295.118</td>\n",
       "      <td>56.390</td>\n",
       "      <td>27.515</td>\n",
       "      <td>12.940</td>\n",
       "    </tr>\n",
       "  </tbody>\n",
       "</table>\n",
       "</div>"
      ],
      "text/plain": [
       "                                                    1D      5D     10D     21D\n",
       "Ann. alpha                                      49.124   1.103   0.438   0.187\n",
       "beta                                            -0.025  -0.034  -0.021  -0.010\n",
       "Mean Period Wise Return Top Quantile (bps)     149.785  28.276  13.683   6.365\n",
       "Mean Period Wise Return Bottom Quantile (bps) -145.333 -28.108 -13.826  -6.570\n",
       "Mean Period Wise Spread (bps)                  295.118  56.390  27.515  12.940"
      ]
     },
     "metadata": {},
     "output_type": "display_data"
    },
    {
     "name": "stdout",
     "output_type": "stream",
     "text": [
      "Information Analysis\n"
     ]
    },
    {
     "data": {
      "text/html": [
       "<div>\n",
       "<style scoped>\n",
       "    .dataframe tbody tr th:only-of-type {\n",
       "        vertical-align: middle;\n",
       "    }\n",
       "\n",
       "    .dataframe tbody tr th {\n",
       "        vertical-align: top;\n",
       "    }\n",
       "\n",
       "    .dataframe thead th {\n",
       "        text-align: right;\n",
       "    }\n",
       "</style>\n",
       "<table border=\"1\" class=\"dataframe\">\n",
       "  <thead>\n",
       "    <tr style=\"text-align: right;\">\n",
       "      <th></th>\n",
       "      <th>1D</th>\n",
       "      <th>5D</th>\n",
       "      <th>10D</th>\n",
       "      <th>21D</th>\n",
       "    </tr>\n",
       "  </thead>\n",
       "  <tbody>\n",
       "    <tr>\n",
       "      <th>IC Mean</th>\n",
       "      <td>0.662</td>\n",
       "      <td>0.276</td>\n",
       "      <td>0.192</td>\n",
       "      <td>0.130</td>\n",
       "    </tr>\n",
       "    <tr>\n",
       "      <th>IC Std.</th>\n",
       "      <td>0.092</td>\n",
       "      <td>0.117</td>\n",
       "      <td>0.120</td>\n",
       "      <td>0.118</td>\n",
       "    </tr>\n",
       "    <tr>\n",
       "      <th>Risk-Adjusted IC</th>\n",
       "      <td>7.160</td>\n",
       "      <td>2.350</td>\n",
       "      <td>1.606</td>\n",
       "      <td>1.102</td>\n",
       "    </tr>\n",
       "    <tr>\n",
       "      <th>t-stat(IC)</th>\n",
       "      <td>157.363</td>\n",
       "      <td>51.640</td>\n",
       "      <td>35.296</td>\n",
       "      <td>24.225</td>\n",
       "    </tr>\n",
       "    <tr>\n",
       "      <th>p-value(IC)</th>\n",
       "      <td>0.000</td>\n",
       "      <td>0.000</td>\n",
       "      <td>0.000</td>\n",
       "      <td>0.000</td>\n",
       "    </tr>\n",
       "    <tr>\n",
       "      <th>IC Skew</th>\n",
       "      <td>-1.413</td>\n",
       "      <td>-0.210</td>\n",
       "      <td>-0.175</td>\n",
       "      <td>-0.250</td>\n",
       "    </tr>\n",
       "    <tr>\n",
       "      <th>IC Kurtosis</th>\n",
       "      <td>5.265</td>\n",
       "      <td>0.610</td>\n",
       "      <td>0.517</td>\n",
       "      <td>0.684</td>\n",
       "    </tr>\n",
       "  </tbody>\n",
       "</table>\n",
       "</div>"
      ],
      "text/plain": [
       "                       1D      5D     10D     21D\n",
       "IC Mean             0.662   0.276   0.192   0.130\n",
       "IC Std.             0.092   0.117   0.120   0.118\n",
       "Risk-Adjusted IC    7.160   2.350   1.606   1.102\n",
       "t-stat(IC)        157.363  51.640  35.296  24.225\n",
       "p-value(IC)         0.000   0.000   0.000   0.000\n",
       "IC Skew            -1.413  -0.210  -0.175  -0.250\n",
       "IC Kurtosis         5.265   0.610   0.517   0.684"
      ]
     },
     "metadata": {},
     "output_type": "display_data"
    },
    {
     "name": "stdout",
     "output_type": "stream",
     "text": [
      "Turnover Analysis\n"
     ]
    },
    {
     "data": {
      "text/html": [
       "<div>\n",
       "<style scoped>\n",
       "    .dataframe tbody tr th:only-of-type {\n",
       "        vertical-align: middle;\n",
       "    }\n",
       "\n",
       "    .dataframe tbody tr th {\n",
       "        vertical-align: top;\n",
       "    }\n",
       "\n",
       "    .dataframe thead th {\n",
       "        text-align: right;\n",
       "    }\n",
       "</style>\n",
       "<table border=\"1\" class=\"dataframe\">\n",
       "  <thead>\n",
       "    <tr style=\"text-align: right;\">\n",
       "      <th></th>\n",
       "      <th>1D</th>\n",
       "      <th>5D</th>\n",
       "      <th>10D</th>\n",
       "      <th>21D</th>\n",
       "    </tr>\n",
       "  </thead>\n",
       "  <tbody>\n",
       "    <tr>\n",
       "      <th>Quantile 1 Mean Turnover</th>\n",
       "      <td>0.767</td>\n",
       "      <td>0.788</td>\n",
       "      <td>0.792</td>\n",
       "      <td>0.785</td>\n",
       "    </tr>\n",
       "    <tr>\n",
       "      <th>Quantile 2 Mean Turnover</th>\n",
       "      <td>0.788</td>\n",
       "      <td>0.796</td>\n",
       "      <td>0.798</td>\n",
       "      <td>0.793</td>\n",
       "    </tr>\n",
       "    <tr>\n",
       "      <th>Quantile 3 Mean Turnover</th>\n",
       "      <td>0.780</td>\n",
       "      <td>0.788</td>\n",
       "      <td>0.793</td>\n",
       "      <td>0.791</td>\n",
       "    </tr>\n",
       "    <tr>\n",
       "      <th>Quantile 4 Mean Turnover</th>\n",
       "      <td>0.790</td>\n",
       "      <td>0.793</td>\n",
       "      <td>0.798</td>\n",
       "      <td>0.797</td>\n",
       "    </tr>\n",
       "    <tr>\n",
       "      <th>Quantile 5 Mean Turnover</th>\n",
       "      <td>0.772</td>\n",
       "      <td>0.788</td>\n",
       "      <td>0.790</td>\n",
       "      <td>0.785</td>\n",
       "    </tr>\n",
       "  </tbody>\n",
       "</table>\n",
       "</div>"
      ],
      "text/plain": [
       "                              1D     5D    10D    21D\n",
       "Quantile 1 Mean Turnover   0.767  0.788  0.792  0.785\n",
       "Quantile 2 Mean Turnover   0.788  0.796  0.798  0.793\n",
       "Quantile 3 Mean Turnover   0.780  0.788  0.793  0.791\n",
       "Quantile 4 Mean Turnover   0.790  0.793  0.798  0.797\n",
       "Quantile 5 Mean Turnover   0.772  0.788  0.790  0.785"
      ]
     },
     "metadata": {},
     "output_type": "display_data"
    },
    {
     "data": {
      "text/html": [
       "<div>\n",
       "<style scoped>\n",
       "    .dataframe tbody tr th:only-of-type {\n",
       "        vertical-align: middle;\n",
       "    }\n",
       "\n",
       "    .dataframe tbody tr th {\n",
       "        vertical-align: top;\n",
       "    }\n",
       "\n",
       "    .dataframe thead th {\n",
       "        text-align: right;\n",
       "    }\n",
       "</style>\n",
       "<table border=\"1\" class=\"dataframe\">\n",
       "  <thead>\n",
       "    <tr style=\"text-align: right;\">\n",
       "      <th></th>\n",
       "      <th>1D</th>\n",
       "      <th>5D</th>\n",
       "      <th>10D</th>\n",
       "      <th>21D</th>\n",
       "    </tr>\n",
       "  </thead>\n",
       "  <tbody>\n",
       "    <tr>\n",
       "      <th>Mean Factor Rank Autocorrelation</th>\n",
       "      <td>0.005</td>\n",
       "      <td>-0.01</td>\n",
       "      <td>-0.013</td>\n",
       "      <td>0.005</td>\n",
       "    </tr>\n",
       "  </tbody>\n",
       "</table>\n",
       "</div>"
      ],
      "text/plain": [
       "                                     1D    5D    10D    21D\n",
       "Mean Factor Rank Autocorrelation  0.005 -0.01 -0.013  0.005"
      ]
     },
     "metadata": {},
     "output_type": "display_data"
    },
    {
     "data": {
      "text/plain": [
       "<Figure size 432x288 with 0 Axes>"
      ]
     },
     "metadata": {},
     "output_type": "display_data"
    },
    {
     "data": {
      "image/png": "[encoded data removed]",
      "text/plain": [
       "<Figure size 1008x7056 with 1 Axes>"
      ]
     },
     "metadata": {},
     "output_type": "display_data"
    }
   ],
   "source": [
    "create_summary_tear_sheet(factor_data)"
   ]
  },
  {
   "cell_type": "markdown",
   "metadata": {},
   "source": [
    "## Evaluating the Out-of-sample predictions"
   ]
  },
  {
   "cell_type": "markdown",
   "metadata": {},
   "source": [
    "### Prepare Factor Data"
   ]
  },
  {
   "cell_type": "code",
   "execution_count": 16,
   "metadata": {
    "ExecuteTime": {
     "end_time": "2021-02-23T21:56:07.039165Z",
     "start_time": "2021-02-23T21:56:06.971729Z"
    },
    "scrolled": false
   },
   "outputs": [],
   "source": [
    "t = 1\n",
    "predictions = pd.read_hdf(results_path / 'predictions.h5',\n",
    "                          f'test/{t:02}').drop('y_test', axis=1)"
   ]
  },
  {
   "cell_type": "code",
   "execution_count": 17,
   "metadata": {
    "ExecuteTime": {
     "end_time": "2021-02-23T21:56:07.056834Z",
     "start_time": "2021-02-23T21:56:07.040029Z"
    }
   },
   "outputs": [
    {
     "name": "stdout",
     "output_type": "stream",
     "text": [
      "<class 'pandas.core.frame.DataFrame'>\n",
      "MultiIndex: 474264 entries, ('1332.JP', Timestamp('2019-11-29 00:00:00')) to ('9990.JP', Timestamp('2018-01-05 00:00:00'))\n",
      "Data columns (total 10 columns):\n",
      " #   Column  Non-Null Count   Dtype  \n",
      "---  ------  --------------   -----  \n",
      " 0   0       474264 non-null  float64\n",
      " 1   1       474264 non-null  float64\n",
      " 2   2       474264 non-null  float64\n",
      " 3   3       474264 non-null  float64\n",
      " 4   4       474264 non-null  float64\n",
      " 5   5       474264 non-null  float64\n",
      " 6   6       474264 non-null  float64\n",
      " 7   7       474264 non-null  float64\n",
      " 8   8       474264 non-null  float64\n",
      " 9   9       474264 non-null  float64\n",
      "dtypes: float64(10)\n",
      "memory usage: 38.1+ MB\n"
     ]
    }
   ],
   "source": [
    "predictions.info()"
   ]
  },
  {
   "cell_type": "code",
   "execution_count": 18,
   "metadata": {
    "ExecuteTime": {
     "end_time": "2021-02-23T21:56:07.123618Z",
     "start_time": "2021-02-23T21:56:07.057679Z"
    }
   },
   "outputs": [
    {
     "data": {
      "text/plain": [
       "date                       ticker \n",
       "2017-12-05 00:00:00+00:00  1332.JP    0.000374\n",
       "2017-12-06 00:00:00+00:00  1332.JP    0.003322\n",
       "2017-12-07 00:00:00+00:00  1332.JP    0.000753\n",
       "2017-12-08 00:00:00+00:00  1332.JP    0.000771\n",
       "2017-12-11 00:00:00+00:00  1332.JP    0.003113\n",
       "dtype: float64"
      ]
     },
     "execution_count": 18,
     "metadata": {},
     "output_type": "execute_result"
    }
   ],
   "source": [
    "factor = (predictions.iloc[:, :10]\n",
    "                   .mean(1)\n",
    "                   .sort_index().tz_localize('UTC', level='date').swaplevel().dropna())\n",
    "factor.head()"
   ]
  },
  {
   "cell_type": "markdown",
   "metadata": {},
   "source": [
    "### Select next available trade prices"
   ]
  },
  {
   "cell_type": "markdown",
   "metadata": {},
   "source": [
    "Using next available prices."
   ]
  },
  {
   "cell_type": "code",
   "execution_count": 19,
   "metadata": {
    "ExecuteTime": {
     "end_time": "2021-02-23T21:57:56.213347Z",
     "start_time": "2021-02-23T21:56:07.124802Z"
    },
    "scrolled": true
   },
   "outputs": [
    {
     "name": "stdout",
     "output_type": "stream",
     "text": [
      "<class 'pandas.core.frame.DataFrame'>\n",
      "DatetimeIndex: 1464 entries, 2014-01-06 00:00:00+00:00 to 2019-12-27 00:00:00+00:00\n",
      "Columns: 941 entries, 1332.JP to 9990.JP\n",
      "dtypes: float64(941)\n",
      "memory usage: 10.5 MB\n"
     ]
    }
   ],
   "source": [
    "tickers = factor.index.get_level_values('ticker').unique()\n",
    "trade_prices = get_trade_prices(tickers)\n",
    "trade_prices.info()"
   ]
  },
  {
   "cell_type": "markdown",
   "metadata": {},
   "source": [
    "### Get AlphaLens Inputs"
   ]
  },
  {
   "cell_type": "code",
   "execution_count": 20,
   "metadata": {
    "ExecuteTime": {
     "end_time": "2021-02-23T21:58:01.225924Z",
     "start_time": "2021-02-23T21:57:56.214344Z"
    },
    "scrolled": false
   },
   "outputs": [
    {
     "name": "stdout",
     "output_type": "stream",
     "text": [
      "Dropped 4.2% entries from factor data: 4.2% in forward returns computation and 0.0% in binning phase (set max_loss=0 to see potentially suppressed Exceptions).\n",
      "max_loss is 35.0%, not exceeded: OK!\n",
      "<class 'pandas.core.frame.DataFrame'>\n",
      "MultiIndex: 454503 entries, (Timestamp('2017-12-05 00:00:00+0000', tz='UTC', freq='C'), '1332.JP') to (Timestamp('2019-11-28 00:00:00+0000', tz='UTC', freq='C'), '9990.JP')\n",
      "Data columns (total 6 columns):\n",
      " #   Column           Non-Null Count   Dtype  \n",
      "---  ------           --------------   -----  \n",
      " 0   1D               454503 non-null  float64\n",
      " 1   5D               454503 non-null  float64\n",
      " 2   10D              454503 non-null  float64\n",
      " 3   21D              454503 non-null  float64\n",
      " 4   factor           454503 non-null  float64\n",
      " 5   factor_quantile  454503 non-null  int64  \n",
      "dtypes: float64(5), int64(1)\n",
      "memory usage: 22.6+ MB\n"
     ]
    }
   ],
   "source": [
    "factor_data = get_clean_factor_and_forward_returns(factor=factor,\n",
    "                                                   prices=trade_prices,\n",
    "                                                   quantiles=5,\n",
    "                                                   periods=(1, 5, 10, 21))\n",
    "factor_data.sort_index().info()"
   ]
  },
  {
   "cell_type": "markdown",
   "metadata": {},
   "source": [
    "### Summary Tearsheet"
   ]
  },
  {
   "cell_type": "code",
   "execution_count": 21,
   "metadata": {
    "ExecuteTime": {
     "end_time": "2021-02-23T21:58:20.197397Z",
     "start_time": "2021-02-23T21:58:01.226791Z"
    },
    "scrolled": false
   },
   "outputs": [
    {
     "name": "stdout",
     "output_type": "stream",
     "text": [
      "Quantiles Statistics\n"
     ]
    },
    {
     "data": {
      "text/html": [
       "<div>\n",
       "<style scoped>\n",
       "    .dataframe tbody tr th:only-of-type {\n",
       "        vertical-align: middle;\n",
       "    }\n",
       "\n",
       "    .dataframe tbody tr th {\n",
       "        vertical-align: top;\n",
       "    }\n",
       "\n",
       "    .dataframe thead th {\n",
       "        text-align: right;\n",
       "    }\n",
       "</style>\n",
       "<table border=\"1\" class=\"dataframe\">\n",
       "  <thead>\n",
       "    <tr style=\"text-align: right;\">\n",
       "      <th></th>\n",
       "      <th>min</th>\n",
       "      <th>max</th>\n",
       "      <th>mean</th>\n",
       "      <th>std</th>\n",
       "      <th>count</th>\n",
       "      <th>count %</th>\n",
       "    </tr>\n",
       "    <tr>\n",
       "      <th>factor_quantile</th>\n",
       "      <th></th>\n",
       "      <th></th>\n",
       "      <th></th>\n",
       "      <th></th>\n",
       "      <th></th>\n",
       "      <th></th>\n",
       "    </tr>\n",
       "  </thead>\n",
       "  <tbody>\n",
       "    <tr>\n",
       "      <th>1</th>\n",
       "      <td>-0.029771</td>\n",
       "      <td>0.011669</td>\n",
       "      <td>-0.003807</td>\n",
       "      <td>0.005517</td>\n",
       "      <td>91290</td>\n",
       "      <td>20.085676</td>\n",
       "    </tr>\n",
       "    <tr>\n",
       "      <th>2</th>\n",
       "      <td>-0.026874</td>\n",
       "      <td>0.011995</td>\n",
       "      <td>-0.002648</td>\n",
       "      <td>0.005337</td>\n",
       "      <td>90826</td>\n",
       "      <td>19.983586</td>\n",
       "    </tr>\n",
       "    <tr>\n",
       "      <th>3</th>\n",
       "      <td>-0.026736</td>\n",
       "      <td>0.019500</td>\n",
       "      <td>-0.001916</td>\n",
       "      <td>0.005400</td>\n",
       "      <td>90781</td>\n",
       "      <td>19.973686</td>\n",
       "    </tr>\n",
       "    <tr>\n",
       "      <th>4</th>\n",
       "      <td>-0.026604</td>\n",
       "      <td>0.020725</td>\n",
       "      <td>-0.001161</td>\n",
       "      <td>0.005487</td>\n",
       "      <td>90803</td>\n",
       "      <td>19.978526</td>\n",
       "    </tr>\n",
       "    <tr>\n",
       "      <th>5</th>\n",
       "      <td>-0.026292</td>\n",
       "      <td>0.024385</td>\n",
       "      <td>0.000151</td>\n",
       "      <td>0.005752</td>\n",
       "      <td>90803</td>\n",
       "      <td>19.978526</td>\n",
       "    </tr>\n",
       "  </tbody>\n",
       "</table>\n",
       "</div>"
      ],
      "text/plain": [
       "                      min       max      mean       std  count    count %\n",
       "factor_quantile                                                          \n",
       "1               -0.029771  0.011669 -0.003807  0.005517  91290  20.085676\n",
       "2               -0.026874  0.011995 -0.002648  0.005337  90826  19.983586\n",
       "3               -0.026736  0.019500 -0.001916  0.005400  90781  19.973686\n",
       "4               -0.026604  0.020725 -0.001161  0.005487  90803  19.978526\n",
       "5               -0.026292  0.024385  0.000151  0.005752  90803  19.978526"
      ]
     },
     "metadata": {},
     "output_type": "display_data"
    },
    {
     "name": "stdout",
     "output_type": "stream",
     "text": [
      "Returns Analysis\n"
     ]
    },
    {
     "data": {
      "text/html": [
       "<div>\n",
       "<style scoped>\n",
       "    .dataframe tbody tr th:only-of-type {\n",
       "        vertical-align: middle;\n",
       "    }\n",
       "\n",
       "    .dataframe tbody tr th {\n",
       "        vertical-align: top;\n",
       "    }\n",
       "\n",
       "    .dataframe thead th {\n",
       "        text-align: right;\n",
       "    }\n",
       "</style>\n",
       "<table border=\"1\" class=\"dataframe\">\n",
       "  <thead>\n",
       "    <tr style=\"text-align: right;\">\n",
       "      <th></th>\n",
       "      <th>1D</th>\n",
       "      <th>5D</th>\n",
       "      <th>10D</th>\n",
       "      <th>21D</th>\n",
       "    </tr>\n",
       "  </thead>\n",
       "  <tbody>\n",
       "    <tr>\n",
       "      <th>Ann. alpha</th>\n",
       "      <td>0.050</td>\n",
       "      <td>0.006</td>\n",
       "      <td>0.003</td>\n",
       "      <td>0.017</td>\n",
       "    </tr>\n",
       "    <tr>\n",
       "      <th>beta</th>\n",
       "      <td>0.022</td>\n",
       "      <td>0.021</td>\n",
       "      <td>0.016</td>\n",
       "      <td>0.017</td>\n",
       "    </tr>\n",
       "    <tr>\n",
       "      <th>Mean Period Wise Return Top Quantile (bps)</th>\n",
       "      <td>2.873</td>\n",
       "      <td>0.712</td>\n",
       "      <td>0.323</td>\n",
       "      <td>0.962</td>\n",
       "    </tr>\n",
       "    <tr>\n",
       "      <th>Mean Period Wise Return Bottom Quantile (bps)</th>\n",
       "      <td>-1.820</td>\n",
       "      <td>-0.054</td>\n",
       "      <td>-0.516</td>\n",
       "      <td>-1.006</td>\n",
       "    </tr>\n",
       "    <tr>\n",
       "      <th>Mean Period Wise Spread (bps)</th>\n",
       "      <td>4.694</td>\n",
       "      <td>0.765</td>\n",
       "      <td>0.842</td>\n",
       "      <td>1.969</td>\n",
       "    </tr>\n",
       "  </tbody>\n",
       "</table>\n",
       "</div>"
      ],
      "text/plain": [
       "                                                  1D     5D    10D    21D\n",
       "Ann. alpha                                     0.050  0.006  0.003  0.017\n",
       "beta                                           0.022  0.021  0.016  0.017\n",
       "Mean Period Wise Return Top Quantile (bps)     2.873  0.712  0.323  0.962\n",
       "Mean Period Wise Return Bottom Quantile (bps) -1.820 -0.054 -0.516 -1.006\n",
       "Mean Period Wise Spread (bps)                  4.694  0.765  0.842  1.969"
      ]
     },
     "metadata": {},
     "output_type": "display_data"
    },
    {
     "name": "stdout",
     "output_type": "stream",
     "text": [
      "Information Analysis\n"
     ]
    },
    {
     "data": {
      "text/html": [
       "<div>\n",
       "<style scoped>\n",
       "    .dataframe tbody tr th:only-of-type {\n",
       "        vertical-align: middle;\n",
       "    }\n",
       "\n",
       "    .dataframe tbody tr th {\n",
       "        vertical-align: top;\n",
       "    }\n",
       "\n",
       "    .dataframe thead th {\n",
       "        text-align: right;\n",
       "    }\n",
       "</style>\n",
       "<table border=\"1\" class=\"dataframe\">\n",
       "  <thead>\n",
       "    <tr style=\"text-align: right;\">\n",
       "      <th></th>\n",
       "      <th>1D</th>\n",
       "      <th>5D</th>\n",
       "      <th>10D</th>\n",
       "      <th>21D</th>\n",
       "    </tr>\n",
       "  </thead>\n",
       "  <tbody>\n",
       "    <tr>\n",
       "      <th>IC Mean</th>\n",
       "      <td>0.010</td>\n",
       "      <td>0.003</td>\n",
       "      <td>0.004</td>\n",
       "      <td>0.017</td>\n",
       "    </tr>\n",
       "    <tr>\n",
       "      <th>IC Std.</th>\n",
       "      <td>0.109</td>\n",
       "      <td>0.112</td>\n",
       "      <td>0.109</td>\n",
       "      <td>0.106</td>\n",
       "    </tr>\n",
       "    <tr>\n",
       "      <th>Risk-Adjusted IC</th>\n",
       "      <td>0.088</td>\n",
       "      <td>0.027</td>\n",
       "      <td>0.041</td>\n",
       "      <td>0.159</td>\n",
       "    </tr>\n",
       "    <tr>\n",
       "      <th>t-stat(IC)</th>\n",
       "      <td>1.925</td>\n",
       "      <td>0.588</td>\n",
       "      <td>0.903</td>\n",
       "      <td>3.495</td>\n",
       "    </tr>\n",
       "    <tr>\n",
       "      <th>p-value(IC)</th>\n",
       "      <td>0.055</td>\n",
       "      <td>0.557</td>\n",
       "      <td>0.367</td>\n",
       "      <td>0.001</td>\n",
       "    </tr>\n",
       "    <tr>\n",
       "      <th>IC Skew</th>\n",
       "      <td>-0.007</td>\n",
       "      <td>0.162</td>\n",
       "      <td>0.183</td>\n",
       "      <td>0.342</td>\n",
       "    </tr>\n",
       "    <tr>\n",
       "      <th>IC Kurtosis</th>\n",
       "      <td>0.975</td>\n",
       "      <td>0.841</td>\n",
       "      <td>0.810</td>\n",
       "      <td>0.647</td>\n",
       "    </tr>\n",
       "  </tbody>\n",
       "</table>\n",
       "</div>"
      ],
      "text/plain": [
       "                     1D     5D    10D    21D\n",
       "IC Mean           0.010  0.003  0.004  0.017\n",
       "IC Std.           0.109  0.112  0.109  0.106\n",
       "Risk-Adjusted IC  0.088  0.027  0.041  0.159\n",
       "t-stat(IC)        1.925  0.588  0.903  3.495\n",
       "p-value(IC)       0.055  0.557  0.367  0.001\n",
       "IC Skew          -0.007  0.162  0.183  0.342\n",
       "IC Kurtosis       0.975  0.841  0.810  0.647"
      ]
     },
     "metadata": {},
     "output_type": "display_data"
    },
    {
     "name": "stdout",
     "output_type": "stream",
     "text": [
      "Turnover Analysis\n"
     ]
    },
    {
     "data": {
      "text/html": [
       "<div>\n",
       "<style scoped>\n",
       "    .dataframe tbody tr th:only-of-type {\n",
       "        vertical-align: middle;\n",
       "    }\n",
       "\n",
       "    .dataframe tbody tr th {\n",
       "        vertical-align: top;\n",
       "    }\n",
       "\n",
       "    .dataframe thead th {\n",
       "        text-align: right;\n",
       "    }\n",
       "</style>\n",
       "<table border=\"1\" class=\"dataframe\">\n",
       "  <thead>\n",
       "    <tr style=\"text-align: right;\">\n",
       "      <th></th>\n",
       "      <th>1D</th>\n",
       "      <th>5D</th>\n",
       "      <th>10D</th>\n",
       "      <th>21D</th>\n",
       "    </tr>\n",
       "  </thead>\n",
       "  <tbody>\n",
       "    <tr>\n",
       "      <th>Quantile 1 Mean Turnover</th>\n",
       "      <td>0.712</td>\n",
       "      <td>0.743</td>\n",
       "      <td>0.779</td>\n",
       "      <td>0.797</td>\n",
       "    </tr>\n",
       "    <tr>\n",
       "      <th>Quantile 2 Mean Turnover</th>\n",
       "      <td>0.777</td>\n",
       "      <td>0.784</td>\n",
       "      <td>0.792</td>\n",
       "      <td>0.800</td>\n",
       "    </tr>\n",
       "    <tr>\n",
       "      <th>Quantile 3 Mean Turnover</th>\n",
       "      <td>0.778</td>\n",
       "      <td>0.787</td>\n",
       "      <td>0.792</td>\n",
       "      <td>0.799</td>\n",
       "    </tr>\n",
       "    <tr>\n",
       "      <th>Quantile 4 Mean Turnover</th>\n",
       "      <td>0.774</td>\n",
       "      <td>0.785</td>\n",
       "      <td>0.795</td>\n",
       "      <td>0.800</td>\n",
       "    </tr>\n",
       "    <tr>\n",
       "      <th>Quantile 5 Mean Turnover</th>\n",
       "      <td>0.706</td>\n",
       "      <td>0.735</td>\n",
       "      <td>0.777</td>\n",
       "      <td>0.799</td>\n",
       "    </tr>\n",
       "  </tbody>\n",
       "</table>\n",
       "</div>"
      ],
      "text/plain": [
       "                              1D     5D    10D    21D\n",
       "Quantile 1 Mean Turnover   0.712  0.743  0.779  0.797\n",
       "Quantile 2 Mean Turnover   0.777  0.784  0.792  0.800\n",
       "Quantile 3 Mean Turnover   0.778  0.787  0.792  0.799\n",
       "Quantile 4 Mean Turnover   0.774  0.785  0.795  0.800\n",
       "Quantile 5 Mean Turnover   0.706  0.735  0.777  0.799"
      ]
     },
     "metadata": {},
     "output_type": "display_data"
    },
    {
     "data": {
      "text/html": [
       "<div>\n",
       "<style scoped>\n",
       "    .dataframe tbody tr th:only-of-type {\n",
       "        vertical-align: middle;\n",
       "    }\n",
       "\n",
       "    .dataframe tbody tr th {\n",
       "        vertical-align: top;\n",
       "    }\n",
       "\n",
       "    .dataframe thead th {\n",
       "        text-align: right;\n",
       "    }\n",
       "</style>\n",
       "<table border=\"1\" class=\"dataframe\">\n",
       "  <thead>\n",
       "    <tr style=\"text-align: right;\">\n",
       "      <th></th>\n",
       "      <th>1D</th>\n",
       "      <th>5D</th>\n",
       "      <th>10D</th>\n",
       "      <th>21D</th>\n",
       "    </tr>\n",
       "  </thead>\n",
       "  <tbody>\n",
       "    <tr>\n",
       "      <th>Mean Factor Rank Autocorrelation</th>\n",
       "      <td>0.155</td>\n",
       "      <td>0.111</td>\n",
       "      <td>0.033</td>\n",
       "      <td>-0.006</td>\n",
       "    </tr>\n",
       "  </tbody>\n",
       "</table>\n",
       "</div>"
      ],
      "text/plain": [
       "                                     1D     5D    10D    21D\n",
       "Mean Factor Rank Autocorrelation  0.155  0.111  0.033 -0.006"
      ]
     },
     "metadata": {},
     "output_type": "display_data"
    },
    {
     "data": {
      "text/plain": [
       "<Figure size 432x288 with 0 Axes>"
      ]
     },
     "metadata": {},
     "output_type": "display_data"
    },
    {
     "data": {
      "image/png": "[encoded data removed]",
      "text/plain": [
       "<Figure size 1008x7056 with 1 Axes>"
      ]
     },
     "metadata": {},
     "output_type": "display_data"
    }
   ],
   "source": [
    "create_summary_tear_sheet(factor_data)"
   ]
  }
 ],
 "metadata": {
  "kernelspec": {
   "display_name": "Python 3",
   "language": "python",
   "name": "python3"
  },
  "language_info": {
   "codemirror_mode": {
    "name": "ipython",
    "version": 3
   },
   "file_extension": ".py",
   "mimetype": "text/x-python",
   "name": "python",
   "nbconvert_exporter": "python",
   "pygments_lexer": "ipython3",
   "version": "3.8.8"
  },
  "toc": {
   "base_numbering": 1,
   "nav_menu": {},
   "number_sections": true,
   "sideBar": true,
   "skip_h1_title": true,
   "title_cell": "Table of Contents",
   "title_sidebar": "Contents",
   "toc_cell": false,
   "toc_position": {
    "height": "calc(100% - 180px)",
    "left": "10px",
    "top": "150px",
    "width": "374.162px"
   },
   "toc_section_display": true,
   "toc_window_display": true
  }
 },
 "nbformat": 4,
 "nbformat_minor": 2
}
