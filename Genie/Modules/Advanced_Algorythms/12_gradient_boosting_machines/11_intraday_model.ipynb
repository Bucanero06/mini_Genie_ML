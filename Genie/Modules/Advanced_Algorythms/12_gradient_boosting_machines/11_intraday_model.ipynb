{
 "cells": [
  {
   "cell_type": "markdown",
   "metadata": {},
   "source": [
    "# Intraday Strategy, Part 2: Model Training & Signal Evaluation"
   ]
  },
  {
   "cell_type": "markdown",
   "metadata": {},
   "source": [
    "In this notebook, we load the high-quality NASDAQ100 minute-bar trade-and-quote data generously provided by [Algoseek](https://www.algoseek.com/) (available [here](https://www.algoseek.com/ml4t-book-data.html)) and use the features engineered in the last notebook to train gradient boosting model that predicts the returns for the NASDAQ100 stocks over the next 1-minute bar. \n",
    "\n",
    "> Note that we will assume throughout that we can always buy (sell) at the first (last) trade price for a given bar at no cost and without market impact. This does certainly not reflect market reality, and is rather due to the challenges of simulating a trading strategy at this much higher intraday frequency in a realistic manner using open-source tools.\n",
    "\n",
    "Note also that this section has slightly changed from the version published in the book to permit replication using the Algoseek data sample."
   ]
  },
  {
   "cell_type": "markdown",
   "metadata": {},
   "source": [
    "## Imports & Settings"
   ]
  },
  {
   "cell_type": "code",
   "execution_count": 1,
   "metadata": {
    "ExecuteTime": {
     "end_time": "2021-01-20T05:06:12.793759Z",
     "start_time": "2021-01-20T05:06:12.791425Z"
    }
   },
   "outputs": [],
   "source": [
    "import warnings\n",
    "warnings.filterwarnings('ignore')"
   ]
  },
  {
   "cell_type": "code",
   "execution_count": 2,
   "metadata": {
    "ExecuteTime": {
     "end_time": "2021-01-20T05:06:13.496235Z",
     "start_time": "2021-01-20T05:06:12.795057Z"
    }
   },
   "outputs": [],
   "source": [
    "%matplotlib inline\n",
    "\n",
    "import sys, os\n",
    "from pathlib import Path\n",
    "from time import time\n",
    "from tqdm import tqdm\n",
    "\n",
    "import numpy as np\n",
    "import pandas as pd\n",
    "\n",
    "from scipy.stats import spearmanr\n",
    "import lightgbm as lgb\n",
    "\n",
    "import matplotlib.pyplot as plt\n",
    "from matplotlib.ticker import FuncFormatter\n",
    "import seaborn as sns"
   ]
  },
  {
   "cell_type": "markdown",
   "metadata": {},
   "source": [
    "Ensuring we can import `utils.py` in the repo's root directory:"
   ]
  },
  {
   "cell_type": "code",
   "execution_count": 3,
   "metadata": {
    "ExecuteTime": {
     "end_time": "2021-01-20T05:06:13.499714Z",
     "start_time": "2021-01-20T05:06:13.497313Z"
    }
   },
   "outputs": [],
   "source": [
    "sys.path.insert(1, os.path.join(sys.path[0], '..'))\n",
    "from utils import format_time"
   ]
  },
  {
   "cell_type": "code",
   "execution_count": 64,
   "metadata": {
    "ExecuteTime": {
     "end_time": "2021-01-20T17:54:54.604886Z",
     "start_time": "2021-01-20T17:54:54.602867Z"
    }
   },
   "outputs": [],
   "source": [
    "sns.set_style('whitegrid')\n",
    "idx = pd.IndexSlice\n",
    "deciles = np.arange(.1, 1, .1)"
   ]
  },
  {
   "cell_type": "code",
   "execution_count": 5,
   "metadata": {
    "ExecuteTime": {
     "end_time": "2021-01-20T05:06:13.517935Z",
     "start_time": "2021-01-20T05:06:13.510733Z"
    }
   },
   "outputs": [],
   "source": [
    "# where we stored the features engineered in the previous notebook\n",
    "data_store = 'data/algoseek.h5'"
   ]
  },
  {
   "cell_type": "code",
   "execution_count": 6,
   "metadata": {
    "ExecuteTime": {
     "end_time": "2021-01-20T05:06:13.526099Z",
     "start_time": "2021-01-20T05:06:13.519257Z"
    }
   },
   "outputs": [],
   "source": [
    "# where we'll store the model results\n",
    "result_store = 'data/intra_day.h5'"
   ]
  },
  {
   "cell_type": "code",
   "execution_count": 7,
   "metadata": {
    "ExecuteTime": {
     "end_time": "2021-01-20T05:06:13.534318Z",
     "start_time": "2021-01-20T05:06:13.528377Z"
    }
   },
   "outputs": [],
   "source": [
    "# here we save the trained models\n",
    "model_path = Path('models/intraday')\n",
    "if not model_path.exists():\n",
    "    model_path.mkdir(parents=True)"
   ]
  },
  {
   "cell_type": "markdown",
   "metadata": {},
   "source": [
    "## Load Model Data"
   ]
  },
  {
   "cell_type": "code",
   "execution_count": 8,
   "metadata": {
    "ExecuteTime": {
     "end_time": "2021-01-20T05:06:22.192145Z",
     "start_time": "2021-01-20T05:06:13.535527Z"
    }
   },
   "outputs": [],
   "source": [
    "data = pd.read_hdf(data_store, 'model_data2')"
   ]
  },
  {
   "cell_type": "code",
   "execution_count": 9,
   "metadata": {
    "ExecuteTime": {
     "end_time": "2021-01-20T05:06:23.416212Z",
     "start_time": "2021-01-20T05:06:22.193256Z"
    }
   },
   "outputs": [
    {
     "name": "stdout",
     "output_type": "stream",
     "text": [
      "<class 'pandas.core.frame.DataFrame'>\n",
      "MultiIndex: 30875649 entries, ('AAL', Timestamp('2015-01-02 09:30:00')) to ('YHOO', Timestamp('2017-06-16 15:59:00'))\n",
      "Data columns (total 22 columns):\n",
      " #   Column          Non-Null Count     Dtype  \n",
      "---  ------          --------------     -----  \n",
      " 0   minute          30875649 non-null  int64  \n",
      " 1   ret1min         30612848 non-null  float64\n",
      " 2   ret2min         30302846 non-null  float64\n",
      " 3   ret3min         30220887 non-null  float64\n",
      " 4   ret4min         30141503 non-null  float64\n",
      " 5   ret5min         30063236 non-null  float64\n",
      " 6   ret6min         29983969 non-null  float64\n",
      " 7   ret7min         29903822 non-null  float64\n",
      " 8   ret8min         29824607 non-null  float64\n",
      " 9   ret9min         29745431 non-null  float64\n",
      " 10  ret10min        29666821 non-null  float64\n",
      " 11  fwd1min         30875649 non-null  float64\n",
      " 12  rup             30083777 non-null  float64\n",
      " 13  rdown           30083777 non-null  float64\n",
      " 14  BOP             30612848 non-null  float64\n",
      " 15  CCI             28517773 non-null  float64\n",
      " 16  MFI             30873719 non-null  float64\n",
      " 17  STOCHRSI        30871639 non-null  float64\n",
      " 18  slowd           30873302 non-null  float64\n",
      " 19  slowk           30873302 non-null  float64\n",
      " 20  NATR            30873719 non-null  float64\n",
      " 21  trades_bid_ask  30083777 non-null  float64\n",
      "dtypes: float64(21), int64(1)\n",
      "memory usage: 5.2+ GB\n"
     ]
    }
   ],
   "source": [
    "data.info(null_counts=True)"
   ]
  },
  {
   "cell_type": "code",
   "execution_count": 10,
   "metadata": {
    "ExecuteTime": {
     "end_time": "2021-01-20T05:06:27.993134Z",
     "start_time": "2021-01-20T05:06:23.417369Z"
    }
   },
   "outputs": [
    {
     "data": {
      "text/html": [
       "<div>\n",
       "<style scoped>\n",
       "    .dataframe tbody tr th:only-of-type {\n",
       "        vertical-align: middle;\n",
       "    }\n",
       "\n",
       "    .dataframe tbody tr th {\n",
       "        vertical-align: top;\n",
       "    }\n",
       "\n",
       "    .dataframe thead th {\n",
       "        text-align: right;\n",
       "    }\n",
       "</style>\n",
       "<table border=\"1\" class=\"dataframe\">\n",
       "  <thead>\n",
       "    <tr style=\"text-align: right;\">\n",
       "      <th></th>\n",
       "      <th>minute</th>\n",
       "      <th>ret1min</th>\n",
       "      <th>ret2min</th>\n",
       "      <th>ret3min</th>\n",
       "      <th>ret4min</th>\n",
       "      <th>ret5min</th>\n",
       "      <th>ret6min</th>\n",
       "      <th>ret7min</th>\n",
       "      <th>ret8min</th>\n",
       "      <th>ret9min</th>\n",
       "      <th>...</th>\n",
       "      <th>rup</th>\n",
       "      <th>rdown</th>\n",
       "      <th>BOP</th>\n",
       "      <th>CCI</th>\n",
       "      <th>MFI</th>\n",
       "      <th>STOCHRSI</th>\n",
       "      <th>slowd</th>\n",
       "      <th>slowk</th>\n",
       "      <th>NATR</th>\n",
       "      <th>trades_bid_ask</th>\n",
       "    </tr>\n",
       "  </thead>\n",
       "  <tbody>\n",
       "    <tr>\n",
       "      <th>count</th>\n",
       "      <td>3.087565e+06</td>\n",
       "      <td>3.061353e+06</td>\n",
       "      <td>3.030366e+06</td>\n",
       "      <td>3.022232e+06</td>\n",
       "      <td>3.014597e+06</td>\n",
       "      <td>3.006284e+06</td>\n",
       "      <td>2.998549e+06</td>\n",
       "      <td>2.990669e+06</td>\n",
       "      <td>2.982548e+06</td>\n",
       "      <td>2.974617e+06</td>\n",
       "      <td>...</td>\n",
       "      <td>3.008146e+06</td>\n",
       "      <td>3.008146e+06</td>\n",
       "      <td>3.061353e+06</td>\n",
       "      <td>2.851720e+06</td>\n",
       "      <td>3.087377e+06</td>\n",
       "      <td>3.087164e+06</td>\n",
       "      <td>3.087329e+06</td>\n",
       "      <td>3.087329e+06</td>\n",
       "      <td>3.087377e+06</td>\n",
       "      <td>3.008146e+06</td>\n",
       "    </tr>\n",
       "    <tr>\n",
       "      <th>mean</th>\n",
       "      <td>1.944517e+02</td>\n",
       "      <td>-2.933200e-06</td>\n",
       "      <td>-1.869810e-06</td>\n",
       "      <td>-1.598179e-06</td>\n",
       "      <td>-1.981696e-06</td>\n",
       "      <td>-1.142065e-06</td>\n",
       "      <td>3.964908e-08</td>\n",
       "      <td>8.709935e-07</td>\n",
       "      <td>1.473304e-06</td>\n",
       "      <td>8.600771e-07</td>\n",
       "      <td>...</td>\n",
       "      <td>5.109800e-01</td>\n",
       "      <td>5.258520e-01</td>\n",
       "      <td>-2.657472e-03</td>\n",
       "      <td>1.926504e-01</td>\n",
       "      <td>4.995851e+01</td>\n",
       "      <td>4.996170e+01</td>\n",
       "      <td>5.026232e+01</td>\n",
       "      <td>5.025505e+01</td>\n",
       "      <td>9.574717e-02</td>\n",
       "      <td>-7.094037e-03</td>\n",
       "    </tr>\n",
       "    <tr>\n",
       "      <th>std</th>\n",
       "      <td>1.127876e+02</td>\n",
       "      <td>8.522094e-04</td>\n",
       "      <td>1.143481e-03</td>\n",
       "      <td>1.364755e-03</td>\n",
       "      <td>1.554875e-03</td>\n",
       "      <td>1.717925e-03</td>\n",
       "      <td>1.863826e-03</td>\n",
       "      <td>1.994273e-03</td>\n",
       "      <td>2.115630e-03</td>\n",
       "      <td>2.235502e-03</td>\n",
       "      <td>...</td>\n",
       "      <td>7.497976e+00</td>\n",
       "      <td>3.099559e+01</td>\n",
       "      <td>6.268154e-01</td>\n",
       "      <td>1.088541e+02</td>\n",
       "      <td>1.969340e+01</td>\n",
       "      <td>3.548760e+01</td>\n",
       "      <td>2.770983e+01</td>\n",
       "      <td>2.860330e+01</td>\n",
       "      <td>7.538252e-02</td>\n",
       "      <td>2.717903e+01</td>\n",
       "    </tr>\n",
       "    <tr>\n",
       "      <th>min</th>\n",
       "      <td>0.000000e+00</td>\n",
       "      <td>-1.244796e-01</td>\n",
       "      <td>-8.829405e-02</td>\n",
       "      <td>-1.060236e-01</td>\n",
       "      <td>-1.327945e-01</td>\n",
       "      <td>-1.545420e-01</td>\n",
       "      <td>-1.956444e-01</td>\n",
       "      <td>-2.158158e-01</td>\n",
       "      <td>-1.726063e-01</td>\n",
       "      <td>-2.157102e-01</td>\n",
       "      <td>...</td>\n",
       "      <td>0.000000e+00</td>\n",
       "      <td>0.000000e+00</td>\n",
       "      <td>-1.000000e+00</td>\n",
       "      <td>-4.666667e+02</td>\n",
       "      <td>-1.837897e-08</td>\n",
       "      <td>0.000000e+00</td>\n",
       "      <td>-3.910354e-12</td>\n",
       "      <td>-5.092223e-12</td>\n",
       "      <td>2.026288e-07</td>\n",
       "      <td>-2.630100e+04</td>\n",
       "    </tr>\n",
       "    <tr>\n",
       "      <th>10%</th>\n",
       "      <td>3.800000e+01</td>\n",
       "      <td>-7.494558e-04</td>\n",
       "      <td>-1.048584e-03</td>\n",
       "      <td>-1.268377e-03</td>\n",
       "      <td>-1.454229e-03</td>\n",
       "      <td>-1.616089e-03</td>\n",
       "      <td>-1.762741e-03</td>\n",
       "      <td>-1.897606e-03</td>\n",
       "      <td>-2.026686e-03</td>\n",
       "      <td>-2.142857e-03</td>\n",
       "      <td>...</td>\n",
       "      <td>0.000000e+00</td>\n",
       "      <td>0.000000e+00</td>\n",
       "      <td>-9.000000e-01</td>\n",
       "      <td>-1.377555e+02</td>\n",
       "      <td>2.395492e+01</td>\n",
       "      <td>0.000000e+00</td>\n",
       "      <td>1.250572e+01</td>\n",
       "      <td>1.122968e+01</td>\n",
       "      <td>4.014445e-02</td>\n",
       "      <td>-7.299035e-01</td>\n",
       "    </tr>\n",
       "    <tr>\n",
       "      <th>20%</th>\n",
       "      <td>7.700000e+01</td>\n",
       "      <td>-4.105090e-04</td>\n",
       "      <td>-5.929791e-04</td>\n",
       "      <td>-7.232152e-04</td>\n",
       "      <td>-8.290892e-04</td>\n",
       "      <td>-9.218753e-04</td>\n",
       "      <td>-1.004307e-03</td>\n",
       "      <td>-1.081334e-03</td>\n",
       "      <td>-1.153403e-03</td>\n",
       "      <td>-1.218621e-03</td>\n",
       "      <td>...</td>\n",
       "      <td>9.638554e-02</td>\n",
       "      <td>9.944259e-02</td>\n",
       "      <td>-6.644518e-01</td>\n",
       "      <td>-9.983731e+01</td>\n",
       "      <td>3.237073e+01</td>\n",
       "      <td>9.771635e+00</td>\n",
       "      <td>2.094136e+01</td>\n",
       "      <td>1.994344e+01</td>\n",
       "      <td>4.871973e-02</td>\n",
       "      <td>-4.601227e-01</td>\n",
       "    </tr>\n",
       "    <tr>\n",
       "      <th>30%</th>\n",
       "      <td>1.160000e+02</td>\n",
       "      <td>-2.308225e-04</td>\n",
       "      <td>-3.375865e-04</td>\n",
       "      <td>-4.100041e-04</td>\n",
       "      <td>-4.732608e-04</td>\n",
       "      <td>-5.260389e-04</td>\n",
       "      <td>-5.755245e-04</td>\n",
       "      <td>-6.196361e-04</td>\n",
       "      <td>-6.601532e-04</td>\n",
       "      <td>-6.987242e-04</td>\n",
       "      <td>...</td>\n",
       "      <td>1.976744e-01</td>\n",
       "      <td>2.017393e-01</td>\n",
       "      <td>-4.508475e-01</td>\n",
       "      <td>-6.917500e+01</td>\n",
       "      <td>3.883638e+01</td>\n",
       "      <td>2.365167e+01</td>\n",
       "      <td>3.006536e+01</td>\n",
       "      <td>2.936605e+01</td>\n",
       "      <td>5.665948e-02</td>\n",
       "      <td>-2.782861e-01</td>\n",
       "    </tr>\n",
       "    <tr>\n",
       "      <th>40%</th>\n",
       "      <td>1.550000e+02</td>\n",
       "      <td>-9.680542e-05</td>\n",
       "      <td>-1.555210e-04</td>\n",
       "      <td>-1.871257e-04</td>\n",
       "      <td>-2.161311e-04</td>\n",
       "      <td>-2.398082e-04</td>\n",
       "      <td>-2.604845e-04</td>\n",
       "      <td>-2.820079e-04</td>\n",
       "      <td>-3.003003e-04</td>\n",
       "      <td>-3.175107e-04</td>\n",
       "      <td>...</td>\n",
       "      <td>2.857143e-01</td>\n",
       "      <td>2.916667e-01</td>\n",
       "      <td>-1.826087e-01</td>\n",
       "      <td>-3.702543e+01</td>\n",
       "      <td>4.452486e+01</td>\n",
       "      <td>3.687606e+01</td>\n",
       "      <td>3.997666e+01</td>\n",
       "      <td>3.958910e+01</td>\n",
       "      <td>6.520095e-02</td>\n",
       "      <td>-1.309554e-01</td>\n",
       "    </tr>\n",
       "    <tr>\n",
       "      <th>50%</th>\n",
       "      <td>1.940000e+02</td>\n",
       "      <td>0.000000e+00</td>\n",
       "      <td>0.000000e+00</td>\n",
       "      <td>0.000000e+00</td>\n",
       "      <td>0.000000e+00</td>\n",
       "      <td>0.000000e+00</td>\n",
       "      <td>0.000000e+00</td>\n",
       "      <td>0.000000e+00</td>\n",
       "      <td>0.000000e+00</td>\n",
       "      <td>0.000000e+00</td>\n",
       "      <td>...</td>\n",
       "      <td>3.701016e-01</td>\n",
       "      <td>3.759077e-01</td>\n",
       "      <td>0.000000e+00</td>\n",
       "      <td>4.377638e-01</td>\n",
       "      <td>4.989353e+01</td>\n",
       "      <td>4.993994e+01</td>\n",
       "      <td>5.029630e+01</td>\n",
       "      <td>5.008741e+01</td>\n",
       "      <td>7.514502e-02</td>\n",
       "      <td>0.000000e+00</td>\n",
       "    </tr>\n",
       "    <tr>\n",
       "      <th>60%</th>\n",
       "      <td>2.340000e+02</td>\n",
       "      <td>9.104980e-05</td>\n",
       "      <td>1.499700e-04</td>\n",
       "      <td>1.805591e-04</td>\n",
       "      <td>2.082899e-04</td>\n",
       "      <td>2.328158e-04</td>\n",
       "      <td>2.537642e-04</td>\n",
       "      <td>2.754062e-04</td>\n",
       "      <td>2.960551e-04</td>\n",
       "      <td>3.132832e-04</td>\n",
       "      <td>...</td>\n",
       "      <td>4.578505e-01</td>\n",
       "      <td>4.638802e-01</td>\n",
       "      <td>1.666667e-01</td>\n",
       "      <td>3.785810e+01</td>\n",
       "      <td>5.529671e+01</td>\n",
       "      <td>6.304218e+01</td>\n",
       "      <td>6.069305e+01</td>\n",
       "      <td>6.111111e+01</td>\n",
       "      <td>8.752835e-02</td>\n",
       "      <td>1.036810e-01</td>\n",
       "    </tr>\n",
       "    <tr>\n",
       "      <th>70%</th>\n",
       "      <td>2.730000e+02</td>\n",
       "      <td>2.255130e-04</td>\n",
       "      <td>3.308337e-04</td>\n",
       "      <td>4.010963e-04</td>\n",
       "      <td>4.651163e-04</td>\n",
       "      <td>5.172414e-04</td>\n",
       "      <td>5.666289e-04</td>\n",
       "      <td>6.132654e-04</td>\n",
       "      <td>6.540222e-04</td>\n",
       "      <td>6.938020e-04</td>\n",
       "      <td>...</td>\n",
       "      <td>5.551150e-01</td>\n",
       "      <td>5.599337e-01</td>\n",
       "      <td>4.428571e-01</td>\n",
       "      <td>6.964201e+01</td>\n",
       "      <td>6.100298e+01</td>\n",
       "      <td>7.622753e+01</td>\n",
       "      <td>7.055556e+01</td>\n",
       "      <td>7.123016e+01</td>\n",
       "      <td>1.040583e-01</td>\n",
       "      <td>2.516316e-01</td>\n",
       "    </tr>\n",
       "    <tr>\n",
       "      <th>80%</th>\n",
       "      <td>3.120000e+02</td>\n",
       "      <td>4.033559e-04</td>\n",
       "      <td>5.854801e-04</td>\n",
       "      <td>7.150892e-04</td>\n",
       "      <td>8.195378e-04</td>\n",
       "      <td>9.140768e-04</td>\n",
       "      <td>9.963062e-04</td>\n",
       "      <td>1.073346e-03</td>\n",
       "      <td>1.147301e-03</td>\n",
       "      <td>1.214083e-03</td>\n",
       "      <td>...</td>\n",
       "      <td>6.792615e-01</td>\n",
       "      <td>6.823138e-01</td>\n",
       "      <td>6.538462e-01</td>\n",
       "      <td>9.985441e+01</td>\n",
       "      <td>6.753297e+01</td>\n",
       "      <td>9.012224e+01</td>\n",
       "      <td>7.961905e+01</td>\n",
       "      <td>8.057127e+01</td>\n",
       "      <td>1.289437e-01</td>\n",
       "      <td>4.365163e-01</td>\n",
       "    </tr>\n",
       "    <tr>\n",
       "      <th>90%</th>\n",
       "      <td>3.510000e+02</td>\n",
       "      <td>7.384155e-04</td>\n",
       "      <td>1.041016e-03</td>\n",
       "      <td>1.264733e-03</td>\n",
       "      <td>1.447178e-03</td>\n",
       "      <td>1.610306e-03</td>\n",
       "      <td>1.759015e-03</td>\n",
       "      <td>1.891895e-03</td>\n",
       "      <td>2.018163e-03</td>\n",
       "      <td>2.133207e-03</td>\n",
       "      <td>...</td>\n",
       "      <td>8.656430e-01</td>\n",
       "      <td>8.662695e-01</td>\n",
       "      <td>9.000000e-01</td>\n",
       "      <td>1.375000e+02</td>\n",
       "      <td>7.610552e+01</td>\n",
       "      <td>1.000000e+02</td>\n",
       "      <td>8.790211e+01</td>\n",
       "      <td>8.905852e+01</td>\n",
       "      <td>1.755765e-01</td>\n",
       "      <td>7.094017e-01</td>\n",
       "    </tr>\n",
       "    <tr>\n",
       "      <th>max</th>\n",
       "      <td>3.890000e+02</td>\n",
       "      <td>9.877805e-02</td>\n",
       "      <td>1.051307e-01</td>\n",
       "      <td>1.034375e-01</td>\n",
       "      <td>1.911828e-01</td>\n",
       "      <td>1.327160e-01</td>\n",
       "      <td>2.006452e-01</td>\n",
       "      <td>1.245827e-01</td>\n",
       "      <td>1.317181e-01</td>\n",
       "      <td>1.121233e-01</td>\n",
       "      <td>...</td>\n",
       "      <td>5.500000e+03</td>\n",
       "      <td>5.000100e+04</td>\n",
       "      <td>1.000000e+00</td>\n",
       "      <td>4.666667e+02</td>\n",
       "      <td>1.000000e+02</td>\n",
       "      <td>1.000000e+02</td>\n",
       "      <td>1.000000e+02</td>\n",
       "      <td>1.000000e+02</td>\n",
       "      <td>3.459402e+01</td>\n",
       "      <td>2.500100e+04</td>\n",
       "    </tr>\n",
       "  </tbody>\n",
       "</table>\n",
       "<p>14 rows × 22 columns</p>\n",
       "</div>"
      ],
      "text/plain": [
       "             minute       ret1min       ret2min       ret3min       ret4min  \\\n",
       "count  3.087565e+06  3.061353e+06  3.030366e+06  3.022232e+06  3.014597e+06   \n",
       "mean   1.944517e+02 -2.933200e-06 -1.869810e-06 -1.598179e-06 -1.981696e-06   \n",
       "std    1.127876e+02  8.522094e-04  1.143481e-03  1.364755e-03  1.554875e-03   \n",
       "min    0.000000e+00 -1.244796e-01 -8.829405e-02 -1.060236e-01 -1.327945e-01   \n",
       "10%    3.800000e+01 -7.494558e-04 -1.048584e-03 -1.268377e-03 -1.454229e-03   \n",
       "20%    7.700000e+01 -4.105090e-04 -5.929791e-04 -7.232152e-04 -8.290892e-04   \n",
       "30%    1.160000e+02 -2.308225e-04 -3.375865e-04 -4.100041e-04 -4.732608e-04   \n",
       "40%    1.550000e+02 -9.680542e-05 -1.555210e-04 -1.871257e-04 -2.161311e-04   \n",
       "50%    1.940000e+02  0.000000e+00  0.000000e+00  0.000000e+00  0.000000e+00   \n",
       "60%    2.340000e+02  9.104980e-05  1.499700e-04  1.805591e-04  2.082899e-04   \n",
       "70%    2.730000e+02  2.255130e-04  3.308337e-04  4.010963e-04  4.651163e-04   \n",
       "80%    3.120000e+02  4.033559e-04  5.854801e-04  7.150892e-04  8.195378e-04   \n",
       "90%    3.510000e+02  7.384155e-04  1.041016e-03  1.264733e-03  1.447178e-03   \n",
       "max    3.890000e+02  9.877805e-02  1.051307e-01  1.034375e-01  1.911828e-01   \n",
       "\n",
       "            ret5min       ret6min       ret7min       ret8min       ret9min  \\\n",
       "count  3.006284e+06  2.998549e+06  2.990669e+06  2.982548e+06  2.974617e+06   \n",
       "mean  -1.142065e-06  3.964908e-08  8.709935e-07  1.473304e-06  8.600771e-07   \n",
       "std    1.717925e-03  1.863826e-03  1.994273e-03  2.115630e-03  2.235502e-03   \n",
       "min   -1.545420e-01 -1.956444e-01 -2.158158e-01 -1.726063e-01 -2.157102e-01   \n",
       "10%   -1.616089e-03 -1.762741e-03 -1.897606e-03 -2.026686e-03 -2.142857e-03   \n",
       "20%   -9.218753e-04 -1.004307e-03 -1.081334e-03 -1.153403e-03 -1.218621e-03   \n",
       "30%   -5.260389e-04 -5.755245e-04 -6.196361e-04 -6.601532e-04 -6.987242e-04   \n",
       "40%   -2.398082e-04 -2.604845e-04 -2.820079e-04 -3.003003e-04 -3.175107e-04   \n",
       "50%    0.000000e+00  0.000000e+00  0.000000e+00  0.000000e+00  0.000000e+00   \n",
       "60%    2.328158e-04  2.537642e-04  2.754062e-04  2.960551e-04  3.132832e-04   \n",
       "70%    5.172414e-04  5.666289e-04  6.132654e-04  6.540222e-04  6.938020e-04   \n",
       "80%    9.140768e-04  9.963062e-04  1.073346e-03  1.147301e-03  1.214083e-03   \n",
       "90%    1.610306e-03  1.759015e-03  1.891895e-03  2.018163e-03  2.133207e-03   \n",
       "max    1.327160e-01  2.006452e-01  1.245827e-01  1.317181e-01  1.121233e-01   \n",
       "\n",
       "       ...           rup         rdown           BOP           CCI  \\\n",
       "count  ...  3.008146e+06  3.008146e+06  3.061353e+06  2.851720e+06   \n",
       "mean   ...  5.109800e-01  5.258520e-01 -2.657472e-03  1.926504e-01   \n",
       "std    ...  7.497976e+00  3.099559e+01  6.268154e-01  1.088541e+02   \n",
       "min    ...  0.000000e+00  0.000000e+00 -1.000000e+00 -4.666667e+02   \n",
       "10%    ...  0.000000e+00  0.000000e+00 -9.000000e-01 -1.377555e+02   \n",
       "20%    ...  9.638554e-02  9.944259e-02 -6.644518e-01 -9.983731e+01   \n",
       "30%    ...  1.976744e-01  2.017393e-01 -4.508475e-01 -6.917500e+01   \n",
       "40%    ...  2.857143e-01  2.916667e-01 -1.826087e-01 -3.702543e+01   \n",
       "50%    ...  3.701016e-01  3.759077e-01  0.000000e+00  4.377638e-01   \n",
       "60%    ...  4.578505e-01  4.638802e-01  1.666667e-01  3.785810e+01   \n",
       "70%    ...  5.551150e-01  5.599337e-01  4.428571e-01  6.964201e+01   \n",
       "80%    ...  6.792615e-01  6.823138e-01  6.538462e-01  9.985441e+01   \n",
       "90%    ...  8.656430e-01  8.662695e-01  9.000000e-01  1.375000e+02   \n",
       "max    ...  5.500000e+03  5.000100e+04  1.000000e+00  4.666667e+02   \n",
       "\n",
       "                MFI      STOCHRSI         slowd         slowk          NATR  \\\n",
       "count  3.087377e+06  3.087164e+06  3.087329e+06  3.087329e+06  3.087377e+06   \n",
       "mean   4.995851e+01  4.996170e+01  5.026232e+01  5.025505e+01  9.574717e-02   \n",
       "std    1.969340e+01  3.548760e+01  2.770983e+01  2.860330e+01  7.538252e-02   \n",
       "min   -1.837897e-08  0.000000e+00 -3.910354e-12 -5.092223e-12  2.026288e-07   \n",
       "10%    2.395492e+01  0.000000e+00  1.250572e+01  1.122968e+01  4.014445e-02   \n",
       "20%    3.237073e+01  9.771635e+00  2.094136e+01  1.994344e+01  4.871973e-02   \n",
       "30%    3.883638e+01  2.365167e+01  3.006536e+01  2.936605e+01  5.665948e-02   \n",
       "40%    4.452486e+01  3.687606e+01  3.997666e+01  3.958910e+01  6.520095e-02   \n",
       "50%    4.989353e+01  4.993994e+01  5.029630e+01  5.008741e+01  7.514502e-02   \n",
       "60%    5.529671e+01  6.304218e+01  6.069305e+01  6.111111e+01  8.752835e-02   \n",
       "70%    6.100298e+01  7.622753e+01  7.055556e+01  7.123016e+01  1.040583e-01   \n",
       "80%    6.753297e+01  9.012224e+01  7.961905e+01  8.057127e+01  1.289437e-01   \n",
       "90%    7.610552e+01  1.000000e+02  8.790211e+01  8.905852e+01  1.755765e-01   \n",
       "max    1.000000e+02  1.000000e+02  1.000000e+02  1.000000e+02  3.459402e+01   \n",
       "\n",
       "       trades_bid_ask  \n",
       "count    3.008146e+06  \n",
       "mean    -7.094037e-03  \n",
       "std      2.717903e+01  \n",
       "min     -2.630100e+04  \n",
       "10%     -7.299035e-01  \n",
       "20%     -4.601227e-01  \n",
       "30%     -2.782861e-01  \n",
       "40%     -1.309554e-01  \n",
       "50%      0.000000e+00  \n",
       "60%      1.036810e-01  \n",
       "70%      2.516316e-01  \n",
       "80%      4.365163e-01  \n",
       "90%      7.094017e-01  \n",
       "max      2.500100e+04  \n",
       "\n",
       "[14 rows x 22 columns]"
      ]
     },
     "execution_count": 10,
     "metadata": {},
     "output_type": "execute_result"
    }
   ],
   "source": [
    "data.sample(frac=.1).describe(percentiles=np.arange(.1, 1, .1))"
   ]
  },
  {
   "cell_type": "markdown",
   "metadata": {},
   "source": [
    "## Model Training"
   ]
  },
  {
   "cell_type": "markdown",
   "metadata": {},
   "source": [
    "### Helper functions"
   ]
  },
  {
   "cell_type": "code",
   "execution_count": 11,
   "metadata": {
    "ExecuteTime": {
     "end_time": "2021-01-20T05:06:27.999759Z",
     "start_time": "2021-01-20T05:06:27.994007Z"
    }
   },
   "outputs": [],
   "source": [
    "class MultipleTimeSeriesCV:\n",
    "    \"\"\"Generates tuples of train_idx, test_idx pairs\n",
    "    Assumes the MultiIndex contains levels 'symbol' and 'date'\n",
    "    purges overlapping outcomes\"\"\"\n",
    "\n",
    "    def __init__(self,\n",
    "                 n_splits=3,\n",
    "                 train_period_length=126,\n",
    "                 test_period_length=21,\n",
    "                 lookahead=None,\n",
    "                 date_idx='date',\n",
    "                 shuffle=False):\n",
    "        self.n_splits = n_splits\n",
    "        self.lookahead = lookahead\n",
    "        self.test_length = test_period_length\n",
    "        self.train_length = train_period_length\n",
    "        self.shuffle = shuffle\n",
    "        self.date_idx = date_idx\n",
    "\n",
    "    def split(self, X, y=None, groups=None):\n",
    "        unique_dates = X.index.get_level_values(self.date_idx).unique()\n",
    "        days = sorted(unique_dates, reverse=True)\n",
    "        split_idx = []\n",
    "        for i in range(self.n_splits):\n",
    "            test_end_idx = i * self.test_length\n",
    "            test_start_idx = test_end_idx + self.test_length\n",
    "            train_end_idx = test_start_idx + self.lookahead - 1\n",
    "            train_start_idx = train_end_idx + self.train_length + self.lookahead - 1\n",
    "            split_idx.append([train_start_idx, train_end_idx,\n",
    "                              test_start_idx, test_end_idx])\n",
    "\n",
    "        dates = X.reset_index()[[self.date_idx]]\n",
    "        for train_start, train_end, test_start, test_end in split_idx:\n",
    "\n",
    "            train_idx = dates[(dates[self.date_idx] > days[train_start])\n",
    "                              & (dates[self.date_idx] <= days[train_end])].index\n",
    "            test_idx = dates[(dates[self.date_idx] > days[test_start])\n",
    "                             & (dates[self.date_idx] <= days[test_end])].index\n",
    "            if self.shuffle:\n",
    "                np.random.shuffle(list(train_idx))\n",
    "            yield train_idx.to_numpy(), test_idx.to_numpy()\n",
    "\n",
    "    def get_n_splits(self, X, y, groups=None):\n",
    "        return self.n_splits\n"
   ]
  },
  {
   "cell_type": "code",
   "execution_count": 12,
   "metadata": {
    "ExecuteTime": {
     "end_time": "2021-01-20T05:06:28.012433Z",
     "start_time": "2021-01-20T05:06:28.001098Z"
    }
   },
   "outputs": [],
   "source": [
    "def get_fi(model):\n",
    "    fi = model.feature_importance(importance_type='gain')\n",
    "    return (pd.Series(fi / fi.sum(),\n",
    "                      index=model.feature_name()))"
   ]
  },
  {
   "cell_type": "markdown",
   "metadata": {},
   "source": [
    "### Categorical Variables"
   ]
  },
  {
   "cell_type": "code",
   "execution_count": 13,
   "metadata": {
    "ExecuteTime": {
     "end_time": "2021-01-20T05:06:29.444688Z",
     "start_time": "2021-01-20T05:06:28.013407Z"
    }
   },
   "outputs": [],
   "source": [
    "data['stock_id'] = pd.factorize(data.index.get_level_values('ticker'), sort=True)[0]"
   ]
  },
  {
   "cell_type": "code",
   "execution_count": 14,
   "metadata": {
    "ExecuteTime": {
     "end_time": "2021-01-20T05:06:29.447321Z",
     "start_time": "2021-01-20T05:06:29.445657Z"
    }
   },
   "outputs": [],
   "source": [
    "categoricals = ['stock_id']"
   ]
  },
  {
   "cell_type": "markdown",
   "metadata": {},
   "source": [
    "### Custom Metric"
   ]
  },
  {
   "cell_type": "code",
   "execution_count": 15,
   "metadata": {
    "ExecuteTime": {
     "end_time": "2021-01-20T05:06:29.458526Z",
     "start_time": "2021-01-20T05:06:29.448529Z"
    }
   },
   "outputs": [],
   "source": [
    "def ic_lgbm(preds, train_data):\n",
    "    \"\"\"Custom IC eval metric for lightgbm\"\"\"\n",
    "    is_higher_better = True\n",
    "    return 'ic', spearmanr(preds, train_data.get_label())[0], is_higher_better"
   ]
  },
  {
   "cell_type": "markdown",
   "metadata": {},
   "source": [
    "### Cross-validation setup"
   ]
  },
  {
   "cell_type": "code",
   "execution_count": 16,
   "metadata": {
    "ExecuteTime": {
     "end_time": "2021-01-20T05:06:29.467434Z",
     "start_time": "2021-01-20T05:06:29.459453Z"
    }
   },
   "outputs": [],
   "source": [
    "DAY = 390   # number of minute bars in a trading day of 6.5 hrs (9:30 - 15:59)\n",
    "MONTH = 21  # trading days"
   ]
  },
  {
   "cell_type": "code",
   "execution_count": 17,
   "metadata": {
    "ExecuteTime": {
     "end_time": "2021-01-20T05:06:29.479937Z",
     "start_time": "2021-01-20T05:06:29.468438Z"
    }
   },
   "outputs": [],
   "source": [
    "def get_cv(n_splits=23):\n",
    "    return MultipleTimeSeriesCV(n_splits=n_splits,\n",
    "                                lookahead=1,\n",
    "                                test_period_length=MONTH * DAY,       # test for 1 month\n",
    "                                train_period_length=12 * MONTH * DAY,  # train for 1 year\n",
    "                                date_idx='date_time')"
   ]
  },
  {
   "cell_type": "markdown",
   "metadata": {},
   "source": [
    "Show train/validation periods:"
   ]
  },
  {
   "cell_type": "code",
   "execution_count": 18,
   "metadata": {
    "ExecuteTime": {
     "end_time": "2021-01-20T05:06:55.998459Z",
     "start_time": "2021-01-20T05:06:29.480837Z"
    }
   },
   "outputs": [
    {
     "name": "stdout",
     "output_type": "stream",
     "text": [
      "2016-11-29 15:59:00 2017-11-29 15:59:00 2017-11-30 09:30:00 2017-12-29 15:59:00\n",
      "2016-10-28 15:47:00 2017-10-30 15:58:00 2017-10-30 15:59:00 2017-11-29 15:59:00\n",
      "2016-09-29 15:47:00 2017-09-29 15:58:00 2017-09-29 15:59:00 2017-10-30 15:58:00\n",
      "2016-08-30 15:47:00 2017-08-30 15:58:00 2017-08-30 15:59:00 2017-09-29 15:58:00\n",
      "2016-08-01 15:47:00 2017-08-01 15:58:00 2017-08-01 15:59:00 2017-08-30 15:58:00\n",
      "2016-06-30 15:47:00 2017-06-30 15:58:00 2017-06-30 15:59:00 2017-08-01 15:58:00\n",
      "2016-06-01 15:47:00 2017-06-01 15:58:00 2017-06-01 15:59:00 2017-06-30 15:58:00\n",
      "2016-05-02 15:47:00 2017-05-02 15:58:00 2017-05-02 15:59:00 2017-06-01 15:58:00\n",
      "2016-04-01 15:47:00 2017-03-31 15:58:00 2017-03-31 15:59:00 2017-05-02 15:58:00\n",
      "2016-03-02 15:47:00 2017-03-02 15:58:00 2017-03-02 15:59:00 2017-03-31 15:58:00\n",
      "2016-02-01 15:47:00 2017-01-31 15:58:00 2017-01-31 15:59:00 2017-03-02 15:58:00\n",
      "2015-12-30 15:47:00 2016-12-29 15:58:00 2016-12-29 15:59:00 2017-01-31 15:58:00\n",
      "2015-11-30 15:23:00 2016-11-29 15:58:00 2016-11-29 15:59:00 2016-12-29 15:58:00\n",
      "2015-10-29 15:09:00 2016-10-28 15:46:00 2016-10-28 15:47:00 2016-11-29 15:58:00\n",
      "2015-09-30 15:09:00 2016-09-29 15:46:00 2016-09-29 15:47:00 2016-10-28 15:46:00\n",
      "2015-08-31 15:09:00 2016-08-30 15:46:00 2016-08-30 15:47:00 2016-09-29 15:46:00\n",
      "2015-07-31 15:09:00 2016-08-01 15:46:00 2016-08-01 15:47:00 2016-08-30 15:46:00\n",
      "2015-07-01 15:09:00 2016-06-30 15:46:00 2016-06-30 15:47:00 2016-08-01 15:46:00\n",
      "2015-06-02 15:09:00 2016-06-01 15:46:00 2016-06-01 15:47:00 2016-06-30 15:46:00\n",
      "2015-05-01 15:09:00 2016-05-02 15:46:00 2016-05-02 15:47:00 2016-06-01 15:46:00\n",
      "2015-04-01 15:09:00 2016-04-01 15:46:00 2016-04-01 15:47:00 2016-05-02 15:46:00\n",
      "2015-03-03 15:09:00 2016-03-02 15:46:00 2016-03-02 15:47:00 2016-04-01 15:46:00\n",
      "2015-01-30 15:09:00 2016-02-01 15:46:00 2016-02-01 15:47:00 2016-03-02 15:46:00\n"
     ]
    }
   ],
   "source": [
    "for i, (train_idx, test_idx) in enumerate(get_cv().split(X=data)):\n",
    "    train_dates = data.iloc[train_idx].index.unique('date_time')\n",
    "    test_dates = data.iloc[test_idx].index.unique('date_time')\n",
    "    print(train_dates.min(), train_dates.max(), test_dates.min(), test_dates.max())"
   ]
  },
  {
   "cell_type": "markdown",
   "metadata": {},
   "source": [
    "### Train model"
   ]
  },
  {
   "cell_type": "code",
   "execution_count": 19,
   "metadata": {
    "ExecuteTime": {
     "end_time": "2021-01-20T05:06:56.047385Z",
     "start_time": "2021-01-20T05:06:55.999417Z"
    }
   },
   "outputs": [],
   "source": [
    "label = sorted(data.filter(like='fwd').columns)\n",
    "features = data.columns.difference(label).tolist()\n",
    "label = label[0]"
   ]
  },
  {
   "cell_type": "code",
   "execution_count": 48,
   "metadata": {
    "ExecuteTime": {
     "end_time": "2021-01-20T08:46:36.812958Z",
     "start_time": "2021-01-20T08:46:36.804194Z"
    }
   },
   "outputs": [],
   "source": [
    "params = dict(objective='regression',\n",
    "              metric=['rmse'],\n",
    "              device='gpu',\n",
    "              max_bin=63,\n",
    "              gpu_use_dp=False,\n",
    "              num_leaves=16,\n",
    "              min_data_in_leaf=500,\n",
    "              feature_fraction=.8,\n",
    "              verbose=-1)"
   ]
  },
  {
   "cell_type": "code",
   "execution_count": 49,
   "metadata": {
    "ExecuteTime": {
     "end_time": "2021-01-20T08:46:37.104909Z",
     "start_time": "2021-01-20T08:46:37.100050Z"
    }
   },
   "outputs": [],
   "source": [
    "num_boost_round = 250"
   ]
  },
  {
   "cell_type": "code",
   "execution_count": 50,
   "metadata": {
    "ExecuteTime": {
     "end_time": "2021-01-20T08:46:37.568191Z",
     "start_time": "2021-01-20T08:46:37.566003Z"
    }
   },
   "outputs": [],
   "source": [
    "cv = get_cv(n_splits=23) # we have enough data for 23 different test periods"
   ]
  },
  {
   "cell_type": "code",
   "execution_count": 51,
   "metadata": {
    "ExecuteTime": {
     "end_time": "2021-01-20T08:46:38.707531Z",
     "start_time": "2021-01-20T08:46:38.705448Z"
    }
   },
   "outputs": [],
   "source": [
    "def get_scores(result):\n",
    "    return pd.DataFrame({'train': result['training']['ic'],\n",
    "                         'valid': result['valid_1']['ic']})"
   ]
  },
  {
   "cell_type": "markdown",
   "metadata": {},
   "source": [
    "The following model-training loop will take more than 10 hours to run and also consumes substantial memory. If you run into resource constraints, you can modify the code, e.g., by:\n",
    "1. Only loading data required for one iteration.\n",
    "2. Shortening the training period to require less than one year.\n",
    "\n",
    "You can also speed up the process by using fewer `n_splits`, which implies longer test periods."
   ]
  },
  {
   "cell_type": "code",
   "execution_count": 52,
   "metadata": {
    "ExecuteTime": {
     "end_time": "2021-01-20T17:43:20.892339Z",
     "start_time": "2021-01-20T08:46:39.637329Z"
    },
    "scrolled": false
   },
   "outputs": [
    {
     "name": "stdout",
     "output_type": "stream",
     "text": [
      "[50]\ttraining's rmse: 0.0006962\ttraining's ic: 0.038731\tvalid_1's rmse: 0.000816226\tvalid_1's ic: 0.0543727\n",
      "[100]\ttraining's rmse: 0.000695586\ttraining's ic: 0.04416\tvalid_1's rmse: 0.000815993\tvalid_1's ic: 0.0552591\n",
      "[150]\ttraining's rmse: 0.000695027\ttraining's ic: 0.046986\tvalid_1's rmse: 0.000815898\tvalid_1's ic: 0.0557145\n",
      "[200]\ttraining's rmse: 0.000694592\ttraining's ic: 0.04948\tvalid_1's rmse: 0.000815859\tvalid_1's ic: 0.0561737\n",
      "[250]\ttraining's rmse: 0.000694165\ttraining's ic: 0.0517389\tvalid_1's rmse: 0.000815865\tvalid_1's ic: 0.0558025\n",
      "\n",
      "Fold: 01 | 00:17:46 | IC per minute: 5.59%\n",
      "\n",
      "[50]\ttraining's rmse: 0.000699973\ttraining's ic: 0.0376039\tvalid_1's rmse: 0.000847957\tvalid_1's ic: 0.0416495\n",
      "[100]\ttraining's rmse: 0.000699303\ttraining's ic: 0.0426195\tvalid_1's rmse: 0.000847627\tvalid_1's ic: 0.043379\n",
      "[150]\ttraining's rmse: 0.000698748\ttraining's ic: 0.0457404\tvalid_1's rmse: 0.000847548\tvalid_1's ic: 0.043617\n",
      "[200]\ttraining's rmse: 0.000698298\ttraining's ic: 0.0482473\tvalid_1's rmse: 0.000847537\tvalid_1's ic: 0.0440953\n",
      "[250]\ttraining's rmse: 0.000697857\ttraining's ic: 0.0506102\tvalid_1's rmse: 0.000847582\tvalid_1's ic: 0.0439462\n",
      "\n",
      "Fold: 02 | 00:35:29 | IC per minute: 4.45%\n",
      "\n",
      "[50]\ttraining's rmse: 0.000698592\ttraining's ic: 0.0370533\tvalid_1's rmse: 0.000706335\tvalid_1's ic: 0.0404773\n",
      "[100]\ttraining's rmse: 0.000697869\ttraining's ic: 0.0418831\tvalid_1's rmse: 0.000706128\tvalid_1's ic: 0.0413394\n",
      "[150]\ttraining's rmse: 0.000697354\ttraining's ic: 0.0452553\tvalid_1's rmse: 0.000706085\tvalid_1's ic: 0.0411713\n",
      "[200]\ttraining's rmse: 0.000696885\ttraining's ic: 0.0479669\tvalid_1's rmse: 0.000706038\tvalid_1's ic: 0.0413983\n",
      "[250]\ttraining's rmse: 0.000696456\ttraining's ic: 0.0503778\tvalid_1's rmse: 0.000706054\tvalid_1's ic: 0.0412612\n",
      "\n",
      "Fold: 03 | 00:57:48 | IC per minute: 4.45%\n",
      "\n",
      "[50]\ttraining's rmse: 0.000701553\ttraining's ic: 0.0363031\tvalid_1's rmse: 0.000669637\tvalid_1's ic: 0.0326244\n",
      "[100]\ttraining's rmse: 0.000700849\ttraining's ic: 0.0413249\tvalid_1's rmse: 0.000669565\tvalid_1's ic: 0.0339486\n",
      "[150]\ttraining's rmse: 0.000700357\ttraining's ic: 0.0447981\tvalid_1's rmse: 0.000669562\tvalid_1's ic: 0.0343703\n",
      "[200]\ttraining's rmse: 0.000699884\ttraining's ic: 0.0476104\tvalid_1's rmse: 0.000669583\tvalid_1's ic: 0.0349983\n",
      "[250]\ttraining's rmse: 0.000699484\ttraining's ic: 0.0501712\tvalid_1's rmse: 0.000669543\tvalid_1's ic: 0.0355025\n",
      "\n",
      "Fold: 04 | 01:24:05 | IC per minute: 3.83%\n",
      "\n",
      "[50]\ttraining's rmse: 0.000697019\ttraining's ic: 0.0354982\tvalid_1's rmse: 0.000697012\tvalid_1's ic: 0.0247309\n",
      "[100]\ttraining's rmse: 0.000696274\ttraining's ic: 0.0410205\tvalid_1's rmse: 0.000696904\tvalid_1's ic: 0.0271854\n",
      "[150]\ttraining's rmse: 0.000695755\ttraining's ic: 0.044584\tvalid_1's rmse: 0.000696912\tvalid_1's ic: 0.0276005\n",
      "[200]\ttraining's rmse: 0.000695313\ttraining's ic: 0.0474853\tvalid_1's rmse: 0.000696927\tvalid_1's ic: 0.0285591\n",
      "[250]\ttraining's rmse: 0.000694863\ttraining's ic: 0.0498696\tvalid_1's rmse: 0.000696917\tvalid_1's ic: 0.0285991\n",
      "\n",
      "Fold: 05 | 01:50:23 | IC per minute: 3.13%\n",
      "\n",
      "[50]\ttraining's rmse: 0.00069678\ttraining's ic: 0.0350113\tvalid_1's rmse: 0.000701348\tvalid_1's ic: 0.0275999\n",
      "[100]\ttraining's rmse: 0.00069605\ttraining's ic: 0.0406079\tvalid_1's rmse: 0.000701289\tvalid_1's ic: 0.0297336\n",
      "[150]\ttraining's rmse: 0.000695473\ttraining's ic: 0.0441527\tvalid_1's rmse: 0.000701216\tvalid_1's ic: 0.0307175\n",
      "[200]\ttraining's rmse: 0.000694997\ttraining's ic: 0.0471703\tvalid_1's rmse: 0.000701244\tvalid_1's ic: 0.0314352\n",
      "[250]\ttraining's rmse: 0.000694559\ttraining's ic: 0.0492445\tvalid_1's rmse: 0.000701273\tvalid_1's ic: 0.0314369\n",
      "\n",
      "Fold: 06 | 02:16:28 | IC per minute: 3.34%\n",
      "\n",
      "[50]\ttraining's rmse: 0.000702829\ttraining's ic: 0.0337797\tvalid_1's rmse: 0.000744246\tvalid_1's ic: 0.0246692\n",
      "[100]\ttraining's rmse: 0.00070212\ttraining's ic: 0.0385954\tvalid_1's rmse: 0.000744224\tvalid_1's ic: 0.0264151\n",
      "[150]\ttraining's rmse: 0.000701593\ttraining's ic: 0.0430637\tvalid_1's rmse: 0.000744229\tvalid_1's ic: 0.0275546\n",
      "[200]\ttraining's rmse: 0.000701114\ttraining's ic: 0.0458159\tvalid_1's rmse: 0.000744281\tvalid_1's ic: 0.0282104\n",
      "[250]\ttraining's rmse: 0.000700721\ttraining's ic: 0.0482636\tvalid_1's rmse: 0.000744313\tvalid_1's ic: 0.0283922\n",
      "\n",
      "Fold: 07 | 02:42:44 | IC per minute: 3.28%\n",
      "\n",
      "[50]\ttraining's rmse: 0.000722509\ttraining's ic: 0.0334184\tvalid_1's rmse: 0.00062052\tvalid_1's ic: 0.032487\n",
      "[100]\ttraining's rmse: 0.000721876\ttraining's ic: 0.038585\tvalid_1's rmse: 0.000620422\tvalid_1's ic: 0.0333264\n",
      "[150]\ttraining's rmse: 0.000721342\ttraining's ic: 0.0423346\tvalid_1's rmse: 0.000620373\tvalid_1's ic: 0.0332792\n",
      "[200]\ttraining's rmse: 0.000720854\ttraining's ic: 0.0453648\tvalid_1's rmse: 0.000620391\tvalid_1's ic: 0.0344978\n",
      "[250]\ttraining's rmse: 0.00072039\ttraining's ic: 0.0475421\tvalid_1's rmse: 0.000620433\tvalid_1's ic: 0.0349232\n",
      "\n",
      "Fold: 08 | 03:08:25 | IC per minute: 3.70%\n",
      "\n",
      "[50]\ttraining's rmse: 0.000752768\ttraining's ic: 0.0325142\tvalid_1's rmse: 0.0005842\tvalid_1's ic: 0.0271741\n",
      "[100]\ttraining's rmse: 0.000751985\ttraining's ic: 0.0374633\tvalid_1's rmse: 0.000584136\tvalid_1's ic: 0.0283447\n",
      "[150]\ttraining's rmse: 0.000751343\ttraining's ic: 0.0407396\tvalid_1's rmse: 0.000584099\tvalid_1's ic: 0.0289354\n",
      "[200]\ttraining's rmse: 0.000750835\ttraining's ic: 0.0439565\tvalid_1's rmse: 0.000584126\tvalid_1's ic: 0.0294128\n",
      "[250]\ttraining's rmse: 0.00075033\ttraining's ic: 0.0460732\tvalid_1's rmse: 0.000584183\tvalid_1's ic: 0.0293556\n",
      "\n",
      "Fold: 09 | 03:34:14 | IC per minute: 3.21%\n",
      "\n",
      "[50]\ttraining's rmse: 0.000772983\ttraining's ic: 0.0315982\tvalid_1's rmse: 0.00063351\tvalid_1's ic: 0.0269043\n",
      "[100]\ttraining's rmse: 0.000772305\ttraining's ic: 0.0370821\tvalid_1's rmse: 0.000633424\tvalid_1's ic: 0.0295316\n",
      "[150]\ttraining's rmse: 0.000771751\ttraining's ic: 0.0402892\tvalid_1's rmse: 0.000633369\tvalid_1's ic: 0.0301651\n",
      "[200]\ttraining's rmse: 0.000771242\ttraining's ic: 0.0432137\tvalid_1's rmse: 0.000633349\tvalid_1's ic: 0.0312183\n",
      "[250]\ttraining's rmse: 0.000770771\ttraining's ic: 0.0455847\tvalid_1's rmse: 0.000633325\tvalid_1's ic: 0.0315627\n",
      "\n",
      "Fold: 10 | 04:00:30 | IC per minute: 2.98%\n",
      "\n",
      "[50]\ttraining's rmse: 0.000832092\ttraining's ic: 0.0325253\tvalid_1's rmse: 0.000653653\tvalid_1's ic: 0.026781\n",
      "[100]\ttraining's rmse: 0.000831323\ttraining's ic: 0.0377314\tvalid_1's rmse: 0.000653568\tvalid_1's ic: 0.0289015\n",
      "[150]\ttraining's rmse: 0.000830753\ttraining's ic: 0.0411433\tvalid_1's rmse: 0.000653586\tvalid_1's ic: 0.0291601\n",
      "[200]\ttraining's rmse: 0.000830191\ttraining's ic: 0.043913\tvalid_1's rmse: 0.000653599\tvalid_1's ic: 0.0301002\n",
      "[250]\ttraining's rmse: 0.000829674\ttraining's ic: 0.0465464\tvalid_1's rmse: 0.000653658\tvalid_1's ic: 0.0303744\n",
      "\n",
      "Fold: 11 | 04:26:17 | IC per minute: 2.94%\n",
      "\n",
      "[50]\ttraining's rmse: 0.000877395\ttraining's ic: 0.0320049\tvalid_1's rmse: 0.000721517\tvalid_1's ic: 0.0240198\n",
      "[100]\ttraining's rmse: 0.000876658\ttraining's ic: 0.0374841\tvalid_1's rmse: 0.00072146\tvalid_1's ic: 0.026157\n",
      "[150]\ttraining's rmse: 0.000876046\ttraining's ic: 0.0408182\tvalid_1's rmse: 0.000721393\tvalid_1's ic: 0.0272646\n",
      "[200]\ttraining's rmse: 0.000875495\ttraining's ic: 0.0441758\tvalid_1's rmse: 0.000721363\tvalid_1's ic: 0.0281185\n",
      "[250]\ttraining's rmse: 0.000875026\ttraining's ic: 0.0467237\tvalid_1's rmse: 0.00072137\tvalid_1's ic: 0.028905\n",
      "\n",
      "Fold: 12 | 04:52:49 | IC per minute: 3.04%\n",
      "\n",
      "[50]\ttraining's rmse: 0.000886972\ttraining's ic: 0.0326955\tvalid_1's rmse: 0.000749551\tvalid_1's ic: 0.0260998\n",
      "[100]\ttraining's rmse: 0.000886233\ttraining's ic: 0.0374855\tvalid_1's rmse: 0.00074944\tvalid_1's ic: 0.0283205\n",
      "[150]\ttraining's rmse: 0.000885641\ttraining's ic: 0.0409926\tvalid_1's rmse: 0.000749411\tvalid_1's ic: 0.029227\n",
      "[200]\ttraining's rmse: 0.000885103\ttraining's ic: 0.0439042\tvalid_1's rmse: 0.000749372\tvalid_1's ic: 0.0297628\n",
      "[250]\ttraining's rmse: 0.000884651\ttraining's ic: 0.0465908\tvalid_1's rmse: 0.000749306\tvalid_1's ic: 0.0307105\n",
      "\n",
      "Fold: 13 | 05:18:51 | IC per minute: 3.01%\n",
      "\n",
      "[50]\ttraining's rmse: 0.000892264\ttraining's ic: 0.0326621\tvalid_1's rmse: 0.00088496\tvalid_1's ic: 0.0215666\n",
      "[100]\ttraining's rmse: 0.000891562\ttraining's ic: 0.0366921\tvalid_1's rmse: 0.000884886\tvalid_1's ic: 0.0220376\n",
      "[150]\ttraining's rmse: 0.000890964\ttraining's ic: 0.0397876\tvalid_1's rmse: 0.000884839\tvalid_1's ic: 0.0227016\n",
      "[200]\ttraining's rmse: 0.000890451\ttraining's ic: 0.0430167\tvalid_1's rmse: 0.000884803\tvalid_1's ic: 0.0235889\n"
     ]
    },
    {
     "name": "stdout",
     "output_type": "stream",
     "text": [
      "[250]\ttraining's rmse: 0.000889943\ttraining's ic: 0.0452669\tvalid_1's rmse: 0.000884774\tvalid_1's ic: 0.0240788\n",
      "\n",
      "Fold: 14 | 05:45:07 | IC per minute: 2.86%\n",
      "\n",
      "[50]\ttraining's rmse: 0.000921495\ttraining's ic: 0.0325343\tvalid_1's rmse: 0.000688911\tvalid_1's ic: 0.0223877\n",
      "[100]\ttraining's rmse: 0.00092084\ttraining's ic: 0.0366749\tvalid_1's rmse: 0.000688793\tvalid_1's ic: 0.0239436\n",
      "[150]\ttraining's rmse: 0.000920176\ttraining's ic: 0.0401455\tvalid_1's rmse: 0.00068875\tvalid_1's ic: 0.0249856\n",
      "[200]\ttraining's rmse: 0.000919602\ttraining's ic: 0.0432488\tvalid_1's rmse: 0.000688764\tvalid_1's ic: 0.0256182\n",
      "[250]\ttraining's rmse: 0.000919108\ttraining's ic: 0.0458315\tvalid_1's rmse: 0.000688732\tvalid_1's ic: 0.0265407\n",
      "\n",
      "Fold: 15 | 06:11:36 | IC per minute: 2.68%\n",
      "\n",
      "[50]\ttraining's rmse: 0.000940675\ttraining's ic: 0.0333497\tvalid_1's rmse: 0.00070608\tvalid_1's ic: 0.0200963\n",
      "[100]\ttraining's rmse: 0.000939891\ttraining's ic: 0.0377662\tvalid_1's rmse: 0.000706092\tvalid_1's ic: 0.020633\n",
      "[150]\ttraining's rmse: 0.000939188\ttraining's ic: 0.0414858\tvalid_1's rmse: 0.000706075\tvalid_1's ic: 0.021742\n",
      "[200]\ttraining's rmse: 0.000938638\ttraining's ic: 0.0441729\tvalid_1's rmse: 0.00070609\tvalid_1's ic: 0.0223267\n",
      "[250]\ttraining's rmse: 0.000938117\ttraining's ic: 0.0468418\tvalid_1's rmse: 0.000706121\tvalid_1's ic: 0.0225305\n",
      "\n",
      "Fold: 16 | 06:38:11 | IC per minute: 2.44%\n",
      "\n",
      "[50]\ttraining's rmse: 0.000985282\ttraining's ic: 0.0324179\tvalid_1's rmse: 0.000640303\tvalid_1's ic: 0.0209769\n",
      "[100]\ttraining's rmse: 0.00098423\ttraining's ic: 0.0362766\tvalid_1's rmse: 0.000640323\tvalid_1's ic: 0.0216562\n",
      "[150]\ttraining's rmse: 0.000983366\ttraining's ic: 0.0396048\tvalid_1's rmse: 0.000640393\tvalid_1's ic: 0.0223887\n",
      "[200]\ttraining's rmse: 0.000982623\ttraining's ic: 0.042354\tvalid_1's rmse: 0.000640399\tvalid_1's ic: 0.0228008\n",
      "[250]\ttraining's rmse: 0.000981903\ttraining's ic: 0.0447996\tvalid_1's rmse: 0.000640409\tvalid_1's ic: 0.0235311\n",
      "\n",
      "Fold: 17 | 07:04:30 | IC per minute: 2.60%\n",
      "\n",
      "[50]\ttraining's rmse: 0.000992882\ttraining's ic: 0.0330731\tvalid_1's rmse: 0.000698768\tvalid_1's ic: 0.0178816\n",
      "[100]\ttraining's rmse: 0.000991763\ttraining's ic: 0.0369799\tvalid_1's rmse: 0.000698784\tvalid_1's ic: 0.0188669\n",
      "[150]\ttraining's rmse: 0.000990925\ttraining's ic: 0.0401558\tvalid_1's rmse: 0.00069884\tvalid_1's ic: 0.0197579\n",
      "[200]\ttraining's rmse: 0.00099016\ttraining's ic: 0.0430659\tvalid_1's rmse: 0.00069889\tvalid_1's ic: 0.0204069\n",
      "[250]\ttraining's rmse: 0.000989494\ttraining's ic: 0.0454836\tvalid_1's rmse: 0.000698912\tvalid_1's ic: 0.021086\n",
      "\n",
      "Fold: 18 | 07:23:22 | IC per minute: 2.47%\n",
      "\n",
      "[50]\ttraining's rmse: 0.000981605\ttraining's ic: 0.0333102\tvalid_1's rmse: 0.000807922\tvalid_1's ic: 0.0192318\n",
      "[100]\ttraining's rmse: 0.000980441\ttraining's ic: 0.0371727\tvalid_1's rmse: 0.000807994\tvalid_1's ic: 0.0198469\n",
      "[150]\ttraining's rmse: 0.000979597\ttraining's ic: 0.040212\tvalid_1's rmse: 0.000808115\tvalid_1's ic: 0.0198447\n",
      "[200]\ttraining's rmse: 0.000978876\ttraining's ic: 0.0429504\tvalid_1's rmse: 0.000808122\tvalid_1's ic: 0.0202568\n",
      "[250]\ttraining's rmse: 0.000978225\ttraining's ic: 0.0454618\tvalid_1's rmse: 0.000808137\tvalid_1's ic: 0.0204947\n",
      "\n",
      "Fold: 19 | 07:42:22 | IC per minute: 2.58%\n",
      "\n",
      "[50]\ttraining's rmse: 0.000971273\ttraining's ic: 0.0343452\tvalid_1's rmse: 0.00084749\tvalid_1's ic: 0.0205258\n",
      "[100]\ttraining's rmse: 0.000970176\ttraining's ic: 0.0383209\tvalid_1's rmse: 0.000847495\tvalid_1's ic: 0.0222474\n",
      "[150]\ttraining's rmse: 0.000969198\ttraining's ic: 0.0409799\tvalid_1's rmse: 0.000847536\tvalid_1's ic: 0.0226757\n",
      "[200]\ttraining's rmse: 0.000968461\ttraining's ic: 0.0437774\tvalid_1's rmse: 0.000847519\tvalid_1's ic: 0.0232256\n",
      "[250]\ttraining's rmse: 0.000967769\ttraining's ic: 0.0463843\tvalid_1's rmse: 0.000847529\tvalid_1's ic: 0.0236719\n",
      "\n",
      "Fold: 20 | 08:00:44 | IC per minute: 2.79%\n",
      "\n",
      "[50]\ttraining's rmse: 0.000956095\ttraining's ic: 0.0343668\tvalid_1's rmse: 0.00093566\tvalid_1's ic: 0.0210374\n",
      "[100]\ttraining's rmse: 0.000955025\ttraining's ic: 0.0392049\tvalid_1's rmse: 0.000935819\tvalid_1's ic: 0.022133\n",
      "[150]\ttraining's rmse: 0.000954102\ttraining's ic: 0.0422933\tvalid_1's rmse: 0.0009359\tvalid_1's ic: 0.0228522\n",
      "[200]\ttraining's rmse: 0.000953454\ttraining's ic: 0.0448814\tvalid_1's rmse: 0.000935966\tvalid_1's ic: 0.0233652\n",
      "[250]\ttraining's rmse: 0.000952775\ttraining's ic: 0.0473471\tvalid_1's rmse: 0.000936005\tvalid_1's ic: 0.0231158\n",
      "\n",
      "Fold: 21 | 08:19:21 | IC per minute: 2.43%\n",
      "\n",
      "[50]\ttraining's rmse: 0.000945276\ttraining's ic: 0.0343428\tvalid_1's rmse: 0.000878341\tvalid_1's ic: 0.0227607\n",
      "[100]\ttraining's rmse: 0.000944164\ttraining's ic: 0.0389748\tvalid_1's rmse: 0.000878351\tvalid_1's ic: 0.0246803\n",
      "[150]\ttraining's rmse: 0.000943245\ttraining's ic: 0.0416026\tvalid_1's rmse: 0.00087842\tvalid_1's ic: 0.0257048\n",
      "[200]\ttraining's rmse: 0.000942459\ttraining's ic: 0.0444224\tvalid_1's rmse: 0.000878479\tvalid_1's ic: 0.0260882\n",
      "[250]\ttraining's rmse: 0.000941729\ttraining's ic: 0.0464706\tvalid_1's rmse: 0.000878522\tvalid_1's ic: 0.0260996\n",
      "\n",
      "Fold: 22 | 08:38:07 | IC per minute: 2.97%\n",
      "\n",
      "[50]\ttraining's rmse: 0.000901678\ttraining's ic: 0.0344405\tvalid_1's rmse: 0.00124889\tvalid_1's ic: 0.0247168\n",
      "[100]\ttraining's rmse: 0.000900504\ttraining's ic: 0.0387862\tvalid_1's rmse: 0.00124921\tvalid_1's ic: 0.0242162\n",
      "[150]\ttraining's rmse: 0.000899561\ttraining's ic: 0.0426923\tvalid_1's rmse: 0.00124947\tvalid_1's ic: 0.0241308\n",
      "[200]\ttraining's rmse: 0.00089887\ttraining's ic: 0.045369\tvalid_1's rmse: 0.00124959\tvalid_1's ic: 0.0242198\n",
      "[250]\ttraining's rmse: 0.000898202\ttraining's ic: 0.0477219\tvalid_1's rmse: 0.00124973\tvalid_1's ic: 0.0247126\n",
      "\n",
      "Fold: 23 | 08:56:41 | IC per minute: 3.17%\n",
      "\n"
     ]
    }
   ],
   "source": [
    "start = time()\n",
    "for fold, (train_idx, test_idx) in enumerate(cv.split(X=data), 1):\n",
    "    # create lgb train set\n",
    "    train_set = data.iloc[train_idx, :]\n",
    "    lgb_train = lgb.Dataset(data=train_set.drop(label, axis=1),\n",
    "                            label=train_set[label],\n",
    "                            categorical_feature=categoricals)\n",
    "    \n",
    "    # create lgb test set\n",
    "    test_set = data.iloc[test_idx, :]\n",
    "    lgb_test = lgb.Dataset(data=test_set.drop(label, axis=1),\n",
    "                           label=test_set[label],\n",
    "                           categorical_feature=categoricals, \n",
    "                           reference=lgb_train)\n",
    "\n",
    "    # train model\n",
    "    evals_result = {}\n",
    "    model = lgb.train(params=params,\n",
    "                      train_set=lgb_train,\n",
    "                      valid_sets=[lgb_train, lgb_test],\n",
    "                      feval=ic_lgbm,\n",
    "                      num_boost_round=num_boost_round,\n",
    "                      evals_result=evals_result,\n",
    "                      verbose_eval=50)\n",
    "    model.save_model((model_path / f'{fold:02}.txt').as_posix())\n",
    "    \n",
    "    # get train/valid ic scores\n",
    "    scores = get_scores(evals_result)\n",
    "    scores.to_hdf(result_store, f'ic/{fold:02}')\n",
    "    \n",
    "    # get feature importance\n",
    "    fi = get_fi(model)\n",
    "    fi.to_hdf(result_store, f'fi/{fold:02}')\n",
    "    \n",
    "    # generate validation predictions\n",
    "    X_test = test_set.loc[:, model.feature_name()]\n",
    "    y_test = test_set.loc[:, [label]]\n",
    "    y_test['pred'] = model.predict(X_test)\n",
    "    y_test.to_hdf(result_store, f'predictions/{fold:02}')\n",
    "    \n",
    "    # compute average IC per minute\n",
    "    by_minute = y_test.groupby(test_set.index.get_level_values('date_time'))\n",
    "    daily_ic = by_minute.apply(lambda x: spearmanr(x[label], x.pred)[0]).mean()\n",
    "    print(f'\\nFold: {fold:02} | {format_time(time()-start)} | IC per minute: {daily_ic:.2%}\\n')"
   ]
  },
  {
   "cell_type": "markdown",
   "metadata": {},
   "source": [
    "## Signal Evaluation"
   ]
  },
  {
   "cell_type": "code",
   "execution_count": 112,
   "metadata": {
    "ExecuteTime": {
     "end_time": "2021-01-20T18:06:46.180269Z",
     "start_time": "2021-01-20T18:06:39.512596Z"
    }
   },
   "outputs": [],
   "source": [
    "with pd.HDFStore(result_store) as store:\n",
    "    pred_keys = [k[1:] for k in store.keys() if k[1:].startswith('pred')]\n",
    "    cv_predictions = pd.concat([store[k] for k in pred_keys]).sort_index()"
   ]
  },
  {
   "cell_type": "code",
   "execution_count": 113,
   "metadata": {
    "ExecuteTime": {
     "end_time": "2021-01-20T18:06:46.471211Z",
     "start_time": "2021-01-20T18:06:46.181680Z"
    }
   },
   "outputs": [
    {
     "name": "stdout",
     "output_type": "stream",
     "text": [
      "<class 'pandas.core.frame.DataFrame'>\n",
      "MultiIndex: 19648064 entries, ('AAL', Timestamp('2016-02-01 15:47:00')) to ('YHOO', Timestamp('2017-06-16 15:59:00'))\n",
      "Data columns (total 2 columns):\n",
      " #   Column   Non-Null Count     Dtype  \n",
      "---  ------   --------------     -----  \n",
      " 0   fwd1min  19648064 non-null  float64\n",
      " 1   pred     19648064 non-null  float64\n",
      "dtypes: float64(2)\n",
      "memory usage: 399.0+ MB\n"
     ]
    }
   ],
   "source": [
    "cv_predictions.info(null_counts=True)"
   ]
  },
  {
   "cell_type": "code",
   "execution_count": 114,
   "metadata": {
    "ExecuteTime": {
     "end_time": "2021-01-20T18:07:05.478729Z",
     "start_time": "2021-01-20T18:07:05.386471Z"
    }
   },
   "outputs": [],
   "source": [
    "time_stamp = cv_predictions.index.get_level_values('date_time')\n",
    "dates = sorted(np.unique(time_stamp.date))"
   ]
  },
  {
   "cell_type": "markdown",
   "metadata": {},
   "source": [
    "We have out-of-sample predictions for 484 days from February 2016 through December 2017:"
   ]
  },
  {
   "cell_type": "code",
   "execution_count": 116,
   "metadata": {
    "ExecuteTime": {
     "end_time": "2021-01-20T18:08:09.303385Z",
     "start_time": "2021-01-20T18:08:09.299517Z"
    }
   },
   "outputs": [
    {
     "name": "stdout",
     "output_type": "stream",
     "text": [
      "# Days: 484 | First: 2016-02-01 | Last: 2017-12-29\n"
     ]
    }
   ],
   "source": [
    "print(f'# Days: {len(dates)} | First: {dates[0]} | Last: {dates[-1]}')"
   ]
  },
  {
   "cell_type": "markdown",
   "metadata": {},
   "source": [
    "We only use minutes with at least 100 predictions:"
   ]
  },
  {
   "cell_type": "code",
   "execution_count": 117,
   "metadata": {
    "ExecuteTime": {
     "end_time": "2021-01-20T18:08:19.857439Z",
     "start_time": "2021-01-20T18:08:19.511736Z"
    }
   },
   "outputs": [],
   "source": [
    "n = cv_predictions.groupby('date_time').size()"
   ]
  },
  {
   "cell_type": "markdown",
   "metadata": {},
   "source": [
    "There are ~700 periods, equivalent to a bit over a single trading day (0.67% of all periods in the sample), with fewer than 100 predictions over the 23 test months:"
   ]
  },
  {
   "cell_type": "code",
   "execution_count": 120,
   "metadata": {
    "ExecuteTime": {
     "end_time": "2021-01-20T18:09:25.100235Z",
     "start_time": "2021-01-20T18:09:25.092057Z"
    }
   },
   "outputs": [],
   "source": [
    "incomplete_minutes = n[n<100].index"
   ]
  },
  {
   "cell_type": "code",
   "execution_count": 124,
   "metadata": {
    "ExecuteTime": {
     "end_time": "2021-01-20T18:09:53.749791Z",
     "start_time": "2021-01-20T18:09:53.741585Z"
    }
   },
   "outputs": [
    {
     "name": "stdout",
     "output_type": "stream",
     "text": [
      "1255 (0.67%)\n"
     ]
    }
   ],
   "source": [
    "print(f'{len(incomplete_minutes)} ({len(incomplete_minutes)/len(n):.2%})')"
   ]
  },
  {
   "cell_type": "code",
   "execution_count": 125,
   "metadata": {
    "ExecuteTime": {
     "end_time": "2021-01-20T18:10:25.384858Z",
     "start_time": "2021-01-20T18:10:24.845981Z"
    }
   },
   "outputs": [],
   "source": [
    "cv_predictions = cv_predictions[~time_stamp.isin(incomplete_minutes)]"
   ]
  },
  {
   "cell_type": "code",
   "execution_count": 126,
   "metadata": {
    "ExecuteTime": {
     "end_time": "2021-01-20T18:10:25.858482Z",
     "start_time": "2021-01-20T18:10:25.572372Z"
    }
   },
   "outputs": [
    {
     "name": "stdout",
     "output_type": "stream",
     "text": [
      "<class 'pandas.core.frame.DataFrame'>\n",
      "MultiIndex: 19571774 entries, ('AAL', Timestamp('2016-02-01 15:47:00')) to ('YHOO', Timestamp('2017-06-16 15:59:00'))\n",
      "Data columns (total 2 columns):\n",
      " #   Column   Non-Null Count     Dtype  \n",
      "---  ------   --------------     -----  \n",
      " 0   fwd1min  19571774 non-null  float64\n",
      " 1   pred     19571774 non-null  float64\n",
      "dtypes: float64(2)\n",
      "memory usage: 397.4+ MB\n"
     ]
    }
   ],
   "source": [
    "cv_predictions.info(null_counts=True)"
   ]
  },
  {
   "cell_type": "markdown",
   "metadata": {},
   "source": [
    "### Information Coefficient"
   ]
  },
  {
   "cell_type": "markdown",
   "metadata": {},
   "source": [
    "#### Across all periods"
   ]
  },
  {
   "cell_type": "code",
   "execution_count": 127,
   "metadata": {
    "ExecuteTime": {
     "end_time": "2021-01-20T18:10:39.620370Z",
     "start_time": "2021-01-20T18:10:31.108754Z"
    }
   },
   "outputs": [],
   "source": [
    "ic = spearmanr(cv_predictions.fwd1min, cv_predictions.pred)[0]"
   ]
  },
  {
   "cell_type": "markdown",
   "metadata": {},
   "source": [
    "#### By minute"
   ]
  },
  {
   "cell_type": "markdown",
   "metadata": {},
   "source": [
    "We are making new predictions every minute, so it makes sense to look at the average performance across all short-term forecasts:"
   ]
  },
  {
   "cell_type": "code",
   "execution_count": 132,
   "metadata": {
    "ExecuteTime": {
     "end_time": "2021-01-20T18:12:59.705706Z",
     "start_time": "2021-01-20T18:12:59.444039Z"
    }
   },
   "outputs": [],
   "source": [
    "minutes = cv_predictions.index.get_level_values('date_time')\n",
    "by_minute = cv_predictions.groupby(minutes)"
   ]
  },
  {
   "cell_type": "code",
   "execution_count": 129,
   "metadata": {
    "ExecuteTime": {
     "end_time": "2021-01-20T18:12:35.612980Z",
     "start_time": "2021-01-20T18:10:40.873271Z"
    }
   },
   "outputs": [
    {
     "name": "stdout",
     "output_type": "stream",
     "text": [
      "\n",
      "All periods:  2.96% | By Minute:  3.21% (Median:  3.23%)\n"
     ]
    }
   ],
   "source": [
    "ic_by_minute = by_minute.apply(lambda x: spearmanr(x.fwd1min, x.pred)[0])\n",
    "\n",
    "minute_ic_mean = ic_by_minute.mean()\n",
    "minute_ic_median = ic_by_minute.median()\n",
    "\n",
    "print(f'\\nAll periods: {ic:6.2%} | By Minute: {minute_ic_mean: 6.2%} (Median: {minute_ic_median: 6.2%})')"
   ]
  },
  {
   "cell_type": "markdown",
   "metadata": {},
   "source": [
    "Plotted as a five-day rolling average, we see that the IC was mostly below the out-of-sample period mean, and increased during the last quarter of 2017 (as reflected in the validation results we observed while training the model)."
   ]
  },
  {
   "cell_type": "code",
   "execution_count": 279,
   "metadata": {
    "ExecuteTime": {
     "end_time": "2021-01-20T19:57:21.720332Z",
     "start_time": "2021-01-20T19:57:21.327009Z"
    }
   },
   "outputs": [
    {
     "data": {
      "image/png": "[encoded data removed]",
      "text/plain": [
       "<Figure size 1008x360 with 1 Axes>"
      ]
     },
     "metadata": {},
     "output_type": "display_data"
    }
   ],
   "source": [
    "ax = ic_by_minute.rolling(5*650).mean().plot(figsize=(14, 5), title='IC (5-day MA)', rot=0)\n",
    "ax.axhline(minute_ic_mean, ls='--', lw=1, c='k')\n",
    "ax.yaxis.set_major_formatter(FuncFormatter(lambda y, _: '{:.0%}'.format(y)))\n",
    "ax.set_ylabel('Information Coefficient')\n",
    "ax.set_xlabel('')\n",
    "sns.despine()\n",
    "plt.tight_layout()"
   ]
  },
  {
   "cell_type": "markdown",
   "metadata": {},
   "source": [
    "### Vectorized backtest of a naive strategey: financial performance by signal quantile"
   ]
  },
  {
   "cell_type": "markdown",
   "metadata": {},
   "source": [
    "Alphalens does not work with minute-data, so we need to compute our own signal performance measures."
   ]
  },
  {
   "cell_type": "markdown",
   "metadata": {},
   "source": [
    "Unfortunately, Zipline's Pipeline also doesn't work for minute-data and Backtrader takes a very long time with such a large dataset. Hence, instead of an event-driven backtest of entry/exit rules as in previous examples, we can only create a rough sketch of the financial performance of a naive trading strategy driven by the model's predictions using vectorized backtesting (see Chapter 8 on the [ML4T workflow](../08_ml4t_workflow'). As we will see below, this does not produce particularly helpful results."
   ]
  },
  {
   "cell_type": "markdown",
   "metadata": {},
   "source": [
    "This naive strategy invests in equal-weighted portfolios of the stocks in each decile under the following assumptions (mentioned at the beginning of this notebook: \n",
    "1. Based on the predictions using inputs from the current and previous bars, we can enter positions at the first trade price in the following minute bar\n",
    "2. We exit all positions at the last price in that following minute bar\n",
    "3. There are no trading cost or market impact (slippage) of our trades (but we can check how sensitive the results would be)."
   ]
  },
  {
   "cell_type": "markdown",
   "metadata": {},
   "source": [
    "#### Average returns by minute bar and signal quantile "
   ]
  },
  {
   "cell_type": "markdown",
   "metadata": {},
   "source": [
    "To this end, we compute the quintiles and deciles of the model's `fwd1min` predictions for each minute:"
   ]
  },
  {
   "cell_type": "code",
   "execution_count": 133,
   "metadata": {
    "ExecuteTime": {
     "end_time": "2021-01-20T18:13:30.707553Z",
     "start_time": "2021-01-20T18:13:30.442071Z"
    }
   },
   "outputs": [],
   "source": [
    "by_minute = cv_predictions.groupby(minutes, group_keys=False)"
   ]
  },
  {
   "cell_type": "code",
   "execution_count": 134,
   "metadata": {
    "ExecuteTime": {
     "end_time": "2021-01-20T18:18:40.832354Z",
     "start_time": "2021-01-20T18:13:31.167737Z"
    }
   },
   "outputs": [],
   "source": [
    "labels = list(range(1, 6))\n",
    "cv_predictions['quintile'] = by_minute.apply(lambda x: pd.qcut(x.pred, q=5, labels=labels).astype(int))"
   ]
  },
  {
   "cell_type": "code",
   "execution_count": 135,
   "metadata": {
    "ExecuteTime": {
     "end_time": "2021-01-20T18:23:07.357840Z",
     "start_time": "2021-01-20T18:18:40.833391Z"
    }
   },
   "outputs": [],
   "source": [
    "labels = list(range(1, 11))\n",
    "cv_predictions['decile'] = by_minute.apply(lambda x: pd.qcut(x.pred, q=10, labels=labels).astype(int))"
   ]
  },
  {
   "cell_type": "code",
   "execution_count": 136,
   "metadata": {
    "ExecuteTime": {
     "end_time": "2021-01-20T18:23:07.458263Z",
     "start_time": "2021-01-20T18:23:07.364846Z"
    }
   },
   "outputs": [
    {
     "name": "stdout",
     "output_type": "stream",
     "text": [
      "<class 'pandas.core.frame.DataFrame'>\n",
      "MultiIndex: 19571774 entries, ('AAL', Timestamp('2016-02-01 15:47:00')) to ('YHOO', Timestamp('2017-06-16 15:59:00'))\n",
      "Data columns (total 4 columns):\n",
      " #   Column    Non-Null Count     Dtype  \n",
      "---  ------    --------------     -----  \n",
      " 0   fwd1min   19571774 non-null  float64\n",
      " 1   pred      19571774 non-null  float64\n",
      " 2   quintile  19571774 non-null  int64  \n",
      " 3   decile    19571774 non-null  int64  \n",
      "dtypes: float64(2), int64(2)\n",
      "memory usage: 696.1+ MB\n"
     ]
    }
   ],
   "source": [
    "cv_predictions.info(show_counts=True)"
   ]
  },
  {
   "cell_type": "markdown",
   "metadata": {},
   "source": [
    "#### Descriptive statistics of intraday returns by quintile and decile of model predictions"
   ]
  },
  {
   "cell_type": "markdown",
   "metadata": {},
   "source": [
    "Next, we compute the average one-minute returns for each quintile / decile and minute."
   ]
  },
  {
   "cell_type": "code",
   "execution_count": 319,
   "metadata": {
    "ExecuteTime": {
     "end_time": "2021-01-20T20:41:04.915279Z",
     "start_time": "2021-01-20T20:41:04.910687Z"
    }
   },
   "outputs": [],
   "source": [
    "def compute_intraday_returns_by_quantile(predictions, quantile='quintile'):\n",
    "    by_quantile = cv_predictions.reset_index().groupby(['date_time', quantile])\n",
    "    return by_quantile.fwd1min.mean().unstack(quantile).sort_index()"
   ]
  },
  {
   "cell_type": "code",
   "execution_count": 330,
   "metadata": {
    "ExecuteTime": {
     "end_time": "2021-01-20T20:45:15.737029Z",
     "start_time": "2021-01-20T20:45:09.728192Z"
    }
   },
   "outputs": [],
   "source": [
    "intraday_returns = {'quintile': compute_intraday_returns_by_quantile(cv_predictions),\n",
    "                    'decile': compute_intraday_returns_by_quantile(cv_predictions, quantile='decile')}"
   ]
  },
  {
   "cell_type": "code",
   "execution_count": 334,
   "metadata": {
    "ExecuteTime": {
     "end_time": "2021-01-20T20:45:47.990033Z",
     "start_time": "2021-01-20T20:45:47.987308Z"
    }
   },
   "outputs": [],
   "source": [
    "def summarize_intraday_returns(returns):\n",
    "    summary = returns.describe(deciles)\n",
    "    return pd.concat([summary.iloc[:1].applymap(lambda x: f'{x:,.0f}'),\n",
    "                      summary.iloc[1:].applymap(lambda x: f'{x:.4%}')])"
   ]
  },
  {
   "cell_type": "markdown",
   "metadata": {},
   "source": [
    "The returns per minute, averaged over the 23-months period, increase by quintile/decile and range from -.3 (-.4) to .27 (.37) basis points for the bottom and top quintile (decile), respectively. While this aligns with the finding of a weakly positive rank correlation coefficient, it also suggests that such small gains are unlikely to survive the impact of trading costs."
   ]
  },
  {
   "cell_type": "code",
   "execution_count": 335,
   "metadata": {
    "ExecuteTime": {
     "end_time": "2021-01-20T20:45:51.898922Z",
     "start_time": "2021-01-20T20:45:51.844255Z"
    }
   },
   "outputs": [
    {
     "data": {
      "text/html": [
       "<div>\n",
       "<style scoped>\n",
       "    .dataframe tbody tr th:only-of-type {\n",
       "        vertical-align: middle;\n",
       "    }\n",
       "\n",
       "    .dataframe tbody tr th {\n",
       "        vertical-align: top;\n",
       "    }\n",
       "\n",
       "    .dataframe thead th {\n",
       "        text-align: right;\n",
       "    }\n",
       "</style>\n",
       "<table border=\"1\" class=\"dataframe\">\n",
       "  <thead>\n",
       "    <tr style=\"text-align: right;\">\n",
       "      <th>quintile</th>\n",
       "      <th>1</th>\n",
       "      <th>2</th>\n",
       "      <th>3</th>\n",
       "      <th>4</th>\n",
       "      <th>5</th>\n",
       "    </tr>\n",
       "  </thead>\n",
       "  <tbody>\n",
       "    <tr>\n",
       "      <th>count</th>\n",
       "      <td>187,115</td>\n",
       "      <td>187,115</td>\n",
       "      <td>187,115</td>\n",
       "      <td>187,115</td>\n",
       "      <td>187,115</td>\n",
       "    </tr>\n",
       "    <tr>\n",
       "      <th>mean</th>\n",
       "      <td>-0.0030%</td>\n",
       "      <td>-0.0011%</td>\n",
       "      <td>-0.0002%</td>\n",
       "      <td>0.0007%</td>\n",
       "      <td>0.0027%</td>\n",
       "    </tr>\n",
       "    <tr>\n",
       "      <th>std</th>\n",
       "      <td>0.0368%</td>\n",
       "      <td>0.0308%</td>\n",
       "      <td>0.0300%</td>\n",
       "      <td>0.0306%</td>\n",
       "      <td>0.0366%</td>\n",
       "    </tr>\n",
       "    <tr>\n",
       "      <th>min</th>\n",
       "      <td>-0.6316%</td>\n",
       "      <td>-0.4878%</td>\n",
       "      <td>-0.4880%</td>\n",
       "      <td>-0.5088%</td>\n",
       "      <td>-0.5918%</td>\n",
       "    </tr>\n",
       "    <tr>\n",
       "      <th>10%</th>\n",
       "      <td>-0.0397%</td>\n",
       "      <td>-0.0325%</td>\n",
       "      <td>-0.0307%</td>\n",
       "      <td>-0.0300%</td>\n",
       "      <td>-0.0326%</td>\n",
       "    </tr>\n",
       "    <tr>\n",
       "      <th>20%</th>\n",
       "      <td>-0.0234%</td>\n",
       "      <td>-0.0190%</td>\n",
       "      <td>-0.0178%</td>\n",
       "      <td>-0.0170%</td>\n",
       "      <td>-0.0177%</td>\n",
       "    </tr>\n",
       "    <tr>\n",
       "      <th>30%</th>\n",
       "      <td>-0.0145%</td>\n",
       "      <td>-0.0114%</td>\n",
       "      <td>-0.0105%</td>\n",
       "      <td>-0.0097%</td>\n",
       "      <td>-0.0094%</td>\n",
       "    </tr>\n",
       "    <tr>\n",
       "      <th>40%</th>\n",
       "      <td>-0.0080%</td>\n",
       "      <td>-0.0057%</td>\n",
       "      <td>-0.0049%</td>\n",
       "      <td>-0.0042%</td>\n",
       "      <td>-0.0032%</td>\n",
       "    </tr>\n",
       "    <tr>\n",
       "      <th>50%</th>\n",
       "      <td>-0.0023%</td>\n",
       "      <td>-0.0007%</td>\n",
       "      <td>-0.0000%</td>\n",
       "      <td>0.0008%</td>\n",
       "      <td>0.0024%</td>\n",
       "    </tr>\n",
       "    <tr>\n",
       "      <th>60%</th>\n",
       "      <td>0.0033%</td>\n",
       "      <td>0.0042%</td>\n",
       "      <td>0.0048%</td>\n",
       "      <td>0.0057%</td>\n",
       "      <td>0.0079%</td>\n",
       "    </tr>\n",
       "    <tr>\n",
       "      <th>70%</th>\n",
       "      <td>0.0096%</td>\n",
       "      <td>0.0098%</td>\n",
       "      <td>0.0104%</td>\n",
       "      <td>0.0113%</td>\n",
       "      <td>0.0144%</td>\n",
       "    </tr>\n",
       "    <tr>\n",
       "      <th>80%</th>\n",
       "      <td>0.0179%</td>\n",
       "      <td>0.0171%</td>\n",
       "      <td>0.0176%</td>\n",
       "      <td>0.0186%</td>\n",
       "      <td>0.0230%</td>\n",
       "    </tr>\n",
       "    <tr>\n",
       "      <th>90%</th>\n",
       "      <td>0.0328%</td>\n",
       "      <td>0.0300%</td>\n",
       "      <td>0.0302%</td>\n",
       "      <td>0.0317%</td>\n",
       "      <td>0.0383%</td>\n",
       "    </tr>\n",
       "    <tr>\n",
       "      <th>max</th>\n",
       "      <td>0.8794%</td>\n",
       "      <td>0.4456%</td>\n",
       "      <td>0.7358%</td>\n",
       "      <td>0.7256%</td>\n",
       "      <td>0.9139%</td>\n",
       "    </tr>\n",
       "  </tbody>\n",
       "</table>\n",
       "</div>"
      ],
      "text/plain": [
       "quintile         1         2         3         4         5\n",
       "count      187,115   187,115   187,115   187,115   187,115\n",
       "mean      -0.0030%  -0.0011%  -0.0002%   0.0007%   0.0027%\n",
       "std        0.0368%   0.0308%   0.0300%   0.0306%   0.0366%\n",
       "min       -0.6316%  -0.4878%  -0.4880%  -0.5088%  -0.5918%\n",
       "10%       -0.0397%  -0.0325%  -0.0307%  -0.0300%  -0.0326%\n",
       "20%       -0.0234%  -0.0190%  -0.0178%  -0.0170%  -0.0177%\n",
       "30%       -0.0145%  -0.0114%  -0.0105%  -0.0097%  -0.0094%\n",
       "40%       -0.0080%  -0.0057%  -0.0049%  -0.0042%  -0.0032%\n",
       "50%       -0.0023%  -0.0007%  -0.0000%   0.0008%   0.0024%\n",
       "60%        0.0033%   0.0042%   0.0048%   0.0057%   0.0079%\n",
       "70%        0.0096%   0.0098%   0.0104%   0.0113%   0.0144%\n",
       "80%        0.0179%   0.0171%   0.0176%   0.0186%   0.0230%\n",
       "90%        0.0328%   0.0300%   0.0302%   0.0317%   0.0383%\n",
       "max        0.8794%   0.4456%   0.7358%   0.7256%   0.9139%"
      ]
     },
     "execution_count": 335,
     "metadata": {},
     "output_type": "execute_result"
    }
   ],
   "source": [
    "summary = summarize_intraday_returns(intraday_returns['quintile'])\n",
    "summary"
   ]
  },
  {
   "cell_type": "code",
   "execution_count": 336,
   "metadata": {
    "ExecuteTime": {
     "end_time": "2021-01-20T20:45:52.758966Z",
     "start_time": "2021-01-20T20:45:52.662367Z"
    }
   },
   "outputs": [
    {
     "data": {
      "text/html": [
       "<div>\n",
       "<style scoped>\n",
       "    .dataframe tbody tr th:only-of-type {\n",
       "        vertical-align: middle;\n",
       "    }\n",
       "\n",
       "    .dataframe tbody tr th {\n",
       "        vertical-align: top;\n",
       "    }\n",
       "\n",
       "    .dataframe thead th {\n",
       "        text-align: right;\n",
       "    }\n",
       "</style>\n",
       "<table border=\"1\" class=\"dataframe\">\n",
       "  <thead>\n",
       "    <tr style=\"text-align: right;\">\n",
       "      <th>decile</th>\n",
       "      <th>1</th>\n",
       "      <th>2</th>\n",
       "      <th>3</th>\n",
       "      <th>4</th>\n",
       "      <th>5</th>\n",
       "      <th>6</th>\n",
       "      <th>7</th>\n",
       "      <th>8</th>\n",
       "      <th>9</th>\n",
       "      <th>10</th>\n",
       "    </tr>\n",
       "  </thead>\n",
       "  <tbody>\n",
       "    <tr>\n",
       "      <th>count</th>\n",
       "      <td>187,115</td>\n",
       "      <td>187,115</td>\n",
       "      <td>187,115</td>\n",
       "      <td>187,115</td>\n",
       "      <td>187,115</td>\n",
       "      <td>187,115</td>\n",
       "      <td>187,115</td>\n",
       "      <td>187,115</td>\n",
       "      <td>187,115</td>\n",
       "      <td>187,115</td>\n",
       "    </tr>\n",
       "    <tr>\n",
       "      <th>mean</th>\n",
       "      <td>-0.0040%</td>\n",
       "      <td>-0.0020%</td>\n",
       "      <td>-0.0013%</td>\n",
       "      <td>-0.0009%</td>\n",
       "      <td>-0.0003%</td>\n",
       "      <td>-0.0000%</td>\n",
       "      <td>0.0005%</td>\n",
       "      <td>0.0010%</td>\n",
       "      <td>0.0017%</td>\n",
       "      <td>0.0037%</td>\n",
       "    </tr>\n",
       "    <tr>\n",
       "      <th>std</th>\n",
       "      <td>0.0448%</td>\n",
       "      <td>0.0369%</td>\n",
       "      <td>0.0342%</td>\n",
       "      <td>0.0333%</td>\n",
       "      <td>0.0328%</td>\n",
       "      <td>0.0329%</td>\n",
       "      <td>0.0332%</td>\n",
       "      <td>0.0339%</td>\n",
       "      <td>0.0365%</td>\n",
       "      <td>0.0448%</td>\n",
       "    </tr>\n",
       "    <tr>\n",
       "      <th>min</th>\n",
       "      <td>-0.7406%</td>\n",
       "      <td>-1.2023%</td>\n",
       "      <td>-0.5405%</td>\n",
       "      <td>-0.5460%</td>\n",
       "      <td>-0.9286%</td>\n",
       "      <td>-0.9563%</td>\n",
       "      <td>-0.5948%</td>\n",
       "      <td>-0.6565%</td>\n",
       "      <td>-0.5173%</td>\n",
       "      <td>-1.1758%</td>\n",
       "    </tr>\n",
       "    <tr>\n",
       "      <th>10%</th>\n",
       "      <td>-0.0485%</td>\n",
       "      <td>-0.0392%</td>\n",
       "      <td>-0.0365%</td>\n",
       "      <td>-0.0351%</td>\n",
       "      <td>-0.0341%</td>\n",
       "      <td>-0.0338%</td>\n",
       "      <td>-0.0332%</td>\n",
       "      <td>-0.0331%</td>\n",
       "      <td>-0.0340%</td>\n",
       "      <td>-0.0389%</td>\n",
       "    </tr>\n",
       "    <tr>\n",
       "      <th>20%</th>\n",
       "      <td>-0.0288%</td>\n",
       "      <td>-0.0233%</td>\n",
       "      <td>-0.0215%</td>\n",
       "      <td>-0.0208%</td>\n",
       "      <td>-0.0200%</td>\n",
       "      <td>-0.0198%</td>\n",
       "      <td>-0.0192%</td>\n",
       "      <td>-0.0191%</td>\n",
       "      <td>-0.0192%</td>\n",
       "      <td>-0.0210%</td>\n",
       "    </tr>\n",
       "    <tr>\n",
       "      <th>30%</th>\n",
       "      <td>-0.0180%</td>\n",
       "      <td>-0.0142%</td>\n",
       "      <td>-0.0130%</td>\n",
       "      <td>-0.0124%</td>\n",
       "      <td>-0.0119%</td>\n",
       "      <td>-0.0116%</td>\n",
       "      <td>-0.0111%</td>\n",
       "      <td>-0.0109%</td>\n",
       "      <td>-0.0107%</td>\n",
       "      <td>-0.0112%</td>\n",
       "    </tr>\n",
       "    <tr>\n",
       "      <th>40%</th>\n",
       "      <td>-0.0101%</td>\n",
       "      <td>-0.0074%</td>\n",
       "      <td>-0.0066%</td>\n",
       "      <td>-0.0061%</td>\n",
       "      <td>-0.0057%</td>\n",
       "      <td>-0.0054%</td>\n",
       "      <td>-0.0050%</td>\n",
       "      <td>-0.0046%</td>\n",
       "      <td>-0.0043%</td>\n",
       "      <td>-0.0037%</td>\n",
       "    </tr>\n",
       "    <tr>\n",
       "      <th>50%</th>\n",
       "      <td>-0.0031%</td>\n",
       "      <td>-0.0015%</td>\n",
       "      <td>-0.0010%</td>\n",
       "      <td>-0.0006%</td>\n",
       "      <td>-0.0001%</td>\n",
       "      <td>0.0002%</td>\n",
       "      <td>0.0005%</td>\n",
       "      <td>0.0009%</td>\n",
       "      <td>0.0015%</td>\n",
       "      <td>0.0030%</td>\n",
       "    </tr>\n",
       "    <tr>\n",
       "      <th>60%</th>\n",
       "      <td>0.0038%</td>\n",
       "      <td>0.0045%</td>\n",
       "      <td>0.0047%</td>\n",
       "      <td>0.0049%</td>\n",
       "      <td>0.0053%</td>\n",
       "      <td>0.0056%</td>\n",
       "      <td>0.0060%</td>\n",
       "      <td>0.0065%</td>\n",
       "      <td>0.0073%</td>\n",
       "      <td>0.0098%</td>\n",
       "    </tr>\n",
       "    <tr>\n",
       "      <th>70%</th>\n",
       "      <td>0.0116%</td>\n",
       "      <td>0.0110%</td>\n",
       "      <td>0.0110%</td>\n",
       "      <td>0.0111%</td>\n",
       "      <td>0.0115%</td>\n",
       "      <td>0.0118%</td>\n",
       "      <td>0.0123%</td>\n",
       "      <td>0.0128%</td>\n",
       "      <td>0.0139%</td>\n",
       "      <td>0.0175%</td>\n",
       "    </tr>\n",
       "    <tr>\n",
       "      <th>80%</th>\n",
       "      <td>0.0218%</td>\n",
       "      <td>0.0196%</td>\n",
       "      <td>0.0193%</td>\n",
       "      <td>0.0192%</td>\n",
       "      <td>0.0195%</td>\n",
       "      <td>0.0198%</td>\n",
       "      <td>0.0204%</td>\n",
       "      <td>0.0211%</td>\n",
       "      <td>0.0225%</td>\n",
       "      <td>0.0280%</td>\n",
       "    </tr>\n",
       "    <tr>\n",
       "      <th>90%</th>\n",
       "      <td>0.0395%</td>\n",
       "      <td>0.0348%</td>\n",
       "      <td>0.0334%</td>\n",
       "      <td>0.0332%</td>\n",
       "      <td>0.0331%</td>\n",
       "      <td>0.0337%</td>\n",
       "      <td>0.0343%</td>\n",
       "      <td>0.0353%</td>\n",
       "      <td>0.0376%</td>\n",
       "      <td>0.0471%</td>\n",
       "    </tr>\n",
       "    <tr>\n",
       "      <th>max</th>\n",
       "      <td>0.8348%</td>\n",
       "      <td>1.0942%</td>\n",
       "      <td>0.5067%</td>\n",
       "      <td>0.7221%</td>\n",
       "      <td>0.7832%</td>\n",
       "      <td>1.3252%</td>\n",
       "      <td>1.0380%</td>\n",
       "      <td>1.3348%</td>\n",
       "      <td>1.3651%</td>\n",
       "      <td>1.1961%</td>\n",
       "    </tr>\n",
       "  </tbody>\n",
       "</table>\n",
       "</div>"
      ],
      "text/plain": [
       "decile        1         2         3         4         5         6         7   \\\n",
       "count    187,115   187,115   187,115   187,115   187,115   187,115   187,115   \n",
       "mean    -0.0040%  -0.0020%  -0.0013%  -0.0009%  -0.0003%  -0.0000%   0.0005%   \n",
       "std      0.0448%   0.0369%   0.0342%   0.0333%   0.0328%   0.0329%   0.0332%   \n",
       "min     -0.7406%  -1.2023%  -0.5405%  -0.5460%  -0.9286%  -0.9563%  -0.5948%   \n",
       "10%     -0.0485%  -0.0392%  -0.0365%  -0.0351%  -0.0341%  -0.0338%  -0.0332%   \n",
       "20%     -0.0288%  -0.0233%  -0.0215%  -0.0208%  -0.0200%  -0.0198%  -0.0192%   \n",
       "30%     -0.0180%  -0.0142%  -0.0130%  -0.0124%  -0.0119%  -0.0116%  -0.0111%   \n",
       "40%     -0.0101%  -0.0074%  -0.0066%  -0.0061%  -0.0057%  -0.0054%  -0.0050%   \n",
       "50%     -0.0031%  -0.0015%  -0.0010%  -0.0006%  -0.0001%   0.0002%   0.0005%   \n",
       "60%      0.0038%   0.0045%   0.0047%   0.0049%   0.0053%   0.0056%   0.0060%   \n",
       "70%      0.0116%   0.0110%   0.0110%   0.0111%   0.0115%   0.0118%   0.0123%   \n",
       "80%      0.0218%   0.0196%   0.0193%   0.0192%   0.0195%   0.0198%   0.0204%   \n",
       "90%      0.0395%   0.0348%   0.0334%   0.0332%   0.0331%   0.0337%   0.0343%   \n",
       "max      0.8348%   1.0942%   0.5067%   0.7221%   0.7832%   1.3252%   1.0380%   \n",
       "\n",
       "decile        8         9         10  \n",
       "count    187,115   187,115   187,115  \n",
       "mean     0.0010%   0.0017%   0.0037%  \n",
       "std      0.0339%   0.0365%   0.0448%  \n",
       "min     -0.6565%  -0.5173%  -1.1758%  \n",
       "10%     -0.0331%  -0.0340%  -0.0389%  \n",
       "20%     -0.0191%  -0.0192%  -0.0210%  \n",
       "30%     -0.0109%  -0.0107%  -0.0112%  \n",
       "40%     -0.0046%  -0.0043%  -0.0037%  \n",
       "50%      0.0009%   0.0015%   0.0030%  \n",
       "60%      0.0065%   0.0073%   0.0098%  \n",
       "70%      0.0128%   0.0139%   0.0175%  \n",
       "80%      0.0211%   0.0225%   0.0280%  \n",
       "90%      0.0353%   0.0376%   0.0471%  \n",
       "max      1.3348%   1.3651%   1.1961%  "
      ]
     },
     "execution_count": 336,
     "metadata": {},
     "output_type": "execute_result"
    }
   ],
   "source": [
    "summary = summarize_intraday_returns(intraday_returns['decile'])\n",
    "summary"
   ]
  },
  {
   "cell_type": "markdown",
   "metadata": {},
   "source": [
    "#### Cumulative Performance by Quantile"
   ]
  },
  {
   "cell_type": "markdown",
   "metadata": {},
   "source": [
    "To simulate the performance of our naive strategy that trades all available stocks every minute, we simply assume that we can reinvest (including potential gains/losses) every minute. To check for the sensitivity with respect for trading cost, we can assume they are a constant number (fraction) of basis points, and subtract this number from the minute-bar returns."
   ]
  },
  {
   "cell_type": "code",
   "execution_count": 367,
   "metadata": {
    "ExecuteTime": {
     "end_time": "2021-01-20T20:59:03.700181Z",
     "start_time": "2021-01-20T20:59:03.685770Z"
    }
   },
   "outputs": [],
   "source": [
    "def plot_cumulative_performance(returns, quantile='quintile', trading_costs_bp=0):\n",
    "    \"\"\"Plot average return by quantile (in bp) as well as cumulative return, \n",
    "        both net of trading costs (provided as basis points; 1bp = 0.01%) \n",
    "    \"\"\"\n",
    "\n",
    "    fig, axes = plt.subplots(figsize=(14, 4), ncols=2)\n",
    "\n",
    "    sns.barplot(y='fwd1min', x=quantile,\n",
    "                data=returns[quantile].mul(10000).sub(trading_costs_bp).stack().to_frame(\n",
    "                    'fwd1min').reset_index(),\n",
    "                ax=axes[0])\n",
    "    axes[0].set_title(f'Avg. 1-min Return by Signal {quantile.capitalize()}')\n",
    "    axes[0].set_ylabel('Return (bps)')\n",
    "    axes[0].set_xlabel(quantile.capitalize())\n",
    "\n",
    "    title = f'Cumulative Return by Signal {quantile.capitalize()}'\n",
    "    (returns[quantile].sort_index().add(1).sub(trading_costs_bp/10000).cumprod().sub(1)\n",
    "     .plot(ax=axes[1], title=title))\n",
    "\n",
    "    axes[1].yaxis.set_major_formatter(\n",
    "        FuncFormatter(lambda y, _: '{:.0%}'.format(y)))\n",
    "    axes[1].set_xlabel('')\n",
    "    axes[1].set_ylabel('Return')\n",
    "    fig.suptitle(f'Average and Cumulative Performance (Net of Trading Cost: {trading_costs_bp:.2f}bp)')\n",
    "\n",
    "    sns.despine()\n",
    "    fig.tight_layout()"
   ]
  },
  {
   "cell_type": "markdown",
   "metadata": {},
   "source": [
    "Without trading costs, the compounding of even fairly small gains leads to extremely large cumulative profits for the top quantile. However, these disappear as soon as we allow for minuscule trading costs that reduce the average quantile return close to zero."
   ]
  },
  {
   "cell_type": "markdown",
   "metadata": {},
   "source": [
    "##### Without trading costs"
   ]
  },
  {
   "cell_type": "code",
   "execution_count": 368,
   "metadata": {
    "ExecuteTime": {
     "end_time": "2021-01-20T20:59:10.880167Z",
     "start_time": "2021-01-20T20:59:04.102942Z"
    }
   },
   "outputs": [
    {
     "data": {
      "image/png": "[encoded data removed]",
      "text/plain": [
       "<Figure size 1008x288 with 2 Axes>"
      ]
     },
     "metadata": {},
     "output_type": "display_data"
    }
   ],
   "source": [
    "plot_cumulative_performance(intraday_returns, 'quintile', trading_costs_bp=0)"
   ]
  },
  {
   "cell_type": "code",
   "execution_count": 369,
   "metadata": {
    "ExecuteTime": {
     "end_time": "2021-01-20T20:59:23.620486Z",
     "start_time": "2021-01-20T20:59:10.881189Z"
    }
   },
   "outputs": [
    {
     "data": {
      "image/png": "[encoded data removed]",
      "text/plain": [
       "<Figure size 1008x288 with 2 Axes>"
      ]
     },
     "metadata": {},
     "output_type": "display_data"
    }
   ],
   "source": [
    "plot_cumulative_performance(intraday_returns, 'decile', trading_costs_bp=0)"
   ]
  },
  {
   "cell_type": "markdown",
   "metadata": {},
   "source": [
    "##### With extremely low trading costs"
   ]
  },
  {
   "cell_type": "code",
   "execution_count": 370,
   "metadata": {
    "ExecuteTime": {
     "end_time": "2021-01-20T20:59:30.198103Z",
     "start_time": "2021-01-20T20:59:23.621766Z"
    }
   },
   "outputs": [
    {
     "data": {
      "image/png": "[encoded data removed]",
      "text/plain": [
       "<Figure size 1008x288 with 2 Axes>"
      ]
     },
     "metadata": {},
     "output_type": "display_data"
    }
   ],
   "source": [
    "# assuming costs of a fraction of a basis point, close to the average return of the top quantile\n",
    "plot_cumulative_performance(intraday_returns, 'quintile', trading_costs_bp=.2)"
   ]
  },
  {
   "cell_type": "code",
   "execution_count": 371,
   "metadata": {
    "ExecuteTime": {
     "end_time": "2021-01-20T20:59:45.543470Z",
     "start_time": "2021-01-20T20:59:30.199046Z"
    }
   },
   "outputs": [
    {
     "data": {
      "image/png": "[encoded data removed]",
      "text/plain": [
       "<Figure size 1008x288 with 2 Axes>"
      ]
     },
     "metadata": {},
     "output_type": "display_data"
    }
   ],
   "source": [
    "plot_cumulative_performance(intraday_returns, 'decile', trading_costs_bp=.3)"
   ]
  },
  {
   "cell_type": "markdown",
   "metadata": {},
   "source": [
    "### Feature Importance"
   ]
  },
  {
   "cell_type": "markdown",
   "metadata": {},
   "source": [
    "We'll take a quick look at the features that most contributed to improving the IC across the 23 folds:"
   ]
  },
  {
   "cell_type": "code",
   "execution_count": 235,
   "metadata": {
    "ExecuteTime": {
     "end_time": "2021-01-20T19:07:52.457834Z",
     "start_time": "2021-01-20T19:07:52.362820Z"
    }
   },
   "outputs": [],
   "source": [
    "with pd.HDFStore(result_store) as store:\n",
    "    fi_keys = [k[1:] for k in store.keys() if k[1:].startswith('fi')]\n",
    "    fi = pd.concat([store[k].to_frame(i) for i, k in enumerate(fi_keys, 1)], axis=1)"
   ]
  },
  {
   "cell_type": "markdown",
   "metadata": {},
   "source": [
    "The top features from a conventional feature importance perspective are the ticker, followed by NATR, minute of the day, latest 1m return and the CCI:"
   ]
  },
  {
   "cell_type": "code",
   "execution_count": 254,
   "metadata": {
    "ExecuteTime": {
     "end_time": "2021-01-20T19:24:49.981841Z",
     "start_time": "2021-01-20T19:24:49.700098Z"
    },
    "scrolled": false
   },
   "outputs": [
    {
     "data": {
      "image/png": "[encoded data removed]",
      "text/plain": [
       "<Figure size 864x576 with 1 Axes>"
      ]
     },
     "metadata": {},
     "output_type": "display_data"
    }
   ],
   "source": [
    "fi.mean(1).nsmallest(25).plot.barh(figsize=(12, 8), title='LightGBM Feature Importance (gain)')\n",
    "sns.despine()\n",
    "plt.tight_layout();"
   ]
  },
  {
   "cell_type": "markdown",
   "metadata": {},
   "source": [
    "Explore with greater accuracy and in more detail how feature values affect predictions using SHAP values as demonstrated in various other notebooks in this Chapter and the appendix!"
   ]
  },
  {
   "cell_type": "markdown",
   "metadata": {},
   "source": [
    "## Conclusion\n",
    "\n",
    "We have seen that a relatively simple gradient boosting model is able to achieve fairly consistent predictive performance that is significantly better than a random guess even on a very short horizon. \n",
    "\n",
    "However, the resulting economic gains of our naive strategy of frequently buying/(short-)selling the top/bottome quantiles are too small to overcome the inevitable transaction costs. On the one hand, this demonstrates the challenges of extracting value from a predictive signal. On the other hand, it shows that we need a more sophisticated backtesting platform so that we can even begin to design and evaluate a more sophisticated strategy that requires far fewer trades to exploit the signal in our ML predictions. \n",
    "\n",
    "In addition, we would also want to work on improving the model by adding more informative feature, e.g. based on the quote/trade info contained in the Algoseek data, or by fine-tuning our model architecture and hyperparameter settings."
   ]
  }
 ],
 "metadata": {
  "kernelspec": {
   "display_name": "Python 3",
   "language": "python",
   "name": "python3"
  },
  "language_info": {
   "codemirror_mode": {
    "name": "ipython",
    "version": 3
   },
   "file_extension": ".py",
   "mimetype": "text/x-python",
   "name": "python",
   "nbconvert_exporter": "python",
   "pygments_lexer": "ipython3",
   "version": "3.8.5"
  },
  "toc": {
   "base_numbering": 1,
   "nav_menu": {},
   "number_sections": true,
   "sideBar": true,
   "skip_h1_title": true,
   "title_cell": "Table of Contents",
   "title_sidebar": "Contents",
   "toc_cell": false,
   "toc_position": {},
   "toc_section_display": true,
   "toc_window_display": true
  }
 },
 "nbformat": 4,
 "nbformat_minor": 2
}
