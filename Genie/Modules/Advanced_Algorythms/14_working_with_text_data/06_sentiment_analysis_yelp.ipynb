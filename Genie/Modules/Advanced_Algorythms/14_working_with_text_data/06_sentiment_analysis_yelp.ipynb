{
 "cells": [
  {
   "cell_type": "markdown",
   "metadata": {},
   "source": [
    "# Text classification and sentiment analysis: Yelp Reviews"
   ]
  },
  {
   "cell_type": "markdown",
   "metadata": {},
   "source": [
    "Once text data has been converted into numerical features using the natural language processing techniques discussed in the previous sections, text classification works just like any other classification task.\n",
    "\n",
    "In this notebook, we will apply these preprocessing technique to Yelp business reviews to classify them by review scores and sentiment polarity. More specifically, we will apply sentiment analysis to the significantly larger Yelp business review dataset with five outcome classes. "
   ]
  },
  {
   "cell_type": "markdown",
   "metadata": {},
   "source": [
    "## Imports"
   ]
  },
  {
   "cell_type": "code",
   "execution_count": 1,
   "metadata": {
    "ExecuteTime": {
     "end_time": "2020-06-20T22:31:14.252099Z",
     "start_time": "2020-06-20T22:31:14.250089Z"
    }
   },
   "outputs": [],
   "source": [
    "import warnings\n",
    "warnings.filterwarnings('ignore')"
   ]
  },
  {
   "cell_type": "code",
   "execution_count": 2,
   "metadata": {
    "ExecuteTime": {
     "end_time": "2020-06-20T22:31:15.068766Z",
     "start_time": "2020-06-20T22:31:14.433436Z"
    }
   },
   "outputs": [],
   "source": [
    "%matplotlib inline\n",
    "\n",
    "from pathlib import Path\n",
    "import json\n",
    "from time import time\n",
    "\n",
    "import numpy as np\n",
    "import pandas as pd\n",
    "\n",
    "from scipy import sparse\n",
    "\n",
    "# spacy, textblob and nltk for language processing\n",
    "from textblob import TextBlob\n",
    "\n",
    "# sklearn for feature extraction & modeling\n",
    "from sklearn.feature_extraction.text import CountVectorizer\n",
    "from sklearn.naive_bayes import MultinomialNB\n",
    "from sklearn.linear_model import LogisticRegression\n",
    "from sklearn.metrics import accuracy_score, confusion_matrix\n",
    "import joblib\n",
    "\n",
    "import lightgbm as lgb\n",
    "\n",
    "# Visualization\n",
    "import matplotlib.pyplot as plt\n",
    "import seaborn as sns\n"
   ]
  },
  {
   "cell_type": "code",
   "execution_count": 3,
   "metadata": {
    "ExecuteTime": {
     "end_time": "2020-06-20T22:31:15.755213Z",
     "start_time": "2020-06-20T22:31:15.751035Z"
    }
   },
   "outputs": [],
   "source": [
    "sns.set_style('white')\n",
    "np.random.seed(42)"
   ]
  },
  {
   "cell_type": "markdown",
   "metadata": {},
   "source": [
    "## Yelp Challenge: business reviews dataset"
   ]
  },
  {
   "cell_type": "markdown",
   "metadata": {},
   "source": [
    "### Load Data"
   ]
  },
  {
   "cell_type": "markdown",
   "metadata": {},
   "source": [
    "Follow the [instructions](../data/create_yelp_review_data.ipynb) to create the dataset. "
   ]
  },
  {
   "cell_type": "code",
   "execution_count": 4,
   "metadata": {
    "ExecuteTime": {
     "end_time": "2020-06-20T22:31:20.338294Z",
     "start_time": "2020-06-20T22:31:20.336457Z"
    }
   },
   "outputs": [],
   "source": [
    "data_dir = Path('..', 'data', 'yelp')"
   ]
  },
  {
   "cell_type": "code",
   "execution_count": 5,
   "metadata": {
    "ExecuteTime": {
     "end_time": "2020-06-20T22:31:36.050276Z",
     "start_time": "2020-06-20T22:31:22.182112Z"
    },
    "scrolled": false
   },
   "outputs": [],
   "source": [
    "yelp_reviews = pd.read_parquet(data_dir / 'user_reviews.parquet')"
   ]
  },
  {
   "cell_type": "code",
   "execution_count": 6,
   "metadata": {
    "ExecuteTime": {
     "end_time": "2020-06-20T22:31:37.005166Z",
     "start_time": "2020-06-20T22:31:36.051543Z"
    }
   },
   "outputs": [
    {
     "name": "stdout",
     "output_type": "stream",
     "text": [
      "<class 'pandas.core.frame.DataFrame'>\n",
      "Int64Index: 8021122 entries, 0 to 8021121\n",
      "Data columns (total 25 columns):\n",
      " #   Column              Non-Null Count    Dtype  \n",
      "---  ------              --------------    -----  \n",
      " 0   stars               8021122 non-null  float64\n",
      " 1   useful              8021122 non-null  int64  \n",
      " 2   funny               8021122 non-null  int64  \n",
      " 3   cool                8021122 non-null  int64  \n",
      " 4   text                8021122 non-null  object \n",
      " 5   year                8021122 non-null  int64  \n",
      " 6   month               8021122 non-null  int64  \n",
      " 7   review_count        8021122 non-null  int64  \n",
      " 8   useful_user         8021122 non-null  int64  \n",
      " 9   funny_user          8021122 non-null  int64  \n",
      " 10  cool_user           8021122 non-null  int64  \n",
      " 11  fans                8021122 non-null  int64  \n",
      " 12  average_stars       8021122 non-null  float64\n",
      " 13  compliment_hot      8021122 non-null  int64  \n",
      " 14  compliment_more     8021122 non-null  int64  \n",
      " 15  compliment_profile  8021122 non-null  int64  \n",
      " 16  compliment_cute     8021122 non-null  int64  \n",
      " 17  compliment_list     8021122 non-null  int64  \n",
      " 18  compliment_note     8021122 non-null  int64  \n",
      " 19  compliment_plain    8021122 non-null  int64  \n",
      " 20  compliment_cool     8021122 non-null  int64  \n",
      " 21  compliment_funny    8021122 non-null  int64  \n",
      " 22  compliment_writer   8021122 non-null  int64  \n",
      " 23  compliment_photos   8021122 non-null  int64  \n",
      " 24  member_yrs          8021122 non-null  int64  \n",
      "dtypes: float64(2), int64(22), object(1)\n",
      "memory usage: 1.6+ GB\n"
     ]
    }
   ],
   "source": [
    "yelp_reviews.info(null_counts=True)"
   ]
  },
  {
   "cell_type": "markdown",
   "metadata": {},
   "source": [
    "### Explore data"
   ]
  },
  {
   "cell_type": "code",
   "execution_count": 13,
   "metadata": {
    "ExecuteTime": {
     "end_time": "2020-06-20T22:33:48.280743Z",
     "start_time": "2020-06-20T22:33:48.278310Z"
    }
   },
   "outputs": [],
   "source": [
    "yelp_dir = Path('results', 'yelp')\n",
    "\n",
    "text_features_dir = yelp_dir / 'data'\n",
    "if not text_features_dir.exists():\n",
    "    text_features_dir.mkdir(exist_ok=True, parents=True)"
   ]
  },
  {
   "cell_type": "markdown",
   "metadata": {},
   "source": [
    "The following figure shows the number of reviews and the average number of stars per year."
   ]
  },
  {
   "cell_type": "markdown",
   "metadata": {},
   "source": [
    "#### Reviews & Stars by Year"
   ]
  },
  {
   "cell_type": "code",
   "execution_count": 9,
   "metadata": {
    "ExecuteTime": {
     "end_time": "2020-06-20T22:32:54.666950Z",
     "start_time": "2020-06-20T22:31:41.122337Z"
    }
   },
   "outputs": [
    {
     "data": {
      "image/png": "[encoded data removed]",
      "text/plain": [
       "<Figure size 1296x288 with 3 Axes>"
      ]
     },
     "metadata": {},
     "output_type": "display_data"
    }
   ],
   "source": [
    "fig, axes = plt.subplots(ncols=3, figsize=(18, 4))\n",
    "yelp_reviews.year.value_counts().sort_index().plot.bar(title='Reviews per Year', ax=axes[0], rot=0);\n",
    "sns.lineplot(x='year', y='stars', data=yelp_reviews, ax=axes[1])\n",
    "axes[1].set_title('Stars per year')\n",
    "\n",
    "stars_dist = yelp_reviews.stars.value_counts(normalize=True).sort_index().mul(100)\n",
    "stars_dist.index = stars_dist.index.astype(int)\n",
    "stars_dist.plot.barh(title='# Stars Breakdown', ax=axes[2])\n",
    "axes[2].set_xlabel('Share of all Ratings (%)')\n",
    "axes[2].set_ylabel('Number of Stars');\n",
    "\n",
    "sns.despine()\n",
    "fig.tight_layout();"
   ]
  },
  {
   "cell_type": "markdown",
   "metadata": {},
   "source": [
    "#### Years of Membership Breakdown"
   ]
  },
  {
   "cell_type": "code",
   "execution_count": 10,
   "metadata": {
    "ExecuteTime": {
     "end_time": "2020-06-20T22:32:54.923579Z",
     "start_time": "2020-06-20T22:32:54.668404Z"
    }
   },
   "outputs": [
    {
     "data": {
      "image/png": "[encoded data removed]",
      "text/plain": [
       "<Figure size 432x288 with 1 Axes>"
      ]
     },
     "metadata": {},
     "output_type": "display_data"
    }
   ],
   "source": [
    "ax = yelp_reviews.member_yrs.value_counts().div(1000).sort_index().plot.bar(title='Years of Membership',\n",
    "                                                                            rot=0)\n",
    "ax.set_xlabel('Number of Years')\n",
    "ax.set_ylabel(\"Number of Members  ('000)\")\n",
    "sns.despine()\n",
    "plt.tight_layout()"
   ]
  },
  {
   "cell_type": "markdown",
   "metadata": {},
   "source": [
    "### Create train-test split"
   ]
  },
  {
   "cell_type": "code",
   "execution_count": 11,
   "metadata": {
    "ExecuteTime": {
     "end_time": "2020-06-20T22:33:25.049533Z",
     "start_time": "2020-06-20T22:33:23.276179Z"
    }
   },
   "outputs": [],
   "source": [
    "train = yelp_reviews[yelp_reviews.year < 2019].sample(frac=.25)\n",
    "test = yelp_reviews[yelp_reviews.year == 2019]"
   ]
  },
  {
   "cell_type": "code",
   "execution_count": 12,
   "metadata": {
    "ExecuteTime": {
     "end_time": "2020-06-20T22:33:25.053033Z",
     "start_time": "2020-06-20T22:33:25.050653Z"
    }
   },
   "outputs": [
    {
     "name": "stdout",
     "output_type": "stream",
     "text": [
      "# Training Obs: 1,701,322 | # Test Obs: 1,215,836\n"
     ]
    }
   ],
   "source": [
    "print(f'# Training Obs: {len(train):,.0f} | # Test Obs: {len(test):,.0f}')"
   ]
  },
  {
   "cell_type": "code",
   "execution_count": 14,
   "metadata": {
    "ExecuteTime": {
     "end_time": "2020-06-20T22:34:12.665625Z",
     "start_time": "2020-06-20T22:34:03.973387Z"
    }
   },
   "outputs": [],
   "source": [
    "train.to_parquet(text_features_dir / 'train.parquet')\n",
    "test.to_parquet(text_features_dir / 'test.parquet')"
   ]
  },
  {
   "cell_type": "code",
   "execution_count": 21,
   "metadata": {
    "ExecuteTime": {
     "end_time": "2020-06-20T22:39:47.190096Z",
     "start_time": "2020-06-20T22:39:46.262021Z"
    }
   },
   "outputs": [],
   "source": [
    "del yelp_reviews"
   ]
  },
  {
   "cell_type": "markdown",
   "metadata": {},
   "source": [
    "#### Reload stored data"
   ]
  },
  {
   "cell_type": "code",
   "execution_count": 64,
   "metadata": {
    "ExecuteTime": {
     "end_time": "2020-06-20T23:47:45.765592Z",
     "start_time": "2020-06-20T23:47:41.008125Z"
    }
   },
   "outputs": [],
   "source": [
    "train = pd.read_parquet(text_features_dir / 'train.parquet')\n",
    "test = pd.read_parquet(text_features_dir / 'test.parquet')"
   ]
  },
  {
   "cell_type": "markdown",
   "metadata": {},
   "source": [
    "## Create Yelp review document-term matrix"
   ]
  },
  {
   "cell_type": "code",
   "execution_count": 16,
   "metadata": {
    "ExecuteTime": {
     "end_time": "2020-06-20T22:37:23.986023Z",
     "start_time": "2020-06-20T22:34:18.938760Z"
    }
   },
   "outputs": [
    {
     "data": {
      "text/plain": [
       "<1701322x10000 sparse matrix of type '<class 'numpy.int64'>'\n",
       "\twith 75720724 stored elements in Compressed Sparse Row format>"
      ]
     },
     "execution_count": 16,
     "metadata": {},
     "output_type": "execute_result"
    }
   ],
   "source": [
    "vectorizer = CountVectorizer(stop_words='english', ngram_range=(1, 2), max_features=10000)\n",
    "train_dtm = vectorizer.fit_transform(train.text)\n",
    "train_dtm"
   ]
  },
  {
   "cell_type": "code",
   "execution_count": 17,
   "metadata": {
    "ExecuteTime": {
     "end_time": "2020-06-20T22:37:56.033921Z",
     "start_time": "2020-06-20T22:37:23.987293Z"
    }
   },
   "outputs": [],
   "source": [
    "sparse.save_npz(text_features_dir / 'train_dtm', train_dtm)"
   ]
  },
  {
   "cell_type": "code",
   "execution_count": 18,
   "metadata": {
    "ExecuteTime": {
     "end_time": "2020-06-20T22:39:38.728292Z",
     "start_time": "2020-06-20T22:37:56.034993Z"
    }
   },
   "outputs": [],
   "source": [
    "test_dtm = vectorizer.transform(test.text)\n",
    "sparse.save_npz(text_features_dir / 'test_dtm', test_dtm)"
   ]
  },
  {
   "cell_type": "markdown",
   "metadata": {},
   "source": [
    "### Reload stored data"
   ]
  },
  {
   "cell_type": "code",
   "execution_count": 7,
   "metadata": {
    "ExecuteTime": {
     "end_time": "2020-06-20T22:24:52.201913Z",
     "start_time": "2020-06-20T22:24:45.716756Z"
    }
   },
   "outputs": [],
   "source": [
    "train_dtm = sparse.load_npz(text_features_dir / 'train_dtm.npz')\n",
    "test_dtm = sparse.load_npz(text_features_dir / 'test_dtm.npz')"
   ]
  },
  {
   "cell_type": "markdown",
   "metadata": {
    "slideshow": {
     "slide_type": "slide"
    }
   },
   "source": [
    "## Combine non-text features with the document-term matrix"
   ]
  },
  {
   "cell_type": "markdown",
   "metadata": {},
   "source": [
    "The dataset contains various numerical features. The vectorizers produce [scipy.sparse matrices](https://docs.scipy.org/doc/scipy/reference/sparse.html). To combine the vectorized text data with other features, we need to first convert these to sparse matrices as well; many sklearn objects and other libraries like lightgbm can handle these very memory-efficient data structures. Converting the sparse matrix to a dense numpy array risks memory overflow.\n",
    "\n",
    "Most variables are categorical so we use one-hot encoding since we have a fairly large dataset to accommodate the increase in features.\n",
    "\n",
    "We convert the encoded numerical features and combine them with the document-term matrix:"
   ]
  },
  {
   "cell_type": "markdown",
   "metadata": {},
   "source": [
    "### One-hot-encoding "
   ]
  },
  {
   "cell_type": "code",
   "execution_count": 19,
   "metadata": {
    "ExecuteTime": {
     "end_time": "2020-06-20T22:39:39.165235Z",
     "start_time": "2020-06-20T22:39:38.729447Z"
    }
   },
   "outputs": [],
   "source": [
    "df = pd.concat([train.drop(['text', 'stars'], axis=1).assign(source='train'),\n",
    "                test.drop(['text', 'stars'], axis=1).assign(source='test')])"
   ]
  },
  {
   "cell_type": "code",
   "execution_count": 20,
   "metadata": {
    "ExecuteTime": {
     "end_time": "2020-06-20T22:39:46.260771Z",
     "start_time": "2020-06-20T22:39:39.167420Z"
    }
   },
   "outputs": [
    {
     "name": "stdout",
     "output_type": "stream",
     "text": [
      "<class 'pandas.core.frame.DataFrame'>\n",
      "Int64Index: 2917158 entries, 4906334 to 8021121\n",
      "Data columns (total 24 columns):\n",
      " #   Column              Non-Null Count    Dtype \n",
      "---  ------              --------------    ----- \n",
      " 0   useful              2917158 non-null  int64 \n",
      " 1   funny               2917158 non-null  int64 \n",
      " 2   cool                2917158 non-null  int64 \n",
      " 3   review_count        2917158 non-null  int64 \n",
      " 4   useful_user         2917158 non-null  int64 \n",
      " 5   funny_user          2917158 non-null  int64 \n",
      " 6   cool_user           2917158 non-null  int64 \n",
      " 7   fans                2917158 non-null  int64 \n",
      " 8   average_stars       2917158 non-null  int64 \n",
      " 9   compliment_hot      2917158 non-null  int64 \n",
      " 10  compliment_more     2917158 non-null  int64 \n",
      " 11  compliment_profile  2917158 non-null  int64 \n",
      " 12  compliment_cute     2917158 non-null  int64 \n",
      " 13  compliment_list     2917158 non-null  int64 \n",
      " 14  compliment_note     2917158 non-null  int64 \n",
      " 15  compliment_plain    2917158 non-null  int64 \n",
      " 16  compliment_cool     2917158 non-null  int64 \n",
      " 17  compliment_funny    2917158 non-null  int64 \n",
      " 18  compliment_writer   2917158 non-null  int64 \n",
      " 19  compliment_photos   2917158 non-null  int64 \n",
      " 20  year                2917158 non-null  int64 \n",
      " 21  month               2917158 non-null  int64 \n",
      " 22  member_yrs          2917158 non-null  int64 \n",
      " 23  source              2917158 non-null  object\n",
      "dtypes: int64(23), object(1)\n",
      "memory usage: 556.4+ MB\n"
     ]
    }
   ],
   "source": [
    "uniques = df.nunique()\n",
    "binned = pd.concat([(df.loc[:, uniques[uniques > 20].index]\n",
    "                     .apply(pd.qcut, q=10, labels=False, duplicates='drop')),\n",
    "                    df.loc[:, uniques[uniques <= 20].index]], axis=1)\n",
    "binned.info(null_counts=True)"
   ]
  },
  {
   "cell_type": "code",
   "execution_count": 22,
   "metadata": {
    "ExecuteTime": {
     "end_time": "2020-06-20T22:39:48.721702Z",
     "start_time": "2020-06-20T22:39:47.191554Z"
    }
   },
   "outputs": [
    {
     "name": "stdout",
     "output_type": "stream",
     "text": [
      "<class 'pandas.core.frame.DataFrame'>\n",
      "Int64Index: 2917158 entries, 4906334 to 8021121\n",
      "Columns: 111 entries, source to member_yrs_15\n",
      "dtypes: object(1), uint8(110)\n",
      "memory usage: 350.5+ MB\n"
     ]
    }
   ],
   "source": [
    "dummies = pd.get_dummies(binned, \n",
    "                         columns=binned.columns.drop('source'), \n",
    "                         drop_first=True)\n",
    "dummies.info()"
   ]
  },
  {
   "cell_type": "code",
   "execution_count": 23,
   "metadata": {
    "ExecuteTime": {
     "end_time": "2020-06-20T22:39:49.237219Z",
     "start_time": "2020-06-20T22:39:48.723093Z"
    }
   },
   "outputs": [
    {
     "name": "stdout",
     "output_type": "stream",
     "text": [
      "<class 'pandas.core.frame.DataFrame'>\n",
      "Int64Index: 1701322 entries, 4906334 to 4178053\n",
      "Columns: 110 entries, useful_1 to member_yrs_15\n",
      "dtypes: uint8(110)\n",
      "memory usage: 191.5 MB\n"
     ]
    }
   ],
   "source": [
    "train_dummies = dummies[dummies.source=='train'].drop('source', axis=1)\n",
    "train_dummies.info()"
   ]
  },
  {
   "cell_type": "markdown",
   "metadata": {},
   "source": [
    "### Train set"
   ]
  },
  {
   "cell_type": "code",
   "execution_count": 24,
   "metadata": {
    "ExecuteTime": {
     "end_time": "2020-06-20T22:39:50.923556Z",
     "start_time": "2020-06-20T22:39:49.238342Z"
    },
    "slideshow": {
     "slide_type": "slide"
    }
   },
   "outputs": [
    {
     "data": {
      "text/plain": [
       "(1701322, 110)"
      ]
     },
     "execution_count": 24,
     "metadata": {},
     "output_type": "execute_result"
    }
   ],
   "source": [
    "# Cast other feature columns to float and convert to a sparse matrix.\n",
    "train_numeric = sparse.csr_matrix(train_dummies.astype(np.uint8))\n",
    "train_numeric.shape"
   ]
  },
  {
   "cell_type": "code",
   "execution_count": 25,
   "metadata": {
    "ExecuteTime": {
     "end_time": "2020-06-20T22:39:52.864825Z",
     "start_time": "2020-06-20T22:39:50.925657Z"
    },
    "slideshow": {
     "slide_type": "slide"
    }
   },
   "outputs": [
    {
     "data": {
      "text/plain": [
       "(1701322, 10110)"
      ]
     },
     "execution_count": 25,
     "metadata": {},
     "output_type": "execute_result"
    }
   ],
   "source": [
    "# Combine sparse matrices.\n",
    "train_dtm_numeric = sparse.hstack((train_dtm, train_numeric))\n",
    "train_dtm_numeric.shape"
   ]
  },
  {
   "cell_type": "code",
   "execution_count": 26,
   "metadata": {
    "ExecuteTime": {
     "end_time": "2020-06-20T22:40:32.059846Z",
     "start_time": "2020-06-20T22:39:52.866020Z"
    }
   },
   "outputs": [],
   "source": [
    "sparse.save_npz(text_features_dir / 'train_dtm_numeric', \n",
    "                train_dtm_numeric)"
   ]
  },
  {
   "cell_type": "markdown",
   "metadata": {},
   "source": [
    "### Repeat for test set"
   ]
  },
  {
   "cell_type": "code",
   "execution_count": 27,
   "metadata": {
    "ExecuteTime": {
     "end_time": "2020-06-20T22:40:34.942725Z",
     "start_time": "2020-06-20T22:40:32.062062Z"
    },
    "slideshow": {
     "slide_type": "slide"
    }
   },
   "outputs": [
    {
     "data": {
      "text/plain": [
       "(1215836, 10110)"
      ]
     },
     "execution_count": 27,
     "metadata": {},
     "output_type": "execute_result"
    }
   ],
   "source": [
    "test_dummies = dummies[dummies.source=='test'].drop('source', axis=1)\n",
    "test_numeric = sparse.csr_matrix(test_dummies.astype(np.int8))\n",
    "test_dtm_numeric = sparse.hstack((test_dtm, test_numeric))\n",
    "test_dtm_numeric.shape"
   ]
  },
  {
   "cell_type": "code",
   "execution_count": 28,
   "metadata": {
    "ExecuteTime": {
     "end_time": "2020-06-20T22:40:58.453119Z",
     "start_time": "2020-06-20T22:40:34.943972Z"
    }
   },
   "outputs": [],
   "source": [
    "sparse.save_npz(text_features_dir / 'test_dtm_numeric', test_dtm_numeric)"
   ]
  },
  {
   "cell_type": "markdown",
   "metadata": {},
   "source": [
    "### Reload stored data"
   ]
  },
  {
   "cell_type": "code",
   "execution_count": null,
   "metadata": {
    "ExecuteTime": {
     "start_time": "2020-06-20T22:02:02.449Z"
    }
   },
   "outputs": [],
   "source": [
    "train_dtm_numeric = sparse.load_npz(text_features_dir / 'train_dtm_numeric.npz')\n",
    "test_dtm_numeric = sparse.load_npz(text_features_dir / 'test_dtm_numeric.npz')"
   ]
  },
  {
   "cell_type": "markdown",
   "metadata": {},
   "source": [
    "## Benchmark Accuracy"
   ]
  },
  {
   "cell_type": "code",
   "execution_count": 29,
   "metadata": {
    "ExecuteTime": {
     "end_time": "2020-06-20T22:42:50.977219Z",
     "start_time": "2020-06-20T22:42:50.972604Z"
    }
   },
   "outputs": [],
   "source": [
    "accuracy, runtime = {}, {}\n",
    "predictions = test[['stars']].copy()"
   ]
  },
  {
   "cell_type": "markdown",
   "metadata": {},
   "source": [
    "Using the most frequent number of stars (=5) to predict the test set achieve an accuracy close to 51%:"
   ]
  },
  {
   "cell_type": "code",
   "execution_count": 30,
   "metadata": {
    "ExecuteTime": {
     "end_time": "2020-06-20T22:42:51.489449Z",
     "start_time": "2020-06-20T22:42:51.475952Z"
    }
   },
   "outputs": [],
   "source": [
    "naive_prediction = np.full_like(predictions.stars,\n",
    "                                fill_value=train.stars.mode().iloc[0])"
   ]
  },
  {
   "cell_type": "code",
   "execution_count": 31,
   "metadata": {
    "ExecuteTime": {
     "end_time": "2020-06-20T22:42:51.801719Z",
     "start_time": "2020-06-20T22:42:51.748630Z"
    }
   },
   "outputs": [],
   "source": [
    "naive_benchmark = accuracy_score(predictions.stars, naive_prediction)"
   ]
  },
  {
   "cell_type": "code",
   "execution_count": 32,
   "metadata": {
    "ExecuteTime": {
     "end_time": "2020-06-20T22:42:52.595624Z",
     "start_time": "2020-06-20T22:42:52.593212Z"
    }
   },
   "outputs": [
    {
     "data": {
      "text/plain": [
       "0.5117779042568241"
      ]
     },
     "execution_count": 32,
     "metadata": {},
     "output_type": "execute_result"
    }
   ],
   "source": [
    "naive_benchmark"
   ]
  },
  {
   "cell_type": "markdown",
   "metadata": {},
   "source": [
    "## Model Evaluation Helper"
   ]
  },
  {
   "cell_type": "code",
   "execution_count": 33,
   "metadata": {
    "ExecuteTime": {
     "end_time": "2020-06-20T22:42:57.625152Z",
     "start_time": "2020-06-20T22:42:57.622377Z"
    }
   },
   "outputs": [],
   "source": [
    "def evaluate_model(model, X_train, X_test, name, store=False):\n",
    "    start = time()\n",
    "    model.fit(X_train, train.stars)\n",
    "    runtime[name] = time() - start\n",
    "    predictions[name] = model.predict(X_test)\n",
    "    accuracy[result] = accuracy_score(test.stars, predictions[result])\n",
    "    if store:\n",
    "        joblib.dump(model, f'results/{result}.joblib')"
   ]
  },
  {
   "cell_type": "markdown",
   "metadata": {},
   "source": [
    "## Multiclass Naive Bayes"
   ]
  },
  {
   "cell_type": "code",
   "execution_count": 34,
   "metadata": {
    "ExecuteTime": {
     "end_time": "2020-06-20T22:42:58.131555Z",
     "start_time": "2020-06-20T22:42:58.128408Z"
    }
   },
   "outputs": [],
   "source": [
    "nb = MultinomialNB()"
   ]
  },
  {
   "cell_type": "markdown",
   "metadata": {},
   "source": [
    "### Text Features"
   ]
  },
  {
   "cell_type": "markdown",
   "metadata": {},
   "source": [
    "Next, we train a Naive Bayes classifier using a document-term matrix produced by the CountVectorizer with default settings."
   ]
  },
  {
   "cell_type": "code",
   "execution_count": 35,
   "metadata": {
    "ExecuteTime": {
     "end_time": "2020-06-20T22:42:58.630370Z",
     "start_time": "2020-06-20T22:42:58.628383Z"
    }
   },
   "outputs": [],
   "source": [
    "result = 'nb_text'"
   ]
  },
  {
   "cell_type": "code",
   "execution_count": 36,
   "metadata": {
    "ExecuteTime": {
     "end_time": "2020-06-20T22:43:00.026736Z",
     "start_time": "2020-06-20T22:42:58.925479Z"
    }
   },
   "outputs": [],
   "source": [
    "evaluate_model(nb, train_dtm, test_dtm, result, store=False)"
   ]
  },
  {
   "cell_type": "markdown",
   "metadata": {},
   "source": [
    "#### Accuracy"
   ]
  },
  {
   "cell_type": "markdown",
   "metadata": {},
   "source": [
    "The prediction produces 64.4% accuracy on the test set, a 24.2% improvement over the benchmark:"
   ]
  },
  {
   "cell_type": "code",
   "execution_count": 37,
   "metadata": {
    "ExecuteTime": {
     "end_time": "2020-06-20T22:43:02.330906Z",
     "start_time": "2020-06-20T22:43:02.328364Z"
    }
   },
   "outputs": [
    {
     "data": {
      "text/plain": [
       "0.6520747864021135"
      ]
     },
     "execution_count": 37,
     "metadata": {},
     "output_type": "execute_result"
    }
   ],
   "source": [
    "accuracy[result]"
   ]
  },
  {
   "cell_type": "markdown",
   "metadata": {},
   "source": [
    "#### Confusion Matrix"
   ]
  },
  {
   "cell_type": "code",
   "execution_count": 38,
   "metadata": {
    "ExecuteTime": {
     "end_time": "2020-06-20T22:43:05.841915Z",
     "start_time": "2020-06-20T22:43:05.196945Z"
    }
   },
   "outputs": [
    {
     "data": {
      "text/html": [
       "<div>\n",
       "<style scoped>\n",
       "    .dataframe tbody tr th:only-of-type {\n",
       "        vertical-align: middle;\n",
       "    }\n",
       "\n",
       "    .dataframe tbody tr th {\n",
       "        vertical-align: top;\n",
       "    }\n",
       "\n",
       "    .dataframe thead th {\n",
       "        text-align: right;\n",
       "    }\n",
       "</style>\n",
       "<table border=\"1\" class=\"dataframe\">\n",
       "  <thead>\n",
       "    <tr style=\"text-align: right;\">\n",
       "      <th></th>\n",
       "      <th>1</th>\n",
       "      <th>2</th>\n",
       "      <th>3</th>\n",
       "      <th>4</th>\n",
       "      <th>5</th>\n",
       "    </tr>\n",
       "  </thead>\n",
       "  <tbody>\n",
       "    <tr>\n",
       "      <th>1</th>\n",
       "      <td>178787</td>\n",
       "      <td>42369</td>\n",
       "      <td>8419</td>\n",
       "      <td>3193</td>\n",
       "      <td>4295</td>\n",
       "    </tr>\n",
       "    <tr>\n",
       "      <th>2</th>\n",
       "      <td>26795</td>\n",
       "      <td>30224</td>\n",
       "      <td>18533</td>\n",
       "      <td>4445</td>\n",
       "      <td>3025</td>\n",
       "    </tr>\n",
       "    <tr>\n",
       "      <th>3</th>\n",
       "      <td>12420</td>\n",
       "      <td>17233</td>\n",
       "      <td>37337</td>\n",
       "      <td>21719</td>\n",
       "      <td>6319</td>\n",
       "    </tr>\n",
       "    <tr>\n",
       "      <th>4</th>\n",
       "      <td>7907</td>\n",
       "      <td>5608</td>\n",
       "      <td>21599</td>\n",
       "      <td>100153</td>\n",
       "      <td>43218</td>\n",
       "    </tr>\n",
       "    <tr>\n",
       "      <th>5</th>\n",
       "      <td>31323</td>\n",
       "      <td>3766</td>\n",
       "      <td>6762</td>\n",
       "      <td>134072</td>\n",
       "      <td>446315</td>\n",
       "    </tr>\n",
       "  </tbody>\n",
       "</table>\n",
       "</div>"
      ],
      "text/plain": [
       "        1      2      3       4       5\n",
       "1  178787  42369   8419    3193    4295\n",
       "2   26795  30224  18533    4445    3025\n",
       "3   12420  17233  37337   21719    6319\n",
       "4    7907   5608  21599  100153   43218\n",
       "5   31323   3766   6762  134072  446315"
      ]
     },
     "execution_count": 38,
     "metadata": {},
     "output_type": "execute_result"
    }
   ],
   "source": [
    "stars = index = list(range(1, 6))\n",
    "pd.DataFrame(confusion_matrix(test.stars, \n",
    "                              predictions[result]),\n",
    "             columns=stars,\n",
    "             index=stars)"
   ]
  },
  {
   "cell_type": "markdown",
   "metadata": {},
   "source": [
    "### Text & Numeric Features"
   ]
  },
  {
   "cell_type": "code",
   "execution_count": 39,
   "metadata": {
    "ExecuteTime": {
     "end_time": "2020-06-20T22:43:05.845364Z",
     "start_time": "2020-06-20T22:43:05.843297Z"
    }
   },
   "outputs": [],
   "source": [
    "result = 'nb_combined'"
   ]
  },
  {
   "cell_type": "code",
   "execution_count": 40,
   "metadata": {
    "ExecuteTime": {
     "end_time": "2020-06-20T22:43:10.443471Z",
     "start_time": "2020-06-20T22:43:05.986234Z"
    }
   },
   "outputs": [],
   "source": [
    "evaluate_model(nb, train_dtm_numeric, test_dtm_numeric, result, store=False)"
   ]
  },
  {
   "cell_type": "markdown",
   "metadata": {},
   "source": [
    "#### Accuracy"
   ]
  },
  {
   "cell_type": "code",
   "execution_count": 41,
   "metadata": {
    "ExecuteTime": {
     "end_time": "2020-06-20T22:43:10.447446Z",
     "start_time": "2020-06-20T22:43:10.444431Z"
    }
   },
   "outputs": [
    {
     "data": {
      "text/plain": [
       "0.6739017433272251"
      ]
     },
     "execution_count": 41,
     "metadata": {},
     "output_type": "execute_result"
    }
   ],
   "source": [
    "accuracy[result]"
   ]
  },
  {
   "cell_type": "markdown",
   "metadata": {},
   "source": [
    "## Multinomial Logistic Regression"
   ]
  },
  {
   "cell_type": "markdown",
   "metadata": {},
   "source": [
    "Logistic regression also provides a multinomial training option that is faster and more accurate than the one-vs-all implementation. We use the lbfgs solver (see sklearn [documentation](http://scikit-learn.org/stable/modules/generated/sklearn.linear_model.LogisticRegression.html) for details)."
   ]
  },
  {
   "cell_type": "code",
   "execution_count": 42,
   "metadata": {
    "ExecuteTime": {
     "end_time": "2020-06-20T22:43:30.580800Z",
     "start_time": "2020-06-20T22:43:30.578828Z"
    }
   },
   "outputs": [],
   "source": [
    "Cs = np.logspace(-5, 5, 11)"
   ]
  },
  {
   "cell_type": "markdown",
   "metadata": {},
   "source": [
    "### Text Features"
   ]
  },
  {
   "cell_type": "code",
   "execution_count": 45,
   "metadata": {
    "ExecuteTime": {
     "end_time": "2020-06-20T23:07:29.542715Z",
     "start_time": "2020-06-20T22:46:47.149134Z"
    }
   },
   "outputs": [
    {
     "name": "stdout",
     "output_type": "stream",
     "text": [
      "     0.00001: 34.93s | 62.02%\n",
      "     0.00010: 74.01s | 70.89%\n",
      "     0.00100: 126.02s | 73.95%\n",
      "     0.01000: 122.22s | 74.85%\n",
      "     0.10000: 125.65s | 74.80%\n",
      "     1.00000: 130.17s | 74.83%\n",
      "    10.00000: 126.39s | 74.80%\n",
      "   100.00000: 125.82s | 74.81%\n",
      "  1000.00000: 122.73s | 74.83%\n",
      " 10000.00000: 123.29s | 74.80%\n",
      "100000.00000: 126.80s | 74.80%\n"
     ]
    }
   ],
   "source": [
    "log_reg_text_accuracy = {}\n",
    "log_reg_text_runtime = []\n",
    "for i, C in enumerate(Cs):\n",
    "    start = time()\n",
    "    model = LogisticRegression(C=C,\n",
    "                               multi_class='multinomial',\n",
    "                               solver='lbfgs')\n",
    "\n",
    "    model.fit(train_dtm, train.stars)\n",
    "    log_reg_text_runtime.append(time() - start)\n",
    "    log_reg_text_accuracy[C] = accuracy_score(test.stars,\n",
    "                                              model.predict(test_dtm))\n",
    "\n",
    "    print(f'{C:12.5f}: {log_reg_text_runtime[i]:.2f}s | {log_reg_text_accuracy[C]:.2%}', flush=True)"
   ]
  },
  {
   "cell_type": "code",
   "execution_count": 46,
   "metadata": {
    "ExecuteTime": {
     "end_time": "2020-06-20T23:07:29.553513Z",
     "start_time": "2020-06-20T23:07:29.543848Z"
    }
   },
   "outputs": [],
   "source": [
    "pd.Series(log_reg_text_accuracy).to_csv(yelp_dir / 'logreg_text.csv')"
   ]
  },
  {
   "cell_type": "code",
   "execution_count": 47,
   "metadata": {
    "ExecuteTime": {
     "end_time": "2020-06-20T23:07:29.569466Z",
     "start_time": "2020-06-20T23:07:29.555252Z"
    }
   },
   "outputs": [],
   "source": [
    "accuracy['lr_text'] = pd.Series(log_reg_text_accuracy).max()\n",
    "runtime['lr_text'] = np.mean(log_reg_text_runtime)"
   ]
  },
  {
   "cell_type": "markdown",
   "metadata": {},
   "source": [
    "### Combined Features"
   ]
  },
  {
   "cell_type": "code",
   "execution_count": 50,
   "metadata": {
    "ExecuteTime": {
     "end_time": "2020-06-20T23:37:05.681465Z",
     "start_time": "2020-06-20T23:13:45.912739Z"
    }
   },
   "outputs": [
    {
     "name": "stdout",
     "output_type": "stream",
     "text": [
      "     0.00001: 55.26s | 63.98%\n",
      "     0.00010: 99.05s | 72.94%\n",
      "     0.00100: 137.62s | 75.12%\n",
      "     0.01000: 139.11s | 75.55%\n",
      "     0.10000: 140.26s | 75.28%\n",
      "     1.00000: 138.90s | 75.32%\n",
      "    10.00000: 135.13s | 75.35%\n",
      "   100.00000: 137.76s | 75.32%\n",
      "  1000.00000: 139.09s | 75.36%\n",
      " 10000.00000: 135.01s | 75.37%\n",
      "100000.00000: 134.73s | 75.38%\n"
     ]
    }
   ],
   "source": [
    "log_reg_comb_accuracy = {}\n",
    "log_reg_comb_runtime = []\n",
    "for i, C in enumerate(Cs):\n",
    "    start = time()\n",
    "    model = LogisticRegression(C=C,\n",
    "                               multi_class='multinomial',\n",
    "                               solver='lbfgs')\n",
    "\n",
    "    model.fit(train_dtm_numeric, train.stars)\n",
    "    log_reg_comb_runtime.append(time() - start)\n",
    "    log_reg_comb_accuracy[C] = accuracy_score(test.stars,\n",
    "                                              model.predict(test_dtm_numeric))\n",
    "\n",
    "    print(f'{C:12.5f}: {log_reg_comb_runtime[i]:.2f}s | {log_reg_comb_accuracy[C]:.2%}', flush=True)"
   ]
  },
  {
   "cell_type": "code",
   "execution_count": 51,
   "metadata": {
    "ExecuteTime": {
     "end_time": "2020-06-20T23:37:05.685351Z",
     "start_time": "2020-06-20T23:37:05.682493Z"
    }
   },
   "outputs": [],
   "source": [
    "pd.Series(log_reg_comb_accuracy).to_csv(yelp_dir / 'logreg_combined.csv')"
   ]
  },
  {
   "cell_type": "code",
   "execution_count": 52,
   "metadata": {
    "ExecuteTime": {
     "end_time": "2020-06-20T23:37:05.695321Z",
     "start_time": "2020-06-20T23:37:05.686557Z"
    }
   },
   "outputs": [],
   "source": [
    "accuracy['lr_comb'] = pd.Series(log_reg_comb_accuracy).max()\n",
    "runtime['lr_comb'] = np.mean(log_reg_comb_runtime)"
   ]
  },
  {
   "cell_type": "markdown",
   "metadata": {},
   "source": [
    "## Gradient Boosting"
   ]
  },
  {
   "cell_type": "markdown",
   "metadata": {},
   "source": [
    "For illustration, we also train a lightgbm Gradient Boosting tree ensemble with default settings and multiclass objective."
   ]
  },
  {
   "cell_type": "code",
   "execution_count": 65,
   "metadata": {
    "ExecuteTime": {
     "end_time": "2020-06-20T23:48:02.787711Z",
     "start_time": "2020-06-20T23:47:59.109776Z"
    }
   },
   "outputs": [],
   "source": [
    "lgb_train = lgb.Dataset(data=train_dtm_numeric.tocsr().astype(np.float32), \n",
    "                        label=train.stars.sub(1), \n",
    "                        categorical_feature=list(range(train_dtm_numeric.shape[1])))"
   ]
  },
  {
   "cell_type": "code",
   "execution_count": 66,
   "metadata": {
    "ExecuteTime": {
     "end_time": "2020-06-20T23:48:03.192336Z",
     "start_time": "2020-06-20T23:48:02.788712Z"
    }
   },
   "outputs": [],
   "source": [
    "lgb_test = lgb.Dataset(data=test_dtm_numeric.tocsr().astype(np.float32), \n",
    "                       label=test.stars.sub(1), \n",
    "                       reference=lgb_train)"
   ]
  },
  {
   "cell_type": "code",
   "execution_count": 67,
   "metadata": {
    "ExecuteTime": {
     "end_time": "2020-06-20T23:48:03.195773Z",
     "start_time": "2020-06-20T23:48:03.193461Z"
    }
   },
   "outputs": [],
   "source": [
    "param = {'objective': 'multiclass',\n",
    "         'metrics': ['multi_error'],\n",
    "         'num_class': 5}"
   ]
  },
  {
   "cell_type": "code",
   "execution_count": 68,
   "metadata": {
    "ExecuteTime": {
     "end_time": "2020-06-21T01:19:02.695721Z",
     "start_time": "2020-06-20T23:48:03.197049Z"
    },
    "scrolled": false
   },
   "outputs": [
    {
     "name": "stdout",
     "output_type": "stream",
     "text": [
      "Training until validation scores don't improve for 25 rounds\n",
      "[25]\ttraining's multi_error: 0.405759\tvalid_1's multi_error: 0.320156\n",
      "[50]\ttraining's multi_error: 0.370905\tvalid_1's multi_error: 0.297562\n",
      "[75]\ttraining's multi_error: 0.353564\tvalid_1's multi_error: 0.285789\n",
      "[100]\ttraining's multi_error: 0.34278\tvalid_1's multi_error: 0.278771\n",
      "[125]\ttraining's multi_error: 0.335184\tvalid_1's multi_error: 0.273733\n",
      "[150]\ttraining's multi_error: 0.329293\tvalid_1's multi_error: 0.269682\n",
      "[175]\ttraining's multi_error: 0.324728\tvalid_1's multi_error: 0.266682\n",
      "[200]\ttraining's multi_error: 0.320829\tvalid_1's multi_error: 0.264156\n",
      "[225]\ttraining's multi_error: 0.317401\tvalid_1's multi_error: 0.262016\n",
      "[250]\ttraining's multi_error: 0.314696\tvalid_1's multi_error: 0.259945\n",
      "[275]\ttraining's multi_error: 0.312185\tvalid_1's multi_error: 0.258219\n",
      "[300]\ttraining's multi_error: 0.3099\tvalid_1's multi_error: 0.256977\n",
      "[325]\ttraining's multi_error: 0.307957\tvalid_1's multi_error: 0.25591\n",
      "[350]\ttraining's multi_error: 0.306137\tvalid_1's multi_error: 0.254868\n",
      "[375]\ttraining's multi_error: 0.304627\tvalid_1's multi_error: 0.254025\n",
      "[400]\ttraining's multi_error: 0.302983\tvalid_1's multi_error: 0.253086\n",
      "[425]\ttraining's multi_error: 0.30154\tvalid_1's multi_error: 0.252281\n",
      "[450]\ttraining's multi_error: 0.300309\tvalid_1's multi_error: 0.251648\n",
      "[475]\ttraining's multi_error: 0.299089\tvalid_1's multi_error: 0.250989\n",
      "[500]\ttraining's multi_error: 0.297708\tvalid_1's multi_error: 0.250408\n",
      "[525]\ttraining's multi_error: 0.296714\tvalid_1's multi_error: 0.249912\n",
      "[550]\ttraining's multi_error: 0.295725\tvalid_1's multi_error: 0.249531\n",
      "[575]\ttraining's multi_error: 0.294649\tvalid_1's multi_error: 0.24918\n",
      "[600]\ttraining's multi_error: 0.293748\tvalid_1's multi_error: 0.248822\n",
      "[625]\ttraining's multi_error: 0.292762\tvalid_1's multi_error: 0.248478\n",
      "[650]\ttraining's multi_error: 0.291932\tvalid_1's multi_error: 0.248306\n",
      "[675]\ttraining's multi_error: 0.291082\tvalid_1's multi_error: 0.248\n",
      "[700]\ttraining's multi_error: 0.290352\tvalid_1's multi_error: 0.247695\n",
      "[725]\ttraining's multi_error: 0.289579\tvalid_1's multi_error: 0.247381\n",
      "[750]\ttraining's multi_error: 0.288837\tvalid_1's multi_error: 0.247131\n",
      "[775]\ttraining's multi_error: 0.288094\tvalid_1's multi_error: 0.246972\n",
      "[800]\ttraining's multi_error: 0.287377\tvalid_1's multi_error: 0.247014\n",
      "Early stopping, best iteration is:\n",
      "[776]\ttraining's multi_error: 0.288074\tvalid_1's multi_error: 0.246952\n"
     ]
    }
   ],
   "source": [
    "booster = lgb.train(params=param,\n",
    "                    train_set=lgb_train,\n",
    "                    num_boost_round=2000,\n",
    "                    early_stopping_rounds=25,\n",
    "                    valid_sets=[lgb_train, lgb_test],\n",
    "                    verbose_eval=25)"
   ]
  },
  {
   "cell_type": "code",
   "execution_count": 69,
   "metadata": {
    "ExecuteTime": {
     "end_time": "2020-06-21T01:19:02.830286Z",
     "start_time": "2020-06-21T01:19:02.696640Z"
    }
   },
   "outputs": [],
   "source": [
    "booster.save_model((yelp_dir / 'lgb_model.txt').as_posix());"
   ]
  },
  {
   "cell_type": "code",
   "execution_count": 70,
   "metadata": {
    "ExecuteTime": {
     "end_time": "2020-06-21T01:23:53.428840Z",
     "start_time": "2020-06-21T01:19:02.831299Z"
    }
   },
   "outputs": [],
   "source": [
    "y_pred_class = booster.predict(test_dtm_numeric.astype(float))"
   ]
  },
  {
   "cell_type": "markdown",
   "metadata": {},
   "source": [
    "The basic settings did not improve over the multinomial logistic regression, but further parameter tuning remains an unused option."
   ]
  },
  {
   "cell_type": "code",
   "execution_count": 71,
   "metadata": {
    "ExecuteTime": {
     "end_time": "2020-06-21T01:23:53.507356Z",
     "start_time": "2020-06-21T01:23:53.429881Z"
    }
   },
   "outputs": [],
   "source": [
    "accuracy['lgb_comb'] = accuracy_score(test.stars, y_pred_class.argmax(1) + 1)"
   ]
  },
  {
   "cell_type": "markdown",
   "metadata": {},
   "source": [
    "## Comparison"
   ]
  },
  {
   "cell_type": "code",
   "execution_count": 78,
   "metadata": {
    "ExecuteTime": {
     "end_time": "2020-06-21T01:30:47.685215Z",
     "start_time": "2020-06-21T01:30:47.678355Z"
    }
   },
   "outputs": [],
   "source": [
    "model_map = {'nb_combined': 'Naive Bayes',\n",
    "             'lr_comb': 'Logistic Regression',\n",
    "             'lgb_comb': 'LightGBM'}"
   ]
  },
  {
   "cell_type": "code",
   "execution_count": 97,
   "metadata": {
    "ExecuteTime": {
     "end_time": "2020-06-21T02:05:08.492311Z",
     "start_time": "2020-06-21T02:05:08.490190Z"
    }
   },
   "outputs": [],
   "source": [
    "accuracy_ = {model_map[k]: v for k, v in accuracy.items() if model_map.get(k)}"
   ]
  },
  {
   "cell_type": "code",
   "execution_count": 98,
   "metadata": {
    "ExecuteTime": {
     "end_time": "2020-06-21T02:05:09.077394Z",
     "start_time": "2020-06-21T02:05:09.070418Z"
    }
   },
   "outputs": [],
   "source": [
    "log_reg_text = pd.read_csv(yelp_dir / 'logreg_text.csv',\n",
    "                       index_col=0,\n",
    "                       squeeze=True)\n",
    "log_reg_combined = pd.read_csv(yelp_dir / 'logreg_combined.csv',\n",
    "                       index_col=0,\n",
    "                       squeeze=True)"
   ]
  },
  {
   "cell_type": "code",
   "execution_count": 101,
   "metadata": {
    "ExecuteTime": {
     "end_time": "2020-06-21T02:05:42.706220Z",
     "start_time": "2020-06-21T02:05:42.145823Z"
    }
   },
   "outputs": [
    {
     "data": {
      "image/png": "[encoded data removed]",
      "text/plain": [
       "<Figure size 1008x288 with 2 Axes>"
      ]
     },
     "metadata": {},
     "output_type": "display_data"
    }
   ],
   "source": [
    "fig, axes = plt.subplots(ncols=2, figsize=(14, 4))\n",
    "pd.Series(accuracy_).sort_values().plot.barh(\n",
    "    ax=axes[0], xlim=(.45, .75), title='Accuracy by Model')\n",
    "axes[0].axvline(naive_benchmark, ls='--', lw=1, c='k')\n",
    "\n",
    "\n",
    "log_reg = (log_reg_text.to_frame('text')\n",
    "           .join(log_reg_combined.to_frame('combined')))\n",
    "log_reg.plot(logx=True,\n",
    "             ax=axes[1],\n",
    "             title='Logistic Regression - Model Tuning')\n",
    "axes[1].set_xlabel('Regularization')\n",
    "axes[1].set_ylabel('Accuracy')\n",
    "axes[0].set_xlabel('Accuracy')\n",
    "sns.despine()\n",
    "fig.tight_layout()"
   ]
  },
  {
   "cell_type": "markdown",
   "metadata": {
    "slideshow": {
     "slide_type": "slide"
    }
   },
   "source": [
    "## Textblob for Sentiment Analysis"
   ]
  },
  {
   "cell_type": "code",
   "execution_count": 84,
   "metadata": {
    "ExecuteTime": {
     "end_time": "2020-06-21T01:33:15.816005Z",
     "start_time": "2020-06-21T01:33:15.771890Z"
    },
    "slideshow": {
     "slide_type": "slide"
    }
   },
   "outputs": [
    {
     "name": "stdout",
     "output_type": "stream",
     "text": [
      "It's good to see new restaurants in Henderson along Stephanie Street, and judging by the packed parking lot a lot of people seem to like Miller's Ale House. I can't say that I'm a fan. I'll agree with Ashley B's review that it's better than Chili's and far better than suffering through Applebees, but it's really just a ho-hum nothing special chain restaurant with TV's plastered everywhere, and a boring menu of the same tired classics that can be easily prepared by a bunch of distracted teenagers working the kitchen. \n",
      "\n",
      "If you're hungry and the parking lot is not jammed and you can't decide on what to eat at least you can shut your stomach up if you stop here. But if you want something different or original remember this is a chain....you won't find what you're craving here. \n",
      "\n",
      "2 Stars...as in I was so underwhelmed by the place I almost fell asleep writing this one. Yawn!\n"
     ]
    }
   ],
   "source": [
    "sample_review = train.text.sample(1).iloc[0]\n",
    "print(sample_review)"
   ]
  },
  {
   "cell_type": "code",
   "execution_count": 85,
   "metadata": {
    "ExecuteTime": {
     "end_time": "2020-06-21T01:33:15.953592Z",
     "start_time": "2020-06-21T01:33:15.921212Z"
    },
    "slideshow": {
     "slide_type": "slide"
    }
   },
   "outputs": [
    {
     "data": {
      "text/plain": [
       "0.11637265512265516"
      ]
     },
     "execution_count": 85,
     "metadata": {},
     "output_type": "execute_result"
    }
   ],
   "source": [
    "# Polarity ranges from -1 (most negative) to 1 (most positive).\n",
    "TextBlob(sample_review).sentiment.polarity"
   ]
  },
  {
   "cell_type": "code",
   "execution_count": 86,
   "metadata": {
    "ExecuteTime": {
     "end_time": "2020-06-21T01:33:16.084637Z",
     "start_time": "2020-06-21T01:33:16.081057Z"
    },
    "slideshow": {
     "slide_type": "slide"
    }
   },
   "outputs": [],
   "source": [
    "# Define a function that accepts text and returns the polarity.\n",
    "def detect_sentiment(text):\n",
    "    return TextBlob(text).sentiment.polarity"
   ]
  },
  {
   "cell_type": "code",
   "execution_count": 87,
   "metadata": {
    "ExecuteTime": {
     "end_time": "2020-06-21T01:46:35.286143Z",
     "start_time": "2020-06-21T01:33:16.252155Z"
    }
   },
   "outputs": [],
   "source": [
    "train['sentiment'] = train.text.apply(detect_sentiment)"
   ]
  },
  {
   "cell_type": "code",
   "execution_count": 88,
   "metadata": {
    "ExecuteTime": {
     "end_time": "2020-06-21T01:46:35.421683Z",
     "start_time": "2020-06-21T01:46:35.287184Z"
    }
   },
   "outputs": [],
   "source": [
    "sample_reviews = train[['stars', 'text']].sample(100000)"
   ]
  },
  {
   "cell_type": "code",
   "execution_count": 89,
   "metadata": {
    "ExecuteTime": {
     "end_time": "2020-06-21T01:47:22.961955Z",
     "start_time": "2020-06-21T01:46:35.422792Z"
    },
    "slideshow": {
     "slide_type": "slide"
    }
   },
   "outputs": [],
   "source": [
    "# Create a new DataFrame column for sentiment (Warning: SLOW!).\n",
    "sample_reviews['sentiment'] = sample_reviews.text.apply(detect_sentiment)"
   ]
  },
  {
   "cell_type": "code",
   "execution_count": 90,
   "metadata": {
    "ExecuteTime": {
     "end_time": "2020-06-21T01:47:23.391637Z",
     "start_time": "2020-06-21T01:47:22.963037Z"
    },
    "slideshow": {
     "slide_type": "slide"
    }
   },
   "outputs": [
    {
     "data": {
      "image/png": "[encoded data removed]",
      "text/plain": [
       "<Figure size 432x288 with 1 Axes>"
      ]
     },
     "metadata": {},
     "output_type": "display_data"
    }
   ],
   "source": [
    "# Box plot of sentiment grouped by stars\n",
    "sns.boxenplot(x='stars', y='sentiment', data=train);"
   ]
  },
  {
   "cell_type": "code",
   "execution_count": 91,
   "metadata": {
    "ExecuteTime": {
     "end_time": "2020-06-21T01:47:23.394501Z",
     "start_time": "2020-06-21T01:47:23.392648Z"
    },
    "slideshow": {
     "slide_type": "slide"
    }
   },
   "outputs": [],
   "source": [
    "# Widen the column display.\n",
    "pd.set_option('max_colwidth', 500)"
   ]
  },
  {
   "cell_type": "code",
   "execution_count": 92,
   "metadata": {
    "ExecuteTime": {
     "end_time": "2020-06-21T01:47:23.415900Z",
     "start_time": "2020-06-21T01:47:23.395803Z"
    },
    "slideshow": {
     "slide_type": "slide"
    }
   },
   "outputs": [
    {
     "data": {
      "text/plain": [
       "2495072                                                  TERRIBLE!! I Ordered And They Just Cancelled My Order Because they \"don't deliver to my hotel\" no notice or anything just cancelled!!! I Was Waiting For My\\nOrder for about an hour!\n",
       "4807229                                                                                                              Don't bother to give them a call they did a no show for an estimate not even a phone call to let me know horrible service\n",
       "4379860                                                                                                      horrible, horrible, horrible.  food, service price.  it's an overpriced tourist trap.  Pease do yourself a favor, go to in n out.\n",
       "2941002                                                                                                           Well after my miserable experience they came with the rest of my furniture today. All broken and cracked! Dump!!!!!!!!!!!!!!\n",
       "2785241    This is probably the worst experience I have had at a restaurant.  Waited 10 minutes for even a server to come take my drink order.  Paid $15 for a crappy breakfast.  \\n\\nI will never eat at this California pizza kitchen again.\n",
       "Name: text, dtype: object"
      ]
     },
     "execution_count": 92,
     "metadata": {},
     "output_type": "execute_result"
    }
   ],
   "source": [
    "# Reviews with most negative sentiment\n",
    "train[train.sentiment == -1].text.head()"
   ]
  },
  {
   "cell_type": "code",
   "execution_count": 93,
   "metadata": {
    "ExecuteTime": {
     "end_time": "2020-06-21T01:47:23.425332Z",
     "start_time": "2020-06-21T01:47:23.417267Z"
    },
    "slideshow": {
     "slide_type": "slide"
    }
   },
   "outputs": [
    {
     "data": {
      "text/plain": [
       "255057    Appointment set through Fidelity Home Warranty. Ken came out within a couple of hours. The capacitor was bad on one of my units and replaced immediately. Thank you Fidelity and Ken at Lee Collins Air.\n",
       "Name: text, dtype: object"
      ]
     },
     "execution_count": 93,
     "metadata": {},
     "output_type": "execute_result"
    }
   ],
   "source": [
    "# Negative sentiment in a 5-star review\n",
    "train.loc[(train.stars == 5) & (train.sentiment < -0.3), 'text'].head(1)"
   ]
  },
  {
   "cell_type": "code",
   "execution_count": 94,
   "metadata": {
    "ExecuteTime": {
     "end_time": "2020-06-21T01:47:23.437225Z",
     "start_time": "2020-06-21T01:47:23.426564Z"
    },
    "slideshow": {
     "slide_type": "slide"
    }
   },
   "outputs": [
    {
     "data": {
      "text/plain": [
       "5373197    The food wasn't that great and the service was okay. We should have just gone to our go to spot Baby Stacks. The steak and eggs had no flavor and the potatoes were room temperature. I guess this is what happens when you want breakfast for dinner. The bill was $46 which is fine but if the food was actually good I don't think I would be as ann\n",
       "Name: text, dtype: object"
      ]
     },
     "execution_count": 94,
     "metadata": {},
     "output_type": "execute_result"
    }
   ],
   "source": [
    "# Positive sentiment in a 1-star review\n",
    "train.loc[(train.stars == 1) & (train.sentiment > 0.5), 'text'].head(1)"
   ]
  },
  {
   "cell_type": "code",
   "execution_count": 95,
   "metadata": {
    "ExecuteTime": {
     "end_time": "2020-06-21T01:47:23.447787Z",
     "start_time": "2020-06-21T01:47:23.438154Z"
    },
    "slideshow": {
     "slide_type": "slide"
    }
   },
   "outputs": [],
   "source": [
    "# Reset the column display width.\n",
    "pd.reset_option('max_colwidth')"
   ]
  }
 ],
 "metadata": {
  "celltoolbar": "Slideshow",
  "kernelspec": {
   "display_name": "Python 3",
   "language": "python",
   "name": "python3"
  },
  "language_info": {
   "codemirror_mode": {
    "name": "ipython",
    "version": 3
   },
   "file_extension": ".py",
   "mimetype": "text/x-python",
   "name": "python",
   "nbconvert_exporter": "python",
   "pygments_lexer": "ipython3",
   "version": "3.7.7"
  },
  "toc": {
   "base_numbering": 1,
   "nav_menu": {},
   "number_sections": true,
   "sideBar": true,
   "skip_h1_title": true,
   "title_cell": "Table of Contents",
   "title_sidebar": "Contents",
   "toc_cell": false,
   "toc_position": {
    "height": "calc(100% - 180px)",
    "left": "10px",
    "top": "150px",
    "width": "316px"
   },
   "toc_section_display": true,
   "toc_window_display": true
  }
 },
 "nbformat": 4,
 "nbformat_minor": 2
}
