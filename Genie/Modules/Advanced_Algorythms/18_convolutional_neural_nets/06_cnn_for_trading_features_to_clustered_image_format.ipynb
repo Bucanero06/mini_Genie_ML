{
 "cells": [
  {
   "cell_type": "markdown",
   "metadata": {},
   "source": [
    "# CNN for Trading - Part 2: From Time-Series Features to Clustered Images"
   ]
  },
  {
   "cell_type": "markdown",
   "metadata": {
    "ExecuteTime": {
     "end_time": "2021-02-23T16:39:56.783513Z",
     "start_time": "2021-02-23T16:39:56.774804Z"
    }
   },
   "source": [
    "To exploit the grid-like structure of time-series data, we can use CNN architectures for univariate and multivariate time series. In the latter case, we consider different time series as channels, similar to the different color signals.\n",
    "\n",
    "An alternative approach converts a time series of alpha factors into a two-dimensional format to leverage the ability of CNNs to detect local patterns. [Sezer and Ozbayoglu (2018)](https://www.researchgate.net/publication/324802031_Algorithmic_Financial_Trading_with_Deep_Convolutional_Neural_Networks_Time_Series_to_Image_Conversion_Approach) propose CNN-TA, which computes 15 technical indicators for different intervals and uses hierarchical clustering (see Chapter 13, Data-Driven Risk Factors and Asset Allocation with Unsupervised Learning) to locate indicators that behave similarly close to each other in a two-dimensional grid.\n",
    "\n",
    "The authors train a CNN similar to the CIFAR-10 example we used earlier to predict whether to buy, hold, or sell an asset on a given day. They compare the CNN performance to \"buy-and-hold\" and other models and find that it outperforms all alternatives using daily price series for Dow 30 stocks and the nine most-traded ETFs over the 2007-2017 time period.\n",
    "\n",
    "The section on *CNN for Trading* consists of three notebooks that experiment with this approach using daily US equity price data. They demonstrate \n",
    "1. How to compute relevant financial features\n",
    "2. How to convert a similar set of indicators into image format and cluster them by similarity\n",
    "3. How to train a CNN to predict daily returns and evaluate a simple long-short strategy based on the resulting signals."
   ]
  },
  {
   "cell_type": "markdown",
   "metadata": {},
   "source": [
    "## Selecting and Clustering Features"
   ]
  },
  {
   "cell_type": "markdown",
   "metadata": {},
   "source": [
    "The next steps that we will tackle in this notebook are \n",
    "1. Select the 15 most relevant features from the 20 candidates to fill the 15×15 input grid.\n",
    "2. Apply hierarchical clustering to identify features that behave similarly and order the columns and the rows of the grid accordingly."
   ]
  },
  {
   "cell_type": "markdown",
   "metadata": {},
   "source": [
    "## Imports & Settings"
   ]
  },
  {
   "cell_type": "code",
   "execution_count": 1,
   "metadata": {
    "ExecuteTime": {
     "end_time": "2021-02-23T18:59:23.064329Z",
     "start_time": "2021-02-23T18:59:23.062565Z"
    }
   },
   "outputs": [],
   "source": [
    "import warnings\n",
    "warnings.filterwarnings('ignore')"
   ]
  },
  {
   "cell_type": "code",
   "execution_count": 2,
   "metadata": {
    "ExecuteTime": {
     "end_time": "2021-02-23T18:59:23.721271Z",
     "start_time": "2021-02-23T18:59:23.065808Z"
    }
   },
   "outputs": [],
   "source": [
    "%matplotlib inline\n",
    "from pathlib import Path\n",
    "import pandas as pd\n",
    "from tqdm import tqdm\n",
    "\n",
    "from scipy.spatial.distance import pdist\n",
    "from scipy.cluster.hierarchy import dendrogram, linkage, cophenet\n",
    "\n",
    "from sklearn.preprocessing import StandardScaler\n",
    "from sklearn.feature_selection import mutual_info_regression\n",
    "\n",
    "import matplotlib.pyplot as plt\n",
    "import seaborn as sns"
   ]
  },
  {
   "cell_type": "code",
   "execution_count": 3,
   "metadata": {
    "ExecuteTime": {
     "end_time": "2021-02-23T18:59:23.723998Z",
     "start_time": "2021-02-23T18:59:23.722349Z"
    }
   },
   "outputs": [],
   "source": [
    "MONTH = 21\n",
    "YEAR = 12 * MONTH"
   ]
  },
  {
   "cell_type": "code",
   "execution_count": 4,
   "metadata": {
    "ExecuteTime": {
     "end_time": "2021-02-23T18:59:23.737796Z",
     "start_time": "2021-02-23T18:59:23.724937Z"
    }
   },
   "outputs": [],
   "source": [
    "START = '2001-01-01'\n",
    "END = '2017-12-31'"
   ]
  },
  {
   "cell_type": "code",
   "execution_count": 5,
   "metadata": {
    "ExecuteTime": {
     "end_time": "2021-02-23T18:59:23.750549Z",
     "start_time": "2021-02-23T18:59:23.738814Z"
    }
   },
   "outputs": [],
   "source": [
    "sns.set_style('white')\n",
    "idx = pd.IndexSlice"
   ]
  },
  {
   "cell_type": "code",
   "execution_count": 6,
   "metadata": {
    "ExecuteTime": {
     "end_time": "2021-02-23T18:59:23.758227Z",
     "start_time": "2021-02-23T18:59:23.751920Z"
    }
   },
   "outputs": [],
   "source": [
    "results_path = Path('results', 'cnn_for_trading')\n",
    "if not results_path.exists():\n",
    "    results_path.mkdir(parents=True)"
   ]
  },
  {
   "cell_type": "markdown",
   "metadata": {},
   "source": [
    "## Load Model Data"
   ]
  },
  {
   "cell_type": "code",
   "execution_count": 7,
   "metadata": {
    "ExecuteTime": {
     "end_time": "2021-02-23T18:59:30.844081Z",
     "start_time": "2021-02-23T18:59:23.759439Z"
    }
   },
   "outputs": [],
   "source": [
    "with pd.HDFStore('data.h5') as store:\n",
    "    features = store.get('features')\n",
    "    targets = store.get('targets')"
   ]
  },
  {
   "cell_type": "code",
   "execution_count": 8,
   "metadata": {
    "ExecuteTime": {
     "end_time": "2021-02-23T18:59:30.896504Z",
     "start_time": "2021-02-23T18:59:30.845003Z"
    },
    "scrolled": false
   },
   "outputs": [
    {
     "name": "stdout",
     "output_type": "stream",
     "text": [
      "<class 'pandas.core.frame.DataFrame'>\n",
      "MultiIndex: 2378728 entries, ('A', Timestamp('2001-01-02 00:00:00')) to ('ZTS', Timestamp('2017-12-29 00:00:00'))\n",
      "Columns: 300 entries, 06_RSI to 85_CMA\n",
      "dtypes: float64(300)\n",
      "memory usage: 5.3+ GB\n"
     ]
    }
   ],
   "source": [
    "features.info()"
   ]
  },
  {
   "cell_type": "code",
   "execution_count": 9,
   "metadata": {
    "ExecuteTime": {
     "end_time": "2021-02-23T18:59:30.938773Z",
     "start_time": "2021-02-23T18:59:30.897581Z"
    }
   },
   "outputs": [
    {
     "name": "stdout",
     "output_type": "stream",
     "text": [
      "<class 'pandas.core.frame.DataFrame'>\n",
      "MultiIndex: 2378728 entries, ('A', Timestamp('2001-01-02 00:00:00')) to ('ZTS', Timestamp('2017-12-29 00:00:00'))\n",
      "Data columns (total 4 columns):\n",
      " #   Column      Dtype  \n",
      "---  ------      -----  \n",
      " 0   r01_fwd     float64\n",
      " 1   r01dec_fwd  float64\n",
      " 2   r05_fwd     float64\n",
      " 3   r05dec_fwd  float64\n",
      "dtypes: float64(4)\n",
      "memory usage: 81.8+ MB\n"
     ]
    }
   ],
   "source": [
    "targets.info()"
   ]
  },
  {
   "cell_type": "markdown",
   "metadata": {},
   "source": [
    "## Select Features using Mutual Information"
   ]
  },
  {
   "cell_type": "markdown",
   "metadata": {},
   "source": [
    "To this end, we estimate the mutual information for each indicator and the 15 intervals with respect to our target, the one-day forward returns. As discussed in Chapter 4, Financial Feature Engineering – How to Research Alpha Factors, scikit-learn provides the `mutual_info_regression()` function that makes this straightforward, albeit time-consuming and memory-intensive. \n",
    "\n",
    "To accelerate the process, we randomly sample 100,000 observations:"
   ]
  },
  {
   "cell_type": "code",
   "execution_count": 10,
   "metadata": {
    "ExecuteTime": {
     "end_time": "2021-02-23T19:20:52.366522Z",
     "start_time": "2021-02-23T18:59:30.939773Z"
    }
   },
   "outputs": [
    {
     "name": "stderr",
     "output_type": "stream",
     "text": [
      "100%|██████████| 2/2 [21:21<00:00, 640.71s/it]\n"
     ]
    }
   ],
   "source": [
    "mi = {}\n",
    "for t in tqdm([1, 5]):\n",
    "    target = f'r{t:02}_fwd'\n",
    "    # sample a smaller number to speed up the computation\n",
    "    df = features.join(targets[target]).dropna().sample(n=100000)\n",
    "    X = df.drop(target, axis=1)\n",
    "    y = df[target]\n",
    "    mi[t] = pd.Series(mutual_info_regression(X=X, y=y),\n",
    "                      index=X.columns).sort_values(ascending=False)"
   ]
  },
  {
   "cell_type": "code",
   "execution_count": 11,
   "metadata": {
    "ExecuteTime": {
     "end_time": "2021-02-23T19:20:52.376177Z",
     "start_time": "2021-02-23T19:20:52.367645Z"
    }
   },
   "outputs": [],
   "source": [
    "mutual_info = pd.DataFrame(mi)\n",
    "mutual_info.to_hdf('data.h5', 'mutual_info')"
   ]
  },
  {
   "cell_type": "code",
   "execution_count": 12,
   "metadata": {
    "ExecuteTime": {
     "end_time": "2021-02-23T19:20:52.391153Z",
     "start_time": "2021-02-23T19:20:52.377122Z"
    }
   },
   "outputs": [],
   "source": [
    "mutual_info = pd.read_hdf('data.h5', 'mutual_info')"
   ]
  },
  {
   "cell_type": "code",
   "execution_count": 13,
   "metadata": {
    "ExecuteTime": {
     "end_time": "2021-02-23T19:20:52.405177Z",
     "start_time": "2021-02-23T19:20:52.392078Z"
    }
   },
   "outputs": [],
   "source": [
    "mi_by_indicator = (mutual_info.groupby(mutual_info.\n",
    "                                       index.to_series()\n",
    "                                       .str.split('_').str[-1])\n",
    "                   .mean()\n",
    "                   .rank(ascending=False)\n",
    "                   .sort_values(by=1))"
   ]
  },
  {
   "cell_type": "code",
   "execution_count": 14,
   "metadata": {
    "ExecuteTime": {
     "end_time": "2021-02-23T19:20:52.550095Z",
     "start_time": "2021-02-23T19:20:52.406148Z"
    },
    "scrolled": true
   },
   "outputs": [
    {
     "data": {
      "image/png": "[encoded data removed]",
      "text/plain": [
       "<Figure size 432x288 with 1 Axes>"
      ]
     },
     "metadata": {},
     "output_type": "display_data"
    }
   ],
   "source": [
    "mutual_info.boxplot()\n",
    "sns.despine();"
   ]
  },
  {
   "cell_type": "markdown",
   "metadata": {},
   "source": [
    "The below figure shows the mutual information, averaged across the 15 intervals for each indicator. NATR, PPO, and Bollinger Bands are most important from this metric's perspective:"
   ]
  },
  {
   "cell_type": "code",
   "execution_count": 15,
   "metadata": {
    "ExecuteTime": {
     "end_time": "2021-02-23T19:20:52.937686Z",
     "start_time": "2021-02-23T19:20:52.551300Z"
    }
   },
   "outputs": [
    {
     "data": {
      "image/png": "[encoded data removed]",
      "text/plain": [
       "<Figure size 432x288 with 1 Axes>"
      ]
     },
     "metadata": {},
     "output_type": "display_data"
    }
   ],
   "source": [
    "(mutual_info.groupby(mutual_info.index.to_series().str.split('_').str[-1])[1]\n",
    " .mean()\n",
    " .sort_values().plot.barh(title='Mutual Information with 1-Day Forward Returns'))\n",
    "sns.despine()\n",
    "plt.tight_layout()\n",
    "plt.savefig(results_path / 'mutual_info_cnn_features', dpi=300)"
   ]
  },
  {
   "cell_type": "code",
   "execution_count": 16,
   "metadata": {
    "ExecuteTime": {
     "end_time": "2021-02-23T19:20:52.941987Z",
     "start_time": "2021-02-23T19:20:52.938868Z"
    }
   },
   "outputs": [],
   "source": [
    "best_features = mi_by_indicator.head(15).index"
   ]
  },
  {
   "cell_type": "code",
   "execution_count": 17,
   "metadata": {
    "ExecuteTime": {
     "end_time": "2021-02-23T19:20:52.971896Z",
     "start_time": "2021-02-23T19:20:52.943614Z"
    }
   },
   "outputs": [],
   "source": [
    "size = len(best_features)"
   ]
  },
  {
   "cell_type": "markdown",
   "metadata": {},
   "source": [
    "## Hierarchical Feature Clustering"
   ]
  },
  {
   "cell_type": "code",
   "execution_count": 18,
   "metadata": {
    "ExecuteTime": {
     "end_time": "2021-02-23T19:20:56.199036Z",
     "start_time": "2021-02-23T19:20:52.973214Z"
    }
   },
   "outputs": [],
   "source": [
    "features = pd.concat([features.filter(like=f'_{f}') for f in best_features], axis=1)"
   ]
  },
  {
   "cell_type": "code",
   "execution_count": 19,
   "metadata": {
    "ExecuteTime": {
     "end_time": "2021-02-23T19:21:00.180174Z",
     "start_time": "2021-02-23T19:20:56.200032Z"
    }
   },
   "outputs": [],
   "source": [
    "new_cols = {}\n",
    "for feature in best_features:\n",
    "    fnames = sorted(features.filter(like=f'_{feature}').columns.tolist())\n",
    "    renamed = [f'{i:02}_{feature}' for i in range(1, len(fnames)+ 1)]\n",
    "    new_cols.update(dict(zip(fnames, renamed)))\n",
    "features = features.rename(columns=new_cols).sort_index(1)"
   ]
  },
  {
   "cell_type": "code",
   "execution_count": 20,
   "metadata": {
    "ExecuteTime": {
     "end_time": "2021-02-23T19:21:00.194831Z",
     "start_time": "2021-02-23T19:21:00.181519Z"
    }
   },
   "outputs": [
    {
     "name": "stdout",
     "output_type": "stream",
     "text": [
      "<class 'pandas.core.frame.DataFrame'>\n",
      "MultiIndex: 2378728 entries, ('A', Timestamp('2001-01-02 00:00:00')) to ('ZTS', Timestamp('2017-12-29 00:00:00'))\n",
      "Columns: 225 entries, 01_BBH to 15_WMA\n",
      "dtypes: float64(225)\n",
      "memory usage: 4.1+ GB\n"
     ]
    }
   ],
   "source": [
    "features.info()"
   ]
  },
  {
   "cell_type": "markdown",
   "metadata": {},
   "source": [
    "## Hierarchical Clustering"
   ]
  },
  {
   "cell_type": "markdown",
   "metadata": {},
   "source": [
    "As discussed in the first section of this chapter, CNNs rely on the locality of relevant patterns that is typically found in images where nearby pixels are closely related and changes from one pixel to the next are often gradual.\n",
    "\n",
    "To organize our indicators in a similar fashion, we will follow Sezer and Ozbayoglu's approach of applying hierarchical clustering. The goal is to identify features that behave similarly and order the columns and the rows of the grid accordingly.\n",
    "\n",
    "We can build on SciPy's `pairwise_distance()`, `linkage()`, and `dendrogram()` functions that we introduced in *Chapter 13, Data-Driven Risk Factors and Asset Allocation with Unsupervised Learning* alongside other forms of clustering. \n",
    "\n",
    "We create a helper function that standardizes the input column-wise to avoid distorting distances among features due to differences in scale, and use the Ward criterion that merges clusters to minimize variance. The function\n",
    "returns the order of the leaf nodes in the dendrogram that in turn displays the successive formation of larger clusters:"
   ]
  },
  {
   "cell_type": "code",
   "execution_count": 21,
   "metadata": {
    "ExecuteTime": {
     "end_time": "2021-02-23T19:21:00.214677Z",
     "start_time": "2021-02-23T19:21:00.196205Z"
    }
   },
   "outputs": [],
   "source": [
    "def cluster_features(data, labels, ax, title):\n",
    "    data = StandardScaler().fit_transform(data)\n",
    "    pairwise_distance = pdist(data)\n",
    "    Z = linkage(data, 'ward')\n",
    "    c, coph_dists = cophenet(Z, pairwise_distance)\n",
    "    dend = dendrogram(Z,\n",
    "                      labels=labels,\n",
    "                      orientation='top',\n",
    "                      leaf_rotation=0.,\n",
    "                      leaf_font_size=8.,\n",
    "                      ax=ax)\n",
    "    ax.set_title(title)\n",
    "    return dend['ivl']"
   ]
  },
  {
   "cell_type": "markdown",
   "metadata": {},
   "source": [
    "To obtain the optimized order of technical indicators in the columns and the different intervals in the rows, we use NumPy's `.reshape()` method to ensure that the dimension we would like to cluster appears in the columns of the two-dimensional array we pass to `cluster_features()`."
   ]
  },
  {
   "cell_type": "code",
   "execution_count": 22,
   "metadata": {
    "ExecuteTime": {
     "end_time": "2021-02-23T19:21:57.861182Z",
     "start_time": "2021-02-23T19:21:00.215792Z"
    }
   },
   "outputs": [
    {
     "data": {
      "image/png": "[encoded data removed]",
      "text/plain": [
       "<Figure size 1080x288 with 2 Axes>"
      ]
     },
     "metadata": {},
     "output_type": "display_data"
    }
   ],
   "source": [
    "fig, axes = plt.subplots(figsize=(15, 4), ncols=2)\n",
    "\n",
    "labels = sorted(best_features)\n",
    "title = 'Column Features: Indicators'\n",
    "col_order = cluster_features(features.dropna().values.reshape(-1, 15).T,\n",
    "                             labels,\n",
    "                             axes[0],\n",
    "                             title)\n",
    "\n",
    "labels = list(range(1, 16))\n",
    "title = 'Row Features: Indicator Parameters'\n",
    "row_order = cluster_features(\n",
    "    features.dropna().values.reshape(-1, 15, 15).transpose((0, 2, 1)).reshape(-1, 15).T,\n",
    "    labels, axes[1], title)\n",
    "axes[0].set_xlabel('Indicators')\n",
    "axes[1].set_xlabel('Parameters')\n",
    "sns.despine()\n",
    "fig.tight_layout()\n",
    "fig.savefig(results_path / 'cnn_clustering', dpi=300)"
   ]
  },
  {
   "cell_type": "markdown",
   "metadata": {},
   "source": [
    "We reorder the features accordingly and store the result as inputs for the CNN that we will create in the next step.\n"
   ]
  },
  {
   "cell_type": "code",
   "execution_count": 23,
   "metadata": {
    "ExecuteTime": {
     "end_time": "2021-02-23T19:21:57.869035Z",
     "start_time": "2021-02-23T19:21:57.863039Z"
    }
   },
   "outputs": [],
   "source": [
    "feature_order = [f'{i:02}_{j}' for i in row_order for j in col_order]"
   ]
  },
  {
   "cell_type": "code",
   "execution_count": 24,
   "metadata": {
    "ExecuteTime": {
     "end_time": "2021-02-23T19:21:58.596134Z",
     "start_time": "2021-02-23T19:21:57.871605Z"
    }
   },
   "outputs": [],
   "source": [
    "features = features.loc[:, feature_order]"
   ]
  },
  {
   "cell_type": "code",
   "execution_count": 25,
   "metadata": {
    "ExecuteTime": {
     "end_time": "2021-02-23T19:22:56.029721Z",
     "start_time": "2021-02-23T19:21:58.597104Z"
    }
   },
   "outputs": [],
   "source": [
    "features = features.apply(pd.to_numeric, downcast='float')"
   ]
  },
  {
   "cell_type": "code",
   "execution_count": 26,
   "metadata": {
    "ExecuteTime": {
     "end_time": "2021-02-23T19:22:56.069245Z",
     "start_time": "2021-02-23T19:22:56.030777Z"
    }
   },
   "outputs": [
    {
     "name": "stdout",
     "output_type": "stream",
     "text": [
      "<class 'pandas.core.frame.DataFrame'>\n",
      "MultiIndex: 2378728 entries, ('A', Timestamp('2001-01-02 00:00:00')) to ('ZTS', Timestamp('2017-12-29 00:00:00'))\n",
      "Columns: 225 entries, 01_CMO to 11_WMA\n",
      "dtypes: float32(225)\n",
      "memory usage: 2.0+ GB\n"
     ]
    }
   ],
   "source": [
    "features.info()"
   ]
  },
  {
   "cell_type": "code",
   "execution_count": 27,
   "metadata": {
    "ExecuteTime": {
     "end_time": "2021-02-23T19:22:58.021376Z",
     "start_time": "2021-02-23T19:22:56.070350Z"
    }
   },
   "outputs": [],
   "source": [
    "features.to_hdf('data.h5', 'img_data')"
   ]
  }
 ],
 "metadata": {
  "kernelspec": {
   "display_name": "Python 3",
   "language": "python",
   "name": "python3"
  },
  "language_info": {
   "codemirror_mode": {
    "name": "ipython",
    "version": 3
   },
   "file_extension": ".py",
   "mimetype": "text/x-python",
   "name": "python",
   "nbconvert_exporter": "python",
   "pygments_lexer": "ipython3",
   "version": "3.8.5"
  },
  "toc": {
   "base_numbering": 1,
   "nav_menu": {},
   "number_sections": true,
   "sideBar": true,
   "skip_h1_title": true,
   "title_cell": "Table of Contents",
   "title_sidebar": "Contents",
   "toc_cell": false,
   "toc_position": {},
   "toc_section_display": true,
   "toc_window_display": true
  }
 },
 "nbformat": 4,
 "nbformat_minor": 2
}
