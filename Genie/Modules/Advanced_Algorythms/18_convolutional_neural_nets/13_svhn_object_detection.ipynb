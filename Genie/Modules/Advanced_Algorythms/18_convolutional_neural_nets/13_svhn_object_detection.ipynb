{
 "cells": [
  {
   "cell_type": "markdown",
   "metadata": {},
   "source": [
    "# Object Detection with Street View House Numbers"
   ]
  },
  {
   "cell_type": "markdown",
   "metadata": {},
   "source": [
    "This notebook illustrates how to build a deep CNN using Keras’ functional API to generate multiple outputs: one to predict how many digits are present, and five for the value of each in the order they appear."
   ]
  },
  {
   "cell_type": "markdown",
   "metadata": {},
   "source": [
    "## Imports & Settings"
   ]
  },
  {
   "cell_type": "code",
   "execution_count": 1,
   "metadata": {
    "ExecuteTime": {
     "end_time": "2021-02-23T06:31:18.550029Z",
     "start_time": "2021-02-23T06:31:16.887702Z"
    }
   },
   "outputs": [],
   "source": [
    "%matplotlib inline\n",
    "from pathlib import Path\n",
    "import pandas as pd\n",
    "import numpy as np\n",
    "\n",
    "import matplotlib.pyplot as plt\n",
    "import seaborn as sns\n",
    "\n",
    "from sklearn.metrics import confusion_matrix\n",
    "\n",
    "import tensorflow as tf\n",
    "from tensorflow.keras.models import Model\n",
    "from tensorflow.keras.applications.vgg16 import VGG16\n",
    "from tensorflow.keras.callbacks import ModelCheckpoint, EarlyStopping\n",
    "from tensorflow.keras.layers import (Flatten,\n",
    "                                     Dense,\n",
    "                                     BatchNormalization,\n",
    "                                     Activation,\n",
    "                                     Concatenate)\n",
    "from tensorflow.keras import backend as K\n",
    "from matplotlib.ticker import FuncFormatter"
   ]
  },
  {
   "cell_type": "code",
   "execution_count": 2,
   "metadata": {
    "ExecuteTime": {
     "end_time": "2021-02-23T06:31:18.554748Z",
     "start_time": "2021-02-23T06:31:18.551206Z"
    }
   },
   "outputs": [
    {
     "name": "stdout",
     "output_type": "stream",
     "text": [
      "Using CPU\n"
     ]
    }
   ],
   "source": [
    "gpu_devices = tf.config.experimental.list_physical_devices('GPU')\n",
    "if gpu_devices:\n",
    "    print('Using GPU')\n",
    "    tf.config.experimental.set_memory_growth(gpu_devices[0], True)\n",
    "else:\n",
    "    print('Using CPU')"
   ]
  },
  {
   "cell_type": "code",
   "execution_count": 3,
   "metadata": {
    "ExecuteTime": {
     "end_time": "2021-02-23T06:31:18.577875Z",
     "start_time": "2021-02-23T06:31:18.556746Z"
    }
   },
   "outputs": [],
   "source": [
    "sns.set_style('whitegrid')"
   ]
  },
  {
   "cell_type": "code",
   "execution_count": 4,
   "metadata": {
    "ExecuteTime": {
     "end_time": "2021-02-23T06:31:18.590860Z",
     "start_time": "2021-02-23T06:31:18.579655Z"
    }
   },
   "outputs": [],
   "source": [
    "data_path = Path('images', 'svhn')"
   ]
  },
  {
   "cell_type": "code",
   "execution_count": 5,
   "metadata": {
    "ExecuteTime": {
     "end_time": "2021-02-23T06:31:18.604077Z",
     "start_time": "2021-02-23T06:31:18.592627Z"
    }
   },
   "outputs": [],
   "source": [
    "results_path = Path('results', 'svhn')\n",
    "if not results_path.exists():\n",
    "    results_path.mkdir()"
   ]
  },
  {
   "cell_type": "markdown",
   "metadata": {},
   "source": [
    "### Settings"
   ]
  },
  {
   "cell_type": "code",
   "execution_count": 6,
   "metadata": {
    "ExecuteTime": {
     "end_time": "2020-06-21T22:47:33.329124Z",
     "start_time": "2020-06-21T22:47:33.323269Z"
    }
   },
   "outputs": [],
   "source": [
    "IMG_SIZE = 32\n",
    "IMG_SHAPE = (IMG_SIZE, IMG_SIZE, 3)\n",
    "SEQ_LENGTH = 4\n",
    "N_CLASSES = 11"
   ]
  },
  {
   "cell_type": "markdown",
   "metadata": {},
   "source": [
    "## Load Data "
   ]
  },
  {
   "cell_type": "code",
   "execution_count": 7,
   "metadata": {
    "ExecuteTime": {
     "end_time": "2020-06-21T22:47:33.421046Z",
     "start_time": "2020-06-21T22:47:33.331060Z"
    }
   },
   "outputs": [],
   "source": [
    "X_train = np.load(data_path / 'X_train.npy')\n",
    "y_train = np.load(data_path / 'y_train.npy')"
   ]
  },
  {
   "cell_type": "markdown",
   "metadata": {},
   "source": [
    "Removing the rare cases of 5-digit house numbers."
   ]
  },
  {
   "cell_type": "code",
   "execution_count": 8,
   "metadata": {
    "ExecuteTime": {
     "end_time": "2020-06-21T22:47:33.499427Z",
     "start_time": "2020-06-21T22:47:33.422656Z"
    }
   },
   "outputs": [],
   "source": [
    "X_train = X_train[y_train[:, 0] < 5]\n",
    "y_train = y_train[y_train[:, 0] < 5, :5]\n",
    "y_train[:, 0] -= 1"
   ]
  },
  {
   "cell_type": "code",
   "execution_count": 9,
   "metadata": {
    "ExecuteTime": {
     "end_time": "2020-06-21T22:47:33.539675Z",
     "start_time": "2020-06-21T22:47:33.502174Z"
    }
   },
   "outputs": [],
   "source": [
    "X_test = np.load(data_path / 'X_test.npy')\n",
    "y_test = np.load(data_path / 'y_test.npy')"
   ]
  },
  {
   "cell_type": "code",
   "execution_count": 10,
   "metadata": {
    "ExecuteTime": {
     "end_time": "2020-06-21T22:47:33.571516Z",
     "start_time": "2020-06-21T22:47:33.540841Z"
    }
   },
   "outputs": [],
   "source": [
    "X_test = X_test[y_test[:, 0] < 5]\n",
    "y_test = y_test[y_test[:, 0] < 5, :5]\n",
    "y_test[:, 0] -= 1"
   ]
  },
  {
   "cell_type": "code",
   "execution_count": 11,
   "metadata": {
    "ExecuteTime": {
     "end_time": "2020-06-21T22:47:33.581705Z",
     "start_time": "2020-06-21T22:47:33.572843Z"
    }
   },
   "outputs": [
    {
     "data": {
      "text/plain": [
       "0     4\n",
       "1    10\n",
       "2    11\n",
       "3    11\n",
       "4    11\n",
       "dtype: int64"
      ]
     },
     "execution_count": 11,
     "metadata": {},
     "output_type": "execute_result"
    }
   ],
   "source": [
    "pd.DataFrame(y_train).nunique()"
   ]
  },
  {
   "cell_type": "code",
   "execution_count": 12,
   "metadata": {
    "ExecuteTime": {
     "end_time": "2020-06-21T22:47:33.586550Z",
     "start_time": "2020-06-21T22:47:33.583453Z"
    }
   },
   "outputs": [
    {
     "data": {
      "text/plain": [
       "(33392, 5)"
      ]
     },
     "execution_count": 12,
     "metadata": {},
     "output_type": "execute_result"
    }
   ],
   "source": [
    "y_train.shape"
   ]
  },
  {
   "cell_type": "markdown",
   "metadata": {},
   "source": [
    "## Best Architecture"
   ]
  },
  {
   "cell_type": "markdown",
   "metadata": {},
   "source": [
    "[Multi-digit Number Recognition from Street View Imagery using Deep Convolutional Neural Networks](https://arxiv.org/abs/1312.6082), Goodfellow, et al, 2014"
   ]
  },
  {
   "cell_type": "code",
   "execution_count": 13,
   "metadata": {
    "ExecuteTime": {
     "end_time": "2020-06-21T22:47:33.593612Z",
     "start_time": "2020-06-21T22:47:33.587628Z"
    }
   },
   "outputs": [],
   "source": [
    "digit_pos = {1: [4, 14], 2: [14, 25], 3: [25, 36], 4: [36, 47]}"
   ]
  },
  {
   "cell_type": "code",
   "execution_count": 14,
   "metadata": {
    "ExecuteTime": {
     "end_time": "2020-06-21T22:47:33.602882Z",
     "start_time": "2020-06-21T22:47:33.594860Z"
    }
   },
   "outputs": [],
   "source": [
    "def weighted_accuracy(y_true, y_pred):\n",
    "    n_digits_pred = K.argmax(y_pred[:, :SEQ_LENGTH], axis=1)\n",
    "\n",
    "    digit_preds = {}\n",
    "    for digit, (start, end) in digit_pos.items():\n",
    "        digit_preds[digit] = K.argmax(y_pred[:, start:end], axis=1)\n",
    "    preds = tf.dtypes.cast(tf.stack((n_digits_pred,\n",
    "                                     digit_preds[1],\n",
    "                                     digit_preds[2],\n",
    "                                     digit_preds[3],\n",
    "                                     digit_preds[4]), axis=1), tf.float32)\n",
    "\n",
    "    return K.mean(K.sum(tf.dtypes.cast(K.equal(y_true, preds), tf.int64), axis=1) / 5)"
   ]
  },
  {
   "cell_type": "code",
   "execution_count": 15,
   "metadata": {
    "ExecuteTime": {
     "end_time": "2020-06-21T22:47:33.614552Z",
     "start_time": "2020-06-21T22:47:33.604375Z"
    }
   },
   "outputs": [],
   "source": [
    "def weighted_entropy(y_true, y_pred):\n",
    "    cce = tf.keras.losses.SparseCategoricalCrossentropy()\n",
    "    n_digits = y_pred[:, :SEQ_LENGTH]\n",
    "\n",
    "    digits = {}\n",
    "    for digit, (start, end) in digit_pos.items():\n",
    "        digits[digit] = y_pred[:, start:end]\n",
    "    return (cce(y_true[:, 0], n_digits) +\n",
    "            cce(y_true[:, 1], digits[1]) +\n",
    "            cce(y_true[:, 2], digits[2]) +\n",
    "            cce(y_true[:, 3], digits[3]) +\n",
    "            cce(y_true[:, 4], digits[4])) / 5"
   ]
  },
  {
   "cell_type": "code",
   "execution_count": 16,
   "metadata": {
    "ExecuteTime": {
     "end_time": "2020-06-21T22:47:34.551253Z",
     "start_time": "2020-06-21T22:47:33.616023Z"
    }
   },
   "outputs": [],
   "source": [
    "vgg16 = VGG16(input_shape=IMG_SHAPE, include_top=False, weights='imagenet')\n",
    "vgg16.trainable = False\n",
    "x = vgg16.output\n",
    "x = Flatten()(x)\n",
    "x = BatchNormalization()(x)\n",
    "x = Dense(256)(x)\n",
    "x = BatchNormalization()(x)\n",
    "x = Activation('relu')(x)\n",
    "x = Dense(128)(x)\n",
    "x = BatchNormalization()(x)\n",
    "x = Activation('relu')(x)\n",
    "n_digits = Dense(SEQ_LENGTH, activation='softmax', name='n_digits')(x)\n",
    "digit1 = Dense(N_CLASSES-1, activation='softmax', name='d1')(x)\n",
    "digit2 = Dense(N_CLASSES, activation='softmax', name='d2')(x)\n",
    "digit3 = Dense(N_CLASSES, activation='softmax', name='d3')(x)\n",
    "digit4 = Dense(N_CLASSES, activation='softmax', name='d4')(x)\n",
    "predictions = Concatenate()([n_digits, digit1, digit2, digit3, digit4])\n",
    "\n",
    "model = Model(inputs=vgg16.input, outputs=predictions)"
   ]
  },
  {
   "cell_type": "code",
   "execution_count": 17,
   "metadata": {
    "ExecuteTime": {
     "end_time": "2020-06-21T22:47:34.562923Z",
     "start_time": "2020-06-21T22:47:34.552629Z"
    }
   },
   "outputs": [],
   "source": [
    "model.compile(optimizer='adam',\n",
    "              loss=weighted_entropy,\n",
    "              metrics=[weighted_accuracy])"
   ]
  },
  {
   "cell_type": "markdown",
   "metadata": {},
   "source": [
    "As a result, the model produces five distinct outputs that we can evaluate."
   ]
  },
  {
   "cell_type": "markdown",
   "metadata": {},
   "source": [
    "## Define Callbacks"
   ]
  },
  {
   "cell_type": "code",
   "execution_count": 18,
   "metadata": {
    "ExecuteTime": {
     "end_time": "2020-06-21T22:47:34.578201Z",
     "start_time": "2020-06-21T22:47:34.564583Z"
    }
   },
   "outputs": [],
   "source": [
    "svhn_path = (results_path / 'svhn.weights.best.hdf5').as_posix()\n",
    "checkpointer = ModelCheckpoint(filepath=svhn_path, \n",
    "                               verbose=1, \n",
    "                               monitor='val_weighted_accuracy',\n",
    "                               save_best_only=True)"
   ]
  },
  {
   "cell_type": "code",
   "execution_count": 19,
   "metadata": {
    "ExecuteTime": {
     "end_time": "2020-06-21T22:47:34.589806Z",
     "start_time": "2020-06-21T22:47:34.579325Z"
    }
   },
   "outputs": [],
   "source": [
    "early_stopping = EarlyStopping(monitor='val_weighted_accuracy', \n",
    "                               patience=5)"
   ]
  },
  {
   "cell_type": "markdown",
   "metadata": {},
   "source": [
    "## Train Transfer Model"
   ]
  },
  {
   "cell_type": "code",
   "execution_count": 20,
   "metadata": {
    "ExecuteTime": {
     "end_time": "2020-06-21T22:47:34.597557Z",
     "start_time": "2020-06-21T22:47:34.590823Z"
    }
   },
   "outputs": [],
   "source": [
    "epochs = 50"
   ]
  },
  {
   "cell_type": "code",
   "execution_count": 21,
   "metadata": {
    "ExecuteTime": {
     "end_time": "2020-06-21T22:49:40.715789Z",
     "start_time": "2020-06-21T22:47:34.598687Z"
    }
   },
   "outputs": [
    {
     "name": "stdout",
     "output_type": "stream",
     "text": [
      "Epoch 1/50\n",
      "940/940 [==============================] - ETA: 0s - loss: 1.0570 - weighted_accuracy: 0.6429\n",
      "Epoch 00001: val_weighted_accuracy improved from -inf to 0.67796, saving model to results/svhn/cnn.weights.best.hdf5\n",
      "940/940 [==============================] - 10s 11ms/step - loss: 1.0570 - weighted_accuracy: 0.6429 - val_loss: 0.9570 - val_weighted_accuracy: 0.6780\n",
      "Epoch 2/50\n",
      "939/940 [============================>.] - ETA: 0s - loss: 0.9246 - weighted_accuracy: 0.6835\n",
      "Epoch 00002: val_weighted_accuracy improved from 0.67796 to 0.68603, saving model to results/svhn/cnn.weights.best.hdf5\n",
      "940/940 [==============================] - 10s 11ms/step - loss: 0.9247 - weighted_accuracy: 0.6834 - val_loss: 0.9284 - val_weighted_accuracy: 0.6860\n",
      "Epoch 3/50\n",
      "937/940 [============================>.] - ETA: 0s - loss: 0.8844 - weighted_accuracy: 0.6978\n",
      "Epoch 00003: val_weighted_accuracy improved from 0.68603 to 0.69097, saving model to results/svhn/cnn.weights.best.hdf5\n",
      "940/940 [==============================] - 10s 11ms/step - loss: 0.8843 - weighted_accuracy: 0.6979 - val_loss: 0.9175 - val_weighted_accuracy: 0.6910\n",
      "Epoch 4/50\n",
      "939/940 [============================>.] - ETA: 0s - loss: 0.8490 - weighted_accuracy: 0.7088\n",
      "Epoch 00004: val_weighted_accuracy improved from 0.69097 to 0.69671, saving model to results/svhn/cnn.weights.best.hdf5\n",
      "940/940 [==============================] - 10s 11ms/step - loss: 0.8490 - weighted_accuracy: 0.7088 - val_loss: 0.9014 - val_weighted_accuracy: 0.6967\n",
      "Epoch 5/50\n",
      "936/940 [============================>.] - ETA: 0s - loss: 0.8199 - weighted_accuracy: 0.7196\n",
      "Epoch 00005: val_weighted_accuracy improved from 0.69671 to 0.69742, saving model to results/svhn/cnn.weights.best.hdf5\n",
      "940/940 [==============================] - 10s 11ms/step - loss: 0.8200 - weighted_accuracy: 0.7194 - val_loss: 0.9036 - val_weighted_accuracy: 0.6974\n",
      "Epoch 6/50\n",
      "935/940 [============================>.] - ETA: 0s - loss: 0.7952 - weighted_accuracy: 0.7266\n",
      "Epoch 00006: val_weighted_accuracy improved from 0.69742 to 0.69829, saving model to results/svhn/cnn.weights.best.hdf5\n",
      "940/940 [==============================] - 10s 11ms/step - loss: 0.7952 - weighted_accuracy: 0.7266 - val_loss: 0.9069 - val_weighted_accuracy: 0.6983\n",
      "Epoch 7/50\n",
      "935/940 [============================>.] - ETA: 0s - loss: 0.7745 - weighted_accuracy: 0.7347\n",
      "Epoch 00007: val_weighted_accuracy improved from 0.69829 to 0.70073, saving model to results/svhn/cnn.weights.best.hdf5\n",
      "940/940 [==============================] - 10s 11ms/step - loss: 0.7745 - weighted_accuracy: 0.7347 - val_loss: 0.9127 - val_weighted_accuracy: 0.7007\n",
      "Epoch 8/50\n",
      "937/940 [============================>.] - ETA: 0s - loss: 0.7568 - weighted_accuracy: 0.7397\n",
      "Epoch 00008: val_weighted_accuracy did not improve from 0.70073\n",
      "940/940 [==============================] - 10s 11ms/step - loss: 0.7569 - weighted_accuracy: 0.7396 - val_loss: 0.9234 - val_weighted_accuracy: 0.6983\n",
      "Epoch 9/50\n",
      "939/940 [============================>.] - ETA: 0s - loss: 0.7378 - weighted_accuracy: 0.7452\n",
      "Epoch 00009: val_weighted_accuracy did not improve from 0.70073\n",
      "940/940 [==============================] - 10s 11ms/step - loss: 0.7379 - weighted_accuracy: 0.7450 - val_loss: 0.9311 - val_weighted_accuracy: 0.6971\n",
      "Epoch 10/50\n",
      "938/940 [============================>.] - ETA: 0s - loss: 0.7192 - weighted_accuracy: 0.7521\n",
      "Epoch 00010: val_weighted_accuracy did not improve from 0.70073\n",
      "940/940 [==============================] - 10s 11ms/step - loss: 0.7193 - weighted_accuracy: 0.7520 - val_loss: 0.9380 - val_weighted_accuracy: 0.6958\n",
      "Epoch 11/50\n",
      "937/940 [============================>.] - ETA: 0s - loss: 0.7066 - weighted_accuracy: 0.7557\n",
      "Epoch 00011: val_weighted_accuracy did not improve from 0.70073\n",
      "940/940 [==============================] - 10s 11ms/step - loss: 0.7070 - weighted_accuracy: 0.7554 - val_loss: 0.9588 - val_weighted_accuracy: 0.6966\n",
      "Epoch 12/50\n",
      "937/940 [============================>.] - ETA: 0s - loss: 0.6923 - weighted_accuracy: 0.7615\n",
      "Epoch 00012: val_weighted_accuracy did not improve from 0.70073\n",
      "940/940 [==============================] - 10s 11ms/step - loss: 0.6925 - weighted_accuracy: 0.7612 - val_loss: 0.9697 - val_weighted_accuracy: 0.6980\n"
     ]
    }
   ],
   "source": [
    "result = model.fit(x=X_train,\n",
    "                    y=y_train,\n",
    "                    validation_split=.1,\n",
    "                    batch_size=32,\n",
    "                    epochs=epochs,\n",
    "                    verbose=1,\n",
    "                    callbacks=[checkpointer, early_stopping])"
   ]
  },
  {
   "cell_type": "markdown",
   "metadata": {},
   "source": [
    "### Evaluate Results"
   ]
  },
  {
   "cell_type": "code",
   "execution_count": 22,
   "metadata": {
    "ExecuteTime": {
     "end_time": "2020-06-21T22:49:40.721759Z",
     "start_time": "2020-06-21T22:49:40.718448Z"
    }
   },
   "outputs": [],
   "source": [
    "metrics = pd.DataFrame(result.history)\n",
    "initial_epochs = len(metrics)"
   ]
  },
  {
   "cell_type": "code",
   "execution_count": 23,
   "metadata": {
    "ExecuteTime": {
     "end_time": "2020-06-21T22:49:43.797793Z",
     "start_time": "2020-06-21T22:49:40.723438Z"
    }
   },
   "outputs": [
    {
     "name": "stdout",
     "output_type": "stream",
     "text": [
      "409/409 [==============================] - 3s 7ms/step\n"
     ]
    }
   ],
   "source": [
    "y_pred = model.predict(X_test, verbose=1)"
   ]
  },
  {
   "cell_type": "code",
   "execution_count": 24,
   "metadata": {
    "ExecuteTime": {
     "end_time": "2020-06-21T22:49:43.801856Z",
     "start_time": "2020-06-21T22:49:43.799234Z"
    }
   },
   "outputs": [],
   "source": [
    "n_digits = y_pred[:, :SEQ_LENGTH]\n",
    "digits = {}\n",
    "for digit, (start, end) in digit_pos.items():\n",
    "    digits[digit] = y_pred[:, start:end]"
   ]
  },
  {
   "cell_type": "code",
   "execution_count": 25,
   "metadata": {
    "ExecuteTime": {
     "end_time": "2020-06-21T22:49:43.811605Z",
     "start_time": "2020-06-21T22:49:43.803140Z"
    },
    "scrolled": true
   },
   "outputs": [
    {
     "data": {
      "text/plain": [
       "0.829710699525486"
      ]
     },
     "execution_count": 25,
     "metadata": {},
     "output_type": "execute_result"
    }
   ],
   "source": [
    "(y_test[:, 0] == np.argmax(n_digits, axis=1)).sum()/len(n_digits)"
   ]
  },
  {
   "cell_type": "code",
   "execution_count": 27,
   "metadata": {
    "ExecuteTime": {
     "end_time": "2020-06-21T22:49:43.838265Z",
     "start_time": "2020-06-21T22:49:43.820295Z"
    }
   },
   "outputs": [
    {
     "data": {
      "text/plain": [
       "array([[1907,  559,   16,    1],\n",
       "       [ 347, 7257,  739,   13],\n",
       "       [  12,  357, 1606,  106],\n",
       "       [   0,    3,   72,   71]])"
      ]
     },
     "execution_count": 27,
     "metadata": {},
     "output_type": "execute_result"
    }
   ],
   "source": [
    "confusion_matrix(y_true=y_test[:, 0], y_pred=np.argmax(n_digits, axis=1))"
   ]
  },
  {
   "cell_type": "code",
   "execution_count": 28,
   "metadata": {
    "ExecuteTime": {
     "end_time": "2020-06-21T22:49:43.847640Z",
     "start_time": "2020-06-21T22:49:43.839615Z"
    }
   },
   "outputs": [],
   "source": [
    "accuracy = np.zeros_like(y_test)\n",
    "accuracy[:, 0] = (y_test[:, 0] == np.argmax(n_digits, axis=1))\n",
    "for i in range(1, 5):\n",
    "    accuracy[:, i] = (y_test[:, i] == np.argmax(digits[i], axis=1))"
   ]
  },
  {
   "cell_type": "code",
   "execution_count": 29,
   "metadata": {
    "ExecuteTime": {
     "end_time": "2020-06-21T22:49:43.853626Z",
     "start_time": "2020-06-21T22:49:43.849114Z"
    }
   },
   "outputs": [],
   "source": [
    "acc_by_output = {}\n",
    "for i in range(5):\n",
    "    acc_by_output[i] = accuracy[:, i].sum()/accuracy[:, i].shape[0]"
   ]
  },
  {
   "cell_type": "code",
   "execution_count": 30,
   "metadata": {
    "ExecuteTime": {
     "end_time": "2020-06-21T22:49:43.864051Z",
     "start_time": "2020-06-21T22:49:43.855092Z"
    }
   },
   "outputs": [],
   "source": [
    "acc_up_to_out = {}\n",
    "for i in range(1, 6):\n",
    "    r = accuracy[:, :i].all(1)\n",
    "    acc_up_to_out[i-1] = r.sum()/r.shape[0]"
   ]
  },
  {
   "cell_type": "code",
   "execution_count": 31,
   "metadata": {
    "ExecuteTime": {
     "end_time": "2020-06-21T22:49:44.063802Z",
     "start_time": "2020-06-21T22:49:43.865700Z"
    }
   },
   "outputs": [
    {
     "data": {
      "image/png": "[encoded data removed]",
      "text/plain": [
       "<Figure size 432x288 with 1 Axes>"
      ]
     },
     "metadata": {},
     "output_type": "display_data"
    }
   ],
   "source": [
    "pd.DataFrame({'acc1': acc_by_output, 'acc2': acc_up_to_out}).plot.bar()\n",
    "sns.despine();"
   ]
  },
  {
   "cell_type": "markdown",
   "metadata": {},
   "source": [
    "## Fine Tune VGG16 weights"
   ]
  },
  {
   "cell_type": "code",
   "execution_count": 32,
   "metadata": {
    "ExecuteTime": {
     "end_time": "2020-06-21T22:49:44.069035Z",
     "start_time": "2020-06-21T22:49:44.065240Z"
    }
   },
   "outputs": [],
   "source": [
    "vgg16.trainable = True\n",
    "# Fine-tune from this layer onwards\n",
    "start_fine_tuning_at = 1\n",
    "\n",
    "# Freeze all the layers before the `fine_tune_at` layer\n",
    "for layer in vgg16.layers[:start_fine_tuning_at]:\n",
    "    layer.trainable =  False"
   ]
  },
  {
   "cell_type": "code",
   "execution_count": 33,
   "metadata": {
    "ExecuteTime": {
     "end_time": "2020-06-21T22:49:44.087667Z",
     "start_time": "2020-06-21T22:49:44.070675Z"
    }
   },
   "outputs": [],
   "source": [
    "model.compile(optimizer='adam',\n",
    "              loss=weighted_entropy,\n",
    "              metrics=[weighted_accuracy])"
   ]
  },
  {
   "cell_type": "code",
   "execution_count": 34,
   "metadata": {
    "ExecuteTime": {
     "end_time": "2020-06-21T22:49:44.091960Z",
     "start_time": "2020-06-21T22:49:44.089229Z"
    }
   },
   "outputs": [],
   "source": [
    "fine_tune_epochs = 50\n",
    "total_epochs = initial_epochs + fine_tune_epochs"
   ]
  },
  {
   "cell_type": "code",
   "execution_count": 35,
   "metadata": {
    "ExecuteTime": {
     "end_time": "2020-06-21T23:05:19.660423Z",
     "start_time": "2020-06-21T22:49:44.094043Z"
    }
   },
   "outputs": [
    {
     "name": "stdout",
     "output_type": "stream",
     "text": [
      "Epoch 12/62\n",
      "940/940 [==============================] - 28s 30ms/step - loss: 1.1122 - weighted_accuracy: 0.6255 - val_loss: 1.4838 - val_weighted_accuracy: 0.5645\n",
      "Epoch 13/62\n",
      "940/940 [==============================] - 27s 29ms/step - loss: 0.7990 - weighted_accuracy: 0.7213 - val_loss: 0.7274 - val_weighted_accuracy: 0.7598\n",
      "Epoch 14/62\n",
      "940/940 [==============================] - 28s 29ms/step - loss: 0.5737 - weighted_accuracy: 0.8069 - val_loss: 0.6773 - val_weighted_accuracy: 0.8038\n",
      "Epoch 15/62\n",
      "940/940 [==============================] - 27s 29ms/step - loss: 0.4478 - weighted_accuracy: 0.8533 - val_loss: 0.5126 - val_weighted_accuracy: 0.8332\n",
      "Epoch 16/62\n",
      "940/940 [==============================] - 27s 29ms/step - loss: 0.3589 - weighted_accuracy: 0.8841 - val_loss: 0.3812 - val_weighted_accuracy: 0.8817\n",
      "Epoch 17/62\n",
      "940/940 [==============================] - 27s 29ms/step - loss: 0.3012 - weighted_accuracy: 0.9045 - val_loss: 0.5555 - val_weighted_accuracy: 0.8590\n",
      "Epoch 18/62\n",
      "940/940 [==============================] - 27s 29ms/step - loss: 0.2549 - weighted_accuracy: 0.9193 - val_loss: 0.3523 - val_weighted_accuracy: 0.8995\n",
      "Epoch 19/62\n",
      "940/940 [==============================] - 28s 30ms/step - loss: 0.3463 - weighted_accuracy: 0.8900 - val_loss: 4.3139 - val_weighted_accuracy: 0.4720\n",
      "Epoch 20/62\n",
      "940/940 [==============================] - 27s 29ms/step - loss: 0.2846 - weighted_accuracy: 0.9100 - val_loss: 0.3679 - val_weighted_accuracy: 0.8956\n",
      "Epoch 21/62\n",
      "940/940 [==============================] - 27s 29ms/step - loss: 0.1913 - weighted_accuracy: 0.9411 - val_loss: 0.2391 - val_weighted_accuracy: 0.9345\n",
      "Epoch 22/62\n",
      "940/940 [==============================] - 28s 29ms/step - loss: 0.1625 - weighted_accuracy: 0.9497 - val_loss: 0.2586 - val_weighted_accuracy: 0.9305\n",
      "Epoch 23/62\n",
      "940/940 [==============================] - 27s 29ms/step - loss: 0.1505 - weighted_accuracy: 0.9532 - val_loss: 0.2329 - val_weighted_accuracy: 0.9360\n",
      "Epoch 24/62\n",
      "940/940 [==============================] - 28s 30ms/step - loss: 0.1301 - weighted_accuracy: 0.9591 - val_loss: 0.3306 - val_weighted_accuracy: 0.9168\n",
      "Epoch 25/62\n",
      "940/940 [==============================] - 27s 29ms/step - loss: 0.1247 - weighted_accuracy: 0.9609 - val_loss: 0.2463 - val_weighted_accuracy: 0.9360\n",
      "Epoch 26/62\n",
      "940/940 [==============================] - 27s 29ms/step - loss: 0.1177 - weighted_accuracy: 0.9629 - val_loss: 0.2444 - val_weighted_accuracy: 0.9374\n",
      "Epoch 27/62\n",
      "940/940 [==============================] - 28s 30ms/step - loss: 0.1076 - weighted_accuracy: 0.9660 - val_loss: 0.2647 - val_weighted_accuracy: 0.9308\n",
      "Epoch 28/62\n",
      "940/940 [==============================] - 27s 29ms/step - loss: 0.0974 - weighted_accuracy: 0.9691 - val_loss: 0.2547 - val_weighted_accuracy: 0.9346\n",
      "Epoch 29/62\n",
      "940/940 [==============================] - 28s 29ms/step - loss: 0.0928 - weighted_accuracy: 0.9710 - val_loss: 0.2480 - val_weighted_accuracy: 0.9382\n",
      "Epoch 30/62\n",
      "940/940 [==============================] - 27s 29ms/step - loss: 0.0844 - weighted_accuracy: 0.9733 - val_loss: 0.2474 - val_weighted_accuracy: 0.9392\n",
      "Epoch 31/62\n",
      "940/940 [==============================] - 27s 29ms/step - loss: 0.0791 - weighted_accuracy: 0.9750 - val_loss: 0.2747 - val_weighted_accuracy: 0.9322\n",
      "Epoch 32/62\n",
      "940/940 [==============================] - 28s 29ms/step - loss: 0.0727 - weighted_accuracy: 0.9767 - val_loss: 0.2443 - val_weighted_accuracy: 0.9415\n",
      "Epoch 33/62\n",
      "940/940 [==============================] - 27s 29ms/step - loss: 0.0697 - weighted_accuracy: 0.9777 - val_loss: 0.3545 - val_weighted_accuracy: 0.9268\n",
      "Epoch 34/62\n",
      "940/940 [==============================] - 27s 29ms/step - loss: 0.0672 - weighted_accuracy: 0.9786 - val_loss: 0.2289 - val_weighted_accuracy: 0.9473\n",
      "Epoch 35/62\n",
      "940/940 [==============================] - 28s 29ms/step - loss: 0.0666 - weighted_accuracy: 0.9792 - val_loss: 0.2312 - val_weighted_accuracy: 0.9500\n",
      "Epoch 36/62\n",
      "940/940 [==============================] - 27s 29ms/step - loss: 0.0538 - weighted_accuracy: 0.9827 - val_loss: 0.2671 - val_weighted_accuracy: 0.9453\n",
      "Epoch 37/62\n",
      "940/940 [==============================] - 28s 30ms/step - loss: 0.0544 - weighted_accuracy: 0.9824 - val_loss: 0.2291 - val_weighted_accuracy: 0.9481\n",
      "Epoch 38/62\n",
      "940/940 [==============================] - 27s 29ms/step - loss: 0.0641 - weighted_accuracy: 0.9801 - val_loss: 0.2299 - val_weighted_accuracy: 0.9500\n",
      "Epoch 39/62\n",
      "940/940 [==============================] - 27s 29ms/step - loss: 0.0427 - weighted_accuracy: 0.9868 - val_loss: 0.2624 - val_weighted_accuracy: 0.9452\n",
      "Epoch 40/62\n",
      "940/940 [==============================] - 28s 29ms/step - loss: 0.0445 - weighted_accuracy: 0.9859 - val_loss: 0.2670 - val_weighted_accuracy: 0.9512\n",
      "Epoch 41/62\n",
      "940/940 [==============================] - 27s 29ms/step - loss: 0.0458 - weighted_accuracy: 0.9854 - val_loss: 0.2708 - val_weighted_accuracy: 0.9504\n",
      "Epoch 42/62\n",
      "940/940 [==============================] - 27s 29ms/step - loss: 0.0413 - weighted_accuracy: 0.9869 - val_loss: 0.2706 - val_weighted_accuracy: 0.9498\n",
      "Epoch 43/62\n",
      "940/940 [==============================] - 27s 29ms/step - loss: 0.0421 - weighted_accuracy: 0.9869 - val_loss: 0.2810 - val_weighted_accuracy: 0.9481\n",
      "Epoch 44/62\n",
      "940/940 [==============================] - 27s 29ms/step - loss: 0.0385 - weighted_accuracy: 0.9876 - val_loss: 0.3396 - val_weighted_accuracy: 0.9430\n",
      "Epoch 45/62\n",
      "940/940 [==============================] - 28s 29ms/step - loss: 0.0410 - weighted_accuracy: 0.9871 - val_loss: 0.2367 - val_weighted_accuracy: 0.9486\n"
     ]
    }
   ],
   "source": [
    "result_fine_tune = model.fit(x=X_train,\n",
    "                              y=y_train,\n",
    "                              validation_split=.1,\n",
    "                              batch_size=32,\n",
    "                              epochs=total_epochs,\n",
    "                              initial_epoch=history.epoch[-1],\n",
    "                              callbacks=[early_stopping])"
   ]
  },
  {
   "cell_type": "code",
   "execution_count": 36,
   "metadata": {
    "ExecuteTime": {
     "end_time": "2020-06-21T23:05:19.678196Z",
     "start_time": "2020-06-21T23:05:19.661874Z"
    }
   },
   "outputs": [],
   "source": [
    "metrics_tuned = metrics.append(pd.DataFrame(result_fine_tune.history), ignore_index=True)"
   ]
  },
  {
   "cell_type": "code",
   "execution_count": 37,
   "metadata": {
    "ExecuteTime": {
     "end_time": "2020-06-21T23:05:19.691349Z",
     "start_time": "2020-06-21T23:05:19.679670Z"
    }
   },
   "outputs": [
    {
     "name": "stdout",
     "output_type": "stream",
     "text": [
      "<class 'pandas.core.frame.DataFrame'>\n",
      "RangeIndex: 46 entries, 0 to 45\n",
      "Data columns (total 4 columns):\n",
      " #   Column                 Non-Null Count  Dtype  \n",
      "---  ------                 --------------  -----  \n",
      " 0   loss                   46 non-null     float64\n",
      " 1   weighted_accuracy      46 non-null     float64\n",
      " 2   val_loss               46 non-null     float64\n",
      " 3   val_weighted_accuracy  46 non-null     float64\n",
      "dtypes: float64(4)\n",
      "memory usage: 1.6 KB\n"
     ]
    }
   ],
   "source": [
    "metrics_tuned.info()"
   ]
  },
  {
   "cell_type": "code",
   "execution_count": 38,
   "metadata": {
    "ExecuteTime": {
     "end_time": "2020-06-21T23:05:20.290854Z",
     "start_time": "2020-06-21T23:05:19.692446Z"
    }
   },
   "outputs": [
    {
     "data": {
      "image/png": "[encoded data removed]",
      "text/plain": [
       "<Figure size 1080x288 with 2 Axes>"
      ]
     },
     "metadata": {},
     "output_type": "display_data"
    }
   ],
   "source": [
    "fig, axes = plt.subplots(ncols=2, figsize=(15, 4))\n",
    "metrics_tuned[['loss', 'val_loss']].plot(ax=axes[1], title='Cross-Entropy Loss')\n",
    "metrics_tuned[['weighted_accuracy', 'val_weighted_accuracy']].plot(ax=axes[0], title=f'Accuracy (Best: {metrics_tuned.val_weighted_accuracy.max():.2%})')\n",
    "axes[0].yaxis.set_major_formatter(FuncFormatter(lambda y, _: '{:.0%}'.format(y)))\n",
    "axes[0].set_ylabel('Accuracy')\n",
    "axes[1].set_ylabel('Loss')\n",
    "for ax in axes:\n",
    "    ax.axvline(14, ls='--', lw=1, c='k')\n",
    "    ax.legend(['Training', 'Validation', 'Start Fine Tuning'])\n",
    "    ax.set_xlabel('Epoch')\n",
    "fig.tight_layout()\n",
    "fig.savefig(results_path / 'transfer_learning_svhn');"
   ]
  }
 ],
 "metadata": {
  "kernelspec": {
   "display_name": "Python 3",
   "language": "python",
   "name": "python3"
  },
  "language_info": {
   "codemirror_mode": {
    "name": "ipython",
    "version": 3
   },
   "file_extension": ".py",
   "mimetype": "text/x-python",
   "name": "python",
   "nbconvert_exporter": "python",
   "pygments_lexer": "ipython3",
   "version": "3.8.8"
  },
  "toc": {
   "base_numbering": 1,
   "nav_menu": {},
   "number_sections": true,
   "sideBar": true,
   "skip_h1_title": true,
   "title_cell": "Table of Contents",
   "title_sidebar": "Contents",
   "toc_cell": false,
   "toc_position": {
    "height": "calc(100% - 180px)",
    "left": "10px",
    "top": "150px",
    "width": "380px"
   },
   "toc_section_display": true,
   "toc_window_display": true
  }
 },
 "nbformat": 4,
 "nbformat_minor": 4
}
