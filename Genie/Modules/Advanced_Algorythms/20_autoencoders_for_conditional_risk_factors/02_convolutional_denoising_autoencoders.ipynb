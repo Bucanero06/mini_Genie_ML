{
 "cells": [
  {
   "cell_type": "markdown",
   "metadata": {},
   "source": [
    "# Convolutional & Denoising Autoencoders"
   ]
  },
  {
   "cell_type": "markdown",
   "metadata": {},
   "source": [
    "The insights from Chapter 17, Convolutional Neural Networks, suggest we incorporate convolutional layers into the autoencoder to extract information characteristic of the grid-like structure of image data."
   ]
  },
  {
   "cell_type": "markdown",
   "metadata": {},
   "source": [
    "Source: https://blog.keras.io/building-autoencoders-in-keras.html"
   ]
  },
  {
   "cell_type": "markdown",
   "metadata": {},
   "source": [
    "## Imports & Settings"
   ]
  },
  {
   "cell_type": "code",
   "execution_count": 1,
   "metadata": {
    "ExecuteTime": {
     "end_time": "2021-02-24T00:38:21.674012Z",
     "start_time": "2021-02-24T00:38:20.205423Z"
    },
    "slideshow": {
     "slide_type": "skip"
    }
   },
   "outputs": [],
   "source": [
    "%matplotlib inline\n",
    "\n",
    "from pathlib import Path\n",
    "import pandas as pd\n",
    "import numpy as np\n",
    "from numpy.random import choice\n",
    "\n",
    "import tensorflow as tf\n",
    "from tensorflow.keras.layers import Input, Conv2D, MaxPooling2D, UpSampling2D\n",
    "from tensorflow.keras.models import Model\n",
    "from tensorflow.keras.callbacks import EarlyStopping, ModelCheckpoint\n",
    "from tensorflow.keras.datasets import fashion_mnist\n",
    "\n",
    "import matplotlib.pyplot as plt\n",
    "import seaborn as sns"
   ]
  },
  {
   "cell_type": "code",
   "execution_count": 2,
   "metadata": {
    "ExecuteTime": {
     "end_time": "2021-02-24T00:38:21.710940Z",
     "start_time": "2021-02-24T00:38:21.674987Z"
    }
   },
   "outputs": [
    {
     "name": "stdout",
     "output_type": "stream",
     "text": [
      "Using CPU\n"
     ]
    }
   ],
   "source": [
    "gpu_devices = tf.config.experimental.list_physical_devices('GPU')\n",
    "if gpu_devices:\n",
    "    print('Using GPU')\n",
    "    tf.config.experimental.set_memory_growth(gpu_devices[0], True)\n",
    "else:\n",
    "    print('Using CPU')"
   ]
  },
  {
   "cell_type": "code",
   "execution_count": 3,
   "metadata": {
    "ExecuteTime": {
     "end_time": "2021-02-24T00:38:21.718936Z",
     "start_time": "2021-02-24T00:38:21.711996Z"
    }
   },
   "outputs": [],
   "source": [
    "n_classes = 10 # all examples have 10 classes"
   ]
  },
  {
   "cell_type": "code",
   "execution_count": 4,
   "metadata": {
    "ExecuteTime": {
     "end_time": "2021-02-24T00:38:21.727198Z",
     "start_time": "2021-02-24T00:38:21.719856Z"
    }
   },
   "outputs": [],
   "source": [
    "sns.set_style('white')\n",
    "cmap = sns.color_palette('Paired', n_classes)"
   ]
  },
  {
   "cell_type": "code",
   "execution_count": 5,
   "metadata": {
    "ExecuteTime": {
     "end_time": "2021-02-24T00:38:21.735585Z",
     "start_time": "2021-02-24T00:38:21.728139Z"
    }
   },
   "outputs": [],
   "source": [
    "results_path = Path('results', 'fashion_mnist')\n",
    "if not results_path.exists():\n",
    "    results_path.mkdir(parents=True)"
   ]
  },
  {
   "cell_type": "markdown",
   "metadata": {
    "slideshow": {
     "slide_type": "slide"
    }
   },
   "source": [
    "## Fashion MNIST Data"
   ]
  },
  {
   "cell_type": "code",
   "execution_count": 6,
   "metadata": {
    "ExecuteTime": {
     "end_time": "2021-02-24T00:38:22.013514Z",
     "start_time": "2021-02-24T00:38:21.736610Z"
    }
   },
   "outputs": [],
   "source": [
    "(X_train, y_train), (X_test, y_test) = fashion_mnist.load_data()"
   ]
  },
  {
   "cell_type": "code",
   "execution_count": 7,
   "metadata": {
    "ExecuteTime": {
     "end_time": "2021-02-24T00:38:22.018183Z",
     "start_time": "2021-02-24T00:38:22.014613Z"
    }
   },
   "outputs": [
    {
     "data": {
      "text/plain": [
       "((60000, 28, 28), (10000, 28, 28))"
      ]
     },
     "execution_count": 7,
     "metadata": {},
     "output_type": "execute_result"
    }
   ],
   "source": [
    "X_train.shape, X_test.shape"
   ]
  },
  {
   "cell_type": "code",
   "execution_count": 8,
   "metadata": {
    "ExecuteTime": {
     "end_time": "2021-02-24T00:38:22.032155Z",
     "start_time": "2021-02-24T00:38:22.019620Z"
    }
   },
   "outputs": [],
   "source": [
    "class_dict = {0: 'T-shirt/top',\n",
    "              1: 'Trouser',\n",
    "              2: 'Pullover',\n",
    "              3: 'Dress',\n",
    "              4: 'Coat',\n",
    "              5: 'Sandal',\n",
    "              6: 'Shirt',\n",
    "              7: 'Sneaker',\n",
    "              8: 'Bag',\n",
    "              9: 'Ankle boot'}\n",
    "classes = list(class_dict.keys())"
   ]
  },
  {
   "cell_type": "markdown",
   "metadata": {
    "slideshow": {
     "slide_type": "subslide"
    }
   },
   "source": [
    "## Reshape & normalize Fashion MNIST data"
   ]
  },
  {
   "cell_type": "code",
   "execution_count": 9,
   "metadata": {
    "ExecuteTime": {
     "end_time": "2021-02-24T00:38:22.041049Z",
     "start_time": "2021-02-24T00:38:22.033503Z"
    }
   },
   "outputs": [],
   "source": [
    "image_size = 28"
   ]
  },
  {
   "cell_type": "code",
   "execution_count": 10,
   "metadata": {
    "ExecuteTime": {
     "end_time": "2021-02-24T00:38:22.049704Z",
     "start_time": "2021-02-24T00:38:22.042250Z"
    }
   },
   "outputs": [],
   "source": [
    "def data_prep_conv(x, size=image_size):\n",
    "    return x.reshape(-1, size, size, 1).astype('float32')/255"
   ]
  },
  {
   "cell_type": "code",
   "execution_count": 11,
   "metadata": {
    "ExecuteTime": {
     "end_time": "2021-02-24T00:38:22.111672Z",
     "start_time": "2021-02-24T00:38:22.050927Z"
    }
   },
   "outputs": [],
   "source": [
    "X_train_scaled = data_prep_conv(X_train)\n",
    "X_test_scaled = data_prep_conv(X_test)"
   ]
  },
  {
   "cell_type": "code",
   "execution_count": 12,
   "metadata": {
    "ExecuteTime": {
     "end_time": "2021-02-24T00:38:22.116162Z",
     "start_time": "2021-02-24T00:38:22.113579Z"
    }
   },
   "outputs": [
    {
     "data": {
      "text/plain": [
       "((60000, 28, 28, 1), (10000, 28, 28, 1))"
      ]
     },
     "execution_count": 12,
     "metadata": {},
     "output_type": "execute_result"
    }
   ],
   "source": [
    "X_train_scaled.shape, X_test_scaled.shape"
   ]
  },
  {
   "cell_type": "markdown",
   "metadata": {},
   "source": [
    "## Combine training steps into function"
   ]
  },
  {
   "cell_type": "code",
   "execution_count": 13,
   "metadata": {
    "ExecuteTime": {
     "end_time": "2021-02-24T00:38:22.123384Z",
     "start_time": "2021-02-24T00:38:22.117123Z"
    }
   },
   "outputs": [],
   "source": [
    "def train_autoencoder(path, model, x_train=X_train_scaled, x_test=X_test_scaled):\n",
    "    callbacks = [EarlyStopping(patience=5, restore_best_weights=True),\n",
    "                 ModelCheckpoint(filepath=path, save_best_only=True, save_weights_only=True)]\n",
    "    model.fit(x=x_train, y=x_train, epochs=100, validation_split=.1, callbacks=callbacks)\n",
    "    model.load_weights(path)\n",
    "    mse = model.evaluate(x=x_test, y=x_test)\n",
    "    return model, mse"
   ]
  },
  {
   "cell_type": "markdown",
   "metadata": {},
   "source": [
    "## Convolutional Autoencoder"
   ]
  },
  {
   "cell_type": "markdown",
   "metadata": {},
   "source": [
    "We define a three-layer encoder that uses 2D convolutions with 32, 16, and 8 filters, respectively, ReLU activations, and 'same' padding to maintain the input size. The resulting encoding size at the third layer is 4 x 4 x 8 = 128, higher than for the preceding examples:"
   ]
  },
  {
   "cell_type": "markdown",
   "metadata": {},
   "source": [
    "### 3-dim input"
   ]
  },
  {
   "cell_type": "code",
   "execution_count": 14,
   "metadata": {
    "ExecuteTime": {
     "end_time": "2021-02-24T00:38:22.137711Z",
     "start_time": "2021-02-24T00:38:22.124267Z"
    }
   },
   "outputs": [],
   "source": [
    "input_ = Input(shape=(28, 28, 1), name='Input_3D')"
   ]
  },
  {
   "cell_type": "markdown",
   "metadata": {},
   "source": [
    "### Encoding Layers"
   ]
  },
  {
   "cell_type": "code",
   "execution_count": 15,
   "metadata": {
    "ExecuteTime": {
     "end_time": "2021-02-24T00:38:22.531001Z",
     "start_time": "2021-02-24T00:38:22.138724Z"
    }
   },
   "outputs": [],
   "source": [
    "x = Conv2D(filters=32,\n",
    "           kernel_size=(3, 3),\n",
    "           activation='relu',\n",
    "           padding='same',\n",
    "           name='Encoding_Conv_1')(input_)\n",
    "x = MaxPooling2D(pool_size=(2, 2), padding='same', name='Encoding_Max_1')(x)\n",
    "x = Conv2D(filters=16,\n",
    "           kernel_size=(3, 3),\n",
    "           activation='relu',\n",
    "           padding='same',\n",
    "           name='Encoding_Conv_2')(x)\n",
    "x = MaxPooling2D(pool_size=(2, 2), padding='same', name='Encoding_Max_2')(x)\n",
    "x = Conv2D(filters=8,\n",
    "           kernel_size=(3, 3),\n",
    "           activation='relu',\n",
    "           padding='same',\n",
    "           name='Encoding_Conv_3')(x)\n",
    "encoded_conv = MaxPooling2D(pool_size=(2, 2),\n",
    "                            padding='same',\n",
    "                            name='Encoding_Max_3')(x)"
   ]
  },
  {
   "cell_type": "markdown",
   "metadata": {},
   "source": [
    "We also define a matching decoder that reverses the number of filters and uses 2D upsampling instead of max pooling to reverse the reduction of the filter sizes. The three-layer autoencoder has 12,785 parameters, a little more than 5% of the capacity of the preceding deep autoencoder."
   ]
  },
  {
   "cell_type": "code",
   "execution_count": 16,
   "metadata": {
    "ExecuteTime": {
     "end_time": "2021-02-24T00:38:22.576304Z",
     "start_time": "2021-02-24T00:38:22.532175Z"
    }
   },
   "outputs": [],
   "source": [
    "x = Conv2D(filters=8,\n",
    "           kernel_size=(3, 3),\n",
    "           activation='relu',\n",
    "           padding='same',\n",
    "           name='Decoding_Conv_1')(encoded_conv)\n",
    "x = UpSampling2D(size=(2, 2), name='Decoding_Upsample_1')(x)\n",
    "x = Conv2D(filters=16,\n",
    "           kernel_size=(3, 3),\n",
    "           activation='relu',\n",
    "           padding='same',\n",
    "           name='Decoding_Conv_2')(x)\n",
    "x = UpSampling2D(size=(2, 2), name='Decoding_Upsample_2')(x)\n",
    "x = Conv2D(filters=32,\n",
    "           kernel_size=(3, 3),\n",
    "           activation='relu',\n",
    "           name='Decoding_Conv_3')(x)\n",
    "x = UpSampling2D(size=(2, 2), name='Decoding_Upsample_3')(x)\n",
    "decoded_conv = Conv2D(filters=1,\n",
    "                      kernel_size=(3, 3),\n",
    "                      activation='sigmoid',\n",
    "                      padding='same',\n",
    "                      name='Decoding_Conv_4')(x)"
   ]
  },
  {
   "cell_type": "code",
   "execution_count": 17,
   "metadata": {
    "ExecuteTime": {
     "end_time": "2021-02-24T00:38:22.587009Z",
     "start_time": "2021-02-24T00:38:22.577533Z"
    }
   },
   "outputs": [],
   "source": [
    "autoencoder_conv = Model(input_, decoded_conv)\n",
    "autoencoder_conv.compile(optimizer='adam', loss='mse')"
   ]
  },
  {
   "cell_type": "code",
   "execution_count": 18,
   "metadata": {
    "ExecuteTime": {
     "end_time": "2021-02-24T00:38:22.597459Z",
     "start_time": "2021-02-24T00:38:22.587872Z"
    }
   },
   "outputs": [
    {
     "name": "stdout",
     "output_type": "stream",
     "text": [
      "Model: \"model\"\n",
      "_________________________________________________________________\n",
      "Layer (type)                 Output Shape              Param #   \n",
      "=================================================================\n",
      "Input_3D (InputLayer)        [(None, 28, 28, 1)]       0         \n",
      "_________________________________________________________________\n",
      "Encoding_Conv_1 (Conv2D)     (None, 28, 28, 32)        320       \n",
      "_________________________________________________________________\n",
      "Encoding_Max_1 (MaxPooling2D (None, 14, 14, 32)        0         \n",
      "_________________________________________________________________\n",
      "Encoding_Conv_2 (Conv2D)     (None, 14, 14, 16)        4624      \n",
      "_________________________________________________________________\n",
      "Encoding_Max_2 (MaxPooling2D (None, 7, 7, 16)          0         \n",
      "_________________________________________________________________\n",
      "Encoding_Conv_3 (Conv2D)     (None, 7, 7, 8)           1160      \n",
      "_________________________________________________________________\n",
      "Encoding_Max_3 (MaxPooling2D (None, 4, 4, 8)           0         \n",
      "_________________________________________________________________\n",
      "Decoding_Conv_1 (Conv2D)     (None, 4, 4, 8)           584       \n",
      "_________________________________________________________________\n",
      "Decoding_Upsample_1 (UpSampl (None, 8, 8, 8)           0         \n",
      "_________________________________________________________________\n",
      "Decoding_Conv_2 (Conv2D)     (None, 8, 8, 16)          1168      \n",
      "_________________________________________________________________\n",
      "Decoding_Upsample_2 (UpSampl (None, 16, 16, 16)        0         \n",
      "_________________________________________________________________\n",
      "Decoding_Conv_3 (Conv2D)     (None, 14, 14, 32)        4640      \n",
      "_________________________________________________________________\n",
      "Decoding_Upsample_3 (UpSampl (None, 28, 28, 32)        0         \n",
      "_________________________________________________________________\n",
      "Decoding_Conv_4 (Conv2D)     (None, 28, 28, 1)         289       \n",
      "=================================================================\n",
      "Total params: 12,785\n",
      "Trainable params: 12,785\n",
      "Non-trainable params: 0\n",
      "_________________________________________________________________\n"
     ]
    }
   ],
   "source": [
    "autoencoder_conv.summary()"
   ]
  },
  {
   "cell_type": "code",
   "execution_count": 19,
   "metadata": {
    "ExecuteTime": {
     "end_time": "2021-02-24T00:38:22.606750Z",
     "start_time": "2021-02-24T00:38:22.598433Z"
    }
   },
   "outputs": [],
   "source": [
    "path = (results_path / 'autencoder_conv.32.weights.hdf5').as_posix()"
   ]
  },
  {
   "cell_type": "code",
   "execution_count": 20,
   "metadata": {
    "ExecuteTime": {
     "end_time": "2021-02-24T00:42:53.918342Z",
     "start_time": "2021-02-24T00:38:22.607683Z"
    }
   },
   "outputs": [
    {
     "name": "stdout",
     "output_type": "stream",
     "text": [
      "Epoch 1/100\n",
      "1688/1688 [==============================] - 4s 2ms/step - loss: 0.0227 - val_loss: 0.0164\n",
      "Epoch 2/100\n",
      "1688/1688 [==============================] - 4s 2ms/step - loss: 0.0152 - val_loss: 0.0142\n",
      "Epoch 3/100\n",
      "1688/1688 [==============================] - 4s 2ms/step - loss: 0.0136 - val_loss: 0.0130\n",
      "Epoch 4/100\n",
      "1688/1688 [==============================] - 4s 2ms/step - loss: 0.0127 - val_loss: 0.0124\n",
      "Epoch 5/100\n",
      "1688/1688 [==============================] - 4s 2ms/step - loss: 0.0120 - val_loss: 0.0117\n",
      "Epoch 6/100\n",
      "1688/1688 [==============================] - 4s 2ms/step - loss: 0.0116 - val_loss: 0.0114\n",
      "Epoch 7/100\n",
      "1688/1688 [==============================] - 4s 2ms/step - loss: 0.0112 - val_loss: 0.0113\n",
      "Epoch 8/100\n",
      "1688/1688 [==============================] - 4s 2ms/step - loss: 0.0109 - val_loss: 0.0111\n",
      "Epoch 9/100\n",
      "1688/1688 [==============================] - 4s 2ms/step - loss: 0.0107 - val_loss: 0.0105\n",
      "Epoch 10/100\n",
      "1688/1688 [==============================] - 4s 2ms/step - loss: 0.0105 - val_loss: 0.0104\n",
      "Epoch 11/100\n",
      "1688/1688 [==============================] - 4s 2ms/step - loss: 0.0104 - val_loss: 0.0104\n",
      "Epoch 12/100\n",
      "1688/1688 [==============================] - 4s 2ms/step - loss: 0.0102 - val_loss: 0.0101\n",
      "Epoch 13/100\n",
      "1688/1688 [==============================] - 4s 2ms/step - loss: 0.0101 - val_loss: 0.0102\n",
      "Epoch 14/100\n",
      "1688/1688 [==============================] - 4s 2ms/step - loss: 0.0100 - val_loss: 0.0099\n",
      "Epoch 15/100\n",
      "1688/1688 [==============================] - 4s 2ms/step - loss: 0.0099 - val_loss: 0.0097\n",
      "Epoch 16/100\n",
      "1688/1688 [==============================] - 4s 2ms/step - loss: 0.0098 - val_loss: 0.0097\n",
      "Epoch 17/100\n",
      "1688/1688 [==============================] - 4s 2ms/step - loss: 0.0097 - val_loss: 0.0096\n",
      "Epoch 18/100\n",
      "1688/1688 [==============================] - 4s 2ms/step - loss: 0.0096 - val_loss: 0.0096\n",
      "Epoch 19/100\n",
      "1688/1688 [==============================] - 4s 2ms/step - loss: 0.0095 - val_loss: 0.0095\n",
      "Epoch 20/100\n",
      "1688/1688 [==============================] - 4s 2ms/step - loss: 0.0095 - val_loss: 0.0094\n",
      "Epoch 21/100\n",
      "1688/1688 [==============================] - 4s 2ms/step - loss: 0.0094 - val_loss: 0.0095\n",
      "Epoch 22/100\n",
      "1688/1688 [==============================] - 4s 2ms/step - loss: 0.0093 - val_loss: 0.0094\n",
      "Epoch 23/100\n",
      "1688/1688 [==============================] - 4s 2ms/step - loss: 0.0093 - val_loss: 0.0095\n",
      "Epoch 24/100\n",
      "1688/1688 [==============================] - 4s 2ms/step - loss: 0.0092 - val_loss: 0.0092\n",
      "Epoch 25/100\n",
      "1688/1688 [==============================] - 4s 2ms/step - loss: 0.0092 - val_loss: 0.0093\n",
      "Epoch 26/100\n",
      "1688/1688 [==============================] - 4s 2ms/step - loss: 0.0091 - val_loss: 0.0091\n",
      "Epoch 27/100\n",
      "1688/1688 [==============================] - 4s 3ms/step - loss: 0.0091 - val_loss: 0.0093\n",
      "Epoch 28/100\n",
      "1688/1688 [==============================] - 4s 2ms/step - loss: 0.0091 - val_loss: 0.0090\n",
      "Epoch 29/100\n",
      "1688/1688 [==============================] - 4s 2ms/step - loss: 0.0090 - val_loss: 0.0089\n",
      "Epoch 30/100\n",
      "1688/1688 [==============================] - 4s 2ms/step - loss: 0.0090 - val_loss: 0.0090\n",
      "Epoch 31/100\n",
      "1688/1688 [==============================] - 4s 2ms/step - loss: 0.0089 - val_loss: 0.0092\n",
      "Epoch 32/100\n",
      "1688/1688 [==============================] - 4s 2ms/step - loss: 0.0089 - val_loss: 0.0090\n",
      "Epoch 33/100\n",
      "1688/1688 [==============================] - 4s 2ms/step - loss: 0.0089 - val_loss: 0.0088\n",
      "Epoch 34/100\n",
      "1688/1688 [==============================] - 4s 2ms/step - loss: 0.0088 - val_loss: 0.0088\n",
      "Epoch 35/100\n",
      "1688/1688 [==============================] - 4s 2ms/step - loss: 0.0088 - val_loss: 0.0088\n",
      "Epoch 36/100\n",
      "1688/1688 [==============================] - 4s 2ms/step - loss: 0.0088 - val_loss: 0.0088\n",
      "Epoch 37/100\n",
      "1688/1688 [==============================] - 4s 2ms/step - loss: 0.0088 - val_loss: 0.0087\n",
      "Epoch 38/100\n",
      "1688/1688 [==============================] - 4s 2ms/step - loss: 0.0087 - val_loss: 0.0088\n",
      "Epoch 39/100\n",
      "1688/1688 [==============================] - 4s 2ms/step - loss: 0.0087 - val_loss: 0.0087\n",
      "Epoch 40/100\n",
      "1688/1688 [==============================] - 4s 2ms/step - loss: 0.0087 - val_loss: 0.0088\n",
      "Epoch 41/100\n",
      "1688/1688 [==============================] - 4s 2ms/step - loss: 0.0087 - val_loss: 0.0088\n",
      "Epoch 42/100\n",
      "1688/1688 [==============================] - 4s 2ms/step - loss: 0.0086 - val_loss: 0.0086\n",
      "Epoch 43/100\n",
      "1688/1688 [==============================] - 4s 2ms/step - loss: 0.0086 - val_loss: 0.0087\n",
      "Epoch 44/100\n",
      "1688/1688 [==============================] - 4s 2ms/step - loss: 0.0086 - val_loss: 0.0088\n",
      "Epoch 45/100\n",
      "1688/1688 [==============================] - 4s 2ms/step - loss: 0.0086 - val_loss: 0.0092\n",
      "Epoch 46/100\n",
      "1688/1688 [==============================] - 5s 3ms/step - loss: 0.0086 - val_loss: 0.0086\n",
      "Epoch 47/100\n",
      "1688/1688 [==============================] - 4s 3ms/step - loss: 0.0085 - val_loss: 0.0086\n",
      "Epoch 48/100\n",
      "1688/1688 [==============================] - 4s 2ms/step - loss: 0.0085 - val_loss: 0.0085\n",
      "Epoch 49/100\n",
      "1688/1688 [==============================] - 5s 3ms/step - loss: 0.0085 - val_loss: 0.0085\n",
      "Epoch 50/100\n",
      "1688/1688 [==============================] - 4s 3ms/step - loss: 0.0085 - val_loss: 0.0085\n",
      "Epoch 51/100\n",
      "1688/1688 [==============================] - 4s 2ms/step - loss: 0.0085 - val_loss: 0.0088\n",
      "Epoch 52/100\n",
      "1688/1688 [==============================] - 4s 3ms/step - loss: 0.0085 - val_loss: 0.0085\n",
      "Epoch 53/100\n",
      "1688/1688 [==============================] - 4s 2ms/step - loss: 0.0085 - val_loss: 0.0085\n",
      "Epoch 54/100\n",
      "1688/1688 [==============================] - 4s 2ms/step - loss: 0.0085 - val_loss: 0.0085\n",
      "Epoch 55/100\n",
      "1688/1688 [==============================] - 4s 2ms/step - loss: 0.0085 - val_loss: 0.0084\n",
      "Epoch 56/100\n",
      "1688/1688 [==============================] - 4s 2ms/step - loss: 0.0084 - val_loss: 0.0085\n",
      "Epoch 57/100\n",
      "1688/1688 [==============================] - 5s 3ms/step - loss: 0.0084 - val_loss: 0.0084\n",
      "Epoch 58/100\n",
      "1688/1688 [==============================] - 4s 2ms/step - loss: 0.0084 - val_loss: 0.0084\n",
      "Epoch 59/100\n",
      "1688/1688 [==============================] - 4s 2ms/step - loss: 0.0084 - val_loss: 0.0086\n",
      "Epoch 60/100\n",
      "1688/1688 [==============================] - 4s 2ms/step - loss: 0.0084 - val_loss: 0.0084\n",
      "Epoch 61/100\n",
      "1688/1688 [==============================] - 4s 2ms/step - loss: 0.0084 - val_loss: 0.0084\n",
      "Epoch 62/100\n",
      "1688/1688 [==============================] - 4s 2ms/step - loss: 0.0084 - val_loss: 0.0084\n",
      "Epoch 63/100\n",
      "1688/1688 [==============================] - 4s 2ms/step - loss: 0.0084 - val_loss: 0.0084\n",
      "Epoch 64/100\n",
      "1688/1688 [==============================] - 4s 2ms/step - loss: 0.0083 - val_loss: 0.0084\n",
      "Epoch 65/100\n",
      "1688/1688 [==============================] - 4s 2ms/step - loss: 0.0083 - val_loss: 0.0083\n",
      "Epoch 66/100\n",
      "1688/1688 [==============================] - 4s 2ms/step - loss: 0.0083 - val_loss: 0.0083\n",
      "Epoch 67/100\n",
      "1688/1688 [==============================] - 4s 2ms/step - loss: 0.0083 - val_loss: 0.0087\n",
      "Epoch 68/100\n",
      "1688/1688 [==============================] - 4s 2ms/step - loss: 0.0083 - val_loss: 0.0083\n",
      "Epoch 69/100\n",
      "1688/1688 [==============================] - 4s 2ms/step - loss: 0.0083 - val_loss: 0.0083\n",
      "Epoch 70/100\n",
      "1688/1688 [==============================] - 4s 2ms/step - loss: 0.0083 - val_loss: 0.0083\n",
      "313/313 [==============================] - 0s 1ms/step - loss: 0.0083\n"
     ]
    }
   ],
   "source": [
    "autoencoder_deep, mse = train_autoencoder(path, \n",
    "                                          autoencoder_conv, \n",
    "                                          x_train=X_train_scaled, \n",
    "                                          x_test=X_test_scaled)"
   ]
  },
  {
   "cell_type": "markdown",
   "metadata": {},
   "source": [
    "Training stops after 75 epochs and results in a further 9% reduction of the test RMSE, due to a combination of the ability of convolutional filters to learn more efficiently from image data and the larger encoding size."
   ]
  },
  {
   "cell_type": "code",
   "execution_count": 21,
   "metadata": {
    "ExecuteTime": {
     "end_time": "2021-02-24T00:42:53.922402Z",
     "start_time": "2021-02-24T00:42:53.919433Z"
    }
   },
   "outputs": [
    {
     "data": {
      "text/plain": [
       "'MSE: 0.0083 | RMSE 0.0910'"
      ]
     },
     "execution_count": 21,
     "metadata": {},
     "output_type": "execute_result"
    }
   ],
   "source": [
    "f'MSE: {mse:.4f} | RMSE {mse**.5:.4f}'"
   ]
  },
  {
   "cell_type": "code",
   "execution_count": 22,
   "metadata": {
    "ExecuteTime": {
     "end_time": "2021-02-24T00:42:53.942947Z",
     "start_time": "2021-02-24T00:42:53.923808Z"
    }
   },
   "outputs": [],
   "source": [
    "autoencoder_conv.load_weights(path)"
   ]
  },
  {
   "cell_type": "code",
   "execution_count": 23,
   "metadata": {
    "ExecuteTime": {
     "end_time": "2021-02-24T00:42:54.375386Z",
     "start_time": "2021-02-24T00:42:53.944933Z"
    }
   },
   "outputs": [
    {
     "data": {
      "text/plain": [
       "(10000, 28, 28, 1)"
      ]
     },
     "execution_count": 23,
     "metadata": {},
     "output_type": "execute_result"
    }
   ],
   "source": [
    "reconstructed_images = autoencoder_deep.predict(X_test_scaled)\n",
    "reconstructed_images.shape"
   ]
  },
  {
   "cell_type": "code",
   "execution_count": 24,
   "metadata": {
    "ExecuteTime": {
     "end_time": "2021-02-24T00:42:55.238939Z",
     "start_time": "2021-02-24T00:42:54.376514Z"
    }
   },
   "outputs": [
    {
     "data": {
      "image/png": "[encoded data removed]",
      "text/plain": [
       "<Figure size 1440x288 with 20 Axes>"
      ]
     },
     "metadata": {},
     "output_type": "display_data"
    }
   ],
   "source": [
    "fig, axes = plt.subplots(ncols=n_classes, nrows=2, figsize=(20, 4))\n",
    "for i in range(n_classes):\n",
    "    \n",
    "    axes[0, i].imshow(X_test_scaled[i].reshape(image_size, image_size), cmap='gray')\n",
    "    axes[0, i].axis('off')\n",
    "\n",
    "    axes[1, i].imshow(reconstructed_images[i].reshape(image_size, image_size) , cmap='gray')\n",
    "    axes[1, i].axis('off')"
   ]
  },
  {
   "cell_type": "markdown",
   "metadata": {},
   "source": [
    "## Denoising Autoencoder"
   ]
  },
  {
   "cell_type": "markdown",
   "metadata": {},
   "source": [
    "The application of an autoencoder to a denoising task only affects the training stage. In this example, we add noise to the Fashion MNIST data from a standard normal distribution while maintaining the pixel values in the range of [0, 1], as follows:"
   ]
  },
  {
   "cell_type": "code",
   "execution_count": 25,
   "metadata": {
    "ExecuteTime": {
     "end_time": "2021-02-24T00:42:55.241836Z",
     "start_time": "2021-02-24T00:42:55.239830Z"
    }
   },
   "outputs": [],
   "source": [
    "def add_noise(x, noise_factor=.3):\n",
    "    return np.clip(x  + noise_factor * np.random.normal(size=x.shape), 0, 1)"
   ]
  },
  {
   "cell_type": "code",
   "execution_count": 26,
   "metadata": {
    "ExecuteTime": {
     "end_time": "2021-02-24T00:42:56.655032Z",
     "start_time": "2021-02-24T00:42:55.243125Z"
    }
   },
   "outputs": [],
   "source": [
    "X_train_noisy = add_noise(X_train_scaled)\n",
    "X_test_noisy = add_noise(X_test_scaled)"
   ]
  },
  {
   "cell_type": "code",
   "execution_count": 27,
   "metadata": {
    "ExecuteTime": {
     "end_time": "2021-02-24T00:42:57.053480Z",
     "start_time": "2021-02-24T00:42:56.655932Z"
    }
   },
   "outputs": [
    {
     "data": {
      "image/png": "[encoded data removed]",
      "text/plain": [
       "<Figure size 1440x288 with 10 Axes>"
      ]
     },
     "metadata": {},
     "output_type": "display_data"
    }
   ],
   "source": [
    "fig, axes = plt.subplots(nrows=2, ncols=5, figsize=(20, 4))\n",
    "axes = axes.flatten()\n",
    "for i, ax in enumerate(axes):\n",
    "    ax.imshow(X_test_noisy[i].reshape(28, 28), cmap='gray')\n",
    "    ax.axis('off')"
   ]
  },
  {
   "cell_type": "code",
   "execution_count": 28,
   "metadata": {
    "ExecuteTime": {
     "end_time": "2021-02-24T00:42:57.071687Z",
     "start_time": "2021-02-24T00:42:57.054414Z"
    }
   },
   "outputs": [],
   "source": [
    "x = Conv2D(filters=32, kernel_size=(3, 3), activation='relu', padding='same', name='Encoding_Conv_1')(input_)\n",
    "x = MaxPooling2D(pool_size=(2, 2), padding='same', name='Encoding_Max_1')(x)\n",
    "x = Conv2D(filters=32, kernel_size=(3, 3), activation='relu', padding='same', name='Encoding_Conv_2')(x)\n",
    "encoded_conv = MaxPooling2D(pool_size=(2, 2), padding='same', name='Encoding_Max_3')(x)"
   ]
  },
  {
   "cell_type": "code",
   "execution_count": 29,
   "metadata": {
    "ExecuteTime": {
     "end_time": "2021-02-24T00:42:57.102115Z",
     "start_time": "2021-02-24T00:42:57.072745Z"
    }
   },
   "outputs": [],
   "source": [
    "x = Conv2D(filters=32, kernel_size=(3, 3), activation='relu', padding='same', name='Decoding_Conv_1')(encoded_conv)\n",
    "x = UpSampling2D(size=(2, 2), name='Decoding_Upsample_1')(x)\n",
    "x = Conv2D(filters=32, kernel_size=(3, 3), activation='relu', padding='same', name='Decoding_Conv_2')(x)\n",
    "x = UpSampling2D(size=(2, 2), name='Decoding_Upsample_2')(x)\n",
    "decoded_conv = Conv2D(filters=1, kernel_size=(3, 3), activation='sigmoid', padding='same', name='Decoding_Conv_4')(x)"
   ]
  },
  {
   "cell_type": "code",
   "execution_count": 30,
   "metadata": {
    "ExecuteTime": {
     "end_time": "2021-02-24T00:42:57.115173Z",
     "start_time": "2021-02-24T00:42:57.102986Z"
    }
   },
   "outputs": [],
   "source": [
    "autoencoder_denoise = Model(input_, decoded_conv)\n",
    "autoencoder_denoise.compile(optimizer='adam', loss='mse')"
   ]
  },
  {
   "cell_type": "code",
   "execution_count": 31,
   "metadata": {
    "ExecuteTime": {
     "end_time": "2021-02-24T00:42:57.121267Z",
     "start_time": "2021-02-24T00:42:57.116065Z"
    }
   },
   "outputs": [],
   "source": [
    "path = (results_path / 'autencoder_denoise.32.weights.hdf5').as_posix()"
   ]
  },
  {
   "cell_type": "code",
   "execution_count": 32,
   "metadata": {
    "ExecuteTime": {
     "end_time": "2021-02-24T00:42:57.129300Z",
     "start_time": "2021-02-24T00:42:57.122141Z"
    }
   },
   "outputs": [],
   "source": [
    "callbacks = [EarlyStopping(patience=5,\n",
    "                           restore_best_weights=True),\n",
    "             ModelCheckpoint(filepath=path,\n",
    "                             save_best_only=True,\n",
    "                             save_weights_only=True)]"
   ]
  },
  {
   "cell_type": "markdown",
   "metadata": {},
   "source": [
    "We then proceed to train the convolutional autoencoder on noisy input with the objective to learn how to generate the uncorrupted originals:"
   ]
  },
  {
   "cell_type": "code",
   "execution_count": 33,
   "metadata": {
    "ExecuteTime": {
     "end_time": "2021-02-24T00:44:29.424091Z",
     "start_time": "2021-02-24T00:42:57.130207Z"
    }
   },
   "outputs": [
    {
     "name": "stdout",
     "output_type": "stream",
     "text": [
      "Epoch 1/100\n",
      "422/422 [==============================] - 2s 5ms/step - loss: 0.0243 - val_loss: 0.0150\n",
      "Epoch 2/100\n",
      "422/422 [==============================] - 2s 4ms/step - loss: 0.0140 - val_loss: 0.0133\n",
      "Epoch 3/100\n",
      "422/422 [==============================] - 2s 4ms/step - loss: 0.0126 - val_loss: 0.0120\n",
      "Epoch 4/100\n",
      "422/422 [==============================] - 2s 4ms/step - loss: 0.0117 - val_loss: 0.0114\n",
      "Epoch 5/100\n",
      "422/422 [==============================] - 2s 4ms/step - loss: 0.0111 - val_loss: 0.0108\n",
      "Epoch 6/100\n",
      "422/422 [==============================] - 2s 4ms/step - loss: 0.0106 - val_loss: 0.0105\n",
      "Epoch 7/100\n",
      "422/422 [==============================] - 2s 4ms/step - loss: 0.0103 - val_loss: 0.0103\n",
      "Epoch 8/100\n",
      "422/422 [==============================] - 2s 4ms/step - loss: 0.0101 - val_loss: 0.0100\n",
      "Epoch 9/100\n",
      "422/422 [==============================] - 2s 4ms/step - loss: 0.0099 - val_loss: 0.0098\n",
      "Epoch 10/100\n",
      "422/422 [==============================] - 2s 5ms/step - loss: 0.0097 - val_loss: 0.0097\n",
      "Epoch 11/100\n",
      "422/422 [==============================] - 2s 5ms/step - loss: 0.0096 - val_loss: 0.0095\n",
      "Epoch 12/100\n",
      "422/422 [==============================] - 2s 5ms/step - loss: 0.0095 - val_loss: 0.0095\n",
      "Epoch 13/100\n",
      "422/422 [==============================] - 2s 5ms/step - loss: 0.0094 - val_loss: 0.0094\n",
      "Epoch 14/100\n",
      "422/422 [==============================] - 2s 5ms/step - loss: 0.0093 - val_loss: 0.0093\n",
      "Epoch 15/100\n",
      "422/422 [==============================] - 2s 4ms/step - loss: 0.0093 - val_loss: 0.0093\n",
      "Epoch 16/100\n",
      "422/422 [==============================] - 2s 4ms/step - loss: 0.0092 - val_loss: 0.0093\n",
      "Epoch 17/100\n",
      "422/422 [==============================] - 2s 5ms/step - loss: 0.0092 - val_loss: 0.0091\n",
      "Epoch 18/100\n",
      "422/422 [==============================] - 2s 5ms/step - loss: 0.0091 - val_loss: 0.0091\n",
      "Epoch 19/100\n",
      "422/422 [==============================] - 2s 6ms/step - loss: 0.0091 - val_loss: 0.0090\n",
      "Epoch 20/100\n",
      "422/422 [==============================] - 2s 5ms/step - loss: 0.0090 - val_loss: 0.0090\n",
      "Epoch 21/100\n",
      "422/422 [==============================] - 2s 4ms/step - loss: 0.0090 - val_loss: 0.0090\n",
      "Epoch 22/100\n",
      "422/422 [==============================] - 2s 4ms/step - loss: 0.0090 - val_loss: 0.0091\n",
      "Epoch 23/100\n",
      "422/422 [==============================] - 2s 4ms/step - loss: 0.0089 - val_loss: 0.0089\n",
      "Epoch 24/100\n",
      "422/422 [==============================] - 2s 4ms/step - loss: 0.0089 - val_loss: 0.0090\n",
      "Epoch 25/100\n",
      "422/422 [==============================] - 2s 4ms/step - loss: 0.0089 - val_loss: 0.0089\n",
      "Epoch 26/100\n",
      "422/422 [==============================] - 2s 4ms/step - loss: 0.0089 - val_loss: 0.0090\n",
      "Epoch 27/100\n",
      "422/422 [==============================] - 2s 4ms/step - loss: 0.0088 - val_loss: 0.0089\n",
      "Epoch 28/100\n",
      "422/422 [==============================] - 2s 4ms/step - loss: 0.0088 - val_loss: 0.0089\n",
      "Epoch 29/100\n",
      "422/422 [==============================] - 2s 4ms/step - loss: 0.0088 - val_loss: 0.0088\n",
      "Epoch 30/100\n",
      "422/422 [==============================] - 2s 4ms/step - loss: 0.0088 - val_loss: 0.0088\n",
      "Epoch 31/100\n",
      "422/422 [==============================] - 2s 5ms/step - loss: 0.0088 - val_loss: 0.0088\n",
      "Epoch 32/100\n",
      "422/422 [==============================] - 2s 4ms/step - loss: 0.0087 - val_loss: 0.0088\n",
      "Epoch 33/100\n",
      "422/422 [==============================] - 2s 4ms/step - loss: 0.0087 - val_loss: 0.0087\n",
      "Epoch 34/100\n",
      "422/422 [==============================] - 2s 4ms/step - loss: 0.0087 - val_loss: 0.0088\n",
      "Epoch 35/100\n",
      "422/422 [==============================] - 2s 4ms/step - loss: 0.0087 - val_loss: 0.0087\n",
      "Epoch 36/100\n",
      "422/422 [==============================] - 2s 4ms/step - loss: 0.0087 - val_loss: 0.0087\n",
      "Epoch 37/100\n",
      "422/422 [==============================] - 2s 4ms/step - loss: 0.0087 - val_loss: 0.0088\n",
      "Epoch 38/100\n",
      "422/422 [==============================] - 2s 5ms/step - loss: 0.0087 - val_loss: 0.0087\n",
      "Epoch 39/100\n",
      "422/422 [==============================] - 2s 5ms/step - loss: 0.0087 - val_loss: 0.0087\n",
      "Epoch 40/100\n",
      "422/422 [==============================] - 2s 4ms/step - loss: 0.0086 - val_loss: 0.0087\n",
      "Epoch 41/100\n",
      "422/422 [==============================] - 2s 4ms/step - loss: 0.0086 - val_loss: 0.0087\n",
      "Epoch 42/100\n",
      "422/422 [==============================] - 2s 5ms/step - loss: 0.0086 - val_loss: 0.0086\n",
      "Epoch 43/100\n",
      "422/422 [==============================] - 2s 5ms/step - loss: 0.0086 - val_loss: 0.0087\n",
      "Epoch 44/100\n",
      "422/422 [==============================] - 2s 4ms/step - loss: 0.0086 - val_loss: 0.0086\n",
      "Epoch 45/100\n",
      "422/422 [==============================] - 2s 4ms/step - loss: 0.0086 - val_loss: 0.0086\n",
      "Epoch 46/100\n",
      "422/422 [==============================] - 2s 4ms/step - loss: 0.0086 - val_loss: 0.0086\n",
      "Epoch 47/100\n",
      "422/422 [==============================] - 2s 4ms/step - loss: 0.0086 - val_loss: 0.0086\n",
      "Epoch 48/100\n",
      "422/422 [==============================] - 2s 4ms/step - loss: 0.0086 - val_loss: 0.0087\n",
      "Epoch 49/100\n",
      "422/422 [==============================] - 2s 4ms/step - loss: 0.0086 - val_loss: 0.0086\n"
     ]
    },
    {
     "data": {
      "text/plain": [
       "<tensorflow.python.keras.callbacks.History at 0x7f401c27fdc0>"
      ]
     },
     "execution_count": 33,
     "metadata": {},
     "output_type": "execute_result"
    }
   ],
   "source": [
    "autoencoder_denoise.fit(x=X_train_noisy,\n",
    "                        y=X_train_scaled,\n",
    "                        epochs=100,\n",
    "                        batch_size=128,\n",
    "                        shuffle=True,\n",
    "                        validation_split=.1,\n",
    "                        callbacks=callbacks)"
   ]
  },
  {
   "cell_type": "code",
   "execution_count": 34,
   "metadata": {
    "ExecuteTime": {
     "end_time": "2021-02-24T00:44:29.434123Z",
     "start_time": "2021-02-24T00:44:29.425196Z"
    }
   },
   "outputs": [],
   "source": [
    "autoencoder_denoise.load_weights(path)"
   ]
  },
  {
   "cell_type": "code",
   "execution_count": 35,
   "metadata": {
    "ExecuteTime": {
     "end_time": "2021-02-24T00:44:29.924397Z",
     "start_time": "2021-02-24T00:44:29.435219Z"
    }
   },
   "outputs": [
    {
     "name": "stdout",
     "output_type": "stream",
     "text": [
      "313/313 [==============================] - 0s 1ms/step - loss: 0.0087\n"
     ]
    },
    {
     "data": {
      "text/plain": [
       "'MSE: 0.0087 | RMSE 0.0930'"
      ]
     },
     "execution_count": 35,
     "metadata": {},
     "output_type": "execute_result"
    }
   ],
   "source": [
    "mse = autoencoder_denoise.evaluate(x=X_test_noisy, y=X_test_scaled)\n",
    "f'MSE: {mse:.4f} | RMSE {mse**.5:.4f}'"
   ]
  },
  {
   "cell_type": "markdown",
   "metadata": {},
   "source": [
    "## Visualize Reconstructed Images"
   ]
  },
  {
   "cell_type": "markdown",
   "metadata": {},
   "source": [
    "The following figure shows, from top to bottom, the original images as well as the noisy and denoised versions. It illustrates that the autoencoder is successful in producing compressed encodings from the noisy images that are quite similar to those produced from the original images:"
   ]
  },
  {
   "cell_type": "code",
   "execution_count": 36,
   "metadata": {
    "ExecuteTime": {
     "end_time": "2021-02-24T00:44:30.182734Z",
     "start_time": "2021-02-24T00:44:29.925649Z"
    }
   },
   "outputs": [
    {
     "data": {
      "text/plain": [
       "(10000, 28, 28, 1)"
      ]
     },
     "execution_count": 36,
     "metadata": {},
     "output_type": "execute_result"
    }
   ],
   "source": [
    "reconstructed_images = autoencoder_denoise.predict(X_test_noisy)\n",
    "reconstructed_images.shape"
   ]
  },
  {
   "cell_type": "code",
   "execution_count": 37,
   "metadata": {
    "ExecuteTime": {
     "end_time": "2021-02-24T00:44:32.321963Z",
     "start_time": "2021-02-24T00:44:30.183778Z"
    }
   },
   "outputs": [
    {
     "data": {
      "image/png": "[encoded data removed]",
      "text/plain": [
       "<Figure size 1440x432 with 30 Axes>"
      ]
     },
     "metadata": {},
     "output_type": "display_data"
    }
   ],
   "source": [
    "fig, axes = plt.subplots(ncols=n_classes, nrows=3, figsize=(20, 6))\n",
    "for i in range(n_classes):\n",
    "    axes[0, i].imshow(X_test[i].reshape(image_size, image_size), cmap='gray')\n",
    "    axes[0, i].axis('off')\n",
    "    \n",
    "    axes[1, i].imshow(X_test_noisy[i].reshape(image_size, image_size), cmap='gray')\n",
    "    axes[1, i].axis('off')\n",
    "\n",
    "    axes[2, i].imshow(reconstructed_images[i].reshape(image_size, image_size) , cmap='gray')\n",
    "    axes[2, i].axis('off')\n",
    "fig.suptitle('Originals, Corrupted and Reconstructed Images', fontsize=20)\n",
    "fig.tight_layout()\n",
    "fig.subplots_adjust(top=.9)\n",
    "fig.savefig(results_path / 'autoencoder_denoising', dpi=300)"
   ]
  }
 ],
 "metadata": {
  "kernelspec": {
   "display_name": "Python 3",
   "language": "python",
   "name": "python3"
  },
  "language_info": {
   "codemirror_mode": {
    "name": "ipython",
    "version": 3
   },
   "file_extension": ".py",
   "mimetype": "text/x-python",
   "name": "python",
   "nbconvert_exporter": "python",
   "pygments_lexer": "ipython3",
   "version": "3.8.8"
  },
  "toc": {
   "base_numbering": 1,
   "nav_menu": {},
   "number_sections": true,
   "sideBar": true,
   "skip_h1_title": true,
   "title_cell": "Table of Contents",
   "title_sidebar": "Contents",
   "toc_cell": false,
   "toc_position": {},
   "toc_section_display": true,
   "toc_window_display": true
  }
 },
 "nbformat": 4,
 "nbformat_minor": 4
}
