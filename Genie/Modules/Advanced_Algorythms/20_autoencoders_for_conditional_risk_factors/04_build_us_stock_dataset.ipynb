{
 "cells": [
  {
   "cell_type": "markdown",
   "metadata": {},
   "source": [
    "# Download historical equity data for NASDAQ stocks from yahoo finance"
   ]
  },
  {
   "cell_type": "code",
   "execution_count": null,
   "metadata": {
    "ExecuteTime": {
     "end_time": "2021-02-24T03:35:10.028380Z",
     "start_time": "2021-02-24T03:35:10.026213Z"
    }
   },
   "outputs": [],
   "source": [
    "import warnings\n",
    "warnings.filterwarnings('ignore')"
   ]
  },
  {
   "cell_type": "code",
   "execution_count": null,
   "metadata": {
    "ExecuteTime": {
     "end_time": "2021-02-24T03:35:10.259404Z",
     "start_time": "2021-02-24T03:35:10.030004Z"
    }
   },
   "outputs": [],
   "source": [
    "from time import time\n",
    "from tqdm import tqdm\n",
    "from pathlib import Path\n",
    "import pandas as pd\n",
    "\n",
    "from pandas_datareader.nasdaq_trader import get_nasdaq_symbols\n",
    "import yfinance as yf"
   ]
  },
  {
   "cell_type": "code",
   "execution_count": null,
   "metadata": {
    "ExecuteTime": {
     "end_time": "2021-02-24T03:35:10.263767Z",
     "start_time": "2021-02-24T03:35:10.261678Z"
    }
   },
   "outputs": [],
   "source": [
    "idx = pd.IndexSlice"
   ]
  },
  {
   "cell_type": "code",
   "execution_count": null,
   "metadata": {
    "ExecuteTime": {
     "end_time": "2021-02-24T03:35:10.273874Z",
     "start_time": "2021-02-24T03:35:10.264725Z"
    }
   },
   "outputs": [],
   "source": [
    "results_path = Path('results', 'asset_pricing')\n",
    "if not results_path.exists():\n",
    "    results_path.mkdir(parents=True)"
   ]
  },
  {
   "cell_type": "code",
   "execution_count": null,
   "metadata": {
    "ExecuteTime": {
     "end_time": "2021-02-24T03:35:10.282293Z",
     "start_time": "2021-02-24T03:35:10.274735Z"
    }
   },
   "outputs": [],
   "source": [
    "def chunks(l, n): \n",
    "    for i in range(0, len(l), n):  \n",
    "        yield l[i:i + n] "
   ]
  },
  {
   "cell_type": "code",
   "execution_count": null,
   "metadata": {
    "ExecuteTime": {
     "end_time": "2021-02-24T03:35:10.290666Z",
     "start_time": "2021-02-24T03:35:10.283784Z"
    }
   },
   "outputs": [],
   "source": [
    "def format_time(t):\n",
    "    \"\"\"Return a formatted time string 'HH:MM:SS\n",
    "    based on a numeric time() value\"\"\"\n",
    "    m, s = divmod(t, 60)\n",
    "    h, m = divmod(m, 60)\n",
    "    return f'{h:0>2.0f}:{m:0>2.0f}:{s:0>2.0f}'"
   ]
  },
  {
   "cell_type": "markdown",
   "metadata": {},
   "source": [
    "## Get NASDAQ symbols"
   ]
  },
  {
   "cell_type": "code",
   "execution_count": null,
   "metadata": {
    "ExecuteTime": {
     "end_time": "2021-02-24T03:35:11.361462Z",
     "start_time": "2021-02-24T03:35:10.291640Z"
    }
   },
   "outputs": [],
   "source": [
    "traded_symbols = get_nasdaq_symbols()"
   ]
  },
  {
   "cell_type": "code",
   "execution_count": null,
   "metadata": {
    "ExecuteTime": {
     "end_time": "2021-02-24T03:35:11.391531Z",
     "start_time": "2021-02-24T03:35:11.362436Z"
    }
   },
   "outputs": [],
   "source": [
    "traded_symbols.info()"
   ]
  },
  {
   "cell_type": "markdown",
   "metadata": {},
   "source": [
    "## Download metadata from yahoo finance"
   ]
  },
  {
   "cell_type": "markdown",
   "metadata": {},
   "source": [
    "### NASDAQ symbols"
   ]
  },
  {
   "cell_type": "code",
   "execution_count": null,
   "metadata": {
    "ExecuteTime": {
     "end_time": "2021-02-24T03:35:11.396401Z",
     "start_time": "2021-02-24T03:35:11.392356Z"
    }
   },
   "outputs": [],
   "source": [
    "all_symbols = traded_symbols[~traded_symbols.ETF].index.unique().to_list()\n",
    "n = len(all_symbols)\n",
    "print(f'# Symbols: {n:,.0f}')"
   ]
  },
  {
   "cell_type": "code",
   "execution_count": null,
   "metadata": {
    "ExecuteTime": {
     "end_time": "2021-02-24T03:35:30.818647Z",
     "start_time": "2021-02-24T03:35:11.397335Z"
    }
   },
   "outputs": [],
   "source": [
    "yf_symbols = yf.Tickers(all_symbols)"
   ]
  },
  {
   "cell_type": "code",
   "execution_count": null,
   "metadata": {
    "ExecuteTime": {
     "end_time": "2021-02-24T09:46:13.912300Z",
     "start_time": "2021-02-24T03:35:30.819542Z"
    },
    "scrolled": false
   },
   "outputs": [],
   "source": [
    "meta_data = []\n",
    "start = time()\n",
    "for ticker, yf_object in tqdm(yf_symbols.tickers.items()):\n",
    "    try:\n",
    "        s = pd.Series(yf_object.get_info())\n",
    "        meta_data.append(s.to_frame(ticker))\n",
    "    except Exception as e:\n",
    "        # track errors\n",
    "        print(symbol.ticker, e)\n",
    "        \n",
    "print(f'Success: {len(meta_data):5,.0f} / {n:5,.0f}')"
   ]
  },
  {
   "cell_type": "code",
   "execution_count": null,
   "metadata": {},
   "outputs": [],
   "source": [
    "df = pd.concat(meta_data, axis=1).dropna(how='all').T\n",
    "df = df.apply(pd.to_numeric, errors='ignore')\n",
    "df.info(show_counts=True)"
   ]
  },
  {
   "cell_type": "code",
   "execution_count": null,
   "metadata": {},
   "outputs": [],
   "source": [
    "df.to_hdf(results_path / 'data.h5', 'stocks/info')"
   ]
  },
  {
   "cell_type": "markdown",
   "metadata": {},
   "source": [
    "## Download adjusted price data using yfinance"
   ]
  },
  {
   "cell_type": "code",
   "execution_count": null,
   "metadata": {
    "ExecuteTime": {
     "end_time": "2021-02-24T10:00:48.703840Z",
     "start_time": "2021-02-24T09:46:13.913231Z"
    },
    "scrolled": false
   },
   "outputs": [],
   "source": [
    "prices_adj = []\n",
    "start = time()\n",
    "for i, chunk in enumerate(chunks(all_symbols, 100), 1):\n",
    "    prices_adj.append(yf.download(chunk, period='max', auto_adjust=True).stack(-1))\n",
    "\n",
    "    per_ticker = (time()-start) / (i * 100)\n",
    "    to_do = n - (i * 100)\n",
    "    to_go = to_do * per_ticker    \n",
    "    print(f'Success: {len(prices_adj):5,.0f}/{i:5,.0f} | To go: {format_time(to_go)} ({to_do:5,.0f})')"
   ]
  },
  {
   "cell_type": "code",
   "execution_count": null,
   "metadata": {
    "ExecuteTime": {
     "end_time": "2021-02-24T10:01:19.400460Z",
     "start_time": "2021-02-24T10:00:48.704777Z"
    }
   },
   "outputs": [],
   "source": [
    "prices_adj = (pd.concat(prices_adj)\n",
    "              .dropna(how='all', axis=1)\n",
    "              .rename(columns=str.lower)\n",
    "              .swaplevel())"
   ]
  },
  {
   "cell_type": "code",
   "execution_count": null,
   "metadata": {
    "ExecuteTime": {
     "end_time": "2021-02-24T10:01:19.403136Z",
     "start_time": "2021-02-24T10:01:19.401480Z"
    }
   },
   "outputs": [],
   "source": [
    "prices_adj.index.names = ['ticker', 'date']"
   ]
  },
  {
   "cell_type": "code",
   "execution_count": null,
   "metadata": {
    "ExecuteTime": {
     "end_time": "2021-02-24T10:01:19.524404Z",
     "start_time": "2021-02-24T10:01:19.403934Z"
    }
   },
   "outputs": [],
   "source": [
    "len(prices_adj.index.unique('ticker'))"
   ]
  },
  {
   "cell_type": "markdown",
   "metadata": {},
   "source": [
    "### Remove outliers"
   ]
  },
  {
   "cell_type": "code",
   "execution_count": null,
   "metadata": {
    "ExecuteTime": {
     "end_time": "2021-02-24T10:01:26.721497Z",
     "start_time": "2021-02-24T10:01:19.525371Z"
    }
   },
   "outputs": [],
   "source": [
    "df = prices_adj.close.unstack('ticker')\n",
    "pmax = df.pct_change().max()\n",
    "pmin = df.pct_change().min()\n",
    "to_drop = pmax[pmax > 1].index.union(pmin[pmin<-1].index)\n",
    "len(to_drop)"
   ]
  },
  {
   "cell_type": "code",
   "execution_count": null,
   "metadata": {
    "ExecuteTime": {
     "end_time": "2021-02-24T10:02:48.974317Z",
     "start_time": "2021-02-24T10:01:26.722329Z"
    }
   },
   "outputs": [],
   "source": [
    "prices_adj = prices_adj.drop(to_drop, level='ticker')"
   ]
  },
  {
   "cell_type": "code",
   "execution_count": null,
   "metadata": {
    "ExecuteTime": {
     "end_time": "2021-02-24T10:02:49.069890Z",
     "start_time": "2021-02-24T10:02:48.975147Z"
    }
   },
   "outputs": [],
   "source": [
    "len(prices_adj.index.unique('ticker'))"
   ]
  },
  {
   "cell_type": "code",
   "execution_count": null,
   "metadata": {
    "ExecuteTime": {
     "end_time": "2021-02-24T10:02:56.784555Z",
     "start_time": "2021-02-24T10:02:49.070735Z"
    }
   },
   "outputs": [],
   "source": [
    "prices_adj.sort_index().loc[idx[:, '1990': '2019'], :].to_hdf(results_path / 'data.h5', \n",
    "                                                              'stocks/prices/adjusted')"
   ]
  }
 ],
 "metadata": {
  "kernelspec": {
   "display_name": "Python 3 (ipykernel)",
   "language": "python",
   "name": "python3"
  },
  "language_info": {
   "codemirror_mode": {
    "name": "ipython",
    "version": 3
   },
   "file_extension": ".py",
   "mimetype": "text/x-python",
   "name": "python",
   "nbconvert_exporter": "python",
   "pygments_lexer": "ipython3",
   "version": "3.8.12"
  },
  "toc": {
   "base_numbering": 1,
   "nav_menu": {},
   "number_sections": true,
   "sideBar": true,
   "skip_h1_title": true,
   "title_cell": "Table of Contents",
   "title_sidebar": "Contents",
   "toc_cell": false,
   "toc_position": {},
   "toc_section_display": true,
   "toc_window_display": true
  }
 },
 "nbformat": 4,
 "nbformat_minor": 4
}
