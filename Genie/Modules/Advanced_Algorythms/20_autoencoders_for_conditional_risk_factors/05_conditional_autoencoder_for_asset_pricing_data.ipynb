{
 "cells": [
  {
   "cell_type": "markdown",
   "metadata": {},
   "source": [
    "# Conditional Autoencoder for Asset Pricing - Part 1: The Data"
   ]
  },
  {
   "cell_type": "code",
   "execution_count": 1,
   "metadata": {
    "ExecuteTime": {
     "end_time": "2021-02-24T15:07:31.951910Z",
     "start_time": "2021-02-24T15:07:31.351143Z"
    }
   },
   "outputs": [],
   "source": [
    "from pathlib import Path\n",
    "\n",
    "import numpy as np\n",
    "import pandas as pd\n",
    "\n",
    "from statsmodels.regression.rolling import RollingOLS\n",
    "import statsmodels.api as sm\n",
    "import matplotlib.pyplot as plt\n",
    "import seaborn as sns\n"
   ]
  },
  {
   "cell_type": "code",
   "execution_count": 2,
   "metadata": {
    "ExecuteTime": {
     "end_time": "2021-02-24T15:07:31.954639Z",
     "start_time": "2021-02-24T15:07:31.953021Z"
    }
   },
   "outputs": [],
   "source": [
    "idx = pd.IndexSlice\n",
    "sns.set_style('whitegrid')"
   ]
  },
  {
   "cell_type": "code",
   "execution_count": 3,
   "metadata": {
    "ExecuteTime": {
     "end_time": "2021-02-24T15:07:31.963074Z",
     "start_time": "2021-02-24T15:07:31.955671Z"
    }
   },
   "outputs": [],
   "source": [
    "results_path = Path('results', 'asset_pricing')\n",
    "if not results_path.exists():\n",
    "    results_path.mkdir(parents=True)"
   ]
  },
  {
   "cell_type": "markdown",
   "metadata": {},
   "source": [
    "## Load Data"
   ]
  },
  {
   "cell_type": "markdown",
   "metadata": {},
   "source": [
    "### Prices"
   ]
  },
  {
   "cell_type": "code",
   "execution_count": 4,
   "metadata": {
    "ExecuteTime": {
     "end_time": "2021-02-24T15:07:33.621475Z",
     "start_time": "2021-02-24T15:07:31.963898Z"
    }
   },
   "outputs": [],
   "source": [
    "prices = pd.read_hdf(results_path / 'data.h5', 'stocks/prices/adjusted')"
   ]
  },
  {
   "cell_type": "code",
   "execution_count": 5,
   "metadata": {
    "ExecuteTime": {
     "end_time": "2021-02-24T15:07:33.932624Z",
     "start_time": "2021-02-24T15:07:33.622337Z"
    }
   },
   "outputs": [
    {
     "name": "stdout",
     "output_type": "stream",
     "text": [
      "<class 'pandas.core.frame.DataFrame'>\n",
      "MultiIndex: 17661451 entries, ('A', Timestamp('1999-11-18 00:00:00')) to ('ZYXI', Timestamp('2019-12-31 00:00:00'))\n",
      "Data columns (total 5 columns):\n",
      " #   Column  Non-Null Count     Dtype  \n",
      "---  ------  --------------     -----  \n",
      " 0   close   17661451 non-null  float64\n",
      " 1   high    17661451 non-null  float64\n",
      " 2   low     17661451 non-null  float64\n",
      " 3   open    17661451 non-null  float64\n",
      " 4   volume  17661451 non-null  float64\n",
      "dtypes: float64(5)\n",
      "memory usage: 742.0+ MB\n"
     ]
    }
   ],
   "source": [
    "prices.info(show_counts=True)"
   ]
  },
  {
   "cell_type": "markdown",
   "metadata": {},
   "source": [
    "### Metadata"
   ]
  },
  {
   "cell_type": "code",
   "execution_count": 6,
   "metadata": {
    "ExecuteTime": {
     "end_time": "2021-02-24T15:07:33.997645Z",
     "start_time": "2021-02-24T15:07:33.933520Z"
    }
   },
   "outputs": [],
   "source": [
    "metadata = pd.read_hdf(results_path / 'data.h5', 'stocks/info').rename(columns=str.lower)"
   ]
  },
  {
   "cell_type": "code",
   "execution_count": 7,
   "metadata": {
    "ExecuteTime": {
     "end_time": "2021-02-24T15:07:34.006833Z",
     "start_time": "2021-02-24T15:07:33.998994Z"
    }
   },
   "outputs": [
    {
     "name": "stdout",
     "output_type": "stream",
     "text": [
      "<class 'pandas.core.frame.DataFrame'>\n",
      "Index: 6262 entries, A to ZYXI\n",
      "Columns: 109 entries, zip to impliedsharesoutstanding\n",
      "dtypes: bool(2), float64(75), int64(3), object(29)\n",
      "memory usage: 5.2+ MB\n"
     ]
    }
   ],
   "source": [
    "metadata.info()"
   ]
  },
  {
   "cell_type": "markdown",
   "metadata": {},
   "source": [
    "### Select tickers with metadata"
   ]
  },
  {
   "cell_type": "code",
   "execution_count": 8,
   "metadata": {
    "ExecuteTime": {
     "end_time": "2021-02-24T15:07:34.019711Z",
     "start_time": "2021-02-24T15:07:34.007871Z"
    }
   },
   "outputs": [],
   "source": [
    "sectors = (metadata.sector.value_counts() > 50).index"
   ]
  },
  {
   "cell_type": "code",
   "execution_count": 9,
   "metadata": {
    "ExecuteTime": {
     "end_time": "2021-02-24T15:07:34.028440Z",
     "start_time": "2021-02-24T15:07:34.020656Z"
    }
   },
   "outputs": [],
   "source": [
    "tickers_with_errors = ['FTAI', 'AIRT', 'CYBR', 'KTB']"
   ]
  },
  {
   "cell_type": "code",
   "execution_count": 10,
   "metadata": {
    "ExecuteTime": {
     "end_time": "2021-02-24T15:07:34.042811Z",
     "start_time": "2021-02-24T15:07:34.029471Z"
    }
   },
   "outputs": [],
   "source": [
    "tickers_with_metadata = metadata[metadata.sector.isin(sectors) & \n",
    "                                 metadata.marketcap.notnull() &\n",
    "                                 metadata.sharesoutstanding.notnull() & \n",
    "                                (metadata.sharesoutstanding > 0)].index.drop(tickers_with_errors)"
   ]
  },
  {
   "cell_type": "code",
   "execution_count": 11,
   "metadata": {
    "ExecuteTime": {
     "end_time": "2021-02-24T15:07:34.056060Z",
     "start_time": "2021-02-24T15:07:34.044017Z"
    }
   },
   "outputs": [],
   "source": [
    "metadata = metadata.loc[tickers_with_metadata, ['sector', 'sharesoutstanding', 'marketcap']]\n",
    "metadata.index.name = 'ticker'"
   ]
  },
  {
   "cell_type": "code",
   "execution_count": 12,
   "metadata": {
    "ExecuteTime": {
     "end_time": "2021-02-24T15:30:43.035689Z",
     "start_time": "2021-02-24T15:07:34.057118Z"
    }
   },
   "outputs": [],
   "source": [
    "prices = prices.loc[idx[tickers_with_metadata, :], :]"
   ]
  },
  {
   "cell_type": "code",
   "execution_count": 13,
   "metadata": {
    "ExecuteTime": {
     "end_time": "2021-02-24T15:30:43.353647Z",
     "start_time": "2021-02-24T15:30:43.036510Z"
    }
   },
   "outputs": [
    {
     "name": "stderr",
     "output_type": "stream",
     "text": [
      "<ipython-input-13-e4642b41f34d>:1: FutureWarning: null_counts is deprecated. Use show_counts instead\n",
      "  prices.info(null_counts=True)\n"
     ]
    },
    {
     "name": "stdout",
     "output_type": "stream",
     "text": [
      "<class 'pandas.core.frame.DataFrame'>\n",
      "MultiIndex: 17312229 entries, ('A', Timestamp('1999-11-18 00:00:00')) to ('ZYXI', Timestamp('2019-12-31 00:00:00'))\n",
      "Data columns (total 5 columns):\n",
      " #   Column  Non-Null Count     Dtype  \n",
      "---  ------  --------------     -----  \n",
      " 0   close   17312229 non-null  float64\n",
      " 1   high    17312229 non-null  float64\n",
      " 2   low     17312229 non-null  float64\n",
      " 3   open    17312229 non-null  float64\n",
      " 4   volume  17312229 non-null  float64\n",
      "dtypes: float64(5)\n",
      "memory usage: 727.4+ MB\n"
     ]
    }
   ],
   "source": [
    "prices.info(null_counts=True)"
   ]
  },
  {
   "cell_type": "code",
   "execution_count": 14,
   "metadata": {
    "ExecuteTime": {
     "end_time": "2021-02-24T15:30:43.361769Z",
     "start_time": "2021-02-24T15:30:43.354651Z"
    }
   },
   "outputs": [
    {
     "name": "stdout",
     "output_type": "stream",
     "text": [
      "<class 'pandas.core.frame.DataFrame'>\n",
      "Index: 5749 entries, A to ZYXI\n",
      "Data columns (total 3 columns):\n",
      " #   Column             Non-Null Count  Dtype  \n",
      "---  ------             --------------  -----  \n",
      " 0   sector             5749 non-null   object \n",
      " 1   sharesoutstanding  5749 non-null   float64\n",
      " 2   marketcap          5749 non-null   float64\n",
      "dtypes: float64(2), object(1)\n",
      "memory usage: 179.7+ KB\n"
     ]
    }
   ],
   "source": [
    "metadata.info()"
   ]
  },
  {
   "cell_type": "code",
   "execution_count": 15,
   "metadata": {
    "ExecuteTime": {
     "end_time": "2021-02-24T15:30:49.145765Z",
     "start_time": "2021-02-24T15:30:43.362775Z"
    }
   },
   "outputs": [
    {
     "name": "stdout",
     "output_type": "stream",
     "text": [
      "<class 'pandas.core.frame.DataFrame'>\n",
      "DatetimeIndex: 7559 entries, 1990-01-02 to 2019-12-31\n",
      "Columns: 4420 entries, A to ZYXI\n",
      "dtypes: float64(4420)\n",
      "memory usage: 255.0 MB\n"
     ]
    }
   ],
   "source": [
    "close = prices.close.unstack('ticker').sort_index()\n",
    "close.info()"
   ]
  },
  {
   "cell_type": "code",
   "execution_count": 16,
   "metadata": {
    "ExecuteTime": {
     "end_time": "2021-02-24T15:30:55.056033Z",
     "start_time": "2021-02-24T15:30:49.146672Z"
    }
   },
   "outputs": [
    {
     "name": "stdout",
     "output_type": "stream",
     "text": [
      "<class 'pandas.core.frame.DataFrame'>\n",
      "DatetimeIndex: 7559 entries, 1990-01-02 to 2019-12-31\n",
      "Columns: 4420 entries, A to ZYXI\n",
      "dtypes: float64(4420)\n",
      "memory usage: 255.0 MB\n"
     ]
    }
   ],
   "source": [
    "volume = prices.volume.unstack('ticker').sort_index()\n",
    "volume.info()"
   ]
  },
  {
   "cell_type": "markdown",
   "metadata": {},
   "source": [
    "### Create weekly returns"
   ]
  },
  {
   "cell_type": "code",
   "execution_count": 17,
   "metadata": {
    "ExecuteTime": {
     "end_time": "2021-02-24T15:31:01.377951Z",
     "start_time": "2021-02-24T15:30:55.057292Z"
    }
   },
   "outputs": [
    {
     "name": "stdout",
     "output_type": "stream",
     "text": [
      "<class 'pandas.core.frame.DataFrame'>\n",
      "DatetimeIndex: 1565 entries, 1990-01-12 to 2020-01-03\n",
      "Freq: W-FRI\n",
      "Columns: 4420 entries, A to ZYXI\n",
      "dtypes: float64(4420)\n",
      "memory usage: 52.8 MB\n"
     ]
    }
   ],
   "source": [
    "returns = (prices.close\n",
    "           .unstack('ticker')\n",
    "           .resample('W-FRI').last()\n",
    "           .sort_index().pct_change().iloc[1:])\n",
    "returns.info()"
   ]
  },
  {
   "cell_type": "code",
   "execution_count": 18,
   "metadata": {
    "ExecuteTime": {
     "end_time": "2021-02-24T15:31:01.380485Z",
     "start_time": "2021-02-24T15:31:01.378804Z"
    }
   },
   "outputs": [],
   "source": [
    "dates = returns.index"
   ]
  },
  {
   "cell_type": "code",
   "execution_count": 19,
   "metadata": {
    "ExecuteTime": {
     "end_time": "2021-02-24T15:31:01.581772Z",
     "start_time": "2021-02-24T15:31:01.381581Z"
    }
   },
   "outputs": [
    {
     "name": "stderr",
     "output_type": "stream",
     "text": [
      "/home/stefan/.pyenv/versions/miniconda3-latest/envs/ml4t-dl/lib/python3.8/site-packages/seaborn/distributions.py:2557: FutureWarning: `distplot` is a deprecated function and will be removed in a future version. Please adapt your code to use either `displot` (a figure-level function with similar flexibility) or `histplot` (an axes-level function for histograms).\n",
      "  warnings.warn(msg, FutureWarning)\n"
     ]
    },
    {
     "data": {
      "image/png": "[encoded data removed]",
      "text/plain": [
       "<Figure size 432x288 with 1 Axes>"
      ]
     },
     "metadata": {},
     "output_type": "display_data"
    }
   ],
   "source": [
    "sns.distplot(returns.count(1), kde=False);"
   ]
  },
  {
   "cell_type": "code",
   "execution_count": 20,
   "metadata": {
    "ExecuteTime": {
     "end_time": "2021-02-24T15:31:01.874242Z",
     "start_time": "2021-02-24T15:31:01.582715Z"
    }
   },
   "outputs": [],
   "source": [
    "with pd.HDFStore(results_path / 'autoencoder.h5') as store:\n",
    "    store.put('close', close)\n",
    "    store.put('volume', volume)\n",
    "    store.put('returns', returns)\n",
    "    store.put('metadata', metadata)"
   ]
  },
  {
   "cell_type": "markdown",
   "metadata": {},
   "source": [
    "## Factor Engineering"
   ]
  },
  {
   "cell_type": "code",
   "execution_count": 21,
   "metadata": {
    "ExecuteTime": {
     "end_time": "2021-02-24T15:31:01.876666Z",
     "start_time": "2021-02-24T15:31:01.875143Z"
    }
   },
   "outputs": [],
   "source": [
    "MONTH = 21"
   ]
  },
  {
   "cell_type": "markdown",
   "metadata": {},
   "source": [
    "### Price Trend"
   ]
  },
  {
   "cell_type": "markdown",
   "metadata": {},
   "source": [
    "#### Short-Term Reversal"
   ]
  },
  {
   "cell_type": "markdown",
   "metadata": {},
   "source": [
    "1-month cumulative return"
   ]
  },
  {
   "cell_type": "code",
   "execution_count": 22,
   "metadata": {
    "ExecuteTime": {
     "end_time": "2021-02-24T15:31:01.885711Z",
     "start_time": "2021-02-24T15:31:01.878828Z"
    }
   },
   "outputs": [
    {
     "data": {
      "text/plain": [
       "DatetimeIndex(['1990-01-12', '1990-01-19', '1990-01-26', '1990-02-02',\n",
       "               '1990-02-09'],\n",
       "              dtype='datetime64[ns]', name='date', freq='W-FRI')"
      ]
     },
     "execution_count": 22,
     "metadata": {},
     "output_type": "execute_result"
    }
   ],
   "source": [
    "dates[:5]"
   ]
  },
  {
   "cell_type": "code",
   "execution_count": 23,
   "metadata": {
    "ExecuteTime": {
     "end_time": "2021-02-24T15:31:02.511175Z",
     "start_time": "2021-02-24T15:31:01.887161Z"
    }
   },
   "outputs": [
    {
     "name": "stdout",
     "output_type": "stream",
     "text": [
      "<class 'pandas.core.frame.DataFrame'>\n",
      "MultiIndex: 3580621 entries, (Timestamp('1990-02-02 00:00:00', freq='W-FRI'), 'AA') to (Timestamp('2020-01-03 00:00:00', freq='W-FRI'), 'ZYXI')\n",
      "Data columns (total 1 columns):\n",
      " #   Column  Dtype  \n",
      "---  ------  -----  \n",
      " 0   mom1m   float64\n",
      "dtypes: float64(1)\n",
      "memory usage: 41.2+ MB\n"
     ]
    }
   ],
   "source": [
    "mom1m = close.pct_change(periods=MONTH).resample('W-FRI').last().stack().to_frame('mom1m')\n",
    "mom1m.info()"
   ]
  },
  {
   "cell_type": "code",
   "execution_count": 24,
   "metadata": {
    "ExecuteTime": {
     "end_time": "2021-02-24T15:31:02.540510Z",
     "start_time": "2021-02-24T15:31:02.512142Z"
    }
   },
   "outputs": [],
   "source": [
    "mom1m.squeeze().to_hdf(results_path / 'autoencoder.h5', 'factor/mom1m')"
   ]
  },
  {
   "cell_type": "markdown",
   "metadata": {},
   "source": [
    "#### Stock Momentum"
   ]
  },
  {
   "cell_type": "markdown",
   "metadata": {},
   "source": [
    "11-month cumulative returns ending 1-month before month end"
   ]
  },
  {
   "cell_type": "code",
   "execution_count": 25,
   "metadata": {
    "ExecuteTime": {
     "end_time": "2021-02-24T15:31:03.146297Z",
     "start_time": "2021-02-24T15:31:02.541311Z"
    }
   },
   "outputs": [],
   "source": [
    "mom12m = (close\n",
    "            .pct_change(periods=11 * MONTH)\n",
    "            .shift(MONTH)\n",
    "            .resample('W-FRI')\n",
    "            .last()\n",
    "            .stack()\n",
    "            .to_frame('mom12m'))"
   ]
  },
  {
   "cell_type": "code",
   "execution_count": 26,
   "metadata": {
    "ExecuteTime": {
     "end_time": "2021-02-24T15:31:03.196560Z",
     "start_time": "2021-02-24T15:31:03.147146Z"
    }
   },
   "outputs": [
    {
     "name": "stdout",
     "output_type": "stream",
     "text": [
      "<class 'pandas.core.frame.DataFrame'>\n",
      "MultiIndex: 3375489 entries, (Timestamp('1991-01-04 00:00:00', freq='W-FRI'), 'AA') to (Timestamp('2020-01-03 00:00:00', freq='W-FRI'), 'ZYXI')\n",
      "Data columns (total 1 columns):\n",
      " #   Column  Non-Null Count    Dtype  \n",
      "---  ------  --------------    -----  \n",
      " 0   mom12m  3375489 non-null  float64\n",
      "dtypes: float64(1)\n",
      "memory usage: 38.8+ MB\n"
     ]
    },
    {
     "name": "stderr",
     "output_type": "stream",
     "text": [
      "<ipython-input-26-8a049b23d2aa>:1: FutureWarning: null_counts is deprecated. Use show_counts instead\n",
      "  mom12m.info(null_counts=True)\n"
     ]
    }
   ],
   "source": [
    "mom12m.info(null_counts=True)"
   ]
  },
  {
   "cell_type": "code",
   "execution_count": 27,
   "metadata": {
    "ExecuteTime": {
     "end_time": "2021-02-24T15:31:03.225828Z",
     "start_time": "2021-02-24T15:31:03.197502Z"
    }
   },
   "outputs": [],
   "source": [
    "mom12m.to_hdf(results_path / 'autoencoder.h5', 'factor/mom12m')"
   ]
  },
  {
   "cell_type": "markdown",
   "metadata": {},
   "source": [
    "#### Momentum Change"
   ]
  },
  {
   "cell_type": "markdown",
   "metadata": {},
   "source": [
    "Cumulative return from months t-6 to t-1 minus months t-12 to t-7."
   ]
  },
  {
   "cell_type": "code",
   "execution_count": 28,
   "metadata": {
    "ExecuteTime": {
     "end_time": "2021-02-24T15:31:04.175407Z",
     "start_time": "2021-02-24T15:31:03.226841Z"
    }
   },
   "outputs": [],
   "source": [
    "chmom = (close\n",
    "         .pct_change(periods=6 * MONTH)\n",
    "         .sub(close.pct_change(periods=6 * MONTH).shift(6 * MONTH))\n",
    "         .resample('W-FRI')\n",
    "         .last()\n",
    "         .stack()\n",
    "         .to_frame('chmom'))"
   ]
  },
  {
   "cell_type": "code",
   "execution_count": 29,
   "metadata": {
    "ExecuteTime": {
     "end_time": "2021-02-24T15:31:04.224124Z",
     "start_time": "2021-02-24T15:31:04.176245Z"
    }
   },
   "outputs": [
    {
     "name": "stdout",
     "output_type": "stream",
     "text": [
      "<class 'pandas.core.frame.DataFrame'>\n",
      "MultiIndex: 3375489 entries, (Timestamp('1991-01-04 00:00:00', freq='W-FRI'), 'AA') to (Timestamp('2020-01-03 00:00:00', freq='W-FRI'), 'ZYXI')\n",
      "Data columns (total 1 columns):\n",
      " #   Column  Non-Null Count    Dtype  \n",
      "---  ------  --------------    -----  \n",
      " 0   chmom   3375489 non-null  float64\n",
      "dtypes: float64(1)\n",
      "memory usage: 38.8+ MB\n"
     ]
    },
    {
     "name": "stderr",
     "output_type": "stream",
     "text": [
      "<ipython-input-29-312a8747df17>:1: FutureWarning: null_counts is deprecated. Use show_counts instead\n",
      "  chmom.info(null_counts=True)\n"
     ]
    }
   ],
   "source": [
    "chmom.info(null_counts=True)"
   ]
  },
  {
   "cell_type": "code",
   "execution_count": 30,
   "metadata": {
    "ExecuteTime": {
     "end_time": "2021-02-24T15:31:04.253178Z",
     "start_time": "2021-02-24T15:31:04.225020Z"
    }
   },
   "outputs": [],
   "source": [
    "chmom.to_hdf(results_path / 'autoencoder.h5', 'factor/chmom')"
   ]
  },
  {
   "cell_type": "markdown",
   "metadata": {},
   "source": [
    "#### Industry Momentum"
   ]
  },
  {
   "cell_type": "markdown",
   "metadata": {},
   "source": [
    "Equal-weighted avg. industry 12-month returns"
   ]
  },
  {
   "cell_type": "code",
   "execution_count": 31,
   "metadata": {
    "ExecuteTime": {
     "end_time": "2021-02-24T15:31:05.205923Z",
     "start_time": "2021-02-24T15:31:04.254036Z"
    }
   },
   "outputs": [],
   "source": [
    "indmom = (close.pct_change(12*MONTH)\n",
    "          .resample('W-FRI')\n",
    "          .last()\n",
    "          .stack()\n",
    "          .to_frame('close')\n",
    "          .join(metadata[['sector']]).groupby(['date', 'sector'])\n",
    "          .close.mean()\n",
    "          .to_frame('indmom')\n",
    "          .reset_index())"
   ]
  },
  {
   "cell_type": "code",
   "execution_count": 32,
   "metadata": {
    "ExecuteTime": {
     "end_time": "2021-02-24T15:31:05.214051Z",
     "start_time": "2021-02-24T15:31:05.206759Z"
    }
   },
   "outputs": [
    {
     "name": "stdout",
     "output_type": "stream",
     "text": [
      "<class 'pandas.core.frame.DataFrame'>\n",
      "RangeIndex: 18495 entries, 0 to 18494\n",
      "Data columns (total 3 columns):\n",
      " #   Column  Non-Null Count  Dtype         \n",
      "---  ------  --------------  -----         \n",
      " 0   date    18495 non-null  datetime64[ns]\n",
      " 1   sector  18495 non-null  object        \n",
      " 2   indmom  18495 non-null  float64       \n",
      "dtypes: datetime64[ns](1), float64(1), object(1)\n",
      "memory usage: 433.6+ KB\n"
     ]
    },
    {
     "name": "stderr",
     "output_type": "stream",
     "text": [
      "<ipython-input-32-fcaeaa0a7b0b>:1: FutureWarning: null_counts is deprecated. Use show_counts instead\n",
      "  indmom.info(null_counts=True)\n"
     ]
    }
   ],
   "source": [
    "indmom.info(null_counts=True)"
   ]
  },
  {
   "cell_type": "code",
   "execution_count": 33,
   "metadata": {
    "ExecuteTime": {
     "end_time": "2021-02-24T15:31:06.153300Z",
     "start_time": "2021-02-24T15:31:05.215068Z"
    }
   },
   "outputs": [],
   "source": [
    "indmom = (returns\n",
    "          .stack()\n",
    "          .to_frame('ret')\n",
    "          .join(metadata[['sector']])\n",
    "          .reset_index()\n",
    "          .merge(indmom)\n",
    "          .set_index(['date', 'ticker'])\n",
    "          .loc[:, ['indmom']])"
   ]
  },
  {
   "cell_type": "code",
   "execution_count": 34,
   "metadata": {
    "ExecuteTime": {
     "end_time": "2021-02-24T15:31:06.164686Z",
     "start_time": "2021-02-24T15:31:06.154163Z"
    }
   },
   "outputs": [
    {
     "name": "stdout",
     "output_type": "stream",
     "text": [
      "<class 'pandas.core.frame.DataFrame'>\n",
      "MultiIndex: 3551199 entries, (Timestamp('1991-01-04 00:00:00'), 'AA') to (Timestamp('2020-01-03 00:00:00'), 'ZTR')\n",
      "Data columns (total 1 columns):\n",
      " #   Column  Non-Null Count    Dtype  \n",
      "---  ------  --------------    -----  \n",
      " 0   indmom  3551199 non-null  float64\n",
      "dtypes: float64(1)\n",
      "memory usage: 40.8+ MB\n"
     ]
    },
    {
     "name": "stderr",
     "output_type": "stream",
     "text": [
      "<ipython-input-34-fcaeaa0a7b0b>:1: FutureWarning: null_counts is deprecated. Use show_counts instead\n",
      "  indmom.info(null_counts=True)\n"
     ]
    }
   ],
   "source": [
    "indmom.info(null_counts=True)"
   ]
  },
  {
   "cell_type": "code",
   "execution_count": 35,
   "metadata": {
    "ExecuteTime": {
     "end_time": "2021-02-24T15:31:06.193427Z",
     "start_time": "2021-02-24T15:31:06.165684Z"
    }
   },
   "outputs": [],
   "source": [
    "indmom.to_hdf(results_path / 'autoencoder.h5', 'factor/indmom')"
   ]
  },
  {
   "cell_type": "markdown",
   "metadata": {},
   "source": [
    "#### Recent Max Return"
   ]
  },
  {
   "cell_type": "markdown",
   "metadata": {},
   "source": [
    "Max daily returns from calendar month t-1"
   ]
  },
  {
   "cell_type": "code",
   "execution_count": 36,
   "metadata": {
    "ExecuteTime": {
     "end_time": "2021-02-24T15:31:07.585474Z",
     "start_time": "2021-02-24T15:31:06.194373Z"
    }
   },
   "outputs": [],
   "source": [
    "maxret = (close\n",
    "           .pct_change(periods=MONTH)\n",
    "           .rolling(21)\n",
    "           .max()\n",
    "           .resample('W-FRI')\n",
    "           .last()\n",
    "           .stack()\n",
    "           .to_frame('maxret'))"
   ]
  },
  {
   "cell_type": "code",
   "execution_count": 37,
   "metadata": {
    "ExecuteTime": {
     "end_time": "2021-02-24T15:31:07.633250Z",
     "start_time": "2021-02-24T15:31:07.586352Z"
    }
   },
   "outputs": [
    {
     "name": "stdout",
     "output_type": "stream",
     "text": [
      "<class 'pandas.core.frame.DataFrame'>\n",
      "MultiIndex: 3562402 entries, (Timestamp('1990-03-02 00:00:00', freq='W-FRI'), 'AA') to (Timestamp('2020-01-03 00:00:00', freq='W-FRI'), 'ZYXI')\n",
      "Data columns (total 1 columns):\n",
      " #   Column  Non-Null Count    Dtype  \n",
      "---  ------  --------------    -----  \n",
      " 0   maxret  3562402 non-null  float64\n",
      "dtypes: float64(1)\n",
      "memory usage: 41.0+ MB\n"
     ]
    },
    {
     "name": "stderr",
     "output_type": "stream",
     "text": [
      "<ipython-input-37-ac905a38795f>:1: FutureWarning: null_counts is deprecated. Use show_counts instead\n",
      "  maxret.info(null_counts=True)\n"
     ]
    }
   ],
   "source": [
    "maxret.info(null_counts=True)"
   ]
  },
  {
   "cell_type": "code",
   "execution_count": 38,
   "metadata": {
    "ExecuteTime": {
     "end_time": "2021-02-24T15:31:07.662862Z",
     "start_time": "2021-02-24T15:31:07.634151Z"
    }
   },
   "outputs": [],
   "source": [
    "maxret.to_hdf(results_path / 'autoencoder.h5', 'factor/maxret')"
   ]
  },
  {
   "cell_type": "markdown",
   "metadata": {},
   "source": [
    "#### Long-Term Reversal"
   ]
  },
  {
   "cell_type": "markdown",
   "metadata": {},
   "source": [
    "Cumulative returns months t-36 to t-13."
   ]
  },
  {
   "cell_type": "code",
   "execution_count": 39,
   "metadata": {
    "ExecuteTime": {
     "end_time": "2021-02-24T15:31:08.227020Z",
     "start_time": "2021-02-24T15:31:07.663799Z"
    }
   },
   "outputs": [],
   "source": [
    "mom36m = (close\n",
    "           .pct_change(periods=24*MONTH)\n",
    "           .shift(12*MONTH)\n",
    "           .resample('W-FRI')\n",
    "           .last()\n",
    "           .stack()\n",
    "           .to_frame('mom36m'))"
   ]
  },
  {
   "cell_type": "code",
   "execution_count": 40,
   "metadata": {
    "ExecuteTime": {
     "end_time": "2021-02-24T15:31:08.266863Z",
     "start_time": "2021-02-24T15:31:08.227869Z"
    }
   },
   "outputs": [
    {
     "name": "stdout",
     "output_type": "stream",
     "text": [
      "<class 'pandas.core.frame.DataFrame'>\n",
      "MultiIndex: 2967391 entries, (Timestamp('1993-01-01 00:00:00', freq='W-FRI'), 'AA') to (Timestamp('2020-01-03 00:00:00', freq='W-FRI'), 'ZYXI')\n",
      "Data columns (total 1 columns):\n",
      " #   Column  Non-Null Count    Dtype  \n",
      "---  ------  --------------    -----  \n",
      " 0   mom36m  2967391 non-null  float64\n",
      "dtypes: float64(1)\n",
      "memory usage: 34.2+ MB\n"
     ]
    },
    {
     "name": "stderr",
     "output_type": "stream",
     "text": [
      "<ipython-input-40-44b3a6a0df39>:1: FutureWarning: null_counts is deprecated. Use show_counts instead\n",
      "  mom36m.info(null_counts=True)\n"
     ]
    }
   ],
   "source": [
    "mom36m.info(null_counts=True)"
   ]
  },
  {
   "cell_type": "code",
   "execution_count": 41,
   "metadata": {
    "ExecuteTime": {
     "end_time": "2021-02-24T15:31:08.293411Z",
     "start_time": "2021-02-24T15:31:08.267936Z"
    }
   },
   "outputs": [],
   "source": [
    "mom36m.to_hdf(results_path / 'autoencoder.h5', 'factor/mom36m')"
   ]
  },
  {
   "cell_type": "markdown",
   "metadata": {},
   "source": [
    "### Liquidity Metrics"
   ]
  },
  {
   "cell_type": "markdown",
   "metadata": {},
   "source": [
    "#### Turnover"
   ]
  },
  {
   "cell_type": "markdown",
   "metadata": {},
   "source": [
    "Avg. monthly trading volume for most recent three months scaled by number of shares; we are using the most recent no of shares from yahoo finance"
   ]
  },
  {
   "cell_type": "code",
   "execution_count": 42,
   "metadata": {
    "ExecuteTime": {
     "end_time": "2021-02-24T15:31:09.804423Z",
     "start_time": "2021-02-24T15:31:08.294902Z"
    }
   },
   "outputs": [],
   "source": [
    "turn = (volume\n",
    "        .rolling(3*MONTH)\n",
    "        .mean()\n",
    "        .resample('W-FRI')\n",
    "        .last()\n",
    "        .div(metadata.sharesoutstanding)\n",
    "        .stack('ticker')\n",
    "        .to_frame('turn'))"
   ]
  },
  {
   "cell_type": "code",
   "execution_count": 43,
   "metadata": {
    "ExecuteTime": {
     "end_time": "2021-02-24T15:31:09.852968Z",
     "start_time": "2021-02-24T15:31:09.805188Z"
    }
   },
   "outputs": [
    {
     "name": "stdout",
     "output_type": "stream",
     "text": [
      "<class 'pandas.core.frame.DataFrame'>\n",
      "MultiIndex: 3506569 entries, (Timestamp('1990-03-30 00:00:00', freq='W-FRI'), 'AA') to (Timestamp('2020-01-03 00:00:00', freq='W-FRI'), 'ZYXI')\n",
      "Data columns (total 1 columns):\n",
      " #   Column  Non-Null Count    Dtype  \n",
      "---  ------  --------------    -----  \n",
      " 0   turn    3506569 non-null  float64\n",
      "dtypes: float64(1)\n",
      "memory usage: 40.3+ MB\n"
     ]
    },
    {
     "name": "stderr",
     "output_type": "stream",
     "text": [
      "<ipython-input-43-1b68d28a79cd>:1: FutureWarning: null_counts is deprecated. Use show_counts instead\n",
      "  turn.info(null_counts=True)\n"
     ]
    }
   ],
   "source": [
    "turn.info(null_counts=True)"
   ]
  },
  {
   "cell_type": "code",
   "execution_count": 44,
   "metadata": {
    "ExecuteTime": {
     "end_time": "2021-02-24T15:31:09.882475Z",
     "start_time": "2021-02-24T15:31:09.854048Z"
    }
   },
   "outputs": [],
   "source": [
    "turn.to_hdf(results_path / 'autoencoder.h5', 'factor/turn')"
   ]
  },
  {
   "cell_type": "markdown",
   "metadata": {},
   "source": [
    "#### Turnover Volatility"
   ]
  },
  {
   "cell_type": "markdown",
   "metadata": {},
   "source": [
    "Monthly std dev of daily share turnover"
   ]
  },
  {
   "cell_type": "code",
   "execution_count": 45,
   "metadata": {
    "ExecuteTime": {
     "end_time": "2021-02-24T15:31:18.197599Z",
     "start_time": "2021-02-24T15:31:09.883665Z"
    }
   },
   "outputs": [],
   "source": [
    "turn_std = (prices\n",
    "            .volume\n",
    "            .unstack('ticker')\n",
    "            .div(metadata.sharesoutstanding)\n",
    "            .rolling(MONTH)\n",
    "            .std()\n",
    "            .resample('W-FRI')\n",
    "            .last()\n",
    "            .stack('ticker')\n",
    "            .to_frame('turn_std'))"
   ]
  },
  {
   "cell_type": "code",
   "execution_count": 46,
   "metadata": {
    "ExecuteTime": {
     "end_time": "2021-02-24T15:31:18.226370Z",
     "start_time": "2021-02-24T15:31:18.198490Z"
    }
   },
   "outputs": [],
   "source": [
    "turn_std.to_hdf(results_path / 'autoencoder.h5', 'factor/turn_std')"
   ]
  },
  {
   "cell_type": "markdown",
   "metadata": {},
   "source": [
    "#### Log Market Equity"
   ]
  },
  {
   "cell_type": "markdown",
   "metadata": {},
   "source": [
    "Natural log of market cap at end of month t-1"
   ]
  },
  {
   "cell_type": "code",
   "execution_count": 47,
   "metadata": {
    "ExecuteTime": {
     "end_time": "2021-02-24T15:31:19.713130Z",
     "start_time": "2021-02-24T15:31:18.227239Z"
    }
   },
   "outputs": [],
   "source": [
    "last_price = close.ffill()\n",
    "factor = close.div(last_price.iloc[-1])\n",
    "mvel = np.log1p(factor.mul(metadata.marketcap).resample('W-FRI').last()).stack().to_frame('mvel')"
   ]
  },
  {
   "cell_type": "code",
   "execution_count": 48,
   "metadata": {
    "ExecuteTime": {
     "end_time": "2021-02-24T15:31:19.767170Z",
     "start_time": "2021-02-24T15:31:19.713957Z"
    }
   },
   "outputs": [
    {
     "name": "stdout",
     "output_type": "stream",
     "text": [
      "<class 'pandas.core.frame.DataFrame'>\n",
      "MultiIndex: 3597636 entries, (Timestamp('1990-01-05 00:00:00', freq='W-FRI'), 'AA') to (Timestamp('2020-01-03 00:00:00', freq='W-FRI'), 'ZYXI')\n",
      "Data columns (total 1 columns):\n",
      " #   Column  Non-Null Count    Dtype  \n",
      "---  ------  --------------    -----  \n",
      " 0   mvel    3597636 non-null  float64\n",
      "dtypes: float64(1)\n",
      "memory usage: 41.4+ MB\n"
     ]
    },
    {
     "name": "stderr",
     "output_type": "stream",
     "text": [
      "<ipython-input-48-2c361336080a>:1: FutureWarning: null_counts is deprecated. Use show_counts instead\n",
      "  mvel.info(null_counts=True)\n"
     ]
    }
   ],
   "source": [
    "mvel.info(null_counts=True)"
   ]
  },
  {
   "cell_type": "code",
   "execution_count": 49,
   "metadata": {
    "ExecuteTime": {
     "end_time": "2021-02-24T15:31:19.807236Z",
     "start_time": "2021-02-24T15:31:19.768465Z"
    }
   },
   "outputs": [],
   "source": [
    "mvel.to_hdf(results_path / 'autoencoder.h5', 'factor/mvel')"
   ]
  },
  {
   "cell_type": "markdown",
   "metadata": {},
   "source": [
    "#### Dollar Volume"
   ]
  },
  {
   "cell_type": "markdown",
   "metadata": {},
   "source": [
    "Natural log of trading volume time price per share from month t-2"
   ]
  },
  {
   "cell_type": "code",
   "execution_count": 50,
   "metadata": {
    "ExecuteTime": {
     "end_time": "2021-02-24T15:31:19.875033Z",
     "start_time": "2021-02-24T15:31:19.808087Z"
    }
   },
   "outputs": [],
   "source": [
    "dv = close.mul(volume)"
   ]
  },
  {
   "cell_type": "code",
   "execution_count": 51,
   "metadata": {
    "ExecuteTime": {
     "end_time": "2021-02-24T15:31:21.166359Z",
     "start_time": "2021-02-24T15:31:19.875995Z"
    }
   },
   "outputs": [],
   "source": [
    "dolvol = (np.log1p(dv.rolling(21)\n",
    "                  .mean()\n",
    "                  .shift(21)\n",
    "                  .resample('W-FRI')\n",
    "                  .last())\n",
    "          .stack()\n",
    "          .to_frame('dolvol'))"
   ]
  },
  {
   "cell_type": "code",
   "execution_count": 52,
   "metadata": {
    "ExecuteTime": {
     "end_time": "2021-02-24T15:31:21.193943Z",
     "start_time": "2021-02-24T15:31:21.167174Z"
    }
   },
   "outputs": [],
   "source": [
    "dolvol.to_hdf(results_path / 'autoencoder.h5', 'factor/dolvol')"
   ]
  },
  {
   "cell_type": "markdown",
   "metadata": {},
   "source": [
    "#### Amihud Illiquidity"
   ]
  },
  {
   "cell_type": "markdown",
   "metadata": {},
   "source": [
    "Average of daily (absolute return / dollar volume)"
   ]
  },
  {
   "cell_type": "code",
   "execution_count": 53,
   "metadata": {
    "ExecuteTime": {
     "end_time": "2021-02-24T15:31:22.668882Z",
     "start_time": "2021-02-24T15:31:21.194934Z"
    }
   },
   "outputs": [],
   "source": [
    "ill = (close.pct_change().abs()\n",
    "       .div(dv)\n",
    "       .rolling(21)\n",
    "       .mean()\n",
    "       .resample('W-FRI').last()\n",
    "       .stack()\n",
    "       .to_frame('ill'))"
   ]
  },
  {
   "cell_type": "code",
   "execution_count": 54,
   "metadata": {
    "ExecuteTime": {
     "end_time": "2021-02-24T15:31:22.719439Z",
     "start_time": "2021-02-24T15:31:22.669807Z"
    }
   },
   "outputs": [
    {
     "name": "stdout",
     "output_type": "stream",
     "text": [
      "<class 'pandas.core.frame.DataFrame'>\n",
      "MultiIndex: 3210773 entries, (Timestamp('1990-02-02 00:00:00', freq='W-FRI'), 'AA') to (Timestamp('2020-01-03 00:00:00', freq='W-FRI'), 'ZYXI')\n",
      "Data columns (total 1 columns):\n",
      " #   Column  Non-Null Count    Dtype  \n",
      "---  ------  --------------    -----  \n",
      " 0   ill     3210773 non-null  float64\n",
      "dtypes: float64(1)\n",
      "memory usage: 36.9+ MB\n"
     ]
    },
    {
     "name": "stderr",
     "output_type": "stream",
     "text": [
      "<ipython-input-54-d1823ec8761b>:1: FutureWarning: null_counts is deprecated. Use show_counts instead\n",
      "  ill.info(null_counts=True)\n"
     ]
    }
   ],
   "source": [
    "ill.info(null_counts=True)"
   ]
  },
  {
   "cell_type": "code",
   "execution_count": 55,
   "metadata": {
    "ExecuteTime": {
     "end_time": "2021-02-24T15:31:22.748882Z",
     "start_time": "2021-02-24T15:31:22.720722Z"
    }
   },
   "outputs": [],
   "source": [
    "ill.to_hdf(results_path / 'autoencoder.h5', 'factor/ill')"
   ]
  },
  {
   "cell_type": "markdown",
   "metadata": {},
   "source": [
    "### Risk Measures"
   ]
  },
  {
   "cell_type": "markdown",
   "metadata": {},
   "source": [
    "#### Return Volatility"
   ]
  },
  {
   "cell_type": "markdown",
   "metadata": {},
   "source": [
    "Standard dev of daily returns from month t-1."
   ]
  },
  {
   "cell_type": "code",
   "execution_count": 56,
   "metadata": {
    "ExecuteTime": {
     "end_time": "2021-02-24T15:31:24.135283Z",
     "start_time": "2021-02-24T15:31:22.749843Z"
    }
   },
   "outputs": [],
   "source": [
    "retvol = (close.pct_change()\n",
    "          .rolling(21)\n",
    "          .std()\n",
    "          .resample('W-FRI')\n",
    "          .last()\n",
    "          .stack()\n",
    "          .to_frame('retvol'))"
   ]
  },
  {
   "cell_type": "code",
   "execution_count": 57,
   "metadata": {
    "ExecuteTime": {
     "end_time": "2021-02-24T15:31:24.185387Z",
     "start_time": "2021-02-24T15:31:24.136130Z"
    }
   },
   "outputs": [
    {
     "name": "stdout",
     "output_type": "stream",
     "text": [
      "<class 'pandas.core.frame.DataFrame'>\n",
      "MultiIndex: 3580621 entries, (Timestamp('1990-02-02 00:00:00', freq='W-FRI'), 'AA') to (Timestamp('2020-01-03 00:00:00', freq='W-FRI'), 'ZYXI')\n",
      "Data columns (total 1 columns):\n",
      " #   Column  Non-Null Count    Dtype  \n",
      "---  ------  --------------    -----  \n",
      " 0   retvol  3580621 non-null  float64\n",
      "dtypes: float64(1)\n",
      "memory usage: 41.2+ MB\n"
     ]
    },
    {
     "name": "stderr",
     "output_type": "stream",
     "text": [
      "<ipython-input-57-b187f925aef0>:1: FutureWarning: null_counts is deprecated. Use show_counts instead\n",
      "  retvol.info(null_counts=True)\n"
     ]
    }
   ],
   "source": [
    "retvol.info(null_counts=True)"
   ]
  },
  {
   "cell_type": "code",
   "execution_count": 58,
   "metadata": {
    "ExecuteTime": {
     "end_time": "2021-02-24T15:31:24.217951Z",
     "start_time": "2021-02-24T15:31:24.186306Z"
    }
   },
   "outputs": [],
   "source": [
    "retvol.to_hdf(results_path / 'autoencoder.h5', 'factor/retvol')"
   ]
  },
  {
   "cell_type": "markdown",
   "metadata": {},
   "source": [
    "#### Market Beta"
   ]
  },
  {
   "cell_type": "markdown",
   "metadata": {},
   "source": [
    "Estimated market beta from weekly returns and equal weighted market returns for 3 years ending month t-1 with at least 52 weeks of returns."
   ]
  },
  {
   "cell_type": "code",
   "execution_count": 59,
   "metadata": {
    "ExecuteTime": {
     "end_time": "2021-02-24T15:31:24.501234Z",
     "start_time": "2021-02-24T15:31:24.218804Z"
    }
   },
   "outputs": [],
   "source": [
    "index = close.resample('W-FRI').last().pct_change().mean(1).to_frame('x')"
   ]
  },
  {
   "cell_type": "code",
   "execution_count": 60,
   "metadata": {
    "ExecuteTime": {
     "end_time": "2021-02-24T15:31:24.504378Z",
     "start_time": "2021-02-24T15:31:24.502062Z"
    }
   },
   "outputs": [],
   "source": [
    "def get_market_beta(y, x=index):\n",
    "    df = x.join(y.to_frame('y')).dropna()\n",
    "    model = RollingOLS(endog=df.y, \n",
    "                       exog=sm.add_constant(df[['x']]),\n",
    "                      window=3*52)\n",
    "\n",
    "    return model.fit(params_only=True).params['x']"
   ]
  },
  {
   "cell_type": "code",
   "execution_count": 61,
   "metadata": {
    "ExecuteTime": {
     "end_time": "2021-02-24T15:32:27.608190Z",
     "start_time": "2021-02-24T15:31:24.505305Z"
    }
   },
   "outputs": [],
   "source": [
    "beta = (returns.dropna(thresh=3*52, axis=1)\n",
    "        .apply(get_market_beta).stack().to_frame('beta'))"
   ]
  },
  {
   "cell_type": "code",
   "execution_count": 62,
   "metadata": {
    "ExecuteTime": {
     "end_time": "2021-02-24T15:32:27.652151Z",
     "start_time": "2021-02-24T15:32:27.609024Z"
    }
   },
   "outputs": [
    {
     "name": "stdout",
     "output_type": "stream",
     "text": [
      "<class 'pandas.core.frame.DataFrame'>\n",
      "MultiIndex: 2969406 entries, (Timestamp('1993-01-01 00:00:00', freq='W-FRI'), 'AA') to (Timestamp('2020-01-03 00:00:00', freq='W-FRI'), 'ZYXI')\n",
      "Data columns (total 1 columns):\n",
      " #   Column  Non-Null Count    Dtype  \n",
      "---  ------  --------------    -----  \n",
      " 0   beta    2969406 non-null  float64\n",
      "dtypes: float64(1)\n",
      "memory usage: 34.2+ MB\n"
     ]
    },
    {
     "name": "stderr",
     "output_type": "stream",
     "text": [
      "<ipython-input-62-f1c77092070c>:1: FutureWarning: null_counts is deprecated. Use show_counts instead\n",
      "  beta.info(null_counts=True)\n"
     ]
    }
   ],
   "source": [
    "beta.info(null_counts=True)"
   ]
  },
  {
   "cell_type": "code",
   "execution_count": 63,
   "metadata": {
    "ExecuteTime": {
     "end_time": "2021-02-24T15:32:27.677282Z",
     "start_time": "2021-02-24T15:32:27.652927Z"
    }
   },
   "outputs": [],
   "source": [
    "beta.to_hdf(results_path / 'autoencoder.h5', 'factor/beta')"
   ]
  },
  {
   "cell_type": "markdown",
   "metadata": {},
   "source": [
    "#### Beta Squared"
   ]
  },
  {
   "cell_type": "markdown",
   "metadata": {},
   "source": [
    "Market beta squared"
   ]
  },
  {
   "cell_type": "code",
   "execution_count": 64,
   "metadata": {
    "ExecuteTime": {
     "end_time": "2021-02-24T15:32:27.710494Z",
     "start_time": "2021-02-24T15:32:27.678160Z"
    }
   },
   "outputs": [],
   "source": [
    "betasq = beta.beta.pow(2).to_frame('betasq')"
   ]
  },
  {
   "cell_type": "code",
   "execution_count": 65,
   "metadata": {
    "ExecuteTime": {
     "end_time": "2021-02-24T15:32:27.726198Z",
     "start_time": "2021-02-24T15:32:27.712119Z"
    }
   },
   "outputs": [
    {
     "name": "stdout",
     "output_type": "stream",
     "text": [
      "<class 'pandas.core.frame.DataFrame'>\n",
      "MultiIndex: 2969406 entries, (Timestamp('1993-01-01 00:00:00', freq='W-FRI'), 'AA') to (Timestamp('2020-01-03 00:00:00', freq='W-FRI'), 'ZYXI')\n",
      "Data columns (total 1 columns):\n",
      " #   Column  Non-Null Count    Dtype  \n",
      "---  ------  --------------    -----  \n",
      " 0   betasq  2969406 non-null  float64\n",
      "dtypes: float64(1)\n",
      "memory usage: 34.2+ MB\n"
     ]
    },
    {
     "name": "stderr",
     "output_type": "stream",
     "text": [
      "<ipython-input-65-5559d38d2dd2>:1: FutureWarning: null_counts is deprecated. Use show_counts instead\n",
      "  betasq.info(null_counts=True)\n"
     ]
    }
   ],
   "source": [
    "betasq.info(null_counts=True)"
   ]
  },
  {
   "cell_type": "code",
   "execution_count": 66,
   "metadata": {
    "ExecuteTime": {
     "end_time": "2021-02-24T15:32:27.757491Z",
     "start_time": "2021-02-24T15:32:27.727756Z"
    }
   },
   "outputs": [],
   "source": [
    "betasq.to_hdf(results_path / 'autoencoder.h5', 'factor/betasq')"
   ]
  },
  {
   "cell_type": "markdown",
   "metadata": {},
   "source": [
    "#### Idiosyncratic return volatility"
   ]
  },
  {
   "cell_type": "markdown",
   "metadata": {},
   "source": [
    "Standard dev of a regression of residuals of weekly returns on the returns of an equal weighted market index returns for the prior three years."
   ]
  },
  {
   "cell_type": "markdown",
   "metadata": {},
   "source": [
    "This takes a while!"
   ]
  },
  {
   "cell_type": "code",
   "execution_count": 67,
   "metadata": {
    "ExecuteTime": {
     "end_time": "2021-02-24T15:32:27.762385Z",
     "start_time": "2021-02-24T15:32:27.760235Z"
    }
   },
   "outputs": [],
   "source": [
    "def get_ols_residuals(y, x=index):\n",
    "    df = x.join(y.to_frame('y')).dropna()\n",
    "    model = sm.OLS(endog=df.y, exog=sm.add_constant(df[['x']]))\n",
    "    result = model.fit()\n",
    "    return result.resid.std()"
   ]
  },
  {
   "cell_type": "code",
   "execution_count": 68,
   "metadata": {
    "ExecuteTime": {
     "end_time": "2021-02-24T18:27:18.180440Z",
     "start_time": "2021-02-24T15:32:27.763774Z"
    }
   },
   "outputs": [],
   "source": [
    "idiovol = (returns.apply(lambda x: x.rolling(3 * 52)\n",
    "                         .apply(get_ols_residuals)))"
   ]
  },
  {
   "cell_type": "code",
   "execution_count": 69,
   "metadata": {
    "ExecuteTime": {
     "end_time": "2021-02-24T18:27:18.310136Z",
     "start_time": "2021-02-24T18:27:18.181902Z"
    }
   },
   "outputs": [],
   "source": [
    "idiovol = idiovol.stack().to_frame('idiovol')"
   ]
  },
  {
   "cell_type": "code",
   "execution_count": 70,
   "metadata": {
    "ExecuteTime": {
     "end_time": "2021-02-24T18:27:18.360087Z",
     "start_time": "2021-02-24T18:27:18.311025Z"
    }
   },
   "outputs": [
    {
     "name": "stdout",
     "output_type": "stream",
     "text": [
      "<class 'pandas.core.frame.DataFrame'>\n",
      "MultiIndex: 2969406 entries, (Timestamp('1993-01-01 00:00:00', freq='W-FRI'), 'AA') to (Timestamp('2020-01-03 00:00:00', freq='W-FRI'), 'ZYXI')\n",
      "Data columns (total 1 columns):\n",
      " #   Column   Non-Null Count    Dtype  \n",
      "---  ------   --------------    -----  \n",
      " 0   idiovol  2969406 non-null  float64\n",
      "dtypes: float64(1)\n",
      "memory usage: 34.2+ MB\n"
     ]
    },
    {
     "name": "stderr",
     "output_type": "stream",
     "text": [
      "<ipython-input-70-eec938dfce7b>:1: FutureWarning: null_counts is deprecated. Use show_counts instead\n",
      "  idiovol.info(null_counts=True)\n"
     ]
    }
   ],
   "source": [
    "idiovol.info(null_counts=True)"
   ]
  },
  {
   "cell_type": "code",
   "execution_count": 71,
   "metadata": {
    "ExecuteTime": {
     "end_time": "2021-02-24T18:27:18.394953Z",
     "start_time": "2021-02-24T18:27:18.360999Z"
    }
   },
   "outputs": [],
   "source": [
    "idiovol.to_hdf(results_path / 'autoencoder.h5', 'factor/idiovol')"
   ]
  }
 ],
 "metadata": {
  "kernelspec": {
   "display_name": "Python 3",
   "language": "python",
   "name": "python3"
  },
  "language_info": {
   "codemirror_mode": {
    "name": "ipython",
    "version": 3
   },
   "file_extension": ".py",
   "mimetype": "text/x-python",
   "name": "python",
   "nbconvert_exporter": "python",
   "pygments_lexer": "ipython3",
   "version": "3.8.8"
  },
  "toc": {
   "base_numbering": 1,
   "nav_menu": {},
   "number_sections": true,
   "sideBar": true,
   "skip_h1_title": true,
   "title_cell": "Table of Contents",
   "title_sidebar": "Contents",
   "toc_cell": false,
   "toc_position": {},
   "toc_section_display": true,
   "toc_window_display": true
  }
 },
 "nbformat": 4,
 "nbformat_minor": 4
}
