{
 "cells": [
  {
   "cell_type": "markdown",
   "metadata": {},
   "source": [
    "# Conditional Autoencoder for Asset Pricing - Part 2: The Model"
   ]
  },
  {
   "cell_type": "markdown",
   "metadata": {},
   "source": [
    "This notebook uses a dataset created using `yfinance` in the notebook [conditional_autoencoder_for_asset_pricing_data](05_conditional_autoencoder_for_asset_pricing_data.ipynb). The results will vary depending on which ticker downloads succeeded."
   ]
  },
  {
   "cell_type": "code",
   "execution_count": 1,
   "metadata": {
    "ExecuteTime": {
     "end_time": "2021-02-25T02:19:34.605450Z",
     "start_time": "2021-02-25T02:19:34.603752Z"
    }
   },
   "outputs": [],
   "source": [
    "import warnings\n",
    "warnings.filterwarnings('ignore')"
   ]
  },
  {
   "cell_type": "code",
   "execution_count": 2,
   "metadata": {
    "ExecuteTime": {
     "end_time": "2021-02-25T02:19:36.827983Z",
     "start_time": "2021-02-25T02:19:34.779105Z"
    }
   },
   "outputs": [],
   "source": [
    "import sys, os\n",
    "from time import time\n",
    "from pathlib import Path\n",
    "from itertools import product\n",
    "from tqdm import tqdm \n",
    "\n",
    "import numpy as np\n",
    "import pandas as pd\n",
    "\n",
    "import matplotlib.pyplot as plt\n",
    "import seaborn as sns\n",
    "\n",
    "import tensorflow as tf\n",
    "from tensorflow.keras.layers import Input, Dense, Dot, Reshape, BatchNormalization\n",
    "from tensorflow.keras.models import Model\n",
    "from tensorflow.keras.callbacks import TensorBoard\n",
    "\n",
    "from sklearn.preprocessing import quantile_transform\n",
    "\n",
    "from scipy.stats import spearmanr"
   ]
  },
  {
   "cell_type": "code",
   "execution_count": 3,
   "metadata": {
    "ExecuteTime": {
     "end_time": "2021-02-25T02:19:36.921304Z",
     "start_time": "2021-02-25T02:19:36.829045Z"
    }
   },
   "outputs": [
    {
     "name": "stdout",
     "output_type": "stream",
     "text": [
      "Using GPU\n"
     ]
    }
   ],
   "source": [
    "gpu_devices = tf.config.experimental.list_physical_devices('GPU')\n",
    "if gpu_devices:\n",
    "    print('Using GPU')\n",
    "    tf.config.experimental.set_memory_growth(gpu_devices[0], True)\n",
    "else:\n",
    "    print('Using CPU')"
   ]
  },
  {
   "cell_type": "code",
   "execution_count": 4,
   "metadata": {
    "ExecuteTime": {
     "end_time": "2021-02-25T02:19:36.936409Z",
     "start_time": "2021-02-25T02:19:36.923157Z"
    }
   },
   "outputs": [],
   "source": [
    "sys.path.insert(1, os.path.join(sys.path[0], '..'))\n",
    "from utils import MultipleTimeSeriesCV, format_time"
   ]
  },
  {
   "cell_type": "code",
   "execution_count": 5,
   "metadata": {
    "ExecuteTime": {
     "end_time": "2021-02-25T02:19:36.941712Z",
     "start_time": "2021-02-25T02:19:36.937278Z"
    }
   },
   "outputs": [],
   "source": [
    "idx = pd.IndexSlice\n",
    "sns.set_style('whitegrid')\n",
    "np.random.seed(42)"
   ]
  },
  {
   "cell_type": "code",
   "execution_count": 6,
   "metadata": {
    "ExecuteTime": {
     "end_time": "2021-02-25T02:19:37.833897Z",
     "start_time": "2021-02-25T02:19:37.830039Z"
    }
   },
   "outputs": [],
   "source": [
    "results_path = Path('results', 'asset_pricing')\n",
    "if not results_path.exists():\n",
    "    results_path.mkdir(parents=True)"
   ]
  },
  {
   "cell_type": "code",
   "execution_count": 7,
   "metadata": {
    "ExecuteTime": {
     "end_time": "2021-02-25T02:19:38.033251Z",
     "start_time": "2021-02-25T02:19:38.027838Z"
    }
   },
   "outputs": [],
   "source": [
    "characteristics = ['beta', 'betasq', 'chmom', 'dolvol', 'idiovol', 'ill', 'indmom',\n",
    "                   'maxret', 'mom12m', 'mom1m', 'mom36m', 'mvel', 'retvol', 'turn', 'turn_std']"
   ]
  },
  {
   "cell_type": "markdown",
   "metadata": {},
   "source": [
    "## Load Data"
   ]
  },
  {
   "cell_type": "code",
   "execution_count": 8,
   "metadata": {
    "ExecuteTime": {
     "end_time": "2021-02-24T18:50:13.572501Z",
     "start_time": "2021-02-24T18:50:13.512736Z"
    }
   },
   "outputs": [
    {
     "name": "stdout",
     "output_type": "stream",
     "text": [
      "<class 'pandas.io.pytables.HDFStore'>\n",
      "File path: results/asset_pricing/autoencoder.h5\n",
      "/close                      frame        (shape->[7559,4420])\n",
      "/factor/beta                frame        (shape->[2969406,1])\n",
      "/factor/betasq              frame        (shape->[2969406,1])\n",
      "/factor/chmom               frame        (shape->[3375489,1])\n",
      "/factor/dolvol              frame        (shape->[3534960,1])\n",
      "/factor/idiovol             frame        (shape->[2969406,1])\n",
      "/factor/ill                 frame        (shape->[3210773,1])\n",
      "/factor/indmom              frame        (shape->[3551199,1])\n",
      "/factor/maxret              frame        (shape->[3562402,1])\n",
      "/factor/mom12m              frame        (shape->[3375489,1])\n",
      "/factor/mom1m               series       (shape->[3580621])  \n",
      "/factor/mom36m              frame        (shape->[2967391,1])\n",
      "/factor/mvel                frame        (shape->[3597636,1])\n",
      "/factor/retvol              frame        (shape->[3580621,1])\n",
      "/factor/turn                frame        (shape->[3506569,1])\n",
      "/factor/turn_std            frame        (shape->[3552216,1])\n",
      "/metadata                   frame        (shape->[1,3])      \n",
      "/returns                    frame        (shape->[1565,4420])\n",
      "/volume                     frame        (shape->[7559,4420])\n"
     ]
    }
   ],
   "source": [
    "with pd.HDFStore(results_path / 'autoencoder.h5') as store:\n",
    "    print(store.info())"
   ]
  },
  {
   "cell_type": "markdown",
   "metadata": {},
   "source": [
    "### Weekly returns"
   ]
  },
  {
   "cell_type": "code",
   "execution_count": 20,
   "metadata": {
    "ExecuteTime": {
     "end_time": "2021-02-25T01:26:06.206795Z",
     "start_time": "2021-02-25T01:26:04.882874Z"
    }
   },
   "outputs": [],
   "source": [
    "data = (pd.read_hdf(results_path / 'autoencoder.h5', 'returns')\n",
    "        .stack(dropna=False)\n",
    "        .to_frame('returns')\n",
    "        .loc[idx['1993':, :], :])"
   ]
  },
  {
   "cell_type": "code",
   "execution_count": 22,
   "metadata": {
    "ExecuteTime": {
     "end_time": "2021-02-25T01:31:04.871050Z",
     "start_time": "2021-02-25T01:26:29.547812Z"
    }
   },
   "outputs": [],
   "source": [
    "with pd.HDFStore(results_path / 'autoencoder.h5') as store:\n",
    "    keys = [k[1:] for k in store.keys() if k[1:].startswith('factor')]\n",
    "    for key in keys:\n",
    "        data[key.split('/')[-1]] = store[key].squeeze()"
   ]
  },
  {
   "cell_type": "code",
   "execution_count": 23,
   "metadata": {
    "ExecuteTime": {
     "end_time": "2021-02-25T01:31:05.500857Z",
     "start_time": "2021-02-25T01:31:04.872471Z"
    }
   },
   "outputs": [],
   "source": [
    "characteristics = data.drop('returns', axis=1).columns.tolist()"
   ]
  },
  {
   "cell_type": "code",
   "execution_count": 24,
   "metadata": {
    "ExecuteTime": {
     "end_time": "2021-02-25T01:31:20.675618Z",
     "start_time": "2021-02-25T01:31:05.506982Z"
    }
   },
   "outputs": [],
   "source": [
    "data['returns_fwd'] = data.returns.unstack('ticker').shift(-1).stack()"
   ]
  },
  {
   "cell_type": "code",
   "execution_count": 25,
   "metadata": {
    "ExecuteTime": {
     "end_time": "2021-02-25T01:31:21.117546Z",
     "start_time": "2021-02-25T01:31:20.677182Z"
    }
   },
   "outputs": [
    {
     "name": "stdout",
     "output_type": "stream",
     "text": [
      "<class 'pandas.core.frame.DataFrame'>\n",
      "MultiIndex: 6232200 entries, (Timestamp('1993-01-01 00:00:00', freq='W-FRI'), 'A') to (Timestamp('2020-01-03 00:00:00', freq='W-FRI'), 'ZYXI')\n",
      "Data columns (total 17 columns):\n",
      " #   Column       Non-Null Count    Dtype  \n",
      "---  ------       --------------    -----  \n",
      " 0   returns      3452579 non-null  float64\n",
      " 1   beta         2969406 non-null  float64\n",
      " 2   betasq       2969406 non-null  float64\n",
      " 3   chmom        3283334 non-null  float64\n",
      " 4   dolvol       3403423 non-null  float64\n",
      " 5   idiovol      2969406 non-null  float64\n",
      " 6   ill          3108429 non-null  float64\n",
      " 7   indmom       3452527 non-null  float64\n",
      " 8   maxret       3426881 non-null  float64\n",
      " 9   mom12m       3283334 non-null  float64\n",
      " 10  mom1m        3440945 non-null  float64\n",
      " 11  mom36m       2967391 non-null  float64\n",
      " 12  mvel         3454030 non-null  float64\n",
      " 13  retvol       3440945 non-null  float64\n",
      " 14  turn         3380001 non-null  float64\n",
      " 15  turn_std     3413256 non-null  float64\n",
      " 16  returns_fwd  3451536 non-null  float64\n",
      "dtypes: float64(17)\n",
      "memory usage: 832.3+ MB\n"
     ]
    }
   ],
   "source": [
    "data.info(null_counts=True)"
   ]
  },
  {
   "cell_type": "code",
   "execution_count": 14,
   "metadata": {
    "ExecuteTime": {
     "end_time": "2021-02-24T18:52:55.851733Z",
     "start_time": "2021-02-24T18:52:54.472212Z"
    }
   },
   "outputs": [],
   "source": [
    "nobs_by_date = data.groupby(level='date').count().max(1)\n",
    "nobs_by_characteristic = pd.melt(data[characteristics].groupby(level='date').count(),\n",
    "                                 value_name='# Observations',\n",
    "                                 var_name=['Characteristic'])"
   ]
  },
  {
   "cell_type": "code",
   "execution_count": 15,
   "metadata": {
    "ExecuteTime": {
     "end_time": "2021-02-24T18:52:56.259184Z",
     "start_time": "2021-02-24T18:52:55.852633Z"
    }
   },
   "outputs": [
    {
     "data": {
      "image/png": "[encoded data removed]",
      "text/plain": [
       "<Figure size 1008x288 with 2 Axes>"
      ]
     },
     "metadata": {},
     "output_type": "display_data"
    }
   ],
   "source": [
    "with sns.axes_style(\"white\"):\n",
    "    fig, axes = plt.subplots(ncols=2, figsize=(14, 4))\n",
    "    sns.distplot(nobs_by_date, kde=False, ax=axes[0])\n",
    "    axes[0].set_title('# of Stocks per Week')\n",
    "    axes[0].set_xlabel('# of Observations')\n",
    "    sns.boxplot(x='Characteristic',\n",
    "                y='# Observations',\n",
    "                data=nobs_by_characteristic,\n",
    "                ax=axes[1],\n",
    "                palette='Blues')\n",
    "    axes[1].set_xticklabels(axes[1].get_xticklabels(),\n",
    "                            rotation=25,\n",
    "                            ha='right')\n",
    "    axes[1].set_title('# of Observation per Stock Characteristic')\n",
    "    sns.despine()\n",
    "    fig.tight_layout()"
   ]
  },
  {
   "cell_type": "markdown",
   "metadata": {},
   "source": [
    "### Rank-normalize characteristics"
   ]
  },
  {
   "cell_type": "code",
   "execution_count": 16,
   "metadata": {
    "ExecuteTime": {
     "end_time": "2021-02-24T18:54:46.798214Z",
     "start_time": "2021-02-24T18:52:56.260370Z"
    }
   },
   "outputs": [],
   "source": [
    "data.loc[:, characteristics] = (data.loc[:, characteristics]\n",
    "                                .groupby(level='date')\n",
    "                                .apply(lambda x: pd.DataFrame(quantile_transform(x, \n",
    "                                                                                 copy=True, \n",
    "                                                                                 n_quantiles=x.shape[0]),\n",
    "                                                              columns=characteristics,\n",
    "                                                              index=x.index.get_level_values('ticker')))\n",
    "                               .mul(2).sub(1))"
   ]
  },
  {
   "cell_type": "code",
   "execution_count": 17,
   "metadata": {
    "ExecuteTime": {
     "end_time": "2021-02-24T18:54:46.944271Z",
     "start_time": "2021-02-24T18:54:46.799110Z"
    }
   },
   "outputs": [
    {
     "name": "stdout",
     "output_type": "stream",
     "text": [
      "<class 'pandas.core.frame.DataFrame'>\n",
      "MultiIndex: 6232200 entries, (Timestamp('1993-01-01 00:00:00', freq='W-FRI'), 'A') to (Timestamp('2020-01-03 00:00:00', freq='W-FRI'), 'ZYXI')\n",
      "Data columns (total 17 columns):\n",
      " #   Column       Non-Null Count    Dtype  \n",
      "---  ------       --------------    -----  \n",
      " 0   returns      3452579 non-null  float64\n",
      " 1   beta         2969406 non-null  float64\n",
      " 2   betasq       2969406 non-null  float64\n",
      " 3   chmom        3283334 non-null  float64\n",
      " 4   dolvol       3403423 non-null  float64\n",
      " 5   idiovol      2969406 non-null  float64\n",
      " 6   ill          3108429 non-null  float64\n",
      " 7   indmom       3452527 non-null  float64\n",
      " 8   maxret       3426881 non-null  float64\n",
      " 9   mom12m       3283334 non-null  float64\n",
      " 10  mom1m        3440945 non-null  float64\n",
      " 11  mom36m       2967391 non-null  float64\n",
      " 12  mvel         3454030 non-null  float64\n",
      " 13  retvol       3440945 non-null  float64\n",
      " 14  turn         3380001 non-null  float64\n",
      " 15  turn_std     3413256 non-null  float64\n",
      " 16  returns_fwd  3451536 non-null  float64\n",
      "dtypes: float64(17)\n",
      "memory usage: 832.3+ MB\n"
     ]
    }
   ],
   "source": [
    "data.info(null_counts=True)"
   ]
  },
  {
   "cell_type": "code",
   "execution_count": 18,
   "metadata": {
    "ExecuteTime": {
     "end_time": "2021-02-24T18:54:46.948950Z",
     "start_time": "2021-02-24T18:54:46.945523Z"
    }
   },
   "outputs": [
    {
     "data": {
      "text/plain": [
       "FrozenList(['date', 'ticker'])"
      ]
     },
     "execution_count": 18,
     "metadata": {},
     "output_type": "execute_result"
    }
   ],
   "source": [
    "data.index.names"
   ]
  },
  {
   "cell_type": "code",
   "execution_count": 19,
   "metadata": {
    "ExecuteTime": {
     "end_time": "2021-02-24T18:54:50.852191Z",
     "start_time": "2021-02-24T18:54:46.950191Z"
    }
   },
   "outputs": [
    {
     "data": {
      "text/html": [
       "<div>\n",
       "<style scoped>\n",
       "    .dataframe tbody tr th:only-of-type {\n",
       "        vertical-align: middle;\n",
       "    }\n",
       "\n",
       "    .dataframe tbody tr th {\n",
       "        vertical-align: top;\n",
       "    }\n",
       "\n",
       "    .dataframe thead th {\n",
       "        text-align: right;\n",
       "    }\n",
       "</style>\n",
       "<table border=\"1\" class=\"dataframe\">\n",
       "  <thead>\n",
       "    <tr style=\"text-align: right;\">\n",
       "      <th></th>\n",
       "      <th>returns</th>\n",
       "      <th>beta</th>\n",
       "      <th>betasq</th>\n",
       "      <th>chmom</th>\n",
       "      <th>dolvol</th>\n",
       "      <th>idiovol</th>\n",
       "      <th>ill</th>\n",
       "      <th>indmom</th>\n",
       "      <th>maxret</th>\n",
       "      <th>mom12m</th>\n",
       "      <th>mom1m</th>\n",
       "      <th>mom36m</th>\n",
       "      <th>mvel</th>\n",
       "      <th>retvol</th>\n",
       "      <th>turn</th>\n",
       "      <th>turn_std</th>\n",
       "      <th>returns_fwd</th>\n",
       "    </tr>\n",
       "  </thead>\n",
       "  <tbody>\n",
       "    <tr>\n",
       "      <th>count</th>\n",
       "      <td>3.452579e+06</td>\n",
       "      <td>2.969406e+06</td>\n",
       "      <td>2.969406e+06</td>\n",
       "      <td>3.283334e+06</td>\n",
       "      <td>3.403423e+06</td>\n",
       "      <td>2.969406e+06</td>\n",
       "      <td>3.108429e+06</td>\n",
       "      <td>3.452527e+06</td>\n",
       "      <td>3.426881e+06</td>\n",
       "      <td>3.283334e+06</td>\n",
       "      <td>3.440945e+06</td>\n",
       "      <td>2.967391e+06</td>\n",
       "      <td>3.454030e+06</td>\n",
       "      <td>3.440945e+06</td>\n",
       "      <td>3.380001e+06</td>\n",
       "      <td>3.413256e+06</td>\n",
       "      <td>3.451536e+06</td>\n",
       "    </tr>\n",
       "    <tr>\n",
       "      <th>mean</th>\n",
       "      <td>3.011444e-03</td>\n",
       "      <td>-4.514118e-09</td>\n",
       "      <td>-3.661858e-07</td>\n",
       "      <td>-4.961806e-08</td>\n",
       "      <td>-8.404166e-07</td>\n",
       "      <td>-9.121839e-08</td>\n",
       "      <td>-4.094780e-07</td>\n",
       "      <td>1.003525e-03</td>\n",
       "      <td>-7.020948e-08</td>\n",
       "      <td>-1.223854e-07</td>\n",
       "      <td>-2.300930e-08</td>\n",
       "      <td>-1.665202e-07</td>\n",
       "      <td>-2.744138e-08</td>\n",
       "      <td>-1.153290e-06</td>\n",
       "      <td>-3.940610e-07</td>\n",
       "      <td>-1.342879e-06</td>\n",
       "      <td>3.008981e-03</td>\n",
       "    </tr>\n",
       "    <tr>\n",
       "      <th>std</th>\n",
       "      <td>6.176189e-02</td>\n",
       "      <td>5.776241e-01</td>\n",
       "      <td>5.776246e-01</td>\n",
       "      <td>5.775977e-01</td>\n",
       "      <td>5.775907e-01</td>\n",
       "      <td>5.776242e-01</td>\n",
       "      <td>5.776119e-01</td>\n",
       "      <td>5.859634e-01</td>\n",
       "      <td>5.775870e-01</td>\n",
       "      <td>5.775978e-01</td>\n",
       "      <td>5.775841e-01</td>\n",
       "      <td>5.776243e-01</td>\n",
       "      <td>5.775857e-01</td>\n",
       "      <td>5.775884e-01</td>\n",
       "      <td>5.775911e-01</td>\n",
       "      <td>5.775899e-01</td>\n",
       "      <td>6.176569e-02</td>\n",
       "    </tr>\n",
       "    <tr>\n",
       "      <th>min</th>\n",
       "      <td>-9.269350e-01</td>\n",
       "      <td>-1.000000e+00</td>\n",
       "      <td>-1.000000e+00</td>\n",
       "      <td>-1.000000e+00</td>\n",
       "      <td>-1.000000e+00</td>\n",
       "      <td>-1.000000e+00</td>\n",
       "      <td>-1.000000e+00</td>\n",
       "      <td>-1.000000e+00</td>\n",
       "      <td>-1.000000e+00</td>\n",
       "      <td>-1.000000e+00</td>\n",
       "      <td>-1.000000e+00</td>\n",
       "      <td>-1.000000e+00</td>\n",
       "      <td>-1.000000e+00</td>\n",
       "      <td>-1.000000e+00</td>\n",
       "      <td>-1.000000e+00</td>\n",
       "      <td>-1.000000e+00</td>\n",
       "      <td>-9.269350e-01</td>\n",
       "    </tr>\n",
       "    <tr>\n",
       "      <th>25%</th>\n",
       "      <td>-2.151944e-02</td>\n",
       "      <td>-5.002862e-01</td>\n",
       "      <td>-5.002779e-01</td>\n",
       "      <td>-5.002653e-01</td>\n",
       "      <td>-5.002520e-01</td>\n",
       "      <td>-5.002830e-01</td>\n",
       "      <td>-5.002665e-01</td>\n",
       "      <td>-4.969450e-01</td>\n",
       "      <td>-5.002388e-01</td>\n",
       "      <td>-5.002763e-01</td>\n",
       "      <td>-5.002454e-01</td>\n",
       "      <td>-5.002837e-01</td>\n",
       "      <td>-5.002486e-01</td>\n",
       "      <td>-5.002370e-01</td>\n",
       "      <td>-5.002599e-01</td>\n",
       "      <td>-5.002387e-01</td>\n",
       "      <td>-2.152460e-02</td>\n",
       "    </tr>\n",
       "    <tr>\n",
       "      <th>50%</th>\n",
       "      <td>9.756321e-04</td>\n",
       "      <td>4.103460e-06</td>\n",
       "      <td>3.428143e-06</td>\n",
       "      <td>5.635024e-06</td>\n",
       "      <td>-6.761061e-06</td>\n",
       "      <td>-5.194775e-06</td>\n",
       "      <td>7.698840e-06</td>\n",
       "      <td>0.000000e+00</td>\n",
       "      <td>8.172791e-06</td>\n",
       "      <td>6.175095e-06</td>\n",
       "      <td>-1.165672e-04</td>\n",
       "      <td>-7.247569e-06</td>\n",
       "      <td>2.850846e-06</td>\n",
       "      <td>-2.794473e-06</td>\n",
       "      <td>1.038184e-05</td>\n",
       "      <td>2.845388e-06</td>\n",
       "      <td>9.756585e-04</td>\n",
       "    </tr>\n",
       "    <tr>\n",
       "      <th>75%</th>\n",
       "      <td>2.491691e-02</td>\n",
       "      <td>5.002871e-01</td>\n",
       "      <td>5.002862e-01</td>\n",
       "      <td>5.002657e-01</td>\n",
       "      <td>5.002522e-01</td>\n",
       "      <td>5.002879e-01</td>\n",
       "      <td>5.002743e-01</td>\n",
       "      <td>4.774836e-01</td>\n",
       "      <td>5.002266e-01</td>\n",
       "      <td>5.002604e-01</td>\n",
       "      <td>5.002571e-01</td>\n",
       "      <td>5.002797e-01</td>\n",
       "      <td>5.002506e-01</td>\n",
       "      <td>5.002554e-01</td>\n",
       "      <td>5.002418e-01</td>\n",
       "      <td>5.002498e-01</td>\n",
       "      <td>2.491509e-02</td>\n",
       "    </tr>\n",
       "    <tr>\n",
       "      <th>max</th>\n",
       "      <td>4.000000e+00</td>\n",
       "      <td>1.000000e+00</td>\n",
       "      <td>1.000000e+00</td>\n",
       "      <td>1.000000e+00</td>\n",
       "      <td>1.000000e+00</td>\n",
       "      <td>1.000000e+00</td>\n",
       "      <td>1.000000e+00</td>\n",
       "      <td>1.000000e+00</td>\n",
       "      <td>1.000000e+00</td>\n",
       "      <td>1.000000e+00</td>\n",
       "      <td>1.000000e+00</td>\n",
       "      <td>1.000000e+00</td>\n",
       "      <td>1.000000e+00</td>\n",
       "      <td>1.000000e+00</td>\n",
       "      <td>1.000000e+00</td>\n",
       "      <td>1.000000e+00</td>\n",
       "      <td>4.000000e+00</td>\n",
       "    </tr>\n",
       "  </tbody>\n",
       "</table>\n",
       "</div>"
      ],
      "text/plain": [
       "            returns          beta        betasq         chmom        dolvol  \\\n",
       "count  3.452579e+06  2.969406e+06  2.969406e+06  3.283334e+06  3.403423e+06   \n",
       "mean   3.011444e-03 -4.514118e-09 -3.661858e-07 -4.961806e-08 -8.404166e-07   \n",
       "std    6.176189e-02  5.776241e-01  5.776246e-01  5.775977e-01  5.775907e-01   \n",
       "min   -9.269350e-01 -1.000000e+00 -1.000000e+00 -1.000000e+00 -1.000000e+00   \n",
       "25%   -2.151944e-02 -5.002862e-01 -5.002779e-01 -5.002653e-01 -5.002520e-01   \n",
       "50%    9.756321e-04  4.103460e-06  3.428143e-06  5.635024e-06 -6.761061e-06   \n",
       "75%    2.491691e-02  5.002871e-01  5.002862e-01  5.002657e-01  5.002522e-01   \n",
       "max    4.000000e+00  1.000000e+00  1.000000e+00  1.000000e+00  1.000000e+00   \n",
       "\n",
       "            idiovol           ill        indmom        maxret        mom12m  \\\n",
       "count  2.969406e+06  3.108429e+06  3.452527e+06  3.426881e+06  3.283334e+06   \n",
       "mean  -9.121839e-08 -4.094780e-07  1.003525e-03 -7.020948e-08 -1.223854e-07   \n",
       "std    5.776242e-01  5.776119e-01  5.859634e-01  5.775870e-01  5.775978e-01   \n",
       "min   -1.000000e+00 -1.000000e+00 -1.000000e+00 -1.000000e+00 -1.000000e+00   \n",
       "25%   -5.002830e-01 -5.002665e-01 -4.969450e-01 -5.002388e-01 -5.002763e-01   \n",
       "50%   -5.194775e-06  7.698840e-06  0.000000e+00  8.172791e-06  6.175095e-06   \n",
       "75%    5.002879e-01  5.002743e-01  4.774836e-01  5.002266e-01  5.002604e-01   \n",
       "max    1.000000e+00  1.000000e+00  1.000000e+00  1.000000e+00  1.000000e+00   \n",
       "\n",
       "              mom1m        mom36m          mvel        retvol          turn  \\\n",
       "count  3.440945e+06  2.967391e+06  3.454030e+06  3.440945e+06  3.380001e+06   \n",
       "mean  -2.300930e-08 -1.665202e-07 -2.744138e-08 -1.153290e-06 -3.940610e-07   \n",
       "std    5.775841e-01  5.776243e-01  5.775857e-01  5.775884e-01  5.775911e-01   \n",
       "min   -1.000000e+00 -1.000000e+00 -1.000000e+00 -1.000000e+00 -1.000000e+00   \n",
       "25%   -5.002454e-01 -5.002837e-01 -5.002486e-01 -5.002370e-01 -5.002599e-01   \n",
       "50%   -1.165672e-04 -7.247569e-06  2.850846e-06 -2.794473e-06  1.038184e-05   \n",
       "75%    5.002571e-01  5.002797e-01  5.002506e-01  5.002554e-01  5.002418e-01   \n",
       "max    1.000000e+00  1.000000e+00  1.000000e+00  1.000000e+00  1.000000e+00   \n",
       "\n",
       "           turn_std   returns_fwd  \n",
       "count  3.413256e+06  3.451536e+06  \n",
       "mean  -1.342879e-06  3.008981e-03  \n",
       "std    5.775899e-01  6.176569e-02  \n",
       "min   -1.000000e+00 -9.269350e-01  \n",
       "25%   -5.002387e-01 -2.152460e-02  \n",
       "50%    2.845388e-06  9.756585e-04  \n",
       "75%    5.002498e-01  2.491509e-02  \n",
       "max    1.000000e+00  4.000000e+00  "
      ]
     },
     "execution_count": 19,
     "metadata": {},
     "output_type": "execute_result"
    }
   ],
   "source": [
    "data.describe()"
   ]
  },
  {
   "cell_type": "code",
   "execution_count": 20,
   "metadata": {
    "ExecuteTime": {
     "end_time": "2021-02-24T18:54:51.653434Z",
     "start_time": "2021-02-24T18:54:50.853071Z"
    }
   },
   "outputs": [],
   "source": [
    "data = data.loc[idx[:'2019', :], :]"
   ]
  },
  {
   "cell_type": "code",
   "execution_count": 21,
   "metadata": {
    "ExecuteTime": {
     "end_time": "2021-02-24T18:54:52.175796Z",
     "start_time": "2021-02-24T18:54:51.654300Z"
    }
   },
   "outputs": [],
   "source": [
    "data.loc[:, ['returns', 'returns_fwd']] = data.loc[:, ['returns', 'returns_fwd']].clip(lower=-1, upper=1.0)"
   ]
  },
  {
   "cell_type": "code",
   "execution_count": 22,
   "metadata": {
    "ExecuteTime": {
     "end_time": "2021-02-24T18:54:52.551139Z",
     "start_time": "2021-02-24T18:54:52.176641Z"
    }
   },
   "outputs": [],
   "source": [
    "data = data.fillna(-2)"
   ]
  },
  {
   "cell_type": "code",
   "execution_count": 23,
   "metadata": {
    "ExecuteTime": {
     "end_time": "2021-02-24T18:54:53.177682Z",
     "start_time": "2021-02-24T18:54:52.551965Z"
    }
   },
   "outputs": [],
   "source": [
    "data.to_hdf(results_path / 'autoencoder.h5', 'model_data')"
   ]
  },
  {
   "cell_type": "markdown",
   "metadata": {},
   "source": [
    "## Architecture"
   ]
  },
  {
   "cell_type": "code",
   "execution_count": 8,
   "metadata": {
    "ExecuteTime": {
     "end_time": "2021-02-25T02:19:55.884348Z",
     "start_time": "2021-02-25T02:19:54.229906Z"
    }
   },
   "outputs": [],
   "source": [
    "data = pd.read_hdf(results_path / 'autoencoder.h5', 'model_data')"
   ]
  },
  {
   "cell_type": "markdown",
   "metadata": {},
   "source": [
    "### Key parameters"
   ]
  },
  {
   "cell_type": "code",
   "execution_count": 9,
   "metadata": {
    "ExecuteTime": {
     "end_time": "2021-02-25T02:19:56.938323Z",
     "start_time": "2021-02-25T02:19:56.887604Z"
    }
   },
   "outputs": [],
   "source": [
    "n_factors = 3\n",
    "n_characteristics = len(characteristics)\n",
    "n_tickers = len(data.index.unique('ticker'))"
   ]
  },
  {
   "cell_type": "code",
   "execution_count": 10,
   "metadata": {
    "ExecuteTime": {
     "end_time": "2021-02-25T02:19:57.066339Z",
     "start_time": "2021-02-25T02:19:57.056425Z"
    }
   },
   "outputs": [
    {
     "data": {
      "text/plain": [
       "4420"
      ]
     },
     "execution_count": 10,
     "metadata": {},
     "output_type": "execute_result"
    }
   ],
   "source": [
    "n_tickers"
   ]
  },
  {
   "cell_type": "code",
   "execution_count": 11,
   "metadata": {
    "ExecuteTime": {
     "end_time": "2021-02-25T02:19:57.769420Z",
     "start_time": "2021-02-25T02:19:57.761574Z"
    }
   },
   "outputs": [
    {
     "data": {
      "text/plain": [
       "15"
      ]
     },
     "execution_count": 11,
     "metadata": {},
     "output_type": "execute_result"
    }
   ],
   "source": [
    "n_characteristics"
   ]
  },
  {
   "cell_type": "markdown",
   "metadata": {},
   "source": [
    "### Input Layer"
   ]
  },
  {
   "cell_type": "code",
   "execution_count": 28,
   "metadata": {
    "ExecuteTime": {
     "end_time": "2021-02-24T18:54:54.294252Z",
     "start_time": "2021-02-24T18:54:54.279343Z"
    }
   },
   "outputs": [],
   "source": [
    "input_beta = Input((n_tickers, n_characteristics), name='input_beta')\n",
    "input_factor = Input((n_tickers,), name='input_factor')"
   ]
  },
  {
   "cell_type": "markdown",
   "metadata": {},
   "source": [
    "### Stock Characteristics Network"
   ]
  },
  {
   "cell_type": "code",
   "execution_count": 29,
   "metadata": {
    "ExecuteTime": {
     "end_time": "2021-02-24T18:54:55.015972Z",
     "start_time": "2021-02-24T18:54:54.295081Z"
    }
   },
   "outputs": [],
   "source": [
    "hidden_layer = Dense(units=8, activation='relu', name='hidden_layer')(input_beta)\n",
    "batch_norm = BatchNormalization(name='batch_norm')(hidden_layer)\n",
    "output_beta = Dense(units=n_factors, name='output_beta')(batch_norm)"
   ]
  },
  {
   "cell_type": "markdown",
   "metadata": {},
   "source": [
    "### Factor Network"
   ]
  },
  {
   "cell_type": "code",
   "execution_count": 30,
   "metadata": {
    "ExecuteTime": {
     "end_time": "2021-02-24T18:54:55.023022Z",
     "start_time": "2021-02-24T18:54:55.016867Z"
    }
   },
   "outputs": [],
   "source": [
    "output_factor = Dense(units=n_factors, name='output_factor')(input_factor)"
   ]
  },
  {
   "cell_type": "markdown",
   "metadata": {},
   "source": [
    "### Output Layer"
   ]
  },
  {
   "cell_type": "code",
   "execution_count": 31,
   "metadata": {
    "ExecuteTime": {
     "end_time": "2021-02-24T18:54:55.030563Z",
     "start_time": "2021-02-24T18:54:55.024006Z"
    }
   },
   "outputs": [],
   "source": [
    "output = Dot(axes=(2,1), name='output_layer')([output_beta, output_factor])"
   ]
  },
  {
   "cell_type": "markdown",
   "metadata": {},
   "source": [
    "### Compile Layer"
   ]
  },
  {
   "cell_type": "code",
   "execution_count": 32,
   "metadata": {
    "ExecuteTime": {
     "end_time": "2021-02-24T18:54:55.044843Z",
     "start_time": "2021-02-24T18:54:55.031505Z"
    }
   },
   "outputs": [],
   "source": [
    "model = Model(inputs=[input_beta, input_factor], outputs=output)\n",
    "model.compile(loss='mse', optimizer='adam')"
   ]
  },
  {
   "cell_type": "markdown",
   "metadata": {},
   "source": [
    "### Automate model generation"
   ]
  },
  {
   "cell_type": "code",
   "execution_count": 12,
   "metadata": {
    "ExecuteTime": {
     "end_time": "2021-02-25T02:20:24.943542Z",
     "start_time": "2021-02-25T02:20:24.940487Z"
    }
   },
   "outputs": [],
   "source": [
    "def make_model(hidden_units=8, n_factors=3):\n",
    "    input_beta = Input((n_tickers, n_characteristics), name='input_beta')\n",
    "    input_factor = Input((n_tickers,), name='input_factor')\n",
    "\n",
    "    hidden_layer = Dense(units=hidden_units, activation='relu', name='hidden_layer')(input_beta)\n",
    "    batch_norm = BatchNormalization(name='batch_norm')(hidden_layer)\n",
    "    \n",
    "    output_beta = Dense(units=n_factors, name='output_beta')(batch_norm)\n",
    "\n",
    "    output_factor = Dense(units=n_factors, name='output_factor')(input_factor)\n",
    "\n",
    "    output = Dot(axes=(2,1), name='output_layer')([output_beta, output_factor])\n",
    "\n",
    "    model = Model(inputs=[input_beta, input_factor], outputs=output)\n",
    "    model.compile(loss='mse', optimizer='adam')\n",
    "    return model"
   ]
  },
  {
   "cell_type": "markdown",
   "metadata": {},
   "source": [
    "### Model Summary"
   ]
  },
  {
   "cell_type": "code",
   "execution_count": 34,
   "metadata": {
    "ExecuteTime": {
     "end_time": "2021-02-24T18:54:55.060992Z",
     "start_time": "2021-02-24T18:54:55.051617Z"
    }
   },
   "outputs": [
    {
     "name": "stdout",
     "output_type": "stream",
     "text": [
      "Model: \"model\"\n",
      "__________________________________________________________________________________________________\n",
      "Layer (type)                    Output Shape         Param #     Connected to                     \n",
      "==================================================================================================\n",
      "input_beta (InputLayer)         [(None, 4420, 15)]   0                                            \n",
      "__________________________________________________________________________________________________\n",
      "hidden_layer (Dense)            (None, 4420, 8)      128         input_beta[0][0]                 \n",
      "__________________________________________________________________________________________________\n",
      "batch_norm (BatchNormalization) (None, 4420, 8)      32          hidden_layer[0][0]               \n",
      "__________________________________________________________________________________________________\n",
      "input_factor (InputLayer)       [(None, 4420)]       0                                            \n",
      "__________________________________________________________________________________________________\n",
      "output_beta (Dense)             (None, 4420, 3)      27          batch_norm[0][0]                 \n",
      "__________________________________________________________________________________________________\n",
      "output_factor (Dense)           (None, 3)            13263       input_factor[0][0]               \n",
      "__________________________________________________________________________________________________\n",
      "output_layer (Dot)              (None, 4420)         0           output_beta[0][0]                \n",
      "                                                                 output_factor[0][0]              \n",
      "==================================================================================================\n",
      "Total params: 13,450\n",
      "Trainable params: 13,434\n",
      "Non-trainable params: 16\n",
      "__________________________________________________________________________________________________\n"
     ]
    }
   ],
   "source": [
    "model.summary()"
   ]
  },
  {
   "cell_type": "markdown",
   "metadata": {},
   "source": [
    "## Train Model"
   ]
  },
  {
   "cell_type": "markdown",
   "metadata": {},
   "source": [
    "### Cross-validation parameters"
   ]
  },
  {
   "cell_type": "code",
   "execution_count": 13,
   "metadata": {
    "ExecuteTime": {
     "end_time": "2021-02-25T02:20:29.903066Z",
     "start_time": "2021-02-25T02:20:29.897417Z"
    }
   },
   "outputs": [],
   "source": [
    "YEAR = 52"
   ]
  },
  {
   "cell_type": "code",
   "execution_count": 14,
   "metadata": {
    "ExecuteTime": {
     "end_time": "2021-02-25T02:20:30.091049Z",
     "start_time": "2021-02-25T02:20:30.086342Z"
    }
   },
   "outputs": [],
   "source": [
    "cv = MultipleTimeSeriesCV(n_splits=5, \n",
    "                          train_period_length=20*YEAR,\n",
    "                          test_period_length=1*YEAR,\n",
    "                          lookahead=1)"
   ]
  },
  {
   "cell_type": "code",
   "execution_count": 15,
   "metadata": {
    "ExecuteTime": {
     "end_time": "2021-02-25T02:20:30.241815Z",
     "start_time": "2021-02-25T02:20:30.232493Z"
    }
   },
   "outputs": [],
   "source": [
    "def get_train_valid_data(data, train_idx, val_idx):\n",
    "    train, val = data.iloc[train_idx], data.iloc[val_idx]\n",
    "    X1_train = train.loc[:, characteristics].values.reshape(-1, n_tickers, n_characteristics)\n",
    "    X1_val = val.loc[:, characteristics].values.reshape(-1, n_tickers, n_characteristics)\n",
    "    X2_train = train.loc[:, 'returns'].unstack('ticker')\n",
    "    X2_val = val.loc[:, 'returns'].unstack('ticker')\n",
    "    y_train = train.returns_fwd.unstack('ticker')\n",
    "    y_val = val.returns_fwd.unstack('ticker')\n",
    "    return X1_train, X2_train, y_train, X1_val, X2_val, y_val"
   ]
  },
  {
   "cell_type": "markdown",
   "metadata": {},
   "source": [
    "### Hyperparameter Options"
   ]
  },
  {
   "cell_type": "code",
   "execution_count": 16,
   "metadata": {
    "ExecuteTime": {
     "end_time": "2021-02-25T02:20:33.307625Z",
     "start_time": "2021-02-25T02:20:33.301301Z"
    }
   },
   "outputs": [],
   "source": [
    "factor_opts = [2, 3, 4, 5, 6]\n",
    "unit_opts = [8, 16, 32]"
   ]
  },
  {
   "cell_type": "code",
   "execution_count": 17,
   "metadata": {
    "ExecuteTime": {
     "end_time": "2021-02-25T02:20:33.390923Z",
     "start_time": "2021-02-25T02:20:33.389108Z"
    }
   },
   "outputs": [],
   "source": [
    "param_grid = list(product(unit_opts, factor_opts))"
   ]
  },
  {
   "cell_type": "markdown",
   "metadata": {},
   "source": [
    "### Run Cross-Validation"
   ]
  },
  {
   "cell_type": "code",
   "execution_count": 40,
   "metadata": {
    "ExecuteTime": {
     "end_time": "2021-02-24T18:54:55.113516Z",
     "start_time": "2021-02-24T18:54:55.104687Z"
    }
   },
   "outputs": [],
   "source": [
    "batch_size = 32"
   ]
  },
  {
   "cell_type": "code",
   "execution_count": 41,
   "metadata": {
    "ExecuteTime": {
     "end_time": "2021-02-24T18:54:55.121852Z",
     "start_time": "2021-02-24T18:54:55.114344Z"
    }
   },
   "outputs": [],
   "source": [
    "cols = ['units', 'n_factors', 'fold', 'epoch', 'ic_mean', \n",
    "        'ic_daily_mean', 'ic_daily_std', 'ic_daily_median']"
   ]
  },
  {
   "cell_type": "code",
   "execution_count": 42,
   "metadata": {
    "ExecuteTime": {
     "end_time": "2021-02-24T21:42:03.285087Z",
     "start_time": "2021-02-24T18:54:55.123067Z"
    },
    "scrolled": false
   },
   "outputs": [
    {
     "name": "stdout",
     "output_type": "stream",
     "text": [
      "00:00:03 | 2 08 | 00-000 |  1.24% |  0.24% | -0.25%\n",
      "00:00:32 | 2 08 | 00-050 | -0.26% | -0.38% |  0.10%\n",
      "00:01:01 | 2 08 | 00-100 | -1.46% |  0.22% | -0.62%\n",
      "00:01:30 | 2 08 | 00-150 | -2.23% | -0.19% | -0.46%\n",
      "00:02:00 | 2 08 | 00-200 | -3.28% |  0.42% | -1.34%\n",
      "00:02:31 | 2 08 | 01-000 | -1.09% |  1.13% |  1.28%\n",
      "00:03:01 | 2 08 | 01-050 |  0.19% |  1.12% |  1.57%\n",
      "00:03:31 | 2 08 | 01-100 |  0.16% | -1.05% | -2.39%\n",
      "00:04:00 | 2 08 | 01-150 |  0.82% |  0.28% | -0.02%\n",
      "00:04:31 | 2 08 | 01-200 |  1.13% |  0.06% |  0.22%\n",
      "00:05:01 | 2 08 | 02-000 | -0.21% | -0.34% | -0.56%\n",
      "00:05:30 | 2 08 | 02-050 |  0.14% | -0.09% |  0.25%\n",
      "00:05:59 | 2 08 | 02-100 |  1.96% |  0.99% |  2.66%\n",
      "00:06:26 | 2 08 | 02-150 |  0.96% | -0.08% | -0.98%\n",
      "00:06:55 | 2 08 | 02-200 |  0.87% |  0.19% |  1.90%\n",
      "00:07:25 | 2 08 | 03-000 |  0.75% | -0.15% |  1.57%\n",
      "00:07:53 | 2 08 | 03-050 |  1.59% |  1.50% |  2.23%\n",
      "00:08:22 | 2 08 | 03-100 |  0.42% |  0.75% | -0.60%\n",
      "00:08:51 | 2 08 | 03-150 | -1.20% | -1.20% | -1.41%\n",
      "00:09:19 | 2 08 | 03-200 | -1.13% | -1.58% | -1.78%\n",
      "00:09:50 | 2 08 | 04-000 |  0.23% | -0.42% |  2.12%\n",
      "00:10:17 | 2 08 | 04-050 |  1.08% |  0.69% |  0.34%\n",
      "00:10:45 | 2 08 | 04-100 | -0.48% | -0.85% |  1.53%\n",
      "00:11:14 | 2 08 | 04-150 | -0.29% | -0.60% | -0.04%\n",
      "00:11:41 | 2 08 | 04-200 | -0.53% | -0.33% |  2.27%\n",
      "00:12:12 | 3 08 | 00-000 | -1.61% |  0.60% | -0.13%\n",
      "00:12:40 | 3 08 | 00-050 |  6.10% |  4.07% |  2.67%\n",
      "00:13:09 | 3 08 | 00-100 |  5.82% |  4.28% |  2.81%\n",
      "00:13:38 | 3 08 | 00-150 |  3.56% |  3.06% |  3.63%\n",
      "00:14:06 | 3 08 | 00-200 |  3.54% |  2.25% |  2.33%\n",
      "00:14:36 | 3 08 | 01-000 |  0.40% |  0.94% |  0.16%\n",
      "00:15:05 | 3 08 | 01-050 |  0.54% | -0.31% | -1.41%\n",
      "00:15:33 | 3 08 | 01-100 |  2.20% |  0.73% |  0.70%\n",
      "00:16:03 | 3 08 | 01-150 | -3.09% | -1.88% | -4.01%\n",
      "00:16:30 | 3 08 | 01-200 | -1.28% | -1.94% | -1.92%\n",
      "00:16:58 | 3 08 | 02-000 | -1.02% | -1.18% | -2.59%\n",
      "00:17:25 | 3 08 | 02-050 |  1.02% |  1.15% |  2.03%\n",
      "00:17:50 | 3 08 | 02-100 |  0.44% |  0.78% |  1.78%\n",
      "00:18:15 | 3 08 | 02-150 |  1.77% |  2.10% |  4.52%\n",
      "00:18:40 | 3 08 | 02-200 |  1.15% |  1.77% |  3.96%\n",
      "00:19:05 | 3 08 | 03-000 |  0.32% |  1.93% |  0.77%\n",
      "00:19:32 | 3 08 | 03-050 | -1.11% | -1.34% |  0.27%\n",
      "00:19:60 | 3 08 | 03-100 |  0.15% | -0.56% |  0.36%\n",
      "00:20:27 | 3 08 | 03-150 |  2.07% |  1.65% | -0.87%\n",
      "00:20:55 | 3 08 | 03-200 |  2.14% | -0.05% |  0.29%\n",
      "00:21:24 | 3 08 | 04-000 |  0.42% | -0.05% | -0.59%\n",
      "00:21:47 | 3 08 | 04-050 |  1.66% | -0.80% | -1.21%\n",
      "00:22:14 | 3 08 | 04-100 |  2.71% |  1.66% |  2.87%\n",
      "00:22:41 | 3 08 | 04-150 |  3.04% |  1.63% |  1.03%\n",
      "00:23:07 | 3 08 | 04-200 | -0.62% | -0.41% | -1.59%\n",
      "00:23:35 | 4 08 | 00-000 | -5.39% | -3.54% | -4.08%\n",
      "00:24:00 | 4 08 | 00-050 |  0.20% | -1.82% | -0.84%\n",
      "00:24:26 | 4 08 | 00-100 |  0.48% | -1.11% | -0.64%\n",
      "00:24:52 | 4 08 | 00-150 |  0.11% | -0.55% |  0.89%\n",
      "00:25:18 | 4 08 | 00-200 | -1.10% | -1.00% |  0.32%\n",
      "00:25:45 | 4 08 | 01-000 |  2.23% |  0.06% | -0.44%\n",
      "00:26:11 | 4 08 | 01-050 |  0.26% |  0.54% |  1.93%\n",
      "00:26:39 | 4 08 | 01-100 |  0.68% |  2.06% |  1.37%\n",
      "00:27:05 | 4 08 | 01-150 |  0.50% |  1.27% |  2.51%\n",
      "00:27:32 | 4 08 | 01-200 |  3.78% | -1.46% | -0.49%\n",
      "00:28:00 | 4 08 | 02-000 |  0.78% |  0.56% |  0.78%\n",
      "00:28:26 | 4 08 | 02-050 | -1.11% | -1.83% | -2.84%\n",
      "00:28:52 | 4 08 | 02-100 |  0.27% |  0.84% |  0.11%\n",
      "00:29:19 | 4 08 | 02-150 |  1.86% |  2.07% |  3.07%\n",
      "00:29:44 | 4 08 | 02-200 |  0.60% |  0.89% |  1.13%\n",
      "00:30:12 | 4 08 | 03-000 | -2.19% | -2.51% | -1.79%\n",
      "00:30:40 | 4 08 | 03-050 | -0.05% | -0.84% | -0.86%\n",
      "00:31:08 | 4 08 | 03-100 | -1.88% |  2.02% |  0.47%\n",
      "00:31:36 | 4 08 | 03-150 |  2.85% | -0.29% | -1.73%\n",
      "00:32:04 | 4 08 | 03-200 |  3.04% | -1.25% | -1.50%\n",
      "00:32:34 | 4 08 | 04-000 |  4.31% | -2.77% | -2.50%\n",
      "00:33:01 | 4 08 | 04-050 |  9.06% | -1.24% | -0.18%\n",
      "00:33:27 | 4 08 | 04-100 | 18.58% |  4.69% |  1.39%\n",
      "00:33:52 | 4 08 | 04-150 | 16.30% |  2.64% |  1.76%\n",
      "00:34:18 | 4 08 | 04-200 | -0.71% |  0.88% | -0.68%\n",
      "00:34:45 | 5 08 | 00-000 |  1.11% | -1.80% | -2.43%\n",
      "00:35:12 | 5 08 | 00-050 | -0.70% |  0.29% | -0.39%\n",
      "00:35:38 | 5 08 | 00-100 | -1.26% | -0.85% | -1.12%\n",
      "00:36:04 | 5 08 | 00-150 | -1.52% | -1.14% | -2.67%\n",
      "00:36:31 | 5 08 | 00-200 | -2.29% | -1.53% | -2.25%\n",
      "00:36:58 | 5 08 | 01-000 |  2.09% |  1.87% |  1.71%\n",
      "00:37:25 | 5 08 | 01-050 |  0.09% | -1.26% | -1.22%\n",
      "00:37:52 | 5 08 | 01-100 |  1.38% | -0.33% | -1.52%\n",
      "00:38:18 | 5 08 | 01-150 | -1.30% | -1.31% | -1.85%\n",
      "00:38:44 | 5 08 | 01-200 |  0.33% | -1.28% | -3.28%\n",
      "00:39:12 | 5 08 | 02-000 |  1.99% |  0.77% | -0.35%\n",
      "00:39:37 | 5 08 | 02-050 |  0.72% |  0.04% |  0.34%\n",
      "00:40:04 | 5 08 | 02-100 |  1.22% |  0.94% |  3.31%\n",
      "00:40:30 | 5 08 | 02-150 |  0.34% | -0.13% | -1.37%\n",
      "00:40:56 | 5 08 | 02-200 |  0.02% | -0.37% |  2.42%\n",
      "00:41:24 | 5 08 | 03-000 |  2.11% |  0.76% |  1.18%\n",
      "00:41:50 | 5 08 | 03-050 |  1.49% |  0.27% |  0.43%\n",
      "00:42:19 | 5 08 | 03-100 |  3.72% |  0.68% |  2.20%\n",
      "00:42:46 | 5 08 | 03-150 |  4.07% |  2.47% |  2.21%\n",
      "00:43:13 | 5 08 | 03-200 |  2.07% |  1.49% |  3.06%\n",
      "00:43:43 | 5 08 | 04-000 |  4.18% |  2.87% |  2.12%\n",
      "00:44:10 | 5 08 | 04-050 |  2.26% |  0.11% |  1.83%\n",
      "00:44:38 | 5 08 | 04-100 |  5.73% |  0.20% | -1.13%\n",
      "00:45:06 | 5 08 | 04-150 |  1.38% |  0.04% | -1.19%\n",
      "00:45:32 | 5 08 | 04-200 |  0.99% |  0.29% |  0.27%\n",
      "00:46:01 | 6 08 | 00-000 |  0.02% |  1.34% |  1.52%\n",
      "00:46:27 | 6 08 | 00-050 |  1.21% | -0.64% | -1.59%\n",
      "00:46:52 | 6 08 | 00-100 |  0.77% | -0.15% | -0.21%\n",
      "00:47:18 | 6 08 | 00-150 |  0.45% |  0.02% |  0.28%\n",
      "00:47:44 | 6 08 | 00-200 |  0.37% |  0.19% |  0.45%\n",
      "00:48:11 | 6 08 | 01-000 |  8.19% |  5.48% |  5.04%\n",
      "00:48:38 | 6 08 | 01-050 |  2.35% | -0.39% | -2.14%\n",
      "00:49:03 | 6 08 | 01-100 |  3.09% |  2.57% |  1.20%\n",
      "00:49:29 | 6 08 | 01-150 | -0.40% |  0.68% |  0.56%\n",
      "00:49:55 | 6 08 | 01-200 |  2.05% | -1.43% | -1.61%\n",
      "00:50:21 | 6 08 | 02-000 |  9.24% | -2.02% | -3.29%\n",
      "00:50:47 | 6 08 | 02-050 |  4.14% | -1.39% | -3.72%\n",
      "00:51:12 | 6 08 | 02-100 | -2.82% |  1.26% |  2.54%\n",
      "00:51:37 | 6 08 | 02-150 |  0.07% | -1.11% | -2.55%\n",
      "00:52:03 | 6 08 | 02-200 |  5.57% |  0.83% |  1.13%\n",
      "00:52:28 | 6 08 | 03-000 | 13.18% |  0.01% |  1.09%\n",
      "00:52:54 | 6 08 | 03-050 | -1.73% |  1.05% |  1.09%\n",
      "00:53:20 | 6 08 | 03-100 | 11.19% | -0.18% | -0.25%\n",
      "00:53:44 | 6 08 | 03-150 |  4.35% |  0.81% |  2.71%\n",
      "00:54:09 | 6 08 | 03-200 |  3.66% |  0.21% |  0.29%\n",
      "00:54:35 | 6 08 | 04-000 |  4.74% |  3.01% |  3.89%\n",
      "00:54:58 | 6 08 | 04-050 | 13.84% | -0.68% | -0.79%\n",
      "00:55:21 | 6 08 | 04-100 | 22.41% | -0.29% | -1.37%\n",
      "00:55:46 | 6 08 | 04-150 | 14.08% |  0.31% | -0.37%\n",
      "00:56:11 | 6 08 | 04-200 | 12.63% |  1.73% |  2.01%\n",
      "00:56:38 | 2 16 | 00-000 |  1.39% |  1.33% |  1.60%\n",
      "00:57:02 | 2 16 | 00-050 |  0.52% | -0.81% | -0.57%\n",
      "00:57:28 | 2 16 | 00-100 |  0.22% | -0.16% |  0.37%\n",
      "00:57:54 | 2 16 | 00-150 |  0.49% |  1.10% |  1.21%\n",
      "00:58:18 | 2 16 | 00-200 | -1.89% | -2.14% | -0.89%\n",
      "00:58:45 | 2 16 | 01-000 |  1.84% |  2.40% |  4.04%\n",
      "00:59:11 | 2 16 | 01-050 |  0.73% |  0.76% |  1.22%\n",
      "00:59:37 | 2 16 | 01-100 | -0.36% | -0.18% | -0.13%\n",
      "01:00:03 | 2 16 | 01-150 | -0.13% | -0.74% | -2.32%\n",
      "01:00:28 | 2 16 | 01-200 | -0.16% |  0.30% |  0.64%\n",
      "01:00:53 | 2 16 | 02-000 | -1.92% | -2.24% | -3.58%\n",
      "01:01:20 | 2 16 | 02-050 |  2.80% |  3.08% |  4.62%\n",
      "01:01:46 | 2 16 | 02-100 | -1.99% | -2.05% | -3.30%\n",
      "01:02:12 | 2 16 | 02-150 | -1.12% | -1.39% | -0.19%\n",
      "01:02:40 | 2 16 | 02-200 |  1.24% |  1.48% |  2.06%\n",
      "01:03:08 | 2 16 | 03-000 |  1.71% |  1.13% |  5.00%\n",
      "01:03:33 | 2 16 | 03-050 |  0.61% |  1.95% |  1.67%\n",
      "01:04:00 | 2 16 | 03-100 | -0.78% | -0.66% | -0.18%\n",
      "01:04:27 | 2 16 | 03-150 | -0.09% | -0.71% | -2.86%\n",
      "01:04:55 | 2 16 | 03-200 |  1.06% |  1.25% | -0.52%\n",
      "01:05:23 | 2 16 | 04-000 |  1.91% | -0.71% | -0.32%\n",
      "01:05:49 | 2 16 | 04-050 |  0.82% |  1.67% | -0.02%\n",
      "01:06:16 | 2 16 | 04-100 |  4.10% |  3.32% |  3.54%\n",
      "01:06:42 | 2 16 | 04-150 |  3.91% |  4.46% |  4.54%\n",
      "01:07:08 | 2 16 | 04-200 |  6.34% |  1.59% | -0.54%\n",
      "01:07:37 | 3 16 | 00-000 | -0.68% | -0.74% | -0.36%\n",
      "01:08:00 | 3 16 | 00-050 |  0.28% |  0.42% |  0.83%\n",
      "01:08:24 | 3 16 | 00-100 |  0.25% |  0.39% |  0.85%\n",
      "01:08:49 | 3 16 | 00-150 | -0.74% | -0.12% |  0.43%\n",
      "01:09:12 | 3 16 | 00-200 | -1.40% |  0.01% | -0.01%\n",
      "01:09:38 | 3 16 | 01-000 | -0.45% |  0.54% |  1.45%\n",
      "01:10:04 | 3 16 | 01-050 | -0.97% |  1.37% |  1.68%\n",
      "01:10:30 | 3 16 | 01-100 | -1.34% |  0.20% | -0.05%\n"
     ]
    },
    {
     "name": "stdout",
     "output_type": "stream",
     "text": [
      "01:10:55 | 3 16 | 01-150 | -1.81% | -0.54% | -1.85%\n",
      "01:11:21 | 3 16 | 01-200 |  1.01% |  0.87% |  0.37%\n",
      "01:11:47 | 3 16 | 02-000 |  1.36% |  1.28% |  1.63%\n",
      "01:12:11 | 3 16 | 02-050 | -0.43% | -0.41% |  0.44%\n",
      "01:12:36 | 3 16 | 02-100 |  1.22% |  0.97% |  2.21%\n",
      "01:13:02 | 3 16 | 02-150 | -0.32% |  0.22% | -0.21%\n",
      "01:13:28 | 3 16 | 02-200 |  1.78% |  1.42% |  2.20%\n",
      "01:13:54 | 3 16 | 03-000 | -0.45% |  0.11% |  0.31%\n",
      "01:14:20 | 3 16 | 03-050 |  1.84% |  1.43% |  0.68%\n",
      "01:14:45 | 3 16 | 03-100 |  1.91% |  0.82% |  2.21%\n",
      "01:15:10 | 3 16 | 03-150 |  1.30% |  1.01% |  1.47%\n",
      "01:15:36 | 3 16 | 03-200 | -0.58% | -0.00% |  0.59%\n",
      "01:16:04 | 3 16 | 04-000 | -1.66% | -1.20% | -2.58%\n",
      "01:16:31 | 3 16 | 04-050 |  0.63% |  1.13% |  1.47%\n",
      "01:16:59 | 3 16 | 04-100 | -2.45% |  0.45% |  0.75%\n",
      "01:17:24 | 3 16 | 04-150 |  0.42% |  0.96% | -0.03%\n",
      "01:17:49 | 3 16 | 04-200 | -0.09% |  0.22% |  0.55%\n",
      "01:18:18 | 4 16 | 00-000 |  0.68% | -0.68% | -0.80%\n",
      "01:18:44 | 4 16 | 00-050 |  1.10% |  0.53% |  0.15%\n",
      "01:19:11 | 4 16 | 00-100 |  0.36% |  0.37% | -0.64%\n",
      "01:19:35 | 4 16 | 00-150 | -0.50% | -0.43% | -0.98%\n",
      "01:20:00 | 4 16 | 00-200 | -1.08% | -0.49% | -1.01%\n",
      "01:20:27 | 4 16 | 01-000 |  2.04% |  1.67% |  1.98%\n",
      "01:20:52 | 4 16 | 01-050 |  1.39% |  2.31% |  3.22%\n",
      "01:21:17 | 4 16 | 01-100 |  1.88% |  1.19% |  2.16%\n",
      "01:21:43 | 4 16 | 01-150 |  2.52% |  2.46% |  2.41%\n",
      "01:22:07 | 4 16 | 01-200 |  2.00% |  0.86% |  2.30%\n",
      "01:22:34 | 4 16 | 02-000 |  2.23% |  2.04% |  1.97%\n",
      "01:22:59 | 4 16 | 02-050 | -1.92% | -2.05% | -2.65%\n",
      "01:23:24 | 4 16 | 02-100 |  0.48% |  0.33% |  0.91%\n",
      "01:23:48 | 4 16 | 02-150 |  0.82% | -0.25% | -0.92%\n",
      "01:24:13 | 4 16 | 02-200 |  0.97% |  0.72% |  0.85%\n",
      "01:24:39 | 4 16 | 03-000 |  2.11% |  1.04% |  0.77%\n",
      "01:25:05 | 4 16 | 03-050 |  2.62% |  1.16% |  0.95%\n",
      "01:25:29 | 4 16 | 03-100 |  0.95% |  0.68% |  1.40%\n",
      "01:25:53 | 4 16 | 03-150 |  2.33% |  1.66% |  1.54%\n",
      "01:26:17 | 4 16 | 03-200 | -0.43% | -0.85% | -3.98%\n",
      "01:26:43 | 4 16 | 04-000 |  0.65% | -0.93% | -0.80%\n",
      "01:27:07 | 4 16 | 04-050 | -6.39% | -1.51% | -1.40%\n",
      "01:27:34 | 4 16 | 04-100 |  3.52% |  3.93% |  4.99%\n",
      "01:27:57 | 4 16 | 04-150 |  3.27% |  2.02% | -0.64%\n",
      "01:28:23 | 4 16 | 04-200 |  4.98% |  1.22% | -0.10%\n",
      "01:28:53 | 5 16 | 00-000 | -4.46% | -2.67% | -1.41%\n",
      "01:29:19 | 5 16 | 00-050 | -0.04% | -0.02% | -0.20%\n",
      "01:29:46 | 5 16 | 00-100 | -0.03% |  0.01% |  0.33%\n",
      "01:30:10 | 5 16 | 00-150 |  0.45% |  0.63% |  1.44%\n",
      "01:30:35 | 5 16 | 00-200 | -0.41% |  0.01% |  0.40%\n",
      "01:31:04 | 5 16 | 01-000 |  1.08% |  1.82% |  2.12%\n",
      "01:31:27 | 5 16 | 01-050 | -1.49% | -1.16% | -1.01%\n",
      "01:31:52 | 5 16 | 01-100 |  0.91% |  1.30% |  1.96%\n",
      "01:32:19 | 5 16 | 01-150 | -1.41% |  1.26% | -0.33%\n",
      "01:32:43 | 5 16 | 01-200 |  0.86% |  1.32% |  0.61%\n",
      "01:33:09 | 5 16 | 02-000 |  0.86% |  0.88% |  0.97%\n",
      "01:33:34 | 5 16 | 02-050 |  0.66% |  1.01% |  2.18%\n",
      "01:33:58 | 5 16 | 02-100 |  1.67% |  1.35% |  1.39%\n",
      "01:34:22 | 5 16 | 02-150 |  1.22% |  0.20% |  0.68%\n",
      "01:34:47 | 5 16 | 02-200 |  1.37% |  0.87% |  1.37%\n",
      "01:35:12 | 5 16 | 03-000 |  3.34% |  2.01% |  2.41%\n",
      "01:35:36 | 5 16 | 03-050 |  4.10% |  1.40% |  1.56%\n",
      "01:36:00 | 5 16 | 03-100 |  2.88% |  1.13% | -0.05%\n",
      "01:36:24 | 5 16 | 03-150 |  2.42% |  1.00% |  1.51%\n",
      "01:36:49 | 5 16 | 03-200 | -0.05% | -0.58% | -0.49%\n",
      "01:37:15 | 5 16 | 04-000 |  4.69% | -1.29% | -2.87%\n",
      "01:37:40 | 5 16 | 04-050 |  3.93% | -0.88% | -1.13%\n",
      "01:38:06 | 5 16 | 04-100 |  4.50% | -0.13% | -0.36%\n",
      "01:38:31 | 5 16 | 04-150 | -0.83% | -0.37% | -0.76%\n",
      "01:38:56 | 5 16 | 04-200 |  4.49% |  1.64% |  0.96%\n",
      "01:39:25 | 6 16 | 00-000 | -0.89% | -0.23% |  0.94%\n",
      "01:39:49 | 6 16 | 00-050 | -1.46% | -2.07% | -0.79%\n",
      "01:40:14 | 6 16 | 00-100 | -1.39% | -2.06% | -1.56%\n",
      "01:40:39 | 6 16 | 00-150 | -1.28% | -2.00% | -1.03%\n",
      "01:41:03 | 6 16 | 00-200 | -0.53% | -0.84% |  0.40%\n",
      "01:41:29 | 6 16 | 01-000 |  3.73% | -0.31% | -0.15%\n",
      "01:41:53 | 6 16 | 01-050 | -0.25% | -0.65% | -0.83%\n",
      "01:42:17 | 6 16 | 01-100 | -0.75% | -1.12% | -2.30%\n",
      "01:42:41 | 6 16 | 01-150 | -0.46% | -1.54% | -2.92%\n",
      "01:43:06 | 6 16 | 01-200 |  2.09% |  2.66% |  3.64%\n",
      "01:43:31 | 6 16 | 02-000 | -1.48% | -1.65% | -2.24%\n",
      "01:43:56 | 6 16 | 02-050 |  1.19% |  0.95% |  0.42%\n",
      "01:44:20 | 6 16 | 02-100 |  0.13% |  0.01% | -0.51%\n",
      "01:44:44 | 6 16 | 02-150 |  3.89% |  2.86% |  3.74%\n",
      "01:45:07 | 6 16 | 02-200 |  1.51% |  2.29% |  2.13%\n",
      "01:45:32 | 6 16 | 03-000 |  3.69% |  1.69% |  1.89%\n",
      "01:45:56 | 6 16 | 03-050 |  1.37% |  1.17% | -0.86%\n",
      "01:46:22 | 6 16 | 03-100 |  4.53% |  3.29% |  1.85%\n",
      "01:46:46 | 6 16 | 03-150 |  2.82% |  0.77% |  0.58%\n",
      "01:47:09 | 6 16 | 03-200 |  4.97% |  2.62% |  3.63%\n",
      "01:47:36 | 6 16 | 04-000 |  2.36% | -0.47% | -1.58%\n",
      "01:48:00 | 6 16 | 04-050 | -0.16% |  0.97% | -2.02%\n",
      "01:48:25 | 6 16 | 04-100 |  3.43% |  0.77% |  2.32%\n",
      "01:48:51 | 6 16 | 04-150 |  1.46% | -0.60% | -4.10%\n",
      "01:49:17 | 6 16 | 04-200 | -0.42% |  0.11% | -1.86%\n",
      "01:49:45 | 2 32 | 00-000 | -0.66% |  0.65% | -0.32%\n",
      "01:50:11 | 2 32 | 00-050 |  1.19% |  0.49% | -0.37%\n",
      "01:50:37 | 2 32 | 00-100 |  0.92% |  0.25% | -0.06%\n",
      "01:51:02 | 2 32 | 00-150 |  0.54% | -0.27% | -0.80%\n",
      "01:51:28 | 2 32 | 00-200 |  1.00% | -0.08% | -1.02%\n",
      "01:51:55 | 2 32 | 01-000 |  0.86% |  0.16% | -0.47%\n",
      "01:52:22 | 2 32 | 01-050 | -0.46% | -1.09% | -1.38%\n",
      "01:52:50 | 2 32 | 01-100 | -0.33% | -1.42% | -2.72%\n",
      "01:53:17 | 2 32 | 01-150 | -0.74% | -1.61% | -1.07%\n",
      "01:53:45 | 2 32 | 01-200 | -1.00% | -0.80% | -0.81%\n",
      "01:54:14 | 2 32 | 02-000 | -0.48% | -0.44% |  0.66%\n",
      "01:54:42 | 2 32 | 02-050 |  1.01% |  0.99% |  0.69%\n",
      "01:55:11 | 2 32 | 02-100 | -0.80% | -0.94% | -2.37%\n",
      "01:55:36 | 2 32 | 02-150 | -0.12% |  0.20% |  0.66%\n",
      "01:56:04 | 2 32 | 02-200 | -0.03% | -0.12% |  0.19%\n",
      "01:56:32 | 2 32 | 03-000 | -1.76% | -0.79% | -2.85%\n",
      "01:56:57 | 2 32 | 03-050 |  0.88% |  1.77% |  2.87%\n",
      "01:57:22 | 2 32 | 03-100 |  1.34% |  1.30% |  2.70%\n",
      "01:57:50 | 2 32 | 03-150 | -0.46% | -0.85% | -0.27%\n",
      "01:58:17 | 2 32 | 03-200 |  1.22% |  0.50% |  0.64%\n",
      "01:58:45 | 2 32 | 04-000 |  6.54% |  2.84% |  1.42%\n",
      "01:59:13 | 2 32 | 04-050 |  5.43% |  3.02% |  2.35%\n",
      "01:59:40 | 2 32 | 04-100 | -0.69% | -0.33% |  0.99%\n",
      "02:00:08 | 2 32 | 04-150 |  1.20% |  2.19% |  1.70%\n",
      "02:00:35 | 2 32 | 04-200 |  4.05% |  3.04% |  3.46%\n",
      "02:01:05 | 3 32 | 00-000 | -0.87% | -0.60% |  1.23%\n",
      "02:01:33 | 3 32 | 00-050 |  0.16% | -0.39% | -0.13%\n",
      "02:01:59 | 3 32 | 00-100 |  1.27% | -0.97% |  0.10%\n",
      "02:02:26 | 3 32 | 00-150 |  2.01% |  0.13% |  0.28%\n",
      "02:02:54 | 3 32 | 00-200 | -0.41% | -0.35% | -0.82%\n",
      "02:03:21 | 3 32 | 01-000 |  0.38% | -0.36% |  1.00%\n",
      "02:03:47 | 3 32 | 01-050 | -1.15% | -1.65% | -0.69%\n",
      "02:04:15 | 3 32 | 01-100 | -0.23% |  1.07% |  0.58%\n",
      "02:04:42 | 3 32 | 01-150 | -0.10% |  0.38% | -0.39%\n",
      "02:05:09 | 3 32 | 01-200 |  1.51% |  1.96% |  1.51%\n",
      "02:05:37 | 3 32 | 02-000 | -0.91% | -0.62% | -0.91%\n",
      "02:06:02 | 3 32 | 02-050 |  0.56% |  0.61% |  0.54%\n",
      "02:06:27 | 3 32 | 02-100 |  0.78% |  0.88% |  0.33%\n",
      "02:06:53 | 3 32 | 02-150 | -0.39% | -0.69% | -1.18%\n",
      "02:07:19 | 3 32 | 02-200 |  0.88% |  0.59% |  0.31%\n",
      "02:07:46 | 3 32 | 03-000 |  0.28% |  0.41% |  1.00%\n",
      "02:08:11 | 3 32 | 03-050 |  1.52% |  0.79% | -3.27%\n",
      "02:08:36 | 3 32 | 03-100 |  0.86% |  1.25% |  1.69%\n",
      "02:09:02 | 3 32 | 03-150 | -1.15% | -1.02% | -0.82%\n",
      "02:09:28 | 3 32 | 03-200 |  2.27% |  1.80% | -0.74%\n",
      "02:09:54 | 3 32 | 04-000 |  1.61% |  1.76% |  1.93%\n",
      "02:10:20 | 3 32 | 04-050 | -0.68% | -0.89% | -1.53%\n",
      "02:10:46 | 3 32 | 04-100 |  2.21% | -0.99% | -1.91%\n",
      "02:11:12 | 3 32 | 04-150 |  2.55% |  2.79% |  4.55%\n",
      "02:11:39 | 3 32 | 04-200 | -1.55% | -2.58% | -1.72%\n",
      "02:12:07 | 4 32 | 00-000 | -4.30% | -1.99% | -2.26%\n",
      "02:12:36 | 4 32 | 00-050 | -1.16% |  0.11% |  0.17%\n",
      "02:13:03 | 4 32 | 00-100 | -1.17% |  0.15% |  0.68%\n",
      "02:13:30 | 4 32 | 00-150 |  0.47% |  0.41% | -0.19%\n",
      "02:13:58 | 4 32 | 00-200 | -1.31% | -0.29% | -0.80%\n",
      "02:14:27 | 4 32 | 01-000 | -1.40% | -1.37% | -3.22%\n",
      "02:14:54 | 4 32 | 01-050 |  0.28% | -0.27% | -0.09%\n",
      "02:15:23 | 4 32 | 01-100 | -0.17% | -0.76% | -0.29%\n",
      "02:15:51 | 4 32 | 01-150 |  0.45% | -0.39% |  1.01%\n",
      "02:16:18 | 4 32 | 01-200 |  0.63% | -0.07% |  0.91%\n",
      "02:16:49 | 4 32 | 02-000 |  1.64% |  1.63% |  1.31%\n",
      "02:17:15 | 4 32 | 02-050 | -1.15% | -1.04% | -1.21%\n",
      "02:17:42 | 4 32 | 02-100 |  1.29% |  1.24% |  1.88%\n",
      "02:18:09 | 4 32 | 02-150 | -0.69% | -1.08% | -1.47%\n",
      "02:18:36 | 4 32 | 02-200 |  1.73% |  1.56% |  2.26%\n",
      "02:19:04 | 4 32 | 03-000 |  1.14% |  0.60% |  1.14%\n"
     ]
    },
    {
     "name": "stdout",
     "output_type": "stream",
     "text": [
      "02:19:33 | 4 32 | 03-050 |  0.95% |  0.68% |  1.37%\n",
      "02:19:59 | 4 32 | 03-100 | -0.66% | -0.18% | -1.67%\n",
      "02:20:26 | 4 32 | 03-150 |  1.85% |  1.16% |  2.21%\n",
      "02:20:53 | 4 32 | 03-200 | -0.52% |  0.35% |  0.30%\n",
      "02:21:21 | 4 32 | 04-000 |  5.03% |  2.61% |  0.80%\n",
      "02:21:49 | 4 32 | 04-050 |  0.61% | -0.71% |  1.09%\n",
      "02:22:17 | 4 32 | 04-100 |  5.45% |  4.32% |  3.05%\n",
      "02:22:43 | 4 32 | 04-150 |  1.40% |  3.85% |  3.64%\n",
      "02:23:11 | 4 32 | 04-200 | -4.90% | -2.73% | -2.85%\n",
      "02:23:42 | 5 32 | 00-000 | -2.62% | -2.92% | -3.29%\n",
      "02:24:13 | 5 32 | 00-050 |  1.15% | -0.38% | -1.95%\n",
      "02:24:44 | 5 32 | 00-100 |  0.85% | -0.85% | -1.90%\n",
      "02:25:10 | 5 32 | 00-150 |  0.69% | -0.97% | -1.53%\n",
      "02:25:38 | 5 32 | 00-200 | -0.01% | -1.20% | -1.89%\n",
      "02:26:09 | 5 32 | 01-000 |  0.18% |  0.27% |  0.69%\n",
      "02:26:35 | 5 32 | 01-050 | -0.01% | -0.29% |  0.40%\n",
      "02:27:01 | 5 32 | 01-100 |  0.57% |  0.25% |  0.96%\n",
      "02:27:29 | 5 32 | 01-150 | -0.22% | -0.05% | -1.12%\n",
      "02:27:57 | 5 32 | 01-200 | -0.71% | -0.35% | -2.00%\n",
      "02:28:27 | 5 32 | 02-000 | -1.30% | -1.37% | -1.80%\n",
      "02:28:57 | 5 32 | 02-050 |  1.89% |  1.75% |  2.58%\n",
      "02:29:24 | 5 32 | 02-100 |  0.50% |  0.10% | -0.60%\n",
      "02:29:50 | 5 32 | 02-150 |  2.07% |  2.22% |  2.48%\n",
      "02:30:20 | 5 32 | 02-200 |  1.69% |  1.67% |  3.78%\n",
      "02:30:50 | 5 32 | 03-000 |  1.42% |  2.16% |  2.78%\n",
      "02:31:18 | 5 32 | 03-050 | -1.75% | -0.87% | -2.64%\n",
      "02:31:48 | 5 32 | 03-100 |  1.81% |  1.50% |  2.32%\n",
      "02:32:16 | 5 32 | 03-150 |  1.30% |  1.57% |  1.06%\n",
      "02:32:44 | 5 32 | 03-200 | -0.62% | -0.89% | -1.82%\n",
      "02:33:15 | 5 32 | 04-000 |  0.89% | -1.07% |  2.75%\n",
      "02:33:43 | 5 32 | 04-050 |  6.00% |  1.67% |  0.86%\n",
      "02:34:12 | 5 32 | 04-100 |  4.22% |  0.55% | -1.03%\n",
      "02:34:39 | 5 32 | 04-150 |  2.87% |  1.12% |  1.46%\n",
      "02:35:05 | 5 32 | 04-200 |  0.61% |  0.60% |  0.72%\n",
      "02:35:34 | 6 32 | 00-000 | -0.85% | -1.69% | -2.30%\n",
      "02:36:01 | 6 32 | 00-050 | -2.71% | -2.04% | -2.99%\n",
      "02:36:30 | 6 32 | 00-100 | -1.64% | -1.25% | -1.89%\n",
      "02:36:60 | 6 32 | 00-150 | -0.90% | -0.36% | -1.10%\n",
      "02:37:28 | 6 32 | 00-200 |  0.14% |  0.53% |  0.22%\n",
      "02:37:58 | 6 32 | 01-000 |  2.33% |  1.58% |  0.90%\n",
      "02:38:27 | 6 32 | 01-050 | -0.13% |  1.08% |  1.54%\n",
      "02:38:53 | 6 32 | 01-100 |  2.18% |  2.60% |  2.78%\n",
      "02:39:21 | 6 32 | 01-150 | -1.04% | -0.74% | -2.07%\n",
      "02:39:49 | 6 32 | 01-200 |  1.44% |  0.56% |  2.34%\n",
      "02:40:16 | 6 32 | 02-000 |  1.31% |  1.15% |  1.55%\n",
      "02:40:43 | 6 32 | 02-050 |  0.88% |  1.13% |  1.59%\n",
      "02:41:10 | 6 32 | 02-100 |  2.18% |  2.22% |  2.92%\n",
      "02:41:37 | 6 32 | 02-150 | -0.22% |  0.07% |  0.84%\n",
      "02:42:06 | 6 32 | 02-200 |  0.11% | -0.06% |  1.13%\n",
      "02:42:37 | 6 32 | 03-000 |  0.54% |  0.45% |  0.10%\n",
      "02:43:03 | 6 32 | 03-050 |  1.34% |  0.95% |  0.91%\n",
      "02:43:30 | 6 32 | 03-100 |  2.19% |  1.67% |  3.98%\n",
      "02:43:57 | 6 32 | 03-150 |  2.29% |  1.72% |  0.53%\n",
      "02:44:26 | 6 32 | 03-200 | -1.13% | -2.00% | -2.74%\n",
      "02:44:55 | 6 32 | 04-000 | -1.44% | -2.56% | -2.89%\n",
      "02:45:22 | 6 32 | 04-050 |  0.20% |  0.55% |  0.76%\n",
      "02:45:47 | 6 32 | 04-100 |  2.50% |  2.63% |  1.59%\n",
      "02:46:16 | 6 32 | 04-150 | -4.57% | -2.51% | -2.70%\n",
      "02:46:43 | 6 32 | 04-200 |  2.58% |  1.61% | -0.67%\n"
     ]
    }
   ],
   "source": [
    "start = time()\n",
    "for units, n_factors in param_grid:\n",
    "    scores = []\n",
    "    model = make_model(hidden_units=units, n_factors=n_factors)\n",
    "    for fold, (train_idx, val_idx) in enumerate(cv.split(data)):\n",
    "        X1_train, X2_train, y_train, X1_val, X2_val, y_val = get_train_valid_data(data,\n",
    "                                                                                  train_idx,\n",
    "                                                                                  val_idx)\n",
    "        for epoch in range(250):\n",
    "            model.fit([X1_train, X2_train], y_train,\n",
    "                      batch_size=batch_size,\n",
    "                      validation_data=([X1_val, X2_val], y_val),\n",
    "                      epochs=epoch + 1,\n",
    "                      initial_epoch=epoch,\n",
    "                      verbose=0, shuffle=True)\n",
    "            result = (pd.DataFrame({'y_pred': model.predict([X1_val,\n",
    "                                                             X2_val]).reshape(-1),\n",
    "                                    'y_true': y_val.stack().values},\n",
    "                                   index=y_val.stack().index)\n",
    "                      .replace(-2, np.nan).dropna())\n",
    "            r0 = spearmanr(result.y_true, result.y_pred)[0]\n",
    "            r1 = result.groupby(level='date').apply(lambda x: spearmanr(x.y_pred,\n",
    "                                                                        x.y_true)[0])\n",
    "\n",
    "            scores.append([units, n_factors, fold, epoch, r0,\n",
    "                           r1.mean(), r1.std(), r1.median()])\n",
    "            if epoch % 50 == 0:\n",
    "                print(f'{format_time(time()-start)} | {n_factors} | {units:02} | {fold:02}-{epoch:03} | {r0:6.2%} | '\n",
    "                  f'{r1.mean():6.2%} | {r1.median():6.2%}')            \n",
    "    scores = pd.DataFrame(scores, columns=cols)\n",
    "    scores.to_hdf(results_path / 'scores.h5', f'{units}/{n_factors}')"
   ]
  },
  {
   "cell_type": "markdown",
   "metadata": {},
   "source": [
    "### Evaluate Results"
   ]
  },
  {
   "cell_type": "code",
   "execution_count": 13,
   "metadata": {
    "ExecuteTime": {
     "end_time": "2021-02-25T01:24:37.645031Z",
     "start_time": "2021-02-25T01:24:37.472670Z"
    }
   },
   "outputs": [],
   "source": [
    "scores = []\n",
    "with pd.HDFStore(results_path / 'scores.h5') as store:\n",
    "    for key in store.keys():\n",
    "        scores.append(store[key])\n",
    "scores = pd.concat(scores)"
   ]
  },
  {
   "cell_type": "code",
   "execution_count": 14,
   "metadata": {
    "ExecuteTime": {
     "end_time": "2021-02-25T01:24:38.690579Z",
     "start_time": "2021-02-25T01:24:38.680750Z"
    }
   },
   "outputs": [
    {
     "name": "stdout",
     "output_type": "stream",
     "text": [
      "<class 'pandas.core.frame.DataFrame'>\n",
      "Int64Index: 18750 entries, 0 to 1249\n",
      "Data columns (total 8 columns):\n",
      " #   Column           Non-Null Count  Dtype  \n",
      "---  ------           --------------  -----  \n",
      " 0   units            18750 non-null  int64  \n",
      " 1   n_factors        18750 non-null  int64  \n",
      " 2   fold             18750 non-null  int64  \n",
      " 3   epoch            18750 non-null  int64  \n",
      " 4   ic_mean          18750 non-null  float64\n",
      " 5   ic_daily_mean    18750 non-null  float64\n",
      " 6   ic_daily_std     18750 non-null  float64\n",
      " 7   ic_daily_median  18750 non-null  float64\n",
      "dtypes: float64(4), int64(4)\n",
      "memory usage: 1.3 MB\n"
     ]
    }
   ],
   "source": [
    "scores.info()"
   ]
  },
  {
   "cell_type": "code",
   "execution_count": 15,
   "metadata": {
    "ExecuteTime": {
     "end_time": "2021-02-25T01:24:40.755460Z",
     "start_time": "2021-02-25T01:24:40.737523Z"
    }
   },
   "outputs": [],
   "source": [
    "avg = (scores.groupby(['n_factors', 'units', 'epoch'])\n",
    "       ['ic_mean', 'ic_daily_mean', 'ic_daily_median']\n",
    "       .mean()\n",
    "      .reset_index())"
   ]
  },
  {
   "cell_type": "code",
   "execution_count": 16,
   "metadata": {
    "ExecuteTime": {
     "end_time": "2021-02-25T01:24:40.967622Z",
     "start_time": "2021-02-25T01:24:40.946156Z"
    }
   },
   "outputs": [
    {
     "data": {
      "text/html": [
       "<div>\n",
       "<style scoped>\n",
       "    .dataframe tbody tr th:only-of-type {\n",
       "        vertical-align: middle;\n",
       "    }\n",
       "\n",
       "    .dataframe tbody tr th {\n",
       "        vertical-align: top;\n",
       "    }\n",
       "\n",
       "    .dataframe thead th {\n",
       "        text-align: right;\n",
       "    }\n",
       "</style>\n",
       "<table border=\"1\" class=\"dataframe\">\n",
       "  <thead>\n",
       "    <tr style=\"text-align: right;\">\n",
       "      <th></th>\n",
       "      <th>n_factors</th>\n",
       "      <th>units</th>\n",
       "      <th>epoch</th>\n",
       "      <th>ic_mean</th>\n",
       "      <th>ic_daily_mean</th>\n",
       "      <th>ic_daily_median</th>\n",
       "    </tr>\n",
       "  </thead>\n",
       "  <tbody>\n",
       "    <tr>\n",
       "      <th>2079</th>\n",
       "      <td>4</td>\n",
       "      <td>32</td>\n",
       "      <td>79</td>\n",
       "      <td>0.026611</td>\n",
       "      <td>0.023304</td>\n",
       "      <td>0.028009</td>\n",
       "    </tr>\n",
       "    <tr>\n",
       "      <th>2218</th>\n",
       "      <td>4</td>\n",
       "      <td>32</td>\n",
       "      <td>218</td>\n",
       "      <td>0.019487</td>\n",
       "      <td>0.015941</td>\n",
       "      <td>0.027230</td>\n",
       "    </tr>\n",
       "    <tr>\n",
       "      <th>2052</th>\n",
       "      <td>4</td>\n",
       "      <td>32</td>\n",
       "      <td>52</td>\n",
       "      <td>0.023268</td>\n",
       "      <td>0.019379</td>\n",
       "      <td>0.027194</td>\n",
       "    </tr>\n",
       "    <tr>\n",
       "      <th>1681</th>\n",
       "      <td>4</td>\n",
       "      <td>8</td>\n",
       "      <td>181</td>\n",
       "      <td>0.056288</td>\n",
       "      <td>0.015536</td>\n",
       "      <td>0.027112</td>\n",
       "    </tr>\n",
       "    <tr>\n",
       "      <th>2234</th>\n",
       "      <td>4</td>\n",
       "      <td>32</td>\n",
       "      <td>234</td>\n",
       "      <td>0.026894</td>\n",
       "      <td>0.016454</td>\n",
       "      <td>0.026352</td>\n",
       "    </tr>\n",
       "    <tr>\n",
       "      <th>1614</th>\n",
       "      <td>4</td>\n",
       "      <td>8</td>\n",
       "      <td>114</td>\n",
       "      <td>0.037274</td>\n",
       "      <td>0.018129</td>\n",
       "      <td>0.025588</td>\n",
       "    </tr>\n",
       "    <tr>\n",
       "      <th>1608</th>\n",
       "      <td>4</td>\n",
       "      <td>8</td>\n",
       "      <td>108</td>\n",
       "      <td>0.030997</td>\n",
       "      <td>0.019158</td>\n",
       "      <td>0.025526</td>\n",
       "    </tr>\n",
       "    <tr>\n",
       "      <th>765</th>\n",
       "      <td>3</td>\n",
       "      <td>8</td>\n",
       "      <td>15</td>\n",
       "      <td>0.015636</td>\n",
       "      <td>0.014492</td>\n",
       "      <td>0.024900</td>\n",
       "    </tr>\n",
       "    <tr>\n",
       "      <th>1716</th>\n",
       "      <td>4</td>\n",
       "      <td>8</td>\n",
       "      <td>216</td>\n",
       "      <td>0.003554</td>\n",
       "      <td>0.016880</td>\n",
       "      <td>0.024367</td>\n",
       "    </tr>\n",
       "    <tr>\n",
       "      <th>1712</th>\n",
       "      <td>4</td>\n",
       "      <td>8</td>\n",
       "      <td>212</td>\n",
       "      <td>0.020408</td>\n",
       "      <td>0.019991</td>\n",
       "      <td>0.024052</td>\n",
       "    </tr>\n",
       "    <tr>\n",
       "      <th>2094</th>\n",
       "      <td>4</td>\n",
       "      <td>32</td>\n",
       "      <td>94</td>\n",
       "      <td>0.018744</td>\n",
       "      <td>0.013401</td>\n",
       "      <td>0.023730</td>\n",
       "    </tr>\n",
       "    <tr>\n",
       "      <th>2087</th>\n",
       "      <td>4</td>\n",
       "      <td>32</td>\n",
       "      <td>87</td>\n",
       "      <td>0.013595</td>\n",
       "      <td>0.013018</td>\n",
       "      <td>0.023570</td>\n",
       "    </tr>\n",
       "    <tr>\n",
       "      <th>471</th>\n",
       "      <td>2</td>\n",
       "      <td>16</td>\n",
       "      <td>221</td>\n",
       "      <td>0.013744</td>\n",
       "      <td>0.012241</td>\n",
       "      <td>0.023094</td>\n",
       "    </tr>\n",
       "    <tr>\n",
       "      <th>1719</th>\n",
       "      <td>4</td>\n",
       "      <td>8</td>\n",
       "      <td>219</td>\n",
       "      <td>0.031323</td>\n",
       "      <td>0.017167</td>\n",
       "      <td>0.022970</td>\n",
       "    </tr>\n",
       "    <tr>\n",
       "      <th>2104</th>\n",
       "      <td>4</td>\n",
       "      <td>32</td>\n",
       "      <td>104</td>\n",
       "      <td>0.006138</td>\n",
       "      <td>0.014180</td>\n",
       "      <td>0.022912</td>\n",
       "    </tr>\n",
       "    <tr>\n",
       "      <th>2637</th>\n",
       "      <td>5</td>\n",
       "      <td>16</td>\n",
       "      <td>137</td>\n",
       "      <td>0.022596</td>\n",
       "      <td>0.017144</td>\n",
       "      <td>0.022794</td>\n",
       "    </tr>\n",
       "    <tr>\n",
       "      <th>1866</th>\n",
       "      <td>4</td>\n",
       "      <td>16</td>\n",
       "      <td>116</td>\n",
       "      <td>0.017252</td>\n",
       "      <td>0.016993</td>\n",
       "      <td>0.022738</td>\n",
       "    </tr>\n",
       "    <tr>\n",
       "      <th>1676</th>\n",
       "      <td>4</td>\n",
       "      <td>8</td>\n",
       "      <td>176</td>\n",
       "      <td>0.019320</td>\n",
       "      <td>0.021859</td>\n",
       "      <td>0.022262</td>\n",
       "    </tr>\n",
       "    <tr>\n",
       "      <th>395</th>\n",
       "      <td>2</td>\n",
       "      <td>16</td>\n",
       "      <td>145</td>\n",
       "      <td>0.019981</td>\n",
       "      <td>0.018661</td>\n",
       "      <td>0.022152</td>\n",
       "    </tr>\n",
       "    <tr>\n",
       "      <th>852</th>\n",
       "      <td>3</td>\n",
       "      <td>8</td>\n",
       "      <td>102</td>\n",
       "      <td>0.025021</td>\n",
       "      <td>0.020112</td>\n",
       "      <td>0.022113</td>\n",
       "    </tr>\n",
       "  </tbody>\n",
       "</table>\n",
       "</div>"
      ],
      "text/plain": [
       "      n_factors  units  epoch   ic_mean  ic_daily_mean  ic_daily_median\n",
       "2079          4     32     79  0.026611       0.023304         0.028009\n",
       "2218          4     32    218  0.019487       0.015941         0.027230\n",
       "2052          4     32     52  0.023268       0.019379         0.027194\n",
       "1681          4      8    181  0.056288       0.015536         0.027112\n",
       "2234          4     32    234  0.026894       0.016454         0.026352\n",
       "1614          4      8    114  0.037274       0.018129         0.025588\n",
       "1608          4      8    108  0.030997       0.019158         0.025526\n",
       "765           3      8     15  0.015636       0.014492         0.024900\n",
       "1716          4      8    216  0.003554       0.016880         0.024367\n",
       "1712          4      8    212  0.020408       0.019991         0.024052\n",
       "2094          4     32     94  0.018744       0.013401         0.023730\n",
       "2087          4     32     87  0.013595       0.013018         0.023570\n",
       "471           2     16    221  0.013744       0.012241         0.023094\n",
       "1719          4      8    219  0.031323       0.017167         0.022970\n",
       "2104          4     32    104  0.006138       0.014180         0.022912\n",
       "2637          5     16    137  0.022596       0.017144         0.022794\n",
       "1866          4     16    116  0.017252       0.016993         0.022738\n",
       "1676          4      8    176  0.019320       0.021859         0.022262\n",
       "395           2     16    145  0.019981       0.018661         0.022152\n",
       "852           3      8    102  0.025021       0.020112         0.022113"
      ]
     },
     "execution_count": 16,
     "metadata": {},
     "output_type": "execute_result"
    }
   ],
   "source": [
    "avg.nlargest(n=20, columns=['ic_daily_median'])"
   ]
  },
  {
   "cell_type": "code",
   "execution_count": 17,
   "metadata": {
    "ExecuteTime": {
     "end_time": "2021-02-25T01:24:42.905824Z",
     "start_time": "2021-02-25T01:24:42.868325Z"
    }
   },
   "outputs": [
    {
     "data": {
      "text/html": [
       "<div>\n",
       "<style scoped>\n",
       "    .dataframe tbody tr th:only-of-type {\n",
       "        vertical-align: middle;\n",
       "    }\n",
       "\n",
       "    .dataframe tbody tr th {\n",
       "        vertical-align: top;\n",
       "    }\n",
       "\n",
       "    .dataframe thead th {\n",
       "        text-align: right;\n",
       "    }\n",
       "</style>\n",
       "<table border=\"1\" class=\"dataframe\">\n",
       "  <thead>\n",
       "    <tr style=\"text-align: right;\">\n",
       "      <th></th>\n",
       "      <th></th>\n",
       "      <th>n_factors</th>\n",
       "      <th>units</th>\n",
       "      <th>epoch</th>\n",
       "      <th>ic_mean</th>\n",
       "      <th>ic_daily_mean</th>\n",
       "      <th>ic_daily_median</th>\n",
       "    </tr>\n",
       "    <tr>\n",
       "      <th>n_factors</th>\n",
       "      <th>units</th>\n",
       "      <th></th>\n",
       "      <th></th>\n",
       "      <th></th>\n",
       "      <th></th>\n",
       "      <th></th>\n",
       "      <th></th>\n",
       "    </tr>\n",
       "  </thead>\n",
       "  <tbody>\n",
       "    <tr>\n",
       "      <th rowspan=\"5\" valign=\"top\">4</th>\n",
       "      <th>32</th>\n",
       "      <td>4</td>\n",
       "      <td>32</td>\n",
       "      <td>79</td>\n",
       "      <td>0.026611</td>\n",
       "      <td>0.023304</td>\n",
       "      <td>0.028009</td>\n",
       "    </tr>\n",
       "    <tr>\n",
       "      <th>32</th>\n",
       "      <td>4</td>\n",
       "      <td>32</td>\n",
       "      <td>218</td>\n",
       "      <td>0.019487</td>\n",
       "      <td>0.015941</td>\n",
       "      <td>0.027230</td>\n",
       "    </tr>\n",
       "    <tr>\n",
       "      <th>32</th>\n",
       "      <td>4</td>\n",
       "      <td>32</td>\n",
       "      <td>52</td>\n",
       "      <td>0.023268</td>\n",
       "      <td>0.019379</td>\n",
       "      <td>0.027194</td>\n",
       "    </tr>\n",
       "    <tr>\n",
       "      <th>8</th>\n",
       "      <td>4</td>\n",
       "      <td>8</td>\n",
       "      <td>181</td>\n",
       "      <td>0.056288</td>\n",
       "      <td>0.015536</td>\n",
       "      <td>0.027112</td>\n",
       "    </tr>\n",
       "    <tr>\n",
       "      <th>32</th>\n",
       "      <td>4</td>\n",
       "      <td>32</td>\n",
       "      <td>234</td>\n",
       "      <td>0.026894</td>\n",
       "      <td>0.016454</td>\n",
       "      <td>0.026352</td>\n",
       "    </tr>\n",
       "  </tbody>\n",
       "</table>\n",
       "</div>"
      ],
      "text/plain": [
       "                 n_factors  units  epoch   ic_mean  ic_daily_mean  \\\n",
       "n_factors units                                                     \n",
       "4         32             4     32     79  0.026611       0.023304   \n",
       "          32             4     32    218  0.019487       0.015941   \n",
       "          32             4     32     52  0.023268       0.019379   \n",
       "          8              4      8    181  0.056288       0.015536   \n",
       "          32             4     32    234  0.026894       0.016454   \n",
       "\n",
       "                 ic_daily_median  \n",
       "n_factors units                   \n",
       "4         32            0.028009  \n",
       "          32            0.027230  \n",
       "          32            0.027194  \n",
       "          8             0.027112  \n",
       "          32            0.026352  "
      ]
     },
     "execution_count": 17,
     "metadata": {},
     "output_type": "execute_result"
    }
   ],
   "source": [
    "top = (avg.groupby(['n_factors', 'units'])\n",
    "       .apply(lambda x: x.nlargest(n=5, columns=['ic_daily_median']))\n",
    "       .reset_index(-1, drop=True))\n",
    "\n",
    "top.nlargest(n=5, columns=['ic_daily_median'])"
   ]
  },
  {
   "cell_type": "code",
   "execution_count": 48,
   "metadata": {
    "ExecuteTime": {
     "end_time": "2021-02-24T21:42:05.316440Z",
     "start_time": "2021-02-24T21:42:03.450732Z"
    }
   },
   "outputs": [
    {
     "data": {
      "image/png": "[encoded data removed]",
      "text/plain": [
       "<Figure size 1440x576 with 10 Axes>"
      ]
     },
     "metadata": {},
     "output_type": "display_data"
    }
   ],
   "source": [
    "fig, axes = plt.subplots(ncols=5, nrows=2, figsize=(20, 8), sharey='row', sharex=True)\n",
    "\n",
    "for n in range(2, 7):\n",
    "    df = avg[avg.n_factors==n].pivot(index='epoch', columns='units', values='ic_mean')\n",
    "    df.rolling(10).mean().loc[:200].plot(ax=axes[0][n-2], lw=1, title=f'{n} Factors')\n",
    "    axes[0][n-2].axhline(0, ls='--', c='k', lw=1)\n",
    "    axes[0][n-2].get_legend().remove()\n",
    "    axes[0][n-2].set_ylabel('IC (10-epoch rolling mean)')\n",
    "\n",
    "    df = avg[avg.n_factors==n].pivot(index='epoch', columns='units', values='ic_daily_median')\n",
    "    df.rolling(10).mean().loc[:200].plot(ax=axes[1][n-2], lw=1)\n",
    "    axes[1][n-2].axhline(0, ls='--', c='k', lw=1)\n",
    "    axes[1][n-2].get_legend().remove()\n",
    "    axes[1][n-2].set_ylabel('IC, Daily Median (10-epoch rolling mean)')\n",
    "\n",
    "handles, labels = axes[0][0].get_legend_handles_labels()\n",
    "fig.legend(handles, labels, loc='center right', title='# Units')\n",
    "fig.suptitle('Cross-Validation Performance (2015-2019)', fontsize=16)\n",
    "fig.tight_layout()\n",
    "fig.subplots_adjust(top=.9)\n",
    "fig.savefig(results_path / 'cv_performance', dpi=300);"
   ]
  },
  {
   "cell_type": "markdown",
   "metadata": {},
   "source": [
    "## Generate Predictions"
   ]
  },
  {
   "cell_type": "markdown",
   "metadata": {},
   "source": [
    "We'll average over a range of epochs that appears to deliver good predictions."
   ]
  },
  {
   "cell_type": "code",
   "execution_count": 18,
   "metadata": {
    "ExecuteTime": {
     "end_time": "2021-02-25T02:20:39.334590Z",
     "start_time": "2021-02-25T02:20:39.328174Z"
    }
   },
   "outputs": [],
   "source": [
    "n_factors = 4\n",
    "units = 32\n",
    "batch_size = 32\n",
    "first_epoch = 50\n",
    "last_epoch = 80"
   ]
  },
  {
   "cell_type": "code",
   "execution_count": 19,
   "metadata": {
    "ExecuteTime": {
     "end_time": "2021-02-25T02:53:07.097416Z",
     "start_time": "2021-02-25T02:20:39.526027Z"
    },
    "scrolled": false
   },
   "outputs": [
    {
     "name": "stderr",
     "output_type": "stream",
     "text": [
      "100%|██████████| 30/30 [32:27<00:00, 64.92s/it]\n"
     ]
    }
   ],
   "source": [
    "predictions = []\n",
    "for epoch in tqdm(list(range(first_epoch, last_epoch))):\n",
    "    epoch_preds = []\n",
    "    for fold, (train_idx, val_idx) in enumerate(cv.split(data)):\n",
    "        X1_train, X2_train, y_train, X1_val, X2_val, y_val = get_train_valid_data(data,\n",
    "                                                                                  train_idx,\n",
    "                                                                                  val_idx)\n",
    "\n",
    "        model = make_model(n_factors=n_factors, hidden_units=units)\n",
    "        model.fit([X1_train, X2_train], y_train,\n",
    "                  batch_size=batch_size,\n",
    "                  epochs=epoch,\n",
    "                  verbose=0,\n",
    "                  shuffle=True)\n",
    "        epoch_preds.append(pd.Series(model.predict([X1_val, X2_val]).reshape(-1),\n",
    "                                     index=y_val.stack().index).to_frame(epoch))\n",
    "\n",
    "    predictions.append(pd.concat(epoch_preds))"
   ]
  },
  {
   "cell_type": "code",
   "execution_count": 51,
   "metadata": {
    "ExecuteTime": {
     "end_time": "2021-02-24T22:56:10.170667Z",
     "start_time": "2021-02-24T22:56:05.415887Z"
    }
   },
   "outputs": [],
   "source": [
    "predictions_combined = pd.concat(predictions, axis=1).sort_index()   "
   ]
  },
  {
   "cell_type": "code",
   "execution_count": 52,
   "metadata": {
    "ExecuteTime": {
     "end_time": "2021-02-24T22:56:10.236001Z",
     "start_time": "2021-02-24T22:56:10.171537Z"
    }
   },
   "outputs": [
    {
     "name": "stdout",
     "output_type": "stream",
     "text": [
      "<class 'pandas.core.frame.DataFrame'>\n",
      "MultiIndex: 1149200 entries, (Timestamp('2015-01-09 00:00:00'), 'A') to (Timestamp('2019-12-27 00:00:00'), 'ZYXI')\n",
      "Data columns (total 40 columns):\n",
      " #   Column  Non-Null Count    Dtype  \n",
      "---  ------  --------------    -----  \n",
      " 0   130     1149200 non-null  float32\n",
      " 1   131     1149200 non-null  float32\n",
      " 2   132     1149200 non-null  float32\n",
      " 3   133     1149200 non-null  float32\n",
      " 4   134     1149200 non-null  float32\n",
      " 5   135     1149200 non-null  float32\n",
      " 6   136     1149200 non-null  float32\n",
      " 7   137     1149200 non-null  float32\n",
      " 8   138     1149200 non-null  float32\n",
      " 9   139     1149200 non-null  float32\n",
      " 10  140     1149200 non-null  float32\n",
      " 11  141     1149200 non-null  float32\n",
      " 12  142     1149200 non-null  float32\n",
      " 13  143     1149200 non-null  float32\n",
      " 14  144     1149200 non-null  float32\n",
      " 15  145     1149200 non-null  float32\n",
      " 16  146     1149200 non-null  float32\n",
      " 17  147     1149200 non-null  float32\n",
      " 18  148     1149200 non-null  float32\n",
      " 19  149     1149200 non-null  float32\n",
      " 20  150     1149200 non-null  float32\n",
      " 21  151     1149200 non-null  float32\n",
      " 22  152     1149200 non-null  float32\n",
      " 23  153     1149200 non-null  float32\n",
      " 24  154     1149200 non-null  float32\n",
      " 25  155     1149200 non-null  float32\n",
      " 26  156     1149200 non-null  float32\n",
      " 27  157     1149200 non-null  float32\n",
      " 28  158     1149200 non-null  float32\n",
      " 29  159     1149200 non-null  float32\n",
      " 30  160     1149200 non-null  float32\n",
      " 31  161     1149200 non-null  float32\n",
      " 32  162     1149200 non-null  float32\n",
      " 33  163     1149200 non-null  float32\n",
      " 34  164     1149200 non-null  float32\n",
      " 35  165     1149200 non-null  float32\n",
      " 36  166     1149200 non-null  float32\n",
      " 37  167     1149200 non-null  float32\n",
      " 38  168     1149200 non-null  float32\n",
      " 39  169     1149200 non-null  float32\n",
      "dtypes: float32(40)\n",
      "memory usage: 179.9+ MB\n"
     ]
    }
   ],
   "source": [
    "predictions_combined.info()"
   ]
  },
  {
   "cell_type": "code",
   "execution_count": 53,
   "metadata": {
    "ExecuteTime": {
     "end_time": "2021-02-24T22:56:10.394903Z",
     "start_time": "2021-02-24T22:56:10.236930Z"
    }
   },
   "outputs": [],
   "source": [
    "predictions_combined.to_hdf(results_path / 'predictions.h5', 'predictions')"
   ]
  }
 ],
 "metadata": {
  "kernelspec": {
   "display_name": "Python 3",
   "language": "python",
   "name": "python3"
  },
  "language_info": {
   "codemirror_mode": {
    "name": "ipython",
    "version": 3
   },
   "file_extension": ".py",
   "mimetype": "text/x-python",
   "name": "python",
   "nbconvert_exporter": "python",
   "pygments_lexer": "ipython3",
   "version": "3.8.8"
  },
  "toc": {
   "base_numbering": 1,
   "nav_menu": {},
   "number_sections": true,
   "sideBar": true,
   "skip_h1_title": true,
   "title_cell": "Table of Contents",
   "title_sidebar": "Contents",
   "toc_cell": false,
   "toc_position": {
    "height": "calc(100% - 180px)",
    "left": "10px",
    "top": "150px",
    "width": "304px"
   },
   "toc_section_display": true,
   "toc_window_display": true
  }
 },
 "nbformat": 4,
 "nbformat_minor": 4
}
