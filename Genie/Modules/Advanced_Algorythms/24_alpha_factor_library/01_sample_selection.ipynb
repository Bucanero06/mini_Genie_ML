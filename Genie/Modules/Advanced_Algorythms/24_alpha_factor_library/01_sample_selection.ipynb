{
 "cells": [
  {
   "cell_type": "markdown",
   "metadata": {},
   "source": [
    "# Data Prep"
   ]
  },
  {
   "cell_type": "code",
   "execution_count": 1,
   "metadata": {
    "ExecuteTime": {
     "end_time": "2021-04-16T04:43:49.209438Z",
     "start_time": "2021-04-16T04:43:49.206368Z"
    }
   },
   "outputs": [],
   "source": [
    "import warnings\n",
    "warnings.filterwarnings('ignore')"
   ]
  },
  {
   "cell_type": "code",
   "execution_count": 2,
   "metadata": {
    "ExecuteTime": {
     "end_time": "2021-04-16T04:43:49.718392Z",
     "start_time": "2021-04-16T04:43:49.213710Z"
    }
   },
   "outputs": [],
   "source": [
    "%matplotlib inline\n",
    "\n",
    "from pathlib import Path\n",
    "import numpy as np\n",
    "import pandas as pd\n",
    "\n",
    "import matplotlib.pyplot as plt\n",
    "import seaborn as sns"
   ]
  },
  {
   "cell_type": "code",
   "execution_count": 3,
   "metadata": {
    "ExecuteTime": {
     "end_time": "2021-04-16T04:43:49.721292Z",
     "start_time": "2021-04-16T04:43:49.719291Z"
    }
   },
   "outputs": [],
   "source": [
    "sns.set_style('whitegrid')\n",
    "idx = pd.IndexSlice\n",
    "deciles = np.arange(.1, 1, .1).round(1)"
   ]
  },
  {
   "cell_type": "markdown",
   "metadata": {},
   "source": [
    "## Load Data"
   ]
  },
  {
   "cell_type": "code",
   "execution_count": 4,
   "metadata": {
    "ExecuteTime": {
     "end_time": "2021-04-16T04:43:49.735163Z",
     "start_time": "2021-04-16T04:43:49.722317Z"
    }
   },
   "outputs": [],
   "source": [
    "DATA_STORE = Path('..', 'data', 'assets.h5')"
   ]
  },
  {
   "cell_type": "code",
   "execution_count": 5,
   "metadata": {
    "ExecuteTime": {
     "end_time": "2021-04-16T04:43:57.006315Z",
     "start_time": "2021-04-16T04:43:49.736203Z"
    }
   },
   "outputs": [],
   "source": [
    "with pd.HDFStore(DATA_STORE) as store:\n",
    "    data = (store['quandl/wiki/prices']\n",
    "            .loc[idx['2007':'2016', :],\n",
    "                 ['adj_open', 'adj_high', 'adj_low', 'adj_close', 'adj_volume']]\n",
    "            .dropna()\n",
    "            .swaplevel()\n",
    "            .sort_index()\n",
    "            .rename(columns=lambda x: x.replace('adj_', '')))\n",
    "    metadata = store['us_equities/stocks'].loc[:, ['marketcap', 'sector']]"
   ]
  },
  {
   "cell_type": "code",
   "execution_count": 6,
   "metadata": {
    "ExecuteTime": {
     "end_time": "2021-04-16T04:43:57.144354Z",
     "start_time": "2021-04-16T04:43:57.007191Z"
    }
   },
   "outputs": [
    {
     "name": "stdout",
     "output_type": "stream",
     "text": [
      "<class 'pandas.core.frame.DataFrame'>\n",
      "MultiIndex: 6951874 entries, ('A', Timestamp('2007-01-03 00:00:00')) to ('ZUMZ', Timestamp('2016-12-30 00:00:00'))\n",
      "Data columns (total 5 columns):\n",
      " #   Column  Non-Null Count    Dtype  \n",
      "---  ------  --------------    -----  \n",
      " 0   open    6951874 non-null  float64\n",
      " 1   high    6951874 non-null  float64\n",
      " 2   low     6951874 non-null  float64\n",
      " 3   close   6951874 non-null  float64\n",
      " 4   volume  6951874 non-null  float64\n",
      "dtypes: float64(5)\n",
      "memory usage: 292.5+ MB\n"
     ]
    }
   ],
   "source": [
    "data.info(null_counts=True)"
   ]
  },
  {
   "cell_type": "code",
   "execution_count": 7,
   "metadata": {
    "ExecuteTime": {
     "end_time": "2021-04-16T04:43:57.152798Z",
     "start_time": "2021-04-16T04:43:57.145264Z"
    }
   },
   "outputs": [
    {
     "name": "stdout",
     "output_type": "stream",
     "text": [
      "<class 'pandas.core.frame.DataFrame'>\n",
      "Index: 6834 entries, PIH to ZYME\n",
      "Data columns (total 2 columns):\n",
      " #   Column     Non-Null Count  Dtype  \n",
      "---  ------     --------------  -----  \n",
      " 0   marketcap  5766 non-null   float64\n",
      " 1   sector     6834 non-null   int64  \n",
      "dtypes: float64(1), int64(1)\n",
      "memory usage: 160.2+ KB\n"
     ]
    }
   ],
   "source": [
    "metadata.sector = pd.factorize(metadata.sector)[0]\n",
    "metadata.info()"
   ]
  },
  {
   "cell_type": "code",
   "execution_count": 8,
   "metadata": {
    "ExecuteTime": {
     "end_time": "2021-04-16T04:43:57.551366Z",
     "start_time": "2021-04-16T04:43:57.153657Z"
    }
   },
   "outputs": [],
   "source": [
    "data = data.join(metadata).dropna(subset=['sector'])"
   ]
  },
  {
   "cell_type": "code",
   "execution_count": 9,
   "metadata": {
    "ExecuteTime": {
     "end_time": "2021-04-16T04:43:57.667187Z",
     "start_time": "2021-04-16T04:43:57.552737Z"
    }
   },
   "outputs": [
    {
     "name": "stdout",
     "output_type": "stream",
     "text": [
      "<class 'pandas.core.frame.DataFrame'>\n",
      "MultiIndex: 5395695 entries, ('A', Timestamp('2007-01-03 00:00:00')) to ('ZUMZ', Timestamp('2016-12-30 00:00:00'))\n",
      "Data columns (total 7 columns):\n",
      " #   Column     Non-Null Count    Dtype  \n",
      "---  ------     --------------    -----  \n",
      " 0   open       5395695 non-null  float64\n",
      " 1   high       5395695 non-null  float64\n",
      " 2   low        5395695 non-null  float64\n",
      " 3   close      5395695 non-null  float64\n",
      " 4   volume     5395695 non-null  float64\n",
      " 5   marketcap  5385154 non-null  float64\n",
      " 6   sector     5395695 non-null  float64\n",
      "dtypes: float64(7)\n",
      "memory usage: 309.5+ MB\n"
     ]
    }
   ],
   "source": [
    "data.info(null_counts=True)"
   ]
  },
  {
   "cell_type": "code",
   "execution_count": 10,
   "metadata": {
    "ExecuteTime": {
     "end_time": "2021-04-16T04:43:57.731249Z",
     "start_time": "2021-04-16T04:43:57.668307Z"
    },
    "scrolled": true
   },
   "outputs": [
    {
     "name": "stdout",
     "output_type": "stream",
     "text": [
      "# Tickers: 2,399 | # Dates: 2,547\n"
     ]
    }
   ],
   "source": [
    "print(f\"# Tickers: {len(data.index.unique('ticker')):,.0f} | # Dates: {len(data.index.unique('date')):,.0f}\")"
   ]
  },
  {
   "cell_type": "markdown",
   "metadata": {},
   "source": [
    "## Select 500 most-traded stocks"
   ]
  },
  {
   "cell_type": "code",
   "execution_count": 11,
   "metadata": {
    "ExecuteTime": {
     "end_time": "2021-04-16T04:43:57.742092Z",
     "start_time": "2021-04-16T04:43:57.732173Z"
    }
   },
   "outputs": [],
   "source": [
    "dv = data.close.mul(data.volume)"
   ]
  },
  {
   "cell_type": "code",
   "execution_count": 12,
   "metadata": {
    "ExecuteTime": {
     "end_time": "2021-04-16T04:44:00.453581Z",
     "start_time": "2021-04-16T04:43:57.743088Z"
    }
   },
   "outputs": [],
   "source": [
    "top500 = (dv.groupby(level='date')\n",
    "          .rank(ascending=False)\n",
    "          .unstack('ticker')\n",
    "          .dropna(thresh=8*252, axis=1)\n",
    "          .mean()\n",
    "          .nsmallest(500))"
   ]
  },
  {
   "cell_type": "markdown",
   "metadata": {},
   "source": [
    "### Visualize the 200 most liquid stocks"
   ]
  },
  {
   "cell_type": "code",
   "execution_count": 13,
   "metadata": {
    "ExecuteTime": {
     "end_time": "2021-04-16T04:44:03.749823Z",
     "start_time": "2021-04-16T04:44:00.454390Z"
    }
   },
   "outputs": [
    {
     "data": {
      "image/png": "[encoded data removed]",
      "text/plain": [
       "<Figure size 1440x720 with 4 Axes>"
      ]
     },
     "metadata": {},
     "output_type": "display_data"
    }
   ],
   "source": [
    "top200 = (data.close\n",
    "          .mul(data.volume)\n",
    "          .unstack('ticker')\n",
    "          .dropna(thresh=8*252, axis=1)\n",
    "          .mean()\n",
    "          .div(1e6)\n",
    "          .nlargest(200))\n",
    "cutoffs = [0, 50, 100, 150, 200]\n",
    "fig, axes = plt.subplots(ncols=4, figsize=(20, 10), sharex=True)\n",
    "axes = axes.flatten()\n",
    "\n",
    "for i, cutoff in enumerate(cutoffs[1:], 1):\n",
    "    top200.iloc[cutoffs[i-1]:cutoffs[i]\n",
    "                ].sort_values().plot.barh(logx=True, ax=axes[i-1])\n",
    "fig.tight_layout()"
   ]
  },
  {
   "cell_type": "code",
   "execution_count": 14,
   "metadata": {
    "ExecuteTime": {
     "end_time": "2021-04-16T04:44:03.780671Z",
     "start_time": "2021-04-16T04:44:03.750706Z"
    }
   },
   "outputs": [],
   "source": [
    "to_drop = data.index.unique('ticker').difference(top500.index)"
   ]
  },
  {
   "cell_type": "code",
   "execution_count": 15,
   "metadata": {
    "ExecuteTime": {
     "end_time": "2021-04-16T04:44:03.783912Z",
     "start_time": "2021-04-16T04:44:03.781548Z"
    }
   },
   "outputs": [
    {
     "data": {
      "text/plain": [
       "1899"
      ]
     },
     "execution_count": 15,
     "metadata": {},
     "output_type": "execute_result"
    }
   ],
   "source": [
    "len(to_drop)"
   ]
  },
  {
   "cell_type": "code",
   "execution_count": 16,
   "metadata": {
    "ExecuteTime": {
     "end_time": "2021-04-16T04:44:08.989478Z",
     "start_time": "2021-04-16T04:44:03.785057Z"
    }
   },
   "outputs": [],
   "source": [
    "data = data.drop(to_drop, level='ticker')"
   ]
  },
  {
   "cell_type": "code",
   "execution_count": 17,
   "metadata": {
    "ExecuteTime": {
     "end_time": "2021-04-16T04:44:09.022941Z",
     "start_time": "2021-04-16T04:44:08.990382Z"
    }
   },
   "outputs": [
    {
     "name": "stdout",
     "output_type": "stream",
     "text": [
      "<class 'pandas.core.frame.DataFrame'>\n",
      "MultiIndex: 1256095 entries, ('A', Timestamp('2007-01-03 00:00:00')) to ('ZION', Timestamp('2016-12-30 00:00:00'))\n",
      "Data columns (total 7 columns):\n",
      " #   Column     Non-Null Count    Dtype  \n",
      "---  ------     --------------    -----  \n",
      " 0   open       1256095 non-null  float64\n",
      " 1   high       1256095 non-null  float64\n",
      " 2   low        1256095 non-null  float64\n",
      " 3   close      1256095 non-null  float64\n",
      " 4   volume     1256095 non-null  float64\n",
      " 5   marketcap  1253855 non-null  float64\n",
      " 6   sector     1256095 non-null  float64\n",
      "dtypes: float64(7)\n",
      "memory usage: 72.6+ MB\n"
     ]
    }
   ],
   "source": [
    "data.info(null_counts=True)"
   ]
  },
  {
   "cell_type": "code",
   "execution_count": 18,
   "metadata": {
    "ExecuteTime": {
     "end_time": "2021-04-16T04:44:09.045563Z",
     "start_time": "2021-04-16T04:44:09.023994Z"
    }
   },
   "outputs": [
    {
     "name": "stdout",
     "output_type": "stream",
     "text": [
      "# Tickers: 500 | # Dates: 2,518\n"
     ]
    }
   ],
   "source": [
    "print(f\"# Tickers: {len(data.index.unique('ticker')):,.0f} | # Dates: {len(data.index.unique('date')):,.0f}\")"
   ]
  },
  {
   "cell_type": "markdown",
   "metadata": {},
   "source": [
    "### Remove outlier observations based on daily returns"
   ]
  },
  {
   "cell_type": "code",
   "execution_count": 19,
   "metadata": {
    "ExecuteTime": {
     "end_time": "2021-04-16T04:44:09.228707Z",
     "start_time": "2021-04-16T04:44:09.046832Z"
    }
   },
   "outputs": [
    {
     "name": "stdout",
     "output_type": "stream",
     "text": [
      "Dropped 502\n"
     ]
    }
   ],
   "source": [
    "before = len(data)\n",
    "data['ret'] = data.groupby('ticker').close.pct_change()\n",
    "data = data[data.ret.between(-1, 1)].drop('ret', axis=1)\n",
    "print(f'Dropped {before-len(data):,.0f}')"
   ]
  },
  {
   "cell_type": "code",
   "execution_count": 20,
   "metadata": {
    "ExecuteTime": {
     "end_time": "2021-04-16T04:44:09.247556Z",
     "start_time": "2021-04-16T04:44:09.229607Z"
    }
   },
   "outputs": [
    {
     "name": "stdout",
     "output_type": "stream",
     "text": [
      "# Tickers: 500 | # Dates: 2,517\n"
     ]
    }
   ],
   "source": [
    "tickers = data.index.unique('ticker')\n",
    "print(f\"# Tickers: {len(tickers):,.0f} | # Dates: {len(data.index.unique('date')):,.0f}\")"
   ]
  },
  {
   "cell_type": "markdown",
   "metadata": {},
   "source": [
    "### Sample price data for illustration"
   ]
  },
  {
   "cell_type": "code",
   "execution_count": 21,
   "metadata": {
    "ExecuteTime": {
     "end_time": "2021-04-16T04:44:09.260665Z",
     "start_time": "2021-04-16T04:44:09.248436Z"
    }
   },
   "outputs": [],
   "source": [
    "ticker = 'AAPL'\n",
    "# alternative\n",
    "# ticker = np.random.choice(tickers)\n",
    "price_sample = data.loc[idx[ticker, :], :].reset_index('ticker', drop=True)"
   ]
  },
  {
   "cell_type": "code",
   "execution_count": 22,
   "metadata": {
    "ExecuteTime": {
     "end_time": "2021-04-16T04:44:09.268597Z",
     "start_time": "2021-04-16T04:44:09.261775Z"
    }
   },
   "outputs": [
    {
     "name": "stdout",
     "output_type": "stream",
     "text": [
      "<class 'pandas.core.frame.DataFrame'>\n",
      "DatetimeIndex: 2517 entries, 2007-01-04 to 2016-12-30\n",
      "Data columns (total 7 columns):\n",
      " #   Column     Non-Null Count  Dtype  \n",
      "---  ------     --------------  -----  \n",
      " 0   open       2517 non-null   float64\n",
      " 1   high       2517 non-null   float64\n",
      " 2   low        2517 non-null   float64\n",
      " 3   close      2517 non-null   float64\n",
      " 4   volume     2517 non-null   float64\n",
      " 5   marketcap  2517 non-null   float64\n",
      " 6   sector     2517 non-null   float64\n",
      "dtypes: float64(7)\n",
      "memory usage: 157.3 KB\n"
     ]
    }
   ],
   "source": [
    "price_sample.info()"
   ]
  },
  {
   "cell_type": "code",
   "execution_count": 23,
   "metadata": {
    "ExecuteTime": {
     "end_time": "2021-04-16T04:44:09.278269Z",
     "start_time": "2021-04-16T04:44:09.270335Z"
    }
   },
   "outputs": [],
   "source": [
    "price_sample.to_hdf('data.h5', 'data/sample')"
   ]
  },
  {
   "cell_type": "markdown",
   "metadata": {},
   "source": [
    "## Compute returns"
   ]
  },
  {
   "cell_type": "markdown",
   "metadata": {},
   "source": [
    "Group data by ticker"
   ]
  },
  {
   "cell_type": "code",
   "execution_count": 24,
   "metadata": {
    "ExecuteTime": {
     "end_time": "2021-04-16T04:44:09.306943Z",
     "start_time": "2021-04-16T04:44:09.280490Z"
    }
   },
   "outputs": [],
   "source": [
    "by_ticker = data.groupby(level='ticker')"
   ]
  },
  {
   "cell_type": "markdown",
   "metadata": {},
   "source": [
    "### Historical returns"
   ]
  },
  {
   "cell_type": "code",
   "execution_count": 25,
   "metadata": {
    "ExecuteTime": {
     "end_time": "2021-04-16T04:44:09.315466Z",
     "start_time": "2021-04-16T04:44:09.310205Z"
    }
   },
   "outputs": [],
   "source": [
    "T = [1, 2, 3, 4, 5, 10, 21, 42, 63, 126, 252]"
   ]
  },
  {
   "cell_type": "code",
   "execution_count": 26,
   "metadata": {
    "ExecuteTime": {
     "end_time": "2021-04-16T04:44:09.777872Z",
     "start_time": "2021-04-16T04:44:09.319201Z"
    }
   },
   "outputs": [],
   "source": [
    "for t in T:\n",
    "    data[f'ret_{t:02}'] = by_ticker.close.pct_change(t)"
   ]
  },
  {
   "cell_type": "markdown",
   "metadata": {},
   "source": [
    "### Forward returns"
   ]
  },
  {
   "cell_type": "code",
   "execution_count": 27,
   "metadata": {
    "ExecuteTime": {
     "end_time": "2021-04-16T04:44:09.908413Z",
     "start_time": "2021-04-16T04:44:09.778722Z"
    }
   },
   "outputs": [],
   "source": [
    "data['ret_fwd'] = by_ticker.ret_01.shift(-1)\n",
    "data = data.dropna(subset=['ret_fwd'])"
   ]
  },
  {
   "cell_type": "markdown",
   "metadata": {},
   "source": [
    "## Persist results"
   ]
  },
  {
   "cell_type": "code",
   "execution_count": 28,
   "metadata": {
    "ExecuteTime": {
     "end_time": "2021-04-16T04:44:09.959921Z",
     "start_time": "2021-04-16T04:44:09.909278Z"
    }
   },
   "outputs": [
    {
     "name": "stdout",
     "output_type": "stream",
     "text": [
      "<class 'pandas.core.frame.DataFrame'>\n",
      "MultiIndex: 1255093 entries, ('A', Timestamp('2007-01-04 00:00:00')) to ('ZION', Timestamp('2016-12-29 00:00:00'))\n",
      "Data columns (total 19 columns):\n",
      " #   Column     Non-Null Count    Dtype  \n",
      "---  ------     --------------    -----  \n",
      " 0   open       1255093 non-null  float64\n",
      " 1   high       1255093 non-null  float64\n",
      " 2   low        1255093 non-null  float64\n",
      " 3   close      1255093 non-null  float64\n",
      " 4   volume     1255093 non-null  float64\n",
      " 5   marketcap  1252855 non-null  float64\n",
      " 6   sector     1255093 non-null  float64\n",
      " 7   ret_01     1254593 non-null  float64\n",
      " 8   ret_02     1254093 non-null  float64\n",
      " 9   ret_03     1253593 non-null  float64\n",
      " 10  ret_04     1253093 non-null  float64\n",
      " 11  ret_05     1252593 non-null  float64\n",
      " 12  ret_10     1250093 non-null  float64\n",
      " 13  ret_21     1244593 non-null  float64\n",
      " 14  ret_42     1234093 non-null  float64\n",
      " 15  ret_63     1223593 non-null  float64\n",
      " 16  ret_126    1192093 non-null  float64\n",
      " 17  ret_252    1129093 non-null  float64\n",
      " 18  ret_fwd    1255093 non-null  float64\n",
      "dtypes: float64(19)\n",
      "memory usage: 187.5+ MB\n"
     ]
    }
   ],
   "source": [
    "data.info(null_counts=True)"
   ]
  },
  {
   "cell_type": "code",
   "execution_count": 29,
   "metadata": {
    "ExecuteTime": {
     "end_time": "2021-04-16T04:44:10.119416Z",
     "start_time": "2021-04-16T04:44:09.960904Z"
    }
   },
   "outputs": [],
   "source": [
    "data.to_hdf('data.h5', 'data/top500')"
   ]
  }
 ],
 "metadata": {
  "kernelspec": {
   "display_name": "Python 3 (ipykernel)",
   "language": "python",
   "name": "python3"
  },
  "language_info": {
   "codemirror_mode": {
    "name": "ipython",
    "version": 3
   },
   "file_extension": ".py",
   "mimetype": "text/x-python",
   "name": "python",
   "nbconvert_exporter": "python",
   "pygments_lexer": "ipython3",
   "version": "3.9.6"
  },
  "toc": {
   "base_numbering": 1,
   "nav_menu": {},
   "number_sections": true,
   "sideBar": true,
   "skip_h1_title": true,
   "title_cell": "Table of Contents",
   "title_sidebar": "Contents",
   "toc_cell": false,
   "toc_position": {},
   "toc_section_display": true,
   "toc_window_display": true
  }
 },
 "nbformat": 4,
 "nbformat_minor": 4
}
