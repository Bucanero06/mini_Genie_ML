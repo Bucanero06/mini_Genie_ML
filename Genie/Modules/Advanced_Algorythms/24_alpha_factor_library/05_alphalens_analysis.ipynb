{
 "cells": [
  {
   "cell_type": "markdown",
   "metadata": {},
   "source": [
    "# Performance Analysis with Alphalens"
   ]
  },
  {
   "cell_type": "markdown",
   "metadata": {},
   "source": [
    "## Imports & Settings"
   ]
  },
  {
   "cell_type": "code",
   "execution_count": 2,
   "metadata": {
    "ExecuteTime": {
     "end_time": "2020-05-04T16:28:14.497736Z",
     "start_time": "2020-05-04T16:28:14.490972Z"
    }
   },
   "outputs": [],
   "source": [
    "import warnings\n",
    "warnings.filterwarnings('ignore')"
   ]
  },
  {
   "cell_type": "code",
   "execution_count": 85,
   "metadata": {
    "ExecuteTime": {
     "end_time": "2020-05-04T17:25:07.747157Z",
     "start_time": "2020-05-04T17:25:07.732372Z"
    }
   },
   "outputs": [],
   "source": [
    "from pathlib import Path\n",
    "from collections import defaultdict\n",
    "from time import time\n",
    "\n",
    "import numpy as np\n",
    "import pandas as pd\n",
    "import seaborn as sns\n",
    "import matplotlib.pyplot as plt\n",
    "\n",
    "from alphalens.tears import (create_returns_tear_sheet,\n",
    "                             create_summary_tear_sheet,\n",
    "                             create_full_tear_sheet)\n",
    "\n",
    "from alphalens import plotting\n",
    "from alphalens import performance as perf\n",
    "from alphalens import utils"
   ]
  },
  {
   "cell_type": "code",
   "execution_count": 3,
   "metadata": {
    "ExecuteTime": {
     "end_time": "2020-05-04T16:28:19.644878Z",
     "start_time": "2020-05-04T16:28:19.631944Z"
    }
   },
   "outputs": [],
   "source": [
    "sns.set_style('whitegrid')\n",
    "np.random.seed(42)\n",
    "idx = pd.IndexSlice"
   ]
  },
  {
   "cell_type": "code",
   "execution_count": 12,
   "metadata": {
    "ExecuteTime": {
     "end_time": "2020-05-04T16:31:51.386448Z",
     "start_time": "2020-05-04T16:31:51.378404Z"
    }
   },
   "outputs": [],
   "source": [
    "DATA_STORE = Path('..', 'data', 'assets.h5')"
   ]
  },
  {
   "cell_type": "markdown",
   "metadata": {},
   "source": [
    "## Alphalens Analysis"
   ]
  },
  {
   "cell_type": "markdown",
   "metadata": {},
   "source": [
    "### Get trade prices"
   ]
  },
  {
   "cell_type": "code",
   "execution_count": 53,
   "metadata": {
    "ExecuteTime": {
     "end_time": "2020-05-04T17:09:00.951289Z",
     "start_time": "2020-05-04T17:09:00.948871Z"
    }
   },
   "outputs": [],
   "source": [
    "def get_trade_prices(tickers):\n",
    "    return (pd.read_hdf(DATA_STORE, 'quandl/wiki/prices')\n",
    "              .loc[idx['2006':'2017', tickers], 'adj_open']\n",
    "              .unstack('ticker')\n",
    "              .sort_index()\n",
    "            .shift(-1)\n",
    "            .tz_localize('UTC'))"
   ]
  },
  {
   "cell_type": "code",
   "execution_count": 54,
   "metadata": {
    "ExecuteTime": {
     "end_time": "2020-05-04T17:09:09.806420Z",
     "start_time": "2020-05-04T17:09:01.221139Z"
    }
   },
   "outputs": [],
   "source": [
    "trade_prices = get_trade_prices(tickers)"
   ]
  },
  {
   "cell_type": "code",
   "execution_count": 55,
   "metadata": {
    "ExecuteTime": {
     "end_time": "2020-05-04T17:09:09.821926Z",
     "start_time": "2020-05-04T17:09:09.807535Z"
    }
   },
   "outputs": [
    {
     "name": "stdout",
     "output_type": "stream",
     "text": [
      "<class 'pandas.core.frame.DataFrame'>\n",
      "DatetimeIndex: 3020 entries, 2006-01-03 to 2017-12-29\n",
      "Columns: 500 entries, A to ZION\n",
      "dtypes: float64(500)\n",
      "memory usage: 11.5 MB\n"
     ]
    }
   ],
   "source": [
    "trade_prices.info()"
   ]
  },
  {
   "cell_type": "markdown",
   "metadata": {},
   "source": [
    "### Load factors"
   ]
  },
  {
   "cell_type": "code",
   "execution_count": 50,
   "metadata": {
    "ExecuteTime": {
     "end_time": "2020-05-04T16:58:12.974876Z",
     "start_time": "2020-05-04T16:58:09.045524Z"
    }
   },
   "outputs": [],
   "source": [
    "factors = (pd.concat([pd.read_hdf('data.h5', 'factors/common'),\n",
    "                      pd.read_hdf('data.h5', 'factors/formulaic')\n",
    "                      .rename(columns=lambda x: f'alpha_{int(x):03}')],\n",
    "                     axis=1)\n",
    "           .dropna(axis=1, thresh=100000)\n",
    "           .sort_index())"
   ]
  },
  {
   "cell_type": "code",
   "execution_count": 51,
   "metadata": {
    "ExecuteTime": {
     "end_time": "2020-05-04T16:58:18.634604Z",
     "start_time": "2020-05-04T16:58:18.607204Z"
    }
   },
   "outputs": [
    {
     "name": "stdout",
     "output_type": "stream",
     "text": [
      "<class 'pandas.core.frame.DataFrame'>\n",
      "MultiIndex: 1255093 entries, (A, 2007-01-04 00:00:00) to (ZION, 2016-12-29 00:00:00)\n",
      "Columns: 135 entries, sector to alpha_101\n",
      "dtypes: float64(124), int64(11)\n",
      "memory usage: 1.3+ GB\n"
     ]
    }
   ],
   "source": [
    "factors.info()"
   ]
  },
  {
   "cell_type": "code",
   "execution_count": 52,
   "metadata": {
    "ExecuteTime": {
     "end_time": "2020-05-04T17:08:42.933497Z",
     "start_time": "2020-05-04T17:08:42.905847Z"
    }
   },
   "outputs": [],
   "source": [
    "tickers = factors.index.get_level_values('ticker').unique()"
   ]
  },
  {
   "cell_type": "code",
   "execution_count": 71,
   "metadata": {
    "ExecuteTime": {
     "end_time": "2020-05-04T17:17:20.204024Z",
     "start_time": "2020-05-04T17:17:20.202014Z"
    }
   },
   "outputs": [],
   "source": [
    "alpha = 'alpha_054'"
   ]
  },
  {
   "cell_type": "code",
   "execution_count": 72,
   "metadata": {
    "ExecuteTime": {
     "end_time": "2020-05-04T17:17:21.474962Z",
     "start_time": "2020-05-04T17:17:20.504838Z"
    }
   },
   "outputs": [],
   "source": [
    "factor = (factors[alpha]\n",
    "          .unstack('ticker')\n",
    "          .stack()\n",
    "          .tz_localize('UTC', level='date')\n",
    "          .sort_index())"
   ]
  },
  {
   "cell_type": "markdown",
   "metadata": {},
   "source": [
    "### Generate Alphalens input data"
   ]
  },
  {
   "cell_type": "code",
   "execution_count": 74,
   "metadata": {
    "ExecuteTime": {
     "end_time": "2020-05-04T17:17:32.460062Z",
     "start_time": "2020-05-04T17:17:29.512626Z"
    },
    "scrolled": false
   },
   "outputs": [
    {
     "name": "stdout",
     "output_type": "stream",
     "text": [
      "Dropped 0.5% entries from factor data: 0.0% in forward returns computation and 0.4% in binning phase (set max_loss=0 to see potentially suppressed Exceptions).\n",
      "max_loss is 35.0%, not exceeded: OK!\n",
      "<class 'pandas.core.frame.DataFrame'>\n",
      "MultiIndex: 1249360 entries, (2007-01-04 00:00:00+00:00, A) to (2016-12-29 00:00:00+00:00, ZION)\n",
      "Data columns (total 5 columns):\n",
      "1D                 1249360 non-null float64\n",
      "5D                 1249360 non-null float64\n",
      "10D                1249360 non-null float64\n",
      "factor             1249360 non-null float64\n",
      "factor_quantile    1249360 non-null float64\n",
      "dtypes: float64(5)\n",
      "memory usage: 52.4+ MB\n"
     ]
    }
   ],
   "source": [
    "factor_data = utils.get_clean_factor_and_forward_returns(factor=factor,\n",
    "                                                   prices=trade_prices,\n",
    "                                                   quantiles=5,\n",
    "                                                   max_loss=0.35,\n",
    "                                                   periods=(1, 5, 10)).sort_index()\n",
    "factor_data.info()"
   ]
  },
  {
   "cell_type": "markdown",
   "metadata": {},
   "source": [
    "### Compute Metrics"
   ]
  },
  {
   "cell_type": "code",
   "execution_count": 98,
   "metadata": {
    "ExecuteTime": {
     "end_time": "2020-05-04T17:42:08.001937Z",
     "start_time": "2020-05-04T17:42:03.161980Z"
    }
   },
   "outputs": [],
   "source": [
    "mean_quant_ret_bydate, std_quant_daily = perf.mean_return_by_quantile(\n",
    "    factor_data,\n",
    "    by_date=True,\n",
    "    by_group=False,\n",
    "    demeaned=True,\n",
    "    group_adjust=False,\n",
    ")\n",
    "\n",
    "mean_quant_rateret_bydate = mean_quant_ret_bydate.apply(\n",
    "    rate_of_return,\n",
    "    base_period=mean_quant_ret_bydate.columns[0],\n",
    ")\n",
    "\n",
    "compstd_quant_daily = std_quant_daily.apply(std_conversion,\n",
    "                                            base_period=std_quant_daily.columns[0])\n",
    "\n",
    "alpha_beta = perf.factor_alpha_beta(factor_data,\n",
    "                                    demeaned=True)\n",
    "\n",
    "mean_ret_spread_quant, std_spread_quant = perf.compute_mean_returns_spread(\n",
    "    mean_quant_rateret_bydate,\n",
    "    factor_data[\"factor_quantile\"].max(),\n",
    "    factor_data[\"factor_quantile\"].min(),\n",
    "    std_err=compstd_quant_daily,\n",
    ")"
   ]
  },
  {
   "cell_type": "code",
   "execution_count": 100,
   "metadata": {
    "ExecuteTime": {
     "end_time": "2020-05-04T17:42:18.983778Z",
     "start_time": "2020-05-04T17:42:18.957604Z"
    }
   },
   "outputs": [
    {
     "data": {
      "text/html": [
       "<div>\n",
       "<style scoped>\n",
       "    .dataframe tbody tr th:only-of-type {\n",
       "        vertical-align: middle;\n",
       "    }\n",
       "\n",
       "    .dataframe tbody tr th {\n",
       "        vertical-align: top;\n",
       "    }\n",
       "\n",
       "    .dataframe thead th {\n",
       "        text-align: right;\n",
       "    }\n",
       "</style>\n",
       "<table border=\"1\" class=\"dataframe\">\n",
       "  <thead>\n",
       "    <tr style=\"text-align: right;\">\n",
       "      <th></th>\n",
       "      <th>1D</th>\n",
       "      <th>5D</th>\n",
       "      <th>10D</th>\n",
       "    </tr>\n",
       "  </thead>\n",
       "  <tbody>\n",
       "    <tr>\n",
       "      <th>Mean Period Wise Spread (bps)</th>\n",
       "      <td>1.616562</td>\n",
       "      <td>1.239560</td>\n",
       "      <td>0.685174</td>\n",
       "    </tr>\n",
       "    <tr>\n",
       "      <th>Ann. alpha</th>\n",
       "      <td>-0.017286</td>\n",
       "      <td>0.011855</td>\n",
       "      <td>0.012242</td>\n",
       "    </tr>\n",
       "    <tr>\n",
       "      <th>beta</th>\n",
       "      <td>0.056012</td>\n",
       "      <td>0.053415</td>\n",
       "      <td>0.044731</td>\n",
       "    </tr>\n",
       "  </tbody>\n",
       "</table>\n",
       "</div>"
      ],
      "text/plain": [
       "                                     1D        5D       10D\n",
       "Mean Period Wise Spread (bps)  1.616562  1.239560  0.685174\n",
       "Ann. alpha                    -0.017286  0.011855  0.012242\n",
       "beta                           0.056012  0.053415  0.044731"
      ]
     },
     "execution_count": 100,
     "metadata": {},
     "output_type": "execute_result"
    }
   ],
   "source": [
    "mean_ret_spread_quant.mean().mul(10000).to_frame('Mean Period Wise Spread (bps)').join(alpha_beta.T).T"
   ]
  },
  {
   "cell_type": "markdown",
   "metadata": {},
   "source": [
    "### Plot spread and cumulative returns"
   ]
  },
  {
   "cell_type": "code",
   "execution_count": 95,
   "metadata": {
    "ExecuteTime": {
     "end_time": "2020-05-04T17:40:00.671158Z",
     "start_time": "2020-05-04T17:37:51.270474Z"
    }
   },
   "outputs": [
    {
     "data": {
      "image/png": "[encoded data removed]",
      "text/plain": [
       "<Figure size 1440x360 with 3 Axes>"
      ]
     },
     "metadata": {},
     "output_type": "display_data"
    }
   ],
   "source": [
    "fig, axes = plt.subplots(ncols=3, figsize=(20, 5))\n",
    "\n",
    "mean_quant_ret, std_quantile = mean_return_by_quantile(factor_data,\n",
    "                                                       by_group=False,\n",
    "                                                       demeaned=True)\n",
    "\n",
    "mean_quant_rateret = mean_quant_ret.apply(rate_of_return, axis=0,\n",
    "                                          base_period=mean_quant_ret.columns[0])\n",
    "\n",
    "plot_quantile_returns_bar(mean_quant_rateret, ax=axes[0])\n",
    "\n",
    "\n",
    "factor_returns = perf.factor_returns(factor_data)\n",
    "\n",
    "title = \"Factor Weighted Long/Short Portfolio Cumulative Return (1D Period)\"\n",
    "plotting.plot_cumulative_returns(factor_returns['1D'],\n",
    "                                 period='1D',\n",
    "                                 freq=pd.tseries.offsets.BDay(),\n",
    "                                 title=title,\n",
    "                                 ax=axes[1])\n",
    "\n",
    "plotting.plot_cumulative_returns_by_quantile(mean_quant_ret_bydate['1D'],\n",
    "                                             freq=pd.tseries.offsets.BDay(),\n",
    "                                             period='1D',\n",
    "                                             ax=axes[2])\n",
    "fig.tight_layout();"
   ]
  },
  {
   "cell_type": "markdown",
   "metadata": {},
   "source": [
    "### Create Tearsheet"
   ]
  },
  {
   "cell_type": "code",
   "execution_count": 77,
   "metadata": {
    "ExecuteTime": {
     "end_time": "2020-05-04T17:18:05.949555Z",
     "start_time": "2020-05-04T17:17:43.234131Z"
    }
   },
   "outputs": [
    {
     "name": "stdout",
     "output_type": "stream",
     "text": [
      "Quantiles Statistics\n"
     ]
    },
    {
     "data": {
      "text/html": [
       "<div>\n",
       "<style scoped>\n",
       "    .dataframe tbody tr th:only-of-type {\n",
       "        vertical-align: middle;\n",
       "    }\n",
       "\n",
       "    .dataframe tbody tr th {\n",
       "        vertical-align: top;\n",
       "    }\n",
       "\n",
       "    .dataframe thead th {\n",
       "        text-align: right;\n",
       "    }\n",
       "</style>\n",
       "<table border=\"1\" class=\"dataframe\">\n",
       "  <thead>\n",
       "    <tr style=\"text-align: right;\">\n",
       "      <th></th>\n",
       "      <th>min</th>\n",
       "      <th>max</th>\n",
       "      <th>mean</th>\n",
       "      <th>std</th>\n",
       "      <th>count</th>\n",
       "      <th>count %</th>\n",
       "    </tr>\n",
       "    <tr>\n",
       "      <th>factor_quantile</th>\n",
       "      <th></th>\n",
       "      <th></th>\n",
       "      <th></th>\n",
       "      <th></th>\n",
       "      <th></th>\n",
       "      <th></th>\n",
       "    </tr>\n",
       "  </thead>\n",
       "  <tbody>\n",
       "    <tr>\n",
       "      <th>1.0</th>\n",
       "      <td>-564576.097386</td>\n",
       "      <td>-0.053881</td>\n",
       "      <td>-1558.250338</td>\n",
       "      <td>7272.525816</td>\n",
       "      <td>250286</td>\n",
       "      <td>20.033137</td>\n",
       "    </tr>\n",
       "    <tr>\n",
       "      <th>2.0</th>\n",
       "      <td>-84.567946</td>\n",
       "      <td>-0.029206</td>\n",
       "      <td>-2.659084</td>\n",
       "      <td>2.541298</td>\n",
       "      <td>249845</td>\n",
       "      <td>19.997839</td>\n",
       "    </tr>\n",
       "    <tr>\n",
       "      <th>3.0</th>\n",
       "      <td>-13.157136</td>\n",
       "      <td>-0.019221</td>\n",
       "      <td>-1.325346</td>\n",
       "      <td>1.035789</td>\n",
       "      <td>249408</td>\n",
       "      <td>19.962861</td>\n",
       "    </tr>\n",
       "    <tr>\n",
       "      <th>4.0</th>\n",
       "      <td>-5.569446</td>\n",
       "      <td>-0.001684</td>\n",
       "      <td>-0.749801</td>\n",
       "      <td>0.586770</td>\n",
       "      <td>249775</td>\n",
       "      <td>19.992236</td>\n",
       "    </tr>\n",
       "    <tr>\n",
       "      <th>5.0</th>\n",
       "      <td>-3.371885</td>\n",
       "      <td>12.567973</td>\n",
       "      <td>-0.323038</td>\n",
       "      <td>0.323306</td>\n",
       "      <td>250046</td>\n",
       "      <td>20.013927</td>\n",
       "    </tr>\n",
       "  </tbody>\n",
       "</table>\n",
       "</div>"
      ],
      "text/plain": [
       "                           min        max         mean          std   count  \\\n",
       "factor_quantile                                                               \n",
       "1.0             -564576.097386  -0.053881 -1558.250338  7272.525816  250286   \n",
       "2.0                 -84.567946  -0.029206    -2.659084     2.541298  249845   \n",
       "3.0                 -13.157136  -0.019221    -1.325346     1.035789  249408   \n",
       "4.0                  -5.569446  -0.001684    -0.749801     0.586770  249775   \n",
       "5.0                  -3.371885  12.567973    -0.323038     0.323306  250046   \n",
       "\n",
       "                   count %  \n",
       "factor_quantile             \n",
       "1.0              20.033137  \n",
       "2.0              19.997839  \n",
       "3.0              19.962861  \n",
       "4.0              19.992236  \n",
       "5.0              20.013927  "
      ]
     },
     "metadata": {},
     "output_type": "display_data"
    },
    {
     "name": "stdout",
     "output_type": "stream",
     "text": [
      "Returns Analysis\n"
     ]
    },
    {
     "data": {
      "text/html": [
       "<div>\n",
       "<style scoped>\n",
       "    .dataframe tbody tr th:only-of-type {\n",
       "        vertical-align: middle;\n",
       "    }\n",
       "\n",
       "    .dataframe tbody tr th {\n",
       "        vertical-align: top;\n",
       "    }\n",
       "\n",
       "    .dataframe thead th {\n",
       "        text-align: right;\n",
       "    }\n",
       "</style>\n",
       "<table border=\"1\" class=\"dataframe\">\n",
       "  <thead>\n",
       "    <tr style=\"text-align: right;\">\n",
       "      <th></th>\n",
       "      <th>1D</th>\n",
       "      <th>5D</th>\n",
       "      <th>10D</th>\n",
       "    </tr>\n",
       "  </thead>\n",
       "  <tbody>\n",
       "    <tr>\n",
       "      <th>Ann. alpha</th>\n",
       "      <td>-0.017</td>\n",
       "      <td>0.012</td>\n",
       "      <td>0.012</td>\n",
       "    </tr>\n",
       "    <tr>\n",
       "      <th>beta</th>\n",
       "      <td>0.056</td>\n",
       "      <td>0.053</td>\n",
       "      <td>0.045</td>\n",
       "    </tr>\n",
       "    <tr>\n",
       "      <th>Mean Period Wise Return Top Quantile (bps)</th>\n",
       "      <td>1.187</td>\n",
       "      <td>0.651</td>\n",
       "      <td>0.224</td>\n",
       "    </tr>\n",
       "    <tr>\n",
       "      <th>Mean Period Wise Return Bottom Quantile (bps)</th>\n",
       "      <td>-0.429</td>\n",
       "      <td>-0.599</td>\n",
       "      <td>-0.465</td>\n",
       "    </tr>\n",
       "    <tr>\n",
       "      <th>Mean Period Wise Spread (bps)</th>\n",
       "      <td>1.617</td>\n",
       "      <td>1.240</td>\n",
       "      <td>0.685</td>\n",
       "    </tr>\n",
       "  </tbody>\n",
       "</table>\n",
       "</div>"
      ],
      "text/plain": [
       "                                                  1D     5D    10D\n",
       "Ann. alpha                                    -0.017  0.012  0.012\n",
       "beta                                           0.056  0.053  0.045\n",
       "Mean Period Wise Return Top Quantile (bps)     1.187  0.651  0.224\n",
       "Mean Period Wise Return Bottom Quantile (bps) -0.429 -0.599 -0.465\n",
       "Mean Period Wise Spread (bps)                  1.617  1.240  0.685"
      ]
     },
     "metadata": {},
     "output_type": "display_data"
    },
    {
     "name": "stdout",
     "output_type": "stream",
     "text": [
      "Information Analysis\n"
     ]
    },
    {
     "data": {
      "text/html": [
       "<div>\n",
       "<style scoped>\n",
       "    .dataframe tbody tr th:only-of-type {\n",
       "        vertical-align: middle;\n",
       "    }\n",
       "\n",
       "    .dataframe tbody tr th {\n",
       "        vertical-align: top;\n",
       "    }\n",
       "\n",
       "    .dataframe thead th {\n",
       "        text-align: right;\n",
       "    }\n",
       "</style>\n",
       "<table border=\"1\" class=\"dataframe\">\n",
       "  <thead>\n",
       "    <tr style=\"text-align: right;\">\n",
       "      <th></th>\n",
       "      <th>1D</th>\n",
       "      <th>5D</th>\n",
       "      <th>10D</th>\n",
       "    </tr>\n",
       "  </thead>\n",
       "  <tbody>\n",
       "    <tr>\n",
       "      <th>IC Mean</th>\n",
       "      <td>0.002</td>\n",
       "      <td>0.002</td>\n",
       "      <td>0.002</td>\n",
       "    </tr>\n",
       "    <tr>\n",
       "      <th>IC Std.</th>\n",
       "      <td>0.118</td>\n",
       "      <td>0.114</td>\n",
       "      <td>0.110</td>\n",
       "    </tr>\n",
       "    <tr>\n",
       "      <th>Risk-Adjusted IC</th>\n",
       "      <td>0.018</td>\n",
       "      <td>0.018</td>\n",
       "      <td>0.018</td>\n",
       "    </tr>\n",
       "    <tr>\n",
       "      <th>t-stat(IC)</th>\n",
       "      <td>0.911</td>\n",
       "      <td>0.894</td>\n",
       "      <td>0.915</td>\n",
       "    </tr>\n",
       "    <tr>\n",
       "      <th>p-value(IC)</th>\n",
       "      <td>0.362</td>\n",
       "      <td>0.372</td>\n",
       "      <td>0.360</td>\n",
       "    </tr>\n",
       "    <tr>\n",
       "      <th>IC Skew</th>\n",
       "      <td>0.010</td>\n",
       "      <td>0.036</td>\n",
       "      <td>0.077</td>\n",
       "    </tr>\n",
       "    <tr>\n",
       "      <th>IC Kurtosis</th>\n",
       "      <td>0.446</td>\n",
       "      <td>0.559</td>\n",
       "      <td>0.684</td>\n",
       "    </tr>\n",
       "  </tbody>\n",
       "</table>\n",
       "</div>"
      ],
      "text/plain": [
       "                     1D     5D    10D\n",
       "IC Mean           0.002  0.002  0.002\n",
       "IC Std.           0.118  0.114  0.110\n",
       "Risk-Adjusted IC  0.018  0.018  0.018\n",
       "t-stat(IC)        0.911  0.894  0.915\n",
       "p-value(IC)       0.362  0.372  0.360\n",
       "IC Skew           0.010  0.036  0.077\n",
       "IC Kurtosis       0.446  0.559  0.684"
      ]
     },
     "metadata": {},
     "output_type": "display_data"
    },
    {
     "name": "stdout",
     "output_type": "stream",
     "text": [
      "Turnover Analysis\n"
     ]
    },
    {
     "data": {
      "text/html": [
       "<div>\n",
       "<style scoped>\n",
       "    .dataframe tbody tr th:only-of-type {\n",
       "        vertical-align: middle;\n",
       "    }\n",
       "\n",
       "    .dataframe tbody tr th {\n",
       "        vertical-align: top;\n",
       "    }\n",
       "\n",
       "    .dataframe thead th {\n",
       "        text-align: right;\n",
       "    }\n",
       "</style>\n",
       "<table border=\"1\" class=\"dataframe\">\n",
       "  <thead>\n",
       "    <tr style=\"text-align: right;\">\n",
       "      <th></th>\n",
       "      <th>10D</th>\n",
       "      <th>1D</th>\n",
       "      <th>5D</th>\n",
       "    </tr>\n",
       "  </thead>\n",
       "  <tbody>\n",
       "    <tr>\n",
       "      <th>Quantile 1 Mean Turnover</th>\n",
       "      <td>0.795</td>\n",
       "      <td>0.791</td>\n",
       "      <td>0.795</td>\n",
       "    </tr>\n",
       "    <tr>\n",
       "      <th>Quantile 2 Mean Turnover</th>\n",
       "      <td>0.798</td>\n",
       "      <td>0.798</td>\n",
       "      <td>0.797</td>\n",
       "    </tr>\n",
       "    <tr>\n",
       "      <th>Quantile 3 Mean Turnover</th>\n",
       "      <td>0.797</td>\n",
       "      <td>0.795</td>\n",
       "      <td>0.797</td>\n",
       "    </tr>\n",
       "    <tr>\n",
       "      <th>Quantile 4 Mean Turnover</th>\n",
       "      <td>0.800</td>\n",
       "      <td>0.797</td>\n",
       "      <td>0.798</td>\n",
       "    </tr>\n",
       "    <tr>\n",
       "      <th>Quantile 5 Mean Turnover</th>\n",
       "      <td>0.788</td>\n",
       "      <td>0.792</td>\n",
       "      <td>0.788</td>\n",
       "    </tr>\n",
       "  </tbody>\n",
       "</table>\n",
       "</div>"
      ],
      "text/plain": [
       "                             10D     1D     5D\n",
       "Quantile 1 Mean Turnover   0.795  0.791  0.795\n",
       "Quantile 2 Mean Turnover   0.798  0.798  0.797\n",
       "Quantile 3 Mean Turnover   0.797  0.795  0.797\n",
       "Quantile 4 Mean Turnover   0.800  0.797  0.798\n",
       "Quantile 5 Mean Turnover   0.788  0.792  0.788"
      ]
     },
     "metadata": {},
     "output_type": "display_data"
    },
    {
     "data": {
      "text/html": [
       "<div>\n",
       "<style scoped>\n",
       "    .dataframe tbody tr th:only-of-type {\n",
       "        vertical-align: middle;\n",
       "    }\n",
       "\n",
       "    .dataframe tbody tr th {\n",
       "        vertical-align: top;\n",
       "    }\n",
       "\n",
       "    .dataframe thead th {\n",
       "        text-align: right;\n",
       "    }\n",
       "</style>\n",
       "<table border=\"1\" class=\"dataframe\">\n",
       "  <thead>\n",
       "    <tr style=\"text-align: right;\">\n",
       "      <th></th>\n",
       "      <th>1D</th>\n",
       "      <th>5D</th>\n",
       "      <th>10D</th>\n",
       "    </tr>\n",
       "  </thead>\n",
       "  <tbody>\n",
       "    <tr>\n",
       "      <th>Mean Factor Rank Autocorrelation</th>\n",
       "      <td>0.006</td>\n",
       "      <td>0.01</td>\n",
       "      <td>0.01</td>\n",
       "    </tr>\n",
       "  </tbody>\n",
       "</table>\n",
       "</div>"
      ],
      "text/plain": [
       "                                     1D    5D   10D\n",
       "Mean Factor Rank Autocorrelation  0.006  0.01  0.01"
      ]
     },
     "metadata": {},
     "output_type": "display_data"
    },
    {
     "data": {
      "text/plain": [
       "<Figure size 432x288 with 0 Axes>"
      ]
     },
     "metadata": {},
     "output_type": "display_data"
    },
    {
     "data": {
      "image/png": "[encoded data removed]",
      "text/plain": [
       "<Figure size 1008x5544 with 1 Axes>"
      ]
     },
     "metadata": {},
     "output_type": "display_data"
    }
   ],
   "source": [
    "create_summary_tear_sheet(factor_data)"
   ]
  },
  {
   "cell_type": "code",
   "execution_count": null,
   "metadata": {},
   "outputs": [],
   "source": []
  }
 ],
 "metadata": {
  "kernelspec": {
   "display_name": "Python 3",
   "language": "python",
   "name": "python3"
  },
  "language_info": {
   "codemirror_mode": {
    "name": "ipython",
    "version": 3
   },
   "file_extension": ".py",
   "mimetype": "text/x-python",
   "name": "python",
   "nbconvert_exporter": "python",
   "pygments_lexer": "ipython3",
   "version": "3.7.7"
  },
  "toc": {
   "base_numbering": 1,
   "nav_menu": {},
   "number_sections": true,
   "sideBar": true,
   "skip_h1_title": true,
   "title_cell": "Table of Contents",
   "title_sidebar": "Contents",
   "toc_cell": false,
   "toc_position": {
    "height": "calc(100% - 180px)",
    "left": "10px",
    "top": "150px",
    "width": "342.391px"
   },
   "toc_section_display": true,
   "toc_window_display": true
  }
 },
 "nbformat": 4,
 "nbformat_minor": 2
}
