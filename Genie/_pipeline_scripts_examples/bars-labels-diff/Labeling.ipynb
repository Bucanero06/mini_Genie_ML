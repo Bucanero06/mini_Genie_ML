{
 "cells": [
  {
   "cell_type": "code",
   "execution_count": 1,
   "metadata": {
    "collapsed": true,
    "pycharm": {
     "name": "#%%\n"
    }
   },
   "outputs": [],
   "source": [
    "import pandas as pd\n",
    "import numpy as np\n",
    "import matplotlib.pylab as plt\n",
    "import datetime"
   ]
  },
  {
   "cell_type": "markdown",
   "metadata": {
    "pycharm": {
     "name": "#%% md\n"
    }
   },
   "source": [
    "# Data loading"
   ]
  },
  {
   "cell_type": "code",
   "execution_count": 2,
   "metadata": {
    "collapsed": true,
    "pycharm": {
     "name": "#%%\n"
    }
   },
   "outputs": [],
   "source": [
    "data_raw = pd.read_csv('IVE_tickbidask.txt', header=None, names=['Date','Time','Price','Bid','Ask','Size'])"
   ]
  },
  {
   "cell_type": "code",
   "execution_count": 3,
   "metadata": {
    "collapsed": true,
    "pycharm": {
     "name": "#%%\n"
    }
   },
   "outputs": [],
   "source": [
    "data = data_raw#.iloc[:100000]"
   ]
  },
  {
   "cell_type": "code",
   "execution_count": 7,
   "metadata": {
    "collapsed": true,
    "pycharm": {
     "name": "#%%\n"
    }
   },
   "outputs": [],
   "source": [
    "data['DateTime'] = pd.to_datetime(data['Date'] + ' ' + data['Time'])\n",
    "data = data.drop(columns = ['Date', 'Time'])\n",
    "data = data.set_index('DateTime')"
   ]
  },
  {
   "cell_type": "code",
   "execution_count": 8,
   "metadata": {
    "collapsed": true,
    "pycharm": {
     "name": "#%%\n"
    }
   },
   "outputs": [],
   "source": [
    "from scipy import stats\n",
    "from bars import *"
   ]
  },
  {
   "cell_type": "code",
   "execution_count": 9,
   "metadata": {
    "pycharm": {
     "name": "#%%\n"
    }
   },
   "outputs": [
    {
     "name": "stdout",
     "output_type": "stream",
     "text": [
      "                        open   high      low  close  volume\n",
      "DateTime                                                   \n",
      "2009-09-28 09:40:00  50.7900  50.85  50.7100  50.81    9197\n",
      "2009-09-28 09:50:00  50.8100  51.12  50.7833  51.07   26447\n",
      "2009-09-28 10:00:00  51.0988  51.15  51.0800  51.12   53716\n",
      "2009-09-28 10:10:00  51.1500  51.29  51.1500  51.27   47673\n",
      "2009-09-28 10:20:00  51.2800  51.29  51.2100  51.21   30631\n"
     ]
    }
   ],
   "source": [
    "bars = BarSeries(data)\n",
    "time_bars = bars.process_ticks(frequency='10Min')\n",
    "print time_bars.head()"
   ]
  },
  {
   "cell_type": "code",
   "execution_count": 10,
   "metadata": {
    "pycharm": {
     "name": "#%%\n"
    }
   },
   "outputs": [
    {
     "name": "stdout",
     "output_type": "stream",
     "text": [
      "                     close   high    low   open  volume\n",
      "DateTime                                               \n",
      "2009-09-28 09:47:22  51.06  51.07  50.71  50.79   30044\n",
      "2009-09-28 09:54:38  51.13  51.15  51.06  51.06   28975\n",
      "2009-09-28 10:00:15  51.21  51.21  51.08  51.13   32841\n",
      "2009-09-28 10:05:50  51.21  51.28  51.20  51.21   33764\n",
      "2009-09-28 10:15:13  51.25  51.29  51.19  51.22   37104\n"
     ]
    }
   ],
   "source": [
    "bars = TickBarSeries(data)\n",
    "tick_bars = bars.process_ticks(frequency = 100)\n",
    "print tick_bars.head()"
   ]
  },
  {
   "cell_type": "markdown",
   "metadata": {
    "pycharm": {
     "name": "#%% md\n"
    }
   },
   "source": [
    "# Fixed horizon"
   ]
  },
  {
   "cell_type": "code",
   "execution_count": 96,
   "metadata": {
    "collapsed": true,
    "scrolled": true,
    "pycharm": {
     "name": "#%%\n"
    }
   },
   "outputs": [],
   "source": [
    "WINDOW = 180\n",
    "HORIZON = 60\n",
    "T = 0.025\n",
    "\n",
    "labels = []\n",
    "for i in range(WINDOW, 10000, 1):\n",
    "    window = tick_bars.iloc[i-WINDOW:i]\n",
    "    now = tick_bars.close[i]\n",
    "    future = tick_bars.close[i+HORIZON]\n",
    "    ret = (future - now) / now\n",
    "    \n",
    "    if ret > T:\n",
    "        labels.append(1)\n",
    "    elif ret < -T:\n",
    "        labels.append(-1)\n",
    "    else:\n",
    "        labels.append(0)"
   ]
  },
  {
   "cell_type": "code",
   "execution_count": 97,
   "metadata": {
    "pycharm": {
     "name": "#%%\n"
    }
   },
   "outputs": [
    {
     "data": {
      "image/png": "[encoded data removed]",
      "text/plain": [
       "<Figure size 432x288 with 1 Axes>"
      ]
     },
     "metadata": {},
     "output_type": "display_data"
    }
   ],
   "source": [
    "plt.figure()\n",
    "plt.hist(labels, bins = 5, alpha = 0.7)\n",
    "plt.show()"
   ]
  },
  {
   "cell_type": "markdown",
   "metadata": {
    "pycharm": {
     "name": "#%% md\n"
    }
   },
   "source": [
    "# Volatility horizon"
   ]
  },
  {
   "cell_type": "code",
   "execution_count": 98,
   "metadata": {
    "collapsed": true,
    "scrolled": true,
    "pycharm": {
     "name": "#%%\n"
    }
   },
   "outputs": [],
   "source": [
    "labels = []\n",
    "for i in range(WINDOW, 10000, 1):\n",
    "    window = tick_bars.iloc[i-WINDOW:i]\n",
    "    now = tick_bars.close[i]\n",
    "    future = tick_bars.close[i+HORIZON]\n",
    "    ret = (future - now) / now\n",
    "    \n",
    "    window_abs_returns = np.abs(window.close.pct_change())\n",
    "    Ti = np.std(window_abs_returns) + np.mean(window_abs_returns)\n",
    "    \n",
    "    if ret > Ti:\n",
    "        labels.append(1)\n",
    "    elif ret < -Ti:\n",
    "        labels.append(-1)\n",
    "    else:\n",
    "        labels.append(0)"
   ]
  },
  {
   "cell_type": "code",
   "execution_count": 99,
   "metadata": {
    "pycharm": {
     "name": "#%%\n"
    }
   },
   "outputs": [
    {
     "data": {
      "image/png": "[encoded data removed]",
      "text/plain": [
       "<Figure size 432x288 with 1 Axes>"
      ]
     },
     "metadata": {},
     "output_type": "display_data"
    }
   ],
   "source": [
    "plt.figure()\n",
    "plt.hist(labels, bins = 5, alpha = 0.7)\n",
    "plt.show()"
   ]
  },
  {
   "cell_type": "markdown",
   "metadata": {
    "pycharm": {
     "name": "#%% md\n"
    }
   },
   "source": [
    "# Meta labeling"
   ]
  },
  {
   "cell_type": "code",
   "execution_count": 167,
   "metadata": {
    "collapsed": true,
    "pycharm": {
     "name": "#%%\n"
    }
   },
   "outputs": [],
   "source": [
    "def get_meta_barier(future_window, last_close, min_ret, tp, sl, vertical_zero = False):\n",
    "    '''\n",
    "        XXX\n",
    "    '''\n",
    "    if vertical_zero:\n",
    "        min_ret_situation = [0, 0, 0]\n",
    "    else:\n",
    "        min_ret_situation = [0, 0]\n",
    "        \n",
    "        \n",
    "    differences = np.array([(fc - last_close) / last_close for fc in future_window])\n",
    "    \n",
    "    # Are there gonna be fluctuations within min_ret???\n",
    "    min_ret_ups = np.where((differences >= min_ret) == True)[0]\n",
    "    min_ret_downs = np.where((differences < -min_ret) == True)[0]\n",
    "  \n",
    "    if (len(min_ret_ups) == 0) and (len(min_ret_downs) == 0):\n",
    "        if vertical_zero:\n",
    "            min_ret_situation[2] = 1\n",
    "        else:\n",
    "            if differences[-1] > 0:\n",
    "                min_ret_situation[0] = 1\n",
    "            else:\n",
    "                min_ret_situation[1] = 1            \n",
    "    else:\n",
    "        if len(min_ret_ups) == 0: min_ret_ups = [np.inf]\n",
    "        if len(min_ret_downs) == 0: min_ret_downs = [np.inf]\n",
    "        if min_ret_ups[0] > min_ret_downs[0]:\n",
    "            min_ret_situation[0] = 1\n",
    "        else:\n",
    "            min_ret_situation[1] = 1\n",
    "        \n",
    "    #  Take profit and stop losses indices\n",
    "    take_profit = np.where((differences >= tp) == True)[0]\n",
    "    stop_loss = np.where((differences < sl) == True)[0]\n",
    "    \n",
    "    # Fluctuation directions coincide with take profit / stop loss actions?\n",
    "    if min_ret_situation[0] == 1 and len(take_profit) != 0:\n",
    "        take_action = 1\n",
    "    elif min_ret_situation[1] == 1 and len(stop_loss) != 0:\n",
    "        take_action = 1\n",
    "    else:\n",
    "        take_action = 0.\n",
    "    \n",
    "    return min_ret_situation, take_action"
   ]
  },
  {
   "cell_type": "code",
   "execution_count": 202,
   "metadata": {
    "collapsed": true,
    "pycharm": {
     "name": "#%%\n"
    }
   },
   "outputs": [],
   "source": [
    "WINDOW = 180\n",
    "HORIZON = 60\n",
    "\n",
    "TIs = []\n",
    "# MIN_RET = 0.01\n",
    "TP = 0.015\n",
    "SL = -0.015\n",
    "\n",
    "X, Y, Y2 = [], [], []\n",
    "for i in range(WINDOW, 10000, 1):\n",
    "    window = tick_bars.iloc[i-WINDOW:i]\n",
    "    now = tick_bars.close[i]\n",
    "    future_window = tick_bars.close[i:i+HORIZON]\n",
    "    \n",
    "    window_abs_returns = np.abs(window.close.pct_change())\n",
    "    Ti = np.std(window_abs_returns) + np.mean(window_abs_returns)\n",
    "    \n",
    "    min_ret_situation, take_action = get_meta_barier(future_window, now, Ti, TP, SL, True)\n",
    "    X.append(window.close)\n",
    "    Y.append(min_ret_situation)\n",
    "    Y2.append(take_action)\n",
    "    TIs.append(Ti)"
   ]
  },
  {
   "cell_type": "code",
   "execution_count": 203,
   "metadata": {
    "pycharm": {
     "name": "#%%\n"
    }
   },
   "outputs": [
    {
     "data": {
      "image/png": "[encoded data removed]",
      "text/plain": [
       "<Figure size 432x288 with 1 Axes>"
      ]
     },
     "metadata": {},
     "output_type": "display_data"
    }
   ],
   "source": [
    "plt.figure()\n",
    "plt.hist(Y2, bins = 5, alpha = 0.7)\n",
    "plt.show()"
   ]
  },
  {
   "cell_type": "code",
   "execution_count": 204,
   "metadata": {
    "pycharm": {
     "name": "#%%\n"
    }
   },
   "outputs": [
    {
     "data": {
      "image/png": "[encoded data removed]",
      "text/plain": [
       "<Figure size 432x288 with 1 Axes>"
      ]
     },
     "metadata": {},
     "output_type": "display_data"
    }
   ],
   "source": [
    "plt.figure()\n",
    "plt.hist([np.argmax(y) for y in Y], bins = 5, alpha = 0.7)\n",
    "plt.show()"
   ]
  },
  {
   "cell_type": "code",
   "execution_count": null,
   "metadata": {
    "collapsed": true,
    "pycharm": {
     "name": "#%%\n"
    }
   },
   "outputs": [],
   "source": []
  }
 ],
 "metadata": {
  "kernelspec": {
   "display_name": "Python 2",
   "language": "python",
   "name": "python2"
  },
  "language_info": {
   "codemirror_mode": {
    "name": "ipython",
    "version": 2
   },
   "file_extension": ".py",
   "mimetype": "text/x-python",
   "name": "python",
   "nbconvert_exporter": "python",
   "pygments_lexer": "ipython2",
   "version": "2.7.14"
  }
 },
 "nbformat": 4,
 "nbformat_minor": 2
}