{
 "cells": [
  {
   "cell_type": "code",
   "execution_count": 1,
   "metadata": {
    "collapsed": true
   },
   "outputs": [],
   "source": [
    "import pandas as pd\n",
    "import numpy as np\n",
    "import matplotlib.pylab as plt\n",
    "import datetime\n",
    "\n",
    "from sklearn.preprocessing import LabelBinarizer\n",
    "from sklearn.utils import shuffle\n",
    "from collections import Counter"
   ]
  },
  {
   "cell_type": "code",
   "execution_count": 2,
   "metadata": {},
   "outputs": [
    {
     "name": "stderr",
     "output_type": "stream",
     "text": [
      "/anaconda2/lib/python2.7/site-packages/h5py/__init__.py:34: FutureWarning: Conversion of the second argument of issubdtype from `float` to `np.floating` is deprecated. In future, it will be treated as `np.float64 == np.dtype(float).type`.\n",
      "  from ._conv import register_converters as _register_converters\n",
      "Using TensorFlow backend.\n"
     ]
    }
   ],
   "source": [
    "from keras.models import Model\n",
    "from keras.layers import Dense, Dropout, GlobalAveragePooling1D, GaussianNoise, Conv1D, MaxPool1D, GlobalMaxPooling1D\n",
    "from keras.layers import Input, concatenate, SpatialDropout1D, Flatten, AvgPool1D, LSTM, Lambda, Reshape, GaussianDropout\n",
    "from keras.layers import BatchNormalization\n",
    "from keras.callbacks import ModelCheckpoint, EarlyStopping\n",
    "from keras import regularizers\n",
    "from keras.optimizers import RMSprop, Adam, SGD, Nadam\n",
    "import keras.backend as K\n",
    "from keras.regularizers import l1, l2 , l1_l2\n",
    "\n",
    "\n",
    "from sklearn.metrics import confusion_matrix\n",
    "from sklearn.metrics import classification_report, accuracy_score\n",
    "from sklearn.metrics import r2_score\n",
    "from sklearn.metrics import matthews_corrcoef\n",
    "from sklearn.metrics import f1_score"
   ]
  },
  {
   "cell_type": "markdown",
   "metadata": {},
   "source": [
    "# Data loading"
   ]
  },
  {
   "cell_type": "code",
   "execution_count": 3,
   "metadata": {
    "collapsed": true
   },
   "outputs": [],
   "source": [
    "tick_bars = pd.read_csv('tick_bars.csv')"
   ]
  },
  {
   "cell_type": "code",
   "execution_count": 4,
   "metadata": {},
   "outputs": [
    {
     "data": {
      "image/png": "[encoded data removed]",
      "text/plain": [
       "<Figure size 432x288 with 1 Axes>"
      ]
     },
     "metadata": {},
     "output_type": "display_data"
    }
   ],
   "source": [
    "plt.figure()\n",
    "plt.plot(tick_bars.close[:int(len(tick_bars) * 0.5)])\n",
    "plt.plot(tick_bars.close[int(len(tick_bars) * 0.5):int(len(tick_bars) * 0.7)])\n",
    "plt.plot(tick_bars.close[int(len(tick_bars) * 0.7):])\n",
    "plt.show()"
   ]
  },
  {
   "cell_type": "markdown",
   "metadata": {},
   "source": [
    "# Making features"
   ]
  },
  {
   "cell_type": "code",
   "execution_count": 10,
   "metadata": {
    "collapsed": true
   },
   "outputs": [],
   "source": [
    "from scipy.stats import entropy\n",
    "from scipy import stats"
   ]
  },
  {
   "cell_type": "code",
   "execution_count": 11,
   "metadata": {
    "collapsed": true
   },
   "outputs": [],
   "source": [
    "N_BARS = 64000\n",
    "WINDOW_LONG = 100\n",
    "WINDOW_SHORT = 50\n",
    "HORIZON = 25\n",
    "T = 0.01\n",
    "H = 0.05"
   ]
  },
  {
   "cell_type": "code",
   "execution_count": 12,
   "metadata": {},
   "outputs": [
    {
     "data": {
      "image/png": "[encoded data removed]",
      "text/plain": [
       "<Figure size 432x288 with 1 Axes>"
      ]
     },
     "metadata": {},
     "output_type": "display_data"
    }
   ],
   "source": [
    "plt.figure()\n",
    "plt.hist(np.clip(tick_bars.close.pct_change(HORIZON), -H, H).dropna(), bins = 100)\n",
    "plt.axvline(-T, color = 'black', ls = '--')\n",
    "plt.axvline(T, color = 'black', ls = '--')\n",
    "plt.show()"
   ]
  },
  {
   "cell_type": "code",
   "execution_count": 13,
   "metadata": {},
   "outputs": [
    {
     "name": "stdout",
     "output_type": "stream",
     "text": [
      "-0.04359708998044693\n",
      "(30474097.664683025, 0.0)\n",
      "(0.727247953414917, 0.0)\n"
     ]
    },
    {
     "name": "stderr",
     "output_type": "stream",
     "text": [
      "/anaconda2/lib/python2.7/site-packages/scipy/stats/morestats.py:1310: UserWarning: p-value may not be accurate for N > 5000.\n",
      "  warnings.warn(\"p-value may not be accurate for N > 5000.\")\n"
     ]
    }
   ],
   "source": [
    "print pd.Series.autocorr(np.clip(tick_bars.close.pct_change(), -H, H).dropna())\n",
    "print stats.jarque_bera(np.clip(tick_bars.close.pct_change(), -H, H).dropna())\n",
    "print stats.shapiro(np.clip(tick_bars.close.pct_change(), -H, H).dropna())"
   ]
  },
  {
   "cell_type": "code",
   "execution_count": 14,
   "metadata": {
    "collapsed": true,
    "scrolled": true
   },
   "outputs": [],
   "source": [
    "tick_bars['pct_change'] = np.clip(tick_bars.close.pct_change(), -H, H)"
   ]
  },
  {
   "cell_type": "code",
   "execution_count": 15,
   "metadata": {},
   "outputs": [
    {
     "name": "stdout",
     "output_type": "stream",
     "text": [
      "['pct_change']\n"
     ]
    }
   ],
   "source": [
    "FEATURES = ['pct_change']\n",
    "print FEATURES"
   ]
  },
  {
   "cell_type": "code",
   "execution_count": 16,
   "metadata": {
    "collapsed": true
   },
   "outputs": [],
   "source": [
    "def make_features_from_window(X_train_b, X_val, X_test, features):   \n",
    "    \n",
    "    X_train_normts = np.array([(x.close - x.close.iloc[0]) / np.std(x.close) for x in X_train_b]).reshape((len(X_train_b), WINDOW_LONG, 1))\n",
    "    X_val_normts = np.array([(x.close - x.close.iloc[0]) / np.std(x.close) for x in X_val]).reshape((len(X_val), WINDOW_LONG, 1))\n",
    "    X_test_normts = np.array([(x.close - x.close.iloc[0]) / np.std(x.close) for x in X_test]).reshape((len(X_test), WINDOW_LONG, 1))\n",
    "    \n",
    "    X_train_normv = np.array([(x.volume - x.volume.iloc[0]) / np.std(x.volume) for x in X_train_b]).reshape((len(X_train_b), WINDOW_LONG, 1))\n",
    "    X_val_normvv = np.array([(x.volume - x.volume.iloc[0]) / np.std(x.volume) for x in X_val]).reshape((len(X_val), WINDOW_LONG, 1))\n",
    "    X_test_normv = np.array([(x.volume - x.volume.iloc[0]) / np.std(x.volume) for x in X_test]).reshape((len(X_test), WINDOW_LONG, 1))\n",
    "  \n",
    "    X_train = np.array([x[features].fillna(0.).values.tolist() for x in X_train_b]) \n",
    "    X_val = np.array([x[features].fillna(0.).values.tolist() for x in X_val])\n",
    "    X_test = np.array([x[features].fillna(0.).values.tolist() for x in X_test])\n",
    "\n",
    "    X_train = np.concatenate((X_train, X_train_normts, X_train_normv), axis = -1)\n",
    "    X_val = np.concatenate((X_val, X_val_normts, X_val_normvv), axis = -1)\n",
    "    X_test = np.concatenate((X_test, X_test_normts, X_test_normv), axis = -1)\n",
    "    \n",
    "    return X_train, X_val, X_test"
   ]
  },
  {
   "cell_type": "code",
   "execution_count": 17,
   "metadata": {
    "collapsed": true
   },
   "outputs": [],
   "source": [
    "def get_class_weights(y):\n",
    "    y = [np.argmax(x) for x in y]\n",
    "    counter = Counter(y)\n",
    "    majority = max(counter.values())\n",
    "    return  {cls: round(float(majority)/float(count), 2) for cls, count in counter.items()}"
   ]
  },
  {
   "cell_type": "markdown",
   "metadata": {},
   "source": [
    "# Fixed horizon"
   ]
  },
  {
   "cell_type": "code",
   "execution_count": 18,
   "metadata": {
    "collapsed": true,
    "scrolled": true
   },
   "outputs": [],
   "source": [
    "X, labels = [], []\n",
    "for i in range(WINDOW_LONG, N_BARS, 1):\n",
    "    \n",
    "    window = tick_bars.iloc[i-WINDOW_LONG:i]\n",
    "#     window = tick_bars.iloc[i]\n",
    "    now = tick_bars.close[i]\n",
    "    future = tick_bars.close[i+HORIZON]\n",
    "    ret = (future - now) / now\n",
    "    \n",
    "    X.append(window)\n",
    "    if ret > T:\n",
    "        labels.append(1)\n",
    "    elif ret < -T:\n",
    "        labels.append(-1)\n",
    "    else:\n",
    "        labels.append(0)"
   ]
  },
  {
   "cell_type": "code",
   "execution_count": 19,
   "metadata": {},
   "outputs": [
    {
     "data": {
      "image/png": "[encoded data removed]",
      "text/plain": [
       "<Figure size 432x288 with 1 Axes>"
      ]
     },
     "metadata": {},
     "output_type": "display_data"
    }
   ],
   "source": [
    "plt.figure()\n",
    "plt.hist(labels, bins = 5, alpha = 0.7)\n",
    "plt.show()"
   ]
  },
  {
   "cell_type": "code",
   "execution_count": 20,
   "metadata": {
    "collapsed": true
   },
   "outputs": [],
   "source": [
    "X_train, X_val, X_test = X[:int(len(X) * 0.5)], X[int(len(X) * 0.6):int(len(X) * 0.7)], X[int(len(X) * 0.8):]\n",
    "Y_train, Y_val, Y_test = labels[:int(len(X) * 0.5)], labels[int(len(X) * 0.6):int(len(X) * 0.7)], labels[int(len(X) * 0.8):]\n",
    "\n",
    "lbr = LabelBinarizer()\n",
    "Y_train = lbr.fit_transform(Y_train)\n",
    "Y_val = lbr.transform(Y_val)\n",
    "Y_test = lbr.transform(Y_test)\n",
    "\n",
    "X_train, X_val, X_test = make_features_from_window(X_train, X_val, X_test, FEATURES)"
   ]
  },
  {
   "cell_type": "code",
   "execution_count": 21,
   "metadata": {
    "scrolled": true
   },
   "outputs": [
    {
     "name": "stdout",
     "output_type": "stream",
     "text": [
      "_________________________________________________________________\n",
      "Layer (type)                 Output Shape              Param #   \n",
      "=================================================================\n",
      "main_input (InputLayer)      (None, 100, 3)            0         \n",
      "_________________________________________________________________\n",
      "flatten_1 (Flatten)          (None, 300)               0         \n",
      "_________________________________________________________________\n",
      "dropout_1 (Dropout)          (None, 300)               0         \n",
      "_________________________________________________________________\n",
      "dense_1 (Dense)              (None, 3)                 903       \n",
      "=================================================================\n",
      "Total params: 903\n",
      "Trainable params: 903\n",
      "Non-trainable params: 0\n",
      "_________________________________________________________________\n",
      "Train on 31950 samples, validate on 6390 samples\n",
      "Epoch 1/100\n",
      "31950/31950 [==============================] - 6s 179us/step - loss: 4.1670 - acc: 0.3157 - val_loss: 1.4236 - val_acc: 0.2360\n",
      "Epoch 2/100\n",
      "31950/31950 [==============================] - 6s 179us/step - loss: 4.1343 - acc: 0.3158 - val_loss: 1.9156 - val_acc: 0.1768\n",
      "Epoch 3/100\n",
      "31950/31950 [==============================] - 6s 177us/step - loss: 4.1417 - acc: 0.3126 - val_loss: 1.6744 - val_acc: 0.2171\n",
      "Epoch 4/100\n",
      "31950/31950 [==============================] - 6s 192us/step - loss: 4.2166 - acc: 0.3118 - val_loss: 1.3438 - val_acc: 0.3152\n",
      "Epoch 5/100\n",
      "31950/31950 [==============================] - 6s 189us/step - loss: 4.1442 - acc: 0.3108 - val_loss: 1.6506 - val_acc: 0.3433\n",
      "Epoch 6/100\n",
      "31950/31950 [==============================] - 5s 169us/step - loss: 4.1671 - acc: 0.3121 - val_loss: 1.5837 - val_acc: 0.2828\n",
      "Epoch 7/100\n",
      "31950/31950 [==============================] - 5s 163us/step - loss: 4.1246 - acc: 0.3140 - val_loss: 1.9486 - val_acc: 0.2042\n",
      "Epoch 8/100\n",
      "31950/31950 [==============================] - 5s 164us/step - loss: 4.1799 - acc: 0.3092 - val_loss: 1.5888 - val_acc: 0.2413\n",
      "Epoch 9/100\n",
      "31950/31950 [==============================] - 7s 207us/step - loss: 4.1771 - acc: 0.3120 - val_loss: 1.6529 - val_acc: 0.3759\n"
     ]
    }
   ],
   "source": [
    "def cnn(shape):\n",
    "    main_input = Input(shape=shape, name='main_input')\n",
    "    x = Flatten()(main_input)\n",
    "    x = Dropout(0.25)(x)\n",
    "    output = Dense(3, activation = \"softmax\")(x)\n",
    "    \n",
    "    final_model = Model(inputs=[main_input], outputs=[output])\n",
    "    return final_model\n",
    "\n",
    "model = cnn((WINDOW_LONG, len(X_train[0][0]), ))\n",
    "model.summary()\n",
    "\n",
    "model.compile(optimizer=Adam(lr = 0.01),  \n",
    "                        loss=['categorical_crossentropy'], \n",
    "                        metrics = ['accuracy'])\n",
    "\n",
    "checkpointer = ModelCheckpoint(filepath=\"test.hdf5\", verbose=0, save_best_only=True)\n",
    "es = EarlyStopping(monitor='val_loss', patience=5)\n",
    "\n",
    "history = model.fit(X_train, Y_train, \n",
    "              epochs = 100, \n",
    "              batch_size = 16, \n",
    "              verbose=True, \n",
    "              validation_data = (X_val, Y_val),\n",
    "              callbacks=[checkpointer, es],\n",
    "              shuffle=True, \n",
    "              class_weight = get_class_weights(np.concatenate((Y_train, Y_val)))\n",
    "                )\n",
    "\n",
    "model.load_weights(\"test.hdf5\")"
   ]
  },
  {
   "cell_type": "code",
   "execution_count": 22,
   "metadata": {
    "scrolled": true
   },
   "outputs": [
    {
     "name": "stdout",
     "output_type": "stream",
     "text": [
      "              precision    recall  f1-score   support\n",
      "\n",
      "           0       0.02      0.15      0.04       211\n",
      "           1       0.92      0.32      0.47      5934\n",
      "           2       0.04      0.41      0.06       245\n",
      "\n",
      "   micro avg       0.32      0.32      0.32      6390\n",
      "   macro avg       0.32      0.29      0.19      6390\n",
      "weighted avg       0.85      0.32      0.44      6390\n",
      "\n",
      "[[  32   83   96]\n",
      " [1413 1882 2639]\n",
      " [  57   88  100]]\n"
     ]
    },
    {
     "data": {
      "image/png": "[encoded data removed]",
      "text/plain": [
       "<Figure size 432x288 with 1 Axes>"
      ]
     },
     "metadata": {},
     "output_type": "display_data"
    },
    {
     "name": "stdout",
     "output_type": "stream",
     "text": [
      "              precision    recall  f1-score   support\n",
      "\n",
      "           0       0.07      0.22      0.10       899\n",
      "           1       0.87      0.33      0.47     11116\n",
      "           2       0.06      0.46      0.11       765\n",
      "\n",
      "   micro avg       0.33      0.33      0.33     12780\n",
      "   macro avg       0.33      0.33      0.23     12780\n",
      "weighted avg       0.76      0.33      0.43     12780\n",
      "\n",
      "[[ 194  283  422]\n",
      " [2542 3613 4961]\n",
      " [ 147  263  355]]\n"
     ]
    },
    {
     "data": {
      "image/png": "[encoded data removed]",
      "text/plain": [
       "<Figure size 432x288 with 1 Axes>"
      ]
     },
     "metadata": {},
     "output_type": "display_data"
    }
   ],
   "source": [
    "pred = model.predict(X_val)\n",
    "\n",
    "print classification_report([np.argmax(y) for y in Y_val],\n",
    "                            [np.argmax(y) for y in pred])\n",
    "\n",
    "print confusion_matrix([np.argmax(y) for y in Y_val],\n",
    "                            [np.argmax(y) for y in pred])\n",
    "\n",
    "plt.plot()\n",
    "plt.hist([np.argmax(y) for y in Y_val], bins = 5, alpha = 0.5, label = 'Test data')\n",
    "plt.hist([np.argmax(y) for y in pred], bins = 5, alpha = 0.5, label = 'Predicted data')\n",
    "plt.legend()\n",
    "plt.show()\n",
    "\n",
    "\n",
    "pred = model.predict(X_test)\n",
    "\n",
    "print classification_report([np.argmax(y) for y in Y_test],\n",
    "                            [np.argmax(y) for y in pred])\n",
    "\n",
    "print confusion_matrix([np.argmax(y) for y in Y_test],\n",
    "                            [np.argmax(y) for y in pred])\n",
    "\n",
    "plt.plot()\n",
    "plt.hist([np.argmax(y) for y in Y_test], bins = 5, alpha = 0.5, label = 'Test data')\n",
    "plt.hist([np.argmax(y) for y in pred], bins = 5, alpha = 0.5, label = 'Predicted data')\n",
    "plt.legend()\n",
    "plt.show()"
   ]
  },
  {
   "cell_type": "code",
   "execution_count": 23,
   "metadata": {},
   "outputs": [
    {
     "data": {
      "text/plain": [
       "array([[0.27972084, 0.67968315, 0.04059596],\n",
       "       [0.49318126, 0.46420133, 0.04261736],\n",
       "       [0.05589748, 0.77083486, 0.1732677 ],\n",
       "       ...,\n",
       "       [0.676218  , 0.16055585, 0.16322614],\n",
       "       [0.20033889, 0.18110037, 0.61856073],\n",
       "       [0.05610908, 0.13044934, 0.8134416 ]], dtype=float32)"
      ]
     },
     "execution_count": 23,
     "metadata": {},
     "output_type": "execute_result"
    }
   ],
   "source": [
    "pred"
   ]
  },
  {
   "cell_type": "markdown",
   "metadata": {},
   "source": [
    "# Volatility horizon"
   ]
  },
  {
   "cell_type": "code",
   "execution_count": 24,
   "metadata": {
    "collapsed": true,
    "scrolled": true
   },
   "outputs": [],
   "source": [
    "X, labels = [], []\n",
    "for i in range(WINDOW_LONG, N_BARS, 1):\n",
    "    window = tick_bars.iloc[i-WINDOW_LONG:i]\n",
    "    now = tick_bars.close[i]\n",
    "    future = tick_bars.close[i+HORIZON]\n",
    "    ret = (future - now) / now\n",
    "    \n",
    "    window_abs_returns = np.abs(window.close.pct_change())\n",
    "    Ti = np.std(window_abs_returns) + np.mean(window_abs_returns)\n",
    "    \n",
    "    X.append(window)\n",
    "    if ret > Ti:\n",
    "        labels.append(1)\n",
    "    elif ret < -Ti:\n",
    "        labels.append(-1)\n",
    "    else:\n",
    "        labels.append(0)"
   ]
  },
  {
   "cell_type": "code",
   "execution_count": 25,
   "metadata": {},
   "outputs": [
    {
     "data": {
      "image/png": "[encoded data removed]",
      "text/plain": [
       "<Figure size 432x288 with 1 Axes>"
      ]
     },
     "metadata": {},
     "output_type": "display_data"
    }
   ],
   "source": [
    "plt.figure()\n",
    "plt.hist(labels, bins = 5, alpha = 0.7)\n",
    "plt.show()"
   ]
  },
  {
   "cell_type": "code",
   "execution_count": 26,
   "metadata": {
    "collapsed": true
   },
   "outputs": [],
   "source": [
    "X_train, X_val, X_test = X[:int(len(X) * 0.5)], X[int(len(X) * 0.6):int(len(X) * 0.7)], X[int(len(X) * 0.8):]\n",
    "Y_train, Y_val, Y_test = labels[:int(len(X) * 0.5)], labels[int(len(X) * 0.6):int(len(X) * 0.7)], labels[int(len(X) * 0.8):]\n",
    "\n",
    "lbr = LabelBinarizer()\n",
    "Y_train = lbr.fit_transform(Y_train)\n",
    "Y_val = lbr.transform(Y_val)\n",
    "Y_test = lbr.transform(Y_test)\n",
    "\n",
    "X_train, X_val, X_test = make_features_from_window(X_train, X_val, X_test, FEATURES)"
   ]
  },
  {
   "cell_type": "code",
   "execution_count": 27,
   "metadata": {
    "scrolled": true
   },
   "outputs": [
    {
     "name": "stdout",
     "output_type": "stream",
     "text": [
      "_________________________________________________________________\n",
      "Layer (type)                 Output Shape              Param #   \n",
      "=================================================================\n",
      "main_input (InputLayer)      (None, 100, 3)            0         \n",
      "_________________________________________________________________\n",
      "flatten_2 (Flatten)          (None, 300)               0         \n",
      "_________________________________________________________________\n",
      "dropout_2 (Dropout)          (None, 300)               0         \n",
      "_________________________________________________________________\n",
      "dense_2 (Dense)              (None, 3)                 903       \n",
      "=================================================================\n",
      "Total params: 903\n",
      "Trainable params: 903\n",
      "Non-trainable params: 0\n",
      "_________________________________________________________________\n",
      "Train on 31950 samples, validate on 6390 samples\n",
      "Epoch 1/100\n",
      "31950/31950 [==============================] - 6s 191us/step - loss: 1.9171 - acc: 0.3330 - val_loss: 1.4332 - val_acc: 0.3546\n",
      "Epoch 2/100\n",
      "31950/31950 [==============================] - 9s 281us/step - loss: 1.9045 - acc: 0.3363 - val_loss: 1.6701 - val_acc: 0.3302\n",
      "Epoch 3/100\n",
      "31950/31950 [==============================] - 7s 209us/step - loss: 1.8894 - acc: 0.3382 - val_loss: 1.3361 - val_acc: 0.3286\n",
      "Epoch 4/100\n",
      "31950/31950 [==============================] - 6s 187us/step - loss: 1.9157 - acc: 0.3359 - val_loss: 1.3701 - val_acc: 0.3094\n",
      "Epoch 5/100\n",
      "31950/31950 [==============================] - 7s 207us/step - loss: 1.9298 - acc: 0.3301 - val_loss: 1.5820 - val_acc: 0.3286\n",
      "Epoch 6/100\n",
      "31950/31950 [==============================] - 7s 205us/step - loss: 1.9317 - acc: 0.3339 - val_loss: 1.2592 - val_acc: 0.3457\n",
      "Epoch 7/100\n",
      "31950/31950 [==============================] - 7s 221us/step - loss: 1.8741 - acc: 0.3351 - val_loss: 1.4276 - val_acc: 0.3285\n",
      "Epoch 8/100\n",
      "31950/31950 [==============================] - 8s 243us/step - loss: 1.8851 - acc: 0.3326 - val_loss: 1.3108 - val_acc: 0.3088\n",
      "Epoch 9/100\n",
      "31950/31950 [==============================] - 6s 199us/step - loss: 1.9460 - acc: 0.3276 - val_loss: 1.4281 - val_acc: 0.3498\n",
      "Epoch 10/100\n",
      "31950/31950 [==============================] - 7s 234us/step - loss: 1.9420 - acc: 0.3289 - val_loss: 1.3733 - val_acc: 0.3743\n",
      "Epoch 11/100\n",
      "31950/31950 [==============================] - 7s 219us/step - loss: 1.9033 - acc: 0.3394 - val_loss: 1.3412 - val_acc: 0.3023\n"
     ]
    }
   ],
   "source": [
    "def cnn(shape):\n",
    "    main_input = Input(shape=shape, name='main_input')\n",
    "    x = Flatten()(main_input)\n",
    "    x = Dropout(0.25)(x)\n",
    "    output = Dense(3, activation = \"softmax\")(x)\n",
    "    \n",
    "    final_model = Model(inputs=[main_input], outputs=[output])\n",
    "    return final_model\n",
    "\n",
    "model = cnn((WINDOW_LONG, len(X_train[0][0]), ))\n",
    "model.summary()\n",
    "\n",
    "model.compile(optimizer=Adam(lr = 0.01),  \n",
    "                        loss=['categorical_crossentropy'], \n",
    "                        metrics = ['accuracy'])\n",
    "\n",
    "checkpointer = ModelCheckpoint(filepath=\"test.hdf5\", verbose=0, save_best_only=True)\n",
    "es = EarlyStopping(monitor='val_loss', patience=5)\n",
    "\n",
    "history = model.fit(X_train, Y_train, \n",
    "              epochs = 100, \n",
    "              batch_size = 16, \n",
    "              verbose=True, \n",
    "              validation_data = (X_val, Y_val),\n",
    "              callbacks=[checkpointer, es],\n",
    "              shuffle=True, \n",
    "              class_weight = get_class_weights(np.concatenate((Y_train, Y_val)))\n",
    "                )\n",
    "\n",
    "model.load_weights(\"test.hdf5\")"
   ]
  },
  {
   "cell_type": "code",
   "execution_count": 28,
   "metadata": {
    "scrolled": true
   },
   "outputs": [
    {
     "name": "stdout",
     "output_type": "stream",
     "text": [
      "              precision    recall  f1-score   support\n",
      "\n",
      "           0       0.33      0.29      0.31      2095\n",
      "           1       0.24      0.31      0.27      1518\n",
      "           2       0.44      0.41      0.42      2777\n",
      "\n",
      "   micro avg       0.35      0.35      0.35      6390\n",
      "   macro avg       0.34      0.34      0.33      6390\n",
      "weighted avg       0.36      0.35      0.35      6390\n",
      "\n",
      "[[ 603  680  812]\n",
      " [ 442  478  598]\n",
      " [ 810  839 1128]]\n"
     ]
    },
    {
     "data": {
      "image/png": "[encoded data removed]",
      "text/plain": [
       "<Figure size 432x288 with 1 Axes>"
      ]
     },
     "metadata": {},
     "output_type": "display_data"
    },
    {
     "name": "stdout",
     "output_type": "stream",
     "text": [
      "              precision    recall  f1-score   support\n",
      "\n",
      "           0       0.37      0.27      0.31      4922\n",
      "           1       0.24      0.33      0.28      2896\n",
      "           2       0.39      0.41      0.40      4962\n",
      "\n",
      "   micro avg       0.34      0.34      0.34     12780\n",
      "   macro avg       0.33      0.34      0.33     12780\n",
      "weighted avg       0.35      0.34      0.34     12780\n",
      "\n",
      "[[1317 1577 2028]\n",
      " [ 814  961 1121]\n",
      " [1443 1504 2015]]\n"
     ]
    },
    {
     "data": {
      "image/png": "[encoded data removed]",
      "text/plain": [
       "<Figure size 432x288 with 1 Axes>"
      ]
     },
     "metadata": {},
     "output_type": "display_data"
    }
   ],
   "source": [
    "pred = model.predict(X_val)\n",
    "\n",
    "print classification_report([np.argmax(y) for y in Y_val],\n",
    "                            [np.argmax(y) for y in pred])\n",
    "\n",
    "print confusion_matrix([np.argmax(y) for y in Y_val],\n",
    "                            [np.argmax(y) for y in pred])\n",
    "\n",
    "plt.plot()\n",
    "plt.hist([np.argmax(y) for y in Y_val], bins = 5, alpha = 0.5, label = 'Test data')\n",
    "plt.hist([np.argmax(y) for y in pred], bins = 5, alpha = 0.5, label = 'Predicted data')\n",
    "plt.legend()\n",
    "plt.show()\n",
    "\n",
    "\n",
    "pred = model.predict(X_test)\n",
    "\n",
    "print classification_report([np.argmax(y) for y in Y_test],\n",
    "                            [np.argmax(y) for y in pred])\n",
    "\n",
    "print confusion_matrix([np.argmax(y) for y in Y_test],\n",
    "                            [np.argmax(y) for y in pred])\n",
    "\n",
    "plt.plot()\n",
    "plt.hist([np.argmax(y) for y in Y_test], bins = 5, alpha = 0.5, label = 'Test data')\n",
    "plt.hist([np.argmax(y) for y in pred], bins = 5, alpha = 0.5, label = 'Predicted data')\n",
    "plt.legend()\n",
    "plt.show()"
   ]
  },
  {
   "cell_type": "code",
   "execution_count": 29,
   "metadata": {},
   "outputs": [
    {
     "name": "stdout",
     "output_type": "stream",
     "text": [
      "{0: 1.23, 1: 1.82, 2: 1.0}\n",
      "[-1  0  1]\n"
     ]
    }
   ],
   "source": [
    "print get_class_weights(np.concatenate((Y_train, Y_val)))\n",
    "print lbr.classes_"
   ]
  },
  {
   "cell_type": "markdown",
   "metadata": {},
   "source": [
    "# Meta labeling"
   ]
  },
  {
   "cell_type": "code",
   "execution_count": 30,
   "metadata": {
    "collapsed": true
   },
   "outputs": [],
   "source": [
    "def get_meta_barier(future_window, last_close, min_ret, tp, sl, vertical_zero = False):\n",
    "    '''\n",
    "        XXX\n",
    "    '''\n",
    "    if vertical_zero:\n",
    "        min_ret_situation = [0, 0, 0]\n",
    "    else:\n",
    "        min_ret_situation = [0, 0]\n",
    "        \n",
    "        \n",
    "    differences = np.array([(fc - last_close) / last_close for fc in future_window])\n",
    "    \n",
    "    # Are there gonna be fluctuations within min_ret???\n",
    "    min_ret_ups = np.where((differences >= min_ret) == True)[0]\n",
    "    min_ret_downs = np.where((differences < -min_ret) == True)[0]\n",
    "  \n",
    "    if (len(min_ret_ups) == 0) and (len(min_ret_downs) == 0):\n",
    "        if vertical_zero:\n",
    "            min_ret_situation[2] = 1\n",
    "        else:\n",
    "            if differences[-1] > 0:\n",
    "                min_ret_situation[0] = 1\n",
    "            else:\n",
    "                min_ret_situation[1] = 1            \n",
    "    else:\n",
    "        if len(min_ret_ups) == 0: min_ret_ups = [np.inf]\n",
    "        if len(min_ret_downs) == 0: min_ret_downs = [np.inf]\n",
    "        if min_ret_ups[0] > min_ret_downs[0]:\n",
    "            min_ret_situation[0] = 1\n",
    "        else:\n",
    "            min_ret_situation[1] = 1\n",
    "        \n",
    "    #  Take profit and stop losses indices\n",
    "    take_profit = np.where((differences >= tp) == True)[0]\n",
    "    stop_loss = np.where((differences < sl) == True)[0]\n",
    "    \n",
    "    # Fluctuation directions coincide with take profit / stop loss actions?\n",
    "    if min_ret_situation[0] == 1 and len(take_profit) != 0:\n",
    "        take_action = 1\n",
    "    elif min_ret_situation[1] == 1 and len(stop_loss) != 0:\n",
    "        take_action = 1\n",
    "    else:\n",
    "        take_action = 0.\n",
    "    \n",
    "    return min_ret_situation, take_action"
   ]
  },
  {
   "cell_type": "code",
   "execution_count": 31,
   "metadata": {
    "collapsed": true
   },
   "outputs": [],
   "source": [
    "TP = T\n",
    "SL = -T\n",
    "\n",
    "X, Y, Y2 = [], [], []\n",
    "for i in range(WINDOW_LONG, N_BARS, 1):\n",
    "    window = tick_bars.iloc[i-WINDOW_LONG:i]\n",
    "    now = tick_bars.close[i]\n",
    "    future_window = tick_bars.close[i:i+HORIZON]\n",
    "    \n",
    "    window_abs_returns = np.abs(window.close.pct_change())\n",
    "    Ti = np.std(window_abs_returns) + np.mean(window_abs_returns)\n",
    "    \n",
    "    min_ret_situation, take_action = get_meta_barier(future_window, now, Ti, TP, SL, True)\n",
    "    X.append(window)\n",
    "    Y.append(min_ret_situation)\n",
    "    Y2.append(take_action)"
   ]
  },
  {
   "cell_type": "code",
   "execution_count": 32,
   "metadata": {
    "scrolled": true
   },
   "outputs": [
    {
     "data": {
      "image/png": "[encoded data removed]",
      "text/plain": [
       "<Figure size 432x288 with 1 Axes>"
      ]
     },
     "metadata": {},
     "output_type": "display_data"
    }
   ],
   "source": [
    "plt.figure()\n",
    "plt.hist([np.argmax(x) for x in Y], alpha = 0.5, bins = 5)\n",
    "plt.show()"
   ]
  },
  {
   "cell_type": "code",
   "execution_count": 33,
   "metadata": {
    "collapsed": true
   },
   "outputs": [],
   "source": [
    "X_train, X_val, X_test = X[:int(len(X) * 0.5)], X[int(len(X) * 0.6):int(len(X) * 0.7)], X[int(len(X) * 0.8):]\n",
    "Y_train, Y_val, Y_test = Y[:int(len(X) * 0.5)], Y[int(len(X) * 0.6):int(len(X) * 0.7)], Y[int(len(X) * 0.8):]\n",
    "\n",
    "X_train, X_val, X_test = make_features_from_window(X_train, X_val, X_test, FEATURES)"
   ]
  },
  {
   "cell_type": "code",
   "execution_count": 34,
   "metadata": {
    "collapsed": true
   },
   "outputs": [],
   "source": [
    "Y_train, Y_val, Y_test = np.array(Y_train), np.array(Y_val), np.array(Y_test)"
   ]
  },
  {
   "cell_type": "code",
   "execution_count": 35,
   "metadata": {
    "scrolled": true
   },
   "outputs": [
    {
     "name": "stdout",
     "output_type": "stream",
     "text": [
      "_________________________________________________________________\n",
      "Layer (type)                 Output Shape              Param #   \n",
      "=================================================================\n",
      "main_input (InputLayer)      (None, 100, 3)            0         \n",
      "_________________________________________________________________\n",
      "flatten_3 (Flatten)          (None, 300)               0         \n",
      "_________________________________________________________________\n",
      "dropout_3 (Dropout)          (None, 300)               0         \n",
      "_________________________________________________________________\n",
      "dense_3 (Dense)              (None, 3)                 903       \n",
      "=================================================================\n",
      "Total params: 903\n",
      "Trainable params: 903\n",
      "Non-trainable params: 0\n",
      "_________________________________________________________________\n",
      "Train on 31950 samples, validate on 6390 samples\n",
      "Epoch 1/100\n",
      "31950/31950 [==============================] - 6s 203us/step - loss: 3.2392 - acc: 0.3451 - val_loss: 2.1423 - val_acc: 0.3293\n",
      "Epoch 2/100\n",
      "31950/31950 [==============================] - 6s 196us/step - loss: 3.3246 - acc: 0.3436 - val_loss: 1.1839 - val_acc: 0.3764\n",
      "Epoch 3/100\n",
      "31950/31950 [==============================] - 6s 196us/step - loss: 3.2117 - acc: 0.3480 - val_loss: 1.4006 - val_acc: 0.3388\n",
      "Epoch 4/100\n",
      "31950/31950 [==============================] - 8s 249us/step - loss: 3.5023 - acc: 0.3459 - val_loss: 1.4190 - val_acc: 0.3488\n",
      "Epoch 5/100\n",
      "31950/31950 [==============================] - 6s 174us/step - loss: 3.3483 - acc: 0.3546 - val_loss: 1.2302 - val_acc: 0.3831\n",
      "Epoch 6/100\n",
      "31950/31950 [==============================] - 6s 179us/step - loss: 3.1861 - acc: 0.3443 - val_loss: 1.7920 - val_acc: 0.3286\n",
      "Epoch 7/100\n",
      "31950/31950 [==============================] - 6s 176us/step - loss: 3.2031 - acc: 0.3422 - val_loss: 4.6242 - val_acc: 0.2419\n"
     ]
    }
   ],
   "source": [
    "def cnn(shape):\n",
    "    main_input = Input(shape=shape, name='main_input')\n",
    "    x = Flatten()(main_input)\n",
    "    x = Dropout(0.25)(x)\n",
    "    output = Dense(3, activation = \"softmax\")(x)\n",
    "    \n",
    "    final_model = Model(inputs=[main_input], outputs=[output])\n",
    "    return final_model\n",
    "\n",
    "model = cnn((WINDOW_LONG, len(X_train[0][0]), ))\n",
    "model.summary()\n",
    "\n",
    "model.compile(optimizer=Adam(lr = 0.01),  \n",
    "                        loss=['categorical_crossentropy'], \n",
    "                        metrics = ['accuracy'])\n",
    "\n",
    "checkpointer = ModelCheckpoint(filepath=\"test.hdf5\", verbose=0, save_best_only=True)\n",
    "es = EarlyStopping(monitor='val_loss', patience=5)\n",
    "\n",
    "history = model.fit(X_train, Y_train, \n",
    "              epochs = 100, \n",
    "              batch_size = 16, \n",
    "              verbose=True, \n",
    "              validation_data = (X_val, Y_val),\n",
    "              callbacks=[checkpointer, es],\n",
    "              shuffle=True, \n",
    "              class_weight = get_class_weights(np.concatenate((Y_train, Y_val)))\n",
    "                )\n",
    "\n",
    "model.load_weights(\"test.hdf5\")"
   ]
  },
  {
   "cell_type": "code",
   "execution_count": 36,
   "metadata": {
    "scrolled": true
   },
   "outputs": [
    {
     "name": "stdout",
     "output_type": "stream",
     "text": [
      "              precision    recall  f1-score   support\n",
      "\n",
      "           0       0.44      0.39      0.41      2865\n",
      "           1       0.52      0.37      0.43      3307\n",
      "           2       0.04      0.25      0.06       218\n",
      "\n",
      "   micro avg       0.38      0.38      0.38      6390\n",
      "   macro avg       0.33      0.34      0.30      6390\n",
      "weighted avg       0.47      0.38      0.41      6390\n",
      "\n",
      "[[1130 1066  669]\n",
      " [1362 1221  724]\n",
      " [ 101   63   54]]\n"
     ]
    },
    {
     "data": {
      "image/png": "[encoded data removed]",
      "text/plain": [
       "<Figure size 432x288 with 1 Axes>"
      ]
     },
     "metadata": {},
     "output_type": "display_data"
    },
    {
     "name": "stdout",
     "output_type": "stream",
     "text": [
      "              precision    recall  f1-score   support\n",
      "\n",
      "           0       0.49      0.41      0.45      6225\n",
      "           1       0.49      0.38      0.43      6189\n",
      "           2       0.03      0.23      0.05       366\n",
      "\n",
      "   micro avg       0.39      0.39      0.39     12780\n",
      "   macro avg       0.34      0.34      0.31     12780\n",
      "weighted avg       0.48      0.39      0.43     12780\n",
      "\n",
      "[[2541 2329 1355]\n",
      " [2491 2364 1334]\n",
      " [ 142  138   86]]\n"
     ]
    },
    {
     "data": {
      "image/png": "[encoded data removed]",
      "text/plain": [
       "<Figure size 432x288 with 1 Axes>"
      ]
     },
     "metadata": {},
     "output_type": "display_data"
    }
   ],
   "source": [
    "pred = model.predict(X_val)\n",
    "\n",
    "print classification_report([np.argmax(y) for y in Y_val],\n",
    "                            [np.argmax(y) for y in pred])\n",
    "\n",
    "print confusion_matrix([np.argmax(y) for y in Y_val],\n",
    "                            [np.argmax(y) for y in pred])\n",
    "\n",
    "plt.plot()\n",
    "plt.hist([np.argmax(y) for y in Y_val], bins = 5, alpha = 0.5, label = 'Test data')\n",
    "plt.hist([np.argmax(y) for y in pred], bins = 5, alpha = 0.5, label = 'Predicted data')\n",
    "plt.legend()\n",
    "plt.show()\n",
    "\n",
    "\n",
    "pred = model.predict(X_test)\n",
    "\n",
    "print classification_report([np.argmax(y) for y in Y_test],\n",
    "                            [np.argmax(y) for y in pred])\n",
    "\n",
    "print confusion_matrix([np.argmax(y) for y in Y_test],\n",
    "                            [np.argmax(y) for y in pred])\n",
    "\n",
    "plt.plot()\n",
    "plt.hist([np.argmax(y) for y in Y_test], bins = 5, alpha = 0.5, label = 'Test data')\n",
    "plt.hist([np.argmax(y) for y in pred], bins = 5, alpha = 0.5, label = 'Predicted data')\n",
    "plt.legend()\n",
    "plt.show()"
   ]
  },
  {
   "cell_type": "code",
   "execution_count": 37,
   "metadata": {
    "collapsed": true,
    "scrolled": true
   },
   "outputs": [],
   "source": [
    "X_train, X_val, X_test = X[:int(len(X) * 0.5)], X[int(len(X) * 0.6):int(len(X) * 0.7)], X[int(len(X) * 0.8):]\n",
    "Y_train, Y_val, Y_test = Y2[:int(len(X) * 0.5)], Y2[int(len(X) * 0.6):int(len(X) * 0.7)], Y2[int(len(X) * 0.8):]\n",
    "\n",
    "X_train, X_val, X_test = make_features_from_window(X_train, X_val, X_test, FEATURES)\n",
    "P_train, P_val, P_test = model.predict(X_train), model.predict(X_val), model.predict(X_test)"
   ]
  },
  {
   "cell_type": "code",
   "execution_count": 38,
   "metadata": {
    "collapsed": true
   },
   "outputs": [],
   "source": [
    "Y_train = np.array([[1, 0] if x == 1 else [0, 1] for x in Y_train])\n",
    "Y_val = np.array([[1, 0] if x == 1 else [0, 1] for x in Y_val])\n",
    "Y_test = np.array([[1, 0] if x == 1 else [0, 1] for x in Y_test])"
   ]
  },
  {
   "cell_type": "code",
   "execution_count": 39,
   "metadata": {
    "scrolled": true
   },
   "outputs": [
    {
     "name": "stdout",
     "output_type": "stream",
     "text": [
      "__________________________________________________________________________________________________\n",
      "Layer (type)                    Output Shape         Param #     Connected to                     \n",
      "==================================================================================================\n",
      "main_input (InputLayer)         (None, 100, 3)       0                                            \n",
      "__________________________________________________________________________________________________\n",
      "flatten_4 (Flatten)             (None, 300)          0           main_input[0][0]                 \n",
      "__________________________________________________________________________________________________\n",
      "dropout_4 (Dropout)             (None, 300)          0           flatten_4[0][0]                  \n",
      "__________________________________________________________________________________________________\n",
      "meta (InputLayer)               (None, 3)            0                                            \n",
      "__________________________________________________________________________________________________\n",
      "concatenate_1 (Concatenate)     (None, 303)          0           dropout_4[0][0]                  \n",
      "                                                                 meta[0][0]                       \n",
      "__________________________________________________________________________________________________\n",
      "dense_4 (Dense)                 (None, 2)            608         concatenate_1[0][0]              \n",
      "==================================================================================================\n",
      "Total params: 608\n",
      "Trainable params: 608\n",
      "Non-trainable params: 0\n",
      "__________________________________________________________________________________________________\n",
      "Train on 31950 samples, validate on 12780 samples\n",
      "Epoch 1/100\n",
      "31950/31950 [==============================] - 6s 198us/step - loss: 2.9098 - acc: 0.4804 - val_loss: 1.0998 - val_acc: 0.3777\n",
      "Epoch 2/100\n",
      "31950/31950 [==============================] - 5s 167us/step - loss: 2.8330 - acc: 0.4821 - val_loss: 1.3706 - val_acc: 0.3956\n",
      "Epoch 3/100\n",
      "31950/31950 [==============================] - 5s 156us/step - loss: 2.8462 - acc: 0.4787 - val_loss: 1.3436 - val_acc: 0.3833\n",
      "Epoch 4/100\n",
      "31950/31950 [==============================] - 5s 156us/step - loss: 2.9461 - acc: 0.4768 - val_loss: 1.5707 - val_acc: 0.4860\n",
      "Epoch 5/100\n",
      "31950/31950 [==============================] - 5s 157us/step - loss: 2.7058 - acc: 0.4846 - val_loss: 1.6371 - val_acc: 0.5117\n",
      "Epoch 6/100\n",
      "31950/31950 [==============================] - 5s 156us/step - loss: 2.9673 - acc: 0.4821 - val_loss: 1.9138 - val_acc: 0.3987\n"
     ]
    }
   ],
   "source": [
    "def cnn(shape):\n",
    "    main_input = Input(shape=shape, name='main_input')\n",
    "    aux_input = Input((3, ), name='meta')\n",
    "    \n",
    "    x = Flatten()(main_input)\n",
    "    x = Dropout(0.25)(x)\n",
    "    x = concatenate([x, aux_input])\n",
    "    output = Dense(2, activation = \"softmax\")(x)\n",
    "    \n",
    "    final_model = Model(inputs=[main_input, aux_input], outputs=[output])\n",
    "    return final_model\n",
    "\n",
    "\n",
    "model = cnn((WINDOW_LONG, len(X_train[0][0]), ))\n",
    "model.summary()\n",
    "\n",
    "model.compile(optimizer=Adam(lr = 0.01),  \n",
    "                        loss=['categorical_crossentropy'], \n",
    "                        metrics = ['accuracy'])\n",
    "\n",
    "checkpointer = ModelCheckpoint(filepath=\"test.hdf5\", verbose=0, save_best_only=True)\n",
    "es = EarlyStopping(monitor='val_loss', patience=5)\n",
    "\n",
    "history = model.fit([X_train, P_train], Y_train, \n",
    "              epochs = 100, \n",
    "              batch_size = 16, \n",
    "              verbose=True, \n",
    "              validation_data = ([X_test, P_test], Y_test),\n",
    "              callbacks=[checkpointer, es],\n",
    "              shuffle=True, \n",
    "              class_weight = get_class_weights(np.concatenate((Y_train, Y_val))))\n",
    "\n",
    "model.load_weights(\"test.hdf5\")"
   ]
  },
  {
   "cell_type": "code",
   "execution_count": 40,
   "metadata": {
    "scrolled": true
   },
   "outputs": [
    {
     "name": "stdout",
     "output_type": "stream",
     "text": [
      "              precision    recall  f1-score   support\n",
      "\n",
      "           0       0.02      0.59      0.03       120\n",
      "           1       0.98      0.38      0.55      6270\n",
      "\n",
      "   micro avg       0.38      0.38      0.38      6390\n",
      "   macro avg       0.50      0.49      0.29      6390\n",
      "weighted avg       0.96      0.38      0.54      6390\n",
      "\n",
      "[[  71   49]\n",
      " [3897 2373]]\n"
     ]
    },
    {
     "data": {
      "image/png": "[encoded data removed]",
      "text/plain": [
       "<Figure size 432x288 with 1 Axes>"
      ]
     },
     "metadata": {},
     "output_type": "display_data"
    },
    {
     "name": "stdout",
     "output_type": "stream",
     "text": [
      "              precision    recall  f1-score   support\n",
      "\n",
      "           0       0.03      0.62      0.05       360\n",
      "           1       0.97      0.37      0.54     12420\n",
      "\n",
      "   micro avg       0.38      0.38      0.38     12780\n",
      "   macro avg       0.50      0.50      0.30     12780\n",
      "weighted avg       0.94      0.38      0.52     12780\n",
      "\n",
      "[[ 225  135]\n",
      " [7818 4602]]\n"
     ]
    },
    {
     "data": {
      "image/png": "[encoded data removed]",
      "text/plain": [
       "<Figure size 432x288 with 1 Axes>"
      ]
     },
     "metadata": {},
     "output_type": "display_data"
    }
   ],
   "source": [
    "pred = model.predict([X_val, P_val])\n",
    "\n",
    "print classification_report([np.argmax(y) for y in Y_val],\n",
    "                            [np.argmax(y) for y in pred])\n",
    "\n",
    "print confusion_matrix([np.argmax(y) for y in Y_val],\n",
    "                            [np.argmax(y) for y in pred])\n",
    "\n",
    "plt.plot()\n",
    "plt.hist([np.argmax(y) for y in Y_val], bins = 5, alpha = 0.5, label = 'Test data')\n",
    "plt.hist([np.argmax(y) for y in pred], bins = 5, alpha = 0.5, label = 'Predicted data')\n",
    "plt.legend()\n",
    "plt.show()\n",
    "\n",
    "\n",
    "pred = model.predict([X_test, P_test])\n",
    "\n",
    "print classification_report([np.argmax(y) for y in Y_test],\n",
    "                            [np.argmax(y) for y in pred])\n",
    "\n",
    "print confusion_matrix([np.argmax(y) for y in Y_test],\n",
    "                            [np.argmax(y) for y in pred])\n",
    "\n",
    "plt.plot()\n",
    "plt.hist([np.argmax(y) for y in Y_test], bins = 5, alpha = 0.5, label = 'Test data')\n",
    "plt.hist([np.argmax(y) for y in pred], bins = 5, alpha = 0.5, label = 'Predicted data')\n",
    "plt.legend()\n",
    "plt.show()"
   ]
  },
  {
   "cell_type": "code",
   "execution_count": 41,
   "metadata": {},
   "outputs": [
    {
     "data": {
      "image/png": "[encoded data removed]",
      "text/plain": [
       "<Figure size 432x288 with 1 Axes>"
      ]
     },
     "metadata": {},
     "output_type": "display_data"
    }
   ],
   "source": [
    "plt.figure()\n",
    "plt.hist(pred, bins = 50)\n",
    "plt.show()"
   ]
  },
  {
   "cell_type": "code",
   "execution_count": 42,
   "metadata": {},
   "outputs": [
    {
     "data": {
      "text/plain": [
       "{0: 14.8, 1: 1.0}"
      ]
     },
     "execution_count": 42,
     "metadata": {},
     "output_type": "execute_result"
    }
   ],
   "source": [
    "get_class_weights(np.concatenate((Y_train, Y_val)))"
   ]
  }
 ],
 "metadata": {
  "kernelspec": {
   "display_name": "Python 2",
   "language": "python",
   "name": "python2"
  },
  "language_info": {
   "codemirror_mode": {
    "name": "ipython",
    "version": 2
   },
   "file_extension": ".py",
   "mimetype": "text/x-python",
   "name": "python",
   "nbconvert_exporter": "python",
   "pygments_lexer": "ipython2",
   "version": "2.7.14"
  }
 },
 "nbformat": 4,
 "nbformat_minor": 2
}
