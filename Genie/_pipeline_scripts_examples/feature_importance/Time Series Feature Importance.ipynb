{
 "cells": [
  {
   "cell_type": "code",
   "execution_count": 1,
   "metadata": {},
   "outputs": [],
   "source": [
    "from pandas_datareader import data as datareader\n",
    "import matplotlib.pyplot as plt\n",
    "import pandas as pd\n",
    "import numpy as np\n",
    "from datetime import timedelta\n",
    "import shap"
   ]
  },
  {
   "cell_type": "code",
   "execution_count": 2,
   "metadata": {},
   "outputs": [],
   "source": [
    "import warnings\n",
    "warnings.filterwarnings('ignore')"
   ]
  },
  {
   "cell_type": "markdown",
   "metadata": {},
   "source": [
    "# Data Loading"
   ]
  },
  {
   "cell_type": "code",
   "execution_count": 3,
   "metadata": {
    "scrolled": true
   },
   "outputs": [],
   "source": [
    "# tickers = ['SPX', 'IBM', 'TSLA', 'OIL', 'MSFT', 'AAPL', 'AMZN']\n",
    "tickers = ['AAPL']\n",
    "\n",
    "start_date = '2000-01-01'\n",
    "end_date = '2020-01-01'\n",
    "\n",
    "datasets = {}\n",
    "for ticker in tickers:\n",
    "    data = datareader.DataReader(ticker, 'yahoo', start_date, end_date)\n",
    "    datasets[ticker] = data"
   ]
  },
  {
   "cell_type": "markdown",
   "metadata": {},
   "source": [
    "# Feature extraction"
   ]
  },
  {
   "cell_type": "code",
   "execution_count": 4,
   "metadata": {},
   "outputs": [],
   "source": [
    "# ! pip3.6 install --upgrade mlfinlab&nstall numba\n",
    "# ! pip3.6 install TA-Lib"
   ]
  },
  {
   "cell_type": "code",
   "execution_count": 5,
   "metadata": {},
   "outputs": [],
   "source": [
    "from mlfinlab.features.fracdiff import frac_diff_ffd\n",
    "from utils import get_meta_barier, getDailyVol"
   ]
  },
  {
   "cell_type": "code",
   "execution_count": 6,
   "metadata": {},
   "outputs": [],
   "source": [
    "import talib"
   ]
  },
  {
   "cell_type": "code",
   "execution_count": 7,
   "metadata": {},
   "outputs": [],
   "source": [
    "% matplotlib inline"
   ]
  },
  {
   "cell_type": "code",
   "execution_count": 8,
   "metadata": {},
   "outputs": [],
   "source": [
    "WINDOW = 14\n",
    "HORIZON = 7"
   ]
  },
  {
   "cell_type": "code",
   "execution_count": 9,
   "metadata": {},
   "outputs": [],
   "source": [
    "data = datasets[tickers[0]]\n",
    "data.columns = [c.lower() for c in data.columns]\n",
    "frac_diff_series = frac_diff_ffd(pd.DataFrame(data['close']), 0.5, thresh=1e-4)"
   ]
  },
  {
   "cell_type": "code",
   "execution_count": 10,
   "metadata": {},
   "outputs": [
    {
     "data": {
      "text/plain": [
       "((5031, 1), (5031, 6))"
      ]
     },
     "execution_count": 10,
     "metadata": {},
     "output_type": "execute_result"
    }
   ],
   "source": [
    "frac_diff_series.shape, data.shape"
   ]
  },
  {
   "cell_type": "code",
   "execution_count": 11,
   "metadata": {},
   "outputs": [
    {
     "data": {
      "image/png": "[encoded data removed]",
      "text/plain": [
       "<Figure size 432x288 with 1 Axes>"
      ]
     },
     "metadata": {},
     "output_type": "display_data"
    }
   ],
   "source": [
    "plt.figure()\n",
    "plt.plot(data.close)\n",
    "plt.plot(frac_diff_series)\n",
    "plt.show()"
   ]
  },
  {
   "cell_type": "code",
   "execution_count": 12,
   "metadata": {},
   "outputs": [],
   "source": [
    "data['feat_mean_frac_close'] = frac_diff_series.rolling(WINDOW).mean()\n",
    "data['feat_std_frac_close'] = frac_diff_series.rolling(WINDOW).std()\n",
    "data['feat_skew_frac_close'] = frac_diff_series.rolling(WINDOW).skew()\n",
    "data['feat_kurt_frac_close'] = frac_diff_series.rolling(WINDOW).kurt()\n",
    "data['feat_autocorr_frac_close'] = frac_diff_series.rolling(WINDOW).apply(lambda x: x.autocorr(), raw=False)"
   ]
  },
  {
   "cell_type": "code",
   "execution_count": 13,
   "metadata": {
    "scrolled": true
   },
   "outputs": [],
   "source": [
    "data['feat_RSI_close'] = talib.RSI(data.close)\n",
    "data['feat_OBV_volume'] = talib.OBV(data.close, data.volume)\n",
    "data['feat_ATR_close'] = talib.ATR(data.high, data.low, data.close, WINDOW)\n",
    "data['feat_HT_DCPERIOD_close'] = talib.HT_DCPERIOD(data.close)\n",
    "data['feat_HT_DCPHASE_close'] = talib.HT_DCPHASE(data.close)"
   ]
  },
  {
   "cell_type": "code",
   "execution_count": 14,
   "metadata": {},
   "outputs": [],
   "source": [
    "data['feat_random1'] = np.random.normal(0, 1, size=(data.shape[0]))\n",
    "data['feat_random2'] = np.random.uniform(0, 1, size=(data.shape[0]))\n",
    "data['feat_random3'] = np.random.poisson(1, size=(data.shape[0]))\n",
    "data['feat_random4'] = np.random.binomial(1, 0.5, size=(data.shape[0]))\n",
    "data['feat_random5'] = np.random.logistic(0, 1, size=(data.shape[0]))"
   ]
  },
  {
   "cell_type": "markdown",
   "metadata": {},
   "source": [
    "# Dataset creation"
   ]
  },
  {
   "cell_type": "code",
   "execution_count": 15,
   "metadata": {},
   "outputs": [],
   "source": [
    "FEATURE_COLUMNS = [d for d in data.columns if 'feat_' in d]"
   ]
  },
  {
   "cell_type": "code",
   "execution_count": 16,
   "metadata": {},
   "outputs": [],
   "source": [
    "daily_vol = getDailyVol(data.close)"
   ]
  },
  {
   "cell_type": "code",
   "execution_count": 17,
   "metadata": {
    "scrolled": true
   },
   "outputs": [],
   "source": [
    "def create_dataset(data, daily_vol):\n",
    "    \n",
    "    TP = 0.01\n",
    "    SL = - TP\n",
    "\n",
    "    T, P, X, Y, Y2 = [], [], [], [], []\n",
    "    TIME = []\n",
    "    \n",
    "    for i in daily_vol.index:\n",
    "\n",
    "        window = data.loc[i][FEATURE_COLUMNS].values\n",
    "\n",
    "        if np.isnan(window).any():\n",
    "            continue\n",
    "\n",
    "        now = data.close[i]\n",
    "        future_window = data.loc[i:i + timedelta(days=HORIZON)].close\n",
    "\n",
    "        Ti = daily_vol.loc[i]\n",
    "\n",
    "        min_ret_situation, take_action, timings = get_meta_barier(future_window, now, Ti, TP, SL, False)\n",
    "\n",
    "        X.append(window)\n",
    "        Y.append(min_ret_situation)\n",
    "        Y2.append(take_action)\n",
    "        T.append(timings)\n",
    "        P.append(data.loc[i].close)\n",
    "        TIME.append(i)\n",
    "        \n",
    "    dataset_df = pd.DataFrame(np.array(X), columns = [FEATURE_COLUMNS], index = TIME)\n",
    "    dataset_df['bin'] = np.argmax(Y, axis=1)\n",
    "    dataset_df['t1'] = pd.Series(dataset_df.index, index = dataset_df.index)\n",
    "    dataset_df['w'] = 1. / len(Y)\n",
    "\n",
    "    X = dataset_df[FEATURE_COLUMNS]\n",
    "    Y = pd.Series(dataset_df['bin'].values.flatten().tolist(), index=X.index).to_frame('bin')\n",
    "    Y['w'] = 1./Y.shape[0]\n",
    "    Y['t1'] = pd.Series(Y.index, index = Y.index)\n",
    "    X.columns = FEATURE_COLUMNS\n",
    "    \n",
    "    return X, Y, T, P"
   ]
  },
  {
   "cell_type": "code",
   "execution_count": 18,
   "metadata": {},
   "outputs": [],
   "source": [
    "from datetime import datetime"
   ]
  },
  {
   "cell_type": "code",
   "execution_count": 19,
   "metadata": {},
   "outputs": [],
   "source": [
    "t = datetime.strptime('2010-01-01', '%Y-%m-%d') # 2017"
   ]
  },
  {
   "cell_type": "code",
   "execution_count": 20,
   "metadata": {
    "scrolled": true
   },
   "outputs": [],
   "source": [
    "X, Y, T, P = create_dataset(data[:t], daily_vol[:t])"
   ]
  },
  {
   "cell_type": "code",
   "execution_count": 21,
   "metadata": {
    "scrolled": true
   },
   "outputs": [],
   "source": [
    "X_oos, Y_oos, T_oos, P_oos = create_dataset(data[t:], daily_vol[t:])"
   ]
  },
  {
   "cell_type": "markdown",
   "metadata": {},
   "source": [
    "# Feature Importance"
   ]
  },
  {
   "cell_type": "code",
   "execution_count": 22,
   "metadata": {},
   "outputs": [],
   "source": [
    "from sklearn.tree import DecisionTreeClassifier\n",
    "from sklearn.ensemble import BaggingClassifier\n",
    "from sklearn.ensemble import RandomForestClassifier\n",
    "\n",
    "from sklearn.metrics import log_loss, accuracy_score\n",
    "from sklearn import model_selection\n",
    "\n",
    "from scipy.cluster.hierarchy import linkage, fcluster\n",
    "from itertools import product"
   ]
  },
  {
   "cell_type": "code",
   "execution_count": 23,
   "metadata": {
    "colab": {},
    "colab_type": "code",
    "id": "MYw5XNhK1T26"
   },
   "outputs": [],
   "source": [
    "def featImpMDI(fit, featNames):\n",
    "    # feat importance based on IS mean impurity reduction\n",
    "    df0 = {i:tree.feature_importances_ for i, tree in enumerate(fit.estimators_)}\n",
    "    \n",
    "    \n",
    "    df0 = pd.DataFrame.from_dict(df0, orient='index')\n",
    "    df0.columns = featNames\n",
    "\n",
    "    df0 = df0.replace(0, np.nan) # because max_features=1\n",
    "    imp = pd.concat({'mean': df0.mean(), 'std': df0.std() * df0.shape[0] ** -.5}, axis=1)\n",
    "    imp /= imp['mean'].sum()\n",
    "\n",
    "    return imp"
   ]
  },
  {
   "cell_type": "code",
   "execution_count": 24,
   "metadata": {
    "colab": {},
    "colab_type": "code",
    "id": "jp4sXxbG1oDm"
   },
   "outputs": [],
   "source": [
    "def featImpMDA(clf, X, y, cv, sample_weight, t1, pctEmbargo, scoring='accuracy'):\n",
    "    # feat importance based on OOS score reduction\n",
    "    if scoring not in ['neg_log_loss','accuracy']:\n",
    "        raise Exception('wrong scoring method.')\n",
    "\n",
    "    cvGen=PurgedKFold(n_splits=cv,t1=t1,pctEmbargo=pctEmbargo) # purged cv\n",
    "    scr0,scr1=pd.Series(),pd.DataFrame(columns=X.columns)\n",
    "\n",
    "    for i,(train,test) in enumerate(cvGen.split(X=X)):\n",
    "        \n",
    "        X0,y0,w0=X.iloc[train,:],y.iloc[train],sample_weight.iloc[train]\n",
    "        X1,y1,w1=X.iloc[test,:],y.iloc[test],sample_weight.iloc[test]\n",
    "        fit=clf.fit(X=X0,y=y0,sample_weight=w0.values)\n",
    "        pred=fit.predict(X1)\n",
    "        scr0.loc[i]=accuracy_score(y1,pred,sample_weight=w1.values)\n",
    "        for j in X.columns:\n",
    "\n",
    "            X1_=X1.copy(deep=True)\n",
    "            np.random.shuffle(X1_[j].values) # permutation of a single column\n",
    "\n",
    "            pred=fit.predict(X1_)\n",
    "            scr1.loc[i,j]=accuracy_score(y1,pred,sample_weight=w1.values)\n",
    "\n",
    "    imp=(-scr1).add(scr0,axis=0)\n",
    "    imp=imp/(1.-scr1)\n",
    "    imp=pd.concat({'mean':imp.mean(),'std':imp.std()*imp.shape[0]**-.5},axis=1)\n",
    "    return imp,scr0.mean()"
   ]
  },
  {
   "cell_type": "code",
   "execution_count": 25,
   "metadata": {
    "colab": {},
    "colab_type": "code",
    "id": "MRQIjb2x1ph2"
   },
   "outputs": [],
   "source": [
    "def auxFeatImpSFI(featNames, clf, trnsX, cont, scoring, cvGen):\n",
    "    imp = pd.DataFrame(columns=['mean','std'])\n",
    "    for featName in featNames:\n",
    "        df0 = cvScore(clf, X=trnsX[[featName]], y=cont['bin'], sample_weight=cont['w'], scoring=scoring, cvGen=cvGen)\n",
    "        imp.loc[featName,'mean'] = df0.mean()\n",
    "        imp.loc[featName,'std'] = df0.std()*df0.shape[0]**-.5\n",
    "    return imp"
   ]
  },
  {
   "cell_type": "code",
   "execution_count": 26,
   "metadata": {},
   "outputs": [],
   "source": [
    "def feat_imp_CFI_MDA(X, y, cv, sample_weight, t1, pctEmbargo = 0, scoring='accuracy', \n",
    "                     C = 2, minWLeaf = 0.0, max_samples = 1.0, n_estimators = 10):\n",
    "\n",
    "    def correlDist(corr):\n",
    "      # A distance matrix based on correlation, where 0<=d[i,j]<=1\n",
    "      # This is a proper distance metric\n",
    "      dist = ((1 - corr) / 2.)**.5  # distance matrix\n",
    "      return dist\n",
    "\n",
    "    def cluster_features():\n",
    "        dist_matrix = correlDist(X.corr())\n",
    "        link = linkage(dist_matrix, 'single')\n",
    "        clusters = fcluster(link, t = C, criterion='maxclust')\n",
    "        return clusters\n",
    "\n",
    "\n",
    "    def featImpMDA_clusterized(clf, X, y, cv, sample_weight, t1, pctEmbargo, scoring, cluster_subsets):\n",
    "        # feat importance based on OOS score reduction\n",
    "        if scoring not in ['neg_log_loss','accuracy']:\n",
    "            raise Exception('wrong scoring method.')\n",
    "\n",
    "        cvGen=PurgedKFold(n_splits=cv,t1=t1,pctEmbargo=pctEmbargo) # purged cv\n",
    "        scr0,scr1=pd.Series(),pd.DataFrame(columns=X.columns)\n",
    "\n",
    "        for i,(train,test) in enumerate(cvGen.split(X=X)):\n",
    "            X0,y0,w0=X.iloc[train,:],y.iloc[train],sample_weight.iloc[train]\n",
    "            X1,y1,w1=X.iloc[test,:],y.iloc[test],sample_weight.iloc[test]\n",
    "            fit=clf.fit(X=X0,y=y0,sample_weight=w0.values)\n",
    "            pred=fit.predict(X1)\n",
    "            scr0.loc[i]=accuracy_score(y1,pred,sample_weight=w1.values)\n",
    "            # for j in X.columns:\n",
    "            for j in cluster_subsets:\n",
    "\n",
    "                X1_=X1.copy(deep=True)\n",
    "\n",
    "                for ji in j:\n",
    "                    np.random.shuffle(X1_[ji].values) # permutation of a single column\n",
    "\n",
    "                pred=fit.predict(X1_)\n",
    "                scr1.loc[i,j]=accuracy_score(y1,pred,sample_weight=w1.values)\n",
    "\n",
    "        imp=(-scr1).add(scr0,axis=0)\n",
    "        imp=imp/(1.-scr1)\n",
    "        imp=pd.concat({'mean':imp.mean(),'std':imp.std()*imp.shape[0]**-.5},axis=1)\n",
    "        return imp,scr0.mean()\n",
    "\n",
    "    clusters = cluster_features()\n",
    "    cluster_subsets = [[f for c, f in zip(clusters, X.columns) if c == ci] for ci in range(1, C+1)]\n",
    "\n",
    "    n_jobs = -1\n",
    "    clf = DecisionTreeClassifier(criterion='entropy', \n",
    "                                 max_features=1, \n",
    "                                 class_weight='balanced', \n",
    "                                 min_weight_fraction_leaf=minWLeaf)\n",
    "    clf = BaggingClassifier(base_estimator = clf, \n",
    "                            n_estimators=n_estimators, \n",
    "                            max_features=1.,\n",
    "                            max_samples=max_samples,\n",
    "                            oob_score=True,\n",
    "                            n_jobs=n_jobs)\n",
    "    \n",
    "    fit = clf.fit(X=X,\n",
    "                  y=y,\n",
    "                  sample_weight=sample_weight.values)\n",
    "    \n",
    "    oob=fit.oob_score_\n",
    "\n",
    "    imp, oos = featImpMDA_clusterized(clf, X, y, cv, sample_weight, t1, pctEmbargo, scoring, cluster_subsets)\n",
    "\n",
    "    return imp, oob, oos"
   ]
  },
  {
   "cell_type": "code",
   "execution_count": 27,
   "metadata": {},
   "outputs": [],
   "source": [
    "def feat_imp_PCA(X):\n",
    "    cov_mat = np.cov(X.T)\n",
    "    eig_vals, eig_vecs = np.linalg.eig(cov_mat)\n",
    "    \n",
    "    # Make a list of (eigenvalue, eigenvector) tuples\n",
    "    eig_pairs = [(np.abs(eig_vals[i]), eig_vecs[:,i]) for i in range(len(eig_vals))]\n",
    "\n",
    "    eig_pairs_importance = pd.DataFrame(\n",
    "        data = {\n",
    "            'feature': X.columns,\n",
    "            'mean': [e[0] for e in eig_pairs],\n",
    "            'std': [0] * len(eig_pairs)\n",
    "        }\n",
    "    )\n",
    "    eig_pairs_importance = eig_pairs_importance.set_index('feature')\n",
    "    return eig_pairs_importance"
   ]
  },
  {
   "cell_type": "code",
   "execution_count": 28,
   "metadata": {},
   "outputs": [],
   "source": [
    "def shap_imp(clf, X):\n",
    "    explainer = shap.TreeExplainer(clf)\n",
    "    shap_values = explainer.shap_values(X)\n",
    "\n",
    "    fi0 = np.abs(shap_values[0]).mean(axis=0)\n",
    "    fi1 = np.abs(shap_values[1]).mean(axis=0)\n",
    "    fi = fi0 + fi1\n",
    "    imp = pd.DataFrame({\n",
    "        'feature': X.columns.tolist(),\n",
    "        'mean': fi\n",
    "    })\n",
    "    imp = imp.set_index('feature')\n",
    "\n",
    "    return imp"
   ]
  },
  {
   "cell_type": "code",
   "execution_count": 29,
   "metadata": {
    "colab": {},
    "colab_type": "code",
    "id": "9FKjEESG2Crm"
   },
   "outputs": [],
   "source": [
    "from sklearn.model_selection._split import _BaseKFold"
   ]
  },
  {
   "cell_type": "code",
   "execution_count": 30,
   "metadata": {
    "colab": {},
    "colab_type": "code",
    "id": "gOv65AjC177M"
   },
   "outputs": [],
   "source": [
    "class PurgedKFold(_BaseKFold):\n",
    "    '''\n",
    "    Extend KFold class to work with labels that span intervals\n",
    "    The train is purged of observations overlapping test-label intervals\n",
    "    Test set is assumed contiguous (shuffle=False), w/o training samples in between\n",
    "    '''\n",
    "    def __init__(self, n_splits=3, t1=None, pctEmbargo=0.):\n",
    "        if not isinstance(t1, pd.Series):\n",
    "            raise ValueError('Label Through Dates must be a pd.Series')\n",
    "        super(PurgedKFold,self).__init__(n_splits, shuffle=False, random_state=None)\n",
    "        self.t1 = t1\n",
    "        self.pctEmbargo = pctEmbargo\n",
    "\n",
    "\n",
    "    def split(self,X,y=None,groups=None):\n",
    "        if (X.index==self.t1.index).sum()!=len(self.t1):\n",
    "            raise ValueError('X and ThruDateValues must have the same index')\n",
    "        indices = np.arange(X.shape[0])\n",
    "        mbrg = int(X.shape[0] * self.pctEmbargo)\n",
    "        test_starts=[(i[0],i[-1]+1) for i in np.array_split(np.arange(X.shape[0]), self.n_splits)]\n",
    "        for i,j in test_starts:\n",
    "            t0 = self.t1.index[i] # start of test set\n",
    "            test_indices = indices[i:j]\n",
    "            maxT1Idx = self.t1.index.searchsorted(self.t1[test_indices].max())\n",
    "            train_indices = self.t1.index.searchsorted(self.t1[self.t1<=t0].index)\n",
    "            if maxT1Idx < X.shape[0]: # right train (with embargo)\n",
    "                train_indices = np.concatenate((train_indices, indices[maxT1Idx+mbrg:]))\n",
    "            yield train_indices,test_indices"
   ]
  },
  {
   "cell_type": "code",
   "execution_count": 31,
   "metadata": {
    "colab": {},
    "colab_type": "code",
    "id": "qPMF21G_46My"
   },
   "outputs": [],
   "source": [
    "def cvScore(clf,X,y,sample_weight,scoring='accuracy',t1=None,cv=None,cvGen=None, pctEmbargo=None):\n",
    "    if scoring not in ['neg_log_loss','accuracy']:\n",
    "        raise Exception('wrong scoring method.')\n",
    "    if cvGen is None:\n",
    "        cvGen = PurgedKFold(n_splits=cv, t1=t1, pctEmbargo=pctEmbargo) # purged\n",
    "    score=[]\n",
    "\n",
    "    for train,test in cvGen.split(X=X):\n",
    "        fit=clf.fit(X=X.iloc[train,:],y=y.iloc[train],\n",
    "        sample_weight=sample_weight.iloc[train].values)\n",
    "        pred=fit.predict(X.iloc[test,:])\n",
    "        score_=accuracy_score(y.iloc[test],pred,sample_weight=sample_weight.iloc[test].values)\n",
    "        score.append(score_)\n",
    "    return np.array(score)"
   ]
  },
  {
   "cell_type": "code",
   "execution_count": 32,
   "metadata": {
    "colab": {},
    "colab_type": "code",
    "id": "fYsFvpHoyup9"
   },
   "outputs": [],
   "source": [
    "def featImportance(trnsX,\n",
    "                   cont,\n",
    "                   n_estimators=1000,\n",
    "                   cv=10,\n",
    "                   max_samples=1.,\n",
    "                   numThreads=24,\n",
    "                   pctEmbargo=0,\n",
    "                   scoring='accuracy',\n",
    "                   method='SFI',\n",
    "                   minWLeaf=0.,\n",
    "                   **kargs):\n",
    "\n",
    "    n_jobs=(-1 if numThreads > 1 else 1)\n",
    "\n",
    "    clf = DecisionTreeClassifier(criterion='entropy', \n",
    "                                 max_features=1, \n",
    "                                 class_weight='balanced', \n",
    "                                 min_weight_fraction_leaf=minWLeaf)\n",
    "    clf = BaggingClassifier(base_estimator = clf, \n",
    "                            n_estimators=n_estimators, \n",
    "                            max_features=1.,\n",
    "                            max_samples=max_samples,\n",
    "                            oob_score=True,\n",
    "                            n_jobs=n_jobs)\n",
    "    \n",
    "    fit = clf.fit(X=trnsX,\n",
    "                  y=cont['bin'],\n",
    "                  sample_weight=cont['w'].values)\n",
    "    \n",
    "    oob=fit.oob_score_\n",
    "    \n",
    "    if method == 'MDI':\n",
    "        imp = featImpMDI(fit, featNames=trnsX.columns)\n",
    "        oos = cvScore(clf, \n",
    "                      X=trnsX, \n",
    "                      y=cont['bin'], \n",
    "                      cv=cv, \n",
    "                      sample_weight=cont['w'], \n",
    "                      t1 = cont['t1'],\n",
    "                      pctEmbargo=pctEmbargo,\n",
    "                      scoring=scoring).mean()\n",
    "    elif method == 'MDA':\n",
    "        imp, oos = featImpMDA(clf,\n",
    "                              X=trnsX,\n",
    "                              y=cont['bin'],\n",
    "                              cv=cv,\n",
    "                              sample_weight=cont['w'], \n",
    "                              t1 = cont['t1'], \n",
    "                              pctEmbargo=pctEmbargo, \n",
    "                              scoring=scoring)\n",
    "    elif method=='SFI':\n",
    "        cvGen=PurgedKFold(n_splits=cv,t1=cont['t1'],pctEmbargo=pctEmbargo)\n",
    "        oos=cvScore(clf,\n",
    "                    X=trnsX,\n",
    "                    y=cont['bin'],\n",
    "                    sample_weight=cont['w'],\n",
    "                    scoring=scoring,cvGen=cvGen).mean()\n",
    "        clf.n_jobs = 1\n",
    "        # imp=mpPandasObj(auxFeatImpSFI,('featNames',trnsX.columns),numThreads,\n",
    "        # clf=clf,trnsX=trnsX,cont=cont,scoring=scoring,cvGen=cvGen)\n",
    "        imp = auxFeatImpSFI(trnsX.columns, clf, trnsX, cont, scoring, cvGen)\n",
    "        \n",
    "    elif method == 'CFI':\n",
    "        C = 3\n",
    "        imp,oob,oos = feat_imp_CFI_MDA(trnsX, \n",
    "                               cont['bin'], \n",
    "                               cv, \n",
    "                               cont['w'], \n",
    "                               cont['t1'],\n",
    "                               pctEmbargo, scoring, C, minWLeaf, max_samples, n_estimators\n",
    "                               )\n",
    "        \n",
    "    elif method == 'SHAP':\n",
    "        clf = RandomForestClassifier()\n",
    "        clf.fit(X=trnsX,\n",
    "                  y=cont['bin'],\n",
    "                  sample_weight=cont['w'].values)\n",
    "\n",
    "        imp = shap_imp(clf, trnsX)\n",
    "        oos = None\n",
    "\n",
    "    elif method == 'PCA':\n",
    "        imp = feat_imp_PCA(trnsX)\n",
    "        oos = None\n",
    "        \n",
    "    return imp, oob, oos"
   ]
  },
  {
   "cell_type": "code",
   "execution_count": 33,
   "metadata": {},
   "outputs": [],
   "source": [
    "dict0={'minWLeaf': [0.],\n",
    "       'scoring': ['accuracy'],\n",
    "       'method': ['MDI','MDA','SFI','CFI','SHAP','PCA'],\n",
    "       'max_samples': [1.]}\n",
    "\n",
    "jobs, out = (dict(zip(dict0,i)) for i in product(*dict0.values())), []\n",
    "kargs = {'pathOut': './', 'n_estimators': 10, 'cv': 10}"
   ]
  },
  {
   "cell_type": "code",
   "execution_count": 34,
   "metadata": {
    "scrolled": true
   },
   "outputs": [
    {
     "name": "stdout",
     "output_type": "stream",
     "text": [
      "MDI_accuracy_0.00_1.0\n",
      "{'pathOut': './', 'n_estimators': 10, 'cv': 10, 'minWLeaf': 0.0, 'scoring': 'accuracy', 'method': 'MDI', 'max_samples': 1.0, 'simNum': 'MDI_accuracy_0.00_1.0'}\n",
      "MDA_accuracy_0.00_1.0\n",
      "{'pathOut': './', 'n_estimators': 10, 'cv': 10, 'minWLeaf': 0.0, 'scoring': 'accuracy', 'method': 'MDA', 'max_samples': 1.0, 'simNum': 'MDA_accuracy_0.00_1.0'}\n",
      "SFI_accuracy_0.00_1.0\n",
      "{'pathOut': './', 'n_estimators': 10, 'cv': 10, 'minWLeaf': 0.0, 'scoring': 'accuracy', 'method': 'SFI', 'max_samples': 1.0, 'simNum': 'SFI_accuracy_0.00_1.0'}\n",
      "CFI_accuracy_0.00_1.0\n",
      "{'pathOut': './', 'n_estimators': 10, 'cv': 10, 'minWLeaf': 0.0, 'scoring': 'accuracy', 'method': 'CFI', 'max_samples': 1.0, 'simNum': 'CFI_accuracy_0.00_1.0'}\n",
      "SHAP_accuracy_0.00_1.0\n",
      "{'pathOut': './', 'n_estimators': 10, 'cv': 10, 'minWLeaf': 0.0, 'scoring': 'accuracy', 'method': 'SHAP', 'max_samples': 1.0, 'simNum': 'SHAP_accuracy_0.00_1.0'}\n",
      "PCA_accuracy_0.00_1.0\n",
      "{'pathOut': './', 'n_estimators': 10, 'cv': 10, 'minWLeaf': 0.0, 'scoring': 'accuracy', 'method': 'PCA', 'max_samples': 1.0, 'simNum': 'PCA_accuracy_0.00_1.0'}\n"
     ]
    }
   ],
   "source": [
    "importances = []\n",
    "\n",
    "for job in jobs:\n",
    "\n",
    "    job['simNum'] = job['method'] + '_' + job['scoring'] + '_' + '%.2f'%job['minWLeaf'] +  '_' + str(job['max_samples'])\n",
    "    kargs.update(job)\n",
    "    print(job['simNum'])\n",
    "    print(kargs)\n",
    "\n",
    "    imp, oob, oos=featImportance(trnsX=X, cont=Y, pctEmbargo=0.1, **kargs)\n",
    "    importances.append(imp)\n",
    "    # plotFeatImportance(imp=imp,oob=oob,oos=oos,**kargs)\n",
    "\n",
    "    df0 = imp[['mean']]/imp['mean'].abs().sum()\n",
    "    df0['type'] = df0.index #[i[0] for i in df0.index]\n",
    "    df0 = df0.groupby('type')['mean'].sum().to_dict()\n",
    "    df0.update({'oob':oob,'oos':oos})\n",
    "    df0.update(job)\n",
    "\n",
    "    out.append(df0)\n",
    "    out_csv = pd.DataFrame(out).sort_values(['method','scoring','minWLeaf','max_samples'])\n",
    "    out_csv.to_csv(kargs['pathOut'] + 'stats.csv')"
   ]
  },
  {
   "cell_type": "markdown",
   "metadata": {},
   "source": [
    "# Importance visualization"
   ]
  },
  {
   "cell_type": "code",
   "execution_count": 35,
   "metadata": {},
   "outputs": [
    {
     "data": {
      "text/html": [
       "<div>\n",
       "<style scoped>\n",
       "    .dataframe tbody tr th:only-of-type {\n",
       "        vertical-align: middle;\n",
       "    }\n",
       "\n",
       "    .dataframe tbody tr th {\n",
       "        vertical-align: top;\n",
       "    }\n",
       "\n",
       "    .dataframe thead th {\n",
       "        text-align: right;\n",
       "    }\n",
       "</style>\n",
       "<table border=\"1\" class=\"dataframe\">\n",
       "  <thead>\n",
       "    <tr style=\"text-align: right;\">\n",
       "      <th></th>\n",
       "      <th>feat_ATR_close</th>\n",
       "      <th>feat_HT_DCPERIOD_close</th>\n",
       "      <th>feat_HT_DCPHASE_close</th>\n",
       "      <th>feat_OBV_volume</th>\n",
       "      <th>feat_RSI_close</th>\n",
       "      <th>feat_autocorr_frac_close</th>\n",
       "      <th>feat_kurt_frac_close</th>\n",
       "      <th>feat_mean_frac_close</th>\n",
       "      <th>feat_random1</th>\n",
       "      <th>feat_random2</th>\n",
       "      <th>...</th>\n",
       "      <th>feat_random5</th>\n",
       "      <th>feat_skew_frac_close</th>\n",
       "      <th>feat_std_frac_close</th>\n",
       "      <th>max_samples</th>\n",
       "      <th>method</th>\n",
       "      <th>minWLeaf</th>\n",
       "      <th>oob</th>\n",
       "      <th>oos</th>\n",
       "      <th>scoring</th>\n",
       "      <th>simNum</th>\n",
       "    </tr>\n",
       "  </thead>\n",
       "  <tbody>\n",
       "    <tr>\n",
       "      <th>3</th>\n",
       "      <td>7.293540e-02</td>\n",
       "      <td>7.293540e-02</td>\n",
       "      <td>7.293540e-02</td>\n",
       "      <td>7.293540e-02</td>\n",
       "      <td>7.293540e-02</td>\n",
       "      <td>7.293540e-02</td>\n",
       "      <td>7.293540e-02</td>\n",
       "      <td>0.072935</td>\n",
       "      <td>7.293540e-02</td>\n",
       "      <td>-6.912515e-03</td>\n",
       "      <td>...</td>\n",
       "      <td>7.293540e-02</td>\n",
       "      <td>7.293540e-02</td>\n",
       "      <td>0.072935</td>\n",
       "      <td>1.0</td>\n",
       "      <td>CFI</td>\n",
       "      <td>0.0</td>\n",
       "      <td>0.583152</td>\n",
       "      <td>0.528489</td>\n",
       "      <td>accuracy</td>\n",
       "      <td>CFI_accuracy_0.00_1.0</td>\n",
       "    </tr>\n",
       "    <tr>\n",
       "      <th>1</th>\n",
       "      <td>-1.337508e-02</td>\n",
       "      <td>2.961205e-02</td>\n",
       "      <td>-2.780746e-02</td>\n",
       "      <td>1.068063e-01</td>\n",
       "      <td>5.806998e-02</td>\n",
       "      <td>-3.442682e-02</td>\n",
       "      <td>-4.344001e-02</td>\n",
       "      <td>-0.007281</td>\n",
       "      <td>5.952835e-02</td>\n",
       "      <td>-7.389802e-02</td>\n",
       "      <td>...</td>\n",
       "      <td>-2.336262e-01</td>\n",
       "      <td>5.549487e-03</td>\n",
       "      <td>-0.190847</td>\n",
       "      <td>1.0</td>\n",
       "      <td>MDA</td>\n",
       "      <td>0.0</td>\n",
       "      <td>0.591403</td>\n",
       "      <td>0.518952</td>\n",
       "      <td>accuracy</td>\n",
       "      <td>MDA_accuracy_0.00_1.0</td>\n",
       "    </tr>\n",
       "    <tr>\n",
       "      <th>0</th>\n",
       "      <td>7.559227e-02</td>\n",
       "      <td>6.770376e-02</td>\n",
       "      <td>7.443687e-02</td>\n",
       "      <td>7.397828e-02</td>\n",
       "      <td>7.459550e-02</td>\n",
       "      <td>7.375698e-02</td>\n",
       "      <td>7.432938e-02</td>\n",
       "      <td>0.080570</td>\n",
       "      <td>7.161460e-02</td>\n",
       "      <td>7.519755e-02</td>\n",
       "      <td>...</td>\n",
       "      <td>7.414210e-02</td>\n",
       "      <td>7.183121e-02</td>\n",
       "      <td>0.071762</td>\n",
       "      <td>1.0</td>\n",
       "      <td>MDI</td>\n",
       "      <td>0.0</td>\n",
       "      <td>0.592271</td>\n",
       "      <td>0.531092</td>\n",
       "      <td>accuracy</td>\n",
       "      <td>MDI_accuracy_0.00_1.0</td>\n",
       "    </tr>\n",
       "    <tr>\n",
       "      <th>5</th>\n",
       "      <td>1.476454e-20</td>\n",
       "      <td>1.354210e-20</td>\n",
       "      <td>6.143694e-21</td>\n",
       "      <td>2.672941e-20</td>\n",
       "      <td>4.495837e-20</td>\n",
       "      <td>4.036255e-19</td>\n",
       "      <td>1.994035e-18</td>\n",
       "      <td>0.000000</td>\n",
       "      <td>3.511899e-21</td>\n",
       "      <td>1.153422e-21</td>\n",
       "      <td>...</td>\n",
       "      <td>3.189853e-23</td>\n",
       "      <td>1.234664e-16</td>\n",
       "      <td>1.000000</td>\n",
       "      <td>1.0</td>\n",
       "      <td>PCA</td>\n",
       "      <td>0.0</td>\n",
       "      <td>0.586192</td>\n",
       "      <td>NaN</td>\n",
       "      <td>accuracy</td>\n",
       "      <td>PCA_accuracy_0.00_1.0</td>\n",
       "    </tr>\n",
       "    <tr>\n",
       "      <th>2</th>\n",
       "      <td>6.816177e-02</td>\n",
       "      <td>6.638226e-02</td>\n",
       "      <td>6.620833e-02</td>\n",
       "      <td>6.700590e-02</td>\n",
       "      <td>6.666725e-02</td>\n",
       "      <td>6.850018e-02</td>\n",
       "      <td>6.684142e-02</td>\n",
       "      <td>0.070909</td>\n",
       "      <td>6.695224e-02</td>\n",
       "      <td>6.672390e-02</td>\n",
       "      <td>...</td>\n",
       "      <td>6.712492e-02</td>\n",
       "      <td>6.695248e-02</td>\n",
       "      <td>0.064662</td>\n",
       "      <td>1.0</td>\n",
       "      <td>SFI</td>\n",
       "      <td>0.0</td>\n",
       "      <td>0.590100</td>\n",
       "      <td>0.516350</td>\n",
       "      <td>accuracy</td>\n",
       "      <td>SFI_accuracy_0.00_1.0</td>\n",
       "    </tr>\n",
       "    <tr>\n",
       "      <th>4</th>\n",
       "      <td>9.281508e-02</td>\n",
       "      <td>6.687206e-02</td>\n",
       "      <td>7.658337e-02</td>\n",
       "      <td>1.248265e-01</td>\n",
       "      <td>6.585172e-02</td>\n",
       "      <td>6.484937e-02</td>\n",
       "      <td>7.695916e-02</td>\n",
       "      <td>0.121948</td>\n",
       "      <td>5.076410e-02</td>\n",
       "      <td>4.308980e-02</td>\n",
       "      <td>...</td>\n",
       "      <td>4.700593e-02</td>\n",
       "      <td>6.233050e-02</td>\n",
       "      <td>0.079034</td>\n",
       "      <td>1.0</td>\n",
       "      <td>SHAP</td>\n",
       "      <td>0.0</td>\n",
       "      <td>0.590968</td>\n",
       "      <td>NaN</td>\n",
       "      <td>accuracy</td>\n",
       "      <td>SHAP_accuracy_0.00_1.0</td>\n",
       "    </tr>\n",
       "  </tbody>\n",
       "</table>\n",
       "<p>6 rows × 22 columns</p>\n",
       "</div>"
      ],
      "text/plain": [
       "   feat_ATR_close  feat_HT_DCPERIOD_close  feat_HT_DCPHASE_close  \\\n",
       "3    7.293540e-02            7.293540e-02           7.293540e-02   \n",
       "1   -1.337508e-02            2.961205e-02          -2.780746e-02   \n",
       "0    7.559227e-02            6.770376e-02           7.443687e-02   \n",
       "5    1.476454e-20            1.354210e-20           6.143694e-21   \n",
       "2    6.816177e-02            6.638226e-02           6.620833e-02   \n",
       "4    9.281508e-02            6.687206e-02           7.658337e-02   \n",
       "\n",
       "   feat_OBV_volume  feat_RSI_close  feat_autocorr_frac_close  \\\n",
       "3     7.293540e-02    7.293540e-02              7.293540e-02   \n",
       "1     1.068063e-01    5.806998e-02             -3.442682e-02   \n",
       "0     7.397828e-02    7.459550e-02              7.375698e-02   \n",
       "5     2.672941e-20    4.495837e-20              4.036255e-19   \n",
       "2     6.700590e-02    6.666725e-02              6.850018e-02   \n",
       "4     1.248265e-01    6.585172e-02              6.484937e-02   \n",
       "\n",
       "   feat_kurt_frac_close  feat_mean_frac_close  feat_random1  feat_random2  \\\n",
       "3          7.293540e-02              0.072935  7.293540e-02 -6.912515e-03   \n",
       "1         -4.344001e-02             -0.007281  5.952835e-02 -7.389802e-02   \n",
       "0          7.432938e-02              0.080570  7.161460e-02  7.519755e-02   \n",
       "5          1.994035e-18              0.000000  3.511899e-21  1.153422e-21   \n",
       "2          6.684142e-02              0.070909  6.695224e-02  6.672390e-02   \n",
       "4          7.695916e-02              0.121948  5.076410e-02  4.308980e-02   \n",
       "\n",
       "            ...            feat_random5  feat_skew_frac_close  \\\n",
       "3           ...            7.293540e-02          7.293540e-02   \n",
       "1           ...           -2.336262e-01          5.549487e-03   \n",
       "0           ...            7.414210e-02          7.183121e-02   \n",
       "5           ...            3.189853e-23          1.234664e-16   \n",
       "2           ...            6.712492e-02          6.695248e-02   \n",
       "4           ...            4.700593e-02          6.233050e-02   \n",
       "\n",
       "   feat_std_frac_close  max_samples  method  minWLeaf       oob       oos  \\\n",
       "3             0.072935          1.0     CFI       0.0  0.583152  0.528489   \n",
       "1            -0.190847          1.0     MDA       0.0  0.591403  0.518952   \n",
       "0             0.071762          1.0     MDI       0.0  0.592271  0.531092   \n",
       "5             1.000000          1.0     PCA       0.0  0.586192       NaN   \n",
       "2             0.064662          1.0     SFI       0.0  0.590100  0.516350   \n",
       "4             0.079034          1.0    SHAP       0.0  0.590968       NaN   \n",
       "\n",
       "    scoring                  simNum  \n",
       "3  accuracy   CFI_accuracy_0.00_1.0  \n",
       "1  accuracy   MDA_accuracy_0.00_1.0  \n",
       "0  accuracy   MDI_accuracy_0.00_1.0  \n",
       "5  accuracy   PCA_accuracy_0.00_1.0  \n",
       "2  accuracy   SFI_accuracy_0.00_1.0  \n",
       "4  accuracy  SHAP_accuracy_0.00_1.0  \n",
       "\n",
       "[6 rows x 22 columns]"
      ]
     },
     "execution_count": 35,
     "metadata": {},
     "output_type": "execute_result"
    }
   ],
   "source": [
    "out_csv"
   ]
  },
  {
   "cell_type": "code",
   "execution_count": 36,
   "metadata": {
    "scrolled": true
   },
   "outputs": [
    {
     "name": "stdout",
     "output_type": "stream",
     "text": [
      "MDI\n",
      "MDA\n",
      "SFI\n",
      "CFI\n",
      "SHAP\n",
      "PCA\n"
     ]
    },
    {
     "data": {
      "image/png": "[encoded data removed]",
      "text/plain": [
       "<Figure size 432x288 with 1 Axes>"
      ]
     },
     "metadata": {},
     "output_type": "display_data"
    },
    {
     "data": {
      "image/png": "[encoded data removed]",
      "text/plain": [
       "<Figure size 432x288 with 1 Axes>"
      ]
     },
     "metadata": {},
     "output_type": "display_data"
    },
    {
     "data": {
      "image/png": "[encoded data removed]",
      "text/plain": [
       "<Figure size 432x288 with 1 Axes>"
      ]
     },
     "metadata": {},
     "output_type": "display_data"
    },
    {
     "data": {
      "image/png": "[encoded data removed]",
      "text/plain": [
       "<Figure size 432x288 with 1 Axes>"
      ]
     },
     "metadata": {},
     "output_type": "display_data"
    },
    {
     "data": {
      "image/png": "[encoded data removed]",
      "text/plain": [
       "<Figure size 432x288 with 1 Axes>"
      ]
     },
     "metadata": {},
     "output_type": "display_data"
    },
    {
     "data": {
      "image/png": "[encoded data removed]",
      "text/plain": [
       "<Figure size 432x288 with 1 Axes>"
      ]
     },
     "metadata": {},
     "output_type": "display_data"
    }
   ],
   "source": [
    "for name_i, importance_i in zip(dict0['method'], importances):\n",
    "    print(name_i)\n",
    "    importance_i.sort_values('mean').plot.barh()"
   ]
  },
  {
   "cell_type": "code",
   "execution_count": 37,
   "metadata": {},
   "outputs": [],
   "source": [
    "from scipy.stats import weightedtau"
   ]
  },
  {
   "cell_type": "code",
   "execution_count": 38,
   "metadata": {
    "scrolled": true
   },
   "outputs": [
    {
     "data": {
      "text/plain": [
       "WeightedTauResult(correlation=-0.10789805716617751, pvalue=nan)"
      ]
     },
     "execution_count": 38,
     "metadata": {},
     "output_type": "execute_result"
    }
   ],
   "source": [
    "weightedtau(importances[4]['mean'].values, importances[-1]['mean'].values**-1.)"
   ]
  },
  {
   "cell_type": "markdown",
   "metadata": {},
   "source": [
    "# OOS evaluation"
   ]
  },
  {
   "cell_type": "code",
   "execution_count": 53,
   "metadata": {},
   "outputs": [],
   "source": [
    "CUSTOM_IMPORTANT_FEATURES = [\n",
    "    'feat_mean_frac_close', \n",
    "    'feat_OBV_volume', \n",
    "    'feat_kurt_frac_close', \n",
    "    'feat_ATR_close', \n",
    "    'feat_std_frac_close', \n",
    "    'feat_HT_DCPERIOD_close'\n",
    "]"
   ]
  },
  {
   "cell_type": "code",
   "execution_count": 230,
   "metadata": {},
   "outputs": [],
   "source": [
    "from sklearn.metrics import log_loss, f1_score, matthews_corrcoef, roc_auc_score"
   ]
  },
  {
   "cell_type": "code",
   "execution_count": 233,
   "metadata": {},
   "outputs": [],
   "source": [
    "def cvScore2(clf,X,y,sample_weight,t1=None,cv=None,cvGen=None, pctEmbargo=None):\n",
    "\n",
    "    if cvGen is None:\n",
    "        cvGen = PurgedKFold(n_splits=cv, t1=t1, pctEmbargo=pctEmbargo) # purged\n",
    "        \n",
    "    scores_f1, scores_mmc, scores_corr = [], [], []\n",
    "\n",
    "    for train,test in cvGen.split(X=X):\n",
    "        \n",
    "        fit=clf.fit(X=X.iloc[train,:],y=y.iloc[train],\n",
    "        sample_weight=sample_weight.iloc[train].values)\n",
    "        \n",
    "        pred = fit.predict(X.iloc[test,:])\n",
    "        pred_p = fit.predict_proba(X.iloc[test,:])\n",
    "        \n",
    "        score_f1 = f1_score(y.iloc[test],pred,sample_weight=sample_weight.iloc[test].values)\n",
    "        score_mmc = matthews_corrcoef(y.iloc[test],pred,sample_weight=sample_weight.iloc[test].values)\n",
    "        score_corr = roc_auc_score(y.iloc[test],\n",
    "                                    pred_p[:, 1],)\n",
    "        \n",
    "        scores_f1.append(score_f1)\n",
    "        scores_mmc.append(score_mmc)\n",
    "        scores_corr.append(score_corr)\n",
    "        \n",
    "    return np.array(scores_f1), np.array(scores_mmc), np.array(scores_corr)"
   ]
  },
  {
   "cell_type": "code",
   "execution_count": 234,
   "metadata": {
    "scrolled": true
   },
   "outputs": [],
   "source": [
    "res_all_f1, res_all_mmc, res_all_corr = [], [], []\n",
    "res_normal_f1, res_normal_mmc, res_normal_corr = [], [], []\n",
    "\n",
    "for i in range(100):\n",
    "    lr = RandomForestClassifier()\n",
    "    scores_f1, scores_mmc, scores_corr = cvScore2(lr, \n",
    "                     X_oos, \n",
    "                     Y_oos['bin'], Y_oos['w'], \n",
    "                     Y_oos['t1'], \n",
    "                     5, None, 0.05)\n",
    "    res_all_f1.append(np.mean(scores_f1))\n",
    "    res_all_mmc.append(np.mean(scores_mmc))\n",
    "    res_all_corr.append(np.mean(scores_corr))\n",
    "\n",
    "    lr = RandomForestClassifier()\n",
    "    scores_f1, scores_mmc, scores_corr = cvScore2(lr, \n",
    "                     X_oos[CUSTOM_IMPORTANT_FEATURES], \n",
    "                     Y_oos['bin'], Y_oos['w'], \n",
    "                     Y_oos['t1'], \n",
    "                     5, None, 0.05)\n",
    "    res_normal_f1.append(np.mean(scores_f1))\n",
    "    res_normal_mmc.append(np.mean(scores_mmc))\n",
    "    res_normal_corr.append(np.mean(scores_corr))"
   ]
  },
  {
   "cell_type": "code",
   "execution_count": 235,
   "metadata": {
    "scrolled": true
   },
   "outputs": [
    {
     "data": {
      "image/png": "[encoded data removed]",
      "text/plain": [
       "<Figure size 432x288 with 1 Axes>"
      ]
     },
     "metadata": {},
     "output_type": "display_data"
    },
    {
     "data": {
      "image/png": "[encoded data removed]",
      "text/plain": [
       "<Figure size 432x288 with 1 Axes>"
      ]
     },
     "metadata": {},
     "output_type": "display_data"
    },
    {
     "data": {
      "image/png": "[encoded data removed]",
      "text/plain": [
       "<Figure size 432x288 with 1 Axes>"
      ]
     },
     "metadata": {},
     "output_type": "display_data"
    }
   ],
   "source": [
    "plt.figure()\n",
    "plt.hist(res_all_f1, alpha = 0.25, label = 'F1 score all features')\n",
    "plt.hist(res_normal_f1, alpha = 0.25, label = 'F1 score selected features')\n",
    "plt.axvline(np.mean(res_all_f1), color = 'blue', ls = '--')\n",
    "plt.axvline(np.mean(res_normal_f1), color = 'orange', ls = '--')\n",
    "plt.legend()\n",
    "plt.show()\n",
    "\n",
    "plt.figure()\n",
    "plt.hist(res_all_mmc, alpha = 0.25, label = 'MMC score all features')\n",
    "plt.hist(res_normal_mmc, alpha = 0.25, label = 'MMC score selected features')\n",
    "plt.axvline(np.mean(res_all_mmc), color = 'blue', ls = '--')\n",
    "plt.axvline(np.mean(res_normal_mmc), color = 'orange', ls = '--')\n",
    "plt.legend()\n",
    "plt.show()\n",
    "\n",
    "plt.figure()\n",
    "plt.hist(res_all_corr, alpha = 0.25, label = 'ROC-AUC score all features')\n",
    "plt.hist(res_normal_corr, alpha = 0.25, label = 'ROC-AUC score selected features')\n",
    "plt.axvline(np.mean(res_all_corr), color = 'blue', ls = '--')\n",
    "plt.axvline(np.mean(res_normal_corr), color = 'orange', ls = '--')\n",
    "plt.legend()\n",
    "plt.show()"
   ]
  }
 ],
 "metadata": {
  "kernelspec": {
   "display_name": "Python 3",
   "language": "python",
   "name": "python3"
  },
  "language_info": {
   "codemirror_mode": {
    "name": "ipython",
    "version": 3
   },
   "file_extension": ".py",
   "mimetype": "text/x-python",
   "name": "python",
   "nbconvert_exporter": "python",
   "pygments_lexer": "ipython3",
   "version": "3.6.5"
  }
 },
 "nbformat": 4,
 "nbformat_minor": 2
}
