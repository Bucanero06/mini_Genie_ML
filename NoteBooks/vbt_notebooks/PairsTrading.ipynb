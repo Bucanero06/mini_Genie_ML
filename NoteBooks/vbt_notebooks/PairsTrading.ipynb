{
 "cells": [
  {
   "cell_type": "markdown",
   "metadata": {},
   "source": [
    "In this example, we will compare development of a pairs trading strategy using backtrader and vectorbt."
   ]
  },
  {
   "cell_type": "code",
   "execution_count": 1,
   "metadata": {},
   "outputs": [],
   "source": [
    "import numpy as np\n",
    "import pandas as pd\n",
    "import datetime\n",
    "import collections\n",
    "import math\n",
    "import pytz"
   ]
  },
  {
   "cell_type": "code",
   "execution_count": 2,
   "metadata": {},
   "outputs": [],
   "source": [
    "import scipy.stats as st\n",
    "\n",
    "SYMBOL1 = 'PEP'\n",
    "SYMBOL2 = 'KO'\n",
    "FROMDATE = datetime.datetime(2017, 1, 1, tzinfo=pytz.utc)\n",
    "TODATE = datetime.datetime(2019, 1, 1, tzinfo=pytz.utc)\n",
    "PERIOD = 100\n",
    "CASH = 100000\n",
    "COMMPERC = 0.005  # 0.5%\n",
    "ORDER_PCT1 = 0.1\n",
    "ORDER_PCT2 = 0.1\n",
    "UPPER = st.norm.ppf(1 - 0.05 / 2)\n",
    "LOWER = -st.norm.ppf(1 - 0.05 / 2)\n",
    "MODE = 'OLS'  # OLS, log_return"
   ]
  },
  {
   "cell_type": "markdown",
   "metadata": {},
   "source": [
    "## Data"
   ]
  },
  {
   "cell_type": "code",
   "execution_count": 3,
   "metadata": {},
   "outputs": [
    {
     "data": {
      "application/vnd.jupyter.widget-view+json": {
       "model_id": "18fb97d1cd1e44e498b3ec732eca243e",
       "version_major": 2,
       "version_minor": 0
      },
      "text/plain": [
       "  0%|          | 0/2 [00:00<?, ?it/s]"
      ]
     },
     "metadata": {},
     "output_type": "display_data"
    }
   ],
   "source": [
    "import vectorbtpro as vbt\n",
    "\n",
    "start_date = FROMDATE.replace(tzinfo=pytz.utc)\n",
    "end_date = TODATE.replace(tzinfo=pytz.utc)\n",
    "data = vbt.YFData.fetch([SYMBOL1, SYMBOL2], start=start_date, end=end_date)\n",
    "data = data.loc[(data.wrapper.index >= start_date) & (data.wrapper.index < end_date)]"
   ]
  },
  {
   "cell_type": "code",
   "execution_count": 4,
   "metadata": {},
   "outputs": [
    {
     "name": "stdout",
     "output_type": "stream",
     "text": [
      "                                 Open        High        Low       Close  \\\n",
      "Date                                                                       \n",
      "2017-01-03 00:00:00+00:00   90.001847   90.130490  89.375760   89.753128   \n",
      "2018-12-31 00:00:00+00:00  100.727861  101.192418  99.580119  100.636772   \n",
      "\n",
      "                            Volume  Dividends  Stock Splits  \n",
      "Date                                                         \n",
      "2017-01-03 00:00:00+00:00  3741200        0.0             0  \n",
      "2018-12-31 00:00:00+00:00  5019100        0.0             0  \n",
      "                                Open       High        Low      Close  \\\n",
      "Date                                                                    \n",
      "2017-01-03 00:00:00+00:00  34.991651  35.253036  34.806152  35.244602   \n",
      "2018-12-31 00:00:00+00:00  42.820256  42.865339  42.342369  42.694019   \n",
      "\n",
      "                             Volume  Dividends  Stock Splits  \n",
      "Date                                                          \n",
      "2017-01-03 00:00:00+00:00  14711000        0.0             0  \n",
      "2018-12-31 00:00:00+00:00  10576300        0.0             0  \n"
     ]
    }
   ],
   "source": [
    "print(data.data[SYMBOL1].iloc[[0, -1]])\n",
    "print(data.data[SYMBOL2].iloc[[0, -1]])"
   ]
  },
  {
   "cell_type": "markdown",
   "metadata": {},
   "source": [
    "## backtrader"
   ]
  },
  {
   "cell_type": "markdown",
   "metadata": {},
   "source": [
    "Adapted version of https://github.com/mementum/backtrader/blob/master/contrib/samples/pair-trading/pair-trading.py"
   ]
  },
  {
   "cell_type": "code",
   "execution_count": 5,
   "metadata": {},
   "outputs": [],
   "source": [
    "import backtrader as bt\n",
    "import backtrader.feeds as btfeeds\n",
    "import backtrader.indicators as btind\n",
    "\n",
    "class CommInfoFloat(bt.CommInfoBase):\n",
    "    \"\"\"Commission schema that keeps size as float.\"\"\"\n",
    "    params = (\n",
    "        ('stocklike', True),\n",
    "        ('commtype', bt.CommInfoBase.COMM_PERC),\n",
    "        ('percabs', True),\n",
    "      )\n",
    "    \n",
    "    def getsize(self, price, cash):\n",
    "        if not self._stocklike:\n",
    "            return self.p.leverage * (cash / self.get_margin(price))\n",
    "\n",
    "        return self.p.leverage * (cash / price)\n",
    "    \n",
    "class OLSSlopeIntercept(btind.PeriodN):\n",
    "    \"\"\"Calculates a linear regression using OLS.\"\"\"\n",
    "    _mindatas = 2  # ensure at least 2 data feeds are passed\n",
    "\n",
    "    packages = (\n",
    "        ('pandas', 'pd'),\n",
    "        ('statsmodels.api', 'sm'),\n",
    "    )\n",
    "    lines = ('slope', 'intercept',)\n",
    "    params = (\n",
    "        ('period', 10),\n",
    "    )\n",
    "\n",
    "    def next(self):\n",
    "        p0 = pd.Series(self.data0.get(size=self.p.period))\n",
    "        p1 = pd.Series(self.data1.get(size=self.p.period))\n",
    "        p1 = sm.add_constant(p1)\n",
    "        intercept, slope = sm.OLS(p0, p1).fit().params\n",
    "\n",
    "        self.lines.slope[0] = slope\n",
    "        self.lines.intercept[0] = intercept\n",
    "        \n",
    "        \n",
    "class Log(btind.Indicator):\n",
    "    \"\"\"Calculates log.\"\"\"\n",
    "    lines = ('log',)\n",
    "    \n",
    "    def next(self):\n",
    "        self.l.log[0] = math.log(self.data[0])\n",
    "\n",
    "\n",
    "class OLSSpread(btind.PeriodN):\n",
    "    \"\"\"Calculates the z-score of the OLS spread.\"\"\"\n",
    "    _mindatas = 2  # ensure at least 2 data feeds are passed\n",
    "    lines = ('spread', 'spread_mean', 'spread_std', 'zscore',)\n",
    "    params = (('period', 10),)\n",
    "\n",
    "    def __init__(self):\n",
    "        data0_log = Log(self.data0)\n",
    "        data1_log = Log(self.data1)\n",
    "        slint = OLSSlopeIntercept(data0_log, data1_log, period=self.p.period)\n",
    "\n",
    "        spread = data0_log - (slint.slope * data1_log + slint.intercept)\n",
    "        self.l.spread = spread\n",
    "\n",
    "        self.l.spread_mean = bt.ind.SMA(spread, period=self.p.period)\n",
    "        self.l.spread_std = bt.ind.StdDev(spread, period=self.p.period)\n",
    "        self.l.zscore = (spread - self.l.spread_mean) / self.l.spread_std\n",
    "    \n",
    "class LogReturns(btind.PeriodN):\n",
    "    \"\"\"Calculates the log returns.\"\"\"\n",
    "    lines = ('logret',)\n",
    "    params = (('period', 1),)\n",
    "    \n",
    "    def __init__(self):\n",
    "        self.addminperiod(self.p.period + 1)\n",
    "    \n",
    "    def next(self):\n",
    "        self.l.logret[0] = math.log(self.data[0] / self.data[-self.p.period])\n",
    "    \n",
    "class LogReturnSpread(btind.PeriodN):\n",
    "    \"\"\"Calculates the spread of the log returns.\"\"\"\n",
    "    _mindatas = 2  # ensure at least 2 data feeds are passed\n",
    "    lines = ('logret0', 'logret1', 'spread', 'spread_mean', 'spread_std', 'zscore',)\n",
    "    params = (('period', 10),)\n",
    "\n",
    "    def __init__(self):\n",
    "        self.l.logret0 = LogReturns(self.data0, period=1)\n",
    "        self.l.logret1 = LogReturns(self.data1, period=1)\n",
    "        self.l.spread = self.l.logret0 - self.l.logret1\n",
    "        self.l.spread_mean = bt.ind.SMA(self.l.spread, period=self.p.period)\n",
    "        self.l.spread_std = bt.ind.StdDev(self.l.spread, period=self.p.period)\n",
    "        self.l.zscore = (self.l.spread - self.l.spread_mean) / self.l.spread_std\n",
    "\n",
    "class PairTradingStrategy(bt.Strategy):\n",
    "    \"\"\"Basic pair trading strategy.\"\"\"\n",
    "    params = dict(\n",
    "        period=PERIOD,\n",
    "        order_pct1=ORDER_PCT1,\n",
    "        order_pct2=ORDER_PCT2,\n",
    "        printout=True,\n",
    "        upper=UPPER,\n",
    "        lower=LOWER,\n",
    "        mode=MODE\n",
    "    )\n",
    "\n",
    "    def log(self, txt, dt=None):\n",
    "        if self.p.printout:\n",
    "            dt = dt or self.data.datetime[0]\n",
    "            dt = bt.num2date(dt)\n",
    "            print('%s, %s' % (dt.isoformat(), txt))\n",
    "\n",
    "    def notify_order(self, order):\n",
    "        if order.status in [bt.Order.Submitted, bt.Order.Accepted]:\n",
    "            return  # Await further notifications\n",
    "\n",
    "        if order.status == order.Completed:\n",
    "            if order.isbuy():\n",
    "                buytxt = 'BUY COMPLETE {}, size = {:.2f}, price = {:.2f}'.format(\n",
    "                    order.data._name, order.executed.size, order.executed.price)\n",
    "                self.log(buytxt, order.executed.dt)\n",
    "            else:\n",
    "                selltxt = 'SELL COMPLETE {}, size = {:.2f}, price = {:.2f}'.format(\n",
    "                    order.data._name, order.executed.size, order.executed.price)\n",
    "                self.log(selltxt, order.executed.dt)\n",
    "\n",
    "        elif order.status in [order.Expired, order.Canceled, order.Margin]:\n",
    "            self.log('%s ,' % order.Status[order.status])\n",
    "            pass  # Simply log\n",
    "\n",
    "        # Allow new orders\n",
    "        self.orderid = None\n",
    "\n",
    "    def __init__(self):\n",
    "        # To control operation entries\n",
    "        self.orderid = None\n",
    "        self.order_pct1 = self.p.order_pct1\n",
    "        self.order_pct2 = self.p.order_pct2\n",
    "        self.upper = self.p.upper\n",
    "        self.lower = self.p.lower\n",
    "        self.status = 0\n",
    "        \n",
    "        # Signals performed with PD.OLS :\n",
    "        if self.p.mode == 'log_return':\n",
    "            self.transform = LogReturnSpread(self.data0, self.data1, period=self.p.period)\n",
    "        elif self.p.mode == 'OLS':\n",
    "            self.transform = OLSSpread(self.data0, self.data1, period=self.p.period)\n",
    "        else:\n",
    "            raise ValueError(\"Unknown mode\")\n",
    "        self.spread = self.transform.spread\n",
    "        self.zscore = self.transform.zscore\n",
    "        \n",
    "        # For tracking\n",
    "        self.spread_sr = pd.Series(dtype=float)\n",
    "        self.zscore_sr = pd.Series(dtype=float)\n",
    "        self.short_signal_sr = pd.Series(dtype=bool)\n",
    "        self.long_signal_sr = pd.Series(dtype=bool)\n",
    "\n",
    "    def next(self):\n",
    "        if self.orderid:\n",
    "            return  # if an order is active, no new orders are allowed\n",
    "        \n",
    "        self.spread_sr[self.data0.datetime.datetime()] = self.spread[0]\n",
    "        self.zscore_sr[self.data0.datetime.datetime()] = self.zscore[0]\n",
    "        self.short_signal_sr[self.data0.datetime.datetime()] = False\n",
    "        self.long_signal_sr[self.data0.datetime.datetime()] = False\n",
    "\n",
    "        if self.zscore[0] > self.upper and self.status != 1:\n",
    "            # Check conditions for shorting the spread & place the order\n",
    "            self.short_signal_sr[self.data0.datetime.datetime()] = True\n",
    "\n",
    "            # Placing the order\n",
    "            self.log('SELL CREATE {}, price = {:.2f}, target pct = {:.2%}'.format(\n",
    "                self.data0._name, self.data0.close[0], -self.order_pct1))\n",
    "            self.order_target_percent(data=self.data0, target=-self.order_pct1)\n",
    "            self.log('BUY CREATE {}, price = {:.2f}, target pct = {:.2%}'.format(\n",
    "                self.data1._name, self.data1.close[0], self.order_pct2))\n",
    "            self.order_target_percent(data=self.data1, target=self.order_pct2)\n",
    "\n",
    "            self.status = 1\n",
    "\n",
    "        elif self.zscore[0] < self.lower and self.status != 2:\n",
    "            # Check conditions for longing the spread & place the order\n",
    "            self.long_signal_sr[self.data0.datetime.datetime()] = True\n",
    "\n",
    "            # Place the order\n",
    "            self.log('SELL CREATE {}, price = {:.2f}, target pct = {:.2%}'.format(\n",
    "                self.data1._name, self.data1.close[0], -self.order_pct2))\n",
    "            self.order_target_percent(data=self.data1, target=-self.order_pct2)\n",
    "            self.log('BUY CREATE {}, price = {:.2f}, target pct = {:.2%}'.format(\n",
    "                self.data0._name, self.data0.close[0], self.order_pct1))\n",
    "            self.order_target_percent(data=self.data0, target=self.order_pct1)\n",
    "                     \n",
    "            self.status = 2\n",
    "\n",
    "    def stop(self):\n",
    "        if self.p.printout:\n",
    "            print('==================================================')\n",
    "            print('Starting Value - %.2f' % self.broker.startingcash)\n",
    "            print('Ending   Value - %.2f' % self.broker.getvalue())\n",
    "            print('==================================================')"
   ]
  },
  {
   "cell_type": "code",
   "execution_count": 6,
   "metadata": {},
   "outputs": [],
   "source": [
    "class DataAnalyzer(bt.analyzers.Analyzer):\n",
    "    \"\"\"Analyzer to extract OHLCV.\"\"\"\n",
    "    def create_analysis(self):\n",
    "        self.rets0 = {}\n",
    "        self.rets1 = {}\n",
    "\n",
    "    def next(self):\n",
    "        self.rets0[self.strategy.datetime.datetime()] = [\n",
    "            self.data0.open[0],\n",
    "            self.data0.high[0],\n",
    "            self.data0.low[0],\n",
    "            self.data0.close[0],\n",
    "            self.data0.volume[0]\n",
    "        ]\n",
    "        self.rets1[self.strategy.datetime.datetime()] = [\n",
    "            self.data1.open[0],\n",
    "            self.data1.high[0],\n",
    "            self.data1.low[0],\n",
    "            self.data1.close[0],\n",
    "            self.data1.volume[0]\n",
    "        ]\n",
    "\n",
    "    def get_analysis(self):\n",
    "        return self.rets0, self.rets1\n",
    "\n",
    "class CashValueAnalyzer(bt.analyzers.Analyzer):\n",
    "    \"\"\"Analyzer to extract cash and value.\"\"\"\n",
    "    def create_analysis(self):\n",
    "        self.rets = {}\n",
    "\n",
    "    def notify_cashvalue(self, cash, value):\n",
    "        self.rets[self.strategy.datetime.datetime()] = (cash, value)\n",
    "\n",
    "    def get_analysis(self):\n",
    "        return self.rets\n",
    "    \n",
    "class OrderAnalyzer(bt.analyzers.Analyzer):\n",
    "    \"\"\"Analyzer to extract order price, size, value, and paid commission.\"\"\"\n",
    "    def create_analysis(self):\n",
    "        self.rets0 = {}\n",
    "        self.rets1 = {}\n",
    "\n",
    "    def notify_order(self, order):\n",
    "        if order.status == order.Completed:\n",
    "            if order.data._name == SYMBOL1:\n",
    "                rets = self.rets0\n",
    "            else:\n",
    "                rets = self.rets1\n",
    "            rets[self.strategy.datetime.datetime()] = (\n",
    "                order.executed.price,\n",
    "                order.executed.size,\n",
    "                -order.executed.size * order.executed.price,\n",
    "                order.executed.comm\n",
    "            )\n",
    "\n",
    "    def get_analysis(self):\n",
    "        return self.rets0, self.rets1"
   ]
  },
  {
   "cell_type": "code",
   "execution_count": 7,
   "metadata": {},
   "outputs": [],
   "source": [
    "def prepare_cerebro(data0, data1, use_analyzers=True, **params):\n",
    "    # Create a cerebro\n",
    "    cerebro = bt.Cerebro()\n",
    "\n",
    "    # Add the 1st data to cerebro\n",
    "    cerebro.adddata(data0)\n",
    "\n",
    "    # Add the 2nd data to cerebro\n",
    "    cerebro.adddata(data1)\n",
    "\n",
    "    # Add the strategy\n",
    "    cerebro.addstrategy(PairTradingStrategy, **params)\n",
    "\n",
    "    # Add the commission - only stocks like a for each operation\n",
    "    cerebro.broker.setcash(CASH)\n",
    "\n",
    "    # Add the commission - only stocks like a for each operation\n",
    "    comminfo = CommInfoFloat(commission=COMMPERC)\n",
    "    cerebro.broker.addcommissioninfo(comminfo)\n",
    "\n",
    "    if use_analyzers:\n",
    "        # Add analyzers    \n",
    "        cerebro.addanalyzer(DataAnalyzer)\n",
    "        cerebro.addanalyzer(CashValueAnalyzer)\n",
    "        cerebro.addanalyzer(OrderAnalyzer)\n",
    "    \n",
    "    return cerebro"
   ]
  },
  {
   "cell_type": "code",
   "execution_count": 8,
   "metadata": {},
   "outputs": [],
   "source": [
    "class PandasData(btfeeds.PandasData):\n",
    "    params = (\n",
    "        # Possible values for datetime (must always be present)\n",
    "        #  None : datetime is the \"index\" in the Pandas Dataframe\n",
    "        #  -1 : autodetect position or case-wise equal name\n",
    "        #  >= 0 : numeric index to the colum in the pandas dataframe\n",
    "        #  string : column name (as index) in the pandas dataframe\n",
    "        ('datetime', None),\n",
    "\n",
    "        ('open', 'Open'),\n",
    "        ('high', 'High'),\n",
    "        ('low', 'Low'),\n",
    "        ('close', 'Close'),\n",
    "        ('volume', 'Volume'),\n",
    "        ('openinterest', None),\n",
    "    )"
   ]
  },
  {
   "cell_type": "code",
   "execution_count": 9,
   "metadata": {},
   "outputs": [
    {
     "name": "stdout",
     "output_type": "stream",
     "text": [
      "2017-11-14T00:00:00, SELL CREATE PEP, price = 101.35, target pct = -10.00%\n",
      "2017-11-14T00:00:00, BUY CREATE KO, price = 41.00, target pct = 10.00%\n",
      "2017-11-15T00:00:00, SELL COMPLETE PEP, size = -98.66, price = 101.26\n",
      "2017-11-15T00:00:00, BUY COMPLETE KO, size = 243.90, price = 40.91\n",
      "2018-04-11T00:00:00, SELL CREATE KO, price = 38.68, target pct = -10.00%\n",
      "2018-04-11T00:00:00, BUY CREATE PEP, price = 96.52, target pct = 10.00%\n",
      "2018-04-12T00:00:00, SELL COMPLETE KO, size = -502.00, price = 38.76\n",
      "2018-04-12T00:00:00, BUY COMPLETE PEP, size = 202.08, price = 96.77\n",
      "2018-08-31T00:00:00, SELL CREATE PEP, price = 100.40, target pct = -10.00%\n",
      "2018-08-31T00:00:00, BUY CREATE KO, price = 39.54, target pct = 10.00%\n",
      "2018-09-04T00:00:00, SELL COMPLETE PEP, size = -202.82, price = 100.23\n",
      "2018-09-04T00:00:00, BUY COMPLETE KO, size = 510.52, price = 39.56\n",
      "2018-10-02T00:00:00, SELL CREATE KO, price = 41.61, target pct = -10.00%\n",
      "2018-10-02T00:00:00, BUY CREATE PEP, price = 98.25, target pct = 10.00%\n",
      "2018-10-03T00:00:00, SELL COMPLETE KO, size = -493.44, price = 41.56\n",
      "2018-10-03T00:00:00, BUY COMPLETE PEP, size = 201.47, price = 98.70\n",
      "2018-11-30T00:00:00, SELL CREATE PEP, price = 110.20, target pct = -10.00%\n",
      "2018-11-30T00:00:00, BUY CREATE KO, price = 45.44, target pct = 10.00%\n",
      "2018-12-03T00:00:00, SELL COMPLETE PEP, size = -193.05, price = 108.88\n",
      "2018-12-03T00:00:00, BUY COMPLETE KO, size = 461.65, price = 44.97\n",
      "==================================================\n",
      "Starting Value - 100000.00\n",
      "Ending   Value - 100284.08\n",
      "==================================================\n"
     ]
    }
   ],
   "source": [
    "# Create the 1st data\n",
    "data0 = PandasData(dataname=data.data[SYMBOL1], name=SYMBOL1)\n",
    "\n",
    "# Create the 2nd data\n",
    "data1 = PandasData(dataname=data.data[SYMBOL2], name=SYMBOL2)\n",
    "\n",
    "# Prepare a cerebro\n",
    "cerebro = prepare_cerebro(data0, data1)\n",
    "\n",
    "# And run it\n",
    "bt_strategy = cerebro.run()[0]"
   ]
  },
  {
   "cell_type": "code",
   "execution_count": 10,
   "metadata": {},
   "outputs": [
    {
     "data": {
      "text/plain": [
       "[[<Figure size 936x576 with 7 Axes>]]"
      ]
     },
     "execution_count": 10,
     "metadata": {},
     "output_type": "execute_result"
    }
   ],
   "source": [
    "%matplotlib inline\n",
    "import matplotlib.pyplot as plt\n",
    "\n",
    "plt.rcParams[\"figure.figsize\"] = (13, 8)\n",
    "cerebro.plot(iplot=False)"
   ]
  },
  {
   "cell_type": "code",
   "execution_count": 11,
   "metadata": {},
   "outputs": [
    {
     "name": "stdout",
     "output_type": "stream",
     "text": [
      "(502, 5)\n",
      "(502, 5)\n",
      "                  open        high        low       close     volume\n",
      "2017-01-03   90.001847   90.130490  89.375760   89.753128  3741200.0\n",
      "2018-12-31  100.727861  101.192418  99.580119  100.636772  5019100.0\n",
      "                 open       high        low      close      volume\n",
      "2017-01-03  34.991651  35.253036  34.806152  35.244602  14711000.0\n",
      "2018-12-31  42.820256  42.865339  42.342369  42.694019  10576300.0\n"
     ]
    }
   ],
   "source": [
    "# Extract OHLCV\n",
    "bt_s1_rets, bt_s2_rets = bt_strategy.analyzers.dataanalyzer.get_analysis()\n",
    "data_cols = ['open', 'high', 'low', 'close', 'volume']\n",
    "bt_s1_ohlcv = pd.DataFrame.from_dict(bt_s1_rets, orient='index', columns=data_cols)\n",
    "bt_s2_ohlcv = pd.DataFrame.from_dict(bt_s2_rets, orient='index', columns=data_cols)\n",
    "\n",
    "print(bt_s1_ohlcv.shape)\n",
    "print(bt_s2_ohlcv.shape)\n",
    "\n",
    "print(bt_s1_ohlcv.iloc[[0, -1]])\n",
    "print(bt_s2_ohlcv.iloc[[0, -1]])"
   ]
  },
  {
   "cell_type": "code",
   "execution_count": 12,
   "metadata": {},
   "outputs": [],
   "source": [
    "try:\n",
    "    np.testing.assert_allclose(bt_s1_ohlcv.values, data.data[SYMBOL1].iloc[:, :5].values)\n",
    "    np.testing.assert_allclose(bt_s2_ohlcv.values, data.data[SYMBOL2].iloc[:, :5].values)\n",
    "except AssertionError as e:\n",
    "    print(e)"
   ]
  },
  {
   "cell_type": "code",
   "execution_count": 13,
   "metadata": {},
   "outputs": [
    {
     "name": "stdout",
     "output_type": "stream",
     "text": [
      "2017-01-03    100000.000000\n",
      "2018-12-31    100020.683083\n",
      "Name: cash, dtype: float64\n",
      "2017-01-03    100000.00000\n",
      "2018-12-31    100284.08289\n",
      "Name: value, dtype: float64\n"
     ]
    }
   ],
   "source": [
    "# Extract cash and value series\n",
    "bt_cashvalue_rets = bt_strategy.analyzers.cashvalueanalyzer.get_analysis()\n",
    "bt_cashvalue_df = pd.DataFrame.from_dict(bt_cashvalue_rets, orient='index', columns=['cash', 'value'])\n",
    "bt_cash = bt_cashvalue_df['cash']\n",
    "bt_value = bt_cashvalue_df['value']\n",
    "\n",
    "print(bt_cash.iloc[[0, -1]])\n",
    "print(bt_value.iloc[[0, -1]])"
   ]
  },
  {
   "cell_type": "code",
   "execution_count": 14,
   "metadata": {},
   "outputs": [
    {
     "name": "stdout",
     "output_type": "stream",
     "text": [
      "            order_price  order_size   order_value  order_comm\n",
      "2017-11-15   101.258155  -98.663639   9990.498036   49.952490\n",
      "2018-12-03   108.881274 -193.047618  21019.270572  105.096353\n",
      "            order_price  order_size   order_value  order_comm\n",
      "2017-11-15    40.905229  243.900487  -9976.805314   49.884027\n",
      "2018-12-03    44.966233  461.649640 -20758.645236  103.793226\n"
     ]
    }
   ],
   "source": [
    "# Extract order info\n",
    "bt_s1_order_rets, bt_s2_order_rets = bt_strategy.analyzers.orderanalyzer.get_analysis()\n",
    "order_cols = ['order_price', 'order_size', 'order_value', 'order_comm']\n",
    "bt_s1_orders = pd.DataFrame.from_dict(bt_s1_order_rets, orient='index', columns=order_cols)\n",
    "bt_s2_orders = pd.DataFrame.from_dict(bt_s2_order_rets, orient='index', columns=order_cols)\n",
    "\n",
    "print(bt_s1_orders.iloc[[0, -1]])\n",
    "print(bt_s2_orders.iloc[[0, -1]])"
   ]
  },
  {
   "cell_type": "code",
   "execution_count": 15,
   "metadata": {},
   "outputs": [
    {
     "name": "stdout",
     "output_type": "stream",
     "text": [
      "2017-10-16   -0.009388\n",
      "2018-12-31   -0.021157\n",
      "dtype: float64\n",
      "2017-10-16    0.242712\n",
      "2018-12-31   -0.307911\n",
      "dtype: float64\n"
     ]
    }
   ],
   "source": [
    "# Extract spread and z-score\n",
    "bt_spread = bt_strategy.spread_sr\n",
    "bt_zscore = bt_strategy.zscore_sr\n",
    "\n",
    "print(bt_spread.iloc[[0, -1]])\n",
    "print(bt_zscore.iloc[[0, -1]])"
   ]
  },
  {
   "cell_type": "code",
   "execution_count": 16,
   "metadata": {},
   "outputs": [
    {
     "name": "stdout",
     "output_type": "stream",
     "text": [
      "2017-11-14    True\n",
      "2018-08-31    True\n",
      "2018-11-30    True\n",
      "dtype: bool\n",
      "2018-04-11    True\n",
      "2018-10-02    True\n",
      "dtype: bool\n"
     ]
    }
   ],
   "source": [
    "# Extract signals\n",
    "bt_short_signals = bt_strategy.short_signal_sr\n",
    "bt_long_signals = bt_strategy.long_signal_sr\n",
    "\n",
    "print(bt_short_signals[bt_short_signals])\n",
    "print(bt_long_signals[bt_long_signals])"
   ]
  },
  {
   "cell_type": "code",
   "execution_count": 17,
   "metadata": {},
   "outputs": [
    {
     "name": "stdout",
     "output_type": "stream",
     "text": [
      "887 ms ± 8.93 ms per loop (mean ± std. dev. of 7 runs, 1 loop each)\n"
     ]
    }
   ],
   "source": [
    "# How fast is bt?\n",
    "cerebro = prepare_cerebro(data0, data1, use_analyzers=False, printout=False)\n",
    "\n",
    "%timeit cerebro.run(preload=False)"
   ]
  },
  {
   "cell_type": "markdown",
   "metadata": {},
   "source": [
    "## vectorbt"
   ]
  },
  {
   "cell_type": "markdown",
   "metadata": {},
   "source": [
    "### Using Portfolio.from_orders"
   ]
  },
  {
   "cell_type": "code",
   "execution_count": 18,
   "metadata": {},
   "outputs": [],
   "source": [
    "from numba import njit\n",
    "\n",
    "@njit\n",
    "def rolling_logret_zscore_nb(a, b, period):\n",
    "    \"\"\"Calculate the log return spread.\"\"\"\n",
    "    spread = np.full_like(a, np.nan, dtype=np.float_)\n",
    "    spread[1:] = np.log(a[1:] / a[:-1]) - np.log(b[1:] / b[:-1])\n",
    "    zscore = np.full_like(a, np.nan, dtype=np.float_)\n",
    "    for i in range(a.shape[0]):\n",
    "        from_i = max(0, i + 1 - period)\n",
    "        to_i = i + 1\n",
    "        if i < period - 1:\n",
    "            continue\n",
    "        spread_mean = np.mean(spread[from_i:to_i])\n",
    "        spread_std = np.std(spread[from_i:to_i])\n",
    "        zscore[i] = (spread[i] - spread_mean) / spread_std\n",
    "    return spread, zscore\n",
    "\n",
    "@njit\n",
    "def ols_spread_nb(a, b):\n",
    "    \"\"\"Calculate the OLS spread.\"\"\"\n",
    "    a = np.log(a)\n",
    "    b = np.log(b)\n",
    "    _b = np.vstack((b, np.ones(len(b)))).T\n",
    "    slope, intercept = np.dot(np.linalg.inv(np.dot(_b.T, _b)), np.dot(_b.T, a))\n",
    "    spread = a - (slope * b + intercept)\n",
    "    return spread[-1]\n",
    "    \n",
    "@njit\n",
    "def rolling_ols_zscore_nb(a, b, period):\n",
    "    \"\"\"Calculate the z-score of the rolling OLS spread.\"\"\"\n",
    "    spread = np.full_like(a, np.nan, dtype=np.float_)\n",
    "    zscore = np.full_like(a, np.nan, dtype=np.float_)\n",
    "    for i in range(a.shape[0]):\n",
    "        from_i = max(0, i + 1 - period)\n",
    "        to_i = i + 1\n",
    "        if i < period - 1:\n",
    "            continue\n",
    "        spread[i] = ols_spread_nb(a[from_i:to_i], b[from_i:to_i])\n",
    "        spread_mean = np.mean(spread[from_i:to_i])\n",
    "        spread_std = np.std(spread[from_i:to_i])\n",
    "        zscore[i] = (spread[i] - spread_mean) / spread_std\n",
    "    return spread, zscore"
   ]
  },
  {
   "cell_type": "code",
   "execution_count": 19,
   "metadata": {},
   "outputs": [],
   "source": [
    "# Calculate OLS z-score using Numba for a nice speedup\n",
    "if MODE == 'OLS':\n",
    "    vbt_spread, vbt_zscore = rolling_ols_zscore_nb(\n",
    "        bt_s1_ohlcv['close'].values, \n",
    "        bt_s2_ohlcv['close'].values, \n",
    "        PERIOD\n",
    "    )\n",
    "elif MODE == 'log_return':\n",
    "    vbt_spread, vbt_zscore = rolling_logret_zscore_nb(\n",
    "        bt_s1_ohlcv['close'].values, \n",
    "        bt_s2_ohlcv['close'].values, \n",
    "        PERIOD\n",
    "    )\n",
    "else:\n",
    "    raise ValueError(\"Unknown mode\")\n",
    "vbt_spread = pd.Series(vbt_spread, index=bt_s1_ohlcv.index)\n",
    "vbt_zscore = pd.Series(vbt_zscore, index=bt_s1_ohlcv.index)"
   ]
  },
  {
   "cell_type": "code",
   "execution_count": 20,
   "metadata": {},
   "outputs": [],
   "source": [
    "# Assert equality of bt and vbt z-score arrays\n",
    "pd.testing.assert_series_equal(bt_spread, vbt_spread[bt_spread.index])\n",
    "pd.testing.assert_series_equal(bt_zscore, vbt_zscore[bt_zscore.index])"
   ]
  },
  {
   "cell_type": "code",
   "execution_count": 21,
   "metadata": {},
   "outputs": [],
   "source": [
    "# Generate short and long spread signals\n",
    "vbt_short_signals = (vbt_zscore > UPPER)\n",
    "vbt_long_signals = (vbt_zscore < LOWER)"
   ]
  },
  {
   "cell_type": "code",
   "execution_count": 22,
   "metadata": {},
   "outputs": [],
   "source": [
    "# Clean signals\n",
    "vbt_short_signals, vbt_long_signals = pd.Series.vbt.signals.clean(\n",
    "    vbt_short_signals, \n",
    "    vbt_long_signals, \n",
    "    broadcast_kwargs=dict(columns_from='keep')\n",
    ")"
   ]
  },
  {
   "cell_type": "code",
   "execution_count": 23,
   "metadata": {},
   "outputs": [
    {
     "data": {
      "image/svg+xml": [
       "<svg class=\"main-svg\" xmlns=\"http://www.w3.org/2000/svg\" xmlns:xlink=\"http://www.w3.org/1999/xlink\" width=\"700\" height=\"500\" style=\"\" viewBox=\"0 0 700 500\"><rect x=\"0\" y=\"0\" width=\"700\" height=\"500\" style=\"fill: rgb(255, 255, 255); fill-opacity: 1;\"/><defs id=\"defs-2861ed\"><g class=\"clips\"><clipPath id=\"clip2861edxyplot\" class=\"plotclip\"><rect width=\"620\" height=\"199.975\"/></clipPath><clipPath id=\"clip2861edx2y2plot\" class=\"plotclip\"><rect width=\"620\" height=\"199.975\"/></clipPath><clipPath class=\"axesclip\" id=\"clip2861edx\"><rect x=\"50\" y=\"0\" width=\"620\" height=\"500\"/></clipPath><clipPath class=\"axesclip\" id=\"clip2861edy\"><rect x=\"0\" y=\"49\" width=\"700\" height=\"199.975\"/></clipPath><clipPath class=\"axesclip\" id=\"clip2861edxy\"><rect x=\"50\" y=\"49\" width=\"620\" height=\"199.975\"/></clipPath><clipPath class=\"axesclip\" id=\"clip2861edy2\"><rect x=\"0\" y=\"270.025\" width=\"700\" height=\"199.975\"/></clipPath><clipPath class=\"axesclip\" id=\"clip2861edxy2\"><rect x=\"50\" y=\"270.025\" width=\"620\" height=\"199.975\"/></clipPath><clipPath class=\"axesclip\" id=\"clip2861edx2\"><rect x=\"50\" y=\"0\" width=\"620\" height=\"500\"/></clipPath><clipPath class=\"axesclip\" id=\"clip2861edx2y\"><rect x=\"50\" y=\"49\" width=\"620\" height=\"199.975\"/></clipPath><clipPath class=\"axesclip\" id=\"clip2861edx2y2\"><rect x=\"50\" y=\"270.025\" width=\"620\" height=\"199.975\"/></clipPath></g><g class=\"gradients\"/><g class=\"patterns\"/></defs><g class=\"bglayer\"><rect class=\"bg\" x=\"50\" y=\"49\" width=\"620\" height=\"199.975\" style=\"fill: rgb(229, 236, 246); fill-opacity: 1; stroke-width: 0;\"/><rect class=\"bg\" x=\"50\" y=\"270.025\" width=\"620\" height=\"199.975\" style=\"fill: rgb(229, 236, 246); fill-opacity: 1; stroke-width: 0;\"/></g><g class=\"layer-below\"><g class=\"imagelayer\"/><g class=\"shapelayer\"><path data-index=\"0\" fill-rule=\"evenodd\" d=\"M50,307.025H670V418.44499999999994H50Z\" clip-path=\"url(#clip2861edy2)\" style=\"opacity: 0.2; stroke: rgb(0, 0, 0); stroke-opacity: 0; fill: rgb(128, 128, 128); fill-opacity: 1; stroke-width: 0px;\"/></g></g><g class=\"cartesianlayer\"><g class=\"subplot xy\"><g class=\"layer-subplot\"><g class=\"shapelayer\"/><g class=\"imagelayer\"/></g><g class=\"gridlayer\"><g class=\"x\"><path class=\"xgrid crisp\" transform=\"translate(123.86,0)\" d=\"M0,49v199.975\" style=\"stroke: rgb(255, 255, 255); stroke-opacity: 1; stroke-width: 1px;\"/><path class=\"xgrid crisp\" transform=\"translate(200.24,0)\" d=\"M0,49v199.975\" style=\"stroke: rgb(255, 255, 255); stroke-opacity: 1; stroke-width: 1px;\"/><path class=\"xgrid crisp\" transform=\"translate(277.45,0)\" d=\"M0,49v199.975\" style=\"stroke: rgb(255, 255, 255); stroke-opacity: 1; stroke-width: 1px;\"/><path class=\"xgrid crisp\" transform=\"translate(354.67,0)\" d=\"M0,49v199.975\" style=\"stroke: rgb(255, 255, 255); stroke-opacity: 1; stroke-width: 1px;\"/><path class=\"xgrid crisp\" transform=\"translate(430.21,0)\" d=\"M0,49v199.975\" style=\"stroke: rgb(255, 255, 255); stroke-opacity: 1; stroke-width: 1px;\"/><path class=\"xgrid crisp\" transform=\"translate(506.58,0)\" d=\"M0,49v199.975\" style=\"stroke: rgb(255, 255, 255); stroke-opacity: 1; stroke-width: 1px;\"/><path class=\"xgrid crisp\" transform=\"translate(583.8,0)\" d=\"M0,49v199.975\" style=\"stroke: rgb(255, 255, 255); stroke-opacity: 1; stroke-width: 1px;\"/><path class=\"xgrid crisp\" transform=\"translate(661.01,0)\" d=\"M0,49v199.975\" style=\"stroke: rgb(255, 255, 255); stroke-opacity: 1; stroke-width: 1px;\"/></g><g class=\"y\"><path class=\"ygrid crisp\" transform=\"translate(0,198.3)\" d=\"M50,0h620\" style=\"stroke: rgb(255, 255, 255); stroke-opacity: 1; stroke-width: 1px;\"/><path class=\"ygrid crisp\" transform=\"translate(0,57.59)\" d=\"M50,0h620\" style=\"stroke: rgb(255, 255, 255); stroke-opacity: 1; stroke-width: 1px;\"/></g></g><g class=\"zerolinelayer\"><path class=\"yzl zl crisp\" transform=\"translate(0,127.95)\" d=\"M50,0h620\" style=\"stroke: rgb(255, 255, 255); stroke-opacity: 1; stroke-width: 2px;\"/></g><path class=\"xlines-below\"/><path class=\"ylines-below\"/><g class=\"overlines-below\"/><g class=\"xaxislayer-below\"/><g class=\"yaxislayer-below\"/><g class=\"overaxes-below\"/><g class=\"plot\" transform=\"translate(50,49)\" clip-path=\"url(#clip2861edxyplot)\"><g class=\"scatterlayer mlayer\"><g class=\"trace scatter tracef1fb1821-c28c-4e79-ad9e-c271429d6cfe\" style=\"stroke-miterlimit: 2; opacity: 1;\"><g class=\"fills\"/><g class=\"errorbars\"/><g class=\"lines\"><path class=\"js-line\" d=\"M119.18,110.21L120.02,102.6L123.38,100.94L125.06,109.25L125.9,104.91L129.25,101.93L130.09,91.89L130.93,91.58L131.77,95.8L135.13,91.24L135.97,86.05L136.81,85.56L137.65,90.75L141,85.21L141.84,79.53L142.68,89.6L143.52,84.2L146.04,86.12L146.88,89.22L148.56,91.33L149.4,87.69L151.91,85.77L153.59,88.49L155.27,75.09L157.79,89.79L158.63,94.8L159.47,86.26L160.31,93.28L161.15,87.83L163.66,88.77L164.5,86.23L165.34,85.75L166.18,83.29L167.02,74.61L169.54,76.31L172.9,95.19L175.41,90.93L177.09,96.32L177.93,89.09L178.77,84.39L181.29,80.06L182.97,82.86L183.81,88.61L188,67.22L188.84,66.55L189.68,68.35L190.52,74.04L193.04,66.75L193.88,69.33L196.4,93.37L198.92,93.69L201.43,83.85L202.27,87.14L205.63,89.62L206.47,84.6L207.31,83.58L208.15,106.91L210.67,102.8L211.5,114.07L212.34,122.03L213.18,116.69L214.02,109.29L216.54,105.46L217.38,108.29L218.22,115.06L219.06,117.13L219.9,129.67L222.42,130.56L223.26,129.29L224.93,120.87L225.77,124.59L229.13,154.9L229.97,154.6L230.81,139.5L231.65,138.77L234.17,142.08L235.01,133.54L237.52,105.3L240.04,92.16L241.72,109.66L242.56,99.04L243.4,111.66L245.92,109.59L247.59,128.49L248.43,117.39L249.27,119.22L251.79,132.1L252.63,122.75L253.47,124.95L254.31,124.42L255.15,120.44L257.67,137.11L258.51,116.02L259.35,93.67L260.18,98.87L261.02,79.66L263.54,62.66L264.38,38.72L265.22,52.78L266.06,53.88L266.9,65.97L269.42,64.83L270.26,49.28L271.1,60.94L272.77,51.06L275.29,51.9L276.13,41.57L276.97,42.9L277.81,34.03L281.17,22.72L282.01,22.97L282.85,10L283.69,37.11L284.52,39.48L287.04,30.03L287.88,30.13L288.72,27.01L289.56,26.2L290.4,14.74L292.92,27.65L293.76,23.88L294.6,19.96L295.44,24.38L296.27,20.76L299.63,20.65L302.15,12.21L305.51,28.7L306.35,30.89L307.19,36.47L308.02,33.2L310.54,40.16L313.06,55.7L313.9,53.24L317.26,59.36L318.1,54.76L318.94,60.65L319.78,59.48L322.29,55.59L323.13,63.93L324.81,86.82L325.65,101.87L328.17,92.74L329.01,78.92L329.85,81.28L330.69,75.76L334.04,39.45L334.88,42.61L335.72,40.41L336.56,28.56L337.4,23.53L339.92,47.34L340.76,53.92L341.6,88.96L342.44,89.42L343.28,95.39L347.47,77.01L348.31,68.08L349.15,81.31L351.67,66.54L352.51,55.78L353.35,59.86L354.19,78.26L355.03,76.8L358.38,78.25L359.22,72.12L360.06,64.26L360.9,70.49L363.42,59.42L364.26,50.93L365.1,51.57L365.94,56.59L366.78,55.3L369.29,65.85L370.13,69.26L370.97,79.52L371.81,82.19L372.65,91.11L375.17,94.37L376.01,90.25L376.85,85.16L377.69,89.59L381.04,91.12L381.88,100.84L383.56,105.19L384.4,105.24L386.92,101.07L387.76,106.31L390.28,126.24L392.79,123.68L394.47,154.22L395.31,164.7L396.15,183.62L398.67,189.98L401.19,126.09L402.03,168.87L404.54,173.41L405.38,169.26L406.22,168.85L407.06,152.15L407.9,151.85L410.42,149.37L411.26,150.64L412.1,155.08L412.94,156.73L413.78,150.17L416.3,146.82L417.13,132.97L417.97,116.77L418.81,144.73L419.65,142.47L422.17,125.24L423.01,109.97L423.85,110.04L424.69,108.88L425.53,110.61L428.88,113.78L429.72,126.84L430.56,128.33L431.4,133.89L433.92,154.26L434.76,132.31L435.6,141.31L436.44,134.99L437.28,142.51L439.8,141.24L440.64,137.64L441.47,114.91L443.15,100.14L445.67,100.57L446.51,95.78L447.35,80.64L449.03,48.22L451.55,60.56L452.39,59.38L453.22,41.45L454.9,81.15L457.42,65.48L459.94,117.92L460.78,113.92L463.3,120.67L464.14,87.01L464.97,81.07L465.81,86.93L466.65,76.1L469.17,72.45L470.01,78.23L470.85,71.49L471.69,59.87L472.53,67.09L475.05,68.46L475.89,82.15L477.56,127.34L478.4,130.2L480.92,128.63L481.76,134.14L482.6,134.14L483.44,107.57L484.28,106.75L486.8,93.51L487.64,121.58L488.48,111.78L489.31,116.93L490.15,112.86L492.67,98.3L493.51,99.76L494.35,104.43L495.19,100.94L496.03,109.73L498.55,115.84L499.39,103.95L500.23,107.7L501.9,92.67L504.42,91.72L505.26,90.92L506.1,77.49L507.78,39.77L511.14,62.14L513.65,77.19L516.17,83.8L517.01,84.88L517.85,89.19L518.69,74.58L519.53,87.39L522.05,93.06L522.89,91.17L523.73,94.87L524.57,109L525.4,108.74L527.92,115.96L528.76,100.61L529.6,113.83L530.44,125.89L531.28,123.44L533.8,137.21L534.64,172.17L535.48,157.95L536.32,167.13L537.16,168.02L539.67,167.58L540.51,162.15L541.35,143.45L543.03,131.78L545.55,135.42L546.39,132.83L547.23,132.88L548.91,120.65L551.42,119.12L552.26,120.14L553.1,93.59L553.94,87.19L554.78,100.67L557.3,82.53L558.14,96.38L559.82,119.39L560.66,124.35L564.01,87.58L564.85,83.8L566.53,63.11L569.05,71.24L569.89,69.39L570.73,74.02L571.57,71.74L572.41,60.01L574.92,58.19L575.76,78.47L576.6,78.25L578.28,80.18L581.64,72.35L582.48,52.73L583.32,52.36L584.16,32.68L587.51,71.58L589.19,69.77L590.03,77.99L592.55,76.37L595.07,57.47L595.91,107.89L598.42,102.99L599.26,114.88L600.1,129.37L600.94,120.14L601.78,129.94L604.3,144.32L606.82,126.86L607.66,108.05L610.17,108.72\" style=\"vector-effect: non-scaling-stroke; fill: none; stroke: rgb(31, 119, 180); stroke-opacity: 1; stroke-width: 2px; opacity: 1;\"/></g><g class=\"points\"/><g class=\"text\"/></g></g></g><g class=\"overplot\"/><path class=\"xlines-above crisp\" d=\"M0,0\" style=\"fill: none;\"/><path class=\"ylines-above crisp\" d=\"M0,0\" style=\"fill: none;\"/><g class=\"overlines-above\"/><g class=\"xaxislayer-above\"/><g class=\"yaxislayer-above\"><g class=\"ytick\"><text text-anchor=\"end\" x=\"49\" y=\"4.199999999999999\" transform=\"translate(0,198.3)\" style=\"font-family: 'Open Sans', verdana, arial, sans-serif; font-size: 12px; fill: rgb(42, 63, 95); fill-opacity: 1; white-space: pre; opacity: 1;\">−0.05</text></g><g class=\"ytick\"><text text-anchor=\"end\" x=\"49\" y=\"4.199999999999999\" style=\"font-family: 'Open Sans', verdana, arial, sans-serif; font-size: 12px; fill: rgb(42, 63, 95); fill-opacity: 1; white-space: pre; opacity: 1;\" transform=\"translate(0,127.95)\">0</text></g><g class=\"ytick\"><text text-anchor=\"end\" x=\"49\" y=\"4.199999999999999\" style=\"font-family: 'Open Sans', verdana, arial, sans-serif; font-size: 12px; fill: rgb(42, 63, 95); fill-opacity: 1; white-space: pre; opacity: 1;\" transform=\"translate(0,57.59)\">0.05</text></g></g><g class=\"overaxes-above\"/></g><g class=\"subplot x2y2\"><g class=\"layer-subplot\"><g class=\"shapelayer\"/><g class=\"imagelayer\"/></g><g class=\"gridlayer\"><g class=\"x2\"><path class=\"x2grid crisp\" transform=\"translate(123.86,0)\" d=\"M0,270.025v199.975\" style=\"stroke: rgb(255, 255, 255); stroke-opacity: 1; stroke-width: 1px;\"/><path class=\"x2grid crisp\" transform=\"translate(200.24,0)\" d=\"M0,270.025v199.975\" style=\"stroke: rgb(255, 255, 255); stroke-opacity: 1; stroke-width: 1px;\"/><path class=\"x2grid crisp\" transform=\"translate(277.45,0)\" d=\"M0,270.025v199.975\" style=\"stroke: rgb(255, 255, 255); stroke-opacity: 1; stroke-width: 1px;\"/><path class=\"x2grid crisp\" transform=\"translate(354.67,0)\" d=\"M0,270.025v199.975\" style=\"stroke: rgb(255, 255, 255); stroke-opacity: 1; stroke-width: 1px;\"/><path class=\"x2grid crisp\" transform=\"translate(430.21,0)\" d=\"M0,270.025v199.975\" style=\"stroke: rgb(255, 255, 255); stroke-opacity: 1; stroke-width: 1px;\"/><path class=\"x2grid crisp\" transform=\"translate(506.58,0)\" d=\"M0,270.025v199.975\" style=\"stroke: rgb(255, 255, 255); stroke-opacity: 1; stroke-width: 1px;\"/><path class=\"x2grid crisp\" transform=\"translate(583.8,0)\" d=\"M0,270.025v199.975\" style=\"stroke: rgb(255, 255, 255); stroke-opacity: 1; stroke-width: 1px;\"/><path class=\"x2grid crisp\" transform=\"translate(661.01,0)\" d=\"M0,270.025v199.975\" style=\"stroke: rgb(255, 255, 255); stroke-opacity: 1; stroke-width: 1px;\"/></g><g class=\"y2\"><path class=\"y2grid crisp\" transform=\"translate(0,419.575)\" d=\"M50,0h620\" style=\"stroke: rgb(255, 255, 255); stroke-opacity: 1; stroke-width: 1px;\"/><path class=\"y2grid crisp\" transform=\"translate(0,305.895)\" d=\"M50,0h620\" style=\"stroke: rgb(255, 255, 255); stroke-opacity: 1; stroke-width: 1px;\"/></g></g><g class=\"zerolinelayer\"><path class=\"y2zl zl crisp\" transform=\"translate(0,362.73499999999996)\" d=\"M50,0h620\" style=\"stroke: rgb(255, 255, 255); stroke-opacity: 1; stroke-width: 2px;\"/></g><path class=\"xlines-below\"/><path class=\"ylines-below\"/><g class=\"overlines-below\"/><g class=\"xaxislayer-below\"/><g class=\"yaxislayer-below\"/><g class=\"overaxes-below\"/><g class=\"plot\" transform=\"translate(50,270.025)\" clip-path=\"url(#clip2861edx2y2plot)\"><g class=\"scatterlayer mlayer\"><g class=\"trace scatter trace5e518134-ee50-4edd-b3a2-a6cc3986ae6f\" style=\"stroke-miterlimit: 2; opacity: 1;\"><g class=\"fills\"/><g class=\"errorbars\"/><g class=\"lines\"><path class=\"js-line\" d=\"M240.04,85.81L241.72,111.1L242.56,95.75L243.4,113.88L245.92,110.88L247.59,136.79L248.43,120.69L249.27,122.73L251.79,139.62L252.63,126.06L253.47,128.36L254.31,126.94L255.15,120.99L257.67,142.19L258.51,113.65L259.35,83.75L260.18,90.51L261.02,64.79L263.54,43.11L264.38,15L265.22,34.47L266.06,37.32L266.9,52.8L269.42,52.14L270.26,35.09L271.1,49.57L272.77,39.43L275.29,41.44L276.13,31.4L276.97,34.64L277.81,27.48L278.65,26.47L281.17,21.34L282.01,24.31L282.85,15.59L284.52,45.25L287.04,38.25L287.88,39.61L288.72,38.31L289.56,39.06L290.4,31.51L292.92,43.35L293.76,41.73L294.6,40.11L295.44,44.8L296.27,43.36L299.63,44.5L301.31,43.14L302.15,42.13L307.19,61.26L308.02,59.48L311.38,67.93L312.22,70.9L313.06,75.81L313.9,74.26L317.26,78.5L318.1,75.54L318.94,79.73L319.78,79.17L322.29,76.81L323.13,82.64L324.81,98.15L325.65,108.22L328.17,102.02L329.01,92.72L329.85,94.33L330.69,90.8L334.04,66.93L334.88,69.56L335.72,68.56L336.56,61.14L337.4,58.44L339.92,74.92L340.76,79.73L341.6,103.76L342.44,104.45L343.28,108.93L347.47,96.92L348.31,90.96L349.15,100.77L351.67,90.71L352.51,83.32L353.35,86.95L354.19,101.82L355.03,101.33L358.38,103.91L359.22,99.29L360.06,92.98L360.9,98.68L363.42,89.37L364.26,82.39L365.1,83.37L365.94,88.16L366.78,87.45L369.29,97.42L370.13,101.16L370.97,111.61L371.81,114.85L372.65,124.24L375.17,128.71L376.01,125.53L376.85,121.41L377.69,127.28L381.04,130.03L381.88,142.89L382.72,147.8L383.56,147.96L384.4,147.69L386.92,142.13L390.28,160.68L392.79,155.85L394.47,176.9L395.31,180.92L396.15,189.98L398.67,188.16L401.19,134.04L402.03,162.26L404.54,162.68L405.38,157.51L406.22,155.32L407.06,142.79L407.9,141.3L410.42,138.56L411.26,138.29L412.1,139.99L412.94,139.91L413.78,134.91L416.3,131.95L417.13,122.59L417.97,111.83L418.81,129.09L419.65,127L422.17,115.4L423.01,105L423.85,104.6L424.69,103.36L425.53,104.11L428.88,105.88L429.72,114.53L430.56,115.12L431.4,118.55L433.92,132.29L434.76,116.13L435.6,121.99L436.44,116.96L437.28,121.79L439.8,120.32L440.64,117.21L441.47,100.41L443.15,88.96L445.67,89.15L446.51,85.53L447.35,74.51L449.03,51.77L451.55,61.04L452.39,60.43L453.22,48.03L454.9,75.68L457.42,63.85L459.94,101.57L460.78,98.06L463.3,102.89L464.14,76.53L464.97,71.97L465.81,76.64L466.65,68.24L469.17,65.45L470.01,69.82L470.85,64.7L471.69,55.77L472.53,61.18L475.05,62.09L475.89,72.77L477.56,107.56L478.4,109.43L480.92,107.8L481.76,111.73L482.6,111.29L483.44,89.6L484.28,88.42L486.8,76.98L487.64,99.93L488.48,91.15L489.31,95.15L490.15,91.24L492.67,78.27L493.51,79.34L494.35,83.33L495.19,80.16L496.03,87.76L498.55,92.92L499.39,82.16L500.23,85.34L501.9,72.02L504.42,71.35L505.26,70.82L506.1,59.27L507.78,29.54L511.14,49.57L513.65,64.2L516.17,70.15L517.01,71.5L517.85,75.53L518.69,63.25L519.53,74.95L522.05,80.4L522.89,79L523.73,82.8L524.57,96.45L525.4,96.87L527.92,104.61L528.76,89.95L529.6,103.7L530.44,116.41L531.28,114.44L533.8,129.29L534.64,164.84L535.48,149.74L536.32,158.05L539.67,154.81L540.51,148.8L542.19,121.07L543.03,119.14L545.55,122.21L546.39,119.41L547.23,119.14L548.07,114.61L548.91,107.53L551.42,106.2L552.26,107.34L553.1,82.69L553.94,76.95L554.78,90.27L557.3,73.14L558.14,86.99L559.82,110.26L560.66,115.05L564.01,78.81L564.85,75.27L566.53,55.53L569.05,63.07L569.89,60.68L570.73,65.01L571.57,62.43L572.41,49.87L574.92,48.09L575.76,68.86L576.6,68.37L578.28,70.49L580.8,63.4L581.64,63.6L582.48,44.94L583.32,45.54L584.16,28.13L586.67,53.63L587.51,66.3L589.19,64.62L590.03,72.49L592.55,70.86L595.07,52.8L595.91,100.81L598.42,96.29L599.26,107.88L600.1,121.85L600.94,113.08L601.78,122.64L604.3,136.25L606.82,118.77L607.66,100.68L610.17,101.46\" style=\"vector-effect: non-scaling-stroke; fill: none; stroke: rgb(255, 127, 14); stroke-opacity: 1; stroke-width: 2px; opacity: 1;\"/></g><g class=\"points\"/><g class=\"text\"/></g><g class=\"trace scatter trace0f0208ed-0465-4ad1-9994-c0c75595d9be\" style=\"stroke-miterlimit: 2; opacity: 1;\"><g class=\"fills\"/><g class=\"errorbars\"/><g class=\"lines\"/><g class=\"points\"><path class=\"point\" transform=\"translate(264.38,15)\" d=\"M-4.62,-2H4.62L0,4Z\" style=\"opacity: 1; stroke-width: 1px; fill: rgb(234, 67, 53); fill-opacity: 1; stroke: rgb(181, 31, 18); stroke-opacity: 1;\"/><path class=\"point\" transform=\"translate(507.78,29.54)\" d=\"M-4.62,-2H4.62L0,4Z\" style=\"opacity: 1; stroke-width: 1px; fill: rgb(234, 67, 53); fill-opacity: 1; stroke: rgb(181, 31, 18); stroke-opacity: 1;\"/><path class=\"point\" transform=\"translate(584.16,28.13)\" d=\"M-4.62,-2H4.62L0,4Z\" style=\"opacity: 1; stroke-width: 1px; fill: rgb(234, 67, 53); fill-opacity: 1; stroke: rgb(181, 31, 18); stroke-opacity: 1;\"/></g><g class=\"text\"/></g><g class=\"trace scatter trace52514330-66dd-4da6-a840-3e2fb03b2529\" style=\"stroke-miterlimit: 2; opacity: 1;\"><g class=\"fills\"/><g class=\"errorbars\"/><g class=\"lines\"/><g class=\"points\"><path class=\"point\" transform=\"translate(388.6,154.24)\" d=\"M-4.62,2H4.62L0,-4Z\" style=\"opacity: 1; stroke-width: 1px; fill: rgb(55, 177, 63); fill-opacity: 1; stroke: rgb(38, 123, 44); stroke-opacity: 1;\"/><path class=\"point\" transform=\"translate(534.64,164.84)\" d=\"M-4.62,2H4.62L0,-4Z\" style=\"opacity: 1; stroke-width: 1px; fill: rgb(55, 177, 63); fill-opacity: 1; stroke: rgb(38, 123, 44); stroke-opacity: 1;\"/></g><g class=\"text\"/></g></g></g><g class=\"overplot\"/><path class=\"xlines-above crisp\" d=\"M0,0\" style=\"fill: none;\"/><path class=\"ylines-above crisp\" d=\"M0,0\" style=\"fill: none;\"/><g class=\"overlines-above\"/><g class=\"xaxislayer-above\"><g class=\"x2tick\"><text text-anchor=\"middle\" x=\"0\" y=\"483\" transform=\"translate(123.86,0)\" style=\"font-family: 'Open Sans', verdana, arial, sans-serif; font-size: 12px; fill: rgb(42, 63, 95); fill-opacity: 1; white-space: pre; opacity: 1;\">Apr 2017</text></g><g class=\"x2tick\"><text text-anchor=\"middle\" x=\"0\" y=\"483\" style=\"font-family: 'Open Sans', verdana, arial, sans-serif; font-size: 12px; fill: rgb(42, 63, 95); fill-opacity: 1; white-space: pre; opacity: 1;\" transform=\"translate(200.24,0)\">Jul 2017</text></g><g class=\"x2tick\"><text text-anchor=\"middle\" x=\"0\" y=\"483\" style=\"font-family: 'Open Sans', verdana, arial, sans-serif; font-size: 12px; fill: rgb(42, 63, 95); fill-opacity: 1; white-space: pre; opacity: 1;\" transform=\"translate(277.45,0)\">Oct 2017</text></g><g class=\"x2tick\"><text text-anchor=\"middle\" x=\"0\" y=\"483\" style=\"font-family: 'Open Sans', verdana, arial, sans-serif; font-size: 12px; fill: rgb(42, 63, 95); fill-opacity: 1; white-space: pre; opacity: 1;\" transform=\"translate(354.67,0)\">Jan 2018</text></g><g class=\"x2tick\"><text text-anchor=\"middle\" x=\"0\" y=\"483\" style=\"font-family: 'Open Sans', verdana, arial, sans-serif; font-size: 12px; fill: rgb(42, 63, 95); fill-opacity: 1; white-space: pre; opacity: 1;\" transform=\"translate(430.21,0)\">Apr 2018</text></g><g class=\"x2tick\"><text text-anchor=\"middle\" x=\"0\" y=\"483\" style=\"font-family: 'Open Sans', verdana, arial, sans-serif; font-size: 12px; fill: rgb(42, 63, 95); fill-opacity: 1; white-space: pre; opacity: 1;\" transform=\"translate(506.58,0)\">Jul 2018</text></g><g class=\"x2tick\"><text text-anchor=\"middle\" x=\"0\" y=\"483\" style=\"font-family: 'Open Sans', verdana, arial, sans-serif; font-size: 12px; fill: rgb(42, 63, 95); fill-opacity: 1; white-space: pre; opacity: 1;\" transform=\"translate(583.8,0)\">Oct 2018</text></g><g class=\"x2tick\"><text text-anchor=\"middle\" x=\"0\" y=\"483\" style=\"font-family: 'Open Sans', verdana, arial, sans-serif; font-size: 12px; fill: rgb(42, 63, 95); fill-opacity: 1; white-space: pre; opacity: 1;\" transform=\"translate(661.01,0)\">Jan 2019</text></g></g><g class=\"yaxislayer-above\"><g class=\"y2tick\"><text text-anchor=\"end\" x=\"49\" y=\"4.199999999999999\" transform=\"translate(0,419.575)\" style=\"font-family: 'Open Sans', verdana, arial, sans-serif; font-size: 12px; fill: rgb(42, 63, 95); fill-opacity: 1; white-space: pre; opacity: 1;\">−2</text></g><g class=\"y2tick\"><text text-anchor=\"end\" x=\"49\" y=\"4.199999999999999\" style=\"font-family: 'Open Sans', verdana, arial, sans-serif; font-size: 12px; fill: rgb(42, 63, 95); fill-opacity: 1; white-space: pre; opacity: 1;\" transform=\"translate(0,362.73499999999996)\">0</text></g><g class=\"y2tick\"><text text-anchor=\"end\" x=\"49\" y=\"4.199999999999999\" style=\"font-family: 'Open Sans', verdana, arial, sans-serif; font-size: 12px; fill: rgb(42, 63, 95); fill-opacity: 1; white-space: pre; opacity: 1;\" transform=\"translate(0,305.895)\">2</text></g></g><g class=\"overaxes-above\"/></g></g><g class=\"polarlayer\"/><g class=\"smithlayer\"/><g class=\"ternarylayer\"/><g class=\"geolayer\"/><g class=\"funnelarealayer\"/><g class=\"pielayer\"/><g class=\"iciclelayer\"/><g class=\"treemaplayer\"/><g class=\"sunburstlayer\"/><g class=\"glimages\"/><defs id=\"topdefs-2861ed\"><g class=\"clips\"/><clipPath id=\"legend2861ed\"><rect width=\"161\" height=\"29\" x=\"0\" y=\"0\"/></clipPath></defs><g class=\"layer-above\"><g class=\"imagelayer\"/><g class=\"shapelayer\"/></g><g class=\"infolayer\"><g class=\"legend\" pointer-events=\"all\" transform=\"translate(509,11.579999999999991)\"><rect class=\"bg\" shape-rendering=\"crispEdges\" style=\"stroke: rgb(68, 68, 68); stroke-opacity: 1; fill: rgb(255, 255, 255); fill-opacity: 1; stroke-width: 0px;\" width=\"161\" height=\"29\" x=\"0\" y=\"0\"/><g class=\"scrollbox\" transform=\"\" clip-path=\"url(#legend2861ed)\"><g class=\"groups\"><g class=\"traces\" transform=\"translate(0,14.5)\" style=\"opacity: 1;\"><text class=\"legendtext\" text-anchor=\"start\" x=\"40\" y=\"4.680000000000001\" style=\"font-family: 'Open Sans', verdana, arial, sans-serif; font-size: 12px; fill: rgb(42, 63, 95); fill-opacity: 1; white-space: pre;\">Exits</text><g class=\"layers\" style=\"opacity: 1;\"><g class=\"legendfill\"/><g class=\"legendlines\"/><g class=\"legendsymbols\"><g class=\"legendpoints\"><path class=\"scatterpts\" transform=\"translate(20,0)\" d=\"M-4.62,-2H4.62L0,4Z\" style=\"opacity: 1; stroke-width: 1px; fill: rgb(234, 67, 53); fill-opacity: 1; stroke: rgb(181, 31, 18); stroke-opacity: 1;\"/></g></g></g><rect class=\"legendtoggle\" x=\"0\" y=\"-9.5\" width=\"71.46875\" height=\"19\" style=\"fill: rgb(0, 0, 0); fill-opacity: 0;\"/></g><g class=\"traces\" transform=\"translate(73.96875,14.5)\" style=\"opacity: 1;\"><text class=\"legendtext\" text-anchor=\"start\" x=\"40\" y=\"4.680000000000001\" style=\"font-family: 'Open Sans', verdana, arial, sans-serif; font-size: 12px; fill: rgb(42, 63, 95); fill-opacity: 1; white-space: pre;\">Entries</text><g class=\"layers\" style=\"opacity: 1;\"><g class=\"legendfill\"/><g class=\"legendlines\"/><g class=\"legendsymbols\"><g class=\"legendpoints\"><path class=\"scatterpts\" transform=\"translate(20,0)\" d=\"M-4.62,2H4.62L0,-4Z\" style=\"opacity: 1; stroke-width: 1px; fill: rgb(55, 177, 63); fill-opacity: 1; stroke: rgb(38, 123, 44); stroke-opacity: 1;\"/></g></g></g><rect class=\"legendtoggle\" x=\"0\" y=\"-9.5\" width=\"84.234375\" height=\"19\" style=\"fill: rgb(0, 0, 0); fill-opacity: 0;\"/></g></g></g><rect class=\"scrollbar\" rx=\"20\" ry=\"3\" width=\"0\" height=\"0\" style=\"fill: rgb(128, 139, 164); fill-opacity: 1;\" x=\"0\" y=\"0\"/></g><g class=\"g-gtitle\"/><g class=\"g-xtitle\"/><g class=\"g-x2title\"/><g class=\"g-ytitle\"/><g class=\"g-y2title\"/></g></svg>"
      ]
     },
     "metadata": {},
     "output_type": "display_data"
    }
   ],
   "source": [
    "def plot_spread_and_zscore(spread, zscore):\n",
    "    fig = vbt.make_subplots(rows=2, cols=1, shared_xaxes=True, vertical_spacing=0.05)\n",
    "    spread.vbt.plot(add_trace_kwargs=dict(row=1, col=1), fig=fig)\n",
    "    zscore.vbt.plot(add_trace_kwargs=dict(row=2, col=1), fig=fig)\n",
    "    vbt_short_signals.vbt.signals.plot_as_exits(zscore, add_trace_kwargs=dict(row=2, col=1), fig=fig)\n",
    "    vbt_long_signals.vbt.signals.plot_as_entries(zscore, add_trace_kwargs=dict(row=2, col=1), fig=fig)\n",
    "    fig.update_layout(height=500)\n",
    "    fig.add_shape(\n",
    "        type=\"rect\",\n",
    "        xref='paper',\n",
    "        yref='y2',\n",
    "        x0=0,\n",
    "        y0=UPPER,\n",
    "        x1=1,\n",
    "        y1=LOWER,\n",
    "        fillcolor=\"gray\",\n",
    "        opacity=0.2,\n",
    "        layer=\"below\",\n",
    "        line_width=0,\n",
    "    )\n",
    "    return fig\n",
    "    \n",
    "plot_spread_and_zscore(vbt_spread, vbt_zscore).show_svg()"
   ]
  },
  {
   "cell_type": "code",
   "execution_count": 24,
   "metadata": {},
   "outputs": [],
   "source": [
    "# Assert equality of bt and vbt signal arrays\n",
    "pd.testing.assert_series_equal(\n",
    "    bt_short_signals[bt_short_signals], \n",
    "    vbt_short_signals[vbt_short_signals]\n",
    ")\n",
    "pd.testing.assert_series_equal(\n",
    "    bt_long_signals[bt_long_signals], \n",
    "    vbt_long_signals[vbt_long_signals]\n",
    ")"
   ]
  },
  {
   "cell_type": "code",
   "execution_count": 25,
   "metadata": {},
   "outputs": [
    {
     "name": "stdout",
     "output_type": "stream",
     "text": [
      "symbol      PEP   KO\n",
      "2017-11-15 -0.1  0.1\n",
      "2018-04-12  0.1 -0.1\n",
      "2018-09-04 -0.1  0.1\n",
      "2018-10-03  0.1 -0.1\n",
      "2018-12-03 -0.1  0.1\n"
     ]
    }
   ],
   "source": [
    "# Build percentage order size\n",
    "symbol_cols = pd.Index([SYMBOL1, SYMBOL2], name='symbol')\n",
    "vbt_order_size = pd.DataFrame(index=bt_s1_ohlcv.index, columns=symbol_cols)\n",
    "vbt_order_size[SYMBOL1] = np.nan\n",
    "vbt_order_size[SYMBOL2] = np.nan\n",
    "vbt_order_size.loc[vbt_short_signals, SYMBOL1] = -ORDER_PCT1\n",
    "vbt_order_size.loc[vbt_long_signals, SYMBOL1] = ORDER_PCT1\n",
    "vbt_order_size.loc[vbt_short_signals, SYMBOL2] = ORDER_PCT2\n",
    "vbt_order_size.loc[vbt_long_signals, SYMBOL2] = -ORDER_PCT2\n",
    "\n",
    "# Execute at the next bar\n",
    "vbt_order_size = vbt_order_size.vbt.fshift(1)\n",
    "\n",
    "print(vbt_order_size[~vbt_order_size.isnull().any(axis=1)])"
   ]
  },
  {
   "cell_type": "code",
   "execution_count": 26,
   "metadata": {},
   "outputs": [],
   "source": [
    "# Simulate the portfolio\n",
    "vbt_close_price = pd.concat((bt_s1_ohlcv['close'], bt_s2_ohlcv['close']), axis=1, keys=symbol_cols)\n",
    "vbt_open_price = pd.concat((bt_s1_ohlcv['open'], bt_s2_ohlcv['open']), axis=1, keys=symbol_cols)\n",
    "\n",
    "def simulate_from_orders():\n",
    "    \"\"\"Simulate using `Portfolio.from_orders`.\"\"\"\n",
    "    return vbt.Portfolio.from_orders(\n",
    "        vbt_close_price,  # current close as reference price\n",
    "        size=vbt_order_size,  \n",
    "        price=vbt_open_price,  # current open as execution price\n",
    "        size_type='targetpercent', \n",
    "        val_price=vbt_close_price.vbt.fshift(1),  # previous close as group valuation price\n",
    "        init_cash=CASH,\n",
    "        fees=COMMPERC,\n",
    "        cash_sharing=True,  # share capital between assets in the same group\n",
    "        group_by=True,  # all columns belong to the same group\n",
    "        call_seq='auto',  # sell before buying\n",
    "        freq='d'  # index frequency for annualization\n",
    "    )\n",
    "\n",
    "vbt_pf = simulate_from_orders()"
   ]
  },
  {
   "cell_type": "code",
   "execution_count": 27,
   "metadata": {},
   "outputs": [
    {
     "name": "stdout",
     "output_type": "stream",
     "text": [
      "   Order Id Column  Timestamp        Size       Price        Fees  Side\n",
      "0         0    PEP 2017-11-15   98.663639  101.258155   49.952490  Sell\n",
      "1         1    PEP 2018-04-12  202.082458   96.772464   97.780087   Buy\n",
      "2         2    PEP 2018-09-04  202.821903  100.225960  101.640100  Sell\n",
      "3         3    PEP 2018-10-03  201.467932   98.696257   99.420654   Buy\n",
      "4         4    PEP 2018-12-03  193.047618  108.881274  105.096353  Sell\n",
      "5         0     KO 2017-11-15  243.900487   40.905229   49.884027   Buy\n",
      "6         1     KO 2018-04-12  501.997440   38.755988   97.277035  Sell\n",
      "7         2     KO 2018-09-04  510.518756   39.562414  100.986772   Buy\n",
      "8         3     KO 2018-10-03  493.440726   41.562876  102.544078  Sell\n",
      "9         4     KO 2018-12-03  461.649640   44.966233  103.793226   Buy\n"
     ]
    }
   ],
   "source": [
    "print(vbt_pf.orders.records_readable)"
   ]
  },
  {
   "cell_type": "code",
   "execution_count": 28,
   "metadata": {},
   "outputs": [],
   "source": [
    "# Proof that both bt and vbt produce the same result\n",
    "pd.testing.assert_series_equal(bt_cash, vbt_pf.cash.rename('cash'))\n",
    "pd.testing.assert_series_equal(bt_value, vbt_pf.value.rename('value'))"
   ]
  },
  {
   "cell_type": "code",
   "execution_count": 29,
   "metadata": {},
   "outputs": [
    {
     "name": "stdout",
     "output_type": "stream",
     "text": [
      "Start                         2017-01-03 00:00:00\n",
      "End                           2018-12-31 00:00:00\n",
      "Period                          502 days 00:00:00\n",
      "Start Value                              100000.0\n",
      "End Value                            100284.08289\n",
      "Total Return [%]                         0.284083\n",
      "Benchmark Return [%]                    16.631268\n",
      "Max Gross Exposure [%]                   0.915884\n",
      "Total Fees Paid                        908.374822\n",
      "Max Drawdown [%]                         1.030284\n",
      "Max Drawdown Duration           168 days 00:00:00\n",
      "Total Trades                                   10\n",
      "Total Closed Trades                             8\n",
      "Total Open Trades                               2\n",
      "Open Trade PnL                          149.65125\n",
      "Win Rate [%]                                 62.5\n",
      "Best Trade [%]                           9.267959\n",
      "Worst Trade [%]                         -9.229397\n",
      "Avg Winning Trade [%]                    3.967194\n",
      "Avg Losing Trade [%]                    -6.182834\n",
      "Avg Winning Trade Duration       56 days 19:12:00\n",
      "Avg Losing Trade Duration        80 days 16:00:00\n",
      "Profit Factor                            1.072466\n",
      "Expectancy                              16.803955\n",
      "Sharpe Ratio                             0.185035\n",
      "Calmar Ratio                             0.138147\n",
      "Omega Ratio                              1.036058\n",
      "Sortino Ratio                            0.266979\n",
      "Name: group, dtype: object\n"
     ]
    }
   ],
   "source": [
    "print(vbt_pf.stats())"
   ]
  },
  {
   "cell_type": "code",
   "execution_count": 30,
   "metadata": {},
   "outputs": [
    {
     "data": {
      "image/svg+xml": [
       "<svg class=\"main-svg\" xmlns=\"http://www.w3.org/2000/svg\" xmlns:xlink=\"http://www.w3.org/1999/xlink\" width=\"750\" height=\"670\" style=\"\" viewBox=\"0 0 750 670\"><rect x=\"0\" y=\"0\" width=\"750\" height=\"670\" style=\"fill: rgb(255, 255, 255); fill-opacity: 1;\"/><defs id=\"defs-f27eb8\"><g class=\"clips\"><clipPath id=\"clipf27eb8xyplot\" class=\"plotclip\"><rect width=\"659\" height=\"256.2313432835821\"/></clipPath><clipPath id=\"clipf27eb8x2y2plot\" class=\"plotclip\"><rect width=\"659\" height=\"256.2313432835821\"/></clipPath><clipPath class=\"axesclip\" id=\"clipf27eb8x\"><rect x=\"61\" y=\"0\" width=\"659\" height=\"670\"/></clipPath><clipPath class=\"axesclip\" id=\"clipf27eb8y\"><rect x=\"0\" y=\"73\" width=\"750\" height=\"256.2313432835821\"/></clipPath><clipPath class=\"axesclip\" id=\"clipf27eb8xy\"><rect x=\"61\" y=\"73\" width=\"659\" height=\"256.2313432835821\"/></clipPath><clipPath class=\"axesclip\" id=\"clipf27eb8y2\"><rect x=\"0\" y=\"361.7686567164179\" width=\"750\" height=\"256.2313432835821\"/></clipPath><clipPath class=\"axesclip\" id=\"clipf27eb8xy2\"><rect x=\"61\" y=\"361.7686567164179\" width=\"659\" height=\"256.2313432835821\"/></clipPath><clipPath class=\"axesclip\" id=\"clipf27eb8x2\"><rect x=\"61\" y=\"0\" width=\"659\" height=\"670\"/></clipPath><clipPath class=\"axesclip\" id=\"clipf27eb8x2y\"><rect x=\"61\" y=\"73\" width=\"659\" height=\"256.2313432835821\"/></clipPath><clipPath class=\"axesclip\" id=\"clipf27eb8x2y2\"><rect x=\"61\" y=\"361.7686567164179\" width=\"659\" height=\"256.2313432835821\"/></clipPath></g><g class=\"gradients\"/><g class=\"patterns\"/></defs><g class=\"bglayer\"><rect class=\"bg\" x=\"61\" y=\"73\" width=\"659\" height=\"256.2313432835821\" style=\"fill: rgb(229, 236, 246); fill-opacity: 1; stroke-width: 0;\"/><rect class=\"bg\" x=\"61\" y=\"361.7686567164179\" width=\"659\" height=\"256.2313432835821\" style=\"fill: rgb(229, 236, 246); fill-opacity: 1; stroke-width: 0;\"/></g><g class=\"layer-below\"><g class=\"imagelayer\"/><g class=\"shapelayer\"/></g><g class=\"cartesianlayer\"><g class=\"subplot xy\"><g class=\"layer-subplot\"><g class=\"shapelayer\"/><g class=\"imagelayer\"/></g><g class=\"gridlayer\"><g class=\"x\"><path class=\"xgrid crisp\" transform=\"translate(139.19,0)\" d=\"M0,73v256.2313432835821\" style=\"stroke: rgb(255, 255, 255); stroke-opacity: 1; stroke-width: 1px;\"/><path class=\"xgrid crisp\" transform=\"translate(220.04,0)\" d=\"M0,73v256.2313432835821\" style=\"stroke: rgb(255, 255, 255); stroke-opacity: 1; stroke-width: 1px;\"/><path class=\"xgrid crisp\" transform=\"translate(301.78,0)\" d=\"M0,73v256.2313432835821\" style=\"stroke: rgb(255, 255, 255); stroke-opacity: 1; stroke-width: 1px;\"/><path class=\"xgrid crisp\" transform=\"translate(383.52,0)\" d=\"M0,73v256.2313432835821\" style=\"stroke: rgb(255, 255, 255); stroke-opacity: 1; stroke-width: 1px;\"/><path class=\"xgrid crisp\" transform=\"translate(463.48,0)\" d=\"M0,73v256.2313432835821\" style=\"stroke: rgb(255, 255, 255); stroke-opacity: 1; stroke-width: 1px;\"/><path class=\"xgrid crisp\" transform=\"translate(544.3399999999999,0)\" d=\"M0,73v256.2313432835821\" style=\"stroke: rgb(255, 255, 255); stroke-opacity: 1; stroke-width: 1px;\"/><path class=\"xgrid crisp\" transform=\"translate(626.08,0)\" d=\"M0,73v256.2313432835821\" style=\"stroke: rgb(255, 255, 255); stroke-opacity: 1; stroke-width: 1px;\"/><path class=\"xgrid crisp\" transform=\"translate(707.82,0)\" d=\"M0,73v256.2313432835821\" style=\"stroke: rgb(255, 255, 255); stroke-opacity: 1; stroke-width: 1px;\"/></g><g class=\"y\"><path class=\"ygrid crisp\" transform=\"translate(0,320.18)\" d=\"M61,0h659\" style=\"stroke: rgb(255, 255, 255); stroke-opacity: 1; stroke-width: 1px;\"/><path class=\"ygrid crisp\" transform=\"translate(0,273.68)\" d=\"M61,0h659\" style=\"stroke: rgb(255, 255, 255); stroke-opacity: 1; stroke-width: 1px;\"/><path class=\"ygrid crisp\" transform=\"translate(0,227.18)\" d=\"M61,0h659\" style=\"stroke: rgb(255, 255, 255); stroke-opacity: 1; stroke-width: 1px;\"/><path class=\"ygrid crisp\" transform=\"translate(0,180.68)\" d=\"M61,0h659\" style=\"stroke: rgb(255, 255, 255); stroke-opacity: 1; stroke-width: 1px;\"/><path class=\"ygrid crisp\" transform=\"translate(0,134.18)\" d=\"M61,0h659\" style=\"stroke: rgb(255, 255, 255); stroke-opacity: 1; stroke-width: 1px;\"/><path class=\"ygrid crisp\" transform=\"translate(0,87.68)\" d=\"M61,0h659\" style=\"stroke: rgb(255, 255, 255); stroke-opacity: 1; stroke-width: 1px;\"/></g></g><g class=\"zerolinelayer\"/><path class=\"xlines-below\"/><path class=\"ylines-below\"/><g class=\"overlines-below\"/><g class=\"xaxislayer-below\"/><g class=\"yaxislayer-below\"/><g class=\"overaxes-below\"/><g class=\"plot\" transform=\"translate(61,73)\" clip-path=\"url(#clipf27eb8xyplot)\"><g class=\"scatterlayer mlayer\"><g class=\"trace scatter tracee28b7cab-673e-4b88-9652-3db3f1bc1289\" style=\"stroke-miterlimit: 2; opacity: 1;\"><g class=\"fills\"/><g class=\"errorbars\"/><g class=\"lines\"><path class=\"js-line\" d=\"M0,202.97L0.89,201.38L1.78,202.5L2.67,203.69L5.33,212.47L6.22,224.35L7.11,225.63L8,225.39L8.88,227.7L12.44,222.6L13.33,218.21L14.22,221.24L15.1,214.22L17.77,208.08L18.66,202.5L19.55,203.29L20.44,207.04L21.32,212.31L23.99,210.63L24.88,209.91L25.77,216.06L27.54,199.31L30.21,203.61L31.1,195.32L31.99,194.68L33.76,191.41L36.43,188.06L37.32,184.87L38.2,186.38L39.09,175.3L39.98,175.06L44.42,165.01L45.31,163.97L46.2,161.66L48.87,166.13L49.76,157.27L50.64,156.44L52.42,149.78L55.09,157.25L55.97,159.74L56.86,159.9L57.75,162.15L58.64,157.57L62.19,159.58L63.08,145.36L63.97,145.12L64.86,143.11L67.52,145.04L68.41,140.06L69.3,138.05L70.19,139.98L71.08,137.25L73.74,139.58L74.63,134.6L75.52,134.76L77.3,139.34L79.96,139.34L80.85,137.57L81.74,138.7L82.63,141.59L83.52,141.35L86.18,138.05L87.07,140.38L87.96,125.28L88.85,132.75L92.4,127.61L93.29,119.9L94.18,125.2L95.07,125.44L95.96,126.73L98.62,119.58L99.51,120.87L100.4,127.53L101.29,133.07L102.18,127.93L104.84,135.97L105.73,135.88L106.62,139.9L107.51,130.5L108.39,128.42L111.06,128.42L111.95,132.43L112.84,131.47L113.73,129.86L114.61,130.91L117.28,122.63L118.17,123.84L119.06,124.24L119.95,121.91L120.83,124.64L123.5,116.53L124.39,113.72L125.28,105.61L127.05,90.75L130.61,89.95L131.5,92.66L132.38,89.75L133.27,86.19L135.94,84.49L136.83,85.95L137.71,91.2L138.6,100.58L139.49,100.18L143.05,97.1L143.93,88.61L144.82,89.91L145.71,92.74L148.38,89.26L149.27,83.92L150.15,88.21L151.04,98.48L151.93,91.93L154.6,90.64L155.48,100.18L156.37,96.62L157.26,106.32L158.15,103.82L160.82,104.22L162.59,105.35L163.48,106.73L164.37,103.65L167.92,117.97L168.81,109.64L169.7,115.7L170.59,108.34L174.14,107.7L175.03,105.03L175.92,103.65L176.81,94.6L179.47,98.64L180.36,96.05L182.14,88.86L183.03,94.76L185.69,94.76L186.58,100.34L187.47,102.85L188.36,97.27L189.25,96.7L191.91,91.93L194.58,96.62L195.47,95.57L198.13,84.81L199.02,75.68L199.91,74.62L200.8,80.37L201.69,86.75L204.35,81.42L206.13,89.26L207.02,97.91L207.91,100.9L210.57,103.41L212.35,100.05L213.24,95.33L214.12,94.43L217.68,94.19L219.46,85.07L220.34,100.94L223.01,95.65L223.9,101.27L225.67,107.87L226.56,102.49L229.23,101.35L230.12,105.42L232.78,126.92L235.45,126.19L236.34,127.25L237.23,133.03L238.11,128.63L239,130.34L241.67,149.15L242.56,149.07L243.44,147.36L244.33,138.32L245.22,138.73L247.89,141.9L251.44,120.65L254.11,112.91L255.88,126.11L256.77,120.24L257.66,128.87L260.33,128.22L262.1,141.41L262.99,136.04L263.88,137.1L266.55,144.83L267.43,140.11L268.32,140.93L269.21,141.58L270.1,140.19L272.76,148.01L273.65,138.16L274.54,125.7L275.43,129.93L276.32,119.59L278.98,109.09L279.87,95.08L280.76,100.46L281.65,99.4L282.54,103.88L285.2,102L286.09,92.72L286.98,100.62L288.76,93.94L291.42,94.35L292.31,86.86L293.2,86.29L294.09,82.31L298.53,73.54L299.42,62.8L300.31,80.59L301.2,81.9L303.86,75.18L304.75,75.1L306.53,70.01L307.42,60.17L310.08,69.77L310.97,65.17L311.86,61.81L312.75,68.04L313.63,65.26L317.19,62.88L318.08,59.52L318.97,59.11L319.85,54.43L323.41,69.68L324.3,72.23L325.18,67.47L326.07,64.68L328.74,70.26L329.63,69.52L330.52,74.44L331.4,79.36L332.29,75.26L335.85,71.32L336.74,60.5L337.62,61.57L338.51,52.38L341.18,41.4L342.07,43.12L343.84,46.4L344.73,39.35L347.4,56.48L348.29,54.68L349.17,51.32L350.06,51.32L353.62,99.2L354.5,106.58L355.39,107.07L356.28,134.54L357.17,126.09L359.84,119.95L360.72,118.22L361.61,143.07L362.5,127.82L363.39,127.08L366.94,140.03L367.83,152.17L369.61,138.39L372.27,128.06L373.16,128.47L374.05,137.98L374.94,144.63L375.83,137.03L379.38,132.57L380.27,130.43L382.05,108.12L384.71,106.39L385.6,99.37L386.49,107.55L388.27,115.56L390.93,126.13L391.82,129.93L392.71,139.51L393.6,146.12L394.49,160.9L397.15,155.45L398.04,148.6L398.93,135.88L399.82,136.13L403.37,153.47L404.26,144.05L406.04,124.4L406.93,134.89L410.48,134.06L411.37,140.01L412.26,143.06L413.14,135.22L415.81,129.77L416.7,138.44L419.36,191.22L422.03,190.39L423.81,202.2L424.7,184.78L425.58,197.58L428.25,203.94L430.03,234.58L430.91,231.53L431.8,220.04L434.47,226.32L436.25,243.42L437.13,234.25L438.02,232.93L440.69,235.24L441.58,238.13L442.46,234.91L443.35,228.88L444.24,232.27L448.68,207.99L449.57,210.22L450.46,209.14L454.02,202.62L454.9,196.59L455.79,202.02L456.68,202.02L459.35,203.11L460.23,202.36L461.12,197.19L462.01,194.44L462.9,183.35L465.57,177.35L466.45,166.76L467.34,160.18L468.23,161.34L469.12,140.67L471.78,159.26L472.67,154.42L473.56,155.68L475.34,134.34L478,129.17L478.89,137L479.78,135.17L481.56,130.17L484.22,124.67L485.11,130.75L486.89,124.5L487.78,124.42L490.44,139.42L491.33,96.66L492.22,99.58L493.11,107.99L494,98.33L496.66,96.07L497.55,80.07L498.44,80.49L499.33,72.65L500.22,70.65L502.88,84.15L504.66,77.32L505.55,79.07L506.44,85.07L509.1,85.9L509.99,79.07L510.88,90.66L512.66,68.23L515.32,59.23L517.1,91.66L517.99,89.91L518.87,96.82L521.54,95.57L522.43,94.91L523.32,91.99L525.09,79.4L527.76,80.4L530.42,104.66L531.31,102.83L533.98,100.66L534.87,111L535.76,103.66L536.64,104.41L537.53,103.99L541.09,112.41L542.86,83.75L543.75,90.13L546.42,83.16L547.31,85.18L548.19,80.81L549.08,71.22L549.97,74.75L552.64,67.78L554.41,81.48L555.3,69.29L556.19,71.9L558.86,94.09L560.63,100.56L561.52,104.34L562.41,98.04L565.08,107.2L566.85,134.01L567.74,141.66L568.63,142.66L571.29,128.38L572.18,128.96L573.07,135.52L573.96,154.68L574.85,152.83L577.51,149.89L578.4,135.1L579.29,127.37L580.18,130.56L581.07,110.73L583.73,118.21L584.62,112.07L585.51,88.29L586.4,89.21L587.29,109.38L590.84,81.48L591.73,93.16L593.51,103.33L596.17,76.27L597.95,66.01L598.84,62.23L599.73,50.3L602.39,54.58L603.28,53.15L604.17,57.27L605.06,56.01L605.95,42.98L608.61,37.44L609.5,62.74L610.39,68.79L612.17,67.69L614.83,63.91L615.72,59.04L616.61,41.72L617.5,43.66L618.38,12.81L621.05,37.69L621.94,47.61L623.72,47.88L624.6,56.52L627.27,53.38L628.16,44.07L629.05,46.52L629.93,35.09L630.82,72.36L633.49,81.51L634.38,90.24L635.27,105.48L636.15,104.04L637.04,110.74L639.71,139.45L643.26,102.77L645.93,101.76\" style=\"vector-effect: non-scaling-stroke; fill: none; stroke: rgb(31, 119, 180); stroke-opacity: 1; stroke-width: 2px; opacity: 1;\"/></g><g class=\"points\"/><g class=\"text\"/></g><g class=\"trace scatter trace4fcf1572-ed75-4dfc-a50a-7cc0bf47d663\" style=\"stroke-miterlimit: 2; opacity: 1;\"><g class=\"fills\"/><g class=\"errorbars\"/><g class=\"lines\"/><g class=\"points\"><path class=\"point plotly-customdata\" transform=\"translate(412.26,137.69)\" d=\"M-4.62,2H4.62L0,-4Z\" style=\"opacity: 1; stroke-width: 1px; fill: rgb(55, 177, 63); fill-opacity: 1; stroke: rgb(38, 123, 44); stroke-opacity: 1;\"/><path class=\"point plotly-customdata\" transform=\"translate(566.85,119.8)\" d=\"M-4.62,2H4.62L0,-4Z\" style=\"opacity: 1; stroke-width: 1px; fill: rgb(55, 177, 63); fill-opacity: 1; stroke: rgb(38, 123, 44); stroke-opacity: 1;\"/></g><g class=\"text\"/></g><g class=\"trace scatter trace11973f0f-d59b-454e-95a1-d6e761657b59\" style=\"stroke-miterlimit: 2; opacity: 1;\"><g class=\"fills\"/><g class=\"errorbars\"/><g class=\"lines\"/><g class=\"points\"><path class=\"point plotly-customdata\" transform=\"translate(280.76,95.98)\" d=\"M-4.62,-2H4.62L0,4Z\" style=\"opacity: 1; stroke-width: 1px; fill: rgb(234, 67, 53); fill-opacity: 1; stroke: rgb(181, 31, 18); stroke-opacity: 1;\"/><path class=\"point plotly-customdata\" transform=\"translate(541.09,105.58)\" d=\"M-4.62,-2H4.62L0,4Z\" style=\"opacity: 1; stroke-width: 1px; fill: rgb(234, 67, 53); fill-opacity: 1; stroke: rgb(181, 31, 18); stroke-opacity: 1;\"/><path class=\"point plotly-customdata\" transform=\"translate(621.05,25.08)\" d=\"M-4.62,-2H4.62L0,4Z\" style=\"opacity: 1; stroke-width: 1px; fill: rgb(234, 67, 53); fill-opacity: 1; stroke: rgb(181, 31, 18); stroke-opacity: 1;\"/></g><g class=\"text\"/></g></g></g><g class=\"overplot\"/><path class=\"xlines-above crisp\" d=\"M0,0\" style=\"fill: none;\"/><path class=\"ylines-above crisp\" d=\"M0,0\" style=\"fill: none;\"/><g class=\"overlines-above\"/><g class=\"xaxislayer-above\"/><g class=\"yaxislayer-above\"><g class=\"ytick\"><text text-anchor=\"end\" x=\"60\" y=\"4.199999999999999\" transform=\"translate(0,320.18)\" style=\"font-family: 'Open Sans', verdana, arial, sans-serif; font-size: 12px; fill: rgb(42, 63, 95); fill-opacity: 1; white-space: pre; opacity: 1;\">85</text></g><g class=\"ytick\"><text text-anchor=\"end\" x=\"60\" y=\"4.199999999999999\" style=\"font-family: 'Open Sans', verdana, arial, sans-serif; font-size: 12px; fill: rgb(42, 63, 95); fill-opacity: 1; white-space: pre; opacity: 1;\" transform=\"translate(0,273.68)\">90</text></g><g class=\"ytick\"><text text-anchor=\"end\" x=\"60\" y=\"4.199999999999999\" style=\"font-family: 'Open Sans', verdana, arial, sans-serif; font-size: 12px; fill: rgb(42, 63, 95); fill-opacity: 1; white-space: pre; opacity: 1;\" transform=\"translate(0,227.18)\">95</text></g><g class=\"ytick\"><text text-anchor=\"end\" x=\"60\" y=\"4.199999999999999\" style=\"font-family: 'Open Sans', verdana, arial, sans-serif; font-size: 12px; fill: rgb(42, 63, 95); fill-opacity: 1; white-space: pre; opacity: 1;\" transform=\"translate(0,180.68)\">100</text></g><g class=\"ytick\"><text text-anchor=\"end\" x=\"60\" y=\"4.199999999999999\" style=\"font-family: 'Open Sans', verdana, arial, sans-serif; font-size: 12px; fill: rgb(42, 63, 95); fill-opacity: 1; white-space: pre; opacity: 1;\" transform=\"translate(0,134.18)\">105</text></g><g class=\"ytick\"><text text-anchor=\"end\" x=\"60\" y=\"4.199999999999999\" style=\"font-family: 'Open Sans', verdana, arial, sans-serif; font-size: 12px; fill: rgb(42, 63, 95); fill-opacity: 1; white-space: pre; opacity: 1;\" transform=\"translate(0,87.68)\">110</text></g></g><g class=\"overaxes-above\"/></g><g class=\"subplot x2y2\"><g class=\"layer-subplot\"><g class=\"shapelayer\"/><g class=\"imagelayer\"/></g><g class=\"gridlayer\"><g class=\"x2\"><path class=\"x2grid crisp\" transform=\"translate(139.19,0)\" d=\"M0,361.7686567164179v256.2313432835821\" style=\"stroke: rgb(255, 255, 255); stroke-opacity: 1; stroke-width: 1px;\"/><path class=\"x2grid crisp\" transform=\"translate(220.04,0)\" d=\"M0,361.7686567164179v256.2313432835821\" style=\"stroke: rgb(255, 255, 255); stroke-opacity: 1; stroke-width: 1px;\"/><path class=\"x2grid crisp\" transform=\"translate(301.78,0)\" d=\"M0,361.7686567164179v256.2313432835821\" style=\"stroke: rgb(255, 255, 255); stroke-opacity: 1; stroke-width: 1px;\"/><path class=\"x2grid crisp\" transform=\"translate(383.52,0)\" d=\"M0,361.7686567164179v256.2313432835821\" style=\"stroke: rgb(255, 255, 255); stroke-opacity: 1; stroke-width: 1px;\"/><path class=\"x2grid crisp\" transform=\"translate(463.48,0)\" d=\"M0,361.7686567164179v256.2313432835821\" style=\"stroke: rgb(255, 255, 255); stroke-opacity: 1; stroke-width: 1px;\"/><path class=\"x2grid crisp\" transform=\"translate(544.3399999999999,0)\" d=\"M0,361.7686567164179v256.2313432835821\" style=\"stroke: rgb(255, 255, 255); stroke-opacity: 1; stroke-width: 1px;\"/><path class=\"x2grid crisp\" transform=\"translate(626.08,0)\" d=\"M0,361.7686567164179v256.2313432835821\" style=\"stroke: rgb(255, 255, 255); stroke-opacity: 1; stroke-width: 1px;\"/><path class=\"x2grid crisp\" transform=\"translate(707.82,0)\" d=\"M0,361.7686567164179v256.2313432835821\" style=\"stroke: rgb(255, 255, 255); stroke-opacity: 1; stroke-width: 1px;\"/></g><g class=\"y2\"><path class=\"y2grid crisp\" transform=\"translate(0,607.1786567164179)\" d=\"M61,0h659\" style=\"stroke: rgb(255, 255, 255); stroke-opacity: 1; stroke-width: 1px;\"/><path class=\"y2grid crisp\" transform=\"translate(0,566.5286567164179)\" d=\"M61,0h659\" style=\"stroke: rgb(255, 255, 255); stroke-opacity: 1; stroke-width: 1px;\"/><path class=\"y2grid crisp\" transform=\"translate(0,525.8786567164179)\" d=\"M61,0h659\" style=\"stroke: rgb(255, 255, 255); stroke-opacity: 1; stroke-width: 1px;\"/><path class=\"y2grid crisp\" transform=\"translate(0,485.2286567164179)\" d=\"M61,0h659\" style=\"stroke: rgb(255, 255, 255); stroke-opacity: 1; stroke-width: 1px;\"/><path class=\"y2grid crisp\" transform=\"translate(0,444.5786567164179)\" d=\"M61,0h659\" style=\"stroke: rgb(255, 255, 255); stroke-opacity: 1; stroke-width: 1px;\"/><path class=\"y2grid crisp\" transform=\"translate(0,403.9286567164179)\" d=\"M61,0h659\" style=\"stroke: rgb(255, 255, 255); stroke-opacity: 1; stroke-width: 1px;\"/><path class=\"y2grid crisp\" transform=\"translate(0,363.2786567164179)\" d=\"M61,0h659\" style=\"stroke: rgb(255, 255, 255); stroke-opacity: 1; stroke-width: 1px;\"/></g></g><g class=\"zerolinelayer\"/><path class=\"xlines-below\"/><path class=\"ylines-below\"/><g class=\"overlines-below\"/><g class=\"xaxislayer-below\"/><g class=\"yaxislayer-below\"/><g class=\"overaxes-below\"/><g class=\"plot\" transform=\"translate(61,361.7686567164179)\" clip-path=\"url(#clipf27eb8x2y2plot)\"><g class=\"scatterlayer mlayer\"><g class=\"trace scatter trace3a24a279-d4aa-4154-9234-9d6c89a9b9b2\" style=\"stroke-miterlimit: 2; opacity: 1;\"><g class=\"fills\"/><g class=\"errorbars\"/><g class=\"lines\"><path class=\"js-line\" d=\"M0,220.11L0.89,222.68L1.78,220.97L2.67,221.14L5.33,228.34L6.22,233.14L7.11,232.97L8.88,235.88L12.44,230.05L13.33,228.85L14.22,231.42L15.1,228.34L17.77,226.45L19.55,214.63L20.44,219.94L21.32,226.11L23.99,227.31L24.88,224.05L25.77,229.37L27.54,224.57L30.21,224.23L31.99,216.34L32.87,229.54L33.76,241.02L36.43,240.33L38.2,243.42L39.09,230.4L39.98,229.88L43.54,225.94L46.2,220.46L48.87,222.34L51.53,208.63L52.42,208.46L55.97,216.86L56.86,216.86L57.75,216.17L58.64,211.72L61.31,209.81L62.19,210.85L63.97,206.01L64.86,209.81L67.52,207.22L68.41,201.69L71.08,208.26L73.74,204.8L74.63,202.9L75.52,203.07L76.41,199.96L77.3,202.73L79.96,203.24L80.85,198.58L81.74,200.48L82.63,198.75L83.52,199.79L86.18,198.4L87.07,198.92L87.96,194.08L88.85,196.68L92.4,191.83L93.29,184.75L94.18,189.07L95.96,191.83L98.62,188.2L99.51,191.14L100.4,188.9L101.29,192.87L102.18,190.45L104.84,189.24L105.73,186.3L106.62,187.51L107.51,181.63L108.39,181.12L111.06,177.66L111.95,184.23L112.84,183.19L113.73,181.46L114.61,182.84L117.28,180.42L118.17,178.35L119.06,176.97L119.95,179.21L123.5,172.64L124.39,169.01L126.16,151.38L127.05,151.72L131.5,150.34L132.38,144.81L133.27,143.08L135.94,141.35L136.83,141.52L137.71,149.65L138.6,156.22L139.49,152.94L142.16,152.76L143.05,151.54L143.93,146.84L144.82,147.71L145.71,146.66L148.38,145.44L149.27,141.43L150.15,148.23L151.04,150.84L151.93,147.71L154.6,144.57L155.48,151.19L156.37,146.49L157.26,155.03L158.15,154.68L160.82,156.25L162.59,155.2L163.48,162.52L167.92,163.74L168.81,160.61L169.7,162L170.59,157.64L173.25,156.77L174.14,157.82L175.03,155.03L175.92,155.2L176.81,151.54L179.47,154.85L182.14,132.54L183.03,134.46L185.69,137.42L186.58,139.86L187.47,141.78L188.36,140.39L189.25,143.35L191.91,140.91L193.69,141.78L194.58,139.17L195.47,141.78L198.13,138.12L199.02,131.32L199.91,131.15L201.69,140.39L204.35,140.21L207.02,144.92L207.91,142.13L210.57,144.74L211.46,144.22L212.35,145.27L213.24,142.48L214.12,138.47L217.68,136.03L218.57,135.33L219.46,129.75L220.34,129.41L223.01,125.57L224.79,119.47L225.67,126.32L226.56,125.09L229.23,126.32L231.01,132.12L231.89,138.8L235.45,133.7L236.34,135.81L237.23,152.15L238.11,147.4L239,145.65L241.67,149.34L243.44,137.04L244.33,136.69L247.89,138.62L248.78,130.54L249.66,126.5L250.55,126.32L251.44,125.09L254.11,117.36L255.88,121.23L256.77,117.89L257.66,121.58L260.33,122.63L262.1,127.38L262.99,124.21L263.88,127.02L266.55,130.71L267.43,128.61L268.32,131.77L270.1,128.78L272.76,137.57L274.54,125.09L275.43,124.21L276.32,118.77L278.98,115.6L279.87,103.13L280.76,114.02L281.65,118.59L282.54,133.35L285.2,137.74L286.09,132.12L286.98,131.07L288.76,130.36L291.42,130.01L292.31,131.24L293.2,137.04L294.09,125.7L294.98,122.16L297.64,117.55L298.53,117.02L299.42,113.66L301.2,133.85L303.86,133.5L304.75,134.2L305.64,123.4L307.42,118.26L310.08,122.87L310.97,119.33L311.86,120.21L312.75,128.71L313.63,128.89L317.19,124.99L318.08,122.87L318.97,126.59L319.85,123.75L324.3,131.55L325.18,120.21L328.74,121.63L329.63,117.55L331.4,120.92L332.29,118.97L335.85,112.24L336.74,107.1L337.62,106.04L338.51,101.08L342.07,95.94L342.95,89.21L343.84,89.04L344.73,76.81L348.29,96.65L349.17,93.46L350.06,95.94L350.95,108.7L354.5,145.19L355.39,147.14L356.28,173L357.17,172.47L360.72,153.69L361.61,155.28L363.39,139.7L366.94,157.23L367.83,168.75L368.72,165.56L369.61,156.35L372.27,156.52L374.05,170.87L374.94,167.15L375.83,162.01L378.49,159L379.38,158.3L380.27,160.24L382.05,142.53L384.71,147.67L385.6,146.96L386.49,154.11L388.27,159.82L390.93,163.4L392.71,168.04L393.6,172.33L394.49,180.02L397.15,173.58L398.04,170.01L398.93,162.33L399.82,160.36L403.37,173.94L406.04,143.03L406.93,151.6L409.59,153.21L410.48,150.35L412.26,149.64L413.14,141.06L415.81,138.02L416.7,134.45L419.36,154.82L422.03,150.53L423.81,178.23L424.7,172.51L425.58,162.51L428.25,164.29L430.03,184.84L430.91,187.88L431.8,179.48L434.47,183.41L435.36,189.31L436.25,189.85L437.13,182.7L438.02,183.41L440.69,185.2L441.58,190.92L442.46,193.96L443.35,180.55L444.24,182.7L446.91,178.59L447.8,181.45L448.68,178.77L449.57,180.2L450.46,178.77L454.02,173.76L454.9,165.72L455.79,168.04L456.68,165.9L459.35,159.29L460.23,166.08L461.12,159.82L462.01,160.18L462.9,151.07L465.57,147.85L466.45,142.85L467.34,146.96L468.23,150.74L469.12,141.01L471.78,151.29L472.67,150.38L474.45,159.58L475.34,156.69L478,150.74L478.89,155.25L479.78,159.94L480.67,152.73L481.56,145.7L484.22,147.68L486.89,131.27L487.78,131.63L490.44,135.96L491.33,125.68L493.11,131.09L494,129.83L496.66,130.01L497.55,120.64L498.44,122.98L499.33,123.16L500.22,120.1L502.88,126.04L503.77,120.46L504.66,105.49L505.55,102.79L506.44,103.33L509.1,102.97L509.99,95.76L511.77,103.87L512.66,95.94L515.32,95.4L516.21,98.1L517.1,104.41L517.99,100.8L518.87,105.67L521.54,110.18L522.43,109.1L523.32,105.67L524.21,103.15L525.09,96.3L527.76,93.95L528.65,103.15L530.42,112.52L531.31,113.79L533.98,112.7L534.87,118.47L535.76,119.19L536.64,126.04L537.53,132.9L541.09,129.47L542.86,111.26L543.75,112.16L546.42,106.03L547.31,106.75L548.19,102.79L549.08,103.15L549.97,100.24L552.64,94.24L553.53,101.33L554.41,100.79L555.3,88.42L556.19,89.51L558.86,98.79L559.74,105.88L562.41,96.61L565.08,95.88L565.96,90.79L566.85,102.42L567.74,102.79L568.63,102.24L571.29,91.33L572.18,92.97L573.96,124.79L574.85,124.06L577.51,119.88L578.4,109.33L579.29,102.61L580.18,107.15L581.07,94.06L583.73,100.61L585.51,86.79L586.4,90.79L587.29,101.51L589.95,91.7L591.73,65.88L592.62,68.42L597.95,38.79L598.84,39.51L599.73,33.15L602.39,29.69L603.28,29.88L604.17,31.69L605.06,32.06L605.95,24.24L608.61,18.06L609.5,38.6L610.39,50.42L612.17,45.15L614.83,47.88L615.72,38.79L616.61,32.6L617.5,38.83L618.38,12.81L621.05,25.82L623.72,31.5L624.6,36.82L627.27,34.07L628.16,28.57L629.05,34.44L629.93,29.85L630.82,32.24L633.49,50.75L634.38,50.93L635.27,58.63L636.15,65.22L637.04,64.67L639.71,94.18L641.49,76.22L642.37,65.41L643.26,71.46L645.93,68.71\" style=\"vector-effect: non-scaling-stroke; fill: none; stroke: rgb(31, 119, 180); stroke-opacity: 1; stroke-width: 2px; opacity: 1;\"/></g><g class=\"points\"/><g class=\"text\"/></g><g class=\"trace scatter trace704204c0-604d-491f-8e34-cc8c4ff67a1d\" style=\"stroke-miterlimit: 2; opacity: 1;\"><g class=\"fills\"/><g class=\"errorbars\"/><g class=\"lines\"/><g class=\"points\"><path class=\"point plotly-customdata\" transform=\"translate(280.76,105.06)\" d=\"M-4.62,2H4.62L0,-4Z\" style=\"opacity: 1; stroke-width: 1px; fill: rgb(55, 177, 63); fill-opacity: 1; stroke: rgb(38, 123, 44); stroke-opacity: 1;\"/><path class=\"point plotly-customdata\" transform=\"translate(541.09,132.36)\" d=\"M-4.62,2H4.62L0,-4Z\" style=\"opacity: 1; stroke-width: 1px; fill: rgb(55, 177, 63); fill-opacity: 1; stroke: rgb(38, 123, 44); stroke-opacity: 1;\"/><path class=\"point plotly-customdata\" transform=\"translate(621.05,22.52)\" d=\"M-4.62,2H4.62L0,-4Z\" style=\"opacity: 1; stroke-width: 1px; fill: rgb(55, 177, 63); fill-opacity: 1; stroke: rgb(38, 123, 44); stroke-opacity: 1;\"/></g><g class=\"text\"/></g><g class=\"trace scatter tracef835e9f6-33dd-45b9-838b-1fe76b784ff1\" style=\"stroke-miterlimit: 2; opacity: 1;\"><g class=\"fills\"/><g class=\"errorbars\"/><g class=\"lines\"/><g class=\"points\"><path class=\"point plotly-customdata\" transform=\"translate(412.26,148.75)\" d=\"M-4.62,-2H4.62L0,4Z\" style=\"opacity: 1; stroke-width: 1px; fill: rgb(234, 67, 53); fill-opacity: 1; stroke: rgb(181, 31, 18); stroke-opacity: 1;\"/><path class=\"point plotly-customdata\" transform=\"translate(566.85,91.7)\" d=\"M-4.62,-2H4.62L0,4Z\" style=\"opacity: 1; stroke-width: 1px; fill: rgb(234, 67, 53); fill-opacity: 1; stroke: rgb(181, 31, 18); stroke-opacity: 1;\"/></g><g class=\"text\"/></g></g></g><g class=\"overplot\"/><path class=\"xlines-above crisp\" d=\"M0,0\" style=\"fill: none;\"/><path class=\"ylines-above crisp\" d=\"M0,0\" style=\"fill: none;\"/><g class=\"overlines-above\"/><g class=\"xaxislayer-above\"><g class=\"x2tick\"><text text-anchor=\"middle\" x=\"0\" y=\"631\" transform=\"translate(139.19,0)\" style=\"font-family: 'Open Sans', verdana, arial, sans-serif; font-size: 12px; fill: rgb(42, 63, 95); fill-opacity: 1; white-space: pre; opacity: 1;\">Apr 2017</text></g><g class=\"x2tick\"><text text-anchor=\"middle\" x=\"0\" y=\"631\" style=\"font-family: 'Open Sans', verdana, arial, sans-serif; font-size: 12px; fill: rgb(42, 63, 95); fill-opacity: 1; white-space: pre; opacity: 1;\" transform=\"translate(220.04,0)\">Jul 2017</text></g><g class=\"x2tick\"><text text-anchor=\"middle\" x=\"0\" y=\"631\" style=\"font-family: 'Open Sans', verdana, arial, sans-serif; font-size: 12px; fill: rgb(42, 63, 95); fill-opacity: 1; white-space: pre; opacity: 1;\" transform=\"translate(301.78,0)\">Oct 2017</text></g><g class=\"x2tick\"><text text-anchor=\"middle\" x=\"0\" y=\"631\" style=\"font-family: 'Open Sans', verdana, arial, sans-serif; font-size: 12px; fill: rgb(42, 63, 95); fill-opacity: 1; white-space: pre; opacity: 1;\" transform=\"translate(383.52,0)\">Jan 2018</text></g><g class=\"x2tick\"><text text-anchor=\"middle\" x=\"0\" y=\"631\" style=\"font-family: 'Open Sans', verdana, arial, sans-serif; font-size: 12px; fill: rgb(42, 63, 95); fill-opacity: 1; white-space: pre; opacity: 1;\" transform=\"translate(463.48,0)\">Apr 2018</text></g><g class=\"x2tick\"><text text-anchor=\"middle\" x=\"0\" y=\"631\" style=\"font-family: 'Open Sans', verdana, arial, sans-serif; font-size: 12px; fill: rgb(42, 63, 95); fill-opacity: 1; white-space: pre; opacity: 1;\" transform=\"translate(544.3399999999999,0)\">Jul 2018</text></g><g class=\"x2tick\"><text text-anchor=\"middle\" x=\"0\" y=\"631\" style=\"font-family: 'Open Sans', verdana, arial, sans-serif; font-size: 12px; fill: rgb(42, 63, 95); fill-opacity: 1; white-space: pre; opacity: 1;\" transform=\"translate(626.08,0)\">Oct 2018</text></g><g class=\"x2tick\"><text text-anchor=\"middle\" x=\"0\" y=\"631\" style=\"font-family: 'Open Sans', verdana, arial, sans-serif; font-size: 12px; fill: rgb(42, 63, 95); fill-opacity: 1; white-space: pre; opacity: 1;\" transform=\"translate(707.82,0)\">Jan 2019</text></g></g><g class=\"yaxislayer-above\"><g class=\"y2tick\"><text text-anchor=\"end\" x=\"60\" y=\"4.199999999999999\" transform=\"translate(0,607.1786567164179)\" style=\"font-family: 'Open Sans', verdana, arial, sans-serif; font-size: 12px; fill: rgb(42, 63, 95); fill-opacity: 1; white-space: pre; opacity: 1;\">34</text></g><g class=\"y2tick\"><text text-anchor=\"end\" x=\"60\" y=\"4.199999999999999\" style=\"font-family: 'Open Sans', verdana, arial, sans-serif; font-size: 12px; fill: rgb(42, 63, 95); fill-opacity: 1; white-space: pre; opacity: 1;\" transform=\"translate(0,566.5286567164179)\">36</text></g><g class=\"y2tick\"><text text-anchor=\"end\" x=\"60\" y=\"4.199999999999999\" style=\"font-family: 'Open Sans', verdana, arial, sans-serif; font-size: 12px; fill: rgb(42, 63, 95); fill-opacity: 1; white-space: pre; opacity: 1;\" transform=\"translate(0,525.8786567164179)\">38</text></g><g class=\"y2tick\"><text text-anchor=\"end\" x=\"60\" y=\"4.199999999999999\" style=\"font-family: 'Open Sans', verdana, arial, sans-serif; font-size: 12px; fill: rgb(42, 63, 95); fill-opacity: 1; white-space: pre; opacity: 1;\" transform=\"translate(0,485.2286567164179)\">40</text></g><g class=\"y2tick\"><text text-anchor=\"end\" x=\"60\" y=\"4.199999999999999\" style=\"font-family: 'Open Sans', verdana, arial, sans-serif; font-size: 12px; fill: rgb(42, 63, 95); fill-opacity: 1; white-space: pre; opacity: 1;\" transform=\"translate(0,444.5786567164179)\">42</text></g><g class=\"y2tick\"><text text-anchor=\"end\" x=\"60\" y=\"4.199999999999999\" style=\"font-family: 'Open Sans', verdana, arial, sans-serif; font-size: 12px; fill: rgb(42, 63, 95); fill-opacity: 1; white-space: pre; opacity: 1;\" transform=\"translate(0,403.9286567164179)\">44</text></g><g class=\"y2tick\"><text text-anchor=\"end\" x=\"60\" y=\"4.199999999999999\" style=\"font-family: 'Open Sans', verdana, arial, sans-serif; font-size: 12px; fill: rgb(42, 63, 95); fill-opacity: 1; white-space: pre; opacity: 1;\" transform=\"translate(0,363.2786567164179)\">46</text></g></g><g class=\"overaxes-above\"/></g></g><g class=\"polarlayer\"/><g class=\"smithlayer\"/><g class=\"ternarylayer\"/><g class=\"geolayer\"/><g class=\"funnelarealayer\"/><g class=\"pielayer\"/><g class=\"iciclelayer\"/><g class=\"treemaplayer\"/><g class=\"sunburstlayer\"/><g class=\"glimages\"/><defs id=\"topdefs-f27eb8\"><g class=\"clips\"/><clipPath id=\"legendf27eb8\"><rect width=\"213\" height=\"29\" x=\"0\" y=\"0\"/></clipPath></defs><g class=\"layer-above\"><g class=\"imagelayer\"/><g class=\"shapelayer\"/></g><g class=\"infolayer\"><g class=\"legend\" pointer-events=\"all\" transform=\"translate(507,11.462686567164205)\"><rect class=\"bg\" shape-rendering=\"crispEdges\" style=\"stroke: rgb(68, 68, 68); stroke-opacity: 1; fill: rgb(255, 255, 255); fill-opacity: 1; stroke-width: 0px;\" width=\"213\" height=\"29\" x=\"0\" y=\"0\"/><g class=\"scrollbox\" transform=\"\" clip-path=\"url(#legendf27eb8)\"><g class=\"groups\"><g class=\"traces\" transform=\"translate(0,14.5)\" style=\"opacity: 1;\"><text class=\"legendtext\" text-anchor=\"start\" x=\"40\" y=\"4.680000000000001\" style=\"font-family: 'Open Sans', verdana, arial, sans-serif; font-size: 12px; fill: rgb(42, 63, 95); fill-opacity: 1; white-space: pre;\">Close</text><g class=\"layers\" style=\"opacity: 1;\"><g class=\"legendfill\"/><g class=\"legendlines\"><path class=\"js-line\" d=\"M5,0h30\" style=\"fill: none; stroke: rgb(31, 119, 180); stroke-opacity: 1; stroke-width: 2px;\"/></g><g class=\"legendsymbols\"><g class=\"legendpoints\"/></g></g><rect class=\"legendtoggle\" x=\"0\" y=\"-9.5\" width=\"74.859375\" height=\"19\" style=\"fill: rgb(0, 0, 0); fill-opacity: 0;\"/></g><g class=\"traces\" transform=\"translate(77.359375,14.5)\" style=\"opacity: 1;\"><text class=\"legendtext\" text-anchor=\"start\" x=\"40\" y=\"4.680000000000001\" style=\"font-family: 'Open Sans', verdana, arial, sans-serif; font-size: 12px; fill: rgb(42, 63, 95); fill-opacity: 1; white-space: pre;\">Buy</text><g class=\"layers\" style=\"opacity: 1;\"><g class=\"legendfill\"/><g class=\"legendlines\"/><g class=\"legendsymbols\"><g class=\"legendpoints\"><path class=\"scatterpts\" transform=\"translate(20,0)\" d=\"M-4.62,2H4.62L0,-4Z\" style=\"opacity: 1; stroke-width: 1px; fill: rgb(55, 177, 63); fill-opacity: 1; stroke: rgb(38, 123, 44); stroke-opacity: 1;\"/></g></g></g><rect class=\"legendtoggle\" x=\"0\" y=\"-9.5\" width=\"65.421875\" height=\"19\" style=\"fill: rgb(0, 0, 0); fill-opacity: 0;\"/></g><g class=\"traces\" transform=\"translate(145.28125,14.5)\" style=\"opacity: 1;\"><text class=\"legendtext\" text-anchor=\"start\" x=\"40\" y=\"4.680000000000001\" style=\"font-family: 'Open Sans', verdana, arial, sans-serif; font-size: 12px; fill: rgb(42, 63, 95); fill-opacity: 1; white-space: pre;\">Sell</text><g class=\"layers\" style=\"opacity: 1;\"><g class=\"legendfill\"/><g class=\"legendlines\"/><g class=\"legendsymbols\"><g class=\"legendpoints\"><path class=\"scatterpts\" transform=\"translate(20,0)\" d=\"M-4.62,-2H4.62L0,4Z\" style=\"opacity: 1; stroke-width: 1px; fill: rgb(234, 67, 53); fill-opacity: 1; stroke: rgb(181, 31, 18); stroke-opacity: 1;\"/></g></g></g><rect class=\"legendtoggle\" x=\"0\" y=\"-9.5\" width=\"64.4375\" height=\"19\" style=\"fill: rgb(0, 0, 0); fill-opacity: 0;\"/></g></g></g><rect class=\"scrollbar\" rx=\"20\" ry=\"3\" width=\"0\" height=\"0\" style=\"fill: rgb(128, 139, 164); fill-opacity: 1;\" x=\"0\" y=\"0\"/></g><g class=\"g-gtitle\"/><g class=\"g-xtitle\"/><g class=\"g-x2title\"><text class=\"x2title\" x=\"390.5\" y=\"658.3\" text-anchor=\"middle\" style=\"font-family: 'Open Sans', verdana, arial, sans-serif; font-size: 14px; fill: rgb(42, 63, 95); opacity: 1; font-weight: normal; white-space: pre;\">Index</text></g><g class=\"g-ytitle\" transform=\"translate(1.697265625,0)\"><text class=\"ytitle\" transform=\"rotate(-90,12.309375000000003,201.11567164179104)\" x=\"12.309375000000003\" y=\"201.11567164179104\" text-anchor=\"middle\" style=\"font-family: 'Open Sans', verdana, arial, sans-serif; font-size: 14px; fill: rgb(42, 63, 95); opacity: 1; font-weight: normal; white-space: pre;\">Price</text></g><g class=\"g-y2title\"><text class=\"y2title\" transform=\"rotate(-90,19.934375000000003,489.88432835820896)\" x=\"19.934375000000003\" y=\"489.88432835820896\" text-anchor=\"middle\" style=\"font-family: 'Open Sans', verdana, arial, sans-serif; font-size: 14px; fill: rgb(42, 63, 95); opacity: 1; font-weight: normal; white-space: pre;\">Price</text></g><g class=\"annotation\" data-index=\"0\" style=\"opacity: 1;\"><g class=\"annotation-text-g\" transform=\"rotate(0,390.5,61)\"><g class=\"cursor-pointer\" transform=\"translate(337,49)\"><rect class=\"bg\" x=\"0.5\" y=\"0.5\" width=\"107\" height=\"23\" style=\"stroke-width: 1px; stroke: rgb(0, 0, 0); stroke-opacity: 0; fill: rgb(0, 0, 0); fill-opacity: 0;\"/><text class=\"annotation-text\" text-anchor=\"middle\" x=\"53.828125\" y=\"18\" style=\"font-family: 'Open Sans', verdana, arial, sans-serif; font-size: 16px; fill: rgb(42, 63, 95); fill-opacity: 1; white-space: pre;\">Orders (PEP)</text></g></g></g><g class=\"annotation\" data-index=\"1\" style=\"opacity: 1;\"><g class=\"annotation-text-g\" transform=\"rotate(0,390.5,349.7686567164179)\"><g class=\"cursor-pointer\" transform=\"translate(340,338)\"><rect class=\"bg\" x=\"0.5\" y=\"0.5\" width=\"101\" height=\"23\" style=\"stroke-width: 1px; stroke: rgb(0, 0, 0); stroke-opacity: 0; fill: rgb(0, 0, 0); fill-opacity: 0;\"/><text class=\"annotation-text\" text-anchor=\"middle\" x=\"50.96875\" y=\"18\" style=\"font-family: 'Open Sans', verdana, arial, sans-serif; font-size: 16px; fill: rgb(42, 63, 95); fill-opacity: 1; white-space: pre;\">Orders (KO)</text></g></g></g></g></svg>"
      ]
     },
     "metadata": {},
     "output_type": "display_data"
    }
   ],
   "source": [
    "# Plot portfolio\n",
    "from functools import partial\n",
    "\n",
    "def plot_orders(portfolio, column=None, add_trace_kwargs=None, fig=None):\n",
    "    portfolio.orders.plot(column=column, add_trace_kwargs=add_trace_kwargs, fig=fig)\n",
    "\n",
    "vbt_pf.plot(subplots=[\n",
    "    ('symbol1_orders', dict(\n",
    "        title=f\"Orders ({SYMBOL1})\",\n",
    "        check_is_not_grouped=False,\n",
    "        plot_func=partial(plot_orders, column=SYMBOL1),\n",
    "        pass_column=False,\n",
    "        yaxis_kwargs=dict(title='Price')\n",
    "    )),\n",
    "    ('symbol2_orders', dict(\n",
    "        title=f\"Orders ({SYMBOL2})\",\n",
    "        check_is_not_grouped=False,\n",
    "        plot_func=partial(plot_orders, column=SYMBOL2),\n",
    "        pass_column=False,\n",
    "        yaxis_kwargs=dict(title='Price')\n",
    "    ))\n",
    "]).show_svg()"
   ]
  },
  {
   "cell_type": "code",
   "execution_count": 31,
   "metadata": {},
   "outputs": [
    {
     "name": "stdout",
     "output_type": "stream",
     "text": [
      "2.89 ms ± 23.2 µs per loop (mean ± std. dev. of 7 runs, 100 loops each)\n"
     ]
    }
   ],
   "source": [
    "# How fast is vbt?\n",
    "%timeit simulate_from_orders()"
   ]
  },
  {
   "cell_type": "markdown",
   "metadata": {},
   "source": [
    "While Portfolio.from_orders is a very convenient and optimized function for simulating portfolios, it requires some prior steps to produce the size array. In the example above, we needed to manually run the calculation of the spread z-score, generate the signals from the z-score, build the size array from the signals, and make sure that all arrays are perfectly aligned. All these steps must be repeated and adapted accordingly once there is more than one hyperparameter combination to test.\n",
    "\n",
    "Nevertheless, dividing the pipeline into clearly separated backtesting steps helps us to analyze each step thoroughly and actually does wonders for strategy development and debugging."
   ]
  },
  {
   "cell_type": "markdown",
   "metadata": {},
   "source": [
    "### Using Portfolio.from_order_func"
   ]
  },
  {
   "cell_type": "markdown",
   "metadata": {},
   "source": [
    "Portfolio.from_order_func follows a different (self-contained) approach where as much steps as possible should be defined in the simulation function itself. It sequentially processes timestamps one by one and executes orders based on the logic the user defined rather than parses this logic from some arrays. While this makes order execution less transparent as you cannot analyze each piece of data on the fly anymore (sadly, no pandas and plotting within Numba), it has one big advantage over other vectorized methods: event-driven order processing. This gives best flexibility (you can write any logic), security (less probability of exposing yourself to the look-ahead bias among other biases), and performance (you're traversing the data only once). This method is the most similar one compared to backtrader."
   ]
  },
  {
   "cell_type": "code",
   "execution_count": 32,
   "metadata": {},
   "outputs": [],
   "source": [
    "from vectorbtpro.base.indexing import flex_select_auto_nb\n",
    "from vectorbtpro.portfolio import nb as portfolio_nb\n",
    "from vectorbtpro.portfolio.call_seq import build_call_seq\n",
    "from vectorbtpro.portfolio.enums import SizeType, Direction\n",
    "from collections import namedtuple\n",
    "\n",
    "GroupMemory = namedtuple(\"GroupMemory\", ('spread', 'zscore', 'status'))\n",
    "GroupParams = namedtuple(\"GroupParams\", ('period', 'upper', 'lower', 'order_pct1', 'order_pct2'))\n",
    "\n",
    "@njit\n",
    "def pre_group_func_nb(c, period, upper, lower, order_pct1, order_pct2):\n",
    "    \"\"\"Prepare the current group (= pair of columns).\"\"\"\n",
    "    assert c.group_len == 2\n",
    "    \n",
    "    # In contrast to bt, we don't have a class instance that we could use to store arrays,\n",
    "    # so let's create a namedtuple acting as a container for our arrays\n",
    "    # ( you could also pass each array as a standalone object, but a single object is more convenient)\n",
    "    _spread = np.full(c.target_shape[0], np.nan, dtype=np.float_)\n",
    "    _zscore = np.full(c.target_shape[0], np.nan, dtype=np.float_)\n",
    "    \n",
    "    # Note that namedtuples aren't mutable, you can't simply assign a value,\n",
    "    # thus make status variable an array of one element for an easy assignment\n",
    "    _status = np.full(1, 0, dtype=np.int_)\n",
    "    \n",
    "    # Put all arrays into a container\n",
    "    group_memory = GroupMemory(\n",
    "        _spread, \n",
    "        _zscore, \n",
    "        _status\n",
    "    )\n",
    "    \n",
    "    # Each param as an 1-dim array with value per group \n",
    "    # Use flexible indexing with i=0 and flex_2d=True to select the value for this group\n",
    "    _period = flex_select_auto_nb(period, 0, c.group, True)\n",
    "    _upper = flex_select_auto_nb(upper, 0, c.group, True)\n",
    "    _lower = flex_select_auto_nb(lower, 0, c.group, True)\n",
    "    _order_pct1 = flex_select_auto_nb(order_pct1, 0, c.group, True)\n",
    "    _order_pct2 = flex_select_auto_nb(order_pct2, 0, c.group, True)\n",
    "    \n",
    "    # Put all params into a container (again, this is optional)\n",
    "    group_params = GroupParams(\n",
    "        _period, \n",
    "        _upper, \n",
    "        _lower, \n",
    "        _order_pct1, \n",
    "        _order_pct2\n",
    "    )\n",
    "    \n",
    "    # Create an array that will store our two target percentages used by order_func_nb\n",
    "    # we do it here instead of in pre_segment_func_nb to initialize the array once, instead of in each row\n",
    "    size = np.empty(c.group_len, dtype=np.float_)\n",
    "    \n",
    "    # The returned tuple is passed as arguments to the function below\n",
    "    return (group_memory, group_params, size)\n",
    "    \n",
    "\n",
    "@njit\n",
    "def pre_segment_func_nb(c, group_memory, group_params, size, mode):\n",
    "    \"\"\"Prepare the current segment (= row within group).\"\"\"\n",
    "    \n",
    "    # We want to perform calculations once we reach full window size\n",
    "    if c.i < group_params.period - 1:\n",
    "        size[0] = np.nan  # size of nan means no order\n",
    "        size[1] = np.nan\n",
    "        return (size,)\n",
    "    \n",
    "    # z-core is calculated using a window (=period) of spread values\n",
    "    # This window can be specified as a slice\n",
    "    window_slice = slice(max(0, c.i + 1 - group_params.period), c.i + 1)\n",
    "    \n",
    "    # Here comes the same as in rolling_ols_zscore_nb\n",
    "    if mode == 'OLS':\n",
    "        a = c.close[window_slice, c.from_col]\n",
    "        b = c.close[window_slice, c.from_col + 1]\n",
    "        group_memory.spread[c.i] = ols_spread_nb(a, b)\n",
    "    elif mode == 'log_return':\n",
    "        logret_a = np.log(c.close[c.i, c.from_col] / c.close[c.i - 1, c.from_col])\n",
    "        logret_b = np.log(c.close[c.i, c.from_col + 1] / c.close[c.i - 1, c.from_col + 1])\n",
    "        group_memory.spread[c.i] = logret_a - logret_b\n",
    "    else:\n",
    "        raise ValueError(\"Unknown mode\")\n",
    "    spread_mean = np.mean(group_memory.spread[window_slice])\n",
    "    spread_std = np.std(group_memory.spread[window_slice])\n",
    "    group_memory.zscore[c.i] = (group_memory.spread[c.i] - spread_mean) / spread_std\n",
    "    \n",
    "    # Check if any bound is crossed\n",
    "    # Since zscore is calculated using close, use zscore of the previous step\n",
    "    # This way we are executing signals defined at the previous bar\n",
    "    # Same logic as in PairTradingStrategy\n",
    "    if group_memory.zscore[c.i - 1] > group_params.upper and group_memory.status[0] != 1:\n",
    "        size[0] = -group_params.order_pct1\n",
    "        size[1] = group_params.order_pct2\n",
    "        \n",
    "        # Here we specify the order of execution\n",
    "        # call_seq_now defines order for the current group (2 elements)\n",
    "        c.call_seq_now[0] = 0\n",
    "        c.call_seq_now[1] = 1\n",
    "        group_memory.status[0] = 1\n",
    "    elif group_memory.zscore[c.i - 1] < group_params.lower and group_memory.status[0] != 2:\n",
    "        size[0] = group_params.order_pct1\n",
    "        size[1] = -group_params.order_pct2\n",
    "        c.call_seq_now[0] = 1  # execute the second order first to release funds early\n",
    "        c.call_seq_now[1] = 0\n",
    "        group_memory.status[0] = 2\n",
    "    else:\n",
    "        size[0] = np.nan\n",
    "        size[1] = np.nan\n",
    "        \n",
    "    # Group value is converted to shares using previous close, just like in bt\n",
    "    # Note that last_val_price contains valuation price of all columns, not just the current pair\n",
    "    c.last_val_price[c.from_col] = c.close[c.i - 1, c.from_col]\n",
    "    c.last_val_price[c.from_col + 1] = c.close[c.i - 1, c.from_col + 1]\n",
    "        \n",
    "    return (size,)\n",
    "\n",
    "@njit\n",
    "def order_func_nb(c, size, price, commperc):\n",
    "    \"\"\"Place an order (= element within group and row).\"\"\"\n",
    "    \n",
    "    # Get column index within group (if group starts at column 58 and current column is 59, \n",
    "    # the column within group is 1, which can be used to get size)\n",
    "    group_col = c.col - c.from_col\n",
    "    return portfolio_nb.order_nb(\n",
    "        size=size[group_col], \n",
    "        price=price[c.i, c.col],\n",
    "        size_type=SizeType.TargetPercent,\n",
    "        fees=commperc\n",
    "    )"
   ]
  },
  {
   "cell_type": "code",
   "execution_count": 33,
   "metadata": {},
   "outputs": [],
   "source": [
    "def simulate_from_order_func():\n",
    "    \"\"\"Simulate using `Portfolio.from_order_func`.\"\"\"\n",
    "    return vbt.Portfolio.from_order_func(\n",
    "        vbt_close_price,\n",
    "        order_func_nb, \n",
    "        vbt_open_price.values,  # *args for order_func_nb\n",
    "        COMMPERC,\n",
    "        pre_group_func_nb=pre_group_func_nb, \n",
    "        pre_group_args=(\n",
    "            np.asarray(PERIOD),  # constants not allowed for flexible indexing\n",
    "            np.asarray(UPPER), \n",
    "            np.asarray(LOWER), \n",
    "            np.asarray(ORDER_PCT1), \n",
    "            np.asarray(ORDER_PCT2),\n",
    "        ),\n",
    "        pre_segment_func_nb=pre_segment_func_nb, \n",
    "        pre_segment_args=(\n",
    "            MODE,\n",
    "        ),\n",
    "        fill_pos_record=False,  # a bit faster\n",
    "        init_cash=CASH,\n",
    "        cash_sharing=True, \n",
    "        group_by=True,\n",
    "        freq='d'\n",
    "    )\n",
    "\n",
    "vbt_pf2 = simulate_from_order_func()"
   ]
  },
  {
   "cell_type": "code",
   "execution_count": 34,
   "metadata": {},
   "outputs": [
    {
     "name": "stdout",
     "output_type": "stream",
     "text": [
      "   Order Id Column  Timestamp        Size       Price        Fees  Side\n",
      "0         0    PEP 2017-11-15   98.663639  101.258155   49.952490  Sell\n",
      "1         1    PEP 2018-04-12  202.082458   96.772464   97.780087   Buy\n",
      "2         2    PEP 2018-09-04  202.821903  100.225960  101.640100  Sell\n",
      "3         3    PEP 2018-10-03  201.467932   98.696257   99.420654   Buy\n",
      "4         4    PEP 2018-12-03  193.047618  108.881274  105.096353  Sell\n",
      "5         0     KO 2017-11-15  243.900487   40.905229   49.884027   Buy\n",
      "6         1     KO 2018-04-12  501.997440   38.755988   97.277035  Sell\n",
      "7         2     KO 2018-09-04  510.518756   39.562414  100.986772   Buy\n",
      "8         3     KO 2018-10-03  493.440726   41.562876  102.544078  Sell\n",
      "9         4     KO 2018-12-03  461.649640   44.966233  103.793226   Buy\n"
     ]
    }
   ],
   "source": [
    "print(vbt_pf2.orders.records_readable)"
   ]
  },
  {
   "cell_type": "code",
   "execution_count": 35,
   "metadata": {},
   "outputs": [],
   "source": [
    "# Proof that both bt and vbt produce the same result\n",
    "pd.testing.assert_series_equal(bt_cash, vbt_pf2.cash.rename('cash'))\n",
    "pd.testing.assert_series_equal(bt_value, vbt_pf2.value.rename('value'))"
   ]
  },
  {
   "cell_type": "code",
   "execution_count": 36,
   "metadata": {},
   "outputs": [
    {
     "name": "stdout",
     "output_type": "stream",
     "text": [
      "3.91 ms ± 67 µs per loop (mean ± std. dev. of 7 runs, 100 loops each)\n"
     ]
    }
   ],
   "source": [
    "# How fast is vbt?\n",
    "%timeit simulate_from_order_func()"
   ]
  },
  {
   "cell_type": "markdown",
   "metadata": {},
   "source": [
    "### Numba paradise - fastest"
   ]
  },
  {
   "cell_type": "code",
   "execution_count": 37,
   "metadata": {},
   "outputs": [],
   "source": [
    "def simulate_nb_from_order_func():\n",
    "    \"\"\"Simulate using `simulate_nb`.\"\"\"\n",
    "    # iterate over 502 rows and 2 columns, each element is a potential order\n",
    "    target_shape = vbt_close_price.shape\n",
    "    \n",
    "    # number of columns in the group - exactly two\n",
    "    group_lens = np.array([2])\n",
    "    \n",
    "    # build default call sequence (orders are executed from the left to the right column)\n",
    "    call_seq = build_call_seq(target_shape, group_lens)\n",
    "    \n",
    "    # initial cash per group\n",
    "    init_cash = np.array([CASH], dtype=np.float_)\n",
    "    \n",
    "    sim_out = portfolio_nb.simulate_nb(\n",
    "        target_shape=target_shape, \n",
    "        group_lens=group_lens,\n",
    "        init_cash=init_cash,\n",
    "        cash_sharing=True,\n",
    "        call_seq=call_seq,  \n",
    "        segment_mask=np.full(target_shape, True),  # used for disabling some segments\n",
    "        pre_group_func_nb=pre_group_func_nb, \n",
    "        pre_group_args=(\n",
    "            np.asarray(PERIOD), \n",
    "            np.asarray(UPPER), \n",
    "            np.asarray(LOWER), \n",
    "            np.asarray(ORDER_PCT1), \n",
    "            np.asarray(ORDER_PCT2)\n",
    "        ),\n",
    "        pre_segment_func_nb=pre_segment_func_nb, \n",
    "        pre_segment_args=(\n",
    "            MODE,\n",
    "        ),\n",
    "        order_func_nb=order_func_nb, \n",
    "        order_args=(\n",
    "            vbt_open_price.values, \n",
    "            COMMPERC\n",
    "        ),\n",
    "        close=vbt_close_price.values,  # used for target percentage, but we override the valuation price\n",
    "        fill_pos_record=False\n",
    "    )\n",
    "    \n",
    "    return target_shape, group_lens, init_cash, sim_out\n",
    "\n",
    "target_shape, group_lens, init_cash, sim_out = simulate_nb_from_order_func()"
   ]
  },
  {
   "cell_type": "code",
   "execution_count": 38,
   "metadata": {},
   "outputs": [
    {
     "name": "stdout",
     "output_type": "stream",
     "text": [
      "   Order Id Column  Timestamp        Size       Price        Fees  Side\n",
      "0         0    PEP 2017-11-15   98.663639  101.258155   49.952490  Sell\n",
      "1         1    PEP 2018-04-12  202.082458   96.772464   97.780087   Buy\n",
      "2         2    PEP 2018-09-04  202.821903  100.225960  101.640100  Sell\n",
      "3         3    PEP 2018-10-03  201.467932   98.696257   99.420654   Buy\n",
      "4         4    PEP 2018-12-03  193.047618  108.881274  105.096353  Sell\n",
      "5         0     KO 2017-11-15  243.900487   40.905229   49.884027   Buy\n",
      "6         1     KO 2018-04-12  501.997440   38.755988   97.277035  Sell\n",
      "7         2     KO 2018-09-04  510.518756   39.562414  100.986772   Buy\n",
      "8         3     KO 2018-10-03  493.440726   41.562876  102.544078  Sell\n",
      "9         4     KO 2018-12-03  461.649640   44.966233  103.793226   Buy\n"
     ]
    }
   ],
   "source": [
    "# Print order records in a readable format\n",
    "print(vbt.Orders(vbt_close_price.vbt.wrapper, sim_out.order_records, close=vbt_close_price).records_readable)"
   ]
  },
  {
   "cell_type": "code",
   "execution_count": 39,
   "metadata": {},
   "outputs": [],
   "source": [
    "# Proof that both bt and vbt produce the same cash\n",
    "from vectorbtpro.records import nb as records_nb\n",
    "\n",
    "col_map = records_nb.col_map_nb(sim_out.order_records['col'], target_shape[1])\n",
    "cash_flow = portfolio_nb.cash_flow_nb(target_shape, sim_out.order_records, col_map, False)\n",
    "cash_flow_grouped = portfolio_nb.cash_flow_grouped_nb(cash_flow, group_lens)\n",
    "cash_grouped = portfolio_nb.cash_grouped_nb(target_shape, cash_flow_grouped, group_lens, init_cash)\n",
    "\n",
    "pd.testing.assert_series_equal(bt_cash, bt_cash.vbt.wrapper.wrap(cash_grouped))"
   ]
  },
  {
   "cell_type": "code",
   "execution_count": 40,
   "metadata": {},
   "outputs": [],
   "source": [
    "# Proof that both bt and vbt produce the same value\n",
    "asset_flow = portfolio_nb.asset_flow_nb(target_shape, sim_out.order_records, col_map)\n",
    "assets = portfolio_nb.assets_nb(asset_flow)\n",
    "asset_value = portfolio_nb.asset_value_nb(vbt_close_price.values, assets)\n",
    "asset_value_grouped = portfolio_nb.asset_value_grouped_nb(asset_value, group_lens)\n",
    "value = portfolio_nb.value_nb(cash_grouped, asset_value_grouped)\n",
    "\n",
    "pd.testing.assert_series_equal(bt_value, bt_value.vbt.wrapper.wrap(value))"
   ]
  },
  {
   "cell_type": "code",
   "execution_count": 41,
   "metadata": {},
   "outputs": [
    {
     "name": "stdout",
     "output_type": "stream",
     "text": [
      "Start                         2017-01-03 00:00:00\n",
      "End                           2018-12-31 00:00:00\n",
      "Period                          502 days 00:00:00\n",
      "Start Value                              100000.0\n",
      "End Value                            100284.08289\n",
      "Total Return [%]                         0.284083\n",
      "Benchmark Return [%]                    16.631268\n",
      "Max Gross Exposure [%]                   0.915884\n",
      "Total Fees Paid                        908.374822\n",
      "Max Drawdown [%]                         1.030284\n",
      "Max Drawdown Duration           168 days 00:00:00\n",
      "Total Trades                                   10\n",
      "Total Closed Trades                             8\n",
      "Total Open Trades                               2\n",
      "Open Trade PnL                          149.65125\n",
      "Win Rate [%]                                 62.5\n",
      "Best Trade [%]                           9.267959\n",
      "Worst Trade [%]                         -9.229397\n",
      "Avg Winning Trade [%]                    3.967194\n",
      "Avg Losing Trade [%]                    -6.182834\n",
      "Avg Winning Trade Duration       56 days 19:12:00\n",
      "Avg Losing Trade Duration        80 days 16:00:00\n",
      "Profit Factor                            1.072466\n",
      "Expectancy                              16.803955\n",
      "Sharpe Ratio                             0.185035\n",
      "Calmar Ratio                             0.138147\n",
      "Omega Ratio                              1.036058\n",
      "Sortino Ratio                            0.266979\n",
      "Name: group, dtype: object\n"
     ]
    }
   ],
   "source": [
    "# To produce more complex metrics such as stats, it's advisable to use Portfolio,\n",
    "# which can be easily constructed from the arguments and outputs of simulate_nb\n",
    "vbt_pf3 = vbt.Portfolio(\n",
    "    wrapper=vbt_close_price.vbt(freq='d', group_by=True).wrapper, \n",
    "    close=vbt_close_price, \n",
    "    order_records=sim_out.order_records, \n",
    "    log_records=sim_out.log_records, \n",
    "    cash_sharing=True, \n",
    "    init_cash=init_cash,\n",
    "    call_seq=sim_out.call_seq\n",
    ")\n",
    "\n",
    "print(vbt_pf3.stats())"
   ]
  },
  {
   "cell_type": "code",
   "execution_count": 42,
   "metadata": {},
   "outputs": [
    {
     "name": "stdout",
     "output_type": "stream",
     "text": [
      "2.5 ms ± 34.6 µs per loop (mean ± std. dev. of 7 runs, 100 loops each)\n"
     ]
    }
   ],
   "source": [
    "# How fast is vbt?\n",
    "%timeit simulate_nb_from_order_func()"
   ]
  },
  {
   "cell_type": "markdown",
   "metadata": {},
   "source": [
    "As you can see, writing Numba isn't straightforward and requires at least intermediate knowledge of NumPy. That's why Portfolio.from_orders and other class methods based on arrays are usually a good starting point."
   ]
  },
  {
   "cell_type": "markdown",
   "metadata": {},
   "source": [
    "### Multiple parameters"
   ]
  },
  {
   "cell_type": "markdown",
   "metadata": {},
   "source": [
    "Now, why waste all energy to port a strategy to vectorbt? Right, for hyperparameter optimization.\n",
    "\n",
    "*The example below is just for demo purposes, usually brute-forcing many combinations on a single data sample easily leads to overfitting.*"
   ]
  },
  {
   "cell_type": "code",
   "execution_count": 43,
   "metadata": {},
   "outputs": [],
   "source": [
    "periods = np.arange(10, 105, 5)\n",
    "uppers = np.arange(1.5, 2.2, 0.1)\n",
    "lowers = -1 * np.arange(1.5, 2.2, 0.1)"
   ]
  },
  {
   "cell_type": "code",
   "execution_count": 44,
   "metadata": {},
   "outputs": [],
   "source": [
    "def simulate_mult_from_order_func(periods, uppers, lowers):\n",
    "    \"\"\"Simulate multiple parameter combinations using `Portfolio.from_order_func`.\"\"\"\n",
    "    # Build param grid\n",
    "    param_product = vbt.utils.params.create_param_product([periods, uppers, lowers])\n",
    "    param_tuples = list(zip(*param_product))\n",
    "    param_columns = pd.MultiIndex.from_tuples(param_tuples, names=['period', 'upper', 'lower'])\n",
    "    \n",
    "    # We need two price columns per param combination\n",
    "    vbt_close_price_mult = vbt_close_price.vbt.tile(len(param_columns), keys=param_columns)\n",
    "    vbt_open_price_mult = vbt_open_price.vbt.tile(len(param_columns), keys=param_columns)\n",
    "    \n",
    "    return vbt.Portfolio.from_order_func(\n",
    "        vbt_close_price_mult,\n",
    "        order_func_nb, \n",
    "        vbt_open_price_mult.values,  # *args for order_func_nb\n",
    "        COMMPERC,\n",
    "        pre_group_func_nb=pre_group_func_nb, \n",
    "        pre_group_args=(\n",
    "            np.asarray(param_product[0]), \n",
    "            np.asarray(param_product[1]), \n",
    "            np.asarray(param_product[2]), \n",
    "            np.asarray(ORDER_PCT1), \n",
    "            np.asarray(ORDER_PCT2)\n",
    "        ),\n",
    "        pre_segment_func_nb=pre_segment_func_nb, \n",
    "        pre_segment_args=(\n",
    "            MODE,\n",
    "        ),\n",
    "        fill_pos_record=False,\n",
    "        init_cash=CASH,\n",
    "        cash_sharing=True, \n",
    "        group_by=param_columns.names,\n",
    "        freq='d'\n",
    "    )\n",
    "\n",
    "vbt_pf_mult = simulate_mult_from_order_func(periods, uppers, lowers)"
   ]
  },
  {
   "cell_type": "code",
   "execution_count": 45,
   "metadata": {},
   "outputs": [
    {
     "name": "stdout",
     "output_type": "stream",
     "text": [
      "period  upper  lower\n",
      "10      1.6    -1.5    -0.068466\n",
      "        1.5    -1.5    -0.067897\n",
      "        1.8    -1.5    -0.066885\n",
      "        1.5    -1.6    -0.065260\n",
      "        1.7    -1.5    -0.065036\n",
      "                          ...   \n",
      "100     2.0    -2.2     0.003538\n",
      "        1.9    -2.2     0.003538\n",
      "        2.1    -2.2     0.003538\n",
      "        1.8    -2.2     0.003538\n",
      "        2.2    -2.2     0.003538\n",
      "Name: total_return, Length: 1216, dtype: float64\n"
     ]
    },
    {
     "data": {
      "image/svg+xml": [
       "<svg class=\"main-svg\" xmlns=\"http://www.w3.org/2000/svg\" xmlns:xlink=\"http://www.w3.org/1999/xlink\" width=\"700\" height=\"350\" style=\"\" viewBox=\"0 0 700 350\"><rect x=\"0\" y=\"0\" width=\"700\" height=\"350\" style=\"fill: rgb(255, 255, 255); fill-opacity: 1;\"/><defs id=\"defs-e354ca\"><g class=\"clips\"><clipPath id=\"clipe354caxyplot\" class=\"plotclip\"><rect width=\"634\" height=\"274\"/></clipPath><clipPath class=\"axesclip\" id=\"clipe354cax\"><rect x=\"36\" y=\"0\" width=\"634\" height=\"350\"/></clipPath><clipPath class=\"axesclip\" id=\"clipe354cay\"><rect x=\"0\" y=\"46\" width=\"700\" height=\"274\"/></clipPath><clipPath class=\"axesclip\" id=\"clipe354caxy\"><rect x=\"36\" y=\"46\" width=\"634\" height=\"274\"/></clipPath></g><g class=\"gradients\"/><g class=\"patterns\"/></defs><g class=\"bglayer\"><rect class=\"bg\" x=\"36\" y=\"46\" width=\"634\" height=\"274\" style=\"fill: rgb(229, 236, 246); fill-opacity: 1; stroke-width: 0;\"/></g><g class=\"layer-below\"><g class=\"imagelayer\"/><g class=\"shapelayer\"/></g><g class=\"cartesianlayer\"><g class=\"subplot xy\"><g class=\"layer-subplot\"><g class=\"shapelayer\"/><g class=\"imagelayer\"/></g><g class=\"gridlayer\"><g class=\"x\"/><g class=\"y\"><path class=\"ygrid crisp\" transform=\"translate(0,273.1)\" d=\"M36,0h634\" style=\"stroke: rgb(255, 255, 255); stroke-opacity: 1; stroke-width: 1px;\"/><path class=\"ygrid crisp\" transform=\"translate(0,226.2)\" d=\"M36,0h634\" style=\"stroke: rgb(255, 255, 255); stroke-opacity: 1; stroke-width: 1px;\"/><path class=\"ygrid crisp\" transform=\"translate(0,179.3)\" d=\"M36,0h634\" style=\"stroke: rgb(255, 255, 255); stroke-opacity: 1; stroke-width: 1px;\"/><path class=\"ygrid crisp\" transform=\"translate(0,132.4)\" d=\"M36,0h634\" style=\"stroke: rgb(255, 255, 255); stroke-opacity: 1; stroke-width: 1px;\"/><path class=\"ygrid crisp\" transform=\"translate(0,85.5)\" d=\"M36,0h634\" style=\"stroke: rgb(255, 255, 255); stroke-opacity: 1; stroke-width: 1px;\"/></g></g><g class=\"zerolinelayer\"><path class=\"yzl zl crisp\" transform=\"translate(0,320)\" d=\"M36,0h634\" style=\"stroke: rgb(255, 255, 255); stroke-opacity: 1; stroke-width: 2px;\"/></g><path class=\"xlines-below\"/><path class=\"ylines-below\"/><g class=\"overlines-below\"/><g class=\"xaxislayer-below\"/><g class=\"yaxislayer-below\"/><g class=\"overaxes-below\"/><g class=\"plot\" transform=\"translate(36,46)\" clip-path=\"url(#clipe354caxyplot)\"><g class=\"barlayer mlayer\"><g class=\"trace bars\" shape-rendering=\"crispEdges\" style=\"opacity: 1;\"><g class=\"points\"><g class=\"point\"><path d=\"M0,274V271.65H17.14V274Z\" style=\"vector-effect: non-scaling-stroke; opacity: 1; stroke-width: 0px; fill: rgb(31, 119, 180); fill-opacity: 1;\"/></g><g class=\"point\"><path d=\"M17.14,274V269.31H34.27V274Z\" style=\"vector-effect: non-scaling-stroke; opacity: 1; stroke-width: 0px; fill: rgb(31, 119, 180); fill-opacity: 1;\"/></g><g class=\"point\"><path d=\"M34.27,274V266.96H51.41V274Z\" style=\"vector-effect: non-scaling-stroke; opacity: 1; stroke-width: 0px; fill: rgb(31, 119, 180); fill-opacity: 1;\"/></g><g class=\"point\"><path d=\"M51.41,274V264.62H68.54V274Z\" style=\"vector-effect: non-scaling-stroke; opacity: 1; stroke-width: 0px; fill: rgb(31, 119, 180); fill-opacity: 1;\"/></g><g class=\"point\"><path d=\"M68.54,274V269.31H85.68V274Z\" style=\"vector-effect: non-scaling-stroke; opacity: 1; stroke-width: 0px; fill: rgb(31, 119, 180); fill-opacity: 1;\"/></g><g class=\"point\"><path d=\"M85.68,274V271.65H102.81V274Z\" style=\"vector-effect: non-scaling-stroke; opacity: 1; stroke-width: 0px; fill: rgb(31, 119, 180); fill-opacity: 1;\"/></g><g class=\"point\"><path d=\"M102.81,274V259.93H119.95V274Z\" style=\"vector-effect: non-scaling-stroke; opacity: 1; stroke-width: 0px; fill: rgb(31, 119, 180); fill-opacity: 1;\"/></g><g class=\"point\"><path d=\"M119.95,274V259.93H137.08V274Z\" style=\"vector-effect: non-scaling-stroke; opacity: 1; stroke-width: 0px; fill: rgb(31, 119, 180); fill-opacity: 1;\"/></g><g class=\"point\"><path d=\"M137.08,274V262.27H154.22V274Z\" style=\"vector-effect: non-scaling-stroke; opacity: 1; stroke-width: 0px; fill: rgb(31, 119, 180); fill-opacity: 1;\"/></g><g class=\"point\"><path d=\"M154.22,274V264.62H171.35V274Z\" style=\"vector-effect: non-scaling-stroke; opacity: 1; stroke-width: 0px; fill: rgb(31, 119, 180); fill-opacity: 1;\"/></g><g class=\"point\"><path d=\"M171.35,274V220.06H188.49V274Z\" style=\"vector-effect: non-scaling-stroke; opacity: 1; stroke-width: 0px; fill: rgb(31, 119, 180); fill-opacity: 1;\"/></g><g class=\"point\"><path d=\"M188.49,274V220.06H205.62V274Z\" style=\"vector-effect: non-scaling-stroke; opacity: 1; stroke-width: 0px; fill: rgb(31, 119, 180); fill-opacity: 1;\"/></g><g class=\"point\"><path d=\"M205.62,274V229.44H222.76V274Z\" style=\"vector-effect: non-scaling-stroke; opacity: 1; stroke-width: 0px; fill: rgb(31, 119, 180); fill-opacity: 1;\"/></g><g class=\"point\"><path d=\"M222.76,274V196.61H239.89V274Z\" style=\"vector-effect: non-scaling-stroke; opacity: 1; stroke-width: 0px; fill: rgb(31, 119, 180); fill-opacity: 1;\"/></g><g class=\"point\"><path d=\"M239.89,274V205.99H257.03V274Z\" style=\"vector-effect: non-scaling-stroke; opacity: 1; stroke-width: 0px; fill: rgb(31, 119, 180); fill-opacity: 1;\"/></g><g class=\"point\"><path d=\"M257.03,274V220.06H274.16V274Z\" style=\"vector-effect: non-scaling-stroke; opacity: 1; stroke-width: 0px; fill: rgb(31, 119, 180); fill-opacity: 1;\"/></g><g class=\"point\"><path d=\"M274.16,274V189.58H291.3V274Z\" style=\"vector-effect: non-scaling-stroke; opacity: 1; stroke-width: 0px; fill: rgb(31, 119, 180); fill-opacity: 1;\"/></g><g class=\"point\"><path d=\"M291.3,274V191.92H308.43V274Z\" style=\"vector-effect: non-scaling-stroke; opacity: 1; stroke-width: 0px; fill: rgb(31, 119, 180); fill-opacity: 1;\"/></g><g class=\"point\"><path d=\"M308.43,274V180.2H325.57V274Z\" style=\"vector-effect: non-scaling-stroke; opacity: 1; stroke-width: 0px; fill: rgb(31, 119, 180); fill-opacity: 1;\"/></g><g class=\"point\"><path d=\"M325.57,274V184.89H342.7V274Z\" style=\"vector-effect: non-scaling-stroke; opacity: 1; stroke-width: 0px; fill: rgb(31, 119, 180); fill-opacity: 1;\"/></g><g class=\"point\"><path d=\"M342.7,274V187.23H359.84V274Z\" style=\"vector-effect: non-scaling-stroke; opacity: 1; stroke-width: 0px; fill: rgb(31, 119, 180); fill-opacity: 1;\"/></g><g class=\"point\"><path d=\"M359.84,274V229.44H376.97V274Z\" style=\"vector-effect: non-scaling-stroke; opacity: 1; stroke-width: 0px; fill: rgb(31, 119, 180); fill-opacity: 1;\"/></g><g class=\"point\"><path d=\"M376.97,274V238.82H394.11V274Z\" style=\"vector-effect: non-scaling-stroke; opacity: 1; stroke-width: 0px; fill: rgb(31, 119, 180); fill-opacity: 1;\"/></g><g class=\"point\"><path d=\"M394.11,274V236.48H411.24V274Z\" style=\"vector-effect: non-scaling-stroke; opacity: 1; stroke-width: 0px; fill: rgb(31, 119, 180); fill-opacity: 1;\"/></g><g class=\"point\"><path d=\"M411.24,274V208.34H428.38V274Z\" style=\"vector-effect: non-scaling-stroke; opacity: 1; stroke-width: 0px; fill: rgb(31, 119, 180); fill-opacity: 1;\"/></g><g class=\"point\"><path d=\"M428.38,274V147.37H445.51V274Z\" style=\"vector-effect: non-scaling-stroke; opacity: 1; stroke-width: 0px; fill: rgb(31, 119, 180); fill-opacity: 1;\"/></g><g class=\"point\"><path d=\"M445.51,274V105.16H462.65V274Z\" style=\"vector-effect: non-scaling-stroke; opacity: 1; stroke-width: 0px; fill: rgb(31, 119, 180); fill-opacity: 1;\"/></g><g class=\"point\"><path d=\"M462.65,274V114.54H479.78V274Z\" style=\"vector-effect: non-scaling-stroke; opacity: 1; stroke-width: 0px; fill: rgb(31, 119, 180); fill-opacity: 1;\"/></g><g class=\"point\"><path d=\"M479.78,274V142.68H496.92V274Z\" style=\"vector-effect: non-scaling-stroke; opacity: 1; stroke-width: 0px; fill: rgb(31, 119, 180); fill-opacity: 1;\"/></g><g class=\"point\"><path d=\"M496.92,274V156.75H514.05V274Z\" style=\"vector-effect: non-scaling-stroke; opacity: 1; stroke-width: 0px; fill: rgb(31, 119, 180); fill-opacity: 1;\"/></g><g class=\"point\"><path d=\"M514.05,274V126.26H531.19V274Z\" style=\"vector-effect: non-scaling-stroke; opacity: 1; stroke-width: 0px; fill: rgb(31, 119, 180); fill-opacity: 1;\"/></g><g class=\"point\"><path d=\"M531.19,274V72.33H548.32V274Z\" style=\"vector-effect: non-scaling-stroke; opacity: 1; stroke-width: 0px; fill: rgb(31, 119, 180); fill-opacity: 1;\"/></g><g class=\"point\"><path d=\"M548.32,274V119.23H565.46V274Z\" style=\"vector-effect: non-scaling-stroke; opacity: 1; stroke-width: 0px; fill: rgb(31, 119, 180); fill-opacity: 1;\"/></g><g class=\"point\"><path d=\"M565.46,274V13.7H582.59V274Z\" style=\"vector-effect: non-scaling-stroke; opacity: 1; stroke-width: 0px; fill: rgb(31, 119, 180); fill-opacity: 1;\"/></g><g class=\"point\"><path d=\"M582.59,274V149.71H599.73V274Z\" style=\"vector-effect: non-scaling-stroke; opacity: 1; stroke-width: 0px; fill: rgb(31, 119, 180); fill-opacity: 1;\"/></g><g class=\"point\"><path d=\"M599.73,274V126.26H616.86V274Z\" style=\"vector-effect: non-scaling-stroke; opacity: 1; stroke-width: 0px; fill: rgb(31, 119, 180); fill-opacity: 1;\"/></g><g class=\"point\"><path d=\"M616.86,274V213.03H634V274Z\" style=\"vector-effect: non-scaling-stroke; opacity: 1; stroke-width: 0px; fill: rgb(31, 119, 180); fill-opacity: 1;\"/></g></g></g></g></g><g class=\"overplot\"/><path class=\"xlines-above crisp\" d=\"M0,0\" style=\"fill: none;\"/><path class=\"ylines-above crisp\" d=\"M0,0\" style=\"fill: none;\"/><g class=\"overlines-above\"/><g class=\"xaxislayer-above\"><g class=\"xtick\"><text text-anchor=\"middle\" x=\"0\" y=\"333\" transform=\"translate(36,0)\" style=\"font-family: 'Open Sans', verdana, arial, sans-serif; font-size: 12px; fill: rgb(42, 63, 95); fill-opacity: 1; white-space: pre; opacity: 1;\">−0.07</text></g><g class=\"xtick\"><text text-anchor=\"middle\" x=\"0\" y=\"333\" style=\"font-family: 'Open Sans', verdana, arial, sans-serif; font-size: 12px; fill: rgb(42, 63, 95); fill-opacity: 1; white-space: pre; opacity: 1;\" transform=\"translate(121.68,0)\">−0.06</text></g><g class=\"xtick\"><text text-anchor=\"middle\" x=\"0\" y=\"333\" style=\"font-family: 'Open Sans', verdana, arial, sans-serif; font-size: 12px; fill: rgb(42, 63, 95); fill-opacity: 1; white-space: pre; opacity: 1;\" transform=\"translate(207.35,0)\">−0.05</text></g><g class=\"xtick\"><text text-anchor=\"middle\" x=\"0\" y=\"333\" style=\"font-family: 'Open Sans', verdana, arial, sans-serif; font-size: 12px; fill: rgb(42, 63, 95); fill-opacity: 1; white-space: pre; opacity: 1;\" transform=\"translate(293.03,0)\">−0.04</text></g><g class=\"xtick\"><text text-anchor=\"middle\" x=\"0\" y=\"333\" style=\"font-family: 'Open Sans', verdana, arial, sans-serif; font-size: 12px; fill: rgb(42, 63, 95); fill-opacity: 1; white-space: pre; opacity: 1;\" transform=\"translate(378.7,0)\">−0.03</text></g><g class=\"xtick\"><text text-anchor=\"middle\" x=\"0\" y=\"333\" style=\"font-family: 'Open Sans', verdana, arial, sans-serif; font-size: 12px; fill: rgb(42, 63, 95); fill-opacity: 1; white-space: pre; opacity: 1;\" transform=\"translate(464.38,0)\">−0.02</text></g><g class=\"xtick\"><text text-anchor=\"middle\" x=\"0\" y=\"333\" style=\"font-family: 'Open Sans', verdana, arial, sans-serif; font-size: 12px; fill: rgb(42, 63, 95); fill-opacity: 1; white-space: pre; opacity: 1;\" transform=\"translate(550.05,0)\">−0.01</text></g><g class=\"xtick\"><text text-anchor=\"middle\" x=\"0\" y=\"333\" style=\"font-family: 'Open Sans', verdana, arial, sans-serif; font-size: 12px; fill: rgb(42, 63, 95); fill-opacity: 1; white-space: pre; opacity: 1;\" transform=\"translate(635.73,0)\">0</text></g></g><g class=\"yaxislayer-above\"><g class=\"ytick\"><text text-anchor=\"end\" x=\"35\" y=\"4.199999999999999\" transform=\"translate(0,320)\" style=\"font-family: 'Open Sans', verdana, arial, sans-serif; font-size: 12px; fill: rgb(42, 63, 95); fill-opacity: 1; white-space: pre; opacity: 1;\">0</text></g><g class=\"ytick\"><text text-anchor=\"end\" x=\"35\" y=\"4.199999999999999\" style=\"font-family: 'Open Sans', verdana, arial, sans-serif; font-size: 12px; fill: rgb(42, 63, 95); fill-opacity: 1; white-space: pre; opacity: 1;\" transform=\"translate(0,273.1)\">20</text></g><g class=\"ytick\"><text text-anchor=\"end\" x=\"35\" y=\"4.199999999999999\" style=\"font-family: 'Open Sans', verdana, arial, sans-serif; font-size: 12px; fill: rgb(42, 63, 95); fill-opacity: 1; white-space: pre; opacity: 1;\" transform=\"translate(0,226.2)\">40</text></g><g class=\"ytick\"><text text-anchor=\"end\" x=\"35\" y=\"4.199999999999999\" style=\"font-family: 'Open Sans', verdana, arial, sans-serif; font-size: 12px; fill: rgb(42, 63, 95); fill-opacity: 1; white-space: pre; opacity: 1;\" transform=\"translate(0,179.3)\">60</text></g><g class=\"ytick\"><text text-anchor=\"end\" x=\"35\" y=\"4.199999999999999\" style=\"font-family: 'Open Sans', verdana, arial, sans-serif; font-size: 12px; fill: rgb(42, 63, 95); fill-opacity: 1; white-space: pre; opacity: 1;\" transform=\"translate(0,132.4)\">80</text></g><g class=\"ytick\"><text text-anchor=\"end\" x=\"35\" y=\"4.199999999999999\" style=\"font-family: 'Open Sans', verdana, arial, sans-serif; font-size: 12px; fill: rgb(42, 63, 95); fill-opacity: 1; white-space: pre; opacity: 1;\" transform=\"translate(0,85.5)\">100</text></g></g><g class=\"overaxes-above\"/></g></g><g class=\"polarlayer\"/><g class=\"smithlayer\"/><g class=\"ternarylayer\"/><g class=\"geolayer\"/><g class=\"funnelarealayer\"/><g class=\"pielayer\"/><g class=\"iciclelayer\"/><g class=\"treemaplayer\"/><g class=\"sunburstlayer\"/><g class=\"glimages\"/><defs id=\"topdefs-e354ca\"><g class=\"clips\"/><clipPath id=\"legende354ca\"><rect width=\"118\" height=\"29\" x=\"0\" y=\"0\"/></clipPath></defs><g class=\"layer-above\"><g class=\"imagelayer\"/><g class=\"shapelayer\"/></g><g class=\"infolayer\"><g class=\"legend\" pointer-events=\"all\" transform=\"translate(552,11.519999999999996)\"><rect class=\"bg\" shape-rendering=\"crispEdges\" style=\"stroke: rgb(68, 68, 68); stroke-opacity: 1; fill: rgb(255, 255, 255); fill-opacity: 1; stroke-width: 0px;\" width=\"118\" height=\"29\" x=\"0\" y=\"0\"/><g class=\"scrollbox\" transform=\"\" clip-path=\"url(#legende354ca)\"><g class=\"groups\"><g class=\"traces\" transform=\"translate(0,14.5)\" style=\"opacity: 1;\"><text class=\"legendtext\" text-anchor=\"start\" x=\"40\" y=\"4.680000000000001\" style=\"font-family: 'Open Sans', verdana, arial, sans-serif; font-size: 12px; fill: rgb(42, 63, 95); fill-opacity: 1; white-space: pre;\">total_return</text><g class=\"layers\" style=\"opacity: 1;\"><g class=\"legendfill\"/><g class=\"legendlines\"/><g class=\"legendsymbols\"><g class=\"legendpoints\"><path class=\"legendundefined\" d=\"M6,6H-6V-6H6Z\" transform=\"translate(20,0)\" style=\"stroke-width: 0px; fill: rgb(31, 119, 180); fill-opacity: 1;\"/></g></g></g><rect class=\"legendtoggle\" x=\"0\" y=\"-9.5\" width=\"114.6875\" height=\"19\" style=\"fill: rgb(0, 0, 0); fill-opacity: 0;\"/></g></g></g><rect class=\"scrollbar\" rx=\"20\" ry=\"3\" width=\"0\" height=\"0\" style=\"fill: rgb(128, 139, 164); fill-opacity: 1;\" x=\"0\" y=\"0\"/></g><g class=\"g-gtitle\"/><g class=\"g-xtitle\"/><g class=\"g-ytitle\"/></g></svg>"
      ]
     },
     "metadata": {},
     "output_type": "display_data"
    }
   ],
   "source": [
    "print(vbt_pf_mult.total_return.sort_values())\n",
    "\n",
    "vbt_pf_mult.total_return.vbt.histplot().show_svg()"
   ]
  },
  {
   "cell_type": "code",
   "execution_count": 46,
   "metadata": {},
   "outputs": [
    {
     "name": "stdout",
     "output_type": "stream",
     "text": [
      "1.93 s ± 5.7 ms per loop (mean ± std. dev. of 7 runs, 1 loop each)\n"
     ]
    }
   ],
   "source": [
    "# How fast is vbt?\n",
    "%timeit simulate_mult_from_order_func(periods, uppers, lowers)"
   ]
  },
  {
   "cell_type": "markdown",
   "metadata": {},
   "source": [
    "Even though the strategy is profitable on paper, the majority of hyperparameter combinations yield a loss, so finding a proper \"slice\" of hyperparameters is just a question of luck when relying on a single backtest. Thanks to vectorbt, we can do thousands of tests in seconds to validate our strategy - the same would last hours using conventional libraries."
   ]
  },
  {
   "cell_type": "markdown",
   "metadata": {},
   "source": [
    "### Bonus: smart broadcasting and templates"
   ]
  },
  {
   "cell_type": "markdown",
   "metadata": {},
   "source": [
    "In the previous example, we manually generated parameter combinations and tiled our close and open dataframes to match the number of combinations. This all can be simplified using smart broadcasting and templates. \n",
    "\n",
    "Any argument that should broadcast to the target shape can be specified using `broadcast_named_args`. This dictionary, together with close, is then passed to `vbt.broadcast`. The broadcasting function automatically combines all parameters and tiles all regular arrays such as close and price. Finally, by using templates such as `vbt.Rep`, we can instruct vectorbt to replace templates with their corresponding arrays."
   ]
  },
  {
   "cell_type": "code",
   "execution_count": 47,
   "metadata": {},
   "outputs": [],
   "source": [
    "def simulate_mult_from_order_func2(periods, uppers, lowers):\n",
    "    \"\"\"Simulate multiple parameter combinations using `Portfolio.from_order_func` and templates.\"\"\"\n",
    "    \n",
    "    return vbt.Portfolio.from_order_func(\n",
    "        vbt_close_price,\n",
    "        order_func_nb, \n",
    "        vbt.Rep('price'),\n",
    "        COMMPERC,\n",
    "        pre_group_func_nb=pre_group_func_nb, \n",
    "        pre_group_args=(\n",
    "            vbt.Rep('period'),  # substitute by an output of vbt.broadcast\n",
    "            vbt.Rep('upper'), \n",
    "            vbt.Rep('lower'), \n",
    "            np.asarray(ORDER_PCT1), \n",
    "            np.asarray(ORDER_PCT2)\n",
    "        ),\n",
    "        pre_segment_func_nb=pre_segment_func_nb, \n",
    "        pre_segment_args=(\n",
    "            MODE,\n",
    "        ),\n",
    "        broadcast_named_args=dict(  # broadcast against each other using vbt.broadcast\n",
    "            period=vbt.BCO(periods, product=True, repeat_product=False),  # repeat_product=False -> per group\n",
    "            upper=vbt.BCO(uppers, product=True, repeat_product=False),\n",
    "            lower=vbt.BCO(lowers, product=True, repeat_product=False),\n",
    "            price=vbt_open_price\n",
    "        ),\n",
    "        fill_pos_record=False,\n",
    "        init_cash=CASH,\n",
    "        cash_sharing=True, \n",
    "        group_by=('period', 'upper', 'lower'),  # group by params\n",
    "        freq='d'\n",
    "    )\n",
    "\n",
    "vbt_pf_mult2 = simulate_mult_from_order_func2(periods, uppers, lowers)"
   ]
  },
  {
   "cell_type": "code",
   "execution_count": 48,
   "metadata": {},
   "outputs": [
    {
     "name": "stdout",
     "output_type": "stream",
     "text": [
      "period  upper  lower\n",
      "10      1.6    -1.5    -0.068466\n",
      "        1.5    -1.5    -0.067897\n",
      "        1.8    -1.5    -0.066885\n",
      "        1.5    -1.6    -0.065260\n",
      "        1.7    -1.5    -0.065036\n",
      "                          ...   \n",
      "100     2.0    -2.2     0.003538\n",
      "        1.9    -2.2     0.003538\n",
      "        2.1    -2.2     0.003538\n",
      "        1.8    -2.2     0.003538\n",
      "        2.2    -2.2     0.003538\n",
      "Name: total_return, Length: 1216, dtype: float64\n"
     ]
    },
    {
     "data": {
      "image/svg+xml": [
       "<svg class=\"main-svg\" xmlns=\"http://www.w3.org/2000/svg\" xmlns:xlink=\"http://www.w3.org/1999/xlink\" width=\"700\" height=\"350\" style=\"\" viewBox=\"0 0 700 350\"><rect x=\"0\" y=\"0\" width=\"700\" height=\"350\" style=\"fill: rgb(255, 255, 255); fill-opacity: 1;\"/><defs id=\"defs-f9022a\"><g class=\"clips\"><clipPath id=\"clipf9022axyplot\" class=\"plotclip\"><rect width=\"634\" height=\"274\"/></clipPath><clipPath class=\"axesclip\" id=\"clipf9022ax\"><rect x=\"36\" y=\"0\" width=\"634\" height=\"350\"/></clipPath><clipPath class=\"axesclip\" id=\"clipf9022ay\"><rect x=\"0\" y=\"46\" width=\"700\" height=\"274\"/></clipPath><clipPath class=\"axesclip\" id=\"clipf9022axy\"><rect x=\"36\" y=\"46\" width=\"634\" height=\"274\"/></clipPath></g><g class=\"gradients\"/><g class=\"patterns\"/></defs><g class=\"bglayer\"><rect class=\"bg\" x=\"36\" y=\"46\" width=\"634\" height=\"274\" style=\"fill: rgb(229, 236, 246); fill-opacity: 1; stroke-width: 0;\"/></g><g class=\"layer-below\"><g class=\"imagelayer\"/><g class=\"shapelayer\"/></g><g class=\"cartesianlayer\"><g class=\"subplot xy\"><g class=\"layer-subplot\"><g class=\"shapelayer\"/><g class=\"imagelayer\"/></g><g class=\"gridlayer\"><g class=\"x\"/><g class=\"y\"><path class=\"ygrid crisp\" transform=\"translate(0,273.1)\" d=\"M36,0h634\" style=\"stroke: rgb(255, 255, 255); stroke-opacity: 1; stroke-width: 1px;\"/><path class=\"ygrid crisp\" transform=\"translate(0,226.2)\" d=\"M36,0h634\" style=\"stroke: rgb(255, 255, 255); stroke-opacity: 1; stroke-width: 1px;\"/><path class=\"ygrid crisp\" transform=\"translate(0,179.3)\" d=\"M36,0h634\" style=\"stroke: rgb(255, 255, 255); stroke-opacity: 1; stroke-width: 1px;\"/><path class=\"ygrid crisp\" transform=\"translate(0,132.4)\" d=\"M36,0h634\" style=\"stroke: rgb(255, 255, 255); stroke-opacity: 1; stroke-width: 1px;\"/><path class=\"ygrid crisp\" transform=\"translate(0,85.5)\" d=\"M36,0h634\" style=\"stroke: rgb(255, 255, 255); stroke-opacity: 1; stroke-width: 1px;\"/></g></g><g class=\"zerolinelayer\"><path class=\"yzl zl crisp\" transform=\"translate(0,320)\" d=\"M36,0h634\" style=\"stroke: rgb(255, 255, 255); stroke-opacity: 1; stroke-width: 2px;\"/></g><path class=\"xlines-below\"/><path class=\"ylines-below\"/><g class=\"overlines-below\"/><g class=\"xaxislayer-below\"/><g class=\"yaxislayer-below\"/><g class=\"overaxes-below\"/><g class=\"plot\" transform=\"translate(36,46)\" clip-path=\"url(#clipf9022axyplot)\"><g class=\"barlayer mlayer\"><g class=\"trace bars\" shape-rendering=\"crispEdges\" style=\"opacity: 1;\"><g class=\"points\"><g class=\"point\"><path d=\"M0,274V271.65H17.14V274Z\" style=\"vector-effect: non-scaling-stroke; opacity: 1; stroke-width: 0px; fill: rgb(31, 119, 180); fill-opacity: 1;\"/></g><g class=\"point\"><path d=\"M17.14,274V269.31H34.27V274Z\" style=\"vector-effect: non-scaling-stroke; opacity: 1; stroke-width: 0px; fill: rgb(31, 119, 180); fill-opacity: 1;\"/></g><g class=\"point\"><path d=\"M34.27,274V266.96H51.41V274Z\" style=\"vector-effect: non-scaling-stroke; opacity: 1; stroke-width: 0px; fill: rgb(31, 119, 180); fill-opacity: 1;\"/></g><g class=\"point\"><path d=\"M51.41,274V264.62H68.54V274Z\" style=\"vector-effect: non-scaling-stroke; opacity: 1; stroke-width: 0px; fill: rgb(31, 119, 180); fill-opacity: 1;\"/></g><g class=\"point\"><path d=\"M68.54,274V269.31H85.68V274Z\" style=\"vector-effect: non-scaling-stroke; opacity: 1; stroke-width: 0px; fill: rgb(31, 119, 180); fill-opacity: 1;\"/></g><g class=\"point\"><path d=\"M85.68,274V271.65H102.81V274Z\" style=\"vector-effect: non-scaling-stroke; opacity: 1; stroke-width: 0px; fill: rgb(31, 119, 180); fill-opacity: 1;\"/></g><g class=\"point\"><path d=\"M102.81,274V259.93H119.95V274Z\" style=\"vector-effect: non-scaling-stroke; opacity: 1; stroke-width: 0px; fill: rgb(31, 119, 180); fill-opacity: 1;\"/></g><g class=\"point\"><path d=\"M119.95,274V259.93H137.08V274Z\" style=\"vector-effect: non-scaling-stroke; opacity: 1; stroke-width: 0px; fill: rgb(31, 119, 180); fill-opacity: 1;\"/></g><g class=\"point\"><path d=\"M137.08,274V262.27H154.22V274Z\" style=\"vector-effect: non-scaling-stroke; opacity: 1; stroke-width: 0px; fill: rgb(31, 119, 180); fill-opacity: 1;\"/></g><g class=\"point\"><path d=\"M154.22,274V264.62H171.35V274Z\" style=\"vector-effect: non-scaling-stroke; opacity: 1; stroke-width: 0px; fill: rgb(31, 119, 180); fill-opacity: 1;\"/></g><g class=\"point\"><path d=\"M171.35,274V220.06H188.49V274Z\" style=\"vector-effect: non-scaling-stroke; opacity: 1; stroke-width: 0px; fill: rgb(31, 119, 180); fill-opacity: 1;\"/></g><g class=\"point\"><path d=\"M188.49,274V220.06H205.62V274Z\" style=\"vector-effect: non-scaling-stroke; opacity: 1; stroke-width: 0px; fill: rgb(31, 119, 180); fill-opacity: 1;\"/></g><g class=\"point\"><path d=\"M205.62,274V229.44H222.76V274Z\" style=\"vector-effect: non-scaling-stroke; opacity: 1; stroke-width: 0px; fill: rgb(31, 119, 180); fill-opacity: 1;\"/></g><g class=\"point\"><path d=\"M222.76,274V196.61H239.89V274Z\" style=\"vector-effect: non-scaling-stroke; opacity: 1; stroke-width: 0px; fill: rgb(31, 119, 180); fill-opacity: 1;\"/></g><g class=\"point\"><path d=\"M239.89,274V205.99H257.03V274Z\" style=\"vector-effect: non-scaling-stroke; opacity: 1; stroke-width: 0px; fill: rgb(31, 119, 180); fill-opacity: 1;\"/></g><g class=\"point\"><path d=\"M257.03,274V220.06H274.16V274Z\" style=\"vector-effect: non-scaling-stroke; opacity: 1; stroke-width: 0px; fill: rgb(31, 119, 180); fill-opacity: 1;\"/></g><g class=\"point\"><path d=\"M274.16,274V189.58H291.3V274Z\" style=\"vector-effect: non-scaling-stroke; opacity: 1; stroke-width: 0px; fill: rgb(31, 119, 180); fill-opacity: 1;\"/></g><g class=\"point\"><path d=\"M291.3,274V191.92H308.43V274Z\" style=\"vector-effect: non-scaling-stroke; opacity: 1; stroke-width: 0px; fill: rgb(31, 119, 180); fill-opacity: 1;\"/></g><g class=\"point\"><path d=\"M308.43,274V180.2H325.57V274Z\" style=\"vector-effect: non-scaling-stroke; opacity: 1; stroke-width: 0px; fill: rgb(31, 119, 180); fill-opacity: 1;\"/></g><g class=\"point\"><path d=\"M325.57,274V184.89H342.7V274Z\" style=\"vector-effect: non-scaling-stroke; opacity: 1; stroke-width: 0px; fill: rgb(31, 119, 180); fill-opacity: 1;\"/></g><g class=\"point\"><path d=\"M342.7,274V187.23H359.84V274Z\" style=\"vector-effect: non-scaling-stroke; opacity: 1; stroke-width: 0px; fill: rgb(31, 119, 180); fill-opacity: 1;\"/></g><g class=\"point\"><path d=\"M359.84,274V229.44H376.97V274Z\" style=\"vector-effect: non-scaling-stroke; opacity: 1; stroke-width: 0px; fill: rgb(31, 119, 180); fill-opacity: 1;\"/></g><g class=\"point\"><path d=\"M376.97,274V238.82H394.11V274Z\" style=\"vector-effect: non-scaling-stroke; opacity: 1; stroke-width: 0px; fill: rgb(31, 119, 180); fill-opacity: 1;\"/></g><g class=\"point\"><path d=\"M394.11,274V236.48H411.24V274Z\" style=\"vector-effect: non-scaling-stroke; opacity: 1; stroke-width: 0px; fill: rgb(31, 119, 180); fill-opacity: 1;\"/></g><g class=\"point\"><path d=\"M411.24,274V208.34H428.38V274Z\" style=\"vector-effect: non-scaling-stroke; opacity: 1; stroke-width: 0px; fill: rgb(31, 119, 180); fill-opacity: 1;\"/></g><g class=\"point\"><path d=\"M428.38,274V147.37H445.51V274Z\" style=\"vector-effect: non-scaling-stroke; opacity: 1; stroke-width: 0px; fill: rgb(31, 119, 180); fill-opacity: 1;\"/></g><g class=\"point\"><path d=\"M445.51,274V105.16H462.65V274Z\" style=\"vector-effect: non-scaling-stroke; opacity: 1; stroke-width: 0px; fill: rgb(31, 119, 180); fill-opacity: 1;\"/></g><g class=\"point\"><path d=\"M462.65,274V114.54H479.78V274Z\" style=\"vector-effect: non-scaling-stroke; opacity: 1; stroke-width: 0px; fill: rgb(31, 119, 180); fill-opacity: 1;\"/></g><g class=\"point\"><path d=\"M479.78,274V142.68H496.92V274Z\" style=\"vector-effect: non-scaling-stroke; opacity: 1; stroke-width: 0px; fill: rgb(31, 119, 180); fill-opacity: 1;\"/></g><g class=\"point\"><path d=\"M496.92,274V156.75H514.05V274Z\" style=\"vector-effect: non-scaling-stroke; opacity: 1; stroke-width: 0px; fill: rgb(31, 119, 180); fill-opacity: 1;\"/></g><g class=\"point\"><path d=\"M514.05,274V126.26H531.19V274Z\" style=\"vector-effect: non-scaling-stroke; opacity: 1; stroke-width: 0px; fill: rgb(31, 119, 180); fill-opacity: 1;\"/></g><g class=\"point\"><path d=\"M531.19,274V72.33H548.32V274Z\" style=\"vector-effect: non-scaling-stroke; opacity: 1; stroke-width: 0px; fill: rgb(31, 119, 180); fill-opacity: 1;\"/></g><g class=\"point\"><path d=\"M548.32,274V119.23H565.46V274Z\" style=\"vector-effect: non-scaling-stroke; opacity: 1; stroke-width: 0px; fill: rgb(31, 119, 180); fill-opacity: 1;\"/></g><g class=\"point\"><path d=\"M565.46,274V13.7H582.59V274Z\" style=\"vector-effect: non-scaling-stroke; opacity: 1; stroke-width: 0px; fill: rgb(31, 119, 180); fill-opacity: 1;\"/></g><g class=\"point\"><path d=\"M582.59,274V149.71H599.73V274Z\" style=\"vector-effect: non-scaling-stroke; opacity: 1; stroke-width: 0px; fill: rgb(31, 119, 180); fill-opacity: 1;\"/></g><g class=\"point\"><path d=\"M599.73,274V126.26H616.86V274Z\" style=\"vector-effect: non-scaling-stroke; opacity: 1; stroke-width: 0px; fill: rgb(31, 119, 180); fill-opacity: 1;\"/></g><g class=\"point\"><path d=\"M616.86,274V213.03H634V274Z\" style=\"vector-effect: non-scaling-stroke; opacity: 1; stroke-width: 0px; fill: rgb(31, 119, 180); fill-opacity: 1;\"/></g></g></g></g></g><g class=\"overplot\"/><path class=\"xlines-above crisp\" d=\"M0,0\" style=\"fill: none;\"/><path class=\"ylines-above crisp\" d=\"M0,0\" style=\"fill: none;\"/><g class=\"overlines-above\"/><g class=\"xaxislayer-above\"><g class=\"xtick\"><text text-anchor=\"middle\" x=\"0\" y=\"333\" transform=\"translate(36,0)\" style=\"font-family: 'Open Sans', verdana, arial, sans-serif; font-size: 12px; fill: rgb(42, 63, 95); fill-opacity: 1; white-space: pre; opacity: 1;\">−0.07</text></g><g class=\"xtick\"><text text-anchor=\"middle\" x=\"0\" y=\"333\" style=\"font-family: 'Open Sans', verdana, arial, sans-serif; font-size: 12px; fill: rgb(42, 63, 95); fill-opacity: 1; white-space: pre; opacity: 1;\" transform=\"translate(121.68,0)\">−0.06</text></g><g class=\"xtick\"><text text-anchor=\"middle\" x=\"0\" y=\"333\" style=\"font-family: 'Open Sans', verdana, arial, sans-serif; font-size: 12px; fill: rgb(42, 63, 95); fill-opacity: 1; white-space: pre; opacity: 1;\" transform=\"translate(207.35,0)\">−0.05</text></g><g class=\"xtick\"><text text-anchor=\"middle\" x=\"0\" y=\"333\" style=\"font-family: 'Open Sans', verdana, arial, sans-serif; font-size: 12px; fill: rgb(42, 63, 95); fill-opacity: 1; white-space: pre; opacity: 1;\" transform=\"translate(293.03,0)\">−0.04</text></g><g class=\"xtick\"><text text-anchor=\"middle\" x=\"0\" y=\"333\" style=\"font-family: 'Open Sans', verdana, arial, sans-serif; font-size: 12px; fill: rgb(42, 63, 95); fill-opacity: 1; white-space: pre; opacity: 1;\" transform=\"translate(378.7,0)\">−0.03</text></g><g class=\"xtick\"><text text-anchor=\"middle\" x=\"0\" y=\"333\" style=\"font-family: 'Open Sans', verdana, arial, sans-serif; font-size: 12px; fill: rgb(42, 63, 95); fill-opacity: 1; white-space: pre; opacity: 1;\" transform=\"translate(464.38,0)\">−0.02</text></g><g class=\"xtick\"><text text-anchor=\"middle\" x=\"0\" y=\"333\" style=\"font-family: 'Open Sans', verdana, arial, sans-serif; font-size: 12px; fill: rgb(42, 63, 95); fill-opacity: 1; white-space: pre; opacity: 1;\" transform=\"translate(550.05,0)\">−0.01</text></g><g class=\"xtick\"><text text-anchor=\"middle\" x=\"0\" y=\"333\" style=\"font-family: 'Open Sans', verdana, arial, sans-serif; font-size: 12px; fill: rgb(42, 63, 95); fill-opacity: 1; white-space: pre; opacity: 1;\" transform=\"translate(635.73,0)\">0</text></g></g><g class=\"yaxislayer-above\"><g class=\"ytick\"><text text-anchor=\"end\" x=\"35\" y=\"4.199999999999999\" transform=\"translate(0,320)\" style=\"font-family: 'Open Sans', verdana, arial, sans-serif; font-size: 12px; fill: rgb(42, 63, 95); fill-opacity: 1; white-space: pre; opacity: 1;\">0</text></g><g class=\"ytick\"><text text-anchor=\"end\" x=\"35\" y=\"4.199999999999999\" style=\"font-family: 'Open Sans', verdana, arial, sans-serif; font-size: 12px; fill: rgb(42, 63, 95); fill-opacity: 1; white-space: pre; opacity: 1;\" transform=\"translate(0,273.1)\">20</text></g><g class=\"ytick\"><text text-anchor=\"end\" x=\"35\" y=\"4.199999999999999\" style=\"font-family: 'Open Sans', verdana, arial, sans-serif; font-size: 12px; fill: rgb(42, 63, 95); fill-opacity: 1; white-space: pre; opacity: 1;\" transform=\"translate(0,226.2)\">40</text></g><g class=\"ytick\"><text text-anchor=\"end\" x=\"35\" y=\"4.199999999999999\" style=\"font-family: 'Open Sans', verdana, arial, sans-serif; font-size: 12px; fill: rgb(42, 63, 95); fill-opacity: 1; white-space: pre; opacity: 1;\" transform=\"translate(0,179.3)\">60</text></g><g class=\"ytick\"><text text-anchor=\"end\" x=\"35\" y=\"4.199999999999999\" style=\"font-family: 'Open Sans', verdana, arial, sans-serif; font-size: 12px; fill: rgb(42, 63, 95); fill-opacity: 1; white-space: pre; opacity: 1;\" transform=\"translate(0,132.4)\">80</text></g><g class=\"ytick\"><text text-anchor=\"end\" x=\"35\" y=\"4.199999999999999\" style=\"font-family: 'Open Sans', verdana, arial, sans-serif; font-size: 12px; fill: rgb(42, 63, 95); fill-opacity: 1; white-space: pre; opacity: 1;\" transform=\"translate(0,85.5)\">100</text></g></g><g class=\"overaxes-above\"/></g></g><g class=\"polarlayer\"/><g class=\"smithlayer\"/><g class=\"ternarylayer\"/><g class=\"geolayer\"/><g class=\"funnelarealayer\"/><g class=\"pielayer\"/><g class=\"iciclelayer\"/><g class=\"treemaplayer\"/><g class=\"sunburstlayer\"/><g class=\"glimages\"/><defs id=\"topdefs-f9022a\"><g class=\"clips\"/><clipPath id=\"legendf9022a\"><rect width=\"118\" height=\"29\" x=\"0\" y=\"0\"/></clipPath></defs><g class=\"layer-above\"><g class=\"imagelayer\"/><g class=\"shapelayer\"/></g><g class=\"infolayer\"><g class=\"legend\" pointer-events=\"all\" transform=\"translate(552,11.519999999999996)\"><rect class=\"bg\" shape-rendering=\"crispEdges\" width=\"118\" height=\"29\" x=\"0\" y=\"0\" style=\"stroke: rgb(68, 68, 68); stroke-opacity: 1; fill: rgb(255, 255, 255); fill-opacity: 1; stroke-width: 0px;\"/><g class=\"scrollbox\" transform=\"\" clip-path=\"url(#legendf9022a)\"><g class=\"groups\"><g class=\"traces\" transform=\"translate(0,14.5)\" style=\"opacity: 1;\"><text class=\"legendtext\" text-anchor=\"start\" x=\"40\" y=\"4.680000000000001\" style=\"font-family: 'Open Sans', verdana, arial, sans-serif; font-size: 12px; fill: rgb(42, 63, 95); fill-opacity: 1; white-space: pre;\">total_return</text><g class=\"layers\" style=\"opacity: 1;\"><g class=\"legendfill\"/><g class=\"legendlines\"/><g class=\"legendsymbols\"><g class=\"legendpoints\"><path class=\"legendundefined\" d=\"M6,6H-6V-6H6Z\" transform=\"translate(20,0)\" style=\"stroke-width: 0px; fill: rgb(31, 119, 180); fill-opacity: 1;\"/></g></g></g><rect class=\"legendtoggle\" x=\"0\" y=\"-9.5\" width=\"114.6875\" height=\"19\" style=\"fill: rgb(0, 0, 0); fill-opacity: 0;\"/></g></g></g><rect class=\"scrollbar\" rx=\"20\" ry=\"3\" width=\"0\" height=\"0\" x=\"0\" y=\"0\" style=\"fill: rgb(128, 139, 164); fill-opacity: 1;\"/></g><g class=\"g-gtitle\"/><g class=\"g-xtitle\"/><g class=\"g-ytitle\"/></g></svg>"
      ]
     },
     "metadata": {},
     "output_type": "display_data"
    }
   ],
   "source": [
    "print(vbt_pf_mult2.total_return.sort_values())\n",
    "\n",
    "vbt_pf_mult2.total_return.vbt.histplot().show_svg()"
   ]
  },
  {
   "cell_type": "code",
   "execution_count": 49,
   "metadata": {},
   "outputs": [
    {
     "name": "stdout",
     "output_type": "stream",
     "text": [
      "1.93 s ± 6.93 ms per loop (mean ± std. dev. of 7 runs, 1 loop each)\n"
     ]
    }
   ],
   "source": [
    "# How fast is vbt?\n",
    "%timeit simulate_mult_from_order_func2(periods, uppers, lowers)"
   ]
  },
  {
   "cell_type": "code",
   "execution_count": null,
   "metadata": {},
   "outputs": [],
   "source": []
  }
 ],
 "metadata": {
  "kernelspec": {
   "display_name": "Python 3 (ipykernel)",
   "language": "python",
   "name": "python3"
  },
  "language_info": {
   "codemirror_mode": {
    "name": "ipython",
    "version": 3
   },
   "file_extension": ".py",
   "mimetype": "text/x-python",
   "name": "python",
   "nbconvert_exporter": "python",
   "pygments_lexer": "ipython3",
   "version": "3.9.12"
  }
 },
 "nbformat": 4,
 "nbformat_minor": 4
}
