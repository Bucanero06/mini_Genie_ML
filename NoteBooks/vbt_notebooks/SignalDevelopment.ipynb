{
 "cells": [
  {
   "cell_type": "markdown",
   "id": "906f22ee-4fda-4b00-86b5-666eeba85526",
   "metadata": {},
   "source": [
    "# Signal development"
   ]
  },
  {
   "cell_type": "markdown",
   "id": "ea0a17e8-dede-43b7-8d69-ae44fa9eeef0",
   "metadata": {},
   "source": [
    "## Generation"
   ]
  },
  {
   "cell_type": "markdown",
   "id": "c92e74cd-bef9-43e1-a78e-f39d308798df",
   "metadata": {},
   "source": [
    "### Comparison"
   ]
  },
  {
   "cell_type": "code",
   "execution_count": 1,
   "id": "3a5fa071-d8c4-4443-8528-88c5cab650cf",
   "metadata": {},
   "outputs": [
    {
     "data": {
      "application/vnd.jupyter.widget-view+json": {
       "model_id": "c3528962b9234c54865dc91c7564ad81",
       "version_major": 2,
       "version_minor": 0
      },
      "text/plain": [
       "  0%|          | 0/2 [00:00<?, ?it/s]"
      ]
     },
     "metadata": {},
     "output_type": "display_data"
    },
    {
     "data": {
      "application/vnd.jupyter.widget-view+json": {
       "model_id": "195426006ce744079910e2dfb1856478",
       "version_major": 2,
       "version_minor": 0
      },
      "text/plain": [
       "0it [00:00, ?it/s]"
      ]
     },
     "metadata": {},
     "output_type": "display_data"
    },
    {
     "data": {
      "application/vnd.jupyter.widget-view+json": {
       "model_id": "aa3789bb72264907b7d002601e16a2a7",
       "version_major": 2,
       "version_minor": 0
      },
      "text/plain": [
       "0it [00:00, ?it/s]"
      ]
     },
     "metadata": {},
     "output_type": "display_data"
    },
    {
     "name": "stdout",
     "output_type": "stream",
     "text": [
      "symbol                      BTCUSDT  ETHUSDT\n",
      "Open time                                   \n",
      "2021-01-01 00:00:00+00:00  28624.57   714.29\n",
      "2021-01-02 00:00:00+00:00  28946.53   714.91\n",
      "2021-01-03 00:00:00+00:00  31962.99   768.71\n",
      "2021-01-04 00:00:00+00:00  28130.00   890.00\n",
      "2021-01-05 00:00:00+00:00  29900.00   974.45\n",
      "...                             ...      ...\n",
      "2021-12-27 00:00:00+00:00  50449.00  4031.00\n",
      "2021-12-28 00:00:00+00:00  47313.01  3759.36\n",
      "2021-12-29 00:00:00+00:00  46096.99  3604.20\n",
      "2021-12-30 00:00:00+00:00  45900.00  3585.00\n",
      "2021-12-31 00:00:00+00:00  45678.00  3622.29\n",
      "\n",
      "[365 rows x 2 columns]\n"
     ]
    }
   ],
   "source": [
    "import vectorbtpro as vbt\n",
    "import numpy as np\n",
    "import pandas as pd\n",
    "\n",
    "vbt.settings.set_theme(\"dark\")\n",
    "\n",
    "data = vbt.BinanceData.fetch(\n",
    "    [\"BTCUSDT\", \"ETHUSDT\"], \n",
    "    start=\"2021-01-01\",\n",
    "    end=\"2022-01-01\"\n",
    ")\n",
    "print(data.get(\"Low\"))"
   ]
  },
  {
   "cell_type": "code",
   "execution_count": 2,
   "id": "b43d9cc2-631e-44a4-9a0b-83aa08c3a722",
   "metadata": {},
   "outputs": [
    {
     "name": "stdout",
     "output_type": "stream",
     "text": [
      "symbol                          BTCUSDT      ETHUSDT\n",
      "Open time                                           \n",
      "2021-01-01 00:00:00+00:00           NaN          NaN\n",
      "2021-01-02 00:00:00+00:00           NaN          NaN\n",
      "2021-01-03 00:00:00+00:00           NaN          NaN\n",
      "2021-01-04 00:00:00+00:00           NaN          NaN\n",
      "2021-01-05 00:00:00+00:00           NaN          NaN\n",
      "...                                 ...          ...\n",
      "2021-12-27 00:00:00+00:00  45408.821312  3843.990363\n",
      "2021-12-28 00:00:00+00:00  45299.254073  3819.621261\n",
      "2021-12-29 00:00:00+00:00  44943.280004  3712.190071\n",
      "2021-12-30 00:00:00+00:00  44861.191483  3662.827659\n",
      "2021-12-31 00:00:00+00:00  44882.974796  3617.893036\n",
      "\n",
      "[365 rows x 2 columns]\n"
     ]
    }
   ],
   "source": [
    "bb = vbt.talib(\"BBANDS\").run(\n",
    "    data.get(\"Close\"),\n",
    "    timeperiod=vbt.Default(14),\n",
    "    nbdevup=vbt.Default(2),\n",
    "    nbdevdn=vbt.Default(2)\n",
    ")\n",
    "print(bb.lowerband)"
   ]
  },
  {
   "cell_type": "code",
   "execution_count": 3,
   "id": "e3ee3576-aa6f-4652-83de-fbaa47eb7137",
   "metadata": {},
   "outputs": [
    {
     "name": "stdout",
     "output_type": "stream",
     "text": [
      "symbol                     BTCUSDT  ETHUSDT\n",
      "Open time                                  \n",
      "2021-01-01 00:00:00+00:00    False    False\n",
      "2021-01-02 00:00:00+00:00    False    False\n",
      "2021-01-03 00:00:00+00:00    False    False\n",
      "2021-01-04 00:00:00+00:00    False    False\n",
      "2021-01-05 00:00:00+00:00    False    False\n",
      "...                            ...      ...\n",
      "2021-12-27 00:00:00+00:00    False    False\n",
      "2021-12-28 00:00:00+00:00    False     True\n",
      "2021-12-29 00:00:00+00:00    False     True\n",
      "2021-12-30 00:00:00+00:00    False     True\n",
      "2021-12-31 00:00:00+00:00    False    False\n",
      "\n",
      "[365 rows x 2 columns]\n"
     ]
    }
   ],
   "source": [
    "mask = data.get(\"Low\") < bb.lowerband\n",
    "print(mask)"
   ]
  },
  {
   "cell_type": "code",
   "execution_count": 4,
   "id": "73b16f6b-cd9d-4ccb-92b8-d374f59dfe4b",
   "metadata": {},
   "outputs": [
    {
     "data": {
      "text/plain": [
       "symbol\n",
       "BTCUSDT    53\n",
       "ETHUSDT    48\n",
       "dtype: int64"
      ]
     },
     "execution_count": 4,
     "metadata": {},
     "output_type": "execute_result"
    }
   ],
   "source": [
    "mask.sum()"
   ]
  },
  {
   "cell_type": "code",
   "execution_count": 5,
   "id": "f1032773-752b-435f-8a96-3aea5e7fec6e",
   "metadata": {},
   "outputs": [],
   "source": [
    "bb_mult = vbt.talib(\"BBANDS\").run(\n",
    "    data.get(\"Close\"),\n",
    "    timeperiod=vbt.Default(14),\n",
    "    nbdevup=[2, 3],\n",
    "    nbdevdn=[2, 3]\n",
    ")\n",
    "# mask = data.get(\"Low\") < bb_mult.lowerband"
   ]
  },
  {
   "cell_type": "code",
   "execution_count": 6,
   "id": "6aafc576-9b8a-4475-ad4c-1aaa7f71d4b1",
   "metadata": {},
   "outputs": [
    {
     "name": "stdout",
     "output_type": "stream",
     "text": [
      "bbands_nbdevup                  2               3        \n",
      "bbands_nbdevdn                  2               3        \n",
      "symbol                    BTCUSDT ETHUSDT BTCUSDT ETHUSDT\n",
      "Open time                                                \n",
      "2021-01-01 00:00:00+00:00   False   False   False   False\n",
      "2021-01-02 00:00:00+00:00   False   False   False   False\n",
      "2021-01-03 00:00:00+00:00   False   False   False   False\n",
      "2021-01-04 00:00:00+00:00   False   False   False   False\n",
      "2021-01-05 00:00:00+00:00   False   False   False   False\n",
      "...                           ...     ...     ...     ...\n",
      "2021-12-27 00:00:00+00:00   False   False   False   False\n",
      "2021-12-28 00:00:00+00:00   False    True   False   False\n",
      "2021-12-29 00:00:00+00:00   False    True   False   False\n",
      "2021-12-30 00:00:00+00:00   False    True   False   False\n",
      "2021-12-31 00:00:00+00:00   False   False   False   False\n",
      "\n",
      "[365 rows x 4 columns]\n"
     ]
    }
   ],
   "source": [
    "mask = data.get(\"Low\").vbt < bb_mult.lowerband\n",
    "print(mask)"
   ]
  },
  {
   "cell_type": "code",
   "execution_count": 7,
   "id": "dbe069e6-47c0-4760-b6d7-ebc2e8bf9e62",
   "metadata": {},
   "outputs": [
    {
     "data": {
      "text/plain": [
       "bbands_nbdevup  bbands_nbdevdn  symbol \n",
       "2               2               BTCUSDT    53\n",
       "                                ETHUSDT    48\n",
       "3               3               BTCUSDT    10\n",
       "                                ETHUSDT     9\n",
       "dtype: int64"
      ]
     },
     "execution_count": 7,
     "metadata": {},
     "output_type": "execute_result"
    }
   ],
   "source": [
    "mask.sum()"
   ]
  },
  {
   "cell_type": "code",
   "execution_count": 8,
   "id": "e6db65b8-b971-433f-b4bc-fe97263baa30",
   "metadata": {},
   "outputs": [
    {
     "data": {
      "text/plain": [
       "bbands_nbdevup  bbands_nbdevdn  symbol \n",
       "2               2               BTCUSDT    53\n",
       "                                ETHUSDT    48\n",
       "3               3               BTCUSDT    10\n",
       "                                ETHUSDT     9\n",
       "dtype: int64"
      ]
     },
     "execution_count": 8,
     "metadata": {},
     "output_type": "execute_result"
    }
   ],
   "source": [
    "mask = bb_mult.lowerband_above(data.get(\"Low\"))\n",
    "mask.sum()"
   ]
  },
  {
   "cell_type": "markdown",
   "id": "7301f0a1-6e79-4da1-9daf-8345c35da38d",
   "metadata": {},
   "source": [
    "#### Thresholds"
   ]
  },
  {
   "cell_type": "code",
   "execution_count": 9,
   "id": "2487f5f5-2277-4608-a6ee-bd26a88b3d48",
   "metadata": {},
   "outputs": [
    {
     "data": {
      "text/plain": [
       "threshold  symbol \n",
       "0.15       BTCUSDT    253\n",
       "           ETHUSDT    316\n",
       "0.30       BTCUSDT     65\n",
       "           ETHUSDT    136\n",
       "dtype: int64"
      ]
     },
     "execution_count": 9,
     "metadata": {},
     "output_type": "execute_result"
    }
   ],
   "source": [
    "bandwidth = (bb.upperband - bb.lowerband) / bb.middleband\n",
    "\n",
    "mask = bandwidth.vbt > pd.Index([0.15, 0.3], name=\"threshold\")\n",
    "mask.sum()"
   ]
  },
  {
   "cell_type": "code",
   "execution_count": 10,
   "id": "4f634615-3e6f-4ba8-a3e4-843748fb6663",
   "metadata": {},
   "outputs": [
    {
     "data": {
      "text/plain": [
       "threshold  symbol \n",
       "0.15       BTCUSDT    253\n",
       "           ETHUSDT    316\n",
       "0.30       BTCUSDT     65\n",
       "           ETHUSDT    136\n",
       "dtype: int64"
      ]
     },
     "execution_count": 10,
     "metadata": {},
     "output_type": "execute_result"
    }
   ],
   "source": [
    "mask = bandwidth.vbt.combine(\n",
    "    [0.15, 0.3],\n",
    "    combine_func=np.greater, \n",
    "    keys=pd.Index([0.15, 0.3], name=\"threshold\")\n",
    ")\n",
    "mask.sum()"
   ]
  },
  {
   "cell_type": "code",
   "execution_count": 11,
   "id": "6bda89d4-6381-4ec1-b1bc-ffe302454181",
   "metadata": {},
   "outputs": [
    {
     "data": {
      "text/plain": [
       "threshold  symbol \n",
       "0.15       BTCUSDT    253\n",
       "           ETHUSDT    316\n",
       "0.30       BTCUSDT     65\n",
       "           ETHUSDT    136\n",
       "dtype: int64"
      ]
     },
     "execution_count": 11,
     "metadata": {},
     "output_type": "execute_result"
    }
   ],
   "source": [
    "mask = pd.concat(\n",
    "    (bandwidth > 0.15, bandwidth > 0.3), \n",
    "    keys=pd.Index([0.15, 0.3], name=\"threshold\"), \n",
    "    axis=1\n",
    ")\n",
    "mask.sum()"
   ]
  },
  {
   "cell_type": "markdown",
   "id": "66ef2746-1d4f-48bd-887e-da3ce86aa2d9",
   "metadata": {},
   "source": [
    "#### Crossovers"
   ]
  },
  {
   "cell_type": "code",
   "execution_count": 12,
   "id": "112ffe71-78da-4bba-a9d4-7f5ffeb5cb3e",
   "metadata": {},
   "outputs": [
    {
     "data": {
      "text/plain": [
       "symbol\n",
       "BTCUSDT    21\n",
       "ETHUSDT    20\n",
       "dtype: int64"
      ]
     },
     "execution_count": 12,
     "metadata": {},
     "output_type": "execute_result"
    }
   ],
   "source": [
    "low_below_lband = data.get(\"Low\") < bb.lowerband\n",
    "mask = low_below_lband.vbt.signals.first()\n",
    "mask.sum()"
   ]
  },
  {
   "cell_type": "code",
   "execution_count": 13,
   "id": "e92bbb10-724a-4f28-9a54-6d41f36f7bf4",
   "metadata": {},
   "outputs": [
    {
     "data": {
      "image/svg+xml": [
       "<svg class=\"main-svg\" xmlns=\"http://www.w3.org/2000/svg\" xmlns:xlink=\"http://www.w3.org/1999/xlink\" width=\"700\" height=\"350\" style=\"\" viewBox=\"0 0 700 350\"><rect x=\"0\" y=\"0\" width=\"700\" height=\"350\" style=\"fill: rgb(33, 34, 44); fill-opacity: 1;\"/><defs id=\"defs-5ee753\"><g class=\"clips\"><clipPath id=\"clip5ee753xyplot\" class=\"plotclip\"><rect width=\"632\" height=\"274\"/></clipPath><clipPath class=\"axesclip\" id=\"clip5ee753x\"><rect x=\"38\" y=\"0\" width=\"632\" height=\"350\"/></clipPath><clipPath class=\"axesclip\" id=\"clip5ee753y\"><rect x=\"0\" y=\"46\" width=\"700\" height=\"274\"/></clipPath><clipPath class=\"axesclip\" id=\"clip5ee753xy\"><rect x=\"38\" y=\"46\" width=\"632\" height=\"274\"/></clipPath></g><g class=\"gradients\"/><g class=\"patterns\"/></defs><g class=\"bglayer\"/><g class=\"layer-below\"><g class=\"imagelayer\"/><g class=\"shapelayer\"/></g><g class=\"cartesianlayer\"><g class=\"subplot xy\"><g class=\"layer-subplot\"><g class=\"shapelayer\"/><g class=\"imagelayer\"/></g><g class=\"gridlayer\"><g class=\"x\"><path class=\"xgrid crisp\" transform=\"translate(40.03,0)\" d=\"M0,46v274\" style=\"stroke: rgb(47, 62, 78); stroke-opacity: 1; stroke-width: 1px;\"/><path class=\"xgrid crisp\" transform=\"translate(140.16,0)\" d=\"M0,46v274\" style=\"stroke: rgb(47, 62, 78); stroke-opacity: 1; stroke-width: 1px;\"/><path class=\"xgrid crisp\" transform=\"translate(243.69,0)\" d=\"M0,46v274\" style=\"stroke: rgb(47, 62, 78); stroke-opacity: 1; stroke-width: 1px;\"/><path class=\"xgrid crisp\" transform=\"translate(347.21,0)\" d=\"M0,46v274\" style=\"stroke: rgb(47, 62, 78); stroke-opacity: 1; stroke-width: 1px;\"/><path class=\"xgrid crisp\" transform=\"translate(452.43,0)\" d=\"M0,46v274\" style=\"stroke: rgb(47, 62, 78); stroke-opacity: 1; stroke-width: 1px;\"/><path class=\"xgrid crisp\" transform=\"translate(555.96,0)\" d=\"M0,46v274\" style=\"stroke: rgb(47, 62, 78); stroke-opacity: 1; stroke-width: 1px;\"/><path class=\"xgrid crisp\" transform=\"translate(659.48,0)\" d=\"M0,46v274\" style=\"stroke: rgb(47, 62, 78); stroke-opacity: 1; stroke-width: 1px;\"/></g><g class=\"y\"><path class=\"ygrid crisp\" transform=\"translate(0,288.93)\" d=\"M38,0h632\" style=\"stroke: rgb(47, 62, 78); stroke-opacity: 1; stroke-width: 1px;\"/><path class=\"ygrid crisp\" transform=\"translate(0,225.65)\" d=\"M38,0h632\" style=\"stroke: rgb(47, 62, 78); stroke-opacity: 1; stroke-width: 1px;\"/><path class=\"ygrid crisp\" transform=\"translate(0,162.36)\" d=\"M38,0h632\" style=\"stroke: rgb(47, 62, 78); stroke-opacity: 1; stroke-width: 1px;\"/><path class=\"ygrid crisp\" transform=\"translate(0,99.08)\" d=\"M38,0h632\" style=\"stroke: rgb(47, 62, 78); stroke-opacity: 1; stroke-width: 1px;\"/></g></g><g class=\"zerolinelayer\"/><path class=\"xlines-below\"/><path class=\"ylines-below\"/><g class=\"overlines-below\"/><g class=\"xaxislayer-below\"/><g class=\"yaxislayer-below\"/><g class=\"overaxes-below\"/><g class=\"plot\" transform=\"translate(38,46)\" clip-path=\"url(#clip5ee753xyplot)\"><g class=\"scatterlayer mlayer\"><g class=\"trace scatter trace7750d660-bf99-4675-a8fa-298ab1c7e412\" style=\"stroke-miterlimit: 2; opacity: 1;\"><g class=\"fills\"/><g class=\"errorbars\"/><g class=\"lines\"><path class=\"js-line\" d=\"M2.03,251.63L3.73,249.6L5.43,230.51L7.12,254.76L8.82,243.56L12.22,203.06L13.91,201.8L15.61,187.75L17.31,210.58L19,240.27L20.7,226.91L22.4,227.87L24.1,200.52L25.79,215.03L27.49,209.02L29.19,218.57L30.88,212.55L32.58,205.95L34.28,221.41L35.98,242.48L37.67,250.21L39.37,234.13L41.07,237.23L42.76,230.84L44.46,237.63L46.16,247.73L47.85,243.93L49.55,230.81L51.25,225.05L52.95,229.19L54.64,228.4L56.34,221.3L58.04,208.99L59.73,203.93L61.43,201.35L63.13,190.94L64.83,196.41L66.52,192.37L68.22,148.25L69.92,156.06L71.61,154.37L73.31,140.88L75.01,140.39L76.71,135.26L78.4,144.39L81.8,123.03L83.49,110.65L85.19,111.87L86.89,91.91L88.59,81.7L90.28,131.41L91.98,148.68L93.68,135.42L95.37,137.41L97.07,153.66L98.77,148L100.47,160.66L103.86,135.05L105.56,128.38L107.25,132.18L108.95,139.78L110.65,134.9L112.35,123.44L114.04,120.95L115.74,105.04L120.83,84.96L122.53,77.9L124.23,59.62L125.92,87.25L127.62,95.66L129.32,90.27L131.01,71.92L132.71,76.68L134.41,66.87L136.11,81.87L137.8,93.26L139.5,97.38L142.89,113.66L144.59,108.68L146.29,91.36L147.99,86.67L149.68,85.99L151.38,71.61L153.08,73.52L154.77,66.14L156.47,63.02L158.17,72.82L159.86,75.94L161.56,73.47L163.26,69.45L164.96,81.73L166.65,80.29L168.35,67.92L170.05,66.37L171.74,57.93L173.44,57.19L175.14,54.31L176.84,44.84L178.53,40.29L180.23,53.08L181.93,55.73L183.62,110.47L185.32,89.65L187.02,95.29L188.72,93.98L192.11,132.18L193.81,124.86L195.5,135.79L197.2,124.25L198.9,95.97L200.6,92.23L202.29,101.61L203.99,97.29L205.69,72.34L207.38,78.17L209.08,75.64L210.78,97.08L212.48,98.01L214.17,83.45L215.87,83.19L217.57,72.7L219.26,76.9L220.96,94.85L222.66,88.71L224.36,125.22L226.05,141.68L227.75,123.96L232.84,166.98L234.54,165.41L236.24,242.93L237.93,212.24L239.63,220.86L241.33,210.02L243.02,235.9L244.72,217.42L248.12,193.57L249.81,197.78L251.51,213.29L253.21,219.94L254.9,221.55L256.6,216.64L258.3,207.07L260,205.47L261.69,197.56L263.39,207.77L265.09,212.55L266.78,209.88L270.18,236.6L271.87,227.76L273.57,206.34L275.27,205.36L276.97,213.82L278.66,212.83L280.36,187.68L282.06,182.77L283.75,191.57L285.45,196.32L287.15,210.47L288.85,212.53L292.24,235.01L293.94,250.49L295.63,232.28L297.33,228.46L300.73,241.97L302.42,230.44L304.12,218.49L305.82,216.19L307.51,217.51L309.21,225.77L310.91,225.85L312.61,221.94L314.3,215.36L316,223.15L319.39,219.02L321.09,229.79L322.79,228.62L324.49,223.91L326.18,222.01L327.88,226.11L332.97,235.76L334.67,236.48L336.37,235.56L338.06,235.91L339.76,240.35L341.46,247.5L343.15,246.2L344.85,232.12L346.55,230.75L348.25,221.41L349.94,218.56L351.64,209.99L353.34,202.54L355.03,187.42L356.73,184.71L358.43,190.32L360.13,173.32L361.82,183.3L365.22,194.57L366.91,195.41L368.61,196.53L370.31,180.57L372,164.16L373.7,159.01L375.4,162.06L377.1,150.6L378.79,145.85L380.49,155.79L382.19,152.96L383.88,141.86L385.58,144.84L387.28,143.83L388.98,151.95L390.67,153.05L392.37,154.79L394.07,137.73L395.76,127.61L397.46,128.7L399.16,122.51L400.86,131.55L402.55,134.55L404.25,140.09L405.95,139.47L407.64,126.82L409.34,130.52L411.04,136.28L414.43,138.44L416.13,125.32L417.83,127.01L419.52,120.35L421.22,119.84L422.92,110.23L424.62,161.65L426.31,151.72L428.01,144.76L429.71,153.5L431.4,149.76L433.1,149.64L434.8,158.32L436.5,150.57L438.19,137.36L439.89,135.21L441.59,137.25L443.28,135.12L444.98,136.43L446.68,163.82L448.38,182.18L450.07,176.07L451.77,160.22L453.47,175.37L455.16,169.23L456.86,174.9L458.56,166.37L460.26,174.03L461.95,174.88L463.65,170.72L465.35,158.87L467.04,132.62L470.44,136.04L472.14,122.55L473.83,113.94L475.53,95.12L477.23,93.47L478.92,93.19L482.32,88.42L484.01,91.81L485.71,89.99L487.41,73.21L489.11,73.01L490.8,52.13L492.5,59.64L494.2,54.06L495.89,44.71L497.59,31.05L500.99,53.08L502.68,55.85L504.38,56.17L506.08,48.96L507.77,54.23L509.47,65.73L511.17,66.87L512.87,51.97L514.56,48.82L516.26,53.42L517.96,56.84L519.65,49.12L521.35,50.66L523.05,48.79L524.75,48.52L526.44,52.76L528.14,44.71L529.84,32.36L531.53,13.7L533.23,35.21L534.93,27.13L536.63,38.66L538.32,31.81L540.02,30.45L541.72,31.56L543.41,62.1L545.11,63.37L546.81,75.39L548.51,80.92L550.2,69.83L551.9,62.65L553.6,80.86L555.29,82.71L556.99,79.42L558.69,72.06L560.39,94.21L562.08,93.52L563.78,95.75L565.48,74.17L567.17,79.18L568.87,75.49L570.57,79.8L572.27,105.73L573.96,166.99L575.66,130.75L577.36,134.71L579.05,116.11L580.75,125.22L582.45,133.32L584.15,136.28L585.84,136.92L587.54,124.98L589.24,143.75L590.93,139.84L592.63,138.21L594.33,132.11L596.02,145.12L597.72,144.84L599.42,139.1L601.12,144.47L602.81,137.69L604.51,126.35L606.21,129.52L607.9,113.93L609.6,115.46L611.3,120.08L613,113.52L614.69,133.37L616.39,141.06L618.09,142.31L619.78,143.71\" style=\"vector-effect: non-scaling-stroke; fill: none; stroke: rgb(31, 119, 180); stroke-opacity: 1; stroke-width: 2px; opacity: 1;\"/></g><g class=\"points\"/><g class=\"text\"/></g><g class=\"trace scatter trace88aad763-1f87-4589-94c3-f011d08a69f0\" style=\"stroke-miterlimit: 2; opacity: 1;\"><g class=\"fills\"/><g class=\"errorbars\"/><g class=\"lines\"><path class=\"js-line\" d=\"M24.1,248.71L25.79,238.79L27.49,234.03L29.19,230.41L30.88,223.25L32.58,220.29L34.28,221.58L35.98,231.74L37.67,233.88L44.46,243.66L46.16,248.33L47.85,245.9L49.55,245.07L52.95,244.36L54.64,242.52L56.34,242.03L58.04,245.17L59.73,243.85L61.43,245.64L63.13,246.12L64.83,244.93L66.52,253.56L68.22,256.12L69.92,249.81L71.61,249.04L73.31,245.98L75.01,240.7L86.89,179.18L88.59,166.11L91.98,159.94L93.68,153.37L98.77,157.67L100.47,162.35L102.16,160.87L103.86,161.48L105.56,161.98L107.25,163.7L108.95,162.8L110.65,160.44L112.35,151.87L114.04,149.22L117.44,158.17L119.13,160.67L120.83,158.6L122.53,158.57L124.23,150.68L125.92,147.01L131.01,128.76L132.71,118.84L136.11,96.36L137.8,92.29L139.5,93.27L141.2,99.79L142.89,108.2L144.59,109.46L146.29,107.43L147.99,106.98L149.68,106.69L151.38,107.2L154.77,107.47L156.47,107.86L159.86,107.91L161.56,106.06L163.26,103.71L164.96,97.92L166.65,85.41L168.35,81.52L171.74,76.24L173.44,75.83L175.14,81.5L176.84,83.4L178.53,84.47L180.23,83.94L181.93,81.11L183.62,84.21L185.32,88.67L187.02,90.59L188.72,94.69L190.41,105L195.5,135.8L197.2,138.05L200.6,134.24L202.29,130.2L205.69,123.94L207.38,124.08L212.48,125.39L214.17,122.72L215.87,118.77L217.57,112.11L219.26,98.95L220.96,96.74L222.66,95.4L224.36,107.47L227.75,123.04L229.45,135.61L232.84,160.44L234.54,173.09L236.24,195.78L237.93,206.36L241.33,226.59L243.02,234.89L244.72,235.3L246.42,230.4L248.12,230.4L249.81,228.95L251.51,227.34L253.21,228.57L258.3,218.36L260,217.89L261.69,216.56L263.39,216.79L265.09,218.38L266.78,216.61L270.18,225.36L271.87,224.27L276.97,222.09L278.66,222.29L280.36,224.46L282.06,225.21L285.45,224.88L287.15,225.62L290.54,225.84L292.24,230.07L293.94,231.7L295.63,234.78L297.33,236.18L299.03,241.9L300.73,245.25L302.42,245.42L304.12,243.36L305.82,239.82L309.21,236.05L310.91,235.94L314.3,235.48L316,232.65L317.7,230.95L319.39,230.82L321.09,232.04L322.79,228.34L324.49,226.12L326.18,226.19L327.88,227.4L329.58,227.64L331.27,228.28L332.97,230.85L336.37,236.15L338.06,236.34L341.46,243.17L343.15,243.15L348.25,243.73L349.94,245.15L355.03,258.72L356.73,259.48L358.43,260.3L360.13,258.27L361.82,254.22L363.52,247.35L366.91,229.08L368.61,220.12L373.7,200.89L375.4,199.7L378.79,198.42L380.49,196.29L382.19,198.13L383.88,197.66L385.58,194.22L387.28,188.05L392.37,162.02L394.07,160.58L395.76,160.14L397.46,157.88L399.16,158.36L400.86,157.06L402.55,155.66L404.25,152.23L407.64,151.9L409.34,151.22L411.04,149.89L412.74,145.74L414.43,139.31L416.13,137.18L419.52,137.87L421.22,140.2L422.92,142.97L424.62,144.11L426.31,147.49L428.01,148.16L431.4,156.81L433.1,158.79L434.8,161.21L436.5,161.2L443.28,161.41L444.98,158.95L446.68,157.36L448.38,167.69L450.07,169.97L451.77,170.7L458.56,180.44L460.26,184.52L461.95,186.15L463.65,185.11L465.35,186.01L467.04,185.25L470.44,187.96L472.14,187.9L473.83,194.3L475.53,196.15L477.23,194.32L478.92,191.21L482.32,180.51L484.01,167.9L487.41,140.09L489.11,137.9L495.89,108.43L497.59,109.87L502.68,90.9L504.38,82.88L506.08,79.18L507.77,72.22L509.47,70.18L511.17,64.76L516.26,64.07L517.96,64.73L519.65,64.06L521.35,59.88L528.14,59.62L529.84,66.36L531.53,67.58L533.23,62.19L534.93,59.76L536.63,58.92L540.02,55.31L541.72,52.15L545.11,59.89L546.81,68.62L548.51,73.1L550.2,75.09L553.6,85.28L555.29,87.34L556.99,90.34L558.69,90.28L560.39,97.39L562.08,100.21L565.48,91.17L567.17,91.04L568.87,89.9L570.57,90.2L572.27,95.13L573.96,109.14L577.36,124.64L579.05,129.17L580.75,133.07L582.45,139.42L584.15,146.63L585.84,149.7L587.54,150.27L589.24,153.1L590.93,152.53L592.63,148.57L594.33,143.05L596.02,142.59L599.42,146.41L601.12,147.03L604.51,144.53L606.21,145.97L611.3,147L613,145.42L614.69,146.11L616.39,148.36L619.78,148.74\" style=\"vector-effect: non-scaling-stroke; fill: none; stroke: rgb(255, 127, 14); stroke-opacity: 1; stroke-width: 2px; opacity: 1;\"/></g><g class=\"points\"/><g class=\"text\"/></g><g class=\"trace scatter trace4a46d45b-cea9-4f96-b69c-22f6ca5b197c\" style=\"stroke-miterlimit: 2; opacity: 1;\"><g class=\"fills\"/><g class=\"errorbars\"/><g class=\"lines\"/><g class=\"points\"><path class=\"point\" transform=\"translate(35.98,242.48)\" d=\"M3.5,0A3.5,3.5 0 1,1 0,-3.5A3.5,3.5 0 0,1 3.5,0Z\" style=\"opacity: 1; stroke-width: 1px; fill: rgb(223, 255, 0); fill-opacity: 1; stroke: rgb(156, 178, 0); stroke-opacity: 1;\"/><path class=\"point\" transform=\"translate(137.8,93.26)\" d=\"M3.5,0A3.5,3.5 0 1,1 0,-3.5A3.5,3.5 0 0,1 3.5,0Z\" style=\"opacity: 1; stroke-width: 1px; fill: rgb(223, 255, 0); fill-opacity: 1; stroke: rgb(156, 178, 0); stroke-opacity: 1;\"/><path class=\"point\" transform=\"translate(183.62,110.47)\" d=\"M3.5,0A3.5,3.5 0 1,1 0,-3.5A3.5,3.5 0 0,1 3.5,0Z\" style=\"opacity: 1; stroke-width: 1px; fill: rgb(223, 255, 0); fill-opacity: 1; stroke: rgb(156, 178, 0); stroke-opacity: 1;\"/><path class=\"point\" transform=\"translate(190.41,113.2)\" d=\"M3.5,0A3.5,3.5 0 1,1 0,-3.5A3.5,3.5 0 0,1 3.5,0Z\" style=\"opacity: 1; stroke-width: 1px; fill: rgb(223, 255, 0); fill-opacity: 1; stroke: rgb(156, 178, 0); stroke-opacity: 1;\"/><path class=\"point\" transform=\"translate(224.36,125.22)\" d=\"M3.5,0A3.5,3.5 0 1,1 0,-3.5A3.5,3.5 0 0,1 3.5,0Z\" style=\"opacity: 1; stroke-width: 1px; fill: rgb(223, 255, 0); fill-opacity: 1; stroke: rgb(156, 178, 0); stroke-opacity: 1;\"/><path class=\"point\" transform=\"translate(236.24,242.93)\" d=\"M3.5,0A3.5,3.5 0 1,1 0,-3.5A3.5,3.5 0 0,1 3.5,0Z\" style=\"opacity: 1; stroke-width: 1px; fill: rgb(223, 255, 0); fill-opacity: 1; stroke: rgb(156, 178, 0); stroke-opacity: 1;\"/><path class=\"point\" transform=\"translate(243.02,235.9)\" d=\"M3.5,0A3.5,3.5 0 1,1 0,-3.5A3.5,3.5 0 0,1 3.5,0Z\" style=\"opacity: 1; stroke-width: 1px; fill: rgb(223, 255, 0); fill-opacity: 1; stroke: rgb(156, 178, 0); stroke-opacity: 1;\"/><path class=\"point\" transform=\"translate(268.48,222.05)\" d=\"M3.5,0A3.5,3.5 0 1,1 0,-3.5A3.5,3.5 0 0,1 3.5,0Z\" style=\"opacity: 1; stroke-width: 1px; fill: rgb(223, 255, 0); fill-opacity: 1; stroke: rgb(156, 178, 0); stroke-opacity: 1;\"/><path class=\"point\" transform=\"translate(292.24,235.01)\" d=\"M3.5,0A3.5,3.5 0 1,1 0,-3.5A3.5,3.5 0 0,1 3.5,0Z\" style=\"opacity: 1; stroke-width: 1px; fill: rgb(223, 255, 0); fill-opacity: 1; stroke: rgb(156, 178, 0); stroke-opacity: 1;\"/><path class=\"point\" transform=\"translate(322.79,228.62)\" d=\"M3.5,0A3.5,3.5 0 1,1 0,-3.5A3.5,3.5 0 0,1 3.5,0Z\" style=\"opacity: 1; stroke-width: 1px; fill: rgb(223, 255, 0); fill-opacity: 1; stroke: rgb(156, 178, 0); stroke-opacity: 1;\"/><path class=\"point\" transform=\"translate(329.58,228.99)\" d=\"M3.5,0A3.5,3.5 0 1,1 0,-3.5A3.5,3.5 0 0,1 3.5,0Z\" style=\"opacity: 1; stroke-width: 1px; fill: rgb(223, 255, 0); fill-opacity: 1; stroke: rgb(156, 178, 0); stroke-opacity: 1;\"/><path class=\"point\" transform=\"translate(339.76,240.35)\" d=\"M3.5,0A3.5,3.5 0 1,1 0,-3.5A3.5,3.5 0 0,1 3.5,0Z\" style=\"opacity: 1; stroke-width: 1px; fill: rgb(223, 255, 0); fill-opacity: 1; stroke: rgb(156, 178, 0); stroke-opacity: 1;\"/><path class=\"point\" transform=\"translate(424.62,161.65)\" d=\"M3.5,0A3.5,3.5 0 1,1 0,-3.5A3.5,3.5 0 0,1 3.5,0Z\" style=\"opacity: 1; stroke-width: 1px; fill: rgb(223, 255, 0); fill-opacity: 1; stroke: rgb(156, 178, 0); stroke-opacity: 1;\"/><path class=\"point\" transform=\"translate(429.71,153.5)\" d=\"M3.5,0A3.5,3.5 0 1,1 0,-3.5A3.5,3.5 0 0,1 3.5,0Z\" style=\"opacity: 1; stroke-width: 1px; fill: rgb(223, 255, 0); fill-opacity: 1; stroke: rgb(156, 178, 0); stroke-opacity: 1;\"/><path class=\"point\" transform=\"translate(446.68,163.82)\" d=\"M3.5,0A3.5,3.5 0 1,1 0,-3.5A3.5,3.5 0 0,1 3.5,0Z\" style=\"opacity: 1; stroke-width: 1px; fill: rgb(223, 255, 0); fill-opacity: 1; stroke: rgb(156, 178, 0); stroke-opacity: 1;\"/><path class=\"point\" transform=\"translate(453.47,175.37)\" d=\"M3.5,0A3.5,3.5 0 1,1 0,-3.5A3.5,3.5 0 0,1 3.5,0Z\" style=\"opacity: 1; stroke-width: 1px; fill: rgb(223, 255, 0); fill-opacity: 1; stroke: rgb(156, 178, 0); stroke-opacity: 1;\"/><path class=\"point\" transform=\"translate(511.17,66.87)\" d=\"M3.5,0A3.5,3.5 0 1,1 0,-3.5A3.5,3.5 0 0,1 3.5,0Z\" style=\"opacity: 1; stroke-width: 1px; fill: rgb(223, 255, 0); fill-opacity: 1; stroke: rgb(156, 178, 0); stroke-opacity: 1;\"/><path class=\"point\" transform=\"translate(543.41,62.1)\" d=\"M3.5,0A3.5,3.5 0 1,1 0,-3.5A3.5,3.5 0 0,1 3.5,0Z\" style=\"opacity: 1; stroke-width: 1px; fill: rgb(223, 255, 0); fill-opacity: 1; stroke: rgb(156, 178, 0); stroke-opacity: 1;\"/><path class=\"point\" transform=\"translate(563.78,95.75)\" d=\"M3.5,0A3.5,3.5 0 1,1 0,-3.5A3.5,3.5 0 0,1 3.5,0Z\" style=\"opacity: 1; stroke-width: 1px; fill: rgb(223, 255, 0); fill-opacity: 1; stroke: rgb(156, 178, 0); stroke-opacity: 1;\"/><path class=\"point\" transform=\"translate(572.27,105.73)\" d=\"M3.5,0A3.5,3.5 0 1,1 0,-3.5A3.5,3.5 0 0,1 3.5,0Z\" style=\"opacity: 1; stroke-width: 1px; fill: rgb(223, 255, 0); fill-opacity: 1; stroke: rgb(156, 178, 0); stroke-opacity: 1;\"/><path class=\"point\" transform=\"translate(596.02,145.12)\" d=\"M3.5,0A3.5,3.5 0 1,1 0,-3.5A3.5,3.5 0 0,1 3.5,0Z\" style=\"opacity: 1; stroke-width: 1px; fill: rgb(223, 255, 0); fill-opacity: 1; stroke: rgb(156, 178, 0); stroke-opacity: 1;\"/></g><g class=\"text\"/></g></g></g><g class=\"overplot\"/><path class=\"xlines-above crisp\" d=\"M0,0\" style=\"fill: none;\"/><path class=\"ylines-above crisp\" d=\"M0,0\" style=\"fill: none;\"/><g class=\"overlines-above\"/><g class=\"xaxislayer-above\"><g class=\"xtick\"><text text-anchor=\"middle\" x=\"0\" y=\"333\" transform=\"translate(40.03,0)\" style=\"font-family: 'Open Sans', verdana, arial, sans-serif; font-size: 12px; fill: rgb(214, 223, 239); fill-opacity: 1; white-space: pre; opacity: 1;\">Jan 2021</text></g><g class=\"xtick\"><text text-anchor=\"middle\" x=\"0\" y=\"333\" style=\"font-family: 'Open Sans', verdana, arial, sans-serif; font-size: 12px; fill: rgb(214, 223, 239); fill-opacity: 1; white-space: pre; opacity: 1;\" transform=\"translate(140.16,0)\">Mar 2021</text></g><g class=\"xtick\"><text text-anchor=\"middle\" x=\"0\" y=\"333\" style=\"font-family: 'Open Sans', verdana, arial, sans-serif; font-size: 12px; fill: rgb(214, 223, 239); fill-opacity: 1; white-space: pre; opacity: 1;\" transform=\"translate(243.69,0)\">May 2021</text></g><g class=\"xtick\"><text text-anchor=\"middle\" x=\"0\" y=\"333\" style=\"font-family: 'Open Sans', verdana, arial, sans-serif; font-size: 12px; fill: rgb(214, 223, 239); fill-opacity: 1; white-space: pre; opacity: 1;\" transform=\"translate(347.21,0)\">Jul 2021</text></g><g class=\"xtick\"><text text-anchor=\"middle\" x=\"0\" y=\"333\" style=\"font-family: 'Open Sans', verdana, arial, sans-serif; font-size: 12px; fill: rgb(214, 223, 239); fill-opacity: 1; white-space: pre; opacity: 1;\" transform=\"translate(452.43,0)\">Sep 2021</text></g><g class=\"xtick\"><text text-anchor=\"middle\" x=\"0\" y=\"333\" style=\"font-family: 'Open Sans', verdana, arial, sans-serif; font-size: 12px; fill: rgb(214, 223, 239); fill-opacity: 1; white-space: pre; opacity: 1;\" transform=\"translate(555.96,0)\">Nov 2021</text></g><g class=\"xtick\"><text text-anchor=\"middle\" x=\"0\" y=\"333\" style=\"font-family: 'Open Sans', verdana, arial, sans-serif; font-size: 12px; fill: rgb(214, 223, 239); fill-opacity: 1; white-space: pre; opacity: 1;\" transform=\"translate(659.48,0)\">Jan 2022</text></g></g><g class=\"yaxislayer-above\"><g class=\"ytick\"><text text-anchor=\"end\" x=\"37\" y=\"4.199999999999999\" transform=\"translate(0,288.93)\" style=\"font-family: 'Open Sans', verdana, arial, sans-serif; font-size: 12px; fill: rgb(214, 223, 239); fill-opacity: 1; white-space: pre; opacity: 1;\">30k</text></g><g class=\"ytick\"><text text-anchor=\"end\" x=\"37\" y=\"4.199999999999999\" style=\"font-family: 'Open Sans', verdana, arial, sans-serif; font-size: 12px; fill: rgb(214, 223, 239); fill-opacity: 1; white-space: pre; opacity: 1;\" transform=\"translate(0,225.65)\">40k</text></g><g class=\"ytick\"><text text-anchor=\"end\" x=\"37\" y=\"4.199999999999999\" style=\"font-family: 'Open Sans', verdana, arial, sans-serif; font-size: 12px; fill: rgb(214, 223, 239); fill-opacity: 1; white-space: pre; opacity: 1;\" transform=\"translate(0,162.36)\">50k</text></g><g class=\"ytick\"><text text-anchor=\"end\" x=\"37\" y=\"4.199999999999999\" style=\"font-family: 'Open Sans', verdana, arial, sans-serif; font-size: 12px; fill: rgb(214, 223, 239); fill-opacity: 1; white-space: pre; opacity: 1;\" transform=\"translate(0,99.08)\">60k</text></g></g><g class=\"overaxes-above\"/></g></g><g class=\"polarlayer\"/><g class=\"smithlayer\"/><g class=\"ternarylayer\"/><g class=\"geolayer\"/><g class=\"funnelarealayer\"/><g class=\"pielayer\"/><g class=\"iciclelayer\"/><g class=\"treemaplayer\"/><g class=\"sunburstlayer\"/><g class=\"glimages\"/><defs id=\"topdefs-5ee753\"><g class=\"clips\"/><clipPath id=\"legend5ee753\"><rect width=\"273\" height=\"29\" x=\"0\" y=\"0\"/></clipPath></defs><g class=\"layer-above\"><g class=\"imagelayer\"/><g class=\"shapelayer\"/></g><g class=\"infolayer\"><g class=\"legend\" pointer-events=\"all\" transform=\"translate(397,11.519999999999996)\"><rect class=\"bg\" shape-rendering=\"crispEdges\" style=\"stroke: rgb(68, 68, 68); stroke-opacity: 1; fill: rgb(33, 34, 44); fill-opacity: 1; stroke-width: 0px;\" width=\"273\" height=\"29\" x=\"0\" y=\"0\"/><g class=\"scrollbox\" transform=\"\" clip-path=\"url(#legend5ee753)\"><g class=\"groups\"><g class=\"traces\" transform=\"translate(0,14.5)\" style=\"opacity: 1;\"><text class=\"legendtext\" text-anchor=\"start\" x=\"40\" y=\"4.680000000000001\" style=\"font-family: 'Open Sans', verdana, arial, sans-serif; font-size: 12px; fill: rgb(214, 223, 239); fill-opacity: 1; white-space: pre;\">Low</text><g class=\"layers\" style=\"opacity: 1;\"><g class=\"legendfill\"/><g class=\"legendlines\"><path class=\"js-line\" d=\"M5,0h30\" style=\"fill: none; stroke: rgb(31, 119, 180); stroke-opacity: 1; stroke-width: 2px;\"/></g><g class=\"legendsymbols\"><g class=\"legendpoints\"/></g></g><rect class=\"legendtoggle\" x=\"0\" y=\"-9.5\" width=\"66.296875\" height=\"19\" style=\"fill: rgb(0, 0, 0); fill-opacity: 0;\"/></g><g class=\"traces\" transform=\"translate(68.796875,14.5)\" style=\"opacity: 1;\"><text class=\"legendtext\" text-anchor=\"start\" x=\"40\" y=\"4.680000000000001\" style=\"font-family: 'Open Sans', verdana, arial, sans-serif; font-size: 12px; fill: rgb(214, 223, 239); fill-opacity: 1; white-space: pre;\">Lower Band</text><g class=\"layers\" style=\"opacity: 1;\"><g class=\"legendfill\"/><g class=\"legendlines\"><path class=\"js-line\" d=\"M5,0h30\" style=\"fill: none; stroke: rgb(255, 127, 14); stroke-opacity: 1; stroke-width: 2px;\"/></g><g class=\"legendsymbols\"><g class=\"legendpoints\"/></g></g><rect class=\"legendtoggle\" x=\"0\" y=\"-9.5\" width=\"113.28125\" height=\"19\" style=\"fill: rgb(0, 0, 0); fill-opacity: 0;\"/></g><g class=\"traces\" transform=\"translate(184.578125,14.5)\" style=\"opacity: 1;\"><text class=\"legendtext\" text-anchor=\"start\" x=\"40\" y=\"4.680000000000001\" style=\"font-family: 'Open Sans', verdana, arial, sans-serif; font-size: 12px; fill: rgb(214, 223, 239); fill-opacity: 1; white-space: pre;\">Signals</text><g class=\"layers\" style=\"opacity: 1;\"><g class=\"legendfill\"/><g class=\"legendlines\"/><g class=\"legendsymbols\"><g class=\"legendpoints\"><path class=\"scatterpts\" transform=\"translate(20,0)\" d=\"M3.5,0A3.5,3.5 0 1,1 0,-3.5A3.5,3.5 0 0,1 3.5,0Z\" style=\"opacity: 1; stroke-width: 1px; fill: rgb(223, 255, 0); fill-opacity: 1; stroke: rgb(156, 178, 0); stroke-opacity: 1;\"/></g></g></g><rect class=\"legendtoggle\" x=\"0\" y=\"-9.5\" width=\"85.828125\" height=\"19\" style=\"fill: rgb(0, 0, 0); fill-opacity: 0;\"/></g></g></g><rect class=\"scrollbar\" rx=\"20\" ry=\"3\" width=\"0\" height=\"0\" style=\"fill: rgb(128, 139, 164); fill-opacity: 1;\" x=\"0\" y=\"0\"/></g><g class=\"g-gtitle\"/><g class=\"g-xtitle\"/><g class=\"g-ytitle\"/></g></svg>"
      ]
     },
     "metadata": {},
     "output_type": "display_data"
    }
   ],
   "source": [
    "btc_low = data.get(\"Low\", \"BTCUSDT\").rename(\"Low\")\n",
    "btc_lowerband = bb.lowerband[\"BTCUSDT\"].rename(\"Lower Band\")\n",
    "btc_mask = mask[\"BTCUSDT\"].rename(\"Signals\")\n",
    "\n",
    "fig = btc_low.vbt.plot()\n",
    "btc_lowerband.vbt.plot(fig=fig)\n",
    "btc_mask.vbt.signals.plot_as_markers(\n",
    "    y=btc_low, \n",
    "    trace_kwargs=dict(\n",
    "        marker=dict(\n",
    "            color=\"#DFFF00\"\n",
    "        )\n",
    "    ),\n",
    "    fig=fig\n",
    ").show_svg()"
   ]
  },
  {
   "cell_type": "code",
   "execution_count": 14,
   "id": "9caf1ea8-18b8-42d6-b759-e3ef87ea23ab",
   "metadata": {},
   "outputs": [
    {
     "data": {
      "text/plain": [
       "symbol\n",
       "BTCUSDT    21\n",
       "ETHUSDT    20\n",
       "dtype: int64"
      ]
     },
     "execution_count": 14,
     "metadata": {},
     "output_type": "execute_result"
    }
   ],
   "source": [
    "mask = low_below_lband.vbt.signals.first(after_false=True)\n",
    "mask.sum()"
   ]
  },
  {
   "cell_type": "code",
   "execution_count": 15,
   "id": "d22b9fb1-2757-4fe9-b257-233e8a6428b9",
   "metadata": {},
   "outputs": [
    {
     "data": {
      "text/plain": [
       "0    False\n",
       "1    False\n",
       "2     True\n",
       "3    False\n",
       "4     True\n",
       "dtype: bool"
      ]
     },
     "execution_count": 15,
     "metadata": {},
     "output_type": "execute_result"
    }
   ],
   "source": [
    "sample_low = pd.Series([10, 9, 8, 9, 8])\n",
    "sample_lband = pd.Series([np.nan, np.nan, 9, 8, 9])\n",
    "sample_mask = sample_low < sample_lband\n",
    "sample_mask.vbt.signals.first(after_false=True)"
   ]
  },
  {
   "cell_type": "code",
   "execution_count": 16,
   "id": "cd63d8f4-f71e-4b77-ba9e-f3aa5fab70d3",
   "metadata": {},
   "outputs": [
    {
     "data": {
      "text/plain": [
       "0    False\n",
       "1    False\n",
       "2    False\n",
       "3    False\n",
       "4     True\n",
       "dtype: bool"
      ]
     },
     "execution_count": 16,
     "metadata": {},
     "output_type": "execute_result"
    }
   ],
   "source": [
    "sample_mask[sample_lband.ffill().isnull()] = True\n",
    "sample_mask.vbt.signals.first(after_false=True)"
   ]
  },
  {
   "cell_type": "code",
   "execution_count": 17,
   "id": "48ec8914-6279-4e04-9577-7a61123e8f9b",
   "metadata": {},
   "outputs": [
    {
     "data": {
      "text/plain": [
       "2"
      ]
     },
     "execution_count": 17,
     "metadata": {},
     "output_type": "execute_result"
    }
   ],
   "source": [
    "buffer = sample_lband.ffill().isnull().sum(axis=0).max()\n",
    "buffer"
   ]
  },
  {
   "cell_type": "code",
   "execution_count": 18,
   "id": "9e7b37d6-435b-4d05-b813-c71e3533d7f6",
   "metadata": {},
   "outputs": [
    {
     "data": {
      "text/plain": [
       "0    False\n",
       "1    False\n",
       "2    False\n",
       "3    False\n",
       "4     True\n",
       "dtype: bool"
      ]
     },
     "execution_count": 18,
     "metadata": {},
     "output_type": "execute_result"
    }
   ],
   "source": [
    "sample_buf_mask = sample_low.iloc[buffer:] < sample_lband.iloc[buffer:]\n",
    "sample_buf_mask = sample_buf_mask.vbt.signals.first(after_false=True)\n",
    "sample_mask = sample_low.vbt.wrapper.fill(False)\n",
    "sample_mask.loc[sample_buf_mask.index] = sample_buf_mask\n",
    "sample_mask"
   ]
  },
  {
   "cell_type": "code",
   "execution_count": 19,
   "id": "497a1101-5e73-4bd3-9d6d-ceb51bd6ac58",
   "metadata": {},
   "outputs": [
    {
     "data": {
      "text/plain": [
       "symbol\n",
       "BTCUSDT    15\n",
       "ETHUSDT    11\n",
       "dtype: int64"
      ]
     },
     "execution_count": 19,
     "metadata": {},
     "output_type": "execute_result"
    }
   ],
   "source": [
    "mask = data.get(\"Low\").vbt.crossed_below(bb.lowerband, wait=1)\n",
    "mask.sum()"
   ]
  },
  {
   "cell_type": "code",
   "execution_count": 20,
   "id": "e385bd31-4be5-40c8-95eb-23ec488dcff2",
   "metadata": {},
   "outputs": [
    {
     "data": {
      "text/plain": [
       "symbol\n",
       "BTCUSDT    15\n",
       "ETHUSDT    11\n",
       "dtype: int64"
      ]
     },
     "execution_count": 20,
     "metadata": {},
     "output_type": "execute_result"
    }
   ],
   "source": [
    "mask = bb.lowerband_crossed_above(data.get(\"Low\"), wait=1)\n",
    "mask.sum()"
   ]
  },
  {
   "cell_type": "markdown",
   "id": "67ac0af5-b8bc-4e4f-8351-e33661778165",
   "metadata": {},
   "source": [
    "### Logical operators"
   ]
  },
  {
   "cell_type": "code",
   "execution_count": 21,
   "id": "931d10e3-7259-49f7-bde3-3c6b11e356d0",
   "metadata": {},
   "outputs": [
    {
     "data": {
      "text/plain": [
       "symbol\n",
       "BTCUSDT    25\n",
       "ETHUSDT    13\n",
       "dtype: int64"
      ]
     },
     "execution_count": 21,
     "metadata": {},
     "output_type": "execute_result"
    }
   ],
   "source": [
    "cond1 = data.get(\"Low\") < bb.lowerband\n",
    "cond2 = bandwidth > 0.3\n",
    "cond3 = data.get(\"High\") > bb.upperband\n",
    "cond4 = bandwidth < 0.15\n",
    "\n",
    "mask = (cond1 & cond2) | (cond3 & cond4)\n",
    "mask.sum()"
   ]
  },
  {
   "cell_type": "code",
   "execution_count": 22,
   "id": "7a8e5bb5-3a3f-4e95-8805-78dbeb73e119",
   "metadata": {},
   "outputs": [
    {
     "data": {
      "text/plain": [
       "cond2_th  cond4_th  symbol \n",
       "0.3       0.1       BTCUSDT    11\n",
       "                    ETHUSDT    10\n",
       "          0.2       BTCUSDT    28\n",
       "                    ETHUSDT    27\n",
       "0.4       0.1       BTCUSDT     9\n",
       "                    ETHUSDT     5\n",
       "          0.2       BTCUSDT    26\n",
       "                    ETHUSDT    22\n",
       "dtype: int64"
      ]
     },
     "execution_count": 22,
     "metadata": {},
     "output_type": "execute_result"
    }
   ],
   "source": [
    "cond1 = data.get(\"Low\").vbt < bb.lowerband\n",
    "cond2 = bandwidth.vbt > pd.Index([0.3, 0.3, 0.4, 0.4], name=\"cond2_th\")\n",
    "cond3 = data.get(\"High\").vbt > bb.upperband\n",
    "cond4 = bandwidth.vbt < pd.Index([0.1, 0.2, 0.1, 0.2], name=\"cond4_th\")\n",
    "\n",
    "mask = (cond1.vbt & cond2).vbt | (cond3.vbt & cond4)\n",
    "mask.sum()"
   ]
  },
  {
   "cell_type": "code",
   "execution_count": 23,
   "id": "96fec8a9-27fe-4ec0-9745-06b612a8beeb",
   "metadata": {},
   "outputs": [],
   "source": [
    "cond1 = data.get(\"Low\").vbt < bb.lowerband\n",
    "cond2 = bandwidth.vbt > pd.Index([0.3, 0.4], name=\"cond2_th\")\n",
    "cond3 = data.get(\"High\").vbt > bb.upperband\n",
    "cond4 = bandwidth.vbt < pd.Index([0.1, 0.2], name=\"cond4_th\")"
   ]
  },
  {
   "cell_type": "code",
   "execution_count": 24,
   "id": "553a64f0-a358-4e98-a0f6-e05d44ba84be",
   "metadata": {},
   "outputs": [],
   "source": [
    "i1 = np.split(np.arange(len(cond1.columns)), len(cond1.columns) // 2)\n",
    "i2 = np.split(np.arange(len(cond2.columns)), len(cond2.columns) // 2)\n",
    "i3 = np.split(np.arange(len(cond3.columns)), len(cond3.columns) // 2)\n",
    "i4 = np.split(np.arange(len(cond4.columns)), len(cond4.columns) // 2)"
   ]
  },
  {
   "cell_type": "code",
   "execution_count": 25,
   "id": "55799254-e8c1-4b67-aba1-a7015ebe5b92",
   "metadata": {},
   "outputs": [
    {
     "name": "stdout",
     "output_type": "stream",
     "text": [
      "[array([0, 1])]\n",
      "[array([0, 1]), array([2, 3])]\n",
      "[array([0, 1])]\n",
      "[array([0, 1]), array([2, 3])]\n"
     ]
    }
   ],
   "source": [
    "print(i1)\n",
    "print(i2)\n",
    "print(i3)\n",
    "print(i4)"
   ]
  },
  {
   "cell_type": "code",
   "execution_count": 26,
   "id": "6cef9c96-52bf-42be-8c70-750c39bea02a",
   "metadata": {},
   "outputs": [],
   "source": [
    "from itertools import product\n",
    "\n",
    "i1, i2, i3, i4 = zip(*product(i1, i2, i3, i4))"
   ]
  },
  {
   "cell_type": "code",
   "execution_count": 27,
   "id": "7348da68-f874-4334-88ac-be80db0ec4e7",
   "metadata": {},
   "outputs": [
    {
     "name": "stdout",
     "output_type": "stream",
     "text": [
      "(array([0, 1]), array([0, 1]), array([0, 1]), array([0, 1]))\n",
      "(array([0, 1]), array([0, 1]), array([2, 3]), array([2, 3]))\n",
      "(array([0, 1]), array([0, 1]), array([0, 1]), array([0, 1]))\n",
      "(array([0, 1]), array([2, 3]), array([0, 1]), array([2, 3]))\n"
     ]
    }
   ],
   "source": [
    "print(i1)\n",
    "print(i2)\n",
    "print(i3)\n",
    "print(i4)"
   ]
  },
  {
   "cell_type": "code",
   "execution_count": 28,
   "id": "f055cbef-62ef-4958-a6c2-9c253e023e9d",
   "metadata": {},
   "outputs": [],
   "source": [
    "i1 = np.asarray(i1).flatten()\n",
    "i2 = np.asarray(i2).flatten()\n",
    "i3 = np.asarray(i3).flatten()\n",
    "i4 = np.asarray(i4).flatten()"
   ]
  },
  {
   "cell_type": "code",
   "execution_count": 29,
   "id": "f7941975-2907-4a19-811f-e98848822d66",
   "metadata": {},
   "outputs": [
    {
     "name": "stdout",
     "output_type": "stream",
     "text": [
      "[0 1 0 1 0 1 0 1]\n",
      "[0 1 0 1 2 3 2 3]\n",
      "[0 1 0 1 0 1 0 1]\n",
      "[0 1 2 3 0 1 2 3]\n"
     ]
    }
   ],
   "source": [
    "print(i1)\n",
    "print(i2)\n",
    "print(i3)\n",
    "print(i4)"
   ]
  },
  {
   "cell_type": "code",
   "execution_count": 30,
   "id": "8ed4ad6f-3182-4da6-9bfa-8ecb705af57e",
   "metadata": {},
   "outputs": [],
   "source": [
    "cond1 = cond1.iloc[:, i1]\n",
    "cond2 = cond2.iloc[:, i2]\n",
    "cond3 = cond3.iloc[:, i3]\n",
    "cond4 = cond4.iloc[:, i4]"
   ]
  },
  {
   "cell_type": "code",
   "execution_count": 31,
   "id": "38fb824d-8aa5-494d-b2f8-bea49e2d584e",
   "metadata": {},
   "outputs": [
    {
     "data": {
      "text/plain": [
       "cond2_th  cond4_th  symbol \n",
       "0.3       0.1       BTCUSDT    11\n",
       "                    ETHUSDT    10\n",
       "          0.2       BTCUSDT    28\n",
       "                    ETHUSDT    27\n",
       "0.4       0.1       BTCUSDT     9\n",
       "                    ETHUSDT     5\n",
       "          0.2       BTCUSDT    26\n",
       "                    ETHUSDT    22\n",
       "dtype: int64"
      ]
     },
     "execution_count": 31,
     "metadata": {},
     "output_type": "execute_result"
    }
   ],
   "source": [
    "mask = (cond1.vbt & cond2).vbt | (cond3.vbt & cond4)\n",
    "mask.sum()"
   ]
  },
  {
   "cell_type": "code",
   "execution_count": 32,
   "id": "0e5545a3-b347-41de-bee5-9954ff2b0698",
   "metadata": {},
   "outputs": [
    {
     "name": "stdout",
     "output_type": "stream",
     "text": [
      "Indicator.run(\n",
      "    high,\n",
      "    low,\n",
      "    close,\n",
      "    cond2_th,\n",
      "    cond4_th,\n",
      "    bbands_timeperiod=Default(value=5),\n",
      "    bbands_nbdevup=Default(value=2),\n",
      "    bbands_nbdevdn=Default(value=2),\n",
      "    bbands_matype=Default(value=0),\n",
      "    bbands_timeframe=Default(value=None),\n",
      "    short_name='custom',\n",
      "    hide_params=None,\n",
      "    hide_default=True,\n",
      "    **kwargs\n",
      ")\n"
     ]
    }
   ],
   "source": [
    "MaskGenerator = vbt.IF.from_expr(\"\"\"\n",
    "upperband, middleband, lowerband = @res_talib_bbands\n",
    "bandwidth = (upperband - lowerband) / middleband\n",
    "cond1 = low < lowerband\n",
    "cond2 = bandwidth > @p_cond2_th\n",
    "cond3 = high > upperband\n",
    "cond4 = bandwidth < @p_cond4_th\n",
    "@out_mask:(cond1 & cond2) | (cond3 & cond4)\n",
    "\"\"\")\n",
    "\n",
    "print(vbt.format_func(MaskGenerator.run, incl_doc=False))"
   ]
  },
  {
   "cell_type": "code",
   "execution_count": 33,
   "id": "3bbbab02-1e9e-497c-8616-cbfaa19cd39e",
   "metadata": {},
   "outputs": [
    {
     "data": {
      "text/plain": [
       "custom_cond2_th  custom_cond4_th  symbol \n",
       "0.3              0.1              BTCUSDT    11\n",
       "                                  ETHUSDT    10\n",
       "                 0.2              BTCUSDT    28\n",
       "                                  ETHUSDT    27\n",
       "0.4              0.1              BTCUSDT     9\n",
       "                                  ETHUSDT     5\n",
       "                 0.2              BTCUSDT    26\n",
       "                                  ETHUSDT    22\n",
       "dtype: int64"
      ]
     },
     "execution_count": 33,
     "metadata": {},
     "output_type": "execute_result"
    }
   ],
   "source": [
    "mask_generator = MaskGenerator.run(\n",
    "    high=data.get(\"High\"),\n",
    "    low=data.get(\"Low\"),\n",
    "    close=data.get(\"Close\"),\n",
    "    cond2_th=[0.3, 0.4],\n",
    "    cond4_th=[0.1, 0.2],\n",
    "    bbands_timeperiod=vbt.Default(14),\n",
    "    param_product=True\n",
    ")\n",
    "mask_generator.mask.sum()"
   ]
  },
  {
   "cell_type": "markdown",
   "id": "8d6deb30-8e48-48e1-b06e-699454a28098",
   "metadata": {},
   "source": [
    "### Shifting"
   ]
  },
  {
   "cell_type": "code",
   "execution_count": 34,
   "id": "58f200ec-96b8-450b-afc4-76307bf59549",
   "metadata": {},
   "outputs": [
    {
     "data": {
      "text/plain": [
       "symbol\n",
       "BTCUSDT    42\n",
       "ETHUSDT    39\n",
       "dtype: int64"
      ]
     },
     "execution_count": 34,
     "metadata": {},
     "output_type": "execute_result"
    }
   ],
   "source": [
    "cond1 = data.get(\"Low\") < bb.lowerband\n",
    "cond2 = bandwidth > bandwidth.shift(1)\n",
    "\n",
    "mask = cond1 & cond2\n",
    "mask.sum()"
   ]
  },
  {
   "cell_type": "code",
   "execution_count": 35,
   "id": "efef3852-ba5a-4670-8ccf-cb51e5d41432",
   "metadata": {},
   "outputs": [
    {
     "data": {
      "text/plain": [
       "symbol\n",
       "BTCUSDT    33\n",
       "ETHUSDT    28\n",
       "dtype: int64"
      ]
     },
     "execution_count": 35,
     "metadata": {},
     "output_type": "execute_result"
    }
   ],
   "source": [
    "cond2 = bandwidth > bandwidth.rolling(\"7d\").apply(lambda x: x[0])\n",
    "\n",
    "mask = cond1 & cond2\n",
    "mask.sum()"
   ]
  },
  {
   "cell_type": "code",
   "execution_count": 36,
   "id": "5b308a3e-f8e8-46b0-b016-2aa1933dc44d",
   "metadata": {},
   "outputs": [
    {
     "data": {
      "text/plain": [
       "symbol\n",
       "BTCUSDT    29\n",
       "ETHUSDT    26\n",
       "dtype: int64"
      ]
     },
     "execution_count": 36,
     "metadata": {},
     "output_type": "execute_result"
    }
   ],
   "source": [
    "def exactly_ago(sr):\n",
    "    if sr.index[0] == sr.index[-1] - pd.Timedelta(\"7d\"):\n",
    "        return sr.iloc[0]\n",
    "    return np.nan\n",
    "\n",
    "cond_7d_ago = bandwidth.rolling(\"8d\").apply(exactly_ago, raw=False)\n",
    "cond2 = bandwidth > cond_7d_ago\n",
    "\n",
    "mask = cond1 & cond2\n",
    "mask.sum()"
   ]
  },
  {
   "cell_type": "code",
   "execution_count": 37,
   "id": "a41f9fe9-51d8-420b-8352-2238cf58208f",
   "metadata": {},
   "outputs": [
    {
     "data": {
      "text/plain": [
       "symbol\n",
       "BTCUSDT    29\n",
       "ETHUSDT    26\n",
       "dtype: int64"
      ]
     },
     "execution_count": 37,
     "metadata": {},
     "output_type": "execute_result"
    }
   ],
   "source": [
    "from numba import njit\n",
    "\n",
    "@njit\n",
    "def exactly_ago_meta_nb(from_i, to_i, col, index, freq, arr):\n",
    "    if index[from_i] == index[to_i - 1] - freq:\n",
    "        return arr[from_i, col]\n",
    "    return np.nan\n",
    "\n",
    "cond_7d_ago = vbt.pd_acc.rolling_apply(\n",
    "    \"8d\",\n",
    "    exactly_ago_meta_nb,\n",
    "    bandwidth.index.values,\n",
    "    pd.Timedelta(\"7d\").to_timedelta64(),\n",
    "    vbt.to_2d_array(bandwidth),\n",
    "    wrapper=bandwidth.vbt.wrapper\n",
    ")\n",
    "cond2 = bandwidth > cond_7d_ago\n",
    "\n",
    "mask = cond1 & cond2\n",
    "mask.sum()"
   ]
  },
  {
   "cell_type": "code",
   "execution_count": 38,
   "id": "fa58a149-9754-41da-ab53-e7642d0c3410",
   "metadata": {},
   "outputs": [
    {
     "data": {
      "text/plain": [
       "symbol\n",
       "BTCUSDT    29\n",
       "ETHUSDT    26\n",
       "dtype: int64"
      ]
     },
     "execution_count": 38,
     "metadata": {},
     "output_type": "execute_result"
    }
   ],
   "source": [
    "cond2 = bandwidth > bandwidth.vbt.ago(\"7d\")\n",
    "\n",
    "mask = cond1 & cond2\n",
    "mask.sum()"
   ]
  },
  {
   "cell_type": "code",
   "execution_count": 39,
   "id": "ae73e445-ca38-4b64-acee-daed9f4ba6fe",
   "metadata": {},
   "outputs": [
    {
     "data": {
      "text/plain": [
       "symbol\n",
       "BTCUSDT    0.125477\n",
       "ETHUSDT    0.096458\n",
       "Name: 2021-12-24 00:00:00+00:00, dtype: float64"
      ]
     },
     "execution_count": 39,
     "metadata": {},
     "output_type": "execute_result"
    }
   ],
   "source": [
    "bandwidth.iloc[-8]"
   ]
  },
  {
   "cell_type": "code",
   "execution_count": 40,
   "id": "bba2e968-9d6a-422a-a88f-abad435da438",
   "metadata": {},
   "outputs": [
    {
     "data": {
      "text/plain": [
       "symbol\n",
       "BTCUSDT    0.125477\n",
       "ETHUSDT    0.096458\n",
       "Name: 2021-12-31 00:00:00+00:00, dtype: float64"
      ]
     },
     "execution_count": 40,
     "metadata": {},
     "output_type": "execute_result"
    }
   ],
   "source": [
    "bandwidth.vbt.ago(\"7d\").iloc[-1]"
   ]
  },
  {
   "cell_type": "markdown",
   "id": "50937a93-0f50-47c2-a28f-578baa33609a",
   "metadata": {},
   "source": [
    "### Truth value testing"
   ]
  },
  {
   "cell_type": "code",
   "execution_count": 41,
   "id": "f1e5ab80-5cda-46cf-8a30-d20ab4ab9aab",
   "metadata": {},
   "outputs": [
    {
     "data": {
      "text/plain": [
       "symbol\n",
       "BTCUSDT    36\n",
       "ETHUSDT    28\n",
       "dtype: int64"
      ]
     },
     "execution_count": 41,
     "metadata": {},
     "output_type": "execute_result"
    }
   ],
   "source": [
    "cond2 = data.get(\"Close\").vbt.crossed_below(bb.middleband)\n",
    "cond2 = cond2.rolling(5, min_periods=1).max().astype(bool)\n",
    "\n",
    "mask = cond1 & cond2\n",
    "mask.sum()"
   ]
  },
  {
   "cell_type": "code",
   "execution_count": 42,
   "id": "4a4231aa-0152-4aba-b1ff-b40c98f2f196",
   "metadata": {},
   "outputs": [
    {
     "data": {
      "text/plain": [
       "symbol\n",
       "BTCUSDT    36\n",
       "ETHUSDT    28\n",
       "dtype: int64"
      ]
     },
     "execution_count": 42,
     "metadata": {},
     "output_type": "execute_result"
    }
   ],
   "source": [
    "cond2 = data.get(\"Close\").vbt.crossed_below(bb.middleband)\n",
    "cond2 = cond2.vbt.rolling_any(5)\n",
    "\n",
    "mask = cond1 & cond2\n",
    "mask.sum()"
   ]
  },
  {
   "cell_type": "code",
   "execution_count": 43,
   "id": "df8a2ad1-3ba1-4b81-8d63-ebca8e656a2b",
   "metadata": {},
   "outputs": [
    {
     "data": {
      "text/plain": [
       "symbol\n",
       "BTCUSDT    43\n",
       "ETHUSDT    37\n",
       "dtype: int64"
      ]
     },
     "execution_count": 43,
     "metadata": {},
     "output_type": "execute_result"
    }
   ],
   "source": [
    "cond2 = data.get(\"Close\").vbt.crossed_below(bb.middleband)\n",
    "cond2 = cond2.vbt.rolling_apply(\n",
    "    \"W\", \"any\", \n",
    "    minp=1, \n",
    "    wrap_kwargs=dict(fillna=0, dtype=bool)\n",
    ")\n",
    "\n",
    "mask = cond1 & cond2\n",
    "mask.sum()"
   ]
  },
  {
   "cell_type": "code",
   "execution_count": 44,
   "id": "39b1b59c-d0ad-4757-bfe6-789a12e11026",
   "metadata": {},
   "outputs": [
    {
     "data": {
      "text/plain": [
       "array([  0,  31,  59,  90, 120, 151, 181, 212, 243, 273, 304, 334])"
      ]
     },
     "execution_count": 44,
     "metadata": {},
     "output_type": "execute_result"
    }
   ],
   "source": [
    "anchor_points = data.wrapper.get_index_points(\n",
    "    every=\"MS\", \n",
    "    start=0, \n",
    "    exact_start=True\n",
    ")\n",
    "anchor_points"
   ]
  },
  {
   "cell_type": "code",
   "execution_count": 45,
   "id": "d6b79fd8-b86e-486b-8e87-663e2ddff2c9",
   "metadata": {},
   "outputs": [
    {
     "data": {
      "text/plain": [
       "DatetimeIndex(['2021-01-01 00:00:00+00:00', '2021-01-01 00:00:00+00:00',\n",
       "               '2021-01-01 00:00:00+00:00', '2021-01-01 00:00:00+00:00',\n",
       "               '2021-01-01 00:00:00+00:00', '2021-01-01 00:00:00+00:00',\n",
       "               '2021-01-01 00:00:00+00:00', '2021-01-01 00:00:00+00:00',\n",
       "               '2021-01-01 00:00:00+00:00', '2021-01-01 00:00:00+00:00',\n",
       "               ...\n",
       "               '2021-12-01 00:00:00+00:00', '2021-12-01 00:00:00+00:00',\n",
       "               '2021-12-01 00:00:00+00:00', '2021-12-01 00:00:00+00:00',\n",
       "               '2021-12-01 00:00:00+00:00', '2021-12-01 00:00:00+00:00',\n",
       "               '2021-12-01 00:00:00+00:00', '2021-12-01 00:00:00+00:00',\n",
       "               '2021-12-01 00:00:00+00:00', '2021-12-01 00:00:00+00:00'],\n",
       "              dtype='datetime64[ns, UTC]', name='Open time', length=365, freq=None)"
      ]
     },
     "execution_count": 45,
     "metadata": {},
     "output_type": "execute_result"
    }
   ],
   "source": [
    "left_bound = np.full(len(data.wrapper.index), np.nan)\n",
    "left_bound[anchor_points] = anchor_points\n",
    "left_bound = vbt.nb.ffill_1d_nb(left_bound).astype(np.int64)\n",
    "left_bound = bandwidth.index[left_bound]\n",
    "left_bound"
   ]
  },
  {
   "cell_type": "code",
   "execution_count": 46,
   "id": "86481972-0ab1-4f65-9fa3-4c3a7f38d3a1",
   "metadata": {},
   "outputs": [
    {
     "data": {
      "text/plain": [
       "DatetimeIndex(['2021-01-01 00:00:00+00:00', '2021-01-02 00:00:00+00:00',\n",
       "               '2021-01-03 00:00:00+00:00', '2021-01-04 00:00:00+00:00',\n",
       "               '2021-01-05 00:00:00+00:00', '2021-01-06 00:00:00+00:00',\n",
       "               '2021-01-07 00:00:00+00:00', '2021-01-08 00:00:00+00:00',\n",
       "               '2021-01-09 00:00:00+00:00', '2021-01-10 00:00:00+00:00',\n",
       "               ...\n",
       "               '2021-12-22 00:00:00+00:00', '2021-12-23 00:00:00+00:00',\n",
       "               '2021-12-24 00:00:00+00:00', '2021-12-25 00:00:00+00:00',\n",
       "               '2021-12-26 00:00:00+00:00', '2021-12-27 00:00:00+00:00',\n",
       "               '2021-12-28 00:00:00+00:00', '2021-12-29 00:00:00+00:00',\n",
       "               '2021-12-30 00:00:00+00:00', '2021-12-31 00:00:00+00:00'],\n",
       "              dtype='datetime64[ns, UTC]', name='Open time', length=365, freq='D')"
      ]
     },
     "execution_count": 46,
     "metadata": {},
     "output_type": "execute_result"
    }
   ],
   "source": [
    "right_bound = data.wrapper.index\n",
    "right_bound"
   ]
  },
  {
   "cell_type": "code",
   "execution_count": 47,
   "id": "5177843a-f65a-42ba-9e1d-c1744aee9e7b",
   "metadata": {},
   "outputs": [
    {
     "data": {
      "image/svg+xml": [
       "<svg class=\"main-svg\" xmlns=\"http://www.w3.org/2000/svg\" xmlns:xlink=\"http://www.w3.org/1999/xlink\" width=\"700\" height=\"213\" style=\"\" viewBox=\"0 0 700 213\"><rect x=\"0\" y=\"0\" width=\"700\" height=\"213\" style=\"fill: rgb(33, 34, 44); fill-opacity: 1;\"/><defs id=\"defs-e59348\"><g class=\"clips\"><clipPath id=\"clipe59348xyplot\" class=\"plotclip\"><rect width=\"537\" height=\"153\"/></clipPath><clipPath class=\"axesclip\" id=\"clipe59348x\"><rect x=\"71\" y=\"0\" width=\"537\" height=\"213\"/></clipPath><clipPath class=\"axesclip\" id=\"clipe59348y\"><rect x=\"0\" y=\"30\" width=\"700\" height=\"153\"/></clipPath><clipPath class=\"axesclip\" id=\"clipe59348xy\"><rect x=\"71\" y=\"30\" width=\"537\" height=\"153\"/></clipPath></g><g class=\"gradients\"><linearGradient x1=\"0\" x2=\"0\" y1=\"1\" y2=\"0\" id=\"ge59348-cbdd6d527d-9424-4727-8708-1925213648d0\"><stop offset=\"0%\" stop-color=\"rgb(13, 8, 135)\" stop-opacity=\"1\"/><stop offset=\"11.111111%\" stop-color=\"rgb(70, 3, 159)\" stop-opacity=\"1\"/><stop offset=\"22.222222%\" stop-color=\"rgb(114, 1, 168)\" stop-opacity=\"1\"/><stop offset=\"33.333333%\" stop-color=\"rgb(156, 23, 158)\" stop-opacity=\"1\"/><stop offset=\"44.444444%\" stop-color=\"rgb(189, 55, 134)\" stop-opacity=\"1\"/><stop offset=\"55.555556%\" stop-color=\"rgb(216, 87, 107)\" stop-opacity=\"1\"/><stop offset=\"66.666667%\" stop-color=\"rgb(237, 121, 83)\" stop-opacity=\"1\"/><stop offset=\"77.777778%\" stop-color=\"rgb(251, 159, 58)\" stop-opacity=\"1\"/><stop offset=\"88.888889%\" stop-color=\"rgb(253, 202, 38)\" stop-opacity=\"1\"/><stop offset=\"100%\" stop-color=\"rgb(240, 249, 33)\" stop-opacity=\"1\"/></linearGradient></g><g class=\"patterns\"/></defs><g class=\"bglayer\"/><g class=\"layer-below\"><g class=\"imagelayer\"/><g class=\"shapelayer\"/></g><g class=\"cartesianlayer\"><g class=\"subplot xy\"><g class=\"layer-subplot\"><g class=\"shapelayer\"/><g class=\"imagelayer\"/></g><g class=\"gridlayer\"><g class=\"x\"><path class=\"xgrid crisp\" transform=\"translate(158.54000000000002,0)\" d=\"M0,30v153\" style=\"stroke: rgb(47, 62, 78); stroke-opacity: 1; stroke-width: 1px;\"/><path class=\"xgrid crisp\" transform=\"translate(248.28,0)\" d=\"M0,30v153\" style=\"stroke: rgb(47, 62, 78); stroke-opacity: 1; stroke-width: 1px;\"/><path class=\"xgrid crisp\" transform=\"translate(338.03,0)\" d=\"M0,30v153\" style=\"stroke: rgb(47, 62, 78); stroke-opacity: 1; stroke-width: 1px;\"/><path class=\"xgrid crisp\" transform=\"translate(429.25,0)\" d=\"M0,30v153\" style=\"stroke: rgb(47, 62, 78); stroke-opacity: 1; stroke-width: 1px;\"/><path class=\"xgrid crisp\" transform=\"translate(518.99,0)\" d=\"M0,30v153\" style=\"stroke: rgb(47, 62, 78); stroke-opacity: 1; stroke-width: 1px;\"/></g><g class=\"y\"><path class=\"ygrid crisp\" transform=\"translate(0,144.75)\" d=\"M71,0h537\" style=\"stroke: rgb(47, 62, 78); stroke-opacity: 1; stroke-width: 1px;\"/><path class=\"ygrid crisp\" transform=\"translate(0,68.25)\" d=\"M71,0h537\" style=\"stroke: rgb(47, 62, 78); stroke-opacity: 1; stroke-width: 1px;\"/></g></g><g class=\"zerolinelayer\"/><path class=\"xlines-below\"/><path class=\"ylines-below\"/><g class=\"overlines-below\"/><g class=\"xaxislayer-below\"/><g class=\"yaxislayer-below\"/><g class=\"overaxes-below\"/><g class=\"plot\" transform=\"translate(71,30)\" clip-path=\"url(#clipe59348xyplot)\"><g class=\"heatmaplayer mlayer\"><g class=\"hm\"><image xmlns=\"http://www.w3.org/2000/svg\" preserveAspectRatio=\"none\" height=\"153\" width=\"537\" x=\"0\" y=\"0\" xlink:href=\"data:image/png;base64,iVBORw0KGgoAAAANSUhEUgAAAhkAAACZCAYAAACCNSh6AAAQt0lEQVR4Xu3YwdEGOQ2EYfbGhSIC0iMVciA9IiACKA4sB/7dktWe0Yzn+c625XnV1tfVv/zpj3/71x/8EGgQ+Mc//97YtX/LX/781/2HOnELgWmNvFUb09xWm/9Wzv/9zjfwnmSc8PmFyVh9TtY/7WFOPj5q+H0CyXDawfat2pjmtsr+rZyfNst+j/sk40SPTMbqa7L+VwKJ8HZinHx8O7/jxLOmNfJWbUxzW9XiWzkzGbVOJ3pkMmqMrfqBQCK8nUDfPuB2snjaWdMaeas2prmt6uitnJmMWqcTPTIZNcZWMRk00CCQDKdGuf/b8tY/v2luq+zfypnJqHU60SOTUWNsFZNBAw0CyXBqlGMydkBrnMFkNKAtbplknLxjJmOx0Zb/j0AivJ0cJx/fzu848axpjbxVG9PcVrX4Vs6SjFqnEz0yGTXGVkkyaKBBIBlOjXKSjB3QGmcwGQ1oi1smGSfvmMlYbLTlkgwaqBNIhlO9ym+vnBzMyf2nua3e/a2cJRm1Tid6ZDJqjK2SZNBAg0AynBrlJBk7oDXOYDIa0Ba3TDJO3jGTsdhoyyUZNFAnkAynehVJxg5WyRmTf4DJvSUZNXrJO2YyaoytkmTQQINAMpwa5SQZO6A1zmAyGtAWt0wyTt4xk7HYaMslGTRQJ5AMp3oVScYOVskZk3+Ayb0lGTV6yTtmMmqMrZJk0ECDQDKcGuUkGTugNc5gMhrQFrdMMk7eMZOx2GjLJRk0UCeQDKd6FUnGDlbJGZN/gMm9JRk1esk7ZjJqjK2SZNBAg0AynBrlJBk7oDXOYDIa0Ba3TDJO3jGTsdhoyyUZNFAnkAynehVJxg5WyRmTf4DJvSUZNXrJO2YyaoytkmTQQINAMpwa5SQZO6A1zmAyGtAWt0wyTt4xk7HYaMslGTRQJ5AMp3oVScYOVskZk3+Ayb0lGTV6yTtmMmqMrZJk0ECDQDKcGuUkGTugNc5gMhrQFrdMMk7eMZOx2GjLJRk0UCeQDKd6FUnGDlbJGZN/gMm9JRk1esk7ZjJqjK2SZNBAg0AynBrlJBk7oDXOYDIa0Ba3TDJO3jGTsdhoyyUZNFAnkAynehVJxg5WyRmTf4DJvSUZNXrJO2YyaoytkmTQQINAMpwa5SQZO6A1zmAyGtAWt0wyTt4xk7HYaMslGTRQJ5AMp3oVScYOVskZk3+Ayb0lGTV6yTtmMmqMrZJk0ECDQDKcGuUkGTugNc5gMhrQFrdMMk7eMZOx2GjLJRk0UCeQDKd6FUnGDlbJGZN/gMm9JRk1esk7ZjJqjK2SZNBAg0AynBrlJBk7oDXOYDIa0Ba3TDJO3jGTsdhoyyUZNFAnkAynehVJxg5WyRmTf4DJvSUZNXrJO2YyaoytkmTQQINAMpwa5SQZO6A1zmAyGtAWt0wyTt4xk7HYaMslGTRQJ5AMp3oVScYOVskZk3+Ayb0lGTV6yTtmMmqMrZJk0ECDQDKcGuUkGTugNc5gMhrQFrdMMk7eMZOx2GjLJRk0UCeQDKd6FUnGDlbJGZN/gMm9JRk1esk7ZjJqjK2SZNBAg0AynBrlJBk7oDXOYDIa0Ba3TDJO3jGTsdhoyyUZNFAnkAynehVJxg5WyRmTf4DJvSUZNXrJO2YyaoytkmTQQINAMpwa5SQZO6A1zmAyGtAWt0wyTt4xk7HYaMslGTRQJ5AMp3oVScYOVskZk3+Ayb0lGTV6yTtmMmqMrZJk0ECDQDKcGuUkGTugNc5gMhrQFrdMMk7eMZOx2GjLJRk0UCeQDKd6FUnGDlbJGZN/gMm9JRk1esk7ZjJqjK2SZNBAg0AynBrlJBk7oDXOYDIa0Ba3TDJO3jGTsdhoyyUZNFAnkAynehVJxg5WyRmTf4DJvSUZNXrJO2YyaoytkmTQQINAMpwa5SQZO6A1zmAyGtAWt0wyTt4xk7HYaMslGTRQJ5AMp3oVScYOVskZk3+Ayb0lGTV6yTtmMmqMrZJk0ECDQDKcGuUkGTugNc5gMhrQFrdMMk7eMZOx2GjLJRk0UCeQDKd6FUnGDlbJGZN/gMm9JRk1esk7ZjJqjK2SZNBAg0AynBrlJBk7oDXOYDIa0Ba3TDJO3jGTsdhoyyUZNFAnkAynehVJxg5WyRmTf4DJvSUZNXrJO2YyaoytkmTQQINAMpwa5SQZO6A1zmAyGtAWt0wyTt4xk7HYaMslGTRQJ5AMp3oVScYOVskZk3+Ayb0lGTV6yTtmMmqMrZJk0ECDQDKcGuUkGTugNc5gMhrQFrdMMk7eMZOx2GjLJRk0UCeQDKd6FUnGDlbJGZN/gMm9JRk1esk7ZjJqjK2SZNBAg0AynBrlJBk7oDXOYDIa0Ba3TDJO3jGTsdhoyyUZNFAnkAynehVJxg5WyRmTf4DJvSUZNXrJO2YyaoytkmTQQINAMpwa5SQZO6A1zmAyGtAWt0wyTt4xk7HYaMslGTRQJ5AMp3oVScYOVskZk3+Ayb0lGTV6yTtmMmqMrZJk0ECDQDKcGuUkGTugNc5gMhrQFrdMMk7eMZOx2GjLJRk0UCeQDKd6FUnGDlbJGZN/gMm9JRk1esk7ZjJqjK2SZNBAg0AynBrlJBk7oDXOYDIa0Ba3TDJO3jGTsdhoyyUZNFAnkAynehVJxg5WyRmTf4DJvSUZNXrJO2YyaoytkmTQQINAMpwa5SQZO6A1zmAyGtAWt0wyTt4xk7HYaMslGTRQJ5AMp3oVScYOVskZk3+Ayb0lGTV6yTtmMmqMrZJk0ECDQDKcGuUkGTugNc5gMhrQFrdMMk7eMZOx2GjLJRk0UCeQDKd6FUnGDlbJGZN/gMm9JRk1esk7ZjJqjK2SZNBAg0AynBrlJBk7oDXOYDIa0Ba3TDJO3jGTsdhoyyUZNFAnkAynehVJxg5WyRmTf4DJvSUZNXrJO2YyaoytkmTQQINAMpwa5SQZO6A1zmAyGtAWt0wyTt4xk7HYaMslGTRQJ5AMp3oVScYOVskZk3+Ayb0lGTV6yTtmMmqMrZJk0ECDQDKcGuUkGTugNc5gMhrQFrdMMk7eMZOx2GjLJRk0UCeQDKd6FUnGDlbJGZN/gMm9JRk1esk7ZjJqjK2SZNBAg0AynBrlJBk7oDXOYDIa0Ba3TDJO3jGTsdhoyyUZNFAnkAynehVJxg5WyRmTf4DJvSUZNXrJO2YyaoytkmTQQINAMpwa5SQZO6A1zmAyGtAWt0wyTt4xk7HYaMslGTRQJ5AMp3oVScYOVskZk3+Ayb0lGTV6yTtmMmqMrZJk0ECDQDKcGuUkGTugNc5gMhrQFrdMMk7eMZOx2GjLJRk0UCeQDKd6FUnGDlbJGZN/gMm9JRk1esk7ZjJqjK2SZNBAg0AynBrlJBk7oDXOYDIa0Ba3TDJO3jGTsdhoyyUZNFAnkAynehVJxg5WyRmTf4DJvSUZNXrJO2YyaoxfsyoRw38+8u3D4jWNclEEEDiOQDp/fw/I5GxOvovJOEzmiRiYjMPE4HMQQOBWAun8ZTJubZdiHQKpyCfdcud77UEAAQSeQiCdv0zGUzrpHr9JIBU5k0FcCCCAQI9AOn+ZjB53u24kkIqcybixWUohgMBRBNL5y2QcJYczPyYVOZNxpi58FQIIXE8gnb9MxvU9UiEkkIqcyQgbYDsCCHyWQDp/mYzPSuc9H56KnMl4T6/dFAEEnkUgnb9MxrP66TY/EEhFzmSQFQIIINAjkM5fJqPH3a4bCaQiZzJubJZSCCBwFIF0/jIZR8nhzI9JRc5knKkLX4UAAtcTSOcvk3F9j1QICaQiZzLCBtiOAAKfJZDOXybjs9J5z4enImcy3tNrN0UAgWcRSOcvk/GsfrrNDwRSkTMZZIUAAgj0CKTzl8nocbfrRgKpyJmMG5ulFAIIHEUgnb9MxlFyOPNjUpEzGWfqwlchgMD1BNL5y2Rc3yMVQgKpyJmMsAG2I4DAZwmk85fJ+Kx03vPhqciZjPf02k0RQOBZBNL5y2Q8q59u8wOBVORMBlkhgAACPQLp/GUyetztupFAKnIm48ZmKYUAAkcRSOcvk3GUHM78mFTkTMaZuvBVCCBwPYF0/jIZ1/dIhZBAKnImI2yA7Qgg8FkC6fxlMj4rnfd8eCpyJuM9vXZTBBB4FoF0/jIZz+qn2/xAIBU5k0FWCCCAQI9AOn+ZjB53u24kkIqcybixWUohgMBRBNL5y2QcJYczPyYVOZNxpi58FQIIXE8gnb9MxvU9UiEkkIqcyQgbYDsCCHyWQDp/mYzPSuc9H56KnMl4T6/dFAEEnkUgnb9MxrP66TY/EEhFzmSQFQIIINAjkM5fJqPH3a4bCaQiZzJubJZSCCBwFIF0/jIZR8nhzI9JRc5knKkLX4UAAtcTSOcvk3F9j1QICaQiZzLCBtiOAAKfJZDOXybjs9J5z4enImcy3tNrN0UAgWcRSOcvk/GsfrrNDwRSkTMZZIUAAgj0CKTzl8nocbfrRgKpyJmMG5ulFAIIHEUgnb9MxlFyOPNjUpEzGWfqwlchgMD1BNL5y2Rc3yMVQgKpyJmMsAG2I4DAZwmk85fJ+Kx03vPhqciZjPf02k0RQOBZBNL5y2Q8q59u8wOBVORMBlkhgAACPQLp/GUyetztupFAKnIm48ZmKYUAAkcRSOcvk3GUHM78mFTkTMaZuvBVCCBwPYF0/jIZ1/dIhZBAKnImI2yA7Qgg8FkC6fxlMj4rnfd8eCpyJuM9vXZTBBB4FoF0/jIZz+qn2/xAIBU5k0FWCCCAQI9AOn+ZjB53u24kkIqcybixWUohgMBRBNL5y2QcJYczPyYVOZNxpi58FQIIXE8gnb9MxvU9UiEkkIqcyQgbYDsCCHyWQDp/mYzPSuc9H56KnMl4T6/dFAEEnkUgnb9MxrP66TY/EEhFzmSQFQIIINAjkM5fJqPH3a4bCaQiZzJubJZSCCBwFIF0/jIZR8nhzI9JRc5knKkLX4UAAtcTSOcvk3F9j1QICaQiZzLCBtiOAAKfJZDOXybjs9J5z4enImcy3tNrN0UAgWcRSOcvk/GsfrrNDwRSkTMZZIUAAgj0CKTzl8nocbfrRgKpyJmMG5ulFAIIHEUgnb9MxlFyOPNjUpEzGWfqwlchgMD1BNL5y2Rc3yMVQgKpyJmMsAG2I4DAZwmk85fJ+Kx03vPhqciZjPf02k0RQOBZBNL5y2Q8q59u8wOBVORMBlkhgAACPQLp/GUyetztupFAKnIm48ZmKYUAAkcRSOcvk3GUHM78mFTkTMaZuvBVCCBwPYF0/jIZ1/dIhZBAKnImI2yA7Qgg8FkC6fxlMj4rnfd8eCpyJuM9vXZTBBB4FoF0/jIZz+qn2/xAIBU5k0FWCCCAQI9AOn+ZjB53u24kkIqcybixWUohgMBRBNL5y2QcJYczPyYVOZNxpi58FQIIXE8gnb9MxvU9UiEkkIqcyQgbYDsCCHyWQDp/mYzPSuc9H56KnMl4T6/dFAEEnkUgnb9MxrP66TY/EEhFzmSQFQIIINAjkM5fJqPH3a4bCaQiZzJubJZSCCBwFIF0/jIZR8nhzI9JRc5knKkLX4UAAtcTSOcvk3F9j1QICaQiZzLCBtiOAAKfJZDOXybjs9J5z4enImcy3tNrN0UAgWcRSOcvk/GsfrrNDwRSkTMZZIUAAgj0CKTzl8nocbfrRgKpyJmMG5ulFAIIHEUgnb9MxlFyOPNjUpEzGWfqwlchgMD1BNL5e6LJ+Dfk2c5kEt0LCAAAAABJRU5ErkJggg==\" style=\"opacity: 1;\"/></g></g></g><g class=\"overplot\"/><path class=\"xlines-above crisp\" d=\"M0,0\" style=\"fill: none;\"/><path class=\"ylines-above crisp\" d=\"M0,0\" style=\"fill: none;\"/><g class=\"overlines-above\"/><g class=\"xaxislayer-above\"><g class=\"xtick\"><text text-anchor=\"middle\" x=\"0\" y=\"196\" transform=\"translate(71.74,0)\" style=\"font-family: 'Open Sans', verdana, arial, sans-serif; font-size: 12px; fill: rgb(214, 223, 239); fill-opacity: 1; white-space: pre; opacity: 1;\">Jan 2021</text></g><g class=\"xtick\"><text text-anchor=\"middle\" x=\"0\" y=\"196\" style=\"font-family: 'Open Sans', verdana, arial, sans-serif; font-size: 12px; fill: rgb(214, 223, 239); fill-opacity: 1; white-space: pre; opacity: 1;\" transform=\"translate(158.54000000000002,0)\">Mar 2021</text></g><g class=\"xtick\"><text text-anchor=\"middle\" x=\"0\" y=\"196\" style=\"font-family: 'Open Sans', verdana, arial, sans-serif; font-size: 12px; fill: rgb(214, 223, 239); fill-opacity: 1; white-space: pre; opacity: 1;\" transform=\"translate(248.28,0)\">May 2021</text></g><g class=\"xtick\"><text text-anchor=\"middle\" x=\"0\" y=\"196\" style=\"font-family: 'Open Sans', verdana, arial, sans-serif; font-size: 12px; fill: rgb(214, 223, 239); fill-opacity: 1; white-space: pre; opacity: 1;\" transform=\"translate(338.03,0)\">Jul 2021</text></g><g class=\"xtick\"><text text-anchor=\"middle\" x=\"0\" y=\"196\" style=\"font-family: 'Open Sans', verdana, arial, sans-serif; font-size: 12px; fill: rgb(214, 223, 239); fill-opacity: 1; white-space: pre; opacity: 1;\" transform=\"translate(429.25,0)\">Sep 2021</text></g><g class=\"xtick\"><text text-anchor=\"middle\" x=\"0\" y=\"196\" style=\"font-family: 'Open Sans', verdana, arial, sans-serif; font-size: 12px; fill: rgb(214, 223, 239); fill-opacity: 1; white-space: pre; opacity: 1;\" transform=\"translate(518.99,0)\">Nov 2021</text></g></g><g class=\"yaxislayer-above\"><g class=\"ytick\"><text text-anchor=\"end\" x=\"70\" y=\"4.199999999999999\" transform=\"translate(0,144.75)\" style=\"font-family: 'Open Sans', verdana, arial, sans-serif; font-size: 12px; fill: rgb(214, 223, 239); fill-opacity: 1; white-space: pre; opacity: 1;\">ETHUSDT</text></g><g class=\"ytick\"><text text-anchor=\"end\" x=\"70\" y=\"4.199999999999999\" transform=\"translate(0,68.25)\" style=\"font-family: 'Open Sans', verdana, arial, sans-serif; font-size: 12px; fill: rgb(214, 223, 239); fill-opacity: 1; white-space: pre; opacity: 1;\">BTCUSDT</text></g></g><g class=\"overaxes-above\"/></g></g><g class=\"polarlayer\"/><g class=\"smithlayer\"/><g class=\"ternarylayer\"/><g class=\"geolayer\"/><g class=\"funnelarealayer\"/><g class=\"pielayer\"/><g class=\"iciclelayer\"/><g class=\"treemaplayer\"/><g class=\"sunburstlayer\"/><g class=\"glimages\"/><defs id=\"topdefs-e59348\"><g class=\"clips\"/></defs><g class=\"layer-above\"><g class=\"imagelayer\"/><g class=\"shapelayer\"/></g><g class=\"infolayer\"><g class=\"cbdd6d527d-9424-4727-8708-1925213648d0 colorbar\" transform=\"translate(71,30)\"><rect class=\"cbbg\" x=\"548\" y=\"0\" width=\"69.640625\" height=\"153\" style=\"fill: rgb(0, 0, 0); fill-opacity: 0; stroke: rgb(68, 68, 68); stroke-opacity: 1; stroke-width: 0;\"/><g class=\"cbfills\" transform=\"translate(0,10)\"><rect class=\"cbfill\" x=\"558\" y=\"0\" width=\"30\" height=\"133\" style=\"fill: url('#ge59348-cbdd6d527d-9424-4727-8708-1925213648d0');\"/></g><g class=\"cblines\" transform=\"translate(0,10)\"/><g class=\"cbaxis crisp\" transform=\"translate(0,-30)\"><g class=\"ycbdd6d527d-9424-4727-8708-1925213648d0tick\"><text text-anchor=\"start\" x=\"590.9\" y=\"4.199999999999999\" transform=\"translate(0,173)\" style=\"font-family: 'Open Sans', verdana, arial, sans-serif; font-size: 12px; fill: rgb(214, 223, 239); fill-opacity: 1; white-space: pre; opacity: 1;\">0</text></g><g class=\"ycbdd6d527d-9424-4727-8708-1925213648d0tick\"><text text-anchor=\"start\" x=\"590.9\" y=\"4.199999999999999\" style=\"font-family: 'Open Sans', verdana, arial, sans-serif; font-size: 12px; fill: rgb(214, 223, 239); fill-opacity: 1; white-space: pre; opacity: 1;\" transform=\"translate(0,106.5)\">0.5</text></g><g class=\"ycbdd6d527d-9424-4727-8708-1925213648d0tick\"><text text-anchor=\"start\" x=\"590.9\" y=\"4.199999999999999\" style=\"font-family: 'Open Sans', verdana, arial, sans-serif; font-size: 12px; fill: rgb(214, 223, 239); fill-opacity: 1; white-space: pre; opacity: 1;\" transform=\"translate(0,40)\">1</text></g></g><g class=\"cbtitleunshift\" transform=\"translate(-71,-30)\"><g class=\"cbtitle\"/></g><rect class=\"cboutline\" x=\"558\" y=\"10\" width=\"30\" height=\"133\" style=\"stroke: rgb(68, 68, 68); stroke-opacity: 1; fill: none; stroke-width: 0;\"/></g><g class=\"g-gtitle\"/><g class=\"g-xtitle\"/><g class=\"g-ytitle\"/></g></svg>"
      ]
     },
     "metadata": {},
     "output_type": "display_data"
    }
   ],
   "source": [
    "mask = (bandwidth <= 0.1).vbt.resample_between_bounds(\n",
    "    left_bound, \n",
    "    right_bound,\n",
    "    \"any\",\n",
    "    closed_lbound=True,\n",
    "    closed_rbound=True,\n",
    "    wrap_with_lbound=False,\n",
    "    wrap_kwargs=dict(fillna=0, dtype=bool)\n",
    ")\n",
    "mask.astype(int).vbt.ts_heatmap().show_svg()"
   ]
  },
  {
   "cell_type": "markdown",
   "id": "73d0ca33-a66b-4fe6-8e7d-144df6bd0882",
   "metadata": {},
   "source": [
    "### Periodically"
   ]
  },
  {
   "cell_type": "code",
   "execution_count": 48,
   "id": "a27fa7cc-6c65-4ff4-aebf-aacdaf160ca1",
   "metadata": {},
   "outputs": [
    {
     "data": {
      "application/vnd.jupyter.widget-view+json": {
       "model_id": "ffa5763118ce4a7198a0c78503883b6d",
       "version_major": 2,
       "version_minor": 0
      },
      "text/plain": [
       "  0%|          | 0/2 [00:00<?, ?it/s]"
      ]
     },
     "metadata": {},
     "output_type": "display_data"
    },
    {
     "data": {
      "application/vnd.jupyter.widget-view+json": {
       "model_id": "d2d0769cfddc4a0895ceee0c3bf6f11c",
       "version_major": 2,
       "version_minor": 0
      },
      "text/plain": [
       "0it [00:00, ?it/s]"
      ]
     },
     "metadata": {},
     "output_type": "display_data"
    },
    {
     "data": {
      "application/vnd.jupyter.widget-view+json": {
       "model_id": "c44bb1592ef44505a499076be0821fd4",
       "version_major": 2,
       "version_minor": 0
      },
      "text/plain": [
       "0it [00:00, ?it/s]"
      ]
     },
     "metadata": {},
     "output_type": "display_data"
    },
    {
     "data": {
      "text/plain": [
       "DatetimeIndex(['2021-01-05 00:00:00+00:00', '2021-01-05 01:00:00+00:00',\n",
       "               '2021-01-05 02:00:00+00:00', '2021-01-05 03:00:00+00:00',\n",
       "               '2021-01-05 04:00:00+00:00', '2021-01-05 05:00:00+00:00',\n",
       "               '2021-01-05 06:00:00+00:00', '2021-01-05 07:00:00+00:00',\n",
       "               '2021-01-05 08:00:00+00:00', '2021-01-05 09:00:00+00:00',\n",
       "               '2021-01-05 10:00:00+00:00', '2021-01-05 11:00:00+00:00',\n",
       "               '2021-01-05 12:00:00+00:00', '2021-01-05 13:00:00+00:00',\n",
       "               '2021-01-05 14:00:00+00:00', '2021-01-05 15:00:00+00:00',\n",
       "               '2021-01-05 16:00:00+00:00', '2021-01-05 17:00:00+00:00',\n",
       "               '2021-01-05 18:00:00+00:00', '2021-01-05 19:00:00+00:00',\n",
       "               '2021-01-05 20:00:00+00:00', '2021-01-05 21:00:00+00:00',\n",
       "               '2021-01-05 22:00:00+00:00', '2021-01-05 23:00:00+00:00',\n",
       "               '2021-01-12 00:00:00+00:00', '2021-01-12 01:00:00+00:00',\n",
       "               '2021-01-12 02:00:00+00:00', '2021-01-12 03:00:00+00:00',\n",
       "               '2021-01-12 04:00:00+00:00', '2021-01-12 05:00:00+00:00',\n",
       "               '2021-01-12 06:00:00+00:00', '2021-01-12 07:00:00+00:00',\n",
       "               '2021-01-12 08:00:00+00:00', '2021-01-12 09:00:00+00:00',\n",
       "               '2021-01-12 10:00:00+00:00', '2021-01-12 11:00:00+00:00',\n",
       "               '2021-01-12 12:00:00+00:00', '2021-01-12 13:00:00+00:00',\n",
       "               '2021-01-12 14:00:00+00:00', '2021-01-12 15:00:00+00:00',\n",
       "               '2021-01-12 16:00:00+00:00', '2021-01-12 17:00:00+00:00',\n",
       "               '2021-01-12 18:00:00+00:00', '2021-01-12 19:00:00+00:00',\n",
       "               '2021-01-12 20:00:00+00:00', '2021-01-12 21:00:00+00:00',\n",
       "               '2021-01-12 22:00:00+00:00', '2021-01-12 23:00:00+00:00',\n",
       "               '2021-01-19 00:00:00+00:00', '2021-01-19 01:00:00+00:00',\n",
       "               '2021-01-19 02:00:00+00:00', '2021-01-19 03:00:00+00:00',\n",
       "               '2021-01-19 04:00:00+00:00', '2021-01-19 05:00:00+00:00',\n",
       "               '2021-01-19 06:00:00+00:00', '2021-01-19 07:00:00+00:00',\n",
       "               '2021-01-19 08:00:00+00:00', '2021-01-19 09:00:00+00:00',\n",
       "               '2021-01-19 10:00:00+00:00', '2021-01-19 11:00:00+00:00',\n",
       "               '2021-01-19 12:00:00+00:00', '2021-01-19 13:00:00+00:00',\n",
       "               '2021-01-19 14:00:00+00:00', '2021-01-19 15:00:00+00:00',\n",
       "               '2021-01-19 16:00:00+00:00', '2021-01-19 17:00:00+00:00',\n",
       "               '2021-01-19 18:00:00+00:00', '2021-01-19 19:00:00+00:00',\n",
       "               '2021-01-19 20:00:00+00:00', '2021-01-19 21:00:00+00:00',\n",
       "               '2021-01-19 22:00:00+00:00', '2021-01-19 23:00:00+00:00',\n",
       "               '2021-01-26 00:00:00+00:00', '2021-01-26 01:00:00+00:00',\n",
       "               '2021-01-26 02:00:00+00:00', '2021-01-26 03:00:00+00:00',\n",
       "               '2021-01-26 04:00:00+00:00', '2021-01-26 05:00:00+00:00',\n",
       "               '2021-01-26 06:00:00+00:00', '2021-01-26 07:00:00+00:00',\n",
       "               '2021-01-26 08:00:00+00:00', '2021-01-26 09:00:00+00:00',\n",
       "               '2021-01-26 10:00:00+00:00', '2021-01-26 11:00:00+00:00',\n",
       "               '2021-01-26 12:00:00+00:00', '2021-01-26 13:00:00+00:00',\n",
       "               '2021-01-26 14:00:00+00:00', '2021-01-26 15:00:00+00:00',\n",
       "               '2021-01-26 16:00:00+00:00', '2021-01-26 17:00:00+00:00',\n",
       "               '2021-01-26 18:00:00+00:00', '2021-01-26 19:00:00+00:00',\n",
       "               '2021-01-26 20:00:00+00:00', '2021-01-26 21:00:00+00:00',\n",
       "               '2021-01-26 22:00:00+00:00', '2021-01-26 23:00:00+00:00'],\n",
       "              dtype='datetime64[ns, UTC]', name='Open time', freq=None)"
      ]
     },
     "execution_count": 48,
     "metadata": {},
     "output_type": "execute_result"
    }
   ],
   "source": [
    "min_data = vbt.BinanceData.fetch(\n",
    "    [\"BTCUSDT\", \"ETHUSDT\"], \n",
    "    start=\"2021-01-01 UTC\",\n",
    "    end=\"2021-02-01 UTC\",\n",
    "    timeframe=\"1h\"\n",
    ")\n",
    "index = min_data.wrapper.index\n",
    "tuesday_index = index[index.weekday == 1]\n",
    "tuesday_index"
   ]
  },
  {
   "cell_type": "code",
   "execution_count": 49,
   "id": "61283286-8bc4-4a67-8385-54b88926b078",
   "metadata": {},
   "outputs": [
    {
     "data": {
      "text/plain": [
       "DatetimeIndex(['2021-01-05 18:00:00+00:00', '2021-01-12 18:00:00+00:00',\n",
       "               '2021-01-19 18:00:00+00:00', '2021-01-26 18:00:00+00:00'],\n",
       "              dtype='datetime64[ns, UTC]', name='Open time', freq=None)"
      ]
     },
     "execution_count": 49,
     "metadata": {},
     "output_type": "execute_result"
    }
   ],
   "source": [
    "tuesday_1800_index = tuesday_index[tuesday_index.hour == 18]\n",
    "tuesday_1800_index"
   ]
  },
  {
   "cell_type": "code",
   "execution_count": 50,
   "id": "8c1f8c57-df34-4cd0-99b3-f9511f987f99",
   "metadata": {},
   "outputs": [
    {
     "data": {
      "text/plain": [
       "DatetimeIndex([], dtype='datetime64[ns, UTC]', name='Open time', freq='H')"
      ]
     },
     "execution_count": 50,
     "metadata": {},
     "output_type": "execute_result"
    }
   ],
   "source": [
    "tuesday_1730_index = index[\n",
    "    (index.weekday == 1) & \n",
    "    (index.hour == 17) & \n",
    "    (index.minute == 30)\n",
    "]\n",
    "tuesday_1730_index"
   ]
  },
  {
   "cell_type": "code",
   "execution_count": 51,
   "id": "52657759-5799-4aae-ac79-cd588037fcea",
   "metadata": {},
   "outputs": [
    {
     "data": {
      "text/plain": [
       "array([144])"
      ]
     },
     "execution_count": 51,
     "metadata": {},
     "output_type": "execute_result"
    }
   ],
   "source": [
    "index.get_indexer([pd.Timestamp(\"2021-01-07\", tz=index.tz)])"
   ]
  },
  {
   "cell_type": "code",
   "execution_count": 52,
   "id": "7e13344f-4c60-4e46-a2ff-9dcecc989475",
   "metadata": {},
   "outputs": [
    {
     "data": {
      "text/plain": [
       "array([-1])"
      ]
     },
     "execution_count": 52,
     "metadata": {},
     "output_type": "execute_result"
    }
   ],
   "source": [
    "index.get_indexer([pd.Timestamp(\"2021-01-07 17:30:00\", tz=index.tz)]) "
   ]
  },
  {
   "cell_type": "code",
   "execution_count": 53,
   "id": "bbdd67e5-4b86-4e5a-86f3-d2c123f3bf01",
   "metadata": {},
   "outputs": [
    {
     "data": {
      "text/plain": [
       "DatetimeIndex(['2021-01-07 17:00:00+00:00'], dtype='datetime64[ns, UTC]', name='Open time', freq=None)"
      ]
     },
     "execution_count": 53,
     "metadata": {},
     "output_type": "execute_result"
    }
   ],
   "source": [
    "index[index.get_indexer(\n",
    "    [pd.Timestamp(\"2021-01-07 17:30:00\", tz=index.tz)],\n",
    "    method=\"ffill\"\n",
    ")]"
   ]
  },
  {
   "cell_type": "code",
   "execution_count": 54,
   "id": "241ed072-2873-4f0b-9cba-7fa5d8bd5401",
   "metadata": {},
   "outputs": [
    {
     "data": {
      "text/plain": [
       "DatetimeIndex(['2021-01-07 18:00:00+00:00'], dtype='datetime64[ns, UTC]', name='Open time', freq=None)"
      ]
     },
     "execution_count": 54,
     "metadata": {},
     "output_type": "execute_result"
    }
   ],
   "source": [
    "index[index.get_indexer(\n",
    "    [pd.Timestamp(\"2021-01-07 17:30:00\", tz=index.tz)],\n",
    "    method=\"bfill\"\n",
    ")]"
   ]
  },
  {
   "cell_type": "code",
   "execution_count": 55,
   "id": "e31841d0-3c4a-4967-a0a1-62b5c680cd85",
   "metadata": {},
   "outputs": [
    {
     "data": {
      "text/plain": [
       "DatetimeIndex(['2021-01-05 17:30:00+00:00', '2021-01-12 17:30:00+00:00',\n",
       "               '2021-01-19 17:30:00+00:00', '2021-01-26 17:30:00+00:00'],\n",
       "              dtype='datetime64[ns, UTC]', freq=None)"
      ]
     },
     "execution_count": 55,
     "metadata": {},
     "output_type": "execute_result"
    }
   ],
   "source": [
    "each_tuesday = pd.date_range(index[0], index[-1], freq=\"W-TUE\")\n",
    "each_tuesday_1730 = each_tuesday + pd.Timedelta(hours=17, minutes=30)\n",
    "each_tuesday_1730"
   ]
  },
  {
   "cell_type": "code",
   "execution_count": 56,
   "id": "21d5f7eb-f18e-4327-8d20-9cdc72cad6d8",
   "metadata": {},
   "outputs": [
    {
     "data": {
      "text/plain": [
       "symbol\n",
       "BTCUSDT    4\n",
       "ETHUSDT    4\n",
       "dtype: int64"
      ]
     },
     "execution_count": 56,
     "metadata": {},
     "output_type": "execute_result"
    }
   ],
   "source": [
    "positions = index.get_indexer(each_tuesday_1730, method=\"bfill\")\n",
    "\n",
    "min_symbol_wrapper = min_data.get_symbol_wrapper()\n",
    "mask = min_symbol_wrapper.fill(False)\n",
    "mask.iloc[positions] = True\n",
    "mask.sum()"
   ]
  },
  {
   "cell_type": "code",
   "execution_count": 57,
   "id": "bfadfca9-23df-4372-aab6-ecfb9e5c4046",
   "metadata": {},
   "outputs": [
    {
     "data": {
      "text/plain": [
       "Index(['Tuesday 18:00:00', 'Tuesday 18:00:00', 'Tuesday 18:00:00',\n",
       "       'Tuesday 18:00:00'],\n",
       "      dtype='object', name='Open time')"
      ]
     },
     "execution_count": 57,
     "metadata": {},
     "output_type": "execute_result"
    }
   ],
   "source": [
    "mask[mask.any(axis=1)].index.strftime(\"%A %T\")"
   ]
  },
  {
   "cell_type": "code",
   "execution_count": 58,
   "id": "1206dc67-91f7-4207-ae3e-05e579576fe3",
   "metadata": {},
   "outputs": [
    {
     "data": {
      "text/plain": [
       "Index(['Tuesday 17:00:00', 'Tuesday 17:00:00', 'Tuesday 17:00:00',\n",
       "       'Tuesday 17:00:00'],\n",
       "      dtype='object', name='Open time')"
      ]
     },
     "execution_count": 58,
     "metadata": {},
     "output_type": "execute_result"
    }
   ],
   "source": [
    "tuesday_after_1700 = (index.weekday == 1) & (index.hour >= 17)\n",
    "wednesday_before_1700 = (index.weekday == 2) & (index.hour < 17)\n",
    "main_cond = tuesday_after_1700 | wednesday_before_1700\n",
    "mask = min_symbol_wrapper.fill(False)\n",
    "mask[main_cond] = True\n",
    "mask = mask.vbt.signals.first()\n",
    "mask[mask.any(axis=1)].index.strftime(\"%A %T\")"
   ]
  },
  {
   "cell_type": "code",
   "execution_count": 59,
   "id": "e011aa6b-94a2-4a76-a3e6-f2998e4bdc5e",
   "metadata": {},
   "outputs": [
    {
     "data": {
      "text/plain": [
       "Index(['Tuesday 18:00:00', 'Tuesday 18:00:00', 'Tuesday 18:00:00',\n",
       "       'Tuesday 18:00:00'],\n",
       "      dtype='object', name='Open time')"
      ]
     },
     "execution_count": 59,
     "metadata": {},
     "output_type": "execute_result"
    }
   ],
   "source": [
    "mask = min_symbol_wrapper.fill(False)\n",
    "mask.vbt.set(\n",
    "    True, \n",
    "    every=\"W-TUE\", \n",
    "    at_time=\"17:30\", \n",
    "    inplace=True\n",
    ")\n",
    "mask[mask.any(axis=1)].index.strftime(\"%A %T\")"
   ]
  },
  {
   "cell_type": "code",
   "execution_count": 60,
   "id": "3849cd8e-63ab-4603-b84a-ea2f0e0cb282",
   "metadata": {},
   "outputs": [
    {
     "data": {
      "text/plain": [
       "Index(['Tuesday 19:00:00', 'Tuesday 19:00:00', 'Tuesday 19:00:00',\n",
       "       'Tuesday 19:00:00'],\n",
       "      dtype='object', name='Open time')"
      ]
     },
     "execution_count": 60,
     "metadata": {},
     "output_type": "execute_result"
    }
   ],
   "source": [
    "mask = min_symbol_wrapper.fill(False)\n",
    "mask.vbt.set(\n",
    "    True, \n",
    "    every=\"W-TUE\", \n",
    "    at_time=\"18:00\", \n",
    "    add_delta=pd.Timedelta(1, \"ns\"),\n",
    "    inplace=True\n",
    ")\n",
    "mask[mask.any(axis=1)].index.strftime(\"%A %T\")"
   ]
  },
  {
   "cell_type": "code",
   "execution_count": 61,
   "id": "0bcd77bd-b5f9-4e03-8a1b-a2f1646d2887",
   "metadata": {},
   "outputs": [
    {
     "data": {
      "text/plain": [
       "Index(['Monday 12:00:00', 'Monday 13:00:00', 'Monday 14:00:00',\n",
       "       'Monday 15:00:00', 'Monday 16:00:00', 'Monday 17:00:00',\n",
       "       'Monday 18:00:00', 'Monday 19:00:00', 'Monday 20:00:00',\n",
       "       'Monday 21:00:00',\n",
       "       ...\n",
       "       'Tuesday 07:00:00', 'Tuesday 08:00:00', 'Tuesday 09:00:00',\n",
       "       'Tuesday 10:00:00', 'Tuesday 11:00:00', 'Tuesday 12:00:00',\n",
       "       'Tuesday 13:00:00', 'Tuesday 14:00:00', 'Tuesday 15:00:00',\n",
       "       'Tuesday 16:00:00'],\n",
       "      dtype='object', name='Open time', length=116)"
      ]
     },
     "execution_count": 61,
     "metadata": {},
     "output_type": "execute_result"
    }
   ],
   "source": [
    "mask = min_symbol_wrapper.fill(False)\n",
    "mask.vbt.set_between(\n",
    "    True, \n",
    "    every=\"W-MON\", \n",
    "    start_time=\"12:00\", \n",
    "    end_time=\"17:00\", \n",
    "    add_end_delta=pd.Timedelta(days=1),\n",
    "    inplace=True\n",
    ")\n",
    "mask[mask.any(axis=1)].index.strftime(\"%A %T\")"
   ]
  },
  {
   "cell_type": "code",
   "execution_count": 62,
   "id": "0335ab31-4ae0-4e2d-be6e-412949468b6f",
   "metadata": {},
   "outputs": [
    {
     "data": {
      "text/plain": [
       "DatetimeIndex(['2021-01-07 00:00:00+00:00'], dtype='datetime64[ns, UTC]', name='Open time', freq='H')"
      ]
     },
     "execution_count": 62,
     "metadata": {},
     "output_type": "execute_result"
    }
   ],
   "source": [
    "mask = min_symbol_wrapper.fill(False)\n",
    "mask.vbt.set(\n",
    "    True, \n",
    "    on=\"January 7th 2021 UTC\",\n",
    "    indexer_method=None,\n",
    "    inplace=True\n",
    ")\n",
    "mask[mask.any(axis=1)].index"
   ]
  },
  {
   "cell_type": "code",
   "execution_count": 63,
   "id": "8383ce7c-dda3-472c-af61-5b1f33b67b3f",
   "metadata": {},
   "outputs": [
    {
     "data": {
      "text/plain": [
       "DatetimeIndex(['2021-01-01 12:00:00+00:00', '2021-01-01 13:00:00+00:00',\n",
       "               '2021-01-01 14:00:00+00:00', '2021-01-01 15:00:00+00:00',\n",
       "               '2021-01-01 16:00:00+00:00', '2021-01-01 17:00:00+00:00',\n",
       "               '2021-01-01 18:00:00+00:00', '2021-01-01 19:00:00+00:00',\n",
       "               '2021-01-01 20:00:00+00:00', '2021-01-01 21:00:00+00:00',\n",
       "               '2021-01-01 22:00:00+00:00', '2021-01-01 23:00:00+00:00',\n",
       "               '2021-01-02 00:00:00+00:00', '2021-01-02 01:00:00+00:00',\n",
       "               '2021-01-02 02:00:00+00:00', '2021-01-02 03:00:00+00:00',\n",
       "               '2021-01-02 04:00:00+00:00', '2021-01-02 05:00:00+00:00',\n",
       "               '2021-01-02 06:00:00+00:00', '2021-01-02 07:00:00+00:00',\n",
       "               '2021-01-02 08:00:00+00:00', '2021-01-02 09:00:00+00:00',\n",
       "               '2021-01-02 10:00:00+00:00', '2021-01-02 11:00:00+00:00',\n",
       "               '2021-01-07 12:00:00+00:00', '2021-01-07 13:00:00+00:00',\n",
       "               '2021-01-07 14:00:00+00:00', '2021-01-07 15:00:00+00:00',\n",
       "               '2021-01-07 16:00:00+00:00', '2021-01-07 17:00:00+00:00',\n",
       "               '2021-01-07 18:00:00+00:00', '2021-01-07 19:00:00+00:00',\n",
       "               '2021-01-07 20:00:00+00:00', '2021-01-07 21:00:00+00:00',\n",
       "               '2021-01-07 22:00:00+00:00', '2021-01-07 23:00:00+00:00',\n",
       "               '2021-01-08 00:00:00+00:00', '2021-01-08 01:00:00+00:00',\n",
       "               '2021-01-08 02:00:00+00:00', '2021-01-08 03:00:00+00:00',\n",
       "               '2021-01-08 04:00:00+00:00', '2021-01-08 05:00:00+00:00',\n",
       "               '2021-01-08 06:00:00+00:00', '2021-01-08 07:00:00+00:00',\n",
       "               '2021-01-08 08:00:00+00:00', '2021-01-08 09:00:00+00:00',\n",
       "               '2021-01-08 10:00:00+00:00', '2021-01-08 11:00:00+00:00'],\n",
       "              dtype='datetime64[ns, UTC]', name='Open time', freq=None)"
      ]
     },
     "execution_count": 63,
     "metadata": {},
     "output_type": "execute_result"
    }
   ],
   "source": [
    "mask = min_symbol_wrapper.fill(False)\n",
    "mask.vbt.set_between(\n",
    "    True, \n",
    "    start=[\"2021-01-01 12:00:00\", \"2021-01-07 12:00:00\"],\n",
    "    end=[\"2021-01-02 12:00:00\", \"2021-01-08 12:00:00\"],\n",
    "    inplace=True\n",
    ")\n",
    "mask[mask.any(axis=1)].index"
   ]
  },
  {
   "cell_type": "code",
   "execution_count": 64,
   "id": "1be65183-69dc-4576-925f-ba51c2d9b16d",
   "metadata": {},
   "outputs": [
    {
     "data": {
      "text/plain": [
       "DatetimeIndex(['2021-01-04 00:00:00+00:00', '2021-01-04 01:00:00+00:00',\n",
       "               '2021-01-11 00:00:00+00:00', '2021-01-11 01:00:00+00:00',\n",
       "               '2021-01-18 00:00:00+00:00', '2021-01-18 01:00:00+00:00',\n",
       "               '2021-01-25 00:00:00+00:00', '2021-01-25 01:00:00+00:00'],\n",
       "              dtype='datetime64[ns, UTC]', name='Open time', freq=None)"
      ]
     },
     "execution_count": 64,
     "metadata": {},
     "output_type": "execute_result"
    }
   ],
   "source": [
    "mask = min_symbol_wrapper.fill(False)\n",
    "mask.vbt.set_between(\n",
    "    True, \n",
    "    every=\"W-MON\",\n",
    "    split_every=False,\n",
    "    add_end_delta=\"2h\",\n",
    "    inplace=True\n",
    ")\n",
    "mask[mask.any(axis=1)].index"
   ]
  },
  {
   "cell_type": "markdown",
   "id": "0942b710-9089-4203-812c-087c90458e50",
   "metadata": {},
   "source": [
    "### Iteratively"
   ]
  },
  {
   "cell_type": "code",
   "execution_count": 65,
   "id": "9da35717-67da-421a-acf7-e3e1a81d34f1",
   "metadata": {},
   "outputs": [
    {
     "data": {
      "text/plain": [
       "25"
      ]
     },
     "execution_count": 65,
     "metadata": {},
     "output_type": "execute_result"
    }
   ],
   "source": [
    "@njit\n",
    "def generate_mask_1d_nb(\n",
    "    high, low,\n",
    "    uband, mband, lband,\n",
    "    cond2_th, cond4_th\n",
    "):\n",
    "    out = np.full(high.shape, False)\n",
    "    \n",
    "    for i in range(high.shape[0]):\n",
    "\n",
    "      \n",
    "        bandwidth = (uband[i] - lband[i]) / mband[i]\n",
    "        cond1 = low[i] < lband[i]\n",
    "        cond2 = bandwidth > cond2_th\n",
    "        cond3 = high[i] > uband[i]\n",
    "        cond4 = bandwidth < cond4_th\n",
    "        signal = (cond1 and cond2) or (cond3 and cond4)\n",
    "        \n",
    "        out[i] = signal\n",
    "        \n",
    "    return out\n",
    "\n",
    "mask = generate_mask_1d_nb(\n",
    "    data.get(\"High\")[\"BTCUSDT\"].values,\n",
    "    data.get(\"Low\")[\"BTCUSDT\"].values,\n",
    "    bb.upperband[\"BTCUSDT\"].values,\n",
    "    bb.middleband[\"BTCUSDT\"].values,\n",
    "    bb.lowerband[\"BTCUSDT\"].values,\n",
    "    0.30,\n",
    "    0.15\n",
    ")\n",
    "symbol_wrapper = data.get_symbol_wrapper()\n",
    "mask = symbol_wrapper[\"BTCUSDT\"].wrap(mask)\n",
    "mask.sum()"
   ]
  },
  {
   "cell_type": "code",
   "execution_count": 66,
   "id": "ff27246a-d96c-428a-a391-56decc8a457c",
   "metadata": {},
   "outputs": [
    {
     "data": {
      "text/plain": [
       "symbol\n",
       "BTCUSDT    25\n",
       "ETHUSDT    13\n",
       "dtype: int64"
      ]
     },
     "execution_count": 66,
     "metadata": {},
     "output_type": "execute_result"
    }
   ],
   "source": [
    "@njit\n",
    "def generate_mask_nb(\n",
    "    high, low,\n",
    "    uband, mband, lband,\n",
    "    cond2_th, cond4_th\n",
    "):\n",
    "    out = np.empty(high.shape, dtype=np.bool_)\n",
    "    \n",
    "    for col in range(high.shape[1]):\n",
    "        out[:, col] = generate_mask_1d_nb(\n",
    "            high[:, col], low[:, col],\n",
    "            uband[:, col], mband[:, col], lband[:, col],\n",
    "            cond2_th, cond4_th\n",
    "        )\n",
    "        \n",
    "    return out\n",
    "\n",
    "mask = generate_mask_nb(\n",
    "    vbt.to_2d_array(data.get(\"High\")),\n",
    "    vbt.to_2d_array(data.get(\"Low\")),\n",
    "    vbt.to_2d_array(bb.upperband),\n",
    "    vbt.to_2d_array(bb.middleband),\n",
    "    vbt.to_2d_array(bb.lowerband),\n",
    "    0.30,\n",
    "    0.15\n",
    ")\n",
    "mask = symbol_wrapper.wrap(mask)\n",
    "mask.sum()"
   ]
  },
  {
   "cell_type": "code",
   "execution_count": 67,
   "id": "7e38705d-863f-40c7-bfad-127b7551999d",
   "metadata": {},
   "outputs": [
    {
     "data": {
      "text/plain": [
       "custom_cond2_th  custom_cond4_th  symbol \n",
       "0.3              0.1              BTCUSDT    11\n",
       "                                  ETHUSDT    10\n",
       "                 0.2              BTCUSDT    28\n",
       "                                  ETHUSDT    27\n",
       "0.4              0.1              BTCUSDT     9\n",
       "                                  ETHUSDT     5\n",
       "                 0.2              BTCUSDT    26\n",
       "                                  ETHUSDT    22\n",
       "dtype: int64"
      ]
     },
     "execution_count": 67,
     "metadata": {},
     "output_type": "execute_result"
    }
   ],
   "source": [
    "MaskGenerator = vbt.IF(\n",
    "    input_names=[\"high\", \"low\", \"uband\", \"mband\", \"lband\"],\n",
    "    param_names=[\"cond2_th\", \"cond4_th\"],\n",
    "    output_names=[\"mask\"]\n",
    ").with_apply_func(generate_mask_1d_nb, takes_1d=True)\n",
    "mask_generator = MaskGenerator.run(\n",
    "    data.get(\"High\"),\n",
    "    data.get(\"Low\"),\n",
    "    bb.upperband,\n",
    "    bb.middleband,\n",
    "    bb.lowerband,\n",
    "    [0.3, 0.4],\n",
    "    [0.1, 0.2],\n",
    "    param_product=True\n",
    ")\n",
    "mask_generator.mask.sum()"
   ]
  },
  {
   "cell_type": "code",
   "execution_count": 68,
   "id": "d2989ca1-0925-4d8f-bfb1-82606aed0d80",
   "metadata": {},
   "outputs": [
    {
     "data": {
      "text/plain": [
       "array([nan,  1.,  2.])"
      ]
     },
     "execution_count": 68,
     "metadata": {},
     "output_type": "execute_result"
    }
   ],
   "source": [
    "@njit\n",
    "def value_ago_1d_nb(arr, ago):\n",
    "    out = np.empty(arr.shape, dtype=np.float_)\n",
    "    for i in range(out.shape[0]):\n",
    "        if i - ago >= 0:\n",
    "            out[i] = arr[i - ago]\n",
    "        else:\n",
    "            out[i] = np.nan\n",
    "    return out\n",
    "\n",
    "arr = np.array([1, 2, 3])\n",
    "value_ago_1d_nb(arr, 1)"
   ]
  },
  {
   "cell_type": "code",
   "execution_count": 69,
   "id": "24455bb7-98c0-45c1-9333-78c9424838ef",
   "metadata": {},
   "outputs": [
    {
     "data": {
      "text/plain": [
       "array([False,  True,  True,  True, False])"
      ]
     },
     "execution_count": 69,
     "metadata": {},
     "output_type": "execute_result"
    }
   ],
   "source": [
    "@njit\n",
    "def any_in_window_1d_nb(arr, window):\n",
    "    out = np.empty(arr.shape, dtype=np.bool_)\n",
    "    for i in range(out.shape[0]):\n",
    "        from_i = max(0, i + 1 - window)\n",
    "        to_i = i + 1\n",
    "        out[i] = np.any(arr[from_i:to_i])\n",
    "    return out\n",
    "\n",
    "arr = np.array([False, True, True, False, False])\n",
    "any_in_window_1d_nb(arr, 2)"
   ]
  },
  {
   "cell_type": "code",
   "execution_count": 70,
   "id": "a4cf9d70-b97c-4c47-b65a-8a4c13f4ab9f",
   "metadata": {},
   "outputs": [
    {
     "data": {
      "text/plain": [
       "array([False,  True,  True,  True, False])"
      ]
     },
     "execution_count": 70,
     "metadata": {},
     "output_type": "execute_result"
    }
   ],
   "source": [
    "@njit\n",
    "def any_in_var_window_1d_nb(arr, index, freq):\n",
    "    out = np.empty(arr.shape, dtype=np.bool_)\n",
    "    from_i = 0\n",
    "    for i in range(out.shape[0]):\n",
    "        if index[from_i] <= index[i] - freq:\n",
    "            for j in range(from_i + 1, index.shape[0]):\n",
    "                if index[j] > index[i] - freq:\n",
    "                    from_i = j\n",
    "                    break\n",
    "        to_i = i + 1\n",
    "        out[i] = np.any(arr[from_i:to_i])\n",
    "    return out\n",
    "\n",
    "arr = np.array([False, True, True, False, False])\n",
    "index = pd.date_range(\"2020\", freq=\"5min\", periods=len(arr)).values\n",
    "freq = pd.Timedelta(\"10min\").to_timedelta64()\n",
    "any_in_var_window_1d_nb(arr, index, freq)"
   ]
  },
  {
   "cell_type": "code",
   "execution_count": 71,
   "id": "3fd6c643-a018-4f56-a52d-2352a5ecb430",
   "metadata": {},
   "outputs": [
    {
     "data": {
      "text/plain": [
       "array([False,  True,  True,  True, False])"
      ]
     },
     "execution_count": 71,
     "metadata": {},
     "output_type": "execute_result"
    }
   ],
   "source": [
    "any_in_var_window_1d_nb(arr, index.astype(np.int64), freq.astype(np.int64))"
   ]
  },
  {
   "cell_type": "code",
   "execution_count": 72,
   "id": "2a375903-eea0-4bd1-b46f-d71c0dbc719c",
   "metadata": {},
   "outputs": [
    {
     "data": {
      "text/plain": [
       "array([1577836800000000000, 1577837100000000000, 1577837400000000000,\n",
       "       1577837700000000000, 1577838000000000000])"
      ]
     },
     "execution_count": 72,
     "metadata": {},
     "output_type": "execute_result"
    }
   ],
   "source": [
    "index.astype(np.int64)"
   ]
  },
  {
   "cell_type": "code",
   "execution_count": 73,
   "id": "e32610d0-01e8-4d4d-a3e6-b83218a8e877",
   "metadata": {},
   "outputs": [
    {
     "data": {
      "text/plain": [
       "array([1577836800000000000, 1577837100000000000, 1577837400000000000,\n",
       "       1577837700000000000, 1577838000000000000])"
      ]
     },
     "execution_count": 73,
     "metadata": {},
     "output_type": "execute_result"
    }
   ],
   "source": [
    "(index - np.datetime64(0, \"ns\")).astype(np.int64)"
   ]
  },
  {
   "cell_type": "code",
   "execution_count": 74,
   "id": "b775b6a0-2e64-4027-b84a-9aed88e0ae66",
   "metadata": {},
   "outputs": [
    {
     "data": {
      "text/plain": [
       "600000000000"
      ]
     },
     "execution_count": 74,
     "metadata": {},
     "output_type": "execute_result"
    }
   ],
   "source": [
    "freq.astype(np.int64)"
   ]
  },
  {
   "cell_type": "code",
   "execution_count": 75,
   "id": "20a5f083-2f52-436e-9d23-3a0ef67d929d",
   "metadata": {},
   "outputs": [
    {
     "data": {
      "text/plain": [
       "10.0"
      ]
     },
     "execution_count": 75,
     "metadata": {},
     "output_type": "execute_result"
    }
   ],
   "source": [
    "freq.astype(np.int64) / 1000 / 1000 / 1000 / 60"
   ]
  },
  {
   "cell_type": "markdown",
   "id": "d1dc72ab-3858-49a0-93c2-a7d37c8073c7",
   "metadata": {},
   "source": [
    "### Generators"
   ]
  },
  {
   "cell_type": "code",
   "execution_count": 76,
   "id": "b6bb839a-61f5-44be-8643-495078dbd208",
   "metadata": {},
   "outputs": [
    {
     "data": {
      "text/plain": [
       "symbol\n",
       "BTCUSDT    0\n",
       "ETHUSDT    0\n",
       "dtype: int64"
      ]
     },
     "execution_count": 76,
     "metadata": {},
     "output_type": "execute_result"
    }
   ],
   "source": [
    "from vectorbtpro.utils import datetime_nb as dt_nb\n",
    "\n",
    "@njit\n",
    "def place_func_nb(c, index):\n",
    "    for out_i in range(len(c.out)):\n",
    "        i = c.from_i + out_i\n",
    "        weekday = dt_nb.weekday_nb(index[i])\n",
    "        hour = dt_nb.hour_nb(index[i])\n",
    "        if weekday == 2 and hour == 17:\n",
    "            c.out[out_i] = True\n",
    "            return out_i\n",
    "    return -1\n",
    "\n",
    "mask = vbt.pd_acc.signals.generate(\n",
    "    symbol_wrapper.shape,\n",
    "    place_func_nb,\n",
    "    symbol_wrapper.index.values.astype(np.int64),\n",
    "    wrapper=symbol_wrapper\n",
    ")\n",
    "mask.sum()"
   ]
  },
  {
   "cell_type": "code",
   "execution_count": 77,
   "id": "b3124c4b-c02c-4e0e-9362-5c5b8114dd1b",
   "metadata": {},
   "outputs": [
    {
     "data": {
      "text/plain": [
       "symbol\n",
       "BTCUSDT    52\n",
       "ETHUSDT    52\n",
       "dtype: int64"
      ]
     },
     "execution_count": 77,
     "metadata": {},
     "output_type": "execute_result"
    }
   ],
   "source": [
    "@njit\n",
    "def place_func_nb(c, index):\n",
    "    last_i = -1\n",
    "    for out_i in range(len(c.out)):\n",
    "        i = c.from_i + out_i\n",
    "        weekday = dt_nb.weekday_nb(index[i])\n",
    "        hour = dt_nb.hour_nb(index[i])\n",
    "        if weekday == 2 and hour == 17:\n",
    "            c.out[out_i] = True\n",
    "            last_i = out_i\n",
    "        else:\n",
    "            past_target_midnight = dt_nb.past_weekday_nb(index[i], 2)\n",
    "            past_target = past_target_midnight + 17 * dt_nb.h_ns\n",
    "            if (i > 0 and index[i - 1] < past_target) and \\\n",
    "                index[i] > past_target:\n",
    "                c.out[out_i] = True\n",
    "                last_i = out_i\n",
    "    return last_i\n",
    "\n",
    "mask = vbt.pd_acc.signals.generate(\n",
    "    symbol_wrapper.shape,\n",
    "    place_func_nb,\n",
    "    symbol_wrapper.index.values.astype(np.int64),\n",
    "    wrapper=symbol_wrapper\n",
    ")\n",
    "mask.sum()"
   ]
  },
  {
   "cell_type": "code",
   "execution_count": 78,
   "id": "dce0bdc1-7956-4760-9b29-05cb8a7d13b6",
   "metadata": {},
   "outputs": [
    {
     "data": {
      "text/plain": [
       "Index(['Wednesday 01/06/2021', 'Wednesday 01/13/2021', 'Wednesday 01/20/2021',\n",
       "       'Wednesday 01/27/2021', 'Wednesday 02/03/2021', 'Wednesday 02/10/2021',\n",
       "       'Wednesday 02/17/2021', 'Wednesday 02/24/2021', 'Wednesday 03/03/2021',\n",
       "       'Wednesday 03/10/2021', 'Wednesday 03/17/2021', 'Wednesday 03/24/2021',\n",
       "       'Wednesday 03/31/2021', 'Wednesday 04/07/2021', 'Wednesday 04/14/2021',\n",
       "       'Wednesday 04/21/2021', 'Wednesday 04/28/2021', 'Wednesday 05/05/2021',\n",
       "       'Wednesday 05/12/2021', 'Wednesday 05/19/2021', 'Wednesday 05/26/2021',\n",
       "       'Wednesday 06/02/2021', 'Wednesday 06/09/2021', 'Wednesday 06/16/2021',\n",
       "       'Wednesday 06/23/2021', 'Wednesday 06/30/2021', 'Wednesday 07/07/2021',\n",
       "       'Wednesday 07/14/2021', 'Wednesday 07/21/2021', 'Wednesday 07/28/2021',\n",
       "       'Wednesday 08/04/2021', 'Wednesday 08/11/2021', 'Wednesday 08/18/2021',\n",
       "       'Wednesday 08/25/2021', 'Wednesday 09/01/2021', 'Wednesday 09/08/2021',\n",
       "       'Wednesday 09/15/2021', 'Wednesday 09/22/2021', 'Wednesday 09/29/2021',\n",
       "       'Wednesday 10/06/2021', 'Wednesday 10/13/2021', 'Wednesday 10/20/2021',\n",
       "       'Wednesday 10/27/2021', 'Wednesday 11/03/2021', 'Wednesday 11/10/2021',\n",
       "       'Wednesday 11/17/2021', 'Wednesday 11/24/2021', 'Wednesday 12/01/2021',\n",
       "       'Wednesday 12/08/2021', 'Wednesday 12/15/2021', 'Wednesday 12/22/2021',\n",
       "       'Wednesday 12/29/2021'],\n",
       "      dtype='object', name='Open time')"
      ]
     },
     "execution_count": 78,
     "metadata": {},
     "output_type": "execute_result"
    }
   ],
   "source": [
    "mask.index[mask.any(axis=1)].strftime('%A %m/%d/%Y')"
   ]
  },
  {
   "cell_type": "code",
   "execution_count": 79,
   "id": "c1a5a0e2-23cd-48d3-ab36-2f94d8a03adc",
   "metadata": {},
   "outputs": [
    {
     "data": {
      "text/plain": [
       "custom_weekday  custom_hour  symbol \n",
       "2               0            BTCUSDT    52\n",
       "                             ETHUSDT    52\n",
       "                17           BTCUSDT     0\n",
       "                             ETHUSDT     0\n",
       "dtype: int64"
      ]
     },
     "execution_count": 79,
     "metadata": {},
     "output_type": "execute_result"
    }
   ],
   "source": [
    "@njit\n",
    "def place_func_nb(c, weekday, hour, index):\n",
    "    last_i = -1\n",
    "    for out_i in range(len(c.out)):\n",
    "        i = c.from_i + out_i\n",
    "        weekday_now = dt_nb.weekday_nb(index[i])\n",
    "        hour_now = dt_nb.hour_nb(index[i])\n",
    "        if weekday_now == weekday and hour_now == hour:\n",
    "            c.out[out_i] = True\n",
    "            last_i = out_i\n",
    "    return last_i\n",
    "\n",
    "EntryGenerator = vbt.SignalFactory(\n",
    "    mode=\"entries\",\n",
    "    param_names=[\"weekday\", \"hour\"]\n",
    ").with_place_func(\n",
    "    entry_place_func=place_func_nb,\n",
    "    entry_settings=dict(\n",
    "        pass_params=[\"weekday\", \"hour\"],\n",
    "    ),\n",
    "    var_args=True\n",
    ")\n",
    "entry_generator = EntryGenerator.run(\n",
    "    symbol_wrapper.shape,\n",
    "    2, \n",
    "    [0, 17],\n",
    "    symbol_wrapper.index.values.astype(np.int64),\n",
    "    input_index=symbol_wrapper.index,\n",
    "    input_columns=symbol_wrapper.columns\n",
    ")\n",
    "entry_generator.entries.sum()"
   ]
  },
  {
   "cell_type": "code",
   "execution_count": 80,
   "id": "f29a5bde-9025-4946-932d-94d23e4b5ac0",
   "metadata": {},
   "outputs": [
    {
     "data": {
      "image/svg+xml": [
       "<svg class=\"main-svg\" xmlns=\"http://www.w3.org/2000/svg\" xmlns:xlink=\"http://www.w3.org/1999/xlink\" width=\"700\" height=\"350\" style=\"\" viewBox=\"0 0 700 350\"><rect x=\"0\" y=\"0\" width=\"700\" height=\"350\" style=\"fill: rgb(33, 34, 44); fill-opacity: 1;\"/><defs id=\"defs-e7764a\"><g class=\"clips\"><clipPath id=\"clipe7764axyplot\" class=\"plotclip\"><rect width=\"637\" height=\"274\"/></clipPath><clipPath class=\"axesclip\" id=\"clipe7764ax\"><rect x=\"33\" y=\"0\" width=\"637\" height=\"350\"/></clipPath><clipPath class=\"axesclip\" id=\"clipe7764ay\"><rect x=\"0\" y=\"46\" width=\"700\" height=\"274\"/></clipPath><clipPath class=\"axesclip\" id=\"clipe7764axy\"><rect x=\"33\" y=\"46\" width=\"637\" height=\"274\"/></clipPath></g><g class=\"gradients\"/><g class=\"patterns\"/></defs><g class=\"bglayer\"/><g class=\"layer-below\"><g class=\"imagelayer\"/><g class=\"shapelayer\"/></g><g class=\"cartesianlayer\"><g class=\"subplot xy\"><g class=\"layer-subplot\"><g class=\"shapelayer\"/><g class=\"imagelayer\"/></g><g class=\"gridlayer\"><g class=\"x\"><path class=\"xgrid crisp\" transform=\"translate(63.54,0)\" d=\"M0,46v274\" style=\"stroke: rgb(47, 62, 78); stroke-opacity: 1; stroke-width: 1px;\"/><path class=\"xgrid crisp\" transform=\"translate(156.63,0)\" d=\"M0,46v274\" style=\"stroke: rgb(47, 62, 78); stroke-opacity: 1; stroke-width: 1px;\"/><path class=\"xgrid crisp\" transform=\"translate(252.88,0)\" d=\"M0,46v274\" style=\"stroke: rgb(47, 62, 78); stroke-opacity: 1; stroke-width: 1px;\"/><path class=\"xgrid crisp\" transform=\"translate(349.13,0)\" d=\"M0,46v274\" style=\"stroke: rgb(47, 62, 78); stroke-opacity: 1; stroke-width: 1px;\"/><path class=\"xgrid crisp\" transform=\"translate(446.96,0)\" d=\"M0,46v274\" style=\"stroke: rgb(47, 62, 78); stroke-opacity: 1; stroke-width: 1px;\"/><path class=\"xgrid crisp\" transform=\"translate(543.21,0)\" d=\"M0,46v274\" style=\"stroke: rgb(47, 62, 78); stroke-opacity: 1; stroke-width: 1px;\"/><path class=\"xgrid crisp\" transform=\"translate(639.46,0)\" d=\"M0,46v274\" style=\"stroke: rgb(47, 62, 78); stroke-opacity: 1; stroke-width: 1px;\"/></g><g class=\"y\"><path class=\"ygrid crisp\" transform=\"translate(0,251.5)\" d=\"M33,0h637\" style=\"stroke: rgb(47, 62, 78); stroke-opacity: 1; stroke-width: 1px;\"/><path class=\"ygrid crisp\" transform=\"translate(0,183)\" d=\"M33,0h637\" style=\"stroke: rgb(47, 62, 78); stroke-opacity: 1; stroke-width: 1px;\"/><path class=\"ygrid crisp\" transform=\"translate(0,114.5)\" d=\"M33,0h637\" style=\"stroke: rgb(47, 62, 78); stroke-opacity: 1; stroke-width: 1px;\"/></g></g><g class=\"zerolinelayer\"><path class=\"yzl zl crisp\" transform=\"translate(0,320)\" d=\"M33,0h637\" style=\"stroke: rgb(47, 62, 78); stroke-opacity: 1; stroke-width: 2px;\"/></g><path class=\"xlines-below\"/><path class=\"ylines-below\"/><g class=\"overlines-below\"/><g class=\"xaxislayer-below\"/><g class=\"yaxislayer-below\"/><g class=\"overaxes-below\"/><g class=\"plot\" transform=\"translate(33,46)\" clip-path=\"url(#clipe7764axyplot)\"><g class=\"scatterlayer mlayer\"><g class=\"trace scatter tracef84ad7af-b0ce-4221-b028-30b9947fb563\" style=\"stroke-miterlimit: 2; opacity: 1;\"><g class=\"fills\"/><g class=\"errorbars\"/><g class=\"lines\"/><g class=\"points\"><path class=\"point\" transform=\"translate(36.85,137)\" d=\"M-4.62,2H4.62L0,-4Z\" style=\"opacity: 1; stroke-width: 1px; fill: rgb(55, 177, 63); fill-opacity: 1; stroke: rgb(38, 123, 44); stroke-opacity: 1;\"/><path class=\"point\" transform=\"translate(47.9,137)\" d=\"M-4.62,2H4.62L0,-4Z\" style=\"opacity: 1; stroke-width: 1px; fill: rgb(55, 177, 63); fill-opacity: 1; stroke: rgb(38, 123, 44); stroke-opacity: 1;\"/><path class=\"point\" transform=\"translate(58.94,137)\" d=\"M-4.62,2H4.62L0,-4Z\" style=\"opacity: 1; stroke-width: 1px; fill: rgb(55, 177, 63); fill-opacity: 1; stroke: rgb(38, 123, 44); stroke-opacity: 1;\"/><path class=\"point\" transform=\"translate(69.99,137)\" d=\"M-4.62,2H4.62L0,-4Z\" style=\"opacity: 1; stroke-width: 1px; fill: rgb(55, 177, 63); fill-opacity: 1; stroke: rgb(38, 123, 44); stroke-opacity: 1;\"/><path class=\"point\" transform=\"translate(81.03,137)\" d=\"M-4.62,2H4.62L0,-4Z\" style=\"opacity: 1; stroke-width: 1px; fill: rgb(55, 177, 63); fill-opacity: 1; stroke: rgb(38, 123, 44); stroke-opacity: 1;\"/><path class=\"point\" transform=\"translate(92.08,137)\" d=\"M-4.62,2H4.62L0,-4Z\" style=\"opacity: 1; stroke-width: 1px; fill: rgb(55, 177, 63); fill-opacity: 1; stroke: rgb(38, 123, 44); stroke-opacity: 1;\"/><path class=\"point\" transform=\"translate(103.12,137)\" d=\"M-4.62,2H4.62L0,-4Z\" style=\"opacity: 1; stroke-width: 1px; fill: rgb(55, 177, 63); fill-opacity: 1; stroke: rgb(38, 123, 44); stroke-opacity: 1;\"/><path class=\"point\" transform=\"translate(114.17,137)\" d=\"M-4.62,2H4.62L0,-4Z\" style=\"opacity: 1; stroke-width: 1px; fill: rgb(55, 177, 63); fill-opacity: 1; stroke: rgb(38, 123, 44); stroke-opacity: 1;\"/><path class=\"point\" transform=\"translate(125.21,137)\" d=\"M-4.62,2H4.62L0,-4Z\" style=\"opacity: 1; stroke-width: 1px; fill: rgb(55, 177, 63); fill-opacity: 1; stroke: rgb(38, 123, 44); stroke-opacity: 1;\"/><path class=\"point\" transform=\"translate(136.26,137)\" d=\"M-4.62,2H4.62L0,-4Z\" style=\"opacity: 1; stroke-width: 1px; fill: rgb(55, 177, 63); fill-opacity: 1; stroke: rgb(38, 123, 44); stroke-opacity: 1;\"/><path class=\"point\" transform=\"translate(147.3,137)\" d=\"M-4.62,2H4.62L0,-4Z\" style=\"opacity: 1; stroke-width: 1px; fill: rgb(55, 177, 63); fill-opacity: 1; stroke: rgb(38, 123, 44); stroke-opacity: 1;\"/><path class=\"point\" transform=\"translate(158.35,137)\" d=\"M-4.62,2H4.62L0,-4Z\" style=\"opacity: 1; stroke-width: 1px; fill: rgb(55, 177, 63); fill-opacity: 1; stroke: rgb(38, 123, 44); stroke-opacity: 1;\"/><path class=\"point\" transform=\"translate(169.39,137)\" d=\"M-4.62,2H4.62L0,-4Z\" style=\"opacity: 1; stroke-width: 1px; fill: rgb(55, 177, 63); fill-opacity: 1; stroke: rgb(38, 123, 44); stroke-opacity: 1;\"/><path class=\"point\" transform=\"translate(180.44,137)\" d=\"M-4.62,2H4.62L0,-4Z\" style=\"opacity: 1; stroke-width: 1px; fill: rgb(55, 177, 63); fill-opacity: 1; stroke: rgb(38, 123, 44); stroke-opacity: 1;\"/><path class=\"point\" transform=\"translate(191.48,137)\" d=\"M-4.62,2H4.62L0,-4Z\" style=\"opacity: 1; stroke-width: 1px; fill: rgb(55, 177, 63); fill-opacity: 1; stroke: rgb(38, 123, 44); stroke-opacity: 1;\"/><path class=\"point\" transform=\"translate(202.53,137)\" d=\"M-4.62,2H4.62L0,-4Z\" style=\"opacity: 1; stroke-width: 1px; fill: rgb(55, 177, 63); fill-opacity: 1; stroke: rgb(38, 123, 44); stroke-opacity: 1;\"/><path class=\"point\" transform=\"translate(213.57,137)\" d=\"M-4.62,2H4.62L0,-4Z\" style=\"opacity: 1; stroke-width: 1px; fill: rgb(55, 177, 63); fill-opacity: 1; stroke: rgb(38, 123, 44); stroke-opacity: 1;\"/><path class=\"point\" transform=\"translate(224.62,137)\" d=\"M-4.62,2H4.62L0,-4Z\" style=\"opacity: 1; stroke-width: 1px; fill: rgb(55, 177, 63); fill-opacity: 1; stroke: rgb(38, 123, 44); stroke-opacity: 1;\"/><path class=\"point\" transform=\"translate(235.66,137)\" d=\"M-4.62,2H4.62L0,-4Z\" style=\"opacity: 1; stroke-width: 1px; fill: rgb(55, 177, 63); fill-opacity: 1; stroke: rgb(38, 123, 44); stroke-opacity: 1;\"/><path class=\"point\" transform=\"translate(246.71,137)\" d=\"M-4.62,2H4.62L0,-4Z\" style=\"opacity: 1; stroke-width: 1px; fill: rgb(55, 177, 63); fill-opacity: 1; stroke: rgb(38, 123, 44); stroke-opacity: 1;\"/><path class=\"point\" transform=\"translate(257.75,137)\" d=\"M-4.62,2H4.62L0,-4Z\" style=\"opacity: 1; stroke-width: 1px; fill: rgb(55, 177, 63); fill-opacity: 1; stroke: rgb(38, 123, 44); stroke-opacity: 1;\"/><path class=\"point\" transform=\"translate(268.8,137)\" d=\"M-4.62,2H4.62L0,-4Z\" style=\"opacity: 1; stroke-width: 1px; fill: rgb(55, 177, 63); fill-opacity: 1; stroke: rgb(38, 123, 44); stroke-opacity: 1;\"/><path class=\"point\" transform=\"translate(279.84,137)\" d=\"M-4.62,2H4.62L0,-4Z\" style=\"opacity: 1; stroke-width: 1px; fill: rgb(55, 177, 63); fill-opacity: 1; stroke: rgb(38, 123, 44); stroke-opacity: 1;\"/><path class=\"point\" transform=\"translate(290.89,137)\" d=\"M-4.62,2H4.62L0,-4Z\" style=\"opacity: 1; stroke-width: 1px; fill: rgb(55, 177, 63); fill-opacity: 1; stroke: rgb(38, 123, 44); stroke-opacity: 1;\"/><path class=\"point\" transform=\"translate(301.93,137)\" d=\"M-4.62,2H4.62L0,-4Z\" style=\"opacity: 1; stroke-width: 1px; fill: rgb(55, 177, 63); fill-opacity: 1; stroke: rgb(38, 123, 44); stroke-opacity: 1;\"/><path class=\"point\" transform=\"translate(312.98,137)\" d=\"M-4.62,2H4.62L0,-4Z\" style=\"opacity: 1; stroke-width: 1px; fill: rgb(55, 177, 63); fill-opacity: 1; stroke: rgb(38, 123, 44); stroke-opacity: 1;\"/><path class=\"point\" transform=\"translate(324.02,137)\" d=\"M-4.62,2H4.62L0,-4Z\" style=\"opacity: 1; stroke-width: 1px; fill: rgb(55, 177, 63); fill-opacity: 1; stroke: rgb(38, 123, 44); stroke-opacity: 1;\"/><path class=\"point\" transform=\"translate(335.07,137)\" d=\"M-4.62,2H4.62L0,-4Z\" style=\"opacity: 1; stroke-width: 1px; fill: rgb(55, 177, 63); fill-opacity: 1; stroke: rgb(38, 123, 44); stroke-opacity: 1;\"/><path class=\"point\" transform=\"translate(346.11,137)\" d=\"M-4.62,2H4.62L0,-4Z\" style=\"opacity: 1; stroke-width: 1px; fill: rgb(55, 177, 63); fill-opacity: 1; stroke: rgb(38, 123, 44); stroke-opacity: 1;\"/><path class=\"point\" transform=\"translate(357.16,137)\" d=\"M-4.62,2H4.62L0,-4Z\" style=\"opacity: 1; stroke-width: 1px; fill: rgb(55, 177, 63); fill-opacity: 1; stroke: rgb(38, 123, 44); stroke-opacity: 1;\"/><path class=\"point\" transform=\"translate(368.2,137)\" d=\"M-4.62,2H4.62L0,-4Z\" style=\"opacity: 1; stroke-width: 1px; fill: rgb(55, 177, 63); fill-opacity: 1; stroke: rgb(38, 123, 44); stroke-opacity: 1;\"/><path class=\"point\" transform=\"translate(379.25,137)\" d=\"M-4.62,2H4.62L0,-4Z\" style=\"opacity: 1; stroke-width: 1px; fill: rgb(55, 177, 63); fill-opacity: 1; stroke: rgb(38, 123, 44); stroke-opacity: 1;\"/><path class=\"point\" transform=\"translate(390.29,137)\" d=\"M-4.62,2H4.62L0,-4Z\" style=\"opacity: 1; stroke-width: 1px; fill: rgb(55, 177, 63); fill-opacity: 1; stroke: rgb(38, 123, 44); stroke-opacity: 1;\"/><path class=\"point\" transform=\"translate(401.34,137)\" d=\"M-4.62,2H4.62L0,-4Z\" style=\"opacity: 1; stroke-width: 1px; fill: rgb(55, 177, 63); fill-opacity: 1; stroke: rgb(38, 123, 44); stroke-opacity: 1;\"/><path class=\"point\" transform=\"translate(412.38,137)\" d=\"M-4.62,2H4.62L0,-4Z\" style=\"opacity: 1; stroke-width: 1px; fill: rgb(55, 177, 63); fill-opacity: 1; stroke: rgb(38, 123, 44); stroke-opacity: 1;\"/><path class=\"point\" transform=\"translate(423.43,137)\" d=\"M-4.62,2H4.62L0,-4Z\" style=\"opacity: 1; stroke-width: 1px; fill: rgb(55, 177, 63); fill-opacity: 1; stroke: rgb(38, 123, 44); stroke-opacity: 1;\"/><path class=\"point\" transform=\"translate(434.47,137)\" d=\"M-4.62,2H4.62L0,-4Z\" style=\"opacity: 1; stroke-width: 1px; fill: rgb(55, 177, 63); fill-opacity: 1; stroke: rgb(38, 123, 44); stroke-opacity: 1;\"/><path class=\"point\" transform=\"translate(445.52,137)\" d=\"M-4.62,2H4.62L0,-4Z\" style=\"opacity: 1; stroke-width: 1px; fill: rgb(55, 177, 63); fill-opacity: 1; stroke: rgb(38, 123, 44); stroke-opacity: 1;\"/><path class=\"point\" transform=\"translate(456.56,137)\" d=\"M-4.62,2H4.62L0,-4Z\" style=\"opacity: 1; stroke-width: 1px; fill: rgb(55, 177, 63); fill-opacity: 1; stroke: rgb(38, 123, 44); stroke-opacity: 1;\"/><path class=\"point\" transform=\"translate(467.61,137)\" d=\"M-4.62,2H4.62L0,-4Z\" style=\"opacity: 1; stroke-width: 1px; fill: rgb(55, 177, 63); fill-opacity: 1; stroke: rgb(38, 123, 44); stroke-opacity: 1;\"/><path class=\"point\" transform=\"translate(478.65,137)\" d=\"M-4.62,2H4.62L0,-4Z\" style=\"opacity: 1; stroke-width: 1px; fill: rgb(55, 177, 63); fill-opacity: 1; stroke: rgb(38, 123, 44); stroke-opacity: 1;\"/><path class=\"point\" transform=\"translate(489.7,137)\" d=\"M-4.62,2H4.62L0,-4Z\" style=\"opacity: 1; stroke-width: 1px; fill: rgb(55, 177, 63); fill-opacity: 1; stroke: rgb(38, 123, 44); stroke-opacity: 1;\"/><path class=\"point\" transform=\"translate(500.74,137)\" d=\"M-4.62,2H4.62L0,-4Z\" style=\"opacity: 1; stroke-width: 1px; fill: rgb(55, 177, 63); fill-opacity: 1; stroke: rgb(38, 123, 44); stroke-opacity: 1;\"/><path class=\"point\" transform=\"translate(511.79,137)\" d=\"M-4.62,2H4.62L0,-4Z\" style=\"opacity: 1; stroke-width: 1px; fill: rgb(55, 177, 63); fill-opacity: 1; stroke: rgb(38, 123, 44); stroke-opacity: 1;\"/><path class=\"point\" transform=\"translate(522.83,137)\" d=\"M-4.62,2H4.62L0,-4Z\" style=\"opacity: 1; stroke-width: 1px; fill: rgb(55, 177, 63); fill-opacity: 1; stroke: rgb(38, 123, 44); stroke-opacity: 1;\"/><path class=\"point\" transform=\"translate(533.88,137)\" d=\"M-4.62,2H4.62L0,-4Z\" style=\"opacity: 1; stroke-width: 1px; fill: rgb(55, 177, 63); fill-opacity: 1; stroke: rgb(38, 123, 44); stroke-opacity: 1;\"/><path class=\"point\" transform=\"translate(544.92,137)\" d=\"M-4.62,2H4.62L0,-4Z\" style=\"opacity: 1; stroke-width: 1px; fill: rgb(55, 177, 63); fill-opacity: 1; stroke: rgb(38, 123, 44); stroke-opacity: 1;\"/><path class=\"point\" transform=\"translate(555.97,137)\" d=\"M-4.62,2H4.62L0,-4Z\" style=\"opacity: 1; stroke-width: 1px; fill: rgb(55, 177, 63); fill-opacity: 1; stroke: rgb(38, 123, 44); stroke-opacity: 1;\"/><path class=\"point\" transform=\"translate(567.01,137)\" d=\"M-4.62,2H4.62L0,-4Z\" style=\"opacity: 1; stroke-width: 1px; fill: rgb(55, 177, 63); fill-opacity: 1; stroke: rgb(38, 123, 44); stroke-opacity: 1;\"/><path class=\"point\" transform=\"translate(578.06,137)\" d=\"M-4.62,2H4.62L0,-4Z\" style=\"opacity: 1; stroke-width: 1px; fill: rgb(55, 177, 63); fill-opacity: 1; stroke: rgb(38, 123, 44); stroke-opacity: 1;\"/><path class=\"point\" transform=\"translate(589.1,137)\" d=\"M-4.62,2H4.62L0,-4Z\" style=\"opacity: 1; stroke-width: 1px; fill: rgb(55, 177, 63); fill-opacity: 1; stroke: rgb(38, 123, 44); stroke-opacity: 1;\"/><path class=\"point\" transform=\"translate(600.15,137)\" d=\"M-4.62,2H4.62L0,-4Z\" style=\"opacity: 1; stroke-width: 1px; fill: rgb(55, 177, 63); fill-opacity: 1; stroke: rgb(38, 123, 44); stroke-opacity: 1;\"/></g><g class=\"text\"/></g></g></g><g class=\"overplot\"/><path class=\"xlines-above crisp\" d=\"M0,0\" style=\"fill: none;\"/><path class=\"ylines-above crisp\" d=\"M0,0\" style=\"fill: none;\"/><g class=\"overlines-above\"/><g class=\"xaxislayer-above\"><g class=\"xtick\"><text text-anchor=\"middle\" x=\"0\" y=\"333\" transform=\"translate(63.54,0)\" style=\"font-family: 'Open Sans', verdana, arial, sans-serif; font-size: 12px; fill: rgb(214, 223, 239); fill-opacity: 1; white-space: pre; opacity: 1;\">Jan 2021</text></g><g class=\"xtick\"><text text-anchor=\"middle\" x=\"0\" y=\"333\" style=\"font-family: 'Open Sans', verdana, arial, sans-serif; font-size: 12px; fill: rgb(214, 223, 239); fill-opacity: 1; white-space: pre; opacity: 1;\" transform=\"translate(156.63,0)\">Mar 2021</text></g><g class=\"xtick\"><text text-anchor=\"middle\" x=\"0\" y=\"333\" style=\"font-family: 'Open Sans', verdana, arial, sans-serif; font-size: 12px; fill: rgb(214, 223, 239); fill-opacity: 1; white-space: pre; opacity: 1;\" transform=\"translate(252.88,0)\">May 2021</text></g><g class=\"xtick\"><text text-anchor=\"middle\" x=\"0\" y=\"333\" style=\"font-family: 'Open Sans', verdana, arial, sans-serif; font-size: 12px; fill: rgb(214, 223, 239); fill-opacity: 1; white-space: pre; opacity: 1;\" transform=\"translate(349.13,0)\">Jul 2021</text></g><g class=\"xtick\"><text text-anchor=\"middle\" x=\"0\" y=\"333\" style=\"font-family: 'Open Sans', verdana, arial, sans-serif; font-size: 12px; fill: rgb(214, 223, 239); fill-opacity: 1; white-space: pre; opacity: 1;\" transform=\"translate(446.96,0)\">Sep 2021</text></g><g class=\"xtick\"><text text-anchor=\"middle\" x=\"0\" y=\"333\" style=\"font-family: 'Open Sans', verdana, arial, sans-serif; font-size: 12px; fill: rgb(214, 223, 239); fill-opacity: 1; white-space: pre; opacity: 1;\" transform=\"translate(543.21,0)\">Nov 2021</text></g><g class=\"xtick\"><text text-anchor=\"middle\" x=\"0\" y=\"333\" style=\"font-family: 'Open Sans', verdana, arial, sans-serif; font-size: 12px; fill: rgb(214, 223, 239); fill-opacity: 1; white-space: pre; opacity: 1;\" transform=\"translate(639.46,0)\">Jan 2022</text></g></g><g class=\"yaxislayer-above\"><g class=\"ytick\"><text text-anchor=\"end\" x=\"32\" y=\"4.199999999999999\" transform=\"translate(0,320)\" style=\"font-family: 'Open Sans', verdana, arial, sans-serif; font-size: 12px; fill: rgb(214, 223, 239); fill-opacity: 1; white-space: pre; opacity: 1;\">0</text></g><g class=\"ytick\"><text text-anchor=\"end\" x=\"32\" y=\"4.199999999999999\" style=\"font-family: 'Open Sans', verdana, arial, sans-serif; font-size: 12px; fill: rgb(214, 223, 239); fill-opacity: 1; white-space: pre; opacity: 1;\" transform=\"translate(0,251.5)\">0.5</text></g><g class=\"ytick\"><text text-anchor=\"end\" x=\"32\" y=\"4.199999999999999\" style=\"font-family: 'Open Sans', verdana, arial, sans-serif; font-size: 12px; fill: rgb(214, 223, 239); fill-opacity: 1; white-space: pre; opacity: 1;\" transform=\"translate(0,183)\">1</text></g><g class=\"ytick\"><text text-anchor=\"end\" x=\"32\" y=\"4.199999999999999\" style=\"font-family: 'Open Sans', verdana, arial, sans-serif; font-size: 12px; fill: rgb(214, 223, 239); fill-opacity: 1; white-space: pre; opacity: 1;\" transform=\"translate(0,114.5)\">1.5</text></g><g class=\"ytick\"><text text-anchor=\"end\" x=\"32\" y=\"4.199999999999999\" style=\"font-family: 'Open Sans', verdana, arial, sans-serif; font-size: 12px; fill: rgb(214, 223, 239); fill-opacity: 1; white-space: pre; opacity: 1;\" transform=\"translate(0,46)\">2</text></g></g><g class=\"overaxes-above\"/></g></g><g class=\"polarlayer\"/><g class=\"smithlayer\"/><g class=\"ternarylayer\"/><g class=\"geolayer\"/><g class=\"funnelarealayer\"/><g class=\"pielayer\"/><g class=\"iciclelayer\"/><g class=\"treemaplayer\"/><g class=\"sunburstlayer\"/><g class=\"glimages\"/><defs id=\"topdefs-e7764a\"><g class=\"clips\"/><clipPath id=\"legende7764a\"><rect width=\"87\" height=\"29\" x=\"0\" y=\"0\"/></clipPath></defs><g class=\"layer-above\"><g class=\"imagelayer\"/><g class=\"shapelayer\"/></g><g class=\"infolayer\"><g class=\"legend\" pointer-events=\"all\" transform=\"translate(583,11.519999999999996)\"><rect class=\"bg\" shape-rendering=\"crispEdges\" style=\"stroke: rgb(68, 68, 68); stroke-opacity: 1; fill: rgb(33, 34, 44); fill-opacity: 1; stroke-width: 0px;\" width=\"87\" height=\"29\" x=\"0\" y=\"0\"/><g class=\"scrollbox\" transform=\"\" clip-path=\"url(#legende7764a)\"><g class=\"groups\"><g class=\"traces\" transform=\"translate(0,14.5)\" style=\"opacity: 1;\"><text class=\"legendtext\" text-anchor=\"start\" x=\"40\" y=\"4.680000000000001\" style=\"font-family: 'Open Sans', verdana, arial, sans-serif; font-size: 12px; fill: rgb(214, 223, 239); fill-opacity: 1; white-space: pre;\">Entries</text><g class=\"layers\" style=\"opacity: 1;\"><g class=\"legendfill\"/><g class=\"legendlines\"/><g class=\"legendsymbols\"><g class=\"legendpoints\"><path class=\"scatterpts\" transform=\"translate(20,0)\" d=\"M-4.62,2H4.62L0,-4Z\" style=\"opacity: 1; stroke-width: 1px; fill: rgb(55, 177, 63); fill-opacity: 1; stroke: rgb(38, 123, 44); stroke-opacity: 1;\"/></g></g></g><rect class=\"legendtoggle\" x=\"0\" y=\"-9.5\" width=\"84.234375\" height=\"19\" style=\"fill: rgb(0, 0, 0); fill-opacity: 0;\"/></g></g></g><rect class=\"scrollbar\" rx=\"20\" ry=\"3\" width=\"0\" height=\"0\" style=\"fill: rgb(128, 139, 164); fill-opacity: 1;\" x=\"0\" y=\"0\"/></g><g class=\"g-gtitle\"/><g class=\"g-xtitle\"/><g class=\"g-ytitle\"/></g></svg>"
      ]
     },
     "metadata": {},
     "output_type": "display_data"
    }
   ],
   "source": [
    "entry_generator.plot(column=(2, 0, \"BTCUSDT\")).show_svg()"
   ]
  },
  {
   "cell_type": "markdown",
   "id": "21f7b441-5d5a-4ac9-93bb-e0289eefa5d6",
   "metadata": {},
   "source": [
    "#### Exits"
   ]
  },
  {
   "cell_type": "code",
   "execution_count": 81,
   "id": "1a58d3a9-e3fa-4839-908d-e6d8a0009e04",
   "metadata": {},
   "outputs": [
    {
     "data": {
      "text/plain": [
       "DatetimeIndex(['2021-03-31 00:00:00+00:00', '2021-06-30 00:00:00+00:00',\n",
       "               '2021-09-30 00:00:00+00:00', '2021-12-31 00:00:00+00:00'],\n",
       "              dtype='datetime64[ns, UTC]', name='Open time', freq=None)"
      ]
     },
     "execution_count": 81,
     "metadata": {},
     "output_type": "execute_result"
    }
   ],
   "source": [
    "@njit\n",
    "def exit_place_func_nb(c):\n",
    "    c.out[0] = True\n",
    "    return 0\n",
    "\n",
    "entries = symbol_wrapper.fill(False)\n",
    "entries.vbt.set(True, every=\"Q\", inplace=True)\n",
    "entries.index[entries.any(axis=1)]"
   ]
  },
  {
   "cell_type": "code",
   "execution_count": 82,
   "id": "03872da1-6712-4f1e-809d-92303661364e",
   "metadata": {},
   "outputs": [
    {
     "data": {
      "text/plain": [
       "DatetimeIndex(['2021-04-01 00:00:00+00:00', '2021-07-01 00:00:00+00:00',\n",
       "               '2021-10-01 00:00:00+00:00'],\n",
       "              dtype='datetime64[ns, UTC]', name='Open time', freq=None)"
      ]
     },
     "execution_count": 82,
     "metadata": {},
     "output_type": "execute_result"
    }
   ],
   "source": [
    "exits = entries.vbt.signals.generate_exits(exit_place_func_nb)\n",
    "exits.index[exits.any(axis=1)]"
   ]
  },
  {
   "cell_type": "code",
   "execution_count": 83,
   "id": "c80edcb4-602b-48e8-bf7b-98e805259758",
   "metadata": {},
   "outputs": [
    {
     "data": {
      "text/plain": [
       "DatetimeIndex(['2021-03-31 00:00:00+00:00', '2021-06-30 00:00:00+00:00',\n",
       "               '2021-09-30 00:00:00+00:00', '2021-12-31 00:00:00+00:00'],\n",
       "              dtype='datetime64[ns, UTC]', name='Open time', freq=None)"
      ]
     },
     "execution_count": 83,
     "metadata": {},
     "output_type": "execute_result"
    }
   ],
   "source": [
    "exits = entries.vbt.signals.generate_exits(\n",
    "    exit_place_func_nb,\n",
    "    wait=0\n",
    ")\n",
    "exits.index[exits.any(axis=1)]"
   ]
  },
  {
   "cell_type": "code",
   "execution_count": 84,
   "id": "02c6a9cc-13f0-4998-8992-61110ea2d66f",
   "metadata": {},
   "outputs": [
    {
     "data": {
      "text/plain": [
       "DatetimeIndex(['2021-04-07 00:00:00+00:00', '2021-07-07 00:00:00+00:00',\n",
       "               '2021-10-07 00:00:00+00:00'],\n",
       "              dtype='datetime64[ns, UTC]', name='Open time', freq=None)"
      ]
     },
     "execution_count": 84,
     "metadata": {},
     "output_type": "execute_result"
    }
   ],
   "source": [
    "@njit\n",
    "def exit_place_func_nb(c, index, wait_td):\n",
    "    last_i = -1\n",
    "    for out_i in range(len(c.out)):\n",
    "        i = c.from_i + out_i\n",
    "        if index[i] >= index[c.from_i] + wait_td:\n",
    "            c.out[out_i] = True\n",
    "            last_i = out_i\n",
    "            break\n",
    "    return last_i\n",
    "\n",
    "exits = entries.vbt.signals.generate_exits(\n",
    "    exit_place_func_nb,\n",
    "    entries.index.values.astype(np.int64),\n",
    "    pd.Timedelta(\"7d\").value,\n",
    "    wait=0\n",
    ")\n",
    "exits.index[exits.any(axis=1)]"
   ]
  },
  {
   "cell_type": "code",
   "execution_count": 85,
   "id": "da4bdca3-d5e6-47f4-bf53-9ac89228df0a",
   "metadata": {},
   "outputs": [
    {
     "data": {
      "text/plain": [
       "DatetimeIndex([], dtype='datetime64[ns, UTC]', name='Open time', freq='D')"
      ]
     },
     "execution_count": 85,
     "metadata": {},
     "output_type": "execute_result"
    }
   ],
   "source": [
    "entries = symbol_wrapper.fill(False)\n",
    "entries.vbt.set(True, every=\"5d\", inplace=True)\n",
    "exits = entries.vbt.signals.generate_exits(\n",
    "    exit_place_func_nb,\n",
    "    entries.index.values.astype(np.int64),\n",
    "    pd.Timedelta(\"7d\").value,\n",
    "    wait=0\n",
    ")\n",
    "exits.index[exits.any(axis=1)]"
   ]
  },
  {
   "cell_type": "code",
   "execution_count": 86,
   "id": "6690a670-24a5-4eb9-8552-16f845ab3c50",
   "metadata": {},
   "outputs": [
    {
     "data": {
      "text/plain": [
       "DatetimeIndex(['2021-01-08 00:00:00+00:00', '2021-01-13 00:00:00+00:00',\n",
       "               '2021-01-18 00:00:00+00:00', '2021-01-23 00:00:00+00:00',\n",
       "               '2021-01-28 00:00:00+00:00', '2021-02-02 00:00:00+00:00',\n",
       "               '2021-02-07 00:00:00+00:00', '2021-02-12 00:00:00+00:00',\n",
       "               '2021-02-17 00:00:00+00:00', '2021-02-22 00:00:00+00:00',\n",
       "               '2021-02-27 00:00:00+00:00', '2021-03-04 00:00:00+00:00',\n",
       "               '2021-03-09 00:00:00+00:00', '2021-03-14 00:00:00+00:00',\n",
       "               '2021-03-19 00:00:00+00:00', '2021-03-24 00:00:00+00:00',\n",
       "               '2021-03-29 00:00:00+00:00', '2021-04-03 00:00:00+00:00',\n",
       "               '2021-04-08 00:00:00+00:00', '2021-04-13 00:00:00+00:00',\n",
       "               '2021-04-18 00:00:00+00:00', '2021-04-23 00:00:00+00:00',\n",
       "               '2021-04-28 00:00:00+00:00', '2021-05-03 00:00:00+00:00',\n",
       "               '2021-05-08 00:00:00+00:00', '2021-05-13 00:00:00+00:00',\n",
       "               '2021-05-18 00:00:00+00:00', '2021-05-23 00:00:00+00:00',\n",
       "               '2021-05-28 00:00:00+00:00', '2021-06-02 00:00:00+00:00',\n",
       "               '2021-06-07 00:00:00+00:00', '2021-06-12 00:00:00+00:00',\n",
       "               '2021-06-17 00:00:00+00:00', '2021-06-22 00:00:00+00:00',\n",
       "               '2021-06-27 00:00:00+00:00', '2021-07-02 00:00:00+00:00',\n",
       "               '2021-07-07 00:00:00+00:00', '2021-07-12 00:00:00+00:00',\n",
       "               '2021-07-17 00:00:00+00:00', '2021-07-22 00:00:00+00:00',\n",
       "               '2021-07-27 00:00:00+00:00', '2021-08-01 00:00:00+00:00',\n",
       "               '2021-08-06 00:00:00+00:00', '2021-08-11 00:00:00+00:00',\n",
       "               '2021-08-16 00:00:00+00:00', '2021-08-21 00:00:00+00:00',\n",
       "               '2021-08-26 00:00:00+00:00', '2021-08-31 00:00:00+00:00',\n",
       "               '2021-09-05 00:00:00+00:00', '2021-09-10 00:00:00+00:00',\n",
       "               '2021-09-15 00:00:00+00:00', '2021-09-20 00:00:00+00:00',\n",
       "               '2021-09-25 00:00:00+00:00', '2021-09-30 00:00:00+00:00',\n",
       "               '2021-10-05 00:00:00+00:00', '2021-10-10 00:00:00+00:00',\n",
       "               '2021-10-15 00:00:00+00:00', '2021-10-20 00:00:00+00:00',\n",
       "               '2021-10-25 00:00:00+00:00', '2021-10-30 00:00:00+00:00',\n",
       "               '2021-11-04 00:00:00+00:00', '2021-11-09 00:00:00+00:00',\n",
       "               '2021-11-14 00:00:00+00:00', '2021-11-19 00:00:00+00:00',\n",
       "               '2021-11-24 00:00:00+00:00', '2021-11-29 00:00:00+00:00',\n",
       "               '2021-12-04 00:00:00+00:00', '2021-12-09 00:00:00+00:00',\n",
       "               '2021-12-14 00:00:00+00:00', '2021-12-19 00:00:00+00:00',\n",
       "               '2021-12-24 00:00:00+00:00', '2021-12-29 00:00:00+00:00'],\n",
       "              dtype='datetime64[ns, UTC]', name='Open time', freq=None)"
      ]
     },
     "execution_count": 86,
     "metadata": {},
     "output_type": "execute_result"
    }
   ],
   "source": [
    "exits = entries.vbt.signals.generate_exits(\n",
    "    exit_place_func_nb,\n",
    "    entries.index.values.astype(np.int64),\n",
    "    pd.Timedelta(\"7d\").value,\n",
    "    wait=0,\n",
    "    until_next=False\n",
    ")\n",
    "exits.index[exits.any(axis=1)]"
   ]
  },
  {
   "cell_type": "code",
   "execution_count": 87,
   "id": "b3729138-f008-4371-883f-31240e1aadb3",
   "metadata": {},
   "outputs": [
    {
     "data": {
      "text/plain": [
       "DatetimeIndex(['2021-01-08 00:00:00+00:00', '2021-01-18 00:00:00+00:00',\n",
       "               '2021-01-28 00:00:00+00:00', '2021-02-07 00:00:00+00:00',\n",
       "               '2021-02-17 00:00:00+00:00', '2021-02-27 00:00:00+00:00',\n",
       "               '2021-03-09 00:00:00+00:00', '2021-03-19 00:00:00+00:00',\n",
       "               '2021-03-29 00:00:00+00:00', '2021-04-08 00:00:00+00:00',\n",
       "               '2021-04-18 00:00:00+00:00', '2021-04-28 00:00:00+00:00',\n",
       "               '2021-05-08 00:00:00+00:00', '2021-05-18 00:00:00+00:00',\n",
       "               '2021-05-28 00:00:00+00:00', '2021-06-07 00:00:00+00:00',\n",
       "               '2021-06-17 00:00:00+00:00', '2021-06-27 00:00:00+00:00',\n",
       "               '2021-07-07 00:00:00+00:00', '2021-07-17 00:00:00+00:00',\n",
       "               '2021-07-27 00:00:00+00:00', '2021-08-06 00:00:00+00:00',\n",
       "               '2021-08-16 00:00:00+00:00', '2021-08-26 00:00:00+00:00',\n",
       "               '2021-09-05 00:00:00+00:00', '2021-09-15 00:00:00+00:00',\n",
       "               '2021-09-25 00:00:00+00:00', '2021-10-05 00:00:00+00:00',\n",
       "               '2021-10-15 00:00:00+00:00', '2021-10-25 00:00:00+00:00',\n",
       "               '2021-11-04 00:00:00+00:00', '2021-11-14 00:00:00+00:00',\n",
       "               '2021-11-24 00:00:00+00:00', '2021-12-04 00:00:00+00:00',\n",
       "               '2021-12-14 00:00:00+00:00', '2021-12-24 00:00:00+00:00'],\n",
       "              dtype='datetime64[ns, UTC]', name='Open time', freq=None)"
      ]
     },
     "execution_count": 87,
     "metadata": {},
     "output_type": "execute_result"
    }
   ],
   "source": [
    "exits = entries.vbt.signals.generate_exits(\n",
    "    exit_place_func_nb,\n",
    "    entries.index.values.astype(np.int64),\n",
    "    pd.Timedelta(\"7d\").value,\n",
    "    wait=0,\n",
    "    until_next=False,\n",
    "    skip_until_exit=True\n",
    ")\n",
    "exits.index[exits.any(axis=1)]"
   ]
  },
  {
   "cell_type": "code",
   "execution_count": 88,
   "id": "939bb536-1973-4798-9f9e-bb65314a6f31",
   "metadata": {},
   "outputs": [
    {
     "data": {
      "text/plain": [
       "custom_wait_td   symbol \n",
       "3 days 00:00:00  BTCUSDT    73\n",
       "                 ETHUSDT    73\n",
       "7 days 00:00:00  BTCUSDT    36\n",
       "                 ETHUSDT    36\n",
       "dtype: int64"
      ]
     },
     "execution_count": 88,
     "metadata": {},
     "output_type": "execute_result"
    }
   ],
   "source": [
    "@njit\n",
    "def exit_place_func_nb(c, wait_td, index):\n",
    "    last_i = -1\n",
    "    for out_i in range(len(c.out)):\n",
    "        i = c.from_i + out_i\n",
    "        if index[i] >= index[c.from_i] + wait_td:\n",
    "            c.out[out_i] = True\n",
    "            last_i = out_i\n",
    "            break\n",
    "    return last_i\n",
    "\n",
    "ExitGenerator = vbt.SignalFactory(\n",
    "    mode=\"exits\",\n",
    "    param_names=[\"wait_td\"]\n",
    ").with_place_func(\n",
    "    exit_place_func=exit_place_func_nb,\n",
    "    exit_settings=dict(\n",
    "        pass_params=[\"wait_td\"],\n",
    "    ),\n",
    "    var_args=True,\n",
    "    wait=0,\n",
    "    until_next=False,\n",
    "    skip_until_exit=True,\n",
    "    param_settings=dict(\n",
    "        wait_td=dict(\n",
    "            post_index_func=lambda x: x.map(lambda y: str(pd.Timedelta(y)))\n",
    "        )\n",
    "    ),\n",
    ")\n",
    "exit_generator = ExitGenerator.run(\n",
    "    entries,\n",
    "    [\n",
    "        pd.Timedelta(\"3d\").to_timedelta64(),\n",
    "        pd.Timedelta(\"7d\").to_timedelta64()\n",
    "    ],\n",
    "    symbol_wrapper.index.values\n",
    ")\n",
    "exit_generator.exits.sum()"
   ]
  },
  {
   "cell_type": "code",
   "execution_count": 89,
   "id": "de964714-e321-4d79-bfe1-b466a087b293",
   "metadata": {},
   "outputs": [
    {
     "data": {
      "text/plain": [
       "DatetimeIndex(['2021-01-01 00:00:00+00:00', '2021-01-11 00:00:00+00:00',\n",
       "               '2021-01-21 00:00:00+00:00', '2021-01-31 00:00:00+00:00',\n",
       "               '2021-02-10 00:00:00+00:00', '2021-02-20 00:00:00+00:00',\n",
       "               '2021-03-02 00:00:00+00:00', '2021-03-12 00:00:00+00:00',\n",
       "               '2021-03-22 00:00:00+00:00', '2021-04-01 00:00:00+00:00',\n",
       "               '2021-04-11 00:00:00+00:00', '2021-04-21 00:00:00+00:00',\n",
       "               '2021-05-01 00:00:00+00:00', '2021-05-11 00:00:00+00:00',\n",
       "               '2021-05-21 00:00:00+00:00', '2021-05-31 00:00:00+00:00',\n",
       "               '2021-06-10 00:00:00+00:00', '2021-06-20 00:00:00+00:00',\n",
       "               '2021-06-30 00:00:00+00:00', '2021-07-10 00:00:00+00:00',\n",
       "               '2021-07-20 00:00:00+00:00', '2021-07-30 00:00:00+00:00',\n",
       "               '2021-08-09 00:00:00+00:00', '2021-08-19 00:00:00+00:00',\n",
       "               '2021-08-29 00:00:00+00:00', '2021-09-08 00:00:00+00:00',\n",
       "               '2021-09-18 00:00:00+00:00', '2021-09-28 00:00:00+00:00',\n",
       "               '2021-10-08 00:00:00+00:00', '2021-10-18 00:00:00+00:00',\n",
       "               '2021-10-28 00:00:00+00:00', '2021-11-07 00:00:00+00:00',\n",
       "               '2021-11-17 00:00:00+00:00', '2021-11-27 00:00:00+00:00',\n",
       "               '2021-12-07 00:00:00+00:00', '2021-12-17 00:00:00+00:00',\n",
       "               '2021-12-27 00:00:00+00:00'],\n",
       "              dtype='datetime64[ns, UTC]', name='Open time', freq=None)"
      ]
     },
     "execution_count": 89,
     "metadata": {},
     "output_type": "execute_result"
    }
   ],
   "source": [
    "new_entries = exit_generator.entries.vbt.signals.first(\n",
    "    reset_by=exit_generator.exits,\n",
    "    allow_gaps=True, \n",
    ")\n",
    "new_entries.index[new_entries[(\"7 days 00:00:00\", \"BTCUSDT\")]]"
   ]
  },
  {
   "cell_type": "markdown",
   "id": "5b97e203-9f56-4390-a5cd-30ee65beb85f",
   "metadata": {},
   "source": [
    "#### Both"
   ]
  },
  {
   "cell_type": "code",
   "execution_count": 90,
   "id": "d838e1e5-0060-4a04-8c33-4c1f96e701a4",
   "metadata": {},
   "outputs": [
    {
     "data": {
      "image/svg+xml": [
       "<svg class=\"main-svg\" xmlns=\"http://www.w3.org/2000/svg\" xmlns:xlink=\"http://www.w3.org/1999/xlink\" width=\"700\" height=\"350\" style=\"\" viewBox=\"0 0 700 350\"><rect x=\"0\" y=\"0\" width=\"700\" height=\"350\" style=\"fill: rgb(33, 34, 44); fill-opacity: 1;\"/><defs id=\"defs-58d94e\"><g class=\"clips\"><clipPath id=\"clip58d94exyplot\" class=\"plotclip\"><rect width=\"635\" height=\"274\"/></clipPath><clipPath class=\"axesclip\" id=\"clip58d94ex\"><rect x=\"35\" y=\"0\" width=\"635\" height=\"350\"/></clipPath><clipPath class=\"axesclip\" id=\"clip58d94ey\"><rect x=\"0\" y=\"46\" width=\"700\" height=\"274\"/></clipPath><clipPath class=\"axesclip\" id=\"clip58d94exy\"><rect x=\"35\" y=\"46\" width=\"635\" height=\"274\"/></clipPath></g><g class=\"gradients\"/><g class=\"patterns\"/></defs><g class=\"bglayer\"/><g class=\"layer-below\"><g class=\"imagelayer\"/><g class=\"shapelayer\"/></g><g class=\"cartesianlayer\"><g class=\"subplot xy\"><g class=\"layer-subplot\"><g class=\"shapelayer\"/><g class=\"imagelayer\"/></g><g class=\"gridlayer\"><g class=\"x\"><path class=\"xgrid crisp\" transform=\"translate(71.75,0)\" d=\"M0,46v274\" style=\"stroke: rgb(47, 62, 78); stroke-opacity: 1; stroke-width: 1px;\"/><path class=\"xgrid crisp\" transform=\"translate(168.59,0)\" d=\"M0,46v274\" style=\"stroke: rgb(47, 62, 78); stroke-opacity: 1; stroke-width: 1px;\"/><path class=\"xgrid crisp\" transform=\"translate(268.7,0)\" d=\"M0,46v274\" style=\"stroke: rgb(47, 62, 78); stroke-opacity: 1; stroke-width: 1px;\"/><path class=\"xgrid crisp\" transform=\"translate(368.82,0)\" d=\"M0,46v274\" style=\"stroke: rgb(47, 62, 78); stroke-opacity: 1; stroke-width: 1px;\"/><path class=\"xgrid crisp\" transform=\"translate(470.58,0)\" d=\"M0,46v274\" style=\"stroke: rgb(47, 62, 78); stroke-opacity: 1; stroke-width: 1px;\"/><path class=\"xgrid crisp\" transform=\"translate(570.7,0)\" d=\"M0,46v274\" style=\"stroke: rgb(47, 62, 78); stroke-opacity: 1; stroke-width: 1px;\"/></g><g class=\"y\"><path class=\"ygrid crisp\" transform=\"translate(0,295.02)\" d=\"M35,0h635\" style=\"stroke: rgb(47, 62, 78); stroke-opacity: 1; stroke-width: 1px;\"/><path class=\"ygrid crisp\" transform=\"translate(0,234.68)\" d=\"M35,0h635\" style=\"stroke: rgb(47, 62, 78); stroke-opacity: 1; stroke-width: 1px;\"/><path class=\"ygrid crisp\" transform=\"translate(0,174.34)\" d=\"M35,0h635\" style=\"stroke: rgb(47, 62, 78); stroke-opacity: 1; stroke-width: 1px;\"/><path class=\"ygrid crisp\" transform=\"translate(0,114)\" d=\"M35,0h635\" style=\"stroke: rgb(47, 62, 78); stroke-opacity: 1; stroke-width: 1px;\"/><path class=\"ygrid crisp\" transform=\"translate(0,53.67)\" d=\"M35,0h635\" style=\"stroke: rgb(47, 62, 78); stroke-opacity: 1; stroke-width: 1px;\"/></g></g><g class=\"zerolinelayer\"/><path class=\"xlines-below\"/><path class=\"ylines-below\"/><g class=\"overlines-below\"/><g class=\"xaxislayer-below\"/><g class=\"yaxislayer-below\"/><g class=\"overaxes-below\"/><g class=\"plot\" transform=\"translate(35,46)\" clip-path=\"url(#clip58d94exyplot)\"><g class=\"ohlclayer mlayer\"><g class=\"trace ohlc\" style=\"opacity: 0.5;\"><path d=\"M36.26,255.51H36.75M36.75,251.43V257.32M37.24,253.05H36.75\" style=\"fill: none; stroke: rgb(27, 158, 118); stroke-opacity: 1; stroke-width: 2px; opacity: 1;\"/><path d=\"M37.9,253.05H38.39M38.39,229.11V255.37M38.88,235.87H38.39\" style=\"fill: none; stroke: rgb(27, 158, 118); stroke-opacity: 1; stroke-width: 2px; opacity: 1;\"/><path d=\"M39.54,235.88H40.03M40.03,220.19V237.17M40.52,230.92H40.03\" style=\"fill: none; stroke: rgb(27, 158, 118); stroke-opacity: 1; stroke-width: 2px; opacity: 1;\"/><path d=\"M41.18,230.92H41.67M41.67,227.3V260.3M42.17,237.02H41.67\" style=\"fill: none; stroke: rgb(217, 95, 2); stroke-opacity: 1; stroke-width: 2px; opacity: 1;\"/><path d=\"M42.82,237.01H43.32M43.32,222.71V249.62M43.81,225.19H43.32\" style=\"fill: none; stroke: rgb(27, 158, 118); stroke-opacity: 1; stroke-width: 2px; opacity: 1;\"/><path d=\"M44.46,225.19H44.96M44.96,207.15V229.18M45.45,208.17H44.96\" style=\"fill: none; stroke: rgb(27, 158, 118); stroke-opacity: 1; stroke-width: 2px; opacity: 1;\"/><path d=\"M46.11,208.17H46.6M46.6,186.48V211M47.09,192.1H46.6\" style=\"fill: none; stroke: rgb(27, 158, 118); stroke-opacity: 1; stroke-width: 2px; opacity: 1;\"/><path d=\"M47.75,192.1H48.24M48.24,176.91V209.8M48.73,185.16H48.24\" style=\"fill: none; stroke: rgb(27, 158, 118); stroke-opacity: 1; stroke-width: 2px; opacity: 1;\"/><path d=\"M49.39,185.14H49.88M49.88,180.35V196.4M50.37,188.15H49.88\" style=\"fill: none; stroke: rgb(217, 95, 2); stroke-opacity: 1; stroke-width: 2px; opacity: 1;\"/><path d=\"M51.03,188.15H51.52M51.52,180.53V218.18M52.01,199.84H51.52\" style=\"fill: none; stroke: rgb(217, 95, 2); stroke-opacity: 1; stroke-width: 2px; opacity: 1;\"/><path d=\"M52.67,199.84H53.16M53.16,199.15V246.48M53.66,216.41H53.16\" style=\"fill: none; stroke: rgb(217, 95, 2); stroke-opacity: 1; stroke-width: 2px; opacity: 1;\"/><path d=\"M54.31,216.37H54.8M54.8,209.03V233.75M55.3,224.57H54.8\" style=\"fill: none; stroke: rgb(217, 95, 2); stroke-opacity: 1; stroke-width: 2px; opacity: 1;\"/><path d=\"M55.95,224.59H56.45M56.45,201.65V234.66M56.94,204.54H56.45\" style=\"fill: none; stroke: rgb(27, 158, 118); stroke-opacity: 1; stroke-width: 2px; opacity: 1;\"/><path d=\"M57.59,204.54H58.09M58.09,188.08V208.58M58.58,193.84H58.09\" style=\"fill: none; stroke: rgb(27, 158, 118); stroke-opacity: 1; stroke-width: 2px; opacity: 1;\"/><path d=\"M59.24,193.84H59.73M59.73,190.2V222.42M60.22,208.34H59.73\" style=\"fill: none; stroke: rgb(217, 95, 2); stroke-opacity: 1; stroke-width: 2px; opacity: 1;\"/><path d=\"M60.88,208.36H61.37M61.37,201.05V216.69M61.86,212.84H61.37\" style=\"fill: none; stroke: rgb(217, 95, 2); stroke-opacity: 1; stroke-width: 2px; opacity: 1;\"/><path d=\"M62.52,212.84H63.01M63.01,207.67V225.79M63.5,213.85H63.01\" style=\"fill: none; stroke: rgb(217, 95, 2); stroke-opacity: 1; stroke-width: 2px; opacity: 1;\"/><path d=\"M64.16,213.87H64.65M64.65,203.95V220.05M65.14,209.01H64.65\" style=\"fill: none; stroke: rgb(27, 158, 118); stroke-opacity: 1; stroke-width: 2px; opacity: 1;\"/><path d=\"M65.8,209.06H66.29M66.29,201.65V213.76M66.79,213.47H66.29\" style=\"fill: none; stroke: rgb(217, 95, 2); stroke-opacity: 1; stroke-width: 2px; opacity: 1;\"/><path d=\"M67.44,213.41H67.93M67.93,210.31V228.5M68.43,216.02H67.93\" style=\"fill: none; stroke: rgb(217, 95, 2); stroke-opacity: 1; stroke-width: 2px; opacity: 1;\"/><path d=\"M69.08,216.02H69.58M69.58,215.23V248.59M70.07,243.89H69.58\" style=\"fill: none; stroke: rgb(217, 95, 2); stroke-opacity: 1; stroke-width: 2px; opacity: 1;\"/><path d=\"M70.72,243.88H71.22M71.22,225.93V255.96M71.71,231.25H71.22\" style=\"fill: none; stroke: rgb(27, 158, 118); stroke-opacity: 1; stroke-width: 2px; opacity: 1;\"/><path d=\"M72.37,231.22H72.86M72.86,228.16V240.63M73.35,236.48H72.86\" style=\"fill: none; stroke: rgb(217, 95, 2); stroke-opacity: 1; stroke-width: 2px; opacity: 1;\"/><path d=\"M74.01,236.48H74.5M74.5,230.49V243.59M74.99,235.38H74.5\" style=\"fill: none; stroke: rgb(27, 158, 118); stroke-opacity: 1; stroke-width: 2px; opacity: 1;\"/><path d=\"M75.65,235.38H76.14M76.14,219.6V237.49M76.63,235.42H76.14\" style=\"fill: none; stroke: rgb(217, 95, 2); stroke-opacity: 1; stroke-width: 2px; opacity: 1;\"/><path d=\"M77.29,235.42H77.78M77.78,231.39V243.96M78.27,234.13H77.78\" style=\"fill: none; stroke: rgb(27, 158, 118); stroke-opacity: 1; stroke-width: 2px; opacity: 1;\"/><path d=\"M78.93,234.15H79.42M79.42,233.59V253.59M79.92,246.81H79.42\" style=\"fill: none; stroke: rgb(217, 95, 2); stroke-opacity: 1; stroke-width: 2px; opacity: 1;\"/><path d=\"M80.57,246.83H81.06M81.06,226.19V249.97M81.56,228.71H81.06\" style=\"fill: none; stroke: rgb(27, 158, 118); stroke-opacity: 1; stroke-width: 2px; opacity: 1;\"/><path d=\"M82.21,228.69H82.71M82.71,197.54V237.46M83.2,223.36H82.71\" style=\"fill: none; stroke: rgb(27, 158, 118); stroke-opacity: 1; stroke-width: 2px; opacity: 1;\"/><path d=\"M83.86,223.4H84.35M84.35,219.25V231.97M84.84,223.3H84.35\" style=\"fill: none; stroke: rgb(27, 158, 118); stroke-opacity: 1; stroke-width: 2px; opacity: 1;\"/><path d=\"M85.5,223.3H85.99M85.99,222.81V235.91M86.48,230.35H85.99\" style=\"fill: none; stroke: rgb(217, 95, 2); stroke-opacity: 1; stroke-width: 2px; opacity: 1;\"/><path d=\"M87.14,230.35H87.63M87.63,220.55V235.16M88.12,227.74H87.63\" style=\"fill: none; stroke: rgb(27, 158, 118); stroke-opacity: 1; stroke-width: 2px; opacity: 1;\"/><path d=\"M88.78,227.8H89.27M89.27,212.91V228.39M89.76,216.03H89.27\" style=\"fill: none; stroke: rgb(27, 158, 118); stroke-opacity: 1; stroke-width: 2px; opacity: 1;\"/><path d=\"M90.42,216H90.91M90.91,202.78V216.66M91.4,203.05H90.91\" style=\"fill: none; stroke: rgb(27, 158, 118); stroke-opacity: 1; stroke-width: 2px; opacity: 1;\"/><path d=\"M92.06,203.04H92.55M92.55,196.47V211.84M93.05,207.16H92.55\" style=\"fill: none; stroke: rgb(217, 95, 2); stroke-opacity: 1; stroke-width: 2px; opacity: 1;\"/><path d=\"M93.7,207.16H94.2M94.2,198.88V209.38M94.69,199H94.2\" style=\"fill: none; stroke: rgb(27, 158, 118); stroke-opacity: 1; stroke-width: 2px; opacity: 1;\"/><path d=\"M95.34,199H95.84M95.84,182.91V199.44M96.33,193.59H95.84\" style=\"fill: none; stroke: rgb(27, 158, 118); stroke-opacity: 1; stroke-width: 2px; opacity: 1;\"/><path d=\"M96.99,193.62H97.48M97.48,190.49V204.66M97.97,195.95H97.48\" style=\"fill: none; stroke: rgb(217, 95, 2); stroke-opacity: 1; stroke-width: 2px; opacity: 1;\"/><path d=\"M98.63,195.95H99.12M99.12,147.68V200.81M99.61,150.21H99.12\" style=\"fill: none; stroke: rgb(27, 158, 118); stroke-opacity: 1; stroke-width: 2px; opacity: 1;\"/><path d=\"M100.27,150.21H100.76M100.76,139.55V158.75M101.25,149.94H100.76\" style=\"fill: none; stroke: rgb(27, 158, 118); stroke-opacity: 1; stroke-width: 2px; opacity: 1;\"/><path d=\"M101.91,149.94H102.4M102.4,144.57V166.19M102.89,159.67H102.4\" style=\"fill: none; stroke: rgb(217, 95, 2); stroke-opacity: 1; stroke-width: 2px; opacity: 1;\"/><path d=\"M103.55,159.67H104.04M104.04,136.31V164.58M104.54,140.59H104.04\" style=\"fill: none; stroke: rgb(27, 158, 118); stroke-opacity: 1; stroke-width: 2px; opacity: 1;\"/><path d=\"M105.19,140.6H105.68M105.68,134.46V151.72M106.18,144.71H105.68\" style=\"fill: none; stroke: rgb(217, 95, 2); stroke-opacity: 1; stroke-width: 2px; opacity: 1;\"/><path d=\"M106.83,144.64H107.33M107.33,139.5V151.25M107.82,145.52H107.33\" style=\"fill: none; stroke: rgb(217, 95, 2); stroke-opacity: 1; stroke-width: 2px; opacity: 1;\"/><path d=\"M108.47,145.5H108.97M108.97,130.11V146.36M109.46,136.92H108.97\" style=\"fill: none; stroke: rgb(27, 158, 118); stroke-opacity: 1; stroke-width: 2px; opacity: 1;\"/><path d=\"M110.12,136.91H110.61M110.61,134.31V155.07M111.1,140.95H110.61\" style=\"fill: none; stroke: rgb(217, 95, 2); stroke-opacity: 1; stroke-width: 2px; opacity: 1;\"/><path d=\"M111.76,140.95H112.25M112.25,124.18V146.42M112.74,133.57H112.25\" style=\"fill: none; stroke: rgb(27, 158, 118); stroke-opacity: 1; stroke-width: 2px; opacity: 1;\"/><path d=\"M113.4,133.57H113.89M113.89,112.54V134.7M114.38,115.55H113.89\" style=\"fill: none; stroke: rgb(27, 158, 118); stroke-opacity: 1; stroke-width: 2px; opacity: 1;\"/><path d=\"M115.04,115.56H115.53M115.53,113.08V122.9M116.02,118.97H115.53\" style=\"fill: none; stroke: rgb(217, 95, 2); stroke-opacity: 1; stroke-width: 2px; opacity: 1;\"/><path d=\"M116.68,118.97H117.17M117.17,89.92V124.06M117.67,92.71H117.17\" style=\"fill: none; stroke: rgb(27, 158, 118); stroke-opacity: 1; stroke-width: 2px; opacity: 1;\"/><path d=\"M118.32,92.71H118.81M118.81,81.88V105.03M119.31,93.1H118.81\" style=\"fill: none; stroke: rgb(217, 95, 2); stroke-opacity: 1; stroke-width: 2px; opacity: 1;\"/><path d=\"M119.96,93.1H120.46M120.46,77.94V95.29M120.95,83.64H120.46\" style=\"fill: none; stroke: rgb(27, 158, 118); stroke-opacity: 1; stroke-width: 2px; opacity: 1;\"/><path d=\"M121.6,83.62H122.1M122.1,83.04V142.69M122.59,103.68H122.1\" style=\"fill: none; stroke: rgb(217, 95, 2); stroke-opacity: 1; stroke-width: 2px; opacity: 1;\"/><path d=\"M123.25,103.68H123.74M123.74,103.1V159.16M124.23,135.03H123.74\" style=\"fill: none; stroke: rgb(217, 95, 2); stroke-opacity: 1; stroke-width: 2px; opacity: 1;\"/><path d=\"M124.89,135.03H125.38M125.38,120.05V146.51M125.87,130.3H125.38\" style=\"fill: none; stroke: rgb(27, 158, 118); stroke-opacity: 1; stroke-width: 2px; opacity: 1;\"/><path d=\"M126.53,130.3H127.02M127.02,116.02V148.41M127.51,146H127.02\" style=\"fill: none; stroke: rgb(217, 95, 2); stroke-opacity: 1; stroke-width: 2px; opacity: 1;\"/><path d=\"M128.17,146H128.66M128.66,137.85V163.9M129.15,150.81H128.66\" style=\"fill: none; stroke: rgb(217, 95, 2); stroke-opacity: 1; stroke-width: 2px; opacity: 1;\"/><path d=\"M129.81,150.81H130.3M130.3,138.03V158.51M130.8,151.83H130.3\" style=\"fill: none; stroke: rgb(217, 95, 2); stroke-opacity: 1; stroke-width: 2px; opacity: 1;\"/><path d=\"M131.45,151.85H131.94M131.94,148.62V170.58M132.44,157.69H131.94\" style=\"fill: none; stroke: rgb(217, 95, 2); stroke-opacity: 1; stroke-width: 2px; opacity: 1;\"/><path d=\"M133.09,157.7H133.59M133.59,129.61V158.81M134.08,130.83H133.59\" style=\"fill: none; stroke: rgb(27, 158, 118); stroke-opacity: 1; stroke-width: 2px; opacity: 1;\"/><path d=\"M134.73,130.78H135.23M135.23,127.13V146.16M135.72,137.75H135.23\" style=\"fill: none; stroke: rgb(217, 95, 2); stroke-opacity: 1; stroke-width: 2px; opacity: 1;\"/><path d=\"M136.38,137.77H136.87M136.87,112.41V139.8M137.36,126.23H136.87\" style=\"fill: none; stroke: rgb(27, 158, 118); stroke-opacity: 1; stroke-width: 2px; opacity: 1;\"/><path d=\"M138.02,126.23H138.51M138.51,117.64V143.43M139,138.15H138.51\" style=\"fill: none; stroke: rgb(217, 95, 2); stroke-opacity: 1; stroke-width: 2px; opacity: 1;\"/><path d=\"M139.66,138.15H140.15M140.15,131.67V150.67M140.64,135.87H140.15\" style=\"fill: none; stroke: rgb(27, 158, 118); stroke-opacity: 1; stroke-width: 2px; opacity: 1;\"/><path d=\"M141.3,135.9H141.79M141.79,133.17V146.02M142.28,135.09H141.79\" style=\"fill: none; stroke: rgb(27, 158, 118); stroke-opacity: 1; stroke-width: 2px; opacity: 1;\"/><path d=\"M142.94,135.09H143.43M143.43,119.59V135.09M143.93,122.48H143.43\" style=\"fill: none; stroke: rgb(27, 158, 118); stroke-opacity: 1; stroke-width: 2px; opacity: 1;\"/><path d=\"M144.58,122.55H145.08M145.08,113.84V132.72M145.57,114.01H145.08\" style=\"fill: none; stroke: rgb(27, 158, 118); stroke-opacity: 1; stroke-width: 2px; opacity: 1;\"/><path d=\"M146.22,114.01H146.72M146.72,98.81V117.54M147.21,98.87H146.72\" style=\"fill: none; stroke: rgb(27, 158, 118); stroke-opacity: 1; stroke-width: 2px; opacity: 1;\"/><path d=\"M147.87,98.93H148.36M148.36,83.77V110.21M148.85,93.03H148.36\" style=\"fill: none; stroke: rgb(27, 158, 118); stroke-opacity: 1; stroke-width: 2px; opacity: 1;\"/><path d=\"M149.51,93.03H150M150,79.17V102.56M150.49,81.44H150\" style=\"fill: none; stroke: rgb(27, 158, 118); stroke-opacity: 1; stroke-width: 2px; opacity: 1;\"/><path d=\"M151.15,81.44H151.64M151.64,79.58V98.4M152.13,84.77H151.64\" style=\"fill: none; stroke: rgb(217, 95, 2); stroke-opacity: 1; stroke-width: 2px; opacity: 1;\"/><path d=\"M152.79,84.77H153.28M153.28,56.88V91.67M153.77,60.83H153.28\" style=\"fill: none; stroke: rgb(27, 158, 118); stroke-opacity: 1; stroke-width: 2px; opacity: 1;\"/><path d=\"M154.43,60.83H154.92M154.92,57.6V74.24M155.42,74.23H154.92\" style=\"fill: none; stroke: rgb(217, 95, 2); stroke-opacity: 1; stroke-width: 2px; opacity: 1;\"/><path d=\"M156.07,74.18H156.56M156.56,64.18V100.59M157.06,94.52H156.56\" style=\"fill: none; stroke: rgb(217, 95, 2); stroke-opacity: 1; stroke-width: 2px; opacity: 1;\"/><path d=\"M157.71,94.52H158.21M158.21,86.48V108.6M158.7,86.7H158.21\" style=\"fill: none; stroke: rgb(27, 158, 118); stroke-opacity: 1; stroke-width: 2px; opacity: 1;\"/><path d=\"M159.35,86.7H159.85M159.85,74.19V103.46M160.34,74.56H159.85\" style=\"fill: none; stroke: rgb(27, 158, 118); stroke-opacity: 1; stroke-width: 2px; opacity: 1;\"/><path d=\"M161,74.56H161.49M161.49,67.22V85.97M161.98,82.19H161.49\" style=\"fill: none; stroke: rgb(217, 95, 2); stroke-opacity: 1; stroke-width: 2px; opacity: 1;\"/><path d=\"M162.64,82.24H163.13M163.13,71.21V90.51M163.62,79.89H163.13\" style=\"fill: none; stroke: rgb(27, 158, 118); stroke-opacity: 1; stroke-width: 2px; opacity: 1;\"/><path d=\"M164.28,79.89H164.77M164.77,68.73V81.16M165.26,79.45H164.77\" style=\"fill: none; stroke: rgb(27, 158, 118); stroke-opacity: 1; stroke-width: 2px; opacity: 1;\"/><path d=\"M165.92,79.47H166.41M166.41,76.52V95.46M166.9,83.98H166.41\" style=\"fill: none; stroke: rgb(217, 95, 2); stroke-opacity: 1; stroke-width: 2px; opacity: 1;\"/><path d=\"M167.56,83.98H168.05M168.05,77.47V106.32M168.55,103.7H168.05\" style=\"fill: none; stroke: rgb(217, 95, 2); stroke-opacity: 1; stroke-width: 2px; opacity: 1;\"/><path d=\"M169.2,103.7H169.69M169.69,93.16V110.24M170.19,102.15H169.69\" style=\"fill: none; stroke: rgb(27, 158, 118); stroke-opacity: 1; stroke-width: 2px; opacity: 1;\"/><path d=\"M170.84,102.14H171.34M171.34,84.9V118.08M171.83,114.44H171.34\" style=\"fill: none; stroke: rgb(217, 95, 2); stroke-opacity: 1; stroke-width: 2px; opacity: 1;\"/><path d=\"M172.48,114.44H172.98M172.98,108.51V125.76M173.47,120.54H172.98\" style=\"fill: none; stroke: rgb(217, 95, 2); stroke-opacity: 1; stroke-width: 2px; opacity: 1;\"/><path d=\"M174.13,120.54H174.62M174.62,97.73V121.01M175.11,98.02H174.62\" style=\"fill: none; stroke: rgb(27, 158, 118); stroke-opacity: 1; stroke-width: 2px; opacity: 1;\"/><path d=\"M175.77,98.02H176.26M176.26,87.91V104.51M176.75,93.24H176.26\" style=\"fill: none; stroke: rgb(27, 158, 118); stroke-opacity: 1; stroke-width: 2px; opacity: 1;\"/><path d=\"M177.41,93.24H177.9M177.9,88.76V100.03M178.39,93.48H177.9\" style=\"fill: none; stroke: rgb(217, 95, 2); stroke-opacity: 1; stroke-width: 2px; opacity: 1;\"/><path d=\"M179.05,93.48H179.54M179.54,77.62V99.38M180.03,82.27H179.54\" style=\"fill: none; stroke: rgb(27, 158, 118); stroke-opacity: 1; stroke-width: 2px; opacity: 1;\"/><path d=\"M180.69,82.27H181.18M181.18,71.82V85.67M181.68,75.57H181.18\" style=\"fill: none; stroke: rgb(27, 158, 118); stroke-opacity: 1; stroke-width: 2px; opacity: 1;\"/><path d=\"M182.33,75.57H182.82M182.82,69.21V87.5M183.32,75.6H182.82\" style=\"fill: none; stroke: rgb(217, 95, 2); stroke-opacity: 1; stroke-width: 2px; opacity: 1;\"/><path d=\"M183.97,75.61H184.47M184.47,71.08V80.46M184.96,75.72H184.47\" style=\"fill: none; stroke: rgb(217, 95, 2); stroke-opacity: 1; stroke-width: 2px; opacity: 1;\"/><path d=\"M185.61,75.72H186.11M186.11,66.8V77.49M186.6,74.34H186.11\" style=\"fill: none; stroke: rgb(27, 158, 118); stroke-opacity: 1; stroke-width: 2px; opacity: 1;\"/><path d=\"M187.26,74.34H187.75M187.75,69.26V86.83M188.24,85.79H187.75\" style=\"fill: none; stroke: rgb(217, 95, 2); stroke-opacity: 1; stroke-width: 2px; opacity: 1;\"/><path d=\"M188.9,85.79H189.39M189.39,77.1V89.8M189.88,78.85H189.39\" style=\"fill: none; stroke: rgb(27, 158, 118); stroke-opacity: 1; stroke-width: 2px; opacity: 1;\"/><path d=\"M190.54,78.85H191.03M191.03,72.4V87.45M191.52,73.25H191.03\" style=\"fill: none; stroke: rgb(27, 158, 118); stroke-opacity: 1; stroke-width: 2px; opacity: 1;\"/><path d=\"M192.18,73.25H192.67M192.67,71.05V83.61M193.16,80.12H192.67\" style=\"fill: none; stroke: rgb(217, 95, 2); stroke-opacity: 1; stroke-width: 2px; opacity: 1;\"/><path d=\"M193.82,80.13H194.31M194.31,76.12V95.32M194.81,92.42H194.31\" style=\"fill: none; stroke: rgb(217, 95, 2); stroke-opacity: 1; stroke-width: 2px; opacity: 1;\"/><path d=\"M195.46,92.42H195.96M195.96,79.15V93.95M196.45,79.6H195.96\" style=\"fill: none; stroke: rgb(27, 158, 118); stroke-opacity: 1; stroke-width: 2px; opacity: 1;\"/><path d=\"M197.1,79.6H197.6M197.6,74.67V82.16M198.09,79.21H197.6\" style=\"fill: none; stroke: rgb(27, 158, 118); stroke-opacity: 1; stroke-width: 2px; opacity: 1;\"/><path d=\"M198.75,79.21H199.24M199.24,58.95V80.67M199.73,69.4H199.24\" style=\"fill: none; stroke: rgb(27, 158, 118); stroke-opacity: 1; stroke-width: 2px; opacity: 1;\"/><path d=\"M200.39,69.4H200.88M200.88,63.79V72.63M201.37,67.99H200.88\" style=\"fill: none; stroke: rgb(27, 158, 118); stroke-opacity: 1; stroke-width: 2px; opacity: 1;\"/><path d=\"M202.03,68.01H202.52M202.52,60.16V71.92M203.01,68.85H202.52\" style=\"fill: none; stroke: rgb(217, 95, 2); stroke-opacity: 1; stroke-width: 2px; opacity: 1;\"/><path d=\"M203.67,68.85H204.16M204.16,45.21V69.18M204.65,46.43H204.16\" style=\"fill: none; stroke: rgb(27, 158, 118); stroke-opacity: 1; stroke-width: 2px; opacity: 1;\"/><path d=\"M205.31,46.43H205.8M205.8,38.72V60.15M206.3,50.15H205.8\" style=\"fill: none; stroke: rgb(217, 95, 2); stroke-opacity: 1; stroke-width: 2px; opacity: 1;\"/><path d=\"M206.95,50.15H207.44M207.44,45.08V55.82M207.94,48.94H207.44\" style=\"fill: none; stroke: rgb(27, 158, 118); stroke-opacity: 1; stroke-width: 2px; opacity: 1;\"/><path d=\"M208.59,48.94H209.09M209.09,46.76V68M209.58,59.95H209.09\" style=\"fill: none; stroke: rgb(217, 95, 2); stroke-opacity: 1; stroke-width: 2px; opacity: 1;\"/><path d=\"M210.23,59.95H210.73M210.73,52.88V70.53M211.22,67.96H210.73\" style=\"fill: none; stroke: rgb(217, 95, 2); stroke-opacity: 1; stroke-width: 2px; opacity: 1;\"/><path d=\"M211.88,67.96H212.37M212.37,64.99V122.72M212.86,91.23H212.37\" style=\"fill: none; stroke: rgb(217, 95, 2); stroke-opacity: 1; stroke-width: 2px; opacity: 1;\"/><path d=\"M213.52,91.23H214.01M214.01,82.93V102.87M214.5,94.35H214.01\" style=\"fill: none; stroke: rgb(217, 95, 2); stroke-opacity: 1; stroke-width: 2px; opacity: 1;\"/><path d=\"M215.16,94.35H215.65M215.65,85.65V108.25M216.14,89.57H215.65\" style=\"fill: none; stroke: rgb(27, 158, 118); stroke-opacity: 1; stroke-width: 2px; opacity: 1;\"/><path d=\"M216.8,89.57H217.29M217.29,87.57V107.01M217.78,105.49H217.29\" style=\"fill: none; stroke: rgb(217, 95, 2); stroke-opacity: 1; stroke-width: 2px; opacity: 1;\"/><path d=\"M218.44,105.49H218.93M218.93,95.03V125.32M219.43,118.14H218.93\" style=\"fill: none; stroke: rgb(217, 95, 2); stroke-opacity: 1; stroke-width: 2px; opacity: 1;\"/><path d=\"M220.08,118.14H220.57M220.57,115.48V143.43M221.07,121.55H220.57\" style=\"fill: none; stroke: rgb(217, 95, 2); stroke-opacity: 1; stroke-width: 2px; opacity: 1;\"/><path d=\"M221.72,121.64H222.22M222.22,121.3V136.44M222.71,128.05H222.22\" style=\"fill: none; stroke: rgb(217, 95, 2); stroke-opacity: 1; stroke-width: 2px; opacity: 1;\"/><path d=\"M223.36,128.05H223.86M223.86,124.91V146.87M224.35,133.97H223.86\" style=\"fill: none; stroke: rgb(217, 95, 2); stroke-opacity: 1; stroke-width: 2px; opacity: 1;\"/><path d=\"M225.01,133.97H225.5M225.5,102.05V135.86M225.99,104.2H225.5\" style=\"fill: none; stroke: rgb(27, 158, 118); stroke-opacity: 1; stroke-width: 2px; opacity: 1;\"/><path d=\"M226.65,104.2H227.14M227.14,95.4V108.9M227.63,98.1H227.14\" style=\"fill: none; stroke: rgb(27, 158, 118); stroke-opacity: 1; stroke-width: 2px; opacity: 1;\"/><path d=\"M228.29,98.1H228.78M228.78,89.56V105.33M229.27,99.1H228.78\" style=\"fill: none; stroke: rgb(217, 95, 2); stroke-opacity: 1; stroke-width: 2px; opacity: 1;\"/><path d=\"M229.93,99.1H230.42M230.42,96.99V114.28M230.91,106.89H230.42\" style=\"fill: none; stroke: rgb(217, 95, 2); stroke-opacity: 1; stroke-width: 2px; opacity: 1;\"/><path d=\"M231.57,106.89H232.06M232.06,80.29V110.16M232.56,81.92H232.06\" style=\"fill: none; stroke: rgb(27, 158, 118); stroke-opacity: 1; stroke-width: 2px; opacity: 1;\"/><path d=\"M233.21,81.9H233.7M233.7,77.31V86.37M234.2,81.28H233.7\" style=\"fill: none; stroke: rgb(27, 158, 118); stroke-opacity: 1; stroke-width: 2px; opacity: 1;\"/><path d=\"M234.85,81.29H235.35M235.35,80.61V91.93M235.84,88.65H235.35\" style=\"fill: none; stroke: rgb(217, 95, 2); stroke-opacity: 1; stroke-width: 2px; opacity: 1;\"/><path d=\"M236.49,88.65H236.99M236.99,74.15V89.51M237.48,85.08H236.99\" style=\"fill: none; stroke: rgb(27, 158, 118); stroke-opacity: 1; stroke-width: 2px; opacity: 1;\"/><path d=\"M238.14,85.08H238.63M238.63,84.9V109.96M239.12,109.03H238.63\" style=\"fill: none; stroke: rgb(217, 95, 2); stroke-opacity: 1; stroke-width: 2px; opacity: 1;\"/><path d=\"M239.78,109H240.27M240.27,79.65V110.84M240.76,83.47H240.27\" style=\"fill: none; stroke: rgb(27, 158, 118); stroke-opacity: 1; stroke-width: 2px; opacity: 1;\"/><path d=\"M241.42,83.47H241.91M241.91,77.9V96.97M242.4,89.76H241.91\" style=\"fill: none; stroke: rgb(217, 95, 2); stroke-opacity: 1; stroke-width: 2px; opacity: 1;\"/><path d=\"M243.06,89.76H243.55M243.55,76.15V96.71M244.04,84.21H243.55\" style=\"fill: none; stroke: rgb(27, 158, 118); stroke-opacity: 1; stroke-width: 2px; opacity: 1;\"/><path d=\"M244.7,84.2H245.19M245.19,71.02V86.71M245.69,74.87H245.19\" style=\"fill: none; stroke: rgb(27, 158, 118); stroke-opacity: 1; stroke-width: 2px; opacity: 1;\"/><path d=\"M246.34,74.84H246.84M246.84,72.23V90.72M247.33,78.62H246.84\" style=\"fill: none; stroke: rgb(217, 95, 2); stroke-opacity: 1; stroke-width: 2px; opacity: 1;\"/><path d=\"M247.98,78.62H248.48M248.48,71.02V107.83M248.97,93.25H248.48\" style=\"fill: none; stroke: rgb(217, 95, 2); stroke-opacity: 1; stroke-width: 2px; opacity: 1;\"/><path d=\"M249.63,93.25H250.12M250.12,86.94V101.97M250.61,88.1H250.12\" style=\"fill: none; stroke: rgb(27, 158, 118); stroke-opacity: 1; stroke-width: 2px; opacity: 1;\"/><path d=\"M251.27,88.1H251.76M251.76,80.07V136.79M252.25,130.57H251.76\" style=\"fill: none; stroke: rgb(217, 95, 2); stroke-opacity: 1; stroke-width: 2px; opacity: 1;\"/><path d=\"M252.91,131.13H253.4M253.4,120.09V152.48M253.89,130.33H253.4\" style=\"fill: none; stroke: rgb(27, 158, 118); stroke-opacity: 1; stroke-width: 2px; opacity: 1;\"/><path d=\"M254.55,130.32H255.04M255.04,119.39V135.58M255.53,129.3H255.04\" style=\"fill: none; stroke: rgb(27, 158, 118); stroke-opacity: 1; stroke-width: 2px; opacity: 1;\"/><path d=\"M256.19,129.28H256.68M256.68,124.12V149.13M257.18,147.87H256.68\" style=\"fill: none; stroke: rgb(217, 95, 2); stroke-opacity: 1; stroke-width: 2px; opacity: 1;\"/><path d=\"M257.83,147.87H258.32M258.32,129.57V165.6M258.82,149.87H258.32\" style=\"fill: none; stroke: rgb(217, 95, 2); stroke-opacity: 1; stroke-width: 2px; opacity: 1;\"/><path d=\"M259.47,149.9H259.97M259.97,148.34V176.61M260.46,167.33H259.97\" style=\"fill: none; stroke: rgb(217, 95, 2); stroke-opacity: 1; stroke-width: 2px; opacity: 1;\"/><path d=\"M261.11,167.33H261.61M261.61,153.69V175.1M262.1,171.48H261.61\" style=\"fill: none; stroke: rgb(217, 95, 2); stroke-opacity: 1; stroke-width: 2px; opacity: 1;\"/><path d=\"M262.76,171.48H263.25M263.25,167.05V249.02M263.74,208.65H263.25\" style=\"fill: none; stroke: rgb(217, 95, 2); stroke-opacity: 1; stroke-width: 2px; opacity: 1;\"/><path d=\"M264.4,208.76H264.89M264.89,173.89V219.75M265.38,185.5H264.89\" style=\"fill: none; stroke: rgb(27, 158, 118); stroke-opacity: 1; stroke-width: 2px; opacity: 1;\"/><path d=\"M266.04,185.51H266.53M266.53,175.4V227.97M267.02,205.26H266.53\" style=\"fill: none; stroke: rgb(217, 95, 2); stroke-opacity: 1; stroke-width: 2px; opacity: 1;\"/><path d=\"M267.68,205.19H268.17M268.17,195.74V217.64M268.66,204.07H268.17\" style=\"fill: none; stroke: rgb(27, 158, 118); stroke-opacity: 1; stroke-width: 2px; opacity: 1;\"/><path d=\"M269.32,204.01H269.81M269.81,199.11V242.31M270.31,220.93H269.81\" style=\"fill: none; stroke: rgb(217, 95, 2); stroke-opacity: 1; stroke-width: 2px; opacity: 1;\"/><path d=\"M270.96,220.77H271.45M271.45,189.16V224.69M271.95,195.94H271.45\" style=\"fill: none; stroke: rgb(27, 158, 118); stroke-opacity: 1; stroke-width: 2px; opacity: 1;\"/><path d=\"M272.6,195.85H273.1M273.1,189.94V210.28M273.59,198.79H273.1\" style=\"fill: none; stroke: rgb(217, 95, 2); stroke-opacity: 1; stroke-width: 2px; opacity: 1;\"/><path d=\"M274.24,198.79H274.74M274.74,183.6V201.95M275.23,193.25H274.74\" style=\"fill: none; stroke: rgb(27, 158, 118); stroke-opacity: 1; stroke-width: 2px; opacity: 1;\"/><path d=\"M275.89,193.25H276.38M276.38,186.2V205.97M276.87,197.55H276.38\" style=\"fill: none; stroke: rgb(217, 95, 2); stroke-opacity: 1; stroke-width: 2px; opacity: 1;\"/><path d=\"M277.53,197.55H278.02M278.02,195.45V220.75M278.51,214.84H278.02\" style=\"fill: none; stroke: rgb(217, 95, 2); stroke-opacity: 1; stroke-width: 2px; opacity: 1;\"/><path d=\"M279.17,214.85H279.66M279.66,204.74V227.1M280.15,221.23H279.66\" style=\"fill: none; stroke: rgb(217, 95, 2); stroke-opacity: 1; stroke-width: 2px; opacity: 1;\"/><path d=\"M280.81,221.23H281.3M281.3,209.87V228.63M281.79,214.98H281.3\" style=\"fill: none; stroke: rgb(27, 158, 118); stroke-opacity: 1; stroke-width: 2px; opacity: 1;\"/><path d=\"M282.45,214.98H282.94M282.94,203.77V223.95M283.44,205.25H282.94\" style=\"fill: none; stroke: rgb(27, 158, 118); stroke-opacity: 1; stroke-width: 2px; opacity: 1;\"/><path d=\"M284.09,205.25H284.58M284.58,201.38V214.83M285.08,208.63H284.58\" style=\"fill: none; stroke: rgb(217, 95, 2); stroke-opacity: 1; stroke-width: 2px; opacity: 1;\"/><path d=\"M285.73,208.62H286.23M286.23,199.39V213.3M286.72,203.35H286.23\" style=\"fill: none; stroke: rgb(27, 158, 118); stroke-opacity: 1; stroke-width: 2px; opacity: 1;\"/><path d=\"M287.37,203.35H287.87M287.87,191.84V205.75M288.36,193.22H287.87\" style=\"fill: none; stroke: rgb(27, 158, 118); stroke-opacity: 1; stroke-width: 2px; opacity: 1;\"/><path d=\"M289.02,193.22H289.51M289.51,192.97V215.5M290,207.81H289.51\" style=\"fill: none; stroke: rgb(217, 95, 2); stroke-opacity: 1; stroke-width: 2px; opacity: 1;\"/><path d=\"M290.66,207.81H291.15M291.15,201.2V220.05M291.64,215.75H291.15\" style=\"fill: none; stroke: rgb(217, 95, 2); stroke-opacity: 1; stroke-width: 2px; opacity: 1;\"/><path d=\"M292.3,215.73H292.79M292.79,209.92V217.51M293.28,214.04H292.79\" style=\"fill: none; stroke: rgb(27, 158, 118); stroke-opacity: 1; stroke-width: 2px; opacity: 1;\"/><path d=\"M293.94,214.04H294.43M294.43,207.38V229.11M294.92,227.58H294.43\" style=\"fill: none; stroke: rgb(217, 95, 2); stroke-opacity: 1; stroke-width: 2px; opacity: 1;\"/><path d=\"M295.58,227.55H296.07M296.07,224.47V242.98M296.57,228.62H296.07\" style=\"fill: none; stroke: rgb(217, 95, 2); stroke-opacity: 1; stroke-width: 2px; opacity: 1;\"/><path d=\"M297.22,228.62H297.72M297.72,203.55V234.56M298.21,204.44H297.72\" style=\"fill: none; stroke: rgb(27, 158, 118); stroke-opacity: 1; stroke-width: 2px; opacity: 1;\"/><path d=\"M298.86,204.44H299.36M299.36,197.78V214.13M299.85,208.74H299.36\" style=\"fill: none; stroke: rgb(217, 95, 2); stroke-opacity: 1; stroke-width: 2px; opacity: 1;\"/><path d=\"M300.51,208.72H301M301,202.68V213.2M301.49,204.78H301\" style=\"fill: none; stroke: rgb(27, 158, 118); stroke-opacity: 1; stroke-width: 2px; opacity: 1;\"/><path d=\"M302.15,204.78H302.64M302.64,203.98V221.26M303.13,215.55H302.64\" style=\"fill: none; stroke: rgb(217, 95, 2); stroke-opacity: 1; stroke-width: 2px; opacity: 1;\"/><path d=\"M303.79,215.55H304.28M304.28,192.42V220.31M304.77,194.59H304.28\" style=\"fill: none; stroke: rgb(27, 158, 118); stroke-opacity: 1; stroke-width: 2px; opacity: 1;\"/><path d=\"M305.43,194.59H305.92M305.92,182.26V196.34M306.41,185.56H305.92\" style=\"fill: none; stroke: rgb(27, 158, 118); stroke-opacity: 1; stroke-width: 2px; opacity: 1;\"/><path d=\"M307.07,185.56H307.56M307.56,180.65V191.66M308.06,187.81H307.56\" style=\"fill: none; stroke: rgb(217, 95, 2); stroke-opacity: 1; stroke-width: 2px; opacity: 1;\"/><path d=\"M308.71,187.81H309.2M309.2,185.5V200.05M309.7,198.64H309.2\" style=\"fill: none; stroke: rgb(217, 95, 2); stroke-opacity: 1; stroke-width: 2px; opacity: 1;\"/><path d=\"M310.35,198.64H310.85M310.85,191.33V204.58M311.34,200.19H310.85\" style=\"fill: none; stroke: rgb(217, 95, 2); stroke-opacity: 1; stroke-width: 2px; opacity: 1;\"/><path d=\"M311.99,200.19H312.49M312.49,199.52V218.07M312.98,213.9H312.49\" style=\"fill: none; stroke: rgb(217, 95, 2); stroke-opacity: 1; stroke-width: 2px; opacity: 1;\"/><path d=\"M313.64,213.9H314.13M314.13,210.06V220.03M314.62,215.93H314.13\" style=\"fill: none; stroke: rgb(217, 95, 2); stroke-opacity: 1; stroke-width: 2px; opacity: 1;\"/><path d=\"M315.28,215.93H315.77M315.77,211.98V228.89M316.26,215.23H315.77\" style=\"fill: none; stroke: rgb(27, 158, 118); stroke-opacity: 1; stroke-width: 2px; opacity: 1;\"/><path d=\"M316.92,215.23H317.41M317.41,214.32V241.47M317.9,239.31H317.41\" style=\"fill: none; stroke: rgb(217, 95, 2); stroke-opacity: 1; stroke-width: 2px; opacity: 1;\"/><path d=\"M318.56,239.28H319.05M319.05,229.11V256.23M319.54,233.87H319.05\" style=\"fill: none; stroke: rgb(27, 158, 118); stroke-opacity: 1; stroke-width: 2px; opacity: 1;\"/><path d=\"M320.2,233.87H320.69M320.69,219.57V238.86M321.19,226.82H320.69\" style=\"fill: none; stroke: rgb(27, 158, 118); stroke-opacity: 1; stroke-width: 2px; opacity: 1;\"/><path d=\"M321.84,226.84H322.33M322.33,217.05V235.22M322.83,220.88H322.33\" style=\"fill: none; stroke: rgb(27, 158, 118); stroke-opacity: 1; stroke-width: 2px; opacity: 1;\"/><path d=\"M323.48,220.88H323.98M323.98,215.83V241.32M324.47,239.46H323.98\" style=\"fill: none; stroke: rgb(217, 95, 2); stroke-opacity: 1; stroke-width: 2px; opacity: 1;\"/><path d=\"M325.12,239.51H325.62M325.62,232.54V248.11M326.11,235.24H325.62\" style=\"fill: none; stroke: rgb(27, 158, 118); stroke-opacity: 1; stroke-width: 2px; opacity: 1;\"/><path d=\"M326.77,235.24H327.26M327.26,220.36V237.11M327.75,220.66H327.26\" style=\"fill: none; stroke: rgb(27, 158, 118); stroke-opacity: 1; stroke-width: 2px; opacity: 1;\"/><path d=\"M328.41,220.64H328.9M328.9,217.05V225.71M329.39,221.9H328.9\" style=\"fill: none; stroke: rgb(217, 95, 2); stroke-opacity: 1; stroke-width: 2px; opacity: 1;\"/><path d=\"M330.05,221.9H330.54M330.54,209.19V223.52M331.03,213.35H330.54\" style=\"fill: none; stroke: rgb(27, 158, 118); stroke-opacity: 1; stroke-width: 2px; opacity: 1;\"/><path d=\"M331.69,213.35H332.18M332.18,212.21V224.78M332.67,218.58H332.18\" style=\"fill: none; stroke: rgb(217, 95, 2); stroke-opacity: 1; stroke-width: 2px; opacity: 1;\"/><path d=\"M333.33,218.58H333.82M333.82,218.5V232.66M334.32,227.87H333.82\" style=\"fill: none; stroke: rgb(217, 95, 2); stroke-opacity: 1; stroke-width: 2px; opacity: 1;\"/><path d=\"M334.97,227.88H335.46M335.46,225.02V232.73M335.96,226.17H335.46\" style=\"fill: none; stroke: rgb(27, 158, 118); stroke-opacity: 1; stroke-width: 2px; opacity: 1;\"/><path d=\"M336.61,226.17H337.11M337.11,219.18V229M337.6,220.84H337.11\" style=\"fill: none; stroke: rgb(27, 158, 118); stroke-opacity: 1; stroke-width: 2px; opacity: 1;\"/><path d=\"M338.25,220.84H338.75M338.75,213.01V222.73M339.24,217.12H338.75\" style=\"fill: none; stroke: rgb(27, 158, 118); stroke-opacity: 1; stroke-width: 2px; opacity: 1;\"/><path d=\"M339.9,217.11H340.39M340.39,217.08V230.16M340.88,226.75H340.39\" style=\"fill: none; stroke: rgb(217, 95, 2); stroke-opacity: 1; stroke-width: 2px; opacity: 1;\"/><path d=\"M341.54,226.75H342.03M342.03,218.13V227.71M342.52,223.55H342.03\" style=\"fill: none; stroke: rgb(27, 158, 118); stroke-opacity: 1; stroke-width: 2px; opacity: 1;\"/><path d=\"M343.18,223.55H343.67M343.67,218.49V226.22M344.16,225.71H343.67\" style=\"fill: none; stroke: rgb(217, 95, 2); stroke-opacity: 1; stroke-width: 2px; opacity: 1;\"/><path d=\"M344.82,225.71H345.31M345.31,225.31V236.48M345.8,231.67H345.31\" style=\"fill: none; stroke: rgb(217, 95, 2); stroke-opacity: 1; stroke-width: 2px; opacity: 1;\"/><path d=\"M346.46,231.67H346.95M346.95,224.28V235.37M347.45,225.99H346.95\" style=\"fill: none; stroke: rgb(27, 158, 118); stroke-opacity: 1; stroke-width: 2px; opacity: 1;\"/><path d=\"M348.1,225.99H348.59M348.59,223.3V230.89M349.09,227.88H348.59\" style=\"fill: none; stroke: rgb(217, 95, 2); stroke-opacity: 1; stroke-width: 2px; opacity: 1;\"/><path d=\"M349.74,227.88H350.24M350.24,220.86V229.07M350.73,223.32H350.24\" style=\"fill: none; stroke: rgb(27, 158, 118); stroke-opacity: 1; stroke-width: 2px; opacity: 1;\"/><path d=\"M351.39,223.32H351.88M351.88,220.79V232.98M352.37,230.39H351.88\" style=\"fill: none; stroke: rgb(217, 95, 2); stroke-opacity: 1; stroke-width: 2px; opacity: 1;\"/><path d=\"M353.03,230.39H353.52M353.52,228.86V235.73M354.01,232.55H353.52\" style=\"fill: none; stroke: rgb(217, 95, 2); stroke-opacity: 1; stroke-width: 2px; opacity: 1;\"/><path d=\"M354.67,232.55H355.16M355.16,230.23V239.66M355.65,232H355.16\" style=\"fill: none; stroke: rgb(27, 158, 118); stroke-opacity: 1; stroke-width: 2px; opacity: 1;\"/><path d=\"M356.31,232H356.8M356.8,229.8V242.18M357.29,237.67H356.8\" style=\"fill: none; stroke: rgb(217, 95, 2); stroke-opacity: 1; stroke-width: 2px; opacity: 1;\"/><path d=\"M357.95,237.71H358.44M358.44,235.45V242.86M358.94,240.67H358.44\" style=\"fill: none; stroke: rgb(217, 95, 2); stroke-opacity: 1; stroke-width: 2px; opacity: 1;\"/><path d=\"M359.59,240.67H360.08M360.08,237.22V241.99M360.58,239.85H360.08\" style=\"fill: none; stroke: rgb(27, 158, 118); stroke-opacity: 1; stroke-width: 2px; opacity: 1;\"/><path d=\"M361.23,239.85H361.73M361.73,234.32V242.33M362.22,238.29H361.73\" style=\"fill: none; stroke: rgb(27, 158, 118); stroke-opacity: 1; stroke-width: 2px; opacity: 1;\"/><path d=\"M362.87,238.29H363.37M363.37,237.56V246.56M363.86,243.95H363.37\" style=\"fill: none; stroke: rgb(217, 95, 2); stroke-opacity: 1; stroke-width: 2px; opacity: 1;\"/><path d=\"M364.52,243.95H365.01M365.01,242.6V253.37M365.5,250.28H365.01\" style=\"fill: none; stroke: rgb(217, 95, 2); stroke-opacity: 1; stroke-width: 2px; opacity: 1;\"/><path d=\"M366.16,250.28H366.65M366.65,231.77V252.14M367.14,236.08H366.65\" style=\"fill: none; stroke: rgb(27, 158, 118); stroke-opacity: 1; stroke-width: 2px; opacity: 1;\"/><path d=\"M367.8,236.08H368.29M368.29,233.38V238.71M368.78,235.21H368.29\" style=\"fill: none; stroke: rgb(27, 158, 118); stroke-opacity: 1; stroke-width: 2px; opacity: 1;\"/><path d=\"M369.44,235.21H369.93M369.93,226.99V237.41M370.42,227.09H369.93\" style=\"fill: none; stroke: rgb(27, 158, 118); stroke-opacity: 1; stroke-width: 2px; opacity: 1;\"/><path d=\"M371.08,227.09H371.57M371.57,221.86V228.5M372.07,223.32H371.57\" style=\"fill: none; stroke: rgb(27, 158, 118); stroke-opacity: 1; stroke-width: 2px; opacity: 1;\"/><path d=\"M372.72,223.3H373.21M373.21,216.45V225.78M373.71,216.55H373.21\" style=\"fill: none; stroke: rgb(27, 158, 118); stroke-opacity: 1; stroke-width: 2px; opacity: 1;\"/><path d=\"M374.36,216.55H374.86M374.86,185.36V217.61M375.35,205.35H374.86\" style=\"fill: none; stroke: rgb(27, 158, 118); stroke-opacity: 1; stroke-width: 2px; opacity: 1;\"/><path d=\"M376,205.32H376.5M376.5,191.44V210.5M376.99,191.95H376.5\" style=\"fill: none; stroke: rgb(27, 158, 118); stroke-opacity: 1; stroke-width: 2px; opacity: 1;\"/><path d=\"M377.65,191.96H378.14M378.14,183.25V196.09M378.63,188.56H378.14\" style=\"fill: none; stroke: rgb(27, 158, 118); stroke-opacity: 1; stroke-width: 2px; opacity: 1;\"/><path d=\"M379.29,188.56H379.78M379.78,184.82V193.51M380.27,188.58H379.78\" style=\"fill: none; stroke: rgb(217, 95, 2); stroke-opacity: 1; stroke-width: 2px; opacity: 1;\"/><path d=\"M380.93,188.57H381.42M381.42,174.7V198.86M381.91,175.37H381.42\" style=\"fill: none; stroke: rgb(27, 158, 118); stroke-opacity: 1; stroke-width: 2px; opacity: 1;\"/><path d=\"M382.57,175.37H383.06M383.06,173.91V182.64M383.55,179.86H383.06\" style=\"fill: none; stroke: rgb(217, 95, 2); stroke-opacity: 1; stroke-width: 2px; opacity: 1;\"/><path d=\"M384.21,179.86H384.7M384.7,173V192.17M385.2,189.61H384.7\" style=\"fill: none; stroke: rgb(217, 95, 2); stroke-opacity: 1; stroke-width: 2px; opacity: 1;\"/><path d=\"M385.85,189.58H386.34M386.34,185.78V196.58M386.84,193.82H386.34\" style=\"fill: none; stroke: rgb(217, 95, 2); stroke-opacity: 1; stroke-width: 2px; opacity: 1;\"/><path d=\"M387.49,193.83H387.99M387.99,190.01V202.91M388.48,199.5H387.99\" style=\"fill: none; stroke: rgb(217, 95, 2); stroke-opacity: 1; stroke-width: 2px; opacity: 1;\"/><path d=\"M389.13,199.5H389.63M389.63,188.86V203.71M390.12,190.35H389.63\" style=\"fill: none; stroke: rgb(27, 158, 118); stroke-opacity: 1; stroke-width: 2px; opacity: 1;\"/><path d=\"M390.78,190.35H391.27M391.27,180.53V204.77M391.76,183.48H391.27\" style=\"fill: none; stroke: rgb(27, 158, 118); stroke-opacity: 1; stroke-width: 2px; opacity: 1;\"/><path d=\"M392.42,183.48H392.91M392.91,168.21V189.56M393.4,171.56H392.91\" style=\"fill: none; stroke: rgb(27, 158, 118); stroke-opacity: 1; stroke-width: 2px; opacity: 1;\"/><path d=\"M394.06,171.56H394.55M394.55,160.32V173.92M395.04,161.09H394.55\" style=\"fill: none; stroke: rgb(27, 158, 118); stroke-opacity: 1; stroke-width: 2px; opacity: 1;\"/><path d=\"M395.7,161.09H396.19M396.19,156.64V169M396.68,165.78H396.19\" style=\"fill: none; stroke: rgb(217, 95, 2); stroke-opacity: 1; stroke-width: 2px; opacity: 1;\"/><path d=\"M397.34,165.78H397.83M397.83,149.74V171.91M398.33,150.95H397.83\" style=\"fill: none; stroke: rgb(27, 158, 118); stroke-opacity: 1; stroke-width: 2px; opacity: 1;\"/><path d=\"M398.98,150.97H399.47M399.47,148.25V160.99M399.97,154.98H399.47\" style=\"fill: none; stroke: rgb(217, 95, 2); stroke-opacity: 1; stroke-width: 2px; opacity: 1;\"/><path d=\"M400.62,154.98H401.12M401.12,147.99V156.45M401.61,155.43H401.12\" style=\"fill: none; stroke: rgb(217, 95, 2); stroke-opacity: 1; stroke-width: 2px; opacity: 1;\"/><path d=\"M402.27,155.43H402.76M402.76,151.16V165.93M403.25,162.14H402.76\" style=\"fill: none; stroke: rgb(217, 95, 2); stroke-opacity: 1; stroke-width: 2px; opacity: 1;\"/><path d=\"M403.91,162.13H404.4M404.4,141.1V163.23M404.89,141.62H404.4\" style=\"fill: none; stroke: rgb(27, 158, 118); stroke-opacity: 1; stroke-width: 2px; opacity: 1;\"/><path d=\"M405.55,141.62H406.04M406.04,139.54V152.65M406.53,146.03H406.04\" style=\"fill: none; stroke: rgb(217, 95, 2); stroke-opacity: 1; stroke-width: 2px; opacity: 1;\"/><path d=\"M407.19,146.03H407.68M407.68,144.2V155.49M408.17,146.6H407.68\" style=\"fill: none; stroke: rgb(217, 95, 2); stroke-opacity: 1; stroke-width: 2px; opacity: 1;\"/><path d=\"M408.83,146.6H409.32M409.32,140.08V154.53M409.82,153.07H409.32\" style=\"fill: none; stroke: rgb(217, 95, 2); stroke-opacity: 1; stroke-width: 2px; opacity: 1;\"/><path d=\"M410.47,153.07H410.96M410.96,145.48V162.28M411.46,160.34H410.96\" style=\"fill: none; stroke: rgb(217, 95, 2); stroke-opacity: 1; stroke-width: 2px; opacity: 1;\"/><path d=\"M412.11,160.34H412.61M412.61,152.48V163.32M413.1,160.29H412.61\" style=\"fill: none; stroke: rgb(27, 158, 118); stroke-opacity: 1; stroke-width: 2px; opacity: 1;\"/><path d=\"M413.75,160.32H414.25M414.25,146.24V164.98M414.74,147.89H414.25\" style=\"fill: none; stroke: rgb(27, 158, 118); stroke-opacity: 1; stroke-width: 2px; opacity: 1;\"/><path d=\"M415.4,147.89H415.89M415.89,132.06V148.72M416.38,132.43H415.89\" style=\"fill: none; stroke: rgb(27, 158, 118); stroke-opacity: 1; stroke-width: 2px; opacity: 1;\"/><path d=\"M417.04,132.43H417.53M417.53,129.81V139.07M418.02,135.45H417.53\" style=\"fill: none; stroke: rgb(217, 95, 2); stroke-opacity: 1; stroke-width: 2px; opacity: 1;\"/><path d=\"M418.68,135.45H419.17M419.17,131.36V140.11M419.66,132.93H419.17\" style=\"fill: none; stroke: rgb(27, 158, 118); stroke-opacity: 1; stroke-width: 2px; opacity: 1;\"/><path d=\"M420.32,132.93H420.81M420.81,125.32V134.2M421.3,131.43H420.81\" style=\"fill: none; stroke: rgb(27, 158, 118); stroke-opacity: 1; stroke-width: 2px; opacity: 1;\"/><path d=\"M421.96,131.43H422.45M422.45,129.19V142.82M422.95,142.38H422.45\" style=\"fill: none; stroke: rgb(217, 95, 2); stroke-opacity: 1; stroke-width: 2px; opacity: 1;\"/><path d=\"M423.6,142.38H424.09M424.09,132.78V145.68M424.59,134.54H424.09\" style=\"fill: none; stroke: rgb(27, 158, 118); stroke-opacity: 1; stroke-width: 2px; opacity: 1;\"/><path d=\"M425.24,134.54H425.74M425.74,132.25V150.97M426.23,147.38H425.74\" style=\"fill: none; stroke: rgb(217, 95, 2); stroke-opacity: 1; stroke-width: 2px; opacity: 1;\"/><path d=\"M426.88,147.38H427.38M427.38,133.47V150.38M427.87,133.95H427.38\" style=\"fill: none; stroke: rgb(27, 158, 118); stroke-opacity: 1; stroke-width: 2px; opacity: 1;\"/><path d=\"M428.53,133.95H429.02M429.02,132.57V138.32M429.51,135.01H429.02\" style=\"fill: none; stroke: rgb(217, 95, 2); stroke-opacity: 1; stroke-width: 2px; opacity: 1;\"/><path d=\"M430.17,135.01H430.66M430.66,130.56V141.84M431.15,135.78H430.66\" style=\"fill: none; stroke: rgb(217, 95, 2); stroke-opacity: 1; stroke-width: 2px; opacity: 1;\"/><path d=\"M431.81,135.78H432.3M432.3,135.05V147.33M432.79,146.55H432.3\" style=\"fill: none; stroke: rgb(217, 95, 2); stroke-opacity: 1; stroke-width: 2px; opacity: 1;\"/><path d=\"M433.45,146.55H433.94M433.94,138.92V148.25M434.43,145.83H433.94\" style=\"fill: none; stroke: rgb(27, 158, 118); stroke-opacity: 1; stroke-width: 2px; opacity: 1;\"/><path d=\"M435.09,145.83H435.58M435.58,133.43V149.39M436.08,135.52H435.58\" style=\"fill: none; stroke: rgb(27, 158, 118); stroke-opacity: 1; stroke-width: 2px; opacity: 1;\"/><path d=\"M436.73,135.52H437.22M437.22,125.63V136.88M437.72,132.89H437.22\" style=\"fill: none; stroke: rgb(27, 158, 118); stroke-opacity: 1; stroke-width: 2px; opacity: 1;\"/><path d=\"M438.37,132.89H438.87M438.87,122.31V138.5M439.36,128.35H438.87\" style=\"fill: none; stroke: rgb(27, 158, 118); stroke-opacity: 1; stroke-width: 2px; opacity: 1;\"/><path d=\"M440.01,128.35H440.51M440.51,125.11V132.14M441,128.85H440.51\" style=\"fill: none; stroke: rgb(217, 95, 2); stroke-opacity: 1; stroke-width: 2px; opacity: 1;\"/><path d=\"M441.66,128.84H442.15M442.15,116.88V131.66M442.64,117.74H442.15\" style=\"fill: none; stroke: rgb(27, 158, 118); stroke-opacity: 1; stroke-width: 2px; opacity: 1;\"/><path d=\"M443.3,117.74H443.79M443.79,111.57V122.49M444.28,112.27H443.79\" style=\"fill: none; stroke: rgb(27, 158, 118); stroke-opacity: 1; stroke-width: 2px; opacity: 1;\"/><path d=\"M444.94,112.25H445.43M445.43,110.72V171.52M445.92,147.27H445.43\" style=\"fill: none; stroke: rgb(217, 95, 2); stroke-opacity: 1; stroke-width: 2px; opacity: 1;\"/><path d=\"M446.58,147.24H447.07M447.07,144.39V162.06M447.56,152.19H447.07\" style=\"fill: none; stroke: rgb(217, 95, 2); stroke-opacity: 1; stroke-width: 2px; opacity: 1;\"/><path d=\"M448.22,152.19H448.71M448.71,144.03V155.41M449.21,150.09H448.71\" style=\"fill: none; stroke: rgb(27, 158, 118); stroke-opacity: 1; stroke-width: 2px; opacity: 1;\"/><path d=\"M449.86,150.09H450.35M450.35,146.24V163.75M450.85,159.41H450.35\" style=\"fill: none; stroke: rgb(217, 95, 2); stroke-opacity: 1; stroke-width: 2px; opacity: 1;\"/><path d=\"M451.5,159.46H452M452,152.55V160.19M452.49,157.46H452\" style=\"fill: none; stroke: rgb(27, 158, 118); stroke-opacity: 1; stroke-width: 2px; opacity: 1;\"/><path d=\"M453.15,157.46H453.64M453.64,149.7V160.07M454.13,152.32H453.64\" style=\"fill: none; stroke: rgb(27, 158, 118); stroke-opacity: 1; stroke-width: 2px; opacity: 1;\"/><path d=\"M454.79,152.32H455.28M455.28,147.17V168.35M455.77,158.87H455.28\" style=\"fill: none; stroke: rgb(217, 95, 2); stroke-opacity: 1; stroke-width: 2px; opacity: 1;\"/><path d=\"M456.43,158.87H456.92M456.92,144.93V160.96M457.41,145.77H456.92\" style=\"fill: none; stroke: rgb(27, 158, 118); stroke-opacity: 1; stroke-width: 2px; opacity: 1;\"/><path d=\"M458.07,145.82H458.56M458.56,137.39V148.36M459.05,139.68H458.56\" style=\"fill: none; stroke: rgb(27, 158, 118); stroke-opacity: 1; stroke-width: 2px; opacity: 1;\"/><path d=\"M459.71,139.68H460.2M460.2,137.05V146.32M460.7,141.99H460.2\" style=\"fill: none; stroke: rgb(217, 95, 2); stroke-opacity: 1; stroke-width: 2px; opacity: 1;\"/><path d=\"M461.35,141.99H461.84M461.84,139.5V148.26M462.34,144.63H461.84\" style=\"fill: none; stroke: rgb(217, 95, 2); stroke-opacity: 1; stroke-width: 2px; opacity: 1;\"/><path d=\"M462.99,144.63H463.49M463.49,135.32V146.23M463.98,138.64H463.49\" style=\"fill: none; stroke: rgb(27, 158, 118); stroke-opacity: 1; stroke-width: 2px; opacity: 1;\"/><path d=\"M464.63,138.64H465.13M465.13,138.16V147.47M465.62,144.98H465.13\" style=\"fill: none; stroke: rgb(217, 95, 2); stroke-opacity: 1; stroke-width: 2px; opacity: 1;\"/><path d=\"M466.28,144.98H466.77M466.77,144.35V173.59M467.26,170.48H466.77\" style=\"fill: none; stroke: rgb(217, 95, 2); stroke-opacity: 1; stroke-width: 2px; opacity: 1;\"/><path d=\"M467.92,170.48H468.41M468.41,166.72V191.09M468.9,184.25H468.41\" style=\"fill: none; stroke: rgb(217, 95, 2); stroke-opacity: 1; stroke-width: 2px; opacity: 1;\"/><path d=\"M469.56,184.25H470.05M470.05,164.54V185.27M470.54,167.3H470.05\" style=\"fill: none; stroke: rgb(27, 158, 118); stroke-opacity: 1; stroke-width: 2px; opacity: 1;\"/><path d=\"M471.2,167.28H471.69M471.69,158.64V170.16M472.18,159.32H471.69\" style=\"fill: none; stroke: rgb(27, 158, 118); stroke-opacity: 1; stroke-width: 2px; opacity: 1;\"/><path d=\"M472.84,159.32H473.33M473.33,157.3V184.61M473.83,171.72H473.33\" style=\"fill: none; stroke: rgb(217, 95, 2); stroke-opacity: 1; stroke-width: 2px; opacity: 1;\"/><path d=\"M474.48,171.72H474.97M474.97,170.78V178.75M475.47,172.57H474.97\" style=\"fill: none; stroke: rgb(217, 95, 2); stroke-opacity: 1; stroke-width: 2px; opacity: 1;\"/><path d=\"M476.12,172.57H476.62M476.62,164.85V184.15M477.11,169.61H476.62\" style=\"fill: none; stroke: rgb(27, 158, 118); stroke-opacity: 1; stroke-width: 2px; opacity: 1;\"/><path d=\"M477.76,169.61H478.26M478.26,162.43V176.02M478.75,175.72H478.26\" style=\"fill: none; stroke: rgb(217, 95, 2); stroke-opacity: 1; stroke-width: 2px; opacity: 1;\"/><path d=\"M479.41,175.72H479.9M479.9,171.86V183.32M480.39,182.49H479.9\" style=\"fill: none; stroke: rgb(217, 95, 2); stroke-opacity: 1; stroke-width: 2px; opacity: 1;\"/><path d=\"M481.05,182.49H481.54M481.54,173.05V184.13M482.03,179.48H481.54\" style=\"fill: none; stroke: rgb(27, 158, 118); stroke-opacity: 1; stroke-width: 2px; opacity: 1;\"/><path d=\"M482.69,179.48H483.18M483.18,163.69V180.17M483.67,165.61H483.18\" style=\"fill: none; stroke: rgb(27, 158, 118); stroke-opacity: 1; stroke-width: 2px; opacity: 1;\"/><path d=\"M484.33,165.63H484.82M484.82,137.42V168.87M485.31,139.55H484.82\" style=\"fill: none; stroke: rgb(27, 158, 118); stroke-opacity: 1; stroke-width: 2px; opacity: 1;\"/><path d=\"M485.97,139.55H486.46M486.46,138.38V143.85M486.96,142.61H486.46\" style=\"fill: none; stroke: rgb(217, 95, 2); stroke-opacity: 1; stroke-width: 2px; opacity: 1;\"/><path d=\"M487.61,142.61H488.1M488.1,133V145.91M488.6,139.2H488.1\" style=\"fill: none; stroke: rgb(27, 158, 118); stroke-opacity: 1; stroke-width: 2px; opacity: 1;\"/><path d=\"M489.25,139.2H489.75M489.75,131.14V147.1M490.24,133.02H489.75\" style=\"fill: none; stroke: rgb(27, 158, 118); stroke-opacity: 1; stroke-width: 2px; opacity: 1;\"/><path d=\"M490.89,133.02H491.39M491.39,116.96V134.24M491.88,119.46H491.39\" style=\"fill: none; stroke: rgb(27, 158, 118); stroke-opacity: 1; stroke-width: 2px; opacity: 1;\"/><path d=\"M492.54,119.46H493.03M493.03,93.65V126.03M493.52,96.27H493.03\" style=\"fill: none; stroke: rgb(27, 158, 118); stroke-opacity: 1; stroke-width: 2px; opacity: 1;\"/><path d=\"M494.18,96.27H494.67M494.67,96.17V108.09M495.16,105.5H494.67\" style=\"fill: none; stroke: rgb(217, 95, 2); stroke-opacity: 1; stroke-width: 2px; opacity: 1;\"/><path d=\"M495.82,105.5H496.31M496.31,91.54V106.51M496.8,104.5H496.31\" style=\"fill: none; stroke: rgb(27, 158, 118); stroke-opacity: 1; stroke-width: 2px; opacity: 1;\"/><path d=\"M497.46,104.47H497.95M497.95,95.22V106.25M498.44,98.48H497.95\" style=\"fill: none; stroke: rgb(27, 158, 118); stroke-opacity: 1; stroke-width: 2px; opacity: 1;\"/><path d=\"M499.1,98.48H499.59M499.59,88.75V103.72M500.09,100.23H499.59\" style=\"fill: none; stroke: rgb(217, 95, 2); stroke-opacity: 1; stroke-width: 2px; opacity: 1;\"/><path d=\"M500.74,100.23H501.23M501.23,81.04V101.7M501.73,83.26H501.23\" style=\"fill: none; stroke: rgb(27, 158, 118); stroke-opacity: 1; stroke-width: 2px; opacity: 1;\"/><path d=\"M502.38,83.26H502.88M502.88,82V104.94M503.37,92.16H502.88\" style=\"fill: none; stroke: rgb(217, 95, 2); stroke-opacity: 1; stroke-width: 2px; opacity: 1;\"/><path d=\"M504.03,92.16H504.52M504.52,81.42V103.2M505.01,83.89H504.52\" style=\"fill: none; stroke: rgb(27, 158, 118); stroke-opacity: 1; stroke-width: 2px; opacity: 1;\"/><path d=\"M505.67,83.87H506.16M506.16,76.86V87.2M506.65,84.01H506.16\" style=\"fill: none; stroke: rgb(217, 95, 2); stroke-opacity: 1; stroke-width: 2px; opacity: 1;\"/><path d=\"M507.31,84.01H507.8M507.8,50.31V87.01M508.29,57.91H507.8\" style=\"fill: none; stroke: rgb(27, 158, 118); stroke-opacity: 1; stroke-width: 2px; opacity: 1;\"/><path d=\"M508.95,57.91H509.44M509.44,53.65V67.1M509.93,62.72H509.44\" style=\"fill: none; stroke: rgb(217, 95, 2); stroke-opacity: 1; stroke-width: 2px; opacity: 1;\"/><path d=\"M510.59,62.72H511.08M511.08,57.64V74.26M511.58,58.78H511.08\" style=\"fill: none; stroke: rgb(27, 158, 118); stroke-opacity: 1; stroke-width: 2px; opacity: 1;\"/><path d=\"M512.23,58.78H512.72M512.72,51.74V68.94M513.22,55.88H512.72\" style=\"fill: none; stroke: rgb(27, 158, 118); stroke-opacity: 1; stroke-width: 2px; opacity: 1;\"/><path d=\"M513.87,55.9H514.37M514.37,40.94V60.03M514.86,42.18H514.37\" style=\"fill: none; stroke: rgb(27, 158, 118); stroke-opacity: 1; stroke-width: 2px; opacity: 1;\"/><path d=\"M515.51,42.18H516.01M516.01,25.77V47M516.5,31.79H516.01\" style=\"fill: none; stroke: rgb(27, 158, 118); stroke-opacity: 1; stroke-width: 2px; opacity: 1;\"/><path d=\"M517.16,31.79H517.65M517.65,27.94V55.94M518.14,54.77H517.65\" style=\"fill: none; stroke: rgb(217, 95, 2); stroke-opacity: 1; stroke-width: 2px; opacity: 1;\"/><path d=\"M518.8,54.77H519.29M519.29,45.48V68M519.78,63.85H519.29\" style=\"fill: none; stroke: rgb(217, 95, 2); stroke-opacity: 1; stroke-width: 2px; opacity: 1;\"/><path d=\"M520.44,63.85H520.93M520.93,57.46V70.65M521.42,60.24H520.93\" style=\"fill: none; stroke: rgb(27, 158, 118); stroke-opacity: 1; stroke-width: 2px; opacity: 1;\"/><path d=\"M522.08,60.24H522.57M522.57,58.95V70.96M523.06,62.86H522.57\" style=\"fill: none; stroke: rgb(217, 95, 2); stroke-opacity: 1; stroke-width: 2px; opacity: 1;\"/><path d=\"M523.72,62.86H524.21M524.21,45.61V64.08M524.71,49.43H524.21\" style=\"fill: none; stroke: rgb(27, 158, 118); stroke-opacity: 1; stroke-width: 2px; opacity: 1;\"/><path d=\"M525.36,49.43H525.85M525.85,48.13V69.1M526.35,66.02H525.85\" style=\"fill: none; stroke: rgb(217, 95, 2); stroke-opacity: 1; stroke-width: 2px; opacity: 1;\"/><path d=\"M527,66.02H527.5M527.5,58.98V80.07M527.99,77.58H527.5\" style=\"fill: none; stroke: rgb(217, 95, 2); stroke-opacity: 1; stroke-width: 2px; opacity: 1;\"/><path d=\"M528.64,77.58H529.14M529.14,52.93V81.16M529.63,64.53H529.14\" style=\"fill: none; stroke: rgb(27, 158, 118); stroke-opacity: 1; stroke-width: 2px; opacity: 1;\"/><path d=\"M530.29,64.53H530.78M530.78,50.02V66.95M531.27,54.41H530.78\" style=\"fill: none; stroke: rgb(27, 158, 118); stroke-opacity: 1; stroke-width: 2px; opacity: 1;\"/><path d=\"M531.93,54.41H532.42M532.42,53.77V63.94M532.91,56.79H532.42\" style=\"fill: none; stroke: rgb(217, 95, 2); stroke-opacity: 1; stroke-width: 2px; opacity: 1;\"/><path d=\"M533.57,56.79H534.06M534.06,53.49V68.33M534.55,60.16H534.06\" style=\"fill: none; stroke: rgb(217, 95, 2); stroke-opacity: 1; stroke-width: 2px; opacity: 1;\"/><path d=\"M535.21,60.16H535.7M535.7,53.3V71.59M536.19,62.51H535.7\" style=\"fill: none; stroke: rgb(217, 95, 2); stroke-opacity: 1; stroke-width: 2px; opacity: 1;\"/><path d=\"M536.85,62.51H537.34M537.34,42.24V64.23M537.84,48.58H537.34\" style=\"fill: none; stroke: rgb(27, 158, 118); stroke-opacity: 1; stroke-width: 2px; opacity: 1;\"/><path d=\"M538.49,48.57H538.98M538.98,46.89V65.69M539.48,50.53H538.98\" style=\"fill: none; stroke: rgb(217, 95, 2); stroke-opacity: 1; stroke-width: 2px; opacity: 1;\"/><path d=\"M540.13,50.53H540.63M540.63,49.38V63.92M541.12,59.59H540.63\" style=\"fill: none; stroke: rgb(217, 95, 2); stroke-opacity: 1; stroke-width: 2px; opacity: 1;\"/><path d=\"M541.77,59.59H542.27M542.27,52.34V63.65M542.76,62.35H542.27\" style=\"fill: none; stroke: rgb(217, 95, 2); stroke-opacity: 1; stroke-width: 2px; opacity: 1;\"/><path d=\"M543.42,62.33H543.91M543.91,58.59V67.7M544.4,59.13H543.91\" style=\"fill: none; stroke: rgb(27, 158, 118); stroke-opacity: 1; stroke-width: 2px; opacity: 1;\"/><path d=\"M545.06,59.13H545.55M545.55,48.17V60.02M546.04,48.25H545.55\" style=\"fill: none; stroke: rgb(27, 158, 118); stroke-opacity: 1; stroke-width: 2px; opacity: 1;\"/><path d=\"M546.7,48.25H547.19M547.19,21.01V48.25M547.68,22.59H547.19\" style=\"fill: none; stroke: rgb(27, 158, 118); stroke-opacity: 1; stroke-width: 2px; opacity: 1;\"/><path d=\"M548.34,22.59H548.83M548.83,16.57V30.46M549.32,26.08H548.83\" style=\"fill: none; stroke: rgb(217, 95, 2); stroke-opacity: 1; stroke-width: 2px; opacity: 1;\"/><path d=\"M549.98,26.08H550.47M550.47,13.7V50.97M550.97,38.54H550.47\" style=\"fill: none; stroke: rgb(217, 95, 2); stroke-opacity: 1; stroke-width: 2px; opacity: 1;\"/><path d=\"M551.62,38.54H552.11M552.11,34.21V43.27M552.61,39.2H552.11\" style=\"fill: none; stroke: rgb(217, 95, 2); stroke-opacity: 1; stroke-width: 2px; opacity: 1;\"/><path d=\"M553.26,39.2H553.76M553.76,35.12V54.26M554.25,43.13H553.76\" style=\"fill: none; stroke: rgb(217, 95, 2); stroke-opacity: 1; stroke-width: 2px; opacity: 1;\"/><path d=\"M554.91,43.13H555.4M555.4,37.84V47.73M555.89,41.58H555.4\" style=\"fill: none; stroke: rgb(27, 158, 118); stroke-opacity: 1; stroke-width: 2px; opacity: 1;\"/><path d=\"M556.55,41.58H557.04M557.04,34.51V46.43M557.53,34.7H557.04\" style=\"fill: none; stroke: rgb(27, 158, 118); stroke-opacity: 1; stroke-width: 2px; opacity: 1;\"/><path d=\"M558.19,34.7H558.68M558.68,29.38V47.49M559.17,46.24H558.68\" style=\"fill: none; stroke: rgb(217, 95, 2); stroke-opacity: 1; stroke-width: 2px; opacity: 1;\"/><path d=\"M559.83,46.24H560.32M560.32,46.18V76.61M560.81,67.65H560.32\" style=\"fill: none; stroke: rgb(217, 95, 2); stroke-opacity: 1; stroke-width: 2px; opacity: 1;\"/><path d=\"M561.47,67.65H561.96M561.96,62.93V77.82M562.46,65.92H561.96\" style=\"fill: none; stroke: rgb(27, 158, 118); stroke-opacity: 1; stroke-width: 2px; opacity: 1;\"/><path d=\"M563.11,65.92H563.6M563.6,62.11V89.28M564.1,86.76H563.6\" style=\"fill: none; stroke: rgb(217, 95, 2); stroke-opacity: 1; stroke-width: 2px; opacity: 1;\"/><path d=\"M564.75,86.76H565.25M565.25,78.14V94.55M565.74,79.76H565.25\" style=\"fill: none; stroke: rgb(27, 158, 118); stroke-opacity: 1; stroke-width: 2px; opacity: 1;\"/><path d=\"M566.39,79.73H566.89M566.89,68.94V83.98M567.38,69.77H566.89\" style=\"fill: none; stroke: rgb(27, 158, 118); stroke-opacity: 1; stroke-width: 2px; opacity: 1;\"/><path d=\"M568.04,69.77H568.53M568.53,67.82V77.14M569.02,76.32H568.53\" style=\"fill: none; stroke: rgb(217, 95, 2); stroke-opacity: 1; stroke-width: 2px; opacity: 1;\"/><path d=\"M569.68,76.34H570.17M570.17,71.36V94.49M570.66,90.65H570.17\" style=\"fill: none; stroke: rgb(217, 95, 2); stroke-opacity: 1; stroke-width: 2px; opacity: 1;\"/><path d=\"M571.32,90.67H571.81M571.81,80.01V96.26M572.3,82.84H571.81\" style=\"fill: none; stroke: rgb(27, 158, 118); stroke-opacity: 1; stroke-width: 2px; opacity: 1;\"/><path d=\"M572.96,82.84H573.45M573.45,81.67V93.12M573.94,85.27H573.45\" style=\"fill: none; stroke: rgb(217, 95, 2); stroke-opacity: 1; stroke-width: 2px; opacity: 1;\"/><path d=\"M574.6,85.27H575.09M575.09,71.63V86.11M575.59,74.28H575.09\" style=\"fill: none; stroke: rgb(27, 158, 118); stroke-opacity: 1; stroke-width: 2px; opacity: 1;\"/><path d=\"M576.24,74.28H576.73M576.73,73.13V107.22M577.23,105.86H576.73\" style=\"fill: none; stroke: rgb(217, 95, 2); stroke-opacity: 1; stroke-width: 2px; opacity: 1;\"/><path d=\"M577.88,105.87H578.38M578.38,96.48V106.56M578.87,99.86H578.38\" style=\"fill: none; stroke: rgb(27, 158, 118); stroke-opacity: 1; stroke-width: 2px; opacity: 1;\"/><path d=\"M579.52,99.88H580.02M580.02,83.42V108.69M580.51,84.45H580.02\" style=\"fill: none; stroke: rgb(27, 158, 118); stroke-opacity: 1; stroke-width: 2px; opacity: 1;\"/><path d=\"M581.17,84.45H581.66M581.66,74.85V88.12M582.15,81.42H581.66\" style=\"fill: none; stroke: rgb(27, 158, 118); stroke-opacity: 1; stroke-width: 2px; opacity: 1;\"/><path d=\"M582.81,81.42H583.3M583.3,72.97V92.89M583.79,86.4H583.3\" style=\"fill: none; stroke: rgb(217, 95, 2); stroke-opacity: 1; stroke-width: 2px; opacity: 1;\"/><path d=\"M584.45,86.4H584.94M584.94,73.71V89.38M585.43,84.99H584.94\" style=\"fill: none; stroke: rgb(27, 158, 118); stroke-opacity: 1; stroke-width: 2px; opacity: 1;\"/><path d=\"M586.09,84.99H586.58M586.58,83.84V93.48M587.07,89.24H586.58\" style=\"fill: none; stroke: rgb(217, 95, 2); stroke-opacity: 1; stroke-width: 2px; opacity: 1;\"/><path d=\"M587.73,89.22H588.22M588.22,82.48V118.2M588.72,106.61H588.22\" style=\"fill: none; stroke: rgb(217, 95, 2); stroke-opacity: 1; stroke-width: 2px; opacity: 1;\"/><path d=\"M589.37,106.61H589.86M589.86,105.06V176.61M590.36,133.46H589.86\" style=\"fill: none; stroke: rgb(217, 95, 2); stroke-opacity: 1; stroke-width: 2px; opacity: 1;\"/><path d=\"M591.01,133.46H591.51M591.51,130.16V142.06M592,131.98H591.51\" style=\"fill: none; stroke: rgb(27, 158, 118); stroke-opacity: 1; stroke-width: 2px; opacity: 1;\"/><path d=\"M592.65,131.98H593.15M593.15,122.96V145.84M593.64,125.68H593.15\" style=\"fill: none; stroke: rgb(27, 158, 118); stroke-opacity: 1; stroke-width: 2px; opacity: 1;\"/><path d=\"M594.3,125.68H594.79M594.79,116.66V128.1M595.28,124.79H594.79\" style=\"fill: none; stroke: rgb(27, 158, 118); stroke-opacity: 1; stroke-width: 2px; opacity: 1;\"/><path d=\"M595.94,124.79H596.43M596.43,121.1V136.79M596.92,125.5H596.43\" style=\"fill: none; stroke: rgb(217, 95, 2); stroke-opacity: 1; stroke-width: 2px; opacity: 1;\"/><path d=\"M597.58,125.5H598.07M598.07,123.53V144.51M598.56,143.15H598.07\" style=\"fill: none; stroke: rgb(217, 95, 2); stroke-opacity: 1; stroke-width: 2px; opacity: 1;\"/><path d=\"M599.22,143.21H599.71M599.71,127.59V147.34M600.2,145.59H599.71\" style=\"fill: none; stroke: rgb(217, 95, 2); stroke-opacity: 1; stroke-width: 2px; opacity: 1;\"/><path d=\"M600.86,145.59H601.35M601.35,131.44V147.95M601.85,132.02H601.35\" style=\"fill: none; stroke: rgb(27, 158, 118); stroke-opacity: 1; stroke-width: 2px; opacity: 1;\"/><path d=\"M602.5,132.02H602.99M602.99,123.65V136.56M603.49,128.02H602.99\" style=\"fill: none; stroke: rgb(27, 158, 118); stroke-opacity: 1; stroke-width: 2px; opacity: 1;\"/><path d=\"M604.14,128.02H604.64M604.64,127.2V154.45M605.13,148.24H604.64\" style=\"fill: none; stroke: rgb(217, 95, 2); stroke-opacity: 1; stroke-width: 2px; opacity: 1;\"/><path d=\"M605.79,148.24H606.28M606.28,136.18V150.73M606.77,138.34H606.28\" style=\"fill: none; stroke: rgb(27, 158, 118); stroke-opacity: 1; stroke-width: 2px; opacity: 1;\"/><path d=\"M607.43,138.38H607.92M607.92,131.36V149.18M608.41,135.19H607.92\" style=\"fill: none; stroke: rgb(27, 158, 118); stroke-opacity: 1; stroke-width: 2px; opacity: 1;\"/><path d=\"M609.07,135.19H609.56M609.56,131.74V143.36M610.05,142.63H609.56\" style=\"fill: none; stroke: rgb(217, 95, 2); stroke-opacity: 1; stroke-width: 2px; opacity: 1;\"/><path d=\"M610.71,142.63H611.2M611.2,140.43V155.76M611.69,151.68H611.2\" style=\"fill: none; stroke: rgb(217, 95, 2); stroke-opacity: 1; stroke-width: 2px; opacity: 1;\"/><path d=\"M612.35,151.67H612.84M612.84,144.08V155.49M613.33,147.44H612.84\" style=\"fill: none; stroke: rgb(27, 158, 118); stroke-opacity: 1; stroke-width: 2px; opacity: 1;\"/><path d=\"M613.99,147.44H614.48M614.48,138.6V150.02M614.98,148.37H614.48\" style=\"fill: none; stroke: rgb(217, 95, 2); stroke-opacity: 1; stroke-width: 2px; opacity: 1;\"/><path d=\"M615.63,148.37H616.13M616.13,143.2V155.14M616.62,146.96H616.13\" style=\"fill: none; stroke: rgb(27, 158, 118); stroke-opacity: 1; stroke-width: 2px; opacity: 1;\"/><path d=\"M617.27,146.96H617.77M617.77,132.39V148.68M618.26,135.04H617.77\" style=\"fill: none; stroke: rgb(27, 158, 118); stroke-opacity: 1; stroke-width: 2px; opacity: 1;\"/><path d=\"M618.92,135.05H619.41M619.41,130.9V137.86M619.9,136.86H619.41\" style=\"fill: none; stroke: rgb(217, 95, 2); stroke-opacity: 1; stroke-width: 2px; opacity: 1;\"/><path d=\"M620.56,136.86H621.05M621.05,120.05V140.89M621.54,123.28H621.05\" style=\"fill: none; stroke: rgb(27, 158, 118); stroke-opacity: 1; stroke-width: 2px; opacity: 1;\"/><path d=\"M622.2,123.28H622.69M622.69,117.42V126.02M623.18,123.39H622.69\" style=\"fill: none; stroke: rgb(217, 95, 2); stroke-opacity: 1; stroke-width: 2px; opacity: 1;\"/><path d=\"M623.84,123.39H624.33M624.33,121.37V127.48M624.82,125.93H624.33\" style=\"fill: none; stroke: rgb(217, 95, 2); stroke-opacity: 1; stroke-width: 2px; opacity: 1;\"/><path d=\"M625.48,125.93H625.97M625.97,120.62V131.89M626.47,123.66H625.97\" style=\"fill: none; stroke: rgb(27, 158, 118); stroke-opacity: 1; stroke-width: 2px; opacity: 1;\"/><path d=\"M627.12,123.66H627.61M627.61,115.74V125.63M628.11,124.11H627.61\" style=\"fill: none; stroke: rgb(217, 95, 2); stroke-opacity: 1; stroke-width: 2px; opacity: 1;\"/><path d=\"M628.76,124.11H629.26M629.26,124.09V144.55M629.75,143.16H629.26\" style=\"fill: none; stroke: rgb(217, 95, 2); stroke-opacity: 1; stroke-width: 2px; opacity: 1;\"/><path d=\"M630.4,143.16H630.9M630.9,139.57V151.89M631.39,149.67H630.9\" style=\"fill: none; stroke: rgb(217, 95, 2); stroke-opacity: 1; stroke-width: 2px; opacity: 1;\"/><path d=\"M632.05,149.67H632.54M632.54,141.01V153.08M633.03,145.71H632.54\" style=\"fill: none; stroke: rgb(27, 158, 118); stroke-opacity: 1; stroke-width: 2px; opacity: 1;\"/><path d=\"M633.69,145.71H634.18M634.18,137.1V154.42M634.67,151.17H634.18\" style=\"fill: none; stroke: rgb(217, 95, 2); stroke-opacity: 1; stroke-width: 2px; opacity: 1;\"/></g></g><g class=\"scatterlayer mlayer\"><g class=\"trace scatter trace2a31fad4-c526-4d36-b33f-7099c29d642a\" style=\"stroke-miterlimit: 2; opacity: 1;\"><g class=\"fills\"/><g class=\"errorbars\"/><g class=\"lines\"/><g class=\"points\"><path class=\"point\" transform=\"translate(36.75,253.05)\" d=\"M-4.62,2H4.62L0,-4Z\" style=\"opacity: 1; stroke-width: 1px; fill: rgb(55, 177, 63); fill-opacity: 1; stroke: rgb(38, 123, 44); stroke-opacity: 1;\"/><path class=\"point\" transform=\"translate(53.16,216.41)\" d=\"M-4.62,2H4.62L0,-4Z\" style=\"opacity: 1; stroke-width: 1px; fill: rgb(55, 177, 63); fill-opacity: 1; stroke: rgb(38, 123, 44); stroke-opacity: 1;\"/><path class=\"point\" transform=\"translate(263.25,208.65)\" d=\"M-4.62,2H4.62L0,-4Z\" style=\"opacity: 1; stroke-width: 1px; fill: rgb(55, 177, 63); fill-opacity: 1; stroke: rgb(38, 123, 44); stroke-opacity: 1;\"/><path class=\"point\" transform=\"translate(468.41,184.25)\" d=\"M-4.62,2H4.62L0,-4Z\" style=\"opacity: 1; stroke-width: 1px; fill: rgb(55, 177, 63); fill-opacity: 1; stroke: rgb(38, 123, 44); stroke-opacity: 1;\"/><path class=\"point\" transform=\"translate(589.86,133.46)\" d=\"M-4.62,2H4.62L0,-4Z\" style=\"opacity: 1; stroke-width: 1px; fill: rgb(55, 177, 63); fill-opacity: 1; stroke: rgb(38, 123, 44); stroke-opacity: 1;\"/></g><g class=\"text\"/></g><g class=\"trace scatter trace689beb08-9574-4712-8cbb-ee9664ff7bda\" style=\"stroke-miterlimit: 2; opacity: 1;\"><g class=\"fills\"/><g class=\"errorbars\"/><g class=\"lines\"/><g class=\"points\"><path class=\"point\" transform=\"translate(44.96,208.17)\" d=\"M-4.62,-2H4.62L0,4Z\" style=\"opacity: 1; stroke-width: 1px; fill: rgb(234, 67, 53); fill-opacity: 1; stroke: rgb(181, 31, 18); stroke-opacity: 1;\"/><path class=\"point\" transform=\"translate(99.12,150.21)\" d=\"M-4.62,-2H4.62L0,4Z\" style=\"opacity: 1; stroke-width: 1px; fill: rgb(234, 67, 53); fill-opacity: 1; stroke: rgb(181, 31, 18); stroke-opacity: 1;\"/><path class=\"point\" transform=\"translate(394.55,161.09)\" d=\"M-4.62,-2H4.62L0,4Z\" style=\"opacity: 1; stroke-width: 1px; fill: rgb(234, 67, 53); fill-opacity: 1; stroke: rgb(181, 31, 18); stroke-opacity: 1;\"/><path class=\"point\" transform=\"translate(488.1,139.2)\" d=\"M-4.62,-2H4.62L0,4Z\" style=\"opacity: 1; stroke-width: 1px; fill: rgb(234, 67, 53); fill-opacity: 1; stroke: rgb(181, 31, 18); stroke-opacity: 1;\"/></g><g class=\"text\"/></g></g></g><g class=\"overplot\"/><path class=\"xlines-above crisp\" d=\"M0,0\" style=\"fill: none;\"/><path class=\"ylines-above crisp\" d=\"M0,0\" style=\"fill: none;\"/><g class=\"overlines-above\"/><g class=\"xaxislayer-above\"><g class=\"xtick\"><text text-anchor=\"middle\" x=\"0\" y=\"333\" transform=\"translate(71.75,0)\" style=\"font-family: 'Open Sans', verdana, arial, sans-serif; font-size: 12px; fill: rgb(214, 223, 239); fill-opacity: 1; white-space: pre; opacity: 1;\">Jan 2021</text></g><g class=\"xtick\"><text text-anchor=\"middle\" x=\"0\" y=\"333\" style=\"font-family: 'Open Sans', verdana, arial, sans-serif; font-size: 12px; fill: rgb(214, 223, 239); fill-opacity: 1; white-space: pre; opacity: 1;\" transform=\"translate(168.59,0)\">Mar 2021</text></g><g class=\"xtick\"><text text-anchor=\"middle\" x=\"0\" y=\"333\" style=\"font-family: 'Open Sans', verdana, arial, sans-serif; font-size: 12px; fill: rgb(214, 223, 239); fill-opacity: 1; white-space: pre; opacity: 1;\" transform=\"translate(268.7,0)\">May 2021</text></g><g class=\"xtick\"><text text-anchor=\"middle\" x=\"0\" y=\"333\" style=\"font-family: 'Open Sans', verdana, arial, sans-serif; font-size: 12px; fill: rgb(214, 223, 239); fill-opacity: 1; white-space: pre; opacity: 1;\" transform=\"translate(368.82,0)\">Jul 2021</text></g><g class=\"xtick\"><text text-anchor=\"middle\" x=\"0\" y=\"333\" style=\"font-family: 'Open Sans', verdana, arial, sans-serif; font-size: 12px; fill: rgb(214, 223, 239); fill-opacity: 1; white-space: pre; opacity: 1;\" transform=\"translate(470.58,0)\">Sep 2021</text></g><g class=\"xtick\"><text text-anchor=\"middle\" x=\"0\" y=\"333\" style=\"font-family: 'Open Sans', verdana, arial, sans-serif; font-size: 12px; fill: rgb(214, 223, 239); fill-opacity: 1; white-space: pre; opacity: 1;\" transform=\"translate(570.7,0)\">Nov 2021</text></g></g><g class=\"yaxislayer-above\"><g class=\"ytick\"><text text-anchor=\"end\" x=\"34\" y=\"4.199999999999999\" transform=\"translate(0,295.02)\" style=\"font-family: 'Open Sans', verdana, arial, sans-serif; font-size: 12px; fill: rgb(214, 223, 239); fill-opacity: 1; white-space: pre; opacity: 1;\">30k</text></g><g class=\"ytick\"><text text-anchor=\"end\" x=\"34\" y=\"4.199999999999999\" style=\"font-family: 'Open Sans', verdana, arial, sans-serif; font-size: 12px; fill: rgb(214, 223, 239); fill-opacity: 1; white-space: pre; opacity: 1;\" transform=\"translate(0,234.68)\">40k</text></g><g class=\"ytick\"><text text-anchor=\"end\" x=\"34\" y=\"4.199999999999999\" style=\"font-family: 'Open Sans', verdana, arial, sans-serif; font-size: 12px; fill: rgb(214, 223, 239); fill-opacity: 1; white-space: pre; opacity: 1;\" transform=\"translate(0,174.34)\">50k</text></g><g class=\"ytick\"><text text-anchor=\"end\" x=\"34\" y=\"4.199999999999999\" style=\"font-family: 'Open Sans', verdana, arial, sans-serif; font-size: 12px; fill: rgb(214, 223, 239); fill-opacity: 1; white-space: pre; opacity: 1;\" transform=\"translate(0,114)\">60k</text></g><g class=\"ytick\"><text text-anchor=\"end\" x=\"34\" y=\"4.199999999999999\" style=\"font-family: 'Open Sans', verdana, arial, sans-serif; font-size: 12px; fill: rgb(214, 223, 239); fill-opacity: 1; white-space: pre; opacity: 1;\" transform=\"translate(0,53.67)\">70k</text></g></g><g class=\"overaxes-above\"/></g></g><g class=\"polarlayer\"/><g class=\"smithlayer\"/><g class=\"ternarylayer\"/><g class=\"geolayer\"/><g class=\"funnelarealayer\"/><g class=\"pielayer\"/><g class=\"iciclelayer\"/><g class=\"treemaplayer\"/><g class=\"sunburstlayer\"/><g class=\"glimages\"/><defs id=\"topdefs-58d94e\"><g class=\"clips\"/><clipPath id=\"legend58d94e\"><rect width=\"240\" height=\"29\" x=\"0\" y=\"0\"/></clipPath></defs><g class=\"layer-above\"><g class=\"imagelayer\"/><g class=\"shapelayer\"/></g><g class=\"infolayer\"><g class=\"legend\" pointer-events=\"all\" transform=\"translate(430,11.519999999999996)\"><rect class=\"bg\" shape-rendering=\"crispEdges\" style=\"stroke: rgb(68, 68, 68); stroke-opacity: 1; fill: rgb(33, 34, 44); fill-opacity: 1; stroke-width: 0px;\" width=\"240\" height=\"29\" x=\"0\" y=\"0\"/><g class=\"scrollbox\" transform=\"\" clip-path=\"url(#legend58d94e)\"><g class=\"groups\"><g class=\"traces\" transform=\"translate(0,14.5)\" style=\"opacity: 1;\"><text class=\"legendtext\" text-anchor=\"start\" x=\"40\" y=\"4.680000000000001\" style=\"font-family: 'Open Sans', verdana, arial, sans-serif; font-size: 12px; fill: rgb(214, 223, 239); fill-opacity: 1; white-space: pre;\">OHLC</text><g class=\"layers\" style=\"opacity: 0.5;\"><g class=\"legendfill\"/><g class=\"legendlines\"/><g class=\"legendsymbols\"><g class=\"legendpoints\"><path class=\"legendohlc\" d=\"M15,0H0M8,6V0\" transform=\"translate(20,0)\" style=\"stroke-miterlimit: 1; fill: none; stroke-width: 2px; stroke: rgb(217, 95, 2); stroke-opacity: 1;\"/><path class=\"legendohlc\" d=\"M-15,0H0M-8,-6V0\" transform=\"translate(20,0)\" style=\"stroke-miterlimit: 1; fill: none; stroke-width: 2px; stroke: rgb(27, 158, 118); stroke-opacity: 1;\"/></g></g></g><rect class=\"legendtoggle\" x=\"0\" y=\"-9.5\" width=\"76.03125\" height=\"19\" style=\"fill: rgb(0, 0, 0); fill-opacity: 0;\"/></g><g class=\"traces\" transform=\"translate(78.53125,14.5)\" style=\"opacity: 1;\"><text class=\"legendtext\" text-anchor=\"start\" x=\"40\" y=\"4.680000000000001\" style=\"font-family: 'Open Sans', verdana, arial, sans-serif; font-size: 12px; fill: rgb(214, 223, 239); fill-opacity: 1; white-space: pre;\">Entries</text><g class=\"layers\" style=\"opacity: 1;\"><g class=\"legendfill\"/><g class=\"legendlines\"/><g class=\"legendsymbols\"><g class=\"legendpoints\"><path class=\"scatterpts\" transform=\"translate(20,0)\" d=\"M-4.62,2H4.62L0,-4Z\" style=\"opacity: 1; stroke-width: 1px; fill: rgb(55, 177, 63); fill-opacity: 1; stroke: rgb(38, 123, 44); stroke-opacity: 1;\"/></g></g></g><rect class=\"legendtoggle\" x=\"0\" y=\"-9.5\" width=\"84.234375\" height=\"19\" style=\"fill: rgb(0, 0, 0); fill-opacity: 0;\"/></g><g class=\"traces\" transform=\"translate(165.265625,14.5)\" style=\"opacity: 1;\"><text class=\"legendtext\" text-anchor=\"start\" x=\"40\" y=\"4.680000000000001\" style=\"font-family: 'Open Sans', verdana, arial, sans-serif; font-size: 12px; fill: rgb(214, 223, 239); fill-opacity: 1; white-space: pre;\">Exits</text><g class=\"layers\" style=\"opacity: 1;\"><g class=\"legendfill\"/><g class=\"legendlines\"/><g class=\"legendsymbols\"><g class=\"legendpoints\"><path class=\"scatterpts\" transform=\"translate(20,0)\" d=\"M-4.62,-2H4.62L0,4Z\" style=\"opacity: 1; stroke-width: 1px; fill: rgb(234, 67, 53); fill-opacity: 1; stroke: rgb(181, 31, 18); stroke-opacity: 1;\"/></g></g></g><rect class=\"legendtoggle\" x=\"0\" y=\"-9.5\" width=\"71.46875\" height=\"19\" style=\"fill: rgb(0, 0, 0); fill-opacity: 0;\"/></g></g></g><rect class=\"scrollbar\" rx=\"20\" ry=\"3\" width=\"0\" height=\"0\" style=\"fill: rgb(128, 139, 164); fill-opacity: 1;\" x=\"0\" y=\"0\"/></g><g class=\"g-gtitle\"/><g class=\"g-xtitle\"/><g class=\"g-ytitle\"/></g></svg>"
      ]
     },
     "metadata": {},
     "output_type": "display_data"
    }
   ],
   "source": [
    "@njit\n",
    "def entry_place_func_nb(c, low, close, th):\n",
    "    if c.from_i == 0:\n",
    "        c.out[0] = True\n",
    "        return 0\n",
    "    exit_price = close[c.from_i - c.wait, c.col]\n",
    "    hit_price = exit_price * (1 - th)\n",
    "    last_i = -1\n",
    "    for out_i in range(len(c.out)):\n",
    "        i = c.from_i + out_i\n",
    "        if low[i, c.col] <= hit_price:\n",
    "            c.out[out_i] = True\n",
    "            last_i = out_i\n",
    "            break\n",
    "    return last_i\n",
    "\n",
    "@njit\n",
    "def exit_place_func_nb(c, high, close, th):\n",
    "    entry_price = close[c.from_i - c.wait, c.col]\n",
    "    hit_price = entry_price * (1 + th)\n",
    "    last_i = -1\n",
    "    for out_i in range(len(c.out)):\n",
    "        i = c.from_i + out_i\n",
    "        if high[i, c.col] >= hit_price:\n",
    "            c.out[out_i] = True\n",
    "            last_i = out_i\n",
    "            break\n",
    "    return last_i\n",
    "\n",
    "entries, exits = vbt.pd_acc.signals.generate_both(\n",
    "    symbol_wrapper.shape,\n",
    "    entry_place_func_nb=entry_place_func_nb,\n",
    "    entry_args=(vbt.Rep(\"low\"), vbt.Rep(\"close\"), 0.1),\n",
    "    exit_place_func_nb=exit_place_func_nb,\n",
    "    exit_args=(vbt.Rep(\"high\"), vbt.Rep(\"close\"), 0.2),\n",
    "    wrapper=symbol_wrapper,\n",
    "    broadcast_named_args=dict(\n",
    "        high=data.get(\"High\"),\n",
    "        low=data.get(\"Low\"),\n",
    "        close=data.get(\"Close\")\n",
    "    ),\n",
    "    broadcast_kwargs=dict(\n",
    "        post_func=vbt.to_2d_array\n",
    "    )\n",
    ")\n",
    "\n",
    "fig = data.plot(\n",
    "    symbol=\"BTCUSDT\", \n",
    "    ohlc_trace_kwargs=dict(opacity=0.5), \n",
    "    plot_volume=False\n",
    ")\n",
    "entries[\"BTCUSDT\"].vbt.signals.plot_as_entries(\n",
    "    y=data.get(\"Close\", \"BTCUSDT\"), fig=fig)\n",
    "exits[\"BTCUSDT\"].vbt.signals.plot_as_exits(\n",
    "    y=data.get(\"Close\", \"BTCUSDT\"), fig=fig)\n",
    "fig.show_svg()"
   ]
  },
  {
   "cell_type": "code",
   "execution_count": 91,
   "id": "1241ad12-8874-43f9-868f-337dba360343",
   "metadata": {},
   "outputs": [
    {
     "data": {
      "image/svg+xml": [
       "<svg class=\"main-svg\" xmlns=\"http://www.w3.org/2000/svg\" xmlns:xlink=\"http://www.w3.org/1999/xlink\" width=\"700\" height=\"350\" style=\"\" viewBox=\"0 0 700 350\"><rect x=\"0\" y=\"0\" width=\"700\" height=\"350\" style=\"fill: rgb(33, 34, 44); fill-opacity: 1;\"/><defs id=\"defs-91b237\"><g class=\"clips\"><clipPath id=\"clip91b237xyplot\" class=\"plotclip\"><rect width=\"635\" height=\"274\"/></clipPath><clipPath class=\"axesclip\" id=\"clip91b237x\"><rect x=\"35\" y=\"0\" width=\"635\" height=\"350\"/></clipPath><clipPath class=\"axesclip\" id=\"clip91b237y\"><rect x=\"0\" y=\"46\" width=\"700\" height=\"274\"/></clipPath><clipPath class=\"axesclip\" id=\"clip91b237xy\"><rect x=\"35\" y=\"46\" width=\"635\" height=\"274\"/></clipPath></g><g class=\"gradients\"/><g class=\"patterns\"/></defs><g class=\"bglayer\"/><g class=\"layer-below\"><g class=\"imagelayer\"/><g class=\"shapelayer\"/></g><g class=\"cartesianlayer\"><g class=\"subplot xy\"><g class=\"layer-subplot\"><g class=\"shapelayer\"/><g class=\"imagelayer\"/></g><g class=\"gridlayer\"><g class=\"x\"><path class=\"xgrid crisp\" transform=\"translate(71.75,0)\" d=\"M0,46v274\" style=\"stroke: rgb(47, 62, 78); stroke-opacity: 1; stroke-width: 1px;\"/><path class=\"xgrid crisp\" transform=\"translate(168.59,0)\" d=\"M0,46v274\" style=\"stroke: rgb(47, 62, 78); stroke-opacity: 1; stroke-width: 1px;\"/><path class=\"xgrid crisp\" transform=\"translate(268.7,0)\" d=\"M0,46v274\" style=\"stroke: rgb(47, 62, 78); stroke-opacity: 1; stroke-width: 1px;\"/><path class=\"xgrid crisp\" transform=\"translate(368.82,0)\" d=\"M0,46v274\" style=\"stroke: rgb(47, 62, 78); stroke-opacity: 1; stroke-width: 1px;\"/><path class=\"xgrid crisp\" transform=\"translate(470.58,0)\" d=\"M0,46v274\" style=\"stroke: rgb(47, 62, 78); stroke-opacity: 1; stroke-width: 1px;\"/><path class=\"xgrid crisp\" transform=\"translate(570.7,0)\" d=\"M0,46v274\" style=\"stroke: rgb(47, 62, 78); stroke-opacity: 1; stroke-width: 1px;\"/></g><g class=\"y\"><path class=\"ygrid crisp\" transform=\"translate(0,295.02)\" d=\"M35,0h635\" style=\"stroke: rgb(47, 62, 78); stroke-opacity: 1; stroke-width: 1px;\"/><path class=\"ygrid crisp\" transform=\"translate(0,234.68)\" d=\"M35,0h635\" style=\"stroke: rgb(47, 62, 78); stroke-opacity: 1; stroke-width: 1px;\"/><path class=\"ygrid crisp\" transform=\"translate(0,174.34)\" d=\"M35,0h635\" style=\"stroke: rgb(47, 62, 78); stroke-opacity: 1; stroke-width: 1px;\"/><path class=\"ygrid crisp\" transform=\"translate(0,114)\" d=\"M35,0h635\" style=\"stroke: rgb(47, 62, 78); stroke-opacity: 1; stroke-width: 1px;\"/><path class=\"ygrid crisp\" transform=\"translate(0,53.67)\" d=\"M35,0h635\" style=\"stroke: rgb(47, 62, 78); stroke-opacity: 1; stroke-width: 1px;\"/></g></g><g class=\"zerolinelayer\"/><path class=\"xlines-below\"/><path class=\"ylines-below\"/><g class=\"overlines-below\"/><g class=\"xaxislayer-below\"/><g class=\"yaxislayer-below\"/><g class=\"overaxes-below\"/><g class=\"plot\" transform=\"translate(35,46)\" clip-path=\"url(#clip91b237xyplot)\"><g class=\"ohlclayer mlayer\"><g class=\"trace ohlc\" style=\"opacity: 0.5;\"><path d=\"M36.26,255.51H36.75M36.75,251.43V257.32M37.24,253.05H36.75\" style=\"fill: none; stroke: rgb(27, 158, 118); stroke-opacity: 1; stroke-width: 2px; opacity: 1;\"/><path d=\"M37.9,253.05H38.39M38.39,229.11V255.37M38.88,235.87H38.39\" style=\"fill: none; stroke: rgb(27, 158, 118); stroke-opacity: 1; stroke-width: 2px; opacity: 1;\"/><path d=\"M39.54,235.88H40.03M40.03,220.19V237.17M40.52,230.92H40.03\" style=\"fill: none; stroke: rgb(27, 158, 118); stroke-opacity: 1; stroke-width: 2px; opacity: 1;\"/><path d=\"M41.18,230.92H41.67M41.67,227.3V260.3M42.17,237.02H41.67\" style=\"fill: none; stroke: rgb(217, 95, 2); stroke-opacity: 1; stroke-width: 2px; opacity: 1;\"/><path d=\"M42.82,237.01H43.32M43.32,222.71V249.62M43.81,225.19H43.32\" style=\"fill: none; stroke: rgb(27, 158, 118); stroke-opacity: 1; stroke-width: 2px; opacity: 1;\"/><path d=\"M44.46,225.19H44.96M44.96,207.15V229.18M45.45,208.17H44.96\" style=\"fill: none; stroke: rgb(27, 158, 118); stroke-opacity: 1; stroke-width: 2px; opacity: 1;\"/><path d=\"M46.11,208.17H46.6M46.6,186.48V211M47.09,192.1H46.6\" style=\"fill: none; stroke: rgb(27, 158, 118); stroke-opacity: 1; stroke-width: 2px; opacity: 1;\"/><path d=\"M47.75,192.1H48.24M48.24,176.91V209.8M48.73,185.16H48.24\" style=\"fill: none; stroke: rgb(27, 158, 118); stroke-opacity: 1; stroke-width: 2px; opacity: 1;\"/><path d=\"M49.39,185.14H49.88M49.88,180.35V196.4M50.37,188.15H49.88\" style=\"fill: none; stroke: rgb(217, 95, 2); stroke-opacity: 1; stroke-width: 2px; opacity: 1;\"/><path d=\"M51.03,188.15H51.52M51.52,180.53V218.18M52.01,199.84H51.52\" style=\"fill: none; stroke: rgb(217, 95, 2); stroke-opacity: 1; stroke-width: 2px; opacity: 1;\"/><path d=\"M52.67,199.84H53.16M53.16,199.15V246.48M53.66,216.41H53.16\" style=\"fill: none; stroke: rgb(217, 95, 2); stroke-opacity: 1; stroke-width: 2px; opacity: 1;\"/><path d=\"M54.31,216.37H54.8M54.8,209.03V233.75M55.3,224.57H54.8\" style=\"fill: none; stroke: rgb(217, 95, 2); stroke-opacity: 1; stroke-width: 2px; opacity: 1;\"/><path d=\"M55.95,224.59H56.45M56.45,201.65V234.66M56.94,204.54H56.45\" style=\"fill: none; stroke: rgb(27, 158, 118); stroke-opacity: 1; stroke-width: 2px; opacity: 1;\"/><path d=\"M57.59,204.54H58.09M58.09,188.08V208.58M58.58,193.84H58.09\" style=\"fill: none; stroke: rgb(27, 158, 118); stroke-opacity: 1; stroke-width: 2px; opacity: 1;\"/><path d=\"M59.24,193.84H59.73M59.73,190.2V222.42M60.22,208.34H59.73\" style=\"fill: none; stroke: rgb(217, 95, 2); stroke-opacity: 1; stroke-width: 2px; opacity: 1;\"/><path d=\"M60.88,208.36H61.37M61.37,201.05V216.69M61.86,212.84H61.37\" style=\"fill: none; stroke: rgb(217, 95, 2); stroke-opacity: 1; stroke-width: 2px; opacity: 1;\"/><path d=\"M62.52,212.84H63.01M63.01,207.67V225.79M63.5,213.85H63.01\" style=\"fill: none; stroke: rgb(217, 95, 2); stroke-opacity: 1; stroke-width: 2px; opacity: 1;\"/><path d=\"M64.16,213.87H64.65M64.65,203.95V220.05M65.14,209.01H64.65\" style=\"fill: none; stroke: rgb(27, 158, 118); stroke-opacity: 1; stroke-width: 2px; opacity: 1;\"/><path d=\"M65.8,209.06H66.29M66.29,201.65V213.76M66.79,213.47H66.29\" style=\"fill: none; stroke: rgb(217, 95, 2); stroke-opacity: 1; stroke-width: 2px; opacity: 1;\"/><path d=\"M67.44,213.41H67.93M67.93,210.31V228.5M68.43,216.02H67.93\" style=\"fill: none; stroke: rgb(217, 95, 2); stroke-opacity: 1; stroke-width: 2px; opacity: 1;\"/><path d=\"M69.08,216.02H69.58M69.58,215.23V248.59M70.07,243.89H69.58\" style=\"fill: none; stroke: rgb(217, 95, 2); stroke-opacity: 1; stroke-width: 2px; opacity: 1;\"/><path d=\"M70.72,243.88H71.22M71.22,225.93V255.96M71.71,231.25H71.22\" style=\"fill: none; stroke: rgb(27, 158, 118); stroke-opacity: 1; stroke-width: 2px; opacity: 1;\"/><path d=\"M72.37,231.22H72.86M72.86,228.16V240.63M73.35,236.48H72.86\" style=\"fill: none; stroke: rgb(217, 95, 2); stroke-opacity: 1; stroke-width: 2px; opacity: 1;\"/><path d=\"M74.01,236.48H74.5M74.5,230.49V243.59M74.99,235.38H74.5\" style=\"fill: none; stroke: rgb(27, 158, 118); stroke-opacity: 1; stroke-width: 2px; opacity: 1;\"/><path d=\"M75.65,235.38H76.14M76.14,219.6V237.49M76.63,235.42H76.14\" style=\"fill: none; stroke: rgb(217, 95, 2); stroke-opacity: 1; stroke-width: 2px; opacity: 1;\"/><path d=\"M77.29,235.42H77.78M77.78,231.39V243.96M78.27,234.13H77.78\" style=\"fill: none; stroke: rgb(27, 158, 118); stroke-opacity: 1; stroke-width: 2px; opacity: 1;\"/><path d=\"M78.93,234.15H79.42M79.42,233.59V253.59M79.92,246.81H79.42\" style=\"fill: none; stroke: rgb(217, 95, 2); stroke-opacity: 1; stroke-width: 2px; opacity: 1;\"/><path d=\"M80.57,246.83H81.06M81.06,226.19V249.97M81.56,228.71H81.06\" style=\"fill: none; stroke: rgb(27, 158, 118); stroke-opacity: 1; stroke-width: 2px; opacity: 1;\"/><path d=\"M82.21,228.69H82.71M82.71,197.54V237.46M83.2,223.36H82.71\" style=\"fill: none; stroke: rgb(27, 158, 118); stroke-opacity: 1; stroke-width: 2px; opacity: 1;\"/><path d=\"M83.86,223.4H84.35M84.35,219.25V231.97M84.84,223.3H84.35\" style=\"fill: none; stroke: rgb(27, 158, 118); stroke-opacity: 1; stroke-width: 2px; opacity: 1;\"/><path d=\"M85.5,223.3H85.99M85.99,222.81V235.91M86.48,230.35H85.99\" style=\"fill: none; stroke: rgb(217, 95, 2); stroke-opacity: 1; stroke-width: 2px; opacity: 1;\"/><path d=\"M87.14,230.35H87.63M87.63,220.55V235.16M88.12,227.74H87.63\" style=\"fill: none; stroke: rgb(27, 158, 118); stroke-opacity: 1; stroke-width: 2px; opacity: 1;\"/><path d=\"M88.78,227.8H89.27M89.27,212.91V228.39M89.76,216.03H89.27\" style=\"fill: none; stroke: rgb(27, 158, 118); stroke-opacity: 1; stroke-width: 2px; opacity: 1;\"/><path d=\"M90.42,216H90.91M90.91,202.78V216.66M91.4,203.05H90.91\" style=\"fill: none; stroke: rgb(27, 158, 118); stroke-opacity: 1; stroke-width: 2px; opacity: 1;\"/><path d=\"M92.06,203.04H92.55M92.55,196.47V211.84M93.05,207.16H92.55\" style=\"fill: none; stroke: rgb(217, 95, 2); stroke-opacity: 1; stroke-width: 2px; opacity: 1;\"/><path d=\"M93.7,207.16H94.2M94.2,198.88V209.38M94.69,199H94.2\" style=\"fill: none; stroke: rgb(27, 158, 118); stroke-opacity: 1; stroke-width: 2px; opacity: 1;\"/><path d=\"M95.34,199H95.84M95.84,182.91V199.44M96.33,193.59H95.84\" style=\"fill: none; stroke: rgb(27, 158, 118); stroke-opacity: 1; stroke-width: 2px; opacity: 1;\"/><path d=\"M96.99,193.62H97.48M97.48,190.49V204.66M97.97,195.95H97.48\" style=\"fill: none; stroke: rgb(217, 95, 2); stroke-opacity: 1; stroke-width: 2px; opacity: 1;\"/><path d=\"M98.63,195.95H99.12M99.12,147.68V200.81M99.61,150.21H99.12\" style=\"fill: none; stroke: rgb(27, 158, 118); stroke-opacity: 1; stroke-width: 2px; opacity: 1;\"/><path d=\"M100.27,150.21H100.76M100.76,139.55V158.75M101.25,149.94H100.76\" style=\"fill: none; stroke: rgb(27, 158, 118); stroke-opacity: 1; stroke-width: 2px; opacity: 1;\"/><path d=\"M101.91,149.94H102.4M102.4,144.57V166.19M102.89,159.67H102.4\" style=\"fill: none; stroke: rgb(217, 95, 2); stroke-opacity: 1; stroke-width: 2px; opacity: 1;\"/><path d=\"M103.55,159.67H104.04M104.04,136.31V164.58M104.54,140.59H104.04\" style=\"fill: none; stroke: rgb(27, 158, 118); stroke-opacity: 1; stroke-width: 2px; opacity: 1;\"/><path d=\"M105.19,140.6H105.68M105.68,134.46V151.72M106.18,144.71H105.68\" style=\"fill: none; stroke: rgb(217, 95, 2); stroke-opacity: 1; stroke-width: 2px; opacity: 1;\"/><path d=\"M106.83,144.64H107.33M107.33,139.5V151.25M107.82,145.52H107.33\" style=\"fill: none; stroke: rgb(217, 95, 2); stroke-opacity: 1; stroke-width: 2px; opacity: 1;\"/><path d=\"M108.47,145.5H108.97M108.97,130.11V146.36M109.46,136.92H108.97\" style=\"fill: none; stroke: rgb(27, 158, 118); stroke-opacity: 1; stroke-width: 2px; opacity: 1;\"/><path d=\"M110.12,136.91H110.61M110.61,134.31V155.07M111.1,140.95H110.61\" style=\"fill: none; stroke: rgb(217, 95, 2); stroke-opacity: 1; stroke-width: 2px; opacity: 1;\"/><path d=\"M111.76,140.95H112.25M112.25,124.18V146.42M112.74,133.57H112.25\" style=\"fill: none; stroke: rgb(27, 158, 118); stroke-opacity: 1; stroke-width: 2px; opacity: 1;\"/><path d=\"M113.4,133.57H113.89M113.89,112.54V134.7M114.38,115.55H113.89\" style=\"fill: none; stroke: rgb(27, 158, 118); stroke-opacity: 1; stroke-width: 2px; opacity: 1;\"/><path d=\"M115.04,115.56H115.53M115.53,113.08V122.9M116.02,118.97H115.53\" style=\"fill: none; stroke: rgb(217, 95, 2); stroke-opacity: 1; stroke-width: 2px; opacity: 1;\"/><path d=\"M116.68,118.97H117.17M117.17,89.92V124.06M117.67,92.71H117.17\" style=\"fill: none; stroke: rgb(27, 158, 118); stroke-opacity: 1; stroke-width: 2px; opacity: 1;\"/><path d=\"M118.32,92.71H118.81M118.81,81.88V105.03M119.31,93.1H118.81\" style=\"fill: none; stroke: rgb(217, 95, 2); stroke-opacity: 1; stroke-width: 2px; opacity: 1;\"/><path d=\"M119.96,93.1H120.46M120.46,77.94V95.29M120.95,83.64H120.46\" style=\"fill: none; stroke: rgb(27, 158, 118); stroke-opacity: 1; stroke-width: 2px; opacity: 1;\"/><path d=\"M121.6,83.62H122.1M122.1,83.04V142.69M122.59,103.68H122.1\" style=\"fill: none; stroke: rgb(217, 95, 2); stroke-opacity: 1; stroke-width: 2px; opacity: 1;\"/><path d=\"M123.25,103.68H123.74M123.74,103.1V159.16M124.23,135.03H123.74\" style=\"fill: none; stroke: rgb(217, 95, 2); stroke-opacity: 1; stroke-width: 2px; opacity: 1;\"/><path d=\"M124.89,135.03H125.38M125.38,120.05V146.51M125.87,130.3H125.38\" style=\"fill: none; stroke: rgb(27, 158, 118); stroke-opacity: 1; stroke-width: 2px; opacity: 1;\"/><path d=\"M126.53,130.3H127.02M127.02,116.02V148.41M127.51,146H127.02\" style=\"fill: none; stroke: rgb(217, 95, 2); stroke-opacity: 1; stroke-width: 2px; opacity: 1;\"/><path d=\"M128.17,146H128.66M128.66,137.85V163.9M129.15,150.81H128.66\" style=\"fill: none; stroke: rgb(217, 95, 2); stroke-opacity: 1; stroke-width: 2px; opacity: 1;\"/><path d=\"M129.81,150.81H130.3M130.3,138.03V158.51M130.8,151.83H130.3\" style=\"fill: none; stroke: rgb(217, 95, 2); stroke-opacity: 1; stroke-width: 2px; opacity: 1;\"/><path d=\"M131.45,151.85H131.94M131.94,148.62V170.58M132.44,157.69H131.94\" style=\"fill: none; stroke: rgb(217, 95, 2); stroke-opacity: 1; stroke-width: 2px; opacity: 1;\"/><path d=\"M133.09,157.7H133.59M133.59,129.61V158.81M134.08,130.83H133.59\" style=\"fill: none; stroke: rgb(27, 158, 118); stroke-opacity: 1; stroke-width: 2px; opacity: 1;\"/><path d=\"M134.73,130.78H135.23M135.23,127.13V146.16M135.72,137.75H135.23\" style=\"fill: none; stroke: rgb(217, 95, 2); stroke-opacity: 1; stroke-width: 2px; opacity: 1;\"/><path d=\"M136.38,137.77H136.87M136.87,112.41V139.8M137.36,126.23H136.87\" style=\"fill: none; stroke: rgb(27, 158, 118); stroke-opacity: 1; stroke-width: 2px; opacity: 1;\"/><path d=\"M138.02,126.23H138.51M138.51,117.64V143.43M139,138.15H138.51\" style=\"fill: none; stroke: rgb(217, 95, 2); stroke-opacity: 1; stroke-width: 2px; opacity: 1;\"/><path d=\"M139.66,138.15H140.15M140.15,131.67V150.67M140.64,135.87H140.15\" style=\"fill: none; stroke: rgb(27, 158, 118); stroke-opacity: 1; stroke-width: 2px; opacity: 1;\"/><path d=\"M141.3,135.9H141.79M141.79,133.17V146.02M142.28,135.09H141.79\" style=\"fill: none; stroke: rgb(27, 158, 118); stroke-opacity: 1; stroke-width: 2px; opacity: 1;\"/><path d=\"M142.94,135.09H143.43M143.43,119.59V135.09M143.93,122.48H143.43\" style=\"fill: none; stroke: rgb(27, 158, 118); stroke-opacity: 1; stroke-width: 2px; opacity: 1;\"/><path d=\"M144.58,122.55H145.08M145.08,113.84V132.72M145.57,114.01H145.08\" style=\"fill: none; stroke: rgb(27, 158, 118); stroke-opacity: 1; stroke-width: 2px; opacity: 1;\"/><path d=\"M146.22,114.01H146.72M146.72,98.81V117.54M147.21,98.87H146.72\" style=\"fill: none; stroke: rgb(27, 158, 118); stroke-opacity: 1; stroke-width: 2px; opacity: 1;\"/><path d=\"M147.87,98.93H148.36M148.36,83.77V110.21M148.85,93.03H148.36\" style=\"fill: none; stroke: rgb(27, 158, 118); stroke-opacity: 1; stroke-width: 2px; opacity: 1;\"/><path d=\"M149.51,93.03H150M150,79.17V102.56M150.49,81.44H150\" style=\"fill: none; stroke: rgb(27, 158, 118); stroke-opacity: 1; stroke-width: 2px; opacity: 1;\"/><path d=\"M151.15,81.44H151.64M151.64,79.58V98.4M152.13,84.77H151.64\" style=\"fill: none; stroke: rgb(217, 95, 2); stroke-opacity: 1; stroke-width: 2px; opacity: 1;\"/><path d=\"M152.79,84.77H153.28M153.28,56.88V91.67M153.77,60.83H153.28\" style=\"fill: none; stroke: rgb(27, 158, 118); stroke-opacity: 1; stroke-width: 2px; opacity: 1;\"/><path d=\"M154.43,60.83H154.92M154.92,57.6V74.24M155.42,74.23H154.92\" style=\"fill: none; stroke: rgb(217, 95, 2); stroke-opacity: 1; stroke-width: 2px; opacity: 1;\"/><path d=\"M156.07,74.18H156.56M156.56,64.18V100.59M157.06,94.52H156.56\" style=\"fill: none; stroke: rgb(217, 95, 2); stroke-opacity: 1; stroke-width: 2px; opacity: 1;\"/><path d=\"M157.71,94.52H158.21M158.21,86.48V108.6M158.7,86.7H158.21\" style=\"fill: none; stroke: rgb(27, 158, 118); stroke-opacity: 1; stroke-width: 2px; opacity: 1;\"/><path d=\"M159.35,86.7H159.85M159.85,74.19V103.46M160.34,74.56H159.85\" style=\"fill: none; stroke: rgb(27, 158, 118); stroke-opacity: 1; stroke-width: 2px; opacity: 1;\"/><path d=\"M161,74.56H161.49M161.49,67.22V85.97M161.98,82.19H161.49\" style=\"fill: none; stroke: rgb(217, 95, 2); stroke-opacity: 1; stroke-width: 2px; opacity: 1;\"/><path d=\"M162.64,82.24H163.13M163.13,71.21V90.51M163.62,79.89H163.13\" style=\"fill: none; stroke: rgb(27, 158, 118); stroke-opacity: 1; stroke-width: 2px; opacity: 1;\"/><path d=\"M164.28,79.89H164.77M164.77,68.73V81.16M165.26,79.45H164.77\" style=\"fill: none; stroke: rgb(27, 158, 118); stroke-opacity: 1; stroke-width: 2px; opacity: 1;\"/><path d=\"M165.92,79.47H166.41M166.41,76.52V95.46M166.9,83.98H166.41\" style=\"fill: none; stroke: rgb(217, 95, 2); stroke-opacity: 1; stroke-width: 2px; opacity: 1;\"/><path d=\"M167.56,83.98H168.05M168.05,77.47V106.32M168.55,103.7H168.05\" style=\"fill: none; stroke: rgb(217, 95, 2); stroke-opacity: 1; stroke-width: 2px; opacity: 1;\"/><path d=\"M169.2,103.7H169.69M169.69,93.16V110.24M170.19,102.15H169.69\" style=\"fill: none; stroke: rgb(27, 158, 118); stroke-opacity: 1; stroke-width: 2px; opacity: 1;\"/><path d=\"M170.84,102.14H171.34M171.34,84.9V118.08M171.83,114.44H171.34\" style=\"fill: none; stroke: rgb(217, 95, 2); stroke-opacity: 1; stroke-width: 2px; opacity: 1;\"/><path d=\"M172.48,114.44H172.98M172.98,108.51V125.76M173.47,120.54H172.98\" style=\"fill: none; stroke: rgb(217, 95, 2); stroke-opacity: 1; stroke-width: 2px; opacity: 1;\"/><path d=\"M174.13,120.54H174.62M174.62,97.73V121.01M175.11,98.02H174.62\" style=\"fill: none; stroke: rgb(27, 158, 118); stroke-opacity: 1; stroke-width: 2px; opacity: 1;\"/><path d=\"M175.77,98.02H176.26M176.26,87.91V104.51M176.75,93.24H176.26\" style=\"fill: none; stroke: rgb(27, 158, 118); stroke-opacity: 1; stroke-width: 2px; opacity: 1;\"/><path d=\"M177.41,93.24H177.9M177.9,88.76V100.03M178.39,93.48H177.9\" style=\"fill: none; stroke: rgb(217, 95, 2); stroke-opacity: 1; stroke-width: 2px; opacity: 1;\"/><path d=\"M179.05,93.48H179.54M179.54,77.62V99.38M180.03,82.27H179.54\" style=\"fill: none; stroke: rgb(27, 158, 118); stroke-opacity: 1; stroke-width: 2px; opacity: 1;\"/><path d=\"M180.69,82.27H181.18M181.18,71.82V85.67M181.68,75.57H181.18\" style=\"fill: none; stroke: rgb(27, 158, 118); stroke-opacity: 1; stroke-width: 2px; opacity: 1;\"/><path d=\"M182.33,75.57H182.82M182.82,69.21V87.5M183.32,75.6H182.82\" style=\"fill: none; stroke: rgb(217, 95, 2); stroke-opacity: 1; stroke-width: 2px; opacity: 1;\"/><path d=\"M183.97,75.61H184.47M184.47,71.08V80.46M184.96,75.72H184.47\" style=\"fill: none; stroke: rgb(217, 95, 2); stroke-opacity: 1; stroke-width: 2px; opacity: 1;\"/><path d=\"M185.61,75.72H186.11M186.11,66.8V77.49M186.6,74.34H186.11\" style=\"fill: none; stroke: rgb(27, 158, 118); stroke-opacity: 1; stroke-width: 2px; opacity: 1;\"/><path d=\"M187.26,74.34H187.75M187.75,69.26V86.83M188.24,85.79H187.75\" style=\"fill: none; stroke: rgb(217, 95, 2); stroke-opacity: 1; stroke-width: 2px; opacity: 1;\"/><path d=\"M188.9,85.79H189.39M189.39,77.1V89.8M189.88,78.85H189.39\" style=\"fill: none; stroke: rgb(27, 158, 118); stroke-opacity: 1; stroke-width: 2px; opacity: 1;\"/><path d=\"M190.54,78.85H191.03M191.03,72.4V87.45M191.52,73.25H191.03\" style=\"fill: none; stroke: rgb(27, 158, 118); stroke-opacity: 1; stroke-width: 2px; opacity: 1;\"/><path d=\"M192.18,73.25H192.67M192.67,71.05V83.61M193.16,80.12H192.67\" style=\"fill: none; stroke: rgb(217, 95, 2); stroke-opacity: 1; stroke-width: 2px; opacity: 1;\"/><path d=\"M193.82,80.13H194.31M194.31,76.12V95.32M194.81,92.42H194.31\" style=\"fill: none; stroke: rgb(217, 95, 2); stroke-opacity: 1; stroke-width: 2px; opacity: 1;\"/><path d=\"M195.46,92.42H195.96M195.96,79.15V93.95M196.45,79.6H195.96\" style=\"fill: none; stroke: rgb(27, 158, 118); stroke-opacity: 1; stroke-width: 2px; opacity: 1;\"/><path d=\"M197.1,79.6H197.6M197.6,74.67V82.16M198.09,79.21H197.6\" style=\"fill: none; stroke: rgb(27, 158, 118); stroke-opacity: 1; stroke-width: 2px; opacity: 1;\"/><path d=\"M198.75,79.21H199.24M199.24,58.95V80.67M199.73,69.4H199.24\" style=\"fill: none; stroke: rgb(27, 158, 118); stroke-opacity: 1; stroke-width: 2px; opacity: 1;\"/><path d=\"M200.39,69.4H200.88M200.88,63.79V72.63M201.37,67.99H200.88\" style=\"fill: none; stroke: rgb(27, 158, 118); stroke-opacity: 1; stroke-width: 2px; opacity: 1;\"/><path d=\"M202.03,68.01H202.52M202.52,60.16V71.92M203.01,68.85H202.52\" style=\"fill: none; stroke: rgb(217, 95, 2); stroke-opacity: 1; stroke-width: 2px; opacity: 1;\"/><path d=\"M203.67,68.85H204.16M204.16,45.21V69.18M204.65,46.43H204.16\" style=\"fill: none; stroke: rgb(27, 158, 118); stroke-opacity: 1; stroke-width: 2px; opacity: 1;\"/><path d=\"M205.31,46.43H205.8M205.8,38.72V60.15M206.3,50.15H205.8\" style=\"fill: none; stroke: rgb(217, 95, 2); stroke-opacity: 1; stroke-width: 2px; opacity: 1;\"/><path d=\"M206.95,50.15H207.44M207.44,45.08V55.82M207.94,48.94H207.44\" style=\"fill: none; stroke: rgb(27, 158, 118); stroke-opacity: 1; stroke-width: 2px; opacity: 1;\"/><path d=\"M208.59,48.94H209.09M209.09,46.76V68M209.58,59.95H209.09\" style=\"fill: none; stroke: rgb(217, 95, 2); stroke-opacity: 1; stroke-width: 2px; opacity: 1;\"/><path d=\"M210.23,59.95H210.73M210.73,52.88V70.53M211.22,67.96H210.73\" style=\"fill: none; stroke: rgb(217, 95, 2); stroke-opacity: 1; stroke-width: 2px; opacity: 1;\"/><path d=\"M211.88,67.96H212.37M212.37,64.99V122.72M212.86,91.23H212.37\" style=\"fill: none; stroke: rgb(217, 95, 2); stroke-opacity: 1; stroke-width: 2px; opacity: 1;\"/><path d=\"M213.52,91.23H214.01M214.01,82.93V102.87M214.5,94.35H214.01\" style=\"fill: none; stroke: rgb(217, 95, 2); stroke-opacity: 1; stroke-width: 2px; opacity: 1;\"/><path d=\"M215.16,94.35H215.65M215.65,85.65V108.25M216.14,89.57H215.65\" style=\"fill: none; stroke: rgb(27, 158, 118); stroke-opacity: 1; stroke-width: 2px; opacity: 1;\"/><path d=\"M216.8,89.57H217.29M217.29,87.57V107.01M217.78,105.49H217.29\" style=\"fill: none; stroke: rgb(217, 95, 2); stroke-opacity: 1; stroke-width: 2px; opacity: 1;\"/><path d=\"M218.44,105.49H218.93M218.93,95.03V125.32M219.43,118.14H218.93\" style=\"fill: none; stroke: rgb(217, 95, 2); stroke-opacity: 1; stroke-width: 2px; opacity: 1;\"/><path d=\"M220.08,118.14H220.57M220.57,115.48V143.43M221.07,121.55H220.57\" style=\"fill: none; stroke: rgb(217, 95, 2); stroke-opacity: 1; stroke-width: 2px; opacity: 1;\"/><path d=\"M221.72,121.64H222.22M222.22,121.3V136.44M222.71,128.05H222.22\" style=\"fill: none; stroke: rgb(217, 95, 2); stroke-opacity: 1; stroke-width: 2px; opacity: 1;\"/><path d=\"M223.36,128.05H223.86M223.86,124.91V146.87M224.35,133.97H223.86\" style=\"fill: none; stroke: rgb(217, 95, 2); stroke-opacity: 1; stroke-width: 2px; opacity: 1;\"/><path d=\"M225.01,133.97H225.5M225.5,102.05V135.86M225.99,104.2H225.5\" style=\"fill: none; stroke: rgb(27, 158, 118); stroke-opacity: 1; stroke-width: 2px; opacity: 1;\"/><path d=\"M226.65,104.2H227.14M227.14,95.4V108.9M227.63,98.1H227.14\" style=\"fill: none; stroke: rgb(27, 158, 118); stroke-opacity: 1; stroke-width: 2px; opacity: 1;\"/><path d=\"M228.29,98.1H228.78M228.78,89.56V105.33M229.27,99.1H228.78\" style=\"fill: none; stroke: rgb(217, 95, 2); stroke-opacity: 1; stroke-width: 2px; opacity: 1;\"/><path d=\"M229.93,99.1H230.42M230.42,96.99V114.28M230.91,106.89H230.42\" style=\"fill: none; stroke: rgb(217, 95, 2); stroke-opacity: 1; stroke-width: 2px; opacity: 1;\"/><path d=\"M231.57,106.89H232.06M232.06,80.29V110.16M232.56,81.92H232.06\" style=\"fill: none; stroke: rgb(27, 158, 118); stroke-opacity: 1; stroke-width: 2px; opacity: 1;\"/><path d=\"M233.21,81.9H233.7M233.7,77.31V86.37M234.2,81.28H233.7\" style=\"fill: none; stroke: rgb(27, 158, 118); stroke-opacity: 1; stroke-width: 2px; opacity: 1;\"/><path d=\"M234.85,81.29H235.35M235.35,80.61V91.93M235.84,88.65H235.35\" style=\"fill: none; stroke: rgb(217, 95, 2); stroke-opacity: 1; stroke-width: 2px; opacity: 1;\"/><path d=\"M236.49,88.65H236.99M236.99,74.15V89.51M237.48,85.08H236.99\" style=\"fill: none; stroke: rgb(27, 158, 118); stroke-opacity: 1; stroke-width: 2px; opacity: 1;\"/><path d=\"M238.14,85.08H238.63M238.63,84.9V109.96M239.12,109.03H238.63\" style=\"fill: none; stroke: rgb(217, 95, 2); stroke-opacity: 1; stroke-width: 2px; opacity: 1;\"/><path d=\"M239.78,109H240.27M240.27,79.65V110.84M240.76,83.47H240.27\" style=\"fill: none; stroke: rgb(27, 158, 118); stroke-opacity: 1; stroke-width: 2px; opacity: 1;\"/><path d=\"M241.42,83.47H241.91M241.91,77.9V96.97M242.4,89.76H241.91\" style=\"fill: none; stroke: rgb(217, 95, 2); stroke-opacity: 1; stroke-width: 2px; opacity: 1;\"/><path d=\"M243.06,89.76H243.55M243.55,76.15V96.71M244.04,84.21H243.55\" style=\"fill: none; stroke: rgb(27, 158, 118); stroke-opacity: 1; stroke-width: 2px; opacity: 1;\"/><path d=\"M244.7,84.2H245.19M245.19,71.02V86.71M245.69,74.87H245.19\" style=\"fill: none; stroke: rgb(27, 158, 118); stroke-opacity: 1; stroke-width: 2px; opacity: 1;\"/><path d=\"M246.34,74.84H246.84M246.84,72.23V90.72M247.33,78.62H246.84\" style=\"fill: none; stroke: rgb(217, 95, 2); stroke-opacity: 1; stroke-width: 2px; opacity: 1;\"/><path d=\"M247.98,78.62H248.48M248.48,71.02V107.83M248.97,93.25H248.48\" style=\"fill: none; stroke: rgb(217, 95, 2); stroke-opacity: 1; stroke-width: 2px; opacity: 1;\"/><path d=\"M249.63,93.25H250.12M250.12,86.94V101.97M250.61,88.1H250.12\" style=\"fill: none; stroke: rgb(27, 158, 118); stroke-opacity: 1; stroke-width: 2px; opacity: 1;\"/><path d=\"M251.27,88.1H251.76M251.76,80.07V136.79M252.25,130.57H251.76\" style=\"fill: none; stroke: rgb(217, 95, 2); stroke-opacity: 1; stroke-width: 2px; opacity: 1;\"/><path d=\"M252.91,131.13H253.4M253.4,120.09V152.48M253.89,130.33H253.4\" style=\"fill: none; stroke: rgb(27, 158, 118); stroke-opacity: 1; stroke-width: 2px; opacity: 1;\"/><path d=\"M254.55,130.32H255.04M255.04,119.39V135.58M255.53,129.3H255.04\" style=\"fill: none; stroke: rgb(27, 158, 118); stroke-opacity: 1; stroke-width: 2px; opacity: 1;\"/><path d=\"M256.19,129.28H256.68M256.68,124.12V149.13M257.18,147.87H256.68\" style=\"fill: none; stroke: rgb(217, 95, 2); stroke-opacity: 1; stroke-width: 2px; opacity: 1;\"/><path d=\"M257.83,147.87H258.32M258.32,129.57V165.6M258.82,149.87H258.32\" style=\"fill: none; stroke: rgb(217, 95, 2); stroke-opacity: 1; stroke-width: 2px; opacity: 1;\"/><path d=\"M259.47,149.9H259.97M259.97,148.34V176.61M260.46,167.33H259.97\" style=\"fill: none; stroke: rgb(217, 95, 2); stroke-opacity: 1; stroke-width: 2px; opacity: 1;\"/><path d=\"M261.11,167.33H261.61M261.61,153.69V175.1M262.1,171.48H261.61\" style=\"fill: none; stroke: rgb(217, 95, 2); stroke-opacity: 1; stroke-width: 2px; opacity: 1;\"/><path d=\"M262.76,171.48H263.25M263.25,167.05V249.02M263.74,208.65H263.25\" style=\"fill: none; stroke: rgb(217, 95, 2); stroke-opacity: 1; stroke-width: 2px; opacity: 1;\"/><path d=\"M264.4,208.76H264.89M264.89,173.89V219.75M265.38,185.5H264.89\" style=\"fill: none; stroke: rgb(27, 158, 118); stroke-opacity: 1; stroke-width: 2px; opacity: 1;\"/><path d=\"M266.04,185.51H266.53M266.53,175.4V227.97M267.02,205.26H266.53\" style=\"fill: none; stroke: rgb(217, 95, 2); stroke-opacity: 1; stroke-width: 2px; opacity: 1;\"/><path d=\"M267.68,205.19H268.17M268.17,195.74V217.64M268.66,204.07H268.17\" style=\"fill: none; stroke: rgb(27, 158, 118); stroke-opacity: 1; stroke-width: 2px; opacity: 1;\"/><path d=\"M269.32,204.01H269.81M269.81,199.11V242.31M270.31,220.93H269.81\" style=\"fill: none; stroke: rgb(217, 95, 2); stroke-opacity: 1; stroke-width: 2px; opacity: 1;\"/><path d=\"M270.96,220.77H271.45M271.45,189.16V224.69M271.95,195.94H271.45\" style=\"fill: none; stroke: rgb(27, 158, 118); stroke-opacity: 1; stroke-width: 2px; opacity: 1;\"/><path d=\"M272.6,195.85H273.1M273.1,189.94V210.28M273.59,198.79H273.1\" style=\"fill: none; stroke: rgb(217, 95, 2); stroke-opacity: 1; stroke-width: 2px; opacity: 1;\"/><path d=\"M274.24,198.79H274.74M274.74,183.6V201.95M275.23,193.25H274.74\" style=\"fill: none; stroke: rgb(27, 158, 118); stroke-opacity: 1; stroke-width: 2px; opacity: 1;\"/><path d=\"M275.89,193.25H276.38M276.38,186.2V205.97M276.87,197.55H276.38\" style=\"fill: none; stroke: rgb(217, 95, 2); stroke-opacity: 1; stroke-width: 2px; opacity: 1;\"/><path d=\"M277.53,197.55H278.02M278.02,195.45V220.75M278.51,214.84H278.02\" style=\"fill: none; stroke: rgb(217, 95, 2); stroke-opacity: 1; stroke-width: 2px; opacity: 1;\"/><path d=\"M279.17,214.85H279.66M279.66,204.74V227.1M280.15,221.23H279.66\" style=\"fill: none; stroke: rgb(217, 95, 2); stroke-opacity: 1; stroke-width: 2px; opacity: 1;\"/><path d=\"M280.81,221.23H281.3M281.3,209.87V228.63M281.79,214.98H281.3\" style=\"fill: none; stroke: rgb(27, 158, 118); stroke-opacity: 1; stroke-width: 2px; opacity: 1;\"/><path d=\"M282.45,214.98H282.94M282.94,203.77V223.95M283.44,205.25H282.94\" style=\"fill: none; stroke: rgb(27, 158, 118); stroke-opacity: 1; stroke-width: 2px; opacity: 1;\"/><path d=\"M284.09,205.25H284.58M284.58,201.38V214.83M285.08,208.63H284.58\" style=\"fill: none; stroke: rgb(217, 95, 2); stroke-opacity: 1; stroke-width: 2px; opacity: 1;\"/><path d=\"M285.73,208.62H286.23M286.23,199.39V213.3M286.72,203.35H286.23\" style=\"fill: none; stroke: rgb(27, 158, 118); stroke-opacity: 1; stroke-width: 2px; opacity: 1;\"/><path d=\"M287.37,203.35H287.87M287.87,191.84V205.75M288.36,193.22H287.87\" style=\"fill: none; stroke: rgb(27, 158, 118); stroke-opacity: 1; stroke-width: 2px; opacity: 1;\"/><path d=\"M289.02,193.22H289.51M289.51,192.97V215.5M290,207.81H289.51\" style=\"fill: none; stroke: rgb(217, 95, 2); stroke-opacity: 1; stroke-width: 2px; opacity: 1;\"/><path d=\"M290.66,207.81H291.15M291.15,201.2V220.05M291.64,215.75H291.15\" style=\"fill: none; stroke: rgb(217, 95, 2); stroke-opacity: 1; stroke-width: 2px; opacity: 1;\"/><path d=\"M292.3,215.73H292.79M292.79,209.92V217.51M293.28,214.04H292.79\" style=\"fill: none; stroke: rgb(27, 158, 118); stroke-opacity: 1; stroke-width: 2px; opacity: 1;\"/><path d=\"M293.94,214.04H294.43M294.43,207.38V229.11M294.92,227.58H294.43\" style=\"fill: none; stroke: rgb(217, 95, 2); stroke-opacity: 1; stroke-width: 2px; opacity: 1;\"/><path d=\"M295.58,227.55H296.07M296.07,224.47V242.98M296.57,228.62H296.07\" style=\"fill: none; stroke: rgb(217, 95, 2); stroke-opacity: 1; stroke-width: 2px; opacity: 1;\"/><path d=\"M297.22,228.62H297.72M297.72,203.55V234.56M298.21,204.44H297.72\" style=\"fill: none; stroke: rgb(27, 158, 118); stroke-opacity: 1; stroke-width: 2px; opacity: 1;\"/><path d=\"M298.86,204.44H299.36M299.36,197.78V214.13M299.85,208.74H299.36\" style=\"fill: none; stroke: rgb(217, 95, 2); stroke-opacity: 1; stroke-width: 2px; opacity: 1;\"/><path d=\"M300.51,208.72H301M301,202.68V213.2M301.49,204.78H301\" style=\"fill: none; stroke: rgb(27, 158, 118); stroke-opacity: 1; stroke-width: 2px; opacity: 1;\"/><path d=\"M302.15,204.78H302.64M302.64,203.98V221.26M303.13,215.55H302.64\" style=\"fill: none; stroke: rgb(217, 95, 2); stroke-opacity: 1; stroke-width: 2px; opacity: 1;\"/><path d=\"M303.79,215.55H304.28M304.28,192.42V220.31M304.77,194.59H304.28\" style=\"fill: none; stroke: rgb(27, 158, 118); stroke-opacity: 1; stroke-width: 2px; opacity: 1;\"/><path d=\"M305.43,194.59H305.92M305.92,182.26V196.34M306.41,185.56H305.92\" style=\"fill: none; stroke: rgb(27, 158, 118); stroke-opacity: 1; stroke-width: 2px; opacity: 1;\"/><path d=\"M307.07,185.56H307.56M307.56,180.65V191.66M308.06,187.81H307.56\" style=\"fill: none; stroke: rgb(217, 95, 2); stroke-opacity: 1; stroke-width: 2px; opacity: 1;\"/><path d=\"M308.71,187.81H309.2M309.2,185.5V200.05M309.7,198.64H309.2\" style=\"fill: none; stroke: rgb(217, 95, 2); stroke-opacity: 1; stroke-width: 2px; opacity: 1;\"/><path d=\"M310.35,198.64H310.85M310.85,191.33V204.58M311.34,200.19H310.85\" style=\"fill: none; stroke: rgb(217, 95, 2); stroke-opacity: 1; stroke-width: 2px; opacity: 1;\"/><path d=\"M311.99,200.19H312.49M312.49,199.52V218.07M312.98,213.9H312.49\" style=\"fill: none; stroke: rgb(217, 95, 2); stroke-opacity: 1; stroke-width: 2px; opacity: 1;\"/><path d=\"M313.64,213.9H314.13M314.13,210.06V220.03M314.62,215.93H314.13\" style=\"fill: none; stroke: rgb(217, 95, 2); stroke-opacity: 1; stroke-width: 2px; opacity: 1;\"/><path d=\"M315.28,215.93H315.77M315.77,211.98V228.89M316.26,215.23H315.77\" style=\"fill: none; stroke: rgb(27, 158, 118); stroke-opacity: 1; stroke-width: 2px; opacity: 1;\"/><path d=\"M316.92,215.23H317.41M317.41,214.32V241.47M317.9,239.31H317.41\" style=\"fill: none; stroke: rgb(217, 95, 2); stroke-opacity: 1; stroke-width: 2px; opacity: 1;\"/><path d=\"M318.56,239.28H319.05M319.05,229.11V256.23M319.54,233.87H319.05\" style=\"fill: none; stroke: rgb(27, 158, 118); stroke-opacity: 1; stroke-width: 2px; opacity: 1;\"/><path d=\"M320.2,233.87H320.69M320.69,219.57V238.86M321.19,226.82H320.69\" style=\"fill: none; stroke: rgb(27, 158, 118); stroke-opacity: 1; stroke-width: 2px; opacity: 1;\"/><path d=\"M321.84,226.84H322.33M322.33,217.05V235.22M322.83,220.88H322.33\" style=\"fill: none; stroke: rgb(27, 158, 118); stroke-opacity: 1; stroke-width: 2px; opacity: 1;\"/><path d=\"M323.48,220.88H323.98M323.98,215.83V241.32M324.47,239.46H323.98\" style=\"fill: none; stroke: rgb(217, 95, 2); stroke-opacity: 1; stroke-width: 2px; opacity: 1;\"/><path d=\"M325.12,239.51H325.62M325.62,232.54V248.11M326.11,235.24H325.62\" style=\"fill: none; stroke: rgb(27, 158, 118); stroke-opacity: 1; stroke-width: 2px; opacity: 1;\"/><path d=\"M326.77,235.24H327.26M327.26,220.36V237.11M327.75,220.66H327.26\" style=\"fill: none; stroke: rgb(27, 158, 118); stroke-opacity: 1; stroke-width: 2px; opacity: 1;\"/><path d=\"M328.41,220.64H328.9M328.9,217.05V225.71M329.39,221.9H328.9\" style=\"fill: none; stroke: rgb(217, 95, 2); stroke-opacity: 1; stroke-width: 2px; opacity: 1;\"/><path d=\"M330.05,221.9H330.54M330.54,209.19V223.52M331.03,213.35H330.54\" style=\"fill: none; stroke: rgb(27, 158, 118); stroke-opacity: 1; stroke-width: 2px; opacity: 1;\"/><path d=\"M331.69,213.35H332.18M332.18,212.21V224.78M332.67,218.58H332.18\" style=\"fill: none; stroke: rgb(217, 95, 2); stroke-opacity: 1; stroke-width: 2px; opacity: 1;\"/><path d=\"M333.33,218.58H333.82M333.82,218.5V232.66M334.32,227.87H333.82\" style=\"fill: none; stroke: rgb(217, 95, 2); stroke-opacity: 1; stroke-width: 2px; opacity: 1;\"/><path d=\"M334.97,227.88H335.46M335.46,225.02V232.73M335.96,226.17H335.46\" style=\"fill: none; stroke: rgb(27, 158, 118); stroke-opacity: 1; stroke-width: 2px; opacity: 1;\"/><path d=\"M336.61,226.17H337.11M337.11,219.18V229M337.6,220.84H337.11\" style=\"fill: none; stroke: rgb(27, 158, 118); stroke-opacity: 1; stroke-width: 2px; opacity: 1;\"/><path d=\"M338.25,220.84H338.75M338.75,213.01V222.73M339.24,217.12H338.75\" style=\"fill: none; stroke: rgb(27, 158, 118); stroke-opacity: 1; stroke-width: 2px; opacity: 1;\"/><path d=\"M339.9,217.11H340.39M340.39,217.08V230.16M340.88,226.75H340.39\" style=\"fill: none; stroke: rgb(217, 95, 2); stroke-opacity: 1; stroke-width: 2px; opacity: 1;\"/><path d=\"M341.54,226.75H342.03M342.03,218.13V227.71M342.52,223.55H342.03\" style=\"fill: none; stroke: rgb(27, 158, 118); stroke-opacity: 1; stroke-width: 2px; opacity: 1;\"/><path d=\"M343.18,223.55H343.67M343.67,218.49V226.22M344.16,225.71H343.67\" style=\"fill: none; stroke: rgb(217, 95, 2); stroke-opacity: 1; stroke-width: 2px; opacity: 1;\"/><path d=\"M344.82,225.71H345.31M345.31,225.31V236.48M345.8,231.67H345.31\" style=\"fill: none; stroke: rgb(217, 95, 2); stroke-opacity: 1; stroke-width: 2px; opacity: 1;\"/><path d=\"M346.46,231.67H346.95M346.95,224.28V235.37M347.45,225.99H346.95\" style=\"fill: none; stroke: rgb(27, 158, 118); stroke-opacity: 1; stroke-width: 2px; opacity: 1;\"/><path d=\"M348.1,225.99H348.59M348.59,223.3V230.89M349.09,227.88H348.59\" style=\"fill: none; stroke: rgb(217, 95, 2); stroke-opacity: 1; stroke-width: 2px; opacity: 1;\"/><path d=\"M349.74,227.88H350.24M350.24,220.86V229.07M350.73,223.32H350.24\" style=\"fill: none; stroke: rgb(27, 158, 118); stroke-opacity: 1; stroke-width: 2px; opacity: 1;\"/><path d=\"M351.39,223.32H351.88M351.88,220.79V232.98M352.37,230.39H351.88\" style=\"fill: none; stroke: rgb(217, 95, 2); stroke-opacity: 1; stroke-width: 2px; opacity: 1;\"/><path d=\"M353.03,230.39H353.52M353.52,228.86V235.73M354.01,232.55H353.52\" style=\"fill: none; stroke: rgb(217, 95, 2); stroke-opacity: 1; stroke-width: 2px; opacity: 1;\"/><path d=\"M354.67,232.55H355.16M355.16,230.23V239.66M355.65,232H355.16\" style=\"fill: none; stroke: rgb(27, 158, 118); stroke-opacity: 1; stroke-width: 2px; opacity: 1;\"/><path d=\"M356.31,232H356.8M356.8,229.8V242.18M357.29,237.67H356.8\" style=\"fill: none; stroke: rgb(217, 95, 2); stroke-opacity: 1; stroke-width: 2px; opacity: 1;\"/><path d=\"M357.95,237.71H358.44M358.44,235.45V242.86M358.94,240.67H358.44\" style=\"fill: none; stroke: rgb(217, 95, 2); stroke-opacity: 1; stroke-width: 2px; opacity: 1;\"/><path d=\"M359.59,240.67H360.08M360.08,237.22V241.99M360.58,239.85H360.08\" style=\"fill: none; stroke: rgb(27, 158, 118); stroke-opacity: 1; stroke-width: 2px; opacity: 1;\"/><path d=\"M361.23,239.85H361.73M361.73,234.32V242.33M362.22,238.29H361.73\" style=\"fill: none; stroke: rgb(27, 158, 118); stroke-opacity: 1; stroke-width: 2px; opacity: 1;\"/><path d=\"M362.87,238.29H363.37M363.37,237.56V246.56M363.86,243.95H363.37\" style=\"fill: none; stroke: rgb(217, 95, 2); stroke-opacity: 1; stroke-width: 2px; opacity: 1;\"/><path d=\"M364.52,243.95H365.01M365.01,242.6V253.37M365.5,250.28H365.01\" style=\"fill: none; stroke: rgb(217, 95, 2); stroke-opacity: 1; stroke-width: 2px; opacity: 1;\"/><path d=\"M366.16,250.28H366.65M366.65,231.77V252.14M367.14,236.08H366.65\" style=\"fill: none; stroke: rgb(27, 158, 118); stroke-opacity: 1; stroke-width: 2px; opacity: 1;\"/><path d=\"M367.8,236.08H368.29M368.29,233.38V238.71M368.78,235.21H368.29\" style=\"fill: none; stroke: rgb(27, 158, 118); stroke-opacity: 1; stroke-width: 2px; opacity: 1;\"/><path d=\"M369.44,235.21H369.93M369.93,226.99V237.41M370.42,227.09H369.93\" style=\"fill: none; stroke: rgb(27, 158, 118); stroke-opacity: 1; stroke-width: 2px; opacity: 1;\"/><path d=\"M371.08,227.09H371.57M371.57,221.86V228.5M372.07,223.32H371.57\" style=\"fill: none; stroke: rgb(27, 158, 118); stroke-opacity: 1; stroke-width: 2px; opacity: 1;\"/><path d=\"M372.72,223.3H373.21M373.21,216.45V225.78M373.71,216.55H373.21\" style=\"fill: none; stroke: rgb(27, 158, 118); stroke-opacity: 1; stroke-width: 2px; opacity: 1;\"/><path d=\"M374.36,216.55H374.86M374.86,185.36V217.61M375.35,205.35H374.86\" style=\"fill: none; stroke: rgb(27, 158, 118); stroke-opacity: 1; stroke-width: 2px; opacity: 1;\"/><path d=\"M376,205.32H376.5M376.5,191.44V210.5M376.99,191.95H376.5\" style=\"fill: none; stroke: rgb(27, 158, 118); stroke-opacity: 1; stroke-width: 2px; opacity: 1;\"/><path d=\"M377.65,191.96H378.14M378.14,183.25V196.09M378.63,188.56H378.14\" style=\"fill: none; stroke: rgb(27, 158, 118); stroke-opacity: 1; stroke-width: 2px; opacity: 1;\"/><path d=\"M379.29,188.56H379.78M379.78,184.82V193.51M380.27,188.58H379.78\" style=\"fill: none; stroke: rgb(217, 95, 2); stroke-opacity: 1; stroke-width: 2px; opacity: 1;\"/><path d=\"M380.93,188.57H381.42M381.42,174.7V198.86M381.91,175.37H381.42\" style=\"fill: none; stroke: rgb(27, 158, 118); stroke-opacity: 1; stroke-width: 2px; opacity: 1;\"/><path d=\"M382.57,175.37H383.06M383.06,173.91V182.64M383.55,179.86H383.06\" style=\"fill: none; stroke: rgb(217, 95, 2); stroke-opacity: 1; stroke-width: 2px; opacity: 1;\"/><path d=\"M384.21,179.86H384.7M384.7,173V192.17M385.2,189.61H384.7\" style=\"fill: none; stroke: rgb(217, 95, 2); stroke-opacity: 1; stroke-width: 2px; opacity: 1;\"/><path d=\"M385.85,189.58H386.34M386.34,185.78V196.58M386.84,193.82H386.34\" style=\"fill: none; stroke: rgb(217, 95, 2); stroke-opacity: 1; stroke-width: 2px; opacity: 1;\"/><path d=\"M387.49,193.83H387.99M387.99,190.01V202.91M388.48,199.5H387.99\" style=\"fill: none; stroke: rgb(217, 95, 2); stroke-opacity: 1; stroke-width: 2px; opacity: 1;\"/><path d=\"M389.13,199.5H389.63M389.63,188.86V203.71M390.12,190.35H389.63\" style=\"fill: none; stroke: rgb(27, 158, 118); stroke-opacity: 1; stroke-width: 2px; opacity: 1;\"/><path d=\"M390.78,190.35H391.27M391.27,180.53V204.77M391.76,183.48H391.27\" style=\"fill: none; stroke: rgb(27, 158, 118); stroke-opacity: 1; stroke-width: 2px; opacity: 1;\"/><path d=\"M392.42,183.48H392.91M392.91,168.21V189.56M393.4,171.56H392.91\" style=\"fill: none; stroke: rgb(27, 158, 118); stroke-opacity: 1; stroke-width: 2px; opacity: 1;\"/><path d=\"M394.06,171.56H394.55M394.55,160.32V173.92M395.04,161.09H394.55\" style=\"fill: none; stroke: rgb(27, 158, 118); stroke-opacity: 1; stroke-width: 2px; opacity: 1;\"/><path d=\"M395.7,161.09H396.19M396.19,156.64V169M396.68,165.78H396.19\" style=\"fill: none; stroke: rgb(217, 95, 2); stroke-opacity: 1; stroke-width: 2px; opacity: 1;\"/><path d=\"M397.34,165.78H397.83M397.83,149.74V171.91M398.33,150.95H397.83\" style=\"fill: none; stroke: rgb(27, 158, 118); stroke-opacity: 1; stroke-width: 2px; opacity: 1;\"/><path d=\"M398.98,150.97H399.47M399.47,148.25V160.99M399.97,154.98H399.47\" style=\"fill: none; stroke: rgb(217, 95, 2); stroke-opacity: 1; stroke-width: 2px; opacity: 1;\"/><path d=\"M400.62,154.98H401.12M401.12,147.99V156.45M401.61,155.43H401.12\" style=\"fill: none; stroke: rgb(217, 95, 2); stroke-opacity: 1; stroke-width: 2px; opacity: 1;\"/><path d=\"M402.27,155.43H402.76M402.76,151.16V165.93M403.25,162.14H402.76\" style=\"fill: none; stroke: rgb(217, 95, 2); stroke-opacity: 1; stroke-width: 2px; opacity: 1;\"/><path d=\"M403.91,162.13H404.4M404.4,141.1V163.23M404.89,141.62H404.4\" style=\"fill: none; stroke: rgb(27, 158, 118); stroke-opacity: 1; stroke-width: 2px; opacity: 1;\"/><path d=\"M405.55,141.62H406.04M406.04,139.54V152.65M406.53,146.03H406.04\" style=\"fill: none; stroke: rgb(217, 95, 2); stroke-opacity: 1; stroke-width: 2px; opacity: 1;\"/><path d=\"M407.19,146.03H407.68M407.68,144.2V155.49M408.17,146.6H407.68\" style=\"fill: none; stroke: rgb(217, 95, 2); stroke-opacity: 1; stroke-width: 2px; opacity: 1;\"/><path d=\"M408.83,146.6H409.32M409.32,140.08V154.53M409.82,153.07H409.32\" style=\"fill: none; stroke: rgb(217, 95, 2); stroke-opacity: 1; stroke-width: 2px; opacity: 1;\"/><path d=\"M410.47,153.07H410.96M410.96,145.48V162.28M411.46,160.34H410.96\" style=\"fill: none; stroke: rgb(217, 95, 2); stroke-opacity: 1; stroke-width: 2px; opacity: 1;\"/><path d=\"M412.11,160.34H412.61M412.61,152.48V163.32M413.1,160.29H412.61\" style=\"fill: none; stroke: rgb(27, 158, 118); stroke-opacity: 1; stroke-width: 2px; opacity: 1;\"/><path d=\"M413.75,160.32H414.25M414.25,146.24V164.98M414.74,147.89H414.25\" style=\"fill: none; stroke: rgb(27, 158, 118); stroke-opacity: 1; stroke-width: 2px; opacity: 1;\"/><path d=\"M415.4,147.89H415.89M415.89,132.06V148.72M416.38,132.43H415.89\" style=\"fill: none; stroke: rgb(27, 158, 118); stroke-opacity: 1; stroke-width: 2px; opacity: 1;\"/><path d=\"M417.04,132.43H417.53M417.53,129.81V139.07M418.02,135.45H417.53\" style=\"fill: none; stroke: rgb(217, 95, 2); stroke-opacity: 1; stroke-width: 2px; opacity: 1;\"/><path d=\"M418.68,135.45H419.17M419.17,131.36V140.11M419.66,132.93H419.17\" style=\"fill: none; stroke: rgb(27, 158, 118); stroke-opacity: 1; stroke-width: 2px; opacity: 1;\"/><path d=\"M420.32,132.93H420.81M420.81,125.32V134.2M421.3,131.43H420.81\" style=\"fill: none; stroke: rgb(27, 158, 118); stroke-opacity: 1; stroke-width: 2px; opacity: 1;\"/><path d=\"M421.96,131.43H422.45M422.45,129.19V142.82M422.95,142.38H422.45\" style=\"fill: none; stroke: rgb(217, 95, 2); stroke-opacity: 1; stroke-width: 2px; opacity: 1;\"/><path d=\"M423.6,142.38H424.09M424.09,132.78V145.68M424.59,134.54H424.09\" style=\"fill: none; stroke: rgb(27, 158, 118); stroke-opacity: 1; stroke-width: 2px; opacity: 1;\"/><path d=\"M425.24,134.54H425.74M425.74,132.25V150.97M426.23,147.38H425.74\" style=\"fill: none; stroke: rgb(217, 95, 2); stroke-opacity: 1; stroke-width: 2px; opacity: 1;\"/><path d=\"M426.88,147.38H427.38M427.38,133.47V150.38M427.87,133.95H427.38\" style=\"fill: none; stroke: rgb(27, 158, 118); stroke-opacity: 1; stroke-width: 2px; opacity: 1;\"/><path d=\"M428.53,133.95H429.02M429.02,132.57V138.32M429.51,135.01H429.02\" style=\"fill: none; stroke: rgb(217, 95, 2); stroke-opacity: 1; stroke-width: 2px; opacity: 1;\"/><path d=\"M430.17,135.01H430.66M430.66,130.56V141.84M431.15,135.78H430.66\" style=\"fill: none; stroke: rgb(217, 95, 2); stroke-opacity: 1; stroke-width: 2px; opacity: 1;\"/><path d=\"M431.81,135.78H432.3M432.3,135.05V147.33M432.79,146.55H432.3\" style=\"fill: none; stroke: rgb(217, 95, 2); stroke-opacity: 1; stroke-width: 2px; opacity: 1;\"/><path d=\"M433.45,146.55H433.94M433.94,138.92V148.25M434.43,145.83H433.94\" style=\"fill: none; stroke: rgb(27, 158, 118); stroke-opacity: 1; stroke-width: 2px; opacity: 1;\"/><path d=\"M435.09,145.83H435.58M435.58,133.43V149.39M436.08,135.52H435.58\" style=\"fill: none; stroke: rgb(27, 158, 118); stroke-opacity: 1; stroke-width: 2px; opacity: 1;\"/><path d=\"M436.73,135.52H437.22M437.22,125.63V136.88M437.72,132.89H437.22\" style=\"fill: none; stroke: rgb(27, 158, 118); stroke-opacity: 1; stroke-width: 2px; opacity: 1;\"/><path d=\"M438.37,132.89H438.87M438.87,122.31V138.5M439.36,128.35H438.87\" style=\"fill: none; stroke: rgb(27, 158, 118); stroke-opacity: 1; stroke-width: 2px; opacity: 1;\"/><path d=\"M440.01,128.35H440.51M440.51,125.11V132.14M441,128.85H440.51\" style=\"fill: none; stroke: rgb(217, 95, 2); stroke-opacity: 1; stroke-width: 2px; opacity: 1;\"/><path d=\"M441.66,128.84H442.15M442.15,116.88V131.66M442.64,117.74H442.15\" style=\"fill: none; stroke: rgb(27, 158, 118); stroke-opacity: 1; stroke-width: 2px; opacity: 1;\"/><path d=\"M443.3,117.74H443.79M443.79,111.57V122.49M444.28,112.27H443.79\" style=\"fill: none; stroke: rgb(27, 158, 118); stroke-opacity: 1; stroke-width: 2px; opacity: 1;\"/><path d=\"M444.94,112.25H445.43M445.43,110.72V171.52M445.92,147.27H445.43\" style=\"fill: none; stroke: rgb(217, 95, 2); stroke-opacity: 1; stroke-width: 2px; opacity: 1;\"/><path d=\"M446.58,147.24H447.07M447.07,144.39V162.06M447.56,152.19H447.07\" style=\"fill: none; stroke: rgb(217, 95, 2); stroke-opacity: 1; stroke-width: 2px; opacity: 1;\"/><path d=\"M448.22,152.19H448.71M448.71,144.03V155.41M449.21,150.09H448.71\" style=\"fill: none; stroke: rgb(27, 158, 118); stroke-opacity: 1; stroke-width: 2px; opacity: 1;\"/><path d=\"M449.86,150.09H450.35M450.35,146.24V163.75M450.85,159.41H450.35\" style=\"fill: none; stroke: rgb(217, 95, 2); stroke-opacity: 1; stroke-width: 2px; opacity: 1;\"/><path d=\"M451.5,159.46H452M452,152.55V160.19M452.49,157.46H452\" style=\"fill: none; stroke: rgb(27, 158, 118); stroke-opacity: 1; stroke-width: 2px; opacity: 1;\"/><path d=\"M453.15,157.46H453.64M453.64,149.7V160.07M454.13,152.32H453.64\" style=\"fill: none; stroke: rgb(27, 158, 118); stroke-opacity: 1; stroke-width: 2px; opacity: 1;\"/><path d=\"M454.79,152.32H455.28M455.28,147.17V168.35M455.77,158.87H455.28\" style=\"fill: none; stroke: rgb(217, 95, 2); stroke-opacity: 1; stroke-width: 2px; opacity: 1;\"/><path d=\"M456.43,158.87H456.92M456.92,144.93V160.96M457.41,145.77H456.92\" style=\"fill: none; stroke: rgb(27, 158, 118); stroke-opacity: 1; stroke-width: 2px; opacity: 1;\"/><path d=\"M458.07,145.82H458.56M458.56,137.39V148.36M459.05,139.68H458.56\" style=\"fill: none; stroke: rgb(27, 158, 118); stroke-opacity: 1; stroke-width: 2px; opacity: 1;\"/><path d=\"M459.71,139.68H460.2M460.2,137.05V146.32M460.7,141.99H460.2\" style=\"fill: none; stroke: rgb(217, 95, 2); stroke-opacity: 1; stroke-width: 2px; opacity: 1;\"/><path d=\"M461.35,141.99H461.84M461.84,139.5V148.26M462.34,144.63H461.84\" style=\"fill: none; stroke: rgb(217, 95, 2); stroke-opacity: 1; stroke-width: 2px; opacity: 1;\"/><path d=\"M462.99,144.63H463.49M463.49,135.32V146.23M463.98,138.64H463.49\" style=\"fill: none; stroke: rgb(27, 158, 118); stroke-opacity: 1; stroke-width: 2px; opacity: 1;\"/><path d=\"M464.63,138.64H465.13M465.13,138.16V147.47M465.62,144.98H465.13\" style=\"fill: none; stroke: rgb(217, 95, 2); stroke-opacity: 1; stroke-width: 2px; opacity: 1;\"/><path d=\"M466.28,144.98H466.77M466.77,144.35V173.59M467.26,170.48H466.77\" style=\"fill: none; stroke: rgb(217, 95, 2); stroke-opacity: 1; stroke-width: 2px; opacity: 1;\"/><path d=\"M467.92,170.48H468.41M468.41,166.72V191.09M468.9,184.25H468.41\" style=\"fill: none; stroke: rgb(217, 95, 2); stroke-opacity: 1; stroke-width: 2px; opacity: 1;\"/><path d=\"M469.56,184.25H470.05M470.05,164.54V185.27M470.54,167.3H470.05\" style=\"fill: none; stroke: rgb(27, 158, 118); stroke-opacity: 1; stroke-width: 2px; opacity: 1;\"/><path d=\"M471.2,167.28H471.69M471.69,158.64V170.16M472.18,159.32H471.69\" style=\"fill: none; stroke: rgb(27, 158, 118); stroke-opacity: 1; stroke-width: 2px; opacity: 1;\"/><path d=\"M472.84,159.32H473.33M473.33,157.3V184.61M473.83,171.72H473.33\" style=\"fill: none; stroke: rgb(217, 95, 2); stroke-opacity: 1; stroke-width: 2px; opacity: 1;\"/><path d=\"M474.48,171.72H474.97M474.97,170.78V178.75M475.47,172.57H474.97\" style=\"fill: none; stroke: rgb(217, 95, 2); stroke-opacity: 1; stroke-width: 2px; opacity: 1;\"/><path d=\"M476.12,172.57H476.62M476.62,164.85V184.15M477.11,169.61H476.62\" style=\"fill: none; stroke: rgb(27, 158, 118); stroke-opacity: 1; stroke-width: 2px; opacity: 1;\"/><path d=\"M477.76,169.61H478.26M478.26,162.43V176.02M478.75,175.72H478.26\" style=\"fill: none; stroke: rgb(217, 95, 2); stroke-opacity: 1; stroke-width: 2px; opacity: 1;\"/><path d=\"M479.41,175.72H479.9M479.9,171.86V183.32M480.39,182.49H479.9\" style=\"fill: none; stroke: rgb(217, 95, 2); stroke-opacity: 1; stroke-width: 2px; opacity: 1;\"/><path d=\"M481.05,182.49H481.54M481.54,173.05V184.13M482.03,179.48H481.54\" style=\"fill: none; stroke: rgb(27, 158, 118); stroke-opacity: 1; stroke-width: 2px; opacity: 1;\"/><path d=\"M482.69,179.48H483.18M483.18,163.69V180.17M483.67,165.61H483.18\" style=\"fill: none; stroke: rgb(27, 158, 118); stroke-opacity: 1; stroke-width: 2px; opacity: 1;\"/><path d=\"M484.33,165.63H484.82M484.82,137.42V168.87M485.31,139.55H484.82\" style=\"fill: none; stroke: rgb(27, 158, 118); stroke-opacity: 1; stroke-width: 2px; opacity: 1;\"/><path d=\"M485.97,139.55H486.46M486.46,138.38V143.85M486.96,142.61H486.46\" style=\"fill: none; stroke: rgb(217, 95, 2); stroke-opacity: 1; stroke-width: 2px; opacity: 1;\"/><path d=\"M487.61,142.61H488.1M488.1,133V145.91M488.6,139.2H488.1\" style=\"fill: none; stroke: rgb(27, 158, 118); stroke-opacity: 1; stroke-width: 2px; opacity: 1;\"/><path d=\"M489.25,139.2H489.75M489.75,131.14V147.1M490.24,133.02H489.75\" style=\"fill: none; stroke: rgb(27, 158, 118); stroke-opacity: 1; stroke-width: 2px; opacity: 1;\"/><path d=\"M490.89,133.02H491.39M491.39,116.96V134.24M491.88,119.46H491.39\" style=\"fill: none; stroke: rgb(27, 158, 118); stroke-opacity: 1; stroke-width: 2px; opacity: 1;\"/><path d=\"M492.54,119.46H493.03M493.03,93.65V126.03M493.52,96.27H493.03\" style=\"fill: none; stroke: rgb(27, 158, 118); stroke-opacity: 1; stroke-width: 2px; opacity: 1;\"/><path d=\"M494.18,96.27H494.67M494.67,96.17V108.09M495.16,105.5H494.67\" style=\"fill: none; stroke: rgb(217, 95, 2); stroke-opacity: 1; stroke-width: 2px; opacity: 1;\"/><path d=\"M495.82,105.5H496.31M496.31,91.54V106.51M496.8,104.5H496.31\" style=\"fill: none; stroke: rgb(27, 158, 118); stroke-opacity: 1; stroke-width: 2px; opacity: 1;\"/><path d=\"M497.46,104.47H497.95M497.95,95.22V106.25M498.44,98.48H497.95\" style=\"fill: none; stroke: rgb(27, 158, 118); stroke-opacity: 1; stroke-width: 2px; opacity: 1;\"/><path d=\"M499.1,98.48H499.59M499.59,88.75V103.72M500.09,100.23H499.59\" style=\"fill: none; stroke: rgb(217, 95, 2); stroke-opacity: 1; stroke-width: 2px; opacity: 1;\"/><path d=\"M500.74,100.23H501.23M501.23,81.04V101.7M501.73,83.26H501.23\" style=\"fill: none; stroke: rgb(27, 158, 118); stroke-opacity: 1; stroke-width: 2px; opacity: 1;\"/><path d=\"M502.38,83.26H502.88M502.88,82V104.94M503.37,92.16H502.88\" style=\"fill: none; stroke: rgb(217, 95, 2); stroke-opacity: 1; stroke-width: 2px; opacity: 1;\"/><path d=\"M504.03,92.16H504.52M504.52,81.42V103.2M505.01,83.89H504.52\" style=\"fill: none; stroke: rgb(27, 158, 118); stroke-opacity: 1; stroke-width: 2px; opacity: 1;\"/><path d=\"M505.67,83.87H506.16M506.16,76.86V87.2M506.65,84.01H506.16\" style=\"fill: none; stroke: rgb(217, 95, 2); stroke-opacity: 1; stroke-width: 2px; opacity: 1;\"/><path d=\"M507.31,84.01H507.8M507.8,50.31V87.01M508.29,57.91H507.8\" style=\"fill: none; stroke: rgb(27, 158, 118); stroke-opacity: 1; stroke-width: 2px; opacity: 1;\"/><path d=\"M508.95,57.91H509.44M509.44,53.65V67.1M509.93,62.72H509.44\" style=\"fill: none; stroke: rgb(217, 95, 2); stroke-opacity: 1; stroke-width: 2px; opacity: 1;\"/><path d=\"M510.59,62.72H511.08M511.08,57.64V74.26M511.58,58.78H511.08\" style=\"fill: none; stroke: rgb(27, 158, 118); stroke-opacity: 1; stroke-width: 2px; opacity: 1;\"/><path d=\"M512.23,58.78H512.72M512.72,51.74V68.94M513.22,55.88H512.72\" style=\"fill: none; stroke: rgb(27, 158, 118); stroke-opacity: 1; stroke-width: 2px; opacity: 1;\"/><path d=\"M513.87,55.9H514.37M514.37,40.94V60.03M514.86,42.18H514.37\" style=\"fill: none; stroke: rgb(27, 158, 118); stroke-opacity: 1; stroke-width: 2px; opacity: 1;\"/><path d=\"M515.51,42.18H516.01M516.01,25.77V47M516.5,31.79H516.01\" style=\"fill: none; stroke: rgb(27, 158, 118); stroke-opacity: 1; stroke-width: 2px; opacity: 1;\"/><path d=\"M517.16,31.79H517.65M517.65,27.94V55.94M518.14,54.77H517.65\" style=\"fill: none; stroke: rgb(217, 95, 2); stroke-opacity: 1; stroke-width: 2px; opacity: 1;\"/><path d=\"M518.8,54.77H519.29M519.29,45.48V68M519.78,63.85H519.29\" style=\"fill: none; stroke: rgb(217, 95, 2); stroke-opacity: 1; stroke-width: 2px; opacity: 1;\"/><path d=\"M520.44,63.85H520.93M520.93,57.46V70.65M521.42,60.24H520.93\" style=\"fill: none; stroke: rgb(27, 158, 118); stroke-opacity: 1; stroke-width: 2px; opacity: 1;\"/><path d=\"M522.08,60.24H522.57M522.57,58.95V70.96M523.06,62.86H522.57\" style=\"fill: none; stroke: rgb(217, 95, 2); stroke-opacity: 1; stroke-width: 2px; opacity: 1;\"/><path d=\"M523.72,62.86H524.21M524.21,45.61V64.08M524.71,49.43H524.21\" style=\"fill: none; stroke: rgb(27, 158, 118); stroke-opacity: 1; stroke-width: 2px; opacity: 1;\"/><path d=\"M525.36,49.43H525.85M525.85,48.13V69.1M526.35,66.02H525.85\" style=\"fill: none; stroke: rgb(217, 95, 2); stroke-opacity: 1; stroke-width: 2px; opacity: 1;\"/><path d=\"M527,66.02H527.5M527.5,58.98V80.07M527.99,77.58H527.5\" style=\"fill: none; stroke: rgb(217, 95, 2); stroke-opacity: 1; stroke-width: 2px; opacity: 1;\"/><path d=\"M528.64,77.58H529.14M529.14,52.93V81.16M529.63,64.53H529.14\" style=\"fill: none; stroke: rgb(27, 158, 118); stroke-opacity: 1; stroke-width: 2px; opacity: 1;\"/><path d=\"M530.29,64.53H530.78M530.78,50.02V66.95M531.27,54.41H530.78\" style=\"fill: none; stroke: rgb(27, 158, 118); stroke-opacity: 1; stroke-width: 2px; opacity: 1;\"/><path d=\"M531.93,54.41H532.42M532.42,53.77V63.94M532.91,56.79H532.42\" style=\"fill: none; stroke: rgb(217, 95, 2); stroke-opacity: 1; stroke-width: 2px; opacity: 1;\"/><path d=\"M533.57,56.79H534.06M534.06,53.49V68.33M534.55,60.16H534.06\" style=\"fill: none; stroke: rgb(217, 95, 2); stroke-opacity: 1; stroke-width: 2px; opacity: 1;\"/><path d=\"M535.21,60.16H535.7M535.7,53.3V71.59M536.19,62.51H535.7\" style=\"fill: none; stroke: rgb(217, 95, 2); stroke-opacity: 1; stroke-width: 2px; opacity: 1;\"/><path d=\"M536.85,62.51H537.34M537.34,42.24V64.23M537.84,48.58H537.34\" style=\"fill: none; stroke: rgb(27, 158, 118); stroke-opacity: 1; stroke-width: 2px; opacity: 1;\"/><path d=\"M538.49,48.57H538.98M538.98,46.89V65.69M539.48,50.53H538.98\" style=\"fill: none; stroke: rgb(217, 95, 2); stroke-opacity: 1; stroke-width: 2px; opacity: 1;\"/><path d=\"M540.13,50.53H540.63M540.63,49.38V63.92M541.12,59.59H540.63\" style=\"fill: none; stroke: rgb(217, 95, 2); stroke-opacity: 1; stroke-width: 2px; opacity: 1;\"/><path d=\"M541.77,59.59H542.27M542.27,52.34V63.65M542.76,62.35H542.27\" style=\"fill: none; stroke: rgb(217, 95, 2); stroke-opacity: 1; stroke-width: 2px; opacity: 1;\"/><path d=\"M543.42,62.33H543.91M543.91,58.59V67.7M544.4,59.13H543.91\" style=\"fill: none; stroke: rgb(27, 158, 118); stroke-opacity: 1; stroke-width: 2px; opacity: 1;\"/><path d=\"M545.06,59.13H545.55M545.55,48.17V60.02M546.04,48.25H545.55\" style=\"fill: none; stroke: rgb(27, 158, 118); stroke-opacity: 1; stroke-width: 2px; opacity: 1;\"/><path d=\"M546.7,48.25H547.19M547.19,21.01V48.25M547.68,22.59H547.19\" style=\"fill: none; stroke: rgb(27, 158, 118); stroke-opacity: 1; stroke-width: 2px; opacity: 1;\"/><path d=\"M548.34,22.59H548.83M548.83,16.57V30.46M549.32,26.08H548.83\" style=\"fill: none; stroke: rgb(217, 95, 2); stroke-opacity: 1; stroke-width: 2px; opacity: 1;\"/><path d=\"M549.98,26.08H550.47M550.47,13.7V50.97M550.97,38.54H550.47\" style=\"fill: none; stroke: rgb(217, 95, 2); stroke-opacity: 1; stroke-width: 2px; opacity: 1;\"/><path d=\"M551.62,38.54H552.11M552.11,34.21V43.27M552.61,39.2H552.11\" style=\"fill: none; stroke: rgb(217, 95, 2); stroke-opacity: 1; stroke-width: 2px; opacity: 1;\"/><path d=\"M553.26,39.2H553.76M553.76,35.12V54.26M554.25,43.13H553.76\" style=\"fill: none; stroke: rgb(217, 95, 2); stroke-opacity: 1; stroke-width: 2px; opacity: 1;\"/><path d=\"M554.91,43.13H555.4M555.4,37.84V47.73M555.89,41.58H555.4\" style=\"fill: none; stroke: rgb(27, 158, 118); stroke-opacity: 1; stroke-width: 2px; opacity: 1;\"/><path d=\"M556.55,41.58H557.04M557.04,34.51V46.43M557.53,34.7H557.04\" style=\"fill: none; stroke: rgb(27, 158, 118); stroke-opacity: 1; stroke-width: 2px; opacity: 1;\"/><path d=\"M558.19,34.7H558.68M558.68,29.38V47.49M559.17,46.24H558.68\" style=\"fill: none; stroke: rgb(217, 95, 2); stroke-opacity: 1; stroke-width: 2px; opacity: 1;\"/><path d=\"M559.83,46.24H560.32M560.32,46.18V76.61M560.81,67.65H560.32\" style=\"fill: none; stroke: rgb(217, 95, 2); stroke-opacity: 1; stroke-width: 2px; opacity: 1;\"/><path d=\"M561.47,67.65H561.96M561.96,62.93V77.82M562.46,65.92H561.96\" style=\"fill: none; stroke: rgb(27, 158, 118); stroke-opacity: 1; stroke-width: 2px; opacity: 1;\"/><path d=\"M563.11,65.92H563.6M563.6,62.11V89.28M564.1,86.76H563.6\" style=\"fill: none; stroke: rgb(217, 95, 2); stroke-opacity: 1; stroke-width: 2px; opacity: 1;\"/><path d=\"M564.75,86.76H565.25M565.25,78.14V94.55M565.74,79.76H565.25\" style=\"fill: none; stroke: rgb(27, 158, 118); stroke-opacity: 1; stroke-width: 2px; opacity: 1;\"/><path d=\"M566.39,79.73H566.89M566.89,68.94V83.98M567.38,69.77H566.89\" style=\"fill: none; stroke: rgb(27, 158, 118); stroke-opacity: 1; stroke-width: 2px; opacity: 1;\"/><path d=\"M568.04,69.77H568.53M568.53,67.82V77.14M569.02,76.32H568.53\" style=\"fill: none; stroke: rgb(217, 95, 2); stroke-opacity: 1; stroke-width: 2px; opacity: 1;\"/><path d=\"M569.68,76.34H570.17M570.17,71.36V94.49M570.66,90.65H570.17\" style=\"fill: none; stroke: rgb(217, 95, 2); stroke-opacity: 1; stroke-width: 2px; opacity: 1;\"/><path d=\"M571.32,90.67H571.81M571.81,80.01V96.26M572.3,82.84H571.81\" style=\"fill: none; stroke: rgb(27, 158, 118); stroke-opacity: 1; stroke-width: 2px; opacity: 1;\"/><path d=\"M572.96,82.84H573.45M573.45,81.67V93.12M573.94,85.27H573.45\" style=\"fill: none; stroke: rgb(217, 95, 2); stroke-opacity: 1; stroke-width: 2px; opacity: 1;\"/><path d=\"M574.6,85.27H575.09M575.09,71.63V86.11M575.59,74.28H575.09\" style=\"fill: none; stroke: rgb(27, 158, 118); stroke-opacity: 1; stroke-width: 2px; opacity: 1;\"/><path d=\"M576.24,74.28H576.73M576.73,73.13V107.22M577.23,105.86H576.73\" style=\"fill: none; stroke: rgb(217, 95, 2); stroke-opacity: 1; stroke-width: 2px; opacity: 1;\"/><path d=\"M577.88,105.87H578.38M578.38,96.48V106.56M578.87,99.86H578.38\" style=\"fill: none; stroke: rgb(27, 158, 118); stroke-opacity: 1; stroke-width: 2px; opacity: 1;\"/><path d=\"M579.52,99.88H580.02M580.02,83.42V108.69M580.51,84.45H580.02\" style=\"fill: none; stroke: rgb(27, 158, 118); stroke-opacity: 1; stroke-width: 2px; opacity: 1;\"/><path d=\"M581.17,84.45H581.66M581.66,74.85V88.12M582.15,81.42H581.66\" style=\"fill: none; stroke: rgb(27, 158, 118); stroke-opacity: 1; stroke-width: 2px; opacity: 1;\"/><path d=\"M582.81,81.42H583.3M583.3,72.97V92.89M583.79,86.4H583.3\" style=\"fill: none; stroke: rgb(217, 95, 2); stroke-opacity: 1; stroke-width: 2px; opacity: 1;\"/><path d=\"M584.45,86.4H584.94M584.94,73.71V89.38M585.43,84.99H584.94\" style=\"fill: none; stroke: rgb(27, 158, 118); stroke-opacity: 1; stroke-width: 2px; opacity: 1;\"/><path d=\"M586.09,84.99H586.58M586.58,83.84V93.48M587.07,89.24H586.58\" style=\"fill: none; stroke: rgb(217, 95, 2); stroke-opacity: 1; stroke-width: 2px; opacity: 1;\"/><path d=\"M587.73,89.22H588.22M588.22,82.48V118.2M588.72,106.61H588.22\" style=\"fill: none; stroke: rgb(217, 95, 2); stroke-opacity: 1; stroke-width: 2px; opacity: 1;\"/><path d=\"M589.37,106.61H589.86M589.86,105.06V176.61M590.36,133.46H589.86\" style=\"fill: none; stroke: rgb(217, 95, 2); stroke-opacity: 1; stroke-width: 2px; opacity: 1;\"/><path d=\"M591.01,133.46H591.51M591.51,130.16V142.06M592,131.98H591.51\" style=\"fill: none; stroke: rgb(27, 158, 118); stroke-opacity: 1; stroke-width: 2px; opacity: 1;\"/><path d=\"M592.65,131.98H593.15M593.15,122.96V145.84M593.64,125.68H593.15\" style=\"fill: none; stroke: rgb(27, 158, 118); stroke-opacity: 1; stroke-width: 2px; opacity: 1;\"/><path d=\"M594.3,125.68H594.79M594.79,116.66V128.1M595.28,124.79H594.79\" style=\"fill: none; stroke: rgb(27, 158, 118); stroke-opacity: 1; stroke-width: 2px; opacity: 1;\"/><path d=\"M595.94,124.79H596.43M596.43,121.1V136.79M596.92,125.5H596.43\" style=\"fill: none; stroke: rgb(217, 95, 2); stroke-opacity: 1; stroke-width: 2px; opacity: 1;\"/><path d=\"M597.58,125.5H598.07M598.07,123.53V144.51M598.56,143.15H598.07\" style=\"fill: none; stroke: rgb(217, 95, 2); stroke-opacity: 1; stroke-width: 2px; opacity: 1;\"/><path d=\"M599.22,143.21H599.71M599.71,127.59V147.34M600.2,145.59H599.71\" style=\"fill: none; stroke: rgb(217, 95, 2); stroke-opacity: 1; stroke-width: 2px; opacity: 1;\"/><path d=\"M600.86,145.59H601.35M601.35,131.44V147.95M601.85,132.02H601.35\" style=\"fill: none; stroke: rgb(27, 158, 118); stroke-opacity: 1; stroke-width: 2px; opacity: 1;\"/><path d=\"M602.5,132.02H602.99M602.99,123.65V136.56M603.49,128.02H602.99\" style=\"fill: none; stroke: rgb(27, 158, 118); stroke-opacity: 1; stroke-width: 2px; opacity: 1;\"/><path d=\"M604.14,128.02H604.64M604.64,127.2V154.45M605.13,148.24H604.64\" style=\"fill: none; stroke: rgb(217, 95, 2); stroke-opacity: 1; stroke-width: 2px; opacity: 1;\"/><path d=\"M605.79,148.24H606.28M606.28,136.18V150.73M606.77,138.34H606.28\" style=\"fill: none; stroke: rgb(27, 158, 118); stroke-opacity: 1; stroke-width: 2px; opacity: 1;\"/><path d=\"M607.43,138.38H607.92M607.92,131.36V149.18M608.41,135.19H607.92\" style=\"fill: none; stroke: rgb(27, 158, 118); stroke-opacity: 1; stroke-width: 2px; opacity: 1;\"/><path d=\"M609.07,135.19H609.56M609.56,131.74V143.36M610.05,142.63H609.56\" style=\"fill: none; stroke: rgb(217, 95, 2); stroke-opacity: 1; stroke-width: 2px; opacity: 1;\"/><path d=\"M610.71,142.63H611.2M611.2,140.43V155.76M611.69,151.68H611.2\" style=\"fill: none; stroke: rgb(217, 95, 2); stroke-opacity: 1; stroke-width: 2px; opacity: 1;\"/><path d=\"M612.35,151.67H612.84M612.84,144.08V155.49M613.33,147.44H612.84\" style=\"fill: none; stroke: rgb(27, 158, 118); stroke-opacity: 1; stroke-width: 2px; opacity: 1;\"/><path d=\"M613.99,147.44H614.48M614.48,138.6V150.02M614.98,148.37H614.48\" style=\"fill: none; stroke: rgb(217, 95, 2); stroke-opacity: 1; stroke-width: 2px; opacity: 1;\"/><path d=\"M615.63,148.37H616.13M616.13,143.2V155.14M616.62,146.96H616.13\" style=\"fill: none; stroke: rgb(27, 158, 118); stroke-opacity: 1; stroke-width: 2px; opacity: 1;\"/><path d=\"M617.27,146.96H617.77M617.77,132.39V148.68M618.26,135.04H617.77\" style=\"fill: none; stroke: rgb(27, 158, 118); stroke-opacity: 1; stroke-width: 2px; opacity: 1;\"/><path d=\"M618.92,135.05H619.41M619.41,130.9V137.86M619.9,136.86H619.41\" style=\"fill: none; stroke: rgb(217, 95, 2); stroke-opacity: 1; stroke-width: 2px; opacity: 1;\"/><path d=\"M620.56,136.86H621.05M621.05,120.05V140.89M621.54,123.28H621.05\" style=\"fill: none; stroke: rgb(27, 158, 118); stroke-opacity: 1; stroke-width: 2px; opacity: 1;\"/><path d=\"M622.2,123.28H622.69M622.69,117.42V126.02M623.18,123.39H622.69\" style=\"fill: none; stroke: rgb(217, 95, 2); stroke-opacity: 1; stroke-width: 2px; opacity: 1;\"/><path d=\"M623.84,123.39H624.33M624.33,121.37V127.48M624.82,125.93H624.33\" style=\"fill: none; stroke: rgb(217, 95, 2); stroke-opacity: 1; stroke-width: 2px; opacity: 1;\"/><path d=\"M625.48,125.93H625.97M625.97,120.62V131.89M626.47,123.66H625.97\" style=\"fill: none; stroke: rgb(27, 158, 118); stroke-opacity: 1; stroke-width: 2px; opacity: 1;\"/><path d=\"M627.12,123.66H627.61M627.61,115.74V125.63M628.11,124.11H627.61\" style=\"fill: none; stroke: rgb(217, 95, 2); stroke-opacity: 1; stroke-width: 2px; opacity: 1;\"/><path d=\"M628.76,124.11H629.26M629.26,124.09V144.55M629.75,143.16H629.26\" style=\"fill: none; stroke: rgb(217, 95, 2); stroke-opacity: 1; stroke-width: 2px; opacity: 1;\"/><path d=\"M630.4,143.16H630.9M630.9,139.57V151.89M631.39,149.67H630.9\" style=\"fill: none; stroke: rgb(217, 95, 2); stroke-opacity: 1; stroke-width: 2px; opacity: 1;\"/><path d=\"M632.05,149.67H632.54M632.54,141.01V153.08M633.03,145.71H632.54\" style=\"fill: none; stroke: rgb(27, 158, 118); stroke-opacity: 1; stroke-width: 2px; opacity: 1;\"/><path d=\"M633.69,145.71H634.18M634.18,137.1V154.42M634.67,151.17H634.18\" style=\"fill: none; stroke: rgb(217, 95, 2); stroke-opacity: 1; stroke-width: 2px; opacity: 1;\"/></g></g><g class=\"scatterlayer mlayer\"><g class=\"trace scatter trace9b020c3a-8689-479c-89bd-ea79949a10de\" style=\"stroke-miterlimit: 2; opacity: 1;\"><g class=\"fills\"/><g class=\"errorbars\"/><g class=\"lines\"/><g class=\"points\"><path class=\"point\" transform=\"translate(36.75,253.05)\" d=\"M-4.62,2H4.62L0,-4Z\" style=\"opacity: 1; stroke-width: 1px; fill: rgb(55, 177, 63); fill-opacity: 1; stroke: rgb(38, 123, 44); stroke-opacity: 1;\"/><path class=\"point\" transform=\"translate(51.52,199.84)\" d=\"M-4.62,2H4.62L0,-4Z\" style=\"opacity: 1; stroke-width: 1px; fill: rgb(55, 177, 63); fill-opacity: 1; stroke: rgb(38, 123, 44); stroke-opacity: 1;\"/><path class=\"point\" transform=\"translate(131.94,157.69)\" d=\"M-4.62,2H4.62L0,-4Z\" style=\"opacity: 1; stroke-width: 1px; fill: rgb(55, 177, 63); fill-opacity: 1; stroke: rgb(38, 123, 44); stroke-opacity: 1;\"/><path class=\"point\" transform=\"translate(156.56,94.52)\" d=\"M-4.62,2H4.62L0,-4Z\" style=\"opacity: 1; stroke-width: 1px; fill: rgb(55, 177, 63); fill-opacity: 1; stroke: rgb(38, 123, 44); stroke-opacity: 1;\"/></g><g class=\"text\"/></g><g class=\"trace scatter trace1ddc975f-aad5-4295-ae91-9c355cce5601\" style=\"stroke-miterlimit: 2; opacity: 1;\"><g class=\"fills\"/><g class=\"errorbars\"/><g class=\"lines\"/><g class=\"points\"><path class=\"point\" transform=\"translate(46.6,192.1)\" d=\"M-4.62,-2H4.62L0,4Z\" style=\"opacity: 1; stroke-width: 1px; fill: rgb(234, 67, 53); fill-opacity: 1; stroke: rgb(181, 31, 18); stroke-opacity: 1;\"/><path class=\"point\" transform=\"translate(108.97,136.92)\" d=\"M-4.62,-2H4.62L0,4Z\" style=\"opacity: 1; stroke-width: 1px; fill: rgb(234, 67, 53); fill-opacity: 1; stroke: rgb(181, 31, 18); stroke-opacity: 1;\"/><path class=\"point\" transform=\"translate(153.28,60.83)\" d=\"M-4.62,-2H4.62L0,4Z\" style=\"opacity: 1; stroke-width: 1px; fill: rgb(234, 67, 53); fill-opacity: 1; stroke: rgb(181, 31, 18); stroke-opacity: 1;\"/></g><g class=\"text\"/></g></g></g><g class=\"overplot\"/><path class=\"xlines-above crisp\" d=\"M0,0\" style=\"fill: none;\"/><path class=\"ylines-above crisp\" d=\"M0,0\" style=\"fill: none;\"/><g class=\"overlines-above\"/><g class=\"xaxislayer-above\"><g class=\"xtick\"><text text-anchor=\"middle\" x=\"0\" y=\"333\" transform=\"translate(71.75,0)\" style=\"font-family: 'Open Sans', verdana, arial, sans-serif; font-size: 12px; fill: rgb(214, 223, 239); fill-opacity: 1; white-space: pre; opacity: 1;\">Jan 2021</text></g><g class=\"xtick\"><text text-anchor=\"middle\" x=\"0\" y=\"333\" style=\"font-family: 'Open Sans', verdana, arial, sans-serif; font-size: 12px; fill: rgb(214, 223, 239); fill-opacity: 1; white-space: pre; opacity: 1;\" transform=\"translate(168.59,0)\">Mar 2021</text></g><g class=\"xtick\"><text text-anchor=\"middle\" x=\"0\" y=\"333\" style=\"font-family: 'Open Sans', verdana, arial, sans-serif; font-size: 12px; fill: rgb(214, 223, 239); fill-opacity: 1; white-space: pre; opacity: 1;\" transform=\"translate(268.7,0)\">May 2021</text></g><g class=\"xtick\"><text text-anchor=\"middle\" x=\"0\" y=\"333\" style=\"font-family: 'Open Sans', verdana, arial, sans-serif; font-size: 12px; fill: rgb(214, 223, 239); fill-opacity: 1; white-space: pre; opacity: 1;\" transform=\"translate(368.82,0)\">Jul 2021</text></g><g class=\"xtick\"><text text-anchor=\"middle\" x=\"0\" y=\"333\" style=\"font-family: 'Open Sans', verdana, arial, sans-serif; font-size: 12px; fill: rgb(214, 223, 239); fill-opacity: 1; white-space: pre; opacity: 1;\" transform=\"translate(470.58,0)\">Sep 2021</text></g><g class=\"xtick\"><text text-anchor=\"middle\" x=\"0\" y=\"333\" style=\"font-family: 'Open Sans', verdana, arial, sans-serif; font-size: 12px; fill: rgb(214, 223, 239); fill-opacity: 1; white-space: pre; opacity: 1;\" transform=\"translate(570.7,0)\">Nov 2021</text></g></g><g class=\"yaxislayer-above\"><g class=\"ytick\"><text text-anchor=\"end\" x=\"34\" y=\"4.199999999999999\" transform=\"translate(0,295.02)\" style=\"font-family: 'Open Sans', verdana, arial, sans-serif; font-size: 12px; fill: rgb(214, 223, 239); fill-opacity: 1; white-space: pre; opacity: 1;\">30k</text></g><g class=\"ytick\"><text text-anchor=\"end\" x=\"34\" y=\"4.199999999999999\" style=\"font-family: 'Open Sans', verdana, arial, sans-serif; font-size: 12px; fill: rgb(214, 223, 239); fill-opacity: 1; white-space: pre; opacity: 1;\" transform=\"translate(0,234.68)\">40k</text></g><g class=\"ytick\"><text text-anchor=\"end\" x=\"34\" y=\"4.199999999999999\" style=\"font-family: 'Open Sans', verdana, arial, sans-serif; font-size: 12px; fill: rgb(214, 223, 239); fill-opacity: 1; white-space: pre; opacity: 1;\" transform=\"translate(0,174.34)\">50k</text></g><g class=\"ytick\"><text text-anchor=\"end\" x=\"34\" y=\"4.199999999999999\" style=\"font-family: 'Open Sans', verdana, arial, sans-serif; font-size: 12px; fill: rgb(214, 223, 239); fill-opacity: 1; white-space: pre; opacity: 1;\" transform=\"translate(0,114)\">60k</text></g><g class=\"ytick\"><text text-anchor=\"end\" x=\"34\" y=\"4.199999999999999\" style=\"font-family: 'Open Sans', verdana, arial, sans-serif; font-size: 12px; fill: rgb(214, 223, 239); fill-opacity: 1; white-space: pre; opacity: 1;\" transform=\"translate(0,53.67)\">70k</text></g></g><g class=\"overaxes-above\"/></g></g><g class=\"polarlayer\"/><g class=\"smithlayer\"/><g class=\"ternarylayer\"/><g class=\"geolayer\"/><g class=\"funnelarealayer\"/><g class=\"pielayer\"/><g class=\"iciclelayer\"/><g class=\"treemaplayer\"/><g class=\"sunburstlayer\"/><g class=\"glimages\"/><defs id=\"topdefs-91b237\"><g class=\"clips\"/><clipPath id=\"legend91b237\"><rect width=\"240\" height=\"29\" x=\"0\" y=\"0\"/></clipPath></defs><g class=\"layer-above\"><g class=\"imagelayer\"/><g class=\"shapelayer\"/></g><g class=\"infolayer\"><g class=\"legend\" pointer-events=\"all\" transform=\"translate(430,11.519999999999996)\"><rect class=\"bg\" shape-rendering=\"crispEdges\" width=\"240\" height=\"29\" x=\"0\" y=\"0\" style=\"stroke: rgb(68, 68, 68); stroke-opacity: 1; fill: rgb(33, 34, 44); fill-opacity: 1; stroke-width: 0px;\"/><g class=\"scrollbox\" transform=\"\" clip-path=\"url(#legend91b237)\"><g class=\"groups\"><g class=\"traces\" transform=\"translate(0,14.5)\" style=\"opacity: 1;\"><text class=\"legendtext\" text-anchor=\"start\" x=\"40\" y=\"4.680000000000001\" style=\"font-family: 'Open Sans', verdana, arial, sans-serif; font-size: 12px; fill: rgb(214, 223, 239); fill-opacity: 1; white-space: pre;\">OHLC</text><g class=\"layers\" style=\"opacity: 0.5;\"><g class=\"legendfill\"/><g class=\"legendlines\"/><g class=\"legendsymbols\"><g class=\"legendpoints\"><path class=\"legendohlc\" d=\"M15,0H0M8,6V0\" transform=\"translate(20,0)\" style=\"stroke-miterlimit: 1; fill: none; stroke-width: 2px; stroke: rgb(217, 95, 2); stroke-opacity: 1;\"/><path class=\"legendohlc\" d=\"M-15,0H0M-8,-6V0\" transform=\"translate(20,0)\" style=\"stroke-miterlimit: 1; fill: none; stroke-width: 2px; stroke: rgb(27, 158, 118); stroke-opacity: 1;\"/></g></g></g><rect class=\"legendtoggle\" x=\"0\" y=\"-9.5\" width=\"76.03125\" height=\"19\" style=\"fill: rgb(0, 0, 0); fill-opacity: 0;\"/></g><g class=\"traces\" transform=\"translate(78.53125,14.5)\" style=\"opacity: 1;\"><text class=\"legendtext\" text-anchor=\"start\" x=\"40\" y=\"4.680000000000001\" style=\"font-family: 'Open Sans', verdana, arial, sans-serif; font-size: 12px; fill: rgb(214, 223, 239); fill-opacity: 1; white-space: pre;\">Entries</text><g class=\"layers\" style=\"opacity: 1;\"><g class=\"legendfill\"/><g class=\"legendlines\"/><g class=\"legendsymbols\"><g class=\"legendpoints\"><path class=\"scatterpts\" transform=\"translate(20,0)\" d=\"M-4.62,2H4.62L0,-4Z\" style=\"opacity: 1; stroke-width: 1px; fill: rgb(55, 177, 63); fill-opacity: 1; stroke: rgb(38, 123, 44); stroke-opacity: 1;\"/></g></g></g><rect class=\"legendtoggle\" x=\"0\" y=\"-9.5\" width=\"84.234375\" height=\"19\" style=\"fill: rgb(0, 0, 0); fill-opacity: 0;\"/></g><g class=\"traces\" transform=\"translate(165.265625,14.5)\" style=\"opacity: 1;\"><text class=\"legendtext\" text-anchor=\"start\" x=\"40\" y=\"4.680000000000001\" style=\"font-family: 'Open Sans', verdana, arial, sans-serif; font-size: 12px; fill: rgb(214, 223, 239); fill-opacity: 1; white-space: pre;\">Exits</text><g class=\"layers\" style=\"opacity: 1;\"><g class=\"legendfill\"/><g class=\"legendlines\"/><g class=\"legendsymbols\"><g class=\"legendpoints\"><path class=\"scatterpts\" transform=\"translate(20,0)\" d=\"M-4.62,-2H4.62L0,4Z\" style=\"opacity: 1; stroke-width: 1px; fill: rgb(234, 67, 53); fill-opacity: 1; stroke: rgb(181, 31, 18); stroke-opacity: 1;\"/></g></g></g><rect class=\"legendtoggle\" x=\"0\" y=\"-9.5\" width=\"71.46875\" height=\"19\" style=\"fill: rgb(0, 0, 0); fill-opacity: 0;\"/></g></g></g><rect class=\"scrollbar\" rx=\"20\" ry=\"3\" width=\"0\" height=\"0\" x=\"0\" y=\"0\" style=\"fill: rgb(128, 139, 164); fill-opacity: 1;\"/></g><g class=\"g-gtitle\"/><g class=\"g-xtitle\"/><g class=\"g-ytitle\"/></g></svg>"
      ]
     },
     "metadata": {},
     "output_type": "display_data"
    }
   ],
   "source": [
    "BothGenerator = vbt.SignalFactory(\n",
    "    mode=\"both\",\n",
    "    input_names=[\"high\", \"low\", \"close\"],\n",
    "    param_names=[\"entry_th\", \"exit_th\"]\n",
    ").with_place_func(\n",
    "    entry_place_func=entry_place_func_nb,\n",
    "    entry_settings=dict(\n",
    "        pass_inputs=[\"low\", \"close\"],\n",
    "        pass_params=[\"entry_th\"],\n",
    "    ),\n",
    "    exit_place_func=exit_place_func_nb,\n",
    "    exit_settings=dict(\n",
    "        pass_inputs=[\"high\", \"close\"],\n",
    "        pass_params=[\"exit_th\"],\n",
    "    )\n",
    ")\n",
    "both_generator = BothGenerator.run(\n",
    "    data.get(\"High\"),\n",
    "    data.get(\"Low\"),\n",
    "    data.get(\"Close\"),\n",
    "    [0.1, 0.2],\n",
    "    [0.2, 0.3],\n",
    "    param_product=True\n",
    ")\n",
    "fig = data.plot(\n",
    "    symbol=\"BTCUSDT\", \n",
    "    ohlc_trace_kwargs=dict(opacity=0.5), \n",
    "    plot_volume=False\n",
    ")\n",
    "both_generator.plot(\n",
    "    column=(0.1, 0.3, \"BTCUSDT\"), \n",
    "    entry_y=data.get(\"Close\", \"BTCUSDT\"), \n",
    "    exit_y=data.get(\"Close\", \"BTCUSDT\"), \n",
    "    fig=fig\n",
    ").show_svg()"
   ]
  },
  {
   "cell_type": "markdown",
   "id": "b3e76f00-2927-4af1-90e3-2c288f81225a",
   "metadata": {},
   "source": [
    "#### Chained exits"
   ]
  },
  {
   "cell_type": "code",
   "execution_count": 92,
   "id": "92d515cf-394e-4b2a-b5c9-8a7c702e9f45",
   "metadata": {},
   "outputs": [],
   "source": [
    "@njit\n",
    "def exit_place_func_nb(c, low, request_price, fill_price_out):\n",
    "    _request_price = request_price[c.from_i - c.wait, c.col]\n",
    "    last_i = -1\n",
    "    for out_i in range(len(c.out)):\n",
    "        i = c.from_i + out_i\n",
    "        if low[i, c.col] <= _request_price:\n",
    "            fill_price_out[i, c.col] = _request_price\n",
    "            c.out[out_i] = True\n",
    "            last_i = out_i\n",
    "            break\n",
    "    return last_i\n",
    "\n",
    "ChainGenerator = vbt.SignalFactory(\n",
    "    mode=\"chain\",\n",
    "    input_names=[\"low\", \"request_price\"],\n",
    "    in_output_names=[\"fill_price_out\"]\n",
    ").with_place_func(\n",
    "    exit_place_func=exit_place_func_nb,\n",
    "    exit_settings=dict(\n",
    "        pass_inputs=[\"low\", \"request_price\"],\n",
    "        pass_in_outputs=[\"fill_price_out\"],\n",
    "    ),\n",
    "    fill_price_out=np.nan\n",
    ")"
   ]
  },
  {
   "cell_type": "code",
   "execution_count": 93,
   "id": "66e50dd1-4984-432a-8a3e-4ca8fa6a6a29",
   "metadata": {},
   "outputs": [
    {
     "data": {
      "text/plain": [
       "symbol\n",
       "BTCUSDT    10\n",
       "ETHUSDT     8\n",
       "dtype: int64"
      ]
     },
     "execution_count": 93,
     "metadata": {},
     "output_type": "execute_result"
    }
   ],
   "source": [
    "fast_ma = vbt.talib(\"SMA\").run(\n",
    "    data.get(\"Close\"), \n",
    "    vbt.Default(10), \n",
    "    short_name=\"fast_ma\"\n",
    ")\n",
    "slow_ma = vbt.talib(\"SMA\").run(\n",
    "    data.get(\"Close\"), \n",
    "    vbt.Default(20), \n",
    "    short_name=\"slow_ma\"\n",
    ")\n",
    "entries = fast_ma.real_crossed_above(slow_ma)\n",
    "entries.sum()"
   ]
  },
  {
   "cell_type": "code",
   "execution_count": 94,
   "id": "45ad9fbd-9250-463a-b599-7c69eeb1247d",
   "metadata": {},
   "outputs": [
    {
     "data": {
      "text/plain": [
       "symbol\n",
       "BTCUSDT    4\n",
       "ETHUSDT    5\n",
       "dtype: int64"
      ]
     },
     "execution_count": 94,
     "metadata": {},
     "output_type": "execute_result"
    }
   ],
   "source": [
    "chain_generator = ChainGenerator.run(\n",
    "    entries,\n",
    "    data.get(\"Low\"),\n",
    "    data.get(\"Close\") * (1 - 0.1)\n",
    ")\n",
    "request_mask = chain_generator.new_entries\n",
    "request_mask.sum()"
   ]
  },
  {
   "cell_type": "code",
   "execution_count": 95,
   "id": "f7a80bb3-b778-45df-a375-0df6672cf36b",
   "metadata": {},
   "outputs": [
    {
     "name": "stdout",
     "output_type": "stream",
     "text": [
      "symbol                       BTCUSDT   ETHUSDT\n",
      "Open time                                     \n",
      "2021-02-04 00:00:00+00:00  33242.994  1436.103\n",
      "2021-03-11 00:00:00+00:00  51995.844  1643.202\n",
      "2021-04-02 00:00:00+00:00  53055.009  1920.321\n",
      "2021-06-07 00:00:00+00:00  30197.511  2332.845\n",
      "2021-06-15 00:00:00+00:00  36129.636  2289.186\n",
      "2021-07-05 00:00:00+00:00  30321.126  1976.877\n",
      "2021-07-06 00:00:00+00:00  30798.009  2090.250\n",
      "2021-07-27 00:00:00+00:00  35512.083  2069.541\n"
     ]
    }
   ],
   "source": [
    "request_price = chain_generator.request_price\n",
    "print(request_price[request_mask.any(axis=1)])"
   ]
  },
  {
   "cell_type": "code",
   "execution_count": 96,
   "id": "bd9c6dd2-5da2-437f-b750-050b031160a1",
   "metadata": {},
   "outputs": [
    {
     "data": {
      "text/plain": [
       "symbol\n",
       "BTCUSDT    3\n",
       "ETHUSDT    4\n",
       "dtype: int64"
      ]
     },
     "execution_count": 96,
     "metadata": {},
     "output_type": "execute_result"
    }
   ],
   "source": [
    "fill_mask = chain_generator.exits\n",
    "fill_mask.sum()"
   ]
  },
  {
   "cell_type": "code",
   "execution_count": 97,
   "id": "0691fbf4-4b08-43c0-a8ae-6075bdf0af12",
   "metadata": {},
   "outputs": [
    {
     "name": "stdout",
     "output_type": "stream",
     "text": [
      "symbol                       BTCUSDT   ETHUSDT\n",
      "Open time                                     \n",
      "2021-03-24 00:00:00+00:00        NaN  1643.202\n",
      "2021-05-19 00:00:00+00:00  33242.994  1920.321\n",
      "2021-06-08 00:00:00+00:00        NaN  2332.845\n",
      "2021-06-18 00:00:00+00:00  36129.636       NaN\n",
      "2021-07-13 00:00:00+00:00        NaN  1976.877\n",
      "2021-07-19 00:00:00+00:00  30798.009       NaN\n"
     ]
    }
   ],
   "source": [
    "fill_price = chain_generator.fill_price_out\n",
    "print(fill_price[fill_mask.any(axis=1)])"
   ]
  },
  {
   "cell_type": "markdown",
   "id": "0566319a-0cb4-4dd1-81f8-3ed7d2d5f9d6",
   "metadata": {},
   "source": [
    "### Preset generators"
   ]
  },
  {
   "cell_type": "markdown",
   "id": "07b9bd34-8bc7-4383-9b3b-13d8fbb7ae99",
   "metadata": {},
   "source": [
    "#### Random"
   ]
  },
  {
   "cell_type": "code",
   "execution_count": 98,
   "id": "0081e390-e918-4edb-ac65-297da562a4a2",
   "metadata": {},
   "outputs": [
    {
     "data": {
      "text/plain": [
       "Timedelta('8 days 03:20:55.813953488')"
      ]
     },
     "execution_count": 98,
     "metadata": {},
     "output_type": "execute_result"
    }
   ],
   "source": [
    "btcusdt_wrapper = symbol_wrapper[\"BTCUSDT\"]\n",
    "mask = vbt.pd_acc.signals.generate_random(\n",
    "    btcusdt_wrapper.shape,\n",
    "    prob=1 / 10,\n",
    "    wrapper=btcusdt_wrapper,\n",
    "    seed=42\n",
    ")\n",
    "mask_index = mask.index[mask]\n",
    "(mask_index[1:] - mask_index[:-1]).mean()"
   ]
  },
  {
   "cell_type": "code",
   "execution_count": 99,
   "id": "9cca388d-e1d0-4c83-a86b-ec7087d34e05",
   "metadata": {},
   "outputs": [
    {
     "data": {
      "text/plain": [
       "Index(['01 Wednesday', '02 Monday', '03 Monday', '04 Tuesday', '05 Wednesday',\n",
       "       '06 Thursday', '07 Friday', '08 Friday', '09 Thursday', '10 Sunday',\n",
       "       '11 Saturday', '12 Tuesday', '13 Friday', '14 Wednesday', '15 Tuesday',\n",
       "       '16 Wednesday', '17 Sunday', '18 Monday', '19 Tuesday', '20 Friday',\n",
       "       '21 Tuesday', '22 Tuesday', '23 Tuesday', '24 Saturday', '25 Tuesday',\n",
       "       '26 Wednesday', '27 Monday', '28 Sunday', '29 Thursday', '30 Tuesday',\n",
       "       '31 Friday', '32 Tuesday', '33 Friday', '34 Wednesday', '35 Friday',\n",
       "       '36 Thursday', '37 Monday', '38 Friday', '39 Friday', '40 Monday',\n",
       "       '41 Thursday', '42 Tuesday', '43 Friday', '44 Monday', '45 Wednesday',\n",
       "       '46 Monday', '47 Wednesday', '48 Thursday', '49 Tuesday', '50 Monday',\n",
       "       '51 Sunday', '52 Friday'],\n",
       "      dtype='object', name='Open time')"
      ]
     },
     "execution_count": 99,
     "metadata": {},
     "output_type": "execute_result"
    }
   ],
   "source": [
    "monday_mask = btcusdt_wrapper.fill(False)\n",
    "monday_mask.vbt.set(True, every=\"W-MON\", inplace=True)\n",
    "mask = monday_mask.vbt.signals.generate_random_exits(wait=0)\n",
    "mask_index = mask.index[mask]\n",
    "mask_index.strftime(\"%W %A\")"
   ]
  },
  {
   "cell_type": "code",
   "execution_count": 100,
   "id": "5df8383a-7c16-4d54-8b7a-6695d9b24546",
   "metadata": {},
   "outputs": [
    {
     "data": {
      "image/svg+xml": [
       "<svg class=\"main-svg\" xmlns=\"http://www.w3.org/2000/svg\" xmlns:xlink=\"http://www.w3.org/1999/xlink\" width=\"700\" height=\"213\" style=\"\" viewBox=\"0 0 700 213\"><rect x=\"0\" y=\"0\" width=\"700\" height=\"213\" style=\"fill: rgb(33, 34, 44); fill-opacity: 1;\"/><defs id=\"defs-3026d5\"><g class=\"clips\"><clipPath id=\"clip3026d5xyplot\" class=\"plotclip\"><rect width=\"537\" height=\"153\"/></clipPath><clipPath class=\"axesclip\" id=\"clip3026d5x\"><rect x=\"71\" y=\"0\" width=\"537\" height=\"213\"/></clipPath><clipPath class=\"axesclip\" id=\"clip3026d5y\"><rect x=\"0\" y=\"30\" width=\"700\" height=\"153\"/></clipPath><clipPath class=\"axesclip\" id=\"clip3026d5xy\"><rect x=\"71\" y=\"30\" width=\"537\" height=\"153\"/></clipPath></g><g class=\"gradients\"><linearGradient x1=\"0\" x2=\"0\" y1=\"1\" y2=\"0\" id=\"g3026d5-cba5f5dd10-d2b5-4b52-952b-fbab93a6b811\"><stop offset=\"0%\" stop-color=\"rgb(13, 8, 135)\" stop-opacity=\"1\"/><stop offset=\"11.111111%\" stop-color=\"rgb(70, 3, 159)\" stop-opacity=\"1\"/><stop offset=\"22.222222%\" stop-color=\"rgb(114, 1, 168)\" stop-opacity=\"1\"/><stop offset=\"33.333333%\" stop-color=\"rgb(156, 23, 158)\" stop-opacity=\"1\"/><stop offset=\"44.444444%\" stop-color=\"rgb(189, 55, 134)\" stop-opacity=\"1\"/><stop offset=\"55.555556%\" stop-color=\"rgb(216, 87, 107)\" stop-opacity=\"1\"/><stop offset=\"66.666667%\" stop-color=\"rgb(237, 121, 83)\" stop-opacity=\"1\"/><stop offset=\"77.777778%\" stop-color=\"rgb(251, 159, 58)\" stop-opacity=\"1\"/><stop offset=\"88.888889%\" stop-color=\"rgb(253, 202, 38)\" stop-opacity=\"1\"/><stop offset=\"100%\" stop-color=\"rgb(240, 249, 33)\" stop-opacity=\"1\"/></linearGradient></g><g class=\"patterns\"/></defs><g class=\"bglayer\"/><g class=\"layer-below\"><g class=\"imagelayer\"/><g class=\"shapelayer\"/></g><g class=\"cartesianlayer\"><g class=\"subplot xy\"><g class=\"layer-subplot\"><g class=\"shapelayer\"/><g class=\"imagelayer\"/></g><g class=\"gridlayer\"><g class=\"x\"><path class=\"xgrid crisp\" transform=\"translate(158.54000000000002,0)\" d=\"M0,30v153\" style=\"stroke: rgb(47, 62, 78); stroke-opacity: 1; stroke-width: 1px;\"/><path class=\"xgrid crisp\" transform=\"translate(248.28,0)\" d=\"M0,30v153\" style=\"stroke: rgb(47, 62, 78); stroke-opacity: 1; stroke-width: 1px;\"/><path class=\"xgrid crisp\" transform=\"translate(338.03,0)\" d=\"M0,30v153\" style=\"stroke: rgb(47, 62, 78); stroke-opacity: 1; stroke-width: 1px;\"/><path class=\"xgrid crisp\" transform=\"translate(429.25,0)\" d=\"M0,30v153\" style=\"stroke: rgb(47, 62, 78); stroke-opacity: 1; stroke-width: 1px;\"/><path class=\"xgrid crisp\" transform=\"translate(518.99,0)\" d=\"M0,30v153\" style=\"stroke: rgb(47, 62, 78); stroke-opacity: 1; stroke-width: 1px;\"/></g><g class=\"y\"><path class=\"ygrid crisp\" transform=\"translate(0,144.75)\" d=\"M71,0h537\" style=\"stroke: rgb(47, 62, 78); stroke-opacity: 1; stroke-width: 1px;\"/><path class=\"ygrid crisp\" transform=\"translate(0,68.25)\" d=\"M71,0h537\" style=\"stroke: rgb(47, 62, 78); stroke-opacity: 1; stroke-width: 1px;\"/></g></g><g class=\"zerolinelayer\"/><path class=\"xlines-below\"/><path class=\"ylines-below\"/><g class=\"overlines-below\"/><g class=\"xaxislayer-below\"/><g class=\"yaxislayer-below\"/><g class=\"overaxes-below\"/><g class=\"plot\" transform=\"translate(71,30)\" clip-path=\"url(#clip3026d5xyplot)\"><g class=\"heatmaplayer mlayer\"><g class=\"hm\"><image xmlns=\"http://www.w3.org/2000/svg\" preserveAspectRatio=\"none\" height=\"153\" width=\"537\" x=\"0\" y=\"0\" xlink:href=\"data:image/png;base64,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\" style=\"opacity: 1;\"/></g></g></g><g class=\"overplot\"/><path class=\"xlines-above crisp\" d=\"M0,0\" style=\"fill: none;\"/><path class=\"ylines-above crisp\" d=\"M0,0\" style=\"fill: none;\"/><g class=\"overlines-above\"/><g class=\"xaxislayer-above\"><g class=\"xtick\"><text text-anchor=\"middle\" x=\"0\" y=\"196\" transform=\"translate(71.74,0)\" style=\"font-family: 'Open Sans', verdana, arial, sans-serif; font-size: 12px; fill: rgb(214, 223, 239); fill-opacity: 1; white-space: pre; opacity: 1;\">Jan 2021</text></g><g class=\"xtick\"><text text-anchor=\"middle\" x=\"0\" y=\"196\" style=\"font-family: 'Open Sans', verdana, arial, sans-serif; font-size: 12px; fill: rgb(214, 223, 239); fill-opacity: 1; white-space: pre; opacity: 1;\" transform=\"translate(158.54000000000002,0)\">Mar 2021</text></g><g class=\"xtick\"><text text-anchor=\"middle\" x=\"0\" y=\"196\" style=\"font-family: 'Open Sans', verdana, arial, sans-serif; font-size: 12px; fill: rgb(214, 223, 239); fill-opacity: 1; white-space: pre; opacity: 1;\" transform=\"translate(248.28,0)\">May 2021</text></g><g class=\"xtick\"><text text-anchor=\"middle\" x=\"0\" y=\"196\" style=\"font-family: 'Open Sans', verdana, arial, sans-serif; font-size: 12px; fill: rgb(214, 223, 239); fill-opacity: 1; white-space: pre; opacity: 1;\" transform=\"translate(338.03,0)\">Jul 2021</text></g><g class=\"xtick\"><text text-anchor=\"middle\" x=\"0\" y=\"196\" style=\"font-family: 'Open Sans', verdana, arial, sans-serif; font-size: 12px; fill: rgb(214, 223, 239); fill-opacity: 1; white-space: pre; opacity: 1;\" transform=\"translate(429.25,0)\">Sep 2021</text></g><g class=\"xtick\"><text text-anchor=\"middle\" x=\"0\" y=\"196\" style=\"font-family: 'Open Sans', verdana, arial, sans-serif; font-size: 12px; fill: rgb(214, 223, 239); fill-opacity: 1; white-space: pre; opacity: 1;\" transform=\"translate(518.99,0)\">Nov 2021</text></g></g><g class=\"yaxislayer-above\"><g class=\"ytick\"><text text-anchor=\"end\" x=\"70\" y=\"4.199999999999999\" transform=\"translate(0,144.75)\" style=\"font-family: 'Open Sans', verdana, arial, sans-serif; font-size: 12px; fill: rgb(214, 223, 239); fill-opacity: 1; white-space: pre; opacity: 1;\">ETHUSDT</text></g><g class=\"ytick\"><text text-anchor=\"end\" x=\"70\" y=\"4.199999999999999\" transform=\"translate(0,68.25)\" style=\"font-family: 'Open Sans', verdana, arial, sans-serif; font-size: 12px; fill: rgb(214, 223, 239); fill-opacity: 1; white-space: pre; opacity: 1;\">BTCUSDT</text></g></g><g class=\"overaxes-above\"/></g></g><g class=\"polarlayer\"/><g class=\"smithlayer\"/><g class=\"ternarylayer\"/><g class=\"geolayer\"/><g class=\"funnelarealayer\"/><g class=\"pielayer\"/><g class=\"iciclelayer\"/><g class=\"treemaplayer\"/><g class=\"sunburstlayer\"/><g class=\"glimages\"/><defs id=\"topdefs-3026d5\"><g class=\"clips\"/></defs><g class=\"layer-above\"><g class=\"imagelayer\"/><g class=\"shapelayer\"/></g><g class=\"infolayer\"><g class=\"cba5f5dd10-d2b5-4b52-952b-fbab93a6b811 colorbar\" transform=\"translate(71,30)\"><rect class=\"cbbg\" x=\"548\" y=\"0\" width=\"69.640625\" height=\"153\" style=\"fill: rgb(0, 0, 0); fill-opacity: 0; stroke: rgb(68, 68, 68); stroke-opacity: 1; stroke-width: 0;\"/><g class=\"cbfills\" transform=\"translate(0,10)\"><rect class=\"cbfill\" x=\"558\" y=\"0\" width=\"30\" height=\"133\" style=\"fill: url('#g3026d5-cba5f5dd10-d2b5-4b52-952b-fbab93a6b811');\"/></g><g class=\"cblines\" transform=\"translate(0,10)\"/><g class=\"cbaxis crisp\" transform=\"translate(0,-30)\"><g class=\"ycba5f5dd10-d2b5-4b52-952b-fbab93a6b811tick\"><text text-anchor=\"start\" x=\"590.9\" y=\"4.199999999999999\" transform=\"translate(0,173)\" style=\"font-family: 'Open Sans', verdana, arial, sans-serif; font-size: 12px; fill: rgb(214, 223, 239); fill-opacity: 1; white-space: pre; opacity: 1;\">0</text></g><g class=\"ycba5f5dd10-d2b5-4b52-952b-fbab93a6b811tick\"><text text-anchor=\"start\" x=\"590.9\" y=\"4.199999999999999\" style=\"font-family: 'Open Sans', verdana, arial, sans-serif; font-size: 12px; fill: rgb(214, 223, 239); fill-opacity: 1; white-space: pre; opacity: 1;\" transform=\"translate(0,106.5)\">0.5</text></g><g class=\"ycba5f5dd10-d2b5-4b52-952b-fbab93a6b811tick\"><text text-anchor=\"start\" x=\"590.9\" y=\"4.199999999999999\" style=\"font-family: 'Open Sans', verdana, arial, sans-serif; font-size: 12px; fill: rgb(214, 223, 239); fill-opacity: 1; white-space: pre; opacity: 1;\" transform=\"translate(0,40)\">1</text></g></g><g class=\"cbtitleunshift\" transform=\"translate(-71,-30)\"><g class=\"cbtitle\"/></g><rect class=\"cboutline\" x=\"558\" y=\"10\" width=\"30\" height=\"133\" style=\"stroke: rgb(68, 68, 68); stroke-opacity: 1; fill: none; stroke-width: 0;\"/></g><g class=\"g-gtitle\"/><g class=\"g-xtitle\"/><g class=\"g-ytitle\"/></g></svg>"
      ]
     },
     "metadata": {},
     "output_type": "display_data"
    }
   ],
   "source": [
    "prob = np.linspace(0, 1, len(symbol_wrapper.index))\n",
    "rprob = vbt.RPROB.run(\n",
    "    symbol_wrapper.shape,\n",
    "    vbt.Default(vbt.to_per_row_array(prob)),\n",
    "    seed=42,\n",
    "    input_index=symbol_wrapper.index,\n",
    "    input_columns=symbol_wrapper.columns\n",
    ")\n",
    "rprob.entries.astype(int).vbt.ts_heatmap().show_svg()"
   ]
  },
  {
   "cell_type": "code",
   "execution_count": 101,
   "id": "2ecf3d7f-ecb2-4cda-bd89-756d0a278c4c",
   "metadata": {},
   "outputs": [
    {
     "data": {
      "text/plain": [
       "rprob_prob  symbol \n",
       "0.5         BTCUSDT    176\n",
       "            ETHUSDT    187\n",
       "array_0     BTCUSDT    183\n",
       "            ETHUSDT    178\n",
       "dtype: int64"
      ]
     },
     "execution_count": 101,
     "metadata": {},
     "output_type": "execute_result"
    }
   ],
   "source": [
    "rprob = vbt.RPROB.run(\n",
    "    symbol_wrapper.shape,\n",
    "    [0.5, vbt.to_per_row_array(prob)],\n",
    "    seed=42,\n",
    "    input_index=symbol_wrapper.index,\n",
    "    input_columns=symbol_wrapper.columns\n",
    ")\n",
    "rprob.entries.sum()"
   ]
  },
  {
   "cell_type": "markdown",
   "id": "1646593e-9669-4757-8df9-3713a8e46ad6",
   "metadata": {},
   "source": [
    "#### Stops"
   ]
  },
  {
   "cell_type": "code",
   "execution_count": 102,
   "id": "ecf076e4-697a-4da7-8afa-287820c2c1da",
   "metadata": {},
   "outputs": [
    {
     "name": "stdout",
     "output_type": "stream",
     "text": [
      "symbol                     BTCUSDT  ETHUSDT\n",
      "Open time                                  \n",
      "2021-02-04 00:00:00+00:00     True    False\n",
      "2021-03-10 00:00:00+00:00     True    False\n",
      "2021-03-11 00:00:00+00:00    False     True\n",
      "2021-04-03 00:00:00+00:00     True    False\n",
      "2021-05-05 00:00:00+00:00     True    False\n",
      "2021-06-07 00:00:00+00:00    False     True\n",
      "2021-10-05 00:00:00+00:00    False     True\n",
      "2021-11-07 00:00:00+00:00     True    False\n",
      "2021-12-02 00:00:00+00:00    False     True\n"
     ]
    }
   ],
   "source": [
    "new_entries, exits = entries.vbt.signals.generate_stop_exits(\n",
    "    data.get(\"Close\"),\n",
    "    data.get(\"High\"),\n",
    "    stop=0.1,\n",
    "    chain=True\n",
    ")\n",
    "print(new_entries[new_entries.any(axis=1)])"
   ]
  },
  {
   "cell_type": "code",
   "execution_count": 103,
   "id": "fe64925a-0fc3-42fa-b128-7f92cb650456",
   "metadata": {},
   "outputs": [
    {
     "name": "stdout",
     "output_type": "stream",
     "text": [
      "symbol                     BTCUSDT  ETHUSDT\n",
      "Open time                                  \n",
      "2021-02-06 00:00:00+00:00     True    False\n",
      "2021-03-13 00:00:00+00:00     True    False\n",
      "2021-04-02 00:00:00+00:00    False     True\n",
      "2021-04-13 00:00:00+00:00     True    False\n",
      "2021-08-06 00:00:00+00:00    False     True\n",
      "2021-10-15 00:00:00+00:00    False     True\n",
      "2021-10-19 00:00:00+00:00     True    False\n"
     ]
    }
   ],
   "source": [
    "print(exits[exits.any(axis=1)])"
   ]
  },
  {
   "cell_type": "code",
   "execution_count": 104,
   "id": "e84b01df-1e52-4b51-8d91-5a057bed798a",
   "metadata": {},
   "outputs": [
    {
     "name": "stdout",
     "output_type": "stream",
     "text": [
      "symbol                       BTCUSDT   ETHUSDT\n",
      "Open time                                     \n",
      "2021-02-06 00:00:00+00:00  40630.326       NaN\n",
      "2021-03-13 00:00:00+00:00  61436.749       NaN\n",
      "2021-04-02 00:00:00+00:00        NaN  2008.358\n",
      "2021-04-13 00:00:00+00:00  62757.134       NaN\n",
      "2021-08-06 00:00:00+00:00        NaN  2851.255\n",
      "2021-10-15 00:00:00+00:00        NaN  3866.797\n",
      "2021-10-19 00:00:00+00:00  63179.721       NaN\n"
     ]
    }
   ],
   "source": [
    "out_dict = {}\n",
    "new_entries, exits = entries.vbt.signals.generate_stop_exits(\n",
    "    data.get(\"Close\"),\n",
    "    data.get(\"High\"),\n",
    "    stop=0.1,\n",
    "    chain=True,\n",
    "    out_dict=out_dict\n",
    ")\n",
    "print(out_dict[\"stop_ts\"][exits.any(axis=1)])"
   ]
  },
  {
   "cell_type": "code",
   "execution_count": 105,
   "id": "92b3b055-6b0d-4968-8042-943ad3612b38",
   "metadata": {},
   "outputs": [
    {
     "data": {
      "image/svg+xml": [
       "<svg class=\"main-svg\" xmlns=\"http://www.w3.org/2000/svg\" xmlns:xlink=\"http://www.w3.org/1999/xlink\" width=\"700\" height=\"350\" style=\"\" viewBox=\"0 0 700 350\"><rect x=\"0\" y=\"0\" width=\"700\" height=\"350\" style=\"fill: rgb(33, 34, 44); fill-opacity: 1;\"/><defs id=\"defs-0239dc\"><g class=\"clips\"><clipPath id=\"clip0239dcxyplot\" class=\"plotclip\"><rect width=\"631\" height=\"274\"/></clipPath><clipPath class=\"axesclip\" id=\"clip0239dcx\"><rect x=\"39\" y=\"0\" width=\"631\" height=\"350\"/></clipPath><clipPath class=\"axesclip\" id=\"clip0239dcy\"><rect x=\"0\" y=\"46\" width=\"700\" height=\"274\"/></clipPath><clipPath class=\"axesclip\" id=\"clip0239dcxy\"><rect x=\"39\" y=\"46\" width=\"631\" height=\"274\"/></clipPath></g><g class=\"gradients\"/><g class=\"patterns\"/></defs><g class=\"bglayer\"/><g class=\"layer-below\"><g class=\"imagelayer\"/><g class=\"shapelayer\"/></g><g class=\"cartesianlayer\"><g class=\"subplot xy\"><g class=\"layer-subplot\"><g class=\"shapelayer\"/><g class=\"imagelayer\"/></g><g class=\"gridlayer\"><g class=\"x\"><path class=\"xgrid crisp\" transform=\"translate(136.57,0)\" d=\"M0,46v274\" style=\"stroke: rgb(47, 62, 78); stroke-opacity: 1; stroke-width: 1px;\"/><path class=\"xgrid crisp\" transform=\"translate(236.6,0)\" d=\"M0,46v274\" style=\"stroke: rgb(47, 62, 78); stroke-opacity: 1; stroke-width: 1px;\"/><path class=\"xgrid crisp\" transform=\"translate(336.63,0)\" d=\"M0,46v274\" style=\"stroke: rgb(47, 62, 78); stroke-opacity: 1; stroke-width: 1px;\"/><path class=\"xgrid crisp\" transform=\"translate(438.31,0)\" d=\"M0,46v274\" style=\"stroke: rgb(47, 62, 78); stroke-opacity: 1; stroke-width: 1px;\"/><path class=\"xgrid crisp\" transform=\"translate(538.3399999999999,0)\" d=\"M0,46v274\" style=\"stroke: rgb(47, 62, 78); stroke-opacity: 1; stroke-width: 1px;\"/><path class=\"xgrid crisp\" transform=\"translate(638.37,0)\" d=\"M0,46v274\" style=\"stroke: rgb(47, 62, 78); stroke-opacity: 1; stroke-width: 1px;\"/></g><g class=\"y\"><path class=\"ygrid crisp\" transform=\"translate(0,295.02)\" d=\"M39,0h631\" style=\"stroke: rgb(47, 62, 78); stroke-opacity: 1; stroke-width: 1px;\"/><path class=\"ygrid crisp\" transform=\"translate(0,234.68)\" d=\"M39,0h631\" style=\"stroke: rgb(47, 62, 78); stroke-opacity: 1; stroke-width: 1px;\"/><path class=\"ygrid crisp\" transform=\"translate(0,174.34)\" d=\"M39,0h631\" style=\"stroke: rgb(47, 62, 78); stroke-opacity: 1; stroke-width: 1px;\"/><path class=\"ygrid crisp\" transform=\"translate(0,114)\" d=\"M39,0h631\" style=\"stroke: rgb(47, 62, 78); stroke-opacity: 1; stroke-width: 1px;\"/><path class=\"ygrid crisp\" transform=\"translate(0,53.67)\" d=\"M39,0h631\" style=\"stroke: rgb(47, 62, 78); stroke-opacity: 1; stroke-width: 1px;\"/></g></g><g class=\"zerolinelayer\"/><path class=\"xlines-below\"/><path class=\"ylines-below\"/><g class=\"overlines-below\"/><g class=\"xaxislayer-below\"/><g class=\"yaxislayer-below\"/><g class=\"overaxes-below\"/><g class=\"plot\" transform=\"translate(39,46)\" clip-path=\"url(#clip0239dcxyplot)\"><g class=\"ohlclayer mlayer\"><g class=\"trace ohlc\" style=\"opacity: 0.5;\"><path d=\"M0.33,255.51H0.82M0.82,251.43V257.32M1.31,253.05H0.82\" style=\"fill: none; stroke: rgb(27, 158, 118); stroke-opacity: 1; stroke-width: 2px; opacity: 1;\"/><path d=\"M1.97,253.05H2.46M2.46,229.11V255.37M2.95,235.87H2.46\" style=\"fill: none; stroke: rgb(27, 158, 118); stroke-opacity: 1; stroke-width: 2px; opacity: 1;\"/><path d=\"M3.61,235.88H4.1M4.1,220.19V237.17M4.59,230.92H4.1\" style=\"fill: none; stroke: rgb(27, 158, 118); stroke-opacity: 1; stroke-width: 2px; opacity: 1;\"/><path d=\"M5.25,230.92H5.74M5.74,227.3V260.3M6.23,237.02H5.74\" style=\"fill: none; stroke: rgb(217, 95, 2); stroke-opacity: 1; stroke-width: 2px; opacity: 1;\"/><path d=\"M6.89,237.01H7.38M7.38,222.71V249.62M7.87,225.19H7.38\" style=\"fill: none; stroke: rgb(27, 158, 118); stroke-opacity: 1; stroke-width: 2px; opacity: 1;\"/><path d=\"M8.53,225.19H9.02M9.02,207.15V229.18M9.51,208.17H9.02\" style=\"fill: none; stroke: rgb(27, 158, 118); stroke-opacity: 1; stroke-width: 2px; opacity: 1;\"/><path d=\"M10.17,208.17H10.66M10.66,186.48V211M11.15,192.1H10.66\" style=\"fill: none; stroke: rgb(27, 158, 118); stroke-opacity: 1; stroke-width: 2px; opacity: 1;\"/><path d=\"M11.81,192.1H12.3M12.3,176.91V209.8M12.79,185.16H12.3\" style=\"fill: none; stroke: rgb(27, 158, 118); stroke-opacity: 1; stroke-width: 2px; opacity: 1;\"/><path d=\"M13.45,185.14H13.94M13.94,180.35V196.4M14.43,188.15H13.94\" style=\"fill: none; stroke: rgb(217, 95, 2); stroke-opacity: 1; stroke-width: 2px; opacity: 1;\"/><path d=\"M15.09,188.15H15.58M15.58,180.53V218.18M16.07,199.84H15.58\" style=\"fill: none; stroke: rgb(217, 95, 2); stroke-opacity: 1; stroke-width: 2px; opacity: 1;\"/><path d=\"M16.73,199.84H17.22M17.22,199.15V246.48M17.71,216.41H17.22\" style=\"fill: none; stroke: rgb(217, 95, 2); stroke-opacity: 1; stroke-width: 2px; opacity: 1;\"/><path d=\"M18.37,216.37H18.86M18.86,209.03V233.75M19.35,224.57H18.86\" style=\"fill: none; stroke: rgb(217, 95, 2); stroke-opacity: 1; stroke-width: 2px; opacity: 1;\"/><path d=\"M20.01,224.59H20.5M20.5,201.65V234.66M20.99,204.54H20.5\" style=\"fill: none; stroke: rgb(27, 158, 118); stroke-opacity: 1; stroke-width: 2px; opacity: 1;\"/><path d=\"M21.65,204.54H22.14M22.14,188.08V208.58M22.63,193.84H22.14\" style=\"fill: none; stroke: rgb(27, 158, 118); stroke-opacity: 1; stroke-width: 2px; opacity: 1;\"/><path d=\"M23.29,193.84H23.78M23.78,190.2V222.42M24.27,208.34H23.78\" style=\"fill: none; stroke: rgb(217, 95, 2); stroke-opacity: 1; stroke-width: 2px; opacity: 1;\"/><path d=\"M24.93,208.36H25.42M25.42,201.05V216.69M25.91,212.84H25.42\" style=\"fill: none; stroke: rgb(217, 95, 2); stroke-opacity: 1; stroke-width: 2px; opacity: 1;\"/><path d=\"M26.57,212.84H27.06M27.06,207.67V225.79M27.55,213.85H27.06\" style=\"fill: none; stroke: rgb(217, 95, 2); stroke-opacity: 1; stroke-width: 2px; opacity: 1;\"/><path d=\"M28.21,213.87H28.7M28.7,203.95V220.05M29.19,209.01H28.7\" style=\"fill: none; stroke: rgb(27, 158, 118); stroke-opacity: 1; stroke-width: 2px; opacity: 1;\"/><path d=\"M29.85,209.06H30.34M30.34,201.65V213.76M30.83,213.47H30.34\" style=\"fill: none; stroke: rgb(217, 95, 2); stroke-opacity: 1; stroke-width: 2px; opacity: 1;\"/><path d=\"M31.49,213.41H31.98M31.98,210.31V228.5M32.47,216.02H31.98\" style=\"fill: none; stroke: rgb(217, 95, 2); stroke-opacity: 1; stroke-width: 2px; opacity: 1;\"/><path d=\"M33.13,216.02H33.62M33.62,215.23V248.59M34.11,243.89H33.62\" style=\"fill: none; stroke: rgb(217, 95, 2); stroke-opacity: 1; stroke-width: 2px; opacity: 1;\"/><path d=\"M34.77,243.88H35.26M35.26,225.93V255.96M35.75,231.25H35.26\" style=\"fill: none; stroke: rgb(27, 158, 118); stroke-opacity: 1; stroke-width: 2px; opacity: 1;\"/><path d=\"M36.4,231.22H36.9M36.9,228.16V240.63M37.39,236.48H36.9\" style=\"fill: none; stroke: rgb(217, 95, 2); stroke-opacity: 1; stroke-width: 2px; opacity: 1;\"/><path d=\"M38.04,236.48H38.54M38.54,230.49V243.59M39.03,235.38H38.54\" style=\"fill: none; stroke: rgb(27, 158, 118); stroke-opacity: 1; stroke-width: 2px; opacity: 1;\"/><path d=\"M39.68,235.38H40.18M40.18,219.6V237.49M40.67,235.42H40.18\" style=\"fill: none; stroke: rgb(217, 95, 2); stroke-opacity: 1; stroke-width: 2px; opacity: 1;\"/><path d=\"M41.32,235.42H41.82M41.82,231.39V243.96M42.31,234.13H41.82\" style=\"fill: none; stroke: rgb(27, 158, 118); stroke-opacity: 1; stroke-width: 2px; opacity: 1;\"/><path d=\"M42.96,234.15H43.46M43.46,233.59V253.59M43.95,246.81H43.46\" style=\"fill: none; stroke: rgb(217, 95, 2); stroke-opacity: 1; stroke-width: 2px; opacity: 1;\"/><path d=\"M44.6,246.83H45.1M45.1,226.19V249.97M45.59,228.71H45.1\" style=\"fill: none; stroke: rgb(27, 158, 118); stroke-opacity: 1; stroke-width: 2px; opacity: 1;\"/><path d=\"M46.24,228.69H46.74M46.74,197.54V237.46M47.23,223.36H46.74\" style=\"fill: none; stroke: rgb(27, 158, 118); stroke-opacity: 1; stroke-width: 2px; opacity: 1;\"/><path d=\"M47.88,223.4H48.38M48.38,219.25V231.97M48.87,223.3H48.38\" style=\"fill: none; stroke: rgb(27, 158, 118); stroke-opacity: 1; stroke-width: 2px; opacity: 1;\"/><path d=\"M49.52,223.3H50.02M50.02,222.81V235.91M50.51,230.35H50.02\" style=\"fill: none; stroke: rgb(217, 95, 2); stroke-opacity: 1; stroke-width: 2px; opacity: 1;\"/><path d=\"M51.16,230.35H51.66M51.66,220.55V235.16M52.15,227.74H51.66\" style=\"fill: none; stroke: rgb(27, 158, 118); stroke-opacity: 1; stroke-width: 2px; opacity: 1;\"/><path d=\"M52.8,227.8H53.3M53.3,212.91V228.39M53.79,216.03H53.3\" style=\"fill: none; stroke: rgb(27, 158, 118); stroke-opacity: 1; stroke-width: 2px; opacity: 1;\"/><path d=\"M54.44,216H54.94M54.94,202.78V216.66M55.43,203.05H54.94\" style=\"fill: none; stroke: rgb(27, 158, 118); stroke-opacity: 1; stroke-width: 2px; opacity: 1;\"/><path d=\"M56.08,203.04H56.58M56.58,196.47V211.84M57.07,207.16H56.58\" style=\"fill: none; stroke: rgb(217, 95, 2); stroke-opacity: 1; stroke-width: 2px; opacity: 1;\"/><path d=\"M57.72,207.16H58.22M58.22,198.88V209.38M58.71,199H58.22\" style=\"fill: none; stroke: rgb(27, 158, 118); stroke-opacity: 1; stroke-width: 2px; opacity: 1;\"/><path d=\"M59.36,199H59.85M59.85,182.91V199.44M60.35,193.59H59.85\" style=\"fill: none; stroke: rgb(27, 158, 118); stroke-opacity: 1; stroke-width: 2px; opacity: 1;\"/><path d=\"M61,193.62H61.49M61.49,190.49V204.66M61.99,195.95H61.49\" style=\"fill: none; stroke: rgb(217, 95, 2); stroke-opacity: 1; stroke-width: 2px; opacity: 1;\"/><path d=\"M62.64,195.95H63.13M63.13,147.68V200.81M63.63,150.21H63.13\" style=\"fill: none; stroke: rgb(27, 158, 118); stroke-opacity: 1; stroke-width: 2px; opacity: 1;\"/><path d=\"M64.28,150.21H64.77M64.77,139.55V158.75M65.27,149.94H64.77\" style=\"fill: none; stroke: rgb(27, 158, 118); stroke-opacity: 1; stroke-width: 2px; opacity: 1;\"/><path d=\"M65.92,149.94H66.41M66.41,144.57V166.19M66.91,159.67H66.41\" style=\"fill: none; stroke: rgb(217, 95, 2); stroke-opacity: 1; stroke-width: 2px; opacity: 1;\"/><path d=\"M67.56,159.67H68.05M68.05,136.31V164.58M68.55,140.59H68.05\" style=\"fill: none; stroke: rgb(27, 158, 118); stroke-opacity: 1; stroke-width: 2px; opacity: 1;\"/><path d=\"M69.2,140.6H69.69M69.69,134.46V151.72M70.19,144.71H69.69\" style=\"fill: none; stroke: rgb(217, 95, 2); stroke-opacity: 1; stroke-width: 2px; opacity: 1;\"/><path d=\"M70.84,144.64H71.33M71.33,139.5V151.25M71.83,145.52H71.33\" style=\"fill: none; stroke: rgb(217, 95, 2); stroke-opacity: 1; stroke-width: 2px; opacity: 1;\"/><path d=\"M72.48,145.5H72.97M72.97,130.11V146.36M73.47,136.92H72.97\" style=\"fill: none; stroke: rgb(27, 158, 118); stroke-opacity: 1; stroke-width: 2px; opacity: 1;\"/><path d=\"M74.12,136.91H74.61M74.61,134.31V155.07M75.11,140.95H74.61\" style=\"fill: none; stroke: rgb(217, 95, 2); stroke-opacity: 1; stroke-width: 2px; opacity: 1;\"/><path d=\"M75.76,140.95H76.25M76.25,124.18V146.42M76.75,133.57H76.25\" style=\"fill: none; stroke: rgb(27, 158, 118); stroke-opacity: 1; stroke-width: 2px; opacity: 1;\"/><path d=\"M77.4,133.57H77.89M77.89,112.54V134.7M78.39,115.55H77.89\" style=\"fill: none; stroke: rgb(27, 158, 118); stroke-opacity: 1; stroke-width: 2px; opacity: 1;\"/><path d=\"M79.04,115.56H79.53M79.53,113.08V122.9M80.03,118.97H79.53\" style=\"fill: none; stroke: rgb(217, 95, 2); stroke-opacity: 1; stroke-width: 2px; opacity: 1;\"/><path d=\"M80.68,118.97H81.17M81.17,89.92V124.06M81.67,92.71H81.17\" style=\"fill: none; stroke: rgb(27, 158, 118); stroke-opacity: 1; stroke-width: 2px; opacity: 1;\"/><path d=\"M82.32,92.71H82.81M82.81,81.88V105.03M83.3,93.1H82.81\" style=\"fill: none; stroke: rgb(217, 95, 2); stroke-opacity: 1; stroke-width: 2px; opacity: 1;\"/><path d=\"M83.96,93.1H84.45M84.45,77.94V95.29M84.94,83.64H84.45\" style=\"fill: none; stroke: rgb(27, 158, 118); stroke-opacity: 1; stroke-width: 2px; opacity: 1;\"/><path d=\"M85.6,83.62H86.09M86.09,83.04V142.69M86.58,103.68H86.09\" style=\"fill: none; stroke: rgb(217, 95, 2); stroke-opacity: 1; stroke-width: 2px; opacity: 1;\"/><path d=\"M87.24,103.68H87.73M87.73,103.1V159.16M88.22,135.03H87.73\" style=\"fill: none; stroke: rgb(217, 95, 2); stroke-opacity: 1; stroke-width: 2px; opacity: 1;\"/><path d=\"M88.88,135.03H89.37M89.37,120.05V146.51M89.86,130.3H89.37\" style=\"fill: none; stroke: rgb(27, 158, 118); stroke-opacity: 1; stroke-width: 2px; opacity: 1;\"/><path d=\"M90.52,130.3H91.01M91.01,116.02V148.41M91.5,146H91.01\" style=\"fill: none; stroke: rgb(217, 95, 2); stroke-opacity: 1; stroke-width: 2px; opacity: 1;\"/><path d=\"M92.16,146H92.65M92.65,137.85V163.9M93.14,150.81H92.65\" style=\"fill: none; stroke: rgb(217, 95, 2); stroke-opacity: 1; stroke-width: 2px; opacity: 1;\"/><path d=\"M93.8,150.81H94.29M94.29,138.03V158.51M94.78,151.83H94.29\" style=\"fill: none; stroke: rgb(217, 95, 2); stroke-opacity: 1; stroke-width: 2px; opacity: 1;\"/><path d=\"M95.44,151.85H95.93M95.93,148.62V170.58M96.42,157.69H95.93\" style=\"fill: none; stroke: rgb(217, 95, 2); stroke-opacity: 1; stroke-width: 2px; opacity: 1;\"/><path d=\"M97.08,157.7H97.57M97.57,129.61V158.81M98.06,130.83H97.57\" style=\"fill: none; stroke: rgb(27, 158, 118); stroke-opacity: 1; stroke-width: 2px; opacity: 1;\"/><path d=\"M98.72,130.78H99.21M99.21,127.13V146.16M99.7,137.75H99.21\" style=\"fill: none; stroke: rgb(217, 95, 2); stroke-opacity: 1; stroke-width: 2px; opacity: 1;\"/><path d=\"M100.36,137.77H100.85M100.85,112.41V139.8M101.34,126.23H100.85\" style=\"fill: none; stroke: rgb(27, 158, 118); stroke-opacity: 1; stroke-width: 2px; opacity: 1;\"/><path d=\"M102,126.23H102.49M102.49,117.64V143.43M102.98,138.15H102.49\" style=\"fill: none; stroke: rgb(217, 95, 2); stroke-opacity: 1; stroke-width: 2px; opacity: 1;\"/><path d=\"M103.64,138.15H104.13M104.13,131.67V150.67M104.62,135.87H104.13\" style=\"fill: none; stroke: rgb(27, 158, 118); stroke-opacity: 1; stroke-width: 2px; opacity: 1;\"/><path d=\"M105.28,135.9H105.77M105.77,133.17V146.02M106.26,135.09H105.77\" style=\"fill: none; stroke: rgb(27, 158, 118); stroke-opacity: 1; stroke-width: 2px; opacity: 1;\"/><path d=\"M106.92,135.09H107.41M107.41,119.59V135.09M107.9,122.48H107.41\" style=\"fill: none; stroke: rgb(27, 158, 118); stroke-opacity: 1; stroke-width: 2px; opacity: 1;\"/><path d=\"M108.56,122.55H109.05M109.05,113.84V132.72M109.54,114.01H109.05\" style=\"fill: none; stroke: rgb(27, 158, 118); stroke-opacity: 1; stroke-width: 2px; opacity: 1;\"/><path d=\"M110.2,114.01H110.69M110.69,98.81V117.54M111.18,98.87H110.69\" style=\"fill: none; stroke: rgb(27, 158, 118); stroke-opacity: 1; stroke-width: 2px; opacity: 1;\"/><path d=\"M111.84,98.93H112.33M112.33,83.77V110.21M112.82,93.03H112.33\" style=\"fill: none; stroke: rgb(27, 158, 118); stroke-opacity: 1; stroke-width: 2px; opacity: 1;\"/><path d=\"M113.48,93.03H113.97M113.97,79.17V102.56M114.46,81.44H113.97\" style=\"fill: none; stroke: rgb(27, 158, 118); stroke-opacity: 1; stroke-width: 2px; opacity: 1;\"/><path d=\"M115.12,81.44H115.61M115.61,79.58V98.4M116.1,84.77H115.61\" style=\"fill: none; stroke: rgb(217, 95, 2); stroke-opacity: 1; stroke-width: 2px; opacity: 1;\"/><path d=\"M116.76,84.77H117.25M117.25,56.88V91.67M117.74,60.83H117.25\" style=\"fill: none; stroke: rgb(27, 158, 118); stroke-opacity: 1; stroke-width: 2px; opacity: 1;\"/><path d=\"M118.4,60.83H118.89M118.89,57.6V74.24M119.38,74.23H118.89\" style=\"fill: none; stroke: rgb(217, 95, 2); stroke-opacity: 1; stroke-width: 2px; opacity: 1;\"/><path d=\"M120.04,74.18H120.53M120.53,64.18V100.59M121.02,94.52H120.53\" style=\"fill: none; stroke: rgb(217, 95, 2); stroke-opacity: 1; stroke-width: 2px; opacity: 1;\"/><path d=\"M121.68,94.52H122.17M122.17,86.48V108.6M122.66,86.7H122.17\" style=\"fill: none; stroke: rgb(27, 158, 118); stroke-opacity: 1; stroke-width: 2px; opacity: 1;\"/><path d=\"M123.32,86.7H123.81M123.81,74.19V103.46M124.3,74.56H123.81\" style=\"fill: none; stroke: rgb(27, 158, 118); stroke-opacity: 1; stroke-width: 2px; opacity: 1;\"/><path d=\"M124.96,74.56H125.45M125.45,67.22V85.97M125.94,82.19H125.45\" style=\"fill: none; stroke: rgb(217, 95, 2); stroke-opacity: 1; stroke-width: 2px; opacity: 1;\"/><path d=\"M126.6,82.24H127.09M127.09,71.21V90.51M127.58,79.89H127.09\" style=\"fill: none; stroke: rgb(27, 158, 118); stroke-opacity: 1; stroke-width: 2px; opacity: 1;\"/><path d=\"M128.24,79.89H128.73M128.73,68.73V81.16M129.22,79.45H128.73\" style=\"fill: none; stroke: rgb(27, 158, 118); stroke-opacity: 1; stroke-width: 2px; opacity: 1;\"/><path d=\"M129.88,79.47H130.37M130.37,76.52V95.46M130.86,83.98H130.37\" style=\"fill: none; stroke: rgb(217, 95, 2); stroke-opacity: 1; stroke-width: 2px; opacity: 1;\"/><path d=\"M131.52,83.98H132.01M132.01,77.47V106.32M132.5,103.7H132.01\" style=\"fill: none; stroke: rgb(217, 95, 2); stroke-opacity: 1; stroke-width: 2px; opacity: 1;\"/><path d=\"M133.16,103.7H133.65M133.65,93.16V110.24M134.14,102.15H133.65\" style=\"fill: none; stroke: rgb(27, 158, 118); stroke-opacity: 1; stroke-width: 2px; opacity: 1;\"/><path d=\"M134.8,102.14H135.29M135.29,84.9V118.08M135.78,114.44H135.29\" style=\"fill: none; stroke: rgb(217, 95, 2); stroke-opacity: 1; stroke-width: 2px; opacity: 1;\"/><path d=\"M136.44,114.44H136.93M136.93,108.51V125.76M137.42,120.54H136.93\" style=\"fill: none; stroke: rgb(217, 95, 2); stroke-opacity: 1; stroke-width: 2px; opacity: 1;\"/><path d=\"M138.08,120.54H138.57M138.57,97.73V121.01M139.06,98.02H138.57\" style=\"fill: none; stroke: rgb(27, 158, 118); stroke-opacity: 1; stroke-width: 2px; opacity: 1;\"/><path d=\"M139.72,98.02H140.21M140.21,87.91V104.51M140.7,93.24H140.21\" style=\"fill: none; stroke: rgb(27, 158, 118); stroke-opacity: 1; stroke-width: 2px; opacity: 1;\"/><path d=\"M141.36,93.24H141.85M141.85,88.76V100.03M142.34,93.48H141.85\" style=\"fill: none; stroke: rgb(217, 95, 2); stroke-opacity: 1; stroke-width: 2px; opacity: 1;\"/><path d=\"M143,93.48H143.49M143.49,77.62V99.38M143.98,82.27H143.49\" style=\"fill: none; stroke: rgb(27, 158, 118); stroke-opacity: 1; stroke-width: 2px; opacity: 1;\"/><path d=\"M144.64,82.27H145.13M145.13,71.82V85.67M145.62,75.57H145.13\" style=\"fill: none; stroke: rgb(27, 158, 118); stroke-opacity: 1; stroke-width: 2px; opacity: 1;\"/><path d=\"M146.28,75.57H146.77M146.77,69.21V87.5M147.26,75.6H146.77\" style=\"fill: none; stroke: rgb(217, 95, 2); stroke-opacity: 1; stroke-width: 2px; opacity: 1;\"/><path d=\"M147.92,75.61H148.41M148.41,71.08V80.46M148.9,75.72H148.41\" style=\"fill: none; stroke: rgb(217, 95, 2); stroke-opacity: 1; stroke-width: 2px; opacity: 1;\"/><path d=\"M149.56,75.72H150.05M150.05,66.8V77.49M150.54,74.34H150.05\" style=\"fill: none; stroke: rgb(27, 158, 118); stroke-opacity: 1; stroke-width: 2px; opacity: 1;\"/><path d=\"M151.2,74.34H151.69M151.69,69.26V86.83M152.18,85.79H151.69\" style=\"fill: none; stroke: rgb(217, 95, 2); stroke-opacity: 1; stroke-width: 2px; opacity: 1;\"/><path d=\"M152.84,85.79H153.33M153.33,77.1V89.8M153.82,78.85H153.33\" style=\"fill: none; stroke: rgb(27, 158, 118); stroke-opacity: 1; stroke-width: 2px; opacity: 1;\"/><path d=\"M154.48,78.85H154.97M154.97,72.4V87.45M155.46,73.25H154.97\" style=\"fill: none; stroke: rgb(27, 158, 118); stroke-opacity: 1; stroke-width: 2px; opacity: 1;\"/><path d=\"M156.11,73.25H156.61M156.61,71.05V83.61M157.1,80.12H156.61\" style=\"fill: none; stroke: rgb(217, 95, 2); stroke-opacity: 1; stroke-width: 2px; opacity: 1;\"/><path d=\"M157.75,80.13H158.25M158.25,76.12V95.32M158.74,92.42H158.25\" style=\"fill: none; stroke: rgb(217, 95, 2); stroke-opacity: 1; stroke-width: 2px; opacity: 1;\"/><path d=\"M159.39,92.42H159.89M159.89,79.15V93.95M160.38,79.6H159.89\" style=\"fill: none; stroke: rgb(27, 158, 118); stroke-opacity: 1; stroke-width: 2px; opacity: 1;\"/><path d=\"M161.03,79.6H161.53M161.53,74.67V82.16M162.02,79.21H161.53\" style=\"fill: none; stroke: rgb(27, 158, 118); stroke-opacity: 1; stroke-width: 2px; opacity: 1;\"/><path d=\"M162.67,79.21H163.17M163.17,58.95V80.67M163.66,69.4H163.17\" style=\"fill: none; stroke: rgb(27, 158, 118); stroke-opacity: 1; stroke-width: 2px; opacity: 1;\"/><path d=\"M164.31,69.4H164.81M164.81,63.79V72.63M165.3,67.99H164.81\" style=\"fill: none; stroke: rgb(27, 158, 118); stroke-opacity: 1; stroke-width: 2px; opacity: 1;\"/><path d=\"M165.95,68.01H166.45M166.45,60.16V71.92M166.94,68.85H166.45\" style=\"fill: none; stroke: rgb(217, 95, 2); stroke-opacity: 1; stroke-width: 2px; opacity: 1;\"/><path d=\"M167.59,68.85H168.09M168.09,45.21V69.18M168.58,46.43H168.09\" style=\"fill: none; stroke: rgb(27, 158, 118); stroke-opacity: 1; stroke-width: 2px; opacity: 1;\"/><path d=\"M169.23,46.43H169.73M169.73,38.72V60.15M170.22,50.15H169.73\" style=\"fill: none; stroke: rgb(217, 95, 2); stroke-opacity: 1; stroke-width: 2px; opacity: 1;\"/><path d=\"M170.87,50.15H171.37M171.37,45.08V55.82M171.86,48.94H171.37\" style=\"fill: none; stroke: rgb(27, 158, 118); stroke-opacity: 1; stroke-width: 2px; opacity: 1;\"/><path d=\"M172.51,48.94H173.01M173.01,46.76V68M173.5,59.95H173.01\" style=\"fill: none; stroke: rgb(217, 95, 2); stroke-opacity: 1; stroke-width: 2px; opacity: 1;\"/><path d=\"M174.15,59.95H174.65M174.65,52.88V70.53M175.14,67.96H174.65\" style=\"fill: none; stroke: rgb(217, 95, 2); stroke-opacity: 1; stroke-width: 2px; opacity: 1;\"/><path d=\"M175.79,67.96H176.29M176.29,64.99V122.72M176.78,91.23H176.29\" style=\"fill: none; stroke: rgb(217, 95, 2); stroke-opacity: 1; stroke-width: 2px; opacity: 1;\"/><path d=\"M177.43,91.23H177.93M177.93,82.93V102.87M178.42,94.35H177.93\" style=\"fill: none; stroke: rgb(217, 95, 2); stroke-opacity: 1; stroke-width: 2px; opacity: 1;\"/><path d=\"M179.07,94.35H179.56M179.56,85.65V108.25M180.06,89.57H179.56\" style=\"fill: none; stroke: rgb(27, 158, 118); stroke-opacity: 1; stroke-width: 2px; opacity: 1;\"/><path d=\"M180.71,89.57H181.2M181.2,87.57V107.01M181.7,105.49H181.2\" style=\"fill: none; stroke: rgb(217, 95, 2); stroke-opacity: 1; stroke-width: 2px; opacity: 1;\"/><path d=\"M182.35,105.49H182.84M182.84,95.03V125.32M183.34,118.14H182.84\" style=\"fill: none; stroke: rgb(217, 95, 2); stroke-opacity: 1; stroke-width: 2px; opacity: 1;\"/><path d=\"M183.99,118.14H184.48M184.48,115.48V143.43M184.98,121.55H184.48\" style=\"fill: none; stroke: rgb(217, 95, 2); stroke-opacity: 1; stroke-width: 2px; opacity: 1;\"/><path d=\"M185.63,121.64H186.12M186.12,121.3V136.44M186.62,128.05H186.12\" style=\"fill: none; stroke: rgb(217, 95, 2); stroke-opacity: 1; stroke-width: 2px; opacity: 1;\"/><path d=\"M187.27,128.05H187.76M187.76,124.91V146.87M188.26,133.97H187.76\" style=\"fill: none; stroke: rgb(217, 95, 2); stroke-opacity: 1; stroke-width: 2px; opacity: 1;\"/><path d=\"M188.91,133.97H189.4M189.4,102.05V135.86M189.9,104.2H189.4\" style=\"fill: none; stroke: rgb(27, 158, 118); stroke-opacity: 1; stroke-width: 2px; opacity: 1;\"/><path d=\"M190.55,104.2H191.04M191.04,95.4V108.9M191.54,98.1H191.04\" style=\"fill: none; stroke: rgb(27, 158, 118); stroke-opacity: 1; stroke-width: 2px; opacity: 1;\"/><path d=\"M192.19,98.1H192.68M192.68,89.56V105.33M193.18,99.1H192.68\" style=\"fill: none; stroke: rgb(217, 95, 2); stroke-opacity: 1; stroke-width: 2px; opacity: 1;\"/><path d=\"M193.83,99.1H194.32M194.32,96.99V114.28M194.82,106.89H194.32\" style=\"fill: none; stroke: rgb(217, 95, 2); stroke-opacity: 1; stroke-width: 2px; opacity: 1;\"/><path d=\"M195.47,106.89H195.96M195.96,80.29V110.16M196.46,81.92H195.96\" style=\"fill: none; stroke: rgb(27, 158, 118); stroke-opacity: 1; stroke-width: 2px; opacity: 1;\"/><path d=\"M197.11,81.9H197.6M197.6,77.31V86.37M198.1,81.28H197.6\" style=\"fill: none; stroke: rgb(27, 158, 118); stroke-opacity: 1; stroke-width: 2px; opacity: 1;\"/><path d=\"M198.75,81.29H199.24M199.24,80.61V91.93M199.74,88.65H199.24\" style=\"fill: none; stroke: rgb(217, 95, 2); stroke-opacity: 1; stroke-width: 2px; opacity: 1;\"/><path d=\"M200.39,88.65H200.88M200.88,74.15V89.51M201.38,85.08H200.88\" style=\"fill: none; stroke: rgb(27, 158, 118); stroke-opacity: 1; stroke-width: 2px; opacity: 1;\"/><path d=\"M202.03,85.08H202.52M202.52,84.9V109.96M203.01,109.03H202.52\" style=\"fill: none; stroke: rgb(217, 95, 2); stroke-opacity: 1; stroke-width: 2px; opacity: 1;\"/><path d=\"M203.67,109H204.16M204.16,79.65V110.84M204.65,83.47H204.16\" style=\"fill: none; stroke: rgb(27, 158, 118); stroke-opacity: 1; stroke-width: 2px; opacity: 1;\"/><path d=\"M205.31,83.47H205.8M205.8,77.9V96.97M206.29,89.76H205.8\" style=\"fill: none; stroke: rgb(217, 95, 2); stroke-opacity: 1; stroke-width: 2px; opacity: 1;\"/><path d=\"M206.95,89.76H207.44M207.44,76.15V96.71M207.93,84.21H207.44\" style=\"fill: none; stroke: rgb(27, 158, 118); stroke-opacity: 1; stroke-width: 2px; opacity: 1;\"/><path d=\"M208.59,84.2H209.08M209.08,71.02V86.71M209.57,74.87H209.08\" style=\"fill: none; stroke: rgb(27, 158, 118); stroke-opacity: 1; stroke-width: 2px; opacity: 1;\"/><path d=\"M210.23,74.84H210.72M210.72,72.23V90.72M211.21,78.62H210.72\" style=\"fill: none; stroke: rgb(217, 95, 2); stroke-opacity: 1; stroke-width: 2px; opacity: 1;\"/><path d=\"M211.87,78.62H212.36M212.36,71.02V107.83M212.85,93.25H212.36\" style=\"fill: none; stroke: rgb(217, 95, 2); stroke-opacity: 1; stroke-width: 2px; opacity: 1;\"/><path d=\"M213.51,93.25H214M214,86.94V101.97M214.49,88.1H214\" style=\"fill: none; stroke: rgb(27, 158, 118); stroke-opacity: 1; stroke-width: 2px; opacity: 1;\"/><path d=\"M215.15,88.1H215.64M215.64,80.07V136.79M216.13,130.57H215.64\" style=\"fill: none; stroke: rgb(217, 95, 2); stroke-opacity: 1; stroke-width: 2px; opacity: 1;\"/><path d=\"M216.79,131.13H217.28M217.28,120.09V152.48M217.77,130.33H217.28\" style=\"fill: none; stroke: rgb(27, 158, 118); stroke-opacity: 1; stroke-width: 2px; opacity: 1;\"/><path d=\"M218.43,130.32H218.92M218.92,119.39V135.58M219.41,129.3H218.92\" style=\"fill: none; stroke: rgb(27, 158, 118); stroke-opacity: 1; stroke-width: 2px; opacity: 1;\"/><path d=\"M220.07,129.28H220.56M220.56,124.12V149.13M221.05,147.87H220.56\" style=\"fill: none; stroke: rgb(217, 95, 2); stroke-opacity: 1; stroke-width: 2px; opacity: 1;\"/><path d=\"M221.71,147.87H222.2M222.2,129.57V165.6M222.69,149.87H222.2\" style=\"fill: none; stroke: rgb(217, 95, 2); stroke-opacity: 1; stroke-width: 2px; opacity: 1;\"/><path d=\"M223.35,149.9H223.84M223.84,148.34V176.61M224.33,167.33H223.84\" style=\"fill: none; stroke: rgb(217, 95, 2); stroke-opacity: 1; stroke-width: 2px; opacity: 1;\"/><path d=\"M224.99,167.33H225.48M225.48,153.69V175.1M225.97,171.48H225.48\" style=\"fill: none; stroke: rgb(217, 95, 2); stroke-opacity: 1; stroke-width: 2px; opacity: 1;\"/><path d=\"M226.63,171.48H227.12M227.12,167.05V249.02M227.61,208.65H227.12\" style=\"fill: none; stroke: rgb(217, 95, 2); stroke-opacity: 1; stroke-width: 2px; opacity: 1;\"/><path d=\"M228.27,208.76H228.76M228.76,173.89V219.75M229.25,185.5H228.76\" style=\"fill: none; stroke: rgb(27, 158, 118); stroke-opacity: 1; stroke-width: 2px; opacity: 1;\"/><path d=\"M229.91,185.51H230.4M230.4,175.4V227.97M230.89,205.26H230.4\" style=\"fill: none; stroke: rgb(217, 95, 2); stroke-opacity: 1; stroke-width: 2px; opacity: 1;\"/><path d=\"M231.55,205.19H232.04M232.04,195.74V217.64M232.53,204.07H232.04\" style=\"fill: none; stroke: rgb(27, 158, 118); stroke-opacity: 1; stroke-width: 2px; opacity: 1;\"/><path d=\"M233.19,204.01H233.68M233.68,199.11V242.31M234.17,220.93H233.68\" style=\"fill: none; stroke: rgb(217, 95, 2); stroke-opacity: 1; stroke-width: 2px; opacity: 1;\"/><path d=\"M234.83,220.77H235.32M235.32,189.16V224.69M235.81,195.94H235.32\" style=\"fill: none; stroke: rgb(27, 158, 118); stroke-opacity: 1; stroke-width: 2px; opacity: 1;\"/><path d=\"M236.47,195.85H236.96M236.96,189.94V210.28M237.45,198.79H236.96\" style=\"fill: none; stroke: rgb(217, 95, 2); stroke-opacity: 1; stroke-width: 2px; opacity: 1;\"/><path d=\"M238.11,198.79H238.6M238.6,183.6V201.95M239.09,193.25H238.6\" style=\"fill: none; stroke: rgb(27, 158, 118); stroke-opacity: 1; stroke-width: 2px; opacity: 1;\"/><path d=\"M239.75,193.25H240.24M240.24,186.2V205.97M240.73,197.55H240.24\" style=\"fill: none; stroke: rgb(217, 95, 2); stroke-opacity: 1; stroke-width: 2px; opacity: 1;\"/><path d=\"M241.39,197.55H241.88M241.88,195.45V220.75M242.37,214.84H241.88\" style=\"fill: none; stroke: rgb(217, 95, 2); stroke-opacity: 1; stroke-width: 2px; opacity: 1;\"/><path d=\"M243.03,214.85H243.52M243.52,204.74V227.1M244.01,221.23H243.52\" style=\"fill: none; stroke: rgb(217, 95, 2); stroke-opacity: 1; stroke-width: 2px; opacity: 1;\"/><path d=\"M244.67,221.23H245.16M245.16,209.87V228.63M245.65,214.98H245.16\" style=\"fill: none; stroke: rgb(27, 158, 118); stroke-opacity: 1; stroke-width: 2px; opacity: 1;\"/><path d=\"M246.31,214.98H246.8M246.8,203.77V223.95M247.29,205.25H246.8\" style=\"fill: none; stroke: rgb(27, 158, 118); stroke-opacity: 1; stroke-width: 2px; opacity: 1;\"/><path d=\"M247.95,205.25H248.44M248.44,201.38V214.83M248.93,208.63H248.44\" style=\"fill: none; stroke: rgb(217, 95, 2); stroke-opacity: 1; stroke-width: 2px; opacity: 1;\"/><path d=\"M249.59,208.62H250.08M250.08,199.39V213.3M250.57,203.35H250.08\" style=\"fill: none; stroke: rgb(27, 158, 118); stroke-opacity: 1; stroke-width: 2px; opacity: 1;\"/><path d=\"M251.23,203.35H251.72M251.72,191.84V205.75M252.21,193.22H251.72\" style=\"fill: none; stroke: rgb(27, 158, 118); stroke-opacity: 1; stroke-width: 2px; opacity: 1;\"/><path d=\"M252.87,193.22H253.36M253.36,192.97V215.5M253.85,207.81H253.36\" style=\"fill: none; stroke: rgb(217, 95, 2); stroke-opacity: 1; stroke-width: 2px; opacity: 1;\"/><path d=\"M254.51,207.81H255M255,201.2V220.05M255.49,215.75H255\" style=\"fill: none; stroke: rgb(217, 95, 2); stroke-opacity: 1; stroke-width: 2px; opacity: 1;\"/><path d=\"M256.15,215.73H256.64M256.64,209.92V217.51M257.13,214.04H256.64\" style=\"fill: none; stroke: rgb(27, 158, 118); stroke-opacity: 1; stroke-width: 2px; opacity: 1;\"/><path d=\"M257.79,214.04H258.28M258.28,207.38V229.11M258.77,227.58H258.28\" style=\"fill: none; stroke: rgb(217, 95, 2); stroke-opacity: 1; stroke-width: 2px; opacity: 1;\"/><path d=\"M259.43,227.55H259.92M259.92,224.47V242.98M260.41,228.62H259.92\" style=\"fill: none; stroke: rgb(217, 95, 2); stroke-opacity: 1; stroke-width: 2px; opacity: 1;\"/><path d=\"M261.07,228.62H261.56M261.56,203.55V234.56M262.05,204.44H261.56\" style=\"fill: none; stroke: rgb(27, 158, 118); stroke-opacity: 1; stroke-width: 2px; opacity: 1;\"/><path d=\"M262.71,204.44H263.2M263.2,197.78V214.13M263.69,208.74H263.2\" style=\"fill: none; stroke: rgb(217, 95, 2); stroke-opacity: 1; stroke-width: 2px; opacity: 1;\"/><path d=\"M264.35,208.72H264.84M264.84,202.68V213.2M265.33,204.78H264.84\" style=\"fill: none; stroke: rgb(27, 158, 118); stroke-opacity: 1; stroke-width: 2px; opacity: 1;\"/><path d=\"M265.99,204.78H266.48M266.48,203.98V221.26M266.97,215.55H266.48\" style=\"fill: none; stroke: rgb(217, 95, 2); stroke-opacity: 1; stroke-width: 2px; opacity: 1;\"/><path d=\"M267.63,215.55H268.12M268.12,192.42V220.31M268.61,194.59H268.12\" style=\"fill: none; stroke: rgb(27, 158, 118); stroke-opacity: 1; stroke-width: 2px; opacity: 1;\"/><path d=\"M269.27,194.59H269.76M269.76,182.26V196.34M270.25,185.56H269.76\" style=\"fill: none; stroke: rgb(27, 158, 118); stroke-opacity: 1; stroke-width: 2px; opacity: 1;\"/><path d=\"M270.91,185.56H271.4M271.4,180.65V191.66M271.89,187.81H271.4\" style=\"fill: none; stroke: rgb(217, 95, 2); stroke-opacity: 1; stroke-width: 2px; opacity: 1;\"/><path d=\"M272.55,187.81H273.04M273.04,185.5V200.05M273.53,198.64H273.04\" style=\"fill: none; stroke: rgb(217, 95, 2); stroke-opacity: 1; stroke-width: 2px; opacity: 1;\"/><path d=\"M274.18,198.64H274.68M274.68,191.33V204.58M275.17,200.19H274.68\" style=\"fill: none; stroke: rgb(217, 95, 2); stroke-opacity: 1; stroke-width: 2px; opacity: 1;\"/><path d=\"M275.82,200.19H276.32M276.32,199.52V218.07M276.81,213.9H276.32\" style=\"fill: none; stroke: rgb(217, 95, 2); stroke-opacity: 1; stroke-width: 2px; opacity: 1;\"/><path d=\"M277.46,213.9H277.96M277.96,210.06V220.03M278.45,215.93H277.96\" style=\"fill: none; stroke: rgb(217, 95, 2); stroke-opacity: 1; stroke-width: 2px; opacity: 1;\"/><path d=\"M279.1,215.93H279.6M279.6,211.98V228.89M280.09,215.23H279.6\" style=\"fill: none; stroke: rgb(27, 158, 118); stroke-opacity: 1; stroke-width: 2px; opacity: 1;\"/><path d=\"M280.74,215.23H281.24M281.24,214.32V241.47M281.73,239.31H281.24\" style=\"fill: none; stroke: rgb(217, 95, 2); stroke-opacity: 1; stroke-width: 2px; opacity: 1;\"/><path d=\"M282.38,239.28H282.88M282.88,229.11V256.23M283.37,233.87H282.88\" style=\"fill: none; stroke: rgb(27, 158, 118); stroke-opacity: 1; stroke-width: 2px; opacity: 1;\"/><path d=\"M284.02,233.87H284.52M284.52,219.57V238.86M285.01,226.82H284.52\" style=\"fill: none; stroke: rgb(27, 158, 118); stroke-opacity: 1; stroke-width: 2px; opacity: 1;\"/><path d=\"M285.66,226.84H286.16M286.16,217.05V235.22M286.65,220.88H286.16\" style=\"fill: none; stroke: rgb(27, 158, 118); stroke-opacity: 1; stroke-width: 2px; opacity: 1;\"/><path d=\"M287.3,220.88H287.8M287.8,215.83V241.32M288.29,239.46H287.8\" style=\"fill: none; stroke: rgb(217, 95, 2); stroke-opacity: 1; stroke-width: 2px; opacity: 1;\"/><path d=\"M288.94,239.51H289.44M289.44,232.54V248.11M289.93,235.24H289.44\" style=\"fill: none; stroke: rgb(27, 158, 118); stroke-opacity: 1; stroke-width: 2px; opacity: 1;\"/><path d=\"M290.58,235.24H291.08M291.08,220.36V237.11M291.57,220.66H291.08\" style=\"fill: none; stroke: rgb(27, 158, 118); stroke-opacity: 1; stroke-width: 2px; opacity: 1;\"/><path d=\"M292.22,220.64H292.72M292.72,217.05V225.71M293.21,221.9H292.72\" style=\"fill: none; stroke: rgb(217, 95, 2); stroke-opacity: 1; stroke-width: 2px; opacity: 1;\"/><path d=\"M293.86,221.9H294.36M294.36,209.19V223.52M294.85,213.35H294.36\" style=\"fill: none; stroke: rgb(27, 158, 118); stroke-opacity: 1; stroke-width: 2px; opacity: 1;\"/><path d=\"M295.5,213.35H296M296,212.21V224.78M296.49,218.58H296\" style=\"fill: none; stroke: rgb(217, 95, 2); stroke-opacity: 1; stroke-width: 2px; opacity: 1;\"/><path d=\"M297.14,218.58H297.63M297.63,218.5V232.66M298.13,227.87H297.63\" style=\"fill: none; stroke: rgb(217, 95, 2); stroke-opacity: 1; stroke-width: 2px; opacity: 1;\"/><path d=\"M298.78,227.88H299.27M299.27,225.02V232.73M299.77,226.17H299.27\" style=\"fill: none; stroke: rgb(27, 158, 118); stroke-opacity: 1; stroke-width: 2px; opacity: 1;\"/><path d=\"M300.42,226.17H300.91M300.91,219.18V229M301.41,220.84H300.91\" style=\"fill: none; stroke: rgb(27, 158, 118); stroke-opacity: 1; stroke-width: 2px; opacity: 1;\"/><path d=\"M302.06,220.84H302.55M302.55,213.01V222.73M303.05,217.12H302.55\" style=\"fill: none; stroke: rgb(27, 158, 118); stroke-opacity: 1; stroke-width: 2px; opacity: 1;\"/><path d=\"M303.7,217.11H304.19M304.19,217.08V230.16M304.69,226.75H304.19\" style=\"fill: none; stroke: rgb(217, 95, 2); stroke-opacity: 1; stroke-width: 2px; opacity: 1;\"/><path d=\"M305.34,226.75H305.83M305.83,218.13V227.71M306.33,223.55H305.83\" style=\"fill: none; stroke: rgb(27, 158, 118); stroke-opacity: 1; stroke-width: 2px; opacity: 1;\"/><path d=\"M306.98,223.55H307.47M307.47,218.49V226.22M307.97,225.71H307.47\" style=\"fill: none; stroke: rgb(217, 95, 2); stroke-opacity: 1; stroke-width: 2px; opacity: 1;\"/><path d=\"M308.62,225.71H309.11M309.11,225.31V236.48M309.61,231.67H309.11\" style=\"fill: none; stroke: rgb(217, 95, 2); stroke-opacity: 1; stroke-width: 2px; opacity: 1;\"/><path d=\"M310.26,231.67H310.75M310.75,224.28V235.37M311.25,225.99H310.75\" style=\"fill: none; stroke: rgb(27, 158, 118); stroke-opacity: 1; stroke-width: 2px; opacity: 1;\"/><path d=\"M311.9,225.99H312.39M312.39,223.3V230.89M312.89,227.88H312.39\" style=\"fill: none; stroke: rgb(217, 95, 2); stroke-opacity: 1; stroke-width: 2px; opacity: 1;\"/><path d=\"M313.54,227.88H314.03M314.03,220.86V229.07M314.53,223.32H314.03\" style=\"fill: none; stroke: rgb(27, 158, 118); stroke-opacity: 1; stroke-width: 2px; opacity: 1;\"/><path d=\"M315.18,223.32H315.67M315.67,220.79V232.98M316.17,230.39H315.67\" style=\"fill: none; stroke: rgb(217, 95, 2); stroke-opacity: 1; stroke-width: 2px; opacity: 1;\"/><path d=\"M316.82,230.39H317.31M317.31,228.86V235.73M317.81,232.55H317.31\" style=\"fill: none; stroke: rgb(217, 95, 2); stroke-opacity: 1; stroke-width: 2px; opacity: 1;\"/><path d=\"M318.46,232.55H318.95M318.95,230.23V239.66M319.45,232H318.95\" style=\"fill: none; stroke: rgb(27, 158, 118); stroke-opacity: 1; stroke-width: 2px; opacity: 1;\"/><path d=\"M320.1,232H320.59M320.59,229.8V242.18M321.08,237.67H320.59\" style=\"fill: none; stroke: rgb(217, 95, 2); stroke-opacity: 1; stroke-width: 2px; opacity: 1;\"/><path d=\"M321.74,237.71H322.23M322.23,235.45V242.86M322.72,240.67H322.23\" style=\"fill: none; stroke: rgb(217, 95, 2); stroke-opacity: 1; stroke-width: 2px; opacity: 1;\"/><path d=\"M323.38,240.67H323.87M323.87,237.22V241.99M324.36,239.85H323.87\" style=\"fill: none; stroke: rgb(27, 158, 118); stroke-opacity: 1; stroke-width: 2px; opacity: 1;\"/><path d=\"M325.02,239.85H325.51M325.51,234.32V242.33M326,238.29H325.51\" style=\"fill: none; stroke: rgb(27, 158, 118); stroke-opacity: 1; stroke-width: 2px; opacity: 1;\"/><path d=\"M326.66,238.29H327.15M327.15,237.56V246.56M327.64,243.95H327.15\" style=\"fill: none; stroke: rgb(217, 95, 2); stroke-opacity: 1; stroke-width: 2px; opacity: 1;\"/><path d=\"M328.3,243.95H328.79M328.79,242.6V253.37M329.28,250.28H328.79\" style=\"fill: none; stroke: rgb(217, 95, 2); stroke-opacity: 1; stroke-width: 2px; opacity: 1;\"/><path d=\"M329.94,250.28H330.43M330.43,231.77V252.14M330.92,236.08H330.43\" style=\"fill: none; stroke: rgb(27, 158, 118); stroke-opacity: 1; stroke-width: 2px; opacity: 1;\"/><path d=\"M331.58,236.08H332.07M332.07,233.38V238.71M332.56,235.21H332.07\" style=\"fill: none; stroke: rgb(27, 158, 118); stroke-opacity: 1; stroke-width: 2px; opacity: 1;\"/><path d=\"M333.22,235.21H333.71M333.71,226.99V237.41M334.2,227.09H333.71\" style=\"fill: none; stroke: rgb(27, 158, 118); stroke-opacity: 1; stroke-width: 2px; opacity: 1;\"/><path d=\"M334.86,227.09H335.35M335.35,221.86V228.5M335.84,223.32H335.35\" style=\"fill: none; stroke: rgb(27, 158, 118); stroke-opacity: 1; stroke-width: 2px; opacity: 1;\"/><path d=\"M336.5,223.3H336.99M336.99,216.45V225.78M337.48,216.55H336.99\" style=\"fill: none; stroke: rgb(27, 158, 118); stroke-opacity: 1; stroke-width: 2px; opacity: 1;\"/><path d=\"M338.14,216.55H338.63M338.63,185.36V217.61M339.12,205.35H338.63\" style=\"fill: none; stroke: rgb(27, 158, 118); stroke-opacity: 1; stroke-width: 2px; opacity: 1;\"/><path d=\"M339.78,205.32H340.27M340.27,191.44V210.5M340.76,191.95H340.27\" style=\"fill: none; stroke: rgb(27, 158, 118); stroke-opacity: 1; stroke-width: 2px; opacity: 1;\"/><path d=\"M341.42,191.96H341.91M341.91,183.25V196.09M342.4,188.56H341.91\" style=\"fill: none; stroke: rgb(27, 158, 118); stroke-opacity: 1; stroke-width: 2px; opacity: 1;\"/><path d=\"M343.06,188.56H343.55M343.55,184.82V193.51M344.04,188.58H343.55\" style=\"fill: none; stroke: rgb(217, 95, 2); stroke-opacity: 1; stroke-width: 2px; opacity: 1;\"/><path d=\"M344.7,188.57H345.19M345.19,174.7V198.86M345.68,175.37H345.19\" style=\"fill: none; stroke: rgb(27, 158, 118); stroke-opacity: 1; stroke-width: 2px; opacity: 1;\"/><path d=\"M346.34,175.37H346.83M346.83,173.91V182.64M347.32,179.86H346.83\" style=\"fill: none; stroke: rgb(217, 95, 2); stroke-opacity: 1; stroke-width: 2px; opacity: 1;\"/><path d=\"M347.98,179.86H348.47M348.47,173V192.17M348.96,189.61H348.47\" style=\"fill: none; stroke: rgb(217, 95, 2); stroke-opacity: 1; stroke-width: 2px; opacity: 1;\"/><path d=\"M349.62,189.58H350.11M350.11,185.78V196.58M350.6,193.82H350.11\" style=\"fill: none; stroke: rgb(217, 95, 2); stroke-opacity: 1; stroke-width: 2px; opacity: 1;\"/><path d=\"M351.26,193.83H351.75M351.75,190.01V202.91M352.24,199.5H351.75\" style=\"fill: none; stroke: rgb(217, 95, 2); stroke-opacity: 1; stroke-width: 2px; opacity: 1;\"/><path d=\"M352.9,199.5H353.39M353.39,188.86V203.71M353.88,190.35H353.39\" style=\"fill: none; stroke: rgb(27, 158, 118); stroke-opacity: 1; stroke-width: 2px; opacity: 1;\"/><path d=\"M354.54,190.35H355.03M355.03,180.53V204.77M355.52,183.48H355.03\" style=\"fill: none; stroke: rgb(27, 158, 118); stroke-opacity: 1; stroke-width: 2px; opacity: 1;\"/><path d=\"M356.18,183.48H356.67M356.67,168.21V189.56M357.16,171.56H356.67\" style=\"fill: none; stroke: rgb(27, 158, 118); stroke-opacity: 1; stroke-width: 2px; opacity: 1;\"/><path d=\"M357.82,171.56H358.31M358.31,160.32V173.92M358.8,161.09H358.31\" style=\"fill: none; stroke: rgb(27, 158, 118); stroke-opacity: 1; stroke-width: 2px; opacity: 1;\"/><path d=\"M359.46,161.09H359.95M359.95,156.64V169M360.44,165.78H359.95\" style=\"fill: none; stroke: rgb(217, 95, 2); stroke-opacity: 1; stroke-width: 2px; opacity: 1;\"/><path d=\"M361.1,165.78H361.59M361.59,149.74V171.91M362.08,150.95H361.59\" style=\"fill: none; stroke: rgb(27, 158, 118); stroke-opacity: 1; stroke-width: 2px; opacity: 1;\"/><path d=\"M362.74,150.97H363.23M363.23,148.25V160.99M363.72,154.98H363.23\" style=\"fill: none; stroke: rgb(217, 95, 2); stroke-opacity: 1; stroke-width: 2px; opacity: 1;\"/><path d=\"M364.38,154.98H364.87M364.87,147.99V156.45M365.36,155.43H364.87\" style=\"fill: none; stroke: rgb(217, 95, 2); stroke-opacity: 1; stroke-width: 2px; opacity: 1;\"/><path d=\"M366.02,155.43H366.51M366.51,151.16V165.93M367,162.14H366.51\" style=\"fill: none; stroke: rgb(217, 95, 2); stroke-opacity: 1; stroke-width: 2px; opacity: 1;\"/><path d=\"M367.66,162.13H368.15M368.15,141.1V163.23M368.64,141.62H368.15\" style=\"fill: none; stroke: rgb(27, 158, 118); stroke-opacity: 1; stroke-width: 2px; opacity: 1;\"/><path d=\"M369.3,141.62H369.79M369.79,139.54V152.65M370.28,146.03H369.79\" style=\"fill: none; stroke: rgb(217, 95, 2); stroke-opacity: 1; stroke-width: 2px; opacity: 1;\"/><path d=\"M370.94,146.03H371.43M371.43,144.2V155.49M371.92,146.6H371.43\" style=\"fill: none; stroke: rgb(217, 95, 2); stroke-opacity: 1; stroke-width: 2px; opacity: 1;\"/><path d=\"M372.58,146.6H373.07M373.07,140.08V154.53M373.56,153.07H373.07\" style=\"fill: none; stroke: rgb(217, 95, 2); stroke-opacity: 1; stroke-width: 2px; opacity: 1;\"/><path d=\"M374.22,153.07H374.71M374.71,145.48V162.28M375.2,160.34H374.71\" style=\"fill: none; stroke: rgb(217, 95, 2); stroke-opacity: 1; stroke-width: 2px; opacity: 1;\"/><path d=\"M375.86,160.34H376.35M376.35,152.48V163.32M376.84,160.29H376.35\" style=\"fill: none; stroke: rgb(27, 158, 118); stroke-opacity: 1; stroke-width: 2px; opacity: 1;\"/><path d=\"M377.5,160.32H377.99M377.99,146.24V164.98M378.48,147.89H377.99\" style=\"fill: none; stroke: rgb(27, 158, 118); stroke-opacity: 1; stroke-width: 2px; opacity: 1;\"/><path d=\"M379.14,147.89H379.63M379.63,132.06V148.72M380.12,132.43H379.63\" style=\"fill: none; stroke: rgb(27, 158, 118); stroke-opacity: 1; stroke-width: 2px; opacity: 1;\"/><path d=\"M380.78,132.43H381.27M381.27,129.81V139.07M381.76,135.45H381.27\" style=\"fill: none; stroke: rgb(217, 95, 2); stroke-opacity: 1; stroke-width: 2px; opacity: 1;\"/><path d=\"M382.42,135.45H382.91M382.91,131.36V140.11M383.4,132.93H382.91\" style=\"fill: none; stroke: rgb(27, 158, 118); stroke-opacity: 1; stroke-width: 2px; opacity: 1;\"/><path d=\"M384.06,132.93H384.55M384.55,125.32V134.2M385.04,131.43H384.55\" style=\"fill: none; stroke: rgb(27, 158, 118); stroke-opacity: 1; stroke-width: 2px; opacity: 1;\"/><path d=\"M385.7,131.43H386.19M386.19,129.19V142.82M386.68,142.38H386.19\" style=\"fill: none; stroke: rgb(217, 95, 2); stroke-opacity: 1; stroke-width: 2px; opacity: 1;\"/><path d=\"M387.34,142.38H387.83M387.83,132.78V145.68M388.32,134.54H387.83\" style=\"fill: none; stroke: rgb(27, 158, 118); stroke-opacity: 1; stroke-width: 2px; opacity: 1;\"/><path d=\"M388.98,134.54H389.47M389.47,132.25V150.97M389.96,147.38H389.47\" style=\"fill: none; stroke: rgb(217, 95, 2); stroke-opacity: 1; stroke-width: 2px; opacity: 1;\"/><path d=\"M390.62,147.38H391.11M391.11,133.47V150.38M391.6,133.95H391.11\" style=\"fill: none; stroke: rgb(27, 158, 118); stroke-opacity: 1; stroke-width: 2px; opacity: 1;\"/><path d=\"M392.26,133.95H392.75M392.75,132.57V138.32M393.24,135.01H392.75\" style=\"fill: none; stroke: rgb(217, 95, 2); stroke-opacity: 1; stroke-width: 2px; opacity: 1;\"/><path d=\"M393.89,135.01H394.39M394.39,130.56V141.84M394.88,135.78H394.39\" style=\"fill: none; stroke: rgb(217, 95, 2); stroke-opacity: 1; stroke-width: 2px; opacity: 1;\"/><path d=\"M395.53,135.78H396.03M396.03,135.05V147.33M396.52,146.55H396.03\" style=\"fill: none; stroke: rgb(217, 95, 2); stroke-opacity: 1; stroke-width: 2px; opacity: 1;\"/><path d=\"M397.17,146.55H397.67M397.67,138.92V148.25M398.16,145.83H397.67\" style=\"fill: none; stroke: rgb(27, 158, 118); stroke-opacity: 1; stroke-width: 2px; opacity: 1;\"/><path d=\"M398.81,145.83H399.31M399.31,133.43V149.39M399.8,135.52H399.31\" style=\"fill: none; stroke: rgb(27, 158, 118); stroke-opacity: 1; stroke-width: 2px; opacity: 1;\"/><path d=\"M400.45,135.52H400.95M400.95,125.63V136.88M401.44,132.89H400.95\" style=\"fill: none; stroke: rgb(27, 158, 118); stroke-opacity: 1; stroke-width: 2px; opacity: 1;\"/><path d=\"M402.09,132.89H402.59M402.59,122.31V138.5M403.08,128.35H402.59\" style=\"fill: none; stroke: rgb(27, 158, 118); stroke-opacity: 1; stroke-width: 2px; opacity: 1;\"/><path d=\"M403.73,128.35H404.23M404.23,125.11V132.14M404.72,128.85H404.23\" style=\"fill: none; stroke: rgb(217, 95, 2); stroke-opacity: 1; stroke-width: 2px; opacity: 1;\"/><path d=\"M405.37,128.84H405.87M405.87,116.88V131.66M406.36,117.74H405.87\" style=\"fill: none; stroke: rgb(27, 158, 118); stroke-opacity: 1; stroke-width: 2px; opacity: 1;\"/><path d=\"M407.01,117.74H407.51M407.51,111.57V122.49M408,112.27H407.51\" style=\"fill: none; stroke: rgb(27, 158, 118); stroke-opacity: 1; stroke-width: 2px; opacity: 1;\"/><path d=\"M408.65,112.25H409.15M409.15,110.72V171.52M409.64,147.27H409.15\" style=\"fill: none; stroke: rgb(217, 95, 2); stroke-opacity: 1; stroke-width: 2px; opacity: 1;\"/><path d=\"M410.29,147.24H410.79M410.79,144.39V162.06M411.28,152.19H410.79\" style=\"fill: none; stroke: rgb(217, 95, 2); stroke-opacity: 1; stroke-width: 2px; opacity: 1;\"/><path d=\"M411.93,152.19H412.43M412.43,144.03V155.41M412.92,150.09H412.43\" style=\"fill: none; stroke: rgb(27, 158, 118); stroke-opacity: 1; stroke-width: 2px; opacity: 1;\"/><path d=\"M413.57,150.09H414.07M414.07,146.24V163.75M414.56,159.41H414.07\" style=\"fill: none; stroke: rgb(217, 95, 2); stroke-opacity: 1; stroke-width: 2px; opacity: 1;\"/><path d=\"M415.21,159.46H415.71M415.71,152.55V160.19M416.2,157.46H415.71\" style=\"fill: none; stroke: rgb(27, 158, 118); stroke-opacity: 1; stroke-width: 2px; opacity: 1;\"/><path d=\"M416.85,157.46H417.34M417.34,149.7V160.07M417.84,152.32H417.34\" style=\"fill: none; stroke: rgb(27, 158, 118); stroke-opacity: 1; stroke-width: 2px; opacity: 1;\"/><path d=\"M418.49,152.32H418.98M418.98,147.17V168.35M419.48,158.87H418.98\" style=\"fill: none; stroke: rgb(217, 95, 2); stroke-opacity: 1; stroke-width: 2px; opacity: 1;\"/><path d=\"M420.13,158.87H420.62M420.62,144.93V160.96M421.12,145.77H420.62\" style=\"fill: none; stroke: rgb(27, 158, 118); stroke-opacity: 1; stroke-width: 2px; opacity: 1;\"/><path d=\"M421.77,145.82H422.26M422.26,137.39V148.36M422.76,139.68H422.26\" style=\"fill: none; stroke: rgb(27, 158, 118); stroke-opacity: 1; stroke-width: 2px; opacity: 1;\"/><path d=\"M423.41,139.68H423.9M423.9,137.05V146.32M424.4,141.99H423.9\" style=\"fill: none; stroke: rgb(217, 95, 2); stroke-opacity: 1; stroke-width: 2px; opacity: 1;\"/><path d=\"M425.05,141.99H425.54M425.54,139.5V148.26M426.04,144.63H425.54\" style=\"fill: none; stroke: rgb(217, 95, 2); stroke-opacity: 1; stroke-width: 2px; opacity: 1;\"/><path d=\"M426.69,144.63H427.18M427.18,135.32V146.23M427.68,138.64H427.18\" style=\"fill: none; stroke: rgb(27, 158, 118); stroke-opacity: 1; stroke-width: 2px; opacity: 1;\"/><path d=\"M428.33,138.64H428.82M428.82,138.16V147.47M429.32,144.98H428.82\" style=\"fill: none; stroke: rgb(217, 95, 2); stroke-opacity: 1; stroke-width: 2px; opacity: 1;\"/><path d=\"M429.97,144.98H430.46M430.46,144.35V173.59M430.96,170.48H430.46\" style=\"fill: none; stroke: rgb(217, 95, 2); stroke-opacity: 1; stroke-width: 2px; opacity: 1;\"/><path d=\"M431.61,170.48H432.1M432.1,166.72V191.09M432.6,184.25H432.1\" style=\"fill: none; stroke: rgb(217, 95, 2); stroke-opacity: 1; stroke-width: 2px; opacity: 1;\"/><path d=\"M433.25,184.25H433.74M433.74,164.54V185.27M434.24,167.3H433.74\" style=\"fill: none; stroke: rgb(27, 158, 118); stroke-opacity: 1; stroke-width: 2px; opacity: 1;\"/><path d=\"M434.89,167.28H435.38M435.38,158.64V170.16M435.88,159.32H435.38\" style=\"fill: none; stroke: rgb(27, 158, 118); stroke-opacity: 1; stroke-width: 2px; opacity: 1;\"/><path d=\"M436.53,159.32H437.02M437.02,157.3V184.61M437.52,171.72H437.02\" style=\"fill: none; stroke: rgb(217, 95, 2); stroke-opacity: 1; stroke-width: 2px; opacity: 1;\"/><path d=\"M438.17,171.72H438.66M438.66,170.78V178.75M439.16,172.57H438.66\" style=\"fill: none; stroke: rgb(217, 95, 2); stroke-opacity: 1; stroke-width: 2px; opacity: 1;\"/><path d=\"M439.81,172.57H440.3M440.3,164.85V184.15M440.79,169.61H440.3\" style=\"fill: none; stroke: rgb(27, 158, 118); stroke-opacity: 1; stroke-width: 2px; opacity: 1;\"/><path d=\"M441.45,169.61H441.94M441.94,162.43V176.02M442.43,175.72H441.94\" style=\"fill: none; stroke: rgb(217, 95, 2); stroke-opacity: 1; stroke-width: 2px; opacity: 1;\"/><path d=\"M443.09,175.72H443.58M443.58,171.86V183.32M444.07,182.49H443.58\" style=\"fill: none; stroke: rgb(217, 95, 2); stroke-opacity: 1; stroke-width: 2px; opacity: 1;\"/><path d=\"M444.73,182.49H445.22M445.22,173.05V184.13M445.71,179.48H445.22\" style=\"fill: none; stroke: rgb(27, 158, 118); stroke-opacity: 1; stroke-width: 2px; opacity: 1;\"/><path d=\"M446.37,179.48H446.86M446.86,163.69V180.17M447.35,165.61H446.86\" style=\"fill: none; stroke: rgb(27, 158, 118); stroke-opacity: 1; stroke-width: 2px; opacity: 1;\"/><path d=\"M448.01,165.63H448.5M448.5,137.42V168.87M448.99,139.55H448.5\" style=\"fill: none; stroke: rgb(27, 158, 118); stroke-opacity: 1; stroke-width: 2px; opacity: 1;\"/><path d=\"M449.65,139.55H450.14M450.14,138.38V143.85M450.63,142.61H450.14\" style=\"fill: none; stroke: rgb(217, 95, 2); stroke-opacity: 1; stroke-width: 2px; opacity: 1;\"/><path d=\"M451.29,142.61H451.78M451.78,133V145.91M452.27,139.2H451.78\" style=\"fill: none; stroke: rgb(27, 158, 118); stroke-opacity: 1; stroke-width: 2px; opacity: 1;\"/><path d=\"M452.93,139.2H453.42M453.42,131.14V147.1M453.91,133.02H453.42\" style=\"fill: none; stroke: rgb(27, 158, 118); stroke-opacity: 1; stroke-width: 2px; opacity: 1;\"/><path d=\"M454.57,133.02H455.06M455.06,116.96V134.24M455.55,119.46H455.06\" style=\"fill: none; stroke: rgb(27, 158, 118); stroke-opacity: 1; stroke-width: 2px; opacity: 1;\"/><path d=\"M456.21,119.46H456.7M456.7,93.65V126.03M457.19,96.27H456.7\" style=\"fill: none; stroke: rgb(27, 158, 118); stroke-opacity: 1; stroke-width: 2px; opacity: 1;\"/><path d=\"M457.85,96.27H458.34M458.34,96.17V108.09M458.83,105.5H458.34\" style=\"fill: none; stroke: rgb(217, 95, 2); stroke-opacity: 1; stroke-width: 2px; opacity: 1;\"/><path d=\"M459.49,105.5H459.98M459.98,91.54V106.51M460.47,104.5H459.98\" style=\"fill: none; stroke: rgb(27, 158, 118); stroke-opacity: 1; stroke-width: 2px; opacity: 1;\"/><path d=\"M461.13,104.47H461.62M461.62,95.22V106.25M462.11,98.48H461.62\" style=\"fill: none; stroke: rgb(27, 158, 118); stroke-opacity: 1; stroke-width: 2px; opacity: 1;\"/><path d=\"M462.77,98.48H463.26M463.26,88.75V103.72M463.75,100.23H463.26\" style=\"fill: none; stroke: rgb(217, 95, 2); stroke-opacity: 1; stroke-width: 2px; opacity: 1;\"/><path d=\"M464.41,100.23H464.9M464.9,81.04V101.7M465.39,83.26H464.9\" style=\"fill: none; stroke: rgb(27, 158, 118); stroke-opacity: 1; stroke-width: 2px; opacity: 1;\"/><path d=\"M466.05,83.26H466.54M466.54,82V104.94M467.03,92.16H466.54\" style=\"fill: none; stroke: rgb(217, 95, 2); stroke-opacity: 1; stroke-width: 2px; opacity: 1;\"/><path d=\"M467.69,92.16H468.18M468.18,81.42V103.2M468.67,83.89H468.18\" style=\"fill: none; stroke: rgb(27, 158, 118); stroke-opacity: 1; stroke-width: 2px; opacity: 1;\"/><path d=\"M469.33,83.87H469.82M469.82,76.86V87.2M470.31,84.01H469.82\" style=\"fill: none; stroke: rgb(217, 95, 2); stroke-opacity: 1; stroke-width: 2px; opacity: 1;\"/><path d=\"M470.97,84.01H471.46M471.46,50.31V87.01M471.95,57.91H471.46\" style=\"fill: none; stroke: rgb(27, 158, 118); stroke-opacity: 1; stroke-width: 2px; opacity: 1;\"/><path d=\"M472.61,57.91H473.1M473.1,53.65V67.1M473.59,62.72H473.1\" style=\"fill: none; stroke: rgb(217, 95, 2); stroke-opacity: 1; stroke-width: 2px; opacity: 1;\"/><path d=\"M474.25,62.72H474.74M474.74,57.64V74.26M475.23,58.78H474.74\" style=\"fill: none; stroke: rgb(27, 158, 118); stroke-opacity: 1; stroke-width: 2px; opacity: 1;\"/><path d=\"M475.89,58.78H476.38M476.38,51.74V68.94M476.87,55.88H476.38\" style=\"fill: none; stroke: rgb(27, 158, 118); stroke-opacity: 1; stroke-width: 2px; opacity: 1;\"/><path d=\"M477.53,55.9H478.02M478.02,40.94V60.03M478.51,42.18H478.02\" style=\"fill: none; stroke: rgb(27, 158, 118); stroke-opacity: 1; stroke-width: 2px; opacity: 1;\"/><path d=\"M479.17,42.18H479.66M479.66,25.77V47M480.15,31.79H479.66\" style=\"fill: none; stroke: rgb(27, 158, 118); stroke-opacity: 1; stroke-width: 2px; opacity: 1;\"/><path d=\"M480.81,31.79H481.3M481.3,27.94V55.94M481.79,54.77H481.3\" style=\"fill: none; stroke: rgb(217, 95, 2); stroke-opacity: 1; stroke-width: 2px; opacity: 1;\"/><path d=\"M482.45,54.77H482.94M482.94,45.48V68M483.43,63.85H482.94\" style=\"fill: none; stroke: rgb(217, 95, 2); stroke-opacity: 1; stroke-width: 2px; opacity: 1;\"/><path d=\"M484.09,63.85H484.58M484.58,57.46V70.65M485.07,60.24H484.58\" style=\"fill: none; stroke: rgb(27, 158, 118); stroke-opacity: 1; stroke-width: 2px; opacity: 1;\"/><path d=\"M485.73,60.24H486.22M486.22,58.95V70.96M486.71,62.86H486.22\" style=\"fill: none; stroke: rgb(217, 95, 2); stroke-opacity: 1; stroke-width: 2px; opacity: 1;\"/><path d=\"M487.37,62.86H487.86M487.86,45.61V64.08M488.35,49.43H487.86\" style=\"fill: none; stroke: rgb(27, 158, 118); stroke-opacity: 1; stroke-width: 2px; opacity: 1;\"/><path d=\"M489.01,49.43H489.5M489.5,48.13V69.1M489.99,66.02H489.5\" style=\"fill: none; stroke: rgb(217, 95, 2); stroke-opacity: 1; stroke-width: 2px; opacity: 1;\"/><path d=\"M490.65,66.02H491.14M491.14,58.98V80.07M491.63,77.58H491.14\" style=\"fill: none; stroke: rgb(217, 95, 2); stroke-opacity: 1; stroke-width: 2px; opacity: 1;\"/><path d=\"M492.29,77.58H492.78M492.78,52.93V81.16M493.27,64.53H492.78\" style=\"fill: none; stroke: rgb(27, 158, 118); stroke-opacity: 1; stroke-width: 2px; opacity: 1;\"/><path d=\"M493.93,64.53H494.42M494.42,50.02V66.95M494.91,54.41H494.42\" style=\"fill: none; stroke: rgb(27, 158, 118); stroke-opacity: 1; stroke-width: 2px; opacity: 1;\"/><path d=\"M495.57,54.41H496.06M496.06,53.77V63.94M496.55,56.79H496.06\" style=\"fill: none; stroke: rgb(217, 95, 2); stroke-opacity: 1; stroke-width: 2px; opacity: 1;\"/><path d=\"M497.21,56.79H497.7M497.7,53.49V68.33M498.19,60.16H497.7\" style=\"fill: none; stroke: rgb(217, 95, 2); stroke-opacity: 1; stroke-width: 2px; opacity: 1;\"/><path d=\"M498.85,60.16H499.34M499.34,53.3V71.59M499.83,62.51H499.34\" style=\"fill: none; stroke: rgb(217, 95, 2); stroke-opacity: 1; stroke-width: 2px; opacity: 1;\"/><path d=\"M500.49,62.51H500.98M500.98,42.24V64.23M501.47,48.58H500.98\" style=\"fill: none; stroke: rgb(27, 158, 118); stroke-opacity: 1; stroke-width: 2px; opacity: 1;\"/><path d=\"M502.13,48.57H502.62M502.62,46.89V65.69M503.11,50.53H502.62\" style=\"fill: none; stroke: rgb(217, 95, 2); stroke-opacity: 1; stroke-width: 2px; opacity: 1;\"/><path d=\"M503.77,50.53H504.26M504.26,49.38V63.92M504.75,59.59H504.26\" style=\"fill: none; stroke: rgb(217, 95, 2); stroke-opacity: 1; stroke-width: 2px; opacity: 1;\"/><path d=\"M505.41,59.59H505.9M505.9,52.34V63.65M506.39,62.35H505.9\" style=\"fill: none; stroke: rgb(217, 95, 2); stroke-opacity: 1; stroke-width: 2px; opacity: 1;\"/><path d=\"M507.05,62.33H507.54M507.54,58.59V67.7M508.03,59.13H507.54\" style=\"fill: none; stroke: rgb(27, 158, 118); stroke-opacity: 1; stroke-width: 2px; opacity: 1;\"/><path d=\"M508.69,59.13H509.18M509.18,48.17V60.02M509.67,48.25H509.18\" style=\"fill: none; stroke: rgb(27, 158, 118); stroke-opacity: 1; stroke-width: 2px; opacity: 1;\"/><path d=\"M510.33,48.25H510.82M510.82,21.01V48.25M511.31,22.59H510.82\" style=\"fill: none; stroke: rgb(27, 158, 118); stroke-opacity: 1; stroke-width: 2px; opacity: 1;\"/><path d=\"M511.96,22.59H512.46M512.46,16.57V30.46M512.95,26.08H512.46\" style=\"fill: none; stroke: rgb(217, 95, 2); stroke-opacity: 1; stroke-width: 2px; opacity: 1;\"/><path d=\"M513.6,26.08H514.1M514.1,13.7V50.97M514.59,38.54H514.1\" style=\"fill: none; stroke: rgb(217, 95, 2); stroke-opacity: 1; stroke-width: 2px; opacity: 1;\"/><path d=\"M515.24,38.54H515.74M515.74,34.21V43.27M516.23,39.2H515.74\" style=\"fill: none; stroke: rgb(217, 95, 2); stroke-opacity: 1; stroke-width: 2px; opacity: 1;\"/><path d=\"M516.88,39.2H517.38M517.38,35.12V54.26M517.87,43.13H517.38\" style=\"fill: none; stroke: rgb(217, 95, 2); stroke-opacity: 1; stroke-width: 2px; opacity: 1;\"/><path d=\"M518.52,43.13H519.02M519.02,37.84V47.73M519.51,41.58H519.02\" style=\"fill: none; stroke: rgb(27, 158, 118); stroke-opacity: 1; stroke-width: 2px; opacity: 1;\"/><path d=\"M520.16,41.58H520.66M520.66,34.51V46.43M521.15,34.7H520.66\" style=\"fill: none; stroke: rgb(27, 158, 118); stroke-opacity: 1; stroke-width: 2px; opacity: 1;\"/><path d=\"M521.8,34.7H522.3M522.3,29.38V47.49M522.79,46.24H522.3\" style=\"fill: none; stroke: rgb(217, 95, 2); stroke-opacity: 1; stroke-width: 2px; opacity: 1;\"/><path d=\"M523.44,46.24H523.94M523.94,46.18V76.61M524.43,67.65H523.94\" style=\"fill: none; stroke: rgb(217, 95, 2); stroke-opacity: 1; stroke-width: 2px; opacity: 1;\"/><path d=\"M525.08,67.65H525.58M525.58,62.93V77.82M526.07,65.92H525.58\" style=\"fill: none; stroke: rgb(27, 158, 118); stroke-opacity: 1; stroke-width: 2px; opacity: 1;\"/><path d=\"M526.72,65.92H527.22M527.22,62.11V89.28M527.71,86.76H527.22\" style=\"fill: none; stroke: rgb(217, 95, 2); stroke-opacity: 1; stroke-width: 2px; opacity: 1;\"/><path d=\"M528.36,86.76H528.86M528.86,78.14V94.55M529.35,79.76H528.86\" style=\"fill: none; stroke: rgb(27, 158, 118); stroke-opacity: 1; stroke-width: 2px; opacity: 1;\"/><path d=\"M530,79.73H530.5M530.5,68.94V83.98M530.99,69.77H530.5\" style=\"fill: none; stroke: rgb(27, 158, 118); stroke-opacity: 1; stroke-width: 2px; opacity: 1;\"/><path d=\"M531.64,69.77H532.14M532.14,67.82V77.14M532.63,76.32H532.14\" style=\"fill: none; stroke: rgb(217, 95, 2); stroke-opacity: 1; stroke-width: 2px; opacity: 1;\"/><path d=\"M533.28,76.34H533.78M533.78,71.36V94.49M534.27,90.65H533.78\" style=\"fill: none; stroke: rgb(217, 95, 2); stroke-opacity: 1; stroke-width: 2px; opacity: 1;\"/><path d=\"M534.92,90.67H535.41M535.41,80.01V96.26M535.91,82.84H535.41\" style=\"fill: none; stroke: rgb(27, 158, 118); stroke-opacity: 1; stroke-width: 2px; opacity: 1;\"/><path d=\"M536.56,82.84H537.05M537.05,81.67V93.12M537.55,85.27H537.05\" style=\"fill: none; stroke: rgb(217, 95, 2); stroke-opacity: 1; stroke-width: 2px; opacity: 1;\"/><path d=\"M538.2,85.27H538.69M538.69,71.63V86.11M539.19,74.28H538.69\" style=\"fill: none; stroke: rgb(27, 158, 118); stroke-opacity: 1; stroke-width: 2px; opacity: 1;\"/><path d=\"M539.84,74.28H540.33M540.33,73.13V107.22M540.83,105.86H540.33\" style=\"fill: none; stroke: rgb(217, 95, 2); stroke-opacity: 1; stroke-width: 2px; opacity: 1;\"/><path d=\"M541.48,105.87H541.97M541.97,96.48V106.56M542.47,99.86H541.97\" style=\"fill: none; stroke: rgb(27, 158, 118); stroke-opacity: 1; stroke-width: 2px; opacity: 1;\"/><path d=\"M543.12,99.88H543.61M543.61,83.42V108.69M544.11,84.45H543.61\" style=\"fill: none; stroke: rgb(27, 158, 118); stroke-opacity: 1; stroke-width: 2px; opacity: 1;\"/><path d=\"M544.76,84.45H545.25M545.25,74.85V88.12M545.75,81.42H545.25\" style=\"fill: none; stroke: rgb(27, 158, 118); stroke-opacity: 1; stroke-width: 2px; opacity: 1;\"/><path d=\"M546.4,81.42H546.89M546.89,72.97V92.89M547.39,86.4H546.89\" style=\"fill: none; stroke: rgb(217, 95, 2); stroke-opacity: 1; stroke-width: 2px; opacity: 1;\"/><path d=\"M548.04,86.4H548.53M548.53,73.71V89.38M549.03,84.99H548.53\" style=\"fill: none; stroke: rgb(27, 158, 118); stroke-opacity: 1; stroke-width: 2px; opacity: 1;\"/><path d=\"M549.68,84.99H550.17M550.17,83.84V93.48M550.67,89.24H550.17\" style=\"fill: none; stroke: rgb(217, 95, 2); stroke-opacity: 1; stroke-width: 2px; opacity: 1;\"/><path d=\"M551.32,89.22H551.81M551.81,82.48V118.2M552.31,106.61H551.81\" style=\"fill: none; stroke: rgb(217, 95, 2); stroke-opacity: 1; stroke-width: 2px; opacity: 1;\"/><path d=\"M552.96,106.61H553.45M553.45,105.06V176.61M553.95,133.46H553.45\" style=\"fill: none; stroke: rgb(217, 95, 2); stroke-opacity: 1; stroke-width: 2px; opacity: 1;\"/><path d=\"M554.6,133.46H555.09M555.09,130.16V142.06M555.59,131.98H555.09\" style=\"fill: none; stroke: rgb(27, 158, 118); stroke-opacity: 1; stroke-width: 2px; opacity: 1;\"/><path d=\"M556.24,131.98H556.73M556.73,122.96V145.84M557.23,125.68H556.73\" style=\"fill: none; stroke: rgb(27, 158, 118); stroke-opacity: 1; stroke-width: 2px; opacity: 1;\"/><path d=\"M557.88,125.68H558.37M558.37,116.66V128.1M558.86,124.79H558.37\" style=\"fill: none; stroke: rgb(27, 158, 118); stroke-opacity: 1; stroke-width: 2px; opacity: 1;\"/><path d=\"M559.52,124.79H560.01M560.01,121.1V136.79M560.5,125.5H560.01\" style=\"fill: none; stroke: rgb(217, 95, 2); stroke-opacity: 1; stroke-width: 2px; opacity: 1;\"/><path d=\"M561.16,125.5H561.65M561.65,123.53V144.51M562.14,143.15H561.65\" style=\"fill: none; stroke: rgb(217, 95, 2); stroke-opacity: 1; stroke-width: 2px; opacity: 1;\"/><path d=\"M562.8,143.21H563.29M563.29,127.59V147.34M563.78,145.59H563.29\" style=\"fill: none; stroke: rgb(217, 95, 2); stroke-opacity: 1; stroke-width: 2px; opacity: 1;\"/><path d=\"M564.44,145.59H564.93M564.93,131.44V147.95M565.42,132.02H564.93\" style=\"fill: none; stroke: rgb(27, 158, 118); stroke-opacity: 1; stroke-width: 2px; opacity: 1;\"/><path d=\"M566.08,132.02H566.57M566.57,123.65V136.56M567.06,128.02H566.57\" style=\"fill: none; stroke: rgb(27, 158, 118); stroke-opacity: 1; stroke-width: 2px; opacity: 1;\"/><path d=\"M567.72,128.02H568.21M568.21,127.2V154.45M568.7,148.24H568.21\" style=\"fill: none; stroke: rgb(217, 95, 2); stroke-opacity: 1; stroke-width: 2px; opacity: 1;\"/><path d=\"M569.36,148.24H569.85M569.85,136.18V150.73M570.34,138.34H569.85\" style=\"fill: none; stroke: rgb(27, 158, 118); stroke-opacity: 1; stroke-width: 2px; opacity: 1;\"/><path d=\"M571,138.38H571.49M571.49,131.36V149.18M571.98,135.19H571.49\" style=\"fill: none; stroke: rgb(27, 158, 118); stroke-opacity: 1; stroke-width: 2px; opacity: 1;\"/><path d=\"M572.64,135.19H573.13M573.13,131.74V143.36M573.62,142.63H573.13\" style=\"fill: none; stroke: rgb(217, 95, 2); stroke-opacity: 1; stroke-width: 2px; opacity: 1;\"/><path d=\"M574.28,142.63H574.77M574.77,140.43V155.76M575.26,151.68H574.77\" style=\"fill: none; stroke: rgb(217, 95, 2); stroke-opacity: 1; stroke-width: 2px; opacity: 1;\"/><path d=\"M575.92,151.67H576.41M576.41,144.08V155.49M576.9,147.44H576.41\" style=\"fill: none; stroke: rgb(27, 158, 118); stroke-opacity: 1; stroke-width: 2px; opacity: 1;\"/><path d=\"M577.56,147.44H578.05M578.05,138.6V150.02M578.54,148.37H578.05\" style=\"fill: none; stroke: rgb(217, 95, 2); stroke-opacity: 1; stroke-width: 2px; opacity: 1;\"/><path d=\"M579.2,148.37H579.69M579.69,143.2V155.14M580.18,146.96H579.69\" style=\"fill: none; stroke: rgb(27, 158, 118); stroke-opacity: 1; stroke-width: 2px; opacity: 1;\"/><path d=\"M580.84,146.96H581.33M581.33,132.39V148.68M581.82,135.04H581.33\" style=\"fill: none; stroke: rgb(27, 158, 118); stroke-opacity: 1; stroke-width: 2px; opacity: 1;\"/><path d=\"M582.48,135.05H582.97M582.97,130.9V137.86M583.46,136.86H582.97\" style=\"fill: none; stroke: rgb(217, 95, 2); stroke-opacity: 1; stroke-width: 2px; opacity: 1;\"/><path d=\"M584.12,136.86H584.61M584.61,120.05V140.89M585.1,123.28H584.61\" style=\"fill: none; stroke: rgb(27, 158, 118); stroke-opacity: 1; stroke-width: 2px; opacity: 1;\"/><path d=\"M585.76,123.28H586.25M586.25,117.42V126.02M586.74,123.39H586.25\" style=\"fill: none; stroke: rgb(217, 95, 2); stroke-opacity: 1; stroke-width: 2px; opacity: 1;\"/><path d=\"M587.4,123.39H587.89M587.89,121.37V127.48M588.38,125.93H587.89\" style=\"fill: none; stroke: rgb(217, 95, 2); stroke-opacity: 1; stroke-width: 2px; opacity: 1;\"/><path d=\"M589.04,125.93H589.53M589.53,120.62V131.89M590.02,123.66H589.53\" style=\"fill: none; stroke: rgb(27, 158, 118); stroke-opacity: 1; stroke-width: 2px; opacity: 1;\"/><path d=\"M590.68,123.66H591.17M591.17,115.74V125.63M591.66,124.11H591.17\" style=\"fill: none; stroke: rgb(217, 95, 2); stroke-opacity: 1; stroke-width: 2px; opacity: 1;\"/><path d=\"M592.32,124.11H592.81M592.81,124.09V144.55M593.3,143.16H592.81\" style=\"fill: none; stroke: rgb(217, 95, 2); stroke-opacity: 1; stroke-width: 2px; opacity: 1;\"/><path d=\"M593.96,143.16H594.45M594.45,139.57V151.89M594.94,149.67H594.45\" style=\"fill: none; stroke: rgb(217, 95, 2); stroke-opacity: 1; stroke-width: 2px; opacity: 1;\"/><path d=\"M595.6,149.67H596.09M596.09,141.01V153.08M596.58,145.71H596.09\" style=\"fill: none; stroke: rgb(27, 158, 118); stroke-opacity: 1; stroke-width: 2px; opacity: 1;\"/><path d=\"M597.24,145.71H597.73M597.73,137.1V154.42M598.22,151.17H597.73\" style=\"fill: none; stroke: rgb(217, 95, 2); stroke-opacity: 1; stroke-width: 2px; opacity: 1;\"/></g></g><g class=\"scatterlayer mlayer\"><g class=\"trace scatter trace9dcdfc8b-7331-4d52-989f-26942db25365\" style=\"stroke-miterlimit: 2; opacity: 1;\"><g class=\"fills\"/><g class=\"errorbars\"/><g class=\"lines\"/><g class=\"points\"><path class=\"point\" transform=\"translate(56.58,203.04)\" d=\"M-4.62,2H4.62L0,-4Z\" style=\"opacity: 1; stroke-width: 1px; fill: rgb(55, 177, 63); fill-opacity: 1; stroke: rgb(38, 123, 44); stroke-opacity: 1;\"/><path class=\"point\" transform=\"translate(112.33,98.93)\" d=\"M-4.62,2H4.62L0,-4Z\" style=\"opacity: 1; stroke-width: 1px; fill: rgb(55, 177, 63); fill-opacity: 1; stroke: rgb(38, 123, 44); stroke-opacity: 1;\"/><path class=\"point\" transform=\"translate(151.69,74.34)\" d=\"M-4.62,2H4.62L0,-4Z\" style=\"opacity: 1; stroke-width: 1px; fill: rgb(55, 177, 63); fill-opacity: 1; stroke: rgb(38, 123, 44); stroke-opacity: 1;\"/><path class=\"point\" transform=\"translate(204.16,109)\" d=\"M-4.62,2H4.62L0,-4Z\" style=\"opacity: 1; stroke-width: 1px; fill: rgb(55, 177, 63); fill-opacity: 1; stroke: rgb(38, 123, 44); stroke-opacity: 1;\"/><path class=\"point\" transform=\"translate(271.4,185.56)\" d=\"M-4.62,2H4.62L0,-4Z\" style=\"opacity: 1; stroke-width: 1px; fill: rgb(55, 177, 63); fill-opacity: 1; stroke: rgb(38, 123, 44); stroke-opacity: 1;\"/><path class=\"point\" transform=\"translate(305.83,226.75)\" d=\"M-4.62,2H4.62L0,-4Z\" style=\"opacity: 1; stroke-width: 1px; fill: rgb(55, 177, 63); fill-opacity: 1; stroke: rgb(38, 123, 44); stroke-opacity: 1;\"/><path class=\"point\" transform=\"translate(340.27,205.32)\" d=\"M-4.62,2H4.62L0,-4Z\" style=\"opacity: 1; stroke-width: 1px; fill: rgb(55, 177, 63); fill-opacity: 1; stroke: rgb(38, 123, 44); stroke-opacity: 1;\"/><path class=\"point\" transform=\"translate(455.06,133.02)\" d=\"M-4.62,2H4.62L0,-4Z\" style=\"opacity: 1; stroke-width: 1px; fill: rgb(55, 177, 63); fill-opacity: 1; stroke: rgb(38, 123, 44); stroke-opacity: 1;\"/><path class=\"point\" transform=\"translate(509.18,59.13)\" d=\"M-4.62,2H4.62L0,-4Z\" style=\"opacity: 1; stroke-width: 1px; fill: rgb(55, 177, 63); fill-opacity: 1; stroke: rgb(38, 123, 44); stroke-opacity: 1;\"/><path class=\"point\" transform=\"translate(589.53,125.93)\" d=\"M-4.62,2H4.62L0,-4Z\" style=\"opacity: 1; stroke-width: 1px; fill: rgb(55, 177, 63); fill-opacity: 1; stroke: rgb(38, 123, 44); stroke-opacity: 1;\"/></g><g class=\"text\"/></g><g class=\"trace scatter traced8e4e612-669a-4e84-90f7-e9190db3b801\" style=\"stroke-miterlimit: 2; opacity: 1;\"><g class=\"fills\"/><g class=\"errorbars\"/><g class=\"lines\"/><g class=\"points\"><path class=\"point\" transform=\"translate(86.09,113.15)\" d=\"M-4.62,-2H4.62L0,4Z\" style=\"opacity: 1; stroke-width: 1px; fill: rgb(234, 67, 53); fill-opacity: 1; stroke: rgb(181, 31, 18); stroke-opacity: 1;\"/><path class=\"point\" transform=\"translate(120.53,94.19)\" d=\"M-4.62,-2H4.62L0,4Z\" style=\"opacity: 1; stroke-width: 1px; fill: rgb(234, 67, 53); fill-opacity: 1; stroke: rgb(181, 31, 18); stroke-opacity: 1;\"/><path class=\"point\" transform=\"translate(176.29,77.85)\" d=\"M-4.62,-2H4.62L0,4Z\" style=\"opacity: 1; stroke-width: 1px; fill: rgb(234, 67, 53); fill-opacity: 1; stroke: rgb(181, 31, 18); stroke-opacity: 1;\"/><path class=\"point\" transform=\"translate(212.36,106.92)\" d=\"M-4.62,-2H4.62L0,4Z\" style=\"opacity: 1; stroke-width: 1px; fill: rgb(234, 67, 53); fill-opacity: 1; stroke: rgb(181, 31, 18); stroke-opacity: 1;\"/><path class=\"point\" transform=\"translate(276.32,205.59)\" d=\"M-4.62,-2H4.62L0,4Z\" style=\"opacity: 1; stroke-width: 1px; fill: rgb(234, 67, 53); fill-opacity: 1; stroke: rgb(181, 31, 18); stroke-opacity: 1;\"/><path class=\"point\" transform=\"translate(318.95,239.32)\" d=\"M-4.62,-2H4.62L0,4Z\" style=\"opacity: 1; stroke-width: 1px; fill: rgb(234, 67, 53); fill-opacity: 1; stroke: rgb(181, 31, 18); stroke-opacity: 1;\"/><path class=\"point\" transform=\"translate(351.75,198.7)\" d=\"M-4.62,-2H4.62L0,4Z\" style=\"opacity: 1; stroke-width: 1px; fill: rgb(234, 67, 53); fill-opacity: 1; stroke: rgb(181, 31, 18); stroke-opacity: 1;\"/><path class=\"point\" transform=\"translate(482.94,66.19)\" d=\"M-4.62,-2H4.62L0,4Z\" style=\"opacity: 1; stroke-width: 1px; fill: rgb(234, 67, 53); fill-opacity: 1; stroke: rgb(181, 31, 18); stroke-opacity: 1;\"/><path class=\"point\" transform=\"translate(523.94,55.33)\" d=\"M-4.62,-2H4.62L0,4Z\" style=\"opacity: 1; stroke-width: 1px; fill: rgb(234, 67, 53); fill-opacity: 1; stroke: rgb(181, 31, 18); stroke-opacity: 1;\"/><path class=\"point\" transform=\"translate(594.45,147.17)\" d=\"M-4.62,-2H4.62L0,4Z\" style=\"opacity: 1; stroke-width: 1px; fill: rgb(234, 67, 53); fill-opacity: 1; stroke: rgb(181, 31, 18); stroke-opacity: 1;\"/></g><g class=\"text\"/></g></g></g><g class=\"overplot\"/><path class=\"xlines-above crisp\" d=\"M0,0\" style=\"fill: none;\"/><path class=\"ylines-above crisp\" d=\"M0,0\" style=\"fill: none;\"/><g class=\"overlines-above\"/><g class=\"xaxislayer-above\"><g class=\"xtick\"><text text-anchor=\"middle\" x=\"0\" y=\"333\" transform=\"translate(39.82,0)\" style=\"font-family: 'Open Sans', verdana, arial, sans-serif; font-size: 12px; fill: rgb(214, 223, 239); fill-opacity: 1; white-space: pre; opacity: 1;\">Jan 2021</text></g><g class=\"xtick\"><text text-anchor=\"middle\" x=\"0\" y=\"333\" style=\"font-family: 'Open Sans', verdana, arial, sans-serif; font-size: 12px; fill: rgb(214, 223, 239); fill-opacity: 1; white-space: pre; opacity: 1;\" transform=\"translate(136.57,0)\">Mar 2021</text></g><g class=\"xtick\"><text text-anchor=\"middle\" x=\"0\" y=\"333\" style=\"font-family: 'Open Sans', verdana, arial, sans-serif; font-size: 12px; fill: rgb(214, 223, 239); fill-opacity: 1; white-space: pre; opacity: 1;\" transform=\"translate(236.6,0)\">May 2021</text></g><g class=\"xtick\"><text text-anchor=\"middle\" x=\"0\" y=\"333\" style=\"font-family: 'Open Sans', verdana, arial, sans-serif; font-size: 12px; fill: rgb(214, 223, 239); fill-opacity: 1; white-space: pre; opacity: 1;\" transform=\"translate(336.63,0)\">Jul 2021</text></g><g class=\"xtick\"><text text-anchor=\"middle\" x=\"0\" y=\"333\" style=\"font-family: 'Open Sans', verdana, arial, sans-serif; font-size: 12px; fill: rgb(214, 223, 239); fill-opacity: 1; white-space: pre; opacity: 1;\" transform=\"translate(438.31,0)\">Sep 2021</text></g><g class=\"xtick\"><text text-anchor=\"middle\" x=\"0\" y=\"333\" style=\"font-family: 'Open Sans', verdana, arial, sans-serif; font-size: 12px; fill: rgb(214, 223, 239); fill-opacity: 1; white-space: pre; opacity: 1;\" transform=\"translate(538.3399999999999,0)\">Nov 2021</text></g><g class=\"xtick\"><text text-anchor=\"middle\" x=\"0\" y=\"333\" style=\"font-family: 'Open Sans', verdana, arial, sans-serif; font-size: 12px; fill: rgb(214, 223, 239); fill-opacity: 1; white-space: pre; opacity: 1;\" transform=\"translate(638.37,0)\">Jan 2022</text></g></g><g class=\"yaxislayer-above\"><g class=\"ytick\"><text text-anchor=\"end\" x=\"38\" y=\"4.199999999999999\" transform=\"translate(0,295.02)\" style=\"font-family: 'Open Sans', verdana, arial, sans-serif; font-size: 12px; fill: rgb(214, 223, 239); fill-opacity: 1; white-space: pre; opacity: 1;\">30k</text></g><g class=\"ytick\"><text text-anchor=\"end\" x=\"38\" y=\"4.199999999999999\" style=\"font-family: 'Open Sans', verdana, arial, sans-serif; font-size: 12px; fill: rgb(214, 223, 239); fill-opacity: 1; white-space: pre; opacity: 1;\" transform=\"translate(0,234.68)\">40k</text></g><g class=\"ytick\"><text text-anchor=\"end\" x=\"38\" y=\"4.199999999999999\" style=\"font-family: 'Open Sans', verdana, arial, sans-serif; font-size: 12px; fill: rgb(214, 223, 239); fill-opacity: 1; white-space: pre; opacity: 1;\" transform=\"translate(0,174.34)\">50k</text></g><g class=\"ytick\"><text text-anchor=\"end\" x=\"38\" y=\"4.199999999999999\" style=\"font-family: 'Open Sans', verdana, arial, sans-serif; font-size: 12px; fill: rgb(214, 223, 239); fill-opacity: 1; white-space: pre; opacity: 1;\" transform=\"translate(0,114)\">60k</text></g><g class=\"ytick\"><text text-anchor=\"end\" x=\"38\" y=\"4.199999999999999\" style=\"font-family: 'Open Sans', verdana, arial, sans-serif; font-size: 12px; fill: rgb(214, 223, 239); fill-opacity: 1; white-space: pre; opacity: 1;\" transform=\"translate(0,53.67)\">70k</text></g></g><g class=\"overaxes-above\"/></g></g><g class=\"polarlayer\"/><g class=\"smithlayer\"/><g class=\"ternarylayer\"/><g class=\"geolayer\"/><g class=\"funnelarealayer\"/><g class=\"pielayer\"/><g class=\"iciclelayer\"/><g class=\"treemaplayer\"/><g class=\"sunburstlayer\"/><g class=\"glimages\"/><defs id=\"topdefs-0239dc\"><g class=\"clips\"/><clipPath id=\"legend0239dc\"><rect width=\"270\" height=\"29\" x=\"0\" y=\"0\"/></clipPath></defs><g class=\"layer-above\"><g class=\"imagelayer\"/><g class=\"shapelayer\"/></g><g class=\"infolayer\"><g class=\"legend\" pointer-events=\"all\" transform=\"translate(400,11.519999999999996)\"><rect class=\"bg\" shape-rendering=\"crispEdges\" style=\"stroke: rgb(68, 68, 68); stroke-opacity: 1; fill: rgb(33, 34, 44); fill-opacity: 1; stroke-width: 0px;\" width=\"270\" height=\"29\" x=\"0\" y=\"0\"/><g class=\"scrollbox\" transform=\"\" clip-path=\"url(#legend0239dc)\"><g class=\"groups\"><g class=\"traces\" transform=\"translate(0,14.5)\" style=\"opacity: 1;\"><text class=\"legendtext\" text-anchor=\"start\" x=\"40\" y=\"4.680000000000001\" style=\"font-family: 'Open Sans', verdana, arial, sans-serif; font-size: 12px; fill: rgb(214, 223, 239); fill-opacity: 1; white-space: pre;\">OHLC</text><g class=\"layers\" style=\"opacity: 0.5;\"><g class=\"legendfill\"/><g class=\"legendlines\"/><g class=\"legendsymbols\"><g class=\"legendpoints\"><path class=\"legendohlc\" d=\"M15,0H0M8,6V0\" transform=\"translate(20,0)\" style=\"stroke-miterlimit: 1; fill: none; stroke-width: 2px; stroke: rgb(217, 95, 2); stroke-opacity: 1;\"/><path class=\"legendohlc\" d=\"M-15,0H0M-8,-6V0\" transform=\"translate(20,0)\" style=\"stroke-miterlimit: 1; fill: none; stroke-width: 2px; stroke: rgb(27, 158, 118); stroke-opacity: 1;\"/></g></g></g><rect class=\"legendtoggle\" x=\"0\" y=\"-9.5\" width=\"76.03125\" height=\"19\" style=\"fill: rgb(0, 0, 0); fill-opacity: 0;\"/></g><g class=\"traces\" transform=\"translate(78.53125,14.5)\" style=\"opacity: 1;\"><text class=\"legendtext\" text-anchor=\"start\" x=\"40\" y=\"4.680000000000001\" style=\"font-family: 'Open Sans', verdana, arial, sans-serif; font-size: 12px; fill: rgb(214, 223, 239); fill-opacity: 1; white-space: pre;\">New Entries</text><g class=\"layers\" style=\"opacity: 1;\"><g class=\"legendfill\"/><g class=\"legendlines\"/><g class=\"legendsymbols\"><g class=\"legendpoints\"><path class=\"scatterpts\" transform=\"translate(20,0)\" d=\"M-4.62,2H4.62L0,-4Z\" style=\"opacity: 1; stroke-width: 1px; fill: rgb(55, 177, 63); fill-opacity: 1; stroke: rgb(38, 123, 44); stroke-opacity: 1;\"/></g></g></g><rect class=\"legendtoggle\" x=\"0\" y=\"-9.5\" width=\"114.390625\" height=\"19\" style=\"fill: rgb(0, 0, 0); fill-opacity: 0;\"/></g><g class=\"traces\" transform=\"translate(195.421875,14.5)\" style=\"opacity: 1;\"><text class=\"legendtext\" text-anchor=\"start\" x=\"40\" y=\"4.680000000000001\" style=\"font-family: 'Open Sans', verdana, arial, sans-serif; font-size: 12px; fill: rgb(214, 223, 239); fill-opacity: 1; white-space: pre;\">Exits</text><g class=\"layers\" style=\"opacity: 1;\"><g class=\"legendfill\"/><g class=\"legendlines\"/><g class=\"legendsymbols\"><g class=\"legendpoints\"><path class=\"scatterpts\" transform=\"translate(20,0)\" d=\"M-4.62,-2H4.62L0,4Z\" style=\"opacity: 1; stroke-width: 1px; fill: rgb(234, 67, 53); fill-opacity: 1; stroke: rgb(181, 31, 18); stroke-opacity: 1;\"/></g></g></g><rect class=\"legendtoggle\" x=\"0\" y=\"-9.5\" width=\"71.46875\" height=\"19\" style=\"fill: rgb(0, 0, 0); fill-opacity: 0;\"/></g></g></g><rect class=\"scrollbar\" rx=\"20\" ry=\"3\" width=\"0\" height=\"0\" style=\"fill: rgb(128, 139, 164); fill-opacity: 1;\" x=\"0\" y=\"0\"/></g><g class=\"g-gtitle\"/><g class=\"g-xtitle\"/><g class=\"g-ytitle\"/></g></svg>"
      ]
     },
     "metadata": {},
     "output_type": "display_data"
    }
   ],
   "source": [
    "stcx = vbt.STCX.run(\n",
    "    entries,\n",
    "    data.get(\"Open\"),\n",
    "    ts=data.get(\"Low\"),\n",
    "    follow_ts=data.get(\"High\"),\n",
    "    stop=-0.1,\n",
    "    trailing=[False, True],\n",
    "    wait=0\n",
    ")\n",
    "fig = data.plot(\n",
    "    symbol=\"BTCUSDT\", \n",
    "    ohlc_trace_kwargs=dict(opacity=0.5), \n",
    "    plot_volume=False\n",
    ")\n",
    "stcx.plot(\n",
    "    column=(-0.1, True, \"BTCUSDT\"), \n",
    "    entry_y=\"entry_ts\",\n",
    "    exit_y=\"stop_ts\", \n",
    "    fig=fig\n",
    ").show_svg()"
   ]
  },
  {
   "cell_type": "code",
   "execution_count": 106,
   "id": "ef68d113-7f90-4b68-810b-d31f6f13e1ea",
   "metadata": {},
   "outputs": [
    {
     "data": {
      "image/svg+xml": [
       "<svg class=\"main-svg\" xmlns=\"http://www.w3.org/2000/svg\" xmlns:xlink=\"http://www.w3.org/1999/xlink\" width=\"700\" height=\"350\" style=\"\" viewBox=\"0 0 700 350\"><rect x=\"0\" y=\"0\" width=\"700\" height=\"350\" style=\"fill: rgb(33, 34, 44); fill-opacity: 1;\"/><defs id=\"defs-aa9e2d\"><g class=\"clips\"><clipPath id=\"clipaa9e2dxyplot\" class=\"plotclip\"><rect width=\"631\" height=\"274\"/></clipPath><clipPath class=\"axesclip\" id=\"clipaa9e2dx\"><rect x=\"39\" y=\"0\" width=\"631\" height=\"350\"/></clipPath><clipPath class=\"axesclip\" id=\"clipaa9e2dy\"><rect x=\"0\" y=\"46\" width=\"700\" height=\"274\"/></clipPath><clipPath class=\"axesclip\" id=\"clipaa9e2dxy\"><rect x=\"39\" y=\"46\" width=\"631\" height=\"274\"/></clipPath></g><g class=\"gradients\"/><g class=\"patterns\"/></defs><g class=\"bglayer\"/><g class=\"layer-below\"><g class=\"imagelayer\"/><g class=\"shapelayer\"/></g><g class=\"cartesianlayer\"><g class=\"subplot xy\"><g class=\"layer-subplot\"><g class=\"shapelayer\"/><g class=\"imagelayer\"/></g><g class=\"gridlayer\"><g class=\"x\"><path class=\"xgrid crisp\" transform=\"translate(136.04000000000002,0)\" d=\"M0,46v274\" style=\"stroke: rgb(47, 62, 78); stroke-opacity: 1; stroke-width: 1px;\"/><path class=\"xgrid crisp\" transform=\"translate(235.52,0)\" d=\"M0,46v274\" style=\"stroke: rgb(47, 62, 78); stroke-opacity: 1; stroke-width: 1px;\"/><path class=\"xgrid crisp\" transform=\"translate(335,0)\" d=\"M0,46v274\" style=\"stroke: rgb(47, 62, 78); stroke-opacity: 1; stroke-width: 1px;\"/><path class=\"xgrid crisp\" transform=\"translate(436.12,0)\" d=\"M0,46v274\" style=\"stroke: rgb(47, 62, 78); stroke-opacity: 1; stroke-width: 1px;\"/><path class=\"xgrid crisp\" transform=\"translate(535.6,0)\" d=\"M0,46v274\" style=\"stroke: rgb(47, 62, 78); stroke-opacity: 1; stroke-width: 1px;\"/><path class=\"xgrid crisp\" transform=\"translate(635.08,0)\" d=\"M0,46v274\" style=\"stroke: rgb(47, 62, 78); stroke-opacity: 1; stroke-width: 1px;\"/></g><g class=\"y\"><path class=\"ygrid crisp\" transform=\"translate(0,295.02)\" d=\"M39,0h631\" style=\"stroke: rgb(47, 62, 78); stroke-opacity: 1; stroke-width: 1px;\"/><path class=\"ygrid crisp\" transform=\"translate(0,234.68)\" d=\"M39,0h631\" style=\"stroke: rgb(47, 62, 78); stroke-opacity: 1; stroke-width: 1px;\"/><path class=\"ygrid crisp\" transform=\"translate(0,174.34)\" d=\"M39,0h631\" style=\"stroke: rgb(47, 62, 78); stroke-opacity: 1; stroke-width: 1px;\"/><path class=\"ygrid crisp\" transform=\"translate(0,114)\" d=\"M39,0h631\" style=\"stroke: rgb(47, 62, 78); stroke-opacity: 1; stroke-width: 1px;\"/><path class=\"ygrid crisp\" transform=\"translate(0,53.67)\" d=\"M39,0h631\" style=\"stroke: rgb(47, 62, 78); stroke-opacity: 1; stroke-width: 1px;\"/></g></g><g class=\"zerolinelayer\"/><path class=\"xlines-below\"/><path class=\"ylines-below\"/><g class=\"overlines-below\"/><g class=\"xaxislayer-below\"/><g class=\"yaxislayer-below\"/><g class=\"overaxes-below\"/><g class=\"plot\" transform=\"translate(39,46)\" clip-path=\"url(#clipaa9e2dxyplot)\"><g class=\"ohlclayer mlayer\"><g class=\"trace ohlc\" style=\"opacity: 0.5;\"><path d=\"M0.33,255.51H0.82M0.82,251.43V257.32M1.3,253.05H0.82\" style=\"fill: none; stroke: rgb(27, 158, 118); stroke-opacity: 1; stroke-width: 2px; opacity: 1;\"/><path d=\"M1.96,253.05H2.45M2.45,229.11V255.37M2.94,235.87H2.45\" style=\"fill: none; stroke: rgb(27, 158, 118); stroke-opacity: 1; stroke-width: 2px; opacity: 1;\"/><path d=\"M3.59,235.88H4.08M4.08,220.19V237.17M4.57,230.92H4.08\" style=\"fill: none; stroke: rgb(27, 158, 118); stroke-opacity: 1; stroke-width: 2px; opacity: 1;\"/><path d=\"M5.22,230.92H5.71M5.71,227.3V260.3M6.2,237.02H5.71\" style=\"fill: none; stroke: rgb(217, 95, 2); stroke-opacity: 1; stroke-width: 2px; opacity: 1;\"/><path d=\"M6.85,237.01H7.34M7.34,222.71V249.62M7.83,225.19H7.34\" style=\"fill: none; stroke: rgb(27, 158, 118); stroke-opacity: 1; stroke-width: 2px; opacity: 1;\"/><path d=\"M8.48,225.19H8.97M8.97,207.15V229.18M9.46,208.17H8.97\" style=\"fill: none; stroke: rgb(27, 158, 118); stroke-opacity: 1; stroke-width: 2px; opacity: 1;\"/><path d=\"M10.11,208.17H10.6M10.6,186.48V211M11.09,192.1H10.6\" style=\"fill: none; stroke: rgb(27, 158, 118); stroke-opacity: 1; stroke-width: 2px; opacity: 1;\"/><path d=\"M11.74,192.1H12.23M12.23,176.91V209.8M12.72,185.16H12.23\" style=\"fill: none; stroke: rgb(27, 158, 118); stroke-opacity: 1; stroke-width: 2px; opacity: 1;\"/><path d=\"M13.37,185.14H13.86M13.86,180.35V196.4M14.35,188.15H13.86\" style=\"fill: none; stroke: rgb(217, 95, 2); stroke-opacity: 1; stroke-width: 2px; opacity: 1;\"/><path d=\"M15,188.15H15.49M15.49,180.53V218.18M15.98,199.84H15.49\" style=\"fill: none; stroke: rgb(217, 95, 2); stroke-opacity: 1; stroke-width: 2px; opacity: 1;\"/><path d=\"M16.63,199.84H17.12M17.12,199.15V246.48M17.61,216.41H17.12\" style=\"fill: none; stroke: rgb(217, 95, 2); stroke-opacity: 1; stroke-width: 2px; opacity: 1;\"/><path d=\"M18.27,216.37H18.75M18.75,209.03V233.75M19.24,224.57H18.75\" style=\"fill: none; stroke: rgb(217, 95, 2); stroke-opacity: 1; stroke-width: 2px; opacity: 1;\"/><path d=\"M19.9,224.59H20.39M20.39,201.65V234.66M20.88,204.54H20.39\" style=\"fill: none; stroke: rgb(27, 158, 118); stroke-opacity: 1; stroke-width: 2px; opacity: 1;\"/><path d=\"M21.53,204.54H22.02M22.02,188.08V208.58M22.51,193.84H22.02\" style=\"fill: none; stroke: rgb(27, 158, 118); stroke-opacity: 1; stroke-width: 2px; opacity: 1;\"/><path d=\"M23.16,193.84H23.65M23.65,190.2V222.42M24.14,208.34H23.65\" style=\"fill: none; stroke: rgb(217, 95, 2); stroke-opacity: 1; stroke-width: 2px; opacity: 1;\"/><path d=\"M24.79,208.36H25.28M25.28,201.05V216.69M25.77,212.84H25.28\" style=\"fill: none; stroke: rgb(217, 95, 2); stroke-opacity: 1; stroke-width: 2px; opacity: 1;\"/><path d=\"M26.42,212.84H26.91M26.91,207.67V225.79M27.4,213.85H26.91\" style=\"fill: none; stroke: rgb(217, 95, 2); stroke-opacity: 1; stroke-width: 2px; opacity: 1;\"/><path d=\"M28.05,213.87H28.54M28.54,203.95V220.05M29.03,209.01H28.54\" style=\"fill: none; stroke: rgb(27, 158, 118); stroke-opacity: 1; stroke-width: 2px; opacity: 1;\"/><path d=\"M29.68,209.06H30.17M30.17,201.65V213.76M30.66,213.47H30.17\" style=\"fill: none; stroke: rgb(217, 95, 2); stroke-opacity: 1; stroke-width: 2px; opacity: 1;\"/><path d=\"M31.31,213.41H31.8M31.8,210.31V228.5M32.29,216.02H31.8\" style=\"fill: none; stroke: rgb(217, 95, 2); stroke-opacity: 1; stroke-width: 2px; opacity: 1;\"/><path d=\"M32.94,216.02H33.43M33.43,215.23V248.59M33.92,243.89H33.43\" style=\"fill: none; stroke: rgb(217, 95, 2); stroke-opacity: 1; stroke-width: 2px; opacity: 1;\"/><path d=\"M34.57,243.88H35.06M35.06,225.93V255.96M35.55,231.25H35.06\" style=\"fill: none; stroke: rgb(27, 158, 118); stroke-opacity: 1; stroke-width: 2px; opacity: 1;\"/><path d=\"M36.21,231.22H36.69M36.69,228.16V240.63M37.18,236.48H36.69\" style=\"fill: none; stroke: rgb(217, 95, 2); stroke-opacity: 1; stroke-width: 2px; opacity: 1;\"/><path d=\"M37.84,236.48H38.33M38.33,230.49V243.59M38.81,235.38H38.33\" style=\"fill: none; stroke: rgb(27, 158, 118); stroke-opacity: 1; stroke-width: 2px; opacity: 1;\"/><path d=\"M39.47,235.38H39.96M39.96,219.6V237.49M40.45,235.42H39.96\" style=\"fill: none; stroke: rgb(217, 95, 2); stroke-opacity: 1; stroke-width: 2px; opacity: 1;\"/><path d=\"M41.1,235.42H41.59M41.59,231.39V243.96M42.08,234.13H41.59\" style=\"fill: none; stroke: rgb(27, 158, 118); stroke-opacity: 1; stroke-width: 2px; opacity: 1;\"/><path d=\"M42.73,234.15H43.22M43.22,233.59V253.59M43.71,246.81H43.22\" style=\"fill: none; stroke: rgb(217, 95, 2); stroke-opacity: 1; stroke-width: 2px; opacity: 1;\"/><path d=\"M44.36,246.83H44.85M44.85,226.19V249.97M45.34,228.71H44.85\" style=\"fill: none; stroke: rgb(27, 158, 118); stroke-opacity: 1; stroke-width: 2px; opacity: 1;\"/><path d=\"M45.99,228.69H46.48M46.48,197.54V237.46M46.97,223.36H46.48\" style=\"fill: none; stroke: rgb(27, 158, 118); stroke-opacity: 1; stroke-width: 2px; opacity: 1;\"/><path d=\"M47.62,223.4H48.11M48.11,219.25V231.97M48.6,223.3H48.11\" style=\"fill: none; stroke: rgb(27, 158, 118); stroke-opacity: 1; stroke-width: 2px; opacity: 1;\"/><path d=\"M49.25,223.3H49.74M49.74,222.81V235.91M50.23,230.35H49.74\" style=\"fill: none; stroke: rgb(217, 95, 2); stroke-opacity: 1; stroke-width: 2px; opacity: 1;\"/><path d=\"M50.88,230.35H51.37M51.37,220.55V235.16M51.86,227.74H51.37\" style=\"fill: none; stroke: rgb(27, 158, 118); stroke-opacity: 1; stroke-width: 2px; opacity: 1;\"/><path d=\"M52.51,227.8H53M53,212.91V228.39M53.49,216.03H53\" style=\"fill: none; stroke: rgb(27, 158, 118); stroke-opacity: 1; stroke-width: 2px; opacity: 1;\"/><path d=\"M54.14,216H54.63M54.63,202.78V216.66M55.12,203.05H54.63\" style=\"fill: none; stroke: rgb(27, 158, 118); stroke-opacity: 1; stroke-width: 2px; opacity: 1;\"/><path d=\"M55.78,203.04H56.26M56.26,196.47V211.84M56.75,207.16H56.26\" style=\"fill: none; stroke: rgb(217, 95, 2); stroke-opacity: 1; stroke-width: 2px; opacity: 1;\"/><path d=\"M57.41,207.16H57.9M57.9,198.88V209.38M58.38,199H57.9\" style=\"fill: none; stroke: rgb(27, 158, 118); stroke-opacity: 1; stroke-width: 2px; opacity: 1;\"/><path d=\"M59.04,199H59.53M59.53,182.91V199.44M60.02,193.59H59.53\" style=\"fill: none; stroke: rgb(27, 158, 118); stroke-opacity: 1; stroke-width: 2px; opacity: 1;\"/><path d=\"M60.67,193.62H61.16M61.16,190.49V204.66M61.65,195.95H61.16\" style=\"fill: none; stroke: rgb(217, 95, 2); stroke-opacity: 1; stroke-width: 2px; opacity: 1;\"/><path d=\"M62.3,195.95H62.79M62.79,147.68V200.81M63.28,150.21H62.79\" style=\"fill: none; stroke: rgb(27, 158, 118); stroke-opacity: 1; stroke-width: 2px; opacity: 1;\"/><path d=\"M63.93,150.21H64.42M64.42,139.55V158.75M64.91,149.94H64.42\" style=\"fill: none; stroke: rgb(27, 158, 118); stroke-opacity: 1; stroke-width: 2px; opacity: 1;\"/><path d=\"M65.56,149.94H66.05M66.05,144.57V166.19M66.54,159.67H66.05\" style=\"fill: none; stroke: rgb(217, 95, 2); stroke-opacity: 1; stroke-width: 2px; opacity: 1;\"/><path d=\"M67.19,159.67H67.68M67.68,136.31V164.58M68.17,140.59H67.68\" style=\"fill: none; stroke: rgb(27, 158, 118); stroke-opacity: 1; stroke-width: 2px; opacity: 1;\"/><path d=\"M68.82,140.6H69.31M69.31,134.46V151.72M69.8,144.71H69.31\" style=\"fill: none; stroke: rgb(217, 95, 2); stroke-opacity: 1; stroke-width: 2px; opacity: 1;\"/><path d=\"M70.45,144.64H70.94M70.94,139.5V151.25M71.43,145.52H70.94\" style=\"fill: none; stroke: rgb(217, 95, 2); stroke-opacity: 1; stroke-width: 2px; opacity: 1;\"/><path d=\"M72.08,145.5H72.57M72.57,130.11V146.36M73.06,136.92H72.57\" style=\"fill: none; stroke: rgb(27, 158, 118); stroke-opacity: 1; stroke-width: 2px; opacity: 1;\"/><path d=\"M73.72,136.91H74.2M74.2,134.31V155.07M74.69,140.95H74.2\" style=\"fill: none; stroke: rgb(217, 95, 2); stroke-opacity: 1; stroke-width: 2px; opacity: 1;\"/><path d=\"M75.35,140.95H75.84M75.84,124.18V146.42M76.32,133.57H75.84\" style=\"fill: none; stroke: rgb(27, 158, 118); stroke-opacity: 1; stroke-width: 2px; opacity: 1;\"/><path d=\"M76.98,133.57H77.47M77.47,112.54V134.7M77.96,115.55H77.47\" style=\"fill: none; stroke: rgb(27, 158, 118); stroke-opacity: 1; stroke-width: 2px; opacity: 1;\"/><path d=\"M78.61,115.56H79.1M79.1,113.08V122.9M79.59,118.97H79.1\" style=\"fill: none; stroke: rgb(217, 95, 2); stroke-opacity: 1; stroke-width: 2px; opacity: 1;\"/><path d=\"M80.24,118.97H80.73M80.73,89.92V124.06M81.22,92.71H80.73\" style=\"fill: none; stroke: rgb(27, 158, 118); stroke-opacity: 1; stroke-width: 2px; opacity: 1;\"/><path d=\"M81.87,92.71H82.36M82.36,81.88V105.03M82.85,93.1H82.36\" style=\"fill: none; stroke: rgb(217, 95, 2); stroke-opacity: 1; stroke-width: 2px; opacity: 1;\"/><path d=\"M83.5,93.1H83.99M83.99,77.94V95.29M84.48,83.64H83.99\" style=\"fill: none; stroke: rgb(27, 158, 118); stroke-opacity: 1; stroke-width: 2px; opacity: 1;\"/><path d=\"M85.13,83.62H85.62M85.62,83.04V142.69M86.11,103.68H85.62\" style=\"fill: none; stroke: rgb(217, 95, 2); stroke-opacity: 1; stroke-width: 2px; opacity: 1;\"/><path d=\"M86.76,103.68H87.25M87.25,103.1V159.16M87.74,135.03H87.25\" style=\"fill: none; stroke: rgb(217, 95, 2); stroke-opacity: 1; stroke-width: 2px; opacity: 1;\"/><path d=\"M88.39,135.03H88.88M88.88,120.05V146.51M89.37,130.3H88.88\" style=\"fill: none; stroke: rgb(27, 158, 118); stroke-opacity: 1; stroke-width: 2px; opacity: 1;\"/><path d=\"M90.02,130.3H90.51M90.51,116.02V148.41M91,146H90.51\" style=\"fill: none; stroke: rgb(217, 95, 2); stroke-opacity: 1; stroke-width: 2px; opacity: 1;\"/><path d=\"M91.65,146H92.14M92.14,137.85V163.9M92.63,150.81H92.14\" style=\"fill: none; stroke: rgb(217, 95, 2); stroke-opacity: 1; stroke-width: 2px; opacity: 1;\"/><path d=\"M93.29,150.81H93.77M93.77,138.03V158.51M94.26,151.83H93.77\" style=\"fill: none; stroke: rgb(217, 95, 2); stroke-opacity: 1; stroke-width: 2px; opacity: 1;\"/><path d=\"M94.92,151.85H95.41M95.41,148.62V170.58M95.89,157.69H95.41\" style=\"fill: none; stroke: rgb(217, 95, 2); stroke-opacity: 1; stroke-width: 2px; opacity: 1;\"/><path d=\"M96.55,157.7H97.04M97.04,129.61V158.81M97.53,130.83H97.04\" style=\"fill: none; stroke: rgb(27, 158, 118); stroke-opacity: 1; stroke-width: 2px; opacity: 1;\"/><path d=\"M98.18,130.78H98.67M98.67,127.13V146.16M99.16,137.75H98.67\" style=\"fill: none; stroke: rgb(217, 95, 2); stroke-opacity: 1; stroke-width: 2px; opacity: 1;\"/><path d=\"M99.81,137.77H100.3M100.3,112.41V139.8M100.79,126.23H100.3\" style=\"fill: none; stroke: rgb(27, 158, 118); stroke-opacity: 1; stroke-width: 2px; opacity: 1;\"/><path d=\"M101.44,126.23H101.93M101.93,117.64V143.43M102.42,138.15H101.93\" style=\"fill: none; stroke: rgb(217, 95, 2); stroke-opacity: 1; stroke-width: 2px; opacity: 1;\"/><path d=\"M103.07,138.15H103.56M103.56,131.67V150.67M104.05,135.87H103.56\" style=\"fill: none; stroke: rgb(27, 158, 118); stroke-opacity: 1; stroke-width: 2px; opacity: 1;\"/><path d=\"M104.7,135.9H105.19M105.19,133.17V146.02M105.68,135.09H105.19\" style=\"fill: none; stroke: rgb(27, 158, 118); stroke-opacity: 1; stroke-width: 2px; opacity: 1;\"/><path d=\"M106.33,135.09H106.82M106.82,119.59V135.09M107.31,122.48H106.82\" style=\"fill: none; stroke: rgb(27, 158, 118); stroke-opacity: 1; stroke-width: 2px; opacity: 1;\"/><path d=\"M107.96,122.55H108.45M108.45,113.84V132.72M108.94,114.01H108.45\" style=\"fill: none; stroke: rgb(27, 158, 118); stroke-opacity: 1; stroke-width: 2px; opacity: 1;\"/><path d=\"M109.59,114.01H110.08M110.08,98.81V117.54M110.57,98.87H110.08\" style=\"fill: none; stroke: rgb(27, 158, 118); stroke-opacity: 1; stroke-width: 2px; opacity: 1;\"/><path d=\"M111.22,98.93H111.71M111.71,83.77V110.21M112.2,93.03H111.71\" style=\"fill: none; stroke: rgb(27, 158, 118); stroke-opacity: 1; stroke-width: 2px; opacity: 1;\"/><path d=\"M112.86,93.03H113.35M113.35,79.17V102.56M113.83,81.44H113.35\" style=\"fill: none; stroke: rgb(27, 158, 118); stroke-opacity: 1; stroke-width: 2px; opacity: 1;\"/><path d=\"M114.49,81.44H114.98M114.98,79.58V98.4M115.47,84.77H114.98\" style=\"fill: none; stroke: rgb(217, 95, 2); stroke-opacity: 1; stroke-width: 2px; opacity: 1;\"/><path d=\"M116.12,84.77H116.61M116.61,56.88V91.67M117.1,60.83H116.61\" style=\"fill: none; stroke: rgb(27, 158, 118); stroke-opacity: 1; stroke-width: 2px; opacity: 1;\"/><path d=\"M117.75,60.83H118.24M118.24,57.6V74.24M118.73,74.23H118.24\" style=\"fill: none; stroke: rgb(217, 95, 2); stroke-opacity: 1; stroke-width: 2px; opacity: 1;\"/><path d=\"M119.38,74.18H119.87M119.87,64.18V100.59M120.36,94.52H119.87\" style=\"fill: none; stroke: rgb(217, 95, 2); stroke-opacity: 1; stroke-width: 2px; opacity: 1;\"/><path d=\"M121.01,94.52H121.5M121.5,86.48V108.6M121.99,86.7H121.5\" style=\"fill: none; stroke: rgb(27, 158, 118); stroke-opacity: 1; stroke-width: 2px; opacity: 1;\"/><path d=\"M122.64,86.7H123.13M123.13,74.19V103.46M123.62,74.56H123.13\" style=\"fill: none; stroke: rgb(27, 158, 118); stroke-opacity: 1; stroke-width: 2px; opacity: 1;\"/><path d=\"M124.27,74.56H124.76M124.76,67.22V85.97M125.25,82.19H124.76\" style=\"fill: none; stroke: rgb(217, 95, 2); stroke-opacity: 1; stroke-width: 2px; opacity: 1;\"/><path d=\"M125.9,82.24H126.39M126.39,71.21V90.51M126.88,79.89H126.39\" style=\"fill: none; stroke: rgb(27, 158, 118); stroke-opacity: 1; stroke-width: 2px; opacity: 1;\"/><path d=\"M127.53,79.89H128.02M128.02,68.73V81.16M128.51,79.45H128.02\" style=\"fill: none; stroke: rgb(27, 158, 118); stroke-opacity: 1; stroke-width: 2px; opacity: 1;\"/><path d=\"M129.16,79.47H129.65M129.65,76.52V95.46M130.14,83.98H129.65\" style=\"fill: none; stroke: rgb(217, 95, 2); stroke-opacity: 1; stroke-width: 2px; opacity: 1;\"/><path d=\"M130.8,83.98H131.28M131.28,77.47V106.32M131.77,103.7H131.28\" style=\"fill: none; stroke: rgb(217, 95, 2); stroke-opacity: 1; stroke-width: 2px; opacity: 1;\"/><path d=\"M132.43,103.7H132.92M132.92,93.16V110.24M133.4,102.15H132.92\" style=\"fill: none; stroke: rgb(27, 158, 118); stroke-opacity: 1; stroke-width: 2px; opacity: 1;\"/><path d=\"M134.06,102.14H134.55M134.55,84.9V118.08M135.04,114.44H134.55\" style=\"fill: none; stroke: rgb(217, 95, 2); stroke-opacity: 1; stroke-width: 2px; opacity: 1;\"/><path d=\"M135.69,114.44H136.18M136.18,108.51V125.76M136.67,120.54H136.18\" style=\"fill: none; stroke: rgb(217, 95, 2); stroke-opacity: 1; stroke-width: 2px; opacity: 1;\"/><path d=\"M137.32,120.54H137.81M137.81,97.73V121.01M138.3,98.02H137.81\" style=\"fill: none; stroke: rgb(27, 158, 118); stroke-opacity: 1; stroke-width: 2px; opacity: 1;\"/><path d=\"M138.95,98.02H139.44M139.44,87.91V104.51M139.93,93.24H139.44\" style=\"fill: none; stroke: rgb(27, 158, 118); stroke-opacity: 1; stroke-width: 2px; opacity: 1;\"/><path d=\"M140.58,93.24H141.07M141.07,88.76V100.03M141.56,93.48H141.07\" style=\"fill: none; stroke: rgb(217, 95, 2); stroke-opacity: 1; stroke-width: 2px; opacity: 1;\"/><path d=\"M142.21,93.48H142.7M142.7,77.62V99.38M143.19,82.27H142.7\" style=\"fill: none; stroke: rgb(27, 158, 118); stroke-opacity: 1; stroke-width: 2px; opacity: 1;\"/><path d=\"M143.84,82.27H144.33M144.33,71.82V85.67M144.82,75.57H144.33\" style=\"fill: none; stroke: rgb(27, 158, 118); stroke-opacity: 1; stroke-width: 2px; opacity: 1;\"/><path d=\"M145.47,75.57H145.96M145.96,69.21V87.5M146.45,75.6H145.96\" style=\"fill: none; stroke: rgb(217, 95, 2); stroke-opacity: 1; stroke-width: 2px; opacity: 1;\"/><path d=\"M147.1,75.61H147.59M147.59,71.08V80.46M148.08,75.72H147.59\" style=\"fill: none; stroke: rgb(217, 95, 2); stroke-opacity: 1; stroke-width: 2px; opacity: 1;\"/><path d=\"M148.73,75.72H149.22M149.22,66.8V77.49M149.71,74.34H149.22\" style=\"fill: none; stroke: rgb(27, 158, 118); stroke-opacity: 1; stroke-width: 2px; opacity: 1;\"/><path d=\"M150.37,74.34H150.85M150.85,69.26V86.83M151.34,85.79H150.85\" style=\"fill: none; stroke: rgb(217, 95, 2); stroke-opacity: 1; stroke-width: 2px; opacity: 1;\"/><path d=\"M152,85.79H152.49M152.49,77.1V89.8M152.98,78.85H152.49\" style=\"fill: none; stroke: rgb(27, 158, 118); stroke-opacity: 1; stroke-width: 2px; opacity: 1;\"/><path d=\"M153.63,78.85H154.12M154.12,72.4V87.45M154.61,73.25H154.12\" style=\"fill: none; stroke: rgb(27, 158, 118); stroke-opacity: 1; stroke-width: 2px; opacity: 1;\"/><path d=\"M155.26,73.25H155.75M155.75,71.05V83.61M156.24,80.12H155.75\" style=\"fill: none; stroke: rgb(217, 95, 2); stroke-opacity: 1; stroke-width: 2px; opacity: 1;\"/><path d=\"M156.89,80.13H157.38M157.38,76.12V95.32M157.87,92.42H157.38\" style=\"fill: none; stroke: rgb(217, 95, 2); stroke-opacity: 1; stroke-width: 2px; opacity: 1;\"/><path d=\"M158.52,92.42H159.01M159.01,79.15V93.95M159.5,79.6H159.01\" style=\"fill: none; stroke: rgb(27, 158, 118); stroke-opacity: 1; stroke-width: 2px; opacity: 1;\"/><path d=\"M160.15,79.6H160.64M160.64,74.67V82.16M161.13,79.21H160.64\" style=\"fill: none; stroke: rgb(27, 158, 118); stroke-opacity: 1; stroke-width: 2px; opacity: 1;\"/><path d=\"M161.78,79.21H162.27M162.27,58.95V80.67M162.76,69.4H162.27\" style=\"fill: none; stroke: rgb(27, 158, 118); stroke-opacity: 1; stroke-width: 2px; opacity: 1;\"/><path d=\"M163.41,69.4H163.9M163.9,63.79V72.63M164.39,67.99H163.9\" style=\"fill: none; stroke: rgb(27, 158, 118); stroke-opacity: 1; stroke-width: 2px; opacity: 1;\"/><path d=\"M165.04,68.01H165.53M165.53,60.16V71.92M166.02,68.85H165.53\" style=\"fill: none; stroke: rgb(217, 95, 2); stroke-opacity: 1; stroke-width: 2px; opacity: 1;\"/><path d=\"M166.67,68.85H167.16M167.16,45.21V69.18M167.65,46.43H167.16\" style=\"fill: none; stroke: rgb(27, 158, 118); stroke-opacity: 1; stroke-width: 2px; opacity: 1;\"/><path d=\"M168.31,46.43H168.79M168.79,38.72V60.15M169.28,50.15H168.79\" style=\"fill: none; stroke: rgb(217, 95, 2); stroke-opacity: 1; stroke-width: 2px; opacity: 1;\"/><path d=\"M169.94,50.15H170.43M170.43,45.08V55.82M170.91,48.94H170.43\" style=\"fill: none; stroke: rgb(27, 158, 118); stroke-opacity: 1; stroke-width: 2px; opacity: 1;\"/><path d=\"M171.57,48.94H172.06M172.06,46.76V68M172.55,59.95H172.06\" style=\"fill: none; stroke: rgb(217, 95, 2); stroke-opacity: 1; stroke-width: 2px; opacity: 1;\"/><path d=\"M173.2,59.95H173.69M173.69,52.88V70.53M174.18,67.96H173.69\" style=\"fill: none; stroke: rgb(217, 95, 2); stroke-opacity: 1; stroke-width: 2px; opacity: 1;\"/><path d=\"M174.83,67.96H175.32M175.32,64.99V122.72M175.81,91.23H175.32\" style=\"fill: none; stroke: rgb(217, 95, 2); stroke-opacity: 1; stroke-width: 2px; opacity: 1;\"/><path d=\"M176.46,91.23H176.95M176.95,82.93V102.87M177.44,94.35H176.95\" style=\"fill: none; stroke: rgb(217, 95, 2); stroke-opacity: 1; stroke-width: 2px; opacity: 1;\"/><path d=\"M178.09,94.35H178.58M178.58,85.65V108.25M179.07,89.57H178.58\" style=\"fill: none; stroke: rgb(27, 158, 118); stroke-opacity: 1; stroke-width: 2px; opacity: 1;\"/><path d=\"M179.72,89.57H180.21M180.21,87.57V107.01M180.7,105.49H180.21\" style=\"fill: none; stroke: rgb(217, 95, 2); stroke-opacity: 1; stroke-width: 2px; opacity: 1;\"/><path d=\"M181.35,105.49H181.84M181.84,95.03V125.32M182.33,118.14H181.84\" style=\"fill: none; stroke: rgb(217, 95, 2); stroke-opacity: 1; stroke-width: 2px; opacity: 1;\"/><path d=\"M182.98,118.14H183.47M183.47,115.48V143.43M183.96,121.55H183.47\" style=\"fill: none; stroke: rgb(217, 95, 2); stroke-opacity: 1; stroke-width: 2px; opacity: 1;\"/><path d=\"M184.61,121.64H185.1M185.1,121.3V136.44M185.59,128.05H185.1\" style=\"fill: none; stroke: rgb(217, 95, 2); stroke-opacity: 1; stroke-width: 2px; opacity: 1;\"/><path d=\"M186.24,128.05H186.73M186.73,124.91V146.87M187.22,133.97H186.73\" style=\"fill: none; stroke: rgb(217, 95, 2); stroke-opacity: 1; stroke-width: 2px; opacity: 1;\"/><path d=\"M187.88,133.97H188.36M188.36,102.05V135.86M188.85,104.2H188.36\" style=\"fill: none; stroke: rgb(27, 158, 118); stroke-opacity: 1; stroke-width: 2px; opacity: 1;\"/><path d=\"M189.51,104.2H190M190,95.4V108.9M190.48,98.1H190\" style=\"fill: none; stroke: rgb(27, 158, 118); stroke-opacity: 1; stroke-width: 2px; opacity: 1;\"/><path d=\"M191.14,98.1H191.63M191.63,89.56V105.33M192.12,99.1H191.63\" style=\"fill: none; stroke: rgb(217, 95, 2); stroke-opacity: 1; stroke-width: 2px; opacity: 1;\"/><path d=\"M192.77,99.1H193.26M193.26,96.99V114.28M193.75,106.89H193.26\" style=\"fill: none; stroke: rgb(217, 95, 2); stroke-opacity: 1; stroke-width: 2px; opacity: 1;\"/><path d=\"M194.4,106.89H194.89M194.89,80.29V110.16M195.38,81.92H194.89\" style=\"fill: none; stroke: rgb(27, 158, 118); stroke-opacity: 1; stroke-width: 2px; opacity: 1;\"/><path d=\"M196.03,81.9H196.52M196.52,77.31V86.37M197.01,81.28H196.52\" style=\"fill: none; stroke: rgb(27, 158, 118); stroke-opacity: 1; stroke-width: 2px; opacity: 1;\"/><path d=\"M197.66,81.29H198.15M198.15,80.61V91.93M198.64,88.65H198.15\" style=\"fill: none; stroke: rgb(217, 95, 2); stroke-opacity: 1; stroke-width: 2px; opacity: 1;\"/><path d=\"M199.29,88.65H199.78M199.78,74.15V89.51M200.27,85.08H199.78\" style=\"fill: none; stroke: rgb(27, 158, 118); stroke-opacity: 1; stroke-width: 2px; opacity: 1;\"/><path d=\"M200.92,85.08H201.41M201.41,84.9V109.96M201.9,109.03H201.41\" style=\"fill: none; stroke: rgb(217, 95, 2); stroke-opacity: 1; stroke-width: 2px; opacity: 1;\"/><path d=\"M202.55,109H203.04M203.04,79.65V110.84M203.53,83.47H203.04\" style=\"fill: none; stroke: rgb(27, 158, 118); stroke-opacity: 1; stroke-width: 2px; opacity: 1;\"/><path d=\"M204.18,83.47H204.67M204.67,77.9V96.97M205.16,89.76H204.67\" style=\"fill: none; stroke: rgb(217, 95, 2); stroke-opacity: 1; stroke-width: 2px; opacity: 1;\"/><path d=\"M205.82,89.76H206.3M206.3,76.15V96.71M206.79,84.21H206.3\" style=\"fill: none; stroke: rgb(27, 158, 118); stroke-opacity: 1; stroke-width: 2px; opacity: 1;\"/><path d=\"M207.45,84.2H207.94M207.94,71.02V86.71M208.42,74.87H207.94\" style=\"fill: none; stroke: rgb(27, 158, 118); stroke-opacity: 1; stroke-width: 2px; opacity: 1;\"/><path d=\"M209.08,74.84H209.57M209.57,72.23V90.72M210.06,78.62H209.57\" style=\"fill: none; stroke: rgb(217, 95, 2); stroke-opacity: 1; stroke-width: 2px; opacity: 1;\"/><path d=\"M210.71,78.62H211.2M211.2,71.02V107.83M211.69,93.25H211.2\" style=\"fill: none; stroke: rgb(217, 95, 2); stroke-opacity: 1; stroke-width: 2px; opacity: 1;\"/><path d=\"M212.34,93.25H212.83M212.83,86.94V101.97M213.32,88.1H212.83\" style=\"fill: none; stroke: rgb(27, 158, 118); stroke-opacity: 1; stroke-width: 2px; opacity: 1;\"/><path d=\"M213.97,88.1H214.46M214.46,80.07V136.79M214.95,130.57H214.46\" style=\"fill: none; stroke: rgb(217, 95, 2); stroke-opacity: 1; stroke-width: 2px; opacity: 1;\"/><path d=\"M215.6,131.13H216.09M216.09,120.09V152.48M216.58,130.33H216.09\" style=\"fill: none; stroke: rgb(27, 158, 118); stroke-opacity: 1; stroke-width: 2px; opacity: 1;\"/><path d=\"M217.23,130.32H217.72M217.72,119.39V135.58M218.21,129.3H217.72\" style=\"fill: none; stroke: rgb(27, 158, 118); stroke-opacity: 1; stroke-width: 2px; opacity: 1;\"/><path d=\"M218.86,129.28H219.35M219.35,124.12V149.13M219.84,147.87H219.35\" style=\"fill: none; stroke: rgb(217, 95, 2); stroke-opacity: 1; stroke-width: 2px; opacity: 1;\"/><path d=\"M220.49,147.87H220.98M220.98,129.57V165.6M221.47,149.87H220.98\" style=\"fill: none; stroke: rgb(217, 95, 2); stroke-opacity: 1; stroke-width: 2px; opacity: 1;\"/><path d=\"M222.12,149.9H222.61M222.61,148.34V176.61M223.1,167.33H222.61\" style=\"fill: none; stroke: rgb(217, 95, 2); stroke-opacity: 1; stroke-width: 2px; opacity: 1;\"/><path d=\"M223.75,167.33H224.24M224.24,153.69V175.1M224.73,171.48H224.24\" style=\"fill: none; stroke: rgb(217, 95, 2); stroke-opacity: 1; stroke-width: 2px; opacity: 1;\"/><path d=\"M225.39,171.48H225.87M225.87,167.05V249.02M226.36,208.65H225.87\" style=\"fill: none; stroke: rgb(217, 95, 2); stroke-opacity: 1; stroke-width: 2px; opacity: 1;\"/><path d=\"M227.02,208.76H227.51M227.51,173.89V219.75M227.99,185.5H227.51\" style=\"fill: none; stroke: rgb(27, 158, 118); stroke-opacity: 1; stroke-width: 2px; opacity: 1;\"/><path d=\"M228.65,185.51H229.14M229.14,175.4V227.97M229.63,205.26H229.14\" style=\"fill: none; stroke: rgb(217, 95, 2); stroke-opacity: 1; stroke-width: 2px; opacity: 1;\"/><path d=\"M230.28,205.19H230.77M230.77,195.74V217.64M231.26,204.07H230.77\" style=\"fill: none; stroke: rgb(27, 158, 118); stroke-opacity: 1; stroke-width: 2px; opacity: 1;\"/><path d=\"M231.91,204.01H232.4M232.4,199.11V242.31M232.89,220.93H232.4\" style=\"fill: none; stroke: rgb(217, 95, 2); stroke-opacity: 1; stroke-width: 2px; opacity: 1;\"/><path d=\"M233.54,220.77H234.03M234.03,189.16V224.69M234.52,195.94H234.03\" style=\"fill: none; stroke: rgb(27, 158, 118); stroke-opacity: 1; stroke-width: 2px; opacity: 1;\"/><path d=\"M235.17,195.85H235.66M235.66,189.94V210.28M236.15,198.79H235.66\" style=\"fill: none; stroke: rgb(217, 95, 2); stroke-opacity: 1; stroke-width: 2px; opacity: 1;\"/><path d=\"M236.8,198.79H237.29M237.29,183.6V201.95M237.78,193.25H237.29\" style=\"fill: none; stroke: rgb(27, 158, 118); stroke-opacity: 1; stroke-width: 2px; opacity: 1;\"/><path d=\"M238.43,193.25H238.92M238.92,186.2V205.97M239.41,197.55H238.92\" style=\"fill: none; stroke: rgb(217, 95, 2); stroke-opacity: 1; stroke-width: 2px; opacity: 1;\"/><path d=\"M240.06,197.55H240.55M240.55,195.45V220.75M241.04,214.84H240.55\" style=\"fill: none; stroke: rgb(217, 95, 2); stroke-opacity: 1; stroke-width: 2px; opacity: 1;\"/><path d=\"M241.69,214.85H242.18M242.18,204.74V227.1M242.67,221.23H242.18\" style=\"fill: none; stroke: rgb(217, 95, 2); stroke-opacity: 1; stroke-width: 2px; opacity: 1;\"/><path d=\"M243.32,221.23H243.81M243.81,209.87V228.63M244.3,214.98H243.81\" style=\"fill: none; stroke: rgb(27, 158, 118); stroke-opacity: 1; stroke-width: 2px; opacity: 1;\"/><path d=\"M244.96,214.98H245.45M245.45,203.77V223.95M245.93,205.25H245.45\" style=\"fill: none; stroke: rgb(27, 158, 118); stroke-opacity: 1; stroke-width: 2px; opacity: 1;\"/><path d=\"M246.59,205.25H247.08M247.08,201.38V214.83M247.57,208.63H247.08\" style=\"fill: none; stroke: rgb(217, 95, 2); stroke-opacity: 1; stroke-width: 2px; opacity: 1;\"/><path d=\"M248.22,208.62H248.71M248.71,199.39V213.3M249.2,203.35H248.71\" style=\"fill: none; stroke: rgb(27, 158, 118); stroke-opacity: 1; stroke-width: 2px; opacity: 1;\"/><path d=\"M249.85,203.35H250.34M250.34,191.84V205.75M250.83,193.22H250.34\" style=\"fill: none; stroke: rgb(27, 158, 118); stroke-opacity: 1; stroke-width: 2px; opacity: 1;\"/><path d=\"M251.48,193.22H251.97M251.97,192.97V215.5M252.46,207.81H251.97\" style=\"fill: none; stroke: rgb(217, 95, 2); stroke-opacity: 1; stroke-width: 2px; opacity: 1;\"/><path d=\"M253.11,207.81H253.6M253.6,201.2V220.05M254.09,215.75H253.6\" style=\"fill: none; stroke: rgb(217, 95, 2); stroke-opacity: 1; stroke-width: 2px; opacity: 1;\"/><path d=\"M254.74,215.73H255.23M255.23,209.92V217.51M255.72,214.04H255.23\" style=\"fill: none; stroke: rgb(27, 158, 118); stroke-opacity: 1; stroke-width: 2px; opacity: 1;\"/><path d=\"M256.37,214.04H256.86M256.86,207.38V229.11M257.35,227.58H256.86\" style=\"fill: none; stroke: rgb(217, 95, 2); stroke-opacity: 1; stroke-width: 2px; opacity: 1;\"/><path d=\"M258,227.55H258.49M258.49,224.47V242.98M258.98,228.62H258.49\" style=\"fill: none; stroke: rgb(217, 95, 2); stroke-opacity: 1; stroke-width: 2px; opacity: 1;\"/><path d=\"M259.63,228.62H260.12M260.12,203.55V234.56M260.61,204.44H260.12\" style=\"fill: none; stroke: rgb(27, 158, 118); stroke-opacity: 1; stroke-width: 2px; opacity: 1;\"/><path d=\"M261.26,204.44H261.75M261.75,197.78V214.13M262.24,208.74H261.75\" style=\"fill: none; stroke: rgb(217, 95, 2); stroke-opacity: 1; stroke-width: 2px; opacity: 1;\"/><path d=\"M262.9,208.72H263.38M263.38,202.68V213.2M263.87,204.78H263.38\" style=\"fill: none; stroke: rgb(27, 158, 118); stroke-opacity: 1; stroke-width: 2px; opacity: 1;\"/><path d=\"M264.53,204.78H265.02M265.02,203.98V221.26M265.5,215.55H265.02\" style=\"fill: none; stroke: rgb(217, 95, 2); stroke-opacity: 1; stroke-width: 2px; opacity: 1;\"/><path d=\"M266.16,215.55H266.65M266.65,192.42V220.31M267.14,194.59H266.65\" style=\"fill: none; stroke: rgb(27, 158, 118); stroke-opacity: 1; stroke-width: 2px; opacity: 1;\"/><path d=\"M267.79,194.59H268.28M268.28,182.26V196.34M268.77,185.56H268.28\" style=\"fill: none; stroke: rgb(27, 158, 118); stroke-opacity: 1; stroke-width: 2px; opacity: 1;\"/><path d=\"M269.42,185.56H269.91M269.91,180.65V191.66M270.4,187.81H269.91\" style=\"fill: none; stroke: rgb(217, 95, 2); stroke-opacity: 1; stroke-width: 2px; opacity: 1;\"/><path d=\"M271.05,187.81H271.54M271.54,185.5V200.05M272.03,198.64H271.54\" style=\"fill: none; stroke: rgb(217, 95, 2); stroke-opacity: 1; stroke-width: 2px; opacity: 1;\"/><path d=\"M272.68,198.64H273.17M273.17,191.33V204.58M273.66,200.19H273.17\" style=\"fill: none; stroke: rgb(217, 95, 2); stroke-opacity: 1; stroke-width: 2px; opacity: 1;\"/><path d=\"M274.31,200.19H274.8M274.8,199.52V218.07M275.29,213.9H274.8\" style=\"fill: none; stroke: rgb(217, 95, 2); stroke-opacity: 1; stroke-width: 2px; opacity: 1;\"/><path d=\"M275.94,213.9H276.43M276.43,210.06V220.03M276.92,215.93H276.43\" style=\"fill: none; stroke: rgb(217, 95, 2); stroke-opacity: 1; stroke-width: 2px; opacity: 1;\"/><path d=\"M277.57,215.93H278.06M278.06,211.98V228.89M278.55,215.23H278.06\" style=\"fill: none; stroke: rgb(27, 158, 118); stroke-opacity: 1; stroke-width: 2px; opacity: 1;\"/><path d=\"M279.2,215.23H279.69M279.69,214.32V241.47M280.18,239.31H279.69\" style=\"fill: none; stroke: rgb(217, 95, 2); stroke-opacity: 1; stroke-width: 2px; opacity: 1;\"/><path d=\"M280.83,239.28H281.32M281.32,229.11V256.23M281.81,233.87H281.32\" style=\"fill: none; stroke: rgb(27, 158, 118); stroke-opacity: 1; stroke-width: 2px; opacity: 1;\"/><path d=\"M282.47,233.87H282.95M282.95,219.57V238.86M283.44,226.82H282.95\" style=\"fill: none; stroke: rgb(27, 158, 118); stroke-opacity: 1; stroke-width: 2px; opacity: 1;\"/><path d=\"M284.1,226.84H284.59M284.59,217.05V235.22M285.08,220.88H284.59\" style=\"fill: none; stroke: rgb(27, 158, 118); stroke-opacity: 1; stroke-width: 2px; opacity: 1;\"/><path d=\"M285.73,220.88H286.22M286.22,215.83V241.32M286.71,239.46H286.22\" style=\"fill: none; stroke: rgb(217, 95, 2); stroke-opacity: 1; stroke-width: 2px; opacity: 1;\"/><path d=\"M287.36,239.51H287.85M287.85,232.54V248.11M288.34,235.24H287.85\" style=\"fill: none; stroke: rgb(27, 158, 118); stroke-opacity: 1; stroke-width: 2px; opacity: 1;\"/><path d=\"M288.99,235.24H289.48M289.48,220.36V237.11M289.97,220.66H289.48\" style=\"fill: none; stroke: rgb(27, 158, 118); stroke-opacity: 1; stroke-width: 2px; opacity: 1;\"/><path d=\"M290.62,220.64H291.11M291.11,217.05V225.71M291.6,221.9H291.11\" style=\"fill: none; stroke: rgb(217, 95, 2); stroke-opacity: 1; stroke-width: 2px; opacity: 1;\"/><path d=\"M292.25,221.9H292.74M292.74,209.19V223.52M293.23,213.35H292.74\" style=\"fill: none; stroke: rgb(27, 158, 118); stroke-opacity: 1; stroke-width: 2px; opacity: 1;\"/><path d=\"M293.88,213.35H294.37M294.37,212.21V224.78M294.86,218.58H294.37\" style=\"fill: none; stroke: rgb(217, 95, 2); stroke-opacity: 1; stroke-width: 2px; opacity: 1;\"/><path d=\"M295.51,218.58H296M296,218.5V232.66M296.49,227.87H296\" style=\"fill: none; stroke: rgb(217, 95, 2); stroke-opacity: 1; stroke-width: 2px; opacity: 1;\"/><path d=\"M297.14,227.88H297.63M297.63,225.02V232.73M298.12,226.17H297.63\" style=\"fill: none; stroke: rgb(27, 158, 118); stroke-opacity: 1; stroke-width: 2px; opacity: 1;\"/><path d=\"M298.77,226.17H299.26M299.26,219.18V229M299.75,220.84H299.26\" style=\"fill: none; stroke: rgb(27, 158, 118); stroke-opacity: 1; stroke-width: 2px; opacity: 1;\"/><path d=\"M300.41,220.84H300.89M300.89,213.01V222.73M301.38,217.12H300.89\" style=\"fill: none; stroke: rgb(27, 158, 118); stroke-opacity: 1; stroke-width: 2px; opacity: 1;\"/><path d=\"M302.04,217.11H302.53M302.53,217.08V230.16M303.01,226.75H302.53\" style=\"fill: none; stroke: rgb(217, 95, 2); stroke-opacity: 1; stroke-width: 2px; opacity: 1;\"/><path d=\"M303.67,226.75H304.16M304.16,218.13V227.71M304.65,223.55H304.16\" style=\"fill: none; stroke: rgb(27, 158, 118); stroke-opacity: 1; stroke-width: 2px; opacity: 1;\"/><path d=\"M305.3,223.55H305.79M305.79,218.49V226.22M306.28,225.71H305.79\" style=\"fill: none; stroke: rgb(217, 95, 2); stroke-opacity: 1; stroke-width: 2px; opacity: 1;\"/><path d=\"M306.93,225.71H307.42M307.42,225.31V236.48M307.91,231.67H307.42\" style=\"fill: none; stroke: rgb(217, 95, 2); stroke-opacity: 1; stroke-width: 2px; opacity: 1;\"/><path d=\"M308.56,231.67H309.05M309.05,224.28V235.37M309.54,225.99H309.05\" style=\"fill: none; stroke: rgb(27, 158, 118); stroke-opacity: 1; stroke-width: 2px; opacity: 1;\"/><path d=\"M310.19,225.99H310.68M310.68,223.3V230.89M311.17,227.88H310.68\" style=\"fill: none; stroke: rgb(217, 95, 2); stroke-opacity: 1; stroke-width: 2px; opacity: 1;\"/><path d=\"M311.82,227.88H312.31M312.31,220.86V229.07M312.8,223.32H312.31\" style=\"fill: none; stroke: rgb(27, 158, 118); stroke-opacity: 1; stroke-width: 2px; opacity: 1;\"/><path d=\"M313.45,223.32H313.94M313.94,220.79V232.98M314.43,230.39H313.94\" style=\"fill: none; stroke: rgb(217, 95, 2); stroke-opacity: 1; stroke-width: 2px; opacity: 1;\"/><path d=\"M315.08,230.39H315.57M315.57,228.86V235.73M316.06,232.55H315.57\" style=\"fill: none; stroke: rgb(217, 95, 2); stroke-opacity: 1; stroke-width: 2px; opacity: 1;\"/><path d=\"M316.71,232.55H317.2M317.2,230.23V239.66M317.69,232H317.2\" style=\"fill: none; stroke: rgb(27, 158, 118); stroke-opacity: 1; stroke-width: 2px; opacity: 1;\"/><path d=\"M318.34,232H318.83M318.83,229.8V242.18M319.32,237.67H318.83\" style=\"fill: none; stroke: rgb(217, 95, 2); stroke-opacity: 1; stroke-width: 2px; opacity: 1;\"/><path d=\"M319.98,237.71H320.46M320.46,235.45V242.86M320.95,240.67H320.46\" style=\"fill: none; stroke: rgb(217, 95, 2); stroke-opacity: 1; stroke-width: 2px; opacity: 1;\"/><path d=\"M321.61,240.67H322.1M322.1,237.22V241.99M322.58,239.85H322.1\" style=\"fill: none; stroke: rgb(27, 158, 118); stroke-opacity: 1; stroke-width: 2px; opacity: 1;\"/><path d=\"M323.24,239.85H323.73M323.73,234.32V242.33M324.22,238.29H323.73\" style=\"fill: none; stroke: rgb(27, 158, 118); stroke-opacity: 1; stroke-width: 2px; opacity: 1;\"/><path d=\"M324.87,238.29H325.36M325.36,237.56V246.56M325.85,243.95H325.36\" style=\"fill: none; stroke: rgb(217, 95, 2); stroke-opacity: 1; stroke-width: 2px; opacity: 1;\"/><path d=\"M326.5,243.95H326.99M326.99,242.6V253.37M327.48,250.28H326.99\" style=\"fill: none; stroke: rgb(217, 95, 2); stroke-opacity: 1; stroke-width: 2px; opacity: 1;\"/><path d=\"M328.13,250.28H328.62M328.62,231.77V252.14M329.11,236.08H328.62\" style=\"fill: none; stroke: rgb(27, 158, 118); stroke-opacity: 1; stroke-width: 2px; opacity: 1;\"/><path d=\"M329.76,236.08H330.25M330.25,233.38V238.71M330.74,235.21H330.25\" style=\"fill: none; stroke: rgb(27, 158, 118); stroke-opacity: 1; stroke-width: 2px; opacity: 1;\"/><path d=\"M331.39,235.21H331.88M331.88,226.99V237.41M332.37,227.09H331.88\" style=\"fill: none; stroke: rgb(27, 158, 118); stroke-opacity: 1; stroke-width: 2px; opacity: 1;\"/><path d=\"M333.02,227.09H333.51M333.51,221.86V228.5M334,223.32H333.51\" style=\"fill: none; stroke: rgb(27, 158, 118); stroke-opacity: 1; stroke-width: 2px; opacity: 1;\"/><path d=\"M334.65,223.3H335.14M335.14,216.45V225.78M335.63,216.55H335.14\" style=\"fill: none; stroke: rgb(27, 158, 118); stroke-opacity: 1; stroke-width: 2px; opacity: 1;\"/><path d=\"M336.28,216.55H336.77M336.77,185.36V217.61M337.26,205.35H336.77\" style=\"fill: none; stroke: rgb(27, 158, 118); stroke-opacity: 1; stroke-width: 2px; opacity: 1;\"/><path d=\"M337.92,205.32H338.4M338.4,191.44V210.5M338.89,191.95H338.4\" style=\"fill: none; stroke: rgb(27, 158, 118); stroke-opacity: 1; stroke-width: 2px; opacity: 1;\"/><path d=\"M339.55,191.96H340.04M340.04,183.25V196.09M340.52,188.56H340.04\" style=\"fill: none; stroke: rgb(27, 158, 118); stroke-opacity: 1; stroke-width: 2px; opacity: 1;\"/><path d=\"M341.18,188.56H341.67M341.67,184.82V193.51M342.16,188.58H341.67\" style=\"fill: none; stroke: rgb(217, 95, 2); stroke-opacity: 1; stroke-width: 2px; opacity: 1;\"/><path d=\"M342.81,188.57H343.3M343.3,174.7V198.86M343.79,175.37H343.3\" style=\"fill: none; stroke: rgb(27, 158, 118); stroke-opacity: 1; stroke-width: 2px; opacity: 1;\"/><path d=\"M344.44,175.37H344.93M344.93,173.91V182.64M345.42,179.86H344.93\" style=\"fill: none; stroke: rgb(217, 95, 2); stroke-opacity: 1; stroke-width: 2px; opacity: 1;\"/><path d=\"M346.07,179.86H346.56M346.56,173V192.17M347.05,189.61H346.56\" style=\"fill: none; stroke: rgb(217, 95, 2); stroke-opacity: 1; stroke-width: 2px; opacity: 1;\"/><path d=\"M347.7,189.58H348.19M348.19,185.78V196.58M348.68,193.82H348.19\" style=\"fill: none; stroke: rgb(217, 95, 2); stroke-opacity: 1; stroke-width: 2px; opacity: 1;\"/><path d=\"M349.33,193.83H349.82M349.82,190.01V202.91M350.31,199.5H349.82\" style=\"fill: none; stroke: rgb(217, 95, 2); stroke-opacity: 1; stroke-width: 2px; opacity: 1;\"/><path d=\"M350.96,199.5H351.45M351.45,188.86V203.71M351.94,190.35H351.45\" style=\"fill: none; stroke: rgb(27, 158, 118); stroke-opacity: 1; stroke-width: 2px; opacity: 1;\"/><path d=\"M352.59,190.35H353.08M353.08,180.53V204.77M353.57,183.48H353.08\" style=\"fill: none; stroke: rgb(27, 158, 118); stroke-opacity: 1; stroke-width: 2px; opacity: 1;\"/><path d=\"M354.22,183.48H354.71M354.71,168.21V189.56M355.2,171.56H354.71\" style=\"fill: none; stroke: rgb(27, 158, 118); stroke-opacity: 1; stroke-width: 2px; opacity: 1;\"/><path d=\"M355.85,171.56H356.34M356.34,160.32V173.92M356.83,161.09H356.34\" style=\"fill: none; stroke: rgb(27, 158, 118); stroke-opacity: 1; stroke-width: 2px; opacity: 1;\"/><path d=\"M357.49,161.09H357.97M357.97,156.64V169M358.46,165.78H357.97\" style=\"fill: none; stroke: rgb(217, 95, 2); stroke-opacity: 1; stroke-width: 2px; opacity: 1;\"/><path d=\"M359.12,165.78H359.61M359.61,149.74V171.91M360.09,150.95H359.61\" style=\"fill: none; stroke: rgb(27, 158, 118); stroke-opacity: 1; stroke-width: 2px; opacity: 1;\"/><path d=\"M360.75,150.97H361.24M361.24,148.25V160.99M361.73,154.98H361.24\" style=\"fill: none; stroke: rgb(217, 95, 2); stroke-opacity: 1; stroke-width: 2px; opacity: 1;\"/><path d=\"M362.38,154.98H362.87M362.87,147.99V156.45M363.36,155.43H362.87\" style=\"fill: none; stroke: rgb(217, 95, 2); stroke-opacity: 1; stroke-width: 2px; opacity: 1;\"/><path d=\"M364.01,155.43H364.5M364.5,151.16V165.93M364.99,162.14H364.5\" style=\"fill: none; stroke: rgb(217, 95, 2); stroke-opacity: 1; stroke-width: 2px; opacity: 1;\"/><path d=\"M365.64,162.13H366.13M366.13,141.1V163.23M366.62,141.62H366.13\" style=\"fill: none; stroke: rgb(27, 158, 118); stroke-opacity: 1; stroke-width: 2px; opacity: 1;\"/><path d=\"M367.27,141.62H367.76M367.76,139.54V152.65M368.25,146.03H367.76\" style=\"fill: none; stroke: rgb(217, 95, 2); stroke-opacity: 1; stroke-width: 2px; opacity: 1;\"/><path d=\"M368.9,146.03H369.39M369.39,144.2V155.49M369.88,146.6H369.39\" style=\"fill: none; stroke: rgb(217, 95, 2); stroke-opacity: 1; stroke-width: 2px; opacity: 1;\"/><path d=\"M370.53,146.6H371.02M371.02,140.08V154.53M371.51,153.07H371.02\" style=\"fill: none; stroke: rgb(217, 95, 2); stroke-opacity: 1; stroke-width: 2px; opacity: 1;\"/><path d=\"M372.16,153.07H372.65M372.65,145.48V162.28M373.14,160.34H372.65\" style=\"fill: none; stroke: rgb(217, 95, 2); stroke-opacity: 1; stroke-width: 2px; opacity: 1;\"/><path d=\"M373.79,160.34H374.28M374.28,152.48V163.32M374.77,160.29H374.28\" style=\"fill: none; stroke: rgb(27, 158, 118); stroke-opacity: 1; stroke-width: 2px; opacity: 1;\"/><path d=\"M375.42,160.32H375.91M375.91,146.24V164.98M376.4,147.89H375.91\" style=\"fill: none; stroke: rgb(27, 158, 118); stroke-opacity: 1; stroke-width: 2px; opacity: 1;\"/><path d=\"M377.06,147.89H377.55M377.55,132.06V148.72M378.03,132.43H377.55\" style=\"fill: none; stroke: rgb(27, 158, 118); stroke-opacity: 1; stroke-width: 2px; opacity: 1;\"/><path d=\"M378.69,132.43H379.18M379.18,129.81V139.07M379.67,135.45H379.18\" style=\"fill: none; stroke: rgb(217, 95, 2); stroke-opacity: 1; stroke-width: 2px; opacity: 1;\"/><path d=\"M380.32,135.45H380.81M380.81,131.36V140.11M381.3,132.93H380.81\" style=\"fill: none; stroke: rgb(27, 158, 118); stroke-opacity: 1; stroke-width: 2px; opacity: 1;\"/><path d=\"M381.95,132.93H382.44M382.44,125.32V134.2M382.93,131.43H382.44\" style=\"fill: none; stroke: rgb(27, 158, 118); stroke-opacity: 1; stroke-width: 2px; opacity: 1;\"/><path d=\"M383.58,131.43H384.07M384.07,129.19V142.82M384.56,142.38H384.07\" style=\"fill: none; stroke: rgb(217, 95, 2); stroke-opacity: 1; stroke-width: 2px; opacity: 1;\"/><path d=\"M385.21,142.38H385.7M385.7,132.78V145.68M386.19,134.54H385.7\" style=\"fill: none; stroke: rgb(27, 158, 118); stroke-opacity: 1; stroke-width: 2px; opacity: 1;\"/><path d=\"M386.84,134.54H387.33M387.33,132.25V150.97M387.82,147.38H387.33\" style=\"fill: none; stroke: rgb(217, 95, 2); stroke-opacity: 1; stroke-width: 2px; opacity: 1;\"/><path d=\"M388.47,147.38H388.96M388.96,133.47V150.38M389.45,133.95H388.96\" style=\"fill: none; stroke: rgb(27, 158, 118); stroke-opacity: 1; stroke-width: 2px; opacity: 1;\"/><path d=\"M390.1,133.95H390.59M390.59,132.57V138.32M391.08,135.01H390.59\" style=\"fill: none; stroke: rgb(217, 95, 2); stroke-opacity: 1; stroke-width: 2px; opacity: 1;\"/><path d=\"M391.73,135.01H392.22M392.22,130.56V141.84M392.71,135.78H392.22\" style=\"fill: none; stroke: rgb(217, 95, 2); stroke-opacity: 1; stroke-width: 2px; opacity: 1;\"/><path d=\"M393.36,135.78H393.85M393.85,135.05V147.33M394.34,146.55H393.85\" style=\"fill: none; stroke: rgb(217, 95, 2); stroke-opacity: 1; stroke-width: 2px; opacity: 1;\"/><path d=\"M395,146.55H395.48M395.48,138.92V148.25M395.97,145.83H395.48\" style=\"fill: none; stroke: rgb(27, 158, 118); stroke-opacity: 1; stroke-width: 2px; opacity: 1;\"/><path d=\"M396.63,145.83H397.12M397.12,133.43V149.39M397.6,135.52H397.12\" style=\"fill: none; stroke: rgb(27, 158, 118); stroke-opacity: 1; stroke-width: 2px; opacity: 1;\"/><path d=\"M398.26,135.52H398.75M398.75,125.63V136.88M399.24,132.89H398.75\" style=\"fill: none; stroke: rgb(27, 158, 118); stroke-opacity: 1; stroke-width: 2px; opacity: 1;\"/><path d=\"M399.89,132.89H400.38M400.38,122.31V138.5M400.87,128.35H400.38\" style=\"fill: none; stroke: rgb(27, 158, 118); stroke-opacity: 1; stroke-width: 2px; opacity: 1;\"/><path d=\"M401.52,128.35H402.01M402.01,125.11V132.14M402.5,128.85H402.01\" style=\"fill: none; stroke: rgb(217, 95, 2); stroke-opacity: 1; stroke-width: 2px; opacity: 1;\"/><path d=\"M403.15,128.84H403.64M403.64,116.88V131.66M404.13,117.74H403.64\" style=\"fill: none; stroke: rgb(27, 158, 118); stroke-opacity: 1; stroke-width: 2px; opacity: 1;\"/><path d=\"M404.78,117.74H405.27M405.27,111.57V122.49M405.76,112.27H405.27\" style=\"fill: none; stroke: rgb(27, 158, 118); stroke-opacity: 1; stroke-width: 2px; opacity: 1;\"/><path d=\"M406.41,112.25H406.9M406.9,110.72V171.52M407.39,147.27H406.9\" style=\"fill: none; stroke: rgb(217, 95, 2); stroke-opacity: 1; stroke-width: 2px; opacity: 1;\"/><path d=\"M408.04,147.24H408.53M408.53,144.39V162.06M409.02,152.19H408.53\" style=\"fill: none; stroke: rgb(217, 95, 2); stroke-opacity: 1; stroke-width: 2px; opacity: 1;\"/><path d=\"M409.67,152.19H410.16M410.16,144.03V155.41M410.65,150.09H410.16\" style=\"fill: none; stroke: rgb(27, 158, 118); stroke-opacity: 1; stroke-width: 2px; opacity: 1;\"/><path d=\"M411.3,150.09H411.79M411.79,146.24V163.75M412.28,159.41H411.79\" style=\"fill: none; stroke: rgb(217, 95, 2); stroke-opacity: 1; stroke-width: 2px; opacity: 1;\"/><path d=\"M412.93,159.46H413.42M413.42,152.55V160.19M413.91,157.46H413.42\" style=\"fill: none; stroke: rgb(27, 158, 118); stroke-opacity: 1; stroke-width: 2px; opacity: 1;\"/><path d=\"M414.57,157.46H415.05M415.05,149.7V160.07M415.54,152.32H415.05\" style=\"fill: none; stroke: rgb(27, 158, 118); stroke-opacity: 1; stroke-width: 2px; opacity: 1;\"/><path d=\"M416.2,152.32H416.69M416.69,147.17V168.35M417.18,158.87H416.69\" style=\"fill: none; stroke: rgb(217, 95, 2); stroke-opacity: 1; stroke-width: 2px; opacity: 1;\"/><path d=\"M417.83,158.87H418.32M418.32,144.93V160.96M418.81,145.77H418.32\" style=\"fill: none; stroke: rgb(27, 158, 118); stroke-opacity: 1; stroke-width: 2px; opacity: 1;\"/><path d=\"M419.46,145.82H419.95M419.95,137.39V148.36M420.44,139.68H419.95\" style=\"fill: none; stroke: rgb(27, 158, 118); stroke-opacity: 1; stroke-width: 2px; opacity: 1;\"/><path d=\"M421.09,139.68H421.58M421.58,137.05V146.32M422.07,141.99H421.58\" style=\"fill: none; stroke: rgb(217, 95, 2); stroke-opacity: 1; stroke-width: 2px; opacity: 1;\"/><path d=\"M422.72,141.99H423.21M423.21,139.5V148.26M423.7,144.63H423.21\" style=\"fill: none; stroke: rgb(217, 95, 2); stroke-opacity: 1; stroke-width: 2px; opacity: 1;\"/><path d=\"M424.35,144.63H424.84M424.84,135.32V146.23M425.33,138.64H424.84\" style=\"fill: none; stroke: rgb(27, 158, 118); stroke-opacity: 1; stroke-width: 2px; opacity: 1;\"/><path d=\"M425.98,138.64H426.47M426.47,138.16V147.47M426.96,144.98H426.47\" style=\"fill: none; stroke: rgb(217, 95, 2); stroke-opacity: 1; stroke-width: 2px; opacity: 1;\"/><path d=\"M427.61,144.98H428.1M428.1,144.35V173.59M428.59,170.48H428.1\" style=\"fill: none; stroke: rgb(217, 95, 2); stroke-opacity: 1; stroke-width: 2px; opacity: 1;\"/><path d=\"M429.24,170.48H429.73M429.73,166.72V191.09M430.22,184.25H429.73\" style=\"fill: none; stroke: rgb(217, 95, 2); stroke-opacity: 1; stroke-width: 2px; opacity: 1;\"/><path d=\"M430.87,184.25H431.36M431.36,164.54V185.27M431.85,167.3H431.36\" style=\"fill: none; stroke: rgb(27, 158, 118); stroke-opacity: 1; stroke-width: 2px; opacity: 1;\"/><path d=\"M432.51,167.28H432.99M432.99,158.64V170.16M433.48,159.32H432.99\" style=\"fill: none; stroke: rgb(27, 158, 118); stroke-opacity: 1; stroke-width: 2px; opacity: 1;\"/><path d=\"M434.14,159.32H434.63M434.63,157.3V184.61M435.11,171.72H434.63\" style=\"fill: none; stroke: rgb(217, 95, 2); stroke-opacity: 1; stroke-width: 2px; opacity: 1;\"/><path d=\"M435.77,171.72H436.26M436.26,170.78V178.75M436.75,172.57H436.26\" style=\"fill: none; stroke: rgb(217, 95, 2); stroke-opacity: 1; stroke-width: 2px; opacity: 1;\"/><path d=\"M437.4,172.57H437.89M437.89,164.85V184.15M438.38,169.61H437.89\" style=\"fill: none; stroke: rgb(27, 158, 118); stroke-opacity: 1; stroke-width: 2px; opacity: 1;\"/><path d=\"M439.03,169.61H439.52M439.52,162.43V176.02M440.01,175.72H439.52\" style=\"fill: none; stroke: rgb(217, 95, 2); stroke-opacity: 1; stroke-width: 2px; opacity: 1;\"/><path d=\"M440.66,175.72H441.15M441.15,171.86V183.32M441.64,182.49H441.15\" style=\"fill: none; stroke: rgb(217, 95, 2); stroke-opacity: 1; stroke-width: 2px; opacity: 1;\"/><path d=\"M442.29,182.49H442.78M442.78,173.05V184.13M443.27,179.48H442.78\" style=\"fill: none; stroke: rgb(27, 158, 118); stroke-opacity: 1; stroke-width: 2px; opacity: 1;\"/><path d=\"M443.92,179.48H444.41M444.41,163.69V180.17M444.9,165.61H444.41\" style=\"fill: none; stroke: rgb(27, 158, 118); stroke-opacity: 1; stroke-width: 2px; opacity: 1;\"/><path d=\"M445.55,165.63H446.04M446.04,137.42V168.87M446.53,139.55H446.04\" style=\"fill: none; stroke: rgb(27, 158, 118); stroke-opacity: 1; stroke-width: 2px; opacity: 1;\"/><path d=\"M447.18,139.55H447.67M447.67,138.38V143.85M448.16,142.61H447.67\" style=\"fill: none; stroke: rgb(217, 95, 2); stroke-opacity: 1; stroke-width: 2px; opacity: 1;\"/><path d=\"M448.81,142.61H449.3M449.3,133V145.91M449.79,139.2H449.3\" style=\"fill: none; stroke: rgb(27, 158, 118); stroke-opacity: 1; stroke-width: 2px; opacity: 1;\"/><path d=\"M450.44,139.2H450.93M450.93,131.14V147.1M451.42,133.02H450.93\" style=\"fill: none; stroke: rgb(27, 158, 118); stroke-opacity: 1; stroke-width: 2px; opacity: 1;\"/><path d=\"M452.08,133.02H452.56M452.56,116.96V134.24M453.05,119.46H452.56\" style=\"fill: none; stroke: rgb(27, 158, 118); stroke-opacity: 1; stroke-width: 2px; opacity: 1;\"/><path d=\"M453.71,119.46H454.2M454.2,93.65V126.03M454.68,96.27H454.2\" style=\"fill: none; stroke: rgb(27, 158, 118); stroke-opacity: 1; stroke-width: 2px; opacity: 1;\"/><path d=\"M455.34,96.27H455.83M455.83,96.17V108.09M456.32,105.5H455.83\" style=\"fill: none; stroke: rgb(217, 95, 2); stroke-opacity: 1; stroke-width: 2px; opacity: 1;\"/><path d=\"M456.97,105.5H457.46M457.46,91.54V106.51M457.95,104.5H457.46\" style=\"fill: none; stroke: rgb(27, 158, 118); stroke-opacity: 1; stroke-width: 2px; opacity: 1;\"/><path d=\"M458.6,104.47H459.09M459.09,95.22V106.25M459.58,98.48H459.09\" style=\"fill: none; stroke: rgb(27, 158, 118); stroke-opacity: 1; stroke-width: 2px; opacity: 1;\"/><path d=\"M460.23,98.48H460.72M460.72,88.75V103.72M461.21,100.23H460.72\" style=\"fill: none; stroke: rgb(217, 95, 2); stroke-opacity: 1; stroke-width: 2px; opacity: 1;\"/><path d=\"M461.86,100.23H462.35M462.35,81.04V101.7M462.84,83.26H462.35\" style=\"fill: none; stroke: rgb(27, 158, 118); stroke-opacity: 1; stroke-width: 2px; opacity: 1;\"/><path d=\"M463.49,83.26H463.98M463.98,82V104.94M464.47,92.16H463.98\" style=\"fill: none; stroke: rgb(217, 95, 2); stroke-opacity: 1; stroke-width: 2px; opacity: 1;\"/><path d=\"M465.12,92.16H465.61M465.61,81.42V103.2M466.1,83.89H465.61\" style=\"fill: none; stroke: rgb(27, 158, 118); stroke-opacity: 1; stroke-width: 2px; opacity: 1;\"/><path d=\"M466.75,83.87H467.24M467.24,76.86V87.2M467.73,84.01H467.24\" style=\"fill: none; stroke: rgb(217, 95, 2); stroke-opacity: 1; stroke-width: 2px; opacity: 1;\"/><path d=\"M468.38,84.01H468.87M468.87,50.31V87.01M469.36,57.91H468.87\" style=\"fill: none; stroke: rgb(27, 158, 118); stroke-opacity: 1; stroke-width: 2px; opacity: 1;\"/><path d=\"M470.02,57.91H470.5M470.5,53.65V67.1M470.99,62.72H470.5\" style=\"fill: none; stroke: rgb(217, 95, 2); stroke-opacity: 1; stroke-width: 2px; opacity: 1;\"/><path d=\"M471.65,62.72H472.14M472.14,57.64V74.26M472.62,58.78H472.14\" style=\"fill: none; stroke: rgb(27, 158, 118); stroke-opacity: 1; stroke-width: 2px; opacity: 1;\"/><path d=\"M473.28,58.78H473.77M473.77,51.74V68.94M474.26,55.88H473.77\" style=\"fill: none; stroke: rgb(27, 158, 118); stroke-opacity: 1; stroke-width: 2px; opacity: 1;\"/><path d=\"M474.91,55.9H475.4M475.4,40.94V60.03M475.89,42.18H475.4\" style=\"fill: none; stroke: rgb(27, 158, 118); stroke-opacity: 1; stroke-width: 2px; opacity: 1;\"/><path d=\"M476.54,42.18H477.03M477.03,25.77V47M477.52,31.79H477.03\" style=\"fill: none; stroke: rgb(27, 158, 118); stroke-opacity: 1; stroke-width: 2px; opacity: 1;\"/><path d=\"M478.17,31.79H478.66M478.66,27.94V55.94M479.15,54.77H478.66\" style=\"fill: none; stroke: rgb(217, 95, 2); stroke-opacity: 1; stroke-width: 2px; opacity: 1;\"/><path d=\"M479.8,54.77H480.29M480.29,45.48V68M480.78,63.85H480.29\" style=\"fill: none; stroke: rgb(217, 95, 2); stroke-opacity: 1; stroke-width: 2px; opacity: 1;\"/><path d=\"M481.43,63.85H481.92M481.92,57.46V70.65M482.41,60.24H481.92\" style=\"fill: none; stroke: rgb(27, 158, 118); stroke-opacity: 1; stroke-width: 2px; opacity: 1;\"/><path d=\"M483.06,60.24H483.55M483.55,58.95V70.96M484.04,62.86H483.55\" style=\"fill: none; stroke: rgb(217, 95, 2); stroke-opacity: 1; stroke-width: 2px; opacity: 1;\"/><path d=\"M484.69,62.86H485.18M485.18,45.61V64.08M485.67,49.43H485.18\" style=\"fill: none; stroke: rgb(27, 158, 118); stroke-opacity: 1; stroke-width: 2px; opacity: 1;\"/><path d=\"M486.32,49.43H486.81M486.81,48.13V69.1M487.3,66.02H486.81\" style=\"fill: none; stroke: rgb(217, 95, 2); stroke-opacity: 1; stroke-width: 2px; opacity: 1;\"/><path d=\"M487.95,66.02H488.44M488.44,58.98V80.07M488.93,77.58H488.44\" style=\"fill: none; stroke: rgb(217, 95, 2); stroke-opacity: 1; stroke-width: 2px; opacity: 1;\"/><path d=\"M489.59,77.58H490.07M490.07,52.93V81.16M490.56,64.53H490.07\" style=\"fill: none; stroke: rgb(27, 158, 118); stroke-opacity: 1; stroke-width: 2px; opacity: 1;\"/><path d=\"M491.22,64.53H491.71M491.71,50.02V66.95M492.19,54.41H491.71\" style=\"fill: none; stroke: rgb(27, 158, 118); stroke-opacity: 1; stroke-width: 2px; opacity: 1;\"/><path d=\"M492.85,54.41H493.34M493.34,53.77V63.94M493.83,56.79H493.34\" style=\"fill: none; stroke: rgb(217, 95, 2); stroke-opacity: 1; stroke-width: 2px; opacity: 1;\"/><path d=\"M494.48,56.79H494.97M494.97,53.49V68.33M495.46,60.16H494.97\" style=\"fill: none; stroke: rgb(217, 95, 2); stroke-opacity: 1; stroke-width: 2px; opacity: 1;\"/><path d=\"M496.11,60.16H496.6M496.6,53.3V71.59M497.09,62.51H496.6\" style=\"fill: none; stroke: rgb(217, 95, 2); stroke-opacity: 1; stroke-width: 2px; opacity: 1;\"/><path d=\"M497.74,62.51H498.23M498.23,42.24V64.23M498.72,48.58H498.23\" style=\"fill: none; stroke: rgb(27, 158, 118); stroke-opacity: 1; stroke-width: 2px; opacity: 1;\"/><path d=\"M499.37,48.57H499.86M499.86,46.89V65.69M500.35,50.53H499.86\" style=\"fill: none; stroke: rgb(217, 95, 2); stroke-opacity: 1; stroke-width: 2px; opacity: 1;\"/><path d=\"M501,50.53H501.49M501.49,49.38V63.92M501.98,59.59H501.49\" style=\"fill: none; stroke: rgb(217, 95, 2); stroke-opacity: 1; stroke-width: 2px; opacity: 1;\"/><path d=\"M502.63,59.59H503.12M503.12,52.34V63.65M503.61,62.35H503.12\" style=\"fill: none; stroke: rgb(217, 95, 2); stroke-opacity: 1; stroke-width: 2px; opacity: 1;\"/><path d=\"M504.26,62.33H504.75M504.75,58.59V67.7M505.24,59.13H504.75\" style=\"fill: none; stroke: rgb(27, 158, 118); stroke-opacity: 1; stroke-width: 2px; opacity: 1;\"/><path d=\"M505.89,59.13H506.38M506.38,48.17V60.02M506.87,48.25H506.38\" style=\"fill: none; stroke: rgb(27, 158, 118); stroke-opacity: 1; stroke-width: 2px; opacity: 1;\"/><path d=\"M507.52,48.25H508.01M508.01,21.01V48.25M508.5,22.59H508.01\" style=\"fill: none; stroke: rgb(27, 158, 118); stroke-opacity: 1; stroke-width: 2px; opacity: 1;\"/><path d=\"M509.16,22.59H509.65M509.65,16.57V30.46M510.13,26.08H509.65\" style=\"fill: none; stroke: rgb(217, 95, 2); stroke-opacity: 1; stroke-width: 2px; opacity: 1;\"/><path d=\"M510.79,26.08H511.28M511.28,13.7V50.97M511.77,38.54H511.28\" style=\"fill: none; stroke: rgb(217, 95, 2); stroke-opacity: 1; stroke-width: 2px; opacity: 1;\"/><path d=\"M512.42,38.54H512.91M512.91,34.21V43.27M513.4,39.2H512.91\" style=\"fill: none; stroke: rgb(217, 95, 2); stroke-opacity: 1; stroke-width: 2px; opacity: 1;\"/><path d=\"M514.05,39.2H514.54M514.54,35.12V54.26M515.03,43.13H514.54\" style=\"fill: none; stroke: rgb(217, 95, 2); stroke-opacity: 1; stroke-width: 2px; opacity: 1;\"/><path d=\"M515.68,43.13H516.17M516.17,37.84V47.73M516.66,41.58H516.17\" style=\"fill: none; stroke: rgb(27, 158, 118); stroke-opacity: 1; stroke-width: 2px; opacity: 1;\"/><path d=\"M517.31,41.58H517.8M517.8,34.51V46.43M518.29,34.7H517.8\" style=\"fill: none; stroke: rgb(27, 158, 118); stroke-opacity: 1; stroke-width: 2px; opacity: 1;\"/><path d=\"M518.94,34.7H519.43M519.43,29.38V47.49M519.92,46.24H519.43\" style=\"fill: none; stroke: rgb(217, 95, 2); stroke-opacity: 1; stroke-width: 2px; opacity: 1;\"/><path d=\"M520.57,46.24H521.06M521.06,46.18V76.61M521.55,67.65H521.06\" style=\"fill: none; stroke: rgb(217, 95, 2); stroke-opacity: 1; stroke-width: 2px; opacity: 1;\"/><path d=\"M522.2,67.65H522.69M522.69,62.93V77.82M523.18,65.92H522.69\" style=\"fill: none; stroke: rgb(27, 158, 118); stroke-opacity: 1; stroke-width: 2px; opacity: 1;\"/><path d=\"M523.83,65.92H524.32M524.32,62.11V89.28M524.81,86.76H524.32\" style=\"fill: none; stroke: rgb(217, 95, 2); stroke-opacity: 1; stroke-width: 2px; opacity: 1;\"/><path d=\"M525.46,86.76H525.95M525.95,78.14V94.55M526.44,79.76H525.95\" style=\"fill: none; stroke: rgb(27, 158, 118); stroke-opacity: 1; stroke-width: 2px; opacity: 1;\"/><path d=\"M527.1,79.73H527.58M527.58,68.94V83.98M528.07,69.77H527.58\" style=\"fill: none; stroke: rgb(27, 158, 118); stroke-opacity: 1; stroke-width: 2px; opacity: 1;\"/><path d=\"M528.73,69.77H529.22M529.22,67.82V77.14M529.7,76.32H529.22\" style=\"fill: none; stroke: rgb(217, 95, 2); stroke-opacity: 1; stroke-width: 2px; opacity: 1;\"/><path d=\"M530.36,76.34H530.85M530.85,71.36V94.49M531.34,90.65H530.85\" style=\"fill: none; stroke: rgb(217, 95, 2); stroke-opacity: 1; stroke-width: 2px; opacity: 1;\"/><path d=\"M531.99,90.67H532.48M532.48,80.01V96.26M532.97,82.84H532.48\" style=\"fill: none; stroke: rgb(27, 158, 118); stroke-opacity: 1; stroke-width: 2px; opacity: 1;\"/><path d=\"M533.62,82.84H534.11M534.11,81.67V93.12M534.6,85.27H534.11\" style=\"fill: none; stroke: rgb(217, 95, 2); stroke-opacity: 1; stroke-width: 2px; opacity: 1;\"/><path d=\"M535.25,85.27H535.74M535.74,71.63V86.11M536.23,74.28H535.74\" style=\"fill: none; stroke: rgb(27, 158, 118); stroke-opacity: 1; stroke-width: 2px; opacity: 1;\"/><path d=\"M536.88,74.28H537.37M537.37,73.13V107.22M537.86,105.86H537.37\" style=\"fill: none; stroke: rgb(217, 95, 2); stroke-opacity: 1; stroke-width: 2px; opacity: 1;\"/><path d=\"M538.51,105.87H539M539,96.48V106.56M539.49,99.86H539\" style=\"fill: none; stroke: rgb(27, 158, 118); stroke-opacity: 1; stroke-width: 2px; opacity: 1;\"/><path d=\"M540.14,99.88H540.63M540.63,83.42V108.69M541.12,84.45H540.63\" style=\"fill: none; stroke: rgb(27, 158, 118); stroke-opacity: 1; stroke-width: 2px; opacity: 1;\"/><path d=\"M541.77,84.45H542.26M542.26,74.85V88.12M542.75,81.42H542.26\" style=\"fill: none; stroke: rgb(27, 158, 118); stroke-opacity: 1; stroke-width: 2px; opacity: 1;\"/><path d=\"M543.4,81.42H543.89M543.89,72.97V92.89M544.38,86.4H543.89\" style=\"fill: none; stroke: rgb(217, 95, 2); stroke-opacity: 1; stroke-width: 2px; opacity: 1;\"/><path d=\"M545.03,86.4H545.52M545.52,73.71V89.38M546.01,84.99H545.52\" style=\"fill: none; stroke: rgb(27, 158, 118); stroke-opacity: 1; stroke-width: 2px; opacity: 1;\"/><path d=\"M546.67,84.99H547.15M547.15,83.84V93.48M547.64,89.24H547.15\" style=\"fill: none; stroke: rgb(217, 95, 2); stroke-opacity: 1; stroke-width: 2px; opacity: 1;\"/><path d=\"M548.3,89.22H548.79M548.79,82.48V118.2M549.28,106.61H548.79\" style=\"fill: none; stroke: rgb(217, 95, 2); stroke-opacity: 1; stroke-width: 2px; opacity: 1;\"/><path d=\"M549.93,106.61H550.42M550.42,105.06V176.61M550.91,133.46H550.42\" style=\"fill: none; stroke: rgb(217, 95, 2); stroke-opacity: 1; stroke-width: 2px; opacity: 1;\"/><path d=\"M551.56,133.46H552.05M552.05,130.16V142.06M552.54,131.98H552.05\" style=\"fill: none; stroke: rgb(27, 158, 118); stroke-opacity: 1; stroke-width: 2px; opacity: 1;\"/><path d=\"M553.19,131.98H553.68M553.68,122.96V145.84M554.17,125.68H553.68\" style=\"fill: none; stroke: rgb(27, 158, 118); stroke-opacity: 1; stroke-width: 2px; opacity: 1;\"/><path d=\"M554.82,125.68H555.31M555.31,116.66V128.1M555.8,124.79H555.31\" style=\"fill: none; stroke: rgb(27, 158, 118); stroke-opacity: 1; stroke-width: 2px; opacity: 1;\"/><path d=\"M556.45,124.79H556.94M556.94,121.1V136.79M557.43,125.5H556.94\" style=\"fill: none; stroke: rgb(217, 95, 2); stroke-opacity: 1; stroke-width: 2px; opacity: 1;\"/><path d=\"M558.08,125.5H558.57M558.57,123.53V144.51M559.06,143.15H558.57\" style=\"fill: none; stroke: rgb(217, 95, 2); stroke-opacity: 1; stroke-width: 2px; opacity: 1;\"/><path d=\"M559.71,143.21H560.2M560.2,127.59V147.34M560.69,145.59H560.2\" style=\"fill: none; stroke: rgb(217, 95, 2); stroke-opacity: 1; stroke-width: 2px; opacity: 1;\"/><path d=\"M561.34,145.59H561.83M561.83,131.44V147.95M562.32,132.02H561.83\" style=\"fill: none; stroke: rgb(27, 158, 118); stroke-opacity: 1; stroke-width: 2px; opacity: 1;\"/><path d=\"M562.97,132.02H563.46M563.46,123.65V136.56M563.95,128.02H563.46\" style=\"fill: none; stroke: rgb(27, 158, 118); stroke-opacity: 1; stroke-width: 2px; opacity: 1;\"/><path d=\"M564.61,128.02H565.09M565.09,127.2V154.45M565.58,148.24H565.09\" style=\"fill: none; stroke: rgb(217, 95, 2); stroke-opacity: 1; stroke-width: 2px; opacity: 1;\"/><path d=\"M566.24,148.24H566.73M566.73,136.18V150.73M567.21,138.34H566.73\" style=\"fill: none; stroke: rgb(27, 158, 118); stroke-opacity: 1; stroke-width: 2px; opacity: 1;\"/><path d=\"M567.87,138.38H568.36M568.36,131.36V149.18M568.85,135.19H568.36\" style=\"fill: none; stroke: rgb(27, 158, 118); stroke-opacity: 1; stroke-width: 2px; opacity: 1;\"/><path d=\"M569.5,135.19H569.99M569.99,131.74V143.36M570.48,142.63H569.99\" style=\"fill: none; stroke: rgb(217, 95, 2); stroke-opacity: 1; stroke-width: 2px; opacity: 1;\"/><path d=\"M571.13,142.63H571.62M571.62,140.43V155.76M572.11,151.68H571.62\" style=\"fill: none; stroke: rgb(217, 95, 2); stroke-opacity: 1; stroke-width: 2px; opacity: 1;\"/><path d=\"M572.76,151.67H573.25M573.25,144.08V155.49M573.74,147.44H573.25\" style=\"fill: none; stroke: rgb(27, 158, 118); stroke-opacity: 1; stroke-width: 2px; opacity: 1;\"/><path d=\"M574.39,147.44H574.88M574.88,138.6V150.02M575.37,148.37H574.88\" style=\"fill: none; stroke: rgb(217, 95, 2); stroke-opacity: 1; stroke-width: 2px; opacity: 1;\"/><path d=\"M576.02,148.37H576.51M576.51,143.2V155.14M577,146.96H576.51\" style=\"fill: none; stroke: rgb(27, 158, 118); stroke-opacity: 1; stroke-width: 2px; opacity: 1;\"/><path d=\"M577.65,146.96H578.14M578.14,132.39V148.68M578.63,135.04H578.14\" style=\"fill: none; stroke: rgb(27, 158, 118); stroke-opacity: 1; stroke-width: 2px; opacity: 1;\"/><path d=\"M579.28,135.05H579.77M579.77,130.9V137.86M580.26,136.86H579.77\" style=\"fill: none; stroke: rgb(217, 95, 2); stroke-opacity: 1; stroke-width: 2px; opacity: 1;\"/><path d=\"M580.91,136.86H581.4M581.4,120.05V140.89M581.89,123.28H581.4\" style=\"fill: none; stroke: rgb(27, 158, 118); stroke-opacity: 1; stroke-width: 2px; opacity: 1;\"/><path d=\"M582.54,123.28H583.03M583.03,117.42V126.02M583.52,123.39H583.03\" style=\"fill: none; stroke: rgb(217, 95, 2); stroke-opacity: 1; stroke-width: 2px; opacity: 1;\"/><path d=\"M584.18,123.39H584.66M584.66,121.37V127.48M585.15,125.93H584.66\" style=\"fill: none; stroke: rgb(217, 95, 2); stroke-opacity: 1; stroke-width: 2px; opacity: 1;\"/><path d=\"M585.81,125.93H586.3M586.3,120.62V131.89M586.78,123.66H586.3\" style=\"fill: none; stroke: rgb(27, 158, 118); stroke-opacity: 1; stroke-width: 2px; opacity: 1;\"/><path d=\"M587.44,123.66H587.93M587.93,115.74V125.63M588.42,124.11H587.93\" style=\"fill: none; stroke: rgb(217, 95, 2); stroke-opacity: 1; stroke-width: 2px; opacity: 1;\"/><path d=\"M589.07,124.11H589.56M589.56,124.09V144.55M590.05,143.16H589.56\" style=\"fill: none; stroke: rgb(217, 95, 2); stroke-opacity: 1; stroke-width: 2px; opacity: 1;\"/><path d=\"M590.7,143.16H591.19M591.19,139.57V151.89M591.68,149.67H591.19\" style=\"fill: none; stroke: rgb(217, 95, 2); stroke-opacity: 1; stroke-width: 2px; opacity: 1;\"/><path d=\"M592.33,149.67H592.82M592.82,141.01V153.08M593.31,145.71H592.82\" style=\"fill: none; stroke: rgb(27, 158, 118); stroke-opacity: 1; stroke-width: 2px; opacity: 1;\"/><path d=\"M593.96,145.71H594.45M594.45,137.1V154.42M594.94,151.17H594.45\" style=\"fill: none; stroke: rgb(217, 95, 2); stroke-opacity: 1; stroke-width: 2px; opacity: 1;\"/></g></g><g class=\"scatterlayer mlayer\"><g class=\"trace scatter trace09e81217-8b1e-4de6-b6b6-7eecd8518bc9\" style=\"stroke-miterlimit: 2; opacity: 1;\"><g class=\"fills\"/><g class=\"errorbars\"/><g class=\"lines\"/><g class=\"points\"><path class=\"point\" transform=\"translate(56.26,207.16)\" d=\"M-4.62,2H4.62L0,-4Z\" style=\"opacity: 1; stroke-width: 1px; fill: rgb(55, 177, 63); fill-opacity: 1; stroke: rgb(38, 123, 44); stroke-opacity: 1;\"/><path class=\"point\" transform=\"translate(111.71,93.03)\" d=\"M-4.62,2H4.62L0,-4Z\" style=\"opacity: 1; stroke-width: 1px; fill: rgb(55, 177, 63); fill-opacity: 1; stroke: rgb(38, 123, 44); stroke-opacity: 1;\"/><path class=\"point\" transform=\"translate(150.85,85.79)\" d=\"M-4.62,2H4.62L0,-4Z\" style=\"opacity: 1; stroke-width: 1px; fill: rgb(55, 177, 63); fill-opacity: 1; stroke: rgb(38, 123, 44); stroke-opacity: 1;\"/><path class=\"point\" transform=\"translate(203.04,83.47)\" d=\"M-4.62,2H4.62L0,-4Z\" style=\"opacity: 1; stroke-width: 1px; fill: rgb(55, 177, 63); fill-opacity: 1; stroke: rgb(38, 123, 44); stroke-opacity: 1;\"/><path class=\"point\" transform=\"translate(269.91,187.81)\" d=\"M-4.62,2H4.62L0,-4Z\" style=\"opacity: 1; stroke-width: 1px; fill: rgb(55, 177, 63); fill-opacity: 1; stroke: rgb(38, 123, 44); stroke-opacity: 1;\"/><path class=\"point\" transform=\"translate(304.16,223.55)\" d=\"M-4.62,2H4.62L0,-4Z\" style=\"opacity: 1; stroke-width: 1px; fill: rgb(55, 177, 63); fill-opacity: 1; stroke: rgb(38, 123, 44); stroke-opacity: 1;\"/><path class=\"point\" transform=\"translate(338.4,191.95)\" d=\"M-4.62,2H4.62L0,-4Z\" style=\"opacity: 1; stroke-width: 1px; fill: rgb(55, 177, 63); fill-opacity: 1; stroke: rgb(38, 123, 44); stroke-opacity: 1;\"/><path class=\"point\" transform=\"translate(452.56,119.46)\" d=\"M-4.62,2H4.62L0,-4Z\" style=\"opacity: 1; stroke-width: 1px; fill: rgb(55, 177, 63); fill-opacity: 1; stroke: rgb(38, 123, 44); stroke-opacity: 1;\"/><path class=\"point\" transform=\"translate(586.3,123.66)\" d=\"M-4.62,2H4.62L0,-4Z\" style=\"opacity: 1; stroke-width: 1px; fill: rgb(55, 177, 63); fill-opacity: 1; stroke: rgb(38, 123, 44); stroke-opacity: 1;\"/></g><g class=\"text\"/></g><g class=\"trace scatter trace809b43a0-6b05-440a-ad31-e55d6c6a89b4\" style=\"stroke-miterlimit: 2; opacity: 1;\"><g class=\"fills\"/><g class=\"errorbars\"/><g class=\"lines\"/><g class=\"points\"><path class=\"point\" transform=\"translate(85.62,130.76)\" d=\"M-4.62,-2H4.62L0,4Z\" style=\"opacity: 1; stroke-width: 1px; fill: rgb(234, 67, 53); fill-opacity: 1; stroke: rgb(181, 31, 18); stroke-opacity: 1;\"/><path class=\"point\" transform=\"translate(134.55,112.85)\" d=\"M-4.62,-2H4.62L0,4Z\" style=\"opacity: 1; stroke-width: 1px; fill: rgb(234, 67, 53); fill-opacity: 1; stroke: rgb(181, 31, 18); stroke-opacity: 1;\"/><path class=\"point\" transform=\"translate(175.32,120.22)\" d=\"M-4.62,-2H4.62L0,4Z\" style=\"opacity: 1; stroke-width: 1px; fill: rgb(234, 67, 53); fill-opacity: 1; stroke: rgb(181, 31, 18); stroke-opacity: 1;\"/><path class=\"point\" transform=\"translate(214.46,118.13)\" d=\"M-4.62,-2H4.62L0,4Z\" style=\"opacity: 1; stroke-width: 1px; fill: rgb(234, 67, 53); fill-opacity: 1; stroke: rgb(181, 31, 18); stroke-opacity: 1;\"/><path class=\"point\" transform=\"translate(274.8,212.03)\" d=\"M-4.62,-2H4.62L0,4Z\" style=\"opacity: 1; stroke-width: 1px; fill: rgb(234, 67, 53); fill-opacity: 1; stroke: rgb(181, 31, 18); stroke-opacity: 1;\"/><path class=\"point\" transform=\"translate(325.36,244.2)\" d=\"M-4.62,-2H4.62L0,4Z\" style=\"opacity: 1; stroke-width: 1px; fill: rgb(234, 67, 53); fill-opacity: 1; stroke: rgb(181, 31, 18); stroke-opacity: 1;\"/><path class=\"point\" transform=\"translate(406.9,159.34)\" d=\"M-4.62,-2H4.62L0,4Z\" style=\"opacity: 1; stroke-width: 1px; fill: rgb(234, 67, 53); fill-opacity: 1; stroke: rgb(181, 31, 18); stroke-opacity: 1;\"/><path class=\"point\" transform=\"translate(521.06,76.15)\" d=\"M-4.62,-2H4.62L0,4Z\" style=\"opacity: 1; stroke-width: 1px; fill: rgb(234, 67, 53); fill-opacity: 1; stroke: rgb(181, 31, 18); stroke-opacity: 1;\"/><path class=\"point\" transform=\"translate(594.45,154.3)\" d=\"M-4.62,-2H4.62L0,4Z\" style=\"opacity: 1; stroke-width: 1px; fill: rgb(234, 67, 53); fill-opacity: 1; stroke: rgb(181, 31, 18); stroke-opacity: 1;\"/></g><g class=\"text\"/></g></g></g><g class=\"overplot\"/><path class=\"xlines-above crisp\" d=\"M0,0\" style=\"fill: none;\"/><path class=\"ylines-above crisp\" d=\"M0,0\" style=\"fill: none;\"/><g class=\"overlines-above\"/><g class=\"xaxislayer-above\"><g class=\"xtick\"><text text-anchor=\"middle\" x=\"0\" y=\"333\" transform=\"translate(39.82,0)\" style=\"font-family: 'Open Sans', verdana, arial, sans-serif; font-size: 12px; fill: rgb(214, 223, 239); fill-opacity: 1; white-space: pre; opacity: 1;\">Jan 2021</text></g><g class=\"xtick\"><text text-anchor=\"middle\" x=\"0\" y=\"333\" style=\"font-family: 'Open Sans', verdana, arial, sans-serif; font-size: 12px; fill: rgb(214, 223, 239); fill-opacity: 1; white-space: pre; opacity: 1;\" transform=\"translate(136.04000000000002,0)\">Mar 2021</text></g><g class=\"xtick\"><text text-anchor=\"middle\" x=\"0\" y=\"333\" style=\"font-family: 'Open Sans', verdana, arial, sans-serif; font-size: 12px; fill: rgb(214, 223, 239); fill-opacity: 1; white-space: pre; opacity: 1;\" transform=\"translate(235.52,0)\">May 2021</text></g><g class=\"xtick\"><text text-anchor=\"middle\" x=\"0\" y=\"333\" style=\"font-family: 'Open Sans', verdana, arial, sans-serif; font-size: 12px; fill: rgb(214, 223, 239); fill-opacity: 1; white-space: pre; opacity: 1;\" transform=\"translate(335,0)\">Jul 2021</text></g><g class=\"xtick\"><text text-anchor=\"middle\" x=\"0\" y=\"333\" style=\"font-family: 'Open Sans', verdana, arial, sans-serif; font-size: 12px; fill: rgb(214, 223, 239); fill-opacity: 1; white-space: pre; opacity: 1;\" transform=\"translate(436.12,0)\">Sep 2021</text></g><g class=\"xtick\"><text text-anchor=\"middle\" x=\"0\" y=\"333\" style=\"font-family: 'Open Sans', verdana, arial, sans-serif; font-size: 12px; fill: rgb(214, 223, 239); fill-opacity: 1; white-space: pre; opacity: 1;\" transform=\"translate(535.6,0)\">Nov 2021</text></g><g class=\"xtick\"><text text-anchor=\"middle\" x=\"0\" y=\"333\" style=\"font-family: 'Open Sans', verdana, arial, sans-serif; font-size: 12px; fill: rgb(214, 223, 239); fill-opacity: 1; white-space: pre; opacity: 1;\" transform=\"translate(635.08,0)\">Jan 2022</text></g></g><g class=\"yaxislayer-above\"><g class=\"ytick\"><text text-anchor=\"end\" x=\"38\" y=\"4.199999999999999\" transform=\"translate(0,295.02)\" style=\"font-family: 'Open Sans', verdana, arial, sans-serif; font-size: 12px; fill: rgb(214, 223, 239); fill-opacity: 1; white-space: pre; opacity: 1;\">30k</text></g><g class=\"ytick\"><text text-anchor=\"end\" x=\"38\" y=\"4.199999999999999\" style=\"font-family: 'Open Sans', verdana, arial, sans-serif; font-size: 12px; fill: rgb(214, 223, 239); fill-opacity: 1; white-space: pre; opacity: 1;\" transform=\"translate(0,234.68)\">40k</text></g><g class=\"ytick\"><text text-anchor=\"end\" x=\"38\" y=\"4.199999999999999\" style=\"font-family: 'Open Sans', verdana, arial, sans-serif; font-size: 12px; fill: rgb(214, 223, 239); fill-opacity: 1; white-space: pre; opacity: 1;\" transform=\"translate(0,174.34)\">50k</text></g><g class=\"ytick\"><text text-anchor=\"end\" x=\"38\" y=\"4.199999999999999\" style=\"font-family: 'Open Sans', verdana, arial, sans-serif; font-size: 12px; fill: rgb(214, 223, 239); fill-opacity: 1; white-space: pre; opacity: 1;\" transform=\"translate(0,114)\">60k</text></g><g class=\"ytick\"><text text-anchor=\"end\" x=\"38\" y=\"4.199999999999999\" style=\"font-family: 'Open Sans', verdana, arial, sans-serif; font-size: 12px; fill: rgb(214, 223, 239); fill-opacity: 1; white-space: pre; opacity: 1;\" transform=\"translate(0,53.67)\">70k</text></g></g><g class=\"overaxes-above\"/></g></g><g class=\"polarlayer\"/><g class=\"smithlayer\"/><g class=\"ternarylayer\"/><g class=\"geolayer\"/><g class=\"funnelarealayer\"/><g class=\"pielayer\"/><g class=\"iciclelayer\"/><g class=\"treemaplayer\"/><g class=\"sunburstlayer\"/><g class=\"glimages\"/><defs id=\"topdefs-aa9e2d\"><g class=\"clips\"/><clipPath id=\"legendaa9e2d\"><rect width=\"270\" height=\"29\" x=\"0\" y=\"0\"/></clipPath></defs><g class=\"layer-above\"><g class=\"imagelayer\"/><g class=\"shapelayer\"/></g><g class=\"infolayer\"><g class=\"legend\" pointer-events=\"all\" transform=\"translate(400,11.519999999999996)\"><rect class=\"bg\" shape-rendering=\"crispEdges\" width=\"270\" height=\"29\" x=\"0\" y=\"0\" style=\"stroke: rgb(68, 68, 68); stroke-opacity: 1; fill: rgb(33, 34, 44); fill-opacity: 1; stroke-width: 0px;\"/><g class=\"scrollbox\" transform=\"\" clip-path=\"url(#legendaa9e2d)\"><g class=\"groups\"><g class=\"traces\" transform=\"translate(0,14.5)\" style=\"opacity: 1;\"><text class=\"legendtext\" text-anchor=\"start\" x=\"40\" y=\"4.680000000000001\" style=\"font-family: 'Open Sans', verdana, arial, sans-serif; font-size: 12px; fill: rgb(214, 223, 239); fill-opacity: 1; white-space: pre;\">OHLC</text><g class=\"layers\" style=\"opacity: 0.5;\"><g class=\"legendfill\"/><g class=\"legendlines\"/><g class=\"legendsymbols\"><g class=\"legendpoints\"><path class=\"legendohlc\" d=\"M15,0H0M8,6V0\" transform=\"translate(20,0)\" style=\"stroke-miterlimit: 1; fill: none; stroke-width: 2px; stroke: rgb(217, 95, 2); stroke-opacity: 1;\"/><path class=\"legendohlc\" d=\"M-15,0H0M-8,-6V0\" transform=\"translate(20,0)\" style=\"stroke-miterlimit: 1; fill: none; stroke-width: 2px; stroke: rgb(27, 158, 118); stroke-opacity: 1;\"/></g></g></g><rect class=\"legendtoggle\" x=\"0\" y=\"-9.5\" width=\"76.03125\" height=\"19\" style=\"fill: rgb(0, 0, 0); fill-opacity: 0;\"/></g><g class=\"traces\" transform=\"translate(78.53125,14.5)\" style=\"opacity: 1;\"><text class=\"legendtext\" text-anchor=\"start\" x=\"40\" y=\"4.680000000000001\" style=\"font-family: 'Open Sans', verdana, arial, sans-serif; font-size: 12px; fill: rgb(214, 223, 239); fill-opacity: 1; white-space: pre;\">New Entries</text><g class=\"layers\" style=\"opacity: 1;\"><g class=\"legendfill\"/><g class=\"legendlines\"/><g class=\"legendsymbols\"><g class=\"legendpoints\"><path class=\"scatterpts\" transform=\"translate(20,0)\" d=\"M-4.62,2H4.62L0,-4Z\" style=\"opacity: 1; stroke-width: 1px; fill: rgb(55, 177, 63); fill-opacity: 1; stroke: rgb(38, 123, 44); stroke-opacity: 1;\"/></g></g></g><rect class=\"legendtoggle\" x=\"0\" y=\"-9.5\" width=\"114.390625\" height=\"19\" style=\"fill: rgb(0, 0, 0); fill-opacity: 0;\"/></g><g class=\"traces\" transform=\"translate(195.421875,14.5)\" style=\"opacity: 1;\"><text class=\"legendtext\" text-anchor=\"start\" x=\"40\" y=\"4.680000000000001\" style=\"font-family: 'Open Sans', verdana, arial, sans-serif; font-size: 12px; fill: rgb(214, 223, 239); fill-opacity: 1; white-space: pre;\">Exits</text><g class=\"layers\" style=\"opacity: 1;\"><g class=\"legendfill\"/><g class=\"legendlines\"/><g class=\"legendsymbols\"><g class=\"legendpoints\"><path class=\"scatterpts\" transform=\"translate(20,0)\" d=\"M-4.62,-2H4.62L0,4Z\" style=\"opacity: 1; stroke-width: 1px; fill: rgb(234, 67, 53); fill-opacity: 1; stroke: rgb(181, 31, 18); stroke-opacity: 1;\"/></g></g></g><rect class=\"legendtoggle\" x=\"0\" y=\"-9.5\" width=\"71.46875\" height=\"19\" style=\"fill: rgb(0, 0, 0); fill-opacity: 0;\"/></g></g></g><rect class=\"scrollbar\" rx=\"20\" ry=\"3\" width=\"0\" height=\"0\" x=\"0\" y=\"0\" style=\"fill: rgb(128, 139, 164); fill-opacity: 1;\"/></g><g class=\"g-gtitle\"/><g class=\"g-xtitle\"/><g class=\"g-ytitle\"/></g></svg>"
      ]
     },
     "metadata": {},
     "output_type": "display_data"
    }
   ],
   "source": [
    "ohlcstcx = vbt.OHLCSTCX.run(\n",
    "    entries,\n",
    "    data.get(\"Close\"),\n",
    "    data.get(\"Open\"),\n",
    "    data.get(\"High\"),\n",
    "    data.get(\"Low\"),\n",
    "    data.get(\"Close\"),\n",
    "    sl_stop=vbt.Default(0.1),\n",
    "    tsl_stop=vbt.Default(0.15),\n",
    "    is_entry_open=False\n",
    ")\n",
    "ohlcstcx.plot(column=(\"BTCUSDT\")).show_svg()"
   ]
  },
  {
   "cell_type": "code",
   "execution_count": 107,
   "id": "222b01c5-3d86-4c5a-9c1e-dbfdd568407f",
   "metadata": {},
   "outputs": [
    {
     "name": "stdout",
     "output_type": "stream",
     "text": [
      "symbol                    BTCUSDT ETHUSDT\n",
      "Open time                                \n",
      "2021-02-22 00:00:00+00:00     TSL    None\n",
      "2021-03-23 00:00:00+00:00    None     TSL\n",
      "2021-03-24 00:00:00+00:00     TSL    None\n",
      "2021-04-18 00:00:00+00:00      SL     TSL\n",
      "2021-05-12 00:00:00+00:00      SL    None\n",
      "2021-06-08 00:00:00+00:00    None      SL\n",
      "2021-06-18 00:00:00+00:00      SL    None\n",
      "2021-07-09 00:00:00+00:00    None     TSL\n",
      "2021-07-19 00:00:00+00:00      SL    None\n",
      "2021-09-07 00:00:00+00:00     TSL     TSL\n",
      "2021-11-16 00:00:00+00:00     TSL     TSL\n",
      "2021-12-03 00:00:00+00:00    None      SL\n",
      "2021-12-29 00:00:00+00:00    None      SL\n",
      "2021-12-31 00:00:00+00:00      SL    None\n"
     ]
    }
   ],
   "source": [
    "print(ohlcstcx.stop_type_readable[ohlcstcx.exits.any(axis=1)])"
   ]
  },
  {
   "cell_type": "code",
   "execution_count": 108,
   "id": "7b7d0fdc-e793-46be-8559-398c418ccffc",
   "metadata": {},
   "outputs": [
    {
     "data": {
      "image/svg+xml": [
       "<svg class=\"main-svg\" xmlns=\"http://www.w3.org/2000/svg\" xmlns:xlink=\"http://www.w3.org/1999/xlink\" width=\"700\" height=\"350\" style=\"\" viewBox=\"0 0 700 350\"><rect x=\"0\" y=\"0\" width=\"700\" height=\"350\" style=\"fill: rgb(33, 34, 44); fill-opacity: 1;\"/><defs id=\"defs-13509b\"><g class=\"clips\"><clipPath id=\"clip13509bxyplot\" class=\"plotclip\"><rect width=\"630\" height=\"274\"/></clipPath><clipPath class=\"axesclip\" id=\"clip13509bx\"><rect x=\"40\" y=\"0\" width=\"630\" height=\"350\"/></clipPath><clipPath class=\"axesclip\" id=\"clip13509by\"><rect x=\"0\" y=\"46\" width=\"700\" height=\"274\"/></clipPath><clipPath class=\"axesclip\" id=\"clip13509bxy\"><rect x=\"40\" y=\"46\" width=\"630\" height=\"274\"/></clipPath></g><g class=\"gradients\"/><g class=\"patterns\"/></defs><g class=\"bglayer\"/><g class=\"layer-below\"><g class=\"imagelayer\"/><g class=\"shapelayer\"/></g><g class=\"cartesianlayer\"><g class=\"subplot xy\"><g class=\"layer-subplot\"><g class=\"shapelayer\"/><g class=\"imagelayer\"/></g><g class=\"gridlayer\"><g class=\"x\"><path class=\"xgrid crisp\" transform=\"translate(137.54000000000002,0)\" d=\"M0,46v274\" style=\"stroke: rgb(47, 62, 78); stroke-opacity: 1; stroke-width: 1px;\"/><path class=\"xgrid crisp\" transform=\"translate(238.38,0)\" d=\"M0,46v274\" style=\"stroke: rgb(47, 62, 78); stroke-opacity: 1; stroke-width: 1px;\"/><path class=\"xgrid crisp\" transform=\"translate(339.23,0)\" d=\"M0,46v274\" style=\"stroke: rgb(47, 62, 78); stroke-opacity: 1; stroke-width: 1px;\"/><path class=\"xgrid crisp\" transform=\"translate(441.73,0)\" d=\"M0,46v274\" style=\"stroke: rgb(47, 62, 78); stroke-opacity: 1; stroke-width: 1px;\"/><path class=\"xgrid crisp\" transform=\"translate(542.5699999999999,0)\" d=\"M0,46v274\" style=\"stroke: rgb(47, 62, 78); stroke-opacity: 1; stroke-width: 1px;\"/><path class=\"xgrid crisp\" transform=\"translate(643.42,0)\" d=\"M0,46v274\" style=\"stroke: rgb(47, 62, 78); stroke-opacity: 1; stroke-width: 1px;\"/></g><g class=\"y\"><path class=\"ygrid crisp\" transform=\"translate(0,301.99)\" d=\"M40,0h630\" style=\"stroke: rgb(47, 62, 78); stroke-opacity: 1; stroke-width: 1px;\"/><path class=\"ygrid crisp\" transform=\"translate(0,237.42)\" d=\"M40,0h630\" style=\"stroke: rgb(47, 62, 78); stroke-opacity: 1; stroke-width: 1px;\"/><path class=\"ygrid crisp\" transform=\"translate(0,172.86)\" d=\"M40,0h630\" style=\"stroke: rgb(47, 62, 78); stroke-opacity: 1; stroke-width: 1px;\"/><path class=\"ygrid crisp\" transform=\"translate(0,108.28999999999999)\" d=\"M40,0h630\" style=\"stroke: rgb(47, 62, 78); stroke-opacity: 1; stroke-width: 1px;\"/></g></g><g class=\"zerolinelayer\"/><path class=\"xlines-below\"/><path class=\"ylines-below\"/><g class=\"overlines-below\"/><g class=\"xaxislayer-below\"/><g class=\"yaxislayer-below\"/><g class=\"overaxes-below\"/><g class=\"plot\" transform=\"translate(40,46)\" clip-path=\"url(#clip13509bxyplot)\"><g class=\"scatterlayer mlayer\"><g class=\"trace scatter tracead0b1a91-cad4-42ad-b88a-c252d8d3e862\" style=\"stroke-miterlimit: 2; opacity: 1;\"><g class=\"fills\"/><g class=\"errorbars\"/><g class=\"lines\"><path class=\"js-line\" d=\"M0,260.3L1.65,241.92L3.31,236.62L4.96,243.14L6.61,230.48L9.92,195.09L11.57,187.66L13.23,190.85L14.88,203.36L16.53,221.09L18.19,229.83L19.84,208.39L21.49,196.94L23.14,212.45L24.8,217.28L26.45,218.35L28.1,213.17L31.41,220.68L33.06,250.5L34.72,236.97L36.37,242.57L38.02,241.39L39.68,241.43L41.33,240.05L42.98,253.62L44.64,234.26L46.29,228.53L47.94,228.46L49.6,236.02L51.25,233.22L52.9,220.69L54.56,206.79L56.21,211.2L59.52,196.67L61.17,199.2L62.82,150.26L64.47,149.97L66.13,160.38L67.78,139.97L69.43,144.37L71.09,145.23L72.74,136.04L74.39,140.34L76.05,132.45L77.7,113.17L79.35,116.83L81.01,88.72L82.66,89.14L84.31,79.02L85.97,100.46L87.62,134.02L89.27,128.95L90.93,145.75L92.58,150.89L94.23,151.99L95.89,158.26L97.54,129.52L99.19,136.92L100.85,124.6L102.5,137.35L104.15,134.91L105.81,134.07L107.46,120.58L109.11,111.52L110.76,95.32L112.42,89.07L114.07,76.67L115.72,80.23L117.38,54.62L119.03,68.95L120.68,90.67L122.34,82.3L123.99,69.31L125.64,77.48L127.3,75.01L128.95,74.54L130.6,79.39L132.26,100.49L133.91,98.83L135.56,111.98L137.22,118.5L138.87,94.41L140.52,89.3L142.18,89.55L143.83,77.56L145.48,70.38L147.14,70.42L148.79,70.55L150.44,69.07L152.09,81.32L153.75,73.9L155.4,67.91L157.05,75.26L158.71,88.42L160.36,74.7L162.01,74.28L163.67,63.78L165.32,62.27L166.97,63.19L168.63,39.21L170.28,43.18L171.93,41.89L173.59,53.67L175.24,62.25L176.89,87.15L178.55,90.49L180.2,85.37L183.51,115.94L185.16,119.59L188.47,132.88L190.12,101.02L191.77,94.5L193.42,95.57L195.08,103.9L196.73,77.18L198.38,76.49L200.04,84.38L201.69,80.57L203.34,106.19L205,78.84L206.65,85.57L208.3,79.63L209.96,69.64L211.61,73.65L213.26,89.3L214.92,83.79L216.57,129.24L218.22,128.98L219.88,127.88L221.53,147.76L223.18,149.9L224.84,168.58L226.49,173.02L228.14,212.79L229.8,188.02L231.45,209.16L233.1,207.89L234.75,225.93L236.41,199.19L238.06,202.24L239.71,196.31L241.37,200.91L243.02,219.42L244.67,226.25L246.33,219.56L247.98,209.15L249.63,212.77L251.29,207.12L252.94,196.28L254.59,211.89L256.25,220.39L257.9,218.56L259.55,233.05L261.21,234.16L262.86,208.28L264.51,212.88L266.17,208.65L267.82,220.18L269.47,197.74L271.13,188.09L272.78,190.49L274.43,202.08L276.08,203.73L277.74,218.41L279.39,220.58L281.04,219.83L282.7,245.6L287.66,225.88L289.31,245.76L290.96,241.24L292.62,225.64L294.27,226.96L295.92,217.82L297.58,223.41L299.23,233.36L300.88,231.54L302.54,225.84L304.19,221.85L305.84,232.16L307.5,228.74L309.15,231.05L310.8,237.42L312.46,231.35L314.11,233.37L315.76,228.49L317.42,236.06L319.07,238.36L320.72,237.78L322.37,243.85L324.03,247.05L325.68,246.17L327.33,244.5L328.99,250.56L330.64,257.34L332.29,242.14L333.95,241.21L335.6,232.52L337.25,228.49L338.91,221.24L342.21,194.92L343.87,191.29L345.52,191.31L347.17,177.17L348.83,181.98L350.48,192.42L353.79,203L355.44,193.21L357.09,185.85L358.75,173.1L360.4,161.9L362.05,166.92L363.7,151.05L365.36,155.36L367.01,155.84L368.66,163.02L370.32,141.06L371.97,145.78L373.62,146.39L375.28,153.32L376.93,161.1L378.58,161.04L381.89,131.23L383.54,134.46L386.85,130.16L388.5,141.87L390.16,133.48L391.81,147.23L393.46,132.86L395.12,133.99L396.77,134.81L398.42,146.34L400.08,145.57L401.73,134.54L403.38,131.72L405.03,126.86L406.69,127.4L408.34,115.51L409.99,109.66L411.65,147.1L413.3,152.37L414.95,150.13L416.61,160.1L418.26,158.02L419.91,152.52L421.57,159.52L423.22,145.5L424.87,138.98L428.18,144.29L429.83,137.88L431.49,144.66L433.14,171.95L434.79,186.68L436.45,168.54L438.1,160.01L439.75,173.27L441.41,174.18L443.06,171.01L446.36,184.79L448.02,181.58L449.67,166.73L451.32,138.85L452.98,142.13L454.63,138.48L456.28,131.86L457.94,117.35L459.59,92.54L461.24,102.42L462.9,101.34L464.55,94.9L466.2,96.77L467.86,78.62L469.51,88.14L471.16,79.29L472.82,79.41L474.47,51.49L476.12,56.64L477.78,52.42L479.43,49.31L481.08,34.65L482.74,23.54L484.39,48.13L486.04,57.85L487.69,53.98L489.35,56.79L491,42.41L494.31,72.53L495.96,58.57L497.61,47.74L499.27,50.29L502.57,56.41L504.23,41.5L505.88,43.59L507.53,53.28L509.19,56.24L510.84,52.8L512.49,41.15L514.15,13.7L515.8,17.43L517.45,30.77L519.11,31.47L520.76,35.68L522.41,34.01L524.07,26.66L525.72,39L527.37,61.91L529.03,60.06L530.68,82.36L533.98,64.18L535.64,71.19L537.29,86.52L538.94,78.17L540.6,80.77L542.25,69L543.9,102.8L545.56,96.37L547.21,79.89L548.86,76.65L550.52,81.98L552.17,80.47L553.82,85.02L555.48,103.61L557.13,132.33L558.78,130.75L560.44,124L562.09,123.05L563.74,123.81L565.4,142.7L567.05,145.32L568.7,130.79L570.36,126.51L572.01,148.14L573.66,137.55L575.31,134.18L578.62,151.83L580.27,147.29L581.93,148.28L583.58,146.78L585.23,134.02L586.89,135.97L588.54,121.44L590.19,121.56L591.85,124.27L593.5,121.85L595.15,122.33L596.81,142.71L598.46,149.68L600.11,145.44L601.77,151.28\" style=\"vector-effect: non-scaling-stroke; fill: none; stroke: rgb(31, 119, 180); stroke-opacity: 1; stroke-width: 2px; opacity: 1;\"/></g><g class=\"points\"/><g class=\"text\"/></g><g class=\"trace scatter trace514e8e4a-5804-4c00-8b23-fe008b7b4956\" style=\"stroke-miterlimit: 2; opacity: 1;\"><g class=\"fills\"/><g class=\"errorbars\"/><g class=\"lines\"/><g class=\"points\"><path class=\"point\" transform=\"translate(56.21,211.2)\" d=\"M-4.62,2H4.62L0,-4Z\" style=\"opacity: 1; stroke-width: 1px; fill: rgb(55, 177, 63); fill-opacity: 1; stroke: rgb(38, 123, 44); stroke-opacity: 1;\"/><path class=\"point\" transform=\"translate(112.42,89.07)\" d=\"M-4.62,2H4.62L0,-4Z\" style=\"opacity: 1; stroke-width: 1px; fill: rgb(55, 177, 63); fill-opacity: 1; stroke: rgb(38, 123, 44); stroke-opacity: 1;\"/><path class=\"point\" transform=\"translate(152.09,81.32)\" d=\"M-4.62,2H4.62L0,-4Z\" style=\"opacity: 1; stroke-width: 1px; fill: rgb(55, 177, 63); fill-opacity: 1; stroke: rgb(38, 123, 44); stroke-opacity: 1;\"/><path class=\"point\" transform=\"translate(205,78.84)\" d=\"M-4.62,2H4.62L0,-4Z\" style=\"opacity: 1; stroke-width: 1px; fill: rgb(55, 177, 63); fill-opacity: 1; stroke: rgb(38, 123, 44); stroke-opacity: 1;\"/><path class=\"point\" transform=\"translate(272.78,190.49)\" d=\"M-4.62,2H4.62L0,-4Z\" style=\"opacity: 1; stroke-width: 1px; fill: rgb(55, 177, 63); fill-opacity: 1; stroke: rgb(38, 123, 44); stroke-opacity: 1;\"/><path class=\"point\" transform=\"translate(307.5,228.74)\" d=\"M-4.62,2H4.62L0,-4Z\" style=\"opacity: 1; stroke-width: 1px; fill: rgb(55, 177, 63); fill-opacity: 1; stroke: rgb(38, 123, 44); stroke-opacity: 1;\"/><path class=\"point\" transform=\"translate(342.21,194.92)\" d=\"M-4.62,2H4.62L0,-4Z\" style=\"opacity: 1; stroke-width: 1px; fill: rgb(55, 177, 63); fill-opacity: 1; stroke: rgb(38, 123, 44); stroke-opacity: 1;\"/><path class=\"point\" transform=\"translate(457.94,117.35)\" d=\"M-4.62,2H4.62L0,-4Z\" style=\"opacity: 1; stroke-width: 1px; fill: rgb(55, 177, 63); fill-opacity: 1; stroke: rgb(38, 123, 44); stroke-opacity: 1;\"/><path class=\"point\" transform=\"translate(593.5,121.85)\" d=\"M-4.62,2H4.62L0,-4Z\" style=\"opacity: 1; stroke-width: 1px; fill: rgb(55, 177, 63); fill-opacity: 1; stroke: rgb(38, 123, 44); stroke-opacity: 1;\"/></g><g class=\"text\"/></g><g class=\"trace scatter tracec3024d86-754d-401b-8782-607d565d2f9a\" style=\"stroke-miterlimit: 2; opacity: 1;\"><g class=\"fills\"/><g class=\"errorbars\"/><g class=\"lines\"/><g class=\"points\"><path class=\"point\" transform=\"translate(90.93,134.62)\" d=\"M-4.62,-2H4.62L0,4Z\" style=\"opacity: 1; stroke-width: 1px; fill: rgb(234, 67, 53); fill-opacity: 1; stroke: rgb(181, 31, 18); stroke-opacity: 1;\"/><path class=\"point\" transform=\"translate(137.22,113.88)\" d=\"M-4.62,-2H4.62L0,4Z\" style=\"opacity: 1; stroke-width: 1px; fill: rgb(234, 67, 53); fill-opacity: 1; stroke: rgb(181, 31, 18); stroke-opacity: 1;\"/><path class=\"point\" transform=\"translate(181.85,100.78)\" d=\"M-4.62,-2H4.62L0,4Z\" style=\"opacity: 1; stroke-width: 1px; fill: rgb(234, 67, 53); fill-opacity: 1; stroke: rgb(181, 31, 18); stroke-opacity: 1;\"/><path class=\"point\" transform=\"translate(216.57,115.93)\" d=\"M-4.62,-2H4.62L0,4Z\" style=\"opacity: 1; stroke-width: 1px; fill: rgb(234, 67, 53); fill-opacity: 1; stroke: rgb(181, 31, 18); stroke-opacity: 1;\"/><path class=\"point\" transform=\"translate(277.74,216.41)\" d=\"M-4.62,-2H4.62L0,4Z\" style=\"opacity: 1; stroke-width: 1px; fill: rgb(234, 67, 53); fill-opacity: 1; stroke: rgb(181, 31, 18); stroke-opacity: 1;\"/><path class=\"point\" transform=\"translate(330.64,250.83)\" d=\"M-4.62,-2H4.62L0,4Z\" style=\"opacity: 1; stroke-width: 1px; fill: rgb(234, 67, 53); fill-opacity: 1; stroke: rgb(181, 31, 18); stroke-opacity: 1;\"/><path class=\"point\" transform=\"translate(433.14,160.66)\" d=\"M-4.62,-2H4.62L0,4Z\" style=\"opacity: 1; stroke-width: 1px; fill: rgb(234, 67, 53); fill-opacity: 1; stroke: rgb(181, 31, 18); stroke-opacity: 1;\"/><path class=\"point\" transform=\"translate(530.68,79.1)\" d=\"M-4.62,-2H4.62L0,4Z\" style=\"opacity: 1; stroke-width: 1px; fill: rgb(234, 67, 53); fill-opacity: 1; stroke: rgb(181, 31, 18); stroke-opacity: 1;\"/></g><g class=\"text\"/></g></g></g><g class=\"overplot\"/><path class=\"xlines-above crisp\" d=\"M0,0\" style=\"fill: none;\"/><path class=\"ylines-above crisp\" d=\"M0,0\" style=\"fill: none;\"/><g class=\"overlines-above\"/><g class=\"xaxislayer-above\"><g class=\"xtick\"><text text-anchor=\"middle\" x=\"0\" y=\"333\" transform=\"translate(40,0)\" style=\"font-family: 'Open Sans', verdana, arial, sans-serif; font-size: 12px; fill: rgb(214, 223, 239); fill-opacity: 1; white-space: pre; opacity: 1;\">Jan 2021</text></g><g class=\"xtick\"><text text-anchor=\"middle\" x=\"0\" y=\"333\" style=\"font-family: 'Open Sans', verdana, arial, sans-serif; font-size: 12px; fill: rgb(214, 223, 239); fill-opacity: 1; white-space: pre; opacity: 1;\" transform=\"translate(137.54000000000002,0)\">Mar 2021</text></g><g class=\"xtick\"><text text-anchor=\"middle\" x=\"0\" y=\"333\" style=\"font-family: 'Open Sans', verdana, arial, sans-serif; font-size: 12px; fill: rgb(214, 223, 239); fill-opacity: 1; white-space: pre; opacity: 1;\" transform=\"translate(238.38,0)\">May 2021</text></g><g class=\"xtick\"><text text-anchor=\"middle\" x=\"0\" y=\"333\" style=\"font-family: 'Open Sans', verdana, arial, sans-serif; font-size: 12px; fill: rgb(214, 223, 239); fill-opacity: 1; white-space: pre; opacity: 1;\" transform=\"translate(339.23,0)\">Jul 2021</text></g><g class=\"xtick\"><text text-anchor=\"middle\" x=\"0\" y=\"333\" style=\"font-family: 'Open Sans', verdana, arial, sans-serif; font-size: 12px; fill: rgb(214, 223, 239); fill-opacity: 1; white-space: pre; opacity: 1;\" transform=\"translate(441.73,0)\">Sep 2021</text></g><g class=\"xtick\"><text text-anchor=\"middle\" x=\"0\" y=\"333\" style=\"font-family: 'Open Sans', verdana, arial, sans-serif; font-size: 12px; fill: rgb(214, 223, 239); fill-opacity: 1; white-space: pre; opacity: 1;\" transform=\"translate(542.5699999999999,0)\">Nov 2021</text></g><g class=\"xtick\"><text text-anchor=\"middle\" x=\"0\" y=\"333\" style=\"font-family: 'Open Sans', verdana, arial, sans-serif; font-size: 12px; fill: rgb(214, 223, 239); fill-opacity: 1; white-space: pre; opacity: 1;\" transform=\"translate(643.42,0)\">Jan 2022</text></g></g><g class=\"yaxislayer-above\"><g class=\"ytick\"><text text-anchor=\"end\" x=\"39\" y=\"4.199999999999999\" transform=\"translate(0,301.99)\" style=\"font-family: 'Open Sans', verdana, arial, sans-serif; font-size: 12px; fill: rgb(214, 223, 239); fill-opacity: 1; white-space: pre; opacity: 1;\">30k</text></g><g class=\"ytick\"><text text-anchor=\"end\" x=\"39\" y=\"4.199999999999999\" style=\"font-family: 'Open Sans', verdana, arial, sans-serif; font-size: 12px; fill: rgb(214, 223, 239); fill-opacity: 1; white-space: pre; opacity: 1;\" transform=\"translate(0,237.42)\">40k</text></g><g class=\"ytick\"><text text-anchor=\"end\" x=\"39\" y=\"4.199999999999999\" style=\"font-family: 'Open Sans', verdana, arial, sans-serif; font-size: 12px; fill: rgb(214, 223, 239); fill-opacity: 1; white-space: pre; opacity: 1;\" transform=\"translate(0,172.86)\">50k</text></g><g class=\"ytick\"><text text-anchor=\"end\" x=\"39\" y=\"4.199999999999999\" style=\"font-family: 'Open Sans', verdana, arial, sans-serif; font-size: 12px; fill: rgb(214, 223, 239); fill-opacity: 1; white-space: pre; opacity: 1;\" transform=\"translate(0,108.28999999999999)\">60k</text></g></g><g class=\"overaxes-above\"/></g></g><g class=\"polarlayer\"/><g class=\"smithlayer\"/><g class=\"ternarylayer\"/><g class=\"geolayer\"/><g class=\"funnelarealayer\"/><g class=\"pielayer\"/><g class=\"iciclelayer\"/><g class=\"treemaplayer\"/><g class=\"sunburstlayer\"/><g class=\"glimages\"/><defs id=\"topdefs-13509b\"><g class=\"clips\"/><clipPath id=\"legend13509b\"><rect width=\"302\" height=\"29\" x=\"0\" y=\"0\"/></clipPath></defs><g class=\"layer-above\"><g class=\"imagelayer\"/><g class=\"shapelayer\"/></g><g class=\"infolayer\"><g class=\"legend\" pointer-events=\"all\" transform=\"translate(368,11.519999999999996)\"><rect class=\"bg\" shape-rendering=\"crispEdges\" style=\"stroke: rgb(68, 68, 68); stroke-opacity: 1; fill: rgb(33, 34, 44); fill-opacity: 1; stroke-width: 0px;\" width=\"302\" height=\"29\" x=\"0\" y=\"0\"/><g class=\"scrollbox\" transform=\"\" clip-path=\"url(#legend13509b)\"><g class=\"groups\"><g class=\"traces\" transform=\"translate(0,14.5)\" style=\"opacity: 1;\"><text class=\"legendtext\" text-anchor=\"start\" x=\"40\" y=\"4.680000000000001\" style=\"font-family: 'Open Sans', verdana, arial, sans-serif; font-size: 12px; fill: rgb(214, 223, 239); fill-opacity: 1; white-space: pre;\">Entry price</text><g class=\"layers\" style=\"opacity: 1;\"><g class=\"legendfill\"/><g class=\"legendlines\"><path class=\"js-line\" d=\"M5,0h30\" style=\"fill: none; stroke: rgb(31, 119, 180); stroke-opacity: 1; stroke-width: 2px;\"/></g><g class=\"legendsymbols\"><g class=\"legendpoints\"/></g></g><rect class=\"legendtoggle\" x=\"0\" y=\"-9.5\" width=\"108.15625\" height=\"19\" style=\"fill: rgb(0, 0, 0); fill-opacity: 0;\"/></g><g class=\"traces\" transform=\"translate(110.65625,14.5)\" style=\"opacity: 1;\"><text class=\"legendtext\" text-anchor=\"start\" x=\"40\" y=\"4.680000000000001\" style=\"font-family: 'Open Sans', verdana, arial, sans-serif; font-size: 12px; fill: rgb(214, 223, 239); fill-opacity: 1; white-space: pre;\">New Entries</text><g class=\"layers\" style=\"opacity: 1;\"><g class=\"legendfill\"/><g class=\"legendlines\"/><g class=\"legendsymbols\"><g class=\"legendpoints\"><path class=\"scatterpts\" transform=\"translate(20,0)\" d=\"M-4.62,2H4.62L0,-4Z\" style=\"opacity: 1; stroke-width: 1px; fill: rgb(55, 177, 63); fill-opacity: 1; stroke: rgb(38, 123, 44); stroke-opacity: 1;\"/></g></g></g><rect class=\"legendtoggle\" x=\"0\" y=\"-9.5\" width=\"114.390625\" height=\"19\" style=\"fill: rgb(0, 0, 0); fill-opacity: 0;\"/></g><g class=\"traces\" transform=\"translate(227.546875,14.5)\" style=\"opacity: 1;\"><text class=\"legendtext\" text-anchor=\"start\" x=\"40\" y=\"4.680000000000001\" style=\"font-family: 'Open Sans', verdana, arial, sans-serif; font-size: 12px; fill: rgb(214, 223, 239); fill-opacity: 1; white-space: pre;\">Exits</text><g class=\"layers\" style=\"opacity: 1;\"><g class=\"legendfill\"/><g class=\"legendlines\"/><g class=\"legendsymbols\"><g class=\"legendpoints\"><path class=\"scatterpts\" transform=\"translate(20,0)\" d=\"M-4.62,-2H4.62L0,4Z\" style=\"opacity: 1; stroke-width: 1px; fill: rgb(234, 67, 53); fill-opacity: 1; stroke: rgb(181, 31, 18); stroke-opacity: 1;\"/></g></g></g><rect class=\"legendtoggle\" x=\"0\" y=\"-9.5\" width=\"71.46875\" height=\"19\" style=\"fill: rgb(0, 0, 0); fill-opacity: 0;\"/></g></g></g><rect class=\"scrollbar\" rx=\"20\" ry=\"3\" width=\"0\" height=\"0\" style=\"fill: rgb(128, 139, 164); fill-opacity: 1;\" x=\"0\" y=\"0\"/></g><g class=\"g-gtitle\"/><g class=\"g-xtitle\"/><g class=\"g-ytitle\"/></g></svg>"
      ]
     },
     "metadata": {},
     "output_type": "display_data"
    }
   ],
   "source": [
    "ohlcstcx = vbt.OHLCSTCX.run(\n",
    "    entries,\n",
    "    data.get(\"Close\"),\n",
    "    sl_stop=vbt.Default(0.1),\n",
    "    tsl_stop=vbt.Default(0.15),\n",
    "    is_entry_open=False\n",
    ")\n",
    "ohlcstcx.plot(column=(\"BTCUSDT\")).show_svg()"
   ]
  },
  {
   "cell_type": "code",
   "execution_count": 109,
   "id": "04992035-5ab7-47c5-b4c1-468bc22221ce",
   "metadata": {},
   "outputs": [
    {
     "data": {
      "image/svg+xml": [
       "<svg class=\"main-svg\" xmlns=\"http://www.w3.org/2000/svg\" xmlns:xlink=\"http://www.w3.org/1999/xlink\" width=\"700\" height=\"350\" style=\"\" viewBox=\"0 0 700 350\"><rect x=\"0\" y=\"0\" width=\"700\" height=\"350\" style=\"fill: rgb(33, 34, 44); fill-opacity: 1;\"/><defs id=\"defs-75a29b\"><g class=\"clips\"><clipPath id=\"clip75a29bxyplot\" class=\"plotclip\"><rect width=\"631\" height=\"274\"/></clipPath><clipPath class=\"axesclip\" id=\"clip75a29bx\"><rect x=\"39\" y=\"0\" width=\"631\" height=\"350\"/></clipPath><clipPath class=\"axesclip\" id=\"clip75a29by\"><rect x=\"0\" y=\"46\" width=\"700\" height=\"274\"/></clipPath><clipPath class=\"axesclip\" id=\"clip75a29bxy\"><rect x=\"39\" y=\"46\" width=\"631\" height=\"274\"/></clipPath></g><g class=\"gradients\"/><g class=\"patterns\"/></defs><g class=\"bglayer\"/><g class=\"layer-below\"><g class=\"imagelayer\"/><g class=\"shapelayer\"/></g><g class=\"cartesianlayer\"><g class=\"subplot xy\"><g class=\"layer-subplot\"><g class=\"shapelayer\"/><g class=\"imagelayer\"/></g><g class=\"gridlayer\"><g class=\"x\"><path class=\"xgrid crisp\" transform=\"translate(141.86,0)\" d=\"M0,46v274\" style=\"stroke: rgb(47, 62, 78); stroke-opacity: 1; stroke-width: 1px;\"/><path class=\"xgrid crisp\" transform=\"translate(247.32,0)\" d=\"M0,46v274\" style=\"stroke: rgb(47, 62, 78); stroke-opacity: 1; stroke-width: 1px;\"/><path class=\"xgrid crisp\" transform=\"translate(352.77,0)\" d=\"M0,46v274\" style=\"stroke: rgb(47, 62, 78); stroke-opacity: 1; stroke-width: 1px;\"/><path class=\"xgrid crisp\" transform=\"translate(459.95,0)\" d=\"M0,46v274\" style=\"stroke: rgb(47, 62, 78); stroke-opacity: 1; stroke-width: 1px;\"/><path class=\"xgrid crisp\" transform=\"translate(565.41,0)\" d=\"M0,46v274\" style=\"stroke: rgb(47, 62, 78); stroke-opacity: 1; stroke-width: 1px;\"/></g><g class=\"y\"><path class=\"ygrid crisp\" transform=\"translate(0,295.02)\" d=\"M39,0h631\" style=\"stroke: rgb(47, 62, 78); stroke-opacity: 1; stroke-width: 1px;\"/><path class=\"ygrid crisp\" transform=\"translate(0,234.68)\" d=\"M39,0h631\" style=\"stroke: rgb(47, 62, 78); stroke-opacity: 1; stroke-width: 1px;\"/><path class=\"ygrid crisp\" transform=\"translate(0,174.34)\" d=\"M39,0h631\" style=\"stroke: rgb(47, 62, 78); stroke-opacity: 1; stroke-width: 1px;\"/><path class=\"ygrid crisp\" transform=\"translate(0,114)\" d=\"M39,0h631\" style=\"stroke: rgb(47, 62, 78); stroke-opacity: 1; stroke-width: 1px;\"/><path class=\"ygrid crisp\" transform=\"translate(0,53.67)\" d=\"M39,0h631\" style=\"stroke: rgb(47, 62, 78); stroke-opacity: 1; stroke-width: 1px;\"/></g></g><g class=\"zerolinelayer\"/><path class=\"xlines-below\"/><path class=\"ylines-below\"/><g class=\"overlines-below\"/><g class=\"xaxislayer-below\"/><g class=\"yaxislayer-below\"/><g class=\"overaxes-below\"/><g class=\"plot\" transform=\"translate(39,46)\" clip-path=\"url(#clip75a29bxyplot)\"><g class=\"ohlclayer mlayer\"><g class=\"trace ohlc\" style=\"opacity: 0.5;\"><path d=\"M0.35,255.51H0.86M0.86,251.43V257.32M1.38,253.05H0.86\" style=\"fill: none; stroke: rgb(27, 158, 118); stroke-opacity: 1; stroke-width: 2px; opacity: 1;\"/><path d=\"M2.07,253.05H2.59M2.59,229.11V255.37M3.11,235.87H2.59\" style=\"fill: none; stroke: rgb(27, 158, 118); stroke-opacity: 1; stroke-width: 2px; opacity: 1;\"/><path d=\"M3.8,235.88H4.32M4.32,220.19V237.17M4.84,230.92H4.32\" style=\"fill: none; stroke: rgb(27, 158, 118); stroke-opacity: 1; stroke-width: 2px; opacity: 1;\"/><path d=\"M5.53,230.92H6.05M6.05,227.3V260.3M6.57,237.02H6.05\" style=\"fill: none; stroke: rgb(217, 95, 2); stroke-opacity: 1; stroke-width: 2px; opacity: 1;\"/><path d=\"M7.26,237.01H7.78M7.78,222.71V249.62M8.3,225.19H7.78\" style=\"fill: none; stroke: rgb(27, 158, 118); stroke-opacity: 1; stroke-width: 2px; opacity: 1;\"/><path d=\"M8.99,225.19H9.51M9.51,207.15V229.18M10.03,208.17H9.51\" style=\"fill: none; stroke: rgb(27, 158, 118); stroke-opacity: 1; stroke-width: 2px; opacity: 1;\"/><path d=\"M10.72,208.17H11.24M11.24,186.48V211M11.76,192.1H11.24\" style=\"fill: none; stroke: rgb(27, 158, 118); stroke-opacity: 1; stroke-width: 2px; opacity: 1;\"/><path d=\"M12.45,192.1H12.97M12.97,176.91V209.8M13.48,185.16H12.97\" style=\"fill: none; stroke: rgb(27, 158, 118); stroke-opacity: 1; stroke-width: 2px; opacity: 1;\"/><path d=\"M14.18,185.14H14.69M14.69,180.35V196.4M15.21,188.15H14.69\" style=\"fill: none; stroke: rgb(217, 95, 2); stroke-opacity: 1; stroke-width: 2px; opacity: 1;\"/><path d=\"M15.9,188.15H16.42M16.42,180.53V218.18M16.94,199.84H16.42\" style=\"fill: none; stroke: rgb(217, 95, 2); stroke-opacity: 1; stroke-width: 2px; opacity: 1;\"/><path d=\"M17.63,199.84H18.15M18.15,199.15V246.48M18.67,216.41H18.15\" style=\"fill: none; stroke: rgb(217, 95, 2); stroke-opacity: 1; stroke-width: 2px; opacity: 1;\"/><path d=\"M19.36,216.37H19.88M19.88,209.03V233.75M20.4,224.57H19.88\" style=\"fill: none; stroke: rgb(217, 95, 2); stroke-opacity: 1; stroke-width: 2px; opacity: 1;\"/><path d=\"M21.09,224.59H21.61M21.61,201.65V234.66M22.13,204.54H21.61\" style=\"fill: none; stroke: rgb(27, 158, 118); stroke-opacity: 1; stroke-width: 2px; opacity: 1;\"/><path d=\"M22.82,204.54H23.34M23.34,188.08V208.58M23.86,193.84H23.34\" style=\"fill: none; stroke: rgb(27, 158, 118); stroke-opacity: 1; stroke-width: 2px; opacity: 1;\"/><path d=\"M24.55,193.84H25.07M25.07,190.2V222.42M25.59,208.34H25.07\" style=\"fill: none; stroke: rgb(217, 95, 2); stroke-opacity: 1; stroke-width: 2px; opacity: 1;\"/><path d=\"M26.28,208.36H26.8M26.8,201.05V216.69M27.31,212.84H26.8\" style=\"fill: none; stroke: rgb(217, 95, 2); stroke-opacity: 1; stroke-width: 2px; opacity: 1;\"/><path d=\"M28.01,212.84H28.52M28.52,207.67V225.79M29.04,213.85H28.52\" style=\"fill: none; stroke: rgb(217, 95, 2); stroke-opacity: 1; stroke-width: 2px; opacity: 1;\"/><path d=\"M29.73,213.87H30.25M30.25,203.95V220.05M30.77,209.01H30.25\" style=\"fill: none; stroke: rgb(27, 158, 118); stroke-opacity: 1; stroke-width: 2px; opacity: 1;\"/><path d=\"M31.46,209.06H31.98M31.98,201.65V213.76M32.5,213.47H31.98\" style=\"fill: none; stroke: rgb(217, 95, 2); stroke-opacity: 1; stroke-width: 2px; opacity: 1;\"/><path d=\"M33.19,213.41H33.71M33.71,210.31V228.5M34.23,216.02H33.71\" style=\"fill: none; stroke: rgb(217, 95, 2); stroke-opacity: 1; stroke-width: 2px; opacity: 1;\"/><path d=\"M34.92,216.02H35.44M35.44,215.23V248.59M35.96,243.89H35.44\" style=\"fill: none; stroke: rgb(217, 95, 2); stroke-opacity: 1; stroke-width: 2px; opacity: 1;\"/><path d=\"M36.65,243.88H37.17M37.17,225.93V255.96M37.69,231.25H37.17\" style=\"fill: none; stroke: rgb(27, 158, 118); stroke-opacity: 1; stroke-width: 2px; opacity: 1;\"/><path d=\"M38.38,231.22H38.9M38.9,228.16V240.63M39.42,236.48H38.9\" style=\"fill: none; stroke: rgb(217, 95, 2); stroke-opacity: 1; stroke-width: 2px; opacity: 1;\"/><path d=\"M40.11,236.48H40.63M40.63,230.49V243.59M41.14,235.38H40.63\" style=\"fill: none; stroke: rgb(27, 158, 118); stroke-opacity: 1; stroke-width: 2px; opacity: 1;\"/><path d=\"M41.84,235.38H42.35M42.35,219.6V237.49M42.87,235.42H42.35\" style=\"fill: none; stroke: rgb(217, 95, 2); stroke-opacity: 1; stroke-width: 2px; opacity: 1;\"/><path d=\"M43.56,235.42H44.08M44.08,231.39V243.96M44.6,234.13H44.08\" style=\"fill: none; stroke: rgb(27, 158, 118); stroke-opacity: 1; stroke-width: 2px; opacity: 1;\"/><path d=\"M45.29,234.15H45.81M45.81,233.59V253.59M46.33,246.81H45.81\" style=\"fill: none; stroke: rgb(217, 95, 2); stroke-opacity: 1; stroke-width: 2px; opacity: 1;\"/><path d=\"M47.02,246.83H47.54M47.54,226.19V249.97M48.06,228.71H47.54\" style=\"fill: none; stroke: rgb(27, 158, 118); stroke-opacity: 1; stroke-width: 2px; opacity: 1;\"/><path d=\"M48.75,228.69H49.27M49.27,197.54V237.46M49.79,223.36H49.27\" style=\"fill: none; stroke: rgb(27, 158, 118); stroke-opacity: 1; stroke-width: 2px; opacity: 1;\"/><path d=\"M50.48,223.4H51M51,219.25V231.97M51.52,223.3H51\" style=\"fill: none; stroke: rgb(27, 158, 118); stroke-opacity: 1; stroke-width: 2px; opacity: 1;\"/><path d=\"M52.21,223.3H52.73M52.73,222.81V235.91M53.25,230.35H52.73\" style=\"fill: none; stroke: rgb(217, 95, 2); stroke-opacity: 1; stroke-width: 2px; opacity: 1;\"/><path d=\"M53.94,230.35H54.46M54.46,220.55V235.16M54.97,227.74H54.46\" style=\"fill: none; stroke: rgb(27, 158, 118); stroke-opacity: 1; stroke-width: 2px; opacity: 1;\"/><path d=\"M55.67,227.8H56.18M56.18,212.91V228.39M56.7,216.03H56.18\" style=\"fill: none; stroke: rgb(27, 158, 118); stroke-opacity: 1; stroke-width: 2px; opacity: 1;\"/><path d=\"M57.4,216H57.91M57.91,202.78V216.66M58.43,203.05H57.91\" style=\"fill: none; stroke: rgb(27, 158, 118); stroke-opacity: 1; stroke-width: 2px; opacity: 1;\"/><path d=\"M59.12,203.04H59.64M59.64,196.47V211.84M60.16,207.16H59.64\" style=\"fill: none; stroke: rgb(217, 95, 2); stroke-opacity: 1; stroke-width: 2px; opacity: 1;\"/><path d=\"M60.85,207.16H61.37M61.37,198.88V209.38M61.89,199H61.37\" style=\"fill: none; stroke: rgb(27, 158, 118); stroke-opacity: 1; stroke-width: 2px; opacity: 1;\"/><path d=\"M62.58,199H63.1M63.1,182.91V199.44M63.62,193.59H63.1\" style=\"fill: none; stroke: rgb(27, 158, 118); stroke-opacity: 1; stroke-width: 2px; opacity: 1;\"/><path d=\"M64.31,193.62H64.83M64.83,190.49V204.66M65.35,195.95H64.83\" style=\"fill: none; stroke: rgb(217, 95, 2); stroke-opacity: 1; stroke-width: 2px; opacity: 1;\"/><path d=\"M66.04,195.95H66.56M66.56,147.68V200.81M67.08,150.21H66.56\" style=\"fill: none; stroke: rgb(27, 158, 118); stroke-opacity: 1; stroke-width: 2px; opacity: 1;\"/><path d=\"M67.77,150.21H68.29M68.29,139.55V158.75M68.8,149.94H68.29\" style=\"fill: none; stroke: rgb(27, 158, 118); stroke-opacity: 1; stroke-width: 2px; opacity: 1;\"/><path d=\"M69.5,149.94H70.02M70.02,144.57V166.19M70.53,159.67H70.02\" style=\"fill: none; stroke: rgb(217, 95, 2); stroke-opacity: 1; stroke-width: 2px; opacity: 1;\"/><path d=\"M71.23,159.67H71.74M71.74,136.31V164.58M72.26,140.59H71.74\" style=\"fill: none; stroke: rgb(27, 158, 118); stroke-opacity: 1; stroke-width: 2px; opacity: 1;\"/><path d=\"M72.95,140.6H73.47M73.47,134.46V151.72M73.99,144.71H73.47\" style=\"fill: none; stroke: rgb(217, 95, 2); stroke-opacity: 1; stroke-width: 2px; opacity: 1;\"/><path d=\"M74.68,144.64H75.2M75.2,139.5V151.25M75.72,145.52H75.2\" style=\"fill: none; stroke: rgb(217, 95, 2); stroke-opacity: 1; stroke-width: 2px; opacity: 1;\"/><path d=\"M76.41,145.5H76.93M76.93,130.11V146.36M77.45,136.92H76.93\" style=\"fill: none; stroke: rgb(27, 158, 118); stroke-opacity: 1; stroke-width: 2px; opacity: 1;\"/><path d=\"M78.14,136.91H78.66M78.66,134.31V155.07M79.18,140.95H78.66\" style=\"fill: none; stroke: rgb(217, 95, 2); stroke-opacity: 1; stroke-width: 2px; opacity: 1;\"/><path d=\"M79.87,140.95H80.39M80.39,124.18V146.42M80.91,133.57H80.39\" style=\"fill: none; stroke: rgb(27, 158, 118); stroke-opacity: 1; stroke-width: 2px; opacity: 1;\"/><path d=\"M81.6,133.57H82.12M82.12,112.54V134.7M82.64,115.55H82.12\" style=\"fill: none; stroke: rgb(27, 158, 118); stroke-opacity: 1; stroke-width: 2px; opacity: 1;\"/><path d=\"M83.33,115.56H83.85M83.85,113.08V122.9M84.36,118.97H83.85\" style=\"fill: none; stroke: rgb(217, 95, 2); stroke-opacity: 1; stroke-width: 2px; opacity: 1;\"/><path d=\"M85.06,118.97H85.57M85.57,89.92V124.06M86.09,92.71H85.57\" style=\"fill: none; stroke: rgb(27, 158, 118); stroke-opacity: 1; stroke-width: 2px; opacity: 1;\"/><path d=\"M86.78,92.71H87.3M87.3,81.88V105.03M87.82,93.1H87.3\" style=\"fill: none; stroke: rgb(217, 95, 2); stroke-opacity: 1; stroke-width: 2px; opacity: 1;\"/><path d=\"M88.51,93.1H89.03M89.03,77.94V95.29M89.55,83.64H89.03\" style=\"fill: none; stroke: rgb(27, 158, 118); stroke-opacity: 1; stroke-width: 2px; opacity: 1;\"/><path d=\"M90.24,83.62H90.76M90.76,83.04V142.69M91.28,103.68H90.76\" style=\"fill: none; stroke: rgb(217, 95, 2); stroke-opacity: 1; stroke-width: 2px; opacity: 1;\"/><path d=\"M91.97,103.68H92.49M92.49,103.1V159.16M93.01,135.03H92.49\" style=\"fill: none; stroke: rgb(217, 95, 2); stroke-opacity: 1; stroke-width: 2px; opacity: 1;\"/><path d=\"M93.7,135.03H94.22M94.22,120.05V146.51M94.74,130.3H94.22\" style=\"fill: none; stroke: rgb(27, 158, 118); stroke-opacity: 1; stroke-width: 2px; opacity: 1;\"/><path d=\"M95.43,130.3H95.95M95.95,116.02V148.41M96.47,146H95.95\" style=\"fill: none; stroke: rgb(217, 95, 2); stroke-opacity: 1; stroke-width: 2px; opacity: 1;\"/><path d=\"M97.16,146H97.68M97.68,137.85V163.9M98.19,150.81H97.68\" style=\"fill: none; stroke: rgb(217, 95, 2); stroke-opacity: 1; stroke-width: 2px; opacity: 1;\"/><path d=\"M98.89,150.81H99.4M99.4,138.03V158.51M99.92,151.83H99.4\" style=\"fill: none; stroke: rgb(217, 95, 2); stroke-opacity: 1; stroke-width: 2px; opacity: 1;\"/><path d=\"M100.61,151.85H101.13M101.13,148.62V170.58M101.65,157.69H101.13\" style=\"fill: none; stroke: rgb(217, 95, 2); stroke-opacity: 1; stroke-width: 2px; opacity: 1;\"/><path d=\"M102.34,157.7H102.86M102.86,129.61V158.81M103.38,130.83H102.86\" style=\"fill: none; stroke: rgb(27, 158, 118); stroke-opacity: 1; stroke-width: 2px; opacity: 1;\"/><path d=\"M104.07,130.78H104.59M104.59,127.13V146.16M105.11,137.75H104.59\" style=\"fill: none; stroke: rgb(217, 95, 2); stroke-opacity: 1; stroke-width: 2px; opacity: 1;\"/><path d=\"M105.8,137.77H106.32M106.32,112.41V139.8M106.84,126.23H106.32\" style=\"fill: none; stroke: rgb(27, 158, 118); stroke-opacity: 1; stroke-width: 2px; opacity: 1;\"/><path d=\"M107.53,126.23H108.05M108.05,117.64V143.43M108.57,138.15H108.05\" style=\"fill: none; stroke: rgb(217, 95, 2); stroke-opacity: 1; stroke-width: 2px; opacity: 1;\"/><path d=\"M109.26,138.15H109.78M109.78,131.67V150.67M110.3,135.87H109.78\" style=\"fill: none; stroke: rgb(27, 158, 118); stroke-opacity: 1; stroke-width: 2px; opacity: 1;\"/><path d=\"M110.99,135.9H111.51M111.51,133.17V146.02M112.02,135.09H111.51\" style=\"fill: none; stroke: rgb(27, 158, 118); stroke-opacity: 1; stroke-width: 2px; opacity: 1;\"/><path d=\"M112.72,135.09H113.23M113.23,119.59V135.09M113.75,122.48H113.23\" style=\"fill: none; stroke: rgb(27, 158, 118); stroke-opacity: 1; stroke-width: 2px; opacity: 1;\"/><path d=\"M114.44,122.55H114.96M114.96,113.84V132.72M115.48,114.01H114.96\" style=\"fill: none; stroke: rgb(27, 158, 118); stroke-opacity: 1; stroke-width: 2px; opacity: 1;\"/><path d=\"M116.17,114.01H116.69M116.69,98.81V117.54M117.21,98.87H116.69\" style=\"fill: none; stroke: rgb(27, 158, 118); stroke-opacity: 1; stroke-width: 2px; opacity: 1;\"/><path d=\"M117.9,98.93H118.42M118.42,83.77V110.21M118.94,93.03H118.42\" style=\"fill: none; stroke: rgb(27, 158, 118); stroke-opacity: 1; stroke-width: 2px; opacity: 1;\"/><path d=\"M119.63,93.03H120.15M120.15,79.17V102.56M120.67,81.44H120.15\" style=\"fill: none; stroke: rgb(27, 158, 118); stroke-opacity: 1; stroke-width: 2px; opacity: 1;\"/><path d=\"M121.36,81.44H121.88M121.88,79.58V98.4M122.4,84.77H121.88\" style=\"fill: none; stroke: rgb(217, 95, 2); stroke-opacity: 1; stroke-width: 2px; opacity: 1;\"/><path d=\"M123.09,84.77H123.61M123.61,56.88V91.67M124.13,60.83H123.61\" style=\"fill: none; stroke: rgb(27, 158, 118); stroke-opacity: 1; stroke-width: 2px; opacity: 1;\"/><path d=\"M124.82,60.83H125.34M125.34,57.6V74.24M125.85,74.23H125.34\" style=\"fill: none; stroke: rgb(217, 95, 2); stroke-opacity: 1; stroke-width: 2px; opacity: 1;\"/><path d=\"M126.55,74.18H127.06M127.06,64.18V100.59M127.58,94.52H127.06\" style=\"fill: none; stroke: rgb(217, 95, 2); stroke-opacity: 1; stroke-width: 2px; opacity: 1;\"/><path d=\"M128.27,94.52H128.79M128.79,86.48V108.6M129.31,86.7H128.79\" style=\"fill: none; stroke: rgb(27, 158, 118); stroke-opacity: 1; stroke-width: 2px; opacity: 1;\"/><path d=\"M130,86.7H130.52M130.52,74.19V103.46M131.04,74.56H130.52\" style=\"fill: none; stroke: rgb(27, 158, 118); stroke-opacity: 1; stroke-width: 2px; opacity: 1;\"/><path d=\"M131.73,74.56H132.25M132.25,67.22V85.97M132.77,82.19H132.25\" style=\"fill: none; stroke: rgb(217, 95, 2); stroke-opacity: 1; stroke-width: 2px; opacity: 1;\"/><path d=\"M133.46,82.24H133.98M133.98,71.21V90.51M134.5,79.89H133.98\" style=\"fill: none; stroke: rgb(27, 158, 118); stroke-opacity: 1; stroke-width: 2px; opacity: 1;\"/><path d=\"M135.19,79.89H135.71M135.71,68.73V81.16M136.23,79.45H135.71\" style=\"fill: none; stroke: rgb(27, 158, 118); stroke-opacity: 1; stroke-width: 2px; opacity: 1;\"/><path d=\"M136.92,79.47H137.44M137.44,76.52V95.46M137.96,83.98H137.44\" style=\"fill: none; stroke: rgb(217, 95, 2); stroke-opacity: 1; stroke-width: 2px; opacity: 1;\"/><path d=\"M138.65,83.98H139.17M139.17,77.47V106.32M139.68,103.7H139.17\" style=\"fill: none; stroke: rgb(217, 95, 2); stroke-opacity: 1; stroke-width: 2px; opacity: 1;\"/><path d=\"M140.38,103.7H140.89M140.89,93.16V110.24M141.41,102.15H140.89\" style=\"fill: none; stroke: rgb(27, 158, 118); stroke-opacity: 1; stroke-width: 2px; opacity: 1;\"/><path d=\"M142.1,102.14H142.62M142.62,84.9V118.08M143.14,114.44H142.62\" style=\"fill: none; stroke: rgb(217, 95, 2); stroke-opacity: 1; stroke-width: 2px; opacity: 1;\"/><path d=\"M143.83,114.44H144.35M144.35,108.51V125.76M144.87,120.54H144.35\" style=\"fill: none; stroke: rgb(217, 95, 2); stroke-opacity: 1; stroke-width: 2px; opacity: 1;\"/><path d=\"M145.56,120.54H146.08M146.08,97.73V121.01M146.6,98.02H146.08\" style=\"fill: none; stroke: rgb(27, 158, 118); stroke-opacity: 1; stroke-width: 2px; opacity: 1;\"/><path d=\"M147.29,98.02H147.81M147.81,87.91V104.51M148.33,93.24H147.81\" style=\"fill: none; stroke: rgb(27, 158, 118); stroke-opacity: 1; stroke-width: 2px; opacity: 1;\"/><path d=\"M149.02,93.24H149.54M149.54,88.76V100.03M150.06,93.48H149.54\" style=\"fill: none; stroke: rgb(217, 95, 2); stroke-opacity: 1; stroke-width: 2px; opacity: 1;\"/><path d=\"M150.75,93.48H151.27M151.27,77.62V99.38M151.79,82.27H151.27\" style=\"fill: none; stroke: rgb(27, 158, 118); stroke-opacity: 1; stroke-width: 2px; opacity: 1;\"/><path d=\"M152.48,82.27H153M153,71.82V85.67M153.51,75.57H153\" style=\"fill: none; stroke: rgb(27, 158, 118); stroke-opacity: 1; stroke-width: 2px; opacity: 1;\"/><path d=\"M154.21,75.57H154.72M154.72,69.21V87.5M155.24,75.6H154.72\" style=\"fill: none; stroke: rgb(217, 95, 2); stroke-opacity: 1; stroke-width: 2px; opacity: 1;\"/><path d=\"M155.93,75.61H156.45M156.45,71.08V80.46M156.97,75.72H156.45\" style=\"fill: none; stroke: rgb(217, 95, 2); stroke-opacity: 1; stroke-width: 2px; opacity: 1;\"/><path d=\"M157.66,75.72H158.18M158.18,66.8V77.49M158.7,74.34H158.18\" style=\"fill: none; stroke: rgb(27, 158, 118); stroke-opacity: 1; stroke-width: 2px; opacity: 1;\"/><path d=\"M159.39,74.34H159.91M159.91,69.26V86.83M160.43,85.79H159.91\" style=\"fill: none; stroke: rgb(217, 95, 2); stroke-opacity: 1; stroke-width: 2px; opacity: 1;\"/><path d=\"M161.12,85.79H161.64M161.64,77.1V89.8M162.16,78.85H161.64\" style=\"fill: none; stroke: rgb(27, 158, 118); stroke-opacity: 1; stroke-width: 2px; opacity: 1;\"/><path d=\"M162.85,78.85H163.37M163.37,72.4V87.45M163.89,73.25H163.37\" style=\"fill: none; stroke: rgb(27, 158, 118); stroke-opacity: 1; stroke-width: 2px; opacity: 1;\"/><path d=\"M164.58,73.25H165.1M165.1,71.05V83.61M165.62,80.12H165.1\" style=\"fill: none; stroke: rgb(217, 95, 2); stroke-opacity: 1; stroke-width: 2px; opacity: 1;\"/><path d=\"M166.31,80.13H166.83M166.83,76.12V95.32M167.34,92.42H166.83\" style=\"fill: none; stroke: rgb(217, 95, 2); stroke-opacity: 1; stroke-width: 2px; opacity: 1;\"/><path d=\"M168.04,92.42H168.55M168.55,79.15V93.95M169.07,79.6H168.55\" style=\"fill: none; stroke: rgb(27, 158, 118); stroke-opacity: 1; stroke-width: 2px; opacity: 1;\"/><path d=\"M169.76,79.6H170.28M170.28,74.67V82.16M170.8,79.21H170.28\" style=\"fill: none; stroke: rgb(27, 158, 118); stroke-opacity: 1; stroke-width: 2px; opacity: 1;\"/><path d=\"M171.49,79.21H172.01M172.01,58.95V80.67M172.53,69.4H172.01\" style=\"fill: none; stroke: rgb(27, 158, 118); stroke-opacity: 1; stroke-width: 2px; opacity: 1;\"/><path d=\"M173.22,69.4H173.74M173.74,63.79V72.63M174.26,67.99H173.74\" style=\"fill: none; stroke: rgb(27, 158, 118); stroke-opacity: 1; stroke-width: 2px; opacity: 1;\"/><path d=\"M174.95,68.01H175.47M175.47,60.16V71.92M175.99,68.85H175.47\" style=\"fill: none; stroke: rgb(217, 95, 2); stroke-opacity: 1; stroke-width: 2px; opacity: 1;\"/><path d=\"M176.68,68.85H177.2M177.2,45.21V69.18M177.72,46.43H177.2\" style=\"fill: none; stroke: rgb(27, 158, 118); stroke-opacity: 1; stroke-width: 2px; opacity: 1;\"/><path d=\"M178.41,46.43H178.93M178.93,38.72V60.15M179.45,50.15H178.93\" style=\"fill: none; stroke: rgb(217, 95, 2); stroke-opacity: 1; stroke-width: 2px; opacity: 1;\"/><path d=\"M180.14,50.15H180.66M180.66,45.08V55.82M181.17,48.94H180.66\" style=\"fill: none; stroke: rgb(27, 158, 118); stroke-opacity: 1; stroke-width: 2px; opacity: 1;\"/><path d=\"M181.87,48.94H182.38M182.38,46.76V68M182.9,59.95H182.38\" style=\"fill: none; stroke: rgb(217, 95, 2); stroke-opacity: 1; stroke-width: 2px; opacity: 1;\"/><path d=\"M183.6,59.95H184.11M184.11,52.88V70.53M184.63,67.96H184.11\" style=\"fill: none; stroke: rgb(217, 95, 2); stroke-opacity: 1; stroke-width: 2px; opacity: 1;\"/><path d=\"M185.32,67.96H185.84M185.84,64.99V122.72M186.36,91.23H185.84\" style=\"fill: none; stroke: rgb(217, 95, 2); stroke-opacity: 1; stroke-width: 2px; opacity: 1;\"/><path d=\"M187.05,91.23H187.57M187.57,82.93V102.87M188.09,94.35H187.57\" style=\"fill: none; stroke: rgb(217, 95, 2); stroke-opacity: 1; stroke-width: 2px; opacity: 1;\"/><path d=\"M188.78,94.35H189.3M189.3,85.65V108.25M189.82,89.57H189.3\" style=\"fill: none; stroke: rgb(27, 158, 118); stroke-opacity: 1; stroke-width: 2px; opacity: 1;\"/><path d=\"M190.51,89.57H191.03M191.03,87.57V107.01M191.55,105.49H191.03\" style=\"fill: none; stroke: rgb(217, 95, 2); stroke-opacity: 1; stroke-width: 2px; opacity: 1;\"/><path d=\"M192.24,105.49H192.76M192.76,95.03V125.32M193.28,118.14H192.76\" style=\"fill: none; stroke: rgb(217, 95, 2); stroke-opacity: 1; stroke-width: 2px; opacity: 1;\"/><path d=\"M193.97,118.14H194.49M194.49,115.48V143.43M195,121.55H194.49\" style=\"fill: none; stroke: rgb(217, 95, 2); stroke-opacity: 1; stroke-width: 2px; opacity: 1;\"/><path d=\"M195.7,121.64H196.22M196.22,121.3V136.44M196.73,128.05H196.22\" style=\"fill: none; stroke: rgb(217, 95, 2); stroke-opacity: 1; stroke-width: 2px; opacity: 1;\"/><path d=\"M197.43,128.05H197.94M197.94,124.91V146.87M198.46,133.97H197.94\" style=\"fill: none; stroke: rgb(217, 95, 2); stroke-opacity: 1; stroke-width: 2px; opacity: 1;\"/><path d=\"M199.15,133.97H199.67M199.67,102.05V135.86M200.19,104.2H199.67\" style=\"fill: none; stroke: rgb(27, 158, 118); stroke-opacity: 1; stroke-width: 2px; opacity: 1;\"/><path d=\"M200.88,104.2H201.4M201.4,95.4V108.9M201.92,98.1H201.4\" style=\"fill: none; stroke: rgb(27, 158, 118); stroke-opacity: 1; stroke-width: 2px; opacity: 1;\"/><path d=\"M202.61,98.1H203.13M203.13,89.56V105.33M203.65,99.1H203.13\" style=\"fill: none; stroke: rgb(217, 95, 2); stroke-opacity: 1; stroke-width: 2px; opacity: 1;\"/><path d=\"M204.34,99.1H204.86M204.86,96.99V114.28M205.38,106.89H204.86\" style=\"fill: none; stroke: rgb(217, 95, 2); stroke-opacity: 1; stroke-width: 2px; opacity: 1;\"/><path d=\"M206.07,106.89H206.59M206.59,80.29V110.16M207.11,81.92H206.59\" style=\"fill: none; stroke: rgb(27, 158, 118); stroke-opacity: 1; stroke-width: 2px; opacity: 1;\"/><path d=\"M207.8,81.9H208.32M208.32,77.31V86.37M208.84,81.28H208.32\" style=\"fill: none; stroke: rgb(27, 158, 118); stroke-opacity: 1; stroke-width: 2px; opacity: 1;\"/><path d=\"M209.53,81.29H210.05M210.05,80.61V91.93M210.56,88.65H210.05\" style=\"fill: none; stroke: rgb(217, 95, 2); stroke-opacity: 1; stroke-width: 2px; opacity: 1;\"/><path d=\"M211.26,88.65H211.77M211.77,74.15V89.51M212.29,85.08H211.77\" style=\"fill: none; stroke: rgb(27, 158, 118); stroke-opacity: 1; stroke-width: 2px; opacity: 1;\"/><path d=\"M212.98,85.08H213.5M213.5,84.9V109.96M214.02,109.03H213.5\" style=\"fill: none; stroke: rgb(217, 95, 2); stroke-opacity: 1; stroke-width: 2px; opacity: 1;\"/><path d=\"M214.71,109H215.23M215.23,79.65V110.84M215.75,83.47H215.23\" style=\"fill: none; stroke: rgb(27, 158, 118); stroke-opacity: 1; stroke-width: 2px; opacity: 1;\"/><path d=\"M216.44,83.47H216.96M216.96,77.9V96.97M217.48,89.76H216.96\" style=\"fill: none; stroke: rgb(217, 95, 2); stroke-opacity: 1; stroke-width: 2px; opacity: 1;\"/><path d=\"M218.17,89.76H218.69M218.69,76.15V96.71M219.21,84.21H218.69\" style=\"fill: none; stroke: rgb(27, 158, 118); stroke-opacity: 1; stroke-width: 2px; opacity: 1;\"/><path d=\"M219.9,84.2H220.42M220.42,71.02V86.71M220.94,74.87H220.42\" style=\"fill: none; stroke: rgb(27, 158, 118); stroke-opacity: 1; stroke-width: 2px; opacity: 1;\"/><path d=\"M221.63,74.84H222.15M222.15,72.23V90.72M222.67,78.62H222.15\" style=\"fill: none; stroke: rgb(217, 95, 2); stroke-opacity: 1; stroke-width: 2px; opacity: 1;\"/><path d=\"M223.36,78.62H223.88M223.88,71.02V107.83M224.39,93.25H223.88\" style=\"fill: none; stroke: rgb(217, 95, 2); stroke-opacity: 1; stroke-width: 2px; opacity: 1;\"/><path d=\"M225.09,93.25H225.6M225.6,86.94V101.97M226.12,88.1H225.6\" style=\"fill: none; stroke: rgb(27, 158, 118); stroke-opacity: 1; stroke-width: 2px; opacity: 1;\"/><path d=\"M226.81,88.1H227.33M227.33,80.07V136.79M227.85,130.57H227.33\" style=\"fill: none; stroke: rgb(217, 95, 2); stroke-opacity: 1; stroke-width: 2px; opacity: 1;\"/><path d=\"M228.54,131.13H229.06M229.06,120.09V152.48M229.58,130.33H229.06\" style=\"fill: none; stroke: rgb(27, 158, 118); stroke-opacity: 1; stroke-width: 2px; opacity: 1;\"/><path d=\"M230.27,130.32H230.79M230.79,119.39V135.58M231.31,129.3H230.79\" style=\"fill: none; stroke: rgb(27, 158, 118); stroke-opacity: 1; stroke-width: 2px; opacity: 1;\"/><path d=\"M232,129.28H232.52M232.52,124.12V149.13M233.04,147.87H232.52\" style=\"fill: none; stroke: rgb(217, 95, 2); stroke-opacity: 1; stroke-width: 2px; opacity: 1;\"/><path d=\"M233.73,147.87H234.25M234.25,129.57V165.6M234.77,149.87H234.25\" style=\"fill: none; stroke: rgb(217, 95, 2); stroke-opacity: 1; stroke-width: 2px; opacity: 1;\"/><path d=\"M235.46,149.9H235.98M235.98,148.34V176.61M236.5,167.33H235.98\" style=\"fill: none; stroke: rgb(217, 95, 2); stroke-opacity: 1; stroke-width: 2px; opacity: 1;\"/><path d=\"M237.19,167.33H237.71M237.71,153.69V175.1M238.22,171.48H237.71\" style=\"fill: none; stroke: rgb(217, 95, 2); stroke-opacity: 1; stroke-width: 2px; opacity: 1;\"/><path d=\"M238.92,171.48H239.43M239.43,167.05V249.02M239.95,208.65H239.43\" style=\"fill: none; stroke: rgb(217, 95, 2); stroke-opacity: 1; stroke-width: 2px; opacity: 1;\"/><path d=\"M240.64,208.76H241.16M241.16,173.89V219.75M241.68,185.5H241.16\" style=\"fill: none; stroke: rgb(27, 158, 118); stroke-opacity: 1; stroke-width: 2px; opacity: 1;\"/><path d=\"M242.37,185.51H242.89M242.89,175.4V227.97M243.41,205.26H242.89\" style=\"fill: none; stroke: rgb(217, 95, 2); stroke-opacity: 1; stroke-width: 2px; opacity: 1;\"/><path d=\"M244.1,205.19H244.62M244.62,195.74V217.64M245.14,204.07H244.62\" style=\"fill: none; stroke: rgb(27, 158, 118); stroke-opacity: 1; stroke-width: 2px; opacity: 1;\"/><path d=\"M245.83,204.01H246.35M246.35,199.11V242.31M246.87,220.93H246.35\" style=\"fill: none; stroke: rgb(217, 95, 2); stroke-opacity: 1; stroke-width: 2px; opacity: 1;\"/><path d=\"M247.56,220.77H248.08M248.08,189.16V224.69M248.6,195.94H248.08\" style=\"fill: none; stroke: rgb(27, 158, 118); stroke-opacity: 1; stroke-width: 2px; opacity: 1;\"/><path d=\"M249.29,195.85H249.81M249.81,189.94V210.28M250.33,198.79H249.81\" style=\"fill: none; stroke: rgb(217, 95, 2); stroke-opacity: 1; stroke-width: 2px; opacity: 1;\"/><path d=\"M251.02,198.79H251.54M251.54,183.6V201.95M252.05,193.25H251.54\" style=\"fill: none; stroke: rgb(27, 158, 118); stroke-opacity: 1; stroke-width: 2px; opacity: 1;\"/><path d=\"M252.75,193.25H253.26M253.26,186.2V205.97M253.78,197.55H253.26\" style=\"fill: none; stroke: rgb(217, 95, 2); stroke-opacity: 1; stroke-width: 2px; opacity: 1;\"/><path d=\"M254.47,197.55H254.99M254.99,195.45V220.75M255.51,214.84H254.99\" style=\"fill: none; stroke: rgb(217, 95, 2); stroke-opacity: 1; stroke-width: 2px; opacity: 1;\"/><path d=\"M256.2,214.85H256.72M256.72,204.74V227.1M257.24,221.23H256.72\" style=\"fill: none; stroke: rgb(217, 95, 2); stroke-opacity: 1; stroke-width: 2px; opacity: 1;\"/><path d=\"M257.93,221.23H258.45M258.45,209.87V228.63M258.97,214.98H258.45\" style=\"fill: none; stroke: rgb(27, 158, 118); stroke-opacity: 1; stroke-width: 2px; opacity: 1;\"/><path d=\"M259.66,214.98H260.18M260.18,203.77V223.95M260.7,205.25H260.18\" style=\"fill: none; stroke: rgb(27, 158, 118); stroke-opacity: 1; stroke-width: 2px; opacity: 1;\"/><path d=\"M261.39,205.25H261.91M261.91,201.38V214.83M262.43,208.63H261.91\" style=\"fill: none; stroke: rgb(217, 95, 2); stroke-opacity: 1; stroke-width: 2px; opacity: 1;\"/><path d=\"M263.12,208.62H263.64M263.64,199.39V213.3M264.16,203.35H263.64\" style=\"fill: none; stroke: rgb(27, 158, 118); stroke-opacity: 1; stroke-width: 2px; opacity: 1;\"/><path d=\"M264.85,203.35H265.37M265.37,191.84V205.75M265.88,193.22H265.37\" style=\"fill: none; stroke: rgb(27, 158, 118); stroke-opacity: 1; stroke-width: 2px; opacity: 1;\"/><path d=\"M266.58,193.22H267.09M267.09,192.97V215.5M267.61,207.81H267.09\" style=\"fill: none; stroke: rgb(217, 95, 2); stroke-opacity: 1; stroke-width: 2px; opacity: 1;\"/><path d=\"M268.3,207.81H268.82M268.82,201.2V220.05M269.34,215.75H268.82\" style=\"fill: none; stroke: rgb(217, 95, 2); stroke-opacity: 1; stroke-width: 2px; opacity: 1;\"/><path d=\"M270.03,215.73H270.55M270.55,209.92V217.51M271.07,214.04H270.55\" style=\"fill: none; stroke: rgb(27, 158, 118); stroke-opacity: 1; stroke-width: 2px; opacity: 1;\"/><path d=\"M271.76,214.04H272.28M272.28,207.38V229.11M272.8,227.58H272.28\" style=\"fill: none; stroke: rgb(217, 95, 2); stroke-opacity: 1; stroke-width: 2px; opacity: 1;\"/><path d=\"M273.49,227.55H274.01M274.01,224.47V242.98M274.53,228.62H274.01\" style=\"fill: none; stroke: rgb(217, 95, 2); stroke-opacity: 1; stroke-width: 2px; opacity: 1;\"/><path d=\"M275.22,228.62H275.74M275.74,203.55V234.56M276.26,204.44H275.74\" style=\"fill: none; stroke: rgb(27, 158, 118); stroke-opacity: 1; stroke-width: 2px; opacity: 1;\"/><path d=\"M276.95,204.44H277.47M277.47,197.78V214.13M277.99,208.74H277.47\" style=\"fill: none; stroke: rgb(217, 95, 2); stroke-opacity: 1; stroke-width: 2px; opacity: 1;\"/><path d=\"M278.68,208.72H279.2M279.2,202.68V213.2M279.71,204.78H279.2\" style=\"fill: none; stroke: rgb(27, 158, 118); stroke-opacity: 1; stroke-width: 2px; opacity: 1;\"/><path d=\"M280.41,204.78H280.92M280.92,203.98V221.26M281.44,215.55H280.92\" style=\"fill: none; stroke: rgb(217, 95, 2); stroke-opacity: 1; stroke-width: 2px; opacity: 1;\"/><path d=\"M282.13,215.55H282.65M282.65,192.42V220.31M283.17,194.59H282.65\" style=\"fill: none; stroke: rgb(27, 158, 118); stroke-opacity: 1; stroke-width: 2px; opacity: 1;\"/><path d=\"M283.86,194.59H284.38M284.38,182.26V196.34M284.9,185.56H284.38\" style=\"fill: none; stroke: rgb(27, 158, 118); stroke-opacity: 1; stroke-width: 2px; opacity: 1;\"/><path d=\"M285.59,185.56H286.11M286.11,180.65V191.66M286.63,187.81H286.11\" style=\"fill: none; stroke: rgb(217, 95, 2); stroke-opacity: 1; stroke-width: 2px; opacity: 1;\"/><path d=\"M287.32,187.81H287.84M287.84,185.5V200.05M288.36,198.64H287.84\" style=\"fill: none; stroke: rgb(217, 95, 2); stroke-opacity: 1; stroke-width: 2px; opacity: 1;\"/><path d=\"M289.05,198.64H289.57M289.57,191.33V204.58M290.09,200.19H289.57\" style=\"fill: none; stroke: rgb(217, 95, 2); stroke-opacity: 1; stroke-width: 2px; opacity: 1;\"/><path d=\"M290.78,200.19H291.3M291.3,199.52V218.07M291.82,213.9H291.3\" style=\"fill: none; stroke: rgb(217, 95, 2); stroke-opacity: 1; stroke-width: 2px; opacity: 1;\"/><path d=\"M292.51,213.9H293.03M293.03,210.06V220.03M293.54,215.93H293.03\" style=\"fill: none; stroke: rgb(217, 95, 2); stroke-opacity: 1; stroke-width: 2px; opacity: 1;\"/><path d=\"M294.24,215.93H294.75M294.75,211.98V228.89M295.27,215.23H294.75\" style=\"fill: none; stroke: rgb(27, 158, 118); stroke-opacity: 1; stroke-width: 2px; opacity: 1;\"/><path d=\"M295.96,215.23H296.48M296.48,214.32V241.47M297,239.31H296.48\" style=\"fill: none; stroke: rgb(217, 95, 2); stroke-opacity: 1; stroke-width: 2px; opacity: 1;\"/><path d=\"M297.69,239.28H298.21M298.21,229.11V256.23M298.73,233.87H298.21\" style=\"fill: none; stroke: rgb(27, 158, 118); stroke-opacity: 1; stroke-width: 2px; opacity: 1;\"/><path d=\"M299.42,233.87H299.94M299.94,219.57V238.86M300.46,226.82H299.94\" style=\"fill: none; stroke: rgb(27, 158, 118); stroke-opacity: 1; stroke-width: 2px; opacity: 1;\"/><path d=\"M301.15,226.84H301.67M301.67,217.05V235.22M302.19,220.88H301.67\" style=\"fill: none; stroke: rgb(27, 158, 118); stroke-opacity: 1; stroke-width: 2px; opacity: 1;\"/><path d=\"M302.88,220.88H303.4M303.4,215.83V241.32M303.92,239.46H303.4\" style=\"fill: none; stroke: rgb(217, 95, 2); stroke-opacity: 1; stroke-width: 2px; opacity: 1;\"/><path d=\"M304.61,239.51H305.13M305.13,232.54V248.11M305.65,235.24H305.13\" style=\"fill: none; stroke: rgb(27, 158, 118); stroke-opacity: 1; stroke-width: 2px; opacity: 1;\"/><path d=\"M306.34,235.24H306.86M306.86,220.36V237.11M307.37,220.66H306.86\" style=\"fill: none; stroke: rgb(27, 158, 118); stroke-opacity: 1; stroke-width: 2px; opacity: 1;\"/><path d=\"M308.07,220.64H308.58M308.58,217.05V225.71M309.1,221.9H308.58\" style=\"fill: none; stroke: rgb(217, 95, 2); stroke-opacity: 1; stroke-width: 2px; opacity: 1;\"/><path d=\"M309.8,221.9H310.31M310.31,209.19V223.52M310.83,213.35H310.31\" style=\"fill: none; stroke: rgb(27, 158, 118); stroke-opacity: 1; stroke-width: 2px; opacity: 1;\"/><path d=\"M311.52,213.35H312.04M312.04,212.21V224.78M312.56,218.58H312.04\" style=\"fill: none; stroke: rgb(217, 95, 2); stroke-opacity: 1; stroke-width: 2px; opacity: 1;\"/><path d=\"M313.25,218.58H313.77M313.77,218.5V232.66M314.29,227.87H313.77\" style=\"fill: none; stroke: rgb(217, 95, 2); stroke-opacity: 1; stroke-width: 2px; opacity: 1;\"/><path d=\"M314.98,227.88H315.5M315.5,225.02V232.73M316.02,226.17H315.5\" style=\"fill: none; stroke: rgb(27, 158, 118); stroke-opacity: 1; stroke-width: 2px; opacity: 1;\"/><path d=\"M316.71,226.17H317.23M317.23,219.18V229M317.75,220.84H317.23\" style=\"fill: none; stroke: rgb(27, 158, 118); stroke-opacity: 1; stroke-width: 2px; opacity: 1;\"/><path d=\"M318.44,220.84H318.96M318.96,213.01V222.73M319.48,217.12H318.96\" style=\"fill: none; stroke: rgb(27, 158, 118); stroke-opacity: 1; stroke-width: 2px; opacity: 1;\"/><path d=\"M320.17,217.11H320.69M320.69,217.08V230.16M321.2,226.75H320.69\" style=\"fill: none; stroke: rgb(217, 95, 2); stroke-opacity: 1; stroke-width: 2px; opacity: 1;\"/><path d=\"M321.9,226.75H322.42M322.42,218.13V227.71M322.93,223.55H322.42\" style=\"fill: none; stroke: rgb(27, 158, 118); stroke-opacity: 1; stroke-width: 2px; opacity: 1;\"/><path d=\"M323.63,223.55H324.14M324.14,218.49V226.22M324.66,225.71H324.14\" style=\"fill: none; stroke: rgb(217, 95, 2); stroke-opacity: 1; stroke-width: 2px; opacity: 1;\"/><path d=\"M325.35,225.71H325.87M325.87,225.31V236.48M326.39,231.67H325.87\" style=\"fill: none; stroke: rgb(217, 95, 2); stroke-opacity: 1; stroke-width: 2px; opacity: 1;\"/><path d=\"M327.08,231.67H327.6M327.6,224.28V235.37M328.12,225.99H327.6\" style=\"fill: none; stroke: rgb(27, 158, 118); stroke-opacity: 1; stroke-width: 2px; opacity: 1;\"/><path d=\"M328.81,225.99H329.33M329.33,223.3V230.89M329.85,227.88H329.33\" style=\"fill: none; stroke: rgb(217, 95, 2); stroke-opacity: 1; stroke-width: 2px; opacity: 1;\"/><path d=\"M330.54,227.88H331.06M331.06,220.86V229.07M331.58,223.32H331.06\" style=\"fill: none; stroke: rgb(27, 158, 118); stroke-opacity: 1; stroke-width: 2px; opacity: 1;\"/><path d=\"M332.27,223.32H332.79M332.79,220.79V232.98M333.31,230.39H332.79\" style=\"fill: none; stroke: rgb(217, 95, 2); stroke-opacity: 1; stroke-width: 2px; opacity: 1;\"/><path d=\"M334,230.39H334.52M334.52,228.86V235.73M335.04,232.55H334.52\" style=\"fill: none; stroke: rgb(217, 95, 2); stroke-opacity: 1; stroke-width: 2px; opacity: 1;\"/><path d=\"M335.73,232.55H336.25M336.25,230.23V239.66M336.76,232H336.25\" style=\"fill: none; stroke: rgb(27, 158, 118); stroke-opacity: 1; stroke-width: 2px; opacity: 1;\"/><path d=\"M337.46,232H337.97M337.97,229.8V242.18M338.49,237.67H337.97\" style=\"fill: none; stroke: rgb(217, 95, 2); stroke-opacity: 1; stroke-width: 2px; opacity: 1;\"/><path d=\"M339.18,237.71H339.7M339.7,235.45V242.86M340.22,240.67H339.7\" style=\"fill: none; stroke: rgb(217, 95, 2); stroke-opacity: 1; stroke-width: 2px; opacity: 1;\"/><path d=\"M340.91,240.67H341.43M341.43,237.22V241.99M341.95,239.85H341.43\" style=\"fill: none; stroke: rgb(27, 158, 118); stroke-opacity: 1; stroke-width: 2px; opacity: 1;\"/><path d=\"M342.64,239.85H343.16M343.16,234.32V242.33M343.68,238.29H343.16\" style=\"fill: none; stroke: rgb(27, 158, 118); stroke-opacity: 1; stroke-width: 2px; opacity: 1;\"/><path d=\"M344.37,238.29H344.89M344.89,237.56V246.56M345.41,243.95H344.89\" style=\"fill: none; stroke: rgb(217, 95, 2); stroke-opacity: 1; stroke-width: 2px; opacity: 1;\"/><path d=\"M346.1,243.95H346.62M346.62,242.6V253.37M347.14,250.28H346.62\" style=\"fill: none; stroke: rgb(217, 95, 2); stroke-opacity: 1; stroke-width: 2px; opacity: 1;\"/><path d=\"M347.83,250.28H348.35M348.35,231.77V252.14M348.87,236.08H348.35\" style=\"fill: none; stroke: rgb(27, 158, 118); stroke-opacity: 1; stroke-width: 2px; opacity: 1;\"/><path d=\"M349.56,236.08H350.08M350.08,233.38V238.71M350.59,235.21H350.08\" style=\"fill: none; stroke: rgb(27, 158, 118); stroke-opacity: 1; stroke-width: 2px; opacity: 1;\"/><path d=\"M351.29,235.21H351.8M351.8,226.99V237.41M352.32,227.09H351.8\" style=\"fill: none; stroke: rgb(27, 158, 118); stroke-opacity: 1; stroke-width: 2px; opacity: 1;\"/><path d=\"M353.01,227.09H353.53M353.53,221.86V228.5M354.05,223.32H353.53\" style=\"fill: none; stroke: rgb(27, 158, 118); stroke-opacity: 1; stroke-width: 2px; opacity: 1;\"/><path d=\"M354.74,223.3H355.26M355.26,216.45V225.78M355.78,216.55H355.26\" style=\"fill: none; stroke: rgb(27, 158, 118); stroke-opacity: 1; stroke-width: 2px; opacity: 1;\"/><path d=\"M356.47,216.55H356.99M356.99,185.36V217.61M357.51,205.35H356.99\" style=\"fill: none; stroke: rgb(27, 158, 118); stroke-opacity: 1; stroke-width: 2px; opacity: 1;\"/><path d=\"M358.2,205.32H358.72M358.72,191.44V210.5M359.24,191.95H358.72\" style=\"fill: none; stroke: rgb(27, 158, 118); stroke-opacity: 1; stroke-width: 2px; opacity: 1;\"/><path d=\"M359.93,191.96H360.45M360.45,183.25V196.09M360.97,188.56H360.45\" style=\"fill: none; stroke: rgb(27, 158, 118); stroke-opacity: 1; stroke-width: 2px; opacity: 1;\"/><path d=\"M361.66,188.56H362.18M362.18,184.82V193.51M362.7,188.58H362.18\" style=\"fill: none; stroke: rgb(217, 95, 2); stroke-opacity: 1; stroke-width: 2px; opacity: 1;\"/><path d=\"M363.39,188.57H363.91M363.91,174.7V198.86M364.42,175.37H363.91\" style=\"fill: none; stroke: rgb(27, 158, 118); stroke-opacity: 1; stroke-width: 2px; opacity: 1;\"/><path d=\"M365.12,175.37H365.63M365.63,173.91V182.64M366.15,179.86H365.63\" style=\"fill: none; stroke: rgb(217, 95, 2); stroke-opacity: 1; stroke-width: 2px; opacity: 1;\"/><path d=\"M366.84,179.86H367.36M367.36,173V192.17M367.88,189.61H367.36\" style=\"fill: none; stroke: rgb(217, 95, 2); stroke-opacity: 1; stroke-width: 2px; opacity: 1;\"/><path d=\"M368.57,189.58H369.09M369.09,185.78V196.58M369.61,193.82H369.09\" style=\"fill: none; stroke: rgb(217, 95, 2); stroke-opacity: 1; stroke-width: 2px; opacity: 1;\"/><path d=\"M370.3,193.83H370.82M370.82,190.01V202.91M371.34,199.5H370.82\" style=\"fill: none; stroke: rgb(217, 95, 2); stroke-opacity: 1; stroke-width: 2px; opacity: 1;\"/><path d=\"M372.03,199.5H372.55M372.55,188.86V203.71M373.07,190.35H372.55\" style=\"fill: none; stroke: rgb(27, 158, 118); stroke-opacity: 1; stroke-width: 2px; opacity: 1;\"/><path d=\"M373.76,190.35H374.28M374.28,180.53V204.77M374.8,183.48H374.28\" style=\"fill: none; stroke: rgb(27, 158, 118); stroke-opacity: 1; stroke-width: 2px; opacity: 1;\"/><path d=\"M375.49,183.48H376.01M376.01,168.21V189.56M376.53,171.56H376.01\" style=\"fill: none; stroke: rgb(27, 158, 118); stroke-opacity: 1; stroke-width: 2px; opacity: 1;\"/><path d=\"M377.22,171.56H377.74M377.74,160.32V173.92M378.25,161.09H377.74\" style=\"fill: none; stroke: rgb(27, 158, 118); stroke-opacity: 1; stroke-width: 2px; opacity: 1;\"/><path d=\"M378.95,161.09H379.46M379.46,156.64V169M379.98,165.78H379.46\" style=\"fill: none; stroke: rgb(217, 95, 2); stroke-opacity: 1; stroke-width: 2px; opacity: 1;\"/><path d=\"M380.67,165.78H381.19M381.19,149.74V171.91M381.71,150.95H381.19\" style=\"fill: none; stroke: rgb(27, 158, 118); stroke-opacity: 1; stroke-width: 2px; opacity: 1;\"/><path d=\"M382.4,150.97H382.92M382.92,148.25V160.99M383.44,154.98H382.92\" style=\"fill: none; stroke: rgb(217, 95, 2); stroke-opacity: 1; stroke-width: 2px; opacity: 1;\"/><path d=\"M384.13,154.98H384.65M384.65,147.99V156.45M385.17,155.43H384.65\" style=\"fill: none; stroke: rgb(217, 95, 2); stroke-opacity: 1; stroke-width: 2px; opacity: 1;\"/><path d=\"M385.86,155.43H386.38M386.38,151.16V165.93M386.9,162.14H386.38\" style=\"fill: none; stroke: rgb(217, 95, 2); stroke-opacity: 1; stroke-width: 2px; opacity: 1;\"/><path d=\"M387.59,162.13H388.11M388.11,141.1V163.23M388.63,141.62H388.11\" style=\"fill: none; stroke: rgb(27, 158, 118); stroke-opacity: 1; stroke-width: 2px; opacity: 1;\"/><path d=\"M389.32,141.62H389.84M389.84,139.54V152.65M390.36,146.03H389.84\" style=\"fill: none; stroke: rgb(217, 95, 2); stroke-opacity: 1; stroke-width: 2px; opacity: 1;\"/><path d=\"M391.05,146.03H391.57M391.57,144.2V155.49M392.08,146.6H391.57\" style=\"fill: none; stroke: rgb(217, 95, 2); stroke-opacity: 1; stroke-width: 2px; opacity: 1;\"/><path d=\"M392.78,146.6H393.29M393.29,140.08V154.53M393.81,153.07H393.29\" style=\"fill: none; stroke: rgb(217, 95, 2); stroke-opacity: 1; stroke-width: 2px; opacity: 1;\"/><path d=\"M394.5,153.07H395.02M395.02,145.48V162.28M395.54,160.34H395.02\" style=\"fill: none; stroke: rgb(217, 95, 2); stroke-opacity: 1; stroke-width: 2px; opacity: 1;\"/><path d=\"M396.23,160.34H396.75M396.75,152.48V163.32M397.27,160.29H396.75\" style=\"fill: none; stroke: rgb(27, 158, 118); stroke-opacity: 1; stroke-width: 2px; opacity: 1;\"/><path d=\"M397.96,160.32H398.48M398.48,146.24V164.98M399,147.89H398.48\" style=\"fill: none; stroke: rgb(27, 158, 118); stroke-opacity: 1; stroke-width: 2px; opacity: 1;\"/><path d=\"M399.69,147.89H400.21M400.21,132.06V148.72M400.73,132.43H400.21\" style=\"fill: none; stroke: rgb(27, 158, 118); stroke-opacity: 1; stroke-width: 2px; opacity: 1;\"/><path d=\"M401.42,132.43H401.94M401.94,129.81V139.07M402.46,135.45H401.94\" style=\"fill: none; stroke: rgb(217, 95, 2); stroke-opacity: 1; stroke-width: 2px; opacity: 1;\"/><path d=\"M403.15,135.45H403.67M403.67,131.36V140.11M404.19,132.93H403.67\" style=\"fill: none; stroke: rgb(27, 158, 118); stroke-opacity: 1; stroke-width: 2px; opacity: 1;\"/><path d=\"M404.88,132.93H405.4M405.4,125.32V134.2M405.91,131.43H405.4\" style=\"fill: none; stroke: rgb(27, 158, 118); stroke-opacity: 1; stroke-width: 2px; opacity: 1;\"/><path d=\"M406.61,131.43H407.12M407.12,129.19V142.82M407.64,142.38H407.12\" style=\"fill: none; stroke: rgb(217, 95, 2); stroke-opacity: 1; stroke-width: 2px; opacity: 1;\"/><path d=\"M408.33,142.38H408.85M408.85,132.78V145.68M409.37,134.54H408.85\" style=\"fill: none; stroke: rgb(27, 158, 118); stroke-opacity: 1; stroke-width: 2px; opacity: 1;\"/><path d=\"M410.06,134.54H410.58M410.58,132.25V150.97M411.1,147.38H410.58\" style=\"fill: none; stroke: rgb(217, 95, 2); stroke-opacity: 1; stroke-width: 2px; opacity: 1;\"/><path d=\"M411.79,147.38H412.31M412.31,133.47V150.38M412.83,133.95H412.31\" style=\"fill: none; stroke: rgb(27, 158, 118); stroke-opacity: 1; stroke-width: 2px; opacity: 1;\"/><path d=\"M413.52,133.95H414.04M414.04,132.57V138.32M414.56,135.01H414.04\" style=\"fill: none; stroke: rgb(217, 95, 2); stroke-opacity: 1; stroke-width: 2px; opacity: 1;\"/><path d=\"M415.25,135.01H415.77M415.77,130.56V141.84M416.29,135.78H415.77\" style=\"fill: none; stroke: rgb(217, 95, 2); stroke-opacity: 1; stroke-width: 2px; opacity: 1;\"/><path d=\"M416.98,135.78H417.5M417.5,135.05V147.33M418.02,146.55H417.5\" style=\"fill: none; stroke: rgb(217, 95, 2); stroke-opacity: 1; stroke-width: 2px; opacity: 1;\"/><path d=\"M418.71,146.55H419.23M419.23,138.92V148.25M419.74,145.83H419.23\" style=\"fill: none; stroke: rgb(27, 158, 118); stroke-opacity: 1; stroke-width: 2px; opacity: 1;\"/><path d=\"M420.44,145.83H420.95M420.95,133.43V149.39M421.47,135.52H420.95\" style=\"fill: none; stroke: rgb(27, 158, 118); stroke-opacity: 1; stroke-width: 2px; opacity: 1;\"/><path d=\"M422.16,135.52H422.68M422.68,125.63V136.88M423.2,132.89H422.68\" style=\"fill: none; stroke: rgb(27, 158, 118); stroke-opacity: 1; stroke-width: 2px; opacity: 1;\"/><path d=\"M423.89,132.89H424.41M424.41,122.31V138.5M424.93,128.35H424.41\" style=\"fill: none; stroke: rgb(27, 158, 118); stroke-opacity: 1; stroke-width: 2px; opacity: 1;\"/><path d=\"M425.62,128.35H426.14M426.14,125.11V132.14M426.66,128.85H426.14\" style=\"fill: none; stroke: rgb(217, 95, 2); stroke-opacity: 1; stroke-width: 2px; opacity: 1;\"/><path d=\"M427.35,128.84H427.87M427.87,116.88V131.66M428.39,117.74H427.87\" style=\"fill: none; stroke: rgb(27, 158, 118); stroke-opacity: 1; stroke-width: 2px; opacity: 1;\"/><path d=\"M429.08,117.74H429.6M429.6,111.57V122.49M430.12,112.27H429.6\" style=\"fill: none; stroke: rgb(27, 158, 118); stroke-opacity: 1; stroke-width: 2px; opacity: 1;\"/><path d=\"M430.81,112.25H431.33M431.33,110.72V171.52M431.85,147.27H431.33\" style=\"fill: none; stroke: rgb(217, 95, 2); stroke-opacity: 1; stroke-width: 2px; opacity: 1;\"/><path d=\"M432.54,147.24H433.06M433.06,144.39V162.06M433.57,152.19H433.06\" style=\"fill: none; stroke: rgb(217, 95, 2); stroke-opacity: 1; stroke-width: 2px; opacity: 1;\"/><path d=\"M434.27,152.19H434.78M434.78,144.03V155.41M435.3,150.09H434.78\" style=\"fill: none; stroke: rgb(27, 158, 118); stroke-opacity: 1; stroke-width: 2px; opacity: 1;\"/><path d=\"M436,150.09H436.51M436.51,146.24V163.75M437.03,159.41H436.51\" style=\"fill: none; stroke: rgb(217, 95, 2); stroke-opacity: 1; stroke-width: 2px; opacity: 1;\"/><path d=\"M437.72,159.46H438.24M438.24,152.55V160.19M438.76,157.46H438.24\" style=\"fill: none; stroke: rgb(27, 158, 118); stroke-opacity: 1; stroke-width: 2px; opacity: 1;\"/><path d=\"M439.45,157.46H439.97M439.97,149.7V160.07M440.49,152.32H439.97\" style=\"fill: none; stroke: rgb(27, 158, 118); stroke-opacity: 1; stroke-width: 2px; opacity: 1;\"/><path d=\"M441.18,152.32H441.7M441.7,147.17V168.35M442.22,158.87H441.7\" style=\"fill: none; stroke: rgb(217, 95, 2); stroke-opacity: 1; stroke-width: 2px; opacity: 1;\"/><path d=\"M442.91,158.87H443.43M443.43,144.93V160.96M443.95,145.77H443.43\" style=\"fill: none; stroke: rgb(27, 158, 118); stroke-opacity: 1; stroke-width: 2px; opacity: 1;\"/><path d=\"M444.64,145.82H445.16M445.16,137.39V148.36M445.68,139.68H445.16\" style=\"fill: none; stroke: rgb(27, 158, 118); stroke-opacity: 1; stroke-width: 2px; opacity: 1;\"/><path d=\"M446.37,139.68H446.89M446.89,137.05V146.32M447.4,141.99H446.89\" style=\"fill: none; stroke: rgb(217, 95, 2); stroke-opacity: 1; stroke-width: 2px; opacity: 1;\"/><path d=\"M448.1,141.99H448.62M448.62,139.5V148.26M449.13,144.63H448.62\" style=\"fill: none; stroke: rgb(217, 95, 2); stroke-opacity: 1; stroke-width: 2px; opacity: 1;\"/><path d=\"M449.83,144.63H450.34M450.34,135.32V146.23M450.86,138.64H450.34\" style=\"fill: none; stroke: rgb(27, 158, 118); stroke-opacity: 1; stroke-width: 2px; opacity: 1;\"/><path d=\"M451.55,138.64H452.07M452.07,138.16V147.47M452.59,144.98H452.07\" style=\"fill: none; stroke: rgb(217, 95, 2); stroke-opacity: 1; stroke-width: 2px; opacity: 1;\"/><path d=\"M453.28,144.98H453.8M453.8,144.35V173.59M454.32,170.48H453.8\" style=\"fill: none; stroke: rgb(217, 95, 2); stroke-opacity: 1; stroke-width: 2px; opacity: 1;\"/><path d=\"M455.01,170.48H455.53M455.53,166.72V191.09M456.05,184.25H455.53\" style=\"fill: none; stroke: rgb(217, 95, 2); stroke-opacity: 1; stroke-width: 2px; opacity: 1;\"/><path d=\"M456.74,184.25H457.26M457.26,164.54V185.27M457.78,167.3H457.26\" style=\"fill: none; stroke: rgb(27, 158, 118); stroke-opacity: 1; stroke-width: 2px; opacity: 1;\"/><path d=\"M458.47,167.28H458.99M458.99,158.64V170.16M459.51,159.32H458.99\" style=\"fill: none; stroke: rgb(27, 158, 118); stroke-opacity: 1; stroke-width: 2px; opacity: 1;\"/><path d=\"M460.2,159.32H460.72M460.72,157.3V184.61M461.24,171.72H460.72\" style=\"fill: none; stroke: rgb(217, 95, 2); stroke-opacity: 1; stroke-width: 2px; opacity: 1;\"/><path d=\"M461.93,171.72H462.45M462.45,170.78V178.75M462.96,172.57H462.45\" style=\"fill: none; stroke: rgb(217, 95, 2); stroke-opacity: 1; stroke-width: 2px; opacity: 1;\"/><path d=\"M463.66,172.57H464.17M464.17,164.85V184.15M464.69,169.61H464.17\" style=\"fill: none; stroke: rgb(27, 158, 118); stroke-opacity: 1; stroke-width: 2px; opacity: 1;\"/><path d=\"M465.38,169.61H465.9M465.9,162.43V176.02M466.42,175.72H465.9\" style=\"fill: none; stroke: rgb(217, 95, 2); stroke-opacity: 1; stroke-width: 2px; opacity: 1;\"/><path d=\"M467.11,175.72H467.63M467.63,171.86V183.32M468.15,182.49H467.63\" style=\"fill: none; stroke: rgb(217, 95, 2); stroke-opacity: 1; stroke-width: 2px; opacity: 1;\"/><path d=\"M468.84,182.49H469.36M469.36,173.05V184.13M469.88,179.48H469.36\" style=\"fill: none; stroke: rgb(27, 158, 118); stroke-opacity: 1; stroke-width: 2px; opacity: 1;\"/><path d=\"M470.57,179.48H471.09M471.09,163.69V180.17M471.61,165.61H471.09\" style=\"fill: none; stroke: rgb(27, 158, 118); stroke-opacity: 1; stroke-width: 2px; opacity: 1;\"/><path d=\"M472.3,165.63H472.82M472.82,137.42V168.87M473.34,139.55H472.82\" style=\"fill: none; stroke: rgb(27, 158, 118); stroke-opacity: 1; stroke-width: 2px; opacity: 1;\"/><path d=\"M474.03,139.55H474.55M474.55,138.38V143.85M475.07,142.61H474.55\" style=\"fill: none; stroke: rgb(217, 95, 2); stroke-opacity: 1; stroke-width: 2px; opacity: 1;\"/><path d=\"M475.76,142.61H476.28M476.28,133V145.91M476.79,139.2H476.28\" style=\"fill: none; stroke: rgb(27, 158, 118); stroke-opacity: 1; stroke-width: 2px; opacity: 1;\"/><path d=\"M477.49,139.2H478M478,131.14V147.1M478.52,133.02H478\" style=\"fill: none; stroke: rgb(27, 158, 118); stroke-opacity: 1; stroke-width: 2px; opacity: 1;\"/><path d=\"M479.21,133.02H479.73M479.73,116.96V134.24M480.25,119.46H479.73\" style=\"fill: none; stroke: rgb(27, 158, 118); stroke-opacity: 1; stroke-width: 2px; opacity: 1;\"/><path d=\"M480.94,119.46H481.46M481.46,93.65V126.03M481.98,96.27H481.46\" style=\"fill: none; stroke: rgb(27, 158, 118); stroke-opacity: 1; stroke-width: 2px; opacity: 1;\"/><path d=\"M482.67,96.27H483.19M483.19,96.17V108.09M483.71,105.5H483.19\" style=\"fill: none; stroke: rgb(217, 95, 2); stroke-opacity: 1; stroke-width: 2px; opacity: 1;\"/><path d=\"M484.4,105.5H484.92M484.92,91.54V106.51M485.44,104.5H484.92\" style=\"fill: none; stroke: rgb(27, 158, 118); stroke-opacity: 1; stroke-width: 2px; opacity: 1;\"/><path d=\"M486.13,104.47H486.65M486.65,95.22V106.25M487.17,98.48H486.65\" style=\"fill: none; stroke: rgb(27, 158, 118); stroke-opacity: 1; stroke-width: 2px; opacity: 1;\"/><path d=\"M487.86,98.48H488.38M488.38,88.75V103.72M488.9,100.23H488.38\" style=\"fill: none; stroke: rgb(217, 95, 2); stroke-opacity: 1; stroke-width: 2px; opacity: 1;\"/><path d=\"M489.59,100.23H490.11M490.11,81.04V101.7M490.62,83.26H490.11\" style=\"fill: none; stroke: rgb(27, 158, 118); stroke-opacity: 1; stroke-width: 2px; opacity: 1;\"/><path d=\"M491.32,83.26H491.83M491.83,82V104.94M492.35,92.16H491.83\" style=\"fill: none; stroke: rgb(217, 95, 2); stroke-opacity: 1; stroke-width: 2px; opacity: 1;\"/><path d=\"M493.04,92.16H493.56M493.56,81.42V103.2M494.08,83.89H493.56\" style=\"fill: none; stroke: rgb(27, 158, 118); stroke-opacity: 1; stroke-width: 2px; opacity: 1;\"/><path d=\"M494.77,83.87H495.29M495.29,76.86V87.2M495.81,84.01H495.29\" style=\"fill: none; stroke: rgb(217, 95, 2); stroke-opacity: 1; stroke-width: 2px; opacity: 1;\"/><path d=\"M496.5,84.01H497.02M497.02,50.31V87.01M497.54,57.91H497.02\" style=\"fill: none; stroke: rgb(27, 158, 118); stroke-opacity: 1; stroke-width: 2px; opacity: 1;\"/><path d=\"M498.23,57.91H498.75M498.75,53.65V67.1M499.27,62.72H498.75\" style=\"fill: none; stroke: rgb(217, 95, 2); stroke-opacity: 1; stroke-width: 2px; opacity: 1;\"/><path d=\"M499.96,62.72H500.48M500.48,57.64V74.26M501,58.78H500.48\" style=\"fill: none; stroke: rgb(27, 158, 118); stroke-opacity: 1; stroke-width: 2px; opacity: 1;\"/><path d=\"M501.69,58.78H502.21M502.21,51.74V68.94M502.73,55.88H502.21\" style=\"fill: none; stroke: rgb(27, 158, 118); stroke-opacity: 1; stroke-width: 2px; opacity: 1;\"/><path d=\"M503.42,55.9H503.94M503.94,40.94V60.03M504.45,42.18H503.94\" style=\"fill: none; stroke: rgb(27, 158, 118); stroke-opacity: 1; stroke-width: 2px; opacity: 1;\"/><path d=\"M505.15,42.18H505.66M505.66,25.77V47M506.18,31.79H505.66\" style=\"fill: none; stroke: rgb(27, 158, 118); stroke-opacity: 1; stroke-width: 2px; opacity: 1;\"/><path d=\"M506.87,31.79H507.39M507.39,27.94V55.94M507.91,54.77H507.39\" style=\"fill: none; stroke: rgb(217, 95, 2); stroke-opacity: 1; stroke-width: 2px; opacity: 1;\"/><path d=\"M508.6,54.77H509.12M509.12,45.48V68M509.64,63.85H509.12\" style=\"fill: none; stroke: rgb(217, 95, 2); stroke-opacity: 1; stroke-width: 2px; opacity: 1;\"/><path d=\"M510.33,63.85H510.85M510.85,57.46V70.65M511.37,60.24H510.85\" style=\"fill: none; stroke: rgb(27, 158, 118); stroke-opacity: 1; stroke-width: 2px; opacity: 1;\"/><path d=\"M512.06,60.24H512.58M512.58,58.95V70.96M513.1,62.86H512.58\" style=\"fill: none; stroke: rgb(217, 95, 2); stroke-opacity: 1; stroke-width: 2px; opacity: 1;\"/><path d=\"M513.79,62.86H514.31M514.31,45.61V64.08M514.83,49.43H514.31\" style=\"fill: none; stroke: rgb(27, 158, 118); stroke-opacity: 1; stroke-width: 2px; opacity: 1;\"/><path d=\"M515.52,49.43H516.04M516.04,48.13V69.1M516.56,66.02H516.04\" style=\"fill: none; stroke: rgb(217, 95, 2); stroke-opacity: 1; stroke-width: 2px; opacity: 1;\"/><path d=\"M517.25,66.02H517.77M517.77,58.98V80.07M518.28,77.58H517.77\" style=\"fill: none; stroke: rgb(217, 95, 2); stroke-opacity: 1; stroke-width: 2px; opacity: 1;\"/><path d=\"M518.98,77.58H519.49M519.49,52.93V81.16M520.01,64.53H519.49\" style=\"fill: none; stroke: rgb(27, 158, 118); stroke-opacity: 1; stroke-width: 2px; opacity: 1;\"/><path d=\"M520.7,64.53H521.22M521.22,50.02V66.95M521.74,54.41H521.22\" style=\"fill: none; stroke: rgb(27, 158, 118); stroke-opacity: 1; stroke-width: 2px; opacity: 1;\"/><path d=\"M522.43,54.41H522.95M522.95,53.77V63.94M523.47,56.79H522.95\" style=\"fill: none; stroke: rgb(217, 95, 2); stroke-opacity: 1; stroke-width: 2px; opacity: 1;\"/><path d=\"M524.16,56.79H524.68M524.68,53.49V68.33M525.2,60.16H524.68\" style=\"fill: none; stroke: rgb(217, 95, 2); stroke-opacity: 1; stroke-width: 2px; opacity: 1;\"/><path d=\"M525.89,60.16H526.41M526.41,53.3V71.59M526.93,62.51H526.41\" style=\"fill: none; stroke: rgb(217, 95, 2); stroke-opacity: 1; stroke-width: 2px; opacity: 1;\"/><path d=\"M527.62,62.51H528.14M528.14,42.24V64.23M528.66,48.58H528.14\" style=\"fill: none; stroke: rgb(27, 158, 118); stroke-opacity: 1; stroke-width: 2px; opacity: 1;\"/><path d=\"M529.35,48.57H529.87M529.87,46.89V65.69M530.39,50.53H529.87\" style=\"fill: none; stroke: rgb(217, 95, 2); stroke-opacity: 1; stroke-width: 2px; opacity: 1;\"/><path d=\"M531.08,50.53H531.6M531.6,49.38V63.92M532.11,59.59H531.6\" style=\"fill: none; stroke: rgb(217, 95, 2); stroke-opacity: 1; stroke-width: 2px; opacity: 1;\"/><path d=\"M532.81,59.59H533.32M533.32,52.34V63.65M533.84,62.35H533.32\" style=\"fill: none; stroke: rgb(217, 95, 2); stroke-opacity: 1; stroke-width: 2px; opacity: 1;\"/><path d=\"M534.53,62.33H535.05M535.05,58.59V67.7M535.57,59.13H535.05\" style=\"fill: none; stroke: rgb(27, 158, 118); stroke-opacity: 1; stroke-width: 2px; opacity: 1;\"/><path d=\"M536.26,59.13H536.78M536.78,48.17V60.02M537.3,48.25H536.78\" style=\"fill: none; stroke: rgb(27, 158, 118); stroke-opacity: 1; stroke-width: 2px; opacity: 1;\"/><path d=\"M537.99,48.25H538.51M538.51,21.01V48.25M539.03,22.59H538.51\" style=\"fill: none; stroke: rgb(27, 158, 118); stroke-opacity: 1; stroke-width: 2px; opacity: 1;\"/><path d=\"M539.72,22.59H540.24M540.24,16.57V30.46M540.76,26.08H540.24\" style=\"fill: none; stroke: rgb(217, 95, 2); stroke-opacity: 1; stroke-width: 2px; opacity: 1;\"/><path d=\"M541.45,26.08H541.97M541.97,13.7V50.97M542.49,38.54H541.97\" style=\"fill: none; stroke: rgb(217, 95, 2); stroke-opacity: 1; stroke-width: 2px; opacity: 1;\"/><path d=\"M543.18,38.54H543.7M543.7,34.21V43.27M544.22,39.2H543.7\" style=\"fill: none; stroke: rgb(217, 95, 2); stroke-opacity: 1; stroke-width: 2px; opacity: 1;\"/><path d=\"M544.91,39.2H545.43M545.43,35.12V54.26M545.94,43.13H545.43\" style=\"fill: none; stroke: rgb(217, 95, 2); stroke-opacity: 1; stroke-width: 2px; opacity: 1;\"/><path d=\"M546.64,43.13H547.15M547.15,37.84V47.73M547.67,41.58H547.15\" style=\"fill: none; stroke: rgb(27, 158, 118); stroke-opacity: 1; stroke-width: 2px; opacity: 1;\"/><path d=\"M548.36,41.58H548.88M548.88,34.51V46.43M549.4,34.7H548.88\" style=\"fill: none; stroke: rgb(27, 158, 118); stroke-opacity: 1; stroke-width: 2px; opacity: 1;\"/><path d=\"M550.09,34.7H550.61M550.61,29.38V47.49M551.13,46.24H550.61\" style=\"fill: none; stroke: rgb(217, 95, 2); stroke-opacity: 1; stroke-width: 2px; opacity: 1;\"/><path d=\"M551.82,46.24H552.34M552.34,46.18V76.61M552.86,67.65H552.34\" style=\"fill: none; stroke: rgb(217, 95, 2); stroke-opacity: 1; stroke-width: 2px; opacity: 1;\"/><path d=\"M553.55,67.65H554.07M554.07,62.93V77.82M554.59,65.92H554.07\" style=\"fill: none; stroke: rgb(27, 158, 118); stroke-opacity: 1; stroke-width: 2px; opacity: 1;\"/><path d=\"M555.28,65.92H555.8M555.8,62.11V89.28M556.32,86.76H555.8\" style=\"fill: none; stroke: rgb(217, 95, 2); stroke-opacity: 1; stroke-width: 2px; opacity: 1;\"/><path d=\"M557.01,86.76H557.53M557.53,78.14V94.55M558.05,79.76H557.53\" style=\"fill: none; stroke: rgb(27, 158, 118); stroke-opacity: 1; stroke-width: 2px; opacity: 1;\"/><path d=\"M558.74,79.73H559.26M559.26,68.94V83.98M559.77,69.77H559.26\" style=\"fill: none; stroke: rgb(27, 158, 118); stroke-opacity: 1; stroke-width: 2px; opacity: 1;\"/><path d=\"M560.47,69.77H560.98M560.98,67.82V77.14M561.5,76.32H560.98\" style=\"fill: none; stroke: rgb(217, 95, 2); stroke-opacity: 1; stroke-width: 2px; opacity: 1;\"/><path d=\"M562.2,76.34H562.71M562.71,71.36V94.49M563.23,90.65H562.71\" style=\"fill: none; stroke: rgb(217, 95, 2); stroke-opacity: 1; stroke-width: 2px; opacity: 1;\"/><path d=\"M563.92,90.67H564.44M564.44,80.01V96.26M564.96,82.84H564.44\" style=\"fill: none; stroke: rgb(27, 158, 118); stroke-opacity: 1; stroke-width: 2px; opacity: 1;\"/><path d=\"M565.65,82.84H566.17M566.17,81.67V93.12M566.69,85.27H566.17\" style=\"fill: none; stroke: rgb(217, 95, 2); stroke-opacity: 1; stroke-width: 2px; opacity: 1;\"/><path d=\"M567.38,85.27H567.9M567.9,71.63V86.11M568.42,74.28H567.9\" style=\"fill: none; stroke: rgb(27, 158, 118); stroke-opacity: 1; stroke-width: 2px; opacity: 1;\"/><path d=\"M569.11,74.28H569.63M569.63,73.13V107.22M570.15,105.86H569.63\" style=\"fill: none; stroke: rgb(217, 95, 2); stroke-opacity: 1; stroke-width: 2px; opacity: 1;\"/><path d=\"M570.84,105.87H571.36M571.36,96.48V106.56M571.88,99.86H571.36\" style=\"fill: none; stroke: rgb(27, 158, 118); stroke-opacity: 1; stroke-width: 2px; opacity: 1;\"/><path d=\"M572.57,99.88H573.09M573.09,83.42V108.69M573.6,84.45H573.09\" style=\"fill: none; stroke: rgb(27, 158, 118); stroke-opacity: 1; stroke-width: 2px; opacity: 1;\"/><path d=\"M574.3,84.45H574.82M574.82,74.85V88.12M575.33,81.42H574.82\" style=\"fill: none; stroke: rgb(27, 158, 118); stroke-opacity: 1; stroke-width: 2px; opacity: 1;\"/><path d=\"M576.03,81.42H576.54M576.54,72.97V92.89M577.06,86.4H576.54\" style=\"fill: none; stroke: rgb(217, 95, 2); stroke-opacity: 1; stroke-width: 2px; opacity: 1;\"/><path d=\"M577.75,86.4H578.27M578.27,73.71V89.38M578.79,84.99H578.27\" style=\"fill: none; stroke: rgb(27, 158, 118); stroke-opacity: 1; stroke-width: 2px; opacity: 1;\"/><path d=\"M579.48,84.99H580M580,83.84V93.48M580.52,89.24H580\" style=\"fill: none; stroke: rgb(217, 95, 2); stroke-opacity: 1; stroke-width: 2px; opacity: 1;\"/><path d=\"M581.21,89.22H581.73M581.73,82.48V118.2M582.25,106.61H581.73\" style=\"fill: none; stroke: rgb(217, 95, 2); stroke-opacity: 1; stroke-width: 2px; opacity: 1;\"/><path d=\"M582.94,106.61H583.46M583.46,105.06V176.61M583.98,133.46H583.46\" style=\"fill: none; stroke: rgb(217, 95, 2); stroke-opacity: 1; stroke-width: 2px; opacity: 1;\"/><path d=\"M584.67,133.46H585.19M585.19,130.16V142.06M585.71,131.98H585.19\" style=\"fill: none; stroke: rgb(27, 158, 118); stroke-opacity: 1; stroke-width: 2px; opacity: 1;\"/><path d=\"M586.4,131.98H586.92M586.92,122.96V145.84M587.44,125.68H586.92\" style=\"fill: none; stroke: rgb(27, 158, 118); stroke-opacity: 1; stroke-width: 2px; opacity: 1;\"/><path d=\"M588.13,125.68H588.65M588.65,116.66V128.1M589.16,124.79H588.65\" style=\"fill: none; stroke: rgb(27, 158, 118); stroke-opacity: 1; stroke-width: 2px; opacity: 1;\"/><path d=\"M589.86,124.79H590.37M590.37,121.1V136.79M590.89,125.5H590.37\" style=\"fill: none; stroke: rgb(217, 95, 2); stroke-opacity: 1; stroke-width: 2px; opacity: 1;\"/><path d=\"M591.58,125.5H592.1M592.1,123.53V144.51M592.62,143.15H592.1\" style=\"fill: none; stroke: rgb(217, 95, 2); stroke-opacity: 1; stroke-width: 2px; opacity: 1;\"/><path d=\"M593.31,143.21H593.83M593.83,127.59V147.34M594.35,145.59H593.83\" style=\"fill: none; stroke: rgb(217, 95, 2); stroke-opacity: 1; stroke-width: 2px; opacity: 1;\"/><path d=\"M595.04,145.59H595.56M595.56,131.44V147.95M596.08,132.02H595.56\" style=\"fill: none; stroke: rgb(27, 158, 118); stroke-opacity: 1; stroke-width: 2px; opacity: 1;\"/><path d=\"M596.77,132.02H597.29M597.29,123.65V136.56M597.81,128.02H597.29\" style=\"fill: none; stroke: rgb(27, 158, 118); stroke-opacity: 1; stroke-width: 2px; opacity: 1;\"/><path d=\"M598.5,128.02H599.02M599.02,127.2V154.45M599.54,148.24H599.02\" style=\"fill: none; stroke: rgb(217, 95, 2); stroke-opacity: 1; stroke-width: 2px; opacity: 1;\"/><path d=\"M600.23,148.24H600.75M600.75,136.18V150.73M601.27,138.34H600.75\" style=\"fill: none; stroke: rgb(27, 158, 118); stroke-opacity: 1; stroke-width: 2px; opacity: 1;\"/><path d=\"M601.96,138.38H602.48M602.48,131.36V149.18M602.99,135.19H602.48\" style=\"fill: none; stroke: rgb(27, 158, 118); stroke-opacity: 1; stroke-width: 2px; opacity: 1;\"/><path d=\"M603.69,135.19H604.2M604.2,131.74V143.36M604.72,142.63H604.2\" style=\"fill: none; stroke: rgb(217, 95, 2); stroke-opacity: 1; stroke-width: 2px; opacity: 1;\"/><path d=\"M605.41,142.63H605.93M605.93,140.43V155.76M606.45,151.68H605.93\" style=\"fill: none; stroke: rgb(217, 95, 2); stroke-opacity: 1; stroke-width: 2px; opacity: 1;\"/><path d=\"M607.14,151.67H607.66M607.66,144.08V155.49M608.18,147.44H607.66\" style=\"fill: none; stroke: rgb(27, 158, 118); stroke-opacity: 1; stroke-width: 2px; opacity: 1;\"/><path d=\"M608.87,147.44H609.39M609.39,138.6V150.02M609.91,148.37H609.39\" style=\"fill: none; stroke: rgb(217, 95, 2); stroke-opacity: 1; stroke-width: 2px; opacity: 1;\"/><path d=\"M610.6,148.37H611.12M611.12,143.2V155.14M611.64,146.96H611.12\" style=\"fill: none; stroke: rgb(27, 158, 118); stroke-opacity: 1; stroke-width: 2px; opacity: 1;\"/><path d=\"M612.33,146.96H612.85M612.85,132.39V148.68M613.37,135.04H612.85\" style=\"fill: none; stroke: rgb(27, 158, 118); stroke-opacity: 1; stroke-width: 2px; opacity: 1;\"/><path d=\"M614.06,135.05H614.58M614.58,130.9V137.86M615.1,136.86H614.58\" style=\"fill: none; stroke: rgb(217, 95, 2); stroke-opacity: 1; stroke-width: 2px; opacity: 1;\"/><path d=\"M615.79,136.86H616.31M616.31,120.05V140.89M616.82,123.28H616.31\" style=\"fill: none; stroke: rgb(27, 158, 118); stroke-opacity: 1; stroke-width: 2px; opacity: 1;\"/><path d=\"M617.52,123.28H618.03M618.03,117.42V126.02M618.55,123.39H618.03\" style=\"fill: none; stroke: rgb(217, 95, 2); stroke-opacity: 1; stroke-width: 2px; opacity: 1;\"/><path d=\"M619.24,123.39H619.76M619.76,121.37V127.48M620.28,125.93H619.76\" style=\"fill: none; stroke: rgb(217, 95, 2); stroke-opacity: 1; stroke-width: 2px; opacity: 1;\"/><path d=\"M620.97,125.93H621.49M621.49,120.62V131.89M622.01,123.66H621.49\" style=\"fill: none; stroke: rgb(27, 158, 118); stroke-opacity: 1; stroke-width: 2px; opacity: 1;\"/><path d=\"M622.7,123.66H623.22M623.22,115.74V125.63M623.74,124.11H623.22\" style=\"fill: none; stroke: rgb(217, 95, 2); stroke-opacity: 1; stroke-width: 2px; opacity: 1;\"/><path d=\"M624.43,124.11H624.95M624.95,124.09V144.55M625.47,143.16H624.95\" style=\"fill: none; stroke: rgb(217, 95, 2); stroke-opacity: 1; stroke-width: 2px; opacity: 1;\"/><path d=\"M626.16,143.16H626.68M626.68,139.57V151.89M627.2,149.67H626.68\" style=\"fill: none; stroke: rgb(217, 95, 2); stroke-opacity: 1; stroke-width: 2px; opacity: 1;\"/><path d=\"M627.89,149.67H628.41M628.41,141.01V153.08M628.93,145.71H628.41\" style=\"fill: none; stroke: rgb(27, 158, 118); stroke-opacity: 1; stroke-width: 2px; opacity: 1;\"/><path d=\"M629.62,145.71H630.14M630.14,137.1V154.42M630.65,151.17H630.14\" style=\"fill: none; stroke: rgb(217, 95, 2); stroke-opacity: 1; stroke-width: 2px; opacity: 1;\"/></g></g><g class=\"scatterlayer mlayer\"><g class=\"trace scatter traceffd64eee-26a7-4564-ae3f-715639e98aa8\" style=\"stroke-miterlimit: 2; opacity: 1;\"><g class=\"fills\"/><g class=\"errorbars\"/><g class=\"lines\"/><g class=\"points\"><path class=\"point\" transform=\"translate(59.64,207.16)\" d=\"M-4.62,2H4.62L0,-4Z\" style=\"opacity: 1; stroke-width: 1px; fill: rgb(55, 177, 63); fill-opacity: 1; stroke: rgb(38, 123, 44); stroke-opacity: 1;\"/><path class=\"point\" transform=\"translate(118.42,93.03)\" d=\"M-4.62,2H4.62L0,-4Z\" style=\"opacity: 1; stroke-width: 1px; fill: rgb(55, 177, 63); fill-opacity: 1; stroke: rgb(38, 123, 44); stroke-opacity: 1;\"/><path class=\"point\" transform=\"translate(286.11,187.81)\" d=\"M-4.62,2H4.62L0,-4Z\" style=\"opacity: 1; stroke-width: 1px; fill: rgb(55, 177, 63); fill-opacity: 1; stroke: rgb(38, 123, 44); stroke-opacity: 1;\"/><path class=\"point\" transform=\"translate(479.73,119.46)\" d=\"M-4.62,2H4.62L0,-4Z\" style=\"opacity: 1; stroke-width: 1px; fill: rgb(55, 177, 63); fill-opacity: 1; stroke: rgb(38, 123, 44); stroke-opacity: 1;\"/></g><g class=\"text\"/></g><g class=\"trace scatter traceb87dcd56-9c8c-4ce9-be7f-f1f653344e53\" style=\"stroke-miterlimit: 2; opacity: 1;\"><g class=\"fills\"/><g class=\"errorbars\"/><g class=\"lines\"/><g class=\"points\"><path class=\"point\" transform=\"translate(90.76,113.15)\" d=\"M-4.62,-2H4.62L0,4Z\" style=\"opacity: 1; stroke-width: 1px; fill: rgb(234, 67, 53); fill-opacity: 1; stroke: rgb(181, 31, 18); stroke-opacity: 1;\"/><path class=\"point\" transform=\"translate(241.16,230.92)\" d=\"M-4.62,-2H4.62L0,4Z\" style=\"opacity: 1; stroke-width: 1px; fill: rgb(234, 67, 53); fill-opacity: 1; stroke: rgb(181, 31, 18); stroke-opacity: 1;\"/><path class=\"point\" transform=\"translate(431.33,143.41)\" d=\"M-4.62,-2H4.62L0,4Z\" style=\"opacity: 1; stroke-width: 1px; fill: rgb(234, 67, 53); fill-opacity: 1; stroke: rgb(181, 31, 18); stroke-opacity: 1;\"/></g><g class=\"text\"/></g></g></g><g class=\"overplot\"/><path class=\"xlines-above crisp\" d=\"M0,0\" style=\"fill: none;\"/><path class=\"ylines-above crisp\" d=\"M0,0\" style=\"fill: none;\"/><g class=\"overlines-above\"/><g class=\"xaxislayer-above\"><g class=\"xtick\"><text text-anchor=\"middle\" x=\"0\" y=\"333\" transform=\"translate(39.86,0)\" style=\"font-family: 'Open Sans', verdana, arial, sans-serif; font-size: 12px; fill: rgb(214, 223, 239); fill-opacity: 1; white-space: pre; opacity: 1;\">Jan 2021</text></g><g class=\"xtick\"><text text-anchor=\"middle\" x=\"0\" y=\"333\" style=\"font-family: 'Open Sans', verdana, arial, sans-serif; font-size: 12px; fill: rgb(214, 223, 239); fill-opacity: 1; white-space: pre; opacity: 1;\" transform=\"translate(141.86,0)\">Mar 2021</text></g><g class=\"xtick\"><text text-anchor=\"middle\" x=\"0\" y=\"333\" style=\"font-family: 'Open Sans', verdana, arial, sans-serif; font-size: 12px; fill: rgb(214, 223, 239); fill-opacity: 1; white-space: pre; opacity: 1;\" transform=\"translate(247.32,0)\">May 2021</text></g><g class=\"xtick\"><text text-anchor=\"middle\" x=\"0\" y=\"333\" style=\"font-family: 'Open Sans', verdana, arial, sans-serif; font-size: 12px; fill: rgb(214, 223, 239); fill-opacity: 1; white-space: pre; opacity: 1;\" transform=\"translate(352.77,0)\">Jul 2021</text></g><g class=\"xtick\"><text text-anchor=\"middle\" x=\"0\" y=\"333\" style=\"font-family: 'Open Sans', verdana, arial, sans-serif; font-size: 12px; fill: rgb(214, 223, 239); fill-opacity: 1; white-space: pre; opacity: 1;\" transform=\"translate(459.95,0)\">Sep 2021</text></g><g class=\"xtick\"><text text-anchor=\"middle\" x=\"0\" y=\"333\" style=\"font-family: 'Open Sans', verdana, arial, sans-serif; font-size: 12px; fill: rgb(214, 223, 239); fill-opacity: 1; white-space: pre; opacity: 1;\" transform=\"translate(565.41,0)\">Nov 2021</text></g></g><g class=\"yaxislayer-above\"><g class=\"ytick\"><text text-anchor=\"end\" x=\"38\" y=\"4.199999999999999\" transform=\"translate(0,295.02)\" style=\"font-family: 'Open Sans', verdana, arial, sans-serif; font-size: 12px; fill: rgb(214, 223, 239); fill-opacity: 1; white-space: pre; opacity: 1;\">30k</text></g><g class=\"ytick\"><text text-anchor=\"end\" x=\"38\" y=\"4.199999999999999\" style=\"font-family: 'Open Sans', verdana, arial, sans-serif; font-size: 12px; fill: rgb(214, 223, 239); fill-opacity: 1; white-space: pre; opacity: 1;\" transform=\"translate(0,234.68)\">40k</text></g><g class=\"ytick\"><text text-anchor=\"end\" x=\"38\" y=\"4.199999999999999\" style=\"font-family: 'Open Sans', verdana, arial, sans-serif; font-size: 12px; fill: rgb(214, 223, 239); fill-opacity: 1; white-space: pre; opacity: 1;\" transform=\"translate(0,174.34)\">50k</text></g><g class=\"ytick\"><text text-anchor=\"end\" x=\"38\" y=\"4.199999999999999\" style=\"font-family: 'Open Sans', verdana, arial, sans-serif; font-size: 12px; fill: rgb(214, 223, 239); fill-opacity: 1; white-space: pre; opacity: 1;\" transform=\"translate(0,114)\">60k</text></g><g class=\"ytick\"><text text-anchor=\"end\" x=\"38\" y=\"4.199999999999999\" style=\"font-family: 'Open Sans', verdana, arial, sans-serif; font-size: 12px; fill: rgb(214, 223, 239); fill-opacity: 1; white-space: pre; opacity: 1;\" transform=\"translate(0,53.67)\">70k</text></g></g><g class=\"overaxes-above\"/></g></g><g class=\"polarlayer\"/><g class=\"smithlayer\"/><g class=\"ternarylayer\"/><g class=\"geolayer\"/><g class=\"funnelarealayer\"/><g class=\"pielayer\"/><g class=\"iciclelayer\"/><g class=\"treemaplayer\"/><g class=\"sunburstlayer\"/><g class=\"glimages\"/><defs id=\"topdefs-75a29b\"><g class=\"clips\"/><clipPath id=\"legend75a29b\"><rect width=\"270\" height=\"29\" x=\"0\" y=\"0\"/></clipPath></defs><g class=\"layer-above\"><g class=\"imagelayer\"/><g class=\"shapelayer\"/></g><g class=\"infolayer\"><g class=\"legend\" pointer-events=\"all\" transform=\"translate(400,11.519999999999996)\"><rect class=\"bg\" shape-rendering=\"crispEdges\" width=\"270\" height=\"29\" x=\"0\" y=\"0\" style=\"stroke: rgb(68, 68, 68); stroke-opacity: 1; fill: rgb(33, 34, 44); fill-opacity: 1; stroke-width: 0px;\"/><g class=\"scrollbox\" transform=\"\" clip-path=\"url(#legend75a29b)\"><g class=\"groups\"><g class=\"traces\" transform=\"translate(0,14.5)\" style=\"opacity: 1;\"><text class=\"legendtext\" text-anchor=\"start\" x=\"40\" y=\"4.680000000000001\" style=\"font-family: 'Open Sans', verdana, arial, sans-serif; font-size: 12px; fill: rgb(214, 223, 239); fill-opacity: 1; white-space: pre;\">OHLC</text><g class=\"layers\" style=\"opacity: 0.5;\"><g class=\"legendfill\"/><g class=\"legendlines\"/><g class=\"legendsymbols\"><g class=\"legendpoints\"><path class=\"legendohlc\" d=\"M15,0H0M8,6V0\" transform=\"translate(20,0)\" style=\"stroke-miterlimit: 1; fill: none; stroke-width: 2px; stroke: rgb(217, 95, 2); stroke-opacity: 1;\"/><path class=\"legendohlc\" d=\"M-15,0H0M-8,-6V0\" transform=\"translate(20,0)\" style=\"stroke-miterlimit: 1; fill: none; stroke-width: 2px; stroke: rgb(27, 158, 118); stroke-opacity: 1;\"/></g></g></g><rect class=\"legendtoggle\" x=\"0\" y=\"-9.5\" width=\"76.03125\" height=\"19\" style=\"fill: rgb(0, 0, 0); fill-opacity: 0;\"/></g><g class=\"traces\" transform=\"translate(78.53125,14.5)\" style=\"opacity: 1;\"><text class=\"legendtext\" text-anchor=\"start\" x=\"40\" y=\"4.680000000000001\" style=\"font-family: 'Open Sans', verdana, arial, sans-serif; font-size: 12px; fill: rgb(214, 223, 239); fill-opacity: 1; white-space: pre;\">New Entries</text><g class=\"layers\" style=\"opacity: 1;\"><g class=\"legendfill\"/><g class=\"legendlines\"/><g class=\"legendsymbols\"><g class=\"legendpoints\"><path class=\"scatterpts\" transform=\"translate(20,0)\" d=\"M-4.62,2H4.62L0,-4Z\" style=\"opacity: 1; stroke-width: 1px; fill: rgb(55, 177, 63); fill-opacity: 1; stroke: rgb(38, 123, 44); stroke-opacity: 1;\"/></g></g></g><rect class=\"legendtoggle\" x=\"0\" y=\"-9.5\" width=\"114.390625\" height=\"19\" style=\"fill: rgb(0, 0, 0); fill-opacity: 0;\"/></g><g class=\"traces\" transform=\"translate(195.421875,14.5)\" style=\"opacity: 1;\"><text class=\"legendtext\" text-anchor=\"start\" x=\"40\" y=\"4.680000000000001\" style=\"font-family: 'Open Sans', verdana, arial, sans-serif; font-size: 12px; fill: rgb(214, 223, 239); fill-opacity: 1; white-space: pre;\">Exits</text><g class=\"layers\" style=\"opacity: 1;\"><g class=\"legendfill\"/><g class=\"legendlines\"/><g class=\"legendsymbols\"><g class=\"legendpoints\"><path class=\"scatterpts\" transform=\"translate(20,0)\" d=\"M-4.62,-2H4.62L0,4Z\" style=\"opacity: 1; stroke-width: 1px; fill: rgb(234, 67, 53); fill-opacity: 1; stroke: rgb(181, 31, 18); stroke-opacity: 1;\"/></g></g></g><rect class=\"legendtoggle\" x=\"0\" y=\"-9.5\" width=\"71.46875\" height=\"19\" style=\"fill: rgb(0, 0, 0); fill-opacity: 0;\"/></g></g></g><rect class=\"scrollbar\" rx=\"20\" ry=\"3\" width=\"0\" height=\"0\" x=\"0\" y=\"0\" style=\"fill: rgb(128, 139, 164); fill-opacity: 1;\"/></g><g class=\"g-gtitle\"/><g class=\"g-xtitle\"/><g class=\"g-ytitle\"/></g></svg>"
      ]
     },
     "metadata": {},
     "output_type": "display_data"
    }
   ],
   "source": [
    "entry_pos_rank = entries.vbt.signals.pos_rank(allow_gaps=True)\n",
    "short_entries = (entry_pos_rank >= 0) & (entry_pos_rank % 2 == 1)\n",
    "\n",
    "ohlcstcx = vbt.OHLCSTCX.run(\n",
    "    entries,\n",
    "    data.get(\"Close\"),\n",
    "    data.get(\"Open\"),\n",
    "    data.get(\"High\"),\n",
    "    data.get(\"Low\"),\n",
    "    data.get(\"Close\"),\n",
    "    tsl_th=vbt.Default(0.2),\n",
    "    tsl_stop=vbt.Default(0.1),\n",
    "    reverse=vbt.Default(short_entries),\n",
    "    is_entry_open=False\n",
    ")\n",
    "ohlcstcx.plot(column=(\"BTCUSDT\")).show_svg()"
   ]
  },
  {
   "cell_type": "code",
   "execution_count": 110,
   "id": "9d5b66ff-5a7f-46da-b515-a8d84c1c2334",
   "metadata": {},
   "outputs": [],
   "source": [
    "long_entries = ohlcstcx.new_entries.vbt & (~short_entries)\n",
    "long_exits = ohlcstcx.exits.vbt.signals.first_after(long_entries)\n",
    "short_entries = ohlcstcx.new_entries.vbt & short_entries\n",
    "short_exits = ohlcstcx.exits.vbt.signals.first_after(short_entries)"
   ]
  },
  {
   "cell_type": "code",
   "execution_count": 111,
   "id": "ad0ad046-3df7-4872-b943-03049982ce10",
   "metadata": {},
   "outputs": [
    {
     "data": {
      "image/svg+xml": [
       "<svg class=\"main-svg\" xmlns=\"http://www.w3.org/2000/svg\" xmlns:xlink=\"http://www.w3.org/1999/xlink\" width=\"700\" height=\"350\" style=\"\" viewBox=\"0 0 700 350\"><rect x=\"0\" y=\"0\" width=\"700\" height=\"350\" style=\"fill: rgb(33, 34, 44); fill-opacity: 1;\"/><defs id=\"defs-99b06f\"><g class=\"clips\"><clipPath id=\"clip99b06fxyplot\" class=\"plotclip\"><rect width=\"631\" height=\"274\"/></clipPath><clipPath class=\"axesclip\" id=\"clip99b06fx\"><rect x=\"39\" y=\"0\" width=\"631\" height=\"350\"/></clipPath><clipPath class=\"axesclip\" id=\"clip99b06fy\"><rect x=\"0\" y=\"46\" width=\"700\" height=\"274\"/></clipPath><clipPath class=\"axesclip\" id=\"clip99b06fxy\"><rect x=\"39\" y=\"46\" width=\"631\" height=\"274\"/></clipPath></g><g class=\"gradients\"/><g class=\"patterns\"/></defs><g class=\"bglayer\"/><g class=\"layer-below\"><g class=\"imagelayer\"/><g class=\"shapelayer\"/></g><g class=\"cartesianlayer\"><g class=\"subplot xy\"><g class=\"layer-subplot\"><g class=\"shapelayer\"/><g class=\"imagelayer\"/></g><g class=\"gridlayer\"><g class=\"x\"><path class=\"xgrid crisp\" transform=\"translate(141.86,0)\" d=\"M0,46v274\" style=\"stroke: rgb(47, 62, 78); stroke-opacity: 1; stroke-width: 1px;\"/><path class=\"xgrid crisp\" transform=\"translate(247.32,0)\" d=\"M0,46v274\" style=\"stroke: rgb(47, 62, 78); stroke-opacity: 1; stroke-width: 1px;\"/><path class=\"xgrid crisp\" transform=\"translate(352.77,0)\" d=\"M0,46v274\" style=\"stroke: rgb(47, 62, 78); stroke-opacity: 1; stroke-width: 1px;\"/><path class=\"xgrid crisp\" transform=\"translate(459.95,0)\" d=\"M0,46v274\" style=\"stroke: rgb(47, 62, 78); stroke-opacity: 1; stroke-width: 1px;\"/><path class=\"xgrid crisp\" transform=\"translate(565.41,0)\" d=\"M0,46v274\" style=\"stroke: rgb(47, 62, 78); stroke-opacity: 1; stroke-width: 1px;\"/></g><g class=\"y\"><path class=\"ygrid crisp\" transform=\"translate(0,295.02)\" d=\"M39,0h631\" style=\"stroke: rgb(47, 62, 78); stroke-opacity: 1; stroke-width: 1px;\"/><path class=\"ygrid crisp\" transform=\"translate(0,234.68)\" d=\"M39,0h631\" style=\"stroke: rgb(47, 62, 78); stroke-opacity: 1; stroke-width: 1px;\"/><path class=\"ygrid crisp\" transform=\"translate(0,174.34)\" d=\"M39,0h631\" style=\"stroke: rgb(47, 62, 78); stroke-opacity: 1; stroke-width: 1px;\"/><path class=\"ygrid crisp\" transform=\"translate(0,114)\" d=\"M39,0h631\" style=\"stroke: rgb(47, 62, 78); stroke-opacity: 1; stroke-width: 1px;\"/><path class=\"ygrid crisp\" transform=\"translate(0,53.67)\" d=\"M39,0h631\" style=\"stroke: rgb(47, 62, 78); stroke-opacity: 1; stroke-width: 1px;\"/></g></g><g class=\"zerolinelayer\"/><path class=\"xlines-below\"/><path class=\"ylines-below\"/><g class=\"overlines-below\"/><g class=\"xaxislayer-below\"/><g class=\"yaxislayer-below\"/><g class=\"overaxes-below\"/><g class=\"plot\" transform=\"translate(39,46)\" clip-path=\"url(#clip99b06fxyplot)\"><g class=\"ohlclayer mlayer\"><g class=\"trace ohlc\" style=\"opacity: 0.5;\"><path d=\"M0.35,255.51H0.86M0.86,251.43V257.32M1.38,253.05H0.86\" style=\"fill: none; stroke: rgb(27, 158, 118); stroke-opacity: 1; stroke-width: 2px; opacity: 1;\"/><path d=\"M2.07,253.05H2.59M2.59,229.11V255.37M3.11,235.87H2.59\" style=\"fill: none; stroke: rgb(27, 158, 118); stroke-opacity: 1; stroke-width: 2px; opacity: 1;\"/><path d=\"M3.8,235.88H4.32M4.32,220.19V237.17M4.84,230.92H4.32\" style=\"fill: none; stroke: rgb(27, 158, 118); stroke-opacity: 1; stroke-width: 2px; opacity: 1;\"/><path d=\"M5.53,230.92H6.05M6.05,227.3V260.3M6.57,237.02H6.05\" style=\"fill: none; stroke: rgb(217, 95, 2); stroke-opacity: 1; stroke-width: 2px; opacity: 1;\"/><path d=\"M7.26,237.01H7.78M7.78,222.71V249.62M8.3,225.19H7.78\" style=\"fill: none; stroke: rgb(27, 158, 118); stroke-opacity: 1; stroke-width: 2px; opacity: 1;\"/><path d=\"M8.99,225.19H9.51M9.51,207.15V229.18M10.03,208.17H9.51\" style=\"fill: none; stroke: rgb(27, 158, 118); stroke-opacity: 1; stroke-width: 2px; opacity: 1;\"/><path d=\"M10.72,208.17H11.24M11.24,186.48V211M11.76,192.1H11.24\" style=\"fill: none; stroke: rgb(27, 158, 118); stroke-opacity: 1; stroke-width: 2px; opacity: 1;\"/><path d=\"M12.45,192.1H12.97M12.97,176.91V209.8M13.48,185.16H12.97\" style=\"fill: none; stroke: rgb(27, 158, 118); stroke-opacity: 1; stroke-width: 2px; opacity: 1;\"/><path d=\"M14.18,185.14H14.69M14.69,180.35V196.4M15.21,188.15H14.69\" style=\"fill: none; stroke: rgb(217, 95, 2); stroke-opacity: 1; stroke-width: 2px; opacity: 1;\"/><path d=\"M15.9,188.15H16.42M16.42,180.53V218.18M16.94,199.84H16.42\" style=\"fill: none; stroke: rgb(217, 95, 2); stroke-opacity: 1; stroke-width: 2px; opacity: 1;\"/><path d=\"M17.63,199.84H18.15M18.15,199.15V246.48M18.67,216.41H18.15\" style=\"fill: none; stroke: rgb(217, 95, 2); stroke-opacity: 1; stroke-width: 2px; opacity: 1;\"/><path d=\"M19.36,216.37H19.88M19.88,209.03V233.75M20.4,224.57H19.88\" style=\"fill: none; stroke: rgb(217, 95, 2); stroke-opacity: 1; stroke-width: 2px; opacity: 1;\"/><path d=\"M21.09,224.59H21.61M21.61,201.65V234.66M22.13,204.54H21.61\" style=\"fill: none; stroke: rgb(27, 158, 118); stroke-opacity: 1; stroke-width: 2px; opacity: 1;\"/><path d=\"M22.82,204.54H23.34M23.34,188.08V208.58M23.86,193.84H23.34\" style=\"fill: none; stroke: rgb(27, 158, 118); stroke-opacity: 1; stroke-width: 2px; opacity: 1;\"/><path d=\"M24.55,193.84H25.07M25.07,190.2V222.42M25.59,208.34H25.07\" style=\"fill: none; stroke: rgb(217, 95, 2); stroke-opacity: 1; stroke-width: 2px; opacity: 1;\"/><path d=\"M26.28,208.36H26.8M26.8,201.05V216.69M27.31,212.84H26.8\" style=\"fill: none; stroke: rgb(217, 95, 2); stroke-opacity: 1; stroke-width: 2px; opacity: 1;\"/><path d=\"M28.01,212.84H28.52M28.52,207.67V225.79M29.04,213.85H28.52\" style=\"fill: none; stroke: rgb(217, 95, 2); stroke-opacity: 1; stroke-width: 2px; opacity: 1;\"/><path d=\"M29.73,213.87H30.25M30.25,203.95V220.05M30.77,209.01H30.25\" style=\"fill: none; stroke: rgb(27, 158, 118); stroke-opacity: 1; stroke-width: 2px; opacity: 1;\"/><path d=\"M31.46,209.06H31.98M31.98,201.65V213.76M32.5,213.47H31.98\" style=\"fill: none; stroke: rgb(217, 95, 2); stroke-opacity: 1; stroke-width: 2px; opacity: 1;\"/><path d=\"M33.19,213.41H33.71M33.71,210.31V228.5M34.23,216.02H33.71\" style=\"fill: none; stroke: rgb(217, 95, 2); stroke-opacity: 1; stroke-width: 2px; opacity: 1;\"/><path d=\"M34.92,216.02H35.44M35.44,215.23V248.59M35.96,243.89H35.44\" style=\"fill: none; stroke: rgb(217, 95, 2); stroke-opacity: 1; stroke-width: 2px; opacity: 1;\"/><path d=\"M36.65,243.88H37.17M37.17,225.93V255.96M37.69,231.25H37.17\" style=\"fill: none; stroke: rgb(27, 158, 118); stroke-opacity: 1; stroke-width: 2px; opacity: 1;\"/><path d=\"M38.38,231.22H38.9M38.9,228.16V240.63M39.42,236.48H38.9\" style=\"fill: none; stroke: rgb(217, 95, 2); stroke-opacity: 1; stroke-width: 2px; opacity: 1;\"/><path d=\"M40.11,236.48H40.63M40.63,230.49V243.59M41.14,235.38H40.63\" style=\"fill: none; stroke: rgb(27, 158, 118); stroke-opacity: 1; stroke-width: 2px; opacity: 1;\"/><path d=\"M41.84,235.38H42.35M42.35,219.6V237.49M42.87,235.42H42.35\" style=\"fill: none; stroke: rgb(217, 95, 2); stroke-opacity: 1; stroke-width: 2px; opacity: 1;\"/><path d=\"M43.56,235.42H44.08M44.08,231.39V243.96M44.6,234.13H44.08\" style=\"fill: none; stroke: rgb(27, 158, 118); stroke-opacity: 1; stroke-width: 2px; opacity: 1;\"/><path d=\"M45.29,234.15H45.81M45.81,233.59V253.59M46.33,246.81H45.81\" style=\"fill: none; stroke: rgb(217, 95, 2); stroke-opacity: 1; stroke-width: 2px; opacity: 1;\"/><path d=\"M47.02,246.83H47.54M47.54,226.19V249.97M48.06,228.71H47.54\" style=\"fill: none; stroke: rgb(27, 158, 118); stroke-opacity: 1; stroke-width: 2px; opacity: 1;\"/><path d=\"M48.75,228.69H49.27M49.27,197.54V237.46M49.79,223.36H49.27\" style=\"fill: none; stroke: rgb(27, 158, 118); stroke-opacity: 1; stroke-width: 2px; opacity: 1;\"/><path d=\"M50.48,223.4H51M51,219.25V231.97M51.52,223.3H51\" style=\"fill: none; stroke: rgb(27, 158, 118); stroke-opacity: 1; stroke-width: 2px; opacity: 1;\"/><path d=\"M52.21,223.3H52.73M52.73,222.81V235.91M53.25,230.35H52.73\" style=\"fill: none; stroke: rgb(217, 95, 2); stroke-opacity: 1; stroke-width: 2px; opacity: 1;\"/><path d=\"M53.94,230.35H54.46M54.46,220.55V235.16M54.97,227.74H54.46\" style=\"fill: none; stroke: rgb(27, 158, 118); stroke-opacity: 1; stroke-width: 2px; opacity: 1;\"/><path d=\"M55.67,227.8H56.18M56.18,212.91V228.39M56.7,216.03H56.18\" style=\"fill: none; stroke: rgb(27, 158, 118); stroke-opacity: 1; stroke-width: 2px; opacity: 1;\"/><path d=\"M57.4,216H57.91M57.91,202.78V216.66M58.43,203.05H57.91\" style=\"fill: none; stroke: rgb(27, 158, 118); stroke-opacity: 1; stroke-width: 2px; opacity: 1;\"/><path d=\"M59.12,203.04H59.64M59.64,196.47V211.84M60.16,207.16H59.64\" style=\"fill: none; stroke: rgb(217, 95, 2); stroke-opacity: 1; stroke-width: 2px; opacity: 1;\"/><path d=\"M60.85,207.16H61.37M61.37,198.88V209.38M61.89,199H61.37\" style=\"fill: none; stroke: rgb(27, 158, 118); stroke-opacity: 1; stroke-width: 2px; opacity: 1;\"/><path d=\"M62.58,199H63.1M63.1,182.91V199.44M63.62,193.59H63.1\" style=\"fill: none; stroke: rgb(27, 158, 118); stroke-opacity: 1; stroke-width: 2px; opacity: 1;\"/><path d=\"M64.31,193.62H64.83M64.83,190.49V204.66M65.35,195.95H64.83\" style=\"fill: none; stroke: rgb(217, 95, 2); stroke-opacity: 1; stroke-width: 2px; opacity: 1;\"/><path d=\"M66.04,195.95H66.56M66.56,147.68V200.81M67.08,150.21H66.56\" style=\"fill: none; stroke: rgb(27, 158, 118); stroke-opacity: 1; stroke-width: 2px; opacity: 1;\"/><path d=\"M67.77,150.21H68.29M68.29,139.55V158.75M68.8,149.94H68.29\" style=\"fill: none; stroke: rgb(27, 158, 118); stroke-opacity: 1; stroke-width: 2px; opacity: 1;\"/><path d=\"M69.5,149.94H70.02M70.02,144.57V166.19M70.53,159.67H70.02\" style=\"fill: none; stroke: rgb(217, 95, 2); stroke-opacity: 1; stroke-width: 2px; opacity: 1;\"/><path d=\"M71.23,159.67H71.74M71.74,136.31V164.58M72.26,140.59H71.74\" style=\"fill: none; stroke: rgb(27, 158, 118); stroke-opacity: 1; stroke-width: 2px; opacity: 1;\"/><path d=\"M72.95,140.6H73.47M73.47,134.46V151.72M73.99,144.71H73.47\" style=\"fill: none; stroke: rgb(217, 95, 2); stroke-opacity: 1; stroke-width: 2px; opacity: 1;\"/><path d=\"M74.68,144.64H75.2M75.2,139.5V151.25M75.72,145.52H75.2\" style=\"fill: none; stroke: rgb(217, 95, 2); stroke-opacity: 1; stroke-width: 2px; opacity: 1;\"/><path d=\"M76.41,145.5H76.93M76.93,130.11V146.36M77.45,136.92H76.93\" style=\"fill: none; stroke: rgb(27, 158, 118); stroke-opacity: 1; stroke-width: 2px; opacity: 1;\"/><path d=\"M78.14,136.91H78.66M78.66,134.31V155.07M79.18,140.95H78.66\" style=\"fill: none; stroke: rgb(217, 95, 2); stroke-opacity: 1; stroke-width: 2px; opacity: 1;\"/><path d=\"M79.87,140.95H80.39M80.39,124.18V146.42M80.91,133.57H80.39\" style=\"fill: none; stroke: rgb(27, 158, 118); stroke-opacity: 1; stroke-width: 2px; opacity: 1;\"/><path d=\"M81.6,133.57H82.12M82.12,112.54V134.7M82.64,115.55H82.12\" style=\"fill: none; stroke: rgb(27, 158, 118); stroke-opacity: 1; stroke-width: 2px; opacity: 1;\"/><path d=\"M83.33,115.56H83.85M83.85,113.08V122.9M84.36,118.97H83.85\" style=\"fill: none; stroke: rgb(217, 95, 2); stroke-opacity: 1; stroke-width: 2px; opacity: 1;\"/><path d=\"M85.06,118.97H85.57M85.57,89.92V124.06M86.09,92.71H85.57\" style=\"fill: none; stroke: rgb(27, 158, 118); stroke-opacity: 1; stroke-width: 2px; opacity: 1;\"/><path d=\"M86.78,92.71H87.3M87.3,81.88V105.03M87.82,93.1H87.3\" style=\"fill: none; stroke: rgb(217, 95, 2); stroke-opacity: 1; stroke-width: 2px; opacity: 1;\"/><path d=\"M88.51,93.1H89.03M89.03,77.94V95.29M89.55,83.64H89.03\" style=\"fill: none; stroke: rgb(27, 158, 118); stroke-opacity: 1; stroke-width: 2px; opacity: 1;\"/><path d=\"M90.24,83.62H90.76M90.76,83.04V142.69M91.28,103.68H90.76\" style=\"fill: none; stroke: rgb(217, 95, 2); stroke-opacity: 1; stroke-width: 2px; opacity: 1;\"/><path d=\"M91.97,103.68H92.49M92.49,103.1V159.16M93.01,135.03H92.49\" style=\"fill: none; stroke: rgb(217, 95, 2); stroke-opacity: 1; stroke-width: 2px; opacity: 1;\"/><path d=\"M93.7,135.03H94.22M94.22,120.05V146.51M94.74,130.3H94.22\" style=\"fill: none; stroke: rgb(27, 158, 118); stroke-opacity: 1; stroke-width: 2px; opacity: 1;\"/><path d=\"M95.43,130.3H95.95M95.95,116.02V148.41M96.47,146H95.95\" style=\"fill: none; stroke: rgb(217, 95, 2); stroke-opacity: 1; stroke-width: 2px; opacity: 1;\"/><path d=\"M97.16,146H97.68M97.68,137.85V163.9M98.19,150.81H97.68\" style=\"fill: none; stroke: rgb(217, 95, 2); stroke-opacity: 1; stroke-width: 2px; opacity: 1;\"/><path d=\"M98.89,150.81H99.4M99.4,138.03V158.51M99.92,151.83H99.4\" style=\"fill: none; stroke: rgb(217, 95, 2); stroke-opacity: 1; stroke-width: 2px; opacity: 1;\"/><path d=\"M100.61,151.85H101.13M101.13,148.62V170.58M101.65,157.69H101.13\" style=\"fill: none; stroke: rgb(217, 95, 2); stroke-opacity: 1; stroke-width: 2px; opacity: 1;\"/><path d=\"M102.34,157.7H102.86M102.86,129.61V158.81M103.38,130.83H102.86\" style=\"fill: none; stroke: rgb(27, 158, 118); stroke-opacity: 1; stroke-width: 2px; opacity: 1;\"/><path d=\"M104.07,130.78H104.59M104.59,127.13V146.16M105.11,137.75H104.59\" style=\"fill: none; stroke: rgb(217, 95, 2); stroke-opacity: 1; stroke-width: 2px; opacity: 1;\"/><path d=\"M105.8,137.77H106.32M106.32,112.41V139.8M106.84,126.23H106.32\" style=\"fill: none; stroke: rgb(27, 158, 118); stroke-opacity: 1; stroke-width: 2px; opacity: 1;\"/><path d=\"M107.53,126.23H108.05M108.05,117.64V143.43M108.57,138.15H108.05\" style=\"fill: none; stroke: rgb(217, 95, 2); stroke-opacity: 1; stroke-width: 2px; opacity: 1;\"/><path d=\"M109.26,138.15H109.78M109.78,131.67V150.67M110.3,135.87H109.78\" style=\"fill: none; stroke: rgb(27, 158, 118); stroke-opacity: 1; stroke-width: 2px; opacity: 1;\"/><path d=\"M110.99,135.9H111.51M111.51,133.17V146.02M112.02,135.09H111.51\" style=\"fill: none; stroke: rgb(27, 158, 118); stroke-opacity: 1; stroke-width: 2px; opacity: 1;\"/><path d=\"M112.72,135.09H113.23M113.23,119.59V135.09M113.75,122.48H113.23\" style=\"fill: none; stroke: rgb(27, 158, 118); stroke-opacity: 1; stroke-width: 2px; opacity: 1;\"/><path d=\"M114.44,122.55H114.96M114.96,113.84V132.72M115.48,114.01H114.96\" style=\"fill: none; stroke: rgb(27, 158, 118); stroke-opacity: 1; stroke-width: 2px; opacity: 1;\"/><path d=\"M116.17,114.01H116.69M116.69,98.81V117.54M117.21,98.87H116.69\" style=\"fill: none; stroke: rgb(27, 158, 118); stroke-opacity: 1; stroke-width: 2px; opacity: 1;\"/><path d=\"M117.9,98.93H118.42M118.42,83.77V110.21M118.94,93.03H118.42\" style=\"fill: none; stroke: rgb(27, 158, 118); stroke-opacity: 1; stroke-width: 2px; opacity: 1;\"/><path d=\"M119.63,93.03H120.15M120.15,79.17V102.56M120.67,81.44H120.15\" style=\"fill: none; stroke: rgb(27, 158, 118); stroke-opacity: 1; stroke-width: 2px; opacity: 1;\"/><path d=\"M121.36,81.44H121.88M121.88,79.58V98.4M122.4,84.77H121.88\" style=\"fill: none; stroke: rgb(217, 95, 2); stroke-opacity: 1; stroke-width: 2px; opacity: 1;\"/><path d=\"M123.09,84.77H123.61M123.61,56.88V91.67M124.13,60.83H123.61\" style=\"fill: none; stroke: rgb(27, 158, 118); stroke-opacity: 1; stroke-width: 2px; opacity: 1;\"/><path d=\"M124.82,60.83H125.34M125.34,57.6V74.24M125.85,74.23H125.34\" style=\"fill: none; stroke: rgb(217, 95, 2); stroke-opacity: 1; stroke-width: 2px; opacity: 1;\"/><path d=\"M126.55,74.18H127.06M127.06,64.18V100.59M127.58,94.52H127.06\" style=\"fill: none; stroke: rgb(217, 95, 2); stroke-opacity: 1; stroke-width: 2px; opacity: 1;\"/><path d=\"M128.27,94.52H128.79M128.79,86.48V108.6M129.31,86.7H128.79\" style=\"fill: none; stroke: rgb(27, 158, 118); stroke-opacity: 1; stroke-width: 2px; opacity: 1;\"/><path d=\"M130,86.7H130.52M130.52,74.19V103.46M131.04,74.56H130.52\" style=\"fill: none; stroke: rgb(27, 158, 118); stroke-opacity: 1; stroke-width: 2px; opacity: 1;\"/><path d=\"M131.73,74.56H132.25M132.25,67.22V85.97M132.77,82.19H132.25\" style=\"fill: none; stroke: rgb(217, 95, 2); stroke-opacity: 1; stroke-width: 2px; opacity: 1;\"/><path d=\"M133.46,82.24H133.98M133.98,71.21V90.51M134.5,79.89H133.98\" style=\"fill: none; stroke: rgb(27, 158, 118); stroke-opacity: 1; stroke-width: 2px; opacity: 1;\"/><path d=\"M135.19,79.89H135.71M135.71,68.73V81.16M136.23,79.45H135.71\" style=\"fill: none; stroke: rgb(27, 158, 118); stroke-opacity: 1; stroke-width: 2px; opacity: 1;\"/><path d=\"M136.92,79.47H137.44M137.44,76.52V95.46M137.96,83.98H137.44\" style=\"fill: none; stroke: rgb(217, 95, 2); stroke-opacity: 1; stroke-width: 2px; opacity: 1;\"/><path d=\"M138.65,83.98H139.17M139.17,77.47V106.32M139.68,103.7H139.17\" style=\"fill: none; stroke: rgb(217, 95, 2); stroke-opacity: 1; stroke-width: 2px; opacity: 1;\"/><path d=\"M140.38,103.7H140.89M140.89,93.16V110.24M141.41,102.15H140.89\" style=\"fill: none; stroke: rgb(27, 158, 118); stroke-opacity: 1; stroke-width: 2px; opacity: 1;\"/><path d=\"M142.1,102.14H142.62M142.62,84.9V118.08M143.14,114.44H142.62\" style=\"fill: none; stroke: rgb(217, 95, 2); stroke-opacity: 1; stroke-width: 2px; opacity: 1;\"/><path d=\"M143.83,114.44H144.35M144.35,108.51V125.76M144.87,120.54H144.35\" style=\"fill: none; stroke: rgb(217, 95, 2); stroke-opacity: 1; stroke-width: 2px; opacity: 1;\"/><path d=\"M145.56,120.54H146.08M146.08,97.73V121.01M146.6,98.02H146.08\" style=\"fill: none; stroke: rgb(27, 158, 118); stroke-opacity: 1; stroke-width: 2px; opacity: 1;\"/><path d=\"M147.29,98.02H147.81M147.81,87.91V104.51M148.33,93.24H147.81\" style=\"fill: none; stroke: rgb(27, 158, 118); stroke-opacity: 1; stroke-width: 2px; opacity: 1;\"/><path d=\"M149.02,93.24H149.54M149.54,88.76V100.03M150.06,93.48H149.54\" style=\"fill: none; stroke: rgb(217, 95, 2); stroke-opacity: 1; stroke-width: 2px; opacity: 1;\"/><path d=\"M150.75,93.48H151.27M151.27,77.62V99.38M151.79,82.27H151.27\" style=\"fill: none; stroke: rgb(27, 158, 118); stroke-opacity: 1; stroke-width: 2px; opacity: 1;\"/><path d=\"M152.48,82.27H153M153,71.82V85.67M153.51,75.57H153\" style=\"fill: none; stroke: rgb(27, 158, 118); stroke-opacity: 1; stroke-width: 2px; opacity: 1;\"/><path d=\"M154.21,75.57H154.72M154.72,69.21V87.5M155.24,75.6H154.72\" style=\"fill: none; stroke: rgb(217, 95, 2); stroke-opacity: 1; stroke-width: 2px; opacity: 1;\"/><path d=\"M155.93,75.61H156.45M156.45,71.08V80.46M156.97,75.72H156.45\" style=\"fill: none; stroke: rgb(217, 95, 2); stroke-opacity: 1; stroke-width: 2px; opacity: 1;\"/><path d=\"M157.66,75.72H158.18M158.18,66.8V77.49M158.7,74.34H158.18\" style=\"fill: none; stroke: rgb(27, 158, 118); stroke-opacity: 1; stroke-width: 2px; opacity: 1;\"/><path d=\"M159.39,74.34H159.91M159.91,69.26V86.83M160.43,85.79H159.91\" style=\"fill: none; stroke: rgb(217, 95, 2); stroke-opacity: 1; stroke-width: 2px; opacity: 1;\"/><path d=\"M161.12,85.79H161.64M161.64,77.1V89.8M162.16,78.85H161.64\" style=\"fill: none; stroke: rgb(27, 158, 118); stroke-opacity: 1; stroke-width: 2px; opacity: 1;\"/><path d=\"M162.85,78.85H163.37M163.37,72.4V87.45M163.89,73.25H163.37\" style=\"fill: none; stroke: rgb(27, 158, 118); stroke-opacity: 1; stroke-width: 2px; opacity: 1;\"/><path d=\"M164.58,73.25H165.1M165.1,71.05V83.61M165.62,80.12H165.1\" style=\"fill: none; stroke: rgb(217, 95, 2); stroke-opacity: 1; stroke-width: 2px; opacity: 1;\"/><path d=\"M166.31,80.13H166.83M166.83,76.12V95.32M167.34,92.42H166.83\" style=\"fill: none; stroke: rgb(217, 95, 2); stroke-opacity: 1; stroke-width: 2px; opacity: 1;\"/><path d=\"M168.04,92.42H168.55M168.55,79.15V93.95M169.07,79.6H168.55\" style=\"fill: none; stroke: rgb(27, 158, 118); stroke-opacity: 1; stroke-width: 2px; opacity: 1;\"/><path d=\"M169.76,79.6H170.28M170.28,74.67V82.16M170.8,79.21H170.28\" style=\"fill: none; stroke: rgb(27, 158, 118); stroke-opacity: 1; stroke-width: 2px; opacity: 1;\"/><path d=\"M171.49,79.21H172.01M172.01,58.95V80.67M172.53,69.4H172.01\" style=\"fill: none; stroke: rgb(27, 158, 118); stroke-opacity: 1; stroke-width: 2px; opacity: 1;\"/><path d=\"M173.22,69.4H173.74M173.74,63.79V72.63M174.26,67.99H173.74\" style=\"fill: none; stroke: rgb(27, 158, 118); stroke-opacity: 1; stroke-width: 2px; opacity: 1;\"/><path d=\"M174.95,68.01H175.47M175.47,60.16V71.92M175.99,68.85H175.47\" style=\"fill: none; stroke: rgb(217, 95, 2); stroke-opacity: 1; stroke-width: 2px; opacity: 1;\"/><path d=\"M176.68,68.85H177.2M177.2,45.21V69.18M177.72,46.43H177.2\" style=\"fill: none; stroke: rgb(27, 158, 118); stroke-opacity: 1; stroke-width: 2px; opacity: 1;\"/><path d=\"M178.41,46.43H178.93M178.93,38.72V60.15M179.45,50.15H178.93\" style=\"fill: none; stroke: rgb(217, 95, 2); stroke-opacity: 1; stroke-width: 2px; opacity: 1;\"/><path d=\"M180.14,50.15H180.66M180.66,45.08V55.82M181.17,48.94H180.66\" style=\"fill: none; stroke: rgb(27, 158, 118); stroke-opacity: 1; stroke-width: 2px; opacity: 1;\"/><path d=\"M181.87,48.94H182.38M182.38,46.76V68M182.9,59.95H182.38\" style=\"fill: none; stroke: rgb(217, 95, 2); stroke-opacity: 1; stroke-width: 2px; opacity: 1;\"/><path d=\"M183.6,59.95H184.11M184.11,52.88V70.53M184.63,67.96H184.11\" style=\"fill: none; stroke: rgb(217, 95, 2); stroke-opacity: 1; stroke-width: 2px; opacity: 1;\"/><path d=\"M185.32,67.96H185.84M185.84,64.99V122.72M186.36,91.23H185.84\" style=\"fill: none; stroke: rgb(217, 95, 2); stroke-opacity: 1; stroke-width: 2px; opacity: 1;\"/><path d=\"M187.05,91.23H187.57M187.57,82.93V102.87M188.09,94.35H187.57\" style=\"fill: none; stroke: rgb(217, 95, 2); stroke-opacity: 1; stroke-width: 2px; opacity: 1;\"/><path d=\"M188.78,94.35H189.3M189.3,85.65V108.25M189.82,89.57H189.3\" style=\"fill: none; stroke: rgb(27, 158, 118); stroke-opacity: 1; stroke-width: 2px; opacity: 1;\"/><path d=\"M190.51,89.57H191.03M191.03,87.57V107.01M191.55,105.49H191.03\" style=\"fill: none; stroke: rgb(217, 95, 2); stroke-opacity: 1; stroke-width: 2px; opacity: 1;\"/><path d=\"M192.24,105.49H192.76M192.76,95.03V125.32M193.28,118.14H192.76\" style=\"fill: none; stroke: rgb(217, 95, 2); stroke-opacity: 1; stroke-width: 2px; opacity: 1;\"/><path d=\"M193.97,118.14H194.49M194.49,115.48V143.43M195,121.55H194.49\" style=\"fill: none; stroke: rgb(217, 95, 2); stroke-opacity: 1; stroke-width: 2px; opacity: 1;\"/><path d=\"M195.7,121.64H196.22M196.22,121.3V136.44M196.73,128.05H196.22\" style=\"fill: none; stroke: rgb(217, 95, 2); stroke-opacity: 1; stroke-width: 2px; opacity: 1;\"/><path d=\"M197.43,128.05H197.94M197.94,124.91V146.87M198.46,133.97H197.94\" style=\"fill: none; stroke: rgb(217, 95, 2); stroke-opacity: 1; stroke-width: 2px; opacity: 1;\"/><path d=\"M199.15,133.97H199.67M199.67,102.05V135.86M200.19,104.2H199.67\" style=\"fill: none; stroke: rgb(27, 158, 118); stroke-opacity: 1; stroke-width: 2px; opacity: 1;\"/><path d=\"M200.88,104.2H201.4M201.4,95.4V108.9M201.92,98.1H201.4\" style=\"fill: none; stroke: rgb(27, 158, 118); stroke-opacity: 1; stroke-width: 2px; opacity: 1;\"/><path d=\"M202.61,98.1H203.13M203.13,89.56V105.33M203.65,99.1H203.13\" style=\"fill: none; stroke: rgb(217, 95, 2); stroke-opacity: 1; stroke-width: 2px; opacity: 1;\"/><path d=\"M204.34,99.1H204.86M204.86,96.99V114.28M205.38,106.89H204.86\" style=\"fill: none; stroke: rgb(217, 95, 2); stroke-opacity: 1; stroke-width: 2px; opacity: 1;\"/><path d=\"M206.07,106.89H206.59M206.59,80.29V110.16M207.11,81.92H206.59\" style=\"fill: none; stroke: rgb(27, 158, 118); stroke-opacity: 1; stroke-width: 2px; opacity: 1;\"/><path d=\"M207.8,81.9H208.32M208.32,77.31V86.37M208.84,81.28H208.32\" style=\"fill: none; stroke: rgb(27, 158, 118); stroke-opacity: 1; stroke-width: 2px; opacity: 1;\"/><path d=\"M209.53,81.29H210.05M210.05,80.61V91.93M210.56,88.65H210.05\" style=\"fill: none; stroke: rgb(217, 95, 2); stroke-opacity: 1; stroke-width: 2px; opacity: 1;\"/><path d=\"M211.26,88.65H211.77M211.77,74.15V89.51M212.29,85.08H211.77\" style=\"fill: none; stroke: rgb(27, 158, 118); stroke-opacity: 1; stroke-width: 2px; opacity: 1;\"/><path d=\"M212.98,85.08H213.5M213.5,84.9V109.96M214.02,109.03H213.5\" style=\"fill: none; stroke: rgb(217, 95, 2); stroke-opacity: 1; stroke-width: 2px; opacity: 1;\"/><path d=\"M214.71,109H215.23M215.23,79.65V110.84M215.75,83.47H215.23\" style=\"fill: none; stroke: rgb(27, 158, 118); stroke-opacity: 1; stroke-width: 2px; opacity: 1;\"/><path d=\"M216.44,83.47H216.96M216.96,77.9V96.97M217.48,89.76H216.96\" style=\"fill: none; stroke: rgb(217, 95, 2); stroke-opacity: 1; stroke-width: 2px; opacity: 1;\"/><path d=\"M218.17,89.76H218.69M218.69,76.15V96.71M219.21,84.21H218.69\" style=\"fill: none; stroke: rgb(27, 158, 118); stroke-opacity: 1; stroke-width: 2px; opacity: 1;\"/><path d=\"M219.9,84.2H220.42M220.42,71.02V86.71M220.94,74.87H220.42\" style=\"fill: none; stroke: rgb(27, 158, 118); stroke-opacity: 1; stroke-width: 2px; opacity: 1;\"/><path d=\"M221.63,74.84H222.15M222.15,72.23V90.72M222.67,78.62H222.15\" style=\"fill: none; stroke: rgb(217, 95, 2); stroke-opacity: 1; stroke-width: 2px; opacity: 1;\"/><path d=\"M223.36,78.62H223.88M223.88,71.02V107.83M224.39,93.25H223.88\" style=\"fill: none; stroke: rgb(217, 95, 2); stroke-opacity: 1; stroke-width: 2px; opacity: 1;\"/><path d=\"M225.09,93.25H225.6M225.6,86.94V101.97M226.12,88.1H225.6\" style=\"fill: none; stroke: rgb(27, 158, 118); stroke-opacity: 1; stroke-width: 2px; opacity: 1;\"/><path d=\"M226.81,88.1H227.33M227.33,80.07V136.79M227.85,130.57H227.33\" style=\"fill: none; stroke: rgb(217, 95, 2); stroke-opacity: 1; stroke-width: 2px; opacity: 1;\"/><path d=\"M228.54,131.13H229.06M229.06,120.09V152.48M229.58,130.33H229.06\" style=\"fill: none; stroke: rgb(27, 158, 118); stroke-opacity: 1; stroke-width: 2px; opacity: 1;\"/><path d=\"M230.27,130.32H230.79M230.79,119.39V135.58M231.31,129.3H230.79\" style=\"fill: none; stroke: rgb(27, 158, 118); stroke-opacity: 1; stroke-width: 2px; opacity: 1;\"/><path d=\"M232,129.28H232.52M232.52,124.12V149.13M233.04,147.87H232.52\" style=\"fill: none; stroke: rgb(217, 95, 2); stroke-opacity: 1; stroke-width: 2px; opacity: 1;\"/><path d=\"M233.73,147.87H234.25M234.25,129.57V165.6M234.77,149.87H234.25\" style=\"fill: none; stroke: rgb(217, 95, 2); stroke-opacity: 1; stroke-width: 2px; opacity: 1;\"/><path d=\"M235.46,149.9H235.98M235.98,148.34V176.61M236.5,167.33H235.98\" style=\"fill: none; stroke: rgb(217, 95, 2); stroke-opacity: 1; stroke-width: 2px; opacity: 1;\"/><path d=\"M237.19,167.33H237.71M237.71,153.69V175.1M238.22,171.48H237.71\" style=\"fill: none; stroke: rgb(217, 95, 2); stroke-opacity: 1; stroke-width: 2px; opacity: 1;\"/><path d=\"M238.92,171.48H239.43M239.43,167.05V249.02M239.95,208.65H239.43\" style=\"fill: none; stroke: rgb(217, 95, 2); stroke-opacity: 1; stroke-width: 2px; opacity: 1;\"/><path d=\"M240.64,208.76H241.16M241.16,173.89V219.75M241.68,185.5H241.16\" style=\"fill: none; stroke: rgb(27, 158, 118); stroke-opacity: 1; stroke-width: 2px; opacity: 1;\"/><path d=\"M242.37,185.51H242.89M242.89,175.4V227.97M243.41,205.26H242.89\" style=\"fill: none; stroke: rgb(217, 95, 2); stroke-opacity: 1; stroke-width: 2px; opacity: 1;\"/><path d=\"M244.1,205.19H244.62M244.62,195.74V217.64M245.14,204.07H244.62\" style=\"fill: none; stroke: rgb(27, 158, 118); stroke-opacity: 1; stroke-width: 2px; opacity: 1;\"/><path d=\"M245.83,204.01H246.35M246.35,199.11V242.31M246.87,220.93H246.35\" style=\"fill: none; stroke: rgb(217, 95, 2); stroke-opacity: 1; stroke-width: 2px; opacity: 1;\"/><path d=\"M247.56,220.77H248.08M248.08,189.16V224.69M248.6,195.94H248.08\" style=\"fill: none; stroke: rgb(27, 158, 118); stroke-opacity: 1; stroke-width: 2px; opacity: 1;\"/><path d=\"M249.29,195.85H249.81M249.81,189.94V210.28M250.33,198.79H249.81\" style=\"fill: none; stroke: rgb(217, 95, 2); stroke-opacity: 1; stroke-width: 2px; opacity: 1;\"/><path d=\"M251.02,198.79H251.54M251.54,183.6V201.95M252.05,193.25H251.54\" style=\"fill: none; stroke: rgb(27, 158, 118); stroke-opacity: 1; stroke-width: 2px; opacity: 1;\"/><path d=\"M252.75,193.25H253.26M253.26,186.2V205.97M253.78,197.55H253.26\" style=\"fill: none; stroke: rgb(217, 95, 2); stroke-opacity: 1; stroke-width: 2px; opacity: 1;\"/><path d=\"M254.47,197.55H254.99M254.99,195.45V220.75M255.51,214.84H254.99\" style=\"fill: none; stroke: rgb(217, 95, 2); stroke-opacity: 1; stroke-width: 2px; opacity: 1;\"/><path d=\"M256.2,214.85H256.72M256.72,204.74V227.1M257.24,221.23H256.72\" style=\"fill: none; stroke: rgb(217, 95, 2); stroke-opacity: 1; stroke-width: 2px; opacity: 1;\"/><path d=\"M257.93,221.23H258.45M258.45,209.87V228.63M258.97,214.98H258.45\" style=\"fill: none; stroke: rgb(27, 158, 118); stroke-opacity: 1; stroke-width: 2px; opacity: 1;\"/><path d=\"M259.66,214.98H260.18M260.18,203.77V223.95M260.7,205.25H260.18\" style=\"fill: none; stroke: rgb(27, 158, 118); stroke-opacity: 1; stroke-width: 2px; opacity: 1;\"/><path d=\"M261.39,205.25H261.91M261.91,201.38V214.83M262.43,208.63H261.91\" style=\"fill: none; stroke: rgb(217, 95, 2); stroke-opacity: 1; stroke-width: 2px; opacity: 1;\"/><path d=\"M263.12,208.62H263.64M263.64,199.39V213.3M264.16,203.35H263.64\" style=\"fill: none; stroke: rgb(27, 158, 118); stroke-opacity: 1; stroke-width: 2px; opacity: 1;\"/><path d=\"M264.85,203.35H265.37M265.37,191.84V205.75M265.88,193.22H265.37\" style=\"fill: none; stroke: rgb(27, 158, 118); stroke-opacity: 1; stroke-width: 2px; opacity: 1;\"/><path d=\"M266.58,193.22H267.09M267.09,192.97V215.5M267.61,207.81H267.09\" style=\"fill: none; stroke: rgb(217, 95, 2); stroke-opacity: 1; stroke-width: 2px; opacity: 1;\"/><path d=\"M268.3,207.81H268.82M268.82,201.2V220.05M269.34,215.75H268.82\" style=\"fill: none; stroke: rgb(217, 95, 2); stroke-opacity: 1; stroke-width: 2px; opacity: 1;\"/><path d=\"M270.03,215.73H270.55M270.55,209.92V217.51M271.07,214.04H270.55\" style=\"fill: none; stroke: rgb(27, 158, 118); stroke-opacity: 1; stroke-width: 2px; opacity: 1;\"/><path d=\"M271.76,214.04H272.28M272.28,207.38V229.11M272.8,227.58H272.28\" style=\"fill: none; stroke: rgb(217, 95, 2); stroke-opacity: 1; stroke-width: 2px; opacity: 1;\"/><path d=\"M273.49,227.55H274.01M274.01,224.47V242.98M274.53,228.62H274.01\" style=\"fill: none; stroke: rgb(217, 95, 2); stroke-opacity: 1; stroke-width: 2px; opacity: 1;\"/><path d=\"M275.22,228.62H275.74M275.74,203.55V234.56M276.26,204.44H275.74\" style=\"fill: none; stroke: rgb(27, 158, 118); stroke-opacity: 1; stroke-width: 2px; opacity: 1;\"/><path d=\"M276.95,204.44H277.47M277.47,197.78V214.13M277.99,208.74H277.47\" style=\"fill: none; stroke: rgb(217, 95, 2); stroke-opacity: 1; stroke-width: 2px; opacity: 1;\"/><path d=\"M278.68,208.72H279.2M279.2,202.68V213.2M279.71,204.78H279.2\" style=\"fill: none; stroke: rgb(27, 158, 118); stroke-opacity: 1; stroke-width: 2px; opacity: 1;\"/><path d=\"M280.41,204.78H280.92M280.92,203.98V221.26M281.44,215.55H280.92\" style=\"fill: none; stroke: rgb(217, 95, 2); stroke-opacity: 1; stroke-width: 2px; opacity: 1;\"/><path d=\"M282.13,215.55H282.65M282.65,192.42V220.31M283.17,194.59H282.65\" style=\"fill: none; stroke: rgb(27, 158, 118); stroke-opacity: 1; stroke-width: 2px; opacity: 1;\"/><path d=\"M283.86,194.59H284.38M284.38,182.26V196.34M284.9,185.56H284.38\" style=\"fill: none; stroke: rgb(27, 158, 118); stroke-opacity: 1; stroke-width: 2px; opacity: 1;\"/><path d=\"M285.59,185.56H286.11M286.11,180.65V191.66M286.63,187.81H286.11\" style=\"fill: none; stroke: rgb(217, 95, 2); stroke-opacity: 1; stroke-width: 2px; opacity: 1;\"/><path d=\"M287.32,187.81H287.84M287.84,185.5V200.05M288.36,198.64H287.84\" style=\"fill: none; stroke: rgb(217, 95, 2); stroke-opacity: 1; stroke-width: 2px; opacity: 1;\"/><path d=\"M289.05,198.64H289.57M289.57,191.33V204.58M290.09,200.19H289.57\" style=\"fill: none; stroke: rgb(217, 95, 2); stroke-opacity: 1; stroke-width: 2px; opacity: 1;\"/><path d=\"M290.78,200.19H291.3M291.3,199.52V218.07M291.82,213.9H291.3\" style=\"fill: none; stroke: rgb(217, 95, 2); stroke-opacity: 1; stroke-width: 2px; opacity: 1;\"/><path d=\"M292.51,213.9H293.03M293.03,210.06V220.03M293.54,215.93H293.03\" style=\"fill: none; stroke: rgb(217, 95, 2); stroke-opacity: 1; stroke-width: 2px; opacity: 1;\"/><path d=\"M294.24,215.93H294.75M294.75,211.98V228.89M295.27,215.23H294.75\" style=\"fill: none; stroke: rgb(27, 158, 118); stroke-opacity: 1; stroke-width: 2px; opacity: 1;\"/><path d=\"M295.96,215.23H296.48M296.48,214.32V241.47M297,239.31H296.48\" style=\"fill: none; stroke: rgb(217, 95, 2); stroke-opacity: 1; stroke-width: 2px; opacity: 1;\"/><path d=\"M297.69,239.28H298.21M298.21,229.11V256.23M298.73,233.87H298.21\" style=\"fill: none; stroke: rgb(27, 158, 118); stroke-opacity: 1; stroke-width: 2px; opacity: 1;\"/><path d=\"M299.42,233.87H299.94M299.94,219.57V238.86M300.46,226.82H299.94\" style=\"fill: none; stroke: rgb(27, 158, 118); stroke-opacity: 1; stroke-width: 2px; opacity: 1;\"/><path d=\"M301.15,226.84H301.67M301.67,217.05V235.22M302.19,220.88H301.67\" style=\"fill: none; stroke: rgb(27, 158, 118); stroke-opacity: 1; stroke-width: 2px; opacity: 1;\"/><path d=\"M302.88,220.88H303.4M303.4,215.83V241.32M303.92,239.46H303.4\" style=\"fill: none; stroke: rgb(217, 95, 2); stroke-opacity: 1; stroke-width: 2px; opacity: 1;\"/><path d=\"M304.61,239.51H305.13M305.13,232.54V248.11M305.65,235.24H305.13\" style=\"fill: none; stroke: rgb(27, 158, 118); stroke-opacity: 1; stroke-width: 2px; opacity: 1;\"/><path d=\"M306.34,235.24H306.86M306.86,220.36V237.11M307.37,220.66H306.86\" style=\"fill: none; stroke: rgb(27, 158, 118); stroke-opacity: 1; stroke-width: 2px; opacity: 1;\"/><path d=\"M308.07,220.64H308.58M308.58,217.05V225.71M309.1,221.9H308.58\" style=\"fill: none; stroke: rgb(217, 95, 2); stroke-opacity: 1; stroke-width: 2px; opacity: 1;\"/><path d=\"M309.8,221.9H310.31M310.31,209.19V223.52M310.83,213.35H310.31\" style=\"fill: none; stroke: rgb(27, 158, 118); stroke-opacity: 1; stroke-width: 2px; opacity: 1;\"/><path d=\"M311.52,213.35H312.04M312.04,212.21V224.78M312.56,218.58H312.04\" style=\"fill: none; stroke: rgb(217, 95, 2); stroke-opacity: 1; stroke-width: 2px; opacity: 1;\"/><path d=\"M313.25,218.58H313.77M313.77,218.5V232.66M314.29,227.87H313.77\" style=\"fill: none; stroke: rgb(217, 95, 2); stroke-opacity: 1; stroke-width: 2px; opacity: 1;\"/><path d=\"M314.98,227.88H315.5M315.5,225.02V232.73M316.02,226.17H315.5\" style=\"fill: none; stroke: rgb(27, 158, 118); stroke-opacity: 1; stroke-width: 2px; opacity: 1;\"/><path d=\"M316.71,226.17H317.23M317.23,219.18V229M317.75,220.84H317.23\" style=\"fill: none; stroke: rgb(27, 158, 118); stroke-opacity: 1; stroke-width: 2px; opacity: 1;\"/><path d=\"M318.44,220.84H318.96M318.96,213.01V222.73M319.48,217.12H318.96\" style=\"fill: none; stroke: rgb(27, 158, 118); stroke-opacity: 1; stroke-width: 2px; opacity: 1;\"/><path d=\"M320.17,217.11H320.69M320.69,217.08V230.16M321.2,226.75H320.69\" style=\"fill: none; stroke: rgb(217, 95, 2); stroke-opacity: 1; stroke-width: 2px; opacity: 1;\"/><path d=\"M321.9,226.75H322.42M322.42,218.13V227.71M322.93,223.55H322.42\" style=\"fill: none; stroke: rgb(27, 158, 118); stroke-opacity: 1; stroke-width: 2px; opacity: 1;\"/><path d=\"M323.63,223.55H324.14M324.14,218.49V226.22M324.66,225.71H324.14\" style=\"fill: none; stroke: rgb(217, 95, 2); stroke-opacity: 1; stroke-width: 2px; opacity: 1;\"/><path d=\"M325.35,225.71H325.87M325.87,225.31V236.48M326.39,231.67H325.87\" style=\"fill: none; stroke: rgb(217, 95, 2); stroke-opacity: 1; stroke-width: 2px; opacity: 1;\"/><path d=\"M327.08,231.67H327.6M327.6,224.28V235.37M328.12,225.99H327.6\" style=\"fill: none; stroke: rgb(27, 158, 118); stroke-opacity: 1; stroke-width: 2px; opacity: 1;\"/><path d=\"M328.81,225.99H329.33M329.33,223.3V230.89M329.85,227.88H329.33\" style=\"fill: none; stroke: rgb(217, 95, 2); stroke-opacity: 1; stroke-width: 2px; opacity: 1;\"/><path d=\"M330.54,227.88H331.06M331.06,220.86V229.07M331.58,223.32H331.06\" style=\"fill: none; stroke: rgb(27, 158, 118); stroke-opacity: 1; stroke-width: 2px; opacity: 1;\"/><path d=\"M332.27,223.32H332.79M332.79,220.79V232.98M333.31,230.39H332.79\" style=\"fill: none; stroke: rgb(217, 95, 2); stroke-opacity: 1; stroke-width: 2px; opacity: 1;\"/><path d=\"M334,230.39H334.52M334.52,228.86V235.73M335.04,232.55H334.52\" style=\"fill: none; stroke: rgb(217, 95, 2); stroke-opacity: 1; stroke-width: 2px; opacity: 1;\"/><path d=\"M335.73,232.55H336.25M336.25,230.23V239.66M336.76,232H336.25\" style=\"fill: none; stroke: rgb(27, 158, 118); stroke-opacity: 1; stroke-width: 2px; opacity: 1;\"/><path d=\"M337.46,232H337.97M337.97,229.8V242.18M338.49,237.67H337.97\" style=\"fill: none; stroke: rgb(217, 95, 2); stroke-opacity: 1; stroke-width: 2px; opacity: 1;\"/><path d=\"M339.18,237.71H339.7M339.7,235.45V242.86M340.22,240.67H339.7\" style=\"fill: none; stroke: rgb(217, 95, 2); stroke-opacity: 1; stroke-width: 2px; opacity: 1;\"/><path d=\"M340.91,240.67H341.43M341.43,237.22V241.99M341.95,239.85H341.43\" style=\"fill: none; stroke: rgb(27, 158, 118); stroke-opacity: 1; stroke-width: 2px; opacity: 1;\"/><path d=\"M342.64,239.85H343.16M343.16,234.32V242.33M343.68,238.29H343.16\" style=\"fill: none; stroke: rgb(27, 158, 118); stroke-opacity: 1; stroke-width: 2px; opacity: 1;\"/><path d=\"M344.37,238.29H344.89M344.89,237.56V246.56M345.41,243.95H344.89\" style=\"fill: none; stroke: rgb(217, 95, 2); stroke-opacity: 1; stroke-width: 2px; opacity: 1;\"/><path d=\"M346.1,243.95H346.62M346.62,242.6V253.37M347.14,250.28H346.62\" style=\"fill: none; stroke: rgb(217, 95, 2); stroke-opacity: 1; stroke-width: 2px; opacity: 1;\"/><path d=\"M347.83,250.28H348.35M348.35,231.77V252.14M348.87,236.08H348.35\" style=\"fill: none; stroke: rgb(27, 158, 118); stroke-opacity: 1; stroke-width: 2px; opacity: 1;\"/><path d=\"M349.56,236.08H350.08M350.08,233.38V238.71M350.59,235.21H350.08\" style=\"fill: none; stroke: rgb(27, 158, 118); stroke-opacity: 1; stroke-width: 2px; opacity: 1;\"/><path d=\"M351.29,235.21H351.8M351.8,226.99V237.41M352.32,227.09H351.8\" style=\"fill: none; stroke: rgb(27, 158, 118); stroke-opacity: 1; stroke-width: 2px; opacity: 1;\"/><path d=\"M353.01,227.09H353.53M353.53,221.86V228.5M354.05,223.32H353.53\" style=\"fill: none; stroke: rgb(27, 158, 118); stroke-opacity: 1; stroke-width: 2px; opacity: 1;\"/><path d=\"M354.74,223.3H355.26M355.26,216.45V225.78M355.78,216.55H355.26\" style=\"fill: none; stroke: rgb(27, 158, 118); stroke-opacity: 1; stroke-width: 2px; opacity: 1;\"/><path d=\"M356.47,216.55H356.99M356.99,185.36V217.61M357.51,205.35H356.99\" style=\"fill: none; stroke: rgb(27, 158, 118); stroke-opacity: 1; stroke-width: 2px; opacity: 1;\"/><path d=\"M358.2,205.32H358.72M358.72,191.44V210.5M359.24,191.95H358.72\" style=\"fill: none; stroke: rgb(27, 158, 118); stroke-opacity: 1; stroke-width: 2px; opacity: 1;\"/><path d=\"M359.93,191.96H360.45M360.45,183.25V196.09M360.97,188.56H360.45\" style=\"fill: none; stroke: rgb(27, 158, 118); stroke-opacity: 1; stroke-width: 2px; opacity: 1;\"/><path d=\"M361.66,188.56H362.18M362.18,184.82V193.51M362.7,188.58H362.18\" style=\"fill: none; stroke: rgb(217, 95, 2); stroke-opacity: 1; stroke-width: 2px; opacity: 1;\"/><path d=\"M363.39,188.57H363.91M363.91,174.7V198.86M364.42,175.37H363.91\" style=\"fill: none; stroke: rgb(27, 158, 118); stroke-opacity: 1; stroke-width: 2px; opacity: 1;\"/><path d=\"M365.12,175.37H365.63M365.63,173.91V182.64M366.15,179.86H365.63\" style=\"fill: none; stroke: rgb(217, 95, 2); stroke-opacity: 1; stroke-width: 2px; opacity: 1;\"/><path d=\"M366.84,179.86H367.36M367.36,173V192.17M367.88,189.61H367.36\" style=\"fill: none; stroke: rgb(217, 95, 2); stroke-opacity: 1; stroke-width: 2px; opacity: 1;\"/><path d=\"M368.57,189.58H369.09M369.09,185.78V196.58M369.61,193.82H369.09\" style=\"fill: none; stroke: rgb(217, 95, 2); stroke-opacity: 1; stroke-width: 2px; opacity: 1;\"/><path d=\"M370.3,193.83H370.82M370.82,190.01V202.91M371.34,199.5H370.82\" style=\"fill: none; stroke: rgb(217, 95, 2); stroke-opacity: 1; stroke-width: 2px; opacity: 1;\"/><path d=\"M372.03,199.5H372.55M372.55,188.86V203.71M373.07,190.35H372.55\" style=\"fill: none; stroke: rgb(27, 158, 118); stroke-opacity: 1; stroke-width: 2px; opacity: 1;\"/><path d=\"M373.76,190.35H374.28M374.28,180.53V204.77M374.8,183.48H374.28\" style=\"fill: none; stroke: rgb(27, 158, 118); stroke-opacity: 1; stroke-width: 2px; opacity: 1;\"/><path d=\"M375.49,183.48H376.01M376.01,168.21V189.56M376.53,171.56H376.01\" style=\"fill: none; stroke: rgb(27, 158, 118); stroke-opacity: 1; stroke-width: 2px; opacity: 1;\"/><path d=\"M377.22,171.56H377.74M377.74,160.32V173.92M378.25,161.09H377.74\" style=\"fill: none; stroke: rgb(27, 158, 118); stroke-opacity: 1; stroke-width: 2px; opacity: 1;\"/><path d=\"M378.95,161.09H379.46M379.46,156.64V169M379.98,165.78H379.46\" style=\"fill: none; stroke: rgb(217, 95, 2); stroke-opacity: 1; stroke-width: 2px; opacity: 1;\"/><path d=\"M380.67,165.78H381.19M381.19,149.74V171.91M381.71,150.95H381.19\" style=\"fill: none; stroke: rgb(27, 158, 118); stroke-opacity: 1; stroke-width: 2px; opacity: 1;\"/><path d=\"M382.4,150.97H382.92M382.92,148.25V160.99M383.44,154.98H382.92\" style=\"fill: none; stroke: rgb(217, 95, 2); stroke-opacity: 1; stroke-width: 2px; opacity: 1;\"/><path d=\"M384.13,154.98H384.65M384.65,147.99V156.45M385.17,155.43H384.65\" style=\"fill: none; stroke: rgb(217, 95, 2); stroke-opacity: 1; stroke-width: 2px; opacity: 1;\"/><path d=\"M385.86,155.43H386.38M386.38,151.16V165.93M386.9,162.14H386.38\" style=\"fill: none; stroke: rgb(217, 95, 2); stroke-opacity: 1; stroke-width: 2px; opacity: 1;\"/><path d=\"M387.59,162.13H388.11M388.11,141.1V163.23M388.63,141.62H388.11\" style=\"fill: none; stroke: rgb(27, 158, 118); stroke-opacity: 1; stroke-width: 2px; opacity: 1;\"/><path d=\"M389.32,141.62H389.84M389.84,139.54V152.65M390.36,146.03H389.84\" style=\"fill: none; stroke: rgb(217, 95, 2); stroke-opacity: 1; stroke-width: 2px; opacity: 1;\"/><path d=\"M391.05,146.03H391.57M391.57,144.2V155.49M392.08,146.6H391.57\" style=\"fill: none; stroke: rgb(217, 95, 2); stroke-opacity: 1; stroke-width: 2px; opacity: 1;\"/><path d=\"M392.78,146.6H393.29M393.29,140.08V154.53M393.81,153.07H393.29\" style=\"fill: none; stroke: rgb(217, 95, 2); stroke-opacity: 1; stroke-width: 2px; opacity: 1;\"/><path d=\"M394.5,153.07H395.02M395.02,145.48V162.28M395.54,160.34H395.02\" style=\"fill: none; stroke: rgb(217, 95, 2); stroke-opacity: 1; stroke-width: 2px; opacity: 1;\"/><path d=\"M396.23,160.34H396.75M396.75,152.48V163.32M397.27,160.29H396.75\" style=\"fill: none; stroke: rgb(27, 158, 118); stroke-opacity: 1; stroke-width: 2px; opacity: 1;\"/><path d=\"M397.96,160.32H398.48M398.48,146.24V164.98M399,147.89H398.48\" style=\"fill: none; stroke: rgb(27, 158, 118); stroke-opacity: 1; stroke-width: 2px; opacity: 1;\"/><path d=\"M399.69,147.89H400.21M400.21,132.06V148.72M400.73,132.43H400.21\" style=\"fill: none; stroke: rgb(27, 158, 118); stroke-opacity: 1; stroke-width: 2px; opacity: 1;\"/><path d=\"M401.42,132.43H401.94M401.94,129.81V139.07M402.46,135.45H401.94\" style=\"fill: none; stroke: rgb(217, 95, 2); stroke-opacity: 1; stroke-width: 2px; opacity: 1;\"/><path d=\"M403.15,135.45H403.67M403.67,131.36V140.11M404.19,132.93H403.67\" style=\"fill: none; stroke: rgb(27, 158, 118); stroke-opacity: 1; stroke-width: 2px; opacity: 1;\"/><path d=\"M404.88,132.93H405.4M405.4,125.32V134.2M405.91,131.43H405.4\" style=\"fill: none; stroke: rgb(27, 158, 118); stroke-opacity: 1; stroke-width: 2px; opacity: 1;\"/><path d=\"M406.61,131.43H407.12M407.12,129.19V142.82M407.64,142.38H407.12\" style=\"fill: none; stroke: rgb(217, 95, 2); stroke-opacity: 1; stroke-width: 2px; opacity: 1;\"/><path d=\"M408.33,142.38H408.85M408.85,132.78V145.68M409.37,134.54H408.85\" style=\"fill: none; stroke: rgb(27, 158, 118); stroke-opacity: 1; stroke-width: 2px; opacity: 1;\"/><path d=\"M410.06,134.54H410.58M410.58,132.25V150.97M411.1,147.38H410.58\" style=\"fill: none; stroke: rgb(217, 95, 2); stroke-opacity: 1; stroke-width: 2px; opacity: 1;\"/><path d=\"M411.79,147.38H412.31M412.31,133.47V150.38M412.83,133.95H412.31\" style=\"fill: none; stroke: rgb(27, 158, 118); stroke-opacity: 1; stroke-width: 2px; opacity: 1;\"/><path d=\"M413.52,133.95H414.04M414.04,132.57V138.32M414.56,135.01H414.04\" style=\"fill: none; stroke: rgb(217, 95, 2); stroke-opacity: 1; stroke-width: 2px; opacity: 1;\"/><path d=\"M415.25,135.01H415.77M415.77,130.56V141.84M416.29,135.78H415.77\" style=\"fill: none; stroke: rgb(217, 95, 2); stroke-opacity: 1; stroke-width: 2px; opacity: 1;\"/><path d=\"M416.98,135.78H417.5M417.5,135.05V147.33M418.02,146.55H417.5\" style=\"fill: none; stroke: rgb(217, 95, 2); stroke-opacity: 1; stroke-width: 2px; opacity: 1;\"/><path d=\"M418.71,146.55H419.23M419.23,138.92V148.25M419.74,145.83H419.23\" style=\"fill: none; stroke: rgb(27, 158, 118); stroke-opacity: 1; stroke-width: 2px; opacity: 1;\"/><path d=\"M420.44,145.83H420.95M420.95,133.43V149.39M421.47,135.52H420.95\" style=\"fill: none; stroke: rgb(27, 158, 118); stroke-opacity: 1; stroke-width: 2px; opacity: 1;\"/><path d=\"M422.16,135.52H422.68M422.68,125.63V136.88M423.2,132.89H422.68\" style=\"fill: none; stroke: rgb(27, 158, 118); stroke-opacity: 1; stroke-width: 2px; opacity: 1;\"/><path d=\"M423.89,132.89H424.41M424.41,122.31V138.5M424.93,128.35H424.41\" style=\"fill: none; stroke: rgb(27, 158, 118); stroke-opacity: 1; stroke-width: 2px; opacity: 1;\"/><path d=\"M425.62,128.35H426.14M426.14,125.11V132.14M426.66,128.85H426.14\" style=\"fill: none; stroke: rgb(217, 95, 2); stroke-opacity: 1; stroke-width: 2px; opacity: 1;\"/><path d=\"M427.35,128.84H427.87M427.87,116.88V131.66M428.39,117.74H427.87\" style=\"fill: none; stroke: rgb(27, 158, 118); stroke-opacity: 1; stroke-width: 2px; opacity: 1;\"/><path d=\"M429.08,117.74H429.6M429.6,111.57V122.49M430.12,112.27H429.6\" style=\"fill: none; stroke: rgb(27, 158, 118); stroke-opacity: 1; stroke-width: 2px; opacity: 1;\"/><path d=\"M430.81,112.25H431.33M431.33,110.72V171.52M431.85,147.27H431.33\" style=\"fill: none; stroke: rgb(217, 95, 2); stroke-opacity: 1; stroke-width: 2px; opacity: 1;\"/><path d=\"M432.54,147.24H433.06M433.06,144.39V162.06M433.57,152.19H433.06\" style=\"fill: none; stroke: rgb(217, 95, 2); stroke-opacity: 1; stroke-width: 2px; opacity: 1;\"/><path d=\"M434.27,152.19H434.78M434.78,144.03V155.41M435.3,150.09H434.78\" style=\"fill: none; stroke: rgb(27, 158, 118); stroke-opacity: 1; stroke-width: 2px; opacity: 1;\"/><path d=\"M436,150.09H436.51M436.51,146.24V163.75M437.03,159.41H436.51\" style=\"fill: none; stroke: rgb(217, 95, 2); stroke-opacity: 1; stroke-width: 2px; opacity: 1;\"/><path d=\"M437.72,159.46H438.24M438.24,152.55V160.19M438.76,157.46H438.24\" style=\"fill: none; stroke: rgb(27, 158, 118); stroke-opacity: 1; stroke-width: 2px; opacity: 1;\"/><path d=\"M439.45,157.46H439.97M439.97,149.7V160.07M440.49,152.32H439.97\" style=\"fill: none; stroke: rgb(27, 158, 118); stroke-opacity: 1; stroke-width: 2px; opacity: 1;\"/><path d=\"M441.18,152.32H441.7M441.7,147.17V168.35M442.22,158.87H441.7\" style=\"fill: none; stroke: rgb(217, 95, 2); stroke-opacity: 1; stroke-width: 2px; opacity: 1;\"/><path d=\"M442.91,158.87H443.43M443.43,144.93V160.96M443.95,145.77H443.43\" style=\"fill: none; stroke: rgb(27, 158, 118); stroke-opacity: 1; stroke-width: 2px; opacity: 1;\"/><path d=\"M444.64,145.82H445.16M445.16,137.39V148.36M445.68,139.68H445.16\" style=\"fill: none; stroke: rgb(27, 158, 118); stroke-opacity: 1; stroke-width: 2px; opacity: 1;\"/><path d=\"M446.37,139.68H446.89M446.89,137.05V146.32M447.4,141.99H446.89\" style=\"fill: none; stroke: rgb(217, 95, 2); stroke-opacity: 1; stroke-width: 2px; opacity: 1;\"/><path d=\"M448.1,141.99H448.62M448.62,139.5V148.26M449.13,144.63H448.62\" style=\"fill: none; stroke: rgb(217, 95, 2); stroke-opacity: 1; stroke-width: 2px; opacity: 1;\"/><path d=\"M449.83,144.63H450.34M450.34,135.32V146.23M450.86,138.64H450.34\" style=\"fill: none; stroke: rgb(27, 158, 118); stroke-opacity: 1; stroke-width: 2px; opacity: 1;\"/><path d=\"M451.55,138.64H452.07M452.07,138.16V147.47M452.59,144.98H452.07\" style=\"fill: none; stroke: rgb(217, 95, 2); stroke-opacity: 1; stroke-width: 2px; opacity: 1;\"/><path d=\"M453.28,144.98H453.8M453.8,144.35V173.59M454.32,170.48H453.8\" style=\"fill: none; stroke: rgb(217, 95, 2); stroke-opacity: 1; stroke-width: 2px; opacity: 1;\"/><path d=\"M455.01,170.48H455.53M455.53,166.72V191.09M456.05,184.25H455.53\" style=\"fill: none; stroke: rgb(217, 95, 2); stroke-opacity: 1; stroke-width: 2px; opacity: 1;\"/><path d=\"M456.74,184.25H457.26M457.26,164.54V185.27M457.78,167.3H457.26\" style=\"fill: none; stroke: rgb(27, 158, 118); stroke-opacity: 1; stroke-width: 2px; opacity: 1;\"/><path d=\"M458.47,167.28H458.99M458.99,158.64V170.16M459.51,159.32H458.99\" style=\"fill: none; stroke: rgb(27, 158, 118); stroke-opacity: 1; stroke-width: 2px; opacity: 1;\"/><path d=\"M460.2,159.32H460.72M460.72,157.3V184.61M461.24,171.72H460.72\" style=\"fill: none; stroke: rgb(217, 95, 2); stroke-opacity: 1; stroke-width: 2px; opacity: 1;\"/><path d=\"M461.93,171.72H462.45M462.45,170.78V178.75M462.96,172.57H462.45\" style=\"fill: none; stroke: rgb(217, 95, 2); stroke-opacity: 1; stroke-width: 2px; opacity: 1;\"/><path d=\"M463.66,172.57H464.17M464.17,164.85V184.15M464.69,169.61H464.17\" style=\"fill: none; stroke: rgb(27, 158, 118); stroke-opacity: 1; stroke-width: 2px; opacity: 1;\"/><path d=\"M465.38,169.61H465.9M465.9,162.43V176.02M466.42,175.72H465.9\" style=\"fill: none; stroke: rgb(217, 95, 2); stroke-opacity: 1; stroke-width: 2px; opacity: 1;\"/><path d=\"M467.11,175.72H467.63M467.63,171.86V183.32M468.15,182.49H467.63\" style=\"fill: none; stroke: rgb(217, 95, 2); stroke-opacity: 1; stroke-width: 2px; opacity: 1;\"/><path d=\"M468.84,182.49H469.36M469.36,173.05V184.13M469.88,179.48H469.36\" style=\"fill: none; stroke: rgb(27, 158, 118); stroke-opacity: 1; stroke-width: 2px; opacity: 1;\"/><path d=\"M470.57,179.48H471.09M471.09,163.69V180.17M471.61,165.61H471.09\" style=\"fill: none; stroke: rgb(27, 158, 118); stroke-opacity: 1; stroke-width: 2px; opacity: 1;\"/><path d=\"M472.3,165.63H472.82M472.82,137.42V168.87M473.34,139.55H472.82\" style=\"fill: none; stroke: rgb(27, 158, 118); stroke-opacity: 1; stroke-width: 2px; opacity: 1;\"/><path d=\"M474.03,139.55H474.55M474.55,138.38V143.85M475.07,142.61H474.55\" style=\"fill: none; stroke: rgb(217, 95, 2); stroke-opacity: 1; stroke-width: 2px; opacity: 1;\"/><path d=\"M475.76,142.61H476.28M476.28,133V145.91M476.79,139.2H476.28\" style=\"fill: none; stroke: rgb(27, 158, 118); stroke-opacity: 1; stroke-width: 2px; opacity: 1;\"/><path d=\"M477.49,139.2H478M478,131.14V147.1M478.52,133.02H478\" style=\"fill: none; stroke: rgb(27, 158, 118); stroke-opacity: 1; stroke-width: 2px; opacity: 1;\"/><path d=\"M479.21,133.02H479.73M479.73,116.96V134.24M480.25,119.46H479.73\" style=\"fill: none; stroke: rgb(27, 158, 118); stroke-opacity: 1; stroke-width: 2px; opacity: 1;\"/><path d=\"M480.94,119.46H481.46M481.46,93.65V126.03M481.98,96.27H481.46\" style=\"fill: none; stroke: rgb(27, 158, 118); stroke-opacity: 1; stroke-width: 2px; opacity: 1;\"/><path d=\"M482.67,96.27H483.19M483.19,96.17V108.09M483.71,105.5H483.19\" style=\"fill: none; stroke: rgb(217, 95, 2); stroke-opacity: 1; stroke-width: 2px; opacity: 1;\"/><path d=\"M484.4,105.5H484.92M484.92,91.54V106.51M485.44,104.5H484.92\" style=\"fill: none; stroke: rgb(27, 158, 118); stroke-opacity: 1; stroke-width: 2px; opacity: 1;\"/><path d=\"M486.13,104.47H486.65M486.65,95.22V106.25M487.17,98.48H486.65\" style=\"fill: none; stroke: rgb(27, 158, 118); stroke-opacity: 1; stroke-width: 2px; opacity: 1;\"/><path d=\"M487.86,98.48H488.38M488.38,88.75V103.72M488.9,100.23H488.38\" style=\"fill: none; stroke: rgb(217, 95, 2); stroke-opacity: 1; stroke-width: 2px; opacity: 1;\"/><path d=\"M489.59,100.23H490.11M490.11,81.04V101.7M490.62,83.26H490.11\" style=\"fill: none; stroke: rgb(27, 158, 118); stroke-opacity: 1; stroke-width: 2px; opacity: 1;\"/><path d=\"M491.32,83.26H491.83M491.83,82V104.94M492.35,92.16H491.83\" style=\"fill: none; stroke: rgb(217, 95, 2); stroke-opacity: 1; stroke-width: 2px; opacity: 1;\"/><path d=\"M493.04,92.16H493.56M493.56,81.42V103.2M494.08,83.89H493.56\" style=\"fill: none; stroke: rgb(27, 158, 118); stroke-opacity: 1; stroke-width: 2px; opacity: 1;\"/><path d=\"M494.77,83.87H495.29M495.29,76.86V87.2M495.81,84.01H495.29\" style=\"fill: none; stroke: rgb(217, 95, 2); stroke-opacity: 1; stroke-width: 2px; opacity: 1;\"/><path d=\"M496.5,84.01H497.02M497.02,50.31V87.01M497.54,57.91H497.02\" style=\"fill: none; stroke: rgb(27, 158, 118); stroke-opacity: 1; stroke-width: 2px; opacity: 1;\"/><path d=\"M498.23,57.91H498.75M498.75,53.65V67.1M499.27,62.72H498.75\" style=\"fill: none; stroke: rgb(217, 95, 2); stroke-opacity: 1; stroke-width: 2px; opacity: 1;\"/><path d=\"M499.96,62.72H500.48M500.48,57.64V74.26M501,58.78H500.48\" style=\"fill: none; stroke: rgb(27, 158, 118); stroke-opacity: 1; stroke-width: 2px; opacity: 1;\"/><path d=\"M501.69,58.78H502.21M502.21,51.74V68.94M502.73,55.88H502.21\" style=\"fill: none; stroke: rgb(27, 158, 118); stroke-opacity: 1; stroke-width: 2px; opacity: 1;\"/><path d=\"M503.42,55.9H503.94M503.94,40.94V60.03M504.45,42.18H503.94\" style=\"fill: none; stroke: rgb(27, 158, 118); stroke-opacity: 1; stroke-width: 2px; opacity: 1;\"/><path d=\"M505.15,42.18H505.66M505.66,25.77V47M506.18,31.79H505.66\" style=\"fill: none; stroke: rgb(27, 158, 118); stroke-opacity: 1; stroke-width: 2px; opacity: 1;\"/><path d=\"M506.87,31.79H507.39M507.39,27.94V55.94M507.91,54.77H507.39\" style=\"fill: none; stroke: rgb(217, 95, 2); stroke-opacity: 1; stroke-width: 2px; opacity: 1;\"/><path d=\"M508.6,54.77H509.12M509.12,45.48V68M509.64,63.85H509.12\" style=\"fill: none; stroke: rgb(217, 95, 2); stroke-opacity: 1; stroke-width: 2px; opacity: 1;\"/><path d=\"M510.33,63.85H510.85M510.85,57.46V70.65M511.37,60.24H510.85\" style=\"fill: none; stroke: rgb(27, 158, 118); stroke-opacity: 1; stroke-width: 2px; opacity: 1;\"/><path d=\"M512.06,60.24H512.58M512.58,58.95V70.96M513.1,62.86H512.58\" style=\"fill: none; stroke: rgb(217, 95, 2); stroke-opacity: 1; stroke-width: 2px; opacity: 1;\"/><path d=\"M513.79,62.86H514.31M514.31,45.61V64.08M514.83,49.43H514.31\" style=\"fill: none; stroke: rgb(27, 158, 118); stroke-opacity: 1; stroke-width: 2px; opacity: 1;\"/><path d=\"M515.52,49.43H516.04M516.04,48.13V69.1M516.56,66.02H516.04\" style=\"fill: none; stroke: rgb(217, 95, 2); stroke-opacity: 1; stroke-width: 2px; opacity: 1;\"/><path d=\"M517.25,66.02H517.77M517.77,58.98V80.07M518.28,77.58H517.77\" style=\"fill: none; stroke: rgb(217, 95, 2); stroke-opacity: 1; stroke-width: 2px; opacity: 1;\"/><path d=\"M518.98,77.58H519.49M519.49,52.93V81.16M520.01,64.53H519.49\" style=\"fill: none; stroke: rgb(27, 158, 118); stroke-opacity: 1; stroke-width: 2px; opacity: 1;\"/><path d=\"M520.7,64.53H521.22M521.22,50.02V66.95M521.74,54.41H521.22\" style=\"fill: none; stroke: rgb(27, 158, 118); stroke-opacity: 1; stroke-width: 2px; opacity: 1;\"/><path d=\"M522.43,54.41H522.95M522.95,53.77V63.94M523.47,56.79H522.95\" style=\"fill: none; stroke: rgb(217, 95, 2); stroke-opacity: 1; stroke-width: 2px; opacity: 1;\"/><path d=\"M524.16,56.79H524.68M524.68,53.49V68.33M525.2,60.16H524.68\" style=\"fill: none; stroke: rgb(217, 95, 2); stroke-opacity: 1; stroke-width: 2px; opacity: 1;\"/><path d=\"M525.89,60.16H526.41M526.41,53.3V71.59M526.93,62.51H526.41\" style=\"fill: none; stroke: rgb(217, 95, 2); stroke-opacity: 1; stroke-width: 2px; opacity: 1;\"/><path d=\"M527.62,62.51H528.14M528.14,42.24V64.23M528.66,48.58H528.14\" style=\"fill: none; stroke: rgb(27, 158, 118); stroke-opacity: 1; stroke-width: 2px; opacity: 1;\"/><path d=\"M529.35,48.57H529.87M529.87,46.89V65.69M530.39,50.53H529.87\" style=\"fill: none; stroke: rgb(217, 95, 2); stroke-opacity: 1; stroke-width: 2px; opacity: 1;\"/><path d=\"M531.08,50.53H531.6M531.6,49.38V63.92M532.11,59.59H531.6\" style=\"fill: none; stroke: rgb(217, 95, 2); stroke-opacity: 1; stroke-width: 2px; opacity: 1;\"/><path d=\"M532.81,59.59H533.32M533.32,52.34V63.65M533.84,62.35H533.32\" style=\"fill: none; stroke: rgb(217, 95, 2); stroke-opacity: 1; stroke-width: 2px; opacity: 1;\"/><path d=\"M534.53,62.33H535.05M535.05,58.59V67.7M535.57,59.13H535.05\" style=\"fill: none; stroke: rgb(27, 158, 118); stroke-opacity: 1; stroke-width: 2px; opacity: 1;\"/><path d=\"M536.26,59.13H536.78M536.78,48.17V60.02M537.3,48.25H536.78\" style=\"fill: none; stroke: rgb(27, 158, 118); stroke-opacity: 1; stroke-width: 2px; opacity: 1;\"/><path d=\"M537.99,48.25H538.51M538.51,21.01V48.25M539.03,22.59H538.51\" style=\"fill: none; stroke: rgb(27, 158, 118); stroke-opacity: 1; stroke-width: 2px; opacity: 1;\"/><path d=\"M539.72,22.59H540.24M540.24,16.57V30.46M540.76,26.08H540.24\" style=\"fill: none; stroke: rgb(217, 95, 2); stroke-opacity: 1; stroke-width: 2px; opacity: 1;\"/><path d=\"M541.45,26.08H541.97M541.97,13.7V50.97M542.49,38.54H541.97\" style=\"fill: none; stroke: rgb(217, 95, 2); stroke-opacity: 1; stroke-width: 2px; opacity: 1;\"/><path d=\"M543.18,38.54H543.7M543.7,34.21V43.27M544.22,39.2H543.7\" style=\"fill: none; stroke: rgb(217, 95, 2); stroke-opacity: 1; stroke-width: 2px; opacity: 1;\"/><path d=\"M544.91,39.2H545.43M545.43,35.12V54.26M545.94,43.13H545.43\" style=\"fill: none; stroke: rgb(217, 95, 2); stroke-opacity: 1; stroke-width: 2px; opacity: 1;\"/><path d=\"M546.64,43.13H547.15M547.15,37.84V47.73M547.67,41.58H547.15\" style=\"fill: none; stroke: rgb(27, 158, 118); stroke-opacity: 1; stroke-width: 2px; opacity: 1;\"/><path d=\"M548.36,41.58H548.88M548.88,34.51V46.43M549.4,34.7H548.88\" style=\"fill: none; stroke: rgb(27, 158, 118); stroke-opacity: 1; stroke-width: 2px; opacity: 1;\"/><path d=\"M550.09,34.7H550.61M550.61,29.38V47.49M551.13,46.24H550.61\" style=\"fill: none; stroke: rgb(217, 95, 2); stroke-opacity: 1; stroke-width: 2px; opacity: 1;\"/><path d=\"M551.82,46.24H552.34M552.34,46.18V76.61M552.86,67.65H552.34\" style=\"fill: none; stroke: rgb(217, 95, 2); stroke-opacity: 1; stroke-width: 2px; opacity: 1;\"/><path d=\"M553.55,67.65H554.07M554.07,62.93V77.82M554.59,65.92H554.07\" style=\"fill: none; stroke: rgb(27, 158, 118); stroke-opacity: 1; stroke-width: 2px; opacity: 1;\"/><path d=\"M555.28,65.92H555.8M555.8,62.11V89.28M556.32,86.76H555.8\" style=\"fill: none; stroke: rgb(217, 95, 2); stroke-opacity: 1; stroke-width: 2px; opacity: 1;\"/><path d=\"M557.01,86.76H557.53M557.53,78.14V94.55M558.05,79.76H557.53\" style=\"fill: none; stroke: rgb(27, 158, 118); stroke-opacity: 1; stroke-width: 2px; opacity: 1;\"/><path d=\"M558.74,79.73H559.26M559.26,68.94V83.98M559.77,69.77H559.26\" style=\"fill: none; stroke: rgb(27, 158, 118); stroke-opacity: 1; stroke-width: 2px; opacity: 1;\"/><path d=\"M560.47,69.77H560.98M560.98,67.82V77.14M561.5,76.32H560.98\" style=\"fill: none; stroke: rgb(217, 95, 2); stroke-opacity: 1; stroke-width: 2px; opacity: 1;\"/><path d=\"M562.2,76.34H562.71M562.71,71.36V94.49M563.23,90.65H562.71\" style=\"fill: none; stroke: rgb(217, 95, 2); stroke-opacity: 1; stroke-width: 2px; opacity: 1;\"/><path d=\"M563.92,90.67H564.44M564.44,80.01V96.26M564.96,82.84H564.44\" style=\"fill: none; stroke: rgb(27, 158, 118); stroke-opacity: 1; stroke-width: 2px; opacity: 1;\"/><path d=\"M565.65,82.84H566.17M566.17,81.67V93.12M566.69,85.27H566.17\" style=\"fill: none; stroke: rgb(217, 95, 2); stroke-opacity: 1; stroke-width: 2px; opacity: 1;\"/><path d=\"M567.38,85.27H567.9M567.9,71.63V86.11M568.42,74.28H567.9\" style=\"fill: none; stroke: rgb(27, 158, 118); stroke-opacity: 1; stroke-width: 2px; opacity: 1;\"/><path d=\"M569.11,74.28H569.63M569.63,73.13V107.22M570.15,105.86H569.63\" style=\"fill: none; stroke: rgb(217, 95, 2); stroke-opacity: 1; stroke-width: 2px; opacity: 1;\"/><path d=\"M570.84,105.87H571.36M571.36,96.48V106.56M571.88,99.86H571.36\" style=\"fill: none; stroke: rgb(27, 158, 118); stroke-opacity: 1; stroke-width: 2px; opacity: 1;\"/><path d=\"M572.57,99.88H573.09M573.09,83.42V108.69M573.6,84.45H573.09\" style=\"fill: none; stroke: rgb(27, 158, 118); stroke-opacity: 1; stroke-width: 2px; opacity: 1;\"/><path d=\"M574.3,84.45H574.82M574.82,74.85V88.12M575.33,81.42H574.82\" style=\"fill: none; stroke: rgb(27, 158, 118); stroke-opacity: 1; stroke-width: 2px; opacity: 1;\"/><path d=\"M576.03,81.42H576.54M576.54,72.97V92.89M577.06,86.4H576.54\" style=\"fill: none; stroke: rgb(217, 95, 2); stroke-opacity: 1; stroke-width: 2px; opacity: 1;\"/><path d=\"M577.75,86.4H578.27M578.27,73.71V89.38M578.79,84.99H578.27\" style=\"fill: none; stroke: rgb(27, 158, 118); stroke-opacity: 1; stroke-width: 2px; opacity: 1;\"/><path d=\"M579.48,84.99H580M580,83.84V93.48M580.52,89.24H580\" style=\"fill: none; stroke: rgb(217, 95, 2); stroke-opacity: 1; stroke-width: 2px; opacity: 1;\"/><path d=\"M581.21,89.22H581.73M581.73,82.48V118.2M582.25,106.61H581.73\" style=\"fill: none; stroke: rgb(217, 95, 2); stroke-opacity: 1; stroke-width: 2px; opacity: 1;\"/><path d=\"M582.94,106.61H583.46M583.46,105.06V176.61M583.98,133.46H583.46\" style=\"fill: none; stroke: rgb(217, 95, 2); stroke-opacity: 1; stroke-width: 2px; opacity: 1;\"/><path d=\"M584.67,133.46H585.19M585.19,130.16V142.06M585.71,131.98H585.19\" style=\"fill: none; stroke: rgb(27, 158, 118); stroke-opacity: 1; stroke-width: 2px; opacity: 1;\"/><path d=\"M586.4,131.98H586.92M586.92,122.96V145.84M587.44,125.68H586.92\" style=\"fill: none; stroke: rgb(27, 158, 118); stroke-opacity: 1; stroke-width: 2px; opacity: 1;\"/><path d=\"M588.13,125.68H588.65M588.65,116.66V128.1M589.16,124.79H588.65\" style=\"fill: none; stroke: rgb(27, 158, 118); stroke-opacity: 1; stroke-width: 2px; opacity: 1;\"/><path d=\"M589.86,124.79H590.37M590.37,121.1V136.79M590.89,125.5H590.37\" style=\"fill: none; stroke: rgb(217, 95, 2); stroke-opacity: 1; stroke-width: 2px; opacity: 1;\"/><path d=\"M591.58,125.5H592.1M592.1,123.53V144.51M592.62,143.15H592.1\" style=\"fill: none; stroke: rgb(217, 95, 2); stroke-opacity: 1; stroke-width: 2px; opacity: 1;\"/><path d=\"M593.31,143.21H593.83M593.83,127.59V147.34M594.35,145.59H593.83\" style=\"fill: none; stroke: rgb(217, 95, 2); stroke-opacity: 1; stroke-width: 2px; opacity: 1;\"/><path d=\"M595.04,145.59H595.56M595.56,131.44V147.95M596.08,132.02H595.56\" style=\"fill: none; stroke: rgb(27, 158, 118); stroke-opacity: 1; stroke-width: 2px; opacity: 1;\"/><path d=\"M596.77,132.02H597.29M597.29,123.65V136.56M597.81,128.02H597.29\" style=\"fill: none; stroke: rgb(27, 158, 118); stroke-opacity: 1; stroke-width: 2px; opacity: 1;\"/><path d=\"M598.5,128.02H599.02M599.02,127.2V154.45M599.54,148.24H599.02\" style=\"fill: none; stroke: rgb(217, 95, 2); stroke-opacity: 1; stroke-width: 2px; opacity: 1;\"/><path d=\"M600.23,148.24H600.75M600.75,136.18V150.73M601.27,138.34H600.75\" style=\"fill: none; stroke: rgb(27, 158, 118); stroke-opacity: 1; stroke-width: 2px; opacity: 1;\"/><path d=\"M601.96,138.38H602.48M602.48,131.36V149.18M602.99,135.19H602.48\" style=\"fill: none; stroke: rgb(27, 158, 118); stroke-opacity: 1; stroke-width: 2px; opacity: 1;\"/><path d=\"M603.69,135.19H604.2M604.2,131.74V143.36M604.72,142.63H604.2\" style=\"fill: none; stroke: rgb(217, 95, 2); stroke-opacity: 1; stroke-width: 2px; opacity: 1;\"/><path d=\"M605.41,142.63H605.93M605.93,140.43V155.76M606.45,151.68H605.93\" style=\"fill: none; stroke: rgb(217, 95, 2); stroke-opacity: 1; stroke-width: 2px; opacity: 1;\"/><path d=\"M607.14,151.67H607.66M607.66,144.08V155.49M608.18,147.44H607.66\" style=\"fill: none; stroke: rgb(27, 158, 118); stroke-opacity: 1; stroke-width: 2px; opacity: 1;\"/><path d=\"M608.87,147.44H609.39M609.39,138.6V150.02M609.91,148.37H609.39\" style=\"fill: none; stroke: rgb(217, 95, 2); stroke-opacity: 1; stroke-width: 2px; opacity: 1;\"/><path d=\"M610.6,148.37H611.12M611.12,143.2V155.14M611.64,146.96H611.12\" style=\"fill: none; stroke: rgb(27, 158, 118); stroke-opacity: 1; stroke-width: 2px; opacity: 1;\"/><path d=\"M612.33,146.96H612.85M612.85,132.39V148.68M613.37,135.04H612.85\" style=\"fill: none; stroke: rgb(27, 158, 118); stroke-opacity: 1; stroke-width: 2px; opacity: 1;\"/><path d=\"M614.06,135.05H614.58M614.58,130.9V137.86M615.1,136.86H614.58\" style=\"fill: none; stroke: rgb(217, 95, 2); stroke-opacity: 1; stroke-width: 2px; opacity: 1;\"/><path d=\"M615.79,136.86H616.31M616.31,120.05V140.89M616.82,123.28H616.31\" style=\"fill: none; stroke: rgb(27, 158, 118); stroke-opacity: 1; stroke-width: 2px; opacity: 1;\"/><path d=\"M617.52,123.28H618.03M618.03,117.42V126.02M618.55,123.39H618.03\" style=\"fill: none; stroke: rgb(217, 95, 2); stroke-opacity: 1; stroke-width: 2px; opacity: 1;\"/><path d=\"M619.24,123.39H619.76M619.76,121.37V127.48M620.28,125.93H619.76\" style=\"fill: none; stroke: rgb(217, 95, 2); stroke-opacity: 1; stroke-width: 2px; opacity: 1;\"/><path d=\"M620.97,125.93H621.49M621.49,120.62V131.89M622.01,123.66H621.49\" style=\"fill: none; stroke: rgb(27, 158, 118); stroke-opacity: 1; stroke-width: 2px; opacity: 1;\"/><path d=\"M622.7,123.66H623.22M623.22,115.74V125.63M623.74,124.11H623.22\" style=\"fill: none; stroke: rgb(217, 95, 2); stroke-opacity: 1; stroke-width: 2px; opacity: 1;\"/><path d=\"M624.43,124.11H624.95M624.95,124.09V144.55M625.47,143.16H624.95\" style=\"fill: none; stroke: rgb(217, 95, 2); stroke-opacity: 1; stroke-width: 2px; opacity: 1;\"/><path d=\"M626.16,143.16H626.68M626.68,139.57V151.89M627.2,149.67H626.68\" style=\"fill: none; stroke: rgb(217, 95, 2); stroke-opacity: 1; stroke-width: 2px; opacity: 1;\"/><path d=\"M627.89,149.67H628.41M628.41,141.01V153.08M628.93,145.71H628.41\" style=\"fill: none; stroke: rgb(27, 158, 118); stroke-opacity: 1; stroke-width: 2px; opacity: 1;\"/><path d=\"M629.62,145.71H630.14M630.14,137.1V154.42M630.65,151.17H630.14\" style=\"fill: none; stroke: rgb(217, 95, 2); stroke-opacity: 1; stroke-width: 2px; opacity: 1;\"/></g></g><g class=\"scatterlayer mlayer\"><g class=\"trace scatter traced7c685ea-567a-4647-bd33-b0d22d240167\" style=\"stroke-miterlimit: 2; opacity: 1;\"><g class=\"fills\"/><g class=\"errorbars\"/><g class=\"lines\"/><g class=\"points\"><path class=\"point\" transform=\"translate(59.64,207.16)\" d=\"M-4.62,2H4.62L0,-4Z\" style=\"opacity: 1; stroke-width: 1px; fill: rgb(50, 205, 50); fill-opacity: 1; stroke: rgb(34, 143, 34); stroke-opacity: 1;\"/><path class=\"point\" transform=\"translate(286.11,187.81)\" d=\"M-4.62,2H4.62L0,-4Z\" style=\"opacity: 1; stroke-width: 1px; fill: rgb(50, 205, 50); fill-opacity: 1; stroke: rgb(34, 143, 34); stroke-opacity: 1;\"/></g><g class=\"text\"/></g><g class=\"trace scatter traced04ce6af-010d-4795-8a73-b22a2782d665\" style=\"stroke-miterlimit: 2; opacity: 1;\"><g class=\"fills\"/><g class=\"errorbars\"/><g class=\"lines\"/><g class=\"points\"><path class=\"point\" transform=\"translate(90.76,113.15)\" d=\"M-4.62,-2H4.62L0,4Z\" style=\"opacity: 1; stroke-width: 1px; fill: rgb(255, 165, 0); fill-opacity: 1; stroke: rgb(178, 115, 0); stroke-opacity: 1;\"/><path class=\"point\" transform=\"translate(431.33,143.41)\" d=\"M-4.62,-2H4.62L0,4Z\" style=\"opacity: 1; stroke-width: 1px; fill: rgb(255, 165, 0); fill-opacity: 1; stroke: rgb(178, 115, 0); stroke-opacity: 1;\"/></g><g class=\"text\"/></g><g class=\"trace scatter trace4a3913c4-9f25-4e47-bcf0-5a644b5357be\" style=\"stroke-miterlimit: 2; opacity: 1;\"><g class=\"fills\"/><g class=\"errorbars\"/><g class=\"lines\"/><g class=\"points\"><path class=\"point\" transform=\"translate(118.42,93.03)\" d=\"M-4.62,2H4.62L0,-4Z\" style=\"opacity: 1; stroke-width: 1px; fill: rgb(255, 0, 255); fill-opacity: 1; stroke: rgb(178, 0, 178); stroke-opacity: 1;\"/><path class=\"point\" transform=\"translate(479.73,119.46)\" d=\"M-4.62,2H4.62L0,-4Z\" style=\"opacity: 1; stroke-width: 1px; fill: rgb(255, 0, 255); fill-opacity: 1; stroke: rgb(178, 0, 178); stroke-opacity: 1;\"/></g><g class=\"text\"/></g><g class=\"trace scatter trace027c6c28-ed5a-46b6-b011-f28f0a666897\" style=\"stroke-miterlimit: 2; opacity: 1;\"><g class=\"fills\"/><g class=\"errorbars\"/><g class=\"lines\"/><g class=\"points\"><path class=\"point\" transform=\"translate(241.16,230.92)\" d=\"M-4.62,-2H4.62L0,4Z\" style=\"opacity: 1; stroke-width: 1px; fill: rgb(255, 0, 0); fill-opacity: 1; stroke: rgb(178, 0, 0); stroke-opacity: 1;\"/></g><g class=\"text\"/></g></g></g><g class=\"overplot\"/><path class=\"xlines-above crisp\" d=\"M0,0\" style=\"fill: none;\"/><path class=\"ylines-above crisp\" d=\"M0,0\" style=\"fill: none;\"/><g class=\"overlines-above\"/><g class=\"xaxislayer-above\"><g class=\"xtick\"><text text-anchor=\"middle\" x=\"0\" y=\"333\" transform=\"translate(39.86,0)\" style=\"font-family: 'Open Sans', verdana, arial, sans-serif; font-size: 12px; fill: rgb(214, 223, 239); fill-opacity: 1; white-space: pre; opacity: 1;\">Jan 2021</text></g><g class=\"xtick\"><text text-anchor=\"middle\" x=\"0\" y=\"333\" style=\"font-family: 'Open Sans', verdana, arial, sans-serif; font-size: 12px; fill: rgb(214, 223, 239); fill-opacity: 1; white-space: pre; opacity: 1;\" transform=\"translate(141.86,0)\">Mar 2021</text></g><g class=\"xtick\"><text text-anchor=\"middle\" x=\"0\" y=\"333\" style=\"font-family: 'Open Sans', verdana, arial, sans-serif; font-size: 12px; fill: rgb(214, 223, 239); fill-opacity: 1; white-space: pre; opacity: 1;\" transform=\"translate(247.32,0)\">May 2021</text></g><g class=\"xtick\"><text text-anchor=\"middle\" x=\"0\" y=\"333\" style=\"font-family: 'Open Sans', verdana, arial, sans-serif; font-size: 12px; fill: rgb(214, 223, 239); fill-opacity: 1; white-space: pre; opacity: 1;\" transform=\"translate(352.77,0)\">Jul 2021</text></g><g class=\"xtick\"><text text-anchor=\"middle\" x=\"0\" y=\"333\" style=\"font-family: 'Open Sans', verdana, arial, sans-serif; font-size: 12px; fill: rgb(214, 223, 239); fill-opacity: 1; white-space: pre; opacity: 1;\" transform=\"translate(459.95,0)\">Sep 2021</text></g><g class=\"xtick\"><text text-anchor=\"middle\" x=\"0\" y=\"333\" style=\"font-family: 'Open Sans', verdana, arial, sans-serif; font-size: 12px; fill: rgb(214, 223, 239); fill-opacity: 1; white-space: pre; opacity: 1;\" transform=\"translate(565.41,0)\">Nov 2021</text></g></g><g class=\"yaxislayer-above\"><g class=\"ytick\"><text text-anchor=\"end\" x=\"38\" y=\"4.199999999999999\" transform=\"translate(0,295.02)\" style=\"font-family: 'Open Sans', verdana, arial, sans-serif; font-size: 12px; fill: rgb(214, 223, 239); fill-opacity: 1; white-space: pre; opacity: 1;\">30k</text></g><g class=\"ytick\"><text text-anchor=\"end\" x=\"38\" y=\"4.199999999999999\" style=\"font-family: 'Open Sans', verdana, arial, sans-serif; font-size: 12px; fill: rgb(214, 223, 239); fill-opacity: 1; white-space: pre; opacity: 1;\" transform=\"translate(0,234.68)\">40k</text></g><g class=\"ytick\"><text text-anchor=\"end\" x=\"38\" y=\"4.199999999999999\" style=\"font-family: 'Open Sans', verdana, arial, sans-serif; font-size: 12px; fill: rgb(214, 223, 239); fill-opacity: 1; white-space: pre; opacity: 1;\" transform=\"translate(0,174.34)\">50k</text></g><g class=\"ytick\"><text text-anchor=\"end\" x=\"38\" y=\"4.199999999999999\" style=\"font-family: 'Open Sans', verdana, arial, sans-serif; font-size: 12px; fill: rgb(214, 223, 239); fill-opacity: 1; white-space: pre; opacity: 1;\" transform=\"translate(0,114)\">60k</text></g><g class=\"ytick\"><text text-anchor=\"end\" x=\"38\" y=\"4.199999999999999\" style=\"font-family: 'Open Sans', verdana, arial, sans-serif; font-size: 12px; fill: rgb(214, 223, 239); fill-opacity: 1; white-space: pre; opacity: 1;\" transform=\"translate(0,53.67)\">70k</text></g></g><g class=\"overaxes-above\"/></g></g><g class=\"polarlayer\"/><g class=\"smithlayer\"/><g class=\"ternarylayer\"/><g class=\"geolayer\"/><g class=\"funnelarealayer\"/><g class=\"pielayer\"/><g class=\"iciclelayer\"/><g class=\"treemaplayer\"/><g class=\"sunburstlayer\"/><g class=\"glimages\"/><defs id=\"topdefs-99b06f\"><g class=\"clips\"/><clipPath id=\"legend99b06f\"><rect width=\"539\" height=\"29\" x=\"0\" y=\"0\"/></clipPath></defs><g class=\"layer-above\"><g class=\"imagelayer\"/><g class=\"shapelayer\"/></g><g class=\"infolayer\"><g class=\"legend\" pointer-events=\"all\" transform=\"translate(131,11.519999999999996)\"><rect class=\"bg\" shape-rendering=\"crispEdges\" style=\"stroke: rgb(68, 68, 68); stroke-opacity: 1; fill: rgb(33, 34, 44); fill-opacity: 1; stroke-width: 0px;\" width=\"539\" height=\"29\" x=\"0\" y=\"0\"/><g class=\"scrollbox\" transform=\"\" clip-path=\"url(#legend99b06f)\"><g class=\"groups\"><g class=\"traces\" transform=\"translate(0,14.5)\" style=\"opacity: 1;\"><text class=\"legendtext\" text-anchor=\"start\" x=\"40\" y=\"4.680000000000001\" style=\"font-family: 'Open Sans', verdana, arial, sans-serif; font-size: 12px; fill: rgb(214, 223, 239); fill-opacity: 1; white-space: pre;\">OHLC</text><g class=\"layers\" style=\"opacity: 0.5;\"><g class=\"legendfill\"/><g class=\"legendlines\"/><g class=\"legendsymbols\"><g class=\"legendpoints\"><path class=\"legendohlc\" d=\"M15,0H0M8,6V0\" transform=\"translate(20,0)\" style=\"stroke-miterlimit: 1; fill: none; stroke-width: 2px; stroke: rgb(217, 95, 2); stroke-opacity: 1;\"/><path class=\"legendohlc\" d=\"M-15,0H0M-8,-6V0\" transform=\"translate(20,0)\" style=\"stroke-miterlimit: 1; fill: none; stroke-width: 2px; stroke: rgb(27, 158, 118); stroke-opacity: 1;\"/></g></g></g><rect class=\"legendtoggle\" x=\"0\" y=\"-9.5\" width=\"76.03125\" height=\"19\" style=\"fill: rgb(0, 0, 0); fill-opacity: 0;\"/></g><g class=\"traces\" transform=\"translate(78.53125,14.5)\" style=\"opacity: 1;\"><text class=\"legendtext\" text-anchor=\"start\" x=\"40\" y=\"4.680000000000001\" style=\"font-family: 'Open Sans', verdana, arial, sans-serif; font-size: 12px; fill: rgb(214, 223, 239); fill-opacity: 1; white-space: pre;\">Long entries</text><g class=\"layers\" style=\"opacity: 1;\"><g class=\"legendfill\"/><g class=\"legendlines\"/><g class=\"legendsymbols\"><g class=\"legendpoints\"><path class=\"scatterpts\" transform=\"translate(20,0)\" d=\"M-4.62,2H4.62L0,-4Z\" style=\"opacity: 1; stroke-width: 1px; fill: rgb(50, 205, 50); fill-opacity: 1; stroke: rgb(34, 143, 34); stroke-opacity: 1;\"/></g></g></g><rect class=\"legendtoggle\" x=\"0\" y=\"-9.5\" width=\"117.046875\" height=\"19\" style=\"fill: rgb(0, 0, 0); fill-opacity: 0;\"/></g><g class=\"traces\" transform=\"translate(198.078125,14.5)\" style=\"opacity: 1;\"><text class=\"legendtext\" text-anchor=\"start\" x=\"40\" y=\"4.680000000000001\" style=\"font-family: 'Open Sans', verdana, arial, sans-serif; font-size: 12px; fill: rgb(214, 223, 239); fill-opacity: 1; white-space: pre;\">Long exits</text><g class=\"layers\" style=\"opacity: 1;\"><g class=\"legendfill\"/><g class=\"legendlines\"/><g class=\"legendsymbols\"><g class=\"legendpoints\"><path class=\"scatterpts\" transform=\"translate(20,0)\" d=\"M-4.62,-2H4.62L0,4Z\" style=\"opacity: 1; stroke-width: 1px; fill: rgb(255, 165, 0); fill-opacity: 1; stroke: rgb(178, 115, 0); stroke-opacity: 1;\"/></g></g></g><rect class=\"legendtoggle\" x=\"0\" y=\"-9.5\" width=\"104.28125\" height=\"19\" style=\"fill: rgb(0, 0, 0); fill-opacity: 0;\"/></g><g class=\"traces\" transform=\"translate(304.859375,14.5)\" style=\"opacity: 1;\"><text class=\"legendtext\" text-anchor=\"start\" x=\"40\" y=\"4.680000000000001\" style=\"font-family: 'Open Sans', verdana, arial, sans-serif; font-size: 12px; fill: rgb(214, 223, 239); fill-opacity: 1; white-space: pre;\">Short entries</text><g class=\"layers\" style=\"opacity: 1;\"><g class=\"legendfill\"/><g class=\"legendlines\"/><g class=\"legendsymbols\"><g class=\"legendpoints\"><path class=\"scatterpts\" transform=\"translate(20,0)\" d=\"M-4.62,2H4.62L0,-4Z\" style=\"opacity: 1; stroke-width: 1px; fill: rgb(255, 0, 255); fill-opacity: 1; stroke: rgb(178, 0, 178); stroke-opacity: 1;\"/></g></g></g><rect class=\"legendtoggle\" x=\"0\" y=\"-9.5\" width=\"120.9375\" height=\"19\" style=\"fill: rgb(0, 0, 0); fill-opacity: 0;\"/></g><g class=\"traces\" transform=\"translate(428.296875,14.5)\" style=\"opacity: 1;\"><text class=\"legendtext\" text-anchor=\"start\" x=\"40\" y=\"4.680000000000001\" style=\"font-family: 'Open Sans', verdana, arial, sans-serif; font-size: 12px; fill: rgb(214, 223, 239); fill-opacity: 1; white-space: pre;\">Short exits</text><g class=\"layers\" style=\"opacity: 1;\"><g class=\"legendfill\"/><g class=\"legendlines\"/><g class=\"legendsymbols\"><g class=\"legendpoints\"><path class=\"scatterpts\" transform=\"translate(20,0)\" d=\"M-4.62,-2H4.62L0,4Z\" style=\"opacity: 1; stroke-width: 1px; fill: rgb(255, 0, 0); fill-opacity: 1; stroke: rgb(178, 0, 0); stroke-opacity: 1;\"/></g></g></g><rect class=\"legendtoggle\" x=\"0\" y=\"-9.5\" width=\"108.171875\" height=\"19\" style=\"fill: rgb(0, 0, 0); fill-opacity: 0;\"/></g></g></g><rect class=\"scrollbar\" rx=\"20\" ry=\"3\" width=\"0\" height=\"0\" style=\"fill: rgb(128, 139, 164); fill-opacity: 1;\" x=\"0\" y=\"0\"/></g><g class=\"g-gtitle\"/><g class=\"g-xtitle\"/><g class=\"g-ytitle\"/></g></svg>"
      ]
     },
     "metadata": {},
     "output_type": "display_data"
    }
   ],
   "source": [
    "fig = data.plot(\n",
    "    symbol=\"BTCUSDT\", \n",
    "    ohlc_trace_kwargs=dict(opacity=0.5), \n",
    "    plot_volume=False\n",
    ")\n",
    "long_entries[\"BTCUSDT\"].vbt.signals.plot_as_entries(\n",
    "    ohlcstcx.entry_price[\"BTCUSDT\"],\n",
    "    trace_kwargs=dict(marker=dict(color=\"limegreen\"), name=\"Long entries\"), \n",
    "    fig=fig\n",
    ")\n",
    "long_exits[\"BTCUSDT\"].vbt.signals.plot_as_exits(\n",
    "    ohlcstcx.stop_price[\"BTCUSDT\"],\n",
    "    trace_kwargs=dict(marker=dict(color=\"orange\"), name=\"Long exits\"),\n",
    "    fig=fig\n",
    ")\n",
    "short_entries[\"BTCUSDT\"].vbt.signals.plot_as_entries(\n",
    "    ohlcstcx.entry_price[\"BTCUSDT\"],\n",
    "    trace_kwargs=dict(marker=dict(color=\"magenta\"), name=\"Short entries\"),\n",
    "    fig=fig\n",
    ")\n",
    "short_exits[\"BTCUSDT\"].vbt.signals.plot_as_exits(\n",
    "    ohlcstcx.stop_price[\"BTCUSDT\"],\n",
    "    trace_kwargs=dict(marker=dict(color=\"red\"), name=\"Short exits\"),\n",
    "    fig=fig\n",
    ").show_svg()"
   ]
  },
  {
   "cell_type": "markdown",
   "id": "bf356e79-4c3b-4819-ad6e-7f5c556be5fd",
   "metadata": {},
   "source": [
    "## Pre-analysis"
   ]
  },
  {
   "cell_type": "markdown",
   "id": "30097f36-14d4-4a9b-bad9-d0cf8b6668f1",
   "metadata": {},
   "source": [
    "### Ranking"
   ]
  },
  {
   "cell_type": "code",
   "execution_count": 112,
   "id": "13ca8377-310f-4240-babf-5c99023e3d9f",
   "metadata": {},
   "outputs": [
    {
     "data": {
      "text/plain": [
       "0    1\n",
       "1    0\n",
       "2   -1\n",
       "3    1\n",
       "4    0\n",
       "dtype: int64"
      ]
     },
     "execution_count": 112,
     "metadata": {},
     "output_type": "execute_result"
    }
   ],
   "source": [
    "@njit\n",
    "def rank_func_nb(c):\n",
    "    if c.sig_in_part_cnt == 1:\n",
    "        return 1\n",
    "    return 0\n",
    "\n",
    "sample_mask = pd.Series([True, True, False, True, True])\n",
    "ranked = sample_mask.vbt.signals.rank(rank_func_nb)\n",
    "ranked"
   ]
  },
  {
   "cell_type": "code",
   "execution_count": 113,
   "id": "7c44fcd0-d678-4ad8-8ef1-99d0f91aad40",
   "metadata": {},
   "outputs": [
    {
     "data": {
      "text/plain": [
       "0     True\n",
       "1    False\n",
       "2    False\n",
       "3     True\n",
       "4    False\n",
       "dtype: bool"
      ]
     },
     "execution_count": 113,
     "metadata": {},
     "output_type": "execute_result"
    }
   ],
   "source": [
    "ranked == 1"
   ]
  },
  {
   "cell_type": "code",
   "execution_count": 114,
   "id": "693bd2d7-24bf-4c0c-80e4-8665b1649d2d",
   "metadata": {},
   "outputs": [
    {
     "data": {
      "text/plain": [
       "0    False\n",
       "1    False\n",
       "2    False\n",
       "3     True\n",
       "4    False\n",
       "dtype: bool"
      ]
     },
     "execution_count": 114,
     "metadata": {},
     "output_type": "execute_result"
    }
   ],
   "source": [
    "ranked = sample_mask.vbt.signals.rank(rank_func_nb, after_false=True)\n",
    "ranked == 1"
   ]
  },
  {
   "cell_type": "code",
   "execution_count": 115,
   "id": "2ba16d6f-f5fa-4bca-b8a5-fa4891c10587",
   "metadata": {},
   "outputs": [
    {
     "data": {
      "text/plain": [
       "0     True\n",
       "1    False\n",
       "2    False\n",
       "3     True\n",
       "4    False\n",
       "dtype: bool"
      ]
     },
     "execution_count": 115,
     "metadata": {},
     "output_type": "execute_result"
    }
   ],
   "source": [
    "sample_entries = pd.Series([True, True, True, True, True])\n",
    "sample_exits = pd.Series([False, False, True, False, False])\n",
    "ranked = sample_entries.vbt.signals.rank(\n",
    "    rank_func_nb, \n",
    "    reset_by=sample_exits\n",
    ")\n",
    "ranked == 1"
   ]
  },
  {
   "cell_type": "code",
   "execution_count": 116,
   "id": "caff048c-a2ae-4e1f-ab1c-15c60a87a7ec",
   "metadata": {},
   "outputs": [
    {
     "data": {
      "text/plain": [
       "0    False\n",
       "1    False\n",
       "2    False\n",
       "3     True\n",
       "4    False\n",
       "dtype: bool"
      ]
     },
     "execution_count": 116,
     "metadata": {},
     "output_type": "execute_result"
    }
   ],
   "source": [
    "ranked = sample_entries.vbt.signals.rank(\n",
    "    rank_func_nb, \n",
    "    reset_by=sample_exits,\n",
    "    after_reset=True\n",
    ")\n",
    "ranked == 1"
   ]
  },
  {
   "cell_type": "markdown",
   "id": "a973bf32-e451-4786-867e-5c90c82bc6f5",
   "metadata": {},
   "source": [
    "#### Preset rankers"
   ]
  },
  {
   "cell_type": "code",
   "execution_count": 117,
   "id": "b0e2b978-480f-4149-8b31-63004f9ef9b9",
   "metadata": {},
   "outputs": [
    {
     "data": {
      "text/plain": [
       "0    0\n",
       "1    1\n",
       "2   -1\n",
       "3    0\n",
       "4    1\n",
       "dtype: int64"
      ]
     },
     "execution_count": 117,
     "metadata": {},
     "output_type": "execute_result"
    }
   ],
   "source": [
    "sample_mask = pd.Series([True, True, False, True, True])\n",
    "ranked = sample_mask.vbt.signals.pos_rank()\n",
    "ranked"
   ]
  },
  {
   "cell_type": "code",
   "execution_count": 118,
   "id": "6415bbd4-2e5d-4484-ab21-0478566513c8",
   "metadata": {},
   "outputs": [
    {
     "data": {
      "text/plain": [
       "0    False\n",
       "1     True\n",
       "2    False\n",
       "3    False\n",
       "4     True\n",
       "dtype: bool"
      ]
     },
     "execution_count": 118,
     "metadata": {},
     "output_type": "execute_result"
    }
   ],
   "source": [
    "ranked == 1"
   ]
  },
  {
   "cell_type": "code",
   "execution_count": 119,
   "id": "d4b19ce3-2a0e-47ff-bc1b-c1a3695cbcaa",
   "metadata": {},
   "outputs": [
    {
     "data": {
      "text/plain": [
       "0    0\n",
       "1    1\n",
       "2   -1\n",
       "3    2\n",
       "4    3\n",
       "dtype: int64"
      ]
     },
     "execution_count": 119,
     "metadata": {},
     "output_type": "execute_result"
    }
   ],
   "source": [
    "ranked = sample_mask.vbt.signals.pos_rank(allow_gaps=True)\n",
    "ranked"
   ]
  },
  {
   "cell_type": "code",
   "execution_count": 120,
   "id": "369d7a73-c8cb-4579-8f42-28510b948f63",
   "metadata": {},
   "outputs": [
    {
     "data": {
      "text/plain": [
       "0    False\n",
       "1     True\n",
       "2    False\n",
       "3    False\n",
       "4     True\n",
       "dtype: bool"
      ]
     },
     "execution_count": 120,
     "metadata": {},
     "output_type": "execute_result"
    }
   ],
   "source": [
    "(ranked > -1) & (ranked % 2 == 1)"
   ]
  },
  {
   "cell_type": "code",
   "execution_count": 121,
   "id": "50d51cf9-c42b-4468-a54f-be011327e474",
   "metadata": {},
   "outputs": [
    {
     "data": {
      "text/plain": [
       "0    0\n",
       "1    0\n",
       "2   -1\n",
       "3    1\n",
       "4    1\n",
       "dtype: int64"
      ]
     },
     "execution_count": 121,
     "metadata": {},
     "output_type": "execute_result"
    }
   ],
   "source": [
    "ranked = sample_mask.vbt.signals.partition_pos_rank(allow_gaps=True)\n",
    "ranked"
   ]
  },
  {
   "cell_type": "code",
   "execution_count": 122,
   "id": "7d4864bb-e549-4016-bced-cd39ca4b5b70",
   "metadata": {},
   "outputs": [
    {
     "data": {
      "text/plain": [
       "0    False\n",
       "1    False\n",
       "2    False\n",
       "3     True\n",
       "4     True\n",
       "dtype: bool"
      ]
     },
     "execution_count": 122,
     "metadata": {},
     "output_type": "execute_result"
    }
   ],
   "source": [
    "ranked == 1"
   ]
  },
  {
   "cell_type": "code",
   "execution_count": 123,
   "id": "c624d629-f1fc-4c33-ad43-5c85496cb483",
   "metadata": {},
   "outputs": [
    {
     "data": {
      "text/plain": [
       "symbol\n",
       "BTCUSDT    25\n",
       "ETHUSDT    13\n",
       "dtype: int64"
      ]
     },
     "execution_count": 123,
     "metadata": {},
     "output_type": "execute_result"
    }
   ],
   "source": [
    "entry_cond1 = data.get(\"Low\") < bb.lowerband\n",
    "entry_cond2 = bandwidth > 0.3\n",
    "entry_cond3 = data.get(\"High\") > bb.upperband\n",
    "entry_cond4 = bandwidth < 0.15\n",
    "entries = (entry_cond1 & entry_cond2) | (entry_cond3 & entry_cond4)\n",
    "\n",
    "entries.vbt.signals.from_nth(0).sum()"
   ]
  },
  {
   "cell_type": "code",
   "execution_count": 124,
   "id": "a8b250d1-ba86-44ba-b532-cd42d261545a",
   "metadata": {},
   "outputs": [
    {
     "data": {
      "text/plain": [
       "symbol\n",
       "BTCUSDT    14\n",
       "ETHUSDT     5\n",
       "dtype: int64"
      ]
     },
     "execution_count": 124,
     "metadata": {},
     "output_type": "execute_result"
    }
   ],
   "source": [
    "entries.vbt.signals.from_nth(1).sum()"
   ]
  },
  {
   "cell_type": "code",
   "execution_count": 125,
   "id": "047fbe11-5da9-439f-b5c5-b1109f32fcbf",
   "metadata": {},
   "outputs": [
    {
     "data": {
      "text/plain": [
       "symbol\n",
       "BTCUSDT    6\n",
       "ETHUSDT    2\n",
       "dtype: int64"
      ]
     },
     "execution_count": 125,
     "metadata": {},
     "output_type": "execute_result"
    }
   ],
   "source": [
    "entries.vbt.signals.from_nth(2).sum()"
   ]
  },
  {
   "cell_type": "code",
   "execution_count": 126,
   "id": "80f7a1d3-16eb-4aee-bb06-91cc09556a8e",
   "metadata": {},
   "outputs": [],
   "source": [
    "exit_cond1 = data.get(\"High\") > bb.upperband\n",
    "exit_cond2 = bandwidth > 0.3\n",
    "exit_cond3 = data.get(\"Low\") < bb.lowerband\n",
    "exit_cond4 = bandwidth < 0.15\n",
    "exits = (exit_cond1 & exit_cond2) | (exit_cond3 & exit_cond4)"
   ]
  },
  {
   "cell_type": "code",
   "execution_count": 127,
   "id": "24028cc0-e4f5-4025-a107-38d92c01c4c1",
   "metadata": {},
   "outputs": [
    {
     "data": {
      "text/plain": [
       "symbol\n",
       "BTCUSDT     9\n",
       "ETHUSDT    11\n",
       "dtype: int64"
      ]
     },
     "execution_count": 127,
     "metadata": {},
     "output_type": "execute_result"
    }
   ],
   "source": [
    "exits.vbt.signals.pos_rank_after(entries, reset_wait=0).max() + 1"
   ]
  },
  {
   "cell_type": "code",
   "execution_count": 128,
   "id": "3a4b2be2-8e5c-463a-9655-1f420b0017c9",
   "metadata": {},
   "outputs": [
    {
     "data": {
      "text/plain": [
       "symbol\n",
       "BTCUSDT    11\n",
       "ETHUSDT     7\n",
       "dtype: int64"
      ]
     },
     "execution_count": 128,
     "metadata": {},
     "output_type": "execute_result"
    }
   ],
   "source": [
    "entries.vbt.signals.pos_rank_after(exits).max() + 1"
   ]
  },
  {
   "cell_type": "code",
   "execution_count": 129,
   "id": "c0beeb7b-b5c4-4f48-9791-8a0828e956ec",
   "metadata": {},
   "outputs": [
    {
     "name": "stdout",
     "output_type": "stream",
     "text": [
      "symbol                     BTCUSDT  ETHUSDT\n",
      "Open time                                  \n",
      "2021-05-12 00:00:00+00:00       -1       10\n",
      "2021-07-28 00:00:00+00:00        8       -1\n"
     ]
    }
   ],
   "source": [
    "ranked = exits.vbt.signals.pos_rank_after(entries, reset_wait=0)\n",
    "highest_ranked = ranked == ranked.max()\n",
    "print(ranked[highest_ranked.any(axis=1)])"
   ]
  },
  {
   "cell_type": "code",
   "execution_count": 130,
   "id": "805ef372-1748-4dc4-825a-46e3f55fb3f7",
   "metadata": {},
   "outputs": [
    {
     "data": {
      "text/plain": [
       "symbol\n",
       "BTCUSDT    10\n",
       "ETHUSDT     4\n",
       "dtype: int64"
      ]
     },
     "execution_count": 130,
     "metadata": {},
     "output_type": "execute_result"
    }
   ],
   "source": [
    "exits_after = exits.vbt.signals.from_nth_after(0, entries, reset_wait=0)\n",
    "(exits ^ exits_after).sum()"
   ]
  },
  {
   "cell_type": "markdown",
   "id": "0db70553-be70-4a1c-9ce4-92f906ba291b",
   "metadata": {},
   "source": [
    "#### Mapped ranks"
   ]
  },
  {
   "cell_type": "code",
   "execution_count": 131,
   "id": "9aeaa467-6a09-4a45-8c4a-abd587c7148d",
   "metadata": {},
   "outputs": [
    {
     "data": {
      "text/plain": [
       "bw_th\n",
       "0.1    237.0\n",
       "0.2     50.0\n",
       "0.3     19.0\n",
       "0.4     12.0\n",
       "0.5     10.0\n",
       "0.6      8.0\n",
       "0.7      5.0\n",
       "0.8      2.0\n",
       "0.9      NaN\n",
       "Name: max, dtype: float64"
      ]
     },
     "execution_count": 131,
     "metadata": {},
     "output_type": "execute_result"
    }
   ],
   "source": [
    "mask = bandwidth.vbt > pd.Index(np.arange(1, 10) / 10, name=\"bw_th\")\n",
    "mapped_ranks = mask.vbt.signals.pos_rank(as_mapped=True)\n",
    "mapped_ranks.max(group_by=vbt.ExceptLevel(\"symbol\"))"
   ]
  },
  {
   "cell_type": "markdown",
   "id": "5ef8deef-a5d9-40b0-9819-78dbac8f5b27",
   "metadata": {},
   "source": [
    "### Cleaning"
   ]
  },
  {
   "cell_type": "code",
   "execution_count": 132,
   "id": "402c23ed-0a63-4b9c-b215-ac7dacf083e5",
   "metadata": {},
   "outputs": [],
   "source": [
    "new_exits = exits.vbt.signals.first_after(entries, reset_wait=0)\n",
    "new_entries = entries.vbt.signals.first_after(exits)"
   ]
  },
  {
   "cell_type": "code",
   "execution_count": 133,
   "id": "b79491ce-3291-46ee-a2a6-5aa3ac9a2de3",
   "metadata": {},
   "outputs": [
    {
     "data": {
      "image/svg+xml": [
       "<svg class=\"main-svg\" xmlns=\"http://www.w3.org/2000/svg\" xmlns:xlink=\"http://www.w3.org/1999/xlink\" width=\"700\" height=\"350\" style=\"\" viewBox=\"0 0 700 350\"><rect x=\"0\" y=\"0\" width=\"700\" height=\"350\" style=\"fill: rgb(33, 34, 44); fill-opacity: 1;\"/><defs id=\"defs-d7a941\"><g class=\"clips\"><clipPath id=\"clipd7a941xyplot\" class=\"plotclip\"><rect width=\"626\" height=\"274\"/></clipPath><clipPath class=\"axesclip\" id=\"clipd7a941x\"><rect x=\"44\" y=\"0\" width=\"626\" height=\"350\"/></clipPath><clipPath class=\"axesclip\" id=\"clipd7a941y\"><rect x=\"0\" y=\"46\" width=\"700\" height=\"274\"/></clipPath><clipPath class=\"axesclip\" id=\"clipd7a941xy\"><rect x=\"44\" y=\"46\" width=\"626\" height=\"274\"/></clipPath></g><g class=\"gradients\"/><g class=\"patterns\"/></defs><g class=\"bglayer\"/><g class=\"layer-below\"><g class=\"imagelayer\"/><g class=\"shapelayer\"/></g><g class=\"cartesianlayer\"><g class=\"subplot xy\"><g class=\"layer-subplot\"><g class=\"shapelayer\"/><g class=\"imagelayer\"/></g><g class=\"gridlayer\"><g class=\"x\"><path class=\"xgrid crisp\" transform=\"translate(140.53,0)\" d=\"M0,46v274\" style=\"stroke: rgb(47, 62, 78); stroke-opacity: 1; stroke-width: 1px;\"/><path class=\"xgrid crisp\" transform=\"translate(239.49,0)\" d=\"M0,46v274\" style=\"stroke: rgb(47, 62, 78); stroke-opacity: 1; stroke-width: 1px;\"/><path class=\"xgrid crisp\" transform=\"translate(338.44,0)\" d=\"M0,46v274\" style=\"stroke: rgb(47, 62, 78); stroke-opacity: 1; stroke-width: 1px;\"/><path class=\"xgrid crisp\" transform=\"translate(439.03,0)\" d=\"M0,46v274\" style=\"stroke: rgb(47, 62, 78); stroke-opacity: 1; stroke-width: 1px;\"/><path class=\"xgrid crisp\" transform=\"translate(537.99,0)\" d=\"M0,46v274\" style=\"stroke: rgb(47, 62, 78); stroke-opacity: 1; stroke-width: 1px;\"/><path class=\"xgrid crisp\" transform=\"translate(636.94,0)\" d=\"M0,46v274\" style=\"stroke: rgb(47, 62, 78); stroke-opacity: 1; stroke-width: 1px;\"/></g><g class=\"y\"><path class=\"ygrid crisp\" transform=\"translate(0,289.34000000000003)\" d=\"M44,0h626\" style=\"stroke: rgb(47, 62, 78); stroke-opacity: 1; stroke-width: 1px;\"/><path class=\"ygrid crisp\" transform=\"translate(0,229.97)\" d=\"M44,0h626\" style=\"stroke: rgb(47, 62, 78); stroke-opacity: 1; stroke-width: 1px;\"/><path class=\"ygrid crisp\" transform=\"translate(0,170.6)\" d=\"M44,0h626\" style=\"stroke: rgb(47, 62, 78); stroke-opacity: 1; stroke-width: 1px;\"/><path class=\"ygrid crisp\" transform=\"translate(0,111.23)\" d=\"M44,0h626\" style=\"stroke: rgb(47, 62, 78); stroke-opacity: 1; stroke-width: 1px;\"/><path class=\"ygrid crisp\" transform=\"translate(0,51.86)\" d=\"M44,0h626\" style=\"stroke: rgb(47, 62, 78); stroke-opacity: 1; stroke-width: 1px;\"/></g></g><g class=\"zerolinelayer\"/><path class=\"xlines-below\"/><path class=\"ylines-below\"/><g class=\"overlines-below\"/><g class=\"xaxislayer-below\"/><g class=\"yaxislayer-below\"/><g class=\"overaxes-below\"/><g class=\"plot\" transform=\"translate(44,46)\" clip-path=\"url(#clipd7a941xyplot)\"><g class=\"ohlclayer mlayer\"><g class=\"trace ohlc\" style=\"opacity: 0.5;\"><path d=\"M0.32,258.99H0.81M0.81,258.24V260.3M1.3,259.43H0.81\" style=\"fill: none; stroke: rgb(217, 95, 2); stroke-opacity: 1; stroke-width: 2px; opacity: 1;\"/><path d=\"M1.95,259.43H2.43M2.43,255.94V260.26M2.92,256.72H2.43\" style=\"fill: none; stroke: rgb(27, 158, 118); stroke-opacity: 1; stroke-width: 2px; opacity: 1;\"/><path d=\"M3.57,256.73H4.06M4.06,242.68V257.07M4.54,244.63H4.06\" style=\"fill: none; stroke: rgb(27, 158, 118); stroke-opacity: 1; stroke-width: 2px; opacity: 1;\"/><path d=\"M5.19,244.62H5.68M5.68,233.66V249.87M6.16,240.88H5.68\" style=\"fill: none; stroke: rgb(27, 158, 118); stroke-opacity: 1; stroke-width: 2px; opacity: 1;\"/><path d=\"M6.81,240.88H7.3M7.3,235.35V244.85M7.79,237.43H7.3\" style=\"fill: none; stroke: rgb(27, 158, 118); stroke-opacity: 1; stroke-width: 2px; opacity: 1;\"/><path d=\"M8.44,237.39H8.92M8.92,230.69V239.94M9.41,230.96H8.92\" style=\"fill: none; stroke: rgb(27, 158, 118); stroke-opacity: 1; stroke-width: 2px; opacity: 1;\"/><path d=\"M10.06,230.94H10.54M10.54,226.18V235.56M11.03,229.99H10.54\" style=\"fill: none; stroke: rgb(27, 158, 118); stroke-opacity: 1; stroke-width: 2px; opacity: 1;\"/><path d=\"M11.68,229.99H12.17M12.17,227.09V239.48M12.65,230.46H12.17\" style=\"fill: none; stroke: rgb(217, 95, 2); stroke-opacity: 1; stroke-width: 2px; opacity: 1;\"/><path d=\"M13.3,230.47H13.79M13.79,225.27V233.16M14.28,226.95H13.79\" style=\"fill: none; stroke: rgb(27, 158, 118); stroke-opacity: 1; stroke-width: 2px; opacity: 1;\"/><path d=\"M14.93,226.95H15.41M15.41,222.66V233.25M15.9,228.24H15.41\" style=\"fill: none; stroke: rgb(217, 95, 2); stroke-opacity: 1; stroke-width: 2px; opacity: 1;\"/><path d=\"M16.55,228.24H17.03M17.03,227.9V248.38M17.52,238.17H17.03\" style=\"fill: none; stroke: rgb(217, 95, 2); stroke-opacity: 1; stroke-width: 2px; opacity: 1;\"/><path d=\"M18.17,238.17H18.66M18.66,234.43V242.96M19.14,240.36H18.66\" style=\"fill: none; stroke: rgb(217, 95, 2); stroke-opacity: 1; stroke-width: 2px; opacity: 1;\"/><path d=\"M19.79,240.35H20.28M20.28,235.17V244.08M20.77,235.63H20.28\" style=\"fill: none; stroke: rgb(27, 158, 118); stroke-opacity: 1; stroke-width: 2px; opacity: 1;\"/><path d=\"M21.41,235.63H21.9M21.9,228.64V238.19M22.39,229.59H21.9\" style=\"fill: none; stroke: rgb(27, 158, 118); stroke-opacity: 1; stroke-width: 2px; opacity: 1;\"/><path d=\"M23.04,229.57H23.52M23.52,228.08V239.22M24.01,233.33H23.52\" style=\"fill: none; stroke: rgb(217, 95, 2); stroke-opacity: 1; stroke-width: 2px; opacity: 1;\"/><path d=\"M24.66,233.34H25.15M25.15,225.65V234.33M25.63,229.81H25.15\" style=\"fill: none; stroke: rgb(27, 158, 118); stroke-opacity: 1; stroke-width: 2px; opacity: 1;\"/><path d=\"M26.28,229.81H26.77M26.77,227.37V233.54M27.25,229.54H26.77\" style=\"fill: none; stroke: rgb(27, 158, 118); stroke-opacity: 1; stroke-width: 2px; opacity: 1;\"/><path d=\"M27.9,229.53H28.39M28.39,227.86V232.5M28.88,227.99H28.39\" style=\"fill: none; stroke: rgb(27, 158, 118); stroke-opacity: 1; stroke-width: 2px; opacity: 1;\"/><path d=\"M29.53,227.99H30.01M30.01,217.32V228.41M30.5,221.65H30.01\" style=\"fill: none; stroke: rgb(27, 158, 118); stroke-opacity: 1; stroke-width: 2px; opacity: 1;\"/><path d=\"M31.15,221.65H31.63M31.63,219.12V229.36M32.12,220.96H31.63\" style=\"fill: none; stroke: rgb(27, 158, 118); stroke-opacity: 1; stroke-width: 2px; opacity: 1;\"/><path d=\"M32.77,220.97H33.26M33.26,220.18V238.23M33.74,236.75H33.26\" style=\"fill: none; stroke: rgb(217, 95, 2); stroke-opacity: 1; stroke-width: 2px; opacity: 1;\"/><path d=\"M34.39,236.69H34.88M34.88,227.08V240.83M35.37,229.53H34.88\" style=\"fill: none; stroke: rgb(27, 158, 118); stroke-opacity: 1; stroke-width: 2px; opacity: 1;\"/><path d=\"M36.01,229.53H36.5M36.5,227.16V231.71M36.99,229.47H36.5\" style=\"fill: none; stroke: rgb(27, 158, 118); stroke-opacity: 1; stroke-width: 2px; opacity: 1;\"/><path d=\"M37.64,229.48H38.12M38.12,219.66V230.28M38.61,220.04H38.12\" style=\"fill: none; stroke: rgb(27, 158, 118); stroke-opacity: 1; stroke-width: 2px; opacity: 1;\"/><path d=\"M39.26,220.05H39.75M39.75,215.14V225.9M40.23,224.47H39.75\" style=\"fill: none; stroke: rgb(217, 95, 2); stroke-opacity: 1; stroke-width: 2px; opacity: 1;\"/><path d=\"M40.88,224.48H41.37M41.37,220.87V228.82M41.85,221.61H41.37\" style=\"fill: none; stroke: rgb(27, 158, 118); stroke-opacity: 1; stroke-width: 2px; opacity: 1;\"/><path d=\"M42.5,221.58H42.99M42.99,221.14V231.05M43.48,229.15H42.99\" style=\"fill: none; stroke: rgb(217, 95, 2); stroke-opacity: 1; stroke-width: 2px; opacity: 1;\"/><path d=\"M44.13,229.15H44.61M44.61,221.97V230.44M45.1,223.76H44.61\" style=\"fill: none; stroke: rgb(27, 158, 118); stroke-opacity: 1; stroke-width: 2px; opacity: 1;\"/><path d=\"M45.75,223.78H46.24M46.24,217.4V226.4M46.72,220.81H46.24\" style=\"fill: none; stroke: rgb(27, 158, 118); stroke-opacity: 1; stroke-width: 2px; opacity: 1;\"/><path d=\"M47.37,220.8H47.86M47.86,219.23V223.96M48.34,220.89H47.86\" style=\"fill: none; stroke: rgb(217, 95, 2); stroke-opacity: 1; stroke-width: 2px; opacity: 1;\"/><path d=\"M48.99,220.89H49.48M49.48,220.73V226.65M49.97,224.78H49.48\" style=\"fill: none; stroke: rgb(217, 95, 2); stroke-opacity: 1; stroke-width: 2px; opacity: 1;\"/><path d=\"M50.62,224.79H51.1M51.1,220.9V227.31M51.59,221.12H51.1\" style=\"fill: none; stroke: rgb(27, 158, 118); stroke-opacity: 1; stroke-width: 2px; opacity: 1;\"/><path d=\"M52.24,221.13H52.72M52.72,210.81V221.95M53.21,212.95H52.72\" style=\"fill: none; stroke: rgb(27, 158, 118); stroke-opacity: 1; stroke-width: 2px; opacity: 1;\"/><path d=\"M53.86,212.95H54.35M54.35,203.6V213.16M54.83,203.89H54.35\" style=\"fill: none; stroke: rgb(27, 158, 118); stroke-opacity: 1; stroke-width: 2px; opacity: 1;\"/><path d=\"M55.48,203.88H55.97M55.97,202.06V210.42M56.46,207.97H55.97\" style=\"fill: none; stroke: rgb(217, 95, 2); stroke-opacity: 1; stroke-width: 2px; opacity: 1;\"/><path d=\"M57.1,207.98H57.59M57.59,198.19V208.25M58.08,200.64H57.59\" style=\"fill: none; stroke: rgb(27, 158, 118); stroke-opacity: 1; stroke-width: 2px; opacity: 1;\"/><path d=\"M58.73,200.65H59.21M59.21,199.19V205.17M59.7,203.18H59.21\" style=\"fill: none; stroke: rgb(217, 95, 2); stroke-opacity: 1; stroke-width: 2px; opacity: 1;\"/><path d=\"M60.35,203.18H60.84M60.84,202.2V214.22M61.32,207.03H60.84\" style=\"fill: none; stroke: rgb(217, 95, 2); stroke-opacity: 1; stroke-width: 2px; opacity: 1;\"/><path d=\"M61.97,207.04H62.46M62.46,197.29V209.86M62.94,198.8H62.46\" style=\"fill: none; stroke: rgb(27, 158, 118); stroke-opacity: 1; stroke-width: 2px; opacity: 1;\"/><path d=\"M63.59,198.83H64.08M64.08,194.54V201.28M64.57,197.68H64.08\" style=\"fill: none; stroke: rgb(27, 158, 118); stroke-opacity: 1; stroke-width: 2px; opacity: 1;\"/><path d=\"M65.22,197.68H65.7M65.7,193.6V202.97M66.19,199.36H65.7\" style=\"fill: none; stroke: rgb(217, 95, 2); stroke-opacity: 1; stroke-width: 2px; opacity: 1;\"/><path d=\"M66.84,199.36H67.32M67.32,194.71V201.58M67.81,196.7H67.32\" style=\"fill: none; stroke: rgb(27, 158, 118); stroke-opacity: 1; stroke-width: 2px; opacity: 1;\"/><path d=\"M68.46,196.68H68.95M68.95,191.99V199.41M69.43,193.45H68.95\" style=\"fill: none; stroke: rgb(27, 158, 118); stroke-opacity: 1; stroke-width: 2px; opacity: 1;\"/><path d=\"M70.08,193.45H70.57M70.57,191.58V197.92M71.06,194.95H70.57\" style=\"fill: none; stroke: rgb(217, 95, 2); stroke-opacity: 1; stroke-width: 2px; opacity: 1;\"/><path d=\"M71.7,194.94H72.19M72.19,192.87V196.79M72.68,195.82H72.19\" style=\"fill: none; stroke: rgb(217, 95, 2); stroke-opacity: 1; stroke-width: 2px; opacity: 1;\"/><path d=\"M73.33,195.84H73.81M73.81,193.72V204.41M74.3,197.07H73.81\" style=\"fill: none; stroke: rgb(217, 95, 2); stroke-opacity: 1; stroke-width: 2px; opacity: 1;\"/><path d=\"M74.95,197.07H75.44M75.44,194.22V200.35M75.92,196.91H75.44\" style=\"fill: none; stroke: rgb(27, 158, 118); stroke-opacity: 1; stroke-width: 2px; opacity: 1;\"/><path d=\"M76.57,196.91H77.06M77.06,192.58V199.82M77.55,192.88H77.06\" style=\"fill: none; stroke: rgb(27, 158, 118); stroke-opacity: 1; stroke-width: 2px; opacity: 1;\"/><path d=\"M78.19,192.89H78.68M78.68,186.91V192.89M79.17,187.55H78.68\" style=\"fill: none; stroke: rgb(27, 158, 118); stroke-opacity: 1; stroke-width: 2px; opacity: 1;\"/><path d=\"M79.82,187.6H80.3M80.3,185.58V190.44M80.79,186.64H80.3\" style=\"fill: none; stroke: rgb(27, 158, 118); stroke-opacity: 1; stroke-width: 2px; opacity: 1;\"/><path d=\"M81.44,186.61H81.93M81.93,181.46V195.66M82.41,189.13H81.93\" style=\"fill: none; stroke: rgb(217, 95, 2); stroke-opacity: 1; stroke-width: 2px; opacity: 1;\"/><path d=\"M83.06,189.14H83.55M83.55,185.38V190.91M84.03,187.92H83.55\" style=\"fill: none; stroke: rgb(27, 158, 118); stroke-opacity: 1; stroke-width: 2px; opacity: 1;\"/><path d=\"M84.68,187.91H85.17M85.17,187.75V210.63M85.66,197.17H85.17\" style=\"fill: none; stroke: rgb(217, 95, 2); stroke-opacity: 1; stroke-width: 2px; opacity: 1;\"/><path d=\"M86.31,197.18H86.79M86.79,196.89V222.26M87.28,209.03H86.79\" style=\"fill: none; stroke: rgb(217, 95, 2); stroke-opacity: 1; stroke-width: 2px; opacity: 1;\"/><path d=\"M87.93,209.04H88.41M88.41,201.03V213.64M88.9,206.33H88.41\" style=\"fill: none; stroke: rgb(27, 158, 118); stroke-opacity: 1; stroke-width: 2px; opacity: 1;\"/><path d=\"M89.55,206.34H90.04M90.04,203.47V216.08M90.52,214.74H90.04\" style=\"fill: none; stroke: rgb(217, 95, 2); stroke-opacity: 1; stroke-width: 2px; opacity: 1;\"/><path d=\"M91.17,214.72H91.66M91.66,209.96V219.59M92.15,216.94H91.66\" style=\"fill: none; stroke: rgb(217, 95, 2); stroke-opacity: 1; stroke-width: 2px; opacity: 1;\"/><path d=\"M92.79,216.94H93.28M93.28,211.93V218.11M93.77,216.14H93.28\" style=\"fill: none; stroke: rgb(27, 158, 118); stroke-opacity: 1; stroke-width: 2px; opacity: 1;\"/><path d=\"M94.42,216.13H94.9M94.9,215.51V225.93M95.39,218.45H94.9\" style=\"fill: none; stroke: rgb(217, 95, 2); stroke-opacity: 1; stroke-width: 2px; opacity: 1;\"/><path d=\"M96.04,218.48H96.53M96.53,209.38V219M97.01,209.51H96.53\" style=\"fill: none; stroke: rgb(27, 158, 118); stroke-opacity: 1; stroke-width: 2px; opacity: 1;\"/><path d=\"M97.66,209.5H98.15M98.15,207.54V216.29M98.63,214.44H98.15\" style=\"fill: none; stroke: rgb(217, 95, 2); stroke-opacity: 1; stroke-width: 2px; opacity: 1;\"/><path d=\"M99.28,214.44H99.77M99.77,204.34V215.11M100.26,209.63H99.77\" style=\"fill: none; stroke: rgb(27, 158, 118); stroke-opacity: 1; stroke-width: 2px; opacity: 1;\"/><path d=\"M100.91,209.64H101.39M101.39,206.24V213.28M101.88,211.32H101.39\" style=\"fill: none; stroke: rgb(217, 95, 2); stroke-opacity: 1; stroke-width: 2px; opacity: 1;\"/><path d=\"M102.53,211.33H103.01M103.01,210.75V217.12M103.5,211.97H103.01\" style=\"fill: none; stroke: rgb(217, 95, 2); stroke-opacity: 1; stroke-width: 2px; opacity: 1;\"/><path d=\"M104.15,211.99H104.64M104.64,203.47V212.88M105.12,204.73H104.64\" style=\"fill: none; stroke: rgb(27, 158, 118); stroke-opacity: 1; stroke-width: 2px; opacity: 1;\"/><path d=\"M105.77,204.71H106.26M106.26,199.75V205.91M106.75,200.23H106.26\" style=\"fill: none; stroke: rgb(27, 158, 118); stroke-opacity: 1; stroke-width: 2px; opacity: 1;\"/><path d=\"M107.4,200.21H107.88M107.88,193.26V203.86M108.37,193.87H107.88\" style=\"fill: none; stroke: rgb(27, 158, 118); stroke-opacity: 1; stroke-width: 2px; opacity: 1;\"/><path d=\"M109.02,193.87H109.5M109.5,191.64V195.95M109.99,191.66H109.5\" style=\"fill: none; stroke: rgb(27, 158, 118); stroke-opacity: 1; stroke-width: 2px; opacity: 1;\"/><path d=\"M110.64,191.66H111.13M111.13,191.23V198.4M111.61,196.13H111.13\" style=\"fill: none; stroke: rgb(217, 95, 2); stroke-opacity: 1; stroke-width: 2px; opacity: 1;\"/><path d=\"M112.26,196.12H112.75M112.75,193.07V200.3M113.24,194.31H112.75\" style=\"fill: none; stroke: rgb(27, 158, 118); stroke-opacity: 1; stroke-width: 2px; opacity: 1;\"/><path d=\"M113.88,194.31H114.37M114.37,193.36V200.61M114.86,197.86H114.37\" style=\"fill: none; stroke: rgb(217, 95, 2); stroke-opacity: 1; stroke-width: 2px; opacity: 1;\"/><path d=\"M115.51,197.85H115.99M115.99,187.28V200.13M116.48,188.58H115.99\" style=\"fill: none; stroke: rgb(27, 158, 118); stroke-opacity: 1; stroke-width: 2px; opacity: 1;\"/><path d=\"M117.13,188.58H117.62M117.62,187.94V193.71M118.1,192.99H117.62\" style=\"fill: none; stroke: rgb(217, 95, 2); stroke-opacity: 1; stroke-width: 2px; opacity: 1;\"/><path d=\"M118.75,192.99H119.24M119.24,190.4V200M119.72,196.23H119.24\" style=\"fill: none; stroke: rgb(217, 95, 2); stroke-opacity: 1; stroke-width: 2px; opacity: 1;\"/><path d=\"M120.37,196.2H120.86M120.86,194.69V201.09M121.35,195.54H120.86\" style=\"fill: none; stroke: rgb(27, 158, 118); stroke-opacity: 1; stroke-width: 2px; opacity: 1;\"/><path d=\"M122,195.55H122.48M122.48,193.53V199.33M122.97,194.44H122.48\" style=\"fill: none; stroke: rgb(27, 158, 118); stroke-opacity: 1; stroke-width: 2px; opacity: 1;\"/><path d=\"M123.62,194.44H124.1M124.1,192.87V198.27M124.59,197.26H124.1\" style=\"fill: none; stroke: rgb(217, 95, 2); stroke-opacity: 1; stroke-width: 2px; opacity: 1;\"/><path d=\"M125.24,197.27H125.73M125.73,193.43V199.79M126.21,195.3H125.73\" style=\"fill: none; stroke: rgb(27, 158, 118); stroke-opacity: 1; stroke-width: 2px; opacity: 1;\"/><path d=\"M126.86,195.31H127.35M127.35,191.76V195.79M127.84,195.48H127.35\" style=\"fill: none; stroke: rgb(217, 95, 2); stroke-opacity: 1; stroke-width: 2px; opacity: 1;\"/><path d=\"M128.48,195.45H128.97M128.97,194.82V198.99M129.46,196.85H128.97\" style=\"fill: none; stroke: rgb(217, 95, 2); stroke-opacity: 1; stroke-width: 2px; opacity: 1;\"/><path d=\"M130.11,196.84H130.59M130.59,195.4V204.44M131.08,202.91H130.59\" style=\"fill: none; stroke: rgb(217, 95, 2); stroke-opacity: 1; stroke-width: 2px; opacity: 1;\"/><path d=\"M131.73,202.9H132.22M132.22,200.52V204.75M132.7,203.67H132.22\" style=\"fill: none; stroke: rgb(217, 95, 2); stroke-opacity: 1; stroke-width: 2px; opacity: 1;\"/><path d=\"M133.35,203.67H133.84M133.84,199.35V211.46M134.33,208.79H133.84\" style=\"fill: none; stroke: rgb(217, 95, 2); stroke-opacity: 1; stroke-width: 2px; opacity: 1;\"/><path d=\"M134.97,208.79H135.46M135.46,206.41V210.72M135.95,208.56H135.46\" style=\"fill: none; stroke: rgb(27, 158, 118); stroke-opacity: 1; stroke-width: 2px; opacity: 1;\"/><path d=\"M136.6,208.56H137.08M137.08,201.78V208.56M137.57,201.85H137.08\" style=\"fill: none; stroke: rgb(27, 158, 118); stroke-opacity: 1; stroke-width: 2px; opacity: 1;\"/><path d=\"M138.22,201.85H138.71M138.71,199.84V203.77M139.19,201.03H138.71\" style=\"fill: none; stroke: rgb(27, 158, 118); stroke-opacity: 1; stroke-width: 2px; opacity: 1;\"/><path d=\"M139.84,201.04H140.33M140.33,200.26V204.07M140.81,202.55H140.33\" style=\"fill: none; stroke: rgb(217, 95, 2); stroke-opacity: 1; stroke-width: 2px; opacity: 1;\"/><path d=\"M141.46,202.54H141.95M141.95,193.41V203.09M142.44,194.85H141.95\" style=\"fill: none; stroke: rgb(27, 158, 118); stroke-opacity: 1; stroke-width: 2px; opacity: 1;\"/><path d=\"M143.09,194.85H143.57M143.57,192.33V196.66M144.06,193.44H143.57\" style=\"fill: none; stroke: rgb(27, 158, 118); stroke-opacity: 1; stroke-width: 2px; opacity: 1;\"/><path d=\"M144.71,193.44H145.19M145.19,187.1V197.73M145.68,188.76H145.19\" style=\"fill: none; stroke: rgb(27, 158, 118); stroke-opacity: 1; stroke-width: 2px; opacity: 1;\"/><path d=\"M146.33,188.76H146.82M146.82,184.87V190.8M147.3,185.87H146.82\" style=\"fill: none; stroke: rgb(27, 158, 118); stroke-opacity: 1; stroke-width: 2px; opacity: 1;\"/><path d=\"M147.95,185.87H148.44M148.44,175.3V187.03M148.93,176.03H148.44\" style=\"fill: none; stroke: rgb(27, 158, 118); stroke-opacity: 1; stroke-width: 2px; opacity: 1;\"/><path d=\"M149.57,176.03H150.06M150.06,175.77V184.19M150.55,183.46H150.06\" style=\"fill: none; stroke: rgb(217, 95, 2); stroke-opacity: 1; stroke-width: 2px; opacity: 1;\"/><path d=\"M151.2,183.46H151.68M151.68,178.52V185.44M152.17,179.48H151.68\" style=\"fill: none; stroke: rgb(27, 158, 118); stroke-opacity: 1; stroke-width: 2px; opacity: 1;\"/><path d=\"M152.82,179.47H153.31M153.31,176.21V183.84M153.79,177.59H153.31\" style=\"fill: none; stroke: rgb(27, 158, 118); stroke-opacity: 1; stroke-width: 2px; opacity: 1;\"/><path d=\"M154.44,177.59H154.93M154.93,175V181.32M155.41,177.31H154.93\" style=\"fill: none; stroke: rgb(27, 158, 118); stroke-opacity: 1; stroke-width: 2px; opacity: 1;\"/><path d=\"M156.06,177.31H156.55M156.55,176.31V188.12M157.04,186.14H156.55\" style=\"fill: none; stroke: rgb(217, 95, 2); stroke-opacity: 1; stroke-width: 2px; opacity: 1;\"/><path d=\"M157.69,186.14H158.17M158.17,178.95V187.09M158.66,179.19H158.17\" style=\"fill: none; stroke: rgb(27, 158, 118); stroke-opacity: 1; stroke-width: 2px; opacity: 1;\"/><path d=\"M159.31,179.2H159.79M159.79,178.03V181.15M160.28,180H159.79\" style=\"fill: none; stroke: rgb(217, 95, 2); stroke-opacity: 1; stroke-width: 2px; opacity: 1;\"/><path d=\"M160.93,179.98H161.42M161.42,172.1V180.53M161.9,176.04H161.42\" style=\"fill: none; stroke: rgb(27, 158, 118); stroke-opacity: 1; stroke-width: 2px; opacity: 1;\"/><path d=\"M162.55,176.04H163.04M163.04,174.17V177.24M163.53,174.98H163.04\" style=\"fill: none; stroke: rgb(27, 158, 118); stroke-opacity: 1; stroke-width: 2px; opacity: 1;\"/><path d=\"M164.18,174.98H164.66M164.66,171.89V177.91M165.15,175.79H164.66\" style=\"fill: none; stroke: rgb(217, 95, 2); stroke-opacity: 1; stroke-width: 2px; opacity: 1;\"/><path d=\"M165.8,175.78H166.28M166.28,165.09V175.92M166.77,166.21H166.28\" style=\"fill: none; stroke: rgb(27, 158, 118); stroke-opacity: 1; stroke-width: 2px; opacity: 1;\"/><path d=\"M167.42,166.21H167.91M167.91,157.41V167.27M168.39,158.29H167.91\" style=\"fill: none; stroke: rgb(27, 158, 118); stroke-opacity: 1; stroke-width: 2px; opacity: 1;\"/><path d=\"M169.04,158.29H169.53M169.53,151.7V160.22M170.02,153.45H169.53\" style=\"fill: none; stroke: rgb(27, 158, 118); stroke-opacity: 1; stroke-width: 2px; opacity: 1;\"/><path d=\"M170.66,153.45H171.15M171.15,151.42V166.16M171.64,158.88H171.15\" style=\"fill: none; stroke: rgb(217, 95, 2); stroke-opacity: 1; stroke-width: 2px; opacity: 1;\"/><path d=\"M172.29,158.89H172.77M172.77,154.58V165.56M173.26,165.11H172.77\" style=\"fill: none; stroke: rgb(217, 95, 2); stroke-opacity: 1; stroke-width: 2px; opacity: 1;\"/><path d=\"M173.91,165.11H174.4M174.4,163.78V187.13M174.88,169.98H174.4\" style=\"fill: none; stroke: rgb(217, 95, 2); stroke-opacity: 1; stroke-width: 2px; opacity: 1;\"/><path d=\"M175.53,169.98H176.02M176.02,166.16V179.22M176.5,174.4H176.02\" style=\"fill: none; stroke: rgb(217, 95, 2); stroke-opacity: 1; stroke-width: 2px; opacity: 1;\"/><path d=\"M177.15,174.4H177.64M177.64,163.39V180.7M178.13,164.38H177.64\" style=\"fill: none; stroke: rgb(27, 158, 118); stroke-opacity: 1; stroke-width: 2px; opacity: 1;\"/><path d=\"M178.78,164.36H179.26M179.26,156.09V170.01M179.75,162.77H179.26\" style=\"fill: none; stroke: rgb(27, 158, 118); stroke-opacity: 1; stroke-width: 2px; opacity: 1;\"/><path d=\"M180.4,162.77H180.88M180.88,145.71V165.95M181.37,160.34H180.88\" style=\"fill: none; stroke: rgb(27, 158, 118); stroke-opacity: 1; stroke-width: 2px; opacity: 1;\"/><path d=\"M182.02,160.34H182.51M182.51,157.68V177.62M182.99,162.16H182.51\" style=\"fill: none; stroke: rgb(217, 95, 2); stroke-opacity: 1; stroke-width: 2px; opacity: 1;\"/><path d=\"M183.64,162.16H184.13M184.13,162.08V174.78M184.62,171.3H184.13\" style=\"fill: none; stroke: rgb(217, 95, 2); stroke-opacity: 1; stroke-width: 2px; opacity: 1;\"/><path d=\"M185.26,171.26H185.75M185.75,162.8V174M186.24,164.94H185.75\" style=\"fill: none; stroke: rgb(27, 158, 118); stroke-opacity: 1; stroke-width: 2px; opacity: 1;\"/><path d=\"M186.89,164.95H187.37M187.37,151.74V165.94M187.86,152.35H187.37\" style=\"fill: none; stroke: rgb(27, 158, 118); stroke-opacity: 1; stroke-width: 2px; opacity: 1;\"/><path d=\"M188.51,152.38H189M189,143.6V155.46M189.48,144.42H189\" style=\"fill: none; stroke: rgb(27, 158, 118); stroke-opacity: 1; stroke-width: 2px; opacity: 1;\"/><path d=\"M190.13,144.42H190.62M190.62,138.85V150.76M191.1,139.55H190.62\" style=\"fill: none; stroke: rgb(27, 158, 118); stroke-opacity: 1; stroke-width: 2px; opacity: 1;\"/><path d=\"M191.75,139.55H192.24M192.24,136.59V144.31M192.73,139.02H192.24\" style=\"fill: none; stroke: rgb(27, 158, 118); stroke-opacity: 1; stroke-width: 2px; opacity: 1;\"/><path d=\"M193.38,139.02H193.86M193.86,136.58V141.04M194.35,138.11H193.86\" style=\"fill: none; stroke: rgb(27, 158, 118); stroke-opacity: 1; stroke-width: 2px; opacity: 1;\"/><path d=\"M195,138.11H195.49M195.49,127.31V139.83M195.97,127.88H195.49\" style=\"fill: none; stroke: rgb(27, 158, 118); stroke-opacity: 1; stroke-width: 2px; opacity: 1;\"/><path d=\"M196.62,127.88H197.11M197.11,125.49V133.37M197.59,127.6H197.11\" style=\"fill: none; stroke: rgb(27, 158, 118); stroke-opacity: 1; stroke-width: 2px; opacity: 1;\"/><path d=\"M198.24,127.61H198.73M198.73,97.65V127.61M199.22,99.01H198.73\" style=\"fill: none; stroke: rgb(27, 158, 118); stroke-opacity: 1; stroke-width: 2px; opacity: 1;\"/><path d=\"M199.87,99.01H200.35M200.35,93.31V115.1M200.84,110.41H200.35\" style=\"fill: none; stroke: rgb(217, 95, 2); stroke-opacity: 1; stroke-width: 2px; opacity: 1;\"/><path d=\"M201.49,110.41H201.97M201.97,91.99V112.71M202.46,93.48H201.97\" style=\"fill: none; stroke: rgb(27, 158, 118); stroke-opacity: 1; stroke-width: 2px; opacity: 1;\"/><path d=\"M203.11,93.47H203.6M203.6,88.66V102.25M204.08,95.53H203.6\" style=\"fill: none; stroke: rgb(217, 95, 2); stroke-opacity: 1; stroke-width: 2px; opacity: 1;\"/><path d=\"M204.73,95.53H205.22M205.22,89.75V103.63M205.71,96.13H205.22\" style=\"fill: none; stroke: rgb(217, 95, 2); stroke-opacity: 1; stroke-width: 2px; opacity: 1;\"/><path d=\"M206.35,96.12H206.84M206.84,67.71V97.93M207.33,70.56H206.84\" style=\"fill: none; stroke: rgb(27, 158, 118); stroke-opacity: 1; stroke-width: 2px; opacity: 1;\"/><path d=\"M207.98,70.56H208.46M208.46,66.2V81.49M208.95,69.75H208.46\" style=\"fill: none; stroke: rgb(27, 158, 118); stroke-opacity: 1; stroke-width: 2px; opacity: 1;\"/><path d=\"M209.6,69.75H210.09M210.09,52.88V86.01M210.57,68.44H210.09\" style=\"fill: none; stroke: rgb(27, 158, 118); stroke-opacity: 1; stroke-width: 2px; opacity: 1;\"/><path d=\"M211.22,68.4H211.71M211.71,54.53V78.79M212.19,54.93H211.71\" style=\"fill: none; stroke: rgb(27, 158, 118); stroke-opacity: 1; stroke-width: 2px; opacity: 1;\"/><path d=\"M212.84,54.93H213.33M213.33,43.1V82.95M213.82,75.73H213.33\" style=\"fill: none; stroke: rgb(217, 95, 2); stroke-opacity: 1; stroke-width: 2px; opacity: 1;\"/><path d=\"M214.47,76.5H214.95M214.95,63.17V94.92M215.44,81.98H214.95\" style=\"fill: none; stroke: rgb(217, 95, 2); stroke-opacity: 1; stroke-width: 2px; opacity: 1;\"/><path d=\"M216.09,81.98H216.57M216.57,54.94V83.56M217.06,60.78H216.57\" style=\"fill: none; stroke: rgb(27, 158, 118); stroke-opacity: 1; stroke-width: 2px; opacity: 1;\"/><path d=\"M217.71,60.78H218.2M218.2,57.27V87.08M218.68,86.21H218.2\" style=\"fill: none; stroke: rgb(217, 95, 2); stroke-opacity: 1; stroke-width: 2px; opacity: 1;\"/><path d=\"M219.33,86.23H219.82M219.82,72.42V104.23M220.31,90.04H219.82\" style=\"fill: none; stroke: rgb(217, 95, 2); stroke-opacity: 1; stroke-width: 2px; opacity: 1;\"/><path d=\"M220.95,90.06H221.44M221.44,89.75V118.54M221.93,107.83H221.44\" style=\"fill: none; stroke: rgb(217, 95, 2); stroke-opacity: 1; stroke-width: 2px; opacity: 1;\"/><path d=\"M222.58,107.84H223.06M223.06,91.02V110.35M223.55,102.33H223.06\" style=\"fill: none; stroke: rgb(27, 158, 118); stroke-opacity: 1; stroke-width: 2px; opacity: 1;\"/><path d=\"M224.2,102.33H224.69M224.69,98.38V190.62M225.17,157.91H224.69\" style=\"fill: none; stroke: rgb(217, 95, 2); stroke-opacity: 1; stroke-width: 2px; opacity: 1;\"/><path d=\"M225.82,157.91H226.31M226.31,125.19V174.77M226.8,138.34H226.31\" style=\"fill: none; stroke: rgb(27, 158, 118); stroke-opacity: 1; stroke-width: 2px; opacity: 1;\"/><path d=\"M227.44,138.38H227.93M227.93,128.25V177.97M228.42,158.38H227.93\" style=\"fill: none; stroke: rgb(217, 95, 2); stroke-opacity: 1; stroke-width: 2px; opacity: 1;\"/><path d=\"M229.07,158.38H229.55M229.55,155.18V175.36M230.04,166.46H229.55\" style=\"fill: none; stroke: rgb(217, 95, 2); stroke-opacity: 1; stroke-width: 2px; opacity: 1;\"/><path d=\"M230.69,166.43H231.18M231.18,161.32V200.07M231.66,178.25H231.18\" style=\"fill: none; stroke: rgb(217, 95, 2); stroke-opacity: 1; stroke-width: 2px; opacity: 1;\"/><path d=\"M232.31,178.23H232.8M232.8,143.9V179.22M233.28,145.47H232.8\" style=\"fill: none; stroke: rgb(27, 158, 118); stroke-opacity: 1; stroke-width: 2px; opacity: 1;\"/><path d=\"M233.93,145.5H234.42M234.42,139.44V161.5M234.91,142.11H234.42\" style=\"fill: none; stroke: rgb(27, 158, 118); stroke-opacity: 1; stroke-width: 2px; opacity: 1;\"/><path d=\"M235.56,142.11H236.04M236.04,129.94V145.8M236.53,131.43H236.04\" style=\"fill: none; stroke: rgb(27, 158, 118); stroke-opacity: 1; stroke-width: 2px; opacity: 1;\"/><path d=\"M237.18,131.44H237.66M237.66,131.15V146.35M238.15,139.9H237.66\" style=\"fill: none; stroke: rgb(217, 95, 2); stroke-opacity: 1; stroke-width: 2px; opacity: 1;\"/><path d=\"M238.8,139.9H239.29M239.29,138.7V164.53M239.77,159.5H239.29\" style=\"fill: none; stroke: rgb(217, 95, 2); stroke-opacity: 1; stroke-width: 2px; opacity: 1;\"/><path d=\"M240.42,159.49H240.91M240.91,149.88V171.85M241.4,167.42H240.91\" style=\"fill: none; stroke: rgb(217, 95, 2); stroke-opacity: 1; stroke-width: 2px; opacity: 1;\"/><path d=\"M242.04,167.42H242.53M242.53,155.68V173.25M243.02,161.05H242.53\" style=\"fill: none; stroke: rgb(27, 158, 118); stroke-opacity: 1; stroke-width: 2px; opacity: 1;\"/><path d=\"M243.67,161.06H244.15M244.15,141.22V167.85M244.64,142.05H244.15\" style=\"fill: none; stroke: rgb(27, 158, 118); stroke-opacity: 1; stroke-width: 2px; opacity: 1;\"/><path d=\"M245.29,142.05H245.78M245.78,140.04V152.88M246.26,146.3H245.78\" style=\"fill: none; stroke: rgb(217, 95, 2); stroke-opacity: 1; stroke-width: 2px; opacity: 1;\"/><path d=\"M246.91,146.31H247.4M247.4,136.3V151.32M247.88,142.04H247.4\" style=\"fill: none; stroke: rgb(27, 158, 118); stroke-opacity: 1; stroke-width: 2px; opacity: 1;\"/><path d=\"M248.53,142.04H249.02M249.02,131.02V144.64M249.51,133.08H249.02\" style=\"fill: none; stroke: rgb(27, 158, 118); stroke-opacity: 1; stroke-width: 2px; opacity: 1;\"/><path d=\"M250.16,133.08H250.64M250.64,132.91V151.2M251.13,143.03H250.64\" style=\"fill: none; stroke: rgb(217, 95, 2); stroke-opacity: 1; stroke-width: 2px; opacity: 1;\"/><path d=\"M251.78,143.03H252.27M252.27,135.47V151.18M252.75,146.7H252.27\" style=\"fill: none; stroke: rgb(217, 95, 2); stroke-opacity: 1; stroke-width: 2px; opacity: 1;\"/><path d=\"M253.4,146.71H253.89M253.89,139.74V147.52M254.37,141.7H253.89\" style=\"fill: none; stroke: rgb(27, 158, 118); stroke-opacity: 1; stroke-width: 2px; opacity: 1;\"/><path d=\"M255.02,141.7H255.51M255.51,133.65V150.13M256,148.82H255.51\" style=\"fill: none; stroke: rgb(217, 95, 2); stroke-opacity: 1; stroke-width: 2px; opacity: 1;\"/><path d=\"M256.65,148.82H257.13M257.13,147.1V165.87M257.62,153.86H257.13\" style=\"fill: none; stroke: rgb(217, 95, 2); stroke-opacity: 1; stroke-width: 2px; opacity: 1;\"/><path d=\"M258.27,153.84H258.75M258.75,146.77V159.91M259.24,147.74H258.75\" style=\"fill: none; stroke: rgb(27, 158, 118); stroke-opacity: 1; stroke-width: 2px; opacity: 1;\"/><path d=\"M259.89,147.74H260.38M260.38,146.9V158.73M260.86,156H260.38\" style=\"fill: none; stroke: rgb(217, 95, 2); stroke-opacity: 1; stroke-width: 2px; opacity: 1;\"/><path d=\"M261.51,156.01H262M262,154.4V164.89M262.49,162.95H262\" style=\"fill: none; stroke: rgb(217, 95, 2); stroke-opacity: 1; stroke-width: 2px; opacity: 1;\"/><path d=\"M263.13,162.95H263.62M263.62,156.98V168.76M264.11,161.96H263.62\" style=\"fill: none; stroke: rgb(27, 158, 118); stroke-opacity: 1; stroke-width: 2px; opacity: 1;\"/><path d=\"M264.76,161.96H265.24M265.24,151.41V165.66M265.73,153.73H265.24\" style=\"fill: none; stroke: rgb(27, 158, 118); stroke-opacity: 1; stroke-width: 2px; opacity: 1;\"/><path d=\"M266.38,153.73H266.87M266.87,147.8V156.6M267.35,149.49H266.87\" style=\"fill: none; stroke: rgb(27, 158, 118); stroke-opacity: 1; stroke-width: 2px; opacity: 1;\"/><path d=\"M268,149.5H268.49M268.49,145.97V153.83M268.97,151.7H268.49\" style=\"fill: none; stroke: rgb(217, 95, 2); stroke-opacity: 1; stroke-width: 2px; opacity: 1;\"/><path d=\"M269.62,151.7H270.11M270.11,150.95V163.12M270.6,162.13H270.11\" style=\"fill: none; stroke: rgb(217, 95, 2); stroke-opacity: 1; stroke-width: 2px; opacity: 1;\"/><path d=\"M271.25,162.12H271.73M271.73,156.63V165.8M272.22,161.81H271.73\" style=\"fill: none; stroke: rgb(27, 158, 118); stroke-opacity: 1; stroke-width: 2px; opacity: 1;\"/><path d=\"M272.87,161.81H273.35M273.35,161.53V175.72M273.84,170.07H273.35\" style=\"fill: none; stroke: rgb(217, 95, 2); stroke-opacity: 1; stroke-width: 2px; opacity: 1;\"/><path d=\"M274.49,170.07H274.98M274.98,167.42V174.37M275.46,174.19H274.98\" style=\"fill: none; stroke: rgb(217, 95, 2); stroke-opacity: 1; stroke-width: 2px; opacity: 1;\"/><path d=\"M276.11,174.15H276.6M276.6,167.35V181.55M277.09,169.51H276.6\" style=\"fill: none; stroke: rgb(27, 158, 118); stroke-opacity: 1; stroke-width: 2px; opacity: 1;\"/><path d=\"M277.73,169.51H278.22M278.22,168.52V191.95M278.71,190.77H278.22\" style=\"fill: none; stroke: rgb(217, 95, 2); stroke-opacity: 1; stroke-width: 2px; opacity: 1;\"/><path d=\"M279.36,190.78H279.84M279.84,184.09V201.75M280.33,191.14H279.84\" style=\"fill: none; stroke: rgb(217, 95, 2); stroke-opacity: 1; stroke-width: 2px; opacity: 1;\"/><path d=\"M280.98,191.14H281.47M281.47,181.3V194.54M281.95,185.86H281.47\" style=\"fill: none; stroke: rgb(27, 158, 118); stroke-opacity: 1; stroke-width: 2px; opacity: 1;\"/><path d=\"M282.6,185.87H283.09M283.09,181.8V190.81M283.58,184.59H283.09\" style=\"fill: none; stroke: rgb(27, 158, 118); stroke-opacity: 1; stroke-width: 2px; opacity: 1;\"/><path d=\"M284.22,184.59H284.71M284.71,182.78V196.36M285.2,195.32H284.71\" style=\"fill: none; stroke: rgb(217, 95, 2); stroke-opacity: 1; stroke-width: 2px; opacity: 1;\"/><path d=\"M285.85,195.31H286.33M286.33,192.71V200.75M286.82,194.08H286.33\" style=\"fill: none; stroke: rgb(27, 158, 118); stroke-opacity: 1; stroke-width: 2px; opacity: 1;\"/><path d=\"M287.47,194.07H287.96M287.96,184.89V195.59M288.44,185.02H287.96\" style=\"fill: none; stroke: rgb(27, 158, 118); stroke-opacity: 1; stroke-width: 2px; opacity: 1;\"/><path d=\"M289.09,185.02H289.58M289.58,175.36V186.31M290.06,178.96H289.58\" style=\"fill: none; stroke: rgb(27, 158, 118); stroke-opacity: 1; stroke-width: 2px; opacity: 1;\"/><path d=\"M290.71,178.96H291.2M291.2,169.42V179.6M291.69,174.15H291.2\" style=\"fill: none; stroke: rgb(27, 158, 118); stroke-opacity: 1; stroke-width: 2px; opacity: 1;\"/><path d=\"M292.34,174.15H292.82M292.82,166.88V178.75M293.31,167.6H292.82\" style=\"fill: none; stroke: rgb(27, 158, 118); stroke-opacity: 1; stroke-width: 2px; opacity: 1;\"/><path d=\"M293.96,167.6H294.44M294.44,167.59V179.63M294.93,177.65H294.44\" style=\"fill: none; stroke: rgb(217, 95, 2); stroke-opacity: 1; stroke-width: 2px; opacity: 1;\"/><path d=\"M295.58,177.65H296.07M296.07,174.47V182.87M296.55,174.82H296.07\" style=\"fill: none; stroke: rgb(27, 158, 118); stroke-opacity: 1; stroke-width: 2px; opacity: 1;\"/><path d=\"M297.2,174.83H297.69M297.69,169.72V177.32M298.18,170.49H297.69\" style=\"fill: none; stroke: rgb(27, 158, 118); stroke-opacity: 1; stroke-width: 2px; opacity: 1;\"/><path d=\"M298.82,170.49H299.31M299.31,160.82V172.71M299.8,164.81H299.31\" style=\"fill: none; stroke: rgb(27, 158, 118); stroke-opacity: 1; stroke-width: 2px; opacity: 1;\"/><path d=\"M300.45,164.81H300.93M300.93,164.7V174.63M301.42,172.3H300.93\" style=\"fill: none; stroke: rgb(217, 95, 2); stroke-opacity: 1; stroke-width: 2px; opacity: 1;\"/><path d=\"M302.07,172.28H302.56M302.56,163.19V172.51M303.04,164.82H302.56\" style=\"fill: none; stroke: rgb(27, 158, 118); stroke-opacity: 1; stroke-width: 2px; opacity: 1;\"/><path d=\"M303.69,164.82H304.18M304.18,159.69V166.64M304.66,165.17H304.18\" style=\"fill: none; stroke: rgb(217, 95, 2); stroke-opacity: 1; stroke-width: 2px; opacity: 1;\"/><path d=\"M305.31,165.19H305.8M305.8,164.64V178.94M306.29,177.06H305.8\" style=\"fill: none; stroke: rgb(217, 95, 2); stroke-opacity: 1; stroke-width: 2px; opacity: 1;\"/><path d=\"M306.94,177.06H307.42M307.42,172.72V181.21M307.91,175.24H307.42\" style=\"fill: none; stroke: rgb(27, 158, 118); stroke-opacity: 1; stroke-width: 2px; opacity: 1;\"/><path d=\"M308.56,175.24H309.04M309.04,172.4V179.57M309.53,177.4H309.04\" style=\"fill: none; stroke: rgb(217, 95, 2); stroke-opacity: 1; stroke-width: 2px; opacity: 1;\"/><path d=\"M310.18,177.4H310.67M310.67,173.64V179.16M311.15,175.63H310.67\" style=\"fill: none; stroke: rgb(27, 158, 118); stroke-opacity: 1; stroke-width: 2px; opacity: 1;\"/><path d=\"M311.8,175.63H312.29M312.29,174.01V183.57M312.78,182.09H312.29\" style=\"fill: none; stroke: rgb(217, 95, 2); stroke-opacity: 1; stroke-width: 2px; opacity: 1;\"/><path d=\"M313.43,182.09H313.91M313.91,181.16V188.84M314.4,187.52H313.91\" style=\"fill: none; stroke: rgb(217, 95, 2); stroke-opacity: 1; stroke-width: 2px; opacity: 1;\"/><path d=\"M315.05,187.51H315.53M315.53,182.83V191.98M316.02,184.29H315.53\" style=\"fill: none; stroke: rgb(27, 158, 118); stroke-opacity: 1; stroke-width: 2px; opacity: 1;\"/><path d=\"M316.67,184.3H317.16M317.16,181.42V191.03M317.64,188.75H317.16\" style=\"fill: none; stroke: rgb(217, 95, 2); stroke-opacity: 1; stroke-width: 2px; opacity: 1;\"/><path d=\"M318.29,188.75H318.78M318.78,186.05V192.87M319.27,191.32H318.78\" style=\"fill: none; stroke: rgb(217, 95, 2); stroke-opacity: 1; stroke-width: 2px; opacity: 1;\"/><path d=\"M319.91,191.3H320.4M320.4,188.77V193.2M320.89,189.93H320.4\" style=\"fill: none; stroke: rgb(27, 158, 118); stroke-opacity: 1; stroke-width: 2px; opacity: 1;\"/><path d=\"M321.54,189.94H322.02M322.02,184.34V191.27M322.51,190.4H322.02\" style=\"fill: none; stroke: rgb(217, 95, 2); stroke-opacity: 1; stroke-width: 2px; opacity: 1;\"/><path d=\"M323.16,190.4H323.65M323.65,188.78V195.55M324.13,194.73H323.65\" style=\"fill: none; stroke: rgb(217, 95, 2); stroke-opacity: 1; stroke-width: 2px; opacity: 1;\"/><path d=\"M324.78,194.73H325.27M325.27,193.39V201.42M325.75,196.67H325.27\" style=\"fill: none; stroke: rgb(217, 95, 2); stroke-opacity: 1; stroke-width: 2px; opacity: 1;\"/><path d=\"M326.4,196.67H326.89M326.89,181.88V198.96M327.38,184.24H326.89\" style=\"fill: none; stroke: rgb(27, 158, 118); stroke-opacity: 1; stroke-width: 2px; opacity: 1;\"/><path d=\"M328.03,184.24H328.51M328.51,181.24V187.08M329,182.51H328.51\" style=\"fill: none; stroke: rgb(27, 158, 118); stroke-opacity: 1; stroke-width: 2px; opacity: 1;\"/><path d=\"M329.65,182.53H330.13M330.13,176.2V184.37M330.62,176.59H330.13\" style=\"fill: none; stroke: rgb(27, 158, 118); stroke-opacity: 1; stroke-width: 2px; opacity: 1;\"/><path d=\"M331.27,176.59H331.76M331.76,172.13V177.7M332.24,173H331.76\" style=\"fill: none; stroke: rgb(27, 158, 118); stroke-opacity: 1; stroke-width: 2px; opacity: 1;\"/><path d=\"M332.89,172.99H333.38M333.38,172.25V177.68M333.87,172.7H333.38\" style=\"fill: none; stroke: rgb(27, 158, 118); stroke-opacity: 1; stroke-width: 2px; opacity: 1;\"/><path d=\"M334.51,172.7H335M335,158.22V173.78M335.49,170.43H335\" style=\"fill: none; stroke: rgb(27, 158, 118); stroke-opacity: 1; stroke-width: 2px; opacity: 1;\"/><path d=\"M336.14,170.44H336.62M336.62,165.02V175.03M337.11,166.19H336.62\" style=\"fill: none; stroke: rgb(27, 158, 118); stroke-opacity: 1; stroke-width: 2px; opacity: 1;\"/><path d=\"M337.76,166.19H338.25M338.25,163.49V169.53M338.73,166.11H338.25\" style=\"fill: none; stroke: rgb(27, 158, 118); stroke-opacity: 1; stroke-width: 2px; opacity: 1;\"/><path d=\"M339.38,166.11H339.87M339.87,160.22V168.17M340.36,161.24H339.87\" style=\"fill: none; stroke: rgb(27, 158, 118); stroke-opacity: 1; stroke-width: 2px; opacity: 1;\"/><path d=\"M341,161.24H341.49M341.49,155.97V165.21M341.98,156.55H341.49\" style=\"fill: none; stroke: rgb(27, 158, 118); stroke-opacity: 1; stroke-width: 2px; opacity: 1;\"/><path d=\"M342.63,156.55H343.11M343.11,151.09V158.99M343.6,152.44H343.11\" style=\"fill: none; stroke: rgb(27, 158, 118); stroke-opacity: 1; stroke-width: 2px; opacity: 1;\"/><path d=\"M344.25,152.44H344.74M344.74,142.55V153.62M345.22,150.98H344.74\" style=\"fill: none; stroke: rgb(27, 158, 118); stroke-opacity: 1; stroke-width: 2px; opacity: 1;\"/><path d=\"M345.87,150.99H346.36M346.36,144.43V153.87M346.84,147.94H346.36\" style=\"fill: none; stroke: rgb(27, 158, 118); stroke-opacity: 1; stroke-width: 2px; opacity: 1;\"/><path d=\"M347.49,147.94H347.98M347.98,146.42V157.71M348.47,153.75H347.98\" style=\"fill: none; stroke: rgb(217, 95, 2); stroke-opacity: 1; stroke-width: 2px; opacity: 1;\"/><path d=\"M349.12,153.78H349.6M349.6,138.09V156.8M350.09,140.94H349.6\" style=\"fill: none; stroke: rgb(27, 158, 118); stroke-opacity: 1; stroke-width: 2px; opacity: 1;\"/><path d=\"M350.74,140.95H351.22M351.22,133.86V152.51M351.71,134.87H351.22\" style=\"fill: none; stroke: rgb(27, 158, 118); stroke-opacity: 1; stroke-width: 2px; opacity: 1;\"/><path d=\"M352.36,134.87H352.85M352.85,127.76V141.22M353.33,131.04H352.85\" style=\"fill: none; stroke: rgb(27, 158, 118); stroke-opacity: 1; stroke-width: 2px; opacity: 1;\"/><path d=\"M353.98,131.04H354.47M354.47,114.45V132.59M354.96,115.08H354.47\" style=\"fill: none; stroke: rgb(27, 158, 118); stroke-opacity: 1; stroke-width: 2px; opacity: 1;\"/><path d=\"M355.6,115.07H356.09M356.09,113.32V127.63M356.58,123.9H356.09\" style=\"fill: none; stroke: rgb(217, 95, 2); stroke-opacity: 1; stroke-width: 2px; opacity: 1;\"/><path d=\"M357.23,123.9H357.71M357.71,113.56V130.94M358.2,115.07H357.71\" style=\"fill: none; stroke: rgb(27, 158, 118); stroke-opacity: 1; stroke-width: 2px; opacity: 1;\"/><path d=\"M358.85,115.07H359.34M359.34,110.77V121.56M359.82,116.19H359.34\" style=\"fill: none; stroke: rgb(217, 95, 2); stroke-opacity: 1; stroke-width: 2px; opacity: 1;\"/><path d=\"M360.47,116.22H360.96M360.96,108.33V117.46M361.44,115.07H360.96\" style=\"fill: none; stroke: rgb(27, 158, 118); stroke-opacity: 1; stroke-width: 2px; opacity: 1;\"/><path d=\"M362.09,115.08H362.58M362.58,110.41V125.83M363.07,121.87H362.58\" style=\"fill: none; stroke: rgb(217, 95, 2); stroke-opacity: 1; stroke-width: 2px; opacity: 1;\"/><path d=\"M363.72,121.86H364.2M364.2,105.14V122.59M364.69,105.46H364.2\" style=\"fill: none; stroke: rgb(27, 158, 118); stroke-opacity: 1; stroke-width: 2px; opacity: 1;\"/><path d=\"M365.34,105.46H365.82M365.82,104.95V112.73M366.31,108.98H365.82\" style=\"fill: none; stroke: rgb(217, 95, 2); stroke-opacity: 1; stroke-width: 2px; opacity: 1;\"/><path d=\"M366.96,108.98H367.45M367.45,105.6V118M367.93,106.37H367.45\" style=\"fill: none; stroke: rgb(27, 158, 118); stroke-opacity: 1; stroke-width: 2px; opacity: 1;\"/><path d=\"M368.58,106.35H369.07M369.07,104.71V116.57M369.56,115.9H369.07\" style=\"fill: none; stroke: rgb(217, 95, 2); stroke-opacity: 1; stroke-width: 2px; opacity: 1;\"/><path d=\"M370.21,115.86H370.69M370.69,107.38V125.08M371.18,123.9H370.69\" style=\"fill: none; stroke: rgb(217, 95, 2); stroke-opacity: 1; stroke-width: 2px; opacity: 1;\"/><path d=\"M371.83,123.9H372.31M372.31,117.13V127.57M372.8,123.74H372.31\" style=\"fill: none; stroke: rgb(27, 158, 118); stroke-opacity: 1; stroke-width: 2px; opacity: 1;\"/><path d=\"M373.45,123.76H373.94M373.94,113.44V127.07M374.42,113.67H373.94\" style=\"fill: none; stroke: rgb(27, 158, 118); stroke-opacity: 1; stroke-width: 2px; opacity: 1;\"/><path d=\"M375.07,113.67H375.56M375.56,106.79V114.08M376.05,107.69H375.56\" style=\"fill: none; stroke: rgb(27, 158, 118); stroke-opacity: 1; stroke-width: 2px; opacity: 1;\"/><path d=\"M376.69,107.69H377.18M377.18,106.25V112.31M377.67,111.34H377.18\" style=\"fill: none; stroke: rgb(217, 95, 2); stroke-opacity: 1; stroke-width: 2px; opacity: 1;\"/><path d=\"M378.32,111.34H378.8M378.8,108.45V117.1M379.29,110.47H378.8\" style=\"fill: none; stroke: rgb(27, 158, 118); stroke-opacity: 1; stroke-width: 2px; opacity: 1;\"/><path d=\"M379.94,110.47H380.43M380.43,102.17V110.94M380.91,105.53H380.43\" style=\"fill: none; stroke: rgb(27, 158, 118); stroke-opacity: 1; stroke-width: 2px; opacity: 1;\"/><path d=\"M381.56,105.53H382.05M382.05,103.36V115.85M382.53,114.47H382.05\" style=\"fill: none; stroke: rgb(217, 95, 2); stroke-opacity: 1; stroke-width: 2px; opacity: 1;\"/><path d=\"M383.18,114.47H383.67M383.67,109.88V119.85M384.16,111.13H383.67\" style=\"fill: none; stroke: rgb(27, 158, 118); stroke-opacity: 1; stroke-width: 2px; opacity: 1;\"/><path d=\"M384.81,111.13H385.29M385.29,109.76V121.44M385.78,119.07H385.29\" style=\"fill: none; stroke: rgb(217, 95, 2); stroke-opacity: 1; stroke-width: 2px; opacity: 1;\"/><path d=\"M386.43,119.08H386.91M386.91,107.98V121.03M387.4,108.37H386.91\" style=\"fill: none; stroke: rgb(27, 158, 118); stroke-opacity: 1; stroke-width: 2px; opacity: 1;\"/><path d=\"M388.05,108.34H388.54M388.54,107.56V112.11M389.02,110.09H388.54\" style=\"fill: none; stroke: rgb(217, 95, 2); stroke-opacity: 1; stroke-width: 2px; opacity: 1;\"/><path d=\"M389.67,110.07H390.16M390.16,107.68V115.56M390.65,111.33H390.16\" style=\"fill: none; stroke: rgb(217, 95, 2); stroke-opacity: 1; stroke-width: 2px; opacity: 1;\"/><path d=\"M391.29,111.33H391.78M391.78,103.94V116.11M392.27,110.97H391.78\" style=\"fill: none; stroke: rgb(27, 158, 118); stroke-opacity: 1; stroke-width: 2px; opacity: 1;\"/><path d=\"M392.92,111H393.4M393.4,96.34V113.39M393.89,99.12H393.4\" style=\"fill: none; stroke: rgb(27, 158, 118); stroke-opacity: 1; stroke-width: 2px; opacity: 1;\"/><path d=\"M394.54,99.12H395.03M395.03,74.61V101.91M395.51,75.51H395.03\" style=\"fill: none; stroke: rgb(27, 158, 118); stroke-opacity: 1; stroke-width: 2px; opacity: 1;\"/><path d=\"M396.16,75.51H396.65M396.65,74.92V82.03M397.13,77.95H396.65\" style=\"fill: none; stroke: rgb(217, 95, 2); stroke-opacity: 1; stroke-width: 2px; opacity: 1;\"/><path d=\"M397.78,77.95H398.27M398.27,63.58V82.74M398.76,68.91H398.27\" style=\"fill: none; stroke: rgb(27, 158, 118); stroke-opacity: 1; stroke-width: 2px; opacity: 1;\"/><path d=\"M399.41,68.91H399.89M399.89,67.01V75.18M400.38,72.03H399.89\" style=\"fill: none; stroke: rgb(217, 95, 2); stroke-opacity: 1; stroke-width: 2px; opacity: 1;\"/><path d=\"M401.03,72.02H401.52M401.52,66.42V75.32M402,68.18H401.52\" style=\"fill: none; stroke: rgb(27, 158, 118); stroke-opacity: 1; stroke-width: 2px; opacity: 1;\"/><path d=\"M402.65,68.18H403.14M403.14,67.01V73.29M403.62,69.58H403.14\" style=\"fill: none; stroke: rgb(217, 95, 2); stroke-opacity: 1; stroke-width: 2px; opacity: 1;\"/><path d=\"M404.27,69.59H404.76M404.76,68.37V124.3M405.25,98.8H404.76\" style=\"fill: none; stroke: rgb(217, 95, 2); stroke-opacity: 1; stroke-width: 2px; opacity: 1;\"/><path d=\"M405.9,98.78H406.38M406.38,91.35V111.83M406.87,94.98H406.38\" style=\"fill: none; stroke: rgb(27, 158, 118); stroke-opacity: 1; stroke-width: 2px; opacity: 1;\"/><path d=\"M407.52,94.98H408M408,90.94V101.42M408.49,99.37H408\" style=\"fill: none; stroke: rgb(217, 95, 2); stroke-opacity: 1; stroke-width: 2px; opacity: 1;\"/><path d=\"M409.14,99.37H409.63M409.63,94.08V115.7M410.11,112.2H409.63\" style=\"fill: none; stroke: rgb(217, 95, 2); stroke-opacity: 1; stroke-width: 2px; opacity: 1;\"/><path d=\"M410.76,112.2H411.25M411.25,103.92V112.73M411.74,108.74H411.25\" style=\"fill: none; stroke: rgb(27, 158, 118); stroke-opacity: 1; stroke-width: 2px; opacity: 1;\"/><path d=\"M412.38,108.74H412.87M412.87,96.45V110.88M413.36,100.6H412.87\" style=\"fill: none; stroke: rgb(27, 158, 118); stroke-opacity: 1; stroke-width: 2px; opacity: 1;\"/><path d=\"M414.01,100.6H414.49M414.49,99.05V118.16M414.98,107.66H414.49\" style=\"fill: none; stroke: rgb(217, 95, 2); stroke-opacity: 1; stroke-width: 2px; opacity: 1;\"/><path d=\"M415.63,107.68H416.12M416.12,98.65V108.57M416.6,98.81H416.12\" style=\"fill: none; stroke: rgb(27, 158, 118); stroke-opacity: 1; stroke-width: 2px; opacity: 1;\"/><path d=\"M417.25,98.81H417.74M417.74,88.02V103.36M418.22,88.17H417.74\" style=\"fill: none; stroke: rgb(27, 158, 118); stroke-opacity: 1; stroke-width: 2px; opacity: 1;\"/><path d=\"M418.87,88.17H419.36M419.36,84.45V96.04M419.85,90.88H419.36\" style=\"fill: none; stroke: rgb(217, 95, 2); stroke-opacity: 1; stroke-width: 2px; opacity: 1;\"/><path d=\"M420.5,90.88H420.98M420.98,89.33V103.82M421.47,100.86H420.98\" style=\"fill: none; stroke: rgb(217, 95, 2); stroke-opacity: 1; stroke-width: 2px; opacity: 1;\"/><path d=\"M422.12,100.86H422.6M422.6,92.43V102.7M423.09,98.74H422.6\" style=\"fill: none; stroke: rgb(27, 158, 118); stroke-opacity: 1; stroke-width: 2px; opacity: 1;\"/><path d=\"M423.74,98.74H424.23M424.23,97.5V108.11M424.71,105.09H424.23\" style=\"fill: none; stroke: rgb(217, 95, 2); stroke-opacity: 1; stroke-width: 2px; opacity: 1;\"/><path d=\"M425.36,105.09H425.85M425.85,103.95V129.74M426.34,125.95H425.85\" style=\"fill: none; stroke: rgb(217, 95, 2); stroke-opacity: 1; stroke-width: 2px; opacity: 1;\"/><path d=\"M426.98,125.95H427.47M427.47,118.32V145.26M427.96,138.5H427.47\" style=\"fill: none; stroke: rgb(217, 95, 2); stroke-opacity: 1; stroke-width: 2px; opacity: 1;\"/><path d=\"M428.61,138.45H429.09M429.09,119.32V140.18M429.58,120.03H429.09\" style=\"fill: none; stroke: rgb(27, 158, 118); stroke-opacity: 1; stroke-width: 2px; opacity: 1;\"/><path d=\"M430.23,120.03H430.72M430.72,114.24V122.59M431.2,115.55H430.72\" style=\"fill: none; stroke: rgb(27, 158, 118); stroke-opacity: 1; stroke-width: 2px; opacity: 1;\"/><path d=\"M431.85,115.55H432.34M432.34,115.19V140.45M432.83,128.84H432.34\" style=\"fill: none; stroke: rgb(217, 95, 2); stroke-opacity: 1; stroke-width: 2px; opacity: 1;\"/><path d=\"M433.47,128.86H433.96M433.96,126.53V136.38M434.45,129.25H433.96\" style=\"fill: none; stroke: rgb(217, 95, 2); stroke-opacity: 1; stroke-width: 2px; opacity: 1;\"/><path d=\"M435.1,129.24H435.58M435.58,117.74V140.15M436.07,121.08H435.58\" style=\"fill: none; stroke: rgb(27, 158, 118); stroke-opacity: 1; stroke-width: 2px; opacity: 1;\"/><path d=\"M436.72,121.08H437.21M437.21,114.81V129.19M437.69,129.02H437.21\" style=\"fill: none; stroke: rgb(217, 95, 2); stroke-opacity: 1; stroke-width: 2px; opacity: 1;\"/><path d=\"M438.34,129.07H438.83M438.83,126.33V137.13M439.31,136.18H438.83\" style=\"fill: none; stroke: rgb(217, 95, 2); stroke-opacity: 1; stroke-width: 2px; opacity: 1;\"/><path d=\"M439.96,136.17H440.45M440.45,127.57V137.54M440.94,133.48H440.45\" style=\"fill: none; stroke: rgb(27, 158, 118); stroke-opacity: 1; stroke-width: 2px; opacity: 1;\"/><path d=\"M441.59,133.48H442.07M442.07,121.73V134.27M442.56,124.56H442.07\" style=\"fill: none; stroke: rgb(27, 158, 118); stroke-opacity: 1; stroke-width: 2px; opacity: 1;\"/><path d=\"M443.21,124.56H443.69M443.69,105.01V126.44M444.18,106.2H443.69\" style=\"fill: none; stroke: rgb(27, 158, 118); stroke-opacity: 1; stroke-width: 2px; opacity: 1;\"/><path d=\"M444.83,106.2H445.32M445.32,96.76V109.34M445.8,101.58H445.32\" style=\"fill: none; stroke: rgb(27, 158, 118); stroke-opacity: 1; stroke-width: 2px; opacity: 1;\"/><path d=\"M446.45,101.58H446.94M446.94,95.63V104.27M447.43,99.8H446.94\" style=\"fill: none; stroke: rgb(27, 158, 118); stroke-opacity: 1; stroke-width: 2px; opacity: 1;\"/><path d=\"M448.07,99.8H448.56M448.56,98.65V108.57M449.05,101.67H448.56\" style=\"fill: none; stroke: rgb(217, 95, 2); stroke-opacity: 1; stroke-width: 2px; opacity: 1;\"/><path d=\"M449.7,101.67H450.18M450.18,92.24V103M450.67,94.01H450.18\" style=\"fill: none; stroke: rgb(27, 158, 118); stroke-opacity: 1; stroke-width: 2px; opacity: 1;\"/><path d=\"M451.32,94H451.81M451.81,87.07V104.3M452.29,90.47H451.81\" style=\"fill: none; stroke: rgb(27, 158, 118); stroke-opacity: 1; stroke-width: 2px; opacity: 1;\"/><path d=\"M452.94,90.47H453.43M453.43,85.77V96.65M453.91,89.72H453.43\" style=\"fill: none; stroke: rgb(27, 158, 118); stroke-opacity: 1; stroke-width: 2px; opacity: 1;\"/><path d=\"M454.56,89.72H455.05M455.05,83.34V93.02M455.54,91.17H455.05\" style=\"fill: none; stroke: rgb(217, 95, 2); stroke-opacity: 1; stroke-width: 2px; opacity: 1;\"/><path d=\"M456.19,91.17H456.67M456.67,86.9V92.66M457.16,90.47H456.67\" style=\"fill: none; stroke: rgb(27, 158, 118); stroke-opacity: 1; stroke-width: 2px; opacity: 1;\"/><path d=\"M457.81,90.47H458.3M458.3,88.74V100.56M458.78,100.01H458.3\" style=\"fill: none; stroke: rgb(217, 95, 2); stroke-opacity: 1; stroke-width: 2px; opacity: 1;\"/><path d=\"M459.43,100.01H459.92M459.92,87.57V102.57M460.4,92.42H459.92\" style=\"fill: none; stroke: rgb(27, 158, 118); stroke-opacity: 1; stroke-width: 2px; opacity: 1;\"/><path d=\"M461.05,92.42H461.54M461.54,92.12V100.66M462.03,95.42H461.54\" style=\"fill: none; stroke: rgb(217, 95, 2); stroke-opacity: 1; stroke-width: 2px; opacity: 1;\"/><path d=\"M462.68,95.43H463.16M463.16,88.21V100.1M463.65,88.54H463.16\" style=\"fill: none; stroke: rgb(27, 158, 118); stroke-opacity: 1; stroke-width: 2px; opacity: 1;\"/><path d=\"M464.3,88.54H464.78M464.78,75.68V89.81M465.27,77.65H464.78\" style=\"fill: none; stroke: rgb(27, 158, 118); stroke-opacity: 1; stroke-width: 2px; opacity: 1;\"/><path d=\"M465.92,77.65H466.41M466.41,70.71V81.02M466.89,73.01H466.41\" style=\"fill: none; stroke: rgb(27, 158, 118); stroke-opacity: 1; stroke-width: 2px; opacity: 1;\"/><path d=\"M467.54,73.05H468.03M468.03,66.95V76.89M468.52,75.33H468.03\" style=\"fill: none; stroke: rgb(217, 95, 2); stroke-opacity: 1; stroke-width: 2px; opacity: 1;\"/><path d=\"M469.16,75.33H469.65M469.65,70.03V86.6M470.14,74.32H469.65\" style=\"fill: none; stroke: rgb(27, 158, 118); stroke-opacity: 1; stroke-width: 2px; opacity: 1;\"/><path d=\"M470.79,74.32H471.27M471.27,71.58V84.47M471.76,80.37H471.27\" style=\"fill: none; stroke: rgb(217, 95, 2); stroke-opacity: 1; stroke-width: 2px; opacity: 1;\"/><path d=\"M472.41,80.37H472.9M472.9,71.95V81.14M473.38,72.53H472.9\" style=\"fill: none; stroke: rgb(27, 158, 118); stroke-opacity: 1; stroke-width: 2px; opacity: 1;\"/><path d=\"M474.03,72.54H474.52M474.52,55.2V75.44M475,55.66H474.52\" style=\"fill: none; stroke: rgb(27, 158, 118); stroke-opacity: 1; stroke-width: 2px; opacity: 1;\"/><path d=\"M475.65,55.65H476.14M476.14,42.97V64.45M476.63,62.09H476.14\" style=\"fill: none; stroke: rgb(217, 95, 2); stroke-opacity: 1; stroke-width: 2px; opacity: 1;\"/><path d=\"M477.28,62.09H477.76M477.76,55.29V71.88M478.25,66.88H477.76\" style=\"fill: none; stroke: rgb(217, 95, 2); stroke-opacity: 1; stroke-width: 2px; opacity: 1;\"/><path d=\"M478.9,66.88H479.38M479.38,55.02V68.94M479.87,55.31H479.38\" style=\"fill: none; stroke: rgb(27, 158, 118); stroke-opacity: 1; stroke-width: 2px; opacity: 1;\"/><path d=\"M480.52,55.31H481.01M481.01,54.16V67.52M481.49,60.34H481.01\" style=\"fill: none; stroke: rgb(217, 95, 2); stroke-opacity: 1; stroke-width: 2px; opacity: 1;\"/><path d=\"M482.14,60.34H482.63M482.63,51.22V61.21M483.12,52.15H482.63\" style=\"fill: none; stroke: rgb(27, 158, 118); stroke-opacity: 1; stroke-width: 2px; opacity: 1;\"/><path d=\"M483.76,52.15H484.25M484.25,47.6V59.88M484.74,57.42H484.25\" style=\"fill: none; stroke: rgb(217, 95, 2); stroke-opacity: 1; stroke-width: 2px; opacity: 1;\"/><path d=\"M485.39,57.42H485.87M485.87,47.01V70.63M486.36,69.86H485.87\" style=\"fill: none; stroke: rgb(217, 95, 2); stroke-opacity: 1; stroke-width: 2px; opacity: 1;\"/><path d=\"M487.01,69.86H487.5M487.5,47.72V71.75M487.98,48.25H487.5\" style=\"fill: none; stroke: rgb(27, 158, 118); stroke-opacity: 1; stroke-width: 2px; opacity: 1;\"/><path d=\"M488.63,48.25H489.12M489.12,37.89V49.44M489.61,40.36H489.12\" style=\"fill: none; stroke: rgb(27, 158, 118); stroke-opacity: 1; stroke-width: 2px; opacity: 1;\"/><path d=\"M490.25,40.36H490.74M490.74,39.46V51.45M491.23,46.07H490.74\" style=\"fill: none; stroke: rgb(217, 95, 2); stroke-opacity: 1; stroke-width: 2px; opacity: 1;\"/><path d=\"M491.88,46.07H492.36M492.36,41.54V55.47M492.85,48.18H492.36\" style=\"fill: none; stroke: rgb(217, 95, 2); stroke-opacity: 1; stroke-width: 2px; opacity: 1;\"/><path d=\"M493.5,48.16H493.99M493.99,42.28V56.55M494.47,46.27H493.99\" style=\"fill: none; stroke: rgb(27, 158, 118); stroke-opacity: 1; stroke-width: 2px; opacity: 1;\"/><path d=\"M495.12,46.27H495.61M495.61,29.63V48.35M496.09,30.21H495.61\" style=\"fill: none; stroke: rgb(27, 158, 118); stroke-opacity: 1; stroke-width: 2px; opacity: 1;\"/><path d=\"M496.74,30.22H497.23M497.23,25.7V38.22M497.72,29.41H497.23\" style=\"fill: none; stroke: rgb(27, 158, 118); stroke-opacity: 1; stroke-width: 2px; opacity: 1;\"/><path d=\"M498.37,29.41H498.85M498.85,29.22V40.29M499.34,33.63H498.85\" style=\"fill: none; stroke: rgb(217, 95, 2); stroke-opacity: 1; stroke-width: 2px; opacity: 1;\"/><path d=\"M499.99,33.63H500.47M500.47,31.39V39.18M500.96,37.08H500.47\" style=\"fill: none; stroke: rgb(217, 95, 2); stroke-opacity: 1; stroke-width: 2px; opacity: 1;\"/><path d=\"M501.61,37.08H502.1M502.1,33.77V45.87M502.58,34.48H502.1\" style=\"fill: none; stroke: rgb(27, 158, 118); stroke-opacity: 1; stroke-width: 2px; opacity: 1;\"/><path d=\"M503.23,34.48H503.72M503.72,27.36V35.41M504.21,28.86H503.72\" style=\"fill: none; stroke: rgb(27, 158, 118); stroke-opacity: 1; stroke-width: 2px; opacity: 1;\"/><path d=\"M504.85,28.86H505.34M505.34,16.37V28.9M505.83,17.26H505.34\" style=\"fill: none; stroke: rgb(27, 158, 118); stroke-opacity: 1; stroke-width: 2px; opacity: 1;\"/><path d=\"M506.48,17.26H506.96M506.96,15.46V22.85M507.45,21.75H506.96\" style=\"fill: none; stroke: rgb(217, 95, 2); stroke-opacity: 1; stroke-width: 2px; opacity: 1;\"/><path d=\"M508.1,21.75H508.59M508.59,13.7V37.81M509.07,27.9H508.59\" style=\"fill: none; stroke: rgb(217, 95, 2); stroke-opacity: 1; stroke-width: 2px; opacity: 1;\"/><path d=\"M509.72,27.91H510.21M510.21,18.98V31.01M510.69,22.55H510.21\" style=\"fill: none; stroke: rgb(27, 158, 118); stroke-opacity: 1; stroke-width: 2px; opacity: 1;\"/><path d=\"M511.34,22.55H511.83M511.83,17.16V35.08M512.32,25.72H511.83\" style=\"fill: none; stroke: rgb(217, 95, 2); stroke-opacity: 1; stroke-width: 2px; opacity: 1;\"/><path d=\"M512.97,25.72H513.45M513.45,23.22V30.56M513.94,26.98H513.45\" style=\"fill: none; stroke: rgb(217, 95, 2); stroke-opacity: 1; stroke-width: 2px; opacity: 1;\"/><path d=\"M514.59,26.98H515.07M515.07,23.91V34.71M515.56,28.04H515.07\" style=\"fill: none; stroke: rgb(217, 95, 2); stroke-opacity: 1; stroke-width: 2px; opacity: 1;\"/><path d=\"M516.21,28.04H516.7M516.7,19.4V33.17M517.18,31.76H516.7\" style=\"fill: none; stroke: rgb(217, 95, 2); stroke-opacity: 1; stroke-width: 2px; opacity: 1;\"/><path d=\"M517.83,31.76H518.32M518.32,31.76V59.12M518.81,52.78H518.32\" style=\"fill: none; stroke: rgb(217, 95, 2); stroke-opacity: 1; stroke-width: 2px; opacity: 1;\"/><path d=\"M519.46,52.79H519.94M519.94,47.43V61.46M520.43,48.15H519.94\" style=\"fill: none; stroke: rgb(27, 158, 118); stroke-opacity: 1; stroke-width: 2px; opacity: 1;\"/><path d=\"M521.08,48.13H521.56M521.56,44.76V67.82M522.05,65.42H521.56\" style=\"fill: none; stroke: rgb(217, 95, 2); stroke-opacity: 1; stroke-width: 2px; opacity: 1;\"/><path d=\"M522.7,65.42H523.19M523.19,46.89V66.83M523.67,47.73H523.19\" style=\"fill: none; stroke: rgb(27, 158, 118); stroke-opacity: 1; stroke-width: 2px; opacity: 1;\"/><path d=\"M524.32,47.73H524.81M524.81,39.35V53.37M525.3,40.76H524.81\" style=\"fill: none; stroke: rgb(27, 158, 118); stroke-opacity: 1; stroke-width: 2px; opacity: 1;\"/><path d=\"M525.94,40.76H526.43M526.43,38.46V50.84M526.92,49.9H526.43\" style=\"fill: none; stroke: rgb(217, 95, 2); stroke-opacity: 1; stroke-width: 2px; opacity: 1;\"/><path d=\"M527.57,49.81H528.05M528.05,46.23V63.88M528.54,60.13H528.05\" style=\"fill: none; stroke: rgb(217, 95, 2); stroke-opacity: 1; stroke-width: 2px; opacity: 1;\"/><path d=\"M529.19,60.11H529.68M529.68,42.34V61.69M530.16,45.08H529.68\" style=\"fill: none; stroke: rgb(27, 158, 118); stroke-opacity: 1; stroke-width: 2px; opacity: 1;\"/><path d=\"M530.81,45.08H531.3M531.3,43.03V55.28M531.78,49.24H531.3\" style=\"fill: none; stroke: rgb(217, 95, 2); stroke-opacity: 1; stroke-width: 2px; opacity: 1;\"/><path d=\"M532.43,49.2H532.92M532.92,32.58V50.49M533.41,34.07H532.92\" style=\"fill: none; stroke: rgb(27, 158, 118); stroke-opacity: 1; stroke-width: 2px; opacity: 1;\"/><path d=\"M534.06,34.09H534.54M534.54,32.52V70.4M535.03,62.79H534.54\" style=\"fill: none; stroke: rgb(217, 95, 2); stroke-opacity: 1; stroke-width: 2px; opacity: 1;\"/><path d=\"M535.68,62.79H536.16M536.16,54.33V63.55M536.65,59.57H536.16\" style=\"fill: none; stroke: rgb(27, 158, 118); stroke-opacity: 1; stroke-width: 2px; opacity: 1;\"/><path d=\"M537.3,59.57H537.79M537.79,47.51V67.37M538.27,47.73H537.79\" style=\"fill: none; stroke: rgb(27, 158, 118); stroke-opacity: 1; stroke-width: 2px; opacity: 1;\"/><path d=\"M538.92,47.73H539.41M539.41,37.99V48.79M539.9,38.84H539.41\" style=\"fill: none; stroke: rgb(27, 158, 118); stroke-opacity: 1; stroke-width: 2px; opacity: 1;\"/><path d=\"M540.54,38.84H541.03M541.03,20.53V44.67M541.52,27.81H541.03\" style=\"fill: none; stroke: rgb(27, 158, 118); stroke-opacity: 1; stroke-width: 2px; opacity: 1;\"/><path d=\"M542.17,27.81H542.65M542.65,19V34.12M543.14,30.62H542.65\" style=\"fill: none; stroke: rgb(217, 95, 2); stroke-opacity: 1; stroke-width: 2px; opacity: 1;\"/><path d=\"M543.79,30.62H544.28M544.28,27.54V39.53M544.76,34.88H544.28\" style=\"fill: none; stroke: rgb(217, 95, 2); stroke-opacity: 1; stroke-width: 2px; opacity: 1;\"/><path d=\"M545.41,34.87H545.9M545.9,26.35V63.3M546.39,52.42H545.9\" style=\"fill: none; stroke: rgb(217, 95, 2); stroke-opacity: 1; stroke-width: 2px; opacity: 1;\"/><path d=\"M547.03,52.47H547.52M547.52,51.07V94.7M548.01,58.27H547.52\" style=\"fill: none; stroke: rgb(217, 95, 2); stroke-opacity: 1; stroke-width: 2px; opacity: 1;\"/><path d=\"M548.66,58.27H549.14M549.14,50.5V63.37M549.63,53.57H549.14\" style=\"fill: none; stroke: rgb(27, 158, 118); stroke-opacity: 1; stroke-width: 2px; opacity: 1;\"/><path d=\"M550.28,53.57H550.77M550.77,42.9V69.92M551.25,44.6H550.77\" style=\"fill: none; stroke: rgb(27, 158, 118); stroke-opacity: 1; stroke-width: 2px; opacity: 1;\"/><path d=\"M551.9,44.6H552.39M552.39,40V50.04M552.87,47.04H552.39\" style=\"fill: none; stroke: rgb(217, 95, 2); stroke-opacity: 1; stroke-width: 2px; opacity: 1;\"/><path d=\"M553.52,47.04H554.01M554.01,38.49V52M554.5,39.29H554.01\" style=\"fill: none; stroke: rgb(27, 158, 118); stroke-opacity: 1; stroke-width: 2px; opacity: 1;\"/><path d=\"M555.15,39.29H555.63M555.63,36.26V60.71M556.12,58.96H555.63\" style=\"fill: none; stroke: rgb(217, 95, 2); stroke-opacity: 1; stroke-width: 2px; opacity: 1;\"/><path d=\"M556.77,58.96H557.25M557.25,51.51V71.92M557.74,71.29H557.25\" style=\"fill: none; stroke: rgb(217, 95, 2); stroke-opacity: 1; stroke-width: 2px; opacity: 1;\"/><path d=\"M558.39,71.27H558.88M558.88,59.47V75.43M559.36,59.93H558.88\" style=\"fill: none; stroke: rgb(27, 158, 118); stroke-opacity: 1; stroke-width: 2px; opacity: 1;\"/><path d=\"M560.01,59.91H560.5M560.5,54.92V66.05M560.99,57.51H560.5\" style=\"fill: none; stroke: rgb(27, 158, 118); stroke-opacity: 1; stroke-width: 2px; opacity: 1;\"/><path d=\"M561.63,57.51H562.12M562.12,56.76V84.74M562.61,78.18H562.12\" style=\"fill: none; stroke: rgb(217, 95, 2); stroke-opacity: 1; stroke-width: 2px; opacity: 1;\"/><path d=\"M563.26,78.18H563.74M563.74,72.19V83.93M564.23,73.6H563.74\" style=\"fill: none; stroke: rgb(27, 158, 118); stroke-opacity: 1; stroke-width: 2px; opacity: 1;\"/><path d=\"M564.88,73.6H565.37M565.37,59.76V86.38M565.85,64.1H565.37\" style=\"fill: none; stroke: rgb(27, 158, 118); stroke-opacity: 1; stroke-width: 2px; opacity: 1;\"/><path d=\"M566.5,64.07H566.99M566.99,58.5V68.67M567.47,67.72H566.99\" style=\"fill: none; stroke: rgb(217, 95, 2); stroke-opacity: 1; stroke-width: 2px; opacity: 1;\"/><path d=\"M568.12,67.66H568.61M568.61,65.58V83.04M569.1,72.63H568.61\" style=\"fill: none; stroke: rgb(217, 95, 2); stroke-opacity: 1; stroke-width: 2px; opacity: 1;\"/><path d=\"M569.75,72.63H570.23M570.23,65.41V79.06M570.72,67.61H570.23\" style=\"fill: none; stroke: rgb(27, 158, 118); stroke-opacity: 1; stroke-width: 2px; opacity: 1;\"/><path d=\"M571.37,67.61H571.85M571.85,63.31V72.12M572.34,69.74H571.85\" style=\"fill: none; stroke: rgb(217, 95, 2); stroke-opacity: 1; stroke-width: 2px; opacity: 1;\"/><path d=\"M572.99,69.74H573.48M573.48,66.22V79.9M573.96,68.51H573.48\" style=\"fill: none; stroke: rgb(27, 158, 118); stroke-opacity: 1; stroke-width: 2px; opacity: 1;\"/><path d=\"M574.61,68.51H575.1M575.1,61.49V70.38M575.59,64.39H575.1\" style=\"fill: none; stroke: rgb(27, 158, 118); stroke-opacity: 1; stroke-width: 2px; opacity: 1;\"/><path d=\"M576.24,64.38H576.72M576.72,60.79V69.19M577.21,66.45H576.72\" style=\"fill: none; stroke: rgb(217, 95, 2); stroke-opacity: 1; stroke-width: 2px; opacity: 1;\"/><path d=\"M577.86,66.45H578.34M578.34,56.33V71.57M578.83,58.62H578.34\" style=\"fill: none; stroke: rgb(27, 158, 118); stroke-opacity: 1; stroke-width: 2px; opacity: 1;\"/><path d=\"M579.48,58.62H579.97M579.97,57.23V64.21M580.45,62.48H579.97\" style=\"fill: none; stroke: rgb(217, 95, 2); stroke-opacity: 1; stroke-width: 2px; opacity: 1;\"/><path d=\"M581.1,62.48H581.59M581.59,57.04V64.13M582.08,59.6H581.59\" style=\"fill: none; stroke: rgb(27, 158, 118); stroke-opacity: 1; stroke-width: 2px; opacity: 1;\"/><path d=\"M582.72,59.63H583.21M583.21,59V65.23M583.7,61.46H583.21\" style=\"fill: none; stroke: rgb(217, 95, 2); stroke-opacity: 1; stroke-width: 2px; opacity: 1;\"/><path d=\"M584.35,61.46H584.83M584.83,57.66V63.39M585.32,63.02H584.83\" style=\"fill: none; stroke: rgb(217, 95, 2); stroke-opacity: 1; stroke-width: 2px; opacity: 1;\"/><path d=\"M585.97,63.02H586.46M586.46,63.02V79.52M586.94,77.54H586.46\" style=\"fill: none; stroke: rgb(217, 95, 2); stroke-opacity: 1; stroke-width: 2px; opacity: 1;\"/><path d=\"M587.59,77.54H588.08M588.08,75.46V88.73M588.56,87.19H588.08\" style=\"fill: none; stroke: rgb(217, 95, 2); stroke-opacity: 1; stroke-width: 2px; opacity: 1;\"/><path d=\"M589.21,87.19H589.7M589.7,78.94V89.87M590.19,82.49H589.7\" style=\"fill: none; stroke: rgb(27, 158, 118); stroke-opacity: 1; stroke-width: 2px; opacity: 1;\"/><path d=\"M590.84,82.49H591.32M591.32,76.22V87.66M591.81,84.45H591.32\" style=\"fill: none; stroke: rgb(217, 95, 2); stroke-opacity: 1; stroke-width: 2px; opacity: 1;\"/></g></g><g class=\"scatterlayer mlayer\"><g class=\"trace scatter traceaaca0328-9c5e-4d76-ae40-54a413dca954\" style=\"stroke-miterlimit: 2; opacity: 1;\"><g class=\"fills\"/><g class=\"errorbars\"/><g class=\"lines\"/><g class=\"points\"><path class=\"point\" transform=\"translate(90.04,214.74)\" d=\"M-4.62,2H4.62L0,-4Z\" style=\"opacity: 1; stroke-width: 1px; fill: rgb(55, 177, 63); fill-opacity: 1; stroke: rgb(38, 123, 44); stroke-opacity: 1;\"/><path class=\"point\" transform=\"translate(91.66,216.94)\" d=\"M-4.62,2H4.62L0,-4Z\" style=\"opacity: 1; stroke-width: 1px; fill: rgb(55, 177, 63); fill-opacity: 1; stroke: rgb(38, 123, 44); stroke-opacity: 1;\"/><path class=\"point\" transform=\"translate(94.9,218.45)\" d=\"M-4.62,2H4.62L0,-4Z\" style=\"opacity: 1; stroke-width: 1px; fill: rgb(55, 177, 63); fill-opacity: 1; stroke: rgb(38, 123, 44); stroke-opacity: 1;\"/><path class=\"point\" transform=\"translate(224.69,157.91)\" d=\"M-4.62,2H4.62L0,-4Z\" style=\"opacity: 1; stroke-width: 1px; fill: rgb(55, 177, 63); fill-opacity: 1; stroke: rgb(38, 123, 44); stroke-opacity: 1;\"/><path class=\"point\" transform=\"translate(226.31,138.34)\" d=\"M-4.62,2H4.62L0,-4Z\" style=\"opacity: 1; stroke-width: 1px; fill: rgb(55, 177, 63); fill-opacity: 1; stroke: rgb(38, 123, 44); stroke-opacity: 1;\"/><path class=\"point\" transform=\"translate(227.93,158.38)\" d=\"M-4.62,2H4.62L0,-4Z\" style=\"opacity: 1; stroke-width: 1px; fill: rgb(55, 177, 63); fill-opacity: 1; stroke: rgb(38, 123, 44); stroke-opacity: 1;\"/><path class=\"point\" transform=\"translate(231.18,178.25)\" d=\"M-4.62,2H4.62L0,-4Z\" style=\"opacity: 1; stroke-width: 1px; fill: rgb(55, 177, 63); fill-opacity: 1; stroke: rgb(38, 123, 44); stroke-opacity: 1;\"/><path class=\"point\" transform=\"translate(278.22,190.77)\" d=\"M-4.62,2H4.62L0,-4Z\" style=\"opacity: 1; stroke-width: 1px; fill: rgb(55, 177, 63); fill-opacity: 1; stroke: rgb(38, 123, 44); stroke-opacity: 1;\"/><path class=\"point\" transform=\"translate(279.84,191.14)\" d=\"M-4.62,2H4.62L0,-4Z\" style=\"opacity: 1; stroke-width: 1px; fill: rgb(55, 177, 63); fill-opacity: 1; stroke: rgb(38, 123, 44); stroke-opacity: 1;\"/><path class=\"point\" transform=\"translate(281.47,185.86)\" d=\"M-4.62,2H4.62L0,-4Z\" style=\"opacity: 1; stroke-width: 1px; fill: rgb(55, 177, 63); fill-opacity: 1; stroke: rgb(38, 123, 44); stroke-opacity: 1;\"/><path class=\"point\" transform=\"translate(393.4,99.12)\" d=\"M-4.62,2H4.62L0,-4Z\" style=\"opacity: 1; stroke-width: 1px; fill: rgb(55, 177, 63); fill-opacity: 1; stroke: rgb(38, 123, 44); stroke-opacity: 1;\"/><path class=\"point\" transform=\"translate(464.78,77.65)\" d=\"M-4.62,2H4.62L0,-4Z\" style=\"opacity: 1; stroke-width: 1px; fill: rgb(55, 177, 63); fill-opacity: 1; stroke: rgb(38, 123, 44); stroke-opacity: 1;\"/><path class=\"point\" transform=\"translate(508.59,27.9)\" d=\"M-4.62,2H4.62L0,-4Z\" style=\"opacity: 1; stroke-width: 1px; fill: rgb(55, 177, 63); fill-opacity: 1; stroke: rgb(38, 123, 44); stroke-opacity: 1;\"/></g><g class=\"text\"/></g><g class=\"trace scatter trace6518c004-efb9-4303-a221-093f7d284ecf\" style=\"stroke-miterlimit: 2; opacity: 1;\"><g class=\"fills\"/><g class=\"errorbars\"/><g class=\"lines\"/><g class=\"points\"><path class=\"point\" transform=\"translate(39.75,224.47)\" d=\"M-4.62,-2H4.62L0,4Z\" style=\"opacity: 1; stroke-width: 1px; fill: rgb(234, 67, 53); fill-opacity: 1; stroke: rgb(181, 31, 18); stroke-opacity: 1;\"/><path class=\"point\" transform=\"translate(54.35,203.89)\" d=\"M-4.62,-2H4.62L0,4Z\" style=\"opacity: 1; stroke-width: 1px; fill: rgb(234, 67, 53); fill-opacity: 1; stroke: rgb(181, 31, 18); stroke-opacity: 1;\"/><path class=\"point\" transform=\"translate(55.97,207.97)\" d=\"M-4.62,-2H4.62L0,4Z\" style=\"opacity: 1; stroke-width: 1px; fill: rgb(234, 67, 53); fill-opacity: 1; stroke: rgb(181, 31, 18); stroke-opacity: 1;\"/><path class=\"point\" transform=\"translate(57.59,200.64)\" d=\"M-4.62,-2H4.62L0,4Z\" style=\"opacity: 1; stroke-width: 1px; fill: rgb(234, 67, 53); fill-opacity: 1; stroke: rgb(181, 31, 18); stroke-opacity: 1;\"/><path class=\"point\" transform=\"translate(109.5,191.66)\" d=\"M-4.62,-2H4.62L0,4Z\" style=\"opacity: 1; stroke-width: 1px; fill: rgb(234, 67, 53); fill-opacity: 1; stroke: rgb(181, 31, 18); stroke-opacity: 1;\"/><path class=\"point\" transform=\"translate(130.59,202.91)\" d=\"M-4.62,-2H4.62L0,4Z\" style=\"opacity: 1; stroke-width: 1px; fill: rgb(234, 67, 53); fill-opacity: 1; stroke: rgb(181, 31, 18); stroke-opacity: 1;\"/><path class=\"point\" transform=\"translate(132.22,203.67)\" d=\"M-4.62,-2H4.62L0,4Z\" style=\"opacity: 1; stroke-width: 1px; fill: rgb(234, 67, 53); fill-opacity: 1; stroke: rgb(181, 31, 18); stroke-opacity: 1;\"/><path class=\"point\" transform=\"translate(148.44,176.03)\" d=\"M-4.62,-2H4.62L0,4Z\" style=\"opacity: 1; stroke-width: 1px; fill: rgb(234, 67, 53); fill-opacity: 1; stroke: rgb(181, 31, 18); stroke-opacity: 1;\"/><path class=\"point\" transform=\"translate(150.06,183.46)\" d=\"M-4.62,-2H4.62L0,4Z\" style=\"opacity: 1; stroke-width: 1px; fill: rgb(234, 67, 53); fill-opacity: 1; stroke: rgb(181, 31, 18); stroke-opacity: 1;\"/><path class=\"point\" transform=\"translate(192.24,139.02)\" d=\"M-4.62,-2H4.62L0,4Z\" style=\"opacity: 1; stroke-width: 1px; fill: rgb(234, 67, 53); fill-opacity: 1; stroke: rgb(181, 31, 18); stroke-opacity: 1;\"/><path class=\"point\" transform=\"translate(198.73,99.01)\" d=\"M-4.62,-2H4.62L0,4Z\" style=\"opacity: 1; stroke-width: 1px; fill: rgb(234, 67, 53); fill-opacity: 1; stroke: rgb(181, 31, 18); stroke-opacity: 1;\"/><path class=\"point\" transform=\"translate(200.35,110.41)\" d=\"M-4.62,-2H4.62L0,4Z\" style=\"opacity: 1; stroke-width: 1px; fill: rgb(234, 67, 53); fill-opacity: 1; stroke: rgb(181, 31, 18); stroke-opacity: 1;\"/><path class=\"point\" transform=\"translate(206.84,70.56)\" d=\"M-4.62,-2H4.62L0,4Z\" style=\"opacity: 1; stroke-width: 1px; fill: rgb(234, 67, 53); fill-opacity: 1; stroke: rgb(181, 31, 18); stroke-opacity: 1;\"/><path class=\"point\" transform=\"translate(210.09,68.44)\" d=\"M-4.62,-2H4.62L0,4Z\" style=\"opacity: 1; stroke-width: 1px; fill: rgb(234, 67, 53); fill-opacity: 1; stroke: rgb(181, 31, 18); stroke-opacity: 1;\"/><path class=\"point\" transform=\"translate(213.33,75.73)\" d=\"M-4.62,-2H4.62L0,4Z\" style=\"opacity: 1; stroke-width: 1px; fill: rgb(234, 67, 53); fill-opacity: 1; stroke: rgb(181, 31, 18); stroke-opacity: 1;\"/><path class=\"point\" transform=\"translate(299.31,164.81)\" d=\"M-4.62,-2H4.62L0,4Z\" style=\"opacity: 1; stroke-width: 1px; fill: rgb(234, 67, 53); fill-opacity: 1; stroke: rgb(181, 31, 18); stroke-opacity: 1;\"/><path class=\"point\" transform=\"translate(344.74,150.98)\" d=\"M-4.62,-2H4.62L0,4Z\" style=\"opacity: 1; stroke-width: 1px; fill: rgb(234, 67, 53); fill-opacity: 1; stroke: rgb(181, 31, 18); stroke-opacity: 1;\"/><path class=\"point\" transform=\"translate(349.6,140.94)\" d=\"M-4.62,-2H4.62L0,4Z\" style=\"opacity: 1; stroke-width: 1px; fill: rgb(234, 67, 53); fill-opacity: 1; stroke: rgb(181, 31, 18); stroke-opacity: 1;\"/><path class=\"point\" transform=\"translate(351.22,134.87)\" d=\"M-4.62,-2H4.62L0,4Z\" style=\"opacity: 1; stroke-width: 1px; fill: rgb(234, 67, 53); fill-opacity: 1; stroke: rgb(181, 31, 18); stroke-opacity: 1;\"/><path class=\"point\" transform=\"translate(352.85,131.04)\" d=\"M-4.62,-2H4.62L0,4Z\" style=\"opacity: 1; stroke-width: 1px; fill: rgb(234, 67, 53); fill-opacity: 1; stroke: rgb(181, 31, 18); stroke-opacity: 1;\"/><path class=\"point\" transform=\"translate(354.47,115.08)\" d=\"M-4.62,-2H4.62L0,4Z\" style=\"opacity: 1; stroke-width: 1px; fill: rgb(234, 67, 53); fill-opacity: 1; stroke: rgb(181, 31, 18); stroke-opacity: 1;\"/><path class=\"point\" transform=\"translate(356.09,123.9)\" d=\"M-4.62,-2H4.62L0,4Z\" style=\"opacity: 1; stroke-width: 1px; fill: rgb(234, 67, 53); fill-opacity: 1; stroke: rgb(181, 31, 18); stroke-opacity: 1;\"/><path class=\"point\" transform=\"translate(398.27,68.91)\" d=\"M-4.62,-2H4.62L0,4Z\" style=\"opacity: 1; stroke-width: 1px; fill: rgb(234, 67, 53); fill-opacity: 1; stroke: rgb(181, 31, 18); stroke-opacity: 1;\"/><path class=\"point\" transform=\"translate(518.32,52.78)\" d=\"M-4.62,-2H4.62L0,4Z\" style=\"opacity: 1; stroke-width: 1px; fill: rgb(234, 67, 53); fill-opacity: 1; stroke: rgb(181, 31, 18); stroke-opacity: 1;\"/><path class=\"point\" transform=\"translate(519.94,48.15)\" d=\"M-4.62,-2H4.62L0,4Z\" style=\"opacity: 1; stroke-width: 1px; fill: rgb(234, 67, 53); fill-opacity: 1; stroke: rgb(181, 31, 18); stroke-opacity: 1;\"/><path class=\"point\" transform=\"translate(586.46,77.54)\" d=\"M-4.62,-2H4.62L0,4Z\" style=\"opacity: 1; stroke-width: 1px; fill: rgb(234, 67, 53); fill-opacity: 1; stroke: rgb(181, 31, 18); stroke-opacity: 1;\"/><path class=\"point\" transform=\"translate(588.08,87.19)\" d=\"M-4.62,-2H4.62L0,4Z\" style=\"opacity: 1; stroke-width: 1px; fill: rgb(234, 67, 53); fill-opacity: 1; stroke: rgb(181, 31, 18); stroke-opacity: 1;\"/><path class=\"point\" transform=\"translate(589.7,82.49)\" d=\"M-4.62,-2H4.62L0,4Z\" style=\"opacity: 1; stroke-width: 1px; fill: rgb(234, 67, 53); fill-opacity: 1; stroke: rgb(181, 31, 18); stroke-opacity: 1;\"/></g><g class=\"text\"/></g><g class=\"trace scatter trace0b9f9b5e-2eab-4108-96f4-1d5853e75c83\" style=\"stroke-miterlimit: 2; opacity: 1;\"><g class=\"fills\"/><g class=\"errorbars\"/><g class=\"lines\"/><g class=\"points\"><path class=\"point\" transform=\"translate(90.04,214.74)\" d=\"M10,0A10,10 0 1,1 0,-10A10,10 0 0,1 10,0Z\" style=\"opacity: 1; stroke-width: 2px; fill: rgb(0, 0, 0); fill-opacity: 0; stroke: rgb(55, 177, 63); stroke-opacity: 1;\"/><path class=\"point\" transform=\"translate(224.69,157.91)\" d=\"M10,0A10,10 0 1,1 0,-10A10,10 0 0,1 10,0Z\" style=\"opacity: 1; stroke-width: 2px; fill: rgb(0, 0, 0); fill-opacity: 0; stroke: rgb(55, 177, 63); stroke-opacity: 1;\"/><path class=\"point\" transform=\"translate(393.4,99.12)\" d=\"M10,0A10,10 0 1,1 0,-10A10,10 0 0,1 10,0Z\" style=\"opacity: 1; stroke-width: 2px; fill: rgb(0, 0, 0); fill-opacity: 0; stroke: rgb(55, 177, 63); stroke-opacity: 1;\"/><path class=\"point\" transform=\"translate(464.78,77.65)\" d=\"M10,0A10,10 0 1,1 0,-10A10,10 0 0,1 10,0Z\" style=\"opacity: 1; stroke-width: 2px; fill: rgb(0, 0, 0); fill-opacity: 0; stroke: rgb(55, 177, 63); stroke-opacity: 1;\"/></g><g class=\"text\"/></g><g class=\"trace scatter trace16cffab0-e265-4880-90d1-cf3875e1f8a9\" style=\"stroke-miterlimit: 2; opacity: 1;\"><g class=\"fills\"/><g class=\"errorbars\"/><g class=\"lines\"/><g class=\"points\"><path class=\"point\" transform=\"translate(109.5,191.66)\" d=\"M10,0A10,10 0 1,1 0,-10A10,10 0 0,1 10,0Z\" style=\"opacity: 1; stroke-width: 2px; fill: rgb(0, 0, 0); fill-opacity: 0; stroke: rgb(234, 67, 53); stroke-opacity: 1;\"/><path class=\"point\" transform=\"translate(299.31,164.81)\" d=\"M10,0A10,10 0 1,1 0,-10A10,10 0 0,1 10,0Z\" style=\"opacity: 1; stroke-width: 2px; fill: rgb(0, 0, 0); fill-opacity: 0; stroke: rgb(234, 67, 53); stroke-opacity: 1;\"/><path class=\"point\" transform=\"translate(398.27,68.91)\" d=\"M10,0A10,10 0 1,1 0,-10A10,10 0 0,1 10,0Z\" style=\"opacity: 1; stroke-width: 2px; fill: rgb(0, 0, 0); fill-opacity: 0; stroke: rgb(234, 67, 53); stroke-opacity: 1;\"/><path class=\"point\" transform=\"translate(518.32,52.78)\" d=\"M10,0A10,10 0 1,1 0,-10A10,10 0 0,1 10,0Z\" style=\"opacity: 1; stroke-width: 2px; fill: rgb(0, 0, 0); fill-opacity: 0; stroke: rgb(234, 67, 53); stroke-opacity: 1;\"/></g><g class=\"text\"/></g></g></g><g class=\"overplot\"/><path class=\"xlines-above crisp\" d=\"M0,0\" style=\"fill: none;\"/><path class=\"ylines-above crisp\" d=\"M0,0\" style=\"fill: none;\"/><g class=\"overlines-above\"/><g class=\"xaxislayer-above\"><g class=\"xtick\"><text text-anchor=\"middle\" x=\"0\" y=\"333\" transform=\"translate(44.81,0)\" style=\"font-family: 'Open Sans', verdana, arial, sans-serif; font-size: 12px; fill: rgb(214, 223, 239); fill-opacity: 1; white-space: pre; opacity: 1;\">Jan 2021</text></g><g class=\"xtick\"><text text-anchor=\"middle\" x=\"0\" y=\"333\" style=\"font-family: 'Open Sans', verdana, arial, sans-serif; font-size: 12px; fill: rgb(214, 223, 239); fill-opacity: 1; white-space: pre; opacity: 1;\" transform=\"translate(140.53,0)\">Mar 2021</text></g><g class=\"xtick\"><text text-anchor=\"middle\" x=\"0\" y=\"333\" style=\"font-family: 'Open Sans', verdana, arial, sans-serif; font-size: 12px; fill: rgb(214, 223, 239); fill-opacity: 1; white-space: pre; opacity: 1;\" transform=\"translate(239.49,0)\">May 2021</text></g><g class=\"xtick\"><text text-anchor=\"middle\" x=\"0\" y=\"333\" style=\"font-family: 'Open Sans', verdana, arial, sans-serif; font-size: 12px; fill: rgb(214, 223, 239); fill-opacity: 1; white-space: pre; opacity: 1;\" transform=\"translate(338.44,0)\">Jul 2021</text></g><g class=\"xtick\"><text text-anchor=\"middle\" x=\"0\" y=\"333\" style=\"font-family: 'Open Sans', verdana, arial, sans-serif; font-size: 12px; fill: rgb(214, 223, 239); fill-opacity: 1; white-space: pre; opacity: 1;\" transform=\"translate(439.03,0)\">Sep 2021</text></g><g class=\"xtick\"><text text-anchor=\"middle\" x=\"0\" y=\"333\" style=\"font-family: 'Open Sans', verdana, arial, sans-serif; font-size: 12px; fill: rgb(214, 223, 239); fill-opacity: 1; white-space: pre; opacity: 1;\" transform=\"translate(537.99,0)\">Nov 2021</text></g><g class=\"xtick\"><text text-anchor=\"middle\" x=\"0\" y=\"333\" style=\"font-family: 'Open Sans', verdana, arial, sans-serif; font-size: 12px; fill: rgb(214, 223, 239); fill-opacity: 1; white-space: pre; opacity: 1;\" transform=\"translate(636.94,0)\">Jan 2022</text></g></g><g class=\"yaxislayer-above\"><g class=\"ytick\"><text text-anchor=\"end\" x=\"43\" y=\"4.199999999999999\" transform=\"translate(0,289.34000000000003)\" style=\"font-family: 'Open Sans', verdana, arial, sans-serif; font-size: 12px; fill: rgb(214, 223, 239); fill-opacity: 1; white-space: pre; opacity: 1;\">1000</text></g><g class=\"ytick\"><text text-anchor=\"end\" x=\"43\" y=\"4.199999999999999\" style=\"font-family: 'Open Sans', verdana, arial, sans-serif; font-size: 12px; fill: rgb(214, 223, 239); fill-opacity: 1; white-space: pre; opacity: 1;\" transform=\"translate(0,229.97)\">2000</text></g><g class=\"ytick\"><text text-anchor=\"end\" x=\"43\" y=\"4.199999999999999\" style=\"font-family: 'Open Sans', verdana, arial, sans-serif; font-size: 12px; fill: rgb(214, 223, 239); fill-opacity: 1; white-space: pre; opacity: 1;\" transform=\"translate(0,170.6)\">3000</text></g><g class=\"ytick\"><text text-anchor=\"end\" x=\"43\" y=\"4.199999999999999\" style=\"font-family: 'Open Sans', verdana, arial, sans-serif; font-size: 12px; fill: rgb(214, 223, 239); fill-opacity: 1; white-space: pre; opacity: 1;\" transform=\"translate(0,111.23)\">4000</text></g><g class=\"ytick\"><text text-anchor=\"end\" x=\"43\" y=\"4.199999999999999\" style=\"font-family: 'Open Sans', verdana, arial, sans-serif; font-size: 12px; fill: rgb(214, 223, 239); fill-opacity: 1; white-space: pre; opacity: 1;\" transform=\"translate(0,51.86)\">5000</text></g></g><g class=\"overaxes-above\"/></g></g><g class=\"polarlayer\"/><g class=\"smithlayer\"/><g class=\"ternarylayer\"/><g class=\"geolayer\"/><g class=\"funnelarealayer\"/><g class=\"pielayer\"/><g class=\"iciclelayer\"/><g class=\"treemaplayer\"/><g class=\"sunburstlayer\"/><g class=\"glimages\"/><defs id=\"topdefs-d7a941\"><g class=\"clips\"/><clipPath id=\"legendd7a941\"><rect width=\"460\" height=\"29\" x=\"0\" y=\"0\"/></clipPath></defs><g class=\"layer-above\"><g class=\"imagelayer\"/><g class=\"shapelayer\"/></g><g class=\"infolayer\"><g class=\"legend\" pointer-events=\"all\" transform=\"translate(210,11.519999999999996)\"><rect class=\"bg\" shape-rendering=\"crispEdges\" style=\"stroke: rgb(68, 68, 68); stroke-opacity: 1; fill: rgb(33, 34, 44); fill-opacity: 1; stroke-width: 0px;\" width=\"460\" height=\"29\" x=\"0\" y=\"0\"/><g class=\"scrollbox\" transform=\"\" clip-path=\"url(#legendd7a941)\"><g class=\"groups\"><g class=\"traces\" transform=\"translate(0,14.5)\" style=\"opacity: 1;\"><text class=\"legendtext\" text-anchor=\"start\" x=\"40\" y=\"4.680000000000001\" style=\"font-family: 'Open Sans', verdana, arial, sans-serif; font-size: 12px; fill: rgb(214, 223, 239); fill-opacity: 1; white-space: pre;\">OHLC</text><g class=\"layers\" style=\"opacity: 0.5;\"><g class=\"legendfill\"/><g class=\"legendlines\"/><g class=\"legendsymbols\"><g class=\"legendpoints\"><path class=\"legendohlc\" d=\"M15,0H0M8,6V0\" transform=\"translate(20,0)\" style=\"stroke-miterlimit: 1; fill: none; stroke-width: 2px; stroke: rgb(217, 95, 2); stroke-opacity: 1;\"/><path class=\"legendohlc\" d=\"M-15,0H0M-8,-6V0\" transform=\"translate(20,0)\" style=\"stroke-miterlimit: 1; fill: none; stroke-width: 2px; stroke: rgb(27, 158, 118); stroke-opacity: 1;\"/></g></g></g><rect class=\"legendtoggle\" x=\"0\" y=\"-9.5\" width=\"76.03125\" height=\"19\" style=\"fill: rgb(0, 0, 0); fill-opacity: 0;\"/></g><g class=\"traces\" transform=\"translate(78.53125,14.5)\" style=\"opacity: 1;\"><text class=\"legendtext\" text-anchor=\"start\" x=\"40\" y=\"4.680000000000001\" style=\"font-family: 'Open Sans', verdana, arial, sans-serif; font-size: 12px; fill: rgb(214, 223, 239); fill-opacity: 1; white-space: pre;\">Entries</text><g class=\"layers\" style=\"opacity: 1;\"><g class=\"legendfill\"/><g class=\"legendlines\"/><g class=\"legendsymbols\"><g class=\"legendpoints\"><path class=\"scatterpts\" transform=\"translate(20,0)\" d=\"M-4.62,2H4.62L0,-4Z\" style=\"opacity: 1; stroke-width: 1px; fill: rgb(55, 177, 63); fill-opacity: 1; stroke: rgb(38, 123, 44); stroke-opacity: 1;\"/></g></g></g><rect class=\"legendtoggle\" x=\"0\" y=\"-9.5\" width=\"84.234375\" height=\"19\" style=\"fill: rgb(0, 0, 0); fill-opacity: 0;\"/></g><g class=\"traces\" transform=\"translate(165.265625,14.5)\" style=\"opacity: 1;\"><text class=\"legendtext\" text-anchor=\"start\" x=\"40\" y=\"4.680000000000001\" style=\"font-family: 'Open Sans', verdana, arial, sans-serif; font-size: 12px; fill: rgb(214, 223, 239); fill-opacity: 1; white-space: pre;\">Exits</text><g class=\"layers\" style=\"opacity: 1;\"><g class=\"legendfill\"/><g class=\"legendlines\"/><g class=\"legendsymbols\"><g class=\"legendpoints\"><path class=\"scatterpts\" transform=\"translate(20,0)\" d=\"M-4.62,-2H4.62L0,4Z\" style=\"opacity: 1; stroke-width: 1px; fill: rgb(234, 67, 53); fill-opacity: 1; stroke: rgb(181, 31, 18); stroke-opacity: 1;\"/></g></g></g><rect class=\"legendtoggle\" x=\"0\" y=\"-9.5\" width=\"71.46875\" height=\"19\" style=\"fill: rgb(0, 0, 0); fill-opacity: 0;\"/></g><g class=\"traces\" transform=\"translate(239.234375,14.5)\" style=\"opacity: 1;\"><text class=\"legendtext\" text-anchor=\"start\" x=\"40\" y=\"4.680000000000001\" style=\"font-family: 'Open Sans', verdana, arial, sans-serif; font-size: 12px; fill: rgb(214, 223, 239); fill-opacity: 1; white-space: pre;\">New entries</text><g class=\"layers\" style=\"opacity: 1;\"><g class=\"legendfill\"/><g class=\"legendlines\"/><g class=\"legendsymbols\"><g class=\"legendpoints\"><path class=\"scatterpts\" transform=\"translate(20,0)\" d=\"M8,0A8,8 0 1,1 0,-8A8,8 0 0,1 8,0Z\" style=\"opacity: 1; stroke-width: 2px; fill: rgb(0, 0, 0); fill-opacity: 0; stroke: rgb(55, 177, 63); stroke-opacity: 1;\"/></g></g></g><rect class=\"legendtoggle\" x=\"0\" y=\"-9.5\" width=\"113.953125\" height=\"19\" style=\"fill: rgb(0, 0, 0); fill-opacity: 0;\"/></g><g class=\"traces\" transform=\"translate(355.6875,14.5)\" style=\"opacity: 1;\"><text class=\"legendtext\" text-anchor=\"start\" x=\"40\" y=\"4.680000000000001\" style=\"font-family: 'Open Sans', verdana, arial, sans-serif; font-size: 12px; fill: rgb(214, 223, 239); fill-opacity: 1; white-space: pre;\">New exits</text><g class=\"layers\" style=\"opacity: 1;\"><g class=\"legendfill\"/><g class=\"legendlines\"/><g class=\"legendsymbols\"><g class=\"legendpoints\"><path class=\"scatterpts\" transform=\"translate(20,0)\" d=\"M8,0A8,8 0 1,1 0,-8A8,8 0 0,1 8,0Z\" style=\"opacity: 1; stroke-width: 2px; fill: rgb(0, 0, 0); fill-opacity: 0; stroke: rgb(234, 67, 53); stroke-opacity: 1;\"/></g></g></g><rect class=\"legendtoggle\" x=\"0\" y=\"-9.5\" width=\"101.1875\" height=\"19\" style=\"fill: rgb(0, 0, 0); fill-opacity: 0;\"/></g></g></g><rect class=\"scrollbar\" rx=\"20\" ry=\"3\" width=\"0\" height=\"0\" style=\"fill: rgb(128, 139, 164); fill-opacity: 1;\" x=\"0\" y=\"0\"/></g><g class=\"g-gtitle\"/><g class=\"g-xtitle\"/><g class=\"g-ytitle\"/></g></svg>"
      ]
     },
     "metadata": {},
     "output_type": "display_data"
    }
   ],
   "source": [
    "symbol = \"ETHUSDT\"\n",
    "fig = data.plot(\n",
    "    symbol=symbol, \n",
    "    ohlc_trace_kwargs=dict(opacity=0.5), \n",
    "    plot_volume=False\n",
    ")\n",
    "entries[symbol].vbt.signals.plot_as_entries(\n",
    "    y=data.get(\"Close\", symbol), fig=fig)\n",
    "exits[symbol].vbt.signals.plot_as_exits(\n",
    "    y=data.get(\"Close\", symbol), fig=fig)\n",
    "new_entries[symbol].vbt.signals.plot_as_entry_marks(\n",
    "    y=data.get(\"Close\", symbol), fig=fig, \n",
    "    trace_kwargs=dict(name=\"New entries\"))\n",
    "new_exits[symbol].vbt.signals.plot_as_exit_marks(\n",
    "    y=data.get(\"Close\", symbol), fig=fig, \n",
    "    trace_kwargs=dict(name=\"New exits\")).show_svg()"
   ]
  },
  {
   "cell_type": "code",
   "execution_count": 134,
   "id": "883ff6e0-7777-487e-b58b-80bc38f2634c",
   "metadata": {},
   "outputs": [],
   "source": [
    "new_entries, new_exits = entries.vbt.signals.clean(exits)"
   ]
  },
  {
   "cell_type": "markdown",
   "id": "82b4e080-808a-4ab3-a700-81ecf0b75d98",
   "metadata": {},
   "source": [
    "### Duration"
   ]
  },
  {
   "cell_type": "code",
   "execution_count": 135,
   "id": "1b9ac018-2643-4ef5-aded-a617062e726a",
   "metadata": {},
   "outputs": [
    {
     "name": "stdout",
     "output_type": "stream",
     "text": [
      "    id  col  start_idx  end_idx  status\n",
      "0    0    0         99      100       1\n",
      "1    1    0        100      101       1\n",
      "2    2    0        101      102       1\n",
      "3    3    0        102      103       1\n",
      "4    4    0        103      135       1\n",
      "5    5    0        135      136       1\n",
      "6    6    0        136      138       1\n",
      "7    7    0        138      139       1\n",
      "8    8    0        139      140       1\n",
      "9    9    0        140      142       1\n",
      "10  10    0        142      231       1\n",
      "11  11    0        231      232       1\n",
      "12  12    0        232      234       1\n",
      "13  13    0        234      244       1\n",
      "14  14    0        244      245       1\n",
      "15  15    0        245      247       1\n",
      "16  16    0        247      248       1\n",
      "17  17    0        248      249       1\n",
      "18  18    0        249      311       1\n",
      "19  19    0        311      312       1\n",
      "20  20    0        312      313       1\n",
      "21  21    0        313      356       1\n",
      "22  22    0        356      357       1\n",
      "23  23    0        357      360       1\n",
      "24   0    1         55       56       1\n",
      "25   1    1         56       58       1\n",
      "26   2    1         58      138       1\n",
      "27   3    1        138      139       1\n",
      "28   4    1        139      140       1\n",
      "29   5    1        140      142       1\n",
      "30   6    1        142      171       1\n",
      "31   7    1        171      172       1\n",
      "32   8    1        172      173       1\n",
      "33   9    1        173      242       1\n",
      "34  10    1        242      286       1\n",
      "35  11    1        286      313       1\n"
     ]
    }
   ],
   "source": [
    "ranges = entries.vbt.signals.between_ranges()\n",
    "print(ranges.records)"
   ]
  },
  {
   "cell_type": "code",
   "execution_count": 136,
   "id": "aa971658-1359-403b-9e65-a4a3ce390751",
   "metadata": {},
   "outputs": [
    {
     "data": {
      "text/plain": [
       "symbol\n",
       "BTCUSDT   2021-04-10 00:00:00+00:00\n",
       "ETHUSDT   2021-02-25 00:00:00+00:00\n",
       "Name: min, dtype: datetime64[ns, UTC]"
      ]
     },
     "execution_count": 136,
     "metadata": {},
     "output_type": "execute_result"
    }
   ],
   "source": [
    "ranges.start_idx.min(wrap_kwargs=dict(to_index=True))"
   ]
  },
  {
   "cell_type": "code",
   "execution_count": 137,
   "id": "35efd36c-c2f2-43c0-af21-9df040ec7cc8",
   "metadata": {},
   "outputs": [
    {
     "name": "stdout",
     "output_type": "stream",
     "text": [
      "symbol                    BTCUSDT                    ETHUSDT\n",
      "mean             10 days 21:00:00           21 days 12:00:00\n",
      "std    22 days 18:47:41.748587504 28 days 19:32:48.777556028\n",
      "min               1 days 00:00:00            1 days 00:00:00\n",
      "25%               1 days 00:00:00            1 days 00:00:00\n",
      "50%               1 days 00:00:00            2 days 00:00:00\n",
      "75%               2 days 06:00:00           32 days 18:00:00\n",
      "max              89 days 00:00:00           80 days 00:00:00\n"
     ]
    }
   ],
   "source": [
    "print(ranges.duration.describe(wrap_kwargs=dict(to_timedelta=True)))"
   ]
  },
  {
   "cell_type": "code",
   "execution_count": 138,
   "id": "8b944e41-0a8f-498e-82ce-30c46d4b2db6",
   "metadata": {},
   "outputs": [
    {
     "data": {
      "text/plain": [
       "symbol\n",
       "BTCUSDT   39 days 08:00:00\n",
       "ETHUSDT   39 days 20:00:00\n",
       "Name: avg_duration, dtype: timedelta64[ns]"
      ]
     },
     "execution_count": 138,
     "metadata": {},
     "output_type": "execute_result"
    }
   ],
   "source": [
    "ranges = entries.vbt.signals.between_ranges(other=exits)\n",
    "ranges.avg_duration"
   ]
  },
  {
   "cell_type": "code",
   "execution_count": 139,
   "id": "7b920e56-d16d-400a-9382-a23d63162fda",
   "metadata": {},
   "outputs": [
    {
     "data": {
      "text/plain": [
       "symbol\n",
       "BTCUSDT   43 days 00:00:00\n",
       "ETHUSDT   23 days 12:00:00\n",
       "Name: avg_duration, dtype: timedelta64[ns]"
      ]
     },
     "execution_count": 139,
     "metadata": {},
     "output_type": "execute_result"
    }
   ],
   "source": [
    "new_ranges = new_entries.vbt.signals.between_ranges(other=new_exits)\n",
    "new_ranges.avg_duration"
   ]
  },
  {
   "cell_type": "code",
   "execution_count": 140,
   "id": "8528ab4c-22b6-4af0-87f5-5c6063bf68c4",
   "metadata": {},
   "outputs": [
    {
     "data": {
      "text/plain": [
       "symbol\n",
       "BTCUSDT   37 days 14:10:54.545454545\n",
       "ETHUSDT   22 days 01:50:46.153846153\n",
       "Name: avg_duration, dtype: timedelta64[ns]"
      ]
     },
     "execution_count": 140,
     "metadata": {},
     "output_type": "execute_result"
    }
   ],
   "source": [
    "ranges = entries.vbt.signals.between_ranges(other=exits, from_other=True)\n",
    "ranges.avg_duration"
   ]
  },
  {
   "cell_type": "code",
   "execution_count": 141,
   "id": "a047b2b8-a27c-4ac0-b124-9f6cfbe513b4",
   "metadata": {},
   "outputs": [
    {
     "data": {
      "text/plain": [
       "symbol\n",
       "BTCUSDT   43 days 00:00:00\n",
       "ETHUSDT   23 days 12:00:00\n",
       "Name: avg_duration, dtype: timedelta64[ns]"
      ]
     },
     "execution_count": 141,
     "metadata": {},
     "output_type": "execute_result"
    }
   ],
   "source": [
    "new_ranges = new_entries.vbt.signals.between_ranges(other=new_exits, from_other=True)\n",
    "new_ranges.avg_duration"
   ]
  },
  {
   "cell_type": "code",
   "execution_count": 142,
   "id": "3ab9a53b-2f2e-4601-8e58-c04d86892ee5",
   "metadata": {},
   "outputs": [
    {
     "name": "stdout",
     "output_type": "stream",
     "text": [
      "symbol    BTCUSDT   ETHUSDT\n",
      "count   11.000000  8.000000\n",
      "mean     2.272727  1.625000\n",
      "std      1.190874  0.916125\n",
      "min      1.000000  1.000000\n",
      "25%      1.500000  1.000000\n",
      "50%      2.000000  1.000000\n",
      "75%      3.000000  2.250000\n",
      "max      5.000000  3.000000\n"
     ]
    }
   ],
   "source": [
    "ranges = entries.vbt.signals.partition_ranges()\n",
    "print(ranges.duration.describe())"
   ]
  },
  {
   "cell_type": "code",
   "execution_count": 143,
   "id": "c35fb94f-04e8-4e6f-a2a4-1f1542d02edb",
   "metadata": {},
   "outputs": [
    {
     "name": "stdout",
     "output_type": "stream",
     "text": [
      "symbol  BTCUSDT  ETHUSDT\n",
      "count       4.0      4.0\n",
      "mean        1.0      1.0\n",
      "std         0.0      0.0\n",
      "min         1.0      1.0\n",
      "25%         1.0      1.0\n",
      "50%         1.0      1.0\n",
      "75%         1.0      1.0\n",
      "max         1.0      1.0\n"
     ]
    }
   ],
   "source": [
    "new_ranges = new_entries.vbt.signals.partition_ranges()\n",
    "print(new_ranges.duration.describe())"
   ]
  },
  {
   "cell_type": "code",
   "execution_count": 144,
   "id": "5cdef2ce-f8ef-44c6-8eac-42172560d93c",
   "metadata": {},
   "outputs": [
    {
     "name": "stdout",
     "output_type": "stream",
     "text": [
      "symbol                    BTCUSDT                    ETHUSDT\n",
      "mean             24 days 16:48:00 36 days 03:25:42.857142857\n",
      "std    31 days 00:33:47.619615945 30 days 08:40:17.723113570\n",
      "min               2 days 00:00:00            2 days 00:00:00\n",
      "25%               2 days 00:00:00           14 days 12:00:00\n",
      "50%               6 days 12:00:00           29 days 00:00:00\n",
      "75%              40 days 06:00:00           56 days 12:00:00\n",
      "max              89 days 00:00:00           80 days 00:00:00\n"
     ]
    }
   ],
   "source": [
    "ranges = entries.vbt.signals.between_partition_ranges()\n",
    "print(ranges.duration.describe(wrap_kwargs=dict(to_timedelta=True)))"
   ]
  },
  {
   "cell_type": "markdown",
   "id": "541e5a28-aa4f-4056-b4de-6ea7ecdb9064",
   "metadata": {},
   "source": [
    "### Overview"
   ]
  },
  {
   "cell_type": "code",
   "execution_count": 145,
   "id": "fe7bcbc0-4300-4c7b-a4d6-17e903bb18bb",
   "metadata": {},
   "outputs": [
    {
     "data": {
      "text/plain": [
       "Start                         2021-01-01 00:00:00+00:00\n",
       "End                           2021-12-31 00:00:00+00:00\n",
       "Period                                365 days 00:00:00\n",
       "Total                                                25\n",
       "Rate [%]                                       6.849315\n",
       "First Index                   2021-04-10 00:00:00+00:00\n",
       "Last Index                    2021-12-27 00:00:00+00:00\n",
       "Norm Avg Index [-1, 1]                         0.159121\n",
       "Distance: Min                           1 days 00:00:00\n",
       "Distance: Median                        1 days 00:00:00\n",
       "Distance: Max                          89 days 00:00:00\n",
       "Total Partitions                                     11\n",
       "Partition Rate [%]                                 44.0\n",
       "Partition Length: Min                   1 days 00:00:00\n",
       "Partition Length: Median                2 days 00:00:00\n",
       "Partition Length: Max                   5 days 00:00:00\n",
       "Partition Distance: Min                 2 days 00:00:00\n",
       "Partition Distance: Median              6 days 12:00:00\n",
       "Partition Distance: Max                89 days 00:00:00\n",
       "Name: BTCUSDT, dtype: object"
      ]
     },
     "execution_count": 145,
     "metadata": {},
     "output_type": "execute_result"
    }
   ],
   "source": [
    "entries.vbt.signals.stats(column=\"BTCUSDT\")"
   ]
  },
  {
   "cell_type": "code",
   "execution_count": 146,
   "id": "a650256c-a112-4ef2-9480-b867ae5b1892",
   "metadata": {},
   "outputs": [
    {
     "data": {
      "text/plain": [
       "Start                         2021-01-01 00:00:00+00:00\n",
       "End                           2021-12-31 00:00:00+00:00\n",
       "Period                                365 days 00:00:00\n",
       "Total                                                25\n",
       "Rate [%]                                       6.849315\n",
       "Total Overlapping                                     1\n",
       "Overlapping Rate [%]                           1.923077\n",
       "First Index                   2021-04-10 00:00:00+00:00\n",
       "Last Index                    2021-12-27 00:00:00+00:00\n",
       "Norm Avg Index [-1, 1]                         0.159121\n",
       "Distance -> Other: Min                  0 days 00:00:00\n",
       "Distance -> Other: Median              49 days 00:00:00\n",
       "Distance -> Other: Max                 66 days 00:00:00\n",
       "Total Partitions                                     11\n",
       "Partition Rate [%]                                 44.0\n",
       "Partition Length: Min                   1 days 00:00:00\n",
       "Partition Length: Median                2 days 00:00:00\n",
       "Partition Length: Max                   5 days 00:00:00\n",
       "Partition Distance: Min                 2 days 00:00:00\n",
       "Partition Distance: Median              6 days 12:00:00\n",
       "Partition Distance: Max                89 days 00:00:00\n",
       "Name: BTCUSDT, dtype: object"
      ]
     },
     "execution_count": 146,
     "metadata": {},
     "output_type": "execute_result"
    }
   ],
   "source": [
    "entries.vbt.signals.stats(column=\"BTCUSDT\", settings=dict(other=exits))"
   ]
  },
  {
   "cell_type": "code",
   "execution_count": null,
   "id": "1cf7ad48-e516-4f88-897b-29cc5a0f7d64",
   "metadata": {},
   "outputs": [],
   "source": []
  }
 ],
 "metadata": {
  "kernelspec": {
   "display_name": "Python 3 (ipykernel)",
   "language": "python",
   "name": "python3"
  },
  "language_info": {
   "codemirror_mode": {
    "name": "ipython",
    "version": 3
   },
   "file_extension": ".py",
   "mimetype": "text/x-python",
   "name": "python",
   "nbconvert_exporter": "python",
   "pygments_lexer": "ipython3",
   "version": "3.9.12"
  }
 },
 "nbformat": 4,
 "nbformat_minor": 5
}
