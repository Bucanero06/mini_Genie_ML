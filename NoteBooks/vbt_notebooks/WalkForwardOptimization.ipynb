{
 "cells": [
  {
   "cell_type": "code",
   "execution_count": 1,
   "metadata": {},
   "outputs": [],
   "source": [
    "import numpy as np\n",
    "import pandas as pd\n",
    "import vectorbtpro as vbt"
   ]
  },
  {
   "cell_type": "code",
   "execution_count": 2,
   "metadata": {},
   "outputs": [],
   "source": [
    "split_kwargs = dict(\n",
    "    n=30, \n",
    "    window_len=365 * 2, \n",
    "    set_lens=(180,), \n",
    "    left_to_right=False\n",
    ")  # 30 windows, each 2 years long, reserve 180 days for test\n",
    "pf_kwargs = dict(\n",
    "    direction='both',  # long and short\n",
    "    freq='d'\n",
    ")\n",
    "windows = np.arange(10, 50)"
   ]
  },
  {
   "cell_type": "code",
   "execution_count": 3,
   "metadata": {},
   "outputs": [],
   "source": [
    "price = vbt.YFData.fetch('BTC-USD').get('Close')"
   ]
  },
  {
   "cell_type": "code",
   "execution_count": 4,
   "metadata": {},
   "outputs": [
    {
     "name": "stdout",
     "output_type": "stream",
     "text": [
      "Date\n",
      "2014-09-17 00:00:00+00:00      457.334015\n",
      "2014-09-18 00:00:00+00:00      424.440002\n",
      "2014-09-19 00:00:00+00:00      394.795990\n",
      "2014-09-20 00:00:00+00:00      408.903992\n",
      "2014-09-21 00:00:00+00:00      398.821014\n",
      "                                 ...     \n",
      "2021-12-05 00:00:00+00:00    49368.847656\n",
      "2021-12-06 00:00:00+00:00    50582.625000\n",
      "2021-12-07 00:00:00+00:00    50700.085938\n",
      "2021-12-08 00:00:00+00:00    50504.796875\n",
      "2021-12-09 00:00:00+00:00    48258.980469\n",
      "Name: Close, Length: 2637, dtype: float64\n"
     ]
    }
   ],
   "source": [
    "print(price)"
   ]
  },
  {
   "cell_type": "code",
   "execution_count": 5,
   "metadata": {},
   "outputs": [
    {
     "data": {
      "image/svg+xml": [
       "<svg class=\"main-svg\" xmlns=\"http://www.w3.org/2000/svg\" xmlns:xlink=\"http://www.w3.org/1999/xlink\" width=\"700\" height=\"350\" viewBox=\"0 0 700 350\"><rect x=\"0\" y=\"0\" width=\"700\" height=\"350\" style=\"fill: rgb(255, 255, 255); fill-opacity: 1;\"/><defs id=\"defs-bb3ac3\"><g class=\"clips\"><clipPath id=\"clipbb3ac3xyplot\" class=\"plotclip\"><rect width=\"635\" height=\"274\"/></clipPath><clipPath class=\"axesclip\" id=\"clipbb3ac3x\"><rect x=\"35\" y=\"0\" width=\"635\" height=\"350\"/></clipPath><clipPath class=\"axesclip\" id=\"clipbb3ac3y\"><rect x=\"0\" y=\"46\" width=\"700\" height=\"274\"/></clipPath><clipPath class=\"axesclip\" id=\"clipbb3ac3xy\"><rect x=\"35\" y=\"46\" width=\"635\" height=\"274\"/></clipPath></g><g class=\"gradients\"/><g class=\"patterns\"/></defs><g class=\"bglayer\"><rect class=\"bg\" x=\"35\" y=\"46\" width=\"635\" height=\"274\" style=\"fill: rgb(229, 236, 246); fill-opacity: 1; stroke-width: 0;\"/></g><g class=\"layer-below\"><g class=\"imagelayer\"/><g class=\"shapelayer\"/></g><g class=\"cartesianlayer\"><g class=\"subplot xy\"><g class=\"layer-subplot\"><g class=\"shapelayer\"/><g class=\"imagelayer\"/></g><g class=\"gridlayer\"><g class=\"x\"><path class=\"xgrid crisp\" transform=\"translate(60.5,0)\" d=\"M0,46v274\" style=\"stroke: rgb(255, 255, 255); stroke-opacity: 1; stroke-width: 1px;\"/><path class=\"xgrid crisp\" transform=\"translate(148.29000000000002,0)\" d=\"M0,46v274\" style=\"stroke: rgb(255, 255, 255); stroke-opacity: 1; stroke-width: 1px;\"/><path class=\"xgrid crisp\" transform=\"translate(236.32,0)\" d=\"M0,46v274\" style=\"stroke: rgb(255, 255, 255); stroke-opacity: 1; stroke-width: 1px;\"/><path class=\"xgrid crisp\" transform=\"translate(324.12,0)\" d=\"M0,46v274\" style=\"stroke: rgb(255, 255, 255); stroke-opacity: 1; stroke-width: 1px;\"/><path class=\"xgrid crisp\" transform=\"translate(411.91,0)\" d=\"M0,46v274\" style=\"stroke: rgb(255, 255, 255); stroke-opacity: 1; stroke-width: 1px;\"/><path class=\"xgrid crisp\" transform=\"translate(499.7,0)\" d=\"M0,46v274\" style=\"stroke: rgb(255, 255, 255); stroke-opacity: 1; stroke-width: 1px;\"/><path class=\"xgrid crisp\" transform=\"translate(587.74,0)\" d=\"M0,46v274\" style=\"stroke: rgb(255, 255, 255); stroke-opacity: 1; stroke-width: 1px;\"/></g><g class=\"y\"><path class=\"ygrid crisp\" transform=\"translate(0,270.36)\" d=\"M35,0h635\" style=\"stroke: rgb(255, 255, 255); stroke-opacity: 1; stroke-width: 1px;\"/><path class=\"ygrid crisp\" transform=\"translate(0,233.76)\" d=\"M35,0h635\" style=\"stroke: rgb(255, 255, 255); stroke-opacity: 1; stroke-width: 1px;\"/><path class=\"ygrid crisp\" transform=\"translate(0,197.17)\" d=\"M35,0h635\" style=\"stroke: rgb(255, 255, 255); stroke-opacity: 1; stroke-width: 1px;\"/><path class=\"ygrid crisp\" transform=\"translate(0,160.57999999999998)\" d=\"M35,0h635\" style=\"stroke: rgb(255, 255, 255); stroke-opacity: 1; stroke-width: 1px;\"/><path class=\"ygrid crisp\" transform=\"translate(0,123.98)\" d=\"M35,0h635\" style=\"stroke: rgb(255, 255, 255); stroke-opacity: 1; stroke-width: 1px;\"/><path class=\"ygrid crisp\" transform=\"translate(0,87.39)\" d=\"M35,0h635\" style=\"stroke: rgb(255, 255, 255); stroke-opacity: 1; stroke-width: 1px;\"/><path class=\"ygrid crisp\" transform=\"translate(0,50.8)\" d=\"M35,0h635\" style=\"stroke: rgb(255, 255, 255); stroke-opacity: 1; stroke-width: 1px;\"/></g></g><g class=\"zerolinelayer\"><path class=\"yzl zl crisp\" transform=\"translate(0,306.95)\" d=\"M35,0h635\" style=\"stroke: rgb(255, 255, 255); stroke-opacity: 1; stroke-width: 2px;\"/></g><path class=\"xlines-below\"/><path class=\"ylines-below\"/><g class=\"overlines-below\"/><g class=\"xaxislayer-below\"/><g class=\"yaxislayer-below\"/><g class=\"overaxes-below\"/><g class=\"plot\" transform=\"translate(35,46)\" clip-path=\"url(#clipbb3ac3xyplot)\"><g class=\"scatterlayer mlayer\"><g class=\"trace scatter trace8c650812-4c3b-4a61-8b3a-ee8bedebc58e\" style=\"stroke-miterlimit: 2; opacity: 1;\"><g class=\"fills\"/><g class=\"errorbars\"/><g class=\"lines\"><path class=\"js-line\" d=\"M0,259.28L1.92,259.45L2.16,259.47L12.51,259.69L12.75,259.62L21.89,259.78L22.13,259.81L28.14,259.97L28.38,260.13L29.59,260.18L29.83,260.17L41.37,259.95L41.61,259.89L53.64,260.13L53.88,260.13L58.45,260.1L58.69,260.1L107.52,259.43L107.76,259.42L125.08,259.41L125.32,259.35L152.02,258.84L152.26,258.73L153.7,258.21L153.94,258.18L158.27,258.47L158.51,258.61L160.43,258.52L160.67,258.53L163.56,258.55L163.8,258.55L193.63,258.22L193.87,258.18L196.27,258.14L196.51,258.1L201.08,257.43L201.32,257.3L202.29,257.24L202.53,257.65L215.76,256.37L216,256.29L218.64,256.41L218.88,256.38L220.09,257.09L220.33,256.85L221.53,257.41L221.77,257.12L227.78,256.48L228.02,256.44L229.23,256.13L229.47,256.13L231.15,255.26L231.39,255.17L234.52,253.68L234.76,253.32L235,253.48L235.24,253L235.48,252.46L235.72,252.01L235.96,252.52L236.2,252.89L236.44,253.49L236.92,252.7L237.16,252.99L239.33,250.68L239.57,250.62L240.05,250.13L240.29,251.22L240.53,251.01L240.77,251.78L241.01,251.93L242.94,250.91L243.18,251.41L245.1,251.78L245.34,251.57L246.54,251.54L246.78,251.74L248.47,253.89L248.71,252.8L249.19,252.63L249.43,250.64L249.67,251.19L250.15,250.96L250.39,250.87L250.87,251.7L251.11,251.17L251.35,250.67L252.56,251.03L252.8,250.69L254.96,246.74L255.2,246.05L255.92,244.94L256.16,245.1L256.41,245.73L256.89,245.99L257.13,246.31L259.77,243.05L260.01,244.2L260.25,244.18L260.49,245.45L261.22,244.12L261.46,245.48L262.42,245.84L262.66,246.74L262.9,249.41L263.38,247.69L263.62,247.84L263.86,246.08L264.34,246.66L264.58,247.66L265.3,247.47L265.55,246.58L265.79,246.71L266.03,245.58L266.51,245.72L266.75,245.07L266.99,244.84L268.43,244.75L268.67,244.08L270.12,239.61L270.6,240L270.84,240.44L271.32,240.06L271.56,238.95L272.28,239.25L272.52,240.73L273.72,238.43L273.96,238.52L275.41,233.85L275.65,235.25L276.13,233.65L276.37,234.81L277.09,239.18L277.33,236.95L277.57,236.67L278.77,231.54L279.02,230.94L279.74,231.53L279.98,230.75L281.9,220.43L282.14,219.52L282.62,217.34L282.86,208.65L283.1,195.45L283.59,205.41L283.83,204.39L284.31,197.22L284.55,200.91L284.79,200.34L285.27,189.6L285.75,191.01L285.99,195.9L286.71,210.34L287.19,209.99L287.43,209.62L287.67,202.04L288.16,207.5L288.4,207.32L288.64,213.55L289.12,210.98L289.36,206.13L289.84,203.87L290.08,197.17L290.32,196.81L290.56,200.65L291.52,211.9L291.76,209.79L292,208.4L292.97,220.01L293.21,218.96L293.45,218.48L293.69,213.75L293.93,218.5L294.17,220.95L294.41,221.18L294.65,219.38L295.13,220.07L295.37,219.09L295.61,217.82L295.85,219.61L296.09,223.97L296.33,223.55L296.57,227.39L297.3,230.66L297.54,235.5L298.5,228.98L298.74,229.4L298.98,231.2L300.42,220.29L300.66,222.34L301.14,219.22L301.38,221.83L301.63,224.34L301.87,223.26L302.11,225.04L302.35,225.58L303.55,220.38L303.79,218.91L304.27,218.6L304.51,221.5L305.47,228.51L305.71,225.9L307.16,231.98L307.4,230.86L308.12,228.28L308.36,229.01L308.6,228.46L310.77,235.91L311.01,235.03L311.25,233.67L311.49,235.87L311.73,236.03L311.97,236.67L312.21,235.66L312.45,235.25L312.69,236.18L313.17,235.45L313.41,232.08L313.89,231.73L314.13,230.47L314.61,232.04L314.85,231.08L315.09,230.6L316.3,225.47L316.54,228.58L317.5,226.48L317.74,227.14L317.98,227.58L318.22,227.15L318.46,225.3L319.18,225.62L319.42,226.65L320.15,227.86L320.39,230.06L321.11,229.05L321.35,229.81L321.83,231.33L322.31,230.77L322.55,229.8L323.03,231.52L323.27,233.29L323.75,233.58L323.99,234.03L324.23,233.99L324.48,234.84L325.44,233.35L325.68,232.98L326.16,233.45L326.64,232.94L326.88,232.85L327.36,233.39L327.6,236.12L327.84,235.68L328.08,236.86L328.32,237.72L328.56,236.52L328.8,237.32L329.05,236.98L329.29,237.17L329.53,236.31L330.25,236.33L330.49,238.69L331.21,238.08L331.45,238.65L331.69,238.42L331.93,239.35L332.17,238.2L332.41,237.52L332.65,237.58L332.89,236.75L333.13,237.06L333.62,236.66L333.86,236.53L334.1,235.86L334.58,236.28L334.82,237.79L335.06,237.55L335.54,238.12L335.78,237.99L336.26,236.28L336.5,234.16L337.95,232.73L338.19,230.12L338.67,231.85L339.15,230.97L339.39,230.88L339.63,231.02L339.87,232.48L342.27,238.32L342.52,237.91L342.76,237.81L343.72,237.77L343.96,236.87L344.68,237.87L344.92,237.21L345.16,237.62L345.4,237.04L345.64,236.36L346.36,235.76L346.6,234.98L347.33,235.2L347.57,234.63L348.29,234.01L348.53,236.09L349.25,238.17L349.49,237.89L349.73,237.79L350.21,237.71L350.45,237.1L351.17,237.1L351.41,237.97L352.86,236.4L353.1,236.82L353.34,237.36L353.58,237.18L353.82,236.52L355.98,236.84L356.23,236.79L356.95,236.85L357.19,238.06L357.91,237.93L358.15,236.81L361.28,237.22L361.52,237.78L365.13,237.68L365.37,239.95L366.09,240.63L366.33,240.37L366.57,243.13L367.77,246.75L368.01,246.28L368.25,247.12L368.49,246.97L368.73,245.37L368.97,245.29L369.21,246.25L369.45,245.53L369.7,245.8L369.94,246.7L370.18,246.47L370.42,247.21L370.66,248.07L370.9,248.44L371.14,248.23L371.38,247.73L372.82,249.11L373.06,249.05L374.02,245.82L374.27,246.69L374.51,246.26L374.99,246.03L375.23,246.99L375.47,246.84L375.71,247.58L375.95,246.59L376.43,246.8L376.67,247.26L377.63,246.83L377.87,246.88L378.84,246.19L379.08,247.49L382.68,247.78L382.92,247.77L385.81,248.51L386.05,247.53L388.22,247.51L388.46,246.62L389.66,245.79L389.9,247.01L390.86,246.85L391.1,246.83L394.47,246.46L394.71,246.14L397.12,246.37L397.36,246L398.56,245.74L398.8,243.09L400.72,241.47L400.96,242.42L403.61,241.19L403.85,240.56L404.81,241.67L405.05,241.61L405.77,241.18L406.02,240.81L406.5,239.61L406.98,239.92L407.22,239.62L407.94,237.61L408.18,234.59L408.42,235.44L408.66,232.35L409.14,230.93L409.38,232.1L409.62,234.08L409.86,234.34L410.1,230.95L410.83,232.85L411.07,232.11L411.31,231.72L411.55,231.48L411.79,229.21L412.03,228.73L412.51,229.26L412.75,230.51L413.47,228.96L413.71,230.91L413.95,232.75L414.43,232.33L414.67,231.52L415.16,232.82L415.4,231.68L415.64,231.94L415.88,231.14L416.12,230.83L417.08,226.85L417.32,227.72L418.04,223.83L418.28,221.79L418.76,220.66L419,217.8L419.24,213.32L419.48,220.03L419.73,215.55L419.97,217.19L420.45,222.22L420.69,221.42L420.93,217.18L421.41,220.78L421.65,219.94L421.89,219.05L422.37,214.94L422.61,216.47L422.85,219.39L423.09,217.71L423.33,219.26L423.57,223.42L423.81,221.08L424.05,226.27L424.3,225.48L424.54,221.92L425.02,221.55L427.18,226.12L427.42,225.79L428.87,217.75L429.11,218.95L429.35,217.25L429.83,217.54L430.07,219.4L430.31,218.78L430.55,219.3L430.79,221.08L431.03,224.17L431.51,222.99L431.75,223.51L431.99,223.09L432.23,221.01L432.95,223.88L433.2,222.87L434.64,226.15L434.88,225.83L435.36,225.24L435.6,223.09L435.84,222.08L436.32,222.25L436.56,223.07L436.8,222.47L437.28,223.13L437.52,223.93L438.73,223.09L438.97,223.35L440.41,224.1L440.65,225.35L441.37,231.24L441.61,230.76L441.85,230.78L442.09,231.3L442.34,230.6L442.58,230.42L442.82,230.24L443.06,230.73L443.3,230.92L443.78,231.72L444.02,230.78L444.26,230.84L444.5,229.5L444.74,229.53L444.98,230.5L445.94,230.93L446.18,231.5L447.39,230.78L447.63,231.39L448.11,233.53L448.35,229.26L448.83,226L449.31,226.45L449.55,227.26L450.51,227.16L450.75,226.51L451.48,227.04L451.72,228.73L451.96,228.7L452.2,227.81L453.4,229.88L453.64,229.66L453.88,229.56L454.12,230.55L454.84,232.98L455.08,234.25L455.32,233.88L455.56,235.16L456.77,232.55L457.01,233.25L457.25,233.78L457.97,234.41L458.21,233.7L458.93,233.27L459.17,233.87L460.38,234.88L460.62,234.78L461.1,236.65L461.34,234.32L462.06,234.64L462.3,233.46L463.26,234.46L463.5,234.27L464.22,234.26L464.46,234.63L464.7,234.6L464.95,235.39L466.15,231.08L466.39,231.38L466.63,232.12L467.83,228.65L468.07,228.72L468.31,229.03L468.79,228.23L469.03,229.09L469.27,229.27L469.52,228.95L469.76,229.19L470,230.19L470.72,229.49L470.96,228.35L471.68,226.15L471.92,226.73L472.16,226.58L472.88,227.36L473.12,225.77L475.29,223.22L475.53,224.76L475.77,224.6L476.01,225.49L476.25,223.84L476.49,225.7L476.73,225.79L477.45,224.63L477.69,225.64L478.9,229.48L479.14,229.62L480.34,227.57L480.58,228.35L481.78,242.76L482.26,241.92L482.5,241.22L482.74,242.6L483.23,241.78L483.47,238.3L483.95,238.32L484.19,239.62L484.67,236.31L485.15,236.37L485.39,237.28L485.87,239.28L486.11,237.42L486.35,237.39L488.28,234.11L488.52,234.23L489.48,235.9L489.72,235.91L489.96,236.65L490.2,234.91L490.68,234.39L490.92,234.64L491.16,235.77L491.4,235.77L491.64,234.91L492.85,232.42L493.09,232.38L494.05,228.06L494.29,228.39L494.77,228.01L495.01,227.03L495.25,224.54L495.73,225.84L495.97,228.91L496.21,229.47L496.45,228.73L496.7,227.03L496.94,225.33L497.66,225.56L497.9,225.36L498.14,225.35L498.38,226.1L499.34,228.78L499.58,228.36L499.82,228.62L500.06,227.36L500.78,225.45L501.02,226.33L501.27,223.75L501.75,225.61L501.99,225.09L502.47,225.63L502.71,225.24L502.95,225.19L503.43,224.83L503.67,226.84L504.63,226.37L504.87,226.05L506.08,226.91L506.32,225.64L506.56,225.71L506.8,226.87L508.24,227.51L508.48,227.18L509.44,227.75L509.68,226.64L510.65,227L510.89,227.14L511.85,227.31L512.09,227.53L513.29,226.65L513.53,226.09L514.49,224.71L514.73,220.73L514.98,221.02L515.22,220.33L515.46,220.29L515.94,217.92L516.18,220.5L517.62,217.94L517.86,218.23L518.1,217.49L518.34,219.2L519.79,216.11L520.03,217.07L520.75,218.53L520.99,218.2L521.23,218.27L521.47,217.86L521.71,219.36L523.39,217.15L523.63,219.18L524.36,223.74L524.6,223.33L524.84,223.01L525.08,223.88L525.56,223.03L525.8,222.89L526.04,222.74L526.28,223.17L526.52,221.87L527.72,220.35L527.96,220.92L528.69,223.53L528.93,221.63L529.89,221.72L530.13,221.25L531.09,222.29L531.33,221.85L531.57,221.42L531.81,222.08L532.05,221.87L532.29,220.98L533.02,219.29L533.74,219.13L534.94,217.98L535.18,217.35L536.14,212.98L536.38,213.27L536.62,213.1L536.86,210.99L537.1,212.39L537.59,211.38L537.83,210.52L538.31,211.37L538.55,209.9L538.79,209.23L539.03,203.94L539.27,203.99L539.51,206.67L540.71,201.39L540.95,201.24L541.43,202.56L541.67,199.78L542.88,192.73L543.12,193.73L543.36,193.75L543.6,191.03L543.84,192.4L544.08,198.19L544.32,198.35L544.56,196.12L545.04,189.13L545.52,190.69L545.76,189.79L546,192.52L546.48,190.16L546.73,190.72L547.69,194.87L547.93,192.14L548.65,189.9L548.89,182.97L549.61,173.6L549.85,175.04L550.09,177.51L551.78,161.84L552.02,160.82L554.42,111.66L554.66,113.65L554.9,120.59L555.38,136.82L555.63,124.4L555.87,117.55L556.59,129.98L556.83,126.91L557.07,128.96L557.31,130.87L557.55,148.15L557.79,140.17L558.27,142.79L558.51,142.51L558.75,141.77L558.99,149.59L559.47,135.38L559.95,139.77L560.2,138.23L561.4,117.26L561.64,118.59L562.6,85.63L562.84,87.11L563.08,88.58L563.32,82.68L563.56,85.5L563.8,80.91L564.04,70.12L564.28,71.84L564.52,56.44L564.77,55.66L565.01,50.39L566.21,91.38L566.45,91.93L566.69,95.78L566.93,79.33L567.17,83.92L567.41,76.01L567.65,83.25L567.89,81.91L568.13,81.96L568.37,73.57L569.34,49.42L569.58,51.15L569.82,36.84L570.3,56.37L570.54,53.08L570.78,45.52L572.7,71.75L572.94,59.18L574.63,43.64L574.87,50.16L575.35,44.84L575.59,48L575.83,55.85L576.79,40.64L577.03,41.78L577.27,28.57L577.75,29.26L577.99,35.63L578.23,38.89L578.48,55.24L578.72,57.04L578.96,54.3L579.2,63.69L580.16,81.63L580.4,63.27L580.64,59.57L580.88,60.33L581.12,64.97L581.6,49.34L581.84,53.72L582.08,51.63L582.32,65.78L582.56,50.82L582.8,54.58L583.05,51.06L583.29,45.77L583.53,47.86L583.77,56.54L584.01,53.45L584.25,81.09L584.73,78.42L584.97,89.84L585.21,90.95L585.45,101.63L585.69,103.93L585.93,125.55L586.17,111.71L586.65,123.59L586.89,133.71L587.62,117.16L587.86,120.3L588.1,130.32L588.34,134.28L588.58,130.39L588.82,124.34L589.06,126.71L589.3,123.45L589.54,117.47L590.74,138.46L590.98,124.29L591.7,130.85L591.95,117.88L592.43,113.09L592.67,120.63L592.91,121.7L593.15,129.99L593.39,130.62L593.63,130.32L593.87,145.04L594.59,134.11L594.83,145.18L595.07,143.17L595.31,134.16L595.55,134.94L595.79,129.7L596.27,138.1L596.52,136.91L596.76,134.09L597,131.82L597.24,137.46L597.48,135.67L597.72,137.06L597.96,140.64L598.68,135.65L598.92,139.62L600.84,151.88L601.09,143.45L601.33,142.71L601.57,138.06L602.29,124.32L602.53,116.75L603.25,106.4L603.49,108.63L603.73,114.67L604.21,121.34L604.45,115.5L604.69,111.4L605.66,91.28L605.9,94.14L606.14,94.11L606.38,98.37L606.62,86.06L607.58,97.4L607.82,97.01L608.06,90L609.02,79.64L609.26,86.38L609.74,89.17L609.98,81.43L610.23,82L610.47,82.27L610.71,88.76L611.19,82.2L611.43,80.44L612.39,68.35L612.63,89.65L613.35,96.71L613.59,95.54L613.83,92.39L614.07,96.42L614.31,88.62L614.55,84.66L615.04,87.98L615.28,84.28L615.52,88.01L615.76,104.17L616,112.04L616.24,101.5L616.48,96.66L617.68,110.79L617.92,108.85L619.61,58.36L619.85,64.06L620.09,63.46L620.33,59.8L620.57,60.52L620.81,50.59L621.05,55.88L621.53,51.19L621.77,35.56L622.01,38.12L622.25,35.7L622.49,33.98L622.97,19.46L623.21,33.3L623.45,38.86L624.18,30.27L624.42,40.06L624.66,46.94L624.9,39.11L625.14,33.24L625.86,37.71L626.1,29.58L626.34,30.52L626.58,36.08L626.82,37.27L627.06,35.8L627.3,29.22L627.54,13.7L628.02,23.11L628.27,23.28L628.51,26.18L628.75,25.03L628.99,21.38L629.95,52.58L630.19,48.27L630.43,42.5L631.39,55L631.63,51.36L631.87,64.92L632.35,51.46L632.59,49.42L633.56,64.82L633.8,80.91L634.04,80.29L634.28,75.85L634.52,75.42L634.76,76.14L635,84.35\" style=\"vector-effect: non-scaling-stroke; fill: none; stroke: rgb(31, 119, 180); stroke-opacity: 1; stroke-width: 2px; opacity: 1;\"/></g><g class=\"points\"/><g class=\"text\"/></g></g></g><g class=\"overplot\"/><path class=\"xlines-above crisp\" d=\"M0,0\" style=\"fill: none;\"/><path class=\"ylines-above crisp\" d=\"M0,0\" style=\"fill: none;\"/><g class=\"overlines-above\"/><g class=\"xaxislayer-above\"><g class=\"xtick\"><text text-anchor=\"middle\" x=\"0\" y=\"333\" transform=\"translate(60.5,0)\" style=\"font-family: 'Open Sans', verdana, arial, sans-serif; font-size: 12px; fill: rgb(42, 63, 95); fill-opacity: 1; white-space: pre; opacity: 1;\">2015</text></g><g class=\"xtick\"><text text-anchor=\"middle\" x=\"0\" y=\"333\" style=\"font-family: 'Open Sans', verdana, arial, sans-serif; font-size: 12px; fill: rgb(42, 63, 95); fill-opacity: 1; white-space: pre; opacity: 1;\" transform=\"translate(148.29000000000002,0)\">2016</text></g><g class=\"xtick\"><text text-anchor=\"middle\" x=\"0\" y=\"333\" style=\"font-family: 'Open Sans', verdana, arial, sans-serif; font-size: 12px; fill: rgb(42, 63, 95); fill-opacity: 1; white-space: pre; opacity: 1;\" transform=\"translate(236.32,0)\">2017</text></g><g class=\"xtick\"><text text-anchor=\"middle\" x=\"0\" y=\"333\" style=\"font-family: 'Open Sans', verdana, arial, sans-serif; font-size: 12px; fill: rgb(42, 63, 95); fill-opacity: 1; white-space: pre; opacity: 1;\" transform=\"translate(324.12,0)\">2018</text></g><g class=\"xtick\"><text text-anchor=\"middle\" x=\"0\" y=\"333\" style=\"font-family: 'Open Sans', verdana, arial, sans-serif; font-size: 12px; fill: rgb(42, 63, 95); fill-opacity: 1; white-space: pre; opacity: 1;\" transform=\"translate(411.91,0)\">2019</text></g><g class=\"xtick\"><text text-anchor=\"middle\" x=\"0\" y=\"333\" style=\"font-family: 'Open Sans', verdana, arial, sans-serif; font-size: 12px; fill: rgb(42, 63, 95); fill-opacity: 1; white-space: pre; opacity: 1;\" transform=\"translate(499.7,0)\">2020</text></g><g class=\"xtick\"><text text-anchor=\"middle\" x=\"0\" y=\"333\" style=\"font-family: 'Open Sans', verdana, arial, sans-serif; font-size: 12px; fill: rgb(42, 63, 95); fill-opacity: 1; white-space: pre; opacity: 1;\" transform=\"translate(587.74,0)\">2021</text></g></g><g class=\"yaxislayer-above\"><g class=\"ytick\"><text text-anchor=\"end\" x=\"34\" y=\"4.199999999999999\" transform=\"translate(0,306.95)\" style=\"font-family: 'Open Sans', verdana, arial, sans-serif; font-size: 12px; fill: rgb(42, 63, 95); fill-opacity: 1; white-space: pre; opacity: 1;\">0</text></g><g class=\"ytick\"><text text-anchor=\"end\" x=\"34\" y=\"4.199999999999999\" style=\"font-family: 'Open Sans', verdana, arial, sans-serif; font-size: 12px; fill: rgb(42, 63, 95); fill-opacity: 1; white-space: pre; opacity: 1;\" transform=\"translate(0,270.36)\">10k</text></g><g class=\"ytick\"><text text-anchor=\"end\" x=\"34\" y=\"4.199999999999999\" style=\"font-family: 'Open Sans', verdana, arial, sans-serif; font-size: 12px; fill: rgb(42, 63, 95); fill-opacity: 1; white-space: pre; opacity: 1;\" transform=\"translate(0,233.76)\">20k</text></g><g class=\"ytick\"><text text-anchor=\"end\" x=\"34\" y=\"4.199999999999999\" style=\"font-family: 'Open Sans', verdana, arial, sans-serif; font-size: 12px; fill: rgb(42, 63, 95); fill-opacity: 1; white-space: pre; opacity: 1;\" transform=\"translate(0,197.17)\">30k</text></g><g class=\"ytick\"><text text-anchor=\"end\" x=\"34\" y=\"4.199999999999999\" style=\"font-family: 'Open Sans', verdana, arial, sans-serif; font-size: 12px; fill: rgb(42, 63, 95); fill-opacity: 1; white-space: pre; opacity: 1;\" transform=\"translate(0,160.57999999999998)\">40k</text></g><g class=\"ytick\"><text text-anchor=\"end\" x=\"34\" y=\"4.199999999999999\" style=\"font-family: 'Open Sans', verdana, arial, sans-serif; font-size: 12px; fill: rgb(42, 63, 95); fill-opacity: 1; white-space: pre; opacity: 1;\" transform=\"translate(0,123.98)\">50k</text></g><g class=\"ytick\"><text text-anchor=\"end\" x=\"34\" y=\"4.199999999999999\" style=\"font-family: 'Open Sans', verdana, arial, sans-serif; font-size: 12px; fill: rgb(42, 63, 95); fill-opacity: 1; white-space: pre; opacity: 1;\" transform=\"translate(0,87.39)\">60k</text></g><g class=\"ytick\"><text text-anchor=\"end\" x=\"34\" y=\"4.199999999999999\" style=\"font-family: 'Open Sans', verdana, arial, sans-serif; font-size: 12px; fill: rgb(42, 63, 95); fill-opacity: 1; white-space: pre; opacity: 1;\" transform=\"translate(0,50.8)\">70k</text></g></g><g class=\"overaxes-above\"/></g></g><g class=\"polarlayer\"/><g class=\"ternarylayer\"/><g class=\"geolayer\"/><g class=\"funnelarealayer\"/><g class=\"pielayer\"/><g class=\"iciclelayer\"/><g class=\"treemaplayer\"/><g class=\"sunburstlayer\"/><g class=\"glimages\"/><defs id=\"topdefs-bb3ac3\"><g class=\"clips\"/><clipPath id=\"legendbb3ac3\"><rect width=\"78\" height=\"29\" x=\"0\" y=\"0\"/></clipPath></defs><g class=\"layer-above\"><g class=\"imagelayer\"/><g class=\"shapelayer\"/></g><g class=\"infolayer\"><g class=\"legend\" pointer-events=\"all\" transform=\"translate(592,11.519999999999996)\"><rect class=\"bg\" shape-rendering=\"crispEdges\" style=\"stroke: rgb(68, 68, 68); stroke-opacity: 1; fill: rgb(255, 255, 255); fill-opacity: 1; stroke-width: 0px;\" width=\"78\" height=\"29\" x=\"0\" y=\"0\"/><g class=\"scrollbox\" transform=\"\" clip-path=\"url(#legendbb3ac3)\"><g class=\"groups\"><g class=\"traces\" transform=\"translate(0,14.5)\" style=\"opacity: 1;\"><text class=\"legendtext\" text-anchor=\"start\" x=\"40\" y=\"4.680000000000001\" style=\"font-family: 'Open Sans', verdana, arial, sans-serif; font-size: 12px; fill: rgb(42, 63, 95); fill-opacity: 1; white-space: pre;\">Close</text><g class=\"layers\" style=\"opacity: 1;\"><g class=\"legendfill\"/><g class=\"legendlines\"><path class=\"js-line\" d=\"M5,0h30\" style=\"fill: none; stroke: rgb(31, 119, 180); stroke-opacity: 1; stroke-width: 2px;\"/></g><g class=\"legendsymbols\"><g class=\"legendpoints\"/></g></g><rect class=\"legendtoggle\" x=\"0\" y=\"-9.5\" width=\"74.84375\" height=\"19\" style=\"fill: rgb(0, 0, 0); fill-opacity: 0;\"/></g></g></g><rect class=\"scrollbar\" rx=\"20\" ry=\"3\" width=\"0\" height=\"0\" style=\"fill: rgb(128, 139, 164); fill-opacity: 1;\" x=\"0\" y=\"0\"/></g><g class=\"g-gtitle\"/><g class=\"g-xtitle\"/><g class=\"g-ytitle\"/></g></svg>"
      ]
     },
     "metadata": {},
     "output_type": "display_data"
    }
   ],
   "source": [
    "price.vbt.plot().show_svg()"
   ]
  },
  {
   "cell_type": "code",
   "execution_count": 6,
   "metadata": {},
   "outputs": [],
   "source": [
    "def roll_in_and_out_samples(price, **kwargs):\n",
    "    return price.vbt.rolling_split(**kwargs)"
   ]
  },
  {
   "cell_type": "code",
   "execution_count": 7,
   "metadata": {},
   "outputs": [
    {
     "data": {
      "image/svg+xml": [
       "<svg class=\"main-svg\" xmlns=\"http://www.w3.org/2000/svg\" xmlns:xlink=\"http://www.w3.org/1999/xlink\" width=\"700\" height=\"216\" viewBox=\"0 0 700 216\"><rect x=\"0\" y=\"0\" width=\"700\" height=\"216\" style=\"fill: rgb(255, 255, 255); fill-opacity: 1;\"/><defs id=\"defs-a53400\"><g class=\"clips\"><clipPath id=\"clipa53400xyplot\" class=\"plotclip\"><rect width=\"640\" height=\"142\"/></clipPath><clipPath class=\"axesclip\" id=\"clipa53400x\"><rect x=\"30\" y=\"0\" width=\"640\" height=\"216\"/></clipPath><clipPath class=\"axesclip\" id=\"clipa53400y\"><rect x=\"0\" y=\"44\" width=\"700\" height=\"142\"/></clipPath><clipPath class=\"axesclip\" id=\"clipa53400xy\"><rect x=\"30\" y=\"44\" width=\"640\" height=\"142\"/></clipPath></g><g class=\"gradients\"><linearGradient x1=\"1\" x2=\"0\" y1=\"0\" y2=\"0\" id=\"ga53400-legendfill-3b65f6fe-0e5f-4829-8ed1-0e2a212ce700\"><stop offset=\"0%\" stop-color=\"rgb(31, 119, 180)\" stop-opacity=\"1\"/><stop offset=\"100%\" stop-color=\"rgb(31, 119, 180)\" stop-opacity=\"1\"/></linearGradient><linearGradient x1=\"1\" x2=\"0\" y1=\"0\" y2=\"0\" id=\"ga53400-legendfill-b10f3154-a8e7-49b0-877a-59c92b4286c5\"><stop offset=\"0%\" stop-color=\"rgb(255, 127, 14)\" stop-opacity=\"1\"/><stop offset=\"100%\" stop-color=\"rgb(255, 127, 14)\" stop-opacity=\"1\"/></linearGradient></g><g class=\"patterns\"/></defs><g class=\"bglayer\"><rect class=\"bg\" x=\"30\" y=\"44\" width=\"640\" height=\"142\" style=\"fill: rgb(229, 236, 246); fill-opacity: 1; stroke-width: 0;\"/></g><g class=\"layer-below\"><g class=\"imagelayer\"/><g class=\"shapelayer\"/></g><g class=\"cartesianlayer\"><g class=\"subplot xy\"><g class=\"layer-subplot\"><g class=\"shapelayer\"/><g class=\"imagelayer\"/></g><g class=\"gridlayer\"><g class=\"x\"><path class=\"xgrid crisp\" transform=\"translate(55.81,0)\" d=\"M0,44v142\" style=\"stroke: rgb(255, 255, 255); stroke-opacity: 1; stroke-width: 1px;\"/><path class=\"xgrid crisp\" transform=\"translate(144.26,0)\" d=\"M0,44v142\" style=\"stroke: rgb(255, 255, 255); stroke-opacity: 1; stroke-width: 1px;\"/><path class=\"xgrid crisp\" transform=\"translate(232.95,0)\" d=\"M0,44v142\" style=\"stroke: rgb(255, 255, 255); stroke-opacity: 1; stroke-width: 1px;\"/><path class=\"xgrid crisp\" transform=\"translate(321.4,0)\" d=\"M0,44v142\" style=\"stroke: rgb(255, 255, 255); stroke-opacity: 1; stroke-width: 1px;\"/><path class=\"xgrid crisp\" transform=\"translate(409.86,0)\" d=\"M0,44v142\" style=\"stroke: rgb(255, 255, 255); stroke-opacity: 1; stroke-width: 1px;\"/><path class=\"xgrid crisp\" transform=\"translate(498.31,0)\" d=\"M0,44v142\" style=\"stroke: rgb(255, 255, 255); stroke-opacity: 1; stroke-width: 1px;\"/><path class=\"xgrid crisp\" transform=\"translate(587,0)\" d=\"M0,44v142\" style=\"stroke: rgb(255, 255, 255); stroke-opacity: 1; stroke-width: 1px;\"/></g><g class=\"y\"><path class=\"ygrid crisp\" transform=\"translate(0,183.63)\" d=\"M30,0h640\" style=\"stroke: rgb(255, 255, 255); stroke-opacity: 1; stroke-width: 1px;\"/><path class=\"ygrid crisp\" transform=\"translate(0,169.43)\" d=\"M30,0h640\" style=\"stroke: rgb(255, 255, 255); stroke-opacity: 1; stroke-width: 1px;\"/><path class=\"ygrid crisp\" transform=\"translate(0,155.23000000000002)\" d=\"M30,0h640\" style=\"stroke: rgb(255, 255, 255); stroke-opacity: 1; stroke-width: 1px;\"/><path class=\"ygrid crisp\" transform=\"translate(0,141.03)\" d=\"M30,0h640\" style=\"stroke: rgb(255, 255, 255); stroke-opacity: 1; stroke-width: 1px;\"/><path class=\"ygrid crisp\" transform=\"translate(0,126.83)\" d=\"M30,0h640\" style=\"stroke: rgb(255, 255, 255); stroke-opacity: 1; stroke-width: 1px;\"/><path class=\"ygrid crisp\" transform=\"translate(0,112.63)\" d=\"M30,0h640\" style=\"stroke: rgb(255, 255, 255); stroke-opacity: 1; stroke-width: 1px;\"/><path class=\"ygrid crisp\" transform=\"translate(0,98.43)\" d=\"M30,0h640\" style=\"stroke: rgb(255, 255, 255); stroke-opacity: 1; stroke-width: 1px;\"/><path class=\"ygrid crisp\" transform=\"translate(0,84.22999999999999)\" d=\"M30,0h640\" style=\"stroke: rgb(255, 255, 255); stroke-opacity: 1; stroke-width: 1px;\"/><path class=\"ygrid crisp\" transform=\"translate(0,70.03)\" d=\"M30,0h640\" style=\"stroke: rgb(255, 255, 255); stroke-opacity: 1; stroke-width: 1px;\"/><path class=\"ygrid crisp\" transform=\"translate(0,55.83)\" d=\"M30,0h640\" style=\"stroke: rgb(255, 255, 255); stroke-opacity: 1; stroke-width: 1px;\"/></g></g><g class=\"zerolinelayer\"/><path class=\"xlines-below\"/><path class=\"ylines-below\"/><g class=\"overlines-below\"/><g class=\"xaxislayer-below\"/><g class=\"yaxislayer-below\"/><g class=\"overaxes-below\"/><g class=\"plot\" transform=\"translate(30,44)\" clip-path=\"url(#clipa53400xyplot)\"><g class=\"heatmaplayer mlayer\"><g class=\"hm\"><image xmlns=\"http://www.w3.org/2000/svg\" preserveAspectRatio=\"none\" height=\"142\" width=\"640\" x=\"0\" y=\"0\" xlink:href=\"data:image/png;base64,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\" style=\"opacity: 1;\"/></g><g class=\"hm\"><image xmlns=\"http://www.w3.org/2000/svg\" preserveAspectRatio=\"none\" height=\"142\" width=\"640\" x=\"0\" y=\"0\" xlink:href=\"data:image/png;base64,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\" style=\"opacity: 1;\"/></g></g></g><g class=\"overplot\"/><path class=\"xlines-above crisp\" d=\"M0,0\" style=\"fill: none;\"/><path class=\"ylines-above crisp\" d=\"M0,0\" style=\"fill: none;\"/><g class=\"overlines-above\"/><g class=\"xaxislayer-above\"><g class=\"xtick\"><text text-anchor=\"middle\" x=\"0\" y=\"199\" transform=\"translate(55.81,0)\" style=\"font-family: 'Open Sans', verdana, arial, sans-serif; font-size: 12px; fill: rgb(42, 63, 95); fill-opacity: 1; white-space: pre; opacity: 1;\">2015</text></g><g class=\"xtick\"><text text-anchor=\"middle\" x=\"0\" y=\"199\" style=\"font-family: 'Open Sans', verdana, arial, sans-serif; font-size: 12px; fill: rgb(42, 63, 95); fill-opacity: 1; white-space: pre; opacity: 1;\" transform=\"translate(144.26,0)\">2016</text></g><g class=\"xtick\"><text text-anchor=\"middle\" x=\"0\" y=\"199\" style=\"font-family: 'Open Sans', verdana, arial, sans-serif; font-size: 12px; fill: rgb(42, 63, 95); fill-opacity: 1; white-space: pre; opacity: 1;\" transform=\"translate(232.95,0)\">2017</text></g><g class=\"xtick\"><text text-anchor=\"middle\" x=\"0\" y=\"199\" style=\"font-family: 'Open Sans', verdana, arial, sans-serif; font-size: 12px; fill: rgb(42, 63, 95); fill-opacity: 1; white-space: pre; opacity: 1;\" transform=\"translate(321.4,0)\">2018</text></g><g class=\"xtick\"><text text-anchor=\"middle\" x=\"0\" y=\"199\" style=\"font-family: 'Open Sans', verdana, arial, sans-serif; font-size: 12px; fill: rgb(42, 63, 95); fill-opacity: 1; white-space: pre; opacity: 1;\" transform=\"translate(409.86,0)\">2019</text></g><g class=\"xtick\"><text text-anchor=\"middle\" x=\"0\" y=\"199\" style=\"font-family: 'Open Sans', verdana, arial, sans-serif; font-size: 12px; fill: rgb(42, 63, 95); fill-opacity: 1; white-space: pre; opacity: 1;\" transform=\"translate(498.31,0)\">2020</text></g><g class=\"xtick\"><text text-anchor=\"middle\" x=\"0\" y=\"199\" style=\"font-family: 'Open Sans', verdana, arial, sans-serif; font-size: 12px; fill: rgb(42, 63, 95); fill-opacity: 1; white-space: pre; opacity: 1;\" transform=\"translate(587,0)\">2021</text></g></g><g class=\"yaxislayer-above\"><g class=\"ytick\"><text text-anchor=\"end\" x=\"29\" y=\"4.199999999999999\" transform=\"translate(0,183.63)\" style=\"font-family: 'Open Sans', verdana, arial, sans-serif; font-size: 12px; fill: rgb(42, 63, 95); fill-opacity: 1; white-space: pre; opacity: 1;\">29</text></g><g class=\"ytick\"><text text-anchor=\"end\" x=\"29\" y=\"4.199999999999999\" transform=\"translate(0,169.43)\" style=\"font-family: 'Open Sans', verdana, arial, sans-serif; font-size: 12px; fill: rgb(42, 63, 95); fill-opacity: 1; white-space: pre; opacity: 1;\">26</text></g><g class=\"ytick\"><text text-anchor=\"end\" x=\"29\" y=\"4.199999999999999\" transform=\"translate(0,155.23000000000002)\" style=\"font-family: 'Open Sans', verdana, arial, sans-serif; font-size: 12px; fill: rgb(42, 63, 95); fill-opacity: 1; white-space: pre; opacity: 1;\">23</text></g><g class=\"ytick\"><text text-anchor=\"end\" x=\"29\" y=\"4.199999999999999\" transform=\"translate(0,141.03)\" style=\"font-family: 'Open Sans', verdana, arial, sans-serif; font-size: 12px; fill: rgb(42, 63, 95); fill-opacity: 1; white-space: pre; opacity: 1;\">20</text></g><g class=\"ytick\"><text text-anchor=\"end\" x=\"29\" y=\"4.199999999999999\" transform=\"translate(0,126.83)\" style=\"font-family: 'Open Sans', verdana, arial, sans-serif; font-size: 12px; fill: rgb(42, 63, 95); fill-opacity: 1; white-space: pre; opacity: 1;\">17</text></g><g class=\"ytick\"><text text-anchor=\"end\" x=\"29\" y=\"4.199999999999999\" transform=\"translate(0,112.63)\" style=\"font-family: 'Open Sans', verdana, arial, sans-serif; font-size: 12px; fill: rgb(42, 63, 95); fill-opacity: 1; white-space: pre; opacity: 1;\">14</text></g><g class=\"ytick\"><text text-anchor=\"end\" x=\"29\" y=\"4.199999999999999\" transform=\"translate(0,98.43)\" style=\"font-family: 'Open Sans', verdana, arial, sans-serif; font-size: 12px; fill: rgb(42, 63, 95); fill-opacity: 1; white-space: pre; opacity: 1;\">11</text></g><g class=\"ytick\"><text text-anchor=\"end\" x=\"29\" y=\"4.199999999999999\" transform=\"translate(0,84.22999999999999)\" style=\"font-family: 'Open Sans', verdana, arial, sans-serif; font-size: 12px; fill: rgb(42, 63, 95); fill-opacity: 1; white-space: pre; opacity: 1;\">8</text></g><g class=\"ytick\"><text text-anchor=\"end\" x=\"29\" y=\"4.199999999999999\" transform=\"translate(0,70.03)\" style=\"font-family: 'Open Sans', verdana, arial, sans-serif; font-size: 12px; fill: rgb(42, 63, 95); fill-opacity: 1; white-space: pre; opacity: 1;\">5</text></g><g class=\"ytick\"><text text-anchor=\"end\" x=\"29\" y=\"4.199999999999999\" transform=\"translate(0,55.83)\" style=\"font-family: 'Open Sans', verdana, arial, sans-serif; font-size: 12px; fill: rgb(42, 63, 95); fill-opacity: 1; white-space: pre; opacity: 1;\">2</text></g></g><g class=\"overaxes-above\"/></g></g><g class=\"polarlayer\"/><g class=\"ternarylayer\"/><g class=\"geolayer\"/><g class=\"funnelarealayer\"/><g class=\"pielayer\"/><g class=\"iciclelayer\"/><g class=\"treemaplayer\"/><g class=\"sunburstlayer\"/><g class=\"glimages\"/><defs id=\"topdefs-a53400\"><g class=\"clips\"/><clipPath id=\"legenda53400\"><rect width=\"218\" height=\"29\" x=\"0\" y=\"0\"/></clipPath></defs><g class=\"layer-above\"><g class=\"imagelayer\"/><g class=\"shapelayer\"/></g><g class=\"infolayer\"><g class=\"legend\" pointer-events=\"all\" transform=\"translate(452,12.159999999999997)\"><rect class=\"bg\" shape-rendering=\"crispEdges\" style=\"stroke: rgb(68, 68, 68); stroke-opacity: 1; fill: rgb(255, 255, 255); fill-opacity: 1; stroke-width: 0px;\" width=\"218\" height=\"29\" x=\"0\" y=\"0\"/><g class=\"scrollbox\" transform=\"\" clip-path=\"url(#legenda53400)\"><g class=\"groups\"><g class=\"traces\" transform=\"translate(0,14.5)\" style=\"opacity: 1;\"><text class=\"legendtext\" text-anchor=\"start\" x=\"40\" y=\"4.680000000000001\" style=\"font-family: 'Open Sans', verdana, arial, sans-serif; font-size: 12px; fill: rgb(42, 63, 95); fill-opacity: 1; white-space: pre;\">in-sample</text><g class=\"layers\" style=\"opacity: 1;\"><g class=\"legendfill\"/><g class=\"legendlines\"/><g class=\"legendsymbols\"><g class=\"legendpoints\"><path class=\"legend3dandfriends\" transform=\"translate(20,0)\" d=\"M-15,-2V4H15V-2Z\" style=\"stroke-miterlimit: 1; fill: url('#ga53400-legendfill-3b65f6fe-0e5f-4829-8ed1-0e2a212ce700');\"/></g></g></g><rect class=\"legendtoggle\" x=\"0\" y=\"-9.5\" width=\"101.875\" height=\"19\" style=\"fill: rgb(0, 0, 0); fill-opacity: 0;\"/></g><g class=\"traces\" transform=\"translate(104.375,14.5)\" style=\"opacity: 1;\"><text class=\"legendtext\" text-anchor=\"start\" x=\"40\" y=\"4.680000000000001\" style=\"font-family: 'Open Sans', verdana, arial, sans-serif; font-size: 12px; fill: rgb(42, 63, 95); fill-opacity: 1; white-space: pre;\">out-sample</text><g class=\"layers\" style=\"opacity: 1;\"><g class=\"legendfill\"/><g class=\"legendlines\"/><g class=\"legendsymbols\"><g class=\"legendpoints\"><path class=\"legend3dandfriends\" transform=\"translate(20,0)\" d=\"M-15,-2V4H15V-2Z\" style=\"stroke-miterlimit: 1; fill: url('#ga53400-legendfill-b10f3154-a8e7-49b0-877a-59c92b4286c5');\"/></g></g></g><rect class=\"legendtoggle\" x=\"0\" y=\"-9.5\" width=\"110.59375\" height=\"19\" style=\"fill: rgb(0, 0, 0); fill-opacity: 0;\"/></g></g></g><rect class=\"scrollbar\" rx=\"20\" ry=\"3\" width=\"0\" height=\"0\" style=\"fill: rgb(128, 139, 164); fill-opacity: 1;\" x=\"0\" y=\"0\"/></g><g class=\"g-gtitle\"/><g class=\"g-xtitle\"/><g class=\"g-ytitle\"/></g></svg>"
      ]
     },
     "metadata": {},
     "output_type": "display_data"
    }
   ],
   "source": [
    "roll_in_and_out_samples(price, **split_kwargs, plot=True, trace_names=['in-sample', 'out-sample']).show_svg()"
   ]
  },
  {
   "cell_type": "code",
   "execution_count": 8,
   "metadata": {},
   "outputs": [
    {
     "name": "stdout",
     "output_type": "stream",
     "text": [
      "(550, 30) 30\n",
      "(180, 30) 30\n"
     ]
    }
   ],
   "source": [
    "(in_price, in_indexes), (out_price, out_indexes) = roll_in_and_out_samples(price, **split_kwargs)\n",
    "\n",
    "print(in_price.shape, len(in_indexes))  # in-sample\n",
    "print(out_price.shape, len(out_indexes))  # out-sample"
   ]
  },
  {
   "cell_type": "code",
   "execution_count": 11,
   "metadata": {},
   "outputs": [],
   "source": [
    "def simulate_holding(price, **kwargs):\n",
    "    pf = vbt.Portfolio.from_holding(price, **kwargs)\n",
    "    return pf.sharpe_ratio"
   ]
  },
  {
   "cell_type": "code",
   "execution_count": 12,
   "metadata": {},
   "outputs": [
    {
     "name": "stdout",
     "output_type": "stream",
     "text": [
      "split_idx\n",
      "0     0.229171\n",
      "1     0.567356\n",
      "2     1.343788\n",
      "3     1.362551\n",
      "4     1.812064\n",
      "5     1.835919\n",
      "6     2.002450\n",
      "7     2.368802\n",
      "8     2.746147\n",
      "9     2.868753\n",
      "10    3.062637\n",
      "11    2.425139\n",
      "12    2.190841\n",
      "13    1.963913\n",
      "14    1.825288\n",
      "15    0.897729\n",
      "16    0.575476\n",
      "17    0.466068\n",
      "18   -0.119204\n",
      "19    0.328454\n",
      "20    0.231318\n",
      "21    0.490719\n",
      "22    0.553348\n",
      "23    0.656786\n",
      "24    1.211913\n",
      "25    1.279815\n",
      "26    1.079108\n",
      "27    1.538247\n",
      "28    2.098022\n",
      "29    1.721961\n",
      "Name: sharpe_ratio, dtype: float64\n"
     ]
    }
   ],
   "source": [
    "in_hold_sharpe = simulate_holding(in_price, **pf_kwargs)\n",
    "\n",
    "print(in_hold_sharpe)"
   ]
  },
  {
   "cell_type": "code",
   "execution_count": 14,
   "metadata": {},
   "outputs": [],
   "source": [
    "def simulate_all_params(price, windows, **kwargs):\n",
    "    fast_ma, slow_ma = vbt.MA.run_combs(price, windows, r=2, short_names=['fast', 'slow'])\n",
    "    entries = fast_ma.ma_crossed_above(slow_ma)\n",
    "    exits = fast_ma.ma_crossed_below(slow_ma)\n",
    "    pf = vbt.Portfolio.from_signals(price, entries, exits, **kwargs)\n",
    "    return pf.sharpe_ratio"
   ]
  },
  {
   "cell_type": "code",
   "execution_count": 15,
   "metadata": {},
   "outputs": [
    {
     "name": "stdout",
     "output_type": "stream",
     "text": [
      "fast_window  slow_window  split_idx\n",
      "10           11           0            0.229036\n",
      "                          1            0.321070\n",
      "                          2            0.207363\n",
      "                          3            0.243022\n",
      "                          4            0.409689\n",
      "                                         ...   \n",
      "48           49           25          -1.167717\n",
      "                          26          -1.159245\n",
      "                          27          -0.774842\n",
      "                          28          -0.528603\n",
      "                          29          -0.471015\n",
      "Name: sharpe_ratio, Length: 23400, dtype: float64\n"
     ]
    }
   ],
   "source": [
    "# Simulate all params for in-sample ranges\n",
    "in_sharpe = simulate_all_params(in_price, windows, **pf_kwargs)\n",
    "\n",
    "print(in_sharpe)"
   ]
  },
  {
   "cell_type": "code",
   "execution_count": 16,
   "metadata": {},
   "outputs": [],
   "source": [
    "def get_best_index(performance, higher_better=True):\n",
    "    if higher_better:\n",
    "        return performance[performance.groupby('split_idx').idxmax()].index\n",
    "    return performance[performance.groupby('split_idx').idxmin()].index"
   ]
  },
  {
   "cell_type": "code",
   "execution_count": 17,
   "metadata": {},
   "outputs": [
    {
     "name": "stdout",
     "output_type": "stream",
     "text": [
      "MultiIndex([(26, 29,  0),\n",
      "            (27, 28,  1),\n",
      "            (21, 26,  2),\n",
      "            (23, 28,  3),\n",
      "            (20, 41,  4),\n",
      "            (36, 47,  5),\n",
      "            (32, 47,  6),\n",
      "            (37, 43,  7),\n",
      "            (16, 19,  8),\n",
      "            (10, 21,  9),\n",
      "            (10, 21, 10),\n",
      "            (10, 21, 11),\n",
      "            (10, 21, 12),\n",
      "            (10, 22, 13),\n",
      "            (10, 22, 14),\n",
      "            (10, 23, 15),\n",
      "            (17, 23, 16),\n",
      "            (18, 20, 17),\n",
      "            (18, 19, 18),\n",
      "            (18, 19, 19),\n",
      "            (45, 49, 20),\n",
      "            (45, 49, 21),\n",
      "            (19, 20, 22),\n",
      "            (14, 16, 23),\n",
      "            (14, 16, 24),\n",
      "            (28, 29, 25),\n",
      "            (13, 20, 26),\n",
      "            (13, 20, 27),\n",
      "            (25, 26, 28),\n",
      "            (24, 41, 29)],\n",
      "           names=['fast_window', 'slow_window', 'split_idx'])\n"
     ]
    }
   ],
   "source": [
    "in_best_index = get_best_index(in_sharpe)\n",
    "\n",
    "print(in_best_index)"
   ]
  },
  {
   "cell_type": "code",
   "execution_count": 18,
   "metadata": {},
   "outputs": [],
   "source": [
    "def get_best_params(best_index, level_name):\n",
    "    return best_index.get_level_values(level_name).to_numpy()"
   ]
  },
  {
   "cell_type": "code",
   "execution_count": 19,
   "metadata": {},
   "outputs": [
    {
     "name": "stdout",
     "output_type": "stream",
     "text": [
      "[[26 29]\n",
      " [27 28]\n",
      " [21 26]\n",
      " [23 28]\n",
      " [20 41]\n",
      " [36 47]\n",
      " [32 47]\n",
      " [37 43]\n",
      " [16 19]\n",
      " [10 21]\n",
      " [10 21]\n",
      " [10 21]\n",
      " [10 21]\n",
      " [10 22]\n",
      " [10 22]\n",
      " [10 23]\n",
      " [17 23]\n",
      " [18 20]\n",
      " [18 19]\n",
      " [18 19]\n",
      " [45 49]\n",
      " [45 49]\n",
      " [19 20]\n",
      " [14 16]\n",
      " [14 16]\n",
      " [28 29]\n",
      " [13 20]\n",
      " [13 20]\n",
      " [25 26]\n",
      " [24 41]]\n"
     ]
    }
   ],
   "source": [
    "in_best_fast_windows = get_best_params(in_best_index, 'fast_window')\n",
    "in_best_slow_windows = get_best_params(in_best_index, 'slow_window')\n",
    "in_best_window_pairs = np.array(list(zip(in_best_fast_windows, in_best_slow_windows)))\n",
    "\n",
    "print(in_best_window_pairs)"
   ]
  },
  {
   "cell_type": "code",
   "execution_count": 20,
   "metadata": {},
   "outputs": [
    {
     "data": {
      "image/svg+xml": [
       "<svg class=\"main-svg\" xmlns=\"http://www.w3.org/2000/svg\" xmlns:xlink=\"http://www.w3.org/1999/xlink\" width=\"700\" height=\"350\" viewBox=\"0 0 700 350\"><rect x=\"0\" y=\"0\" width=\"700\" height=\"350\" style=\"fill: rgb(255, 255, 255); fill-opacity: 1;\"/><defs id=\"defs-7a7a03\"><g class=\"clips\"><clipPath id=\"clip7a7a03xyplot\" class=\"plotclip\"><rect width=\"640\" height=\"274\"/></clipPath><clipPath class=\"axesclip\" id=\"clip7a7a03x\"><rect x=\"30\" y=\"0\" width=\"640\" height=\"350\"/></clipPath><clipPath class=\"axesclip\" id=\"clip7a7a03y\"><rect x=\"0\" y=\"46\" width=\"700\" height=\"274\"/></clipPath><clipPath class=\"axesclip\" id=\"clip7a7a03xy\"><rect x=\"30\" y=\"46\" width=\"640\" height=\"274\"/></clipPath></g><g class=\"gradients\"/><g class=\"patterns\"/></defs><g class=\"bglayer\"><rect class=\"bg\" x=\"30\" y=\"46\" width=\"640\" height=\"274\" style=\"fill: rgb(229, 236, 246); fill-opacity: 1; stroke-width: 0;\"/></g><g class=\"layer-below\"><g class=\"imagelayer\"/><g class=\"shapelayer\"/></g><g class=\"cartesianlayer\"><g class=\"subplot xy\"><g class=\"layer-subplot\"><g class=\"shapelayer\"/><g class=\"imagelayer\"/></g><g class=\"gridlayer\"><g class=\"x\"><path class=\"xgrid crisp\" transform=\"translate(140.34,0)\" d=\"M0,46v274\" style=\"stroke: rgb(255, 255, 255); stroke-opacity: 1; stroke-width: 1px;\"/><path class=\"xgrid crisp\" transform=\"translate(250.69,0)\" d=\"M0,46v274\" style=\"stroke: rgb(255, 255, 255); stroke-opacity: 1; stroke-width: 1px;\"/><path class=\"xgrid crisp\" transform=\"translate(361.03,0)\" d=\"M0,46v274\" style=\"stroke: rgb(255, 255, 255); stroke-opacity: 1; stroke-width: 1px;\"/><path class=\"xgrid crisp\" transform=\"translate(471.38,0)\" d=\"M0,46v274\" style=\"stroke: rgb(255, 255, 255); stroke-opacity: 1; stroke-width: 1px;\"/><path class=\"xgrid crisp\" transform=\"translate(581.72,0)\" d=\"M0,46v274\" style=\"stroke: rgb(255, 255, 255); stroke-opacity: 1; stroke-width: 1px;\"/></g><g class=\"y\"><path class=\"ygrid crisp\" transform=\"translate(0,306.3)\" d=\"M30,0h640\" style=\"stroke: rgb(255, 255, 255); stroke-opacity: 1; stroke-width: 1px;\"/><path class=\"ygrid crisp\" transform=\"translate(0,243.07)\" d=\"M30,0h640\" style=\"stroke: rgb(255, 255, 255); stroke-opacity: 1; stroke-width: 1px;\"/><path class=\"ygrid crisp\" transform=\"translate(0,179.84)\" d=\"M30,0h640\" style=\"stroke: rgb(255, 255, 255); stroke-opacity: 1; stroke-width: 1px;\"/><path class=\"ygrid crisp\" transform=\"translate(0,116.61)\" d=\"M30,0h640\" style=\"stroke: rgb(255, 255, 255); stroke-opacity: 1; stroke-width: 1px;\"/><path class=\"ygrid crisp\" transform=\"translate(0,53.38)\" d=\"M30,0h640\" style=\"stroke: rgb(255, 255, 255); stroke-opacity: 1; stroke-width: 1px;\"/></g></g><g class=\"zerolinelayer\"><path class=\"xzl zl crisp\" transform=\"translate(30,0)\" d=\"M0,46v274\" style=\"stroke: rgb(255, 255, 255); stroke-opacity: 1; stroke-width: 2px;\"/></g><path class=\"xlines-below\"/><path class=\"ylines-below\"/><g class=\"overlines-below\"/><g class=\"xaxislayer-below\"/><g class=\"yaxislayer-below\"/><g class=\"overaxes-below\"/><g class=\"plot\" transform=\"translate(30,46)\" clip-path=\"url(#clip7a7a03xyplot)\"><g class=\"scatterlayer mlayer\"><g class=\"trace scatter trace6b20d23e-f8e1-434f-b29a-268c61c6f593\" style=\"stroke-miterlimit: 2; opacity: 1;\"><g class=\"fills\"/><g class=\"errorbars\"/><g class=\"lines\"><path class=\"js-line\" d=\"M0,159.13L22.07,152.81L44.14,190.75L66.21,178.1L88.28,197.07L110.34,95.9L132.41,121.19L154.48,89.58L176.55,222.36L198.62,260.3L220.69,260.3L331.03,260.3L353.1,216.04L375.17,209.72L397.24,209.72L419.31,209.72L441.38,38.99L463.45,38.99L485.52,203.39L507.59,235.01L529.66,235.01L551.72,146.48L573.79,241.33L595.86,241.33L617.93,165.45L640,171.78\" style=\"vector-effect: non-scaling-stroke; fill: none; stroke: rgb(31, 119, 180); stroke-opacity: 1; stroke-width: 2px; opacity: 1;\"/></g><g class=\"points\"/><g class=\"text\"/></g><g class=\"trace scatter traced953b58c-2cd2-4355-9b04-bb141cc0478a\" style=\"stroke-miterlimit: 2; opacity: 1;\"><g class=\"fills\"/><g class=\"errorbars\"/><g class=\"lines\"><path class=\"js-line\" d=\"M0,140.16L22.07,146.48L44.14,159.13L66.21,146.48L88.28,64.28L110.34,26.35L132.41,26.35L154.48,51.64L176.55,203.39L198.62,190.75L220.69,190.75L264.83,190.75L286.9,184.42L308.97,184.42L331.03,178.1L353.1,178.1L375.17,197.07L397.24,203.39L419.31,203.39L441.38,13.7L463.45,13.7L485.52,197.07L507.59,222.36L529.66,222.36L551.72,140.16L573.79,197.07L595.86,197.07L617.93,159.13L640,64.28\" style=\"vector-effect: non-scaling-stroke; fill: none; stroke: rgb(255, 127, 14); stroke-opacity: 1; stroke-width: 2px; opacity: 1;\"/></g><g class=\"points\"/><g class=\"text\"/></g></g></g><g class=\"overplot\"/><path class=\"xlines-above crisp\" d=\"M0,0\" style=\"fill: none;\"/><path class=\"ylines-above crisp\" d=\"M0,0\" style=\"fill: none;\"/><g class=\"overlines-above\"/><g class=\"xaxislayer-above\"><g class=\"xtick\"><text text-anchor=\"middle\" x=\"0\" y=\"333\" transform=\"translate(30,0)\" style=\"font-family: 'Open Sans', verdana, arial, sans-serif; font-size: 12px; fill: rgb(42, 63, 95); fill-opacity: 1; white-space: pre; opacity: 1;\">0</text></g><g class=\"xtick\"><text text-anchor=\"middle\" x=\"0\" y=\"333\" style=\"font-family: 'Open Sans', verdana, arial, sans-serif; font-size: 12px; fill: rgb(42, 63, 95); fill-opacity: 1; white-space: pre; opacity: 1;\" transform=\"translate(140.34,0)\">5</text></g><g class=\"xtick\"><text text-anchor=\"middle\" x=\"0\" y=\"333\" style=\"font-family: 'Open Sans', verdana, arial, sans-serif; font-size: 12px; fill: rgb(42, 63, 95); fill-opacity: 1; white-space: pre; opacity: 1;\" transform=\"translate(250.69,0)\">10</text></g><g class=\"xtick\"><text text-anchor=\"middle\" x=\"0\" y=\"333\" style=\"font-family: 'Open Sans', verdana, arial, sans-serif; font-size: 12px; fill: rgb(42, 63, 95); fill-opacity: 1; white-space: pre; opacity: 1;\" transform=\"translate(361.03,0)\">15</text></g><g class=\"xtick\"><text text-anchor=\"middle\" x=\"0\" y=\"333\" style=\"font-family: 'Open Sans', verdana, arial, sans-serif; font-size: 12px; fill: rgb(42, 63, 95); fill-opacity: 1; white-space: pre; opacity: 1;\" transform=\"translate(471.38,0)\">20</text></g><g class=\"xtick\"><text text-anchor=\"middle\" x=\"0\" y=\"333\" style=\"font-family: 'Open Sans', verdana, arial, sans-serif; font-size: 12px; fill: rgb(42, 63, 95); fill-opacity: 1; white-space: pre; opacity: 1;\" transform=\"translate(581.72,0)\">25</text></g></g><g class=\"yaxislayer-above\"><g class=\"ytick\"><text text-anchor=\"end\" x=\"29\" y=\"4.199999999999999\" transform=\"translate(0,306.3)\" style=\"font-family: 'Open Sans', verdana, arial, sans-serif; font-size: 12px; fill: rgb(42, 63, 95); fill-opacity: 1; white-space: pre; opacity: 1;\">10</text></g><g class=\"ytick\"><text text-anchor=\"end\" x=\"29\" y=\"4.199999999999999\" style=\"font-family: 'Open Sans', verdana, arial, sans-serif; font-size: 12px; fill: rgb(42, 63, 95); fill-opacity: 1; white-space: pre; opacity: 1;\" transform=\"translate(0,243.07)\">20</text></g><g class=\"ytick\"><text text-anchor=\"end\" x=\"29\" y=\"4.199999999999999\" style=\"font-family: 'Open Sans', verdana, arial, sans-serif; font-size: 12px; fill: rgb(42, 63, 95); fill-opacity: 1; white-space: pre; opacity: 1;\" transform=\"translate(0,179.84)\">30</text></g><g class=\"ytick\"><text text-anchor=\"end\" x=\"29\" y=\"4.199999999999999\" style=\"font-family: 'Open Sans', verdana, arial, sans-serif; font-size: 12px; fill: rgb(42, 63, 95); fill-opacity: 1; white-space: pre; opacity: 1;\" transform=\"translate(0,116.61)\">40</text></g><g class=\"ytick\"><text text-anchor=\"end\" x=\"29\" y=\"4.199999999999999\" style=\"font-family: 'Open Sans', verdana, arial, sans-serif; font-size: 12px; fill: rgb(42, 63, 95); fill-opacity: 1; white-space: pre; opacity: 1;\" transform=\"translate(0,53.38)\">50</text></g></g><g class=\"overaxes-above\"/></g></g><g class=\"polarlayer\"/><g class=\"ternarylayer\"/><g class=\"geolayer\"/><g class=\"funnelarealayer\"/><g class=\"pielayer\"/><g class=\"iciclelayer\"/><g class=\"treemaplayer\"/><g class=\"sunburstlayer\"/><g class=\"glimages\"/><defs id=\"topdefs-7a7a03\"><g class=\"clips\"/><clipPath id=\"legend7a7a03\"><rect width=\"245\" height=\"29\" x=\"0\" y=\"0\"/></clipPath></defs><g class=\"layer-above\"><g class=\"imagelayer\"/><g class=\"shapelayer\"/></g><g class=\"infolayer\"><g class=\"legend\" pointer-events=\"all\" transform=\"translate(425,11.519999999999996)\"><rect class=\"bg\" shape-rendering=\"crispEdges\" style=\"stroke: rgb(68, 68, 68); stroke-opacity: 1; fill: rgb(255, 255, 255); fill-opacity: 1; stroke-width: 0px;\" width=\"245\" height=\"29\" x=\"0\" y=\"0\"/><g class=\"scrollbox\" transform=\"\" clip-path=\"url(#legend7a7a03)\"><g class=\"groups\"><g class=\"traces\" transform=\"translate(0,14.5)\" style=\"opacity: 1;\"><text class=\"legendtext\" text-anchor=\"start\" x=\"40\" y=\"4.680000000000001\" style=\"font-family: 'Open Sans', verdana, arial, sans-serif; font-size: 12px; fill: rgb(42, 63, 95); fill-opacity: 1; white-space: pre;\">fast_window</text><g class=\"layers\" style=\"opacity: 1;\"><g class=\"legendfill\"/><g class=\"legendlines\"><path class=\"js-line\" d=\"M5,0h30\" style=\"fill: none; stroke: rgb(31, 119, 180); stroke-opacity: 1; stroke-width: 2px;\"/></g><g class=\"legendsymbols\"><g class=\"legendpoints\"/></g></g><rect class=\"legendtoggle\" x=\"0\" y=\"-9.5\" width=\"117.8125\" height=\"19\" style=\"fill: rgb(0, 0, 0); fill-opacity: 0;\"/></g><g class=\"traces\" transform=\"translate(120.3125,14.5)\" style=\"opacity: 1;\"><text class=\"legendtext\" text-anchor=\"start\" x=\"40\" y=\"4.680000000000001\" style=\"font-family: 'Open Sans', verdana, arial, sans-serif; font-size: 12px; fill: rgb(42, 63, 95); fill-opacity: 1; white-space: pre;\">slow_window</text><g class=\"layers\" style=\"opacity: 1;\"><g class=\"legendfill\"/><g class=\"legendlines\"><path class=\"js-line\" d=\"M5,0h30\" style=\"fill: none; stroke: rgb(255, 127, 14); stroke-opacity: 1; stroke-width: 2px;\"/></g><g class=\"legendsymbols\"><g class=\"legendpoints\"/></g></g><rect class=\"legendtoggle\" x=\"0\" y=\"-9.5\" width=\"122.0625\" height=\"19\" style=\"fill: rgb(0, 0, 0); fill-opacity: 0;\"/></g></g></g><rect class=\"scrollbar\" rx=\"20\" ry=\"3\" width=\"0\" height=\"0\" style=\"fill: rgb(128, 139, 164); fill-opacity: 1;\" x=\"0\" y=\"0\"/></g><g class=\"g-gtitle\"/><g class=\"g-xtitle\"/><g class=\"g-ytitle\"/></g></svg>"
      ]
     },
     "metadata": {},
     "output_type": "display_data"
    }
   ],
   "source": [
    "pd.DataFrame(in_best_window_pairs, columns=['fast_window', 'slow_window']).vbt.plot().show_svg()"
   ]
  },
  {
   "cell_type": "code",
   "execution_count": 21,
   "metadata": {},
   "outputs": [
    {
     "name": "stdout",
     "output_type": "stream",
     "text": [
      "split_idx\n",
      "0     1.773721\n",
      "1     2.125840\n",
      "2     1.538578\n",
      "3     2.143661\n",
      "4     3.957013\n",
      "5     3.388590\n",
      "6     3.830162\n",
      "7     4.098132\n",
      "8     2.033762\n",
      "9     1.039014\n",
      "10   -1.527349\n",
      "11   -0.831844\n",
      "12   -0.789766\n",
      "13   -2.005863\n",
      "14   -1.428894\n",
      "15    2.544333\n",
      "16    3.351680\n",
      "17    1.631937\n",
      "18   -0.308144\n",
      "19    0.188362\n",
      "20   -0.058919\n",
      "21    1.040498\n",
      "22    1.006142\n",
      "23    2.636862\n",
      "24    5.121603\n",
      "25    4.791306\n",
      "26    2.257844\n",
      "27    0.968324\n",
      "28   -0.008371\n",
      "29    0.967944\n",
      "Name: sharpe_ratio, dtype: float64\n"
     ]
    }
   ],
   "source": [
    "out_hold_sharpe = simulate_holding(out_price, **pf_kwargs)\n",
    "\n",
    "print(out_hold_sharpe)"
   ]
  },
  {
   "cell_type": "code",
   "execution_count": 22,
   "metadata": {},
   "outputs": [
    {
     "name": "stdout",
     "output_type": "stream",
     "text": [
      "fast_window  slow_window  split_idx\n",
      "10           11           0            1.059386\n",
      "                          1           -1.351689\n",
      "                          2           -1.022855\n",
      "                          3            1.557374\n",
      "                          4            3.642302\n",
      "                                         ...   \n",
      "48           49           25           1.960700\n",
      "                          26          -0.280536\n",
      "                          27          -1.305335\n",
      "                          28           0.752045\n",
      "                          29          -0.279848\n",
      "Name: sharpe_ratio, Length: 23400, dtype: float64\n"
     ]
    }
   ],
   "source": [
    "# Simulate all params for out-sample ranges\n",
    "out_sharpe = simulate_all_params(out_price, windows, **pf_kwargs)\n",
    "\n",
    "print(out_sharpe)"
   ]
  },
  {
   "cell_type": "code",
   "execution_count": 25,
   "metadata": {},
   "outputs": [],
   "source": [
    "def simulate_best_params(price, best_fast_windows, best_slow_windows, **kwargs):\n",
    "    fast_ma = vbt.MA.run(price, window=best_fast_windows, per_column=True)\n",
    "    slow_ma = vbt.MA.run(price, window=best_slow_windows, per_column=True)\n",
    "    entries = fast_ma.ma_crossed_above(slow_ma)\n",
    "    exits = fast_ma.ma_crossed_below(slow_ma)\n",
    "    pf = vbt.Portfolio.from_signals(price, entries, exits, **kwargs)\n",
    "    return pf.sharpe_ratio"
   ]
  },
  {
   "cell_type": "code",
   "execution_count": 26,
   "metadata": {},
   "outputs": [
    {
     "name": "stdout",
     "output_type": "stream",
     "text": [
      "ma_window  ma_window  split_idx\n",
      "26         29         0            1.415715\n",
      "27         28         1           -0.946774\n",
      "21         26         2            1.313549\n",
      "23         28         3           -1.717435\n",
      "20         41         4            1.475485\n",
      "36         47         5           -0.757412\n",
      "32         47         6           -1.510779\n",
      "37         43         7            3.793117\n",
      "16         19         8            2.132601\n",
      "10         21         9            0.971131\n",
      "                      10           1.130267\n",
      "                      11           1.044461\n",
      "                      12          -0.207691\n",
      "           22         13          -1.688021\n",
      "                      14          -1.281970\n",
      "           23         15           3.632791\n",
      "17         23         16           2.075987\n",
      "18         20         17          -0.551991\n",
      "           19         18           0.787292\n",
      "                      19          -0.141643\n",
      "45         49         20          -2.035214\n",
      "                      21          -0.703503\n",
      "19         20         22           0.746158\n",
      "14         16         23           2.311972\n",
      "                      24           4.693780\n",
      "28         29         25           0.105936\n",
      "13         20         26          -1.277930\n",
      "                      27          -2.762545\n",
      "25         26         28          -2.079058\n",
      "24         41         29          -0.891214\n",
      "Name: sharpe_ratio, dtype: float64\n"
     ]
    }
   ],
   "source": [
    "# Use best params from in-sample ranges and simulate them for out-sample ranges\n",
    "out_test_sharpe = simulate_best_params(out_price, in_best_fast_windows, in_best_slow_windows, **pf_kwargs)\n",
    "\n",
    "print(out_test_sharpe)"
   ]
  },
  {
   "cell_type": "code",
   "execution_count": 27,
   "metadata": {},
   "outputs": [],
   "source": [
    "cv_results_df = pd.DataFrame({\n",
    "    'in_sample_hold': in_hold_sharpe.values,\n",
    "    'in_sample_median': in_sharpe.groupby('split_idx').median().values,\n",
    "    'in_sample_best': in_sharpe[in_best_index].values,\n",
    "    'out_sample_hold': out_hold_sharpe.values,\n",
    "    'out_sample_median': out_sharpe.groupby('split_idx').median().values,\n",
    "    'out_sample_test': out_test_sharpe.values\n",
    "})"
   ]
  },
  {
   "cell_type": "code",
   "execution_count": 28,
   "metadata": {},
   "outputs": [
    {
     "data": {
      "image/svg+xml": [
       "<svg class=\"main-svg\" xmlns=\"http://www.w3.org/2000/svg\" xmlns:xlink=\"http://www.w3.org/1999/xlink\" width=\"700\" height=\"350\" viewBox=\"0 0 700 350\"><rect x=\"0\" y=\"0\" width=\"700\" height=\"350\" style=\"fill: rgb(255, 255, 255); fill-opacity: 1;\"/><defs id=\"defs-e75bcd\"><g class=\"clips\"><clipPath id=\"clipe75bcdxyplot\" class=\"plotclip\"><rect width=\"640\" height=\"255\"/></clipPath><clipPath class=\"axesclip\" id=\"clipe75bcdx\"><rect x=\"30\" y=\"0\" width=\"640\" height=\"350\"/></clipPath><clipPath class=\"axesclip\" id=\"clipe75bcdy\"><rect x=\"0\" y=\"65\" width=\"700\" height=\"255\"/></clipPath><clipPath class=\"axesclip\" id=\"clipe75bcdxy\"><rect x=\"30\" y=\"65\" width=\"640\" height=\"255\"/></clipPath></g><g class=\"gradients\"/><g class=\"patterns\"/></defs><g class=\"bglayer\"><rect class=\"bg\" x=\"30\" y=\"65\" width=\"640\" height=\"255\" style=\"fill: rgb(229, 236, 246); fill-opacity: 1; stroke-width: 0;\"/></g><g class=\"layer-below\"><g class=\"imagelayer\"/><g class=\"shapelayer\"/></g><g class=\"cartesianlayer\"><g class=\"subplot xy\"><g class=\"layer-subplot\"><g class=\"shapelayer\"/><g class=\"imagelayer\"/></g><g class=\"gridlayer\"><g class=\"x\"><path class=\"xgrid crisp\" transform=\"translate(140.34,0)\" d=\"M0,65v255\" style=\"stroke: rgb(255, 255, 255); stroke-opacity: 1; stroke-width: 1px;\"/><path class=\"xgrid crisp\" transform=\"translate(250.69,0)\" d=\"M0,65v255\" style=\"stroke: rgb(255, 255, 255); stroke-opacity: 1; stroke-width: 1px;\"/><path class=\"xgrid crisp\" transform=\"translate(361.03,0)\" d=\"M0,65v255\" style=\"stroke: rgb(255, 255, 255); stroke-opacity: 1; stroke-width: 1px;\"/><path class=\"xgrid crisp\" transform=\"translate(471.38,0)\" d=\"M0,65v255\" style=\"stroke: rgb(255, 255, 255); stroke-opacity: 1; stroke-width: 1px;\"/><path class=\"xgrid crisp\" transform=\"translate(581.72,0)\" d=\"M0,65v255\" style=\"stroke: rgb(255, 255, 255); stroke-opacity: 1; stroke-width: 1px;\"/></g><g class=\"y\"><path class=\"ygrid crisp\" transform=\"translate(0,285.05)\" d=\"M30,0h640\" style=\"stroke: rgb(255, 255, 255); stroke-opacity: 1; stroke-width: 1px;\"/><path class=\"ygrid crisp\" transform=\"translate(0,168.62)\" d=\"M30,0h640\" style=\"stroke: rgb(255, 255, 255); stroke-opacity: 1; stroke-width: 1px;\"/><path class=\"ygrid crisp\" transform=\"translate(0,110.4)\" d=\"M30,0h640\" style=\"stroke: rgb(255, 255, 255); stroke-opacity: 1; stroke-width: 1px;\"/></g></g><g class=\"zerolinelayer\"><path class=\"xzl zl crisp\" transform=\"translate(30,0)\" d=\"M0,65v255\" style=\"stroke: rgb(255, 255, 255); stroke-opacity: 1; stroke-width: 2px;\"/><path class=\"yzl zl crisp\" transform=\"translate(0,226.83)\" d=\"M30,0h640\" style=\"stroke: rgb(255, 255, 255); stroke-opacity: 1; stroke-width: 2px;\"/></g><path class=\"xlines-below\"/><path class=\"ylines-below\"/><g class=\"overlines-below\"/><g class=\"xaxislayer-below\"/><g class=\"yaxislayer-below\"/><g class=\"overaxes-below\"/><g class=\"plot\" transform=\"translate(30,65)\" clip-path=\"url(#clipe75bcdxyplot)\"><g class=\"scatterlayer mlayer\"><g class=\"trace scatter trace2a33b4fb-f880-4c1b-9fa1-9a3bf62d3d95\" style=\"stroke-miterlimit: 2; opacity: 1;\"><g class=\"fills\"/><g class=\"errorbars\"/><g class=\"lines\"><path class=\"js-line\" d=\"M0,155.16L22.07,145.32L44.14,122.72L66.21,122.17L88.28,109.09L110.34,108.39L132.41,103.55L176.55,81.9L198.62,78.33L220.69,72.68L242.76,91.24L286.9,104.67L308.97,108.7L331.03,135.7L353.1,145.08L375.17,148.27L397.24,165.3L419.31,152.27L441.38,155.1L463.45,147.55L485.52,145.73L507.59,142.72L529.66,126.56L551.72,124.58L573.79,130.42L595.86,117.06L617.93,100.76L640,111.71\" style=\"vector-effect: non-scaling-stroke; fill: none; stroke: rgb(31, 119, 180); stroke-opacity: 1; stroke-width: 2px; opacity: 1;\"/></g><g class=\"points\"/><g class=\"text\"/></g><g class=\"trace scatter tracedceeeb1e-f707-425b-9089-c01edab9afb6\" style=\"stroke-miterlimit: 2; opacity: 1;\"><g class=\"fills\"/><g class=\"errorbars\"/><g class=\"lines\"><path class=\"js-line\" d=\"M0,141.29L22.07,141.45L44.14,136.18L66.21,136.41L88.28,126.35L110.34,130.07L132.41,145.18L154.48,114.82L176.55,112.25L198.62,126.06L220.69,111.3L242.76,118.25L264.83,126.24L286.9,121.52L308.97,138.27L331.03,131.5L353.1,136.39L375.17,154.96L397.24,142.79L419.31,134.22L441.38,134.36L463.45,138.86L485.52,134.17L507.59,133.29L529.66,139.97L551.72,158.39L573.79,144.43L595.86,120.27L617.93,109.36L640,106.77\" style=\"vector-effect: non-scaling-stroke; fill: none; stroke: rgb(31, 119, 180); stroke-opacity: 1; stroke-width: 2px; opacity: 1; stroke-dasharray: 9px, 9px;\"/></g><g class=\"points\"/><g class=\"text\"/></g><g class=\"trace scatter trace3eeb0577-8f70-46e9-b76d-5ae1ea373a77\" style=\"stroke-miterlimit: 2; opacity: 1;\"><g class=\"fills\"/><g class=\"errorbars\"/><g class=\"lines\"><path class=\"js-line\" d=\"M0,107.25L22.07,109.28L44.14,106.88L66.21,106.75L88.28,99.75L110.34,88.84L132.41,112.84L154.48,86.24L176.55,82.96L198.62,71.53L220.69,66.51L242.76,70.26L264.83,71.51L286.9,71.09L308.97,93.64L331.03,92.61L353.1,101.06L375.17,100.51L397.24,89.71L419.31,97.44L441.38,94.26L463.45,98.1L485.52,100L507.59,100.62L529.66,94.19L551.72,90.82L573.79,88.43L595.86,76.31L617.93,80.83L640,80.1\" style=\"vector-effect: non-scaling-stroke; fill: none; stroke: rgb(31, 119, 180); stroke-opacity: 1; stroke-width: 2px; opacity: 1; stroke-dasharray: 3px, 3px;\"/></g><g class=\"points\"/><g class=\"text\"/></g><g class=\"trace scatter trace662fdb98-36eb-4aff-b7f5-e5e99baf42e7\" style=\"stroke-miterlimit: 2; opacity: 1;\"><g class=\"fills\"/><g class=\"errorbars\"/><g class=\"lines\"><path class=\"js-line\" d=\"M0,110.2L22.07,99.95L44.14,117.05L66.21,99.44L88.28,46.65L110.34,63.2L132.41,50.34L154.48,42.54L176.55,102.63L198.62,131.59L220.69,206.29L242.76,186.05L264.83,184.82L286.9,220.22L308.97,203.43L331.03,87.77L353.1,64.27L375.17,114.33L397.24,170.8L419.31,156.35L441.38,163.55L463.45,131.55L485.52,132.55L507.59,85.08L529.66,12.75L551.72,22.36L573.79,96.11L595.86,133.65L617.93,162.08L640,133.66\" style=\"vector-effect: non-scaling-stroke; fill: none; stroke: rgb(255, 127, 14); stroke-opacity: 1; stroke-width: 2px; opacity: 1;\"/></g><g class=\"points\"/><g class=\"text\"/></g><g class=\"trace scatter trace4d7d83b0-cada-4669-a91a-2e9098a96627\" style=\"stroke-miterlimit: 2; opacity: 1;\"><g class=\"fills\"/><g class=\"errorbars\"/><g class=\"lines\"><path class=\"js-line\" d=\"M0,144.3L22.07,114.7L44.14,117.18L66.21,167.75L88.28,97.59L110.34,99.13L132.41,151.61L154.48,77.51L176.55,84.83L198.62,157.43L220.69,185.67L242.76,188.58L264.83,186.49L286.9,124.83L308.97,179.75L331.03,79.96L353.1,170.48L375.17,171.97L397.24,188.17L419.31,167.04L441.38,123.16L463.45,113.06L485.52,131.7L507.59,126.48L529.66,30L551.72,144.06L573.79,145.52L595.86,140.17L617.93,168.9L640,168.42\" style=\"vector-effect: non-scaling-stroke; fill: none; stroke: rgb(255, 127, 14); stroke-opacity: 1; stroke-width: 2px; opacity: 1; stroke-dasharray: 9px, 9px;\"/></g><g class=\"points\"/><g class=\"text\"/></g><g class=\"trace scatter tracecc25a6a3-09c0-4431-90fe-e39a34a29ca5\" style=\"stroke-miterlimit: 2; opacity: 1;\"><g class=\"fills\"/><g class=\"errorbars\"/><g class=\"lines\"><path class=\"js-line\" d=\"M0,120.62L22.07,189.39L44.14,123.6L66.21,211.83L88.28,118.88L110.34,183.88L132.41,205.81L154.48,51.42L176.55,99.76L198.62,133.57L220.69,128.93L242.76,131.43L264.83,167.88L286.9,210.97L308.97,199.15L331.03,56.09L353.1,101.4L375.17,177.9L397.24,138.92L419.31,165.96L441.38,221.08L463.45,182.31L485.52,140.12L507.59,94.54L529.66,25.2L551.72,158.75L573.79,199.03L595.86,242.25L617.93,222.35L640,187.78\" style=\"vector-effect: non-scaling-stroke; fill: none; stroke: rgb(255, 127, 14); stroke-opacity: 1; stroke-width: 2px; opacity: 1; stroke-dasharray: 3px, 3px;\"/></g><g class=\"points\"/><g class=\"text\"/></g></g></g><g class=\"overplot\"/><path class=\"xlines-above crisp\" d=\"M0,0\" style=\"fill: none;\"/><path class=\"ylines-above crisp\" d=\"M0,0\" style=\"fill: none;\"/><g class=\"overlines-above\"/><g class=\"xaxislayer-above\"><g class=\"xtick\"><text text-anchor=\"middle\" x=\"0\" y=\"333\" transform=\"translate(30,0)\" style=\"font-family: 'Open Sans', verdana, arial, sans-serif; font-size: 12px; fill: rgb(42, 63, 95); fill-opacity: 1; white-space: pre; opacity: 1;\">0</text></g><g class=\"xtick\"><text text-anchor=\"middle\" x=\"0\" y=\"333\" style=\"font-family: 'Open Sans', verdana, arial, sans-serif; font-size: 12px; fill: rgb(42, 63, 95); fill-opacity: 1; white-space: pre; opacity: 1;\" transform=\"translate(140.34,0)\">5</text></g><g class=\"xtick\"><text text-anchor=\"middle\" x=\"0\" y=\"333\" style=\"font-family: 'Open Sans', verdana, arial, sans-serif; font-size: 12px; fill: rgb(42, 63, 95); fill-opacity: 1; white-space: pre; opacity: 1;\" transform=\"translate(250.69,0)\">10</text></g><g class=\"xtick\"><text text-anchor=\"middle\" x=\"0\" y=\"333\" style=\"font-family: 'Open Sans', verdana, arial, sans-serif; font-size: 12px; fill: rgb(42, 63, 95); fill-opacity: 1; white-space: pre; opacity: 1;\" transform=\"translate(361.03,0)\">15</text></g><g class=\"xtick\"><text text-anchor=\"middle\" x=\"0\" y=\"333\" style=\"font-family: 'Open Sans', verdana, arial, sans-serif; font-size: 12px; fill: rgb(42, 63, 95); fill-opacity: 1; white-space: pre; opacity: 1;\" transform=\"translate(471.38,0)\">20</text></g><g class=\"xtick\"><text text-anchor=\"middle\" x=\"0\" y=\"333\" style=\"font-family: 'Open Sans', verdana, arial, sans-serif; font-size: 12px; fill: rgb(42, 63, 95); fill-opacity: 1; white-space: pre; opacity: 1;\" transform=\"translate(581.72,0)\">25</text></g></g><g class=\"yaxislayer-above\"><g class=\"ytick\"><text text-anchor=\"end\" x=\"29\" y=\"4.199999999999999\" transform=\"translate(0,285.05)\" style=\"font-family: 'Open Sans', verdana, arial, sans-serif; font-size: 12px; fill: rgb(42, 63, 95); fill-opacity: 1; white-space: pre; opacity: 1;\">−2</text></g><g class=\"ytick\"><text text-anchor=\"end\" x=\"29\" y=\"4.199999999999999\" style=\"font-family: 'Open Sans', verdana, arial, sans-serif; font-size: 12px; fill: rgb(42, 63, 95); fill-opacity: 1; white-space: pre; opacity: 1;\" transform=\"translate(0,226.83)\">0</text></g><g class=\"ytick\"><text text-anchor=\"end\" x=\"29\" y=\"4.199999999999999\" style=\"font-family: 'Open Sans', verdana, arial, sans-serif; font-size: 12px; fill: rgb(42, 63, 95); fill-opacity: 1; white-space: pre; opacity: 1;\" transform=\"translate(0,168.62)\">2</text></g><g class=\"ytick\"><text text-anchor=\"end\" x=\"29\" y=\"4.199999999999999\" style=\"font-family: 'Open Sans', verdana, arial, sans-serif; font-size: 12px; fill: rgb(42, 63, 95); fill-opacity: 1; white-space: pre; opacity: 1;\" transform=\"translate(0,110.4)\">4</text></g></g><g class=\"overaxes-above\"/></g></g><g class=\"polarlayer\"/><g class=\"ternarylayer\"/><g class=\"geolayer\"/><g class=\"funnelarealayer\"/><g class=\"pielayer\"/><g class=\"iciclelayer\"/><g class=\"treemaplayer\"/><g class=\"sunburstlayer\"/><g class=\"glimages\"/><defs id=\"topdefs-e75bcd\"><g class=\"clips\"/><clipPath id=\"legende75bcd\"><rect width=\"481\" height=\"48\" x=\"0\" y=\"0\"/></clipPath></defs><g class=\"layer-above\"><g class=\"imagelayer\"/><g class=\"shapelayer\"/></g><g class=\"infolayer\"><g class=\"legend\" pointer-events=\"all\" transform=\"translate(189,11.899999999999991)\"><rect class=\"bg\" shape-rendering=\"crispEdges\" style=\"stroke: rgb(68, 68, 68); stroke-opacity: 1; fill: rgb(255, 255, 255); fill-opacity: 1; stroke-width: 0px;\" width=\"481\" height=\"48\" x=\"0\" y=\"0\"/><g class=\"scrollbox\" transform=\"\" clip-path=\"url(#legende75bcd)\"><g class=\"groups\"><g class=\"traces\" transform=\"translate(0,14.5)\" style=\"opacity: 1;\"><text class=\"legendtext\" text-anchor=\"start\" x=\"40\" y=\"4.680000000000001\" style=\"font-family: 'Open Sans', verdana, arial, sans-serif; font-size: 12px; fill: rgb(42, 63, 95); fill-opacity: 1; white-space: pre;\">in_sample_hold</text><g class=\"layers\" style=\"opacity: 1;\"><g class=\"legendfill\"/><g class=\"legendlines\"><path class=\"js-line\" d=\"M5,0h30\" style=\"fill: none; stroke: rgb(31, 119, 180); stroke-opacity: 1; stroke-width: 2px;\"/></g><g class=\"legendsymbols\"><g class=\"legendpoints\"/></g></g><rect class=\"legendtoggle\" x=\"0\" y=\"-9.5\" width=\"137.328125\" height=\"19\" style=\"fill: rgb(0, 0, 0); fill-opacity: 0;\"/></g><g class=\"traces\" transform=\"translate(167.296875,14.5)\" style=\"opacity: 1;\"><text class=\"legendtext\" text-anchor=\"start\" x=\"40\" y=\"4.680000000000001\" style=\"font-family: 'Open Sans', verdana, arial, sans-serif; font-size: 12px; fill: rgb(42, 63, 95); fill-opacity: 1; white-space: pre;\">in_sample_median</text><g class=\"layers\" style=\"opacity: 1;\"><g class=\"legendfill\"/><g class=\"legendlines\"><path class=\"js-line\" d=\"M5,0h30\" style=\"fill: none; stroke: rgb(31, 119, 180); stroke-opacity: 1; stroke-dasharray: 9px, 9px; stroke-width: 2px;\"/></g><g class=\"legendsymbols\"><g class=\"legendpoints\"/></g></g><rect class=\"legendtoggle\" x=\"0\" y=\"-9.5\" width=\"156.078125\" height=\"19\" style=\"fill: rgb(0, 0, 0); fill-opacity: 0;\"/></g><g class=\"traces\" transform=\"translate(334.59375,14.5)\" style=\"opacity: 1;\"><text class=\"legendtext\" text-anchor=\"start\" x=\"40\" y=\"4.680000000000001\" style=\"font-family: 'Open Sans', verdana, arial, sans-serif; font-size: 12px; fill: rgb(42, 63, 95); fill-opacity: 1; white-space: pre;\">in_sample_best</text><g class=\"layers\" style=\"opacity: 1;\"><g class=\"legendfill\"/><g class=\"legendlines\"><path class=\"js-line\" d=\"M5,0h30\" style=\"fill: none; stroke: rgb(31, 119, 180); stroke-opacity: 1; stroke-dasharray: 3px, 3px; stroke-width: 2px;\"/></g><g class=\"legendsymbols\"><g class=\"legendpoints\"/></g></g><rect class=\"legendtoggle\" x=\"0\" y=\"-9.5\" width=\"137.296875\" height=\"19\" style=\"fill: rgb(0, 0, 0); fill-opacity: 0;\"/></g><g class=\"traces\" transform=\"translate(0,33.5)\" style=\"opacity: 1;\"><text class=\"legendtext\" text-anchor=\"start\" x=\"40\" y=\"4.680000000000001\" style=\"font-family: 'Open Sans', verdana, arial, sans-serif; font-size: 12px; fill: rgb(42, 63, 95); fill-opacity: 1; white-space: pre;\">out_sample_hold</text><g class=\"layers\" style=\"opacity: 1;\"><g class=\"legendfill\"/><g class=\"legendlines\"><path class=\"js-line\" d=\"M5,0h30\" style=\"fill: none; stroke: rgb(255, 127, 14); stroke-opacity: 1; stroke-width: 2px;\"/></g><g class=\"legendsymbols\"><g class=\"legendpoints\"/></g></g><rect class=\"legendtoggle\" x=\"0\" y=\"-9.5\" width=\"146.046875\" height=\"19\" style=\"fill: rgb(0, 0, 0); fill-opacity: 0;\"/></g><g class=\"traces\" transform=\"translate(167.296875,33.5)\" style=\"opacity: 1;\"><text class=\"legendtext\" text-anchor=\"start\" x=\"40\" y=\"4.680000000000001\" style=\"font-family: 'Open Sans', verdana, arial, sans-serif; font-size: 12px; fill: rgb(42, 63, 95); fill-opacity: 1; white-space: pre;\">out_sample_median</text><g class=\"layers\" style=\"opacity: 1;\"><g class=\"legendfill\"/><g class=\"legendlines\"><path class=\"js-line\" d=\"M5,0h30\" style=\"fill: none; stroke: rgb(255, 127, 14); stroke-opacity: 1; stroke-dasharray: 9px, 9px; stroke-width: 2px;\"/></g><g class=\"legendsymbols\"><g class=\"legendpoints\"/></g></g><rect class=\"legendtoggle\" x=\"0\" y=\"-9.5\" width=\"164.796875\" height=\"19\" style=\"fill: rgb(0, 0, 0); fill-opacity: 0;\"/></g><g class=\"traces\" transform=\"translate(334.59375,33.5)\" style=\"opacity: 1;\"><text class=\"legendtext\" text-anchor=\"start\" x=\"40\" y=\"4.680000000000001\" style=\"font-family: 'Open Sans', verdana, arial, sans-serif; font-size: 12px; fill: rgb(42, 63, 95); fill-opacity: 1; white-space: pre;\">out_sample_test</text><g class=\"layers\" style=\"opacity: 1;\"><g class=\"legendfill\"/><g class=\"legendlines\"><path class=\"js-line\" d=\"M5,0h30\" style=\"fill: none; stroke: rgb(255, 127, 14); stroke-opacity: 1; stroke-dasharray: 3px, 3px; stroke-width: 2px;\"/></g><g class=\"legendsymbols\"><g class=\"legendpoints\"/></g></g><rect class=\"legendtoggle\" x=\"0\" y=\"-9.5\" width=\"143.265625\" height=\"19\" style=\"fill: rgb(0, 0, 0); fill-opacity: 0;\"/></g></g></g><rect class=\"scrollbar\" rx=\"20\" ry=\"3\" width=\"0\" height=\"0\" style=\"fill: rgb(128, 139, 164); fill-opacity: 1;\" x=\"0\" y=\"0\"/></g><g class=\"g-gtitle\"/><g class=\"g-xtitle\"/><g class=\"g-ytitle\"/></g></svg>"
      ]
     },
     "metadata": {},
     "output_type": "display_data"
    }
   ],
   "source": [
    "color_schema = vbt.settings['plotting']['color_schema']\n",
    "\n",
    "cv_results_df.vbt.plot(\n",
    "    trace_kwargs=[\n",
    "        dict(line_color=color_schema['blue']),\n",
    "        dict(line_color=color_schema['blue'], line_dash='dash'),\n",
    "        dict(line_color=color_schema['blue'], line_dash='dot'),\n",
    "        dict(line_color=color_schema['orange']),\n",
    "        dict(line_color=color_schema['orange'], line_dash='dash'),\n",
    "        dict(line_color=color_schema['orange'], line_dash='dot')\n",
    "    ]\n",
    ").show_svg()"
   ]
  },
  {
   "cell_type": "code",
   "execution_count": null,
   "metadata": {},
   "outputs": [],
   "source": []
  }
 ],
 "metadata": {
  "kernelspec": {
   "display_name": "Python 3 (ipykernel)",
   "language": "python",
   "name": "python3"
  },
  "language_info": {
   "codemirror_mode": {
    "name": "ipython",
    "version": 3
   },
   "file_extension": ".py",
   "mimetype": "text/x-python",
   "name": "python",
   "nbconvert_exporter": "python",
   "pygments_lexer": "ipython3",
   "version": "3.7.3"
  }
 },
 "nbformat": 4,
 "nbformat_minor": 4
}
